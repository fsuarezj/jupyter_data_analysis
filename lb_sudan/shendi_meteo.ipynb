{
 "cells": [
  {
   "cell_type": "code",
   "execution_count": 1,
   "metadata": {},
   "outputs": [
    {
     "data": {
      "text/html": [
       "<script>requirejs.config({paths: { 'plotly': ['https://cdn.plot.ly/plotly-latest.min']},});if(!window.Plotly) {{require(['plotly'],function(plotly) {window.Plotly=plotly;});}}</script>"
      ],
      "text/vnd.plotly.v1+html": [
       "<script>requirejs.config({paths: { 'plotly': ['https://cdn.plot.ly/plotly-latest.min']},});if(!window.Plotly) {{require(['plotly'],function(plotly) {window.Plotly=plotly;});}}</script>"
      ]
     },
     "metadata": {},
     "output_type": "display_data"
    },
    {
     "name": "stderr",
     "output_type": "stream",
     "text": [
      "/usr/local/lib/python2.7/dist-packages/pandas/util/_decorators.py:118: FutureWarning:\n",
      "\n",
      "The `sheetname` keyword is deprecated, use `sheet_name` instead\n",
      "\n"
     ]
    }
   ],
   "source": [
    "import pandas as pd\n",
    "import numpy as np\n",
    "import math\n",
    "\n",
    "from plotly.offline import download_plotlyjs, init_notebook_mode, plot, iplot\n",
    "import plotly.graph_objs as go\n",
    "import plotly.figure_factory as ff\n",
    "\n",
    "from IPython.display import display, HTML\n",
    "\n",
    "init_notebook_mode(connected=True)\n",
    "\n",
    "df_aver_temp = pd.read_excel(\"shendi_meteo.xlsx\", sheetname=\"temp_average\", index_col=\"month\", encoding = 'utf_8').transpose()\n",
    "df_rain_fall = pd.read_excel(\"shendi_meteo.xlsx\", sheetname=\"rain_fall\", index_col=\"month\", encoding = 'utf_8').transpose()\n",
    "df_rel_humi = pd.read_excel(\"shendi_meteo.xlsx\", sheetname=\"rel_humidity\", index_col=\"month\", encoding = 'utf_8').transpose()\n",
    "\n",
    "#df_mean_max['year'] = df_mean_max.index\n",
    "df_aver_temp.reset_index(level = 0, inplace = True)\n",
    "df_aver_temp = df_aver_temp.rename(columns = {'index': 'year'})\n",
    "df_rain_fall.reset_index(level = 0, inplace = True)\n",
    "df_rain_fall = df_rain_fall.rename(columns = {'index': 'year'})\n",
    "df_rel_humi.reset_index(level = 0, inplace = True)\n",
    "df_rel_humi = df_rel_humi.rename(columns = {'index': 'year'})"
   ]
  },
  {
   "cell_type": "code",
   "execution_count": 2,
   "metadata": {},
   "outputs": [],
   "source": [
    "def mean_years(df, start, end):\n",
    "    aux = df.loc[df.year.between(start,end)]\n",
    "    return aux[aux.columns[1:]].mean()\n",
    "\n",
    "def graph_lines(series, title, titleX = \"X\", titleY = \"Y\", legends = []):\n",
    "    data = []\n",
    "    for i in range(len(series)):\n",
    "        if (len(legends) > i):\n",
    "            legend = legends[i]\n",
    "        else:\n",
    "            legend = \"Trace \" + str(i)\n",
    "        data.append(\n",
    "            {\n",
    "                \"x\": series[i].index.values,\n",
    "                \"y\": series[i].values,\n",
    "                \"mode\": \"lines+markers\",\n",
    "                \"name\": legend,\n",
    "                \"line\": {\n",
    "                    #\"color\": 'rgb(205,238,205)',\n",
    "                    \"color\": 'rgb(205,205,248)',\n",
    "                    \"width\": 1.5\n",
    "                },\n",
    "                \"marker\": {\n",
    "                    \"size\": 10,\n",
    "                    ##\"color\": 'rgb(0,142,0)',\n",
    "                    \"color\": 'rgb(0,0,222)',\n",
    "                }\n",
    "            }\n",
    "        )\n",
    "    fig = {\n",
    "        \"layout\": {\n",
    "            \"title\": title,\n",
    "            \"xaxis\": {\n",
    "                \"title\": titleX\n",
    "            },\n",
    "            \"yaxis\": {\n",
    "                \"title\": titleY\n",
    "            },\n",
    "            \"showlegend\": True\n",
    "        },\n",
    "        \"data\": data\n",
    "    }\n",
    "    return fig"
   ]
  },
  {
   "cell_type": "code",
   "execution_count": 3,
   "metadata": {},
   "outputs": [
    {
     "data": {
      "application/vnd.plotly.v1+json": {
       "data": [
        {
         "line": {
          "color": "rgb(205,205,248)",
          "width": 1.5
         },
         "marker": {
          "color": "rgb(0,0,222)",
          "size": 10
         },
         "mode": "lines+markers",
         "name": "Max 2004-2013",
         "x": [
          "Jan ",
          "Feb",
          "Mar",
          "Apr",
          "May",
          "Jun",
          "Jul",
          "Aug",
          "Sep",
          "Oct",
          "Nov",
          "Dec"
         ],
         "y": [
          22.845454545454547,
          25.20909090909091,
          29.16363636363636,
          32.87272727272727,
          34.627272727272725,
          35.82727272727273,
          35.06363636363636,
          34.86363636363636,
          34.99090909090909,
          31.6,
          28.618181818181824,
          22.954545454545453
         ]
        },
        {
         "line": {
          "color": "rgb(205,205,248)",
          "width": 1.5
         },
         "marker": {
          "color": "rgb(0,0,222)",
          "size": 10
         },
         "mode": "lines+markers",
         "name": "Max 2014-2017",
         "x": [
          "Jan ",
          "Feb",
          "Mar",
          "Apr",
          "May",
          "Jun",
          "Jul",
          "Aug",
          "Sep",
          "Oct",
          "Nov",
          "Dec"
         ],
         "y": [
          22.3,
          27.1,
          30.4,
          33.6,
          36,
          36.7,
          36.2,
          35,
          36,
          33.9,
          28.3,
          20.8
         ]
        }
       ],
       "layout": {
        "showlegend": true,
        "title": "Mean temperatures differences",
        "xaxis": {
         "title": "Months"
        },
        "yaxis": {
         "title": "ºC"
        }
       }
      },
      "text/html": [
       "<div id=\"fd0ed74b-e298-407a-9541-e7a462e1d15f\" style=\"height: 525px; width: 100%;\" class=\"plotly-graph-div\"></div><script type=\"text/javascript\">require([\"plotly\"], function(Plotly) { window.PLOTLYENV=window.PLOTLYENV || {};window.PLOTLYENV.BASE_URL=\"https://plot.ly\";Plotly.newPlot(\"fd0ed74b-e298-407a-9541-e7a462e1d15f\", [{\"name\": \"Max 2004-2013\", \"y\": [22.845454545454547, 25.20909090909091, 29.16363636363636, 32.87272727272727, 34.627272727272725, 35.82727272727273, 35.06363636363636, 34.86363636363636, 34.99090909090909, 31.6, 28.618181818181824, 22.954545454545453], \"mode\": \"lines+markers\", \"marker\": {\"color\": \"rgb(0,0,222)\", \"size\": 10}, \"x\": [\"Jan \", \"Feb\", \"Mar\", \"Apr\", \"May\", \"Jun\", \"Jul\", \"Aug\", \"Sep\", \"Oct\", \"Nov\", \"Dec\"], \"line\": {\"color\": \"rgb(205,205,248)\", \"width\": 1.5}}, {\"name\": \"Max 2014-2017\", \"y\": [22.3, 27.1, 30.4, 33.6, 36.0, 36.7, 36.2, 35.0, 36.0, 33.9, 28.3, 20.8], \"mode\": \"lines+markers\", \"marker\": {\"color\": \"rgb(0,0,222)\", \"size\": 10}, \"x\": [\"Jan \", \"Feb\", \"Mar\", \"Apr\", \"May\", \"Jun\", \"Jul\", \"Aug\", \"Sep\", \"Oct\", \"Nov\", \"Dec\"], \"line\": {\"color\": \"rgb(205,205,248)\", \"width\": 1.5}}], {\"showlegend\": true, \"title\": \"Mean temperatures differences\", \"xaxis\": {\"title\": \"Months\"}, \"yaxis\": {\"title\": \"\\u00baC\"}}, {\"linkText\": \"Export to plot.ly\", \"showLink\": true})});</script>"
      ],
      "text/vnd.plotly.v1+html": [
       "<div id=\"fd0ed74b-e298-407a-9541-e7a462e1d15f\" style=\"height: 525px; width: 100%;\" class=\"plotly-graph-div\"></div><script type=\"text/javascript\">require([\"plotly\"], function(Plotly) { window.PLOTLYENV=window.PLOTLYENV || {};window.PLOTLYENV.BASE_URL=\"https://plot.ly\";Plotly.newPlot(\"fd0ed74b-e298-407a-9541-e7a462e1d15f\", [{\"name\": \"Max 2004-2013\", \"y\": [22.845454545454547, 25.20909090909091, 29.16363636363636, 32.87272727272727, 34.627272727272725, 35.82727272727273, 35.06363636363636, 34.86363636363636, 34.99090909090909, 31.6, 28.618181818181824, 22.954545454545453], \"mode\": \"lines+markers\", \"marker\": {\"color\": \"rgb(0,0,222)\", \"size\": 10}, \"x\": [\"Jan \", \"Feb\", \"Mar\", \"Apr\", \"May\", \"Jun\", \"Jul\", \"Aug\", \"Sep\", \"Oct\", \"Nov\", \"Dec\"], \"line\": {\"color\": \"rgb(205,205,248)\", \"width\": 1.5}}, {\"name\": \"Max 2014-2017\", \"y\": [22.3, 27.1, 30.4, 33.6, 36.0, 36.7, 36.2, 35.0, 36.0, 33.9, 28.3, 20.8], \"mode\": \"lines+markers\", \"marker\": {\"color\": \"rgb(0,0,222)\", \"size\": 10}, \"x\": [\"Jan \", \"Feb\", \"Mar\", \"Apr\", \"May\", \"Jun\", \"Jul\", \"Aug\", \"Sep\", \"Oct\", \"Nov\", \"Dec\"], \"line\": {\"color\": \"rgb(205,205,248)\", \"width\": 1.5}}], {\"showlegend\": true, \"title\": \"Mean temperatures differences\", \"xaxis\": {\"title\": \"Months\"}, \"yaxis\": {\"title\": \"\\u00baC\"}}, {\"linkText\": \"Export to plot.ly\", \"showLink\": true})});</script>"
      ]
     },
     "metadata": {},
     "output_type": "display_data"
    }
   ],
   "source": [
    "#mean_years(df_aver_temp, 2011, 2017)\n",
    "old_max = mean_years(df_aver_temp, 2004, 2014)\n",
    "new_max = mean_years(df_aver_temp, 2015, 2017)\n",
    "fig1 = graph_lines([old_max, new_max], \"Mean temperatures differences\", \"Months\", \"ºC\", [\"Max 2004-2013\", \"Max 2014-2017\", \"Min 2004-2013\", \"Min 2014-2017\", ])\n",
    "\n",
    "years = range(2004, 2018)\n",
    "graphs = []\n",
    "legends = []\n",
    "for i in years:\n",
    "    graphs.append(mean_years(df_aver_temp, i, i))\n",
    "    legends.append(\"Max \" + str(i))\n",
    "    legends.append(\"Min \" + str(i))\n",
    "\n",
    "fig = graph_lines(graphs, \"Mean temperatures from 2004 to 2017\", \"Months\", \"mm\", legends)\n",
    "iplot(fig1)"
   ]
  },
  {
   "cell_type": "code",
   "execution_count": 4,
   "metadata": {},
   "outputs": [
    {
     "data": {
      "text/plain": [
       "month\n",
       "Jan     0.0\n",
       "Feb     0.0\n",
       "Mar     0.0\n",
       "Apr     1.0\n",
       "May     0.0\n",
       "Jun     0.0\n",
       "Jul     0.1\n",
       "Aug     9.8\n",
       "Sep     2.7\n",
       "Oct     5.5\n",
       "Nov     0.0\n",
       "Dec     0.0\n",
       "dtype: float64"
      ]
     },
     "metadata": {},
     "output_type": "display_data"
    },
    {
     "data": {
      "application/vnd.plotly.v1+json": {
       "data": [
        {
         "line": {
          "color": "rgb(205,205,248)",
          "width": 1.5
         },
         "marker": {
          "color": "rgb(0,0,222)",
          "size": 10
         },
         "mode": "lines+markers",
         "name": "2004",
         "x": [
          "Jan ",
          "Feb",
          "Mar",
          "Apr",
          "May",
          "Jun",
          "Jul",
          "Aug",
          "Sep",
          "Oct",
          "Nov",
          "Dec"
         ],
         "y": [
          0,
          0,
          0,
          1,
          0,
          0,
          0.1,
          9.8,
          2.7,
          5.5,
          0,
          0
         ]
        },
        {
         "line": {
          "color": "rgb(205,205,248)",
          "width": 1.5
         },
         "marker": {
          "color": "rgb(0,0,222)",
          "size": 10
         },
         "mode": "lines+markers",
         "name": "2005",
         "x": [
          "Jan ",
          "Feb",
          "Mar",
          "Apr",
          "May",
          "Jun",
          "Jul",
          "Aug",
          "Sep",
          "Oct",
          "Nov",
          "Dec"
         ],
         "y": [
          0,
          0,
          0,
          0.1,
          6,
          0.1,
          7.9,
          37.9,
          32.1,
          0,
          0,
          0
         ]
        },
        {
         "line": {
          "color": "rgb(205,205,248)",
          "width": 1.5
         },
         "marker": {
          "color": "rgb(0,0,222)",
          "size": 10
         },
         "mode": "lines+markers",
         "name": "2006",
         "x": [
          "Jan ",
          "Feb",
          "Mar",
          "Apr",
          "May",
          "Jun",
          "Jul",
          "Aug",
          "Sep",
          "Oct",
          "Nov",
          "Dec"
         ],
         "y": [
          0,
          0,
          0,
          0,
          14.7,
          0.1,
          0,
          4.6,
          33,
          0.9,
          0,
          0
         ]
        },
        {
         "line": {
          "color": "rgb(205,205,248)",
          "width": 1.5
         },
         "marker": {
          "color": "rgb(0,0,222)",
          "size": 10
         },
         "mode": "lines+markers",
         "name": "2007",
         "x": [
          "Jan ",
          "Feb",
          "Mar",
          "Apr",
          "May",
          "Jun",
          "Jul",
          "Aug",
          "Sep",
          "Oct",
          "Nov",
          "Dec"
         ],
         "y": [
          0,
          0,
          0,
          0,
          0,
          3.9,
          8.5,
          50.8,
          0.4,
          0,
          0,
          0
         ]
        },
        {
         "line": {
          "color": "rgb(205,205,248)",
          "width": 1.5
         },
         "marker": {
          "color": "rgb(0,0,222)",
          "size": 10
         },
         "mode": "lines+markers",
         "name": "2008",
         "x": [
          "Jan ",
          "Feb",
          "Mar",
          "Apr",
          "May",
          "Jun",
          "Jul",
          "Aug",
          "Sep",
          "Oct",
          "Nov",
          "Dec"
         ],
         "y": [
          0.1,
          0,
          0,
          0.1,
          0.1,
          0,
          0,
          3,
          12.7,
          0.1,
          0,
          0
         ]
        },
        {
         "line": {
          "color": "rgb(205,205,248)",
          "width": 1.5
         },
         "marker": {
          "color": "rgb(0,0,222)",
          "size": 10
         },
         "mode": "lines+markers",
         "name": "2009",
         "x": [
          "Jan ",
          "Feb",
          "Mar",
          "Apr",
          "May",
          "Jun",
          "Jul",
          "Aug",
          "Sep",
          "Oct",
          "Nov",
          "Dec"
         ],
         "y": [
          0,
          0,
          0,
          0,
          0,
          0,
          0.1,
          17.8,
          0,
          14.5,
          0,
          0
         ]
        },
        {
         "line": {
          "color": "rgb(205,205,248)",
          "width": 1.5
         },
         "marker": {
          "color": "rgb(0,0,222)",
          "size": 10
         },
         "mode": "lines+markers",
         "name": "2010",
         "x": [
          "Jan ",
          "Feb",
          "Mar",
          "Apr",
          "May",
          "Jun",
          "Jul",
          "Aug",
          "Sep",
          "Oct",
          "Nov",
          "Dec"
         ],
         "y": [
          0,
          0,
          0,
          0,
          0.1,
          0.1,
          5.2,
          12.6,
          2,
          0.1,
          0,
          0
         ]
        },
        {
         "line": {
          "color": "rgb(205,205,248)",
          "width": 1.5
         },
         "marker": {
          "color": "rgb(0,0,222)",
          "size": 10
         },
         "mode": "lines+markers",
         "name": "2011",
         "x": [
          "Jan ",
          "Feb",
          "Mar",
          "Apr",
          "May",
          "Jun",
          "Jul",
          "Aug",
          "Sep",
          "Oct",
          "Nov",
          "Dec"
         ],
         "y": [
          0,
          0,
          0,
          0,
          0.1,
          0.1,
          36.9,
          3.7,
          35,
          0,
          0,
          0
         ]
        },
        {
         "line": {
          "color": "rgb(205,205,248)",
          "width": 1.5
         },
         "marker": {
          "color": "rgb(0,0,222)",
          "size": 10
         },
         "mode": "lines+markers",
         "name": "2012",
         "x": [
          "Jan ",
          "Feb",
          "Mar",
          "Apr",
          "May",
          "Jun",
          "Jul",
          "Aug",
          "Sep",
          "Oct",
          "Nov",
          "Dec"
         ],
         "y": [
          0,
          0,
          0,
          0,
          0,
          0.1,
          0.1,
          0.1,
          0.1,
          1,
          0,
          0
         ]
        },
        {
         "line": {
          "color": "rgb(205,205,248)",
          "width": 1.5
         },
         "marker": {
          "color": "rgb(0,0,222)",
          "size": 10
         },
         "mode": "lines+markers",
         "name": "2013",
         "x": [
          "Jan ",
          "Feb",
          "Mar",
          "Apr",
          "May",
          "Jun",
          "Jul",
          "Aug",
          "Sep",
          "Oct",
          "Nov",
          "Dec"
         ],
         "y": [
          0,
          0,
          0,
          0,
          0.6,
          0,
          15.8,
          10,
          0.1,
          0.1,
          0,
          0
         ]
        },
        {
         "line": {
          "color": "rgb(205,205,248)",
          "width": 1.5
         },
         "marker": {
          "color": "rgb(0,0,222)",
          "size": 10
         },
         "mode": "lines+markers",
         "name": "2014",
         "x": [
          "Jan ",
          "Feb",
          "Mar",
          "Apr",
          "May",
          "Jun",
          "Jul",
          "Aug",
          "Sep",
          "Oct",
          "Nov",
          "Dec"
         ],
         "y": [
          0,
          0,
          0.1,
          3.5,
          1.5,
          0,
          5.3,
          18.9,
          0.1,
          0.1,
          0,
          0
         ]
        },
        {
         "line": {
          "color": "rgb(248,208,0)",
          "width": 1.5
         },
         "marker": {
          "color": "rgb(222,172,0)",
          "size": 10
         },
         "mode": "lines+markers",
         "name": "2015",
         "x": [
          "Jan ",
          "Feb",
          "Mar",
          "Apr",
          "May",
          "Jun",
          "Jul",
          "Aug",
          "Sep",
          "Oct",
          "Nov",
          "Dec"
         ],
         "y": [
          0,
          0,
          0,
          0,
          0.1,
          0,
          0,
          0,
          26.3,
          3.6,
          0,
          0
         ]
        },
        {
         "line": {
          "color": "rgb(248,0,0)",
          "width": 1.5
         },
         "marker": {
          "color": "rgb(222,0,0)",
          "size": 10
         },
         "mode": "lines+markers",
         "name": "2017",
         "x": [
          "Jan ",
          "Feb",
          "Mar",
          "Apr",
          "May",
          "Jun",
          "Jul",
          "Aug",
          "Sep",
          "Oct",
          "Nov",
          "Dec"
         ],
         "y": [
          0,
          0,
          0,
          0,
          51,
          0,
          0,
          10,
          1.5,
          0,
          0,
          0
         ]
        }
       ],
       "layout": {
        "showlegend": true,
        "title": "Rain fall differences",
        "xaxis": {
         "title": "Months"
        },
        "yaxis": {
         "title": "mm"
        }
       }
      },
      "text/html": [
       "<div id=\"2ab3412c-39a2-4cc0-a28f-3232a5a74305\" style=\"height: 525px; width: 100%;\" class=\"plotly-graph-div\"></div><script type=\"text/javascript\">require([\"plotly\"], function(Plotly) { window.PLOTLYENV=window.PLOTLYENV || {};window.PLOTLYENV.BASE_URL=\"https://plot.ly\";Plotly.newPlot(\"2ab3412c-39a2-4cc0-a28f-3232a5a74305\", [{\"name\": \"2004\", \"y\": [0.0, 0.0, 0.0, 1.0, 0.0, 0.0, 0.1, 9.8, 2.7, 5.5, 0.0, 0.0], \"mode\": \"lines+markers\", \"marker\": {\"color\": \"rgb(0,0,222)\", \"size\": 10}, \"x\": [\"Jan \", \"Feb\", \"Mar\", \"Apr\", \"May\", \"Jun\", \"Jul\", \"Aug\", \"Sep\", \"Oct\", \"Nov\", \"Dec\"], \"line\": {\"color\": \"rgb(205,205,248)\", \"width\": 1.5}}, {\"name\": \"2005\", \"y\": [0.0, 0.0, 0.0, 0.1, 6.0, 0.1, 7.9, 37.9, 32.1, 0.0, 0.0, 0.0], \"mode\": \"lines+markers\", \"marker\": {\"color\": \"rgb(0,0,222)\", \"size\": 10}, \"x\": [\"Jan \", \"Feb\", \"Mar\", \"Apr\", \"May\", \"Jun\", \"Jul\", \"Aug\", \"Sep\", \"Oct\", \"Nov\", \"Dec\"], \"line\": {\"color\": \"rgb(205,205,248)\", \"width\": 1.5}}, {\"name\": \"2006\", \"y\": [0.0, 0.0, 0.0, 0.0, 14.7, 0.1, 0.0, 4.6, 33.0, 0.9, 0.0, 0.0], \"mode\": \"lines+markers\", \"marker\": {\"color\": \"rgb(0,0,222)\", \"size\": 10}, \"x\": [\"Jan \", \"Feb\", \"Mar\", \"Apr\", \"May\", \"Jun\", \"Jul\", \"Aug\", \"Sep\", \"Oct\", \"Nov\", \"Dec\"], \"line\": {\"color\": \"rgb(205,205,248)\", \"width\": 1.5}}, {\"name\": \"2007\", \"y\": [0.0, 0.0, 0.0, 0.0, 0.0, 3.9, 8.5, 50.8, 0.4, 0.0, 0.0, 0.0], \"mode\": \"lines+markers\", \"marker\": {\"color\": \"rgb(0,0,222)\", \"size\": 10}, \"x\": [\"Jan \", \"Feb\", \"Mar\", \"Apr\", \"May\", \"Jun\", \"Jul\", \"Aug\", \"Sep\", \"Oct\", \"Nov\", \"Dec\"], \"line\": {\"color\": \"rgb(205,205,248)\", \"width\": 1.5}}, {\"name\": \"2008\", \"y\": [0.1, 0.0, 0.0, 0.1, 0.1, 0.0, 0.0, 3.0, 12.7, 0.1, 0.0, 0.0], \"mode\": \"lines+markers\", \"marker\": {\"color\": \"rgb(0,0,222)\", \"size\": 10}, \"x\": [\"Jan \", \"Feb\", \"Mar\", \"Apr\", \"May\", \"Jun\", \"Jul\", \"Aug\", \"Sep\", \"Oct\", \"Nov\", \"Dec\"], \"line\": {\"color\": \"rgb(205,205,248)\", \"width\": 1.5}}, {\"name\": \"2009\", \"y\": [0.0, 0.0, 0.0, 0.0, 0.0, 0.0, 0.1, 17.8, 0.0, 14.5, 0.0, 0.0], \"mode\": \"lines+markers\", \"marker\": {\"color\": \"rgb(0,0,222)\", \"size\": 10}, \"x\": [\"Jan \", \"Feb\", \"Mar\", \"Apr\", \"May\", \"Jun\", \"Jul\", \"Aug\", \"Sep\", \"Oct\", \"Nov\", \"Dec\"], \"line\": {\"color\": \"rgb(205,205,248)\", \"width\": 1.5}}, {\"name\": \"2010\", \"y\": [0.0, 0.0, 0.0, 0.0, 0.1, 0.1, 5.2, 12.6, 2.0, 0.1, 0.0, 0.0], \"mode\": \"lines+markers\", \"marker\": {\"color\": \"rgb(0,0,222)\", \"size\": 10}, \"x\": [\"Jan \", \"Feb\", \"Mar\", \"Apr\", \"May\", \"Jun\", \"Jul\", \"Aug\", \"Sep\", \"Oct\", \"Nov\", \"Dec\"], \"line\": {\"color\": \"rgb(205,205,248)\", \"width\": 1.5}}, {\"name\": \"2011\", \"y\": [0.0, 0.0, 0.0, 0.0, 0.1, 0.1, 36.9, 3.7, 35.0, 0.0, 0.0, 0.0], \"mode\": \"lines+markers\", \"marker\": {\"color\": \"rgb(0,0,222)\", \"size\": 10}, \"x\": [\"Jan \", \"Feb\", \"Mar\", \"Apr\", \"May\", \"Jun\", \"Jul\", \"Aug\", \"Sep\", \"Oct\", \"Nov\", \"Dec\"], \"line\": {\"color\": \"rgb(205,205,248)\", \"width\": 1.5}}, {\"name\": \"2012\", \"y\": [0.0, 0.0, 0.0, 0.0, 0.0, 0.1, 0.1, 0.1, 0.1, 1.0, 0.0, 0.0], \"mode\": \"lines+markers\", \"marker\": {\"color\": \"rgb(0,0,222)\", \"size\": 10}, \"x\": [\"Jan \", \"Feb\", \"Mar\", \"Apr\", \"May\", \"Jun\", \"Jul\", \"Aug\", \"Sep\", \"Oct\", \"Nov\", \"Dec\"], \"line\": {\"color\": \"rgb(205,205,248)\", \"width\": 1.5}}, {\"name\": \"2013\", \"y\": [0.0, 0.0, 0.0, 0.0, 0.6, 0.0, 15.8, 10.0, 0.1, 0.1, 0.0, 0.0], \"mode\": \"lines+markers\", \"marker\": {\"color\": \"rgb(0,0,222)\", \"size\": 10}, \"x\": [\"Jan \", \"Feb\", \"Mar\", \"Apr\", \"May\", \"Jun\", \"Jul\", \"Aug\", \"Sep\", \"Oct\", \"Nov\", \"Dec\"], \"line\": {\"color\": \"rgb(205,205,248)\", \"width\": 1.5}}, {\"name\": \"2014\", \"y\": [0.0, 0.0, 0.1, 3.5, 1.5, 0.0, 5.3, 18.9, 0.1, 0.1, 0.0, 0.0], \"mode\": \"lines+markers\", \"marker\": {\"color\": \"rgb(0,0,222)\", \"size\": 10}, \"x\": [\"Jan \", \"Feb\", \"Mar\", \"Apr\", \"May\", \"Jun\", \"Jul\", \"Aug\", \"Sep\", \"Oct\", \"Nov\", \"Dec\"], \"line\": {\"color\": \"rgb(205,205,248)\", \"width\": 1.5}}, {\"name\": \"2015\", \"y\": [0.0, 0.0, 0.0, 0.0, 0.1, 0.0, 0.0, 0.0, 26.3, 3.6, 0.0, 0.0], \"mode\": \"lines+markers\", \"marker\": {\"color\": \"rgb(222,172,0)\", \"size\": 10}, \"x\": [\"Jan \", \"Feb\", \"Mar\", \"Apr\", \"May\", \"Jun\", \"Jul\", \"Aug\", \"Sep\", \"Oct\", \"Nov\", \"Dec\"], \"line\": {\"color\": \"rgb(248,208,0)\", \"width\": 1.5}}, {\"name\": \"2017\", \"y\": [0.0, 0.0, 0.0, 0.0, 51.0, 0.0, 0.0, 10.0, 1.5, 0.0, 0.0, 0.0], \"mode\": \"lines+markers\", \"marker\": {\"color\": \"rgb(222,0,0)\", \"size\": 10}, \"x\": [\"Jan \", \"Feb\", \"Mar\", \"Apr\", \"May\", \"Jun\", \"Jul\", \"Aug\", \"Sep\", \"Oct\", \"Nov\", \"Dec\"], \"line\": {\"color\": \"rgb(248,0,0)\", \"width\": 1.5}}], {\"showlegend\": true, \"title\": \"Rain fall differences\", \"xaxis\": {\"title\": \"Months\"}, \"yaxis\": {\"title\": \"mm\"}}, {\"linkText\": \"Export to plot.ly\", \"showLink\": true})});</script>"
      ],
      "text/vnd.plotly.v1+html": [
       "<div id=\"2ab3412c-39a2-4cc0-a28f-3232a5a74305\" style=\"height: 525px; width: 100%;\" class=\"plotly-graph-div\"></div><script type=\"text/javascript\">require([\"plotly\"], function(Plotly) { window.PLOTLYENV=window.PLOTLYENV || {};window.PLOTLYENV.BASE_URL=\"https://plot.ly\";Plotly.newPlot(\"2ab3412c-39a2-4cc0-a28f-3232a5a74305\", [{\"name\": \"2004\", \"y\": [0.0, 0.0, 0.0, 1.0, 0.0, 0.0, 0.1, 9.8, 2.7, 5.5, 0.0, 0.0], \"mode\": \"lines+markers\", \"marker\": {\"color\": \"rgb(0,0,222)\", \"size\": 10}, \"x\": [\"Jan \", \"Feb\", \"Mar\", \"Apr\", \"May\", \"Jun\", \"Jul\", \"Aug\", \"Sep\", \"Oct\", \"Nov\", \"Dec\"], \"line\": {\"color\": \"rgb(205,205,248)\", \"width\": 1.5}}, {\"name\": \"2005\", \"y\": [0.0, 0.0, 0.0, 0.1, 6.0, 0.1, 7.9, 37.9, 32.1, 0.0, 0.0, 0.0], \"mode\": \"lines+markers\", \"marker\": {\"color\": \"rgb(0,0,222)\", \"size\": 10}, \"x\": [\"Jan \", \"Feb\", \"Mar\", \"Apr\", \"May\", \"Jun\", \"Jul\", \"Aug\", \"Sep\", \"Oct\", \"Nov\", \"Dec\"], \"line\": {\"color\": \"rgb(205,205,248)\", \"width\": 1.5}}, {\"name\": \"2006\", \"y\": [0.0, 0.0, 0.0, 0.0, 14.7, 0.1, 0.0, 4.6, 33.0, 0.9, 0.0, 0.0], \"mode\": \"lines+markers\", \"marker\": {\"color\": \"rgb(0,0,222)\", \"size\": 10}, \"x\": [\"Jan \", \"Feb\", \"Mar\", \"Apr\", \"May\", \"Jun\", \"Jul\", \"Aug\", \"Sep\", \"Oct\", \"Nov\", \"Dec\"], \"line\": {\"color\": \"rgb(205,205,248)\", \"width\": 1.5}}, {\"name\": \"2007\", \"y\": [0.0, 0.0, 0.0, 0.0, 0.0, 3.9, 8.5, 50.8, 0.4, 0.0, 0.0, 0.0], \"mode\": \"lines+markers\", \"marker\": {\"color\": \"rgb(0,0,222)\", \"size\": 10}, \"x\": [\"Jan \", \"Feb\", \"Mar\", \"Apr\", \"May\", \"Jun\", \"Jul\", \"Aug\", \"Sep\", \"Oct\", \"Nov\", \"Dec\"], \"line\": {\"color\": \"rgb(205,205,248)\", \"width\": 1.5}}, {\"name\": \"2008\", \"y\": [0.1, 0.0, 0.0, 0.1, 0.1, 0.0, 0.0, 3.0, 12.7, 0.1, 0.0, 0.0], \"mode\": \"lines+markers\", \"marker\": {\"color\": \"rgb(0,0,222)\", \"size\": 10}, \"x\": [\"Jan \", \"Feb\", \"Mar\", \"Apr\", \"May\", \"Jun\", \"Jul\", \"Aug\", \"Sep\", \"Oct\", \"Nov\", \"Dec\"], \"line\": {\"color\": \"rgb(205,205,248)\", \"width\": 1.5}}, {\"name\": \"2009\", \"y\": [0.0, 0.0, 0.0, 0.0, 0.0, 0.0, 0.1, 17.8, 0.0, 14.5, 0.0, 0.0], \"mode\": \"lines+markers\", \"marker\": {\"color\": \"rgb(0,0,222)\", \"size\": 10}, \"x\": [\"Jan \", \"Feb\", \"Mar\", \"Apr\", \"May\", \"Jun\", \"Jul\", \"Aug\", \"Sep\", \"Oct\", \"Nov\", \"Dec\"], \"line\": {\"color\": \"rgb(205,205,248)\", \"width\": 1.5}}, {\"name\": \"2010\", \"y\": [0.0, 0.0, 0.0, 0.0, 0.1, 0.1, 5.2, 12.6, 2.0, 0.1, 0.0, 0.0], \"mode\": \"lines+markers\", \"marker\": {\"color\": \"rgb(0,0,222)\", \"size\": 10}, \"x\": [\"Jan \", \"Feb\", \"Mar\", \"Apr\", \"May\", \"Jun\", \"Jul\", \"Aug\", \"Sep\", \"Oct\", \"Nov\", \"Dec\"], \"line\": {\"color\": \"rgb(205,205,248)\", \"width\": 1.5}}, {\"name\": \"2011\", \"y\": [0.0, 0.0, 0.0, 0.0, 0.1, 0.1, 36.9, 3.7, 35.0, 0.0, 0.0, 0.0], \"mode\": \"lines+markers\", \"marker\": {\"color\": \"rgb(0,0,222)\", \"size\": 10}, \"x\": [\"Jan \", \"Feb\", \"Mar\", \"Apr\", \"May\", \"Jun\", \"Jul\", \"Aug\", \"Sep\", \"Oct\", \"Nov\", \"Dec\"], \"line\": {\"color\": \"rgb(205,205,248)\", \"width\": 1.5}}, {\"name\": \"2012\", \"y\": [0.0, 0.0, 0.0, 0.0, 0.0, 0.1, 0.1, 0.1, 0.1, 1.0, 0.0, 0.0], \"mode\": \"lines+markers\", \"marker\": {\"color\": \"rgb(0,0,222)\", \"size\": 10}, \"x\": [\"Jan \", \"Feb\", \"Mar\", \"Apr\", \"May\", \"Jun\", \"Jul\", \"Aug\", \"Sep\", \"Oct\", \"Nov\", \"Dec\"], \"line\": {\"color\": \"rgb(205,205,248)\", \"width\": 1.5}}, {\"name\": \"2013\", \"y\": [0.0, 0.0, 0.0, 0.0, 0.6, 0.0, 15.8, 10.0, 0.1, 0.1, 0.0, 0.0], \"mode\": \"lines+markers\", \"marker\": {\"color\": \"rgb(0,0,222)\", \"size\": 10}, \"x\": [\"Jan \", \"Feb\", \"Mar\", \"Apr\", \"May\", \"Jun\", \"Jul\", \"Aug\", \"Sep\", \"Oct\", \"Nov\", \"Dec\"], \"line\": {\"color\": \"rgb(205,205,248)\", \"width\": 1.5}}, {\"name\": \"2014\", \"y\": [0.0, 0.0, 0.1, 3.5, 1.5, 0.0, 5.3, 18.9, 0.1, 0.1, 0.0, 0.0], \"mode\": \"lines+markers\", \"marker\": {\"color\": \"rgb(0,0,222)\", \"size\": 10}, \"x\": [\"Jan \", \"Feb\", \"Mar\", \"Apr\", \"May\", \"Jun\", \"Jul\", \"Aug\", \"Sep\", \"Oct\", \"Nov\", \"Dec\"], \"line\": {\"color\": \"rgb(205,205,248)\", \"width\": 1.5}}, {\"name\": \"2015\", \"y\": [0.0, 0.0, 0.0, 0.0, 0.1, 0.0, 0.0, 0.0, 26.3, 3.6, 0.0, 0.0], \"mode\": \"lines+markers\", \"marker\": {\"color\": \"rgb(222,172,0)\", \"size\": 10}, \"x\": [\"Jan \", \"Feb\", \"Mar\", \"Apr\", \"May\", \"Jun\", \"Jul\", \"Aug\", \"Sep\", \"Oct\", \"Nov\", \"Dec\"], \"line\": {\"color\": \"rgb(248,208,0)\", \"width\": 1.5}}, {\"name\": \"2017\", \"y\": [0.0, 0.0, 0.0, 0.0, 51.0, 0.0, 0.0, 10.0, 1.5, 0.0, 0.0, 0.0], \"mode\": \"lines+markers\", \"marker\": {\"color\": \"rgb(222,0,0)\", \"size\": 10}, \"x\": [\"Jan \", \"Feb\", \"Mar\", \"Apr\", \"May\", \"Jun\", \"Jul\", \"Aug\", \"Sep\", \"Oct\", \"Nov\", \"Dec\"], \"line\": {\"color\": \"rgb(248,0,0)\", \"width\": 1.5}}], {\"showlegend\": true, \"title\": \"Rain fall differences\", \"xaxis\": {\"title\": \"Months\"}, \"yaxis\": {\"title\": \"mm\"}}, {\"linkText\": \"Export to plot.ly\", \"showLink\": true})});</script>"
      ]
     },
     "metadata": {},
     "output_type": "display_data"
    }
   ],
   "source": [
    "old_rain = mean_years(df_rain_fall, 2004, 2015)\n",
    "no_new_rain = mean_years(df_rain_fall, 2015, 2015)\n",
    "new_rain = mean_years(df_rain_fall, 2017, 2017)\n",
    "years = range(2004, 2015)\n",
    "graphs = []\n",
    "legends = []\n",
    "for i in years:\n",
    "    graphs.append(mean_years(df_rain_fall, i, i))\n",
    "    legends.append(str(i))\n",
    "\n",
    "#graph_lines([old_rain, new_rain], \"Rain fall differences\", \"Months\", \"mm\", [\"2004-2013\", \"2014-2017\"])\n",
    "display(graphs[0])\n",
    "fig = graph_lines(graphs, \"Rain fall differences\", \"Months\", \"mm\", legends)\n",
    "fig['data'].append({\n",
    "                \"x\": no_new_rain.index.values,\n",
    "                \"y\": no_new_rain.values,\n",
    "                \"mode\": \"lines+markers\",\n",
    "                \"name\": \"2015\",\n",
    "                \"line\": {\n",
    "                    #\"color\": 'rgb(205,238,205)',\n",
    "                    \"color\": 'rgb(248,208,0)',\n",
    "                    \"width\": 1.5\n",
    "                },\n",
    "                \"marker\": {\n",
    "                    \"size\": 10,\n",
    "                    #\"color\": 'rgb(0,142,0)',\n",
    "                    \"color\": 'rgb(222,172,0)',\n",
    "                }\n",
    "            })\n",
    "fig['data'].append({\n",
    "                \"x\": new_rain.index.values,\n",
    "                \"y\": new_rain.values,\n",
    "                \"mode\": \"lines+markers\",\n",
    "                \"name\": \"2017\",\n",
    "                \"line\": {\n",
    "                    #\"color\": 'rgb(205,238,205)',\n",
    "                    \"color\": 'rgb(248,0,0)',\n",
    "                    \"width\": 1.5\n",
    "                },\n",
    "                \"marker\": {\n",
    "                    \"size\": 10,\n",
    "                    #\"color\": 'rgb(0,142,0)',\n",
    "                    \"color\": 'rgb(222,0,0)',\n",
    "                }\n",
    "            })\n",
    "iplot(fig)"
   ]
  },
  {
   "cell_type": "code",
   "execution_count": 5,
   "metadata": {},
   "outputs": [
    {
     "data": {
      "application/vnd.plotly.v1+json": {
       "data": [
        {
         "line": {
          "color": "rgb(205,205,248)",
          "width": 1.5
         },
         "marker": {
          "color": "rgb(0,0,222)",
          "size": 10
         },
         "mode": "lines+markers",
         "name": "2004",
         "x": [
          "Jan ",
          "Feb",
          "Mar",
          "Apr",
          "May",
          "Jun",
          "Jul",
          "Aug",
          "Sep",
          "Oct",
          "Nov",
          "Dec"
         ],
         "y": [
          45,
          42,
          28,
          26,
          21,
          29,
          33,
          44,
          33,
          35,
          42,
          47
         ]
        },
        {
         "line": {
          "color": "rgb(205,205,248)",
          "width": 1.5
         },
         "marker": {
          "color": "rgb(0,0,222)",
          "size": 10
         },
         "mode": "lines+markers",
         "name": "2005",
         "x": [
          "Jan ",
          "Feb",
          "Mar",
          "Apr",
          "May",
          "Jun",
          "Jul",
          "Aug",
          "Sep",
          "Oct",
          "Nov",
          "Dec"
         ],
         "y": [
          44,
          44,
          26,
          27,
          26,
          26,
          45,
          50,
          42,
          35,
          36,
          35
         ]
        },
        {
         "line": {
          "color": "rgb(205,205,248)",
          "width": 1.5
         },
         "marker": {
          "color": "rgb(0,0,222)",
          "size": 10
         },
         "mode": "lines+markers",
         "name": "2006",
         "x": [
          "Jan ",
          "Feb",
          "Mar",
          "Apr",
          "May",
          "Jun",
          "Jul",
          "Aug",
          "Sep",
          "Oct",
          "Nov",
          "Dec"
         ],
         "y": [
          50,
          35,
          26,
          25,
          31,
          28,
          36,
          51,
          46,
          39,
          37,
          44
         ]
        },
        {
         "line": {
          "color": "rgb(205,205,248)",
          "width": 1.5
         },
         "marker": {
          "color": "rgb(0,0,222)",
          "size": 10
         },
         "mode": "lines+markers",
         "name": "2007",
         "x": [
          "Jan ",
          "Feb",
          "Mar",
          "Apr",
          "May",
          "Jun",
          "Jul",
          "Aug",
          "Sep",
          "Oct",
          "Nov",
          "Dec"
         ],
         "y": [
          45,
          35,
          25,
          27,
          19,
          30,
          60,
          57,
          38,
          36,
          48,
          51
         ]
        },
        {
         "line": {
          "color": "rgb(205,205,248)",
          "width": 1.5
         },
         "marker": {
          "color": "rgb(0,0,222)",
          "size": 10
         },
         "mode": "lines+markers",
         "name": "2008",
         "x": [
          "Jan ",
          "Feb",
          "Mar",
          "Apr",
          "May",
          "Jun",
          "Jul",
          "Aug",
          "Sep",
          "Oct",
          "Nov",
          "Dec"
         ],
         "y": [
          50,
          43,
          29,
          28,
          21,
          26,
          38,
          47,
          45,
          30,
          45,
          50
         ]
        },
        {
         "line": {
          "color": "rgb(205,205,248)",
          "width": 1.5
         },
         "marker": {
          "color": "rgb(0,0,222)",
          "size": 10
         },
         "mode": "lines+markers",
         "name": "2009",
         "x": [
          "Jan ",
          "Feb",
          "Mar",
          "Apr",
          "May",
          "Jun",
          "Jul",
          "Aug",
          "Sep",
          "Oct",
          "Nov",
          "Dec"
         ],
         "y": [
          47,
          38,
          27,
          22,
          20,
          21,
          43,
          43,
          27,
          32,
          39,
          41
         ]
        },
        {
         "line": {
          "color": "rgb(205,205,248)",
          "width": 1.5
         },
         "marker": {
          "color": "rgb(0,0,222)",
          "size": 10
         },
         "mode": "lines+markers",
         "name": "2010",
         "x": [
          "Jan ",
          "Feb",
          "Mar",
          "Apr",
          "May",
          "Jun",
          "Jul",
          "Aug",
          "Sep",
          "Oct",
          "Nov",
          "Dec"
         ],
         "y": [
          48,
          41,
          30,
          27,
          23,
          30,
          44,
          57,
          41,
          35,
          48,
          50
         ]
        },
        {
         "line": {
          "color": "rgb(205,205,248)",
          "width": 1.5
         },
         "marker": {
          "color": "rgb(0,0,222)",
          "size": 10
         },
         "mode": "lines+markers",
         "name": "2011",
         "x": [
          "Jan ",
          "Feb",
          "Mar",
          "Apr",
          "May",
          "Jun",
          "Jul",
          "Aug",
          "Sep",
          "Oct",
          "Nov",
          "Dec"
         ],
         "y": [
          46,
          38,
          36,
          23,
          30,
          24,
          39,
          45,
          26,
          32,
          38,
          0.5
         ]
        },
        {
         "line": {
          "color": "rgb(205,205,248)",
          "width": 1.5
         },
         "marker": {
          "color": "rgb(0,0,222)",
          "size": 10
         },
         "mode": "lines+markers",
         "name": "2012",
         "x": [
          "Jan ",
          "Feb",
          "Mar",
          "Apr",
          "May",
          "Jun",
          "Jul",
          "Aug",
          "Sep",
          "Oct",
          "Nov",
          "Dec"
         ],
         "y": [
          42,
          45,
          30,
          23,
          23,
          30,
          45,
          32,
          32,
          35,
          41,
          4.5
         ]
        },
        {
         "line": {
          "color": "rgb(205,205,248)",
          "width": 1.5
         },
         "marker": {
          "color": "rgb(0,0,222)",
          "size": 10
         },
         "mode": "lines+markers",
         "name": "2013",
         "x": [
          "Jan ",
          "Feb",
          "Mar",
          "Apr",
          "May",
          "Jun",
          "Jul",
          "Aug",
          "Sep",
          "Oct",
          "Nov",
          "Dec"
         ],
         "y": [
          52,
          41,
          34,
          27,
          26,
          25,
          34,
          53,
          44,
          37,
          46,
          49
         ]
        },
        {
         "line": {
          "color": "rgb(205,205,248)",
          "width": 1.5
         },
         "marker": {
          "color": "rgb(0,0,222)",
          "size": 10
         },
         "mode": "lines+markers",
         "name": "2014",
         "x": [
          "Jan ",
          "Feb",
          "Mar",
          "Apr",
          "May",
          "Jun",
          "Jul",
          "Aug",
          "Sep",
          "Oct",
          "Nov",
          "Dec"
         ],
         "y": [
          51,
          42,
          32,
          31,
          32,
          25,
          47,
          48,
          46,
          39,
          48,
          51
         ]
        },
        {
         "line": {
          "color": "rgb(205,205,248)",
          "width": 1.5
         },
         "marker": {
          "color": "rgb(0,0,222)",
          "size": 10
         },
         "mode": "lines+markers",
         "name": "2015",
         "x": [
          "Jan ",
          "Feb",
          "Mar",
          "Apr",
          "May",
          "Jun",
          "Jul",
          "Aug",
          "Sep",
          "Oct",
          "Nov",
          "Dec"
         ],
         "y": [
          49,
          40,
          30,
          22,
          20,
          21,
          31,
          37,
          41,
          36,
          31,
          41
         ]
        },
        {
         "line": {
          "color": "rgb(205,205,248)",
          "width": 1.5
         },
         "marker": {
          "color": "rgb(0,0,222)",
          "size": 10
         },
         "mode": "lines+markers",
         "name": "2016",
         "x": [
          "Jan ",
          "Feb",
          "Mar",
          "Apr",
          "May",
          "Jun",
          "Jul",
          "Aug",
          "Sep",
          "Oct",
          "Nov",
          "Dec"
         ],
         "y": [
          null,
          null,
          null,
          null,
          null,
          null,
          null,
          null,
          null,
          null,
          null,
          null
         ]
        },
        {
         "line": {
          "color": "rgb(205,205,248)",
          "width": 1.5
         },
         "marker": {
          "color": "rgb(0,0,222)",
          "size": 10
         },
         "mode": "lines+markers",
         "name": "2017",
         "x": [
          "Jan ",
          "Feb",
          "Mar",
          "Apr",
          "May",
          "Jun",
          "Jul",
          "Aug",
          "Sep",
          "Oct",
          "Nov",
          "Dec"
         ],
         "y": [
          null,
          null,
          null,
          null,
          null,
          null,
          null,
          null,
          null,
          null,
          null,
          null
         ]
        }
       ],
       "layout": {
        "showlegend": true,
        "title": "Relative humidity",
        "xaxis": {
         "title": "Months"
        },
        "yaxis": {
         "title": "mm"
        }
       }
      },
      "text/html": [
       "<div id=\"cbc75f30-fe20-406b-a2dc-1deb122becb8\" style=\"height: 525px; width: 100%;\" class=\"plotly-graph-div\"></div><script type=\"text/javascript\">require([\"plotly\"], function(Plotly) { window.PLOTLYENV=window.PLOTLYENV || {};window.PLOTLYENV.BASE_URL=\"https://plot.ly\";Plotly.newPlot(\"cbc75f30-fe20-406b-a2dc-1deb122becb8\", [{\"name\": \"2004\", \"y\": [45.0, 42.0, 28.0, 26.0, 21.0, 29.0, 33.0, 44.0, 33.0, 35.0, 42.0, 47.0], \"mode\": \"lines+markers\", \"marker\": {\"color\": \"rgb(0,0,222)\", \"size\": 10}, \"x\": [\"Jan \", \"Feb\", \"Mar\", \"Apr\", \"May\", \"Jun\", \"Jul\", \"Aug\", \"Sep\", \"Oct\", \"Nov\", \"Dec\"], \"line\": {\"color\": \"rgb(205,205,248)\", \"width\": 1.5}}, {\"name\": \"2005\", \"y\": [44.0, 44.0, 26.0, 27.0, 26.0, 26.0, 45.0, 50.0, 42.0, 35.0, 36.0, 35.0], \"mode\": \"lines+markers\", \"marker\": {\"color\": \"rgb(0,0,222)\", \"size\": 10}, \"x\": [\"Jan \", \"Feb\", \"Mar\", \"Apr\", \"May\", \"Jun\", \"Jul\", \"Aug\", \"Sep\", \"Oct\", \"Nov\", \"Dec\"], \"line\": {\"color\": \"rgb(205,205,248)\", \"width\": 1.5}}, {\"name\": \"2006\", \"y\": [50.0, 35.0, 26.0, 25.0, 31.0, 28.0, 36.0, 51.0, 46.0, 39.0, 37.0, 44.0], \"mode\": \"lines+markers\", \"marker\": {\"color\": \"rgb(0,0,222)\", \"size\": 10}, \"x\": [\"Jan \", \"Feb\", \"Mar\", \"Apr\", \"May\", \"Jun\", \"Jul\", \"Aug\", \"Sep\", \"Oct\", \"Nov\", \"Dec\"], \"line\": {\"color\": \"rgb(205,205,248)\", \"width\": 1.5}}, {\"name\": \"2007\", \"y\": [45.0, 35.0, 25.0, 27.0, 19.0, 30.0, 60.0, 57.0, 38.0, 36.0, 48.0, 51.0], \"mode\": \"lines+markers\", \"marker\": {\"color\": \"rgb(0,0,222)\", \"size\": 10}, \"x\": [\"Jan \", \"Feb\", \"Mar\", \"Apr\", \"May\", \"Jun\", \"Jul\", \"Aug\", \"Sep\", \"Oct\", \"Nov\", \"Dec\"], \"line\": {\"color\": \"rgb(205,205,248)\", \"width\": 1.5}}, {\"name\": \"2008\", \"y\": [50.0, 43.0, 29.0, 28.0, 21.0, 26.0, 38.0, 47.0, 45.0, 30.0, 45.0, 50.0], \"mode\": \"lines+markers\", \"marker\": {\"color\": \"rgb(0,0,222)\", \"size\": 10}, \"x\": [\"Jan \", \"Feb\", \"Mar\", \"Apr\", \"May\", \"Jun\", \"Jul\", \"Aug\", \"Sep\", \"Oct\", \"Nov\", \"Dec\"], \"line\": {\"color\": \"rgb(205,205,248)\", \"width\": 1.5}}, {\"name\": \"2009\", \"y\": [47.0, 38.0, 27.0, 22.0, 20.0, 21.0, 43.0, 43.0, 27.0, 32.0, 39.0, 41.0], \"mode\": \"lines+markers\", \"marker\": {\"color\": \"rgb(0,0,222)\", \"size\": 10}, \"x\": [\"Jan \", \"Feb\", \"Mar\", \"Apr\", \"May\", \"Jun\", \"Jul\", \"Aug\", \"Sep\", \"Oct\", \"Nov\", \"Dec\"], \"line\": {\"color\": \"rgb(205,205,248)\", \"width\": 1.5}}, {\"name\": \"2010\", \"y\": [48.0, 41.0, 30.0, 27.0, 23.0, 30.0, 44.0, 57.0, 41.0, 35.0, 48.0, 50.0], \"mode\": \"lines+markers\", \"marker\": {\"color\": \"rgb(0,0,222)\", \"size\": 10}, \"x\": [\"Jan \", \"Feb\", \"Mar\", \"Apr\", \"May\", \"Jun\", \"Jul\", \"Aug\", \"Sep\", \"Oct\", \"Nov\", \"Dec\"], \"line\": {\"color\": \"rgb(205,205,248)\", \"width\": 1.5}}, {\"name\": \"2011\", \"y\": [46.0, 38.0, 36.0, 23.0, 30.0, 24.0, 39.0, 45.0, 26.0, 32.0, 38.0, 0.5], \"mode\": \"lines+markers\", \"marker\": {\"color\": \"rgb(0,0,222)\", \"size\": 10}, \"x\": [\"Jan \", \"Feb\", \"Mar\", \"Apr\", \"May\", \"Jun\", \"Jul\", \"Aug\", \"Sep\", \"Oct\", \"Nov\", \"Dec\"], \"line\": {\"color\": \"rgb(205,205,248)\", \"width\": 1.5}}, {\"name\": \"2012\", \"y\": [42.0, 45.0, 30.0, 23.0, 23.0, 30.0, 45.0, 32.0, 32.0, 35.0, 41.0, 4.5], \"mode\": \"lines+markers\", \"marker\": {\"color\": \"rgb(0,0,222)\", \"size\": 10}, \"x\": [\"Jan \", \"Feb\", \"Mar\", \"Apr\", \"May\", \"Jun\", \"Jul\", \"Aug\", \"Sep\", \"Oct\", \"Nov\", \"Dec\"], \"line\": {\"color\": \"rgb(205,205,248)\", \"width\": 1.5}}, {\"name\": \"2013\", \"y\": [52.0, 41.0, 34.0, 27.0, 26.0, 25.0, 34.0, 53.0, 44.0, 37.0, 46.0, 49.0], \"mode\": \"lines+markers\", \"marker\": {\"color\": \"rgb(0,0,222)\", \"size\": 10}, \"x\": [\"Jan \", \"Feb\", \"Mar\", \"Apr\", \"May\", \"Jun\", \"Jul\", \"Aug\", \"Sep\", \"Oct\", \"Nov\", \"Dec\"], \"line\": {\"color\": \"rgb(205,205,248)\", \"width\": 1.5}}, {\"name\": \"2014\", \"y\": [51.0, 42.0, 32.0, 31.0, 32.0, 25.0, 47.0, 48.0, 46.0, 39.0, 48.0, 51.0], \"mode\": \"lines+markers\", \"marker\": {\"color\": \"rgb(0,0,222)\", \"size\": 10}, \"x\": [\"Jan \", \"Feb\", \"Mar\", \"Apr\", \"May\", \"Jun\", \"Jul\", \"Aug\", \"Sep\", \"Oct\", \"Nov\", \"Dec\"], \"line\": {\"color\": \"rgb(205,205,248)\", \"width\": 1.5}}, {\"name\": \"2015\", \"y\": [49.0, 40.0, 30.0, 22.0, 20.0, 21.0, 31.0, 37.0, 41.0, 36.0, 31.0, 41.0], \"mode\": \"lines+markers\", \"marker\": {\"color\": \"rgb(0,0,222)\", \"size\": 10}, \"x\": [\"Jan \", \"Feb\", \"Mar\", \"Apr\", \"May\", \"Jun\", \"Jul\", \"Aug\", \"Sep\", \"Oct\", \"Nov\", \"Dec\"], \"line\": {\"color\": \"rgb(205,205,248)\", \"width\": 1.5}}, {\"name\": \"2016\", \"y\": [null, null, null, null, null, null, null, null, null, null, null, null], \"mode\": \"lines+markers\", \"marker\": {\"color\": \"rgb(0,0,222)\", \"size\": 10}, \"x\": [\"Jan \", \"Feb\", \"Mar\", \"Apr\", \"May\", \"Jun\", \"Jul\", \"Aug\", \"Sep\", \"Oct\", \"Nov\", \"Dec\"], \"line\": {\"color\": \"rgb(205,205,248)\", \"width\": 1.5}}, {\"name\": \"2017\", \"y\": [null, null, null, null, null, null, null, null, null, null, null, null], \"mode\": \"lines+markers\", \"marker\": {\"color\": \"rgb(0,0,222)\", \"size\": 10}, \"x\": [\"Jan \", \"Feb\", \"Mar\", \"Apr\", \"May\", \"Jun\", \"Jul\", \"Aug\", \"Sep\", \"Oct\", \"Nov\", \"Dec\"], \"line\": {\"color\": \"rgb(205,205,248)\", \"width\": 1.5}}], {\"showlegend\": true, \"title\": \"Relative humidity\", \"xaxis\": {\"title\": \"Months\"}, \"yaxis\": {\"title\": \"mm\"}}, {\"linkText\": \"Export to plot.ly\", \"showLink\": true})});</script>"
      ],
      "text/vnd.plotly.v1+html": [
       "<div id=\"cbc75f30-fe20-406b-a2dc-1deb122becb8\" style=\"height: 525px; width: 100%;\" class=\"plotly-graph-div\"></div><script type=\"text/javascript\">require([\"plotly\"], function(Plotly) { window.PLOTLYENV=window.PLOTLYENV || {};window.PLOTLYENV.BASE_URL=\"https://plot.ly\";Plotly.newPlot(\"cbc75f30-fe20-406b-a2dc-1deb122becb8\", [{\"name\": \"2004\", \"y\": [45.0, 42.0, 28.0, 26.0, 21.0, 29.0, 33.0, 44.0, 33.0, 35.0, 42.0, 47.0], \"mode\": \"lines+markers\", \"marker\": {\"color\": \"rgb(0,0,222)\", \"size\": 10}, \"x\": [\"Jan \", \"Feb\", \"Mar\", \"Apr\", \"May\", \"Jun\", \"Jul\", \"Aug\", \"Sep\", \"Oct\", \"Nov\", \"Dec\"], \"line\": {\"color\": \"rgb(205,205,248)\", \"width\": 1.5}}, {\"name\": \"2005\", \"y\": [44.0, 44.0, 26.0, 27.0, 26.0, 26.0, 45.0, 50.0, 42.0, 35.0, 36.0, 35.0], \"mode\": \"lines+markers\", \"marker\": {\"color\": \"rgb(0,0,222)\", \"size\": 10}, \"x\": [\"Jan \", \"Feb\", \"Mar\", \"Apr\", \"May\", \"Jun\", \"Jul\", \"Aug\", \"Sep\", \"Oct\", \"Nov\", \"Dec\"], \"line\": {\"color\": \"rgb(205,205,248)\", \"width\": 1.5}}, {\"name\": \"2006\", \"y\": [50.0, 35.0, 26.0, 25.0, 31.0, 28.0, 36.0, 51.0, 46.0, 39.0, 37.0, 44.0], \"mode\": \"lines+markers\", \"marker\": {\"color\": \"rgb(0,0,222)\", \"size\": 10}, \"x\": [\"Jan \", \"Feb\", \"Mar\", \"Apr\", \"May\", \"Jun\", \"Jul\", \"Aug\", \"Sep\", \"Oct\", \"Nov\", \"Dec\"], \"line\": {\"color\": \"rgb(205,205,248)\", \"width\": 1.5}}, {\"name\": \"2007\", \"y\": [45.0, 35.0, 25.0, 27.0, 19.0, 30.0, 60.0, 57.0, 38.0, 36.0, 48.0, 51.0], \"mode\": \"lines+markers\", \"marker\": {\"color\": \"rgb(0,0,222)\", \"size\": 10}, \"x\": [\"Jan \", \"Feb\", \"Mar\", \"Apr\", \"May\", \"Jun\", \"Jul\", \"Aug\", \"Sep\", \"Oct\", \"Nov\", \"Dec\"], \"line\": {\"color\": \"rgb(205,205,248)\", \"width\": 1.5}}, {\"name\": \"2008\", \"y\": [50.0, 43.0, 29.0, 28.0, 21.0, 26.0, 38.0, 47.0, 45.0, 30.0, 45.0, 50.0], \"mode\": \"lines+markers\", \"marker\": {\"color\": \"rgb(0,0,222)\", \"size\": 10}, \"x\": [\"Jan \", \"Feb\", \"Mar\", \"Apr\", \"May\", \"Jun\", \"Jul\", \"Aug\", \"Sep\", \"Oct\", \"Nov\", \"Dec\"], \"line\": {\"color\": \"rgb(205,205,248)\", \"width\": 1.5}}, {\"name\": \"2009\", \"y\": [47.0, 38.0, 27.0, 22.0, 20.0, 21.0, 43.0, 43.0, 27.0, 32.0, 39.0, 41.0], \"mode\": \"lines+markers\", \"marker\": {\"color\": \"rgb(0,0,222)\", \"size\": 10}, \"x\": [\"Jan \", \"Feb\", \"Mar\", \"Apr\", \"May\", \"Jun\", \"Jul\", \"Aug\", \"Sep\", \"Oct\", \"Nov\", \"Dec\"], \"line\": {\"color\": \"rgb(205,205,248)\", \"width\": 1.5}}, {\"name\": \"2010\", \"y\": [48.0, 41.0, 30.0, 27.0, 23.0, 30.0, 44.0, 57.0, 41.0, 35.0, 48.0, 50.0], \"mode\": \"lines+markers\", \"marker\": {\"color\": \"rgb(0,0,222)\", \"size\": 10}, \"x\": [\"Jan \", \"Feb\", \"Mar\", \"Apr\", \"May\", \"Jun\", \"Jul\", \"Aug\", \"Sep\", \"Oct\", \"Nov\", \"Dec\"], \"line\": {\"color\": \"rgb(205,205,248)\", \"width\": 1.5}}, {\"name\": \"2011\", \"y\": [46.0, 38.0, 36.0, 23.0, 30.0, 24.0, 39.0, 45.0, 26.0, 32.0, 38.0, 0.5], \"mode\": \"lines+markers\", \"marker\": {\"color\": \"rgb(0,0,222)\", \"size\": 10}, \"x\": [\"Jan \", \"Feb\", \"Mar\", \"Apr\", \"May\", \"Jun\", \"Jul\", \"Aug\", \"Sep\", \"Oct\", \"Nov\", \"Dec\"], \"line\": {\"color\": \"rgb(205,205,248)\", \"width\": 1.5}}, {\"name\": \"2012\", \"y\": [42.0, 45.0, 30.0, 23.0, 23.0, 30.0, 45.0, 32.0, 32.0, 35.0, 41.0, 4.5], \"mode\": \"lines+markers\", \"marker\": {\"color\": \"rgb(0,0,222)\", \"size\": 10}, \"x\": [\"Jan \", \"Feb\", \"Mar\", \"Apr\", \"May\", \"Jun\", \"Jul\", \"Aug\", \"Sep\", \"Oct\", \"Nov\", \"Dec\"], \"line\": {\"color\": \"rgb(205,205,248)\", \"width\": 1.5}}, {\"name\": \"2013\", \"y\": [52.0, 41.0, 34.0, 27.0, 26.0, 25.0, 34.0, 53.0, 44.0, 37.0, 46.0, 49.0], \"mode\": \"lines+markers\", \"marker\": {\"color\": \"rgb(0,0,222)\", \"size\": 10}, \"x\": [\"Jan \", \"Feb\", \"Mar\", \"Apr\", \"May\", \"Jun\", \"Jul\", \"Aug\", \"Sep\", \"Oct\", \"Nov\", \"Dec\"], \"line\": {\"color\": \"rgb(205,205,248)\", \"width\": 1.5}}, {\"name\": \"2014\", \"y\": [51.0, 42.0, 32.0, 31.0, 32.0, 25.0, 47.0, 48.0, 46.0, 39.0, 48.0, 51.0], \"mode\": \"lines+markers\", \"marker\": {\"color\": \"rgb(0,0,222)\", \"size\": 10}, \"x\": [\"Jan \", \"Feb\", \"Mar\", \"Apr\", \"May\", \"Jun\", \"Jul\", \"Aug\", \"Sep\", \"Oct\", \"Nov\", \"Dec\"], \"line\": {\"color\": \"rgb(205,205,248)\", \"width\": 1.5}}, {\"name\": \"2015\", \"y\": [49.0, 40.0, 30.0, 22.0, 20.0, 21.0, 31.0, 37.0, 41.0, 36.0, 31.0, 41.0], \"mode\": \"lines+markers\", \"marker\": {\"color\": \"rgb(0,0,222)\", \"size\": 10}, \"x\": [\"Jan \", \"Feb\", \"Mar\", \"Apr\", \"May\", \"Jun\", \"Jul\", \"Aug\", \"Sep\", \"Oct\", \"Nov\", \"Dec\"], \"line\": {\"color\": \"rgb(205,205,248)\", \"width\": 1.5}}, {\"name\": \"2016\", \"y\": [null, null, null, null, null, null, null, null, null, null, null, null], \"mode\": \"lines+markers\", \"marker\": {\"color\": \"rgb(0,0,222)\", \"size\": 10}, \"x\": [\"Jan \", \"Feb\", \"Mar\", \"Apr\", \"May\", \"Jun\", \"Jul\", \"Aug\", \"Sep\", \"Oct\", \"Nov\", \"Dec\"], \"line\": {\"color\": \"rgb(205,205,248)\", \"width\": 1.5}}, {\"name\": \"2017\", \"y\": [null, null, null, null, null, null, null, null, null, null, null, null], \"mode\": \"lines+markers\", \"marker\": {\"color\": \"rgb(0,0,222)\", \"size\": 10}, \"x\": [\"Jan \", \"Feb\", \"Mar\", \"Apr\", \"May\", \"Jun\", \"Jul\", \"Aug\", \"Sep\", \"Oct\", \"Nov\", \"Dec\"], \"line\": {\"color\": \"rgb(205,205,248)\", \"width\": 1.5}}], {\"showlegend\": true, \"title\": \"Relative humidity\", \"xaxis\": {\"title\": \"Months\"}, \"yaxis\": {\"title\": \"mm\"}}, {\"linkText\": \"Export to plot.ly\", \"showLink\": true})});</script>"
      ]
     },
     "metadata": {},
     "output_type": "display_data"
    }
   ],
   "source": [
    "old_humi = mean_years(df_rel_humi, 2004, 2013)\n",
    "new_humi = mean_years(df_rel_humi, 2014, 2017)\n",
    "\n",
    "#graph_lines([old_humi, new_humi], \"Relative humidity differences\", \"Months\", \"%\", [\"2004-2013\", \"2014-2017\"])\n",
    "years = range(2004, 2018)\n",
    "graphs = []\n",
    "legends = []\n",
    "for i in years:\n",
    "    graphs.append(mean_years(df_rel_humi, i, i))\n",
    "    legends.append(str(i))\n",
    "\n",
    "#graph_lines([old_rain, new_rain], \"Rain fall differences\", \"Months\", \"mm\", [\"2004-2013\", \"2014-2017\"])\n",
    "iplot(graph_lines(graphs, \"Relative humidity\", \"Months\", \"mm\", legends))\n"
   ]
  }
 ],
 "metadata": {
  "kernelspec": {
   "display_name": "Python 2",
   "language": "python",
   "name": "python2"
  },
  "language_info": {
   "codemirror_mode": {
    "name": "ipython",
    "version": 2
   },
   "file_extension": ".py",
   "mimetype": "text/x-python",
   "name": "python",
   "nbconvert_exporter": "python",
   "pygments_lexer": "ipython2",
   "version": "2.7.12"
  }
 },
 "nbformat": 4,
 "nbformat_minor": 2
}
