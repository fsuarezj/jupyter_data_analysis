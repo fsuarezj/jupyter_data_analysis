{
 "cells": [
  {
   "cell_type": "code",
   "execution_count": 154,
   "metadata": {},
   "outputs": [
    {
     "data": {
      "text/html": [
       "<script>requirejs.config({paths: { 'plotly': ['https://cdn.plot.ly/plotly-latest.min']},});if(!window.Plotly) {{require(['plotly'],function(plotly) {window.Plotly=plotly;});}}</script>"
      ],
      "text/vnd.plotly.v1+html": [
       "<script>requirejs.config({paths: { 'plotly': ['https://cdn.plot.ly/plotly-latest.min']},});if(!window.Plotly) {{require(['plotly'],function(plotly) {window.Plotly=plotly;});}}</script>"
      ]
     },
     "metadata": {},
     "output_type": "display_data"
    }
   ],
   "source": [
    "import pandas as pd\n",
    "import numpy as np\n",
    "import math\n",
    "\n",
    "from plotly.offline import download_plotlyjs, init_notebook_mode, plot, iplot\n",
    "import plotly.graph_objs as go\n",
    "import plotly.figure_factory as ff\n",
    "\n",
    "from IPython.display import display, HTML\n",
    "\n",
    "init_notebook_mode(connected=True)\n",
    "\n",
    "df_mean_max = pd.read_excel(\"kassala_meteo.xlsx\", sheetname=\"mean_max\", index_col=\"month\", encoding = 'utf_8').drop(['Mean']).transpose()\n",
    "df_mean_min = pd.read_excel(\"kassala_meteo.xlsx\", sheetname=\"mean_min\", index_col=\"month\", encoding = 'utf_8').drop(['Mean']).transpose()\n",
    "df_rain_fall = pd.read_excel(\"kassala_meteo.xlsx\", sheetname=\"rain_fall\", index_col=\"month\", encoding = 'utf_8').drop(['Total']).transpose()\n",
    "df_rel_humi = pd.read_excel(\"kassala_meteo.xlsx\", sheetname=\"rel_humi\", index_col=\"month\", encoding = 'utf_8').drop(['Mean']).transpose()\n",
    "\n",
    "#df_mean_max['year'] = df_mean_max.index\n",
    "df_mean_max.reset_index(level = 0, inplace = True)\n",
    "df_mean_max = df_mean_max.rename(columns = {'index': 'year'})\n",
    "df_mean_min.reset_index(level = 0, inplace = True)\n",
    "df_mean_min = df_mean_min.rename(columns = {'index': 'year'})\n",
    "df_rain_fall.reset_index(level = 0, inplace = True)\n",
    "df_rain_fall = df_rain_fall.rename(columns = {'index': 'year'})\n",
    "df_rel_humi.reset_index(level = 0, inplace = True)\n",
    "df_rel_humi = df_rel_humi.rename(columns = {'index': 'year'})"
   ]
  },
  {
   "cell_type": "code",
   "execution_count": 298,
   "metadata": {},
   "outputs": [],
   "source": [
    "def mean_years(df, start, end):\n",
    "    aux = df.loc[df.year.between(start,end)]\n",
    "    return aux[aux.columns[1:]].mean()\n",
    "\n",
    "def graph_lines(series, title, titleX = \"X\", titleY = \"Y\", legends = []):\n",
    "    data = []\n",
    "    for i in range(len(series)):\n",
    "        if (len(legends) > i):\n",
    "            legend = legends[i]\n",
    "        else:\n",
    "            legend = \"Trace \" + str(i)\n",
    "        data.append(\n",
    "            {\n",
    "                \"x\": series[i].index.values,\n",
    "                \"y\": series[i].values,\n",
    "                \"mode\": \"lines+markers\",\n",
    "                \"name\": legend,\n",
    "                \"line\": {\n",
    "                    #\"color\": 'rgb(205,238,205)',\n",
    "                    \"color\": 'rgb(205,205,248)',\n",
    "                    \"width\": 1.5\n",
    "                },\n",
    "                \"marker\": {\n",
    "                    \"size\": 10,\n",
    "                    ##\"color\": 'rgb(0,142,0)',\n",
    "                    \"color\": 'rgb(0,0,222)',\n",
    "                }\n",
    "            }\n",
    "        )\n",
    "    fig = {\n",
    "        \"layout\": {\n",
    "            \"title\": title,\n",
    "            \"xaxis\": {\n",
    "                \"title\": titleX\n",
    "            },\n",
    "            \"yaxis\": {\n",
    "                \"title\": titleY\n",
    "            },\n",
    "            \"showlegend\": False\n",
    "        },\n",
    "        \"data\": data\n",
    "    }\n",
    "    return fig"
   ]
  },
  {
   "cell_type": "code",
   "execution_count": 291,
   "metadata": {},
   "outputs": [
    {
     "data": {
      "application/vnd.plotly.v1+json": {
       "data": [
        {
         "line": {
          "width": 1.5
         },
         "marker": {
          "size": 10
         },
         "mode": "lines+markers",
         "name": "Max 2004-2013",
         "x": [
          "January",
          "February",
          "March",
          "April",
          "May",
          "June",
          "July",
          "August",
          "September",
          "October",
          "November",
          "December"
         ],
         "y": [
          33.95,
          36.77,
          38.839999999999996,
          41.45,
          41.910000000000004,
          40.11,
          36.63,
          34.940000000000005,
          36.81999999999999,
          39.14,
          37.43999999999999,
          34.97
         ]
        },
        {
         "line": {
          "width": 1.5
         },
         "marker": {
          "size": 10
         },
         "mode": "lines+markers",
         "name": "Max 2014-2017",
         "x": [
          "January",
          "February",
          "March",
          "April",
          "May",
          "June",
          "July",
          "August",
          "September",
          "October",
          "November",
          "December"
         ],
         "y": [
          34.6,
          36.1,
          40,
          41.400000000000006,
          41.349999999999994,
          40.550000000000004,
          37.425,
          35.025,
          36.9,
          39.075,
          37.725,
          35.5
         ]
        },
        {
         "line": {
          "width": 1.5
         },
         "marker": {
          "size": 10
         },
         "mode": "lines+markers",
         "name": "Min 2004-2013",
         "x": [
          "January",
          "February",
          "March",
          "April",
          "May",
          "June",
          "July",
          "August",
          "September",
          "October",
          "November",
          "December"
         ],
         "y": [
          17.759999999999998,
          19.440000000000005,
          21.509999999999998,
          24.660000000000004,
          26.72,
          26.52,
          24.4,
          23.59,
          24.49,
          25.28,
          22.62,
          19.42
         ]
        },
        {
         "line": {
          "width": 1.5
         },
         "marker": {
          "size": 10
         },
         "mode": "lines+markers",
         "name": "Min 2014-2017",
         "x": [
          "January",
          "February",
          "March",
          "April",
          "May",
          "June",
          "July",
          "August",
          "September",
          "October",
          "November",
          "December"
         ],
         "y": [
          18.05,
          19.35,
          22.974999999999998,
          25.375,
          27.124999999999996,
          26.925,
          24.725,
          23.375,
          24.325000000000003,
          25.45,
          23,
          20.05
         ]
        }
       ],
       "layout": {
        "title": "Mean temperatures differences",
        "xaxis": {
         "title": "Months"
        },
        "yaxis": {
         "title": "ºC"
        }
       }
      },
      "text/html": [
       "<div id=\"73d0bac9-ab58-496d-b841-4b4e38d1aa7c\" style=\"height: 525px; width: 100%;\" class=\"plotly-graph-div\"></div><script type=\"text/javascript\">require([\"plotly\"], function(Plotly) { window.PLOTLYENV=window.PLOTLYENV || {};window.PLOTLYENV.BASE_URL=\"https://plot.ly\";Plotly.newPlot(\"73d0bac9-ab58-496d-b841-4b4e38d1aa7c\", [{\"name\": \"Max 2004-2013\", \"y\": [33.95, 36.77, 38.839999999999996, 41.45, 41.910000000000004, 40.11, 36.63, 34.940000000000005, 36.81999999999999, 39.14, 37.43999999999999, 34.97], \"mode\": \"lines+markers\", \"marker\": {\"size\": 10}, \"x\": [\"January\", \"February\", \"March\", \"April\", \"May\", \"June\", \"July\", \"August\", \"September\", \"October\", \"November\", \"December\"], \"line\": {\"width\": 1.5}}, {\"name\": \"Max 2014-2017\", \"y\": [34.6, 36.1, 40.0, 41.400000000000006, 41.349999999999994, 40.550000000000004, 37.425, 35.025, 36.9, 39.075, 37.725, 35.5], \"mode\": \"lines+markers\", \"marker\": {\"size\": 10}, \"x\": [\"January\", \"February\", \"March\", \"April\", \"May\", \"June\", \"July\", \"August\", \"September\", \"October\", \"November\", \"December\"], \"line\": {\"width\": 1.5}}, {\"name\": \"Min 2004-2013\", \"y\": [17.759999999999998, 19.440000000000005, 21.509999999999998, 24.660000000000004, 26.72, 26.52, 24.4, 23.59, 24.49, 25.28, 22.62, 19.42], \"mode\": \"lines+markers\", \"marker\": {\"size\": 10}, \"x\": [\"January\", \"February\", \"March\", \"April\", \"May\", \"June\", \"July\", \"August\", \"September\", \"October\", \"November\", \"December\"], \"line\": {\"width\": 1.5}}, {\"name\": \"Min 2014-2017\", \"y\": [18.05, 19.35, 22.974999999999998, 25.375, 27.124999999999996, 26.925, 24.725, 23.375, 24.325000000000003, 25.45, 23.0, 20.05], \"mode\": \"lines+markers\", \"marker\": {\"size\": 10}, \"x\": [\"January\", \"February\", \"March\", \"April\", \"May\", \"June\", \"July\", \"August\", \"September\", \"October\", \"November\", \"December\"], \"line\": {\"width\": 1.5}}], {\"title\": \"Mean temperatures differences\", \"xaxis\": {\"title\": \"Months\"}, \"yaxis\": {\"title\": \"\\u00baC\"}}, {\"linkText\": \"Export to plot.ly\", \"showLink\": true})});</script>"
      ],
      "text/vnd.plotly.v1+html": [
       "<div id=\"73d0bac9-ab58-496d-b841-4b4e38d1aa7c\" style=\"height: 525px; width: 100%;\" class=\"plotly-graph-div\"></div><script type=\"text/javascript\">require([\"plotly\"], function(Plotly) { window.PLOTLYENV=window.PLOTLYENV || {};window.PLOTLYENV.BASE_URL=\"https://plot.ly\";Plotly.newPlot(\"73d0bac9-ab58-496d-b841-4b4e38d1aa7c\", [{\"name\": \"Max 2004-2013\", \"y\": [33.95, 36.77, 38.839999999999996, 41.45, 41.910000000000004, 40.11, 36.63, 34.940000000000005, 36.81999999999999, 39.14, 37.43999999999999, 34.97], \"mode\": \"lines+markers\", \"marker\": {\"size\": 10}, \"x\": [\"January\", \"February\", \"March\", \"April\", \"May\", \"June\", \"July\", \"August\", \"September\", \"October\", \"November\", \"December\"], \"line\": {\"width\": 1.5}}, {\"name\": \"Max 2014-2017\", \"y\": [34.6, 36.1, 40.0, 41.400000000000006, 41.349999999999994, 40.550000000000004, 37.425, 35.025, 36.9, 39.075, 37.725, 35.5], \"mode\": \"lines+markers\", \"marker\": {\"size\": 10}, \"x\": [\"January\", \"February\", \"March\", \"April\", \"May\", \"June\", \"July\", \"August\", \"September\", \"October\", \"November\", \"December\"], \"line\": {\"width\": 1.5}}, {\"name\": \"Min 2004-2013\", \"y\": [17.759999999999998, 19.440000000000005, 21.509999999999998, 24.660000000000004, 26.72, 26.52, 24.4, 23.59, 24.49, 25.28, 22.62, 19.42], \"mode\": \"lines+markers\", \"marker\": {\"size\": 10}, \"x\": [\"January\", \"February\", \"March\", \"April\", \"May\", \"June\", \"July\", \"August\", \"September\", \"October\", \"November\", \"December\"], \"line\": {\"width\": 1.5}}, {\"name\": \"Min 2014-2017\", \"y\": [18.05, 19.35, 22.974999999999998, 25.375, 27.124999999999996, 26.925, 24.725, 23.375, 24.325000000000003, 25.45, 23.0, 20.05], \"mode\": \"lines+markers\", \"marker\": {\"size\": 10}, \"x\": [\"January\", \"February\", \"March\", \"April\", \"May\", \"June\", \"July\", \"August\", \"September\", \"October\", \"November\", \"December\"], \"line\": {\"width\": 1.5}}], {\"title\": \"Mean temperatures differences\", \"xaxis\": {\"title\": \"Months\"}, \"yaxis\": {\"title\": \"\\u00baC\"}}, {\"linkText\": \"Export to plot.ly\", \"showLink\": true})});</script>"
      ]
     },
     "metadata": {},
     "output_type": "display_data"
    }
   ],
   "source": [
    "#mean_years(df_mean_max, 2011, 2017)\n",
    "old_max = mean_years(df_mean_max, 2004, 2013)\n",
    "new_max = mean_years(df_mean_max, 2014, 2017)\n",
    "old_min = mean_years(df_mean_min, 2004, 2013)\n",
    "new_min = mean_years(df_mean_min, 2014, 2017)\n",
    "fig1 = graph_lines([old_max, new_max, old_min, new_min], \"Mean temperatures differences\", \"Months\", \"ºC\", [\"Max 2004-2013\", \"Max 2014-2017\", \"Min 2004-2013\", \"Min 2014-2017\", ])\n",
    "\n",
    "years = range(2004, 2018)\n",
    "graphs = []\n",
    "legends = []\n",
    "for i in years:\n",
    "    graphs.append(mean_years(df_mean_max, i, i))\n",
    "    graphs.append(mean_years(df_mean_min, i, i))\n",
    "    legends.append(\"Max \" + str(i))\n",
    "    legends.append(\"Min \" + str(i))\n",
    "\n",
    "fig = graph_lines(graphs, \"Mean temperatures from 2004 to 2017\", \"Months\", \"mm\", legends)\n",
    "iplot(fig1)"
   ]
  },
  {
   "cell_type": "code",
   "execution_count": 301,
   "metadata": {},
   "outputs": [
    {
     "data": {
      "application/vnd.plotly.v1+json": {
       "data": [
        {
         "line": {
          "color": "rgb(205,205,248)",
          "width": 1.5
         },
         "marker": {
          "color": "rgb(0,0,222)",
          "size": 10
         },
         "mode": "lines+markers",
         "name": "2004",
         "x": [
          "January",
          "February",
          "March",
          "April",
          "May",
          "June",
          "July",
          "August",
          "September",
          "October",
          "November",
          "December"
         ],
         "y": [
          0.1,
          0,
          0,
          0,
          0,
          28.3,
          57.8,
          54,
          56.5,
          0.1,
          0.1,
          0
         ]
        },
        {
         "line": {
          "color": "rgb(205,205,248)",
          "width": 1.5
         },
         "marker": {
          "color": "rgb(0,0,222)",
          "size": 10
         },
         "mode": "lines+markers",
         "name": "2005",
         "x": [
          "January",
          "February",
          "March",
          "April",
          "May",
          "June",
          "July",
          "August",
          "September",
          "October",
          "November",
          "December"
         ],
         "y": [
          0.1,
          0,
          0.1,
          1,
          17,
          35.4,
          134.1,
          119.9,
          71.5,
          0.1,
          0,
          0
         ]
        },
        {
         "line": {
          "color": "rgb(205,205,248)",
          "width": 1.5
         },
         "marker": {
          "color": "rgb(0,0,222)",
          "size": 10
         },
         "mode": "lines+markers",
         "name": "2006",
         "x": [
          "January",
          "February",
          "March",
          "April",
          "May",
          "June",
          "July",
          "August",
          "September",
          "October",
          "November",
          "December"
         ],
         "y": [
          0,
          0,
          0,
          0.1,
          6.7,
          5.8,
          29.7,
          140,
          51.9,
          1,
          0,
          0
         ]
        },
        {
         "line": {
          "color": "rgb(205,205,248)",
          "width": 1.5
         },
         "marker": {
          "color": "rgb(0,0,222)",
          "size": 10
         },
         "mode": "lines+markers",
         "name": "2007",
         "x": [
          "January",
          "February",
          "March",
          "April",
          "May",
          "June",
          "July",
          "August",
          "September",
          "October",
          "November",
          "December"
         ],
         "y": [
          0,
          0,
          0,
          0.1,
          2,
          153.8,
          173.1,
          73.4,
          21.7,
          1,
          0,
          0
         ]
        },
        {
         "line": {
          "color": "rgb(205,205,248)",
          "width": 1.5
         },
         "marker": {
          "color": "rgb(0,0,222)",
          "size": 10
         },
         "mode": "lines+markers",
         "name": "2008",
         "x": [
          "January",
          "February",
          "March",
          "April",
          "May",
          "June",
          "July",
          "August",
          "September",
          "October",
          "November",
          "December"
         ],
         "y": [
          0,
          0,
          0,
          9.7,
          22,
          1.9,
          35.5,
          71.2,
          38.4,
          0.5,
          0,
          0
         ]
        },
        {
         "line": {
          "color": "rgb(205,205,248)",
          "width": 1.5
         },
         "marker": {
          "color": "rgb(0,0,222)",
          "size": 10
         },
         "mode": "lines+markers",
         "name": "2009",
         "x": [
          "January",
          "February",
          "March",
          "April",
          "May",
          "June",
          "July",
          "August",
          "September",
          "October",
          "November",
          "December"
         ],
         "y": [
          0,
          0,
          0,
          0.1,
          1.9,
          1,
          64.6,
          30.8,
          3.6,
          0,
          0,
          0
         ]
        },
        {
         "line": {
          "color": "rgb(205,205,248)",
          "width": 1.5
         },
         "marker": {
          "color": "rgb(0,0,222)",
          "size": 10
         },
         "mode": "lines+markers",
         "name": "2010",
         "x": [
          "January",
          "February",
          "March",
          "April",
          "May",
          "June",
          "July",
          "August",
          "September",
          "October",
          "November",
          "December"
         ],
         "y": [
          0,
          0.1,
          0,
          4,
          3.5,
          4.4,
          40.9,
          49.9,
          69.3,
          0,
          0,
          0
         ]
        },
        {
         "line": {
          "color": "rgb(205,205,248)",
          "width": 1.5
         },
         "marker": {
          "color": "rgb(0,0,222)",
          "size": 10
         },
         "mode": "lines+markers",
         "name": "2011",
         "x": [
          "January",
          "February",
          "March",
          "April",
          "May",
          "June",
          "July",
          "August",
          "September",
          "October",
          "November",
          "December"
         ],
         "y": [
          0,
          0,
          0,
          0.7,
          8.4,
          3.7,
          46.7,
          26.5,
          36.4,
          0.1,
          0,
          0
         ]
        },
        {
         "line": {
          "color": "rgb(205,205,248)",
          "width": 1.5
         },
         "marker": {
          "color": "rgb(0,0,222)",
          "size": 10
         },
         "mode": "lines+markers",
         "name": "2012",
         "x": [
          "January",
          "February",
          "March",
          "April",
          "May",
          "June",
          "July",
          "August",
          "September",
          "October",
          "November",
          "December"
         ],
         "y": [
          0,
          0,
          0,
          0,
          0.1,
          15,
          4.5,
          43.3,
          3.7,
          0.1,
          0,
          0
         ]
        },
        {
         "line": {
          "color": "rgb(205,205,248)",
          "width": 1.5
         },
         "marker": {
          "color": "rgb(0,0,222)",
          "size": 10
         },
         "mode": "lines+markers",
         "name": "2013",
         "x": [
          "January",
          "February",
          "March",
          "April",
          "May",
          "June",
          "July",
          "August",
          "September",
          "October",
          "November",
          "December"
         ],
         "y": [
          0,
          0,
          0,
          0,
          0,
          0.1,
          8.6,
          106.4,
          16.5,
          11.7,
          0,
          0
         ]
        },
        {
         "line": {
          "color": "rgb(205,205,248)",
          "width": 1.5
         },
         "marker": {
          "color": "rgb(0,0,222)",
          "size": 10
         },
         "mode": "lines+markers",
         "name": "2014",
         "x": [
          "January",
          "February",
          "March",
          "April",
          "May",
          "June",
          "July",
          "August",
          "September",
          "October",
          "November",
          "December"
         ],
         "y": [
          0,
          0,
          0.1,
          3.8,
          0.8,
          2.8,
          53.8,
          103.3,
          47.2,
          17.3,
          0,
          0
         ]
        },
        {
         "line": {
          "color": "rgb(205,205,248)",
          "width": 1.5
         },
         "marker": {
          "color": "rgb(0,0,222)",
          "size": 10
         },
         "mode": "lines+markers",
         "name": "2015",
         "x": [
          "January",
          "February",
          "March",
          "April",
          "May",
          "June",
          "July",
          "August",
          "September",
          "October",
          "November",
          "December"
         ],
         "y": [
          0,
          0,
          0,
          0.1,
          57.8,
          0.1,
          47,
          88.5,
          73.8,
          0,
          0,
          0
         ]
        },
        {
         "line": {
          "color": "rgb(205,205,248)",
          "width": 1.5
         },
         "marker": {
          "color": "rgb(0,0,222)",
          "size": 10
         },
         "mode": "lines+markers",
         "name": "2016",
         "x": [
          "January",
          "February",
          "March",
          "April",
          "May",
          "June",
          "July",
          "August",
          "September",
          "October",
          "November",
          "December"
         ],
         "y": [
          0,
          0,
          3,
          0.1,
          2,
          9,
          38.1,
          194.1,
          60,
          13.9,
          0,
          0
         ]
        },
        {
         "line": {
          "color": "rgb(205,205,248)",
          "width": 1.5
         },
         "marker": {
          "color": "rgb(0,0,222)",
          "size": 10
         },
         "mode": "lines+markers",
         "name": "2017",
         "x": [
          "January",
          "February",
          "March",
          "April",
          "May",
          "June",
          "July",
          "August",
          "September",
          "October",
          "November",
          "December"
         ],
         "y": [
          0,
          0.1,
          0,
          6.3,
          47.4,
          7.3,
          50,
          15.6,
          24.3,
          3.6,
          0.1,
          0
         ]
        },
        {
         "line": {
          "color": "rgb(248,268,0)",
          "width": 1.5
         },
         "marker": {
          "color": "rgb(222,242,0)",
          "size": 10
         },
         "mode": "lines+markers",
         "x": [
          "January",
          "February",
          "March",
          "April",
          "May",
          "June",
          "July",
          "August",
          "September",
          "October",
          "November",
          "December"
         ],
         "y": [
          0,
          0,
          0,
          0.1,
          57.8,
          0.1,
          47,
          88.5,
          73.8,
          0,
          0,
          0
         ]
        },
        {
         "line": {
          "color": "rgb(248,208,0)",
          "width": 1.5
         },
         "marker": {
          "color": "rgb(222,172,0)",
          "size": 10
         },
         "mode": "lines+markers",
         "x": [
          "January",
          "February",
          "March",
          "April",
          "May",
          "June",
          "July",
          "August",
          "September",
          "October",
          "November",
          "December"
         ],
         "y": [
          0,
          0,
          3,
          0.1,
          2,
          9,
          38.1,
          194.1,
          60,
          13.9,
          0,
          0
         ]
        },
        {
         "line": {
          "color": "rgb(248,0,0)",
          "width": 1.5
         },
         "marker": {
          "color": "rgb(222,0,0)",
          "size": 10
         },
         "mode": "lines+markers",
         "x": [
          "January",
          "February",
          "March",
          "April",
          "May",
          "June",
          "July",
          "August",
          "September",
          "October",
          "November",
          "December"
         ],
         "y": [
          0,
          0.1,
          0,
          6.3,
          47.4,
          7.3,
          50,
          15.6,
          24.3,
          3.6,
          0.1,
          0
         ]
        }
       ],
       "layout": {
        "showlegend": false,
        "title": "Rain fall differences",
        "xaxis": {
         "title": "Months"
        },
        "yaxis": {
         "title": "mm"
        }
       }
      },
      "text/html": [
       "<div id=\"65e7581f-caca-40e7-9b76-b2ca576d018f\" style=\"height: 525px; width: 100%;\" class=\"plotly-graph-div\"></div><script type=\"text/javascript\">require([\"plotly\"], function(Plotly) { window.PLOTLYENV=window.PLOTLYENV || {};window.PLOTLYENV.BASE_URL=\"https://plot.ly\";Plotly.newPlot(\"65e7581f-caca-40e7-9b76-b2ca576d018f\", [{\"name\": \"2004\", \"y\": [0.1, 0.0, 0.0, 0.0, 0.0, 28.3, 57.8, 54.0, 56.5, 0.1, 0.1, 0.0], \"mode\": \"lines+markers\", \"marker\": {\"color\": \"rgb(0,0,222)\", \"size\": 10}, \"x\": [\"January\", \"February\", \"March\", \"April\", \"May\", \"June\", \"July\", \"August\", \"September\", \"October\", \"November\", \"December\"], \"line\": {\"color\": \"rgb(205,205,248)\", \"width\": 1.5}}, {\"name\": \"2005\", \"y\": [0.1, 0.0, 0.1, 1.0, 17.0, 35.4, 134.1, 119.9, 71.5, 0.1, 0.0, 0.0], \"mode\": \"lines+markers\", \"marker\": {\"color\": \"rgb(0,0,222)\", \"size\": 10}, \"x\": [\"January\", \"February\", \"March\", \"April\", \"May\", \"June\", \"July\", \"August\", \"September\", \"October\", \"November\", \"December\"], \"line\": {\"color\": \"rgb(205,205,248)\", \"width\": 1.5}}, {\"name\": \"2006\", \"y\": [0.0, 0.0, 0.0, 0.1, 6.7, 5.8, 29.7, 140.0, 51.9, 1.0, 0.0, 0.0], \"mode\": \"lines+markers\", \"marker\": {\"color\": \"rgb(0,0,222)\", \"size\": 10}, \"x\": [\"January\", \"February\", \"March\", \"April\", \"May\", \"June\", \"July\", \"August\", \"September\", \"October\", \"November\", \"December\"], \"line\": {\"color\": \"rgb(205,205,248)\", \"width\": 1.5}}, {\"name\": \"2007\", \"y\": [0.0, 0.0, 0.0, 0.1, 2.0, 153.8, 173.1, 73.4, 21.7, 1.0, 0.0, 0.0], \"mode\": \"lines+markers\", \"marker\": {\"color\": \"rgb(0,0,222)\", \"size\": 10}, \"x\": [\"January\", \"February\", \"March\", \"April\", \"May\", \"June\", \"July\", \"August\", \"September\", \"October\", \"November\", \"December\"], \"line\": {\"color\": \"rgb(205,205,248)\", \"width\": 1.5}}, {\"name\": \"2008\", \"y\": [0.0, 0.0, 0.0, 9.7, 22.0, 1.9, 35.5, 71.2, 38.4, 0.5, 0.0, 0.0], \"mode\": \"lines+markers\", \"marker\": {\"color\": \"rgb(0,0,222)\", \"size\": 10}, \"x\": [\"January\", \"February\", \"March\", \"April\", \"May\", \"June\", \"July\", \"August\", \"September\", \"October\", \"November\", \"December\"], \"line\": {\"color\": \"rgb(205,205,248)\", \"width\": 1.5}}, {\"name\": \"2009\", \"y\": [0.0, 0.0, 0.0, 0.1, 1.9, 1.0, 64.6, 30.8, 3.6, 0.0, 0.0, 0.0], \"mode\": \"lines+markers\", \"marker\": {\"color\": \"rgb(0,0,222)\", \"size\": 10}, \"x\": [\"January\", \"February\", \"March\", \"April\", \"May\", \"June\", \"July\", \"August\", \"September\", \"October\", \"November\", \"December\"], \"line\": {\"color\": \"rgb(205,205,248)\", \"width\": 1.5}}, {\"name\": \"2010\", \"y\": [0.0, 0.1, 0.0, 4.0, 3.5, 4.4, 40.9, 49.9, 69.3, 0.0, 0.0, 0.0], \"mode\": \"lines+markers\", \"marker\": {\"color\": \"rgb(0,0,222)\", \"size\": 10}, \"x\": [\"January\", \"February\", \"March\", \"April\", \"May\", \"June\", \"July\", \"August\", \"September\", \"October\", \"November\", \"December\"], \"line\": {\"color\": \"rgb(205,205,248)\", \"width\": 1.5}}, {\"name\": \"2011\", \"y\": [0.0, 0.0, 0.0, 0.7, 8.4, 3.7, 46.7, 26.5, 36.4, 0.1, 0.0, 0.0], \"mode\": \"lines+markers\", \"marker\": {\"color\": \"rgb(0,0,222)\", \"size\": 10}, \"x\": [\"January\", \"February\", \"March\", \"April\", \"May\", \"June\", \"July\", \"August\", \"September\", \"October\", \"November\", \"December\"], \"line\": {\"color\": \"rgb(205,205,248)\", \"width\": 1.5}}, {\"name\": \"2012\", \"y\": [0.0, 0.0, 0.0, 0.0, 0.1, 15.0, 4.5, 43.3, 3.7, 0.1, 0.0, 0.0], \"mode\": \"lines+markers\", \"marker\": {\"color\": \"rgb(0,0,222)\", \"size\": 10}, \"x\": [\"January\", \"February\", \"March\", \"April\", \"May\", \"June\", \"July\", \"August\", \"September\", \"October\", \"November\", \"December\"], \"line\": {\"color\": \"rgb(205,205,248)\", \"width\": 1.5}}, {\"name\": \"2013\", \"y\": [0.0, 0.0, 0.0, 0.0, 0.0, 0.1, 8.6, 106.4, 16.5, 11.7, 0.0, 0.0], \"mode\": \"lines+markers\", \"marker\": {\"color\": \"rgb(0,0,222)\", \"size\": 10}, \"x\": [\"January\", \"February\", \"March\", \"April\", \"May\", \"June\", \"July\", \"August\", \"September\", \"October\", \"November\", \"December\"], \"line\": {\"color\": \"rgb(205,205,248)\", \"width\": 1.5}}, {\"name\": \"2014\", \"y\": [0.0, 0.0, 0.1, 3.8, 0.8, 2.8, 53.8, 103.3, 47.2, 17.3, 0.0, 0.0], \"mode\": \"lines+markers\", \"marker\": {\"color\": \"rgb(0,0,222)\", \"size\": 10}, \"x\": [\"January\", \"February\", \"March\", \"April\", \"May\", \"June\", \"July\", \"August\", \"September\", \"October\", \"November\", \"December\"], \"line\": {\"color\": \"rgb(205,205,248)\", \"width\": 1.5}}, {\"name\": \"2015\", \"y\": [0.0, 0.0, 0.0, 0.1, 57.8, 0.1, 47.0, 88.5, 73.8, 0.0, 0.0, 0.0], \"mode\": \"lines+markers\", \"marker\": {\"color\": \"rgb(0,0,222)\", \"size\": 10}, \"x\": [\"January\", \"February\", \"March\", \"April\", \"May\", \"June\", \"July\", \"August\", \"September\", \"October\", \"November\", \"December\"], \"line\": {\"color\": \"rgb(205,205,248)\", \"width\": 1.5}}, {\"name\": \"2016\", \"y\": [0.0, 0.0, 3.0, 0.1, 2.0, 9.0, 38.1, 194.1, 60.0, 13.9, 0.0, 0.0], \"mode\": \"lines+markers\", \"marker\": {\"color\": \"rgb(0,0,222)\", \"size\": 10}, \"x\": [\"January\", \"February\", \"March\", \"April\", \"May\", \"June\", \"July\", \"August\", \"September\", \"October\", \"November\", \"December\"], \"line\": {\"color\": \"rgb(205,205,248)\", \"width\": 1.5}}, {\"name\": \"2017\", \"y\": [0.0, 0.1, 0.0, 6.3, 47.4, 7.3, 50.0, 15.6, 24.3, 3.6, 0.1, 0.0], \"mode\": \"lines+markers\", \"marker\": {\"color\": \"rgb(0,0,222)\", \"size\": 10}, \"x\": [\"January\", \"February\", \"March\", \"April\", \"May\", \"June\", \"July\", \"August\", \"September\", \"October\", \"November\", \"December\"], \"line\": {\"color\": \"rgb(205,205,248)\", \"width\": 1.5}}, {\"y\": [0.0, 0.0, 0.0, 0.1, 57.8, 0.1, 47.0, 88.5, 73.8, 0.0, 0.0, 0.0], \"x\": [\"January\", \"February\", \"March\", \"April\", \"May\", \"June\", \"July\", \"August\", \"September\", \"October\", \"November\", \"December\"], \"line\": {\"color\": \"rgb(248,268,0)\", \"width\": 1.5}, \"mode\": \"lines+markers\", \"marker\": {\"color\": \"rgb(222,242,0)\", \"size\": 10}}, {\"y\": [0.0, 0.0, 3.0, 0.1, 2.0, 9.0, 38.1, 194.1, 60.0, 13.9, 0.0, 0.0], \"x\": [\"January\", \"February\", \"March\", \"April\", \"May\", \"June\", \"July\", \"August\", \"September\", \"October\", \"November\", \"December\"], \"line\": {\"color\": \"rgb(248,208,0)\", \"width\": 1.5}, \"mode\": \"lines+markers\", \"marker\": {\"color\": \"rgb(222,172,0)\", \"size\": 10}}, {\"y\": [0.0, 0.1, 0.0, 6.3, 47.4, 7.3, 50.0, 15.6, 24.3, 3.6, 0.1, 0.0], \"x\": [\"January\", \"February\", \"March\", \"April\", \"May\", \"June\", \"July\", \"August\", \"September\", \"October\", \"November\", \"December\"], \"line\": {\"color\": \"rgb(248,0,0)\", \"width\": 1.5}, \"mode\": \"lines+markers\", \"marker\": {\"color\": \"rgb(222,0,0)\", \"size\": 10}}], {\"showlegend\": false, \"title\": \"Rain fall differences\", \"xaxis\": {\"title\": \"Months\"}, \"yaxis\": {\"title\": \"mm\"}}, {\"linkText\": \"Export to plot.ly\", \"showLink\": true})});</script>"
      ],
      "text/vnd.plotly.v1+html": [
       "<div id=\"65e7581f-caca-40e7-9b76-b2ca576d018f\" style=\"height: 525px; width: 100%;\" class=\"plotly-graph-div\"></div><script type=\"text/javascript\">require([\"plotly\"], function(Plotly) { window.PLOTLYENV=window.PLOTLYENV || {};window.PLOTLYENV.BASE_URL=\"https://plot.ly\";Plotly.newPlot(\"65e7581f-caca-40e7-9b76-b2ca576d018f\", [{\"name\": \"2004\", \"y\": [0.1, 0.0, 0.0, 0.0, 0.0, 28.3, 57.8, 54.0, 56.5, 0.1, 0.1, 0.0], \"mode\": \"lines+markers\", \"marker\": {\"color\": \"rgb(0,0,222)\", \"size\": 10}, \"x\": [\"January\", \"February\", \"March\", \"April\", \"May\", \"June\", \"July\", \"August\", \"September\", \"October\", \"November\", \"December\"], \"line\": {\"color\": \"rgb(205,205,248)\", \"width\": 1.5}}, {\"name\": \"2005\", \"y\": [0.1, 0.0, 0.1, 1.0, 17.0, 35.4, 134.1, 119.9, 71.5, 0.1, 0.0, 0.0], \"mode\": \"lines+markers\", \"marker\": {\"color\": \"rgb(0,0,222)\", \"size\": 10}, \"x\": [\"January\", \"February\", \"March\", \"April\", \"May\", \"June\", \"July\", \"August\", \"September\", \"October\", \"November\", \"December\"], \"line\": {\"color\": \"rgb(205,205,248)\", \"width\": 1.5}}, {\"name\": \"2006\", \"y\": [0.0, 0.0, 0.0, 0.1, 6.7, 5.8, 29.7, 140.0, 51.9, 1.0, 0.0, 0.0], \"mode\": \"lines+markers\", \"marker\": {\"color\": \"rgb(0,0,222)\", \"size\": 10}, \"x\": [\"January\", \"February\", \"March\", \"April\", \"May\", \"June\", \"July\", \"August\", \"September\", \"October\", \"November\", \"December\"], \"line\": {\"color\": \"rgb(205,205,248)\", \"width\": 1.5}}, {\"name\": \"2007\", \"y\": [0.0, 0.0, 0.0, 0.1, 2.0, 153.8, 173.1, 73.4, 21.7, 1.0, 0.0, 0.0], \"mode\": \"lines+markers\", \"marker\": {\"color\": \"rgb(0,0,222)\", \"size\": 10}, \"x\": [\"January\", \"February\", \"March\", \"April\", \"May\", \"June\", \"July\", \"August\", \"September\", \"October\", \"November\", \"December\"], \"line\": {\"color\": \"rgb(205,205,248)\", \"width\": 1.5}}, {\"name\": \"2008\", \"y\": [0.0, 0.0, 0.0, 9.7, 22.0, 1.9, 35.5, 71.2, 38.4, 0.5, 0.0, 0.0], \"mode\": \"lines+markers\", \"marker\": {\"color\": \"rgb(0,0,222)\", \"size\": 10}, \"x\": [\"January\", \"February\", \"March\", \"April\", \"May\", \"June\", \"July\", \"August\", \"September\", \"October\", \"November\", \"December\"], \"line\": {\"color\": \"rgb(205,205,248)\", \"width\": 1.5}}, {\"name\": \"2009\", \"y\": [0.0, 0.0, 0.0, 0.1, 1.9, 1.0, 64.6, 30.8, 3.6, 0.0, 0.0, 0.0], \"mode\": \"lines+markers\", \"marker\": {\"color\": \"rgb(0,0,222)\", \"size\": 10}, \"x\": [\"January\", \"February\", \"March\", \"April\", \"May\", \"June\", \"July\", \"August\", \"September\", \"October\", \"November\", \"December\"], \"line\": {\"color\": \"rgb(205,205,248)\", \"width\": 1.5}}, {\"name\": \"2010\", \"y\": [0.0, 0.1, 0.0, 4.0, 3.5, 4.4, 40.9, 49.9, 69.3, 0.0, 0.0, 0.0], \"mode\": \"lines+markers\", \"marker\": {\"color\": \"rgb(0,0,222)\", \"size\": 10}, \"x\": [\"January\", \"February\", \"March\", \"April\", \"May\", \"June\", \"July\", \"August\", \"September\", \"October\", \"November\", \"December\"], \"line\": {\"color\": \"rgb(205,205,248)\", \"width\": 1.5}}, {\"name\": \"2011\", \"y\": [0.0, 0.0, 0.0, 0.7, 8.4, 3.7, 46.7, 26.5, 36.4, 0.1, 0.0, 0.0], \"mode\": \"lines+markers\", \"marker\": {\"color\": \"rgb(0,0,222)\", \"size\": 10}, \"x\": [\"January\", \"February\", \"March\", \"April\", \"May\", \"June\", \"July\", \"August\", \"September\", \"October\", \"November\", \"December\"], \"line\": {\"color\": \"rgb(205,205,248)\", \"width\": 1.5}}, {\"name\": \"2012\", \"y\": [0.0, 0.0, 0.0, 0.0, 0.1, 15.0, 4.5, 43.3, 3.7, 0.1, 0.0, 0.0], \"mode\": \"lines+markers\", \"marker\": {\"color\": \"rgb(0,0,222)\", \"size\": 10}, \"x\": [\"January\", \"February\", \"March\", \"April\", \"May\", \"June\", \"July\", \"August\", \"September\", \"October\", \"November\", \"December\"], \"line\": {\"color\": \"rgb(205,205,248)\", \"width\": 1.5}}, {\"name\": \"2013\", \"y\": [0.0, 0.0, 0.0, 0.0, 0.0, 0.1, 8.6, 106.4, 16.5, 11.7, 0.0, 0.0], \"mode\": \"lines+markers\", \"marker\": {\"color\": \"rgb(0,0,222)\", \"size\": 10}, \"x\": [\"January\", \"February\", \"March\", \"April\", \"May\", \"June\", \"July\", \"August\", \"September\", \"October\", \"November\", \"December\"], \"line\": {\"color\": \"rgb(205,205,248)\", \"width\": 1.5}}, {\"name\": \"2014\", \"y\": [0.0, 0.0, 0.1, 3.8, 0.8, 2.8, 53.8, 103.3, 47.2, 17.3, 0.0, 0.0], \"mode\": \"lines+markers\", \"marker\": {\"color\": \"rgb(0,0,222)\", \"size\": 10}, \"x\": [\"January\", \"February\", \"March\", \"April\", \"May\", \"June\", \"July\", \"August\", \"September\", \"October\", \"November\", \"December\"], \"line\": {\"color\": \"rgb(205,205,248)\", \"width\": 1.5}}, {\"name\": \"2015\", \"y\": [0.0, 0.0, 0.0, 0.1, 57.8, 0.1, 47.0, 88.5, 73.8, 0.0, 0.0, 0.0], \"mode\": \"lines+markers\", \"marker\": {\"color\": \"rgb(0,0,222)\", \"size\": 10}, \"x\": [\"January\", \"February\", \"March\", \"April\", \"May\", \"June\", \"July\", \"August\", \"September\", \"October\", \"November\", \"December\"], \"line\": {\"color\": \"rgb(205,205,248)\", \"width\": 1.5}}, {\"name\": \"2016\", \"y\": [0.0, 0.0, 3.0, 0.1, 2.0, 9.0, 38.1, 194.1, 60.0, 13.9, 0.0, 0.0], \"mode\": \"lines+markers\", \"marker\": {\"color\": \"rgb(0,0,222)\", \"size\": 10}, \"x\": [\"January\", \"February\", \"March\", \"April\", \"May\", \"June\", \"July\", \"August\", \"September\", \"October\", \"November\", \"December\"], \"line\": {\"color\": \"rgb(205,205,248)\", \"width\": 1.5}}, {\"name\": \"2017\", \"y\": [0.0, 0.1, 0.0, 6.3, 47.4, 7.3, 50.0, 15.6, 24.3, 3.6, 0.1, 0.0], \"mode\": \"lines+markers\", \"marker\": {\"color\": \"rgb(0,0,222)\", \"size\": 10}, \"x\": [\"January\", \"February\", \"March\", \"April\", \"May\", \"June\", \"July\", \"August\", \"September\", \"October\", \"November\", \"December\"], \"line\": {\"color\": \"rgb(205,205,248)\", \"width\": 1.5}}, {\"y\": [0.0, 0.0, 0.0, 0.1, 57.8, 0.1, 47.0, 88.5, 73.8, 0.0, 0.0, 0.0], \"x\": [\"January\", \"February\", \"March\", \"April\", \"May\", \"June\", \"July\", \"August\", \"September\", \"October\", \"November\", \"December\"], \"line\": {\"color\": \"rgb(248,268,0)\", \"width\": 1.5}, \"mode\": \"lines+markers\", \"marker\": {\"color\": \"rgb(222,242,0)\", \"size\": 10}}, {\"y\": [0.0, 0.0, 3.0, 0.1, 2.0, 9.0, 38.1, 194.1, 60.0, 13.9, 0.0, 0.0], \"x\": [\"January\", \"February\", \"March\", \"April\", \"May\", \"June\", \"July\", \"August\", \"September\", \"October\", \"November\", \"December\"], \"line\": {\"color\": \"rgb(248,208,0)\", \"width\": 1.5}, \"mode\": \"lines+markers\", \"marker\": {\"color\": \"rgb(222,172,0)\", \"size\": 10}}, {\"y\": [0.0, 0.1, 0.0, 6.3, 47.4, 7.3, 50.0, 15.6, 24.3, 3.6, 0.1, 0.0], \"x\": [\"January\", \"February\", \"March\", \"April\", \"May\", \"June\", \"July\", \"August\", \"September\", \"October\", \"November\", \"December\"], \"line\": {\"color\": \"rgb(248,0,0)\", \"width\": 1.5}, \"mode\": \"lines+markers\", \"marker\": {\"color\": \"rgb(222,0,0)\", \"size\": 10}}], {\"showlegend\": false, \"title\": \"Rain fall differences\", \"xaxis\": {\"title\": \"Months\"}, \"yaxis\": {\"title\": \"mm\"}}, {\"linkText\": \"Export to plot.ly\", \"showLink\": true})});</script>"
      ]
     },
     "metadata": {},
     "output_type": "display_data"
    }
   ],
   "source": [
    "old_rain = mean_years(df_rain_fall, 2004, 2013)\n",
    "more_no_new_rain = mean_years(df_rain_fall, 2015, 2015)\n",
    "no_new_rain = mean_years(df_rain_fall, 2016, 2016)\n",
    "new_rain = mean_years(df_rain_fall, 2017, 2017)\n",
    "years = range(2004, 2018)\n",
    "graphs = []\n",
    "legends = []\n",
    "for i in years:\n",
    "    graphs.append(mean_years(df_rain_fall, i, i))\n",
    "    legends.append(str(i))\n",
    "\n",
    "#graph_lines([old_rain, new_rain], \"Rain fall differences\", \"Months\", \"mm\", [\"2004-2013\", \"2014-2017\"])\n",
    "fig = graph_lines(graphs, \"Rain fall differences\", \"Months\", \"mm\", legends)\n",
    "fig['data'].append({\n",
    "                \"x\": more_no_new_rain.index.values,\n",
    "                \"y\": more_no_new_rain.values,\n",
    "                \"mode\": \"lines+markers\",\n",
    "                \"line\": {\n",
    "                    #\"color\": 'rgb(205,238,205)',\n",
    "                    \"color\": 'rgb(248,268,0)',\n",
    "                    \"width\": 1.5\n",
    "                },\n",
    "                \"marker\": {\n",
    "                    \"size\": 10,\n",
    "                    #\"color\": 'rgb(0,142,0)',\n",
    "                    \"color\": 'rgb(222,242,0)',\n",
    "                }\n",
    "            })\n",
    "fig['data'].append({\n",
    "                \"x\": no_new_rain.index.values,\n",
    "                \"y\": no_new_rain.values,\n",
    "                \"mode\": \"lines+markers\",\n",
    "                \"line\": {\n",
    "                    #\"color\": 'rgb(205,238,205)',\n",
    "                    \"color\": 'rgb(248,208,0)',\n",
    "                    \"width\": 1.5\n",
    "                },\n",
    "                \"marker\": {\n",
    "                    \"size\": 10,\n",
    "                    #\"color\": 'rgb(0,142,0)',\n",
    "                    \"color\": 'rgb(222,172,0)',\n",
    "                }\n",
    "            })\n",
    "fig['data'].append({\n",
    "                \"x\": new_rain.index.values,\n",
    "                \"y\": new_rain.values,\n",
    "                \"mode\": \"lines+markers\",\n",
    "                \"line\": {\n",
    "                    #\"color\": 'rgb(205,238,205)',\n",
    "                    \"color\": 'rgb(248,0,0)',\n",
    "                    \"width\": 1.5\n",
    "                },\n",
    "                \"marker\": {\n",
    "                    \"size\": 10,\n",
    "                    #\"color\": 'rgb(0,142,0)',\n",
    "                    \"color\": 'rgb(222,0,0)',\n",
    "                }\n",
    "            })\n",
    "iplot(fig)"
   ]
  },
  {
   "cell_type": "code",
   "execution_count": 231,
   "metadata": {},
   "outputs": [
    {
     "data": {
      "application/vnd.plotly.v1+json": {
       "data": [
        {
         "line": {
          "color": "rgb(258,225,225)",
          "width": 1.5
         },
         "marker": {
          "color": "rgb(192,0,0)",
          "size": 10
         },
         "mode": "lines+markers",
         "name": "2004",
         "x": [
          "January",
          "February",
          "March",
          "April",
          "May",
          "June",
          "July",
          "August",
          "September",
          "October",
          "November",
          "December"
         ],
         "y": [
          58,
          54,
          40,
          32,
          26,
          47,
          57,
          61,
          60,
          40,
          48,
          59
         ]
        },
        {
         "line": {
          "color": "rgb(258,225,225)",
          "width": 1.5
         },
         "marker": {
          "color": "rgb(192,0,0)",
          "size": 10
         },
         "mode": "lines+markers",
         "name": "2005",
         "x": [
          "January",
          "February",
          "March",
          "April",
          "May",
          "June",
          "July",
          "August",
          "September",
          "October",
          "November",
          "December"
         ],
         "y": [
          55,
          50,
          40,
          34,
          30,
          45,
          67,
          66,
          63,
          44,
          49,
          52
         ]
        },
        {
         "line": {
          "color": "rgb(258,225,225)",
          "width": 1.5
         },
         "marker": {
          "color": "rgb(192,0,0)",
          "size": 10
         },
         "mode": "lines+markers",
         "name": "2006",
         "x": [
          "January",
          "February",
          "March",
          "April",
          "May",
          "June",
          "July",
          "August",
          "September",
          "October",
          "November",
          "December"
         ],
         "y": [
          51,
          52,
          39,
          33,
          41,
          43,
          58,
          72,
          61,
          51,
          48,
          56
         ]
        },
        {
         "line": {
          "color": "rgb(258,225,225)",
          "width": 1.5
         },
         "marker": {
          "color": "rgb(192,0,0)",
          "size": 10
         },
         "mode": "lines+markers",
         "name": "2007",
         "x": [
          "January",
          "February",
          "March",
          "April",
          "May",
          "June",
          "July",
          "August",
          "September",
          "October",
          "November",
          "December"
         ],
         "y": [
          58,
          50,
          43,
          33,
          31,
          50,
          73,
          68,
          62,
          46,
          55,
          60
         ]
        },
        {
         "line": {
          "color": "rgb(258,225,225)",
          "width": 1.5
         },
         "marker": {
          "color": "rgb(192,0,0)",
          "size": 10
         },
         "mode": "lines+markers",
         "name": "2008",
         "x": [
          "January",
          "February",
          "March",
          "April",
          "May",
          "June",
          "July",
          "August",
          "September",
          "October",
          "November",
          "December"
         ],
         "y": [
          62,
          57,
          35,
          39,
          32,
          45,
          58,
          65,
          59,
          45,
          46,
          55
         ]
        },
        {
         "line": {
          "color": "rgb(258,225,225)",
          "width": 1.5
         },
         "marker": {
          "color": "rgb(192,0,0)",
          "size": 10
         },
         "mode": "lines+markers",
         "name": "2009",
         "x": [
          "January",
          "February",
          "March",
          "April",
          "May",
          "June",
          "July",
          "August",
          "September",
          "October",
          "November",
          "December"
         ],
         "y": [
          60,
          54,
          46,
          24,
          25,
          37,
          60,
          61,
          50,
          34,
          44,
          53
         ]
        },
        {
         "line": {
          "color": "rgb(258,225,225)",
          "width": 1.5
         },
         "marker": {
          "color": "rgb(192,0,0)",
          "size": 10
         },
         "mode": "lines+markers",
         "name": "2010",
         "x": [
          "January",
          "February",
          "March",
          "April",
          "May",
          "June",
          "July",
          "August",
          "September",
          "October",
          "November",
          "December"
         ],
         "y": [
          54,
          45,
          31,
          31,
          32,
          45,
          62,
          65,
          62,
          45,
          43,
          34
         ]
        },
        {
         "line": {
          "color": "rgb(258,225,225)",
          "width": 1.5
         },
         "marker": {
          "color": "rgb(192,0,0)",
          "size": 10
         },
         "mode": "lines+markers",
         "name": "2011",
         "x": [
          "January",
          "February",
          "March",
          "April",
          "May",
          "June",
          "July",
          "August",
          "September",
          "October",
          "November",
          "December"
         ],
         "y": [
          55,
          51,
          50,
          36,
          34,
          43,
          55,
          63,
          60,
          41,
          50,
          55
         ]
        },
        {
         "line": {
          "color": "rgb(258,225,225)",
          "width": 1.5
         },
         "marker": {
          "color": "rgb(192,0,0)",
          "size": 10
         },
         "mode": "lines+markers",
         "name": "2012",
         "x": [
          "January",
          "February",
          "March",
          "April",
          "May",
          "June",
          "July",
          "August",
          "September",
          "October",
          "November",
          "December"
         ],
         "y": [
          51,
          51,
          46,
          31,
          33,
          64,
          61,
          66,
          58,
          39,
          47,
          53
         ]
        },
        {
         "line": {
          "color": "rgb(258,225,225)",
          "width": 1.5
         },
         "marker": {
          "color": "rgb(192,0,0)",
          "size": 10
         },
         "mode": "lines+markers",
         "name": "2013",
         "x": [
          "January",
          "February",
          "March",
          "April",
          "May",
          "June",
          "July",
          "August",
          "September",
          "October",
          "November",
          "December"
         ],
         "y": [
          55,
          53,
          43,
          36,
          29,
          43,
          55,
          72,
          57,
          47,
          43,
          51
         ]
        },
        {
         "line": {
          "color": "rgb(258,225,225)",
          "width": 1.5
         },
         "marker": {
          "color": "rgb(192,0,0)",
          "size": 10
         },
         "mode": "lines+markers",
         "name": "2014",
         "x": [
          "January",
          "February",
          "March",
          "April",
          "May",
          "June",
          "July",
          "August",
          "September",
          "October",
          "November",
          "December"
         ],
         "y": [
          53,
          51,
          39,
          37,
          33,
          43,
          60,
          69,
          61,
          54,
          47,
          52
         ]
        },
        {
         "line": {
          "color": "rgb(258,225,225)",
          "width": 1.5
         },
         "marker": {
          "color": "rgb(192,0,0)",
          "size": 10
         },
         "mode": "lines+markers",
         "name": "2015",
         "x": [
          "January",
          "February",
          "March",
          "April",
          "May",
          "June",
          "July",
          "August",
          "September",
          "October",
          "November",
          "December"
         ],
         "y": [
          55,
          51,
          46,
          35,
          36,
          43,
          50,
          58,
          56,
          43,
          48,
          56
         ]
        },
        {
         "line": {
          "color": "rgb(258,225,225)",
          "width": 1.5
         },
         "marker": {
          "color": "rgb(192,0,0)",
          "size": 10
         },
         "mode": "lines+markers",
         "name": "2016",
         "x": [
          "January",
          "February",
          "March",
          "April",
          "May",
          "June",
          "July",
          "August",
          "September",
          "October",
          "November",
          "December"
         ],
         "y": [
          53,
          53,
          38,
          35,
          39,
          46,
          63,
          91,
          63,
          49,
          42,
          59
         ]
        },
        {
         "line": {
          "color": "rgb(258,225,225)",
          "width": 1.5
         },
         "marker": {
          "color": "rgb(192,0,0)",
          "size": 10
         },
         "mode": "lines+markers",
         "name": "2017",
         "x": [
          "January",
          "February",
          "March",
          "April",
          "May",
          "June",
          "July",
          "August",
          "September",
          "October",
          "November",
          "December"
         ],
         "y": [
          61,
          52,
          36,
          32,
          46,
          47,
          70,
          77,
          58,
          46,
          47,
          47
         ]
        }
       ],
       "layout": {
        "title": "Rain fall differences",
        "xaxis": {
         "title": "Months"
        },
        "yaxis": {
         "title": "mm"
        }
       }
      },
      "text/html": [
       "<div id=\"0fd0bf57-bd20-4df9-801f-854c9a780a15\" style=\"height: 525px; width: 100%;\" class=\"plotly-graph-div\"></div><script type=\"text/javascript\">require([\"plotly\"], function(Plotly) { window.PLOTLYENV=window.PLOTLYENV || {};window.PLOTLYENV.BASE_URL=\"https://plot.ly\";Plotly.newPlot(\"0fd0bf57-bd20-4df9-801f-854c9a780a15\", [{\"name\": \"2004\", \"y\": [58.0, 54.0, 40.0, 32.0, 26.0, 47.0, 57.0, 61.0, 60.0, 40.0, 48.0, 59.0], \"mode\": \"lines+markers\", \"marker\": {\"color\": \"rgb(192,0,0)\", \"size\": 10}, \"x\": [\"January\", \"February\", \"March\", \"April\", \"May\", \"June\", \"July\", \"August\", \"September\", \"October\", \"November\", \"December\"], \"line\": {\"color\": \"rgb(258,225,225)\", \"width\": 1.5}}, {\"name\": \"2005\", \"y\": [55.0, 50.0, 40.0, 34.0, 30.0, 45.0, 67.0, 66.0, 63.0, 44.0, 49.0, 52.0], \"mode\": \"lines+markers\", \"marker\": {\"color\": \"rgb(192,0,0)\", \"size\": 10}, \"x\": [\"January\", \"February\", \"March\", \"April\", \"May\", \"June\", \"July\", \"August\", \"September\", \"October\", \"November\", \"December\"], \"line\": {\"color\": \"rgb(258,225,225)\", \"width\": 1.5}}, {\"name\": \"2006\", \"y\": [51.0, 52.0, 39.0, 33.0, 41.0, 43.0, 58.0, 72.0, 61.0, 51.0, 48.0, 56.0], \"mode\": \"lines+markers\", \"marker\": {\"color\": \"rgb(192,0,0)\", \"size\": 10}, \"x\": [\"January\", \"February\", \"March\", \"April\", \"May\", \"June\", \"July\", \"August\", \"September\", \"October\", \"November\", \"December\"], \"line\": {\"color\": \"rgb(258,225,225)\", \"width\": 1.5}}, {\"name\": \"2007\", \"y\": [58.0, 50.0, 43.0, 33.0, 31.0, 50.0, 73.0, 68.0, 62.0, 46.0, 55.0, 60.0], \"mode\": \"lines+markers\", \"marker\": {\"color\": \"rgb(192,0,0)\", \"size\": 10}, \"x\": [\"January\", \"February\", \"March\", \"April\", \"May\", \"June\", \"July\", \"August\", \"September\", \"October\", \"November\", \"December\"], \"line\": {\"color\": \"rgb(258,225,225)\", \"width\": 1.5}}, {\"name\": \"2008\", \"y\": [62.0, 57.0, 35.0, 39.0, 32.0, 45.0, 58.0, 65.0, 59.0, 45.0, 46.0, 55.0], \"mode\": \"lines+markers\", \"marker\": {\"color\": \"rgb(192,0,0)\", \"size\": 10}, \"x\": [\"January\", \"February\", \"March\", \"April\", \"May\", \"June\", \"July\", \"August\", \"September\", \"October\", \"November\", \"December\"], \"line\": {\"color\": \"rgb(258,225,225)\", \"width\": 1.5}}, {\"name\": \"2009\", \"y\": [60.0, 54.0, 46.0, 24.0, 25.0, 37.0, 60.0, 61.0, 50.0, 34.0, 44.0, 53.0], \"mode\": \"lines+markers\", \"marker\": {\"color\": \"rgb(192,0,0)\", \"size\": 10}, \"x\": [\"January\", \"February\", \"March\", \"April\", \"May\", \"June\", \"July\", \"August\", \"September\", \"October\", \"November\", \"December\"], \"line\": {\"color\": \"rgb(258,225,225)\", \"width\": 1.5}}, {\"name\": \"2010\", \"y\": [54.0, 45.0, 31.0, 31.0, 32.0, 45.0, 62.0, 65.0, 62.0, 45.0, 43.0, 34.0], \"mode\": \"lines+markers\", \"marker\": {\"color\": \"rgb(192,0,0)\", \"size\": 10}, \"x\": [\"January\", \"February\", \"March\", \"April\", \"May\", \"June\", \"July\", \"August\", \"September\", \"October\", \"November\", \"December\"], \"line\": {\"color\": \"rgb(258,225,225)\", \"width\": 1.5}}, {\"name\": \"2011\", \"y\": [55.0, 51.0, 50.0, 36.0, 34.0, 43.0, 55.0, 63.0, 60.0, 41.0, 50.0, 55.0], \"mode\": \"lines+markers\", \"marker\": {\"color\": \"rgb(192,0,0)\", \"size\": 10}, \"x\": [\"January\", \"February\", \"March\", \"April\", \"May\", \"June\", \"July\", \"August\", \"September\", \"October\", \"November\", \"December\"], \"line\": {\"color\": \"rgb(258,225,225)\", \"width\": 1.5}}, {\"name\": \"2012\", \"y\": [51.0, 51.0, 46.0, 31.0, 33.0, 64.0, 61.0, 66.0, 58.0, 39.0, 47.0, 53.0], \"mode\": \"lines+markers\", \"marker\": {\"color\": \"rgb(192,0,0)\", \"size\": 10}, \"x\": [\"January\", \"February\", \"March\", \"April\", \"May\", \"June\", \"July\", \"August\", \"September\", \"October\", \"November\", \"December\"], \"line\": {\"color\": \"rgb(258,225,225)\", \"width\": 1.5}}, {\"name\": \"2013\", \"y\": [55.0, 53.0, 43.0, 36.0, 29.0, 43.0, 55.0, 72.0, 57.0, 47.0, 43.0, 51.0], \"mode\": \"lines+markers\", \"marker\": {\"color\": \"rgb(192,0,0)\", \"size\": 10}, \"x\": [\"January\", \"February\", \"March\", \"April\", \"May\", \"June\", \"July\", \"August\", \"September\", \"October\", \"November\", \"December\"], \"line\": {\"color\": \"rgb(258,225,225)\", \"width\": 1.5}}, {\"name\": \"2014\", \"y\": [53.0, 51.0, 39.0, 37.0, 33.0, 43.0, 60.0, 69.0, 61.0, 54.0, 47.0, 52.0], \"mode\": \"lines+markers\", \"marker\": {\"color\": \"rgb(192,0,0)\", \"size\": 10}, \"x\": [\"January\", \"February\", \"March\", \"April\", \"May\", \"June\", \"July\", \"August\", \"September\", \"October\", \"November\", \"December\"], \"line\": {\"color\": \"rgb(258,225,225)\", \"width\": 1.5}}, {\"name\": \"2015\", \"y\": [55.0, 51.0, 46.0, 35.0, 36.0, 43.0, 50.0, 58.0, 56.0, 43.0, 48.0, 56.0], \"mode\": \"lines+markers\", \"marker\": {\"color\": \"rgb(192,0,0)\", \"size\": 10}, \"x\": [\"January\", \"February\", \"March\", \"April\", \"May\", \"June\", \"July\", \"August\", \"September\", \"October\", \"November\", \"December\"], \"line\": {\"color\": \"rgb(258,225,225)\", \"width\": 1.5}}, {\"name\": \"2016\", \"y\": [53.0, 53.0, 38.0, 35.0, 39.0, 46.0, 63.0, 91.0, 63.0, 49.0, 42.0, 59.0], \"mode\": \"lines+markers\", \"marker\": {\"color\": \"rgb(192,0,0)\", \"size\": 10}, \"x\": [\"January\", \"February\", \"March\", \"April\", \"May\", \"June\", \"July\", \"August\", \"September\", \"October\", \"November\", \"December\"], \"line\": {\"color\": \"rgb(258,225,225)\", \"width\": 1.5}}, {\"name\": \"2017\", \"y\": [61.0, 52.0, 36.0, 32.0, 46.0, 47.0, 70.0, 77.0, 58.0, 46.0, 47.0, 47.0], \"mode\": \"lines+markers\", \"marker\": {\"color\": \"rgb(192,0,0)\", \"size\": 10}, \"x\": [\"January\", \"February\", \"March\", \"April\", \"May\", \"June\", \"July\", \"August\", \"September\", \"October\", \"November\", \"December\"], \"line\": {\"color\": \"rgb(258,225,225)\", \"width\": 1.5}}], {\"title\": \"Rain fall differences\", \"xaxis\": {\"title\": \"Months\"}, \"yaxis\": {\"title\": \"mm\"}}, {\"linkText\": \"Export to plot.ly\", \"showLink\": true})});</script>"
      ],
      "text/vnd.plotly.v1+html": [
       "<div id=\"0fd0bf57-bd20-4df9-801f-854c9a780a15\" style=\"height: 525px; width: 100%;\" class=\"plotly-graph-div\"></div><script type=\"text/javascript\">require([\"plotly\"], function(Plotly) { window.PLOTLYENV=window.PLOTLYENV || {};window.PLOTLYENV.BASE_URL=\"https://plot.ly\";Plotly.newPlot(\"0fd0bf57-bd20-4df9-801f-854c9a780a15\", [{\"name\": \"2004\", \"y\": [58.0, 54.0, 40.0, 32.0, 26.0, 47.0, 57.0, 61.0, 60.0, 40.0, 48.0, 59.0], \"mode\": \"lines+markers\", \"marker\": {\"color\": \"rgb(192,0,0)\", \"size\": 10}, \"x\": [\"January\", \"February\", \"March\", \"April\", \"May\", \"June\", \"July\", \"August\", \"September\", \"October\", \"November\", \"December\"], \"line\": {\"color\": \"rgb(258,225,225)\", \"width\": 1.5}}, {\"name\": \"2005\", \"y\": [55.0, 50.0, 40.0, 34.0, 30.0, 45.0, 67.0, 66.0, 63.0, 44.0, 49.0, 52.0], \"mode\": \"lines+markers\", \"marker\": {\"color\": \"rgb(192,0,0)\", \"size\": 10}, \"x\": [\"January\", \"February\", \"March\", \"April\", \"May\", \"June\", \"July\", \"August\", \"September\", \"October\", \"November\", \"December\"], \"line\": {\"color\": \"rgb(258,225,225)\", \"width\": 1.5}}, {\"name\": \"2006\", \"y\": [51.0, 52.0, 39.0, 33.0, 41.0, 43.0, 58.0, 72.0, 61.0, 51.0, 48.0, 56.0], \"mode\": \"lines+markers\", \"marker\": {\"color\": \"rgb(192,0,0)\", \"size\": 10}, \"x\": [\"January\", \"February\", \"March\", \"April\", \"May\", \"June\", \"July\", \"August\", \"September\", \"October\", \"November\", \"December\"], \"line\": {\"color\": \"rgb(258,225,225)\", \"width\": 1.5}}, {\"name\": \"2007\", \"y\": [58.0, 50.0, 43.0, 33.0, 31.0, 50.0, 73.0, 68.0, 62.0, 46.0, 55.0, 60.0], \"mode\": \"lines+markers\", \"marker\": {\"color\": \"rgb(192,0,0)\", \"size\": 10}, \"x\": [\"January\", \"February\", \"March\", \"April\", \"May\", \"June\", \"July\", \"August\", \"September\", \"October\", \"November\", \"December\"], \"line\": {\"color\": \"rgb(258,225,225)\", \"width\": 1.5}}, {\"name\": \"2008\", \"y\": [62.0, 57.0, 35.0, 39.0, 32.0, 45.0, 58.0, 65.0, 59.0, 45.0, 46.0, 55.0], \"mode\": \"lines+markers\", \"marker\": {\"color\": \"rgb(192,0,0)\", \"size\": 10}, \"x\": [\"January\", \"February\", \"March\", \"April\", \"May\", \"June\", \"July\", \"August\", \"September\", \"October\", \"November\", \"December\"], \"line\": {\"color\": \"rgb(258,225,225)\", \"width\": 1.5}}, {\"name\": \"2009\", \"y\": [60.0, 54.0, 46.0, 24.0, 25.0, 37.0, 60.0, 61.0, 50.0, 34.0, 44.0, 53.0], \"mode\": \"lines+markers\", \"marker\": {\"color\": \"rgb(192,0,0)\", \"size\": 10}, \"x\": [\"January\", \"February\", \"March\", \"April\", \"May\", \"June\", \"July\", \"August\", \"September\", \"October\", \"November\", \"December\"], \"line\": {\"color\": \"rgb(258,225,225)\", \"width\": 1.5}}, {\"name\": \"2010\", \"y\": [54.0, 45.0, 31.0, 31.0, 32.0, 45.0, 62.0, 65.0, 62.0, 45.0, 43.0, 34.0], \"mode\": \"lines+markers\", \"marker\": {\"color\": \"rgb(192,0,0)\", \"size\": 10}, \"x\": [\"January\", \"February\", \"March\", \"April\", \"May\", \"June\", \"July\", \"August\", \"September\", \"October\", \"November\", \"December\"], \"line\": {\"color\": \"rgb(258,225,225)\", \"width\": 1.5}}, {\"name\": \"2011\", \"y\": [55.0, 51.0, 50.0, 36.0, 34.0, 43.0, 55.0, 63.0, 60.0, 41.0, 50.0, 55.0], \"mode\": \"lines+markers\", \"marker\": {\"color\": \"rgb(192,0,0)\", \"size\": 10}, \"x\": [\"January\", \"February\", \"March\", \"April\", \"May\", \"June\", \"July\", \"August\", \"September\", \"October\", \"November\", \"December\"], \"line\": {\"color\": \"rgb(258,225,225)\", \"width\": 1.5}}, {\"name\": \"2012\", \"y\": [51.0, 51.0, 46.0, 31.0, 33.0, 64.0, 61.0, 66.0, 58.0, 39.0, 47.0, 53.0], \"mode\": \"lines+markers\", \"marker\": {\"color\": \"rgb(192,0,0)\", \"size\": 10}, \"x\": [\"January\", \"February\", \"March\", \"April\", \"May\", \"June\", \"July\", \"August\", \"September\", \"October\", \"November\", \"December\"], \"line\": {\"color\": \"rgb(258,225,225)\", \"width\": 1.5}}, {\"name\": \"2013\", \"y\": [55.0, 53.0, 43.0, 36.0, 29.0, 43.0, 55.0, 72.0, 57.0, 47.0, 43.0, 51.0], \"mode\": \"lines+markers\", \"marker\": {\"color\": \"rgb(192,0,0)\", \"size\": 10}, \"x\": [\"January\", \"February\", \"March\", \"April\", \"May\", \"June\", \"July\", \"August\", \"September\", \"October\", \"November\", \"December\"], \"line\": {\"color\": \"rgb(258,225,225)\", \"width\": 1.5}}, {\"name\": \"2014\", \"y\": [53.0, 51.0, 39.0, 37.0, 33.0, 43.0, 60.0, 69.0, 61.0, 54.0, 47.0, 52.0], \"mode\": \"lines+markers\", \"marker\": {\"color\": \"rgb(192,0,0)\", \"size\": 10}, \"x\": [\"January\", \"February\", \"March\", \"April\", \"May\", \"June\", \"July\", \"August\", \"September\", \"October\", \"November\", \"December\"], \"line\": {\"color\": \"rgb(258,225,225)\", \"width\": 1.5}}, {\"name\": \"2015\", \"y\": [55.0, 51.0, 46.0, 35.0, 36.0, 43.0, 50.0, 58.0, 56.0, 43.0, 48.0, 56.0], \"mode\": \"lines+markers\", \"marker\": {\"color\": \"rgb(192,0,0)\", \"size\": 10}, \"x\": [\"January\", \"February\", \"March\", \"April\", \"May\", \"June\", \"July\", \"August\", \"September\", \"October\", \"November\", \"December\"], \"line\": {\"color\": \"rgb(258,225,225)\", \"width\": 1.5}}, {\"name\": \"2016\", \"y\": [53.0, 53.0, 38.0, 35.0, 39.0, 46.0, 63.0, 91.0, 63.0, 49.0, 42.0, 59.0], \"mode\": \"lines+markers\", \"marker\": {\"color\": \"rgb(192,0,0)\", \"size\": 10}, \"x\": [\"January\", \"February\", \"March\", \"April\", \"May\", \"June\", \"July\", \"August\", \"September\", \"October\", \"November\", \"December\"], \"line\": {\"color\": \"rgb(258,225,225)\", \"width\": 1.5}}, {\"name\": \"2017\", \"y\": [61.0, 52.0, 36.0, 32.0, 46.0, 47.0, 70.0, 77.0, 58.0, 46.0, 47.0, 47.0], \"mode\": \"lines+markers\", \"marker\": {\"color\": \"rgb(192,0,0)\", \"size\": 10}, \"x\": [\"January\", \"February\", \"March\", \"April\", \"May\", \"June\", \"July\", \"August\", \"September\", \"October\", \"November\", \"December\"], \"line\": {\"color\": \"rgb(258,225,225)\", \"width\": 1.5}}], {\"title\": \"Rain fall differences\", \"xaxis\": {\"title\": \"Months\"}, \"yaxis\": {\"title\": \"mm\"}}, {\"linkText\": \"Export to plot.ly\", \"showLink\": true})});</script>"
      ]
     },
     "metadata": {},
     "output_type": "display_data"
    }
   ],
   "source": [
    "old_humi = mean_years(df_rel_humi, 2004, 2013)\n",
    "new_humi = mean_years(df_rel_humi, 2014, 2017)\n",
    "\n",
    "#graph_lines([old_humi, new_humi], \"Relative humidity differences\", \"Months\", \"%\", [\"2004-2013\", \"2014-2017\"])\n",
    "years = range(2004, 2018)\n",
    "graphs = []\n",
    "legends = []\n",
    "for i in years:\n",
    "    graphs.append(mean_years(df_rel_humi, i, i))\n",
    "    legends.append(str(i))\n",
    "\n",
    "#graph_lines([old_rain, new_rain], \"Rain fall differences\", \"Months\", \"mm\", [\"2004-2013\", \"2014-2017\"])\n",
    "graph_lines(graphs, \"Rain fall differences\", \"Months\", \"mm\", legends)"
   ]
  }
 ],
 "metadata": {
  "kernelspec": {
   "display_name": "Python 2",
   "language": "python",
   "name": "python2"
  },
  "language_info": {
   "codemirror_mode": {
    "name": "ipython",
    "version": 2
   },
   "file_extension": ".py",
   "mimetype": "text/x-python",
   "name": "python",
   "nbconvert_exporter": "python",
   "pygments_lexer": "ipython2",
   "version": "2.7.12"
  }
 },
 "nbformat": 4,
 "nbformat_minor": 2
}
