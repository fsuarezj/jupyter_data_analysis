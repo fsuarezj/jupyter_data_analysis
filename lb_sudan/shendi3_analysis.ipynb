{
 "cells": [
  {
   "cell_type": "code",
   "execution_count": 1,
   "metadata": {},
   "outputs": [
    {
     "data": {
      "text/html": [
       "<script>requirejs.config({paths: { 'plotly': ['https://cdn.plot.ly/plotly-latest.min']},});if(!window.Plotly) {{require(['plotly'],function(plotly) {window.Plotly=plotly;});}}</script>"
      ],
      "text/vnd.plotly.v1+html": [
       "<script>requirejs.config({paths: { 'plotly': ['https://cdn.plot.ly/plotly-latest.min']},});if(!window.Plotly) {{require(['plotly'],function(plotly) {window.Plotly=plotly;});}}</script>"
      ]
     },
     "metadata": {},
     "output_type": "display_data"
    }
   ],
   "source": [
    "import pandas as pd\n",
    "import numpy as np\n",
    "import math\n",
    "\n",
    "from plotly.offline import download_plotlyjs, init_notebook_mode, plot, iplot\n",
    "import plotly.graph_objs as go\n",
    "import plotly.figure_factory as ff\n",
    "\n",
    "from IPython.display import display, HTML\n",
    "\n",
    "init_notebook_mode(connected=True)\n",
    "\n",
    "reg_survey_complete = pd.read_excel(\"Shendi_baseline_survey_for_CC_project_in_Sudan_results_20171224_utf8_villages_corregidas.xlsx\", encoding = 'utf_8')"
   ]
  },
  {
   "cell_type": "markdown",
   "metadata": {},
   "source": [
    "# <center>Baseline survey results for the locality of Shendi </center>\n",
    "### <center>*Climate Change and Livelihoods situation of 15 villages located in Shendi Locality, River Nile State*</center>"
   ]
  },
  {
   "cell_type": "code",
   "execution_count": 2,
   "metadata": {},
   "outputs": [
    {
     "data": {
      "text/html": [
       "<script>\n",
       "code_show=true; \n",
       "function code_toggle() {\n",
       " if (code_show){\n",
       " $('div.input').hide();\n",
       " } else {\n",
       " $('div.input').show();\n",
       " }\n",
       " code_show = !code_show\n",
       "} \n",
       "$( document ).ready(code_toggle);\n",
       "$( document ).ready(code_toggle);\n",
       "</script>\n",
       "The raw code for this IPython notebook is by default hidden for easier reading.\n",
       "To toggle on/off the raw code, click <a href=\"javascript:code_toggle()\">here</a>."
      ],
      "text/plain": [
       "<IPython.core.display.HTML object>"
      ]
     },
     "execution_count": 2,
     "metadata": {},
     "output_type": "execute_result"
    }
   ],
   "source": [
    "HTML('''<script>\n",
    "code_show=true; \n",
    "function code_toggle() {\n",
    " if (code_show){\n",
    " $('div.input').hide();\n",
    " } else {\n",
    " $('div.input').show();\n",
    " }\n",
    " code_show = !code_show\n",
    "} \n",
    "$( document ).ready(code_toggle);\n",
    "$( document ).ready(code_toggle);\n",
    "</script>\n",
    "The raw code for this IPython notebook is by default hidden for easier reading.\n",
    "To toggle on/off the raw code, click <a href=\"javascript:code_toggle()\">here</a>.''')\n",
    "\n",
    "#bc_wages.head()\n",
    "#reg_csv.info()\n",
    "#bc_wages.describe()"
   ]
  },
  {
   "cell_type": "code",
   "execution_count": 3,
   "metadata": {},
   "outputs": [],
   "source": [
    "# Functions\n",
    "\n",
    "# Get ocurrences of each value for a multiple_select field\n",
    "def get_ocurrences(df, column_name):\n",
    "    values_sums = df.groupby(column_name).size()\n",
    "    values_names = reduce(lambda x, y: x + y,map(lambda x: x.split(), values_sums.index.values))\n",
    "    result = pd.Series()\n",
    "    for i in values_names:\n",
    "        result[i] = values_sums.loc[[i in idx for idx in values_sums.index]].sum()\n",
    "    return result\n",
    "\n",
    "def get_percentiles_values(sorted_serie, percentiles):\n",
    "    if len(percentiles) == 0:\n",
    "        return []\n",
    "    else:\n",
    "        quantity = sorted_serie.sum() * percentiles[0]\n",
    "        for i in sorted_serie.index:\n",
    "            if sorted_serie[i] >= quantity:\n",
    "                return [i] + get_percentiles_values(sorted_serie, percentiles[1:])\n",
    "            else:\n",
    "                quantity -= sorted_serie[i]\n",
    "\n",
    "def get_percentiles(sorted_serie, values):\n",
    "    if len(values) == 0:\n",
    "        return []\n",
    "    else:\n",
    "        result = 0\n",
    "        for i in sorted_serie.index:\n",
    "            if values[0] == i:\n",
    "                return [float(result + sorted_serie[i]) / sorted_serie.sum()] + get_percentiles(sorted_serie, values[1:])\n",
    "            elif values[0] < i:\n",
    "                return [float(result) / sorted_serie.sum()] + get_percentiles(sorted_serie, values[1:])\n",
    "            else:\n",
    "                result += sorted_serie[i]\n",
    "        return [1]"
   ]
  },
  {
   "cell_type": "code",
   "execution_count": 4,
   "metadata": {},
   "outputs": [],
   "source": [
    "## File preprocessing\n",
    "#Deleting 'demography:', 'house_assets:', 'incomes:', 'climate_change:' and those prefix which not provide useful info.\n",
    "\n",
    "col_names = reg_survey_complete.columns\n",
    "col_names = col_names.map(lambda x: x[11:] if x.startswith(\"demography:\") else x)\n",
    "col_names = col_names.map(lambda x: x[19:] if x.startswith(\"responding_section:\") else x)\n",
    "col_names = col_names.map(lambda x: x[20:] if x.startswith(\"responding_section2:\") else x)\n",
    "col_names = col_names.map(lambda x: x[13:] if x.startswith(\"house_assets:\") else x)\n",
    "col_names = col_names.map(lambda x: x[8:] if x.startswith(\"incomes:\") else x)\n",
    "col_names = col_names.map(lambda x: x[15:] if x.startswith(\"climate_change:\") else x)\n",
    "col_names = col_names.map(lambda x: x[11:] if x.startswith(\"intro_data:\") else x)\n",
    "col_names = col_names.map(lambda x: x[:11] + x[16:] if x.startswith(\"respondant_page:\") else x)\n",
    "col_names = col_names.map(lambda x: x[16:] if x.startswith(\"general_hh_data:\") else x)\n",
    "col_names = col_names.map(lambda x: x[6:] if x.startswith(\"males:\") else x)\n",
    "col_names = col_names.map(lambda x: x[8:] if x.startswith(\"females:\") else x)\n",
    "col_names = col_names.map(lambda x: x[11:] if x.startswith(\"importance:\") else x)\n",
    "col_names = col_names.map(lambda x: x[19:] if x.startswith(\"percentage_incomes:\") else x)\n",
    "col_names = col_names.map(lambda x: x[:10] + x[16:] if x.startswith(\"agri_gard:agri\") else x)\n",
    "col_names = col_names.map(lambda x: x[:10] + x[20:] if x.startswith(\"livestock:livestock_\") else x)\n",
    "col_names = col_names.map(lambda x: x[:10] + x[21:] if x.startswith(\"livestock:livestock\") else x)\n",
    "col_names = col_names.map(lambda x: x[:8] + x[17:] if x.startswith(\"fishing:fishing\") else x)\n",
    "col_names = col_names.map(lambda x: x[:7] + x[15:] if x.startswith(\"labour:labour\") else x)\n",
    "col_names = col_names.map(lambda x: x[:7] + x[14:] if x.startswith(\"labour:labour\") else x)\n",
    "col_names = col_names.map(lambda x: x[:12] + x[25:] if x.startswith(\"handicrafts:handicrafts\") else x)\n",
    "col_names = col_names.map(lambda x: x[:9] + x[19:] if x.startswith(\"forestry:forestry\") else x)\n",
    "col_names = col_names.map(lambda x: x[:6] + x[13:] if x.startswith(\"other:other\") else x)\n",
    "col_names = col_names.map(lambda x: x[7:] if x.startswith(\"coping:\") else x)\n",
    "col_names = col_names.map(lambda x: x[4:] if x.startswith((\"cc1:\", \"cc2:\", \"cc3:\", \"ews:\")) else x)\n",
    "col_names = col_names.map(lambda x: x[10:] if x.startswith(\"renewable:\") else x)\n",
    "col_names = col_names.map(lambda x: x[12:] if x.startswith(\"agriculture_cc_effects:\") else x)\n",
    "col_names = col_names.map(lambda x: x[10:] if x.startswith(\"livestock_cc_effects:\") else x)"
   ]
  },
  {
   "cell_type": "code",
   "execution_count": 5,
   "metadata": {},
   "outputs": [
    {
     "name": "stdout",
     "output_type": "stream",
     "text": [
      "[u'deviceid' u'surveyor_name' u'number' u'village'\n",
      " u'geocoordinates_Latitude' u'geocoordinates_Longitude'\n",
      " u'geocoordinates_Altitude' u'geocoordinates_Accuracy' u'respondant_gender'\n",
      " u'respondant_age' u'respondant_marital_status' u'respondant_head_hh'\n",
      " u'education' u'handicapped_member' u'number_wifes' u'number_wifes_aux'\n",
      " u'male_infant' u'male_child' u'male_child_school' u'male_teenager'\n",
      " u'male_teenager_school' u'male_adult' u'male_elderly' u'female_infant'\n",
      " u'female_child' u'female_child_school' u'female_teenager'\n",
      " u'female_teenager_school' u'female_adult' u'female_elderly'\n",
      " u'family_males' u'family_females' u'family_total' u'family_confirm'\n",
      " u'house_material' u'belongings' u'kitchen_type' u'src_incomes' u'imp_agri'\n",
      " u'imp_garden' u'imp_livestock' u'imp_fishing' u'imp_labour'\n",
      " u'imp_forestry' u'imp_handcrafts' u'imp_other' u'perc_incomes_agri'\n",
      " u'perc_incomes_garden' u'perc_incomes_livestock' u'perc_incomes_fishing'\n",
      " u'perc_incomes_labour' u'perc_incomes_forestry' u'perc_incomes_handcrafts'\n",
      " u'perc_incomes_other' u'agri_gard_ackno_agri' u'agri_gard_land_property'\n",
      " u'agri_gard_land_unit' u'agri_gard_land_quantity'\n",
      " u'agri_gard_use_quantity' u'agri_gard_protected_farmlands'\n",
      " u'agri_gard_water_harv_farmlands' u'agri_gard_members_involved'\n",
      " u'agri_gard_participants' u'agri_gard_training'\n",
      " u'agri_gard_activity_support' u'agri_gard_farm_tools'\n",
      " u'agri_gard_farm_tech' u'agri_gard_seeds' u'agri_gard_seller_member'\n",
      " u'agri_gard_agri_crops' u'livestock_ackno_livestock'\n",
      " u'livestock_members_involved' u'livestock_participants'\n",
      " u'livestock_training' u'livestock_activity_support' u'livestock_type'\n",
      " u'livestock_number_cattle' u'livestock_last_year_cattle'\n",
      " u'livestock_number_goat' u'livestock_last_year_goat'\n",
      " u'livestock_number_sheep' u'livestock_last_year_sheep'\n",
      " u'livestock_number_camel' u'livestock_last_year_camel'\n",
      " u'livestock_number_chicken' u'livestock_last_year_chicken'\n",
      " u'livestock_selling' u'livestock_social' u'livestock_milk'\n",
      " u'livestock_meat' u'livestock_savings' u'livestock_seller_member'\n",
      " u'livestock_fodder_fed' u'fishing_ackno_fishing'\n",
      " u'fishing_members_involved' u'fishing_participants' u'fishing_training'\n",
      " u'fishing_activity_support' u'fishing_annual_incomes'\n",
      " u'fishing_seller_member' u'fishing_boats_property' u'labour_ackno_labour'\n",
      " u'labour_participants' u'labour_training' u'labour_employment_type'\n",
      " u'labour_sector' u'labour_work_term' u'labour_working_months'\n",
      " u'labour_daily_salary' u'labour_annual_incomes' u'labour_worker_member'\n",
      " u'labour_insurances' u'handicrafts_ackno_handicrafts'\n",
      " u'handicrafts_participants' u'handicrafts_training'\n",
      " u'handicrafts_activity_support' u'handicrafts_annual_incomes'\n",
      " u'handicrafts_working_months' u'forestry_ackno_forestry'\n",
      " u'forestry_participants' u'forestry_training' u'forestry_activity_support'\n",
      " u'forestry_land_property' u'forestry_land_quantity'\n",
      " u'forestry_forestry_type' u'forestry_seller_member' u'other_ackno_other'\n",
      " u'other_participants' u'other_training' u'other_training_type'\n",
      " u'other_seller_member' u'coping_strat' u'other_cop_strat' u'cc_knowledge'\n",
      " u'cc_impacts' u'affected_by_cc' u'taking_action_cc' u'taken_actions_cc'\n",
      " u'no_action_cc' u'changed_rainy_season' u'normal_rainy_season'\n",
      " u'last_year_rainy_season' u'temps_change' u'sand_movements'\n",
      " u'water_availability' u'ews_knowledge' u'ews_type' u'useful_ews'\n",
      " u'use_ews' u'renewable_knowledge' u'solar_energy'\n",
      " u'cc_effects_changed_production' u'cc_effects_adaptation_techniques'\n",
      " u'cc_effects_explain_new_techs' u'cc_effects_sand_affected_farmlands'\n",
      " u'cc_effects_grassland_availability' u'cc_effects_fodder_availability'\n",
      " u'cc_effects_fodder_prices' u'cc_effects_water_availability'\n",
      " u'meta_instanceID']\n"
     ]
    }
   ],
   "source": [
    "# Replace ':' with '_' for compatibility reasons.\n",
    "col_names = col_names.map(lambda x: x[:14] + '_' + x[15:] if x.startswith(\"geocoordinates:\") else x)\n",
    "col_names = col_names.map(lambda x: x[:9] + '_' + x[10:] if x.startswith(\"agri_gard:\") else x)\n",
    "col_names = col_names.map(lambda x: x[:9] + '_' + x[10:] if x.startswith(\"livestock:\") else x)\n",
    "col_names = col_names.map(lambda x: x[:7] + '_' + x[8:] if x.startswith(\"fishing:\") else x)\n",
    "col_names = col_names.map(lambda x: x[:6] + '_' + x[7:] if x.startswith(\"labour:\") else x)\n",
    "col_names = col_names.map(lambda x: x[:11] + '_' + x[12:] if x.startswith(\"handicrafts:\") else x)\n",
    "col_names = col_names.map(lambda x: x[:8] + '_' + x[9:] if x.startswith(\"forestry:\") else x)\n",
    "col_names = col_names.map(lambda x: x[:5] + '_' + x[6:] if x.startswith(\"other:\") else x)\n",
    "col_names = col_names.map(lambda x: x[:10] + '_' + x[11:] if x.startswith(\"cc_effects:\") else x)\n",
    "col_names = col_names.map(lambda x: x[:4] + '_' + x[5:] if x.startswith(\"meta:\") else x)\n",
    "\n",
    "col_names = col_names.map(lambda x: 'livestock_lost_goat' if x == 'livestock_lost_goats' else x)\n",
    "\n",
    "print col_names.values\n",
    "\n",
    "reg_survey_complete.columns = col_names"
   ]
  },
  {
   "cell_type": "code",
   "execution_count": 6,
   "metadata": {},
   "outputs": [],
   "source": [
    "# Processing NaN and void values\n",
    "\n",
    "values = {\n",
    "    'respondant_marital_status': 'no_answer',\n",
    "    'house_material': 'no_answer',\n",
    "    'kitchen_type': 'no_answer',\n",
    "    'src_incomes': 'none',\n",
    "    'use_ews': 'no_answer',\n",
    "    'renewable_knowledge': 'no_answer',\n",
    "    'solar_energy': 'no_answer',\n",
    "    'livestock_selling': 'no_answer',\n",
    "    'livestock_social': 'no_answer',\n",
    "    'livestock_milk': 'no_answer',\n",
    "    'livestock_meat': 'no_answer',\n",
    "    'livestock_savings': 'no_answer',\n",
    "    'livestock_number_goat': 0,\n",
    "    'livestock_number_sheep': 0,\n",
    "    'livestock_number_camel': 0,\n",
    "    'livestock_number_cattle': 0,\n",
    "    'livestock_number_chicken': 0,\n",
    "    'labour_participants': 'no_answer',\n",
    "    'labour_sector': '',\n",
    "    'agri_gard_water_harv_farmlands': 0,\n",
    "    'agri_gard_land_quantity': 0,\n",
    "    'cc_effects_sand_affected_farmlands': 0\n",
    "}\n",
    "reg_survey_complete.fillna(value=values, inplace=True)"
   ]
  },
  {
   "cell_type": "code",
   "execution_count": 7,
   "metadata": {},
   "outputs": [
    {
     "name": "stdout",
     "output_type": "stream",
     "text": [
      "{'ar': {1.0: u'\\u0627\\u0644\\u0628\\u0648\\u0627\\u0644\\u064a\\u062f \\u0627\\u0644\\u0633\\u062a\\u064a\\u0631', 2.0: u'\\u0628\\u0626\\u0631 \\u0627\\u0644\\u0634\\u064a\\u0646', 3.0: u'\\u0627\\u0644\\u0642\\u0647\\u064a\\u062f \\u0627\\u0644\\u062e\\u0644\\u0648\\u0627\\u062a', 4.0: u'\\u0628\\u0626\\u0631 \\u0627\\u0644\\u064a\\u0630\\u064a\\u062f', 5.0: u'\\u0627\\u0645 \\u0633\\u0643\\u0631\\u0629', 6.0: u'\\u0627\\u0645 \\u0639\\u0634\\u064a\\u0631\\u0629 \\u0627\\u0644\\u063a\\u0631\\u0628\\u064a\\u0629', 7.0: u'\\u0627\\u0645 \\u0639\\u0634\\u064a\\u0631\\u0629 \\u0627\\u0644\\u0634\\u0631\\u0642\\u064a\\u0629', 8.0: u'\\u0628\\u0626\\u0631 \\u0627\\u0644\\u0633\\u0642\\u064a\\u062f\\u064a ', 9.0: u'\\u0628\\u0626\\u0631 \\u0627\\u0644\\u0633\\u0644\\u0645\\u0627\\u0646\\u064a\\u0629', 10.0: u'\\u0628\\u0626\\u0631 \\u0627\\u0644\\u0641\\u0642\\u064a\\u0631\\u0629 ', 11.0: u'\\u0628\\u0626\\u0631 \\u0628\\u0643\\u0648\\u0631\\u064a', 12.0: u'\\u0628\\u0626\\u0631 \\u0648\\u062f \\u0642\\u062f\\u064a\\u0645', 13.0: u'\\u0634\\u0631\\u064a\\u0634\\u0629', 14.0: u'\\u0643\\u0648\\u0639 \\u0627\\u0644\\u0633\\u0631\\u064a\\u062d', 15.0: u'\\u0648\\u0627\\u062f\\u064a \\u0627\\u0644\\u062f\\u0627\\u0646'}, 'en': {1.0: u'Elbwaleed Elsetayer', 2.0: u'Bir Elsheen', 3.0: u'Elgiheed Elkhalwat', 4.0: u'Bir Elyased W & E', 5.0: u'Om Sokara', 6.0: u'Om Esheera west', 7.0: u'Om Esheera east', 8.0: u'Bir Elsegedi', 9.0: u'Bir Elselemaniya', 10.0: u'Bir Elfageera', 11.0: u'Bir Bakori', 12.0: u'Bir Wad Gadeem', 13.0: u'Shiresha', 14.0: u'Koa Elsereh', 15.0: u'Wadi Eldan'}}\n"
     ]
    }
   ],
   "source": [
    "# Creating villages dict\n",
    "villages = reg_survey_complete['village'].unique()\n",
    "villages_table = pd.read_excel(\"villages_shendi.xlsx\")\n",
    "# Villages dictionary\n",
    "villages_dict = dict()\n",
    "#villages_dict['ar'] = villages_table.set_index('survey_code').to_dict()['Arabic name']\n",
    "ar_dict = villages_table.set_index('survey_code').to_dict()['Arabic name']\n",
    "keys = filter(lambda k: not math.isnan(k), ar_dict)\n",
    "aux = {}\n",
    "for i in keys:\n",
    "    aux[i] = ar_dict[i]\n",
    "villages_dict['ar'] = aux\n",
    "en_dict = villages_table.set_index('survey_code').to_dict()['English transcription']\n",
    "keys = filter(lambda k: not math.isnan(k), en_dict)\n",
    "aux = {}\n",
    "for i in keys:\n",
    "    aux[i] = en_dict[i]\n",
    "villages_dict['en'] = aux\n",
    "#print repr(villages_dict).decode('unicode_escape')\n",
    "print villages_dict\n",
    "def reverse_dict(dic, a):\n",
    "    for i in dic.keys():\n",
    "        if dic[i] == a:\n",
    "            return i\n",
    "    return float('nan')\n",
    "reg_survey_complete['village'] = reg_survey_complete.village.map((lambda x: villages_dict['en'][reverse_dict(villages_dict['ar'], x)]))\n"
   ]
  },
  {
   "cell_type": "code",
   "execution_count": 8,
   "metadata": {},
   "outputs": [],
   "source": [
    "# For answered surveys\n",
    "#reg_survey = reg_survey_complete.loc[reg_survey_complete['responding'].str.match('yes')].copy()\n",
    "reg_survey = reg_survey_complete.copy()"
   ]
  },
  {
   "cell_type": "code",
   "execution_count": 9,
   "metadata": {},
   "outputs": [],
   "source": [
    "# Creating num of LH strategies\n",
    "reg_survey['num_lh_strats'] = reg_survey['src_incomes'].map(lambda x: len(x.split()))"
   ]
  },
  {
   "cell_type": "code",
   "execution_count": 10,
   "metadata": {},
   "outputs": [],
   "source": [
    "# Separate male and female\n",
    "reg_survey_male = reg_survey.loc[reg_survey['respondant_gender'].str.match('male')].copy()\n",
    "reg_survey_female = reg_survey.loc[reg_survey['respondant_gender'].str.match('female')].copy()"
   ]
  },
  {
   "cell_type": "code",
   "execution_count": 11,
   "metadata": {},
   "outputs": [
    {
     "name": "stdout",
     "output_type": "stream",
     "text": [
      "55\n"
     ]
    }
   ],
   "source": [
    "## Separate per HoHH gender\n",
    "\n",
    "def cuantos(df):\n",
    "    print df['deviceid'].count()\n",
    "\n",
    "# Respondent is HH\n",
    "reg_survey['married'] = reg_survey['respondant_marital_status'].str.match('married')\n",
    "# Females HoHH\n",
    "reg_survey_female_head = reg_survey[reg_survey['respondant_gender'].str.match('female') &\n",
    "                                      reg_survey['respondant_head_hh'].str.match('yes')].copy()\n",
    "cuantos(reg_survey_female_head)\n",
    "# Females noHoHH\n",
    "reg_survey_female_no_head = reg_survey[reg_survey['respondant_gender'].str.match('female') &\n",
    "                                      reg_survey['respondant_head_hh'].str.match('no')].copy()\n",
    "\n",
    "# Males HoHH + Female noHoHH married\n",
    "reg_survey_male_head = reg_survey[reg_survey['respondant_gender'].str.match('male') &\n",
    "                                      reg_survey['respondant_head_hh'].str.match('yes')].copy()\n",
    "\n",
    "# 0\n",
    "reg_survey_male_no_head = reg_survey[reg_survey['respondant_gender'].str.match('male') &\n",
    "                                      reg_survey['respondant_head_hh'].str.match('no')].copy()\n",
    "\n",
    "reg_survey_male_head = pd.concat([reg_survey_male_head,\n",
    "                                  reg_survey_female_no_head[reg_survey_female_no_head['married']]])\n",
    "\n",
    "# Add females nHoHH nM with male_adult to male_head\n",
    "reg_survey_female_nHoHH_nM = reg_survey_female_no_head[~reg_survey_female_no_head['married']]\n",
    "reg_survey_male_head = pd.concat([reg_survey_male_head,\n",
    "                                  reg_survey_female_nHoHH_nM[reg_survey_female_nHoHH_nM['male_adult'] > 0]])\n",
    "\n",
    "# Add females nHoHH nM without male_adult to female_head\n",
    "reg_survey_female_head = pd.concat([reg_survey_female_head,\n",
    "                                    reg_survey_female_nHoHH_nM[reg_survey_female_nHoHH_nM['male_adult'] == 0]])\n",
    "\n",
    "# Add males nHoHH with male_adult to male_head\n",
    "reg_survey_male_nHoHH = reg_survey[reg_survey['respondant_gender'].str.match('male') &\n",
    "                                      reg_survey['respondant_head_hh'].str.match('no')].copy()\n",
    "reg_survey_maleHoHH = pd.concat([reg_survey_male_head,\n",
    "                                  reg_survey_male_nHoHH[reg_survey_male_nHoHH['male_adult'] > 0]])\n",
    "\n",
    "# Add females nHoHH with male_adult to female_head\n",
    "reg_survey_femHoHH = pd.concat([reg_survey_female_head,\n",
    "                                  reg_survey_male_nHoHH[reg_survey_male_nHoHH['male_adult'] == 0]])\n"
   ]
  },
  {
   "cell_type": "code",
   "execution_count": 12,
   "metadata": {},
   "outputs": [
    {
     "data": {
      "application/vnd.plotly.v1+json": {
       "data": [
        {
         "labels": [
          "Female HoHH",
          "Male HoHH"
         ],
         "sort": false,
         "type": "pie",
         "values": [
          60,
          157
         ]
        }
       ],
       "layout": {
        "title": "Households according to the gender of the HoHH"
       }
      },
      "text/html": [
       "<div id=\"ffc277d5-0970-49ce-aeee-611e6d2c27cd\" style=\"height: 525px; width: 100%;\" class=\"plotly-graph-div\"></div><script type=\"text/javascript\">require([\"plotly\"], function(Plotly) { window.PLOTLYENV=window.PLOTLYENV || {};window.PLOTLYENV.BASE_URL=\"https://plot.ly\";Plotly.newPlot(\"ffc277d5-0970-49ce-aeee-611e6d2c27cd\", [{\"sort\": false, \"values\": [60, 157], \"labels\": [\"Female HoHH\", \"Male HoHH\"], \"type\": \"pie\"}], {\"title\": \"Households according to the gender of the HoHH\"}, {\"linkText\": \"Export to plot.ly\", \"showLink\": true})});</script>"
      ],
      "text/vnd.plotly.v1+html": [
       "<div id=\"ffc277d5-0970-49ce-aeee-611e6d2c27cd\" style=\"height: 525px; width: 100%;\" class=\"plotly-graph-div\"></div><script type=\"text/javascript\">require([\"plotly\"], function(Plotly) { window.PLOTLYENV=window.PLOTLYENV || {};window.PLOTLYENV.BASE_URL=\"https://plot.ly\";Plotly.newPlot(\"ffc277d5-0970-49ce-aeee-611e6d2c27cd\", [{\"sort\": false, \"values\": [60, 157], \"labels\": [\"Female HoHH\", \"Male HoHH\"], \"type\": \"pie\"}], {\"title\": \"Households according to the gender of the HoHH\"}, {\"linkText\": \"Export to plot.ly\", \"showLink\": true})});</script>"
      ]
     },
     "metadata": {},
     "output_type": "display_data"
    }
   ],
   "source": [
    "HoHH = {}\n",
    "HoHH['Male HoHH'] = reg_survey_maleHoHH['deviceid'].count()\n",
    "HoHH['Female HoHH'] = reg_survey_femHoHH['deviceid'].count()\n",
    "\n",
    "HoHH = pd.Series(HoHH)\n",
    "\n",
    "fig = {\n",
    "    \"layout\": {\n",
    "        \"title\": \"Households according to the gender of the HoHH\"\n",
    "    },\n",
    "    \"data\": [\n",
    "        {\n",
    "            \"values\": HoHH.values,\n",
    "            \"labels\": HoHH.index.values,\n",
    "            \"type\": \"pie\",\n",
    "            \"sort\": False\n",
    "        }\n",
    "    ]\n",
    "}\n",
    "\n",
    "iplot(fig)"
   ]
  },
  {
   "cell_type": "code",
   "execution_count": 13,
   "metadata": {},
   "outputs": [
    {
     "name": "stdout",
     "output_type": "stream",
     "text": [
      "217\n"
     ]
    },
    {
     "data": {
      "application/vnd.plotly.v1+json": {
       "data": [
        {
         "labels": [
          "yes",
          "no"
         ],
         "sort": false,
         "type": "pie",
         "values": [
          36,
          179
         ]
        }
       ],
       "layout": {
        "title": "Households with handicapped members"
       }
      },
      "text/html": [
       "<div id=\"bd810a5e-eabd-4daf-a564-37e9b5802f7a\" style=\"height: 525px; width: 100%;\" class=\"plotly-graph-div\"></div><script type=\"text/javascript\">require([\"plotly\"], function(Plotly) { window.PLOTLYENV=window.PLOTLYENV || {};window.PLOTLYENV.BASE_URL=\"https://plot.ly\";Plotly.newPlot(\"bd810a5e-eabd-4daf-a564-37e9b5802f7a\", [{\"sort\": false, \"values\": [36, 179], \"labels\": [\"yes\", \"no\"], \"type\": \"pie\"}], {\"title\": \"Households with handicapped members\"}, {\"linkText\": \"Export to plot.ly\", \"showLink\": true})});</script>"
      ],
      "text/vnd.plotly.v1+html": [
       "<div id=\"bd810a5e-eabd-4daf-a564-37e9b5802f7a\" style=\"height: 525px; width: 100%;\" class=\"plotly-graph-div\"></div><script type=\"text/javascript\">require([\"plotly\"], function(Plotly) { window.PLOTLYENV=window.PLOTLYENV || {};window.PLOTLYENV.BASE_URL=\"https://plot.ly\";Plotly.newPlot(\"bd810a5e-eabd-4daf-a564-37e9b5802f7a\", [{\"sort\": false, \"values\": [36, 179], \"labels\": [\"yes\", \"no\"], \"type\": \"pie\"}], {\"title\": \"Households with handicapped members\"}, {\"linkText\": \"Export to plot.ly\", \"showLink\": true})});</script>"
      ]
     },
     "metadata": {},
     "output_type": "display_data"
    }
   ],
   "source": [
    "reg_survey_hand_yes = reg_survey.loc[reg_survey.handicapped_member == 'yes'].copy()\n",
    "reg_survey_hand_no = reg_survey.loc[reg_survey.handicapped_member == 'no'].copy()\n",
    "print reg_survey['deviceid'].count()\n",
    "yes_no_number = [reg_survey_hand_yes['deviceid'].count(), reg_survey_hand_no['deviceid'].count()]\n",
    "yes_no_values = ['yes', 'no']\n",
    "\n",
    "fig = {\n",
    "    \"layout\": {\n",
    "        \"title\": \"Households with handicapped members\"\n",
    "    },\n",
    "    \"data\": [\n",
    "        {\n",
    "            \"values\": yes_no_number,\n",
    "            \"labels\": yes_no_values,\n",
    "            \"type\": \"pie\",\n",
    "            \"sort\": False\n",
    "        }\n",
    "    ]\n",
    "}\n",
    "\n",
    "iplot(fig)"
   ]
  },
  {
   "cell_type": "code",
   "execution_count": 14,
   "metadata": {},
   "outputs": [],
   "source": [
    "def create_graphs_HoHH(data_func, values_func, labels_func, sum_func, title):\n",
    "    create_three_pie_graphs((reg_survey_femHoHH, reg_survey, reg_survey_maleHoHH), data_func, values_func,\n",
    "                            labels_func, sum_func, title,\n",
    "                            \"Female Head of Household\", .04,\n",
    "                            \"Global\", .5,\n",
    "                            \"Male Head of Household\", .94)\n",
    "\n",
    "def create_graphs_respondent(data_func, values_func, labels_func, sum_func, title):\n",
    "    create_three_pie_graphs((reg_survey_female, reg_survey, reg_survey_male), data_func, values_func,\n",
    "                            labels_func, sum_func, title,\n",
    "                            \"Female Respondent\", .07,\n",
    "                            \"Global\", .5,\n",
    "                            \"Male Respondent\", .91)\n",
    "\n",
    "def create_pie_graph(serie, title):\n",
    "    fig = {\n",
    "        \"layout\": {\n",
    "            \"title\": title\n",
    "        },\n",
    "        \"data\": [\n",
    "            {\n",
    "                \"values\": serie.values,\n",
    "                \"labels\": serie.index.values,\n",
    "                \"type\": \"pie\",\n",
    "                \"sort\": False\n",
    "            }\n",
    "        ]\n",
    "    }\n",
    "\n",
    "    iplot(fig)\n",
    "    \n",
    "    \n",
    "def create_three_pie_graphs((df1, df2, df3), data_func, values_func,\n",
    "                            labels_func, sum_func, title,\n",
    "                            title1, title1_x_offset,\n",
    "                            title2, title2_x_offset,\n",
    "                            title3, title3_x_offset):\n",
    "    data_fem = data_func(df1)\n",
    "    data_global = data_func(df2)\n",
    "    data_male = data_func(df3)\n",
    "\n",
    "    fig = {\n",
    "        \"layout\": {\n",
    "            \"title\": title,\n",
    "            \"annotations\": [\n",
    "                {\n",
    "                    \"font\": {\n",
    "                        \"size\": 14\n",
    "                    },\n",
    "                    \"showarrow\": False,\n",
    "                    #\"text\": title1 + \" (\" + str(sum_func(data_fem)) + \")\",\n",
    "                    \"text\": title1,\n",
    "                    \"x\": title1_x_offset,\n",
    "                    \"y\": 1\n",
    "                },\n",
    "                {\n",
    "                    \"font\": {\n",
    "                        \"size\": 14\n",
    "                    },\n",
    "                    \"showarrow\": False,\n",
    "                    #\"text\": title2 + \" (\" + str(sum_func(data_global)) + \")\",\n",
    "                    \"text\": title2,\n",
    "                    \"x\": title2_x_offset,\n",
    "                    \"y\": 1\n",
    "                },\n",
    "                {\n",
    "                    \"font\": {\n",
    "                        \"size\": 14\n",
    "                    },\n",
    "                    \"showarrow\": False,\n",
    "                    #\"text\": title3 + \" (\" + str(sum_func(data_male)) + \")\",\n",
    "                    \"text\": title3,\n",
    "                    \"x\": title3_x_offset,\n",
    "                    \"y\": 1\n",
    "                }\n",
    "            ]\n",
    "        },\n",
    "        \"data\": [\n",
    "            {\n",
    "                \"values\": values_func(data_fem),\n",
    "                \"labels\": labels_func(data_fem),\n",
    "                \"domain\": {\n",
    "                    \"x\": [0, .32]\n",
    "                },\n",
    "                \"type\": \"pie\",\n",
    "                \"sort\": False\n",
    "            },\n",
    "            {\n",
    "                \"values\": values_func(data_global),\n",
    "                \"labels\": labels_func(data_global),\n",
    "                \"domain\": {\n",
    "                    \"x\": [.34, .64]\n",
    "                },\n",
    "                \"type\": \"pie\",\n",
    "                \"sort\": False\n",
    "            },\n",
    "            {\n",
    "                \"values\": values_func(data_male),\n",
    "                \"labels\": labels_func(data_male),\n",
    "                \"domain\": {\n",
    "                    \"x\": [.66, .98]\n",
    "                },\n",
    "                \"type\": \"pie\",\n",
    "                \"sort\": False\n",
    "            }\n",
    "        ]\n",
    "    }\n",
    "\n",
    "    iplot(fig)\n",
    "\n",
    "def create_stacked_bars_graph((df1, df2), data_func, x_func, y_func, title,\n",
    "                              title_df1, title_df2):\n",
    "    data_global = data_func(pd.concat([df1, df2]))\n",
    "    data_fem = data_func(df1)\n",
    "    data_male = data_func(df2)\n",
    "\n",
    "    fig = {\n",
    "        \"layout\": {\n",
    "            \"title\": title,\n",
    "            \"xaxis\": {\n",
    "                \"tickangle\": -45\n",
    "            },\n",
    "            \"barmode\": \"stack\",\n",
    "            \"width\": 700,\n",
    "            \"annotations\": []\n",
    "        },\n",
    "        \"data\": [\n",
    "            {\n",
    "                \"x\": x_func(data_fem),\n",
    "                \"y\": y_func(data_fem),\n",
    "                \"type\": \"bar\",\n",
    "                \"name\": title_df1,\n",
    "                \"marker\": {\n",
    "                    \"color\": 'rgb(225,225,258)',\n",
    "                    \"line\": {\n",
    "                        \"color\": 'rgb(0,0,192)',\n",
    "                        \"width\": 1.5\n",
    "                    }\n",
    "                },\n",
    "            },\n",
    "            {\n",
    "                \"x\": x_func(data_male),\n",
    "                \"y\": y_func(data_male),\n",
    "                \"type\": \"bar\",\n",
    "                \"name\": title_df2,\n",
    "                \"marker\": {\n",
    "                    \"color\": 'rgb(258,225,225)',\n",
    "                    \"line\": {\n",
    "                        \"color\": 'rgb(192,0,0)',\n",
    "                        \"width\": 1.5\n",
    "                    }\n",
    "                },\n",
    "            }\n",
    "        \n",
    "        ]\n",
    "    }\n",
    "\n",
    "\n",
    "#    for i in range(0, len(kitchen_type)):\n",
    "#        fig[\"layout\"][\"annotations\"].append(\n",
    "#            {\n",
    "#                 \"x\": map(lambda x: x.capitalize(), kitchen_perc.index.values)[i],\n",
    "#                 \"y\": kitchen_perc.values[i] + 1.5,\n",
    "#                \"x\": pd.concat([df1, df2])[i],\n",
    "#                \"y\": y_func(data_global)[i] + 1.5,\n",
    "#                \"text\": str(data_global.values[i]) + \"%\",\n",
    "#                \"font\": dict(\n",
    "#                    family='Arial',\n",
    "#                    size=14,\n",
    "#                    color='rgba(0, 0, 100, 1)'\n",
    "#                ),\n",
    "#                \"showarrow\": False,\n",
    "#    \n",
    "#            }\n",
    "#        )\n",
    "#\n",
    "#\n",
    "    iplot(fig)\n",
    "    \n",
    "\n",
    "def plot_wealth_criteria(groupby_data, values, title):\n",
    "    groupby_data = groupby_data * 100 / groupby_data.sum()\n",
    "    poor = groupby_data[groupby_data.index <= values[0]]\n",
    "    medium = groupby_data[groupby_data.index > values[0]]\n",
    "    medium = medium[medium.index <= values[1]]\n",
    "    rich = groupby_data[groupby_data.index > values[1]]\n",
    "    rich = rich[rich.index <= values[2]]\n",
    "    print medium\n",
    "    \n",
    "    fig_distribution = {\n",
    "        \"layout\": {\n",
    "            \"title\": title,\n",
    "            \"yaxis\": {\n",
    "                \"ticksuffix\": \"%\"\n",
    "            },\n",
    "            \"width\": 700,\n",
    "            \"annotations\": []\n",
    "        },\n",
    "        \"data\": [\n",
    "            {\n",
    "                \"x\": poor.index.values,\n",
    "                \"y\": poor.values,\n",
    "                \"type\": \"bar\",\n",
    "                \"name\": \"Very poor (\" + str(round(poor.values.sum(), 1)) + \"%)\" ,\n",
    "                \"marker\": {\n",
    "                    \"color\": 'rgb(214,39,40)',\n",
    "                }\n",
    "            },\n",
    "            {\n",
    "                \"x\": medium.index.values,\n",
    "                \"y\": medium.values,\n",
    "                \"type\": \"bar\",\n",
    "                \"name\": \"Poor (\" + str(round(medium.values.sum(), 1)) + \"%)\",\n",
    "                \"marker\": {\n",
    "                    \"color\": 'rgb(255,127,14)',\n",
    "                }\n",
    "            },\n",
    "            {\n",
    "                \"x\": rich.index.values,\n",
    "                \"y\": rich.values,\n",
    "                \"type\": \"bar\",\n",
    "                \"name\": \"Medium (\" + str(round(rich.values.sum(), 1)) + \"%)\",\n",
    "                \"marker\": {\n",
    "                    \"color\": 'rgb(44,160,44)',\n",
    "                }\n",
    "            }\n",
    "        ]\n",
    "    }\n",
    "    \n",
    "    iplot(fig_distribution)\n"
   ]
  },
  {
   "cell_type": "markdown",
   "metadata": {},
   "source": [
    "## General data\n",
    "\n",
    "Number of Surveys:"
   ]
  },
  {
   "cell_type": "code",
   "execution_count": 15,
   "metadata": {},
   "outputs": [
    {
     "name": "stdout",
     "output_type": "stream",
     "text": [
      "Total:217\n",
      "\n",
      "Responding:217\n",
      "\n"
     ]
    }
   ],
   "source": [
    "print \"Total:\" + str(reg_survey_complete['deviceid'].count())\n",
    "print \"\"\n",
    "total_surveys = reg_survey['deviceid'].count()\n",
    "print \"Responding:\" + str(total_surveys)\n",
    "print \"\""
   ]
  },
  {
   "cell_type": "markdown",
   "metadata": {},
   "source": [
    "### Respondents per gender and village"
   ]
  },
  {
   "cell_type": "code",
   "execution_count": 16,
   "metadata": {},
   "outputs": [
    {
     "data": {
      "text/plain": [
       "village\n",
       "Bir Bakori              7\n",
       "Bir Elfageera           1\n",
       "Bir Elsegedi            5\n",
       "Bir Elselemaniya        6\n",
       "Bir Elsheen             3\n",
       "Bir Elyased W & E       4\n",
       "Bir Wad Gadeem          5\n",
       "Elbwaleed Elsetayer     6\n",
       "Elgiheed Elkhalwat      5\n",
       "Koa Elsereh            11\n",
       "Om Esheera east        26\n",
       "Om Esheera west        22\n",
       "Om Sokara               6\n",
       "Shiresha               15\n",
       "Wadi Eldan              6\n",
       "dtype: int64"
      ]
     },
     "metadata": {},
     "output_type": "display_data"
    },
    {
     "data": {
      "text/html": [
       "<div>\n",
       "<style scoped>\n",
       "    .dataframe tbody tr th:only-of-type {\n",
       "        vertical-align: middle;\n",
       "    }\n",
       "\n",
       "    .dataframe tbody tr th {\n",
       "        vertical-align: top;\n",
       "    }\n",
       "\n",
       "    .dataframe thead th {\n",
       "        text-align: right;\n",
       "    }\n",
       "</style>\n",
       "<table border=\"1\" class=\"dataframe\">\n",
       "  <thead>\n",
       "    <tr style=\"text-align: right;\">\n",
       "      <th></th>\n",
       "      <th>Male</th>\n",
       "      <th>Male %</th>\n",
       "      <th>Female</th>\n",
       "      <th>Female %</th>\n",
       "      <th>Total</th>\n",
       "    </tr>\n",
       "    <tr>\n",
       "      <th>village</th>\n",
       "      <th></th>\n",
       "      <th></th>\n",
       "      <th></th>\n",
       "      <th></th>\n",
       "      <th></th>\n",
       "    </tr>\n",
       "  </thead>\n",
       "  <tbody>\n",
       "    <tr>\n",
       "      <th>Bir Bakori</th>\n",
       "      <td>7</td>\n",
       "      <td>46.67</td>\n",
       "      <td>8</td>\n",
       "      <td>53.33</td>\n",
       "      <td>15</td>\n",
       "    </tr>\n",
       "    <tr>\n",
       "      <th>Bir Elfageera</th>\n",
       "      <td>1</td>\n",
       "      <td>16.67</td>\n",
       "      <td>5</td>\n",
       "      <td>83.33</td>\n",
       "      <td>6</td>\n",
       "    </tr>\n",
       "    <tr>\n",
       "      <th>Bir Elsegedi</th>\n",
       "      <td>5</td>\n",
       "      <td>41.67</td>\n",
       "      <td>7</td>\n",
       "      <td>58.33</td>\n",
       "      <td>12</td>\n",
       "    </tr>\n",
       "    <tr>\n",
       "      <th>Bir Elselemaniya</th>\n",
       "      <td>6</td>\n",
       "      <td>54.55</td>\n",
       "      <td>5</td>\n",
       "      <td>45.45</td>\n",
       "      <td>11</td>\n",
       "    </tr>\n",
       "    <tr>\n",
       "      <th>Bir Elsheen</th>\n",
       "      <td>3</td>\n",
       "      <td>60.00</td>\n",
       "      <td>2</td>\n",
       "      <td>40.00</td>\n",
       "      <td>5</td>\n",
       "    </tr>\n",
       "    <tr>\n",
       "      <th>Bir Elyased W &amp; E</th>\n",
       "      <td>4</td>\n",
       "      <td>66.67</td>\n",
       "      <td>2</td>\n",
       "      <td>33.33</td>\n",
       "      <td>6</td>\n",
       "    </tr>\n",
       "    <tr>\n",
       "      <th>Bir Wad Gadeem</th>\n",
       "      <td>5</td>\n",
       "      <td>35.71</td>\n",
       "      <td>9</td>\n",
       "      <td>64.29</td>\n",
       "      <td>14</td>\n",
       "    </tr>\n",
       "    <tr>\n",
       "      <th>Elbwaleed Elsetayer</th>\n",
       "      <td>6</td>\n",
       "      <td>35.29</td>\n",
       "      <td>11</td>\n",
       "      <td>64.71</td>\n",
       "      <td>17</td>\n",
       "    </tr>\n",
       "    <tr>\n",
       "      <th>Elgiheed Elkhalwat</th>\n",
       "      <td>5</td>\n",
       "      <td>33.33</td>\n",
       "      <td>10</td>\n",
       "      <td>66.67</td>\n",
       "      <td>15</td>\n",
       "    </tr>\n",
       "    <tr>\n",
       "      <th>Koa Elsereh</th>\n",
       "      <td>11</td>\n",
       "      <td>68.75</td>\n",
       "      <td>5</td>\n",
       "      <td>31.25</td>\n",
       "      <td>16</td>\n",
       "    </tr>\n",
       "    <tr>\n",
       "      <th>Om Esheera east</th>\n",
       "      <td>26</td>\n",
       "      <td>100.00</td>\n",
       "      <td>0</td>\n",
       "      <td>NaN</td>\n",
       "      <td>26</td>\n",
       "    </tr>\n",
       "    <tr>\n",
       "      <th>Om Esheera west</th>\n",
       "      <td>22</td>\n",
       "      <td>91.67</td>\n",
       "      <td>2</td>\n",
       "      <td>8.33</td>\n",
       "      <td>24</td>\n",
       "    </tr>\n",
       "    <tr>\n",
       "      <th>Om Sokara</th>\n",
       "      <td>6</td>\n",
       "      <td>50.00</td>\n",
       "      <td>6</td>\n",
       "      <td>50.00</td>\n",
       "      <td>12</td>\n",
       "    </tr>\n",
       "    <tr>\n",
       "      <th>Shiresha</th>\n",
       "      <td>15</td>\n",
       "      <td>65.22</td>\n",
       "      <td>8</td>\n",
       "      <td>34.78</td>\n",
       "      <td>23</td>\n",
       "    </tr>\n",
       "    <tr>\n",
       "      <th>Wadi Eldan</th>\n",
       "      <td>6</td>\n",
       "      <td>40.00</td>\n",
       "      <td>9</td>\n",
       "      <td>60.00</td>\n",
       "      <td>15</td>\n",
       "    </tr>\n",
       "    <tr>\n",
       "      <th>Total</th>\n",
       "      <td>128</td>\n",
       "      <td>58.99</td>\n",
       "      <td>89</td>\n",
       "      <td>41.01</td>\n",
       "      <td>217</td>\n",
       "    </tr>\n",
       "  </tbody>\n",
       "</table>\n",
       "</div>"
      ],
      "text/plain": [
       "                     Male  Male %  Female  Female %  Total\n",
       "village                                                   \n",
       "Bir Bakori              7   46.67       8     53.33     15\n",
       "Bir Elfageera           1   16.67       5     83.33      6\n",
       "Bir Elsegedi            5   41.67       7     58.33     12\n",
       "Bir Elselemaniya        6   54.55       5     45.45     11\n",
       "Bir Elsheen             3   60.00       2     40.00      5\n",
       "Bir Elyased W & E       4   66.67       2     33.33      6\n",
       "Bir Wad Gadeem          5   35.71       9     64.29     14\n",
       "Elbwaleed Elsetayer     6   35.29      11     64.71     17\n",
       "Elgiheed Elkhalwat      5   33.33      10     66.67     15\n",
       "Koa Elsereh            11   68.75       5     31.25     16\n",
       "Om Esheera east        26  100.00       0       NaN     26\n",
       "Om Esheera west        22   91.67       2      8.33     24\n",
       "Om Sokara               6   50.00       6     50.00     12\n",
       "Shiresha               15   65.22       8     34.78     23\n",
       "Wadi Eldan              6   40.00       9     60.00     15\n",
       "Total                 128   58.99      89     41.01    217"
      ]
     },
     "metadata": {},
     "output_type": "display_data"
    }
   ],
   "source": [
    "surveys_village = reg_survey.groupby('village').size()\n",
    "surveys_village_male = reg_survey_male.groupby('village').size()\n",
    "surveys_village_female = reg_survey_female.groupby('village').size()\n",
    "display(surveys_village_male)\n",
    "respondents_gender = pd.DataFrame(surveys_village, columns= ['Total'])\n",
    "respondents_gender['Male'] = surveys_village_male\n",
    "respondents_gender['Male %'] = (surveys_village_male*100 / surveys_village).round(2)\n",
    "respondents_gender['Female'] = surveys_village_female\n",
    "respondents_gender['Female %'] = (surveys_village_female*100 / surveys_village).round(2)\n",
    "respondents_gender = respondents_gender.reindex(['Male', 'Male %', 'Female', 'Female %', 'Total'], axis=1)\n",
    "respondents_gender.loc['Total', 'Total'] = respondents_gender['Total'].sum()\n",
    "respondents_gender.loc['Total', 'Male'] = respondents_gender['Male'].sum()\n",
    "respondents_gender.loc['Total', 'Female'] = respondents_gender['Female'].sum()\n",
    "respondents_gender.fillna({'Male': 0, 'Female': 0}, inplace=True)\n",
    "respondents_gender.loc['Total', 'Male %'] = round(100*respondents_gender.loc['Total', 'Male'] / respondents_gender.loc['Total', 'Total'], 2)\n",
    "respondents_gender.loc['Total', 'Female %'] = round(100*respondents_gender.loc['Total', 'Female'] / respondents_gender.loc['Total', 'Total'], 2)\n",
    "respondents_gender['Male'] = respondents_gender['Male'].astype(int)\n",
    "respondents_gender['Female'] = respondents_gender['Female'].astype(int)\n",
    "respondents_gender['Total'] = respondents_gender['Total'].astype(int)\n",
    "\n",
    "display(respondents_gender)"
   ]
  },
  {
   "cell_type": "markdown",
   "metadata": {},
   "source": [
    "### HHs Composition"
   ]
  },
  {
   "cell_type": "code",
   "execution_count": 17,
   "metadata": {},
   "outputs": [
    {
     "data": {
      "text/html": [
       "<div>\n",
       "<style scoped>\n",
       "    .dataframe tbody tr th:only-of-type {\n",
       "        vertical-align: middle;\n",
       "    }\n",
       "\n",
       "    .dataframe tbody tr th {\n",
       "        vertical-align: top;\n",
       "    }\n",
       "\n",
       "    .dataframe thead th {\n",
       "        text-align: right;\n",
       "    }\n",
       "</style>\n",
       "<table border=\"1\" class=\"dataframe\">\n",
       "  <thead>\n",
       "    <tr style=\"text-align: right;\">\n",
       "      <th></th>\n",
       "      <th>Male</th>\n",
       "      <th>Male %</th>\n",
       "      <th>Female</th>\n",
       "      <th>Female %</th>\n",
       "      <th>Total</th>\n",
       "    </tr>\n",
       "    <tr>\n",
       "      <th>village</th>\n",
       "      <th></th>\n",
       "      <th></th>\n",
       "      <th></th>\n",
       "      <th></th>\n",
       "      <th></th>\n",
       "    </tr>\n",
       "  </thead>\n",
       "  <tbody>\n",
       "    <tr>\n",
       "      <th>Bir Bakori</th>\n",
       "      <td>11</td>\n",
       "      <td>73.33</td>\n",
       "      <td>4</td>\n",
       "      <td>26.67</td>\n",
       "      <td>15</td>\n",
       "    </tr>\n",
       "    <tr>\n",
       "      <th>Bir Elfageera</th>\n",
       "      <td>2</td>\n",
       "      <td>33.33</td>\n",
       "      <td>4</td>\n",
       "      <td>66.67</td>\n",
       "      <td>6</td>\n",
       "    </tr>\n",
       "    <tr>\n",
       "      <th>Bir Elsegedi</th>\n",
       "      <td>6</td>\n",
       "      <td>50.00</td>\n",
       "      <td>6</td>\n",
       "      <td>50.00</td>\n",
       "      <td>12</td>\n",
       "    </tr>\n",
       "    <tr>\n",
       "      <th>Bir Elselemaniya</th>\n",
       "      <td>7</td>\n",
       "      <td>63.64</td>\n",
       "      <td>4</td>\n",
       "      <td>36.36</td>\n",
       "      <td>11</td>\n",
       "    </tr>\n",
       "    <tr>\n",
       "      <th>Bir Elsheen</th>\n",
       "      <td>4</td>\n",
       "      <td>80.00</td>\n",
       "      <td>1</td>\n",
       "      <td>20.00</td>\n",
       "      <td>5</td>\n",
       "    </tr>\n",
       "    <tr>\n",
       "      <th>Bir Elyased W &amp; E</th>\n",
       "      <td>5</td>\n",
       "      <td>83.33</td>\n",
       "      <td>1</td>\n",
       "      <td>16.67</td>\n",
       "      <td>6</td>\n",
       "    </tr>\n",
       "    <tr>\n",
       "      <th>Bir Wad Gadeem</th>\n",
       "      <td>12</td>\n",
       "      <td>85.71</td>\n",
       "      <td>2</td>\n",
       "      <td>14.29</td>\n",
       "      <td>14</td>\n",
       "    </tr>\n",
       "    <tr>\n",
       "      <th>Elbwaleed Elsetayer</th>\n",
       "      <td>9</td>\n",
       "      <td>52.94</td>\n",
       "      <td>8</td>\n",
       "      <td>47.06</td>\n",
       "      <td>17</td>\n",
       "    </tr>\n",
       "    <tr>\n",
       "      <th>Elgiheed Elkhalwat</th>\n",
       "      <td>9</td>\n",
       "      <td>60.00</td>\n",
       "      <td>6</td>\n",
       "      <td>40.00</td>\n",
       "      <td>15</td>\n",
       "    </tr>\n",
       "    <tr>\n",
       "      <th>Koa Elsereh</th>\n",
       "      <td>12</td>\n",
       "      <td>75.00</td>\n",
       "      <td>4</td>\n",
       "      <td>25.00</td>\n",
       "      <td>16</td>\n",
       "    </tr>\n",
       "    <tr>\n",
       "      <th>Om Esheera east</th>\n",
       "      <td>25</td>\n",
       "      <td>96.15</td>\n",
       "      <td>1</td>\n",
       "      <td>3.85</td>\n",
       "      <td>26</td>\n",
       "    </tr>\n",
       "    <tr>\n",
       "      <th>Om Esheera west</th>\n",
       "      <td>24</td>\n",
       "      <td>100.00</td>\n",
       "      <td>0</td>\n",
       "      <td>NaN</td>\n",
       "      <td>24</td>\n",
       "    </tr>\n",
       "    <tr>\n",
       "      <th>Om Sokara</th>\n",
       "      <td>8</td>\n",
       "      <td>66.67</td>\n",
       "      <td>4</td>\n",
       "      <td>33.33</td>\n",
       "      <td>12</td>\n",
       "    </tr>\n",
       "    <tr>\n",
       "      <th>Shiresha</th>\n",
       "      <td>14</td>\n",
       "      <td>60.87</td>\n",
       "      <td>9</td>\n",
       "      <td>39.13</td>\n",
       "      <td>23</td>\n",
       "    </tr>\n",
       "    <tr>\n",
       "      <th>Wadi Eldan</th>\n",
       "      <td>9</td>\n",
       "      <td>60.00</td>\n",
       "      <td>6</td>\n",
       "      <td>40.00</td>\n",
       "      <td>15</td>\n",
       "    </tr>\n",
       "    <tr>\n",
       "      <th>Total</th>\n",
       "      <td>157</td>\n",
       "      <td>72.35</td>\n",
       "      <td>60</td>\n",
       "      <td>27.65</td>\n",
       "      <td>217</td>\n",
       "    </tr>\n",
       "  </tbody>\n",
       "</table>\n",
       "</div>"
      ],
      "text/plain": [
       "                     Male  Male %  Female  Female %  Total\n",
       "village                                                   \n",
       "Bir Bakori             11   73.33       4     26.67     15\n",
       "Bir Elfageera           2   33.33       4     66.67      6\n",
       "Bir Elsegedi            6   50.00       6     50.00     12\n",
       "Bir Elselemaniya        7   63.64       4     36.36     11\n",
       "Bir Elsheen             4   80.00       1     20.00      5\n",
       "Bir Elyased W & E       5   83.33       1     16.67      6\n",
       "Bir Wad Gadeem         12   85.71       2     14.29     14\n",
       "Elbwaleed Elsetayer     9   52.94       8     47.06     17\n",
       "Elgiheed Elkhalwat      9   60.00       6     40.00     15\n",
       "Koa Elsereh            12   75.00       4     25.00     16\n",
       "Om Esheera east        25   96.15       1      3.85     26\n",
       "Om Esheera west        24  100.00       0       NaN     24\n",
       "Om Sokara               8   66.67       4     33.33     12\n",
       "Shiresha               14   60.87       9     39.13     23\n",
       "Wadi Eldan              9   60.00       6     40.00     15\n",
       "Total                 157   72.35      60     27.65    217"
      ]
     },
     "metadata": {},
     "output_type": "display_data"
    }
   ],
   "source": [
    "surveys_village_maleHoHH = reg_survey_maleHoHH.groupby('village').size()\n",
    "surveys_village_femHoHH = reg_survey_femHoHH.groupby('village').size()\n",
    "HoHH_gender = pd.DataFrame(surveys_village, columns= ['Total'])\n",
    "HoHH_gender['Male'] = surveys_village_maleHoHH\n",
    "HoHH_gender['Male %'] = (surveys_village_maleHoHH*100 / surveys_village).round(2)\n",
    "HoHH_gender['Female'] = surveys_village_femHoHH\n",
    "HoHH_gender['Female %'] = (surveys_village_femHoHH*100 / surveys_village).round(2)\n",
    "HoHH_gender = HoHH_gender.reindex(['Male', 'Male %', 'Female', 'Female %', 'Total'], axis=1)\n",
    "HoHH_gender.loc['Total', 'Total'] = HoHH_gender['Total'].sum()\n",
    "HoHH_gender.loc['Total', 'Male'] = HoHH_gender['Male'].sum()\n",
    "HoHH_gender.loc['Total', 'Male %'] = round(100*HoHH_gender.loc['Total', 'Male'] / HoHH_gender.loc['Total', 'Total'], 2)\n",
    "HoHH_gender.loc['Total', 'Female'] = HoHH_gender['Female'].sum()\n",
    "HoHH_gender.loc['Total', 'Female %'] = round(100*HoHH_gender.loc['Total', 'Female'] / HoHH_gender.loc['Total', 'Total'], 2)\n",
    "HoHH_gender.fillna({'Male': 0, 'Female': 0}, inplace=True)\n",
    "HoHH_gender['Male'] = HoHH_gender['Male'].astype(int)\n",
    "HoHH_gender['Female'] = HoHH_gender['Female'].astype(int)\n",
    "HoHH_gender['Total'] = HoHH_gender['Total'].astype(int)\n",
    "\n",
    "display(HoHH_gender)"
   ]
  },
  {
   "cell_type": "code",
   "execution_count": 18,
   "metadata": {},
   "outputs": [
    {
     "name": "stdout",
     "output_type": "stream",
     "text": [
      "60\n",
      "157\n"
     ]
    }
   ],
   "source": [
    "print reg_survey_femHoHH['deviceid'].count()\n",
    "print reg_survey_maleHoHH['deviceid'].count()"
   ]
  },
  {
   "cell_type": "code",
   "execution_count": 19,
   "metadata": {},
   "outputs": [
    {
     "data": {
      "application/vnd.plotly.v1+json": {
       "data": [
        {
         "domain": {
          "x": [
           0,
           0.32
          ]
         },
         "labels": [
          "basic",
          "none",
          "primary",
          "secondary",
          "university"
         ],
         "sort": false,
         "type": "pie",
         "values": [
          6,
          43,
          7,
          3,
          1
         ]
        },
        {
         "domain": {
          "x": [
           0.34,
           0.64
          ]
         },
         "labels": [
          "basic",
          "none",
          "primary",
          "secondary",
          "university"
         ],
         "sort": false,
         "type": "pie",
         "values": [
          45,
          148,
          12,
          7,
          3
         ]
        },
        {
         "domain": {
          "x": [
           0.66,
           0.98
          ]
         },
         "labels": [
          "basic",
          "none",
          "primary",
          "secondary",
          "university"
         ],
         "sort": false,
         "type": "pie",
         "values": [
          39,
          105,
          5,
          4,
          2
         ]
        }
       ],
       "layout": {
        "annotations": [
         {
          "font": {
           "size": 14
          },
          "showarrow": false,
          "text": "Female Head of Household",
          "x": 0.04,
          "y": 1
         },
         {
          "font": {
           "size": 14
          },
          "showarrow": false,
          "text": "Global",
          "x": 0.5,
          "y": 1
         },
         {
          "font": {
           "size": 14
          },
          "showarrow": false,
          "text": "Male Head of Household",
          "x": 0.94,
          "y": 1
         }
        ],
        "title": "Education level of the head of household"
       }
      },
      "text/html": [
       "<div id=\"aa727515-d451-4191-9246-ff784ec943bb\" style=\"height: 525px; width: 100%;\" class=\"plotly-graph-div\"></div><script type=\"text/javascript\">require([\"plotly\"], function(Plotly) { window.PLOTLYENV=window.PLOTLYENV || {};window.PLOTLYENV.BASE_URL=\"https://plot.ly\";Plotly.newPlot(\"aa727515-d451-4191-9246-ff784ec943bb\", [{\"sort\": false, \"values\": [6, 43, 7, 3, 1], \"domain\": {\"x\": [0, 0.32]}, \"labels\": [\"basic\", \"none\", \"primary\", \"secondary\", \"university\"], \"type\": \"pie\"}, {\"sort\": false, \"values\": [45, 148, 12, 7, 3], \"domain\": {\"x\": [0.34, 0.64]}, \"labels\": [\"basic\", \"none\", \"primary\", \"secondary\", \"university\"], \"type\": \"pie\"}, {\"sort\": false, \"values\": [39, 105, 5, 4, 2], \"domain\": {\"x\": [0.66, 0.98]}, \"labels\": [\"basic\", \"none\", \"primary\", \"secondary\", \"university\"], \"type\": \"pie\"}], {\"annotations\": [{\"y\": 1, \"text\": \"Female Head of Household\", \"font\": {\"size\": 14}, \"showarrow\": false, \"x\": 0.04}, {\"y\": 1, \"text\": \"Global\", \"font\": {\"size\": 14}, \"showarrow\": false, \"x\": 0.5}, {\"y\": 1, \"text\": \"Male Head of Household\", \"font\": {\"size\": 14}, \"showarrow\": false, \"x\": 0.94}], \"title\": \"Education level of the head of household\"}, {\"linkText\": \"Export to plot.ly\", \"showLink\": true})});</script>"
      ],
      "text/vnd.plotly.v1+html": [
       "<div id=\"aa727515-d451-4191-9246-ff784ec943bb\" style=\"height: 525px; width: 100%;\" class=\"plotly-graph-div\"></div><script type=\"text/javascript\">require([\"plotly\"], function(Plotly) { window.PLOTLYENV=window.PLOTLYENV || {};window.PLOTLYENV.BASE_URL=\"https://plot.ly\";Plotly.newPlot(\"aa727515-d451-4191-9246-ff784ec943bb\", [{\"sort\": false, \"values\": [6, 43, 7, 3, 1], \"domain\": {\"x\": [0, 0.32]}, \"labels\": [\"basic\", \"none\", \"primary\", \"secondary\", \"university\"], \"type\": \"pie\"}, {\"sort\": false, \"values\": [45, 148, 12, 7, 3], \"domain\": {\"x\": [0.34, 0.64]}, \"labels\": [\"basic\", \"none\", \"primary\", \"secondary\", \"university\"], \"type\": \"pie\"}, {\"sort\": false, \"values\": [39, 105, 5, 4, 2], \"domain\": {\"x\": [0.66, 0.98]}, \"labels\": [\"basic\", \"none\", \"primary\", \"secondary\", \"university\"], \"type\": \"pie\"}], {\"annotations\": [{\"y\": 1, \"text\": \"Female Head of Household\", \"font\": {\"size\": 14}, \"showarrow\": false, \"x\": 0.04}, {\"y\": 1, \"text\": \"Global\", \"font\": {\"size\": 14}, \"showarrow\": false, \"x\": 0.5}, {\"y\": 1, \"text\": \"Male Head of Household\", \"font\": {\"size\": 14}, \"showarrow\": false, \"x\": 0.94}], \"title\": \"Education level of the head of household\"}, {\"linkText\": \"Export to plot.ly\", \"showLink\": true})});</script>"
      ]
     },
     "metadata": {},
     "output_type": "display_data"
    }
   ],
   "source": [
    "create_graphs_HoHH(lambda x: x.groupby('education').size(),\n",
    "                 lambda x: x.values,\n",
    "                 lambda x: x.index.values,\n",
    "                   lambda x: x.sum(),\n",
    "                 \"Education level of the head of household\")\n"
   ]
  },
  {
   "cell_type": "code",
   "execution_count": 20,
   "metadata": {},
   "outputs": [
    {
     "data": {
      "application/vnd.plotly.v1+json": {
       "data": [
        {
         "domain": {
          "x": [
           0,
           0.32
          ]
         },
         "labels": [
          "brick",
          "mud",
          "no_answer",
          "other",
          "wood"
         ],
         "sort": false,
         "type": "pie",
         "values": [
          1,
          22,
          2,
          4,
          31
         ]
        },
        {
         "domain": {
          "x": [
           0.34,
           0.64
          ]
         },
         "labels": [
          "brick",
          "mud",
          "no_answer",
          "other",
          "tent",
          "wood"
         ],
         "sort": false,
         "type": "pie",
         "values": [
          6,
          80,
          18,
          23,
          13,
          77
         ]
        },
        {
         "domain": {
          "x": [
           0.66,
           0.98
          ]
         },
         "labels": [
          "brick",
          "mud",
          "no_answer",
          "other",
          "tent",
          "wood"
         ],
         "sort": false,
         "type": "pie",
         "values": [
          5,
          58,
          16,
          19,
          13,
          46
         ]
        }
       ],
       "layout": {
        "annotations": [
         {
          "font": {
           "size": 14
          },
          "showarrow": false,
          "text": "Female Head of Household",
          "x": 0.04,
          "y": 1
         },
         {
          "font": {
           "size": 14
          },
          "showarrow": false,
          "text": "Global",
          "x": 0.5,
          "y": 1
         },
         {
          "font": {
           "size": 14
          },
          "showarrow": false,
          "text": "Male Head of Household",
          "x": 0.94,
          "y": 1
         }
        ],
        "title": "House materials"
       }
      },
      "text/html": [
       "<div id=\"77053f02-f5ca-46bd-aae4-4629949a5b9e\" style=\"height: 525px; width: 100%;\" class=\"plotly-graph-div\"></div><script type=\"text/javascript\">require([\"plotly\"], function(Plotly) { window.PLOTLYENV=window.PLOTLYENV || {};window.PLOTLYENV.BASE_URL=\"https://plot.ly\";Plotly.newPlot(\"77053f02-f5ca-46bd-aae4-4629949a5b9e\", [{\"sort\": false, \"values\": [1, 22, 2, 4, 31], \"domain\": {\"x\": [0, 0.32]}, \"labels\": [\"brick\", \"mud\", \"no_answer\", \"other\", \"wood\"], \"type\": \"pie\"}, {\"sort\": false, \"values\": [6, 80, 18, 23, 13, 77], \"domain\": {\"x\": [0.34, 0.64]}, \"labels\": [\"brick\", \"mud\", \"no_answer\", \"other\", \"tent\", \"wood\"], \"type\": \"pie\"}, {\"sort\": false, \"values\": [5, 58, 16, 19, 13, 46], \"domain\": {\"x\": [0.66, 0.98]}, \"labels\": [\"brick\", \"mud\", \"no_answer\", \"other\", \"tent\", \"wood\"], \"type\": \"pie\"}], {\"annotations\": [{\"y\": 1, \"text\": \"Female Head of Household\", \"font\": {\"size\": 14}, \"showarrow\": false, \"x\": 0.04}, {\"y\": 1, \"text\": \"Global\", \"font\": {\"size\": 14}, \"showarrow\": false, \"x\": 0.5}, {\"y\": 1, \"text\": \"Male Head of Household\", \"font\": {\"size\": 14}, \"showarrow\": false, \"x\": 0.94}], \"title\": \"House materials\"}, {\"linkText\": \"Export to plot.ly\", \"showLink\": true})});</script>"
      ],
      "text/vnd.plotly.v1+html": [
       "<div id=\"77053f02-f5ca-46bd-aae4-4629949a5b9e\" style=\"height: 525px; width: 100%;\" class=\"plotly-graph-div\"></div><script type=\"text/javascript\">require([\"plotly\"], function(Plotly) { window.PLOTLYENV=window.PLOTLYENV || {};window.PLOTLYENV.BASE_URL=\"https://plot.ly\";Plotly.newPlot(\"77053f02-f5ca-46bd-aae4-4629949a5b9e\", [{\"sort\": false, \"values\": [1, 22, 2, 4, 31], \"domain\": {\"x\": [0, 0.32]}, \"labels\": [\"brick\", \"mud\", \"no_answer\", \"other\", \"wood\"], \"type\": \"pie\"}, {\"sort\": false, \"values\": [6, 80, 18, 23, 13, 77], \"domain\": {\"x\": [0.34, 0.64]}, \"labels\": [\"brick\", \"mud\", \"no_answer\", \"other\", \"tent\", \"wood\"], \"type\": \"pie\"}, {\"sort\": false, \"values\": [5, 58, 16, 19, 13, 46], \"domain\": {\"x\": [0.66, 0.98]}, \"labels\": [\"brick\", \"mud\", \"no_answer\", \"other\", \"tent\", \"wood\"], \"type\": \"pie\"}], {\"annotations\": [{\"y\": 1, \"text\": \"Female Head of Household\", \"font\": {\"size\": 14}, \"showarrow\": false, \"x\": 0.04}, {\"y\": 1, \"text\": \"Global\", \"font\": {\"size\": 14}, \"showarrow\": false, \"x\": 0.5}, {\"y\": 1, \"text\": \"Male Head of Household\", \"font\": {\"size\": 14}, \"showarrow\": false, \"x\": 0.94}], \"title\": \"House materials\"}, {\"linkText\": \"Export to plot.ly\", \"showLink\": true})});</script>"
      ]
     },
     "metadata": {},
     "output_type": "display_data"
    },
    {
     "data": {
      "application/vnd.plotly.v1+json": {
       "data": [
        {
         "labels": [
          "brick",
          "mud",
          "no_answer",
          "other",
          "tent",
          "wood"
         ],
         "sort": false,
         "type": "pie",
         "values": [
          6,
          80,
          18,
          23,
          13,
          77
         ]
        }
       ],
       "layout": {
        "title": "House materials"
       }
      },
      "text/html": [
       "<div id=\"a5392417-69ac-4010-843c-83c68782c124\" style=\"height: 525px; width: 100%;\" class=\"plotly-graph-div\"></div><script type=\"text/javascript\">require([\"plotly\"], function(Plotly) { window.PLOTLYENV=window.PLOTLYENV || {};window.PLOTLYENV.BASE_URL=\"https://plot.ly\";Plotly.newPlot(\"a5392417-69ac-4010-843c-83c68782c124\", [{\"sort\": false, \"values\": [6, 80, 18, 23, 13, 77], \"labels\": [\"brick\", \"mud\", \"no_answer\", \"other\", \"tent\", \"wood\"], \"type\": \"pie\"}], {\"title\": \"House materials\"}, {\"linkText\": \"Export to plot.ly\", \"showLink\": true})});</script>"
      ],
      "text/vnd.plotly.v1+html": [
       "<div id=\"a5392417-69ac-4010-843c-83c68782c124\" style=\"height: 525px; width: 100%;\" class=\"plotly-graph-div\"></div><script type=\"text/javascript\">require([\"plotly\"], function(Plotly) { window.PLOTLYENV=window.PLOTLYENV || {};window.PLOTLYENV.BASE_URL=\"https://plot.ly\";Plotly.newPlot(\"a5392417-69ac-4010-843c-83c68782c124\", [{\"sort\": false, \"values\": [6, 80, 18, 23, 13, 77], \"labels\": [\"brick\", \"mud\", \"no_answer\", \"other\", \"tent\", \"wood\"], \"type\": \"pie\"}], {\"title\": \"House materials\"}, {\"linkText\": \"Export to plot.ly\", \"showLink\": true})});</script>"
      ]
     },
     "metadata": {},
     "output_type": "display_data"
    }
   ],
   "source": [
    "#hey = reg_survey.groupby(['village', 'house_material']).size()\n",
    "\n",
    "#house_materials_df = pd.DataFrame(index=house_materials_index, columns=villages, data=[house_materials_general])\n",
    "#print house_materials_df\n",
    "\n",
    "create_graphs_HoHH(lambda x: pd.crosstab(x.village, x.house_material),\n",
    "                 lambda x: x.sum().values,\n",
    "                 lambda x: x.columns.values,\n",
    "                   lambda x: x.sum().sum(),\n",
    "                 \"House materials\")\n",
    "\n",
    "create_pie_graph(reg_survey.groupby('house_material').size(), \"House materials\")\n",
    "\n",
    "fig_house_materials2 = {\n",
    "    \"layout\": {\n",
    "        \"title\": {\n",
    "            \"font\": {\n",
    "                    \"size\": 20\n",
    "            },\n",
    "            \"text\": \"House materials\"\n",
    "        }\n",
    "    },\n",
    "    \"data\": []\n",
    "}\n",
    "\n",
    "house_materials_df = pd.crosstab(reg_survey.village, reg_survey.house_material)\n",
    "#print range(len(villages_dict['en'].keys())-1)\n",
    "#print house_materials_df\n",
    "#for i in range(len(villages_dict['en'].keys())):\n",
    "#    x = .2*(i%5)\n",
    "#    y = 0.35*(i/5)\n",
    "#    fig_house_materials2['data'].append(\n",
    "#        {\n",
    "#\n",
    "#            \"values\": house_materials_df.iloc[i-1].values,\n",
    "#            \"labels\": house_materials_df.columns.values,\n",
    "#             \"domain\": {\n",
    "#                \"x\": [x, x+.18],\n",
    "#                 \"y\": [y, y+.3]\n",
    "#            },\n",
    "#            \"type\": \"pie\",\n",
    "#            \"sort\": False\n",
    "#        })\n",
    "#\n",
    "#iplot(fig_house_materials2)"
   ]
  },
  {
   "cell_type": "markdown",
   "metadata": {},
   "source": [
    "###  Mean Household size"
   ]
  },
  {
   "cell_type": "code",
   "execution_count": 21,
   "metadata": {},
   "outputs": [
    {
     "name": "stdout",
     "output_type": "stream",
     "text": [
      "4.01382488479 persons per household\n"
     ]
    }
   ],
   "source": [
    "mean_hh_size = reg_survey.family_total.mean()\n",
    "print str(mean_hh_size) + \" persons per household\""
   ]
  },
  {
   "cell_type": "markdown",
   "metadata": {},
   "source": [
    "## Climate change awareness"
   ]
  },
  {
   "cell_type": "code",
   "execution_count": 22,
   "metadata": {},
   "outputs": [
    {
     "data": {
      "application/vnd.plotly.v1+json": {
       "data": [
        {
         "domain": {
          "x": [
           0,
           0.32
          ]
         },
         "labels": [
          "no",
          "yes"
         ],
         "sort": false,
         "type": "pie",
         "values": [
          54,
          34
         ]
        },
        {
         "domain": {
          "x": [
           0.34,
           0.64
          ]
         },
         "labels": [
          "no",
          "yes"
         ],
         "sort": false,
         "type": "pie",
         "values": [
          82,
          134
         ]
        },
        {
         "domain": {
          "x": [
           0.66,
           0.98
          ]
         },
         "labels": [
          "no",
          "yes"
         ],
         "sort": false,
         "type": "pie",
         "values": [
          28,
          100
         ]
        }
       ],
       "layout": {
        "annotations": [
         {
          "font": {
           "size": 14
          },
          "showarrow": false,
          "text": "Female Respondent",
          "x": 0.07,
          "y": 1
         },
         {
          "font": {
           "size": 14
          },
          "showarrow": false,
          "text": "Global",
          "x": 0.5,
          "y": 1
         },
         {
          "font": {
           "size": 14
          },
          "showarrow": false,
          "text": "Male Respondent",
          "x": 0.91,
          "y": 1
         }
        ],
        "title": "Households declaring CC knowledge"
       }
      },
      "text/html": [
       "<div id=\"e0a55966-b884-4683-8dee-704e94786d28\" style=\"height: 525px; width: 100%;\" class=\"plotly-graph-div\"></div><script type=\"text/javascript\">require([\"plotly\"], function(Plotly) { window.PLOTLYENV=window.PLOTLYENV || {};window.PLOTLYENV.BASE_URL=\"https://plot.ly\";Plotly.newPlot(\"e0a55966-b884-4683-8dee-704e94786d28\", [{\"sort\": false, \"values\": [54, 34], \"domain\": {\"x\": [0, 0.32]}, \"labels\": [\"no\", \"yes\"], \"type\": \"pie\"}, {\"sort\": false, \"values\": [82, 134], \"domain\": {\"x\": [0.34, 0.64]}, \"labels\": [\"no\", \"yes\"], \"type\": \"pie\"}, {\"sort\": false, \"values\": [28, 100], \"domain\": {\"x\": [0.66, 0.98]}, \"labels\": [\"no\", \"yes\"], \"type\": \"pie\"}], {\"annotations\": [{\"y\": 1, \"text\": \"Female Respondent\", \"font\": {\"size\": 14}, \"showarrow\": false, \"x\": 0.07}, {\"y\": 1, \"text\": \"Global\", \"font\": {\"size\": 14}, \"showarrow\": false, \"x\": 0.5}, {\"y\": 1, \"text\": \"Male Respondent\", \"font\": {\"size\": 14}, \"showarrow\": false, \"x\": 0.91}], \"title\": \"Households declaring CC knowledge\"}, {\"linkText\": \"Export to plot.ly\", \"showLink\": true})});</script>"
      ],
      "text/vnd.plotly.v1+html": [
       "<div id=\"e0a55966-b884-4683-8dee-704e94786d28\" style=\"height: 525px; width: 100%;\" class=\"plotly-graph-div\"></div><script type=\"text/javascript\">require([\"plotly\"], function(Plotly) { window.PLOTLYENV=window.PLOTLYENV || {};window.PLOTLYENV.BASE_URL=\"https://plot.ly\";Plotly.newPlot(\"e0a55966-b884-4683-8dee-704e94786d28\", [{\"sort\": false, \"values\": [54, 34], \"domain\": {\"x\": [0, 0.32]}, \"labels\": [\"no\", \"yes\"], \"type\": \"pie\"}, {\"sort\": false, \"values\": [82, 134], \"domain\": {\"x\": [0.34, 0.64]}, \"labels\": [\"no\", \"yes\"], \"type\": \"pie\"}, {\"sort\": false, \"values\": [28, 100], \"domain\": {\"x\": [0.66, 0.98]}, \"labels\": [\"no\", \"yes\"], \"type\": \"pie\"}], {\"annotations\": [{\"y\": 1, \"text\": \"Female Respondent\", \"font\": {\"size\": 14}, \"showarrow\": false, \"x\": 0.07}, {\"y\": 1, \"text\": \"Global\", \"font\": {\"size\": 14}, \"showarrow\": false, \"x\": 0.5}, {\"y\": 1, \"text\": \"Male Respondent\", \"font\": {\"size\": 14}, \"showarrow\": false, \"x\": 0.91}], \"title\": \"Households declaring CC knowledge\"}, {\"linkText\": \"Export to plot.ly\", \"showLink\": true})});</script>"
      ]
     },
     "metadata": {},
     "output_type": "display_data"
    }
   ],
   "source": [
    "create_graphs_respondent(lambda x: x.groupby('cc_knowledge').size(),\n",
    "                         lambda x: x.values,\n",
    "                         lambda x: x.index.values,\n",
    "                         lambda x: x.sum(),\n",
    "                         \"Households declaring CC knowledge\")"
   ]
  },
  {
   "cell_type": "code",
   "execution_count": 23,
   "metadata": {},
   "outputs": [
    {
     "data": {
      "application/vnd.plotly.v1+json": {
       "data": [
        {
         "domain": {
          "x": [
           0,
           0.32
          ]
         },
         "labels": [
          "no",
          "no_answer",
          "yes"
         ],
         "sort": false,
         "type": "pie",
         "values": [
          59,
          12,
          18
         ]
        },
        {
         "domain": {
          "x": [
           0.34,
           0.64
          ]
         },
         "labels": [
          "no",
          "no_answer",
          "yes"
         ],
         "sort": false,
         "type": "pie",
         "values": [
          109,
          37,
          71
         ]
        },
        {
         "domain": {
          "x": [
           0.66,
           0.98
          ]
         },
         "labels": [
          "no",
          "no_answer",
          "yes"
         ],
         "sort": false,
         "type": "pie",
         "values": [
          50,
          25,
          53
         ]
        }
       ],
       "layout": {
        "annotations": [
         {
          "font": {
           "size": 14
          },
          "showarrow": false,
          "text": "Female Respondent",
          "x": 0.07,
          "y": 1
         },
         {
          "font": {
           "size": 14
          },
          "showarrow": false,
          "text": "Global",
          "x": 0.5,
          "y": 1
         },
         {
          "font": {
           "size": 14
          },
          "showarrow": false,
          "text": "Male Respondent",
          "x": 0.91,
          "y": 1
         }
        ],
        "title": "Households declaring taking actions against CC"
       }
      },
      "text/html": [
       "<div id=\"54d5e270-0eff-418f-9a94-d5a2c5853925\" style=\"height: 525px; width: 100%;\" class=\"plotly-graph-div\"></div><script type=\"text/javascript\">require([\"plotly\"], function(Plotly) { window.PLOTLYENV=window.PLOTLYENV || {};window.PLOTLYENV.BASE_URL=\"https://plot.ly\";Plotly.newPlot(\"54d5e270-0eff-418f-9a94-d5a2c5853925\", [{\"sort\": false, \"values\": [59, 12, 18], \"domain\": {\"x\": [0, 0.32]}, \"labels\": [\"no\", \"no_answer\", \"yes\"], \"type\": \"pie\"}, {\"sort\": false, \"values\": [109, 37, 71], \"domain\": {\"x\": [0.34, 0.64]}, \"labels\": [\"no\", \"no_answer\", \"yes\"], \"type\": \"pie\"}, {\"sort\": false, \"values\": [50, 25, 53], \"domain\": {\"x\": [0.66, 0.98]}, \"labels\": [\"no\", \"no_answer\", \"yes\"], \"type\": \"pie\"}], {\"annotations\": [{\"y\": 1, \"text\": \"Female Respondent\", \"font\": {\"size\": 14}, \"showarrow\": false, \"x\": 0.07}, {\"y\": 1, \"text\": \"Global\", \"font\": {\"size\": 14}, \"showarrow\": false, \"x\": 0.5}, {\"y\": 1, \"text\": \"Male Respondent\", \"font\": {\"size\": 14}, \"showarrow\": false, \"x\": 0.91}], \"title\": \"Households declaring taking actions against CC\"}, {\"linkText\": \"Export to plot.ly\", \"showLink\": true})});</script>"
      ],
      "text/vnd.plotly.v1+html": [
       "<div id=\"54d5e270-0eff-418f-9a94-d5a2c5853925\" style=\"height: 525px; width: 100%;\" class=\"plotly-graph-div\"></div><script type=\"text/javascript\">require([\"plotly\"], function(Plotly) { window.PLOTLYENV=window.PLOTLYENV || {};window.PLOTLYENV.BASE_URL=\"https://plot.ly\";Plotly.newPlot(\"54d5e270-0eff-418f-9a94-d5a2c5853925\", [{\"sort\": false, \"values\": [59, 12, 18], \"domain\": {\"x\": [0, 0.32]}, \"labels\": [\"no\", \"no_answer\", \"yes\"], \"type\": \"pie\"}, {\"sort\": false, \"values\": [109, 37, 71], \"domain\": {\"x\": [0.34, 0.64]}, \"labels\": [\"no\", \"no_answer\", \"yes\"], \"type\": \"pie\"}, {\"sort\": false, \"values\": [50, 25, 53], \"domain\": {\"x\": [0.66, 0.98]}, \"labels\": [\"no\", \"no_answer\", \"yes\"], \"type\": \"pie\"}], {\"annotations\": [{\"y\": 1, \"text\": \"Female Respondent\", \"font\": {\"size\": 14}, \"showarrow\": false, \"x\": 0.07}, {\"y\": 1, \"text\": \"Global\", \"font\": {\"size\": 14}, \"showarrow\": false, \"x\": 0.5}, {\"y\": 1, \"text\": \"Male Respondent\", \"font\": {\"size\": 14}, \"showarrow\": false, \"x\": 0.91}], \"title\": \"Households declaring taking actions against CC\"}, {\"linkText\": \"Export to plot.ly\", \"showLink\": true})});</script>"
      ]
     },
     "metadata": {},
     "output_type": "display_data"
    }
   ],
   "source": [
    "create_graphs_respondent(lambda x: x.groupby('taking_action_cc').size(),\n",
    "                         lambda x: x.values,\n",
    "                         lambda x: x.index.values,\n",
    "                         lambda x: x.sum(),\n",
    "                         \"Households declaring taking actions against CC\")"
   ]
  },
  {
   "cell_type": "markdown",
   "metadata": {},
   "source": [
    "#### EWS awareness"
   ]
  },
  {
   "cell_type": "code",
   "execution_count": 24,
   "metadata": {},
   "outputs": [
    {
     "data": {
      "application/vnd.plotly.v1+json": {
       "data": [
        {
         "domain": {
          "x": [
           0,
           0.32
          ]
         },
         "labels": [
          "no",
          "yes"
         ],
         "sort": false,
         "type": "pie",
         "values": [
          74,
          15
         ]
        },
        {
         "domain": {
          "x": [
           0.34,
           0.64
          ]
         },
         "labels": [
          "no",
          "yes"
         ],
         "sort": false,
         "type": "pie",
         "values": [
          135,
          80
         ]
        },
        {
         "domain": {
          "x": [
           0.66,
           0.98
          ]
         },
         "labels": [
          "no",
          "yes"
         ],
         "sort": false,
         "type": "pie",
         "values": [
          61,
          65
         ]
        }
       ],
       "layout": {
        "annotations": [
         {
          "font": {
           "size": 14
          },
          "showarrow": false,
          "text": "Female Respondent",
          "x": 0.07,
          "y": 1
         },
         {
          "font": {
           "size": 14
          },
          "showarrow": false,
          "text": "Global",
          "x": 0.5,
          "y": 1
         },
         {
          "font": {
           "size": 14
          },
          "showarrow": false,
          "text": "Male Respondent",
          "x": 0.91,
          "y": 1
         }
        ],
        "title": "Households declaring EWS knowledge"
       }
      },
      "text/html": [
       "<div id=\"621fe53d-5244-48da-a1d9-02a702123c47\" style=\"height: 525px; width: 100%;\" class=\"plotly-graph-div\"></div><script type=\"text/javascript\">require([\"plotly\"], function(Plotly) { window.PLOTLYENV=window.PLOTLYENV || {};window.PLOTLYENV.BASE_URL=\"https://plot.ly\";Plotly.newPlot(\"621fe53d-5244-48da-a1d9-02a702123c47\", [{\"sort\": false, \"values\": [74, 15], \"domain\": {\"x\": [0, 0.32]}, \"labels\": [\"no\", \"yes\"], \"type\": \"pie\"}, {\"sort\": false, \"values\": [135, 80], \"domain\": {\"x\": [0.34, 0.64]}, \"labels\": [\"no\", \"yes\"], \"type\": \"pie\"}, {\"sort\": false, \"values\": [61, 65], \"domain\": {\"x\": [0.66, 0.98]}, \"labels\": [\"no\", \"yes\"], \"type\": \"pie\"}], {\"annotations\": [{\"y\": 1, \"text\": \"Female Respondent\", \"font\": {\"size\": 14}, \"showarrow\": false, \"x\": 0.07}, {\"y\": 1, \"text\": \"Global\", \"font\": {\"size\": 14}, \"showarrow\": false, \"x\": 0.5}, {\"y\": 1, \"text\": \"Male Respondent\", \"font\": {\"size\": 14}, \"showarrow\": false, \"x\": 0.91}], \"title\": \"Households declaring EWS knowledge\"}, {\"linkText\": \"Export to plot.ly\", \"showLink\": true})});</script>"
      ],
      "text/vnd.plotly.v1+html": [
       "<div id=\"621fe53d-5244-48da-a1d9-02a702123c47\" style=\"height: 525px; width: 100%;\" class=\"plotly-graph-div\"></div><script type=\"text/javascript\">require([\"plotly\"], function(Plotly) { window.PLOTLYENV=window.PLOTLYENV || {};window.PLOTLYENV.BASE_URL=\"https://plot.ly\";Plotly.newPlot(\"621fe53d-5244-48da-a1d9-02a702123c47\", [{\"sort\": false, \"values\": [74, 15], \"domain\": {\"x\": [0, 0.32]}, \"labels\": [\"no\", \"yes\"], \"type\": \"pie\"}, {\"sort\": false, \"values\": [135, 80], \"domain\": {\"x\": [0.34, 0.64]}, \"labels\": [\"no\", \"yes\"], \"type\": \"pie\"}, {\"sort\": false, \"values\": [61, 65], \"domain\": {\"x\": [0.66, 0.98]}, \"labels\": [\"no\", \"yes\"], \"type\": \"pie\"}], {\"annotations\": [{\"y\": 1, \"text\": \"Female Respondent\", \"font\": {\"size\": 14}, \"showarrow\": false, \"x\": 0.07}, {\"y\": 1, \"text\": \"Global\", \"font\": {\"size\": 14}, \"showarrow\": false, \"x\": 0.5}, {\"y\": 1, \"text\": \"Male Respondent\", \"font\": {\"size\": 14}, \"showarrow\": false, \"x\": 0.91}], \"title\": \"Households declaring EWS knowledge\"}, {\"linkText\": \"Export to plot.ly\", \"showLink\": true})});</script>"
      ]
     },
     "metadata": {},
     "output_type": "display_data"
    }
   ],
   "source": [
    "create_graphs_respondent(lambda x: x.groupby('ews_knowledge').size(),\n",
    "                         lambda x: x.values,\n",
    "                         lambda x: x.index.values,\n",
    "                         lambda x: x.sum(),\n",
    "                         \"Households declaring EWS knowledge\")"
   ]
  },
  {
   "cell_type": "code",
   "execution_count": 25,
   "metadata": {},
   "outputs": [
    {
     "data": {
      "application/vnd.plotly.v1+json": {
       "data": [
        {
         "domain": {
          "x": [
           0,
           0.32
          ]
         },
         "labels": [
          "do_not_use",
          "no_answer",
          "not_react",
          "protection"
         ],
         "sort": false,
         "type": "pie",
         "values": [
          73,
          1,
          1,
          14
         ]
        },
        {
         "domain": {
          "x": [
           0.34,
           0.64
          ]
         },
         "labels": [
          "adaptation",
          "do_not_use",
          "no_answer",
          "not_react",
          "protection",
          "protection adaptation",
          "protection not_react"
         ],
         "sort": false,
         "type": "pie",
         "values": [
          6,
          125,
          19,
          2,
          60,
          4,
          1
         ]
        },
        {
         "domain": {
          "x": [
           0.66,
           0.98
          ]
         },
         "labels": [
          "adaptation",
          "do_not_use",
          "no_answer",
          "not_react",
          "protection",
          "protection adaptation",
          "protection not_react"
         ],
         "sort": false,
         "type": "pie",
         "values": [
          6,
          52,
          18,
          1,
          46,
          4,
          1
         ]
        }
       ],
       "layout": {
        "annotations": [
         {
          "font": {
           "size": 14
          },
          "showarrow": false,
          "text": "Female Respondent",
          "x": 0.07,
          "y": 1
         },
         {
          "font": {
           "size": 14
          },
          "showarrow": false,
          "text": "Global",
          "x": 0.5,
          "y": 1
         },
         {
          "font": {
           "size": 14
          },
          "showarrow": false,
          "text": "Male Respondent",
          "x": 0.91,
          "y": 1
         }
        ],
        "title": "Households using EWS information"
       }
      },
      "text/html": [
       "<div id=\"69a4c495-3144-4d35-b03a-79eb3d080075\" style=\"height: 525px; width: 100%;\" class=\"plotly-graph-div\"></div><script type=\"text/javascript\">require([\"plotly\"], function(Plotly) { window.PLOTLYENV=window.PLOTLYENV || {};window.PLOTLYENV.BASE_URL=\"https://plot.ly\";Plotly.newPlot(\"69a4c495-3144-4d35-b03a-79eb3d080075\", [{\"sort\": false, \"values\": [73, 1, 1, 14], \"domain\": {\"x\": [0, 0.32]}, \"labels\": [\"do_not_use\", \"no_answer\", \"not_react\", \"protection\"], \"type\": \"pie\"}, {\"sort\": false, \"values\": [6, 125, 19, 2, 60, 4, 1], \"domain\": {\"x\": [0.34, 0.64]}, \"labels\": [\"adaptation\", \"do_not_use\", \"no_answer\", \"not_react\", \"protection\", \"protection adaptation\", \"protection not_react\"], \"type\": \"pie\"}, {\"sort\": false, \"values\": [6, 52, 18, 1, 46, 4, 1], \"domain\": {\"x\": [0.66, 0.98]}, \"labels\": [\"adaptation\", \"do_not_use\", \"no_answer\", \"not_react\", \"protection\", \"protection adaptation\", \"protection not_react\"], \"type\": \"pie\"}], {\"annotations\": [{\"y\": 1, \"text\": \"Female Respondent\", \"font\": {\"size\": 14}, \"showarrow\": false, \"x\": 0.07}, {\"y\": 1, \"text\": \"Global\", \"font\": {\"size\": 14}, \"showarrow\": false, \"x\": 0.5}, {\"y\": 1, \"text\": \"Male Respondent\", \"font\": {\"size\": 14}, \"showarrow\": false, \"x\": 0.91}], \"title\": \"Households using EWS information\"}, {\"linkText\": \"Export to plot.ly\", \"showLink\": true})});</script>"
      ],
      "text/vnd.plotly.v1+html": [
       "<div id=\"69a4c495-3144-4d35-b03a-79eb3d080075\" style=\"height: 525px; width: 100%;\" class=\"plotly-graph-div\"></div><script type=\"text/javascript\">require([\"plotly\"], function(Plotly) { window.PLOTLYENV=window.PLOTLYENV || {};window.PLOTLYENV.BASE_URL=\"https://plot.ly\";Plotly.newPlot(\"69a4c495-3144-4d35-b03a-79eb3d080075\", [{\"sort\": false, \"values\": [73, 1, 1, 14], \"domain\": {\"x\": [0, 0.32]}, \"labels\": [\"do_not_use\", \"no_answer\", \"not_react\", \"protection\"], \"type\": \"pie\"}, {\"sort\": false, \"values\": [6, 125, 19, 2, 60, 4, 1], \"domain\": {\"x\": [0.34, 0.64]}, \"labels\": [\"adaptation\", \"do_not_use\", \"no_answer\", \"not_react\", \"protection\", \"protection adaptation\", \"protection not_react\"], \"type\": \"pie\"}, {\"sort\": false, \"values\": [6, 52, 18, 1, 46, 4, 1], \"domain\": {\"x\": [0.66, 0.98]}, \"labels\": [\"adaptation\", \"do_not_use\", \"no_answer\", \"not_react\", \"protection\", \"protection adaptation\", \"protection not_react\"], \"type\": \"pie\"}], {\"annotations\": [{\"y\": 1, \"text\": \"Female Respondent\", \"font\": {\"size\": 14}, \"showarrow\": false, \"x\": 0.07}, {\"y\": 1, \"text\": \"Global\", \"font\": {\"size\": 14}, \"showarrow\": false, \"x\": 0.5}, {\"y\": 1, \"text\": \"Male Respondent\", \"font\": {\"size\": 14}, \"showarrow\": false, \"x\": 0.91}], \"title\": \"Households using EWS information\"}, {\"linkText\": \"Export to plot.ly\", \"showLink\": true})});</script>"
      ]
     },
     "metadata": {},
     "output_type": "display_data"
    }
   ],
   "source": [
    "create_graphs_respondent(lambda x: x.groupby('use_ews').size(),\n",
    "                         lambda x: x.values,\n",
    "                         lambda x: x.index.values,\n",
    "                         lambda x: x.sum(),\n",
    "                         \"Households using EWS information\")"
   ]
  },
  {
   "cell_type": "markdown",
   "metadata": {},
   "source": [
    "#### Renewable energy awareness"
   ]
  },
  {
   "cell_type": "code",
   "execution_count": 26,
   "metadata": {},
   "outputs": [
    {
     "data": {
      "application/vnd.plotly.v1+json": {
       "data": [
        {
         "domain": {
          "x": [
           0,
           0.32
          ]
         },
         "labels": [
          "no",
          "yes"
         ],
         "sort": false,
         "type": "pie",
         "values": [
          61,
          28
         ]
        },
        {
         "domain": {
          "x": [
           0.34,
           0.64
          ]
         },
         "labels": [
          "no",
          "no_answer",
          "yes"
         ],
         "sort": false,
         "type": "pie",
         "values": [
          103,
          2,
          112
         ]
        },
        {
         "domain": {
          "x": [
           0.66,
           0.98
          ]
         },
         "labels": [
          "no",
          "no_answer",
          "yes"
         ],
         "sort": false,
         "type": "pie",
         "values": [
          42,
          2,
          84
         ]
        }
       ],
       "layout": {
        "annotations": [
         {
          "font": {
           "size": 14
          },
          "showarrow": false,
          "text": "Female Respondent",
          "x": 0.07,
          "y": 1
         },
         {
          "font": {
           "size": 14
          },
          "showarrow": false,
          "text": "Global",
          "x": 0.5,
          "y": 1
         },
         {
          "font": {
           "size": 14
          },
          "showarrow": false,
          "text": "Male Respondent",
          "x": 0.91,
          "y": 1
         }
        ],
        "title": "Households declaring renewable energies knowledge"
       }
      },
      "text/html": [
       "<div id=\"4aee7fc0-5ddc-4be9-92d3-c86b3a2bab96\" style=\"height: 525px; width: 100%;\" class=\"plotly-graph-div\"></div><script type=\"text/javascript\">require([\"plotly\"], function(Plotly) { window.PLOTLYENV=window.PLOTLYENV || {};window.PLOTLYENV.BASE_URL=\"https://plot.ly\";Plotly.newPlot(\"4aee7fc0-5ddc-4be9-92d3-c86b3a2bab96\", [{\"sort\": false, \"values\": [61, 28], \"domain\": {\"x\": [0, 0.32]}, \"labels\": [\"no\", \"yes\"], \"type\": \"pie\"}, {\"sort\": false, \"values\": [103, 2, 112], \"domain\": {\"x\": [0.34, 0.64]}, \"labels\": [\"no\", \"no_answer\", \"yes\"], \"type\": \"pie\"}, {\"sort\": false, \"values\": [42, 2, 84], \"domain\": {\"x\": [0.66, 0.98]}, \"labels\": [\"no\", \"no_answer\", \"yes\"], \"type\": \"pie\"}], {\"annotations\": [{\"y\": 1, \"text\": \"Female Respondent\", \"font\": {\"size\": 14}, \"showarrow\": false, \"x\": 0.07}, {\"y\": 1, \"text\": \"Global\", \"font\": {\"size\": 14}, \"showarrow\": false, \"x\": 0.5}, {\"y\": 1, \"text\": \"Male Respondent\", \"font\": {\"size\": 14}, \"showarrow\": false, \"x\": 0.91}], \"title\": \"Households declaring renewable energies knowledge\"}, {\"linkText\": \"Export to plot.ly\", \"showLink\": true})});</script>"
      ],
      "text/vnd.plotly.v1+html": [
       "<div id=\"4aee7fc0-5ddc-4be9-92d3-c86b3a2bab96\" style=\"height: 525px; width: 100%;\" class=\"plotly-graph-div\"></div><script type=\"text/javascript\">require([\"plotly\"], function(Plotly) { window.PLOTLYENV=window.PLOTLYENV || {};window.PLOTLYENV.BASE_URL=\"https://plot.ly\";Plotly.newPlot(\"4aee7fc0-5ddc-4be9-92d3-c86b3a2bab96\", [{\"sort\": false, \"values\": [61, 28], \"domain\": {\"x\": [0, 0.32]}, \"labels\": [\"no\", \"yes\"], \"type\": \"pie\"}, {\"sort\": false, \"values\": [103, 2, 112], \"domain\": {\"x\": [0.34, 0.64]}, \"labels\": [\"no\", \"no_answer\", \"yes\"], \"type\": \"pie\"}, {\"sort\": false, \"values\": [42, 2, 84], \"domain\": {\"x\": [0.66, 0.98]}, \"labels\": [\"no\", \"no_answer\", \"yes\"], \"type\": \"pie\"}], {\"annotations\": [{\"y\": 1, \"text\": \"Female Respondent\", \"font\": {\"size\": 14}, \"showarrow\": false, \"x\": 0.07}, {\"y\": 1, \"text\": \"Global\", \"font\": {\"size\": 14}, \"showarrow\": false, \"x\": 0.5}, {\"y\": 1, \"text\": \"Male Respondent\", \"font\": {\"size\": 14}, \"showarrow\": false, \"x\": 0.91}], \"title\": \"Households declaring renewable energies knowledge\"}, {\"linkText\": \"Export to plot.ly\", \"showLink\": true})});</script>"
      ]
     },
     "metadata": {},
     "output_type": "display_data"
    }
   ],
   "source": [
    "create_graphs_respondent(lambda x: x.groupby('renewable_knowledge').size(),\n",
    "                         lambda x: x.values,\n",
    "                         lambda x: x.index.values,\n",
    "                         lambda x: x.sum(),\n",
    "                         \"Households declaring renewable energies knowledge\")"
   ]
  },
  {
   "cell_type": "code",
   "execution_count": 27,
   "metadata": {},
   "outputs": [
    {
     "data": {
      "application/vnd.plotly.v1+json": {
       "data": [
        {
         "domain": {
          "x": [
           0,
           0.32
          ]
         },
         "labels": [
          "electricity",
          "no",
          "no_answer",
          "other"
         ],
         "sort": false,
         "type": "pie",
         "values": [
          15,
          69,
          1,
          4
         ]
        },
        {
         "domain": {
          "x": [
           0.34,
           0.64
          ]
         },
         "labels": [
          "cooking get_water",
          "electricity",
          "electricity other",
          "get_water",
          "no",
          "no_answer",
          "other"
         ],
         "sort": false,
         "type": "pie",
         "values": [
          1,
          40,
          1,
          1,
          165,
          4,
          5
         ]
        },
        {
         "domain": {
          "x": [
           0.66,
           0.98
          ]
         },
         "labels": [
          "cooking get_water",
          "electricity",
          "electricity other",
          "get_water",
          "no",
          "no_answer",
          "other"
         ],
         "sort": false,
         "type": "pie",
         "values": [
          1,
          25,
          1,
          1,
          96,
          3,
          1
         ]
        }
       ],
       "layout": {
        "annotations": [
         {
          "font": {
           "size": 14
          },
          "showarrow": false,
          "text": "Female Respondent",
          "x": 0.07,
          "y": 1
         },
         {
          "font": {
           "size": 14
          },
          "showarrow": false,
          "text": "Global",
          "x": 0.5,
          "y": 1
         },
         {
          "font": {
           "size": 14
          },
          "showarrow": false,
          "text": "Male Respondent",
          "x": 0.91,
          "y": 1
         }
        ],
        "title": "Households using solar energies"
       }
      },
      "text/html": [
       "<div id=\"4548e0c8-245f-4e8f-a1a5-348b84b5dbb1\" style=\"height: 525px; width: 100%;\" class=\"plotly-graph-div\"></div><script type=\"text/javascript\">require([\"plotly\"], function(Plotly) { window.PLOTLYENV=window.PLOTLYENV || {};window.PLOTLYENV.BASE_URL=\"https://plot.ly\";Plotly.newPlot(\"4548e0c8-245f-4e8f-a1a5-348b84b5dbb1\", [{\"sort\": false, \"values\": [15, 69, 1, 4], \"domain\": {\"x\": [0, 0.32]}, \"labels\": [\"electricity\", \"no\", \"no_answer\", \"other\"], \"type\": \"pie\"}, {\"sort\": false, \"values\": [1, 40, 1, 1, 165, 4, 5], \"domain\": {\"x\": [0.34, 0.64]}, \"labels\": [\"cooking get_water\", \"electricity\", \"electricity other\", \"get_water\", \"no\", \"no_answer\", \"other\"], \"type\": \"pie\"}, {\"sort\": false, \"values\": [1, 25, 1, 1, 96, 3, 1], \"domain\": {\"x\": [0.66, 0.98]}, \"labels\": [\"cooking get_water\", \"electricity\", \"electricity other\", \"get_water\", \"no\", \"no_answer\", \"other\"], \"type\": \"pie\"}], {\"annotations\": [{\"y\": 1, \"text\": \"Female Respondent\", \"font\": {\"size\": 14}, \"showarrow\": false, \"x\": 0.07}, {\"y\": 1, \"text\": \"Global\", \"font\": {\"size\": 14}, \"showarrow\": false, \"x\": 0.5}, {\"y\": 1, \"text\": \"Male Respondent\", \"font\": {\"size\": 14}, \"showarrow\": false, \"x\": 0.91}], \"title\": \"Households using solar energies\"}, {\"linkText\": \"Export to plot.ly\", \"showLink\": true})});</script>"
      ],
      "text/vnd.plotly.v1+html": [
       "<div id=\"4548e0c8-245f-4e8f-a1a5-348b84b5dbb1\" style=\"height: 525px; width: 100%;\" class=\"plotly-graph-div\"></div><script type=\"text/javascript\">require([\"plotly\"], function(Plotly) { window.PLOTLYENV=window.PLOTLYENV || {};window.PLOTLYENV.BASE_URL=\"https://plot.ly\";Plotly.newPlot(\"4548e0c8-245f-4e8f-a1a5-348b84b5dbb1\", [{\"sort\": false, \"values\": [15, 69, 1, 4], \"domain\": {\"x\": [0, 0.32]}, \"labels\": [\"electricity\", \"no\", \"no_answer\", \"other\"], \"type\": \"pie\"}, {\"sort\": false, \"values\": [1, 40, 1, 1, 165, 4, 5], \"domain\": {\"x\": [0.34, 0.64]}, \"labels\": [\"cooking get_water\", \"electricity\", \"electricity other\", \"get_water\", \"no\", \"no_answer\", \"other\"], \"type\": \"pie\"}, {\"sort\": false, \"values\": [1, 25, 1, 1, 96, 3, 1], \"domain\": {\"x\": [0.66, 0.98]}, \"labels\": [\"cooking get_water\", \"electricity\", \"electricity other\", \"get_water\", \"no\", \"no_answer\", \"other\"], \"type\": \"pie\"}], {\"annotations\": [{\"y\": 1, \"text\": \"Female Respondent\", \"font\": {\"size\": 14}, \"showarrow\": false, \"x\": 0.07}, {\"y\": 1, \"text\": \"Global\", \"font\": {\"size\": 14}, \"showarrow\": false, \"x\": 0.5}, {\"y\": 1, \"text\": \"Male Respondent\", \"font\": {\"size\": 14}, \"showarrow\": false, \"x\": 0.91}], \"title\": \"Households using solar energies\"}, {\"linkText\": \"Export to plot.ly\", \"showLink\": true})});</script>"
      ]
     },
     "metadata": {},
     "output_type": "display_data"
    }
   ],
   "source": [
    "create_graphs_respondent(lambda x: x.groupby('solar_energy').size(),\n",
    "                         lambda x: x.values,\n",
    "                         lambda x: x.index.values,\n",
    "                         lambda x: x.sum(),\n",
    "                         \"Households using solar energies\")"
   ]
  },
  {
   "cell_type": "markdown",
   "metadata": {},
   "source": [
    "#### Cooking facilities"
   ]
  },
  {
   "cell_type": "code",
   "execution_count": 28,
   "metadata": {},
   "outputs": [
    {
     "data": {
      "application/vnd.plotly.v1+json": {
       "data": [
        {
         "marker": {
          "color": "rgb(225,225,258)",
          "line": {
           "color": "rgb(0,0,192)",
           "width": 1.5
          }
         },
         "name": "Female Head of Household",
         "type": "bar",
         "x": [
          "Wood",
          "Gas_heater",
          "Charcoal",
          "Iron_stove"
         ],
         "y": [
          23.963133640552996,
          6.912442396313364,
          0.4608294930875576,
          0.4608294930875576
         ]
        },
        {
         "marker": {
          "color": "rgb(258,225,225)",
          "line": {
           "color": "rgb(192,0,0)",
           "width": 1.5
          }
         },
         "name": "Male Head of Household",
         "type": "bar",
         "x": [
          "Wood",
          "Gas_heater",
          "Charcoal",
          "Iron_stove",
          "No_answer",
          "Improved"
         ],
         "y": [
          60.8294930875576,
          9.216589861751151,
          7.373271889400922,
          1.8433179723502304,
          0.4608294930875576,
          0.4608294930875576
         ]
        }
       ],
       "layout": {
        "annotations": [],
        "barmode": "stack",
        "title": "Cooking techniques",
        "width": 700,
        "xaxis": {
         "tickangle": -45
        }
       }
      },
      "text/html": [
       "<div id=\"2074ef80-8737-4289-94ad-34ebbe9c13f4\" style=\"height: 525px; width: 700px;\" class=\"plotly-graph-div\"></div><script type=\"text/javascript\">require([\"plotly\"], function(Plotly) { window.PLOTLYENV=window.PLOTLYENV || {};window.PLOTLYENV.BASE_URL=\"https://plot.ly\";Plotly.newPlot(\"2074ef80-8737-4289-94ad-34ebbe9c13f4\", [{\"y\": [23.963133640552996, 6.912442396313364, 0.4608294930875576, 0.4608294930875576], \"x\": [\"Wood\", \"Gas_heater\", \"Charcoal\", \"Iron_stove\"], \"type\": \"bar\", \"name\": \"Female Head of Household\", \"marker\": {\"color\": \"rgb(225,225,258)\", \"line\": {\"color\": \"rgb(0,0,192)\", \"width\": 1.5}}}, {\"y\": [60.8294930875576, 9.216589861751151, 7.373271889400922, 1.8433179723502304, 0.4608294930875576, 0.4608294930875576], \"x\": [\"Wood\", \"Gas_heater\", \"Charcoal\", \"Iron_stove\", \"No_answer\", \"Improved\"], \"type\": \"bar\", \"name\": \"Male Head of Household\", \"marker\": {\"color\": \"rgb(258,225,225)\", \"line\": {\"color\": \"rgb(192,0,0)\", \"width\": 1.5}}}], {\"barmode\": \"stack\", \"title\": \"Cooking techniques\", \"annotations\": [], \"xaxis\": {\"tickangle\": -45}, \"width\": 700}, {\"linkText\": \"Export to plot.ly\", \"showLink\": true})});</script>"
      ],
      "text/vnd.plotly.v1+html": [
       "<div id=\"2074ef80-8737-4289-94ad-34ebbe9c13f4\" style=\"height: 525px; width: 700px;\" class=\"plotly-graph-div\"></div><script type=\"text/javascript\">require([\"plotly\"], function(Plotly) { window.PLOTLYENV=window.PLOTLYENV || {};window.PLOTLYENV.BASE_URL=\"https://plot.ly\";Plotly.newPlot(\"2074ef80-8737-4289-94ad-34ebbe9c13f4\", [{\"y\": [23.963133640552996, 6.912442396313364, 0.4608294930875576, 0.4608294930875576], \"x\": [\"Wood\", \"Gas_heater\", \"Charcoal\", \"Iron_stove\"], \"type\": \"bar\", \"name\": \"Female Head of Household\", \"marker\": {\"color\": \"rgb(225,225,258)\", \"line\": {\"color\": \"rgb(0,0,192)\", \"width\": 1.5}}}, {\"y\": [60.8294930875576, 9.216589861751151, 7.373271889400922, 1.8433179723502304, 0.4608294930875576, 0.4608294930875576], \"x\": [\"Wood\", \"Gas_heater\", \"Charcoal\", \"Iron_stove\", \"No_answer\", \"Improved\"], \"type\": \"bar\", \"name\": \"Male Head of Household\", \"marker\": {\"color\": \"rgb(258,225,225)\", \"line\": {\"color\": \"rgb(192,0,0)\", \"width\": 1.5}}}], {\"barmode\": \"stack\", \"title\": \"Cooking techniques\", \"annotations\": [], \"xaxis\": {\"tickangle\": -45}, \"width\": 700}, {\"linkText\": \"Export to plot.ly\", \"showLink\": true})});</script>"
      ]
     },
     "metadata": {},
     "output_type": "display_data"
    }
   ],
   "source": [
    "kitchen_type = reg_survey.groupby('kitchen_type').size()\n",
    "kitchen_type_male = get_ocurrences(reg_survey_maleHoHH, 'kitchen_type').sort_values(ascending = False)\n",
    "kitchen_type_female = get_ocurrences(reg_survey_femHoHH, 'kitchen_type').sort_values(ascending = False)\n",
    "kitchen = pd.crosstab(reg_survey.village, reg_survey.kitchen_type)\n",
    "#display(kitchen)\n",
    "\n",
    "kitchen_perc_male = 100*kitchen_type_male/total_surveys\n",
    "kitchen_perc_female = 100*kitchen_type_female/total_surveys\n",
    "kitchen_perc = 100*kitchen_type/total_surveys\n",
    "kitchen_perc = kitchen_perc.round(2)\n",
    "#print kitchen_perc\n",
    "\n",
    "create_stacked_bars_graph((reg_survey_femHoHH, reg_survey_maleHoHH),\n",
    "                              lambda x: 100 * get_ocurrences(x, 'kitchen_type').sort_values(ascending = False) / total_surveys,\n",
    "                              lambda x: map(lambda y: y.capitalize(), x.index.values),\n",
    "                              lambda x: x.values,\n",
    "                              \"Cooking techniques\",\n",
    "                              \"Female Head of Household\",\n",
    "                              \"Male Head of Household\")"
   ]
  },
  {
   "cell_type": "markdown",
   "metadata": {},
   "source": [
    "## Livelihoods\n",
    "\n",
    "Number of households practicing each livelihood"
   ]
  },
  {
   "cell_type": "code",
   "execution_count": 29,
   "metadata": {},
   "outputs": [
    {
     "name": "stdout",
     "output_type": "stream",
     "text": [
      "\n",
      "labour         104\n",
      "livestock      100\n",
      "agriculture     57\n",
      "other           39\n",
      "handicrafts      3\n",
      "forestry         1\n",
      "dtype: int64\n"
     ]
    }
   ],
   "source": [
    "#reg_survey.loc[reg_survey['src_incomes'].str.contains(\"agriculture\"), 'agriculture'] = 'yes'\n",
    "#reg_survey.loc[reg_survey['src_incomes'].str.contains(\"livestock\"), 'livestock'] = 'yes'\n",
    "#reg_survey.loc[reg_survey['src_incomes'].str.contains(\"labour\"), 'labour'] = 'yes'\n",
    "#importance = reg_survey.groupby(['agriculture', 'livestock', 'labour'])['perc_incomes_agri'].agg('mean')\n",
    "\n",
    "#agric = reg_survey[reg_survey['src_incomes'].str.contains(\"agriculture\")]['deviceid'].count()\n",
    "\n",
    "src_incomes_sums = reg_survey.groupby('src_incomes').size()\n",
    "lh_values = get_ocurrences(reg_survey, 'src_incomes')\n",
    "lh_types = pd.DataFrame({\"Households\": lh_values})\n",
    "#lh_types[\"Percentage\"] = lh_types.Households.map(lambda x: str(round(100*x/total_surveys))) + \" %\"\n",
    "\n",
    "print \"\"\n",
    "print lh_values.sort_values(ascending = False)"
   ]
  },
  {
   "cell_type": "code",
   "execution_count": 30,
   "metadata": {
    "scrolled": false
   },
   "outputs": [
    {
     "data": {
      "application/vnd.plotly.v1+json": {
       "data": [
        {
         "marker": {
          "color": "rgb(225,225,258)",
          "line": {
           "color": "rgb(0,0,192)",
           "width": 1.5
          }
         },
         "name": "Female Head of Household",
         "type": "bar",
         "x": [
          "Agriculture",
          "Livestock",
          "Labour",
          "Other"
         ],
         "y": [
          2.7649769585253456,
          9.67741935483871,
          14.746543778801843,
          5.529953917050691
         ]
        },
        {
         "marker": {
          "color": "rgb(258,225,225)",
          "line": {
           "color": "rgb(192,0,0)",
           "width": 1.5
          }
         },
         "name": "Male Head of Household",
         "type": "bar",
         "x": [
          "Agriculture",
          "Labour",
          "Other",
          "Livestock",
          "Forestry",
          "Handicrafts"
         ],
         "y": [
          23.502304147465438,
          33.17972350230415,
          12.442396313364055,
          36.40552995391705,
          0.4608294930875576,
          1.3824884792626728
         ]
        }
       ],
       "layout": {
        "annotations": [],
        "barmode": "stack",
        "title": "Livelihoods Strategies",
        "width": 700,
        "xaxis": {
         "tickangle": -45
        }
       }
      },
      "text/html": [
       "<div id=\"80bd5362-62f7-4caa-a67f-776f9597e2a4\" style=\"height: 525px; width: 700px;\" class=\"plotly-graph-div\"></div><script type=\"text/javascript\">require([\"plotly\"], function(Plotly) { window.PLOTLYENV=window.PLOTLYENV || {};window.PLOTLYENV.BASE_URL=\"https://plot.ly\";Plotly.newPlot(\"80bd5362-62f7-4caa-a67f-776f9597e2a4\", [{\"y\": [2.7649769585253456, 9.67741935483871, 14.746543778801843, 5.529953917050691], \"x\": [\"Agriculture\", \"Livestock\", \"Labour\", \"Other\"], \"type\": \"bar\", \"name\": \"Female Head of Household\", \"marker\": {\"color\": \"rgb(225,225,258)\", \"line\": {\"color\": \"rgb(0,0,192)\", \"width\": 1.5}}}, {\"y\": [23.502304147465438, 33.17972350230415, 12.442396313364055, 36.40552995391705, 0.4608294930875576, 1.3824884792626728], \"x\": [\"Agriculture\", \"Labour\", \"Other\", \"Livestock\", \"Forestry\", \"Handicrafts\"], \"type\": \"bar\", \"name\": \"Male Head of Household\", \"marker\": {\"color\": \"rgb(258,225,225)\", \"line\": {\"color\": \"rgb(192,0,0)\", \"width\": 1.5}}}], {\"barmode\": \"stack\", \"title\": \"Livelihoods Strategies\", \"annotations\": [], \"xaxis\": {\"tickangle\": -45}, \"width\": 700}, {\"linkText\": \"Export to plot.ly\", \"showLink\": true})});</script>"
      ],
      "text/vnd.plotly.v1+html": [
       "<div id=\"80bd5362-62f7-4caa-a67f-776f9597e2a4\" style=\"height: 525px; width: 700px;\" class=\"plotly-graph-div\"></div><script type=\"text/javascript\">require([\"plotly\"], function(Plotly) { window.PLOTLYENV=window.PLOTLYENV || {};window.PLOTLYENV.BASE_URL=\"https://plot.ly\";Plotly.newPlot(\"80bd5362-62f7-4caa-a67f-776f9597e2a4\", [{\"y\": [2.7649769585253456, 9.67741935483871, 14.746543778801843, 5.529953917050691], \"x\": [\"Agriculture\", \"Livestock\", \"Labour\", \"Other\"], \"type\": \"bar\", \"name\": \"Female Head of Household\", \"marker\": {\"color\": \"rgb(225,225,258)\", \"line\": {\"color\": \"rgb(0,0,192)\", \"width\": 1.5}}}, {\"y\": [23.502304147465438, 33.17972350230415, 12.442396313364055, 36.40552995391705, 0.4608294930875576, 1.3824884792626728], \"x\": [\"Agriculture\", \"Labour\", \"Other\", \"Livestock\", \"Forestry\", \"Handicrafts\"], \"type\": \"bar\", \"name\": \"Male Head of Household\", \"marker\": {\"color\": \"rgb(258,225,225)\", \"line\": {\"color\": \"rgb(192,0,0)\", \"width\": 1.5}}}], {\"barmode\": \"stack\", \"title\": \"Livelihoods Strategies\", \"annotations\": [], \"xaxis\": {\"tickangle\": -45}, \"width\": 700}, {\"linkText\": \"Export to plot.ly\", \"showLink\": true})});</script>"
      ]
     },
     "metadata": {},
     "output_type": "display_data"
    },
    {
     "data": {
      "application/vnd.plotly.v1+json": {
       "data": [
        {
         "marker": {
          "color": "rgb(225,225,258)",
          "line": {
           "color": "rgb(0,0,192)",
           "width": 1.5
          }
         },
         "name": "Female respondent",
         "type": "bar",
         "x": [
          "Agriculture",
          "Livestock",
          "Labour",
          "Other",
          "Handicrafts"
         ],
         "y": [
          4.608294930875576,
          15.668202764976959,
          18.433179723502302,
          8.755760368663594,
          0.4608294930875576
         ]
        },
        {
         "marker": {
          "color": "rgb(258,225,225)",
          "line": {
           "color": "rgb(192,0,0)",
           "width": 1.5
          }
         },
         "name": "Male respondent",
         "type": "bar",
         "x": [
          "Agriculture",
          "Labour",
          "Other",
          "Livestock",
          "Forestry",
          "Handicrafts"
         ],
         "y": [
          21.658986175115206,
          29.493087557603687,
          9.216589861751151,
          30.4147465437788,
          0.4608294930875576,
          0.9216589861751152
         ]
        }
       ],
       "layout": {
        "annotations": [],
        "barmode": "stack",
        "title": "Livelihoods Strategies",
        "width": 700,
        "xaxis": {
         "tickangle": -45
        }
       }
      },
      "text/html": [
       "<div id=\"a8125cc5-b5c9-47a2-9d25-8d05f7405798\" style=\"height: 525px; width: 700px;\" class=\"plotly-graph-div\"></div><script type=\"text/javascript\">require([\"plotly\"], function(Plotly) { window.PLOTLYENV=window.PLOTLYENV || {};window.PLOTLYENV.BASE_URL=\"https://plot.ly\";Plotly.newPlot(\"a8125cc5-b5c9-47a2-9d25-8d05f7405798\", [{\"y\": [4.608294930875576, 15.668202764976959, 18.433179723502302, 8.755760368663594, 0.4608294930875576], \"x\": [\"Agriculture\", \"Livestock\", \"Labour\", \"Other\", \"Handicrafts\"], \"type\": \"bar\", \"name\": \"Female respondent\", \"marker\": {\"color\": \"rgb(225,225,258)\", \"line\": {\"color\": \"rgb(0,0,192)\", \"width\": 1.5}}}, {\"y\": [21.658986175115206, 29.493087557603687, 9.216589861751151, 30.4147465437788, 0.4608294930875576, 0.9216589861751152], \"x\": [\"Agriculture\", \"Labour\", \"Other\", \"Livestock\", \"Forestry\", \"Handicrafts\"], \"type\": \"bar\", \"name\": \"Male respondent\", \"marker\": {\"color\": \"rgb(258,225,225)\", \"line\": {\"color\": \"rgb(192,0,0)\", \"width\": 1.5}}}], {\"barmode\": \"stack\", \"title\": \"Livelihoods Strategies\", \"annotations\": [], \"xaxis\": {\"tickangle\": -45}, \"width\": 700}, {\"linkText\": \"Export to plot.ly\", \"showLink\": true})});</script>"
      ],
      "text/vnd.plotly.v1+html": [
       "<div id=\"a8125cc5-b5c9-47a2-9d25-8d05f7405798\" style=\"height: 525px; width: 700px;\" class=\"plotly-graph-div\"></div><script type=\"text/javascript\">require([\"plotly\"], function(Plotly) { window.PLOTLYENV=window.PLOTLYENV || {};window.PLOTLYENV.BASE_URL=\"https://plot.ly\";Plotly.newPlot(\"a8125cc5-b5c9-47a2-9d25-8d05f7405798\", [{\"y\": [4.608294930875576, 15.668202764976959, 18.433179723502302, 8.755760368663594, 0.4608294930875576], \"x\": [\"Agriculture\", \"Livestock\", \"Labour\", \"Other\", \"Handicrafts\"], \"type\": \"bar\", \"name\": \"Female respondent\", \"marker\": {\"color\": \"rgb(225,225,258)\", \"line\": {\"color\": \"rgb(0,0,192)\", \"width\": 1.5}}}, {\"y\": [21.658986175115206, 29.493087557603687, 9.216589861751151, 30.4147465437788, 0.4608294930875576, 0.9216589861751152], \"x\": [\"Agriculture\", \"Labour\", \"Other\", \"Livestock\", \"Forestry\", \"Handicrafts\"], \"type\": \"bar\", \"name\": \"Male respondent\", \"marker\": {\"color\": \"rgb(258,225,225)\", \"line\": {\"color\": \"rgb(192,0,0)\", \"width\": 1.5}}}], {\"barmode\": \"stack\", \"title\": \"Livelihoods Strategies\", \"annotations\": [], \"xaxis\": {\"tickangle\": -45}, \"width\": 700}, {\"linkText\": \"Export to plot.ly\", \"showLink\": true})});</script>"
      ]
     },
     "metadata": {},
     "output_type": "display_data"
    },
    {
     "data": {
      "application/vnd.plotly.v1+json": {
       "data": [
        {
         "marker": {
          "color": "rgb(258,225,225)",
          "line": {
           "color": "rgb(192,0,0)",
           "width": 1.5
          }
         },
         "name": "Livelihoods Strategies",
         "type": "bar",
         "x": [
          "Agriculture",
          "Labour",
          "Other",
          "Livestock",
          "Forestry",
          "Handicrafts"
         ],
         "y": [
          26.27,
          47.93,
          17.97,
          46.08,
          0.46,
          1.38
         ]
        }
       ],
       "layout": {
        "annotations": [
         {
          "font": {
           "color": "rgba(100, 0, 0, 1)",
           "family": "Arial",
           "size": 14
          },
          "showarrow": false,
          "text": "26.27%",
          "x": "Agriculture",
          "y": 27.77
         },
         {
          "font": {
           "color": "rgba(100, 0, 0, 1)",
           "family": "Arial",
           "size": 14
          },
          "showarrow": false,
          "text": "47.93%",
          "x": "Labour",
          "y": 49.43
         },
         {
          "font": {
           "color": "rgba(100, 0, 0, 1)",
           "family": "Arial",
           "size": 14
          },
          "showarrow": false,
          "text": "17.97%",
          "x": "Other",
          "y": 19.47
         },
         {
          "font": {
           "color": "rgba(100, 0, 0, 1)",
           "family": "Arial",
           "size": 14
          },
          "showarrow": false,
          "text": "46.08%",
          "x": "Livestock",
          "y": 47.58
         },
         {
          "font": {
           "color": "rgba(100, 0, 0, 1)",
           "family": "Arial",
           "size": 14
          },
          "showarrow": false,
          "text": "0.46%",
          "x": "Forestry",
          "y": 1.96
         },
         {
          "font": {
           "color": "rgba(100, 0, 0, 1)",
           "family": "Arial",
           "size": 14
          },
          "showarrow": false,
          "text": "1.38%",
          "x": "Handicrafts",
          "y": 2.88
         }
        ],
        "title": "Livelihoods Strategies",
        "width": 700,
        "xaxis": {
         "tickangle": -45
        }
       }
      },
      "text/html": [
       "<div id=\"5206a908-5cbe-4095-ad7d-9510657d2335\" style=\"height: 525px; width: 700px;\" class=\"plotly-graph-div\"></div><script type=\"text/javascript\">require([\"plotly\"], function(Plotly) { window.PLOTLYENV=window.PLOTLYENV || {};window.PLOTLYENV.BASE_URL=\"https://plot.ly\";Plotly.newPlot(\"5206a908-5cbe-4095-ad7d-9510657d2335\", [{\"y\": [26.27, 47.93, 17.97, 46.08, 0.46, 1.38], \"x\": [\"Agriculture\", \"Labour\", \"Other\", \"Livestock\", \"Forestry\", \"Handicrafts\"], \"type\": \"bar\", \"name\": \"Livelihoods Strategies\", \"marker\": {\"color\": \"rgb(258,225,225)\", \"line\": {\"color\": \"rgb(192,0,0)\", \"width\": 1.5}}}], {\"width\": 700, \"annotations\": [{\"y\": 27.77, \"x\": \"Agriculture\", \"font\": {\"color\": \"rgba(100, 0, 0, 1)\", \"family\": \"Arial\", \"size\": 14}, \"text\": \"26.27%\", \"showarrow\": false}, {\"y\": 49.43, \"x\": \"Labour\", \"font\": {\"color\": \"rgba(100, 0, 0, 1)\", \"family\": \"Arial\", \"size\": 14}, \"text\": \"47.93%\", \"showarrow\": false}, {\"y\": 19.47, \"x\": \"Other\", \"font\": {\"color\": \"rgba(100, 0, 0, 1)\", \"family\": \"Arial\", \"size\": 14}, \"text\": \"17.97%\", \"showarrow\": false}, {\"y\": 47.58, \"x\": \"Livestock\", \"font\": {\"color\": \"rgba(100, 0, 0, 1)\", \"family\": \"Arial\", \"size\": 14}, \"text\": \"46.08%\", \"showarrow\": false}, {\"y\": 1.96, \"x\": \"Forestry\", \"font\": {\"color\": \"rgba(100, 0, 0, 1)\", \"family\": \"Arial\", \"size\": 14}, \"text\": \"0.46%\", \"showarrow\": false}, {\"y\": 2.88, \"x\": \"Handicrafts\", \"font\": {\"color\": \"rgba(100, 0, 0, 1)\", \"family\": \"Arial\", \"size\": 14}, \"text\": \"1.38%\", \"showarrow\": false}], \"xaxis\": {\"tickangle\": -45}, \"title\": \"Livelihoods Strategies\"}, {\"linkText\": \"Export to plot.ly\", \"showLink\": true})});</script>"
      ],
      "text/vnd.plotly.v1+html": [
       "<div id=\"5206a908-5cbe-4095-ad7d-9510657d2335\" style=\"height: 525px; width: 700px;\" class=\"plotly-graph-div\"></div><script type=\"text/javascript\">require([\"plotly\"], function(Plotly) { window.PLOTLYENV=window.PLOTLYENV || {};window.PLOTLYENV.BASE_URL=\"https://plot.ly\";Plotly.newPlot(\"5206a908-5cbe-4095-ad7d-9510657d2335\", [{\"y\": [26.27, 47.93, 17.97, 46.08, 0.46, 1.38], \"x\": [\"Agriculture\", \"Labour\", \"Other\", \"Livestock\", \"Forestry\", \"Handicrafts\"], \"type\": \"bar\", \"name\": \"Livelihoods Strategies\", \"marker\": {\"color\": \"rgb(258,225,225)\", \"line\": {\"color\": \"rgb(192,0,0)\", \"width\": 1.5}}}], {\"width\": 700, \"annotations\": [{\"y\": 27.77, \"x\": \"Agriculture\", \"font\": {\"color\": \"rgba(100, 0, 0, 1)\", \"family\": \"Arial\", \"size\": 14}, \"text\": \"26.27%\", \"showarrow\": false}, {\"y\": 49.43, \"x\": \"Labour\", \"font\": {\"color\": \"rgba(100, 0, 0, 1)\", \"family\": \"Arial\", \"size\": 14}, \"text\": \"47.93%\", \"showarrow\": false}, {\"y\": 19.47, \"x\": \"Other\", \"font\": {\"color\": \"rgba(100, 0, 0, 1)\", \"family\": \"Arial\", \"size\": 14}, \"text\": \"17.97%\", \"showarrow\": false}, {\"y\": 47.58, \"x\": \"Livestock\", \"font\": {\"color\": \"rgba(100, 0, 0, 1)\", \"family\": \"Arial\", \"size\": 14}, \"text\": \"46.08%\", \"showarrow\": false}, {\"y\": 1.96, \"x\": \"Forestry\", \"font\": {\"color\": \"rgba(100, 0, 0, 1)\", \"family\": \"Arial\", \"size\": 14}, \"text\": \"0.46%\", \"showarrow\": false}, {\"y\": 2.88, \"x\": \"Handicrafts\", \"font\": {\"color\": \"rgba(100, 0, 0, 1)\", \"family\": \"Arial\", \"size\": 14}, \"text\": \"1.38%\", \"showarrow\": false}], \"xaxis\": {\"tickangle\": -45}, \"title\": \"Livelihoods Strategies\"}, {\"linkText\": \"Export to plot.ly\", \"showLink\": true})});</script>"
      ]
     },
     "metadata": {},
     "output_type": "display_data"
    }
   ],
   "source": [
    "lh_perc = 100*lh_values/total_surveys\n",
    "lh_perc = lh_perc.round(2)\n",
    "\n",
    "create_stacked_bars_graph((reg_survey_femHoHH, reg_survey_maleHoHH),\n",
    "                              lambda x: 100 * get_ocurrences(x, 'src_incomes') / total_surveys,\n",
    "                              lambda x: map(lambda y: y.capitalize(), x.index.values),\n",
    "                              lambda x: x.values,\n",
    "                              \"Livelihoods Strategies\",\n",
    "                              \"Female Head of Household\",\n",
    "                              \"Male Head of Household\")\n",
    "\n",
    "create_stacked_bars_graph((reg_survey_female, reg_survey_male),\n",
    "                              lambda x: 100 * get_ocurrences(x, 'src_incomes') / total_surveys,\n",
    "                              lambda x: map(lambda y: y.capitalize(), x.index.values),\n",
    "                              lambda x: x.values,\n",
    "                              \"Livelihoods Strategies\",\n",
    "                              \"Female respondent\",\n",
    "                              \"Male respondent\")\n",
    "\n",
    "livelihoods_strategies = {\n",
    "    \"layout\": {\n",
    "        \"title\": \"Livelihoods Strategies\",\n",
    "        \"xaxis\": {\n",
    "            \"tickangle\": -45\n",
    "        },\n",
    "        \"width\": 700,\n",
    "        \"annotations\": []\n",
    "    },\n",
    "    \"data\": [\n",
    "        {\n",
    "            \"x\": map(lambda x: x.capitalize(), lh_perc.index.values),\n",
    "            \"y\": lh_perc.values,\n",
    "            \"type\": \"bar\",\n",
    "            \"name\": \"Livelihoods Strategies\",\n",
    "            \"marker\": {\n",
    "                \"color\": 'rgb(258,225,225)',\n",
    "                \"line\": {\n",
    "                    \"color\": 'rgb(192,0,0)',\n",
    "                    \"width\": 1.5\n",
    "                }\n",
    "            },\n",
    "        }\n",
    "    ]\n",
    "}\n",
    "\n",
    "\n",
    "for i in range(0, len(lh_values)):\n",
    "    livelihoods_strategies[\"layout\"][\"annotations\"].append(\n",
    "        {\n",
    "            \"x\": map(lambda x: x.capitalize(), lh_perc.index.values)[i],\n",
    "            \"y\": lh_perc.values[i] + 1.5,\n",
    "            \"text\": str(lh_perc.values[i]) + \"%\",\n",
    "            \"font\": dict(\n",
    "                family='Arial',\n",
    "                size=14,\n",
    "                color='rgba(100, 0, 0, 1)'\n",
    "            ),\n",
    "            \"showarrow\": False,\n",
    "\n",
    "        }\n",
    "    )\n",
    "\n",
    "iplot(livelihoods_strategies)"
   ]
  },
  {
   "cell_type": "code",
   "execution_count": 31,
   "metadata": {},
   "outputs": [
    {
     "data": {
      "application/vnd.plotly.v1+json": {
       "data": [
        {
         "marker": {
          "color": "rgb(258,225,225)",
          "line": {
           "color": "rgb(192,0,0)",
           "width": 1.5
          }
         },
         "name": "Livelihoods Strategies",
         "type": "bar",
         "x": [
          "Agriculture",
          "Labour",
          "Other",
          "Livestock",
          "Handicrafts"
         ],
         "y": [
          25,
          52.78,
          16.67,
          47.22,
          2.78
         ]
        }
       ],
       "layout": {
        "annotations": [
         {
          "font": {
           "color": "rgba(100, 0, 0, 1)",
           "family": "Arial",
           "size": 14
          },
          "showarrow": false,
          "text": "25.0%",
          "x": "Agriculture",
          "y": 26.2
         },
         {
          "font": {
           "color": "rgba(100, 0, 0, 1)",
           "family": "Arial",
           "size": 14
          },
          "showarrow": false,
          "text": "52.78%",
          "x": "Labour",
          "y": 53.980000000000004
         },
         {
          "font": {
           "color": "rgba(100, 0, 0, 1)",
           "family": "Arial",
           "size": 14
          },
          "showarrow": false,
          "text": "16.67%",
          "x": "Other",
          "y": 17.87
         },
         {
          "font": {
           "color": "rgba(100, 0, 0, 1)",
           "family": "Arial",
           "size": 14
          },
          "showarrow": false,
          "text": "47.22%",
          "x": "Livestock",
          "y": 48.42
         },
         {
          "font": {
           "color": "rgba(100, 0, 0, 1)",
           "family": "Arial",
           "size": 14
          },
          "showarrow": false,
          "text": "2.78%",
          "x": "Handicrafts",
          "y": 3.9799999999999995
         }
        ],
        "title": "Livelihoods Strategies in HH with dependent members",
        "width": 700,
        "xaxis": {
         "tickangle": -45
        }
       }
      },
      "text/html": [
       "<div id=\"4ee4d5d2-ee2c-423f-94d3-5db664a6ec21\" style=\"height: 525px; width: 700px;\" class=\"plotly-graph-div\"></div><script type=\"text/javascript\">require([\"plotly\"], function(Plotly) { window.PLOTLYENV=window.PLOTLYENV || {};window.PLOTLYENV.BASE_URL=\"https://plot.ly\";Plotly.newPlot(\"4ee4d5d2-ee2c-423f-94d3-5db664a6ec21\", [{\"y\": [25.0, 52.78, 16.67, 47.22, 2.78], \"x\": [\"Agriculture\", \"Labour\", \"Other\", \"Livestock\", \"Handicrafts\"], \"type\": \"bar\", \"name\": \"Livelihoods Strategies\", \"marker\": {\"color\": \"rgb(258,225,225)\", \"line\": {\"color\": \"rgb(192,0,0)\", \"width\": 1.5}}}], {\"width\": 700, \"annotations\": [{\"y\": 26.2, \"x\": \"Agriculture\", \"font\": {\"color\": \"rgba(100, 0, 0, 1)\", \"family\": \"Arial\", \"size\": 14}, \"text\": \"25.0%\", \"showarrow\": false}, {\"y\": 53.980000000000004, \"x\": \"Labour\", \"font\": {\"color\": \"rgba(100, 0, 0, 1)\", \"family\": \"Arial\", \"size\": 14}, \"text\": \"52.78%\", \"showarrow\": false}, {\"y\": 17.87, \"x\": \"Other\", \"font\": {\"color\": \"rgba(100, 0, 0, 1)\", \"family\": \"Arial\", \"size\": 14}, \"text\": \"16.67%\", \"showarrow\": false}, {\"y\": 48.42, \"x\": \"Livestock\", \"font\": {\"color\": \"rgba(100, 0, 0, 1)\", \"family\": \"Arial\", \"size\": 14}, \"text\": \"47.22%\", \"showarrow\": false}, {\"y\": 3.9799999999999995, \"x\": \"Handicrafts\", \"font\": {\"color\": \"rgba(100, 0, 0, 1)\", \"family\": \"Arial\", \"size\": 14}, \"text\": \"2.78%\", \"showarrow\": false}], \"xaxis\": {\"tickangle\": -45}, \"title\": \"Livelihoods Strategies in HH with dependent members\"}, {\"linkText\": \"Export to plot.ly\", \"showLink\": true})});</script>"
      ],
      "text/vnd.plotly.v1+html": [
       "<div id=\"4ee4d5d2-ee2c-423f-94d3-5db664a6ec21\" style=\"height: 525px; width: 700px;\" class=\"plotly-graph-div\"></div><script type=\"text/javascript\">require([\"plotly\"], function(Plotly) { window.PLOTLYENV=window.PLOTLYENV || {};window.PLOTLYENV.BASE_URL=\"https://plot.ly\";Plotly.newPlot(\"4ee4d5d2-ee2c-423f-94d3-5db664a6ec21\", [{\"y\": [25.0, 52.78, 16.67, 47.22, 2.78], \"x\": [\"Agriculture\", \"Labour\", \"Other\", \"Livestock\", \"Handicrafts\"], \"type\": \"bar\", \"name\": \"Livelihoods Strategies\", \"marker\": {\"color\": \"rgb(258,225,225)\", \"line\": {\"color\": \"rgb(192,0,0)\", \"width\": 1.5}}}], {\"width\": 700, \"annotations\": [{\"y\": 26.2, \"x\": \"Agriculture\", \"font\": {\"color\": \"rgba(100, 0, 0, 1)\", \"family\": \"Arial\", \"size\": 14}, \"text\": \"25.0%\", \"showarrow\": false}, {\"y\": 53.980000000000004, \"x\": \"Labour\", \"font\": {\"color\": \"rgba(100, 0, 0, 1)\", \"family\": \"Arial\", \"size\": 14}, \"text\": \"52.78%\", \"showarrow\": false}, {\"y\": 17.87, \"x\": \"Other\", \"font\": {\"color\": \"rgba(100, 0, 0, 1)\", \"family\": \"Arial\", \"size\": 14}, \"text\": \"16.67%\", \"showarrow\": false}, {\"y\": 48.42, \"x\": \"Livestock\", \"font\": {\"color\": \"rgba(100, 0, 0, 1)\", \"family\": \"Arial\", \"size\": 14}, \"text\": \"47.22%\", \"showarrow\": false}, {\"y\": 3.9799999999999995, \"x\": \"Handicrafts\", \"font\": {\"color\": \"rgba(100, 0, 0, 1)\", \"family\": \"Arial\", \"size\": 14}, \"text\": \"2.78%\", \"showarrow\": false}], \"xaxis\": {\"tickangle\": -45}, \"title\": \"Livelihoods Strategies in HH with dependent members\"}, {\"linkText\": \"Export to plot.ly\", \"showLink\": true})});</script>"
      ]
     },
     "metadata": {},
     "output_type": "display_data"
    }
   ],
   "source": [
    "lh_values_hand = get_ocurrences(reg_survey_hand_yes, 'src_incomes')\n",
    "lh_perc_hand = 100*lh_values_hand/reg_survey_hand_yes['deviceid'].count()\n",
    "lh_perc_hand = lh_perc_hand.round(2)\n",
    "\n",
    "livelihoods_strategies_hand = {\n",
    "    \"layout\": {\n",
    "        \"title\": \"Livelihoods Strategies in HH with dependent members\",\n",
    "        \"xaxis\": {\n",
    "            \"tickangle\": -45\n",
    "        },\n",
    "        \"width\": 700,\n",
    "        \"annotations\": []\n",
    "    },\n",
    "    \"data\": [\n",
    "        {\n",
    "            \"x\": map(lambda x: x.capitalize(), lh_perc_hand.index.values),\n",
    "            \"y\": lh_perc_hand.values,\n",
    "            \"type\": \"bar\",\n",
    "            \"name\": \"Livelihoods Strategies\",\n",
    "            \"marker\": {\n",
    "                \"color\": 'rgb(258,225,225)',\n",
    "                \"line\": {\n",
    "                    \"color\": 'rgb(192,0,0)',\n",
    "                    \"width\": 1.5\n",
    "                }\n",
    "            },\n",
    "        }\n",
    "    ]\n",
    "}\n",
    "\n",
    "\n",
    "for i in range(0, len(lh_values_hand)):\n",
    "    livelihoods_strategies_hand[\"layout\"][\"annotations\"].append(\n",
    "        {\n",
    "            \"x\": map(lambda x: x.capitalize(), lh_perc_hand.index.values)[i],\n",
    "            \"y\": lh_perc_hand.values[i] + 1.2,\n",
    "            \"text\": str(lh_perc_hand.values[i]) + \"%\",\n",
    "            \"font\": dict(\n",
    "                family='Arial',\n",
    "                size=14,\n",
    "                color='rgba(100, 0, 0, 1)'\n",
    "            ),\n",
    "            \"showarrow\": False,\n",
    "\n",
    "        }\n",
    "    )\n",
    "\n",
    "iplot(livelihoods_strategies_hand)"
   ]
  },
  {
   "cell_type": "markdown",
   "metadata": {},
   "source": [
    "Main livelihoods per household"
   ]
  },
  {
   "cell_type": "code",
   "execution_count": 32,
   "metadata": {},
   "outputs": [
    {
     "name": "stdout",
     "output_type": "stream",
     "text": [
      "src_incomes\n",
      "labour                               75\n",
      "livestock                            41\n",
      "agriculture livestock                29\n",
      "other                                22\n",
      "livestock labour                     13\n",
      "agriculture livestock labour          6\n",
      "livestock other                       5\n",
      "agriculture labour                    5\n",
      "agriculture                           5\n",
      "agriculture other                     4\n",
      "labour other                          3\n",
      "agriculture livestock other           3\n",
      "agriculture livestock handicrafts     2\n",
      "agriculture labour other              2\n",
      "handicrafts                           1\n",
      "agriculture livestock forestry        1\n",
      "dtype: int64\n"
     ]
    },
    {
     "data": {
      "application/vnd.plotly.v1+json": {
       "data": [
        {
         "domain": {
          "x": [
           0,
           0.32
          ]
         },
         "labels": [
          1,
          2,
          3
         ],
         "sort": false,
         "type": "pie",
         "values": [
          51,
          7,
          2
         ]
        },
        {
         "domain": {
          "x": [
           0.34,
           0.64
          ]
         },
         "labels": [
          1,
          2,
          3
         ],
         "sort": false,
         "type": "pie",
         "values": [
          144,
          59,
          14
         ]
        },
        {
         "domain": {
          "x": [
           0.66,
           0.98
          ]
         },
         "labels": [
          1,
          2,
          3
         ],
         "sort": false,
         "type": "pie",
         "values": [
          93,
          52,
          12
         ]
        }
       ],
       "layout": {
        "annotations": [
         {
          "font": {
           "size": 14
          },
          "showarrow": false,
          "text": "Female Head of Household",
          "x": 0.04,
          "y": 1
         },
         {
          "font": {
           "size": 14
          },
          "showarrow": false,
          "text": "Global",
          "x": 0.5,
          "y": 1
         },
         {
          "font": {
           "size": 14
          },
          "showarrow": false,
          "text": "Male Head of Household",
          "x": 0.94,
          "y": 1
         }
        ],
        "title": "Number of livelihoods Strategies"
       }
      },
      "text/html": [
       "<div id=\"5444aea1-dd1a-405a-ab9e-fdc288585191\" style=\"height: 525px; width: 100%;\" class=\"plotly-graph-div\"></div><script type=\"text/javascript\">require([\"plotly\"], function(Plotly) { window.PLOTLYENV=window.PLOTLYENV || {};window.PLOTLYENV.BASE_URL=\"https://plot.ly\";Plotly.newPlot(\"5444aea1-dd1a-405a-ab9e-fdc288585191\", [{\"sort\": false, \"values\": [51, 7, 2], \"domain\": {\"x\": [0, 0.32]}, \"labels\": [1, 2, 3], \"type\": \"pie\"}, {\"sort\": false, \"values\": [144, 59, 14], \"domain\": {\"x\": [0.34, 0.64]}, \"labels\": [1, 2, 3], \"type\": \"pie\"}, {\"sort\": false, \"values\": [93, 52, 12], \"domain\": {\"x\": [0.66, 0.98]}, \"labels\": [1, 2, 3], \"type\": \"pie\"}], {\"annotations\": [{\"y\": 1, \"text\": \"Female Head of Household\", \"font\": {\"size\": 14}, \"showarrow\": false, \"x\": 0.04}, {\"y\": 1, \"text\": \"Global\", \"font\": {\"size\": 14}, \"showarrow\": false, \"x\": 0.5}, {\"y\": 1, \"text\": \"Male Head of Household\", \"font\": {\"size\": 14}, \"showarrow\": false, \"x\": 0.94}], \"title\": \"Number of livelihoods Strategies\"}, {\"linkText\": \"Export to plot.ly\", \"showLink\": true})});</script>"
      ],
      "text/vnd.plotly.v1+html": [
       "<div id=\"5444aea1-dd1a-405a-ab9e-fdc288585191\" style=\"height: 525px; width: 100%;\" class=\"plotly-graph-div\"></div><script type=\"text/javascript\">require([\"plotly\"], function(Plotly) { window.PLOTLYENV=window.PLOTLYENV || {};window.PLOTLYENV.BASE_URL=\"https://plot.ly\";Plotly.newPlot(\"5444aea1-dd1a-405a-ab9e-fdc288585191\", [{\"sort\": false, \"values\": [51, 7, 2], \"domain\": {\"x\": [0, 0.32]}, \"labels\": [1, 2, 3], \"type\": \"pie\"}, {\"sort\": false, \"values\": [144, 59, 14], \"domain\": {\"x\": [0.34, 0.64]}, \"labels\": [1, 2, 3], \"type\": \"pie\"}, {\"sort\": false, \"values\": [93, 52, 12], \"domain\": {\"x\": [0.66, 0.98]}, \"labels\": [1, 2, 3], \"type\": \"pie\"}], {\"annotations\": [{\"y\": 1, \"text\": \"Female Head of Household\", \"font\": {\"size\": 14}, \"showarrow\": false, \"x\": 0.04}, {\"y\": 1, \"text\": \"Global\", \"font\": {\"size\": 14}, \"showarrow\": false, \"x\": 0.5}, {\"y\": 1, \"text\": \"Male Head of Household\", \"font\": {\"size\": 14}, \"showarrow\": false, \"x\": 0.94}], \"title\": \"Number of livelihoods Strategies\"}, {\"linkText\": \"Export to plot.ly\", \"showLink\": true})});</script>"
      ]
     },
     "metadata": {},
     "output_type": "display_data"
    },
    {
     "data": {
      "application/vnd.plotly.v1+json": {
       "data": [
        {
         "domain": {
          "x": [
           0,
           0.32
          ]
         },
         "labels": [
          1,
          2,
          3
         ],
         "sort": false,
         "type": "pie",
         "values": [
          77,
          9,
          3
         ]
        },
        {
         "domain": {
          "x": [
           0.34,
           0.64
          ]
         },
         "labels": [
          1,
          2,
          3
         ],
         "sort": false,
         "type": "pie",
         "values": [
          144,
          59,
          14
         ]
        },
        {
         "domain": {
          "x": [
           0.66,
           0.98
          ]
         },
         "labels": [
          1,
          2,
          3
         ],
         "sort": false,
         "type": "pie",
         "values": [
          67,
          50,
          11
         ]
        }
       ],
       "layout": {
        "annotations": [
         {
          "font": {
           "size": 14
          },
          "showarrow": false,
          "text": "Female Respondent",
          "x": 0.07,
          "y": 1
         },
         {
          "font": {
           "size": 14
          },
          "showarrow": false,
          "text": "Global",
          "x": 0.5,
          "y": 1
         },
         {
          "font": {
           "size": 14
          },
          "showarrow": false,
          "text": "Male Respondent",
          "x": 0.91,
          "y": 1
         }
        ],
        "title": "Number of livelihoods Strategies"
       }
      },
      "text/html": [
       "<div id=\"f7394d1e-f125-40b0-bceb-78b0e154fe22\" style=\"height: 525px; width: 100%;\" class=\"plotly-graph-div\"></div><script type=\"text/javascript\">require([\"plotly\"], function(Plotly) { window.PLOTLYENV=window.PLOTLYENV || {};window.PLOTLYENV.BASE_URL=\"https://plot.ly\";Plotly.newPlot(\"f7394d1e-f125-40b0-bceb-78b0e154fe22\", [{\"sort\": false, \"values\": [77, 9, 3], \"domain\": {\"x\": [0, 0.32]}, \"labels\": [1, 2, 3], \"type\": \"pie\"}, {\"sort\": false, \"values\": [144, 59, 14], \"domain\": {\"x\": [0.34, 0.64]}, \"labels\": [1, 2, 3], \"type\": \"pie\"}, {\"sort\": false, \"values\": [67, 50, 11], \"domain\": {\"x\": [0.66, 0.98]}, \"labels\": [1, 2, 3], \"type\": \"pie\"}], {\"annotations\": [{\"y\": 1, \"text\": \"Female Respondent\", \"font\": {\"size\": 14}, \"showarrow\": false, \"x\": 0.07}, {\"y\": 1, \"text\": \"Global\", \"font\": {\"size\": 14}, \"showarrow\": false, \"x\": 0.5}, {\"y\": 1, \"text\": \"Male Respondent\", \"font\": {\"size\": 14}, \"showarrow\": false, \"x\": 0.91}], \"title\": \"Number of livelihoods Strategies\"}, {\"linkText\": \"Export to plot.ly\", \"showLink\": true})});</script>"
      ],
      "text/vnd.plotly.v1+html": [
       "<div id=\"f7394d1e-f125-40b0-bceb-78b0e154fe22\" style=\"height: 525px; width: 100%;\" class=\"plotly-graph-div\"></div><script type=\"text/javascript\">require([\"plotly\"], function(Plotly) { window.PLOTLYENV=window.PLOTLYENV || {};window.PLOTLYENV.BASE_URL=\"https://plot.ly\";Plotly.newPlot(\"f7394d1e-f125-40b0-bceb-78b0e154fe22\", [{\"sort\": false, \"values\": [77, 9, 3], \"domain\": {\"x\": [0, 0.32]}, \"labels\": [1, 2, 3], \"type\": \"pie\"}, {\"sort\": false, \"values\": [144, 59, 14], \"domain\": {\"x\": [0.34, 0.64]}, \"labels\": [1, 2, 3], \"type\": \"pie\"}, {\"sort\": false, \"values\": [67, 50, 11], \"domain\": {\"x\": [0.66, 0.98]}, \"labels\": [1, 2, 3], \"type\": \"pie\"}], {\"annotations\": [{\"y\": 1, \"text\": \"Female Respondent\", \"font\": {\"size\": 14}, \"showarrow\": false, \"x\": 0.07}, {\"y\": 1, \"text\": \"Global\", \"font\": {\"size\": 14}, \"showarrow\": false, \"x\": 0.5}, {\"y\": 1, \"text\": \"Male Respondent\", \"font\": {\"size\": 14}, \"showarrow\": false, \"x\": 0.91}], \"title\": \"Number of livelihoods Strategies\"}, {\"linkText\": \"Export to plot.ly\", \"showLink\": true})});</script>"
      ]
     },
     "metadata": {},
     "output_type": "display_data"
    }
   ],
   "source": [
    "print src_incomes_sums.sort_values(ascending = False)\n",
    "reg_survey['num_lh_strats'] = reg_survey['src_incomes'].map(lambda x: len(x.split()))\n",
    "create_graphs_HoHH(lambda x: x.groupby('num_lh_strats').size(),\n",
    "                         lambda x: x.values,\n",
    "                         lambda x: x.index.values,\n",
    "                         lambda x: x.sum(),\n",
    "                         \"Number of livelihoods Strategies\")\n",
    "create_graphs_respondent(lambda x: x.groupby('num_lh_strats').size(),\n",
    "                         lambda x: x.values,\n",
    "                         lambda x: x.index.values,\n",
    "                         lambda x: x.sum(),\n",
    "                         \"Number of livelihoods Strategies\")"
   ]
  },
  {
   "cell_type": "code",
   "execution_count": 33,
   "metadata": {},
   "outputs": [
    {
     "data": {
      "application/vnd.plotly.v1+json": {
       "data": [
        {
         "labels": [
          1,
          2,
          3
         ],
         "sort": false,
         "type": "pie",
         "values": [
          24,
          8,
          4
         ]
        }
       ],
       "layout": {
        "title": "Number livelihoods strategies in HH with dependent members"
       }
      },
      "text/html": [
       "<div id=\"0f3bb4b4-254d-4e18-b033-984b1cea03e7\" style=\"height: 525px; width: 100%;\" class=\"plotly-graph-div\"></div><script type=\"text/javascript\">require([\"plotly\"], function(Plotly) { window.PLOTLYENV=window.PLOTLYENV || {};window.PLOTLYENV.BASE_URL=\"https://plot.ly\";Plotly.newPlot(\"0f3bb4b4-254d-4e18-b033-984b1cea03e7\", [{\"sort\": false, \"values\": [24, 8, 4], \"labels\": [1, 2, 3], \"type\": \"pie\"}], {\"title\": \"Number livelihoods strategies in HH with dependent members\"}, {\"linkText\": \"Export to plot.ly\", \"showLink\": true})});</script>"
      ],
      "text/vnd.plotly.v1+html": [
       "<div id=\"0f3bb4b4-254d-4e18-b033-984b1cea03e7\" style=\"height: 525px; width: 100%;\" class=\"plotly-graph-div\"></div><script type=\"text/javascript\">require([\"plotly\"], function(Plotly) { window.PLOTLYENV=window.PLOTLYENV || {};window.PLOTLYENV.BASE_URL=\"https://plot.ly\";Plotly.newPlot(\"0f3bb4b4-254d-4e18-b033-984b1cea03e7\", [{\"sort\": false, \"values\": [24, 8, 4], \"labels\": [1, 2, 3], \"type\": \"pie\"}], {\"title\": \"Number livelihoods strategies in HH with dependent members\"}, {\"linkText\": \"Export to plot.ly\", \"showLink\": true})});</script>"
      ]
     },
     "metadata": {},
     "output_type": "display_data"
    }
   ],
   "source": [
    "reg_survey_hand_yes['num_lh_strats'] = reg_survey_hand_yes['src_incomes'].map(lambda x: len(x.split()))\n",
    "create_pie_graph(reg_survey_hand_yes.groupby('num_lh_strats').size(), \"Number livelihoods strategies in HH with dependent members\")"
   ]
  },
  {
   "cell_type": "markdown",
   "metadata": {},
   "source": [
    "- 277 out of 399 hh, i.e. 69.42%, lives only on livestock, forestry or both."
   ]
  },
  {
   "cell_type": "markdown",
   "metadata": {},
   "source": [
    "### Livestock\n",
    "\n",
    "Number of interviewed households owning each type of livestock"
   ]
  },
  {
   "cell_type": "code",
   "execution_count": 34,
   "metadata": {},
   "outputs": [
    {
     "data": {
      "text/plain": [
       "livestock_training\n",
       "no     98\n",
       "yes     1\n",
       "dtype: int64"
      ]
     },
     "execution_count": 34,
     "metadata": {},
     "output_type": "execute_result"
    }
   ],
   "source": [
    "livestock_set = reg_survey.loc[reg_survey['src_incomes'].str.contains(\"livestock\")]\n",
    "livestock_set_female = reg_survey_female.loc[reg_survey_female['src_incomes'].str.contains(\"livestock\")]\n",
    "livestock_set_femHoHH = reg_survey_femHoHH.loc[reg_survey_femHoHH['src_incomes'].str.contains(\"livestock\")]\n",
    "\n",
    "participants = livestock_set.groupby('livestock_participants').size()\n",
    "participants_goats = livestock_set.loc[livestock_set['livestock_type'].str.contains(\"goat\")].groupby('livestock_participants').size()\n",
    "#print participants_goats\n",
    "\n",
    "lvstk_types = ['camel', 'cattle', 'goat', 'sheep', 'chicken']\n",
    "\n",
    "livestock_women = livestock_set.loc[livestock_set['livestock_participants'] == \"women\"]\n",
    "type_women =  livestock_women.groupby('livestock_type').size()\n",
    "#livestock_set = livestock_set.copy()\n",
    "for i in lvstk_types:\n",
    "    livestock_set[i + '_reduced'] = livestock_set['livestock_last_year_' + i] / (livestock_set['livestock_number_' + i] + livestock_set['livestock_number_' + i])\n",
    "#print (\"Types for women\")\n",
    "#print(type_women)\n",
    "#print livestock_set.groupby('camel_reduced').size()\n",
    "goats = livestock_set['livestock_number_goat'].dropna()\n",
    "#goats_female = livestock_set_female['livestock_number_goat'].dropna()\n",
    "goats_femHoHH = livestock_set_femHoHH['livestock_number_goat'].dropna()\n",
    "\n",
    "sheeps = livestock_set['livestock_number_sheep'].dropna()\n",
    "#sheeps_female = livestock_set_female['livestock_number_sheep'].dropna()\n",
    "sheeps_femHoHH = livestock_set_femHoHH['livestock_number_sheep'].dropna()\n",
    "\n",
    "cattle = livestock_set['livestock_number_cattle'].dropna()\n",
    "#cattle_female = livestock_set_female['livestock_number_cattle'].dropna()\n",
    "cattle_femHoHH = livestock_set_femHoHH['livestock_number_cattle'].dropna()\n",
    "\n",
    "chickens = livestock_set['livestock_number_chicken'].dropna()\n",
    "#chickens_female = livestock_set_female['livestock_number_chicken'].dropna()\n",
    "chickens_femHoHH = livestock_set_femHoHH['livestock_number_chicken'].dropna()\n",
    "\n",
    "camels = livestock_set['livestock_number_camel'].dropna()\n",
    "\n",
    "livestock_set.groupby('livestock_training').size()\n"
   ]
  },
  {
   "cell_type": "code",
   "execution_count": 35,
   "metadata": {},
   "outputs": [
    {
     "name": "stdout",
     "output_type": "stream",
     "text": [
      "5516.0\n",
      "21.48\n",
      "14.5052631579\n",
      "33.68\n",
      "14.808988764\n"
     ]
    }
   ],
   "source": [
    "livestock_set['livestock_number_gosh'] = livestock_set['livestock_number_goat'] + livestock_set['livestock_number_sheep']\n",
    "\n",
    "print livestock_set['livestock_number_gosh'].sum()\n",
    "print livestock_set['livestock_number_goat'].mean()\n",
    "print livestock_set.loc[livestock_set.livestock_number_goat <= 50]['livestock_number_goat'].mean()\n",
    "print livestock_set['livestock_number_sheep'].mean()\n",
    "print livestock_set.loc[livestock_set.livestock_number_sheep <= 80]['livestock_number_sheep'].mean()\n",
    "\n",
    "types_lvstck = get_ocurrences(livestock_set, 'livestock_type')\n",
    "\n",
    "def score_gs(gs):\n",
    "    if (gs<= 5):\n",
    "        result = 0\n",
    "    elif (gs <= 20):\n",
    "        result = 1\n",
    "    elif (gs <= 50):\n",
    "        result = 2\n",
    "    elif (gs <= 150):\n",
    "        result = 3\n",
    "    else:\n",
    "        result = 5\n",
    "    return result\n",
    "\n",
    "def score_camel(gs):\n",
    "    if (gs<= 0):\n",
    "        result = 0\n",
    "    elif (gs <= 3):\n",
    "        result = 1\n",
    "    elif (gs <= 6):\n",
    "        result = 2\n",
    "    elif (gs <= 15):\n",
    "        result = 3\n",
    "    else:\n",
    "        result = 5\n",
    "    return result\n",
    "\n",
    "def score_cattle(gs):\n",
    "    if (gs<= 0):\n",
    "        result = 0\n",
    "    elif (gs <= 2):\n",
    "        result = 1\n",
    "    elif (gs <= 5):\n",
    "        result = 2\n",
    "    elif (gs <= 15):\n",
    "        result = 3\n",
    "    else:\n",
    "        result = 5\n",
    "    return result\n",
    "\n",
    "def score_wealth_lvstck(df):\n",
    "    sum_gs = df['livestock_number_gosh'].map(score_gs)\n",
    "    sum_camel = df['livestock_number_camel'].map(score_camel)\n",
    "    sum_cattle = df['livestock_number_cattle'].map(score_cattle)\n",
    "    df['wealth_group_score'] = sum_gs + sum_camel + sum_cattle\n",
    "\n",
    "score_wealth_lvstck(livestock_set)"
   ]
  },
  {
   "cell_type": "code",
   "execution_count": 36,
   "metadata": {
    "scrolled": false
   },
   "outputs": [
    {
     "data": {
      "application/vnd.plotly.v1+json": {
       "data": [
        {
         "marker": {
          "color": "rgb(258,225,225)",
          "line": {
           "color": "rgb(192,0,0)",
           "width": 1.5
          }
         },
         "name": "Livelihoods Strategies",
         "type": "bar",
         "x": [
          "Camel",
          "Cattle",
          "Goat",
          "Sheep",
          "Chicken",
          "Other"
         ],
         "y": [
          23,
          2,
          89,
          67,
          13,
          5
         ]
        }
       ],
       "layout": {
        "annotations": [
         {
          "font": {
           "color": "rgba(100, 0, 0, 1)",
           "family": "Arial",
           "size": 14
          },
          "showarrow": false,
          "text": "23.0%",
          "x": "Camel",
          "y": 24.5
         },
         {
          "font": {
           "color": "rgba(100, 0, 0, 1)",
           "family": "Arial",
           "size": 14
          },
          "showarrow": false,
          "text": "2.0%",
          "x": "Cattle",
          "y": 3.5
         },
         {
          "font": {
           "color": "rgba(100, 0, 0, 1)",
           "family": "Arial",
           "size": 14
          },
          "showarrow": false,
          "text": "89.0%",
          "x": "Goat",
          "y": 90.5
         },
         {
          "font": {
           "color": "rgba(100, 0, 0, 1)",
           "family": "Arial",
           "size": 14
          },
          "showarrow": false,
          "text": "67.0%",
          "x": "Sheep",
          "y": 68.5
         },
         {
          "font": {
           "color": "rgba(100, 0, 0, 1)",
           "family": "Arial",
           "size": 14
          },
          "showarrow": false,
          "text": "13.0%",
          "x": "Chicken",
          "y": 14.5
         },
         {
          "font": {
           "color": "rgba(100, 0, 0, 1)",
           "family": "Arial",
           "size": 14
          },
          "showarrow": false,
          "text": "5.0%",
          "x": "Other",
          "y": 6.5
         }
        ],
        "title": "Livestock types",
        "width": 700,
        "xaxis": {
         "tickangle": -45
        }
       }
      },
      "text/html": [
       "<div id=\"2156264d-e5c9-4dea-a6a1-2659ba7917ff\" style=\"height: 525px; width: 700px;\" class=\"plotly-graph-div\"></div><script type=\"text/javascript\">require([\"plotly\"], function(Plotly) { window.PLOTLYENV=window.PLOTLYENV || {};window.PLOTLYENV.BASE_URL=\"https://plot.ly\";Plotly.newPlot(\"2156264d-e5c9-4dea-a6a1-2659ba7917ff\", [{\"y\": [23.0, 2.0, 89.0, 67.0, 13.0, 5.0], \"x\": [\"Camel\", \"Cattle\", \"Goat\", \"Sheep\", \"Chicken\", \"Other\"], \"type\": \"bar\", \"name\": \"Livelihoods Strategies\", \"marker\": {\"color\": \"rgb(258,225,225)\", \"line\": {\"color\": \"rgb(192,0,0)\", \"width\": 1.5}}}], {\"width\": 700, \"annotations\": [{\"y\": 24.5, \"x\": \"Camel\", \"font\": {\"color\": \"rgba(100, 0, 0, 1)\", \"family\": \"Arial\", \"size\": 14}, \"text\": \"23.0%\", \"showarrow\": false}, {\"y\": 3.5, \"x\": \"Cattle\", \"font\": {\"color\": \"rgba(100, 0, 0, 1)\", \"family\": \"Arial\", \"size\": 14}, \"text\": \"2.0%\", \"showarrow\": false}, {\"y\": 90.5, \"x\": \"Goat\", \"font\": {\"color\": \"rgba(100, 0, 0, 1)\", \"family\": \"Arial\", \"size\": 14}, \"text\": \"89.0%\", \"showarrow\": false}, {\"y\": 68.5, \"x\": \"Sheep\", \"font\": {\"color\": \"rgba(100, 0, 0, 1)\", \"family\": \"Arial\", \"size\": 14}, \"text\": \"67.0%\", \"showarrow\": false}, {\"y\": 14.5, \"x\": \"Chicken\", \"font\": {\"color\": \"rgba(100, 0, 0, 1)\", \"family\": \"Arial\", \"size\": 14}, \"text\": \"13.0%\", \"showarrow\": false}, {\"y\": 6.5, \"x\": \"Other\", \"font\": {\"color\": \"rgba(100, 0, 0, 1)\", \"family\": \"Arial\", \"size\": 14}, \"text\": \"5.0%\", \"showarrow\": false}], \"xaxis\": {\"tickangle\": -45}, \"title\": \"Livestock types\"}, {\"linkText\": \"Export to plot.ly\", \"showLink\": true})});</script>"
      ],
      "text/vnd.plotly.v1+html": [
       "<div id=\"2156264d-e5c9-4dea-a6a1-2659ba7917ff\" style=\"height: 525px; width: 700px;\" class=\"plotly-graph-div\"></div><script type=\"text/javascript\">require([\"plotly\"], function(Plotly) { window.PLOTLYENV=window.PLOTLYENV || {};window.PLOTLYENV.BASE_URL=\"https://plot.ly\";Plotly.newPlot(\"2156264d-e5c9-4dea-a6a1-2659ba7917ff\", [{\"y\": [23.0, 2.0, 89.0, 67.0, 13.0, 5.0], \"x\": [\"Camel\", \"Cattle\", \"Goat\", \"Sheep\", \"Chicken\", \"Other\"], \"type\": \"bar\", \"name\": \"Livelihoods Strategies\", \"marker\": {\"color\": \"rgb(258,225,225)\", \"line\": {\"color\": \"rgb(192,0,0)\", \"width\": 1.5}}}], {\"width\": 700, \"annotations\": [{\"y\": 24.5, \"x\": \"Camel\", \"font\": {\"color\": \"rgba(100, 0, 0, 1)\", \"family\": \"Arial\", \"size\": 14}, \"text\": \"23.0%\", \"showarrow\": false}, {\"y\": 3.5, \"x\": \"Cattle\", \"font\": {\"color\": \"rgba(100, 0, 0, 1)\", \"family\": \"Arial\", \"size\": 14}, \"text\": \"2.0%\", \"showarrow\": false}, {\"y\": 90.5, \"x\": \"Goat\", \"font\": {\"color\": \"rgba(100, 0, 0, 1)\", \"family\": \"Arial\", \"size\": 14}, \"text\": \"89.0%\", \"showarrow\": false}, {\"y\": 68.5, \"x\": \"Sheep\", \"font\": {\"color\": \"rgba(100, 0, 0, 1)\", \"family\": \"Arial\", \"size\": 14}, \"text\": \"67.0%\", \"showarrow\": false}, {\"y\": 14.5, \"x\": \"Chicken\", \"font\": {\"color\": \"rgba(100, 0, 0, 1)\", \"family\": \"Arial\", \"size\": 14}, \"text\": \"13.0%\", \"showarrow\": false}, {\"y\": 6.5, \"x\": \"Other\", \"font\": {\"color\": \"rgba(100, 0, 0, 1)\", \"family\": \"Arial\", \"size\": 14}, \"text\": \"5.0%\", \"showarrow\": false}], \"xaxis\": {\"tickangle\": -45}, \"title\": \"Livestock types\"}, {\"linkText\": \"Export to plot.ly\", \"showLink\": true})});</script>"
      ]
     },
     "metadata": {},
     "output_type": "display_data"
    }
   ],
   "source": [
    "perc_lvstck = 100*types_lvstck/livestock_set['deviceid'].count()\n",
    "perc_lvstck = perc_lvstck.round(2)\n",
    "fig_types_lvstck = {\n",
    "    \"layout\": {\n",
    "        \"title\": \"Livestock types\",\n",
    "        \"xaxis\": {\n",
    "            \"tickangle\": -45\n",
    "        },\n",
    "        \"width\": 700,\n",
    "        \"annotations\": []\n",
    "    },\n",
    "    \"data\": [\n",
    "        {\n",
    "            \"x\": map(lambda x: x.capitalize(), perc_lvstck.index.values),\n",
    "            \"y\": perc_lvstck.values,\n",
    "            \"type\": \"bar\",\n",
    "            \"name\": \"Livelihoods Strategies\",\n",
    "            \"marker\": {\n",
    "                \"color\": 'rgb(258,225,225)',\n",
    "                \"line\": {\n",
    "                    \"color\": 'rgb(192,0,0)',\n",
    "                    \"width\": 1.5\n",
    "                }\n",
    "            }\n",
    "        }\n",
    "    ]\n",
    "}\n",
    "\n",
    "\n",
    "for i in range(0, len(types_lvstck)):\n",
    "    fig_types_lvstck[\"layout\"][\"annotations\"].append(\n",
    "        {\n",
    "            \"x\": map(lambda x: x.capitalize(), perc_lvstck.index.values)[i],\n",
    "            \"y\": perc_lvstck.values[i] + 1.5,\n",
    "            \"text\": str(perc_lvstck.values[i]) + \"%\",\n",
    "            \"font\": dict(\n",
    "                family='Arial',\n",
    "                size=14,\n",
    "                color='rgba(100, 0, 0, 1)'\n",
    "            ),\n",
    "            \"showarrow\": False,\n",
    "\n",
    "        }\n",
    "    )\n",
    "\n",
    "iplot(fig_types_lvstck)\n"
   ]
  },
  {
   "cell_type": "code",
   "execution_count": 37,
   "metadata": {},
   "outputs": [
    {
     "data": {
      "application/vnd.plotly.v1+json": {
       "data": [
        {
         "marker": {
          "size": [
           5,
           5,
           5,
           5,
           5,
           5,
           5,
           5,
           5,
           5,
           5,
           5,
           10,
           5,
           5,
           10,
           5,
           5,
           5,
           5,
           5,
           5,
           5,
           5,
           5,
           5,
           25,
           15,
           10,
           5,
           5,
           5,
           5,
           5,
           5,
           5,
           35,
           5,
           5,
           5,
           5,
           5,
           5,
           35,
           5,
           5,
           5,
           5,
           5,
           10,
           20,
           5,
           10,
           5,
           5,
           5,
           5,
           5,
           10,
           5,
           5,
           5,
           5,
           5,
           5,
           5,
           5,
           5,
           5,
           5,
           5
          ]
         },
         "mode": "markers",
         "type": "scatter",
         "x": [
          0,
          0,
          0,
          0,
          0,
          0,
          0,
          0,
          0,
          1,
          2,
          2,
          3,
          4,
          4,
          5,
          5,
          6,
          6,
          6,
          7,
          7,
          8,
          8,
          8,
          8,
          10,
          10,
          10,
          10,
          10,
          10,
          10,
          10,
          12,
          12,
          15,
          15,
          15,
          15,
          15,
          16,
          18,
          20,
          20,
          20,
          20,
          20,
          20,
          20,
          20,
          20,
          20,
          22,
          25,
          25,
          25,
          30,
          30,
          30,
          30,
          40,
          50,
          50,
          50,
          50,
          70,
          100,
          150,
          200,
          250
         ],
         "y": [
          10,
          12,
          20,
          40,
          50,
          60,
          70,
          100,
          150,
          3,
          5,
          20,
          0,
          0,
          15,
          0,
          8,
          0,
          7,
          20,
          0,
          20,
          0,
          5,
          6,
          10,
          0,
          15,
          20,
          30,
          35,
          42,
          50,
          100,
          0,
          30,
          0,
          3,
          35,
          200,
          250,
          6,
          22,
          0,
          3,
          5,
          10,
          15,
          20,
          25,
          30,
          40,
          60,
          15,
          0,
          10,
          30,
          0,
          10,
          25,
          40,
          100,
          0,
          20,
          100,
          200,
          50,
          300,
          6,
          350,
          200
         ]
        }
       ],
       "layout": {
        "title": "Relation between the number of goats and sheeps",
        "xaxis": {
         "title": "Number of goats"
        },
        "yaxis": {
         "title": "Number of sheeps"
        }
       }
      },
      "text/html": [
       "<div id=\"a67ff9f3-a21a-41fc-a51d-1eff48bea7bc\" style=\"height: 525px; width: 100%;\" class=\"plotly-graph-div\"></div><script type=\"text/javascript\">require([\"plotly\"], function(Plotly) { window.PLOTLYENV=window.PLOTLYENV || {};window.PLOTLYENV.BASE_URL=\"https://plot.ly\";Plotly.newPlot(\"a67ff9f3-a21a-41fc-a51d-1eff48bea7bc\", [{\"y\": [10.0, 12.0, 20.0, 40.0, 50.0, 60.0, 70.0, 100.0, 150.0, 3.0, 5.0, 20.0, 0.0, 0.0, 15.0, 0.0, 8.0, 0.0, 7.0, 20.0, 0.0, 20.0, 0.0, 5.0, 6.0, 10.0, 0.0, 15.0, 20.0, 30.0, 35.0, 42.0, 50.0, 100.0, 0.0, 30.0, 0.0, 3.0, 35.0, 200.0, 250.0, 6.0, 22.0, 0.0, 3.0, 5.0, 10.0, 15.0, 20.0, 25.0, 30.0, 40.0, 60.0, 15.0, 0.0, 10.0, 30.0, 0.0, 10.0, 25.0, 40.0, 100.0, 0.0, 20.0, 100.0, 200.0, 50.0, 300.0, 6.0, 350.0, 200.0], \"x\": [0.0, 0.0, 0.0, 0.0, 0.0, 0.0, 0.0, 0.0, 0.0, 1.0, 2.0, 2.0, 3.0, 4.0, 4.0, 5.0, 5.0, 6.0, 6.0, 6.0, 7.0, 7.0, 8.0, 8.0, 8.0, 8.0, 10.0, 10.0, 10.0, 10.0, 10.0, 10.0, 10.0, 10.0, 12.0, 12.0, 15.0, 15.0, 15.0, 15.0, 15.0, 16.0, 18.0, 20.0, 20.0, 20.0, 20.0, 20.0, 20.0, 20.0, 20.0, 20.0, 20.0, 22.0, 25.0, 25.0, 25.0, 30.0, 30.0, 30.0, 30.0, 40.0, 50.0, 50.0, 50.0, 50.0, 70.0, 100.0, 150.0, 200.0, 250.0], \"type\": \"scatter\", \"mode\": \"markers\", \"marker\": {\"size\": [5, 5, 5, 5, 5, 5, 5, 5, 5, 5, 5, 5, 10, 5, 5, 10, 5, 5, 5, 5, 5, 5, 5, 5, 5, 5, 25, 15, 10, 5, 5, 5, 5, 5, 5, 5, 35, 5, 5, 5, 5, 5, 5, 35, 5, 5, 5, 5, 5, 10, 20, 5, 10, 5, 5, 5, 5, 5, 10, 5, 5, 5, 5, 5, 5, 5, 5, 5, 5, 5, 5]}}], {\"title\": \"Relation between the number of goats and sheeps\", \"xaxis\": {\"title\": \"Number of goats\"}, \"yaxis\": {\"title\": \"Number of sheeps\"}}, {\"linkText\": \"Export to plot.ly\", \"showLink\": true})});</script>"
      ],
      "text/vnd.plotly.v1+html": [
       "<div id=\"a67ff9f3-a21a-41fc-a51d-1eff48bea7bc\" style=\"height: 525px; width: 100%;\" class=\"plotly-graph-div\"></div><script type=\"text/javascript\">require([\"plotly\"], function(Plotly) { window.PLOTLYENV=window.PLOTLYENV || {};window.PLOTLYENV.BASE_URL=\"https://plot.ly\";Plotly.newPlot(\"a67ff9f3-a21a-41fc-a51d-1eff48bea7bc\", [{\"y\": [10.0, 12.0, 20.0, 40.0, 50.0, 60.0, 70.0, 100.0, 150.0, 3.0, 5.0, 20.0, 0.0, 0.0, 15.0, 0.0, 8.0, 0.0, 7.0, 20.0, 0.0, 20.0, 0.0, 5.0, 6.0, 10.0, 0.0, 15.0, 20.0, 30.0, 35.0, 42.0, 50.0, 100.0, 0.0, 30.0, 0.0, 3.0, 35.0, 200.0, 250.0, 6.0, 22.0, 0.0, 3.0, 5.0, 10.0, 15.0, 20.0, 25.0, 30.0, 40.0, 60.0, 15.0, 0.0, 10.0, 30.0, 0.0, 10.0, 25.0, 40.0, 100.0, 0.0, 20.0, 100.0, 200.0, 50.0, 300.0, 6.0, 350.0, 200.0], \"x\": [0.0, 0.0, 0.0, 0.0, 0.0, 0.0, 0.0, 0.0, 0.0, 1.0, 2.0, 2.0, 3.0, 4.0, 4.0, 5.0, 5.0, 6.0, 6.0, 6.0, 7.0, 7.0, 8.0, 8.0, 8.0, 8.0, 10.0, 10.0, 10.0, 10.0, 10.0, 10.0, 10.0, 10.0, 12.0, 12.0, 15.0, 15.0, 15.0, 15.0, 15.0, 16.0, 18.0, 20.0, 20.0, 20.0, 20.0, 20.0, 20.0, 20.0, 20.0, 20.0, 20.0, 22.0, 25.0, 25.0, 25.0, 30.0, 30.0, 30.0, 30.0, 40.0, 50.0, 50.0, 50.0, 50.0, 70.0, 100.0, 150.0, 200.0, 250.0], \"type\": \"scatter\", \"mode\": \"markers\", \"marker\": {\"size\": [5, 5, 5, 5, 5, 5, 5, 5, 5, 5, 5, 5, 10, 5, 5, 10, 5, 5, 5, 5, 5, 5, 5, 5, 5, 5, 25, 15, 10, 5, 5, 5, 5, 5, 5, 5, 35, 5, 5, 5, 5, 5, 5, 35, 5, 5, 5, 5, 5, 10, 20, 5, 10, 5, 5, 5, 5, 5, 10, 5, 5, 5, 5, 5, 5, 5, 5, 5, 5, 5, 5]}}], {\"title\": \"Relation between the number of goats and sheeps\", \"xaxis\": {\"title\": \"Number of goats\"}, \"yaxis\": {\"title\": \"Number of sheeps\"}}, {\"linkText\": \"Export to plot.ly\", \"showLink\": true})});</script>"
      ]
     },
     "metadata": {},
     "output_type": "display_data"
    }
   ],
   "source": [
    "prueba = pd.crosstab(livestock_set.livestock_number_goat, livestock_set.livestock_number_sheep).stack().reset_index(name='number')\n",
    "#prueba.plot.scatter('livestock_number_goats', 'livestock_number_sheep', s=prueba.number * 10)\n",
    "prueba = prueba[prueba.number != 0]\n",
    "#prueba = prueba[prueba.livestock_number_goat <= 100]\n",
    "#prueba = prueba[prueba.livestock_number_sheep <= 100]\n",
    "prueba = prueba.drop(0)\n",
    "#display(prueba)\n",
    "goats_vs_sheeps = {\n",
    "    \"layout\": {\n",
    "        \"title\": \"Relation between the number of goats and sheeps\",\n",
    "        \"xaxis\": {\n",
    "            \"title\": \"Number of goats\"\n",
    "        },\n",
    "        \"yaxis\": {\n",
    "            \"title\": \"Number of sheeps\"\n",
    "        }\n",
    "    },\n",
    "    \"data\": [\n",
    "        {\n",
    "\n",
    "            \"x\": prueba.livestock_number_goat,\n",
    "            \"y\": prueba.livestock_number_sheep,\n",
    "            \"mode\": \"markers\",\n",
    "            \"marker\": {\n",
    "                \"size\": prueba.number * 5               \n",
    "            },\n",
    "            \"type\": \"scatter\"\n",
    "        }\n",
    "    ]\n",
    "}\n",
    "iplot(goats_vs_sheeps)"
   ]
  },
  {
   "cell_type": "code",
   "execution_count": 38,
   "metadata": {},
   "outputs": [
    {
     "data": {
      "application/vnd.plotly.v1+json": {
       "data": [
        {
         "marker": {
          "size": [
           15,
           15,
           15,
           5,
           5,
           25,
           5,
           30,
           40,
           5,
           15,
           35,
           10,
           15,
           5,
           15,
           10,
           5,
           20,
           5,
           5
          ]
         },
         "mode": "markers",
         "type": "scatter",
         "x": [
          0,
          0,
          0,
          0,
          0,
          0,
          0,
          0,
          0,
          0,
          0,
          0,
          0,
          0,
          0,
          0,
          0,
          0,
          0,
          1,
          2
         ],
         "y": [
          3,
          5,
          6,
          7,
          8,
          10,
          12,
          15,
          20,
          22,
          25,
          30,
          35,
          40,
          42,
          50,
          60,
          70,
          100,
          10,
          60
         ]
        }
       ],
       "layout": {
        "title": "Relation between the number of cattle and sheeps",
        "xaxis": {
         "title": "Number of cattle"
        },
        "yaxis": {
         "title": "Number of sheeps"
        }
       }
      },
      "text/html": [
       "<div id=\"42ab03aa-27bf-4ff5-9744-371a6cd571ef\" style=\"height: 525px; width: 100%;\" class=\"plotly-graph-div\"></div><script type=\"text/javascript\">require([\"plotly\"], function(Plotly) { window.PLOTLYENV=window.PLOTLYENV || {};window.PLOTLYENV.BASE_URL=\"https://plot.ly\";Plotly.newPlot(\"42ab03aa-27bf-4ff5-9744-371a6cd571ef\", [{\"y\": [3.0, 5.0, 6.0, 7.0, 8.0, 10.0, 12.0, 15.0, 20.0, 22.0, 25.0, 30.0, 35.0, 40.0, 42.0, 50.0, 60.0, 70.0, 100.0, 10.0, 60.0], \"x\": [0.0, 0.0, 0.0, 0.0, 0.0, 0.0, 0.0, 0.0, 0.0, 0.0, 0.0, 0.0, 0.0, 0.0, 0.0, 0.0, 0.0, 0.0, 0.0, 1.0, 2.0], \"type\": \"scatter\", \"mode\": \"markers\", \"marker\": {\"size\": [15, 15, 15, 5, 5, 25, 5, 30, 40, 5, 15, 35, 10, 15, 5, 15, 10, 5, 20, 5, 5]}}], {\"title\": \"Relation between the number of cattle and sheeps\", \"xaxis\": {\"title\": \"Number of cattle\"}, \"yaxis\": {\"title\": \"Number of sheeps\"}}, {\"linkText\": \"Export to plot.ly\", \"showLink\": true})});</script>"
      ],
      "text/vnd.plotly.v1+html": [
       "<div id=\"42ab03aa-27bf-4ff5-9744-371a6cd571ef\" style=\"height: 525px; width: 100%;\" class=\"plotly-graph-div\"></div><script type=\"text/javascript\">require([\"plotly\"], function(Plotly) { window.PLOTLYENV=window.PLOTLYENV || {};window.PLOTLYENV.BASE_URL=\"https://plot.ly\";Plotly.newPlot(\"42ab03aa-27bf-4ff5-9744-371a6cd571ef\", [{\"y\": [3.0, 5.0, 6.0, 7.0, 8.0, 10.0, 12.0, 15.0, 20.0, 22.0, 25.0, 30.0, 35.0, 40.0, 42.0, 50.0, 60.0, 70.0, 100.0, 10.0, 60.0], \"x\": [0.0, 0.0, 0.0, 0.0, 0.0, 0.0, 0.0, 0.0, 0.0, 0.0, 0.0, 0.0, 0.0, 0.0, 0.0, 0.0, 0.0, 0.0, 0.0, 1.0, 2.0], \"type\": \"scatter\", \"mode\": \"markers\", \"marker\": {\"size\": [15, 15, 15, 5, 5, 25, 5, 30, 40, 5, 15, 35, 10, 15, 5, 15, 10, 5, 20, 5, 5]}}], {\"title\": \"Relation between the number of cattle and sheeps\", \"xaxis\": {\"title\": \"Number of cattle\"}, \"yaxis\": {\"title\": \"Number of sheeps\"}}, {\"linkText\": \"Export to plot.ly\", \"showLink\": true})});</script>"
      ]
     },
     "metadata": {},
     "output_type": "display_data"
    }
   ],
   "source": [
    "prueba2 = pd.crosstab(livestock_set.livestock_number_cattle, livestock_set.livestock_number_sheep).stack().reset_index(name='number')\n",
    "#prueba.plot.scatter('livestock_number_goats', 'livestock_number_sheep', s=prueba.number * 10)\n",
    "prueba2 = prueba2[prueba2.number != 0]\n",
    "prueba2= prueba2.drop(0)\n",
    "prueba2 = prueba2[prueba2.livestock_number_cattle <= 100]\n",
    "prueba2 = prueba2[prueba2.livestock_number_sheep <= 100]\n",
    "#display(prueba)\n",
    "cattle_vs_sheeps = {\n",
    "    \"layout\": {\n",
    "        \"title\": \"Relation between the number of cattle and sheeps\",\n",
    "        \"xaxis\": {\n",
    "            \"title\": \"Number of cattle\"\n",
    "        },\n",
    "        \"yaxis\": {\n",
    "            \"title\": \"Number of sheeps\"\n",
    "        }\n",
    "    },\n",
    "    \"data\": [\n",
    "        {\n",
    "\n",
    "            \"x\": prueba2.livestock_number_cattle,\n",
    "            \"y\": prueba2.livestock_number_sheep,\n",
    "            \"mode\": \"markers\",\n",
    "            \"marker\": {\n",
    "                \"size\": prueba2.number * 5               \n",
    "            },\n",
    "            \"type\": \"scatter\"\n",
    "        }\n",
    "    ]\n",
    "}\n",
    "iplot(cattle_vs_sheeps)"
   ]
  },
  {
   "cell_type": "code",
   "execution_count": 39,
   "metadata": {
    "scrolled": false
   },
   "outputs": [
    {
     "data": {
      "application/vnd.plotly.v1+json": {
       "data": [
        {
         "marker": {
          "size": [
           5,
           5,
           10,
           10,
           10,
           15,
           15,
           10,
           20,
           75,
           10,
           55,
           5,
           5,
           105,
           5,
           10,
           5,
           25,
           5,
           20,
           5,
           5
          ]
         },
         "mode": "markers",
         "type": "scatter",
         "x": [
          0,
          1,
          2,
          3,
          4,
          5,
          6,
          7,
          8,
          10,
          12,
          15,
          16,
          18,
          20,
          22,
          25,
          25,
          30,
          40,
          50,
          70,
          100
         ],
         "y": [
          2,
          0,
          0,
          0,
          0,
          0,
          0,
          0,
          0,
          0,
          0,
          0,
          0,
          0,
          0,
          0,
          0,
          1,
          0,
          0,
          0,
          0,
          0
         ]
        }
       ],
       "layout": {
        "title": "Relation between the number of cattle and goats",
        "xaxis": {
         "title": "Number of goat"
        },
        "yaxis": {
         "title": "Number of cattle"
        }
       }
      },
      "text/html": [
       "<div id=\"38f897ea-5750-49cd-8a07-88dd90403ae0\" style=\"height: 525px; width: 100%;\" class=\"plotly-graph-div\"></div><script type=\"text/javascript\">require([\"plotly\"], function(Plotly) { window.PLOTLYENV=window.PLOTLYENV || {};window.PLOTLYENV.BASE_URL=\"https://plot.ly\";Plotly.newPlot(\"38f897ea-5750-49cd-8a07-88dd90403ae0\", [{\"y\": [2.0, 0.0, 0.0, 0.0, 0.0, 0.0, 0.0, 0.0, 0.0, 0.0, 0.0, 0.0, 0.0, 0.0, 0.0, 0.0, 0.0, 1.0, 0.0, 0.0, 0.0, 0.0, 0.0], \"x\": [0.0, 1.0, 2.0, 3.0, 4.0, 5.0, 6.0, 7.0, 8.0, 10.0, 12.0, 15.0, 16.0, 18.0, 20.0, 22.0, 25.0, 25.0, 30.0, 40.0, 50.0, 70.0, 100.0], \"type\": \"scatter\", \"mode\": \"markers\", \"marker\": {\"size\": [5, 5, 10, 10, 10, 15, 15, 10, 20, 75, 10, 55, 5, 5, 105, 5, 10, 5, 25, 5, 20, 5, 5]}}], {\"title\": \"Relation between the number of cattle and goats\", \"xaxis\": {\"title\": \"Number of goat\"}, \"yaxis\": {\"title\": \"Number of cattle\"}}, {\"linkText\": \"Export to plot.ly\", \"showLink\": true})});</script>"
      ],
      "text/vnd.plotly.v1+html": [
       "<div id=\"38f897ea-5750-49cd-8a07-88dd90403ae0\" style=\"height: 525px; width: 100%;\" class=\"plotly-graph-div\"></div><script type=\"text/javascript\">require([\"plotly\"], function(Plotly) { window.PLOTLYENV=window.PLOTLYENV || {};window.PLOTLYENV.BASE_URL=\"https://plot.ly\";Plotly.newPlot(\"38f897ea-5750-49cd-8a07-88dd90403ae0\", [{\"y\": [2.0, 0.0, 0.0, 0.0, 0.0, 0.0, 0.0, 0.0, 0.0, 0.0, 0.0, 0.0, 0.0, 0.0, 0.0, 0.0, 0.0, 1.0, 0.0, 0.0, 0.0, 0.0, 0.0], \"x\": [0.0, 1.0, 2.0, 3.0, 4.0, 5.0, 6.0, 7.0, 8.0, 10.0, 12.0, 15.0, 16.0, 18.0, 20.0, 22.0, 25.0, 25.0, 30.0, 40.0, 50.0, 70.0, 100.0], \"type\": \"scatter\", \"mode\": \"markers\", \"marker\": {\"size\": [5, 5, 10, 10, 10, 15, 15, 10, 20, 75, 10, 55, 5, 5, 105, 5, 10, 5, 25, 5, 20, 5, 5]}}], {\"title\": \"Relation between the number of cattle and goats\", \"xaxis\": {\"title\": \"Number of goat\"}, \"yaxis\": {\"title\": \"Number of cattle\"}}, {\"linkText\": \"Export to plot.ly\", \"showLink\": true})});</script>"
      ]
     },
     "metadata": {},
     "output_type": "display_data"
    }
   ],
   "source": [
    "prueba3 = pd.crosstab(livestock_set.livestock_number_goat, livestock_set.livestock_number_cattle).stack().reset_index(name='number')\n",
    "#prueba.plot.scatter('livestock_number_goats', 'livestock_number_sheep', s=prueba.number * 10)\n",
    "prueba3 = prueba3[prueba3.number != 0]\n",
    "prueba3= prueba3.drop(0)\n",
    "prueba3 = prueba3[prueba3.livestock_number_goat <= 100]\n",
    "prueba3 = prueba3[prueba3.livestock_number_cattle <= 100]\n",
    "#display(prueba)\n",
    "goat_vs_cattle = {\n",
    "    \"layout\": {\n",
    "        \"title\": \"Relation between the number of cattle and goats\",\n",
    "        \"xaxis\": {\n",
    "            \"title\": \"Number of goat\"\n",
    "        },\n",
    "        \"yaxis\": {\n",
    "            \"title\": \"Number of cattle\"\n",
    "        }\n",
    "    },\n",
    "    \"data\": [\n",
    "        {\n",
    "\n",
    "            \"x\": prueba3.livestock_number_goat,\n",
    "            \"y\": prueba3.livestock_number_cattle,\n",
    "            \"mode\": \"markers\",\n",
    "            \"marker\": {\n",
    "                \"size\": prueba3.number * 5               \n",
    "            },\n",
    "            \"type\": \"scatter\"\n",
    "        }\n",
    "    ]\n",
    "}\n",
    "iplot(goat_vs_cattle)"
   ]
  },
  {
   "cell_type": "code",
   "execution_count": 40,
   "metadata": {},
   "outputs": [
    {
     "data": {
      "application/vnd.plotly.v1+json": {
       "data": [
        {
         "marker": {
          "size": [
           5,
           10,
           5,
           5,
           5,
           10,
           10,
           5,
           5,
           15,
           15,
           10,
           20,
           60,
           5,
           5,
           5,
           10,
           50,
           5,
           5,
           5,
           75,
           10,
           5,
           5,
           5,
           5,
           5,
           15,
           10,
           5,
           10,
           5,
           15,
           5,
           5
          ]
         },
         "mode": "markers",
         "type": "scatter",
         "x": [
          0,
          0,
          0,
          0,
          1,
          2,
          3,
          4,
          4,
          5,
          6,
          7,
          8,
          10,
          10,
          10,
          10,
          12,
          15,
          15,
          16,
          18,
          20,
          20,
          20,
          20,
          20,
          20,
          22,
          25,
          30,
          30,
          30,
          40,
          50,
          70,
          100
         ],
         "y": [
          1,
          3,
          6,
          11,
          0,
          0,
          0,
          0,
          1,
          0,
          0,
          0,
          0,
          0,
          1,
          3,
          10,
          0,
          0,
          2,
          0,
          0,
          0,
          1,
          2,
          5,
          15,
          20,
          0,
          0,
          0,
          7,
          15,
          0,
          0,
          0,
          6
         ]
        }
       ],
       "layout": {
        "title": "Relation between the number of camel and sheeps",
        "xaxis": {
         "title": "Number of goat"
        },
        "yaxis": {
         "title": "Number of camel"
        }
       }
      },
      "text/html": [
       "<div id=\"bdd1cd28-8ef2-4359-9453-75fd5fe81d22\" style=\"height: 525px; width: 100%;\" class=\"plotly-graph-div\"></div><script type=\"text/javascript\">require([\"plotly\"], function(Plotly) { window.PLOTLYENV=window.PLOTLYENV || {};window.PLOTLYENV.BASE_URL=\"https://plot.ly\";Plotly.newPlot(\"bdd1cd28-8ef2-4359-9453-75fd5fe81d22\", [{\"y\": [1.0, 3.0, 6.0, 11.0, 0.0, 0.0, 0.0, 0.0, 1.0, 0.0, 0.0, 0.0, 0.0, 0.0, 1.0, 3.0, 10.0, 0.0, 0.0, 2.0, 0.0, 0.0, 0.0, 1.0, 2.0, 5.0, 15.0, 20.0, 0.0, 0.0, 0.0, 7.0, 15.0, 0.0, 0.0, 0.0, 6.0], \"x\": [0.0, 0.0, 0.0, 0.0, 1.0, 2.0, 3.0, 4.0, 4.0, 5.0, 6.0, 7.0, 8.0, 10.0, 10.0, 10.0, 10.0, 12.0, 15.0, 15.0, 16.0, 18.0, 20.0, 20.0, 20.0, 20.0, 20.0, 20.0, 22.0, 25.0, 30.0, 30.0, 30.0, 40.0, 50.0, 70.0, 100.0], \"type\": \"scatter\", \"mode\": \"markers\", \"marker\": {\"size\": [5, 10, 5, 5, 5, 10, 10, 5, 5, 15, 15, 10, 20, 60, 5, 5, 5, 10, 50, 5, 5, 5, 75, 10, 5, 5, 5, 5, 5, 15, 10, 5, 10, 5, 15, 5, 5]}}], {\"title\": \"Relation between the number of camel and sheeps\", \"xaxis\": {\"title\": \"Number of goat\"}, \"yaxis\": {\"title\": \"Number of camel\"}}, {\"linkText\": \"Export to plot.ly\", \"showLink\": true})});</script>"
      ],
      "text/vnd.plotly.v1+html": [
       "<div id=\"bdd1cd28-8ef2-4359-9453-75fd5fe81d22\" style=\"height: 525px; width: 100%;\" class=\"plotly-graph-div\"></div><script type=\"text/javascript\">require([\"plotly\"], function(Plotly) { window.PLOTLYENV=window.PLOTLYENV || {};window.PLOTLYENV.BASE_URL=\"https://plot.ly\";Plotly.newPlot(\"bdd1cd28-8ef2-4359-9453-75fd5fe81d22\", [{\"y\": [1.0, 3.0, 6.0, 11.0, 0.0, 0.0, 0.0, 0.0, 1.0, 0.0, 0.0, 0.0, 0.0, 0.0, 1.0, 3.0, 10.0, 0.0, 0.0, 2.0, 0.0, 0.0, 0.0, 1.0, 2.0, 5.0, 15.0, 20.0, 0.0, 0.0, 0.0, 7.0, 15.0, 0.0, 0.0, 0.0, 6.0], \"x\": [0.0, 0.0, 0.0, 0.0, 1.0, 2.0, 3.0, 4.0, 4.0, 5.0, 6.0, 7.0, 8.0, 10.0, 10.0, 10.0, 10.0, 12.0, 15.0, 15.0, 16.0, 18.0, 20.0, 20.0, 20.0, 20.0, 20.0, 20.0, 22.0, 25.0, 30.0, 30.0, 30.0, 40.0, 50.0, 70.0, 100.0], \"type\": \"scatter\", \"mode\": \"markers\", \"marker\": {\"size\": [5, 10, 5, 5, 5, 10, 10, 5, 5, 15, 15, 10, 20, 60, 5, 5, 5, 10, 50, 5, 5, 5, 75, 10, 5, 5, 5, 5, 5, 15, 10, 5, 10, 5, 15, 5, 5]}}], {\"title\": \"Relation between the number of camel and sheeps\", \"xaxis\": {\"title\": \"Number of goat\"}, \"yaxis\": {\"title\": \"Number of camel\"}}, {\"linkText\": \"Export to plot.ly\", \"showLink\": true})});</script>"
      ]
     },
     "metadata": {},
     "output_type": "display_data"
    }
   ],
   "source": [
    "prueba4 = pd.crosstab(livestock_set.livestock_number_goat, livestock_set.livestock_number_camel).stack().reset_index(name='number')\n",
    "#prueba.plot.scatter('livestock_number_goats', 'livestock_number_sheep', s=prueba.number * 10)\n",
    "prueba4 = prueba4[prueba4.number != 0]\n",
    "prueba4= prueba4.drop(0)\n",
    "prueba4 = prueba4[prueba4.livestock_number_goat <= 100]\n",
    "prueba4 = prueba4[prueba4.livestock_number_camel <= 100]\n",
    "#display(prueba)\n",
    "goat_vs_camel = {\n",
    "    \"layout\": {\n",
    "        \"title\": \"Relation between the number of camel and sheeps\",\n",
    "        \"xaxis\": {\n",
    "            \"title\": \"Number of goat\"\n",
    "        },\n",
    "        \"yaxis\": {\n",
    "            \"title\": \"Number of camel\"\n",
    "        }\n",
    "    },\n",
    "    \"data\": [\n",
    "        {\n",
    "\n",
    "            \"x\": prueba4.livestock_number_goat,\n",
    "            \"y\": prueba4.livestock_number_camel,\n",
    "            \"mode\": \"markers\",\n",
    "            \"marker\": {\n",
    "                \"size\": prueba4.number * 5               \n",
    "            },\n",
    "            \"type\": \"scatter\"\n",
    "        }\n",
    "    ]\n",
    "}\n",
    "iplot(goat_vs_camel)"
   ]
  },
  {
   "cell_type": "code",
   "execution_count": 41,
   "metadata": {},
   "outputs": [
    {
     "data": {
      "application/vnd.plotly.v1+json": {
       "data": [
        {
         "marker": {
          "color": [
           "orange",
           "orange",
           "red",
           "red",
           "red",
           "orange",
           "orange",
           "orange",
           "orange",
           "orange",
           "orange",
           "orange",
           "orange",
           "orange",
           "orange",
           "orange",
           "orange",
           "orange",
           "green",
           "orange",
           "orange",
           "orange",
           "orange",
           "orange",
           "orange",
           "orange",
           "orange",
           "orange",
           "orange",
           "green",
           "green",
           "orange",
           "orange",
           "orange",
           "orange",
           "orange",
           "orange",
           "green",
           "orange",
           "orange",
           "green",
           "green",
           "green",
           "orange",
           "green",
           "orange",
           "orange",
           "green",
           "orange",
           "orange",
           "orange",
           "green",
           "green",
           "green",
           "green",
           "green",
           "green",
           "green",
           "green"
          ],
          "size": [
           5,
           5,
           10,
           10,
           10,
           5,
           10,
           5,
           25,
           5,
           5,
           5,
           15,
           5,
           35,
           10,
           5,
           35,
           5,
           10,
           5,
           25,
           5,
           5,
           20,
           5,
           5,
           5,
           20,
           5,
           5,
           5,
           10,
           5,
           20,
           5,
           5,
           5,
           5,
           10,
           5,
           5,
           5,
           10,
           5,
           10,
           5,
           5,
           5,
           5,
           5,
           5,
           5,
           5,
           5,
           5,
           5,
           5,
           5
          ]
         },
         "mode": "markers",
         "type": "scatter",
         "x": [
          0,
          0,
          3,
          4,
          5,
          6,
          7,
          8,
          10,
          10,
          12,
          12,
          13,
          14,
          15,
          18,
          19,
          20,
          20,
          22,
          23,
          25,
          26,
          27,
          30,
          35,
          35,
          37,
          40,
          40,
          40,
          42,
          45,
          45,
          50,
          50,
          50,
          50,
          52,
          55,
          60,
          60,
          60,
          70,
          70,
          80,
          100,
          110,
          120,
          140,
          150,
          150,
          156,
          215,
          250,
          265,
          400,
          450,
          550
         ],
         "y": [
          1,
          11,
          0,
          0,
          0,
          0,
          0,
          0,
          0,
          3,
          0,
          3,
          0,
          0,
          0,
          0,
          1,
          0,
          15,
          0,
          1,
          0,
          0,
          0,
          0,
          0,
          2,
          0,
          0,
          7,
          15,
          0,
          0,
          3,
          0,
          1,
          2,
          5,
          0,
          0,
          1,
          6,
          20,
          0,
          15,
          0,
          0,
          10,
          0,
          0,
          0,
          200,
          0,
          0,
          0,
          0,
          6,
          25,
          12
         ]
        }
       ],
       "layout": {
        "title": "Relation between the number of camel and sheeps",
        "xaxis": {
         "title": "Number of goat"
        },
        "yaxis": {
         "title": "Number of camel"
        }
       }
      },
      "text/html": [
       "<div id=\"c2f77d20-bc9f-4bb7-9b4b-e01b4815957a\" style=\"height: 525px; width: 100%;\" class=\"plotly-graph-div\"></div><script type=\"text/javascript\">require([\"plotly\"], function(Plotly) { window.PLOTLYENV=window.PLOTLYENV || {};window.PLOTLYENV.BASE_URL=\"https://plot.ly\";Plotly.newPlot(\"c2f77d20-bc9f-4bb7-9b4b-e01b4815957a\", [{\"y\": [1.0, 11.0, 0.0, 0.0, 0.0, 0.0, 0.0, 0.0, 0.0, 3.0, 0.0, 3.0, 0.0, 0.0, 0.0, 0.0, 1.0, 0.0, 15.0, 0.0, 1.0, 0.0, 0.0, 0.0, 0.0, 0.0, 2.0, 0.0, 0.0, 7.0, 15.0, 0.0, 0.0, 3.0, 0.0, 1.0, 2.0, 5.0, 0.0, 0.0, 1.0, 6.0, 20.0, 0.0, 15.0, 0.0, 0.0, 10.0, 0.0, 0.0, 0.0, 200.0, 0.0, 0.0, 0.0, 0.0, 6.0, 25.0, 12.0], \"x\": [0.0, 0.0, 3.0, 4.0, 5.0, 6.0, 7.0, 8.0, 10.0, 10.0, 12.0, 12.0, 13.0, 14.0, 15.0, 18.0, 19.0, 20.0, 20.0, 22.0, 23.0, 25.0, 26.0, 27.0, 30.0, 35.0, 35.0, 37.0, 40.0, 40.0, 40.0, 42.0, 45.0, 45.0, 50.0, 50.0, 50.0, 50.0, 52.0, 55.0, 60.0, 60.0, 60.0, 70.0, 70.0, 80.0, 100.0, 110.0, 120.0, 140.0, 150.0, 150.0, 156.0, 215.0, 250.0, 265.0, 400.0, 450.0, 550.0], \"type\": \"scatter\", \"mode\": \"markers\", \"marker\": {\"color\": [\"orange\", \"orange\", \"red\", \"red\", \"red\", \"orange\", \"orange\", \"orange\", \"orange\", \"orange\", \"orange\", \"orange\", \"orange\", \"orange\", \"orange\", \"orange\", \"orange\", \"orange\", \"green\", \"orange\", \"orange\", \"orange\", \"orange\", \"orange\", \"orange\", \"orange\", \"orange\", \"orange\", \"orange\", \"green\", \"green\", \"orange\", \"orange\", \"orange\", \"orange\", \"orange\", \"orange\", \"green\", \"orange\", \"orange\", \"green\", \"green\", \"green\", \"orange\", \"green\", \"orange\", \"orange\", \"green\", \"orange\", \"orange\", \"orange\", \"green\", \"green\", \"green\", \"green\", \"green\", \"green\", \"green\", \"green\"], \"size\": [5, 5, 10, 10, 10, 5, 10, 5, 25, 5, 5, 5, 15, 5, 35, 10, 5, 35, 5, 10, 5, 25, 5, 5, 20, 5, 5, 5, 20, 5, 5, 5, 10, 5, 20, 5, 5, 5, 5, 10, 5, 5, 5, 10, 5, 10, 5, 5, 5, 5, 5, 5, 5, 5, 5, 5, 5, 5, 5]}}], {\"title\": \"Relation between the number of camel and sheeps\", \"xaxis\": {\"title\": \"Number of goat\"}, \"yaxis\": {\"title\": \"Number of camel\"}}, {\"linkText\": \"Export to plot.ly\", \"showLink\": true})});</script>"
      ],
      "text/vnd.plotly.v1+html": [
       "<div id=\"c2f77d20-bc9f-4bb7-9b4b-e01b4815957a\" style=\"height: 525px; width: 100%;\" class=\"plotly-graph-div\"></div><script type=\"text/javascript\">require([\"plotly\"], function(Plotly) { window.PLOTLYENV=window.PLOTLYENV || {};window.PLOTLYENV.BASE_URL=\"https://plot.ly\";Plotly.newPlot(\"c2f77d20-bc9f-4bb7-9b4b-e01b4815957a\", [{\"y\": [1.0, 11.0, 0.0, 0.0, 0.0, 0.0, 0.0, 0.0, 0.0, 3.0, 0.0, 3.0, 0.0, 0.0, 0.0, 0.0, 1.0, 0.0, 15.0, 0.0, 1.0, 0.0, 0.0, 0.0, 0.0, 0.0, 2.0, 0.0, 0.0, 7.0, 15.0, 0.0, 0.0, 3.0, 0.0, 1.0, 2.0, 5.0, 0.0, 0.0, 1.0, 6.0, 20.0, 0.0, 15.0, 0.0, 0.0, 10.0, 0.0, 0.0, 0.0, 200.0, 0.0, 0.0, 0.0, 0.0, 6.0, 25.0, 12.0], \"x\": [0.0, 0.0, 3.0, 4.0, 5.0, 6.0, 7.0, 8.0, 10.0, 10.0, 12.0, 12.0, 13.0, 14.0, 15.0, 18.0, 19.0, 20.0, 20.0, 22.0, 23.0, 25.0, 26.0, 27.0, 30.0, 35.0, 35.0, 37.0, 40.0, 40.0, 40.0, 42.0, 45.0, 45.0, 50.0, 50.0, 50.0, 50.0, 52.0, 55.0, 60.0, 60.0, 60.0, 70.0, 70.0, 80.0, 100.0, 110.0, 120.0, 140.0, 150.0, 150.0, 156.0, 215.0, 250.0, 265.0, 400.0, 450.0, 550.0], \"type\": \"scatter\", \"mode\": \"markers\", \"marker\": {\"color\": [\"orange\", \"orange\", \"red\", \"red\", \"red\", \"orange\", \"orange\", \"orange\", \"orange\", \"orange\", \"orange\", \"orange\", \"orange\", \"orange\", \"orange\", \"orange\", \"orange\", \"orange\", \"green\", \"orange\", \"orange\", \"orange\", \"orange\", \"orange\", \"orange\", \"orange\", \"orange\", \"orange\", \"orange\", \"green\", \"green\", \"orange\", \"orange\", \"orange\", \"orange\", \"orange\", \"orange\", \"green\", \"orange\", \"orange\", \"green\", \"green\", \"green\", \"orange\", \"green\", \"orange\", \"orange\", \"green\", \"orange\", \"orange\", \"orange\", \"green\", \"green\", \"green\", \"green\", \"green\", \"green\", \"green\", \"green\"], \"size\": [5, 5, 10, 10, 10, 5, 10, 5, 25, 5, 5, 5, 15, 5, 35, 10, 5, 35, 5, 10, 5, 25, 5, 5, 20, 5, 5, 5, 20, 5, 5, 5, 10, 5, 20, 5, 5, 5, 5, 10, 5, 5, 5, 10, 5, 10, 5, 5, 5, 5, 5, 5, 5, 5, 5, 5, 5, 5, 5]}}], {\"title\": \"Relation between the number of camel and sheeps\", \"xaxis\": {\"title\": \"Number of goat\"}, \"yaxis\": {\"title\": \"Number of camel\"}}, {\"linkText\": \"Export to plot.ly\", \"showLink\": true})});</script>"
      ]
     },
     "metadata": {},
     "output_type": "display_data"
    }
   ],
   "source": [
    "def getColor5(value):\n",
    "    if (value <=0):\n",
    "        return \"red\"\n",
    "    elif (value <= 3):\n",
    "        return \"orange\"\n",
    "    else:\n",
    "        return \"green\"\n",
    "\n",
    "def getWealth5(df):\n",
    "    df['wealth'] = df['livestock_number_gosh'].map(score_gs) + df['livestock_number_camel'].map(score_camel)\n",
    "    return df['wealth']\n",
    "    \n",
    "prueba5 = pd.crosstab(livestock_set.livestock_number_gosh, livestock_set.livestock_number_camel).stack().reset_index(name='number')\n",
    "#prueba.plot.scatter('livestock_number_goats', 'livestock_number_sheep', s=prueba.number * 10)\n",
    "prueba5 = prueba5[prueba5.number != 0]\n",
    "#prueba5 = prueba5[prueba5.livestock_number_gosh <= 100]\n",
    "#prueba5 = prueba5[prueba5.livestock_number_camel <= 100]\n",
    "#display(prueba)\n",
    "gosh_vs_camel = {\n",
    "    \"layout\": {\n",
    "        \"title\": \"Relation between the number of camel and sheeps\",\n",
    "        \"xaxis\": {\n",
    "            \"title\": \"Number of goat\"\n",
    "        },\n",
    "        \"yaxis\": {\n",
    "            \"title\": \"Number of camel\"\n",
    "        }\n",
    "    },\n",
    "    \"data\": [\n",
    "        {\n",
    "\n",
    "            \"x\": prueba5.livestock_number_gosh,\n",
    "            \"y\": prueba5.livestock_number_camel,\n",
    "            \"mode\": \"markers\",\n",
    "            \"marker\": {\n",
    "                \"size\": prueba5.number * 5, \n",
    "                \"color\": getWealth5(prueba5).map(getColor5)\n",
    "            },\n",
    "            \"type\": \"scatter\"\n",
    "        }\n",
    "    ]\n",
    "}\n",
    "iplot(gosh_vs_camel)"
   ]
  },
  {
   "cell_type": "code",
   "execution_count": 42,
   "metadata": {},
   "outputs": [
    {
     "data": {
      "application/vnd.plotly.v1+json": {
       "data": [
        {
         "marker": {
          "color": [
           "red",
           "red",
           "red",
           "orange",
           "orange",
           "orange",
           "orange",
           "orange",
           "orange",
           "orange",
           "orange",
           "orange",
           "orange",
           "orange",
           "orange",
           "orange",
           "orange",
           "orange",
           "orange",
           "orange",
           "orange",
           "orange",
           "orange",
           "orange",
           "orange",
           "orange",
           "orange",
           "orange",
           "orange",
           "orange",
           "green",
           "orange",
           "orange",
           "orange",
           "orange",
           "orange",
           "orange",
           "orange",
           "green",
           "green",
           "green",
           "green",
           "green",
           "green",
           "green"
          ],
          "size": [
           10,
           10,
           10,
           5,
           10,
           5,
           30,
           10,
           15,
           5,
           35,
           10,
           5,
           40,
           10,
           5,
           25,
           5,
           5,
           20,
           5,
           5,
           5,
           30,
           5,
           15,
           35,
           5,
           10,
           10,
           5,
           15,
           10,
           5,
           5,
           5,
           5,
           10,
           5,
           5,
           5,
           5,
           5,
           5,
           5
          ]
         },
         "mode": "markers",
         "type": "scatter",
         "x": [
          3,
          4,
          5,
          6,
          7,
          8,
          10,
          12,
          13,
          14,
          15,
          18,
          19,
          20,
          22,
          23,
          25,
          26,
          27,
          30,
          35,
          35,
          37,
          40,
          42,
          45,
          50,
          52,
          55,
          60,
          60,
          70,
          80,
          100,
          110,
          120,
          140,
          150,
          156,
          215,
          250,
          265,
          400,
          450,
          550
         ],
         "y": [
          0,
          0,
          0,
          0,
          0,
          0,
          0,
          0,
          0,
          0,
          0,
          0,
          0,
          0,
          0,
          0,
          0,
          0,
          0,
          0,
          0,
          1,
          0,
          0,
          0,
          0,
          0,
          0,
          0,
          0,
          2,
          0,
          0,
          0,
          0,
          0,
          0,
          0,
          0,
          0,
          0,
          0,
          0,
          0,
          0
         ]
        }
       ],
       "layout": {
        "title": "Relation between the number of camel and sheeps",
        "xaxis": {
         "title": "Number of goat"
        },
        "yaxis": {
         "title": "Number of camel"
        }
       }
      },
      "text/html": [
       "<div id=\"6b72927c-3352-4fba-a5ac-55a71eb5b1e9\" style=\"height: 525px; width: 100%;\" class=\"plotly-graph-div\"></div><script type=\"text/javascript\">require([\"plotly\"], function(Plotly) { window.PLOTLYENV=window.PLOTLYENV || {};window.PLOTLYENV.BASE_URL=\"https://plot.ly\";Plotly.newPlot(\"6b72927c-3352-4fba-a5ac-55a71eb5b1e9\", [{\"y\": [0.0, 0.0, 0.0, 0.0, 0.0, 0.0, 0.0, 0.0, 0.0, 0.0, 0.0, 0.0, 0.0, 0.0, 0.0, 0.0, 0.0, 0.0, 0.0, 0.0, 0.0, 1.0, 0.0, 0.0, 0.0, 0.0, 0.0, 0.0, 0.0, 0.0, 2.0, 0.0, 0.0, 0.0, 0.0, 0.0, 0.0, 0.0, 0.0, 0.0, 0.0, 0.0, 0.0, 0.0, 0.0], \"x\": [3.0, 4.0, 5.0, 6.0, 7.0, 8.0, 10.0, 12.0, 13.0, 14.0, 15.0, 18.0, 19.0, 20.0, 22.0, 23.0, 25.0, 26.0, 27.0, 30.0, 35.0, 35.0, 37.0, 40.0, 42.0, 45.0, 50.0, 52.0, 55.0, 60.0, 60.0, 70.0, 80.0, 100.0, 110.0, 120.0, 140.0, 150.0, 156.0, 215.0, 250.0, 265.0, 400.0, 450.0, 550.0], \"type\": \"scatter\", \"mode\": \"markers\", \"marker\": {\"color\": [\"red\", \"red\", \"red\", \"orange\", \"orange\", \"orange\", \"orange\", \"orange\", \"orange\", \"orange\", \"orange\", \"orange\", \"orange\", \"orange\", \"orange\", \"orange\", \"orange\", \"orange\", \"orange\", \"orange\", \"orange\", \"orange\", \"orange\", \"orange\", \"orange\", \"orange\", \"orange\", \"orange\", \"orange\", \"orange\", \"green\", \"orange\", \"orange\", \"orange\", \"orange\", \"orange\", \"orange\", \"orange\", \"green\", \"green\", \"green\", \"green\", \"green\", \"green\", \"green\"], \"size\": [10, 10, 10, 5, 10, 5, 30, 10, 15, 5, 35, 10, 5, 40, 10, 5, 25, 5, 5, 20, 5, 5, 5, 30, 5, 15, 35, 5, 10, 10, 5, 15, 10, 5, 5, 5, 5, 10, 5, 5, 5, 5, 5, 5, 5]}}], {\"title\": \"Relation between the number of camel and sheeps\", \"xaxis\": {\"title\": \"Number of goat\"}, \"yaxis\": {\"title\": \"Number of camel\"}}, {\"linkText\": \"Export to plot.ly\", \"showLink\": true})});</script>"
      ],
      "text/vnd.plotly.v1+html": [
       "<div id=\"6b72927c-3352-4fba-a5ac-55a71eb5b1e9\" style=\"height: 525px; width: 100%;\" class=\"plotly-graph-div\"></div><script type=\"text/javascript\">require([\"plotly\"], function(Plotly) { window.PLOTLYENV=window.PLOTLYENV || {};window.PLOTLYENV.BASE_URL=\"https://plot.ly\";Plotly.newPlot(\"6b72927c-3352-4fba-a5ac-55a71eb5b1e9\", [{\"y\": [0.0, 0.0, 0.0, 0.0, 0.0, 0.0, 0.0, 0.0, 0.0, 0.0, 0.0, 0.0, 0.0, 0.0, 0.0, 0.0, 0.0, 0.0, 0.0, 0.0, 0.0, 1.0, 0.0, 0.0, 0.0, 0.0, 0.0, 0.0, 0.0, 0.0, 2.0, 0.0, 0.0, 0.0, 0.0, 0.0, 0.0, 0.0, 0.0, 0.0, 0.0, 0.0, 0.0, 0.0, 0.0], \"x\": [3.0, 4.0, 5.0, 6.0, 7.0, 8.0, 10.0, 12.0, 13.0, 14.0, 15.0, 18.0, 19.0, 20.0, 22.0, 23.0, 25.0, 26.0, 27.0, 30.0, 35.0, 35.0, 37.0, 40.0, 42.0, 45.0, 50.0, 52.0, 55.0, 60.0, 60.0, 70.0, 80.0, 100.0, 110.0, 120.0, 140.0, 150.0, 156.0, 215.0, 250.0, 265.0, 400.0, 450.0, 550.0], \"type\": \"scatter\", \"mode\": \"markers\", \"marker\": {\"color\": [\"red\", \"red\", \"red\", \"orange\", \"orange\", \"orange\", \"orange\", \"orange\", \"orange\", \"orange\", \"orange\", \"orange\", \"orange\", \"orange\", \"orange\", \"orange\", \"orange\", \"orange\", \"orange\", \"orange\", \"orange\", \"orange\", \"orange\", \"orange\", \"orange\", \"orange\", \"orange\", \"orange\", \"orange\", \"orange\", \"green\", \"orange\", \"orange\", \"orange\", \"orange\", \"orange\", \"orange\", \"orange\", \"green\", \"green\", \"green\", \"green\", \"green\", \"green\", \"green\"], \"size\": [10, 10, 10, 5, 10, 5, 30, 10, 15, 5, 35, 10, 5, 40, 10, 5, 25, 5, 5, 20, 5, 5, 5, 30, 5, 15, 35, 5, 10, 10, 5, 15, 10, 5, 5, 5, 5, 10, 5, 5, 5, 5, 5, 5, 5]}}], {\"title\": \"Relation between the number of camel and sheeps\", \"xaxis\": {\"title\": \"Number of goat\"}, \"yaxis\": {\"title\": \"Number of camel\"}}, {\"linkText\": \"Export to plot.ly\", \"showLink\": true})});</script>"
      ]
     },
     "metadata": {},
     "output_type": "display_data"
    }
   ],
   "source": [
    "def getColor6(value):\n",
    "    if (value <=0):\n",
    "        return \"red\"\n",
    "    elif (value <= 3):\n",
    "        return \"orange\"\n",
    "    else:\n",
    "        return \"green\"\n",
    "\n",
    "def getWealth6(df):\n",
    "    df['wealth'] = df['livestock_number_gosh'].map(score_gs) + df['livestock_number_cattle'].map(score_cattle)\n",
    "    return df['wealth']\n",
    "    \n",
    "prueba6 = pd.crosstab(livestock_set.livestock_number_gosh, livestock_set.livestock_number_cattle).stack().reset_index(name='number')\n",
    "#prueba.plot.scatter('livestock_number_goats', 'livestock_number_sheep', s=prueba.number * 10)\n",
    "prueba6 = prueba6[prueba6.number != 0]\n",
    "prueba6= prueba6.drop(0)\n",
    "#prueba5 = prueba5[prueba5.livestock_number_gosh <= 100]\n",
    "#prueba5 = prueba5[prueba5.livestock_number_camel <= 100]\n",
    "#display(prueba)\n",
    "gosh_vs_cattle = {\n",
    "    \"layout\": {\n",
    "        \"title\": \"Relation between the number of camel and sheeps\",\n",
    "        \"xaxis\": {\n",
    "            \"title\": \"Number of goat\"\n",
    "        },\n",
    "        \"yaxis\": {\n",
    "            \"title\": \"Number of camel\"\n",
    "        }\n",
    "    },\n",
    "    \"data\": [\n",
    "        {\n",
    "\n",
    "            \"x\": prueba6.livestock_number_gosh,\n",
    "            \"y\": prueba6.livestock_number_cattle,\n",
    "            \"mode\": \"markers\",\n",
    "            \"marker\": {\n",
    "                \"size\": prueba6.number * 5,\n",
    "                \"color\": getWealth6(prueba6).map(getColor6)\n",
    "            },\n",
    "            \"type\": \"scatter\"\n",
    "        }\n",
    "    ]\n",
    "}\n",
    "iplot(gosh_vs_cattle)"
   ]
  },
  {
   "cell_type": "markdown",
   "metadata": {},
   "source": [
    "With a few exceptions, the number of goats per household is proportional to the number of sheeps. So to define wealth groups for livestock tenants the number of goats will be the main variable."
   ]
  },
  {
   "cell_type": "code",
   "execution_count": 43,
   "metadata": {},
   "outputs": [],
   "source": [
    "goats = goats.value_counts().sort_index()\n",
    "goats_femHoHH = goats_femHoHH.value_counts().sort_index()\n",
    "sheeps = sheeps.value_counts().sort_index()\n",
    "sheeps_femHoHH = sheeps_femHoHH.value_counts().sort_index()\n",
    "cattle = cattle.value_counts().sort_index()\n",
    "cattle_femHoHH = cattle_femHoHH.value_counts().sort_index()"
   ]
  },
  {
   "cell_type": "code",
   "execution_count": 44,
   "metadata": {},
   "outputs": [
    {
     "name": "stdout",
     "output_type": "stream",
     "text": [
      "[4, 15, 80]\n",
      "[5, 10, 40]\n",
      "0.18     4\n",
      "0.58    15\n",
      "0.96    80\n",
      "dtype: int64\n",
      "0.238095     5\n",
      "0.523810    10\n",
      "0.857143    40\n",
      "dtype: int64\n",
      "5.0      3.0\n",
      "6.0      3.0\n",
      "7.0      2.0\n",
      "8.0      4.0\n",
      "10.0    15.0\n",
      "12.0     2.0\n",
      "15.0    11.0\n",
      "Name: livestock_number_goat, dtype: float64\n"
     ]
    },
    {
     "data": {
      "application/vnd.plotly.v1+json": {
       "data": [
        {
         "marker": {
          "color": "rgb(214,39,40)"
         },
         "name": "Very poor (18.0%)",
         "type": "bar",
         "x": [
          0,
          1,
          2,
          3,
          4
         ],
         "y": [
          11,
          1,
          2,
          2,
          2
         ]
        },
        {
         "marker": {
          "color": "rgb(255,127,14)"
         },
         "name": "Poor (40.0%)",
         "type": "bar",
         "x": [
          5,
          6,
          7,
          8,
          10,
          12,
          15
         ],
         "y": [
          3,
          3,
          2,
          4,
          15,
          2,
          11
         ]
        },
        {
         "marker": {
          "color": "rgb(44,160,44)"
         },
         "name": "Medium (38.0%)",
         "type": "bar",
         "x": [
          16,
          18,
          20,
          22,
          25,
          30,
          40,
          50,
          70
         ],
         "y": [
          1,
          1,
          21,
          1,
          3,
          5,
          1,
          4,
          1
         ]
        }
       ],
       "layout": {
        "annotations": [],
        "title": "Number of goats per wealth group",
        "width": 700,
        "yaxis": {
         "ticksuffix": "%"
        }
       }
      },
      "text/html": [
       "<div id=\"4e6a56a8-00de-4b77-9f20-acc64e7f638f\" style=\"height: 525px; width: 700px;\" class=\"plotly-graph-div\"></div><script type=\"text/javascript\">require([\"plotly\"], function(Plotly) { window.PLOTLYENV=window.PLOTLYENV || {};window.PLOTLYENV.BASE_URL=\"https://plot.ly\";Plotly.newPlot(\"4e6a56a8-00de-4b77-9f20-acc64e7f638f\", [{\"y\": [11.0, 1.0, 2.0, 2.0, 2.0], \"x\": [0.0, 1.0, 2.0, 3.0, 4.0], \"type\": \"bar\", \"name\": \"Very poor (18.0%)\", \"marker\": {\"color\": \"rgb(214,39,40)\"}}, {\"y\": [3.0, 3.0, 2.0, 4.0, 15.0, 2.0, 11.0], \"x\": [5.0, 6.0, 7.0, 8.0, 10.0, 12.0, 15.0], \"type\": \"bar\", \"name\": \"Poor (40.0%)\", \"marker\": {\"color\": \"rgb(255,127,14)\"}}, {\"y\": [1.0, 1.0, 21.0, 1.0, 3.0, 5.0, 1.0, 4.0, 1.0], \"x\": [16.0, 18.0, 20.0, 22.0, 25.0, 30.0, 40.0, 50.0, 70.0], \"type\": \"bar\", \"name\": \"Medium (38.0%)\", \"marker\": {\"color\": \"rgb(44,160,44)\"}}], {\"width\": 700, \"title\": \"Number of goats per wealth group\", \"annotations\": [], \"yaxis\": {\"ticksuffix\": \"%\"}}, {\"linkText\": \"Export to plot.ly\", \"showLink\": true})});</script>"
      ],
      "text/vnd.plotly.v1+html": [
       "<div id=\"4e6a56a8-00de-4b77-9f20-acc64e7f638f\" style=\"height: 525px; width: 700px;\" class=\"plotly-graph-div\"></div><script type=\"text/javascript\">require([\"plotly\"], function(Plotly) { window.PLOTLYENV=window.PLOTLYENV || {};window.PLOTLYENV.BASE_URL=\"https://plot.ly\";Plotly.newPlot(\"4e6a56a8-00de-4b77-9f20-acc64e7f638f\", [{\"y\": [11.0, 1.0, 2.0, 2.0, 2.0], \"x\": [0.0, 1.0, 2.0, 3.0, 4.0], \"type\": \"bar\", \"name\": \"Very poor (18.0%)\", \"marker\": {\"color\": \"rgb(214,39,40)\"}}, {\"y\": [3.0, 3.0, 2.0, 4.0, 15.0, 2.0, 11.0], \"x\": [5.0, 6.0, 7.0, 8.0, 10.0, 12.0, 15.0], \"type\": \"bar\", \"name\": \"Poor (40.0%)\", \"marker\": {\"color\": \"rgb(255,127,14)\"}}, {\"y\": [1.0, 1.0, 21.0, 1.0, 3.0, 5.0, 1.0, 4.0, 1.0], \"x\": [16.0, 18.0, 20.0, 22.0, 25.0, 30.0, 40.0, 50.0, 70.0], \"type\": \"bar\", \"name\": \"Medium (38.0%)\", \"marker\": {\"color\": \"rgb(44,160,44)\"}}], {\"width\": 700, \"title\": \"Number of goats per wealth group\", \"annotations\": [], \"yaxis\": {\"ticksuffix\": \"%\"}}, {\"linkText\": \"Export to plot.ly\", \"showLink\": true})});</script>"
      ]
     },
     "metadata": {},
     "output_type": "display_data"
    },
    {
     "name": "stdout",
     "output_type": "stream",
     "text": [
      "6.0      4.761905\n",
      "8.0      4.761905\n",
      "10.0    19.047619\n",
      "Name: livestock_number_goat, dtype: float64\n"
     ]
    },
    {
     "data": {
      "application/vnd.plotly.v1+json": {
       "data": [
        {
         "marker": {
          "color": "rgb(214,39,40)"
         },
         "name": "Very poor (23.8%)",
         "type": "bar",
         "x": [
          0,
          2,
          5
         ],
         "y": [
          14.285714285714286,
          4.761904761904762,
          4.761904761904762
         ]
        },
        {
         "marker": {
          "color": "rgb(255,127,14)"
         },
         "name": "Poor (28.6%)",
         "type": "bar",
         "x": [
          6,
          8,
          10
         ],
         "y": [
          4.761904761904762,
          4.761904761904762,
          19.047619047619047
         ]
        },
        {
         "marker": {
          "color": "rgb(44,160,44)"
         },
         "name": "Medium (33.3%)",
         "type": "bar",
         "x": [
          15,
          20,
          30
         ],
         "y": [
          9.523809523809524,
          14.285714285714286,
          9.523809523809524
         ]
        }
       ],
       "layout": {
        "annotations": [],
        "title": "Number of goats per wealth group in female HoHH",
        "width": 700,
        "yaxis": {
         "ticksuffix": "%"
        }
       }
      },
      "text/html": [
       "<div id=\"145cb466-f768-49f0-bf17-4db1a48c52e4\" style=\"height: 525px; width: 700px;\" class=\"plotly-graph-div\"></div><script type=\"text/javascript\">require([\"plotly\"], function(Plotly) { window.PLOTLYENV=window.PLOTLYENV || {};window.PLOTLYENV.BASE_URL=\"https://plot.ly\";Plotly.newPlot(\"145cb466-f768-49f0-bf17-4db1a48c52e4\", [{\"y\": [14.285714285714286, 4.761904761904762, 4.761904761904762], \"x\": [0.0, 2.0, 5.0], \"type\": \"bar\", \"name\": \"Very poor (23.8%)\", \"marker\": {\"color\": \"rgb(214,39,40)\"}}, {\"y\": [4.761904761904762, 4.761904761904762, 19.047619047619047], \"x\": [6.0, 8.0, 10.0], \"type\": \"bar\", \"name\": \"Poor (28.6%)\", \"marker\": {\"color\": \"rgb(255,127,14)\"}}, {\"y\": [9.523809523809524, 14.285714285714286, 9.523809523809524], \"x\": [15.0, 20.0, 30.0], \"type\": \"bar\", \"name\": \"Medium (33.3%)\", \"marker\": {\"color\": \"rgb(44,160,44)\"}}], {\"width\": 700, \"title\": \"Number of goats per wealth group in female HoHH\", \"annotations\": [], \"yaxis\": {\"ticksuffix\": \"%\"}}, {\"linkText\": \"Export to plot.ly\", \"showLink\": true})});</script>"
      ],
      "text/vnd.plotly.v1+html": [
       "<div id=\"145cb466-f768-49f0-bf17-4db1a48c52e4\" style=\"height: 525px; width: 700px;\" class=\"plotly-graph-div\"></div><script type=\"text/javascript\">require([\"plotly\"], function(Plotly) { window.PLOTLYENV=window.PLOTLYENV || {};window.PLOTLYENV.BASE_URL=\"https://plot.ly\";Plotly.newPlot(\"145cb466-f768-49f0-bf17-4db1a48c52e4\", [{\"y\": [14.285714285714286, 4.761904761904762, 4.761904761904762], \"x\": [0.0, 2.0, 5.0], \"type\": \"bar\", \"name\": \"Very poor (23.8%)\", \"marker\": {\"color\": \"rgb(214,39,40)\"}}, {\"y\": [4.761904761904762, 4.761904761904762, 19.047619047619047], \"x\": [6.0, 8.0, 10.0], \"type\": \"bar\", \"name\": \"Poor (28.6%)\", \"marker\": {\"color\": \"rgb(255,127,14)\"}}, {\"y\": [9.523809523809524, 14.285714285714286, 9.523809523809524], \"x\": [15.0, 20.0, 30.0], \"type\": \"bar\", \"name\": \"Medium (33.3%)\", \"marker\": {\"color\": \"rgb(44,160,44)\"}}], {\"width\": 700, \"title\": \"Number of goats per wealth group in female HoHH\", \"annotations\": [], \"yaxis\": {\"ticksuffix\": \"%\"}}, {\"linkText\": \"Export to plot.ly\", \"showLink\": true})});</script>"
      ]
     },
     "metadata": {},
     "output_type": "display_data"
    }
   ],
   "source": [
    "values = [4,15, 80]\n",
    "print values\n",
    "values_femHoHH = [5,10, 40]\n",
    "print values_femHoHH\n",
    "per2 = get_percentiles(goats, values)\n",
    "percentiles = pd.Series(values, index = per2)\n",
    "\n",
    "print percentiles\n",
    "\n",
    "print pd.Series(values_femHoHH, index = get_percentiles(goats_femHoHH, values_femHoHH))\n",
    "\n",
    "plot_wealth_criteria(goats, values, \"Number of goats per wealth group\")\n",
    "#plot_wealth_criteria(land_quantity_female, values_female, \"Number of feddans per wealth group in female respondents\")\n",
    "plot_wealth_criteria(goats_femHoHH, values_femHoHH, \"Number of goats per wealth group in female HoHH\")"
   ]
  },
  {
   "cell_type": "code",
   "execution_count": 45,
   "metadata": {},
   "outputs": [
    {
     "name": "stdout",
     "output_type": "stream",
     "text": [
      "[4, 15, 80]\n",
      "[0, 5, 20]\n",
      "0.36     4\n",
      "0.57    15\n",
      "0.89    80\n",
      "dtype: int64\n",
      "0.238095     0\n",
      "0.333333     5\n",
      "0.714286    20\n",
      "dtype: int64\n",
      "5.0     3.0\n",
      "6.0     3.0\n",
      "7.0     1.0\n",
      "8.0     1.0\n",
      "10.0    6.0\n",
      "12.0    1.0\n",
      "15.0    6.0\n",
      "Name: livestock_number_sheep, dtype: float64\n"
     ]
    },
    {
     "data": {
      "application/vnd.plotly.v1+json": {
       "data": [
        {
         "marker": {
          "color": "rgb(214,39,40)"
         },
         "name": "Very poor (36.0%)",
         "type": "bar",
         "x": [
          0,
          3
         ],
         "y": [
          33,
          3
         ]
        },
        {
         "marker": {
          "color": "rgb(255,127,14)"
         },
         "name": "Poor (21.0%)",
         "type": "bar",
         "x": [
          5,
          6,
          7,
          8,
          10,
          12,
          15
         ],
         "y": [
          3,
          3,
          1,
          1,
          6,
          1,
          6
         ]
        },
        {
         "marker": {
          "color": "rgb(44,160,44)"
         },
         "name": "Medium (32.0%)",
         "type": "bar",
         "x": [
          20,
          22,
          25,
          30,
          35,
          40,
          42,
          50,
          60,
          70
         ],
         "y": [
          8,
          1,
          3,
          7,
          2,
          3,
          1,
          3,
          3,
          1
         ]
        }
       ],
       "layout": {
        "annotations": [],
        "title": "Number of sheeps per wealth group",
        "width": 700,
        "yaxis": {
         "ticksuffix": "%"
        }
       }
      },
      "text/html": [
       "<div id=\"a09d22b4-9917-42d3-a0c8-c54c11012319\" style=\"height: 525px; width: 700px;\" class=\"plotly-graph-div\"></div><script type=\"text/javascript\">require([\"plotly\"], function(Plotly) { window.PLOTLYENV=window.PLOTLYENV || {};window.PLOTLYENV.BASE_URL=\"https://plot.ly\";Plotly.newPlot(\"a09d22b4-9917-42d3-a0c8-c54c11012319\", [{\"y\": [33.0, 3.0], \"x\": [0.0, 3.0], \"type\": \"bar\", \"name\": \"Very poor (36.0%)\", \"marker\": {\"color\": \"rgb(214,39,40)\"}}, {\"y\": [3.0, 3.0, 1.0, 1.0, 6.0, 1.0, 6.0], \"x\": [5.0, 6.0, 7.0, 8.0, 10.0, 12.0, 15.0], \"type\": \"bar\", \"name\": \"Poor (21.0%)\", \"marker\": {\"color\": \"rgb(255,127,14)\"}}, {\"y\": [8.0, 1.0, 3.0, 7.0, 2.0, 3.0, 1.0, 3.0, 3.0, 1.0], \"x\": [20.0, 22.0, 25.0, 30.0, 35.0, 40.0, 42.0, 50.0, 60.0, 70.0], \"type\": \"bar\", \"name\": \"Medium (32.0%)\", \"marker\": {\"color\": \"rgb(44,160,44)\"}}], {\"width\": 700, \"title\": \"Number of sheeps per wealth group\", \"annotations\": [], \"yaxis\": {\"ticksuffix\": \"%\"}}, {\"linkText\": \"Export to plot.ly\", \"showLink\": true})});</script>"
      ],
      "text/vnd.plotly.v1+html": [
       "<div id=\"a09d22b4-9917-42d3-a0c8-c54c11012319\" style=\"height: 525px; width: 700px;\" class=\"plotly-graph-div\"></div><script type=\"text/javascript\">require([\"plotly\"], function(Plotly) { window.PLOTLYENV=window.PLOTLYENV || {};window.PLOTLYENV.BASE_URL=\"https://plot.ly\";Plotly.newPlot(\"a09d22b4-9917-42d3-a0c8-c54c11012319\", [{\"y\": [33.0, 3.0], \"x\": [0.0, 3.0], \"type\": \"bar\", \"name\": \"Very poor (36.0%)\", \"marker\": {\"color\": \"rgb(214,39,40)\"}}, {\"y\": [3.0, 3.0, 1.0, 1.0, 6.0, 1.0, 6.0], \"x\": [5.0, 6.0, 7.0, 8.0, 10.0, 12.0, 15.0], \"type\": \"bar\", \"name\": \"Poor (21.0%)\", \"marker\": {\"color\": \"rgb(255,127,14)\"}}, {\"y\": [8.0, 1.0, 3.0, 7.0, 2.0, 3.0, 1.0, 3.0, 3.0, 1.0], \"x\": [20.0, 22.0, 25.0, 30.0, 35.0, 40.0, 42.0, 50.0, 60.0, 70.0], \"type\": \"bar\", \"name\": \"Medium (32.0%)\", \"marker\": {\"color\": \"rgb(44,160,44)\"}}], {\"width\": 700, \"title\": \"Number of sheeps per wealth group\", \"annotations\": [], \"yaxis\": {\"ticksuffix\": \"%\"}}, {\"linkText\": \"Export to plot.ly\", \"showLink\": true})});</script>"
      ]
     },
     "metadata": {},
     "output_type": "display_data"
    },
    {
     "name": "stdout",
     "output_type": "stream",
     "text": [
      "3.0    4.761905\n",
      "5.0    4.761905\n",
      "Name: livestock_number_sheep, dtype: float64\n"
     ]
    },
    {
     "data": {
      "application/vnd.plotly.v1+json": {
       "data": [
        {
         "marker": {
          "color": "rgb(214,39,40)"
         },
         "name": "Very poor (23.8%)",
         "type": "bar",
         "x": [
          0
         ],
         "y": [
          23.80952380952381
         ]
        },
        {
         "marker": {
          "color": "rgb(255,127,14)"
         },
         "name": "Poor (9.5%)",
         "type": "bar",
         "x": [
          3,
          5
         ],
         "y": [
          4.761904761904762,
          4.761904761904762
         ]
        },
        {
         "marker": {
          "color": "rgb(44,160,44)"
         },
         "name": "Medium (38.1%)",
         "type": "bar",
         "x": [
          8,
          10,
          12,
          20
         ],
         "y": [
          4.761904761904762,
          14.285714285714286,
          4.761904761904762,
          14.285714285714286
         ]
        }
       ],
       "layout": {
        "annotations": [],
        "title": "Number of sheeps per wealth group in female HoHH",
        "width": 700,
        "yaxis": {
         "ticksuffix": "%"
        }
       }
      },
      "text/html": [
       "<div id=\"0e58b298-d382-4979-918f-7bffd9b44f82\" style=\"height: 525px; width: 700px;\" class=\"plotly-graph-div\"></div><script type=\"text/javascript\">require([\"plotly\"], function(Plotly) { window.PLOTLYENV=window.PLOTLYENV || {};window.PLOTLYENV.BASE_URL=\"https://plot.ly\";Plotly.newPlot(\"0e58b298-d382-4979-918f-7bffd9b44f82\", [{\"y\": [23.80952380952381], \"x\": [0.0], \"type\": \"bar\", \"name\": \"Very poor (23.8%)\", \"marker\": {\"color\": \"rgb(214,39,40)\"}}, {\"y\": [4.761904761904762, 4.761904761904762], \"x\": [3.0, 5.0], \"type\": \"bar\", \"name\": \"Poor (9.5%)\", \"marker\": {\"color\": \"rgb(255,127,14)\"}}, {\"y\": [4.761904761904762, 14.285714285714286, 4.761904761904762, 14.285714285714286], \"x\": [8.0, 10.0, 12.0, 20.0], \"type\": \"bar\", \"name\": \"Medium (38.1%)\", \"marker\": {\"color\": \"rgb(44,160,44)\"}}], {\"width\": 700, \"title\": \"Number of sheeps per wealth group in female HoHH\", \"annotations\": [], \"yaxis\": {\"ticksuffix\": \"%\"}}, {\"linkText\": \"Export to plot.ly\", \"showLink\": true})});</script>"
      ],
      "text/vnd.plotly.v1+html": [
       "<div id=\"0e58b298-d382-4979-918f-7bffd9b44f82\" style=\"height: 525px; width: 700px;\" class=\"plotly-graph-div\"></div><script type=\"text/javascript\">require([\"plotly\"], function(Plotly) { window.PLOTLYENV=window.PLOTLYENV || {};window.PLOTLYENV.BASE_URL=\"https://plot.ly\";Plotly.newPlot(\"0e58b298-d382-4979-918f-7bffd9b44f82\", [{\"y\": [23.80952380952381], \"x\": [0.0], \"type\": \"bar\", \"name\": \"Very poor (23.8%)\", \"marker\": {\"color\": \"rgb(214,39,40)\"}}, {\"y\": [4.761904761904762, 4.761904761904762], \"x\": [3.0, 5.0], \"type\": \"bar\", \"name\": \"Poor (9.5%)\", \"marker\": {\"color\": \"rgb(255,127,14)\"}}, {\"y\": [4.761904761904762, 14.285714285714286, 4.761904761904762, 14.285714285714286], \"x\": [8.0, 10.0, 12.0, 20.0], \"type\": \"bar\", \"name\": \"Medium (38.1%)\", \"marker\": {\"color\": \"rgb(44,160,44)\"}}], {\"width\": 700, \"title\": \"Number of sheeps per wealth group in female HoHH\", \"annotations\": [], \"yaxis\": {\"ticksuffix\": \"%\"}}, {\"linkText\": \"Export to plot.ly\", \"showLink\": true})});</script>"
      ]
     },
     "metadata": {},
     "output_type": "display_data"
    }
   ],
   "source": [
    "values = [4,15, 80]\n",
    "print values\n",
    "values_femHoHH = [0,5, 20]\n",
    "print values_femHoHH\n",
    "per2 = get_percentiles(sheeps, values)\n",
    "percentiles = pd.Series(values, index = per2)\n",
    "\n",
    "print percentiles\n",
    "\n",
    "print pd.Series(values_femHoHH, index = get_percentiles(sheeps_femHoHH, values_femHoHH))\n",
    "\n",
    "plot_wealth_criteria(sheeps, values, \"Number of sheeps per wealth group\")\n",
    "#plot_wealth_criteria(land_quantity_female, values_female, \"Number of feddans per wealth group in female respondents\")\n",
    "plot_wealth_criteria(sheeps_femHoHH, values_femHoHH, \"Number of sheeps per wealth group in female HoHH\")"
   ]
  },
  {
   "cell_type": "markdown",
   "metadata": {},
   "source": [
    "#### Quantiles for goats\n",
    "- Poors: 35% of households have less than 10 goats and less than 10 sheeps\n",
    "- Medium: 62% of households have between 10 and 35 goats and between 20 and 30 sheeps\n",
    "- Richs: 3% of households have more than 35 goats and/or more than 30 sheeps"
   ]
  },
  {
   "cell_type": "code",
   "execution_count": 46,
   "metadata": {},
   "outputs": [
    {
     "data": {
      "application/vnd.plotly.v1+json": {
       "data": [
        {
         "marker": {
          "color": "rgb(258,225,225)",
          "line": {
           "color": "rgb(192,0,0)",
           "width": 1.5
          }
         },
         "name": "Live uses",
         "type": "bar",
         "x": [
          "Livestock_selling",
          "Livestock_social",
          "Livestock_milk",
          "Livestock_meat",
          "Livestock_savings"
         ],
         "y": [
          96,
          33,
          97,
          70,
          97
         ]
        }
       ],
       "layout": {
        "annotations": [],
        "title": "Livestock uses",
        "width": 700,
        "xaxis": {
         "tickangle": -45
        },
        "yaxis": {
         "ticksuffix": "%"
        }
       }
      },
      "text/html": [
       "<div id=\"e9997b8c-5303-45f1-8876-875a36eb7eb4\" style=\"height: 525px; width: 700px;\" class=\"plotly-graph-div\"></div><script type=\"text/javascript\">require([\"plotly\"], function(Plotly) { window.PLOTLYENV=window.PLOTLYENV || {};window.PLOTLYENV.BASE_URL=\"https://plot.ly\";Plotly.newPlot(\"e9997b8c-5303-45f1-8876-875a36eb7eb4\", [{\"y\": [96.0, 33.0, 97.0, 70.0, 97.0], \"x\": [\"Livestock_selling\", \"Livestock_social\", \"Livestock_milk\", \"Livestock_meat\", \"Livestock_savings\"], \"type\": \"bar\", \"name\": \"Live uses\", \"marker\": {\"color\": \"rgb(258,225,225)\", \"line\": {\"color\": \"rgb(192,0,0)\", \"width\": 1.5}}}], {\"width\": 700, \"title\": \"Livestock uses\", \"annotations\": [], \"xaxis\": {\"tickangle\": -45}, \"yaxis\": {\"ticksuffix\": \"%\"}}, {\"linkText\": \"Export to plot.ly\", \"showLink\": true})});</script>"
      ],
      "text/vnd.plotly.v1+html": [
       "<div id=\"e9997b8c-5303-45f1-8876-875a36eb7eb4\" style=\"height: 525px; width: 700px;\" class=\"plotly-graph-div\"></div><script type=\"text/javascript\">require([\"plotly\"], function(Plotly) { window.PLOTLYENV=window.PLOTLYENV || {};window.PLOTLYENV.BASE_URL=\"https://plot.ly\";Plotly.newPlot(\"e9997b8c-5303-45f1-8876-875a36eb7eb4\", [{\"y\": [96.0, 33.0, 97.0, 70.0, 97.0], \"x\": [\"Livestock_selling\", \"Livestock_social\", \"Livestock_milk\", \"Livestock_meat\", \"Livestock_savings\"], \"type\": \"bar\", \"name\": \"Live uses\", \"marker\": {\"color\": \"rgb(258,225,225)\", \"line\": {\"color\": \"rgb(192,0,0)\", \"width\": 1.5}}}], {\"width\": 700, \"title\": \"Livestock uses\", \"annotations\": [], \"xaxis\": {\"tickangle\": -45}, \"yaxis\": {\"ticksuffix\": \"%\"}}, {\"linkText\": \"Export to plot.ly\", \"showLink\": true})});</script>"
      ]
     },
     "metadata": {},
     "output_type": "display_data"
    }
   ],
   "source": [
    "livestock_uses = [\"selling\", \"social\", \"milk\", \"meat\", \"savings\"]\n",
    "goats_uses = [\"selling\", \"social\", \"milk\", \"meat\", \"savings\"]\n",
    "sheeps_uses = [\"selling\", \"social\", \"milk\", \"meat\", \"savings\"]\n",
    "livestock_uses_df = livestock_set[map(lambda x: \"livestock_\" + x, livestock_uses)]\n",
    "livestock_uses_df.fillna('no')\n",
    "livestock_uses = livestock_uses_df.apply(pd.Series.value_counts).fillna('0').loc['yes']\n",
    "num_lvstck = livestock_set['deviceid'].count()\n",
    "livestock_uses_perc = livestock_uses * 100 / num_lvstck\n",
    "\n",
    "fig_uses_lvstck = {\n",
    "    \"layout\": {\n",
    "        \"title\": \"Livestock uses\",\n",
    "        \"xaxis\": {\n",
    "            \"tickangle\": -45\n",
    "        },\n",
    "        \"yaxis\": {\n",
    "            \"ticksuffix\": \"%\"\n",
    "        },\n",
    "        \"width\": 700,\n",
    "        \"annotations\": []\n",
    "    },\n",
    "    \"data\": [\n",
    "        {\n",
    "            \"x\": map(lambda x: x.capitalize(), livestock_uses_perc.index.values),\n",
    "            \"y\": livestock_uses_perc.values,\n",
    "            \"type\": \"bar\",\n",
    "            \"name\": \"Live uses\",\n",
    "            \"marker\": {\n",
    "                \"color\": 'rgb(258,225,225)',\n",
    "                \"line\": {\n",
    "                    \"color\": 'rgb(192,0,0)',\n",
    "                    \"width\": 1.5\n",
    "                }\n",
    "            }\n",
    "        }\n",
    "    ]\n",
    "}\n",
    "\n",
    "\n",
    "iplot(fig_uses_lvstck)"
   ]
  },
  {
   "cell_type": "code",
   "execution_count": 47,
   "metadata": {},
   "outputs": [
    {
     "name": "stdout",
     "output_type": "stream",
     "text": [
      "USES TOTAL LIVESTOCK\n",
      "livestock_selling    96\n",
      "livestock_social     33\n",
      "livestock_milk       97\n",
      "livestock_meat       70\n",
      "livestock_savings    97\n",
      "Name: yes, dtype: object\n",
      "livestock_selling    96\n",
      "livestock_social     33\n",
      "livestock_milk       97\n",
      "livestock_meat       70\n",
      "livestock_savings    97\n",
      "Name: yes, dtype: object\n",
      "\n",
      "USES TOTAL GOATS\n",
      "           livestock_selling  livestock_social  livestock_milk  \\\n",
      "no                         3              60.0             1.0   \n",
      "no_answer                  1               NaN             NaN   \n",
      "yes                       85              29.0            88.0   \n",
      "\n",
      "           livestock_meat  livestock_savings  \n",
      "no                   28.0                2.0  \n",
      "no_answer             NaN                NaN  \n",
      "yes                  61.0               87.0  \n",
      "\n",
      "USES TOTAL SHEEPS\n",
      "           livestock_selling  livestock_social  livestock_milk  \\\n",
      "no                         2              43.0             2.0   \n",
      "no_answer                  1               NaN             NaN   \n",
      "yes                       64              24.0            65.0   \n",
      "\n",
      "           livestock_meat  livestock_savings  \n",
      "no                   25.0                1.0  \n",
      "no_answer             NaN                NaN  \n",
      "yes                  42.0               66.0  \n"
     ]
    }
   ],
   "source": [
    "print \"USES TOTAL LIVESTOCK\"\n",
    "print livestock_uses\n",
    "print livestock_uses_perc\n",
    "goats_uses = livestock_set.loc[livestock_set['livestock_type'].str.contains(\"goat\")][map(lambda x: \"livestock_\" + x, goats_uses)]\n",
    "print \"\"\n",
    "print \"USES TOTAL GOATS\"\n",
    "print goats_uses.apply(pd.Series.value_counts)\n",
    "sheeps_uses = livestock_set.loc[livestock_set['livestock_type'].str.contains(\"sheep\")][map(lambda x: \"livestock_\" + x, sheeps_uses)]\n",
    "print \"\"\n",
    "print \"USES TOTAL SHEEPS\"\n",
    "print sheeps_uses.apply(pd.Series.value_counts)"
   ]
  },
  {
   "cell_type": "code",
   "execution_count": 48,
   "metadata": {},
   "outputs": [
    {
     "data": {
      "application/vnd.plotly.v1+json": {
       "data": [
        {
         "marker": {
          "color": "rgb(258,225,225)",
          "line": {
           "color": "rgb(192,0,0)",
           "width": 1.5
          }
         },
         "name": "Livelihoods Strategies",
         "type": "bar",
         "x": [
          "Camel",
          "Cattle",
          "Goat",
          "Sheep",
          "Chicken",
          "Other"
         ],
         "y": [
          23,
          2,
          89,
          67,
          13,
          5
         ]
        }
       ],
       "layout": {
        "annotations": [
         {
          "font": {
           "color": "rgba(100, 0, 0, 1)",
           "family": "Arial",
           "size": 14
          },
          "showarrow": false,
          "text": "23.0%",
          "x": "Camel",
          "y": 24.5
         },
         {
          "font": {
           "color": "rgba(100, 0, 0, 1)",
           "family": "Arial",
           "size": 14
          },
          "showarrow": false,
          "text": "2.0%",
          "x": "Cattle",
          "y": 3.5
         },
         {
          "font": {
           "color": "rgba(100, 0, 0, 1)",
           "family": "Arial",
           "size": 14
          },
          "showarrow": false,
          "text": "89.0%",
          "x": "Goat",
          "y": 90.5
         },
         {
          "font": {
           "color": "rgba(100, 0, 0, 1)",
           "family": "Arial",
           "size": 14
          },
          "showarrow": false,
          "text": "67.0%",
          "x": "Sheep",
          "y": 68.5
         },
         {
          "font": {
           "color": "rgba(100, 0, 0, 1)",
           "family": "Arial",
           "size": 14
          },
          "showarrow": false,
          "text": "13.0%",
          "x": "Chicken",
          "y": 14.5
         },
         {
          "font": {
           "color": "rgba(100, 0, 0, 1)",
           "family": "Arial",
           "size": 14
          },
          "showarrow": false,
          "text": "5.0%",
          "x": "Other",
          "y": 6.5
         }
        ],
        "title": "Livestock types",
        "width": 700,
        "xaxis": {
         "tickangle": -45
        }
       }
      },
      "text/html": [
       "<div id=\"a574c147-104b-4133-aeb5-15dafcd3636c\" style=\"height: 525px; width: 700px;\" class=\"plotly-graph-div\"></div><script type=\"text/javascript\">require([\"plotly\"], function(Plotly) { window.PLOTLYENV=window.PLOTLYENV || {};window.PLOTLYENV.BASE_URL=\"https://plot.ly\";Plotly.newPlot(\"a574c147-104b-4133-aeb5-15dafcd3636c\", [{\"y\": [23.0, 2.0, 89.0, 67.0, 13.0, 5.0], \"x\": [\"Camel\", \"Cattle\", \"Goat\", \"Sheep\", \"Chicken\", \"Other\"], \"type\": \"bar\", \"name\": \"Livelihoods Strategies\", \"marker\": {\"color\": \"rgb(258,225,225)\", \"line\": {\"color\": \"rgb(192,0,0)\", \"width\": 1.5}}}], {\"width\": 700, \"annotations\": [{\"y\": 24.5, \"x\": \"Camel\", \"font\": {\"color\": \"rgba(100, 0, 0, 1)\", \"family\": \"Arial\", \"size\": 14}, \"text\": \"23.0%\", \"showarrow\": false}, {\"y\": 3.5, \"x\": \"Cattle\", \"font\": {\"color\": \"rgba(100, 0, 0, 1)\", \"family\": \"Arial\", \"size\": 14}, \"text\": \"2.0%\", \"showarrow\": false}, {\"y\": 90.5, \"x\": \"Goat\", \"font\": {\"color\": \"rgba(100, 0, 0, 1)\", \"family\": \"Arial\", \"size\": 14}, \"text\": \"89.0%\", \"showarrow\": false}, {\"y\": 68.5, \"x\": \"Sheep\", \"font\": {\"color\": \"rgba(100, 0, 0, 1)\", \"family\": \"Arial\", \"size\": 14}, \"text\": \"67.0%\", \"showarrow\": false}, {\"y\": 14.5, \"x\": \"Chicken\", \"font\": {\"color\": \"rgba(100, 0, 0, 1)\", \"family\": \"Arial\", \"size\": 14}, \"text\": \"13.0%\", \"showarrow\": false}, {\"y\": 6.5, \"x\": \"Other\", \"font\": {\"color\": \"rgba(100, 0, 0, 1)\", \"family\": \"Arial\", \"size\": 14}, \"text\": \"5.0%\", \"showarrow\": false}], \"xaxis\": {\"tickangle\": -45}, \"title\": \"Livestock types\"}, {\"linkText\": \"Export to plot.ly\", \"showLink\": true})});</script>"
      ],
      "text/vnd.plotly.v1+html": [
       "<div id=\"a574c147-104b-4133-aeb5-15dafcd3636c\" style=\"height: 525px; width: 700px;\" class=\"plotly-graph-div\"></div><script type=\"text/javascript\">require([\"plotly\"], function(Plotly) { window.PLOTLYENV=window.PLOTLYENV || {};window.PLOTLYENV.BASE_URL=\"https://plot.ly\";Plotly.newPlot(\"a574c147-104b-4133-aeb5-15dafcd3636c\", [{\"y\": [23.0, 2.0, 89.0, 67.0, 13.0, 5.0], \"x\": [\"Camel\", \"Cattle\", \"Goat\", \"Sheep\", \"Chicken\", \"Other\"], \"type\": \"bar\", \"name\": \"Livelihoods Strategies\", \"marker\": {\"color\": \"rgb(258,225,225)\", \"line\": {\"color\": \"rgb(192,0,0)\", \"width\": 1.5}}}], {\"width\": 700, \"annotations\": [{\"y\": 24.5, \"x\": \"Camel\", \"font\": {\"color\": \"rgba(100, 0, 0, 1)\", \"family\": \"Arial\", \"size\": 14}, \"text\": \"23.0%\", \"showarrow\": false}, {\"y\": 3.5, \"x\": \"Cattle\", \"font\": {\"color\": \"rgba(100, 0, 0, 1)\", \"family\": \"Arial\", \"size\": 14}, \"text\": \"2.0%\", \"showarrow\": false}, {\"y\": 90.5, \"x\": \"Goat\", \"font\": {\"color\": \"rgba(100, 0, 0, 1)\", \"family\": \"Arial\", \"size\": 14}, \"text\": \"89.0%\", \"showarrow\": false}, {\"y\": 68.5, \"x\": \"Sheep\", \"font\": {\"color\": \"rgba(100, 0, 0, 1)\", \"family\": \"Arial\", \"size\": 14}, \"text\": \"67.0%\", \"showarrow\": false}, {\"y\": 14.5, \"x\": \"Chicken\", \"font\": {\"color\": \"rgba(100, 0, 0, 1)\", \"family\": \"Arial\", \"size\": 14}, \"text\": \"13.0%\", \"showarrow\": false}, {\"y\": 6.5, \"x\": \"Other\", \"font\": {\"color\": \"rgba(100, 0, 0, 1)\", \"family\": \"Arial\", \"size\": 14}, \"text\": \"5.0%\", \"showarrow\": false}], \"xaxis\": {\"tickangle\": -45}, \"title\": \"Livestock types\"}, {\"linkText\": \"Export to plot.ly\", \"showLink\": true})});</script>"
      ]
     },
     "metadata": {},
     "output_type": "display_data"
    }
   ],
   "source": [
    "uses_lvstck = get_ocurrences(livestock_set, 'livestock_type')\n",
    "\n",
    "perc_lvstck = 100*types_lvstck/livestock_set['deviceid'].count()\n",
    "perc_lvstck = perc_lvstck.round(2)\n",
    "fig_types_lvstck = {\n",
    "    \"layout\": {\n",
    "        \"title\": \"Livestock types\",\n",
    "        \"xaxis\": {\n",
    "            \"tickangle\": -45\n",
    "        },\n",
    "        \"width\": 700,\n",
    "        \"annotations\": []\n",
    "    },\n",
    "    \"data\": [\n",
    "        {\n",
    "            \"x\": map(lambda x: x.capitalize(), perc_lvstck.index.values),\n",
    "            \"y\": perc_lvstck.values,\n",
    "            \"type\": \"bar\",\n",
    "            \"name\": \"Livelihoods Strategies\",\n",
    "            \"marker\": {\n",
    "                \"color\": 'rgb(258,225,225)',\n",
    "                \"line\": {\n",
    "                    \"color\": 'rgb(192,0,0)',\n",
    "                    \"width\": 1.5\n",
    "                }\n",
    "            }\n",
    "        }\n",
    "    ]\n",
    "}\n",
    "\n",
    "\n",
    "for i in range(0, len(types_lvstck)):\n",
    "    fig_types_lvstck[\"layout\"][\"annotations\"].append(\n",
    "        {\n",
    "            \"x\": map(lambda x: x.capitalize(), perc_lvstck.index.values)[i],\n",
    "            \"y\": perc_lvstck.values[i] + 1.5,\n",
    "            \"text\": str(perc_lvstck.values[i]) + \"%\",\n",
    "            \"font\": dict(\n",
    "                family='Arial',\n",
    "                size=14,\n",
    "                color='rgba(100, 0, 0, 1)'\n",
    "            ),\n",
    "            \"showarrow\": False,\n",
    "\n",
    "        }\n",
    "    )\n",
    "\n",
    "iplot(fig_types_lvstck)"
   ]
  },
  {
   "cell_type": "markdown",
   "metadata": {},
   "source": [
    "### Laborers"
   ]
  },
  {
   "cell_type": "code",
   "execution_count": 49,
   "metadata": {
    "scrolled": false
   },
   "outputs": [
    {
     "data": {
      "application/vnd.plotly.v1+json": {
       "data": [
        {
         "domain": {
          "x": [
           0,
           0.32
          ]
         },
         "labels": [
          "other",
          "transportation"
         ],
         "sort": false,
         "type": "pie",
         "values": [
          31,
          1
         ]
        },
        {
         "domain": {
          "x": [
           0.34,
           0.64
          ]
         },
         "labels": [
          "agriculture",
          "government",
          "livestock",
          "other",
          "transportation"
         ],
         "sort": false,
         "type": "pie",
         "values": [
          12,
          2,
          5,
          78,
          6
         ]
        },
        {
         "domain": {
          "x": [
           0.66,
           0.98
          ]
         },
         "labels": [
          "agriculture",
          "government",
          "livestock",
          "other",
          "transportation"
         ],
         "sort": false,
         "type": "pie",
         "values": [
          12,
          2,
          5,
          47,
          5
         ]
        }
       ],
       "layout": {
        "annotations": [
         {
          "font": {
           "size": 14
          },
          "showarrow": false,
          "text": "Female Head of Household",
          "x": 0.04,
          "y": 1
         },
         {
          "font": {
           "size": 14
          },
          "showarrow": false,
          "text": "Global",
          "x": 0.5,
          "y": 1
         },
         {
          "font": {
           "size": 14
          },
          "showarrow": false,
          "text": "Male Head of Household",
          "x": 0.94,
          "y": 1
         }
        ],
        "title": "Labor sector"
       }
      },
      "text/html": [
       "<div id=\"f8cbc267-6c7f-468e-aa7e-035d94810416\" style=\"height: 525px; width: 100%;\" class=\"plotly-graph-div\"></div><script type=\"text/javascript\">require([\"plotly\"], function(Plotly) { window.PLOTLYENV=window.PLOTLYENV || {};window.PLOTLYENV.BASE_URL=\"https://plot.ly\";Plotly.newPlot(\"f8cbc267-6c7f-468e-aa7e-035d94810416\", [{\"sort\": false, \"values\": [31, 1], \"domain\": {\"x\": [0, 0.32]}, \"labels\": [\"other\", \"transportation\"], \"type\": \"pie\"}, {\"sort\": false, \"values\": [12, 2, 5, 78, 6], \"domain\": {\"x\": [0.34, 0.64]}, \"labels\": [\"agriculture\", \"government\", \"livestock\", \"other\", \"transportation\"], \"type\": \"pie\"}, {\"sort\": false, \"values\": [12, 2, 5, 47, 5], \"domain\": {\"x\": [0.66, 0.98]}, \"labels\": [\"agriculture\", \"government\", \"livestock\", \"other\", \"transportation\"], \"type\": \"pie\"}], {\"annotations\": [{\"y\": 1, \"text\": \"Female Head of Household\", \"font\": {\"size\": 14}, \"showarrow\": false, \"x\": 0.04}, {\"y\": 1, \"text\": \"Global\", \"font\": {\"size\": 14}, \"showarrow\": false, \"x\": 0.5}, {\"y\": 1, \"text\": \"Male Head of Household\", \"font\": {\"size\": 14}, \"showarrow\": false, \"x\": 0.94}], \"title\": \"Labor sector\"}, {\"linkText\": \"Export to plot.ly\", \"showLink\": true})});</script>"
      ],
      "text/vnd.plotly.v1+html": [
       "<div id=\"f8cbc267-6c7f-468e-aa7e-035d94810416\" style=\"height: 525px; width: 100%;\" class=\"plotly-graph-div\"></div><script type=\"text/javascript\">require([\"plotly\"], function(Plotly) { window.PLOTLYENV=window.PLOTLYENV || {};window.PLOTLYENV.BASE_URL=\"https://plot.ly\";Plotly.newPlot(\"f8cbc267-6c7f-468e-aa7e-035d94810416\", [{\"sort\": false, \"values\": [31, 1], \"domain\": {\"x\": [0, 0.32]}, \"labels\": [\"other\", \"transportation\"], \"type\": \"pie\"}, {\"sort\": false, \"values\": [12, 2, 5, 78, 6], \"domain\": {\"x\": [0.34, 0.64]}, \"labels\": [\"agriculture\", \"government\", \"livestock\", \"other\", \"transportation\"], \"type\": \"pie\"}, {\"sort\": false, \"values\": [12, 2, 5, 47, 5], \"domain\": {\"x\": [0.66, 0.98]}, \"labels\": [\"agriculture\", \"government\", \"livestock\", \"other\", \"transportation\"], \"type\": \"pie\"}], {\"annotations\": [{\"y\": 1, \"text\": \"Female Head of Household\", \"font\": {\"size\": 14}, \"showarrow\": false, \"x\": 0.04}, {\"y\": 1, \"text\": \"Global\", \"font\": {\"size\": 14}, \"showarrow\": false, \"x\": 0.5}, {\"y\": 1, \"text\": \"Male Head of Household\", \"font\": {\"size\": 14}, \"showarrow\": false, \"x\": 0.94}], \"title\": \"Labor sector\"}, {\"linkText\": \"Export to plot.ly\", \"showLink\": true})});</script>"
      ]
     },
     "metadata": {},
     "output_type": "display_data"
    },
    {
     "name": "stdout",
     "output_type": "stream",
     "text": [
      "104 laborers\n"
     ]
    },
    {
     "data": {
      "application/vnd.plotly.v1+json": {
       "data": [
        {
         "domain": {
          "x": [
           0,
           0.32
          ]
         },
         "labels": [
          "permanent",
          "seasonal",
          "temporary"
         ],
         "sort": false,
         "type": "pie",
         "values": [
          22,
          7,
          3
         ]
        },
        {
         "domain": {
          "x": [
           0.34,
           0.64
          ]
         },
         "labels": [
          "permanent",
          "seasonal",
          "temporary"
         ],
         "sort": false,
         "type": "pie",
         "values": [
          42,
          30,
          28
         ]
        },
        {
         "domain": {
          "x": [
           0.66,
           0.98
          ]
         },
         "labels": [
          "permanent",
          "seasonal",
          "temporary"
         ],
         "sort": false,
         "type": "pie",
         "values": [
          20,
          23,
          25
         ]
        }
       ],
       "layout": {
        "annotations": [
         {
          "font": {
           "size": 14
          },
          "showarrow": false,
          "text": "Female Head of Household",
          "x": 0.04,
          "y": 1
         },
         {
          "font": {
           "size": 14
          },
          "showarrow": false,
          "text": "Global",
          "x": 0.5,
          "y": 1
         },
         {
          "font": {
           "size": 14
          },
          "showarrow": false,
          "text": "Male Head of Household",
          "x": 0.94,
          "y": 1
         }
        ],
        "title": "Temporality of laborers"
       }
      },
      "text/html": [
       "<div id=\"85afb799-0684-4e56-b7b6-ab52d5268130\" style=\"height: 525px; width: 100%;\" class=\"plotly-graph-div\"></div><script type=\"text/javascript\">require([\"plotly\"], function(Plotly) { window.PLOTLYENV=window.PLOTLYENV || {};window.PLOTLYENV.BASE_URL=\"https://plot.ly\";Plotly.newPlot(\"85afb799-0684-4e56-b7b6-ab52d5268130\", [{\"sort\": false, \"values\": [22, 7, 3], \"domain\": {\"x\": [0, 0.32]}, \"labels\": [\"permanent\", \"seasonal\", \"temporary\"], \"type\": \"pie\"}, {\"sort\": false, \"values\": [42, 30, 28], \"domain\": {\"x\": [0.34, 0.64]}, \"labels\": [\"permanent\", \"seasonal\", \"temporary\"], \"type\": \"pie\"}, {\"sort\": false, \"values\": [20, 23, 25], \"domain\": {\"x\": [0.66, 0.98]}, \"labels\": [\"permanent\", \"seasonal\", \"temporary\"], \"type\": \"pie\"}], {\"annotations\": [{\"y\": 1, \"text\": \"Female Head of Household\", \"font\": {\"size\": 14}, \"showarrow\": false, \"x\": 0.04}, {\"y\": 1, \"text\": \"Global\", \"font\": {\"size\": 14}, \"showarrow\": false, \"x\": 0.5}, {\"y\": 1, \"text\": \"Male Head of Household\", \"font\": {\"size\": 14}, \"showarrow\": false, \"x\": 0.94}], \"title\": \"Temporality of laborers\"}, {\"linkText\": \"Export to plot.ly\", \"showLink\": true})});</script>"
      ],
      "text/vnd.plotly.v1+html": [
       "<div id=\"85afb799-0684-4e56-b7b6-ab52d5268130\" style=\"height: 525px; width: 100%;\" class=\"plotly-graph-div\"></div><script type=\"text/javascript\">require([\"plotly\"], function(Plotly) { window.PLOTLYENV=window.PLOTLYENV || {};window.PLOTLYENV.BASE_URL=\"https://plot.ly\";Plotly.newPlot(\"85afb799-0684-4e56-b7b6-ab52d5268130\", [{\"sort\": false, \"values\": [22, 7, 3], \"domain\": {\"x\": [0, 0.32]}, \"labels\": [\"permanent\", \"seasonal\", \"temporary\"], \"type\": \"pie\"}, {\"sort\": false, \"values\": [42, 30, 28], \"domain\": {\"x\": [0.34, 0.64]}, \"labels\": [\"permanent\", \"seasonal\", \"temporary\"], \"type\": \"pie\"}, {\"sort\": false, \"values\": [20, 23, 25], \"domain\": {\"x\": [0.66, 0.98]}, \"labels\": [\"permanent\", \"seasonal\", \"temporary\"], \"type\": \"pie\"}], {\"annotations\": [{\"y\": 1, \"text\": \"Female Head of Household\", \"font\": {\"size\": 14}, \"showarrow\": false, \"x\": 0.04}, {\"y\": 1, \"text\": \"Global\", \"font\": {\"size\": 14}, \"showarrow\": false, \"x\": 0.5}, {\"y\": 1, \"text\": \"Male Head of Household\", \"font\": {\"size\": 14}, \"showarrow\": false, \"x\": 0.94}], \"title\": \"Temporality of laborers\"}, {\"linkText\": \"Export to plot.ly\", \"showLink\": true})});</script>"
      ]
     },
     "metadata": {},
     "output_type": "display_data"
    },
    {
     "data": {
      "application/vnd.plotly.v1+json": {
       "data": [
        {
         "domain": {
          "x": [
           0,
           0.32
          ]
         },
         "labels": [
          "informal"
         ],
         "sort": false,
         "type": "pie",
         "values": [
          32
         ]
        },
        {
         "domain": {
          "x": [
           0.34,
           0.64
          ]
         },
         "labels": [
          "formal",
          "informal"
         ],
         "sort": false,
         "type": "pie",
         "values": [
          3,
          101
         ]
        },
        {
         "domain": {
          "x": [
           0.66,
           0.98
          ]
         },
         "labels": [
          "formal",
          "informal"
         ],
         "sort": false,
         "type": "pie",
         "values": [
          3,
          69
         ]
        }
       ],
       "layout": {
        "annotations": [
         {
          "font": {
           "size": 14
          },
          "showarrow": false,
          "text": "Female Head of Household",
          "x": 0.04,
          "y": 1
         },
         {
          "font": {
           "size": 14
          },
          "showarrow": false,
          "text": "Global",
          "x": 0.5,
          "y": 1
         },
         {
          "font": {
           "size": 14
          },
          "showarrow": false,
          "text": "Male Head of Household",
          "x": 0.94,
          "y": 1
         }
        ],
        "title": "Employment Type"
       }
      },
      "text/html": [
       "<div id=\"1aef258f-385c-4c79-8f2b-e24aeab58bf1\" style=\"height: 525px; width: 100%;\" class=\"plotly-graph-div\"></div><script type=\"text/javascript\">require([\"plotly\"], function(Plotly) { window.PLOTLYENV=window.PLOTLYENV || {};window.PLOTLYENV.BASE_URL=\"https://plot.ly\";Plotly.newPlot(\"1aef258f-385c-4c79-8f2b-e24aeab58bf1\", [{\"sort\": false, \"values\": [32], \"domain\": {\"x\": [0, 0.32]}, \"labels\": [\"informal\"], \"type\": \"pie\"}, {\"sort\": false, \"values\": [3, 101], \"domain\": {\"x\": [0.34, 0.64]}, \"labels\": [\"formal\", \"informal\"], \"type\": \"pie\"}, {\"sort\": false, \"values\": [3, 69], \"domain\": {\"x\": [0.66, 0.98]}, \"labels\": [\"formal\", \"informal\"], \"type\": \"pie\"}], {\"annotations\": [{\"y\": 1, \"text\": \"Female Head of Household\", \"font\": {\"size\": 14}, \"showarrow\": false, \"x\": 0.04}, {\"y\": 1, \"text\": \"Global\", \"font\": {\"size\": 14}, \"showarrow\": false, \"x\": 0.5}, {\"y\": 1, \"text\": \"Male Head of Household\", \"font\": {\"size\": 14}, \"showarrow\": false, \"x\": 0.94}], \"title\": \"Employment Type\"}, {\"linkText\": \"Export to plot.ly\", \"showLink\": true})});</script>"
      ],
      "text/vnd.plotly.v1+html": [
       "<div id=\"1aef258f-385c-4c79-8f2b-e24aeab58bf1\" style=\"height: 525px; width: 100%;\" class=\"plotly-graph-div\"></div><script type=\"text/javascript\">require([\"plotly\"], function(Plotly) { window.PLOTLYENV=window.PLOTLYENV || {};window.PLOTLYENV.BASE_URL=\"https://plot.ly\";Plotly.newPlot(\"1aef258f-385c-4c79-8f2b-e24aeab58bf1\", [{\"sort\": false, \"values\": [32], \"domain\": {\"x\": [0, 0.32]}, \"labels\": [\"informal\"], \"type\": \"pie\"}, {\"sort\": false, \"values\": [3, 101], \"domain\": {\"x\": [0.34, 0.64]}, \"labels\": [\"formal\", \"informal\"], \"type\": \"pie\"}, {\"sort\": false, \"values\": [3, 69], \"domain\": {\"x\": [0.66, 0.98]}, \"labels\": [\"formal\", \"informal\"], \"type\": \"pie\"}], {\"annotations\": [{\"y\": 1, \"text\": \"Female Head of Household\", \"font\": {\"size\": 14}, \"showarrow\": false, \"x\": 0.04}, {\"y\": 1, \"text\": \"Global\", \"font\": {\"size\": 14}, \"showarrow\": false, \"x\": 0.5}, {\"y\": 1, \"text\": \"Male Head of Household\", \"font\": {\"size\": 14}, \"showarrow\": false, \"x\": 0.94}], \"title\": \"Employment Type\"}, {\"linkText\": \"Export to plot.ly\", \"showLink\": true})});</script>"
      ]
     },
     "metadata": {},
     "output_type": "display_data"
    },
    {
     "data": {
      "application/vnd.plotly.v1+json": {
       "data": [
        {
         "domain": {
          "x": [
           0,
           0.32
          ]
         },
         "labels": [
          "men",
          "men women",
          "women"
         ],
         "sort": false,
         "type": "pie",
         "values": [
          30,
          1,
          1
         ]
        },
        {
         "domain": {
          "x": [
           0.34,
           0.64
          ]
         },
         "labels": [
          "men",
          "men women",
          "no_answer",
          "women"
         ],
         "sort": false,
         "type": "pie",
         "values": [
          90,
          1,
          12,
          1
         ]
        },
        {
         "domain": {
          "x": [
           0.66,
           0.98
          ]
         },
         "labels": [
          "men",
          "no_answer"
         ],
         "sort": false,
         "type": "pie",
         "values": [
          60,
          12
         ]
        }
       ],
       "layout": {
        "annotations": [
         {
          "font": {
           "size": 14
          },
          "showarrow": false,
          "text": "Female Head of Household",
          "x": 0.04,
          "y": 1
         },
         {
          "font": {
           "size": 14
          },
          "showarrow": false,
          "text": "Global",
          "x": 0.5,
          "y": 1
         },
         {
          "font": {
           "size": 14
          },
          "showarrow": false,
          "text": "Male Head of Household",
          "x": 0.94,
          "y": 1
         }
        ],
        "title": "Gender of laborers"
       }
      },
      "text/html": [
       "<div id=\"b3f4d2bc-69c7-4360-a212-e823a1c52da4\" style=\"height: 525px; width: 100%;\" class=\"plotly-graph-div\"></div><script type=\"text/javascript\">require([\"plotly\"], function(Plotly) { window.PLOTLYENV=window.PLOTLYENV || {};window.PLOTLYENV.BASE_URL=\"https://plot.ly\";Plotly.newPlot(\"b3f4d2bc-69c7-4360-a212-e823a1c52da4\", [{\"sort\": false, \"values\": [30, 1, 1], \"domain\": {\"x\": [0, 0.32]}, \"labels\": [\"men\", \"men women\", \"women\"], \"type\": \"pie\"}, {\"sort\": false, \"values\": [90, 1, 12, 1], \"domain\": {\"x\": [0.34, 0.64]}, \"labels\": [\"men\", \"men women\", \"no_answer\", \"women\"], \"type\": \"pie\"}, {\"sort\": false, \"values\": [60, 12], \"domain\": {\"x\": [0.66, 0.98]}, \"labels\": [\"men\", \"no_answer\"], \"type\": \"pie\"}], {\"annotations\": [{\"y\": 1, \"text\": \"Female Head of Household\", \"font\": {\"size\": 14}, \"showarrow\": false, \"x\": 0.04}, {\"y\": 1, \"text\": \"Global\", \"font\": {\"size\": 14}, \"showarrow\": false, \"x\": 0.5}, {\"y\": 1, \"text\": \"Male Head of Household\", \"font\": {\"size\": 14}, \"showarrow\": false, \"x\": 0.94}], \"title\": \"Gender of laborers\"}, {\"linkText\": \"Export to plot.ly\", \"showLink\": true})});</script>"
      ],
      "text/vnd.plotly.v1+html": [
       "<div id=\"b3f4d2bc-69c7-4360-a212-e823a1c52da4\" style=\"height: 525px; width: 100%;\" class=\"plotly-graph-div\"></div><script type=\"text/javascript\">require([\"plotly\"], function(Plotly) { window.PLOTLYENV=window.PLOTLYENV || {};window.PLOTLYENV.BASE_URL=\"https://plot.ly\";Plotly.newPlot(\"b3f4d2bc-69c7-4360-a212-e823a1c52da4\", [{\"sort\": false, \"values\": [30, 1, 1], \"domain\": {\"x\": [0, 0.32]}, \"labels\": [\"men\", \"men women\", \"women\"], \"type\": \"pie\"}, {\"sort\": false, \"values\": [90, 1, 12, 1], \"domain\": {\"x\": [0.34, 0.64]}, \"labels\": [\"men\", \"men women\", \"no_answer\", \"women\"], \"type\": \"pie\"}, {\"sort\": false, \"values\": [60, 12], \"domain\": {\"x\": [0.66, 0.98]}, \"labels\": [\"men\", \"no_answer\"], \"type\": \"pie\"}], {\"annotations\": [{\"y\": 1, \"text\": \"Female Head of Household\", \"font\": {\"size\": 14}, \"showarrow\": false, \"x\": 0.04}, {\"y\": 1, \"text\": \"Global\", \"font\": {\"size\": 14}, \"showarrow\": false, \"x\": 0.5}, {\"y\": 1, \"text\": \"Male Head of Household\", \"font\": {\"size\": 14}, \"showarrow\": false, \"x\": 0.94}], \"title\": \"Gender of laborers\"}, {\"linkText\": \"Export to plot.ly\", \"showLink\": true})});</script>"
      ]
     },
     "metadata": {},
     "output_type": "display_data"
    }
   ],
   "source": [
    "labour_set = reg_survey.loc[reg_survey['src_incomes'].str.contains(\"labour\")]\n",
    "labour_set_femHoHH = reg_survey_femHoHH.loc[reg_survey_femHoHH['src_incomes'].str.contains(\"labour\")]\n",
    "labor_sector = get_ocurrences(labour_set, 'labour_sector')\n",
    "labor_sector_femHoHH = get_ocurrences(labour_set_femHoHH, 'labour_sector')\n",
    "#create_pie_graph(labor_sector, \"Labor sector\")\n",
    "create_graphs_HoHH(lambda x: get_ocurrences(x.loc[x['src_incomes'].str.contains(\"labour\")], 'labour_sector'),\n",
    "                         lambda x: x.values,\n",
    "                         lambda x: x.index.values,\n",
    "                         lambda x: x.sum(),\n",
    "                         \"Labor sector\")\n",
    "labour_set.loc[labour_set['labour_participants'].str.contains('women')][['labour_participants', 'respondant_gender', 'respondant_age', 'respondant_head_hh', 'male_teenager', 'male_adult', 'male_elderly', 'labour_sector']]\n",
    "labour_incomes = labour_set.groupby('labour_daily_salary').size()\n",
    "mean_salary = labour_set['labour_daily_salary'].mean()\n",
    "sectors_100 = labour_set.loc[labour_set['labour_daily_salary'] == 100].groupby('labour_sector').size()\n",
    "print str(labour_set['deviceid'].count()) + \" laborers\"\n",
    "create_graphs_HoHH(lambda x: x.loc[x['src_incomes'].str.contains(\"labour\")].groupby('labour_work_term').size(),\n",
    "                         lambda x: x.values,\n",
    "                         lambda x: x.index.values,\n",
    "                         lambda x: x.sum(),\n",
    "                         \"Temporality of laborers\")\n",
    "create_graphs_HoHH(lambda x: x.loc[x['src_incomes'].str.contains(\"labour\")].groupby('labour_employment_type').size(),\n",
    "                         lambda x: x.values,\n",
    "                         lambda x: x.index.values,\n",
    "                         lambda x: x.sum(),\n",
    "                         \"Employment Type\")\n",
    "create_graphs_HoHH(lambda x: x.loc[x['src_incomes'].str.contains(\"labour\")].groupby('labour_participants').size(),\n",
    "                         lambda x: x.values,\n",
    "                         lambda x: x.index.values,\n",
    "                         lambda x: x.sum(),\n",
    "                         \"Gender of laborers\")"
   ]
  },
  {
   "cell_type": "code",
   "execution_count": 50,
   "metadata": {},
   "outputs": [
    {
     "name": "stdout",
     "output_type": "stream",
     "text": [
      "54.6634615385\n"
     ]
    },
    {
     "data": {
      "application/vnd.plotly.v1+json": {
       "data": [
        {
         "marker": {
          "size": [
           5,
           5,
           10,
           10,
           10,
           15,
           15,
           10,
           20,
           75,
           10,
           55,
           5,
           5,
           105,
           5,
           10,
           5,
           25,
           5,
           20,
           5,
           5
          ]
         },
         "mode": "markers",
         "type": "scatter",
         "x": [
          0,
          1,
          2,
          3,
          4,
          5,
          6,
          7,
          8,
          10,
          12,
          15,
          16,
          18,
          20,
          22,
          25,
          25,
          30,
          40,
          50,
          70,
          100
         ],
         "y": [
          2,
          0,
          0,
          0,
          0,
          0,
          0,
          0,
          0,
          0,
          0,
          0,
          0,
          0,
          0,
          0,
          0,
          1,
          0,
          0,
          0,
          0,
          0
         ]
        }
       ],
       "layout": {
        "title": "Relation between the number of cattle and goats",
        "xaxis": {
         "title": "Number of goat"
        },
        "yaxis": {
         "title": "Number of cattle"
        }
       }
      },
      "text/html": [
       "<div id=\"f55717b1-b373-48d1-b593-1581dfeb82a8\" style=\"height: 525px; width: 100%;\" class=\"plotly-graph-div\"></div><script type=\"text/javascript\">require([\"plotly\"], function(Plotly) { window.PLOTLYENV=window.PLOTLYENV || {};window.PLOTLYENV.BASE_URL=\"https://plot.ly\";Plotly.newPlot(\"f55717b1-b373-48d1-b593-1581dfeb82a8\", [{\"y\": [2.0, 0.0, 0.0, 0.0, 0.0, 0.0, 0.0, 0.0, 0.0, 0.0, 0.0, 0.0, 0.0, 0.0, 0.0, 0.0, 0.0, 1.0, 0.0, 0.0, 0.0, 0.0, 0.0], \"x\": [0.0, 1.0, 2.0, 3.0, 4.0, 5.0, 6.0, 7.0, 8.0, 10.0, 12.0, 15.0, 16.0, 18.0, 20.0, 22.0, 25.0, 25.0, 30.0, 40.0, 50.0, 70.0, 100.0], \"type\": \"scatter\", \"mode\": \"markers\", \"marker\": {\"size\": [5, 5, 10, 10, 10, 15, 15, 10, 20, 75, 10, 55, 5, 5, 105, 5, 10, 5, 25, 5, 20, 5, 5]}}], {\"title\": \"Relation between the number of cattle and goats\", \"xaxis\": {\"title\": \"Number of goat\"}, \"yaxis\": {\"title\": \"Number of cattle\"}}, {\"linkText\": \"Export to plot.ly\", \"showLink\": true})});</script>"
      ],
      "text/vnd.plotly.v1+html": [
       "<div id=\"f55717b1-b373-48d1-b593-1581dfeb82a8\" style=\"height: 525px; width: 100%;\" class=\"plotly-graph-div\"></div><script type=\"text/javascript\">require([\"plotly\"], function(Plotly) { window.PLOTLYENV=window.PLOTLYENV || {};window.PLOTLYENV.BASE_URL=\"https://plot.ly\";Plotly.newPlot(\"f55717b1-b373-48d1-b593-1581dfeb82a8\", [{\"y\": [2.0, 0.0, 0.0, 0.0, 0.0, 0.0, 0.0, 0.0, 0.0, 0.0, 0.0, 0.0, 0.0, 0.0, 0.0, 0.0, 0.0, 1.0, 0.0, 0.0, 0.0, 0.0, 0.0], \"x\": [0.0, 1.0, 2.0, 3.0, 4.0, 5.0, 6.0, 7.0, 8.0, 10.0, 12.0, 15.0, 16.0, 18.0, 20.0, 22.0, 25.0, 25.0, 30.0, 40.0, 50.0, 70.0, 100.0], \"type\": \"scatter\", \"mode\": \"markers\", \"marker\": {\"size\": [5, 5, 10, 10, 10, 15, 15, 10, 20, 75, 10, 55, 5, 5, 105, 5, 10, 5, 25, 5, 20, 5, 5]}}], {\"title\": \"Relation between the number of cattle and goats\", \"xaxis\": {\"title\": \"Number of goat\"}, \"yaxis\": {\"title\": \"Number of cattle\"}}, {\"linkText\": \"Export to plot.ly\", \"showLink\": true})});</script>"
      ]
     },
     "metadata": {},
     "output_type": "display_data"
    }
   ],
   "source": [
    "gov_salaries = labour_set.loc[labour_set['labour_sector'] == 'government']\n",
    "agri_salaries = labour_set.loc[labour_set['labour_sector'] == 'agriculture']\n",
    "trans_salaries = labour_set.loc[labour_set['labour_sector'] == 'transportation']\n",
    "other_salaries = labour_set.loc[labour_set['labour_sector'] == 'other']\n",
    "print mean_salary\n",
    "gov_salaries_mean = gov_salaries['labour_daily_salary'].mean()\n",
    "gov_salaries_num = gov_salaries.groupby('labour_daily_salary').size()\n",
    "agri_salaries_mean = agri_salaries['labour_daily_salary'].mean()\n",
    "agri_salaries_num = agri_salaries.groupby('labour_daily_salary').size()\n",
    "trans_salaries_mean = trans_salaries['labour_daily_salary'].mean()\n",
    "trans_salaries_num = trans_salaries.groupby('labour_daily_salary').size()\n",
    "other_salaries_mean = other_salaries['labour_daily_salary'].mean()\n",
    "other_salaries_num = other_salaries.groupby('labour_daily_salary').size()\n",
    "\n",
    "salaries = {\n",
    "    \"layout\": {\n",
    "        \"title\": \"Relation between the number of cattle and sheeps\",\n",
    "        \"xaxis\": {\n",
    "            \"title\": \"Number of goat\"\n",
    "        },\n",
    "        \"yaxis\": {\n",
    "            \"title\": \"Number of cattle\"\n",
    "        }\n",
    "    },\n",
    "    \"data\": [\n",
    "        {\n",
    "\n",
    "            \"x\": prueba3.livestock_number_goat,\n",
    "            \"y\": prueba3.livestock_number_cattle,\n",
    "            \"mode\": \"markers\",\n",
    "            \"marker\": {\n",
    "                \"size\": prueba.number * 5               \n",
    "            },\n",
    "            \"type\": \"scatter\"\n",
    "        }\n",
    "    ]\n",
    "}\n",
    "iplot(goat_vs_cattle)"
   ]
  },
  {
   "cell_type": "markdown",
   "metadata": {},
   "source": [
    "### Agriculture"
   ]
  },
  {
   "cell_type": "code",
   "execution_count": 51,
   "metadata": {},
   "outputs": [
    {
     "name": "stdout",
     "output_type": "stream",
     "text": [
      "Index([u'0.0', u'1.0', u'2.0', u'3.0', u'4.0', u'5.0', u'6.0', u'8.0', u'10.0',\n",
      "       u'15.0', u'20.0', u'24.0', u'30.0', u'34.0', u'40.0', u'50.0', u'60.0',\n",
      "       u'100.0', u'150.0', u'200.0', u'360.0'],\n",
      "      dtype='object', name=u'agri_gard_use_quantity')\n"
     ]
    },
    {
     "data": {
      "text/plain": [
       "agri_gard_use_quantity\n",
       "0.0       2\n",
       "1.0       3\n",
       "2.0      10\n",
       "3.0       2\n",
       "4.0       3\n",
       "5.0       5\n",
       "6.0       2\n",
       "8.0       1\n",
       "10.0      7\n",
       "15.0      1\n",
       "20.0      3\n",
       "24.0      1\n",
       "30.0      2\n",
       "34.0      1\n",
       "40.0      1\n",
       "50.0      2\n",
       "60.0      3\n",
       "100.0     4\n",
       "150.0     1\n",
       "200.0     1\n",
       "360.0     1\n",
       "dtype: int64"
      ]
     },
     "metadata": {},
     "output_type": "display_data"
    },
    {
     "data": {
      "text/html": [
       "<div>\n",
       "<style scoped>\n",
       "    .dataframe tbody tr th:only-of-type {\n",
       "        vertical-align: middle;\n",
       "    }\n",
       "\n",
       "    .dataframe tbody tr th {\n",
       "        vertical-align: top;\n",
       "    }\n",
       "\n",
       "    .dataframe thead th {\n",
       "        text-align: right;\n",
       "    }\n",
       "</style>\n",
       "<table border=\"1\" class=\"dataframe\">\n",
       "  <thead>\n",
       "    <tr style=\"text-align: right;\">\n",
       "      <th></th>\n",
       "      <th>land</th>\n",
       "      <th>use</th>\n",
       "    </tr>\n",
       "  </thead>\n",
       "  <tbody>\n",
       "    <tr>\n",
       "      <th>0.0</th>\n",
       "      <td>7.0</td>\n",
       "      <td>2.0</td>\n",
       "    </tr>\n",
       "    <tr>\n",
       "      <th>1.0</th>\n",
       "      <td>2.0</td>\n",
       "      <td>3.0</td>\n",
       "    </tr>\n",
       "    <tr>\n",
       "      <th>2.0</th>\n",
       "      <td>9.0</td>\n",
       "      <td>10.0</td>\n",
       "    </tr>\n",
       "    <tr>\n",
       "      <th>3.0</th>\n",
       "      <td>3.0</td>\n",
       "      <td>2.0</td>\n",
       "    </tr>\n",
       "    <tr>\n",
       "      <th>4.0</th>\n",
       "      <td>3.0</td>\n",
       "      <td>3.0</td>\n",
       "    </tr>\n",
       "    <tr>\n",
       "      <th>5.0</th>\n",
       "      <td>6.0</td>\n",
       "      <td>5.0</td>\n",
       "    </tr>\n",
       "    <tr>\n",
       "      <th>6.0</th>\n",
       "      <td>2.0</td>\n",
       "      <td>2.0</td>\n",
       "    </tr>\n",
       "    <tr>\n",
       "      <th>7.0</th>\n",
       "      <td>1.0</td>\n",
       "      <td>NaN</td>\n",
       "    </tr>\n",
       "    <tr>\n",
       "      <th>8.0</th>\n",
       "      <td>NaN</td>\n",
       "      <td>1.0</td>\n",
       "    </tr>\n",
       "    <tr>\n",
       "      <th>10.0</th>\n",
       "      <td>5.0</td>\n",
       "      <td>7.0</td>\n",
       "    </tr>\n",
       "    <tr>\n",
       "      <th>15.0</th>\n",
       "      <td>2.0</td>\n",
       "      <td>1.0</td>\n",
       "    </tr>\n",
       "    <tr>\n",
       "      <th>20.0</th>\n",
       "      <td>3.0</td>\n",
       "      <td>3.0</td>\n",
       "    </tr>\n",
       "    <tr>\n",
       "      <th>24.0</th>\n",
       "      <td>NaN</td>\n",
       "      <td>1.0</td>\n",
       "    </tr>\n",
       "    <tr>\n",
       "      <th>30.0</th>\n",
       "      <td>2.0</td>\n",
       "      <td>2.0</td>\n",
       "    </tr>\n",
       "    <tr>\n",
       "      <th>34.0</th>\n",
       "      <td>1.0</td>\n",
       "      <td>1.0</td>\n",
       "    </tr>\n",
       "    <tr>\n",
       "      <th>40.0</th>\n",
       "      <td>1.0</td>\n",
       "      <td>1.0</td>\n",
       "    </tr>\n",
       "    <tr>\n",
       "      <th>50.0</th>\n",
       "      <td>1.0</td>\n",
       "      <td>2.0</td>\n",
       "    </tr>\n",
       "    <tr>\n",
       "      <th>60.0</th>\n",
       "      <td>2.0</td>\n",
       "      <td>3.0</td>\n",
       "    </tr>\n",
       "    <tr>\n",
       "      <th>100.0</th>\n",
       "      <td>2.0</td>\n",
       "      <td>4.0</td>\n",
       "    </tr>\n",
       "    <tr>\n",
       "      <th>150.0</th>\n",
       "      <td>1.0</td>\n",
       "      <td>1.0</td>\n",
       "    </tr>\n",
       "    <tr>\n",
       "      <th>200.0</th>\n",
       "      <td>1.0</td>\n",
       "      <td>1.0</td>\n",
       "    </tr>\n",
       "    <tr>\n",
       "      <th>250.0</th>\n",
       "      <td>1.0</td>\n",
       "      <td>NaN</td>\n",
       "    </tr>\n",
       "    <tr>\n",
       "      <th>300.0</th>\n",
       "      <td>1.0</td>\n",
       "      <td>NaN</td>\n",
       "    </tr>\n",
       "    <tr>\n",
       "      <th>360.0</th>\n",
       "      <td>1.0</td>\n",
       "      <td>1.0</td>\n",
       "    </tr>\n",
       "  </tbody>\n",
       "</table>\n",
       "</div>"
      ],
      "text/plain": [
       "       land   use\n",
       "0.0     7.0   2.0\n",
       "1.0     2.0   3.0\n",
       "2.0     9.0  10.0\n",
       "3.0     3.0   2.0\n",
       "4.0     3.0   3.0\n",
       "5.0     6.0   5.0\n",
       "6.0     2.0   2.0\n",
       "7.0     1.0   NaN\n",
       "8.0     NaN   1.0\n",
       "10.0    5.0   7.0\n",
       "15.0    2.0   1.0\n",
       "20.0    3.0   3.0\n",
       "24.0    NaN   1.0\n",
       "30.0    2.0   2.0\n",
       "34.0    1.0   1.0\n",
       "40.0    1.0   1.0\n",
       "50.0    1.0   2.0\n",
       "60.0    2.0   3.0\n",
       "100.0   2.0   4.0\n",
       "150.0   1.0   1.0\n",
       "200.0   1.0   1.0\n",
       "250.0   1.0   NaN\n",
       "300.0   1.0   NaN\n",
       "360.0   1.0   1.0"
      ]
     },
     "metadata": {},
     "output_type": "display_data"
    },
    {
     "data": {
      "text/plain": [
       "agri_gard_land_quantity\n",
       "0.0      7\n",
       "1.0      2\n",
       "2.0      9\n",
       "3.0      3\n",
       "4.0      3\n",
       "5.0      6\n",
       "6.0      2\n",
       "7.0      1\n",
       "10.0     5\n",
       "15.0     2\n",
       "20.0     3\n",
       "30.0     2\n",
       "34.0     1\n",
       "40.0     1\n",
       "50.0     1\n",
       "60.0     2\n",
       "100.0    2\n",
       "150.0    1\n",
       "200.0    1\n",
       "250.0    1\n",
       "300.0    1\n",
       "360.0    1\n",
       "dtype: int64"
      ]
     },
     "metadata": {},
     "output_type": "display_data"
    }
   ],
   "source": [
    "agri_set = reg_survey.loc[reg_survey['src_incomes'].str.contains(\"agriculture\")].copy()\n",
    "agri_set_female = reg_survey_female.loc[reg_survey_female['src_incomes'].str.contains(\"agriculture\")]#.copy()\n",
    "agri_set_femHoHH = reg_survey_femHoHH.loc[reg_survey_femHoHH['src_incomes'].str.contains(\"agriculture\")].copy()\n",
    "\n",
    "land_quantity = agri_set.groupby('agri_gard_land_quantity').size()\n",
    "land_quantity_female = agri_set_female.groupby('agri_gard_land_quantity').size()\n",
    "land_quantity_femHoHH = agri_set_femHoHH.groupby('agri_gard_land_quantity').size()\n",
    "use_quantity = agri_set.groupby('agri_gard_use_quantity').size()\n",
    "\n",
    "d = {'land': land_quantity, 'use': use_quantity}\n",
    "use_land = pd.DataFrame(d)\n",
    "hey = use_quantity.index.map(lambda x: str(x))\n",
    "use_quantity.index = hey\n",
    "print use_quantity.index\n",
    "display(use_quantity)\n",
    "display(use_land)\n",
    "display(land_quantity)"
   ]
  },
  {
   "cell_type": "code",
   "execution_count": 52,
   "metadata": {},
   "outputs": [
    {
     "name": "stdout",
     "output_type": "stream",
     "text": [
      "0.122807      0.0\n",
      "0.526316      5.0\n",
      "0.947368    200.0\n",
      "dtype: float64\n",
      "0.2     0.0\n",
      "0.6     5.0\n",
      "0.8    10.0\n",
      "dtype: float64\n",
      "0.000000     0.0\n",
      "0.500000     5.0\n",
      "0.833333    40.0\n",
      "dtype: float64\n",
      "agri_gard_land_quantity\n",
      "1.0     3.508772\n",
      "2.0    15.789474\n",
      "3.0     5.263158\n",
      "4.0     5.263158\n",
      "5.0    10.526316\n",
      "dtype: float64\n"
     ]
    },
    {
     "data": {
      "application/vnd.plotly.v1+json": {
       "data": [
        {
         "marker": {
          "color": "rgb(214,39,40)"
         },
         "name": "Very poor (12.3%)",
         "type": "bar",
         "x": [
          0
         ],
         "y": [
          12.280701754385966
         ]
        },
        {
         "marker": {
          "color": "rgb(255,127,14)"
         },
         "name": "Poor (40.4%)",
         "type": "bar",
         "x": [
          1,
          2,
          3,
          4,
          5
         ],
         "y": [
          3.508771929824561,
          15.789473684210526,
          5.2631578947368425,
          5.2631578947368425,
          10.526315789473685
         ]
        },
        {
         "marker": {
          "color": "rgb(44,160,44)"
         },
         "name": "Medium (42.1%)",
         "type": "bar",
         "x": [
          6,
          7,
          10,
          15,
          20,
          30,
          34,
          40,
          50,
          60,
          100,
          150,
          200
         ],
         "y": [
          3.508771929824561,
          1.7543859649122806,
          8.771929824561404,
          3.508771929824561,
          5.2631578947368425,
          3.508771929824561,
          1.7543859649122806,
          1.7543859649122806,
          1.7543859649122806,
          3.508771929824561,
          3.508771929824561,
          1.7543859649122806,
          1.7543859649122806
         ]
        }
       ],
       "layout": {
        "annotations": [],
        "title": "Number of feddans per wealth group",
        "width": 700,
        "yaxis": {
         "ticksuffix": "%"
        }
       }
      },
      "text/html": [
       "<div id=\"7302b962-d764-4ac3-9eac-92def2566898\" style=\"height: 525px; width: 700px;\" class=\"plotly-graph-div\"></div><script type=\"text/javascript\">require([\"plotly\"], function(Plotly) { window.PLOTLYENV=window.PLOTLYENV || {};window.PLOTLYENV.BASE_URL=\"https://plot.ly\";Plotly.newPlot(\"7302b962-d764-4ac3-9eac-92def2566898\", [{\"y\": [12.280701754385966], \"x\": [0.0], \"type\": \"bar\", \"name\": \"Very poor (12.3%)\", \"marker\": {\"color\": \"rgb(214,39,40)\"}}, {\"y\": [3.508771929824561, 15.789473684210526, 5.2631578947368425, 5.2631578947368425, 10.526315789473685], \"x\": [1.0, 2.0, 3.0, 4.0, 5.0], \"type\": \"bar\", \"name\": \"Poor (40.4%)\", \"marker\": {\"color\": \"rgb(255,127,14)\"}}, {\"y\": [3.508771929824561, 1.7543859649122806, 8.771929824561404, 3.508771929824561, 5.2631578947368425, 3.508771929824561, 1.7543859649122806, 1.7543859649122806, 1.7543859649122806, 3.508771929824561, 3.508771929824561, 1.7543859649122806, 1.7543859649122806], \"x\": [6.0, 7.0, 10.0, 15.0, 20.0, 30.0, 34.0, 40.0, 50.0, 60.0, 100.0, 150.0, 200.0], \"type\": \"bar\", \"name\": \"Medium (42.1%)\", \"marker\": {\"color\": \"rgb(44,160,44)\"}}], {\"width\": 700, \"title\": \"Number of feddans per wealth group\", \"annotations\": [], \"yaxis\": {\"ticksuffix\": \"%\"}}, {\"linkText\": \"Export to plot.ly\", \"showLink\": true})});</script>"
      ],
      "text/vnd.plotly.v1+html": [
       "<div id=\"7302b962-d764-4ac3-9eac-92def2566898\" style=\"height: 525px; width: 700px;\" class=\"plotly-graph-div\"></div><script type=\"text/javascript\">require([\"plotly\"], function(Plotly) { window.PLOTLYENV=window.PLOTLYENV || {};window.PLOTLYENV.BASE_URL=\"https://plot.ly\";Plotly.newPlot(\"7302b962-d764-4ac3-9eac-92def2566898\", [{\"y\": [12.280701754385966], \"x\": [0.0], \"type\": \"bar\", \"name\": \"Very poor (12.3%)\", \"marker\": {\"color\": \"rgb(214,39,40)\"}}, {\"y\": [3.508771929824561, 15.789473684210526, 5.2631578947368425, 5.2631578947368425, 10.526315789473685], \"x\": [1.0, 2.0, 3.0, 4.0, 5.0], \"type\": \"bar\", \"name\": \"Poor (40.4%)\", \"marker\": {\"color\": \"rgb(255,127,14)\"}}, {\"y\": [3.508771929824561, 1.7543859649122806, 8.771929824561404, 3.508771929824561, 5.2631578947368425, 3.508771929824561, 1.7543859649122806, 1.7543859649122806, 1.7543859649122806, 3.508771929824561, 3.508771929824561, 1.7543859649122806, 1.7543859649122806], \"x\": [6.0, 7.0, 10.0, 15.0, 20.0, 30.0, 34.0, 40.0, 50.0, 60.0, 100.0, 150.0, 200.0], \"type\": \"bar\", \"name\": \"Medium (42.1%)\", \"marker\": {\"color\": \"rgb(44,160,44)\"}}], {\"width\": 700, \"title\": \"Number of feddans per wealth group\", \"annotations\": [], \"yaxis\": {\"ticksuffix\": \"%\"}}, {\"linkText\": \"Export to plot.ly\", \"showLink\": true})});</script>"
      ]
     },
     "metadata": {},
     "output_type": "display_data"
    },
    {
     "name": "stdout",
     "output_type": "stream",
     "text": [
      "agri_gard_land_quantity\n",
      "2.0    16.666667\n",
      "5.0    33.333333\n",
      "dtype: float64\n"
     ]
    },
    {
     "data": {
      "application/vnd.plotly.v1+json": {
       "data": [
        {
         "marker": {
          "color": "rgb(214,39,40)"
         },
         "name": "Very poor (0.0%)",
         "type": "bar",
         "x": [],
         "y": []
        },
        {
         "marker": {
          "color": "rgb(255,127,14)"
         },
         "name": "Poor (50.0%)",
         "type": "bar",
         "x": [
          2,
          5
         ],
         "y": [
          16.666666666666668,
          33.333333333333336
         ]
        },
        {
         "marker": {
          "color": "rgb(44,160,44)"
         },
         "name": "Medium (33.3%)",
         "type": "bar",
         "x": [
          10,
          40
         ],
         "y": [
          16.666666666666668,
          16.666666666666668
         ]
        }
       ],
       "layout": {
        "annotations": [],
        "title": "Number of feddans per wealth group in female HoHH",
        "width": 700,
        "yaxis": {
         "ticksuffix": "%"
        }
       }
      },
      "text/html": [
       "<div id=\"238f1354-07a9-44b5-abb3-1a708057eb64\" style=\"height: 525px; width: 700px;\" class=\"plotly-graph-div\"></div><script type=\"text/javascript\">require([\"plotly\"], function(Plotly) { window.PLOTLYENV=window.PLOTLYENV || {};window.PLOTLYENV.BASE_URL=\"https://plot.ly\";Plotly.newPlot(\"238f1354-07a9-44b5-abb3-1a708057eb64\", [{\"y\": [], \"x\": [], \"type\": \"bar\", \"name\": \"Very poor (0.0%)\", \"marker\": {\"color\": \"rgb(214,39,40)\"}}, {\"y\": [16.666666666666668, 33.333333333333336], \"x\": [2.0, 5.0], \"type\": \"bar\", \"name\": \"Poor (50.0%)\", \"marker\": {\"color\": \"rgb(255,127,14)\"}}, {\"y\": [16.666666666666668, 16.666666666666668], \"x\": [10.0, 40.0], \"type\": \"bar\", \"name\": \"Medium (33.3%)\", \"marker\": {\"color\": \"rgb(44,160,44)\"}}], {\"width\": 700, \"title\": \"Number of feddans per wealth group in female HoHH\", \"annotations\": [], \"yaxis\": {\"ticksuffix\": \"%\"}}, {\"linkText\": \"Export to plot.ly\", \"showLink\": true})});</script>"
      ],
      "text/vnd.plotly.v1+html": [
       "<div id=\"238f1354-07a9-44b5-abb3-1a708057eb64\" style=\"height: 525px; width: 700px;\" class=\"plotly-graph-div\"></div><script type=\"text/javascript\">require([\"plotly\"], function(Plotly) { window.PLOTLYENV=window.PLOTLYENV || {};window.PLOTLYENV.BASE_URL=\"https://plot.ly\";Plotly.newPlot(\"238f1354-07a9-44b5-abb3-1a708057eb64\", [{\"y\": [], \"x\": [], \"type\": \"bar\", \"name\": \"Very poor (0.0%)\", \"marker\": {\"color\": \"rgb(214,39,40)\"}}, {\"y\": [16.666666666666668, 33.333333333333336], \"x\": [2.0, 5.0], \"type\": \"bar\", \"name\": \"Poor (50.0%)\", \"marker\": {\"color\": \"rgb(255,127,14)\"}}, {\"y\": [16.666666666666668, 16.666666666666668], \"x\": [10.0, 40.0], \"type\": \"bar\", \"name\": \"Medium (33.3%)\", \"marker\": {\"color\": \"rgb(44,160,44)\"}}], {\"width\": 700, \"title\": \"Number of feddans per wealth group in female HoHH\", \"annotations\": [], \"yaxis\": {\"ticksuffix\": \"%\"}}, {\"linkText\": \"Export to plot.ly\", \"showLink\": true})});</script>"
      ]
     },
     "metadata": {},
     "output_type": "display_data"
    }
   ],
   "source": [
    "values = [0,5, land_quantity.index[-4]]\n",
    "values_female = [0,5, land_quantity_female.index[-3]]\n",
    "values_femHoHH = [0,5, land_quantity_femHoHH.index[-2]]\n",
    "per2 = get_percentiles(land_quantity, values)\n",
    "percentiles = pd.Series(values, index = per2)\n",
    "\n",
    "print percentiles\n",
    "\n",
    "print pd.Series(values_female, index = get_percentiles(land_quantity_female, values_female))\n",
    "print pd.Series(values_femHoHH, index = get_percentiles(land_quantity_femHoHH, values_femHoHH))\n",
    "\n",
    "plot_wealth_criteria(land_quantity, values, \"Number of feddans per wealth group\")\n",
    "#plot_wealth_criteria(land_quantity_female, values_female, \"Number of feddans per wealth group in female respondents\")\n",
    "plot_wealth_criteria(land_quantity_femHoHH, values_femHoHH, \"Number of feddans per wealth group in female HoHH\")"
   ]
  },
  {
   "cell_type": "code",
   "execution_count": 53,
   "metadata": {},
   "outputs": [
    {
     "name": "stdout",
     "output_type": "stream",
     "text": [
      "Quantiles:\n",
      "0.335     1.0\n",
      "0.915    11.0\n",
      "1.000    21.0\n",
      "Name: livestock_number_goat, dtype: float64\n"
     ]
    }
   ],
   "source": [
    "quantiles = [.335, .915, 1]\n",
    "q = goats.quantile(quantiles)\n",
    "print \"Quantiles:\"\n",
    "print q\n",
    "goats1 = goats[goats < q[quantiles[0]]].dropna()\n",
    "goats2 = goats[goats.between(q[quantiles[0]], q[quantiles[1]])].dropna()\n",
    "goats3 = goats[goats.between(q[quantiles[1]], q[quantiles[2]])].dropna()\n",
    "#fig = ff.create_distplot([goats1.values, goats2.values, goats3.values], ['poor', 'medium', 'rich'])\n",
    "#iplot (fig)"
   ]
  },
  {
   "cell_type": "code",
   "execution_count": 54,
   "metadata": {},
   "outputs": [
    {
     "data": {
      "application/vnd.plotly.v1+json": {
       "data": [
        {
         "marker": {
          "size": [
           1,
           3,
           2,
           1,
           8,
           2,
           1,
           3,
           1,
           5,
           2,
           1,
           1,
           4
          ]
         },
         "mode": "markers",
         "type": "scatter",
         "x": [
          0,
          0,
          1,
          2,
          2,
          3,
          3,
          4,
          5,
          5,
          6,
          7,
          10,
          10
         ],
         "y": [
          0,
          10,
          1,
          1,
          2,
          2,
          3,
          4,
          0,
          5,
          6,
          3,
          8,
          10
         ]
        },
        {
         "mode": "lines",
         "x": [
          0,
          10
         ],
         "y": [
          0,
          10
         ]
        }
       ],
       "layout": {
        "title": "Relation between the quantity of land owned and used"
       }
      },
      "text/html": [
       "<div id=\"687c904e-3f22-4e04-97ee-67c421bd405a\" style=\"height: 525px; width: 100%;\" class=\"plotly-graph-div\"></div><script type=\"text/javascript\">require([\"plotly\"], function(Plotly) { window.PLOTLYENV=window.PLOTLYENV || {};window.PLOTLYENV.BASE_URL=\"https://plot.ly\";Plotly.newPlot(\"687c904e-3f22-4e04-97ee-67c421bd405a\", [{\"y\": [0.0, 10.0, 1.0, 1.0, 2.0, 2.0, 3.0, 4.0, 0.0, 5.0, 6.0, 3.0, 8.0, 10.0], \"x\": [0.0, 0.0, 1.0, 2.0, 2.0, 3.0, 3.0, 4.0, 5.0, 5.0, 6.0, 7.0, 10.0, 10.0], \"type\": \"scatter\", \"mode\": \"markers\", \"marker\": {\"size\": [1, 3, 2, 1, 8, 2, 1, 3, 1, 5, 2, 1, 1, 4]}}, {\"y\": [0, 10], \"x\": [0, 10], \"mode\": \"lines\"}], {\"title\": \"Relation between the quantity of land owned and used\"}, {\"linkText\": \"Export to plot.ly\", \"showLink\": true})});</script>"
      ],
      "text/vnd.plotly.v1+html": [
       "<div id=\"687c904e-3f22-4e04-97ee-67c421bd405a\" style=\"height: 525px; width: 100%;\" class=\"plotly-graph-div\"></div><script type=\"text/javascript\">require([\"plotly\"], function(Plotly) { window.PLOTLYENV=window.PLOTLYENV || {};window.PLOTLYENV.BASE_URL=\"https://plot.ly\";Plotly.newPlot(\"687c904e-3f22-4e04-97ee-67c421bd405a\", [{\"y\": [0.0, 10.0, 1.0, 1.0, 2.0, 2.0, 3.0, 4.0, 0.0, 5.0, 6.0, 3.0, 8.0, 10.0], \"x\": [0.0, 0.0, 1.0, 2.0, 2.0, 3.0, 3.0, 4.0, 5.0, 5.0, 6.0, 7.0, 10.0, 10.0], \"type\": \"scatter\", \"mode\": \"markers\", \"marker\": {\"size\": [1, 3, 2, 1, 8, 2, 1, 3, 1, 5, 2, 1, 1, 4]}}, {\"y\": [0, 10], \"x\": [0, 10], \"mode\": \"lines\"}], {\"title\": \"Relation between the quantity of land owned and used\"}, {\"linkText\": \"Export to plot.ly\", \"showLink\": true})});</script>"
      ]
     },
     "metadata": {},
     "output_type": "display_data"
    }
   ],
   "source": [
    "use_vs_have = pd.crosstab(agri_set.agri_gard_land_quantity, agri_set.agri_gard_use_quantity).stack().reset_index(name='feddans')\n",
    "#prueba.plot.scatter('livestock_number_goats', 'livestock_number_sheep', s=prueba.number * 10)\n",
    "use_vs_have = use_vs_have[use_vs_have.feddans != 0]\n",
    "use_vs_have = use_vs_have[use_vs_have.agri_gard_use_quantity <= 10]\n",
    "use_vs_have = use_vs_have[use_vs_have.agri_gard_land_quantity <= 10]\n",
    "#prueba = prueba[prueba.livestock_number_goat <= 100]\n",
    "#prueba = prueba[prueba.livestock_number_sheep <= 100]\n",
    "#display(prueba)\n",
    "use_vs_have = {\n",
    "    \"layout\": {\n",
    "        \"title\": \"Relation between the quantity of land owned and used\"\n",
    "    },\n",
    "    \"data\": [\n",
    "        {\n",
    "\n",
    "            \"x\": use_vs_have.agri_gard_land_quantity,\n",
    "            \"y\": use_vs_have.agri_gard_use_quantity,\n",
    "            \"mode\": \"markers\",\n",
    "            \"marker\": {\n",
    "                \"size\": use_vs_have.feddans\n",
    "            },\n",
    "            \"type\": \"scatter\"\n",
    "        },\n",
    "        {\n",
    "\n",
    "            \"x\": [0,10],\n",
    "            \"y\": [0,10],\n",
    "            \"mode\": \"lines\"\n",
    "        }\n",
    "    ]\n",
    "}\n",
    "iplot(use_vs_have)"
   ]
  },
  {
   "cell_type": "code",
   "execution_count": 55,
   "metadata": {},
   "outputs": [
    {
     "name": "stdout",
     "output_type": "stream",
     "text": [
      "2.64\n",
      "0.304147465438\n",
      "6\n",
      "agri_gard_use_quantity\n",
      "2.0      7\n",
      "3.0      1\n",
      "4.0      2\n",
      "6.0      2\n",
      "8.0      1\n",
      "10.0     1\n",
      "15.0     1\n",
      "30.0     1\n",
      "34.0     1\n",
      "40.0     1\n",
      "50.0     1\n",
      "100.0    3\n",
      "150.0    1\n",
      "200.0    1\n",
      "360.0    1\n",
      "dtype: int64\n",
      "agri_gard_use_quantity\n",
      "0.0     2\n",
      "1.0     1\n",
      "2.0     1\n",
      "10.0    5\n",
      "24.0    1\n",
      "60.0    3\n",
      "dtype: int64\n",
      "agri_gard_land_quantity\n",
      "0.0      7\n",
      "1.0      2\n",
      "2.0      9\n",
      "3.0      3\n",
      "4.0      3\n",
      "5.0      6\n",
      "6.0      2\n",
      "7.0      1\n",
      "10.0     5\n",
      "15.0     2\n",
      "20.0     3\n",
      "30.0     2\n",
      "34.0     1\n",
      "40.0     1\n",
      "50.0     1\n",
      "60.0     2\n",
      "100.0    2\n",
      "150.0    1\n",
      "200.0    1\n",
      "250.0    1\n",
      "300.0    1\n",
      "360.0    1\n",
      "dtype: int64\n",
      "cc_effects_sand_affected_farmlands\n",
      "0.0      24\n",
      "1.0      18\n",
      "2.0       2\n",
      "3.0       1\n",
      "5.0       2\n",
      "7.0       1\n",
      "10.0      3\n",
      "30.0      2\n",
      "50.0      2\n",
      "70.0      1\n",
      "160.0     1\n",
      "dtype: int64\n"
     ]
    },
    {
     "data": {
      "text/plain": [
       "agri_gard_training\n",
       "no    57\n",
       "dtype: int64"
      ]
     },
     "execution_count": 55,
     "metadata": {},
     "output_type": "execute_result"
    }
   ],
   "source": [
    "# Inconsistencies\n",
    "# print agri_set.loc[agri_set.agri_gard_water_harv_farmlands > agri_set.agri_gard_land_quantity]['agri_gard_water_harv_farmlands']\n",
    "# print agri_set.loc[agri_set.agri_gard_water_harv_farmlands > agri_set.agri_gard_land_quantity]['agri_gard_land_quantity']\n",
    "\n",
    "agri_set['perc_rainfed_farmlands'] = agri_set['agri_gard_water_harv_farmlands'] / agri_set['agri_gard_land_quantity']\n",
    "\n",
    "# Estimation to correct the inconsistencies: All feddan have water harvesting access\n",
    "feddans_med_poor = agri_set.loc[agri_set.agri_gard_use_quantity <= 5]['agri_gard_use_quantity'].sum()\n",
    "\n",
    "print feddans_med_poor / agri_set.loc[agri_set.agri_gard_use_quantity <= 5, 'deviceid'].count()\n",
    "print feddans_med_poor / total_surveys\n",
    "\n",
    "#print agri_set.groupby('perc_rainfed_farmlands').size()\n",
    "#print agri_set.groupby('agri_gard_farm_tech').size()\n",
    "#print agri_set.groupby('agri_gard_water_harv_farmlands').size()\n",
    "all_farm_rainfed = agri_set.loc[agri_set['perc_rainfed_farmlands'] == 1].groupby('agri_gard_use_quantity').size()\n",
    "agri_set['agri_gard_water_harv_farmlands'].sum()\n",
    "print agri_set.loc[agri_set.agri_gard_use_quantity > agri_set.agri_gard_land_quantity]['deviceid'].count()\n",
    "print agri_set.loc[agri_set.agri_gard_land_property == 'own'].groupby('agri_gard_use_quantity').size()\n",
    "print agri_set.loc[agri_set.agri_gard_land_property == 'rent'].groupby('agri_gard_use_quantity').size()\n",
    "print agri_set.groupby('agri_gard_land_quantity').size()\n",
    "print agri_set.groupby('cc_effects_sand_affected_farmlands').size()\n",
    "\n",
    "agri_set.groupby('agri_gard_training').size()"
   ]
  },
  {
   "cell_type": "code",
   "execution_count": 56,
   "metadata": {},
   "outputs": [
    {
     "name": "stdout",
     "output_type": "stream",
     "text": [
      "agri_gard_use_quantity\n",
      "0.0     2\n",
      "1.0     3\n",
      "2.0    10\n",
      "3.0     2\n",
      "4.0     3\n",
      "5.0     5\n",
      "dtype: int64\n",
      "0.121212121212\n",
      "perc_land_protected\n",
      "0.0    13\n",
      "0.2     3\n",
      "1.0     2\n",
      "dtype: int64\n",
      "18\n"
     ]
    }
   ],
   "source": [
    "agri_set_med_poor = agri_set.loc[agri_set.agri_gard_use_quantity <= 5].copy()\n",
    "agri_set_med_poor.loc[agri_set_med_poor['agri_gard_protected_farmlands'] > agri_set_med_poor['agri_gard_use_quantity'], 'agri_gard_protected_farmlands'] = agri_set_med_poor['agri_gard_use_quantity']\n",
    "agri_set_med_poor['perc_land_protected'] = agri_set_med_poor.agri_gard_protected_farmlands / agri_set_med_poor.agri_gard_land_quantity\n",
    "print agri_set_med_poor.groupby('agri_gard_use_quantity').size()\n",
    "print agri_set_med_poor['agri_gard_protected_farmlands'].sum() / agri_set_med_poor['agri_gard_use_quantity'].sum()\n",
    "print agri_set_med_poor.groupby('perc_land_protected').size()\n",
    "print agri_set_med_poor.groupby('perc_land_protected').size().sum()"
   ]
  },
  {
   "cell_type": "code",
   "execution_count": 57,
   "metadata": {},
   "outputs": [
    {
     "name": "stdout",
     "output_type": "stream",
     "text": [
      "sorghum    1.000000\n",
      "fodder     0.017544\n",
      "tomato     0.192982\n",
      "okra       0.245614\n",
      "millet     0.017544\n",
      "other      0.105263\n",
      "dtype: float64\n"
     ]
    },
    {
     "data": {
      "application/vnd.plotly.v1+json": {
       "data": [
        {
         "marker": {
          "color": "rgb(205,258,205)",
          "line": {
           "color": "rgb(0,192,0)",
           "width": 1.5
          }
         },
         "name": "Livelihoods Strategies",
         "type": "bar",
         "x": [
          "Sorghum",
          "Fodder",
          "Tomato",
          "Okra",
          "Millet",
          "Other"
         ],
         "y": [
          1,
          0.017543859649122806,
          0.19298245614035087,
          0.24561403508771928,
          0.017543859649122806,
          0.10526315789473684
         ]
        }
       ],
       "layout": {
        "annotations": [],
        "title": "Main crops",
        "width": 700,
        "xaxis": {
         "tickangle": -45
        }
       }
      },
      "text/html": [
       "<div id=\"92d5760c-fdec-445c-a5d2-46dc55522ae6\" style=\"height: 525px; width: 700px;\" class=\"plotly-graph-div\"></div><script type=\"text/javascript\">require([\"plotly\"], function(Plotly) { window.PLOTLYENV=window.PLOTLYENV || {};window.PLOTLYENV.BASE_URL=\"https://plot.ly\";Plotly.newPlot(\"92d5760c-fdec-445c-a5d2-46dc55522ae6\", [{\"y\": [1.0, 0.017543859649122806, 0.19298245614035087, 0.24561403508771928, 0.017543859649122806, 0.10526315789473684], \"x\": [\"Sorghum\", \"Fodder\", \"Tomato\", \"Okra\", \"Millet\", \"Other\"], \"type\": \"bar\", \"name\": \"Livelihoods Strategies\", \"marker\": {\"color\": \"rgb(205,258,205)\", \"line\": {\"color\": \"rgb(0,192,0)\", \"width\": 1.5}}}], {\"width\": 700, \"annotations\": [], \"xaxis\": {\"tickangle\": -45}, \"title\": \"Main crops\"}, {\"linkText\": \"Export to plot.ly\", \"showLink\": true})});</script>"
      ],
      "text/vnd.plotly.v1+html": [
       "<div id=\"92d5760c-fdec-445c-a5d2-46dc55522ae6\" style=\"height: 525px; width: 700px;\" class=\"plotly-graph-div\"></div><script type=\"text/javascript\">require([\"plotly\"], function(Plotly) { window.PLOTLYENV=window.PLOTLYENV || {};window.PLOTLYENV.BASE_URL=\"https://plot.ly\";Plotly.newPlot(\"92d5760c-fdec-445c-a5d2-46dc55522ae6\", [{\"y\": [1.0, 0.017543859649122806, 0.19298245614035087, 0.24561403508771928, 0.017543859649122806, 0.10526315789473684], \"x\": [\"Sorghum\", \"Fodder\", \"Tomato\", \"Okra\", \"Millet\", \"Other\"], \"type\": \"bar\", \"name\": \"Livelihoods Strategies\", \"marker\": {\"color\": \"rgb(205,258,205)\", \"line\": {\"color\": \"rgb(0,192,0)\", \"width\": 1.5}}}], {\"width\": 700, \"annotations\": [], \"xaxis\": {\"tickangle\": -45}, \"title\": \"Main crops\"}, {\"linkText\": \"Export to plot.ly\", \"showLink\": true})});</script>"
      ]
     },
     "metadata": {},
     "output_type": "display_data"
    }
   ],
   "source": [
    "#crop_types = ['sorghum', 'wheat', 'bean', 'palm', 'fodder', 'watermelon', 'potato', 'tomato', 'onion', 'cucumber', 'okra', 'other']\n",
    "\n",
    "types_agri = get_ocurrences(agri_set, 'agri_gard_agri_crops')\n",
    "types_agri = types_agri / agri_set['deviceid'].count()\n",
    "print types_agri\n",
    "\n",
    "crops = {\n",
    "    \"layout\": {\n",
    "        \"title\": \"Main crops\",\n",
    "        \"xaxis\": {\n",
    "            \"tickangle\": -45\n",
    "        },\n",
    "        \"width\": 700,\n",
    "        \"annotations\": []\n",
    "    },\n",
    "    \"data\": [\n",
    "        {\n",
    "            \"x\": map(lambda x: x.capitalize(), types_agri.index.values),\n",
    "            \"y\": types_agri.values,\n",
    "            \"type\": \"bar\",\n",
    "            \"name\": \"Livelihoods Strategies\",\n",
    "            \"marker\": {\n",
    "                \"color\": 'rgb(205,258,205)',\n",
    "                \"line\": {\n",
    "                    \"color\": 'rgb(0,192,0)',\n",
    "                    \"width\": 1.5\n",
    "                }\n",
    "            },\n",
    "        }\n",
    "    ]\n",
    "}\n",
    "\n",
    "iplot(crops)"
   ]
  },
  {
   "cell_type": "code",
   "execution_count": 58,
   "metadata": {},
   "outputs": [
    {
     "data": {
      "application/vnd.plotly.v1+json": {
       "data": [
        {
         "domain": {
          "x": [
           0,
           0.32
          ]
         },
         "labels": [
          "traditional"
         ],
         "sort": false,
         "type": "pie",
         "values": [
          6
         ]
        },
        {
         "domain": {
          "x": [
           0.34,
           0.64
          ]
         },
         "labels": [
          "mechanized",
          "traditional"
         ],
         "sort": false,
         "type": "pie",
         "values": [
          4,
          52
         ]
        },
        {
         "domain": {
          "x": [
           0.66,
           0.98
          ]
         },
         "labels": [
          "mechanized",
          "traditional"
         ],
         "sort": false,
         "type": "pie",
         "values": [
          4,
          46
         ]
        }
       ],
       "layout": {
        "annotations": [
         {
          "font": {
           "size": 14
          },
          "showarrow": false,
          "text": "Female Head of Household",
          "x": 0.04,
          "y": 1
         },
         {
          "font": {
           "size": 14
          },
          "showarrow": false,
          "text": "Global",
          "x": 0.5,
          "y": 1
         },
         {
          "font": {
           "size": 14
          },
          "showarrow": false,
          "text": "Male Head of Household",
          "x": 0.94,
          "y": 1
         }
        ],
        "title": "Farming tools by Head of Household"
       }
      },
      "text/html": [
       "<div id=\"51b72ced-0611-4353-a3a0-54f41b13bbb7\" style=\"height: 525px; width: 100%;\" class=\"plotly-graph-div\"></div><script type=\"text/javascript\">require([\"plotly\"], function(Plotly) { window.PLOTLYENV=window.PLOTLYENV || {};window.PLOTLYENV.BASE_URL=\"https://plot.ly\";Plotly.newPlot(\"51b72ced-0611-4353-a3a0-54f41b13bbb7\", [{\"sort\": false, \"values\": [6], \"domain\": {\"x\": [0, 0.32]}, \"labels\": [\"traditional\"], \"type\": \"pie\"}, {\"sort\": false, \"values\": [4, 52], \"domain\": {\"x\": [0.34, 0.64]}, \"labels\": [\"mechanized\", \"traditional\"], \"type\": \"pie\"}, {\"sort\": false, \"values\": [4, 46], \"domain\": {\"x\": [0.66, 0.98]}, \"labels\": [\"mechanized\", \"traditional\"], \"type\": \"pie\"}], {\"annotations\": [{\"y\": 1, \"text\": \"Female Head of Household\", \"font\": {\"size\": 14}, \"showarrow\": false, \"x\": 0.04}, {\"y\": 1, \"text\": \"Global\", \"font\": {\"size\": 14}, \"showarrow\": false, \"x\": 0.5}, {\"y\": 1, \"text\": \"Male Head of Household\", \"font\": {\"size\": 14}, \"showarrow\": false, \"x\": 0.94}], \"title\": \"Farming tools by Head of Household\"}, {\"linkText\": \"Export to plot.ly\", \"showLink\": true})});</script>"
      ],
      "text/vnd.plotly.v1+html": [
       "<div id=\"51b72ced-0611-4353-a3a0-54f41b13bbb7\" style=\"height: 525px; width: 100%;\" class=\"plotly-graph-div\"></div><script type=\"text/javascript\">require([\"plotly\"], function(Plotly) { window.PLOTLYENV=window.PLOTLYENV || {};window.PLOTLYENV.BASE_URL=\"https://plot.ly\";Plotly.newPlot(\"51b72ced-0611-4353-a3a0-54f41b13bbb7\", [{\"sort\": false, \"values\": [6], \"domain\": {\"x\": [0, 0.32]}, \"labels\": [\"traditional\"], \"type\": \"pie\"}, {\"sort\": false, \"values\": [4, 52], \"domain\": {\"x\": [0.34, 0.64]}, \"labels\": [\"mechanized\", \"traditional\"], \"type\": \"pie\"}, {\"sort\": false, \"values\": [4, 46], \"domain\": {\"x\": [0.66, 0.98]}, \"labels\": [\"mechanized\", \"traditional\"], \"type\": \"pie\"}], {\"annotations\": [{\"y\": 1, \"text\": \"Female Head of Household\", \"font\": {\"size\": 14}, \"showarrow\": false, \"x\": 0.04}, {\"y\": 1, \"text\": \"Global\", \"font\": {\"size\": 14}, \"showarrow\": false, \"x\": 0.5}, {\"y\": 1, \"text\": \"Male Head of Household\", \"font\": {\"size\": 14}, \"showarrow\": false, \"x\": 0.94}], \"title\": \"Farming tools by Head of Household\"}, {\"linkText\": \"Export to plot.ly\", \"showLink\": true})});</script>"
      ]
     },
     "metadata": {},
     "output_type": "display_data"
    },
    {
     "data": {
      "application/vnd.plotly.v1+json": {
       "data": [
        {
         "domain": {
          "x": [
           0,
           0.32
          ]
         },
         "labels": [
          "traditional"
         ],
         "sort": false,
         "type": "pie",
         "values": [
          10
         ]
        },
        {
         "domain": {
          "x": [
           0.34,
           0.64
          ]
         },
         "labels": [
          "mechanized",
          "traditional"
         ],
         "sort": false,
         "type": "pie",
         "values": [
          4,
          52
         ]
        },
        {
         "domain": {
          "x": [
           0.66,
           0.98
          ]
         },
         "labels": [
          "mechanized",
          "traditional"
         ],
         "sort": false,
         "type": "pie",
         "values": [
          4,
          42
         ]
        }
       ],
       "layout": {
        "annotations": [
         {
          "font": {
           "size": 14
          },
          "showarrow": false,
          "text": "Female Respondent",
          "x": 0.07,
          "y": 1
         },
         {
          "font": {
           "size": 14
          },
          "showarrow": false,
          "text": "Global",
          "x": 0.5,
          "y": 1
         },
         {
          "font": {
           "size": 14
          },
          "showarrow": false,
          "text": "Male Respondent",
          "x": 0.91,
          "y": 1
         }
        ],
        "title": "Farming tools by respondent"
       }
      },
      "text/html": [
       "<div id=\"34e260ee-2a65-43fd-9286-8abe8af78d1f\" style=\"height: 525px; width: 100%;\" class=\"plotly-graph-div\"></div><script type=\"text/javascript\">require([\"plotly\"], function(Plotly) { window.PLOTLYENV=window.PLOTLYENV || {};window.PLOTLYENV.BASE_URL=\"https://plot.ly\";Plotly.newPlot(\"34e260ee-2a65-43fd-9286-8abe8af78d1f\", [{\"sort\": false, \"values\": [10], \"domain\": {\"x\": [0, 0.32]}, \"labels\": [\"traditional\"], \"type\": \"pie\"}, {\"sort\": false, \"values\": [4, 52], \"domain\": {\"x\": [0.34, 0.64]}, \"labels\": [\"mechanized\", \"traditional\"], \"type\": \"pie\"}, {\"sort\": false, \"values\": [4, 42], \"domain\": {\"x\": [0.66, 0.98]}, \"labels\": [\"mechanized\", \"traditional\"], \"type\": \"pie\"}], {\"annotations\": [{\"y\": 1, \"text\": \"Female Respondent\", \"font\": {\"size\": 14}, \"showarrow\": false, \"x\": 0.07}, {\"y\": 1, \"text\": \"Global\", \"font\": {\"size\": 14}, \"showarrow\": false, \"x\": 0.5}, {\"y\": 1, \"text\": \"Male Respondent\", \"font\": {\"size\": 14}, \"showarrow\": false, \"x\": 0.91}], \"title\": \"Farming tools by respondent\"}, {\"linkText\": \"Export to plot.ly\", \"showLink\": true})});</script>"
      ],
      "text/vnd.plotly.v1+html": [
       "<div id=\"34e260ee-2a65-43fd-9286-8abe8af78d1f\" style=\"height: 525px; width: 100%;\" class=\"plotly-graph-div\"></div><script type=\"text/javascript\">require([\"plotly\"], function(Plotly) { window.PLOTLYENV=window.PLOTLYENV || {};window.PLOTLYENV.BASE_URL=\"https://plot.ly\";Plotly.newPlot(\"34e260ee-2a65-43fd-9286-8abe8af78d1f\", [{\"sort\": false, \"values\": [10], \"domain\": {\"x\": [0, 0.32]}, \"labels\": [\"traditional\"], \"type\": \"pie\"}, {\"sort\": false, \"values\": [4, 52], \"domain\": {\"x\": [0.34, 0.64]}, \"labels\": [\"mechanized\", \"traditional\"], \"type\": \"pie\"}, {\"sort\": false, \"values\": [4, 42], \"domain\": {\"x\": [0.66, 0.98]}, \"labels\": [\"mechanized\", \"traditional\"], \"type\": \"pie\"}], {\"annotations\": [{\"y\": 1, \"text\": \"Female Respondent\", \"font\": {\"size\": 14}, \"showarrow\": false, \"x\": 0.07}, {\"y\": 1, \"text\": \"Global\", \"font\": {\"size\": 14}, \"showarrow\": false, \"x\": 0.5}, {\"y\": 1, \"text\": \"Male Respondent\", \"font\": {\"size\": 14}, \"showarrow\": false, \"x\": 0.91}], \"title\": \"Farming tools by respondent\"}, {\"linkText\": \"Export to plot.ly\", \"showLink\": true})});</script>"
      ]
     },
     "metadata": {},
     "output_type": "display_data"
    }
   ],
   "source": [
    "farm_tools = reg_survey.groupby('agri_gard_farm_tools').size()\n",
    "farm_tech = reg_survey.groupby('agri_gard_farm_tech').size()\n",
    "seeds = reg_survey.groupby('agri_gard_seeds').size()\n",
    "\n",
    "create_graphs_HoHH(lambda x: x.groupby('agri_gard_farm_tools').size(),\n",
    "                         lambda x: x.values,\n",
    "                         lambda x: x.index.values,\n",
    "                         lambda x: x.sum(),\n",
    "                         \"Farming tools by Head of Household\")\n",
    "\n",
    "create_graphs_respondent(lambda x: x.groupby('agri_gard_farm_tools').size(),\n",
    "                         lambda x: x.values,\n",
    "                         lambda x: x.index.values,\n",
    "                         lambda x: x.sum(),\n",
    "                         \"Farming tools by respondent\")"
   ]
  },
  {
   "cell_type": "code",
   "execution_count": 59,
   "metadata": {},
   "outputs": [
    {
     "data": {
      "application/vnd.plotly.v1+json": {
       "data": [
        {
         "domain": {
          "x": [
           0,
           0.32
          ]
         },
         "labels": [
          "traditional"
         ],
         "sort": false,
         "type": "pie",
         "values": [
          6
         ]
        },
        {
         "domain": {
          "x": [
           0.34,
           0.64
          ]
         },
         "labels": [
          "smart",
          "traditional"
         ],
         "sort": false,
         "type": "pie",
         "values": [
          4,
          53
         ]
        },
        {
         "domain": {
          "x": [
           0.66,
           0.98
          ]
         },
         "labels": [
          "smart",
          "traditional"
         ],
         "sort": false,
         "type": "pie",
         "values": [
          4,
          47
         ]
        }
       ],
       "layout": {
        "annotations": [
         {
          "font": {
           "size": 14
          },
          "showarrow": false,
          "text": "Female Head of Household",
          "x": 0.04,
          "y": 1
         },
         {
          "font": {
           "size": 14
          },
          "showarrow": false,
          "text": "Global",
          "x": 0.5,
          "y": 1
         },
         {
          "font": {
           "size": 14
          },
          "showarrow": false,
          "text": "Male Head of Household",
          "x": 0.94,
          "y": 1
         }
        ],
        "title": "Farming tools by Head of Household"
       }
      },
      "text/html": [
       "<div id=\"d1983ed1-61e8-4f5f-ba69-72c0bb27a7a2\" style=\"height: 525px; width: 100%;\" class=\"plotly-graph-div\"></div><script type=\"text/javascript\">require([\"plotly\"], function(Plotly) { window.PLOTLYENV=window.PLOTLYENV || {};window.PLOTLYENV.BASE_URL=\"https://plot.ly\";Plotly.newPlot(\"d1983ed1-61e8-4f5f-ba69-72c0bb27a7a2\", [{\"sort\": false, \"values\": [6], \"domain\": {\"x\": [0, 0.32]}, \"labels\": [\"traditional\"], \"type\": \"pie\"}, {\"sort\": false, \"values\": [4, 53], \"domain\": {\"x\": [0.34, 0.64]}, \"labels\": [\"smart\", \"traditional\"], \"type\": \"pie\"}, {\"sort\": false, \"values\": [4, 47], \"domain\": {\"x\": [0.66, 0.98]}, \"labels\": [\"smart\", \"traditional\"], \"type\": \"pie\"}], {\"annotations\": [{\"y\": 1, \"text\": \"Female Head of Household\", \"font\": {\"size\": 14}, \"showarrow\": false, \"x\": 0.04}, {\"y\": 1, \"text\": \"Global\", \"font\": {\"size\": 14}, \"showarrow\": false, \"x\": 0.5}, {\"y\": 1, \"text\": \"Male Head of Household\", \"font\": {\"size\": 14}, \"showarrow\": false, \"x\": 0.94}], \"title\": \"Farming tools by Head of Household\"}, {\"linkText\": \"Export to plot.ly\", \"showLink\": true})});</script>"
      ],
      "text/vnd.plotly.v1+html": [
       "<div id=\"d1983ed1-61e8-4f5f-ba69-72c0bb27a7a2\" style=\"height: 525px; width: 100%;\" class=\"plotly-graph-div\"></div><script type=\"text/javascript\">require([\"plotly\"], function(Plotly) { window.PLOTLYENV=window.PLOTLYENV || {};window.PLOTLYENV.BASE_URL=\"https://plot.ly\";Plotly.newPlot(\"d1983ed1-61e8-4f5f-ba69-72c0bb27a7a2\", [{\"sort\": false, \"values\": [6], \"domain\": {\"x\": [0, 0.32]}, \"labels\": [\"traditional\"], \"type\": \"pie\"}, {\"sort\": false, \"values\": [4, 53], \"domain\": {\"x\": [0.34, 0.64]}, \"labels\": [\"smart\", \"traditional\"], \"type\": \"pie\"}, {\"sort\": false, \"values\": [4, 47], \"domain\": {\"x\": [0.66, 0.98]}, \"labels\": [\"smart\", \"traditional\"], \"type\": \"pie\"}], {\"annotations\": [{\"y\": 1, \"text\": \"Female Head of Household\", \"font\": {\"size\": 14}, \"showarrow\": false, \"x\": 0.04}, {\"y\": 1, \"text\": \"Global\", \"font\": {\"size\": 14}, \"showarrow\": false, \"x\": 0.5}, {\"y\": 1, \"text\": \"Male Head of Household\", \"font\": {\"size\": 14}, \"showarrow\": false, \"x\": 0.94}], \"title\": \"Farming tools by Head of Household\"}, {\"linkText\": \"Export to plot.ly\", \"showLink\": true})});</script>"
      ]
     },
     "metadata": {},
     "output_type": "display_data"
    },
    {
     "data": {
      "application/vnd.plotly.v1+json": {
       "data": [
        {
         "domain": {
          "x": [
           0,
           0.32
          ]
         },
         "labels": [
          "smart",
          "traditional"
         ],
         "sort": false,
         "type": "pie",
         "values": [
          1,
          9
         ]
        },
        {
         "domain": {
          "x": [
           0.34,
           0.64
          ]
         },
         "labels": [
          "smart",
          "traditional"
         ],
         "sort": false,
         "type": "pie",
         "values": [
          4,
          53
         ]
        },
        {
         "domain": {
          "x": [
           0.66,
           0.98
          ]
         },
         "labels": [
          "smart",
          "traditional"
         ],
         "sort": false,
         "type": "pie",
         "values": [
          3,
          44
         ]
        }
       ],
       "layout": {
        "annotations": [
         {
          "font": {
           "size": 14
          },
          "showarrow": false,
          "text": "Female Respondent",
          "x": 0.07,
          "y": 1
         },
         {
          "font": {
           "size": 14
          },
          "showarrow": false,
          "text": "Global",
          "x": 0.5,
          "y": 1
         },
         {
          "font": {
           "size": 14
          },
          "showarrow": false,
          "text": "Male Respondent",
          "x": 0.91,
          "y": 1
         }
        ],
        "title": "Farming tools by respondent"
       }
      },
      "text/html": [
       "<div id=\"1c4fc5ed-8617-4584-bec8-4b5d75e1beca\" style=\"height: 525px; width: 100%;\" class=\"plotly-graph-div\"></div><script type=\"text/javascript\">require([\"plotly\"], function(Plotly) { window.PLOTLYENV=window.PLOTLYENV || {};window.PLOTLYENV.BASE_URL=\"https://plot.ly\";Plotly.newPlot(\"1c4fc5ed-8617-4584-bec8-4b5d75e1beca\", [{\"sort\": false, \"values\": [1, 9], \"domain\": {\"x\": [0, 0.32]}, \"labels\": [\"smart\", \"traditional\"], \"type\": \"pie\"}, {\"sort\": false, \"values\": [4, 53], \"domain\": {\"x\": [0.34, 0.64]}, \"labels\": [\"smart\", \"traditional\"], \"type\": \"pie\"}, {\"sort\": false, \"values\": [3, 44], \"domain\": {\"x\": [0.66, 0.98]}, \"labels\": [\"smart\", \"traditional\"], \"type\": \"pie\"}], {\"annotations\": [{\"y\": 1, \"text\": \"Female Respondent\", \"font\": {\"size\": 14}, \"showarrow\": false, \"x\": 0.07}, {\"y\": 1, \"text\": \"Global\", \"font\": {\"size\": 14}, \"showarrow\": false, \"x\": 0.5}, {\"y\": 1, \"text\": \"Male Respondent\", \"font\": {\"size\": 14}, \"showarrow\": false, \"x\": 0.91}], \"title\": \"Farming tools by respondent\"}, {\"linkText\": \"Export to plot.ly\", \"showLink\": true})});</script>"
      ],
      "text/vnd.plotly.v1+html": [
       "<div id=\"1c4fc5ed-8617-4584-bec8-4b5d75e1beca\" style=\"height: 525px; width: 100%;\" class=\"plotly-graph-div\"></div><script type=\"text/javascript\">require([\"plotly\"], function(Plotly) { window.PLOTLYENV=window.PLOTLYENV || {};window.PLOTLYENV.BASE_URL=\"https://plot.ly\";Plotly.newPlot(\"1c4fc5ed-8617-4584-bec8-4b5d75e1beca\", [{\"sort\": false, \"values\": [1, 9], \"domain\": {\"x\": [0, 0.32]}, \"labels\": [\"smart\", \"traditional\"], \"type\": \"pie\"}, {\"sort\": false, \"values\": [4, 53], \"domain\": {\"x\": [0.34, 0.64]}, \"labels\": [\"smart\", \"traditional\"], \"type\": \"pie\"}, {\"sort\": false, \"values\": [3, 44], \"domain\": {\"x\": [0.66, 0.98]}, \"labels\": [\"smart\", \"traditional\"], \"type\": \"pie\"}], {\"annotations\": [{\"y\": 1, \"text\": \"Female Respondent\", \"font\": {\"size\": 14}, \"showarrow\": false, \"x\": 0.07}, {\"y\": 1, \"text\": \"Global\", \"font\": {\"size\": 14}, \"showarrow\": false, \"x\": 0.5}, {\"y\": 1, \"text\": \"Male Respondent\", \"font\": {\"size\": 14}, \"showarrow\": false, \"x\": 0.91}], \"title\": \"Farming tools by respondent\"}, {\"linkText\": \"Export to plot.ly\", \"showLink\": true})});</script>"
      ]
     },
     "metadata": {},
     "output_type": "display_data"
    }
   ],
   "source": [
    "create_graphs_HoHH(lambda x: x.groupby('agri_gard_farm_tech').size(),\n",
    "                         lambda x: x.values,\n",
    "                         lambda x: x.index.values,\n",
    "                         lambda x: x.sum(),\n",
    "                         \"Farming tools by Head of Household\")\n",
    "\n",
    "create_graphs_respondent(lambda x: x.groupby('agri_gard_farm_tech').size(),\n",
    "                         lambda x: x.values,\n",
    "                         lambda x: x.index.values,\n",
    "                         lambda x: x.sum(),\n",
    "                         \"Farming tools by respondent\")"
   ]
  },
  {
   "cell_type": "code",
   "execution_count": 60,
   "metadata": {},
   "outputs": [
    {
     "data": {
      "application/vnd.plotly.v1+json": {
       "data": [
        {
         "domain": {
          "x": [
           0,
           0.32
          ]
         },
         "labels": [
          "local"
         ],
         "sort": false,
         "type": "pie",
         "values": [
          6
         ]
        },
        {
         "domain": {
          "x": [
           0.34,
           0.64
          ]
         },
         "labels": [
          "improved",
          "local"
         ],
         "sort": false,
         "type": "pie",
         "values": [
          1,
          55
         ]
        },
        {
         "domain": {
          "x": [
           0.66,
           0.98
          ]
         },
         "labels": [
          "improved",
          "local"
         ],
         "sort": false,
         "type": "pie",
         "values": [
          1,
          49
         ]
        }
       ],
       "layout": {
        "annotations": [
         {
          "font": {
           "size": 14
          },
          "showarrow": false,
          "text": "Female Head of Household",
          "x": 0.04,
          "y": 1
         },
         {
          "font": {
           "size": 14
          },
          "showarrow": false,
          "text": "Global",
          "x": 0.5,
          "y": 1
         },
         {
          "font": {
           "size": 14
          },
          "showarrow": false,
          "text": "Male Head of Household",
          "x": 0.94,
          "y": 1
         }
        ],
        "title": "Farming tools by Head of Household"
       }
      },
      "text/html": [
       "<div id=\"3ffcde47-5632-4fde-8698-2bd6f7aaff96\" style=\"height: 525px; width: 100%;\" class=\"plotly-graph-div\"></div><script type=\"text/javascript\">require([\"plotly\"], function(Plotly) { window.PLOTLYENV=window.PLOTLYENV || {};window.PLOTLYENV.BASE_URL=\"https://plot.ly\";Plotly.newPlot(\"3ffcde47-5632-4fde-8698-2bd6f7aaff96\", [{\"sort\": false, \"values\": [6], \"domain\": {\"x\": [0, 0.32]}, \"labels\": [\"local\"], \"type\": \"pie\"}, {\"sort\": false, \"values\": [1, 55], \"domain\": {\"x\": [0.34, 0.64]}, \"labels\": [\"improved\", \"local\"], \"type\": \"pie\"}, {\"sort\": false, \"values\": [1, 49], \"domain\": {\"x\": [0.66, 0.98]}, \"labels\": [\"improved\", \"local\"], \"type\": \"pie\"}], {\"annotations\": [{\"y\": 1, \"text\": \"Female Head of Household\", \"font\": {\"size\": 14}, \"showarrow\": false, \"x\": 0.04}, {\"y\": 1, \"text\": \"Global\", \"font\": {\"size\": 14}, \"showarrow\": false, \"x\": 0.5}, {\"y\": 1, \"text\": \"Male Head of Household\", \"font\": {\"size\": 14}, \"showarrow\": false, \"x\": 0.94}], \"title\": \"Farming tools by Head of Household\"}, {\"linkText\": \"Export to plot.ly\", \"showLink\": true})});</script>"
      ],
      "text/vnd.plotly.v1+html": [
       "<div id=\"3ffcde47-5632-4fde-8698-2bd6f7aaff96\" style=\"height: 525px; width: 100%;\" class=\"plotly-graph-div\"></div><script type=\"text/javascript\">require([\"plotly\"], function(Plotly) { window.PLOTLYENV=window.PLOTLYENV || {};window.PLOTLYENV.BASE_URL=\"https://plot.ly\";Plotly.newPlot(\"3ffcde47-5632-4fde-8698-2bd6f7aaff96\", [{\"sort\": false, \"values\": [6], \"domain\": {\"x\": [0, 0.32]}, \"labels\": [\"local\"], \"type\": \"pie\"}, {\"sort\": false, \"values\": [1, 55], \"domain\": {\"x\": [0.34, 0.64]}, \"labels\": [\"improved\", \"local\"], \"type\": \"pie\"}, {\"sort\": false, \"values\": [1, 49], \"domain\": {\"x\": [0.66, 0.98]}, \"labels\": [\"improved\", \"local\"], \"type\": \"pie\"}], {\"annotations\": [{\"y\": 1, \"text\": \"Female Head of Household\", \"font\": {\"size\": 14}, \"showarrow\": false, \"x\": 0.04}, {\"y\": 1, \"text\": \"Global\", \"font\": {\"size\": 14}, \"showarrow\": false, \"x\": 0.5}, {\"y\": 1, \"text\": \"Male Head of Household\", \"font\": {\"size\": 14}, \"showarrow\": false, \"x\": 0.94}], \"title\": \"Farming tools by Head of Household\"}, {\"linkText\": \"Export to plot.ly\", \"showLink\": true})});</script>"
      ]
     },
     "metadata": {},
     "output_type": "display_data"
    },
    {
     "data": {
      "application/vnd.plotly.v1+json": {
       "data": [
        {
         "domain": {
          "x": [
           0,
           0.32
          ]
         },
         "labels": [
          "local"
         ],
         "sort": false,
         "type": "pie",
         "values": [
          10
         ]
        },
        {
         "domain": {
          "x": [
           0.34,
           0.64
          ]
         },
         "labels": [
          "improved",
          "local"
         ],
         "sort": false,
         "type": "pie",
         "values": [
          1,
          55
         ]
        },
        {
         "domain": {
          "x": [
           0.66,
           0.98
          ]
         },
         "labels": [
          "improved",
          "local"
         ],
         "sort": false,
         "type": "pie",
         "values": [
          1,
          45
         ]
        }
       ],
       "layout": {
        "annotations": [
         {
          "font": {
           "size": 14
          },
          "showarrow": false,
          "text": "Female Respondent",
          "x": 0.07,
          "y": 1
         },
         {
          "font": {
           "size": 14
          },
          "showarrow": false,
          "text": "Global",
          "x": 0.5,
          "y": 1
         },
         {
          "font": {
           "size": 14
          },
          "showarrow": false,
          "text": "Male Respondent",
          "x": 0.91,
          "y": 1
         }
        ],
        "title": "Farming tools by respondent"
       }
      },
      "text/html": [
       "<div id=\"a5decab6-46ec-442b-82ec-963ee8deea55\" style=\"height: 525px; width: 100%;\" class=\"plotly-graph-div\"></div><script type=\"text/javascript\">require([\"plotly\"], function(Plotly) { window.PLOTLYENV=window.PLOTLYENV || {};window.PLOTLYENV.BASE_URL=\"https://plot.ly\";Plotly.newPlot(\"a5decab6-46ec-442b-82ec-963ee8deea55\", [{\"sort\": false, \"values\": [10], \"domain\": {\"x\": [0, 0.32]}, \"labels\": [\"local\"], \"type\": \"pie\"}, {\"sort\": false, \"values\": [1, 55], \"domain\": {\"x\": [0.34, 0.64]}, \"labels\": [\"improved\", \"local\"], \"type\": \"pie\"}, {\"sort\": false, \"values\": [1, 45], \"domain\": {\"x\": [0.66, 0.98]}, \"labels\": [\"improved\", \"local\"], \"type\": \"pie\"}], {\"annotations\": [{\"y\": 1, \"text\": \"Female Respondent\", \"font\": {\"size\": 14}, \"showarrow\": false, \"x\": 0.07}, {\"y\": 1, \"text\": \"Global\", \"font\": {\"size\": 14}, \"showarrow\": false, \"x\": 0.5}, {\"y\": 1, \"text\": \"Male Respondent\", \"font\": {\"size\": 14}, \"showarrow\": false, \"x\": 0.91}], \"title\": \"Farming tools by respondent\"}, {\"linkText\": \"Export to plot.ly\", \"showLink\": true})});</script>"
      ],
      "text/vnd.plotly.v1+html": [
       "<div id=\"a5decab6-46ec-442b-82ec-963ee8deea55\" style=\"height: 525px; width: 100%;\" class=\"plotly-graph-div\"></div><script type=\"text/javascript\">require([\"plotly\"], function(Plotly) { window.PLOTLYENV=window.PLOTLYENV || {};window.PLOTLYENV.BASE_URL=\"https://plot.ly\";Plotly.newPlot(\"a5decab6-46ec-442b-82ec-963ee8deea55\", [{\"sort\": false, \"values\": [10], \"domain\": {\"x\": [0, 0.32]}, \"labels\": [\"local\"], \"type\": \"pie\"}, {\"sort\": false, \"values\": [1, 55], \"domain\": {\"x\": [0.34, 0.64]}, \"labels\": [\"improved\", \"local\"], \"type\": \"pie\"}, {\"sort\": false, \"values\": [1, 45], \"domain\": {\"x\": [0.66, 0.98]}, \"labels\": [\"improved\", \"local\"], \"type\": \"pie\"}], {\"annotations\": [{\"y\": 1, \"text\": \"Female Respondent\", \"font\": {\"size\": 14}, \"showarrow\": false, \"x\": 0.07}, {\"y\": 1, \"text\": \"Global\", \"font\": {\"size\": 14}, \"showarrow\": false, \"x\": 0.5}, {\"y\": 1, \"text\": \"Male Respondent\", \"font\": {\"size\": 14}, \"showarrow\": false, \"x\": 0.91}], \"title\": \"Farming tools by respondent\"}, {\"linkText\": \"Export to plot.ly\", \"showLink\": true})});</script>"
      ]
     },
     "metadata": {},
     "output_type": "display_data"
    }
   ],
   "source": [
    "create_graphs_HoHH(lambda x: x.groupby('agri_gard_seeds').size(),\n",
    "                         lambda x: x.values,\n",
    "                         lambda x: x.index.values,\n",
    "                         lambda x: x.sum(),\n",
    "                         \"Farming tools by Head of Household\")\n",
    "\n",
    "create_graphs_respondent(lambda x: x.groupby('agri_gard_seeds').size(),\n",
    "                         lambda x: x.values,\n",
    "                         lambda x: x.index.values,\n",
    "                         lambda x: x.sum(),\n",
    "                         \"Farming tools by respondent\")"
   ]
  },
  {
   "cell_type": "code",
   "execution_count": 61,
   "metadata": {},
   "outputs": [
    {
     "name": "stdout",
     "output_type": "stream",
     "text": [
      "sorghum    57\n",
      "fodder      1\n",
      "tomato     11\n",
      "okra       14\n",
      "millet      1\n",
      "other       6\n",
      "dtype: int64\n"
     ]
    }
   ],
   "source": [
    "crops = get_ocurrences(agri_set, 'agri_gard_agri_crops')\n",
    "print crops"
   ]
  },
  {
   "cell_type": "markdown",
   "metadata": {},
   "source": [
    "### Forestry (charcoal production)"
   ]
  },
  {
   "cell_type": "code",
   "execution_count": 62,
   "metadata": {},
   "outputs": [
    {
     "name": "stdout",
     "output_type": "stream",
     "text": [
      "forestry_forestry_type\n",
      "charcoal fuelwood    1\n",
      "dtype: int64\n",
      "charcoal    1\n",
      "fuelwood    1\n",
      "dtype: int64\n"
     ]
    },
    {
     "data": {
      "application/vnd.plotly.v1+json": {
       "data": [
        {
         "labels": [
          "charcoal fuelwood"
         ],
         "sort": false,
         "type": "pie",
         "values": [
          1
         ]
        }
       ],
       "layout": {
        "title": "Forestry Type"
       }
      },
      "text/html": [
       "<div id=\"d9eb1b89-355d-4bc7-b738-8ee0e98446f9\" style=\"height: 525px; width: 100%;\" class=\"plotly-graph-div\"></div><script type=\"text/javascript\">require([\"plotly\"], function(Plotly) { window.PLOTLYENV=window.PLOTLYENV || {};window.PLOTLYENV.BASE_URL=\"https://plot.ly\";Plotly.newPlot(\"d9eb1b89-355d-4bc7-b738-8ee0e98446f9\", [{\"sort\": false, \"values\": [1], \"labels\": [\"charcoal fuelwood\"], \"type\": \"pie\"}], {\"title\": \"Forestry Type\"}, {\"linkText\": \"Export to plot.ly\", \"showLink\": true})});</script>"
      ],
      "text/vnd.plotly.v1+html": [
       "<div id=\"d9eb1b89-355d-4bc7-b738-8ee0e98446f9\" style=\"height: 525px; width: 100%;\" class=\"plotly-graph-div\"></div><script type=\"text/javascript\">require([\"plotly\"], function(Plotly) { window.PLOTLYENV=window.PLOTLYENV || {};window.PLOTLYENV.BASE_URL=\"https://plot.ly\";Plotly.newPlot(\"d9eb1b89-355d-4bc7-b738-8ee0e98446f9\", [{\"sort\": false, \"values\": [1], \"labels\": [\"charcoal fuelwood\"], \"type\": \"pie\"}], {\"title\": \"Forestry Type\"}, {\"linkText\": \"Export to plot.ly\", \"showLink\": true})});</script>"
      ]
     },
     "metadata": {},
     "output_type": "display_data"
    },
    {
     "data": {
      "application/vnd.plotly.v1+json": {
       "data": [
        {
         "labels": [
          "men"
         ],
         "sort": false,
         "type": "pie",
         "values": [
          1
         ]
        }
       ],
       "layout": {
        "title": "Forestry participants"
       }
      },
      "text/html": [
       "<div id=\"cb6b2a4c-46a7-4ab9-b12a-ab25706b1ad6\" style=\"height: 525px; width: 100%;\" class=\"plotly-graph-div\"></div><script type=\"text/javascript\">require([\"plotly\"], function(Plotly) { window.PLOTLYENV=window.PLOTLYENV || {};window.PLOTLYENV.BASE_URL=\"https://plot.ly\";Plotly.newPlot(\"cb6b2a4c-46a7-4ab9-b12a-ab25706b1ad6\", [{\"sort\": false, \"values\": [1], \"labels\": [\"men\"], \"type\": \"pie\"}], {\"title\": \"Forestry participants\"}, {\"linkText\": \"Export to plot.ly\", \"showLink\": true})});</script>"
      ],
      "text/vnd.plotly.v1+html": [
       "<div id=\"cb6b2a4c-46a7-4ab9-b12a-ab25706b1ad6\" style=\"height: 525px; width: 100%;\" class=\"plotly-graph-div\"></div><script type=\"text/javascript\">require([\"plotly\"], function(Plotly) { window.PLOTLYENV=window.PLOTLYENV || {};window.PLOTLYENV.BASE_URL=\"https://plot.ly\";Plotly.newPlot(\"cb6b2a4c-46a7-4ab9-b12a-ab25706b1ad6\", [{\"sort\": false, \"values\": [1], \"labels\": [\"men\"], \"type\": \"pie\"}], {\"title\": \"Forestry participants\"}, {\"linkText\": \"Export to plot.ly\", \"showLink\": true})});</script>"
      ]
     },
     "metadata": {},
     "output_type": "display_data"
    },
    {
     "data": {
      "application/vnd.plotly.v1+json": {
       "data": [
        {
         "labels": [
          "none"
         ],
         "sort": false,
         "type": "pie",
         "values": [
          1
         ]
        }
       ],
       "layout": {
        "title": "Forests property"
       }
      },
      "text/html": [
       "<div id=\"6dde2b1d-3d27-48be-8d0d-09ceb593f693\" style=\"height: 525px; width: 100%;\" class=\"plotly-graph-div\"></div><script type=\"text/javascript\">require([\"plotly\"], function(Plotly) { window.PLOTLYENV=window.PLOTLYENV || {};window.PLOTLYENV.BASE_URL=\"https://plot.ly\";Plotly.newPlot(\"6dde2b1d-3d27-48be-8d0d-09ceb593f693\", [{\"sort\": false, \"values\": [1], \"labels\": [\"none\"], \"type\": \"pie\"}], {\"title\": \"Forests property\"}, {\"linkText\": \"Export to plot.ly\", \"showLink\": true})});</script>"
      ],
      "text/vnd.plotly.v1+html": [
       "<div id=\"6dde2b1d-3d27-48be-8d0d-09ceb593f693\" style=\"height: 525px; width: 100%;\" class=\"plotly-graph-div\"></div><script type=\"text/javascript\">require([\"plotly\"], function(Plotly) { window.PLOTLYENV=window.PLOTLYENV || {};window.PLOTLYENV.BASE_URL=\"https://plot.ly\";Plotly.newPlot(\"6dde2b1d-3d27-48be-8d0d-09ceb593f693\", [{\"sort\": false, \"values\": [1], \"labels\": [\"none\"], \"type\": \"pie\"}], {\"title\": \"Forests property\"}, {\"linkText\": \"Export to plot.ly\", \"showLink\": true})});</script>"
      ]
     },
     "metadata": {},
     "output_type": "display_data"
    },
    {
     "name": "stdout",
     "output_type": "stream",
     "text": [
      "forestry_participants\n",
      "men    1\n",
      "dtype: int64\n",
      "forestry_land_property\n",
      "none    1\n",
      "dtype: int64\n"
     ]
    }
   ],
   "source": [
    "forestry_set = reg_survey.loc[reg_survey['src_incomes'].str.contains(\"forestry\")]\n",
    "print forestry_set.groupby('forestry_forestry_type').size()\n",
    "print get_ocurrences(forestry_set, 'forestry_forestry_type')\n",
    "forestry_participants =  forestry_set.groupby('forestry_participants').size()\n",
    "#forestry_set.loc[forestry_set['forestry_participants'].str.contains('women')][['forestry_participants', 'respondant_gender', 'respondant_age', 'respondant_head_hh', 'male_teenager', 'male_adult', 'male_elderly', 'labour_sector']]\n",
    "forestry_land_property = forestry_set.groupby('forestry_land_property').size()\n",
    "\n",
    "create_pie_graph(forestry_set.groupby('forestry_forestry_type').size(), \"Forestry Type\")\n",
    "create_pie_graph(forestry_set.groupby('forestry_participants').size(), \"Forestry participants\")\n",
    "create_pie_graph(forestry_set.groupby('forestry_land_property').size(), \"Forests property\")\n",
    "\n",
    "print forestry_participants\n",
    "print forestry_land_property"
   ]
  },
  {
   "cell_type": "code",
   "execution_count": 63,
   "metadata": {},
   "outputs": [
    {
     "data": {
      "application/vnd.plotly.v1+json": {
       "data": [
        {
         "domain": {
          "x": [
           0.07,
           0.43
          ]
         },
         "labels": [
          "no",
          "yes"
         ],
         "sort": false,
         "type": "pie",
         "values": [
          91,
          5
         ]
        },
        {
         "domain": {
          "x": [
           0.57,
           0.93
          ]
         },
         "labels": [
          "no",
          "yes"
         ],
         "sort": false,
         "type": "pie",
         "values": [
          98,
          1
         ]
        }
       ],
       "layout": {
        "annotations": [
         {
          "font": {
           "size": 14
          },
          "showarrow": false,
          "text": "Labour",
          "x": 0.2,
          "y": 1.1
         },
         {
          "font": {
           "size": 14
          },
          "showarrow": false,
          "text": "Livestock",
          "x": 0.8,
          "y": 1.1
         }
        ],
        "title": "Population who has received training in their livelihoods strategies"
       }
      },
      "text/html": [
       "<div id=\"9ef2450b-25d0-4f2b-9bb3-9dd309ca2d06\" style=\"height: 525px; width: 100%;\" class=\"plotly-graph-div\"></div><script type=\"text/javascript\">require([\"plotly\"], function(Plotly) { window.PLOTLYENV=window.PLOTLYENV || {};window.PLOTLYENV.BASE_URL=\"https://plot.ly\";Plotly.newPlot(\"9ef2450b-25d0-4f2b-9bb3-9dd309ca2d06\", [{\"sort\": false, \"values\": [91, 5], \"domain\": {\"x\": [0.07, 0.43]}, \"labels\": [\"no\", \"yes\"], \"type\": \"pie\"}, {\"sort\": false, \"values\": [98, 1], \"domain\": {\"x\": [0.57, 0.93]}, \"labels\": [\"no\", \"yes\"], \"type\": \"pie\"}], {\"annotations\": [{\"y\": 1.1, \"text\": \"Labour\", \"font\": {\"size\": 14}, \"showarrow\": false, \"x\": 0.2}, {\"y\": 1.1, \"text\": \"Livestock\", \"font\": {\"size\": 14}, \"showarrow\": false, \"x\": 0.8}], \"title\": \"Population who has received training in their livelihoods strategies\"}, {\"linkText\": \"Export to plot.ly\", \"showLink\": true})});</script>"
      ],
      "text/vnd.plotly.v1+html": [
       "<div id=\"9ef2450b-25d0-4f2b-9bb3-9dd309ca2d06\" style=\"height: 525px; width: 100%;\" class=\"plotly-graph-div\"></div><script type=\"text/javascript\">require([\"plotly\"], function(Plotly) { window.PLOTLYENV=window.PLOTLYENV || {};window.PLOTLYENV.BASE_URL=\"https://plot.ly\";Plotly.newPlot(\"9ef2450b-25d0-4f2b-9bb3-9dd309ca2d06\", [{\"sort\": false, \"values\": [91, 5], \"domain\": {\"x\": [0.07, 0.43]}, \"labels\": [\"no\", \"yes\"], \"type\": \"pie\"}, {\"sort\": false, \"values\": [98, 1], \"domain\": {\"x\": [0.57, 0.93]}, \"labels\": [\"no\", \"yes\"], \"type\": \"pie\"}], {\"annotations\": [{\"y\": 1.1, \"text\": \"Labour\", \"font\": {\"size\": 14}, \"showarrow\": false, \"x\": 0.2}, {\"y\": 1.1, \"text\": \"Livestock\", \"font\": {\"size\": 14}, \"showarrow\": false, \"x\": 0.8}], \"title\": \"Population who has received training in their livelihoods strategies\"}, {\"linkText\": \"Export to plot.ly\", \"showLink\": true})});</script>"
      ]
     },
     "metadata": {},
     "output_type": "display_data"
    }
   ],
   "source": [
    "def create_2pie_graph(serie1, serie2, title, title1, title2):\n",
    "    fig = {\n",
    "        \"layout\": {\n",
    "            \"title\": title,\n",
    "            \"annotations\": [\n",
    "                {\n",
    "                    \"font\": {\n",
    "                        \"size\": 14\n",
    "                    },\n",
    "                    \"showarrow\": False,\n",
    "                    \"text\": title1,\n",
    "                    \"x\": .20,\n",
    "                    \"y\": 1.1\n",
    "                },\n",
    "                {\n",
    "                    \"font\": {\n",
    "                        \"size\": 14\n",
    "                    },\n",
    "                    \"showarrow\": False,\n",
    "                    #\"text\": title2 + \" (\" + str(sum_func(data_global)) + \")\",\n",
    "                    \"text\": title2,\n",
    "                    \"x\": .8,\n",
    "                    \"y\": 1.1 \n",
    "                }\n",
    "            ]\n",
    "        },\n",
    "        \"data\": [\n",
    "            {\n",
    "                \"values\": serie1.values,\n",
    "                \"labels\": serie1.index.values,\n",
    "                \"type\": \"pie\",\n",
    "                \"sort\": False,\n",
    "                \"domain\": {\n",
    "                    \"x\": [.07, .43]\n",
    "                },\n",
    "            },\n",
    "            {\n",
    "                \"values\": serie2.values,\n",
    "                \"labels\": serie2.index.values,\n",
    "                \"type\": \"pie\",\n",
    "                \"sort\": False,\n",
    "                \"domain\": {\n",
    "                    \"x\": [.57, .93]\n",
    "                },\n",
    "            }\n",
    "        ]\n",
    "    }\n",
    "\n",
    "    iplot(fig)\n",
    "    \n",
    "create_2pie_graph(labour_set.groupby('labour_training').size(), livestock_set.groupby('livestock_training').size(), \"Population who has received training in their livelihoods strategies\", \"Labour\", \"Livestock\")"
   ]
  },
  {
   "cell_type": "markdown",
   "metadata": {},
   "source": [
    "### Other"
   ]
  },
  {
   "cell_type": "code",
   "execution_count": 64,
   "metadata": {},
   "outputs": [
    {
     "data": {
      "text/plain": [
       "other_training\n",
       "no     37\n",
       "yes     2\n",
       "dtype: int64"
      ]
     },
     "execution_count": 64,
     "metadata": {},
     "output_type": "execute_result"
    }
   ],
   "source": [
    "other_set = reg_survey.loc[reg_survey['src_incomes'].str.contains(\"other\")]\n",
    "other_set.groupby('other_training').size()\n"
   ]
  },
  {
   "cell_type": "markdown",
   "metadata": {},
   "source": [
    "### Coping strategies"
   ]
  },
  {
   "cell_type": "code",
   "execution_count": 65,
   "metadata": {},
   "outputs": [
    {
     "data": {
      "application/vnd.plotly.v1+json": {
       "data": [
        {
         "marker": {
          "color": "rgb(205,205,258)",
          "line": {
           "color": "rgb(0,0,192)",
           "width": 1.5
          }
         },
         "name": "Livelihoods Strategies",
         "type": "bar",
         "x": [
          "Labour_market",
          "Other",
          "Reduce_food",
          "Sell_assets",
          "Temp_migration"
         ],
         "y": [
          24.42396313364055,
          12.903225806451612,
          5.0691244239631335,
          16.589861751152075,
          54.83870967741935
         ]
        }
       ],
       "layout": {
        "annotations": [],
        "title": "Coping Strategies",
        "width": 700,
        "xaxis": {
         "tickangle": -45
        },
        "yaxis": {
         "ticksuffix": "%"
        }
       }
      },
      "text/html": [
       "<div id=\"26cce28e-682f-4143-b620-c2b5c416fff9\" style=\"height: 525px; width: 700px;\" class=\"plotly-graph-div\"></div><script type=\"text/javascript\">require([\"plotly\"], function(Plotly) { window.PLOTLYENV=window.PLOTLYENV || {};window.PLOTLYENV.BASE_URL=\"https://plot.ly\";Plotly.newPlot(\"26cce28e-682f-4143-b620-c2b5c416fff9\", [{\"y\": [24.42396313364055, 12.903225806451612, 5.0691244239631335, 16.589861751152075, 54.83870967741935], \"x\": [\"Labour_market\", \"Other\", \"Reduce_food\", \"Sell_assets\", \"Temp_migration\"], \"type\": \"bar\", \"name\": \"Livelihoods Strategies\", \"marker\": {\"color\": \"rgb(205,205,258)\", \"line\": {\"color\": \"rgb(0,0,192)\", \"width\": 1.5}}}], {\"width\": 700, \"title\": \"Coping Strategies\", \"annotations\": [], \"xaxis\": {\"tickangle\": -45}, \"yaxis\": {\"ticksuffix\": \"%\"}}, {\"linkText\": \"Export to plot.ly\", \"showLink\": true})});</script>"
      ],
      "text/vnd.plotly.v1+html": [
       "<div id=\"26cce28e-682f-4143-b620-c2b5c416fff9\" style=\"height: 525px; width: 700px;\" class=\"plotly-graph-div\"></div><script type=\"text/javascript\">require([\"plotly\"], function(Plotly) { window.PLOTLYENV=window.PLOTLYENV || {};window.PLOTLYENV.BASE_URL=\"https://plot.ly\";Plotly.newPlot(\"26cce28e-682f-4143-b620-c2b5c416fff9\", [{\"y\": [24.42396313364055, 12.903225806451612, 5.0691244239631335, 16.589861751152075, 54.83870967741935], \"x\": [\"Labour_market\", \"Other\", \"Reduce_food\", \"Sell_assets\", \"Temp_migration\"], \"type\": \"bar\", \"name\": \"Livelihoods Strategies\", \"marker\": {\"color\": \"rgb(205,205,258)\", \"line\": {\"color\": \"rgb(0,0,192)\", \"width\": 1.5}}}], {\"width\": 700, \"title\": \"Coping Strategies\", \"annotations\": [], \"xaxis\": {\"tickangle\": -45}, \"yaxis\": {\"ticksuffix\": \"%\"}}, {\"linkText\": \"Export to plot.ly\", \"showLink\": true})});</script>"
      ]
     },
     "metadata": {},
     "output_type": "display_data"
    }
   ],
   "source": [
    "cop_strats = get_ocurrences(reg_survey, 'coping_strat')\n",
    "cop_strats = cop_strats * 100 / total_surveys\n",
    "\n",
    "fig_cop_strats = {\n",
    "    \"layout\": {\n",
    "        \"title\": \"Coping Strategies\",\n",
    "        \"xaxis\": {\n",
    "            \"tickangle\": -45\n",
    "        },\n",
    "        \"yaxis\": {\n",
    "            \"ticksuffix\": \"%\"\n",
    "        },\n",
    "        \"width\": 700,\n",
    "        \"annotations\": []\n",
    "    },\n",
    "    \"data\": [\n",
    "        {\n",
    "            \"x\": map(lambda x: x.capitalize(), cop_strats.index.values),\n",
    "            \"y\": cop_strats.values,\n",
    "            \"type\": \"bar\",\n",
    "            \"name\": \"Livelihoods Strategies\",\n",
    "            \"marker\": {\n",
    "                \"color\": 'rgb(205,205,258)',\n",
    "                \"line\": {\n",
    "                    \"color\": 'rgb(0,0,192)',\n",
    "                    \"width\": 1.5\n",
    "                }\n",
    "            },\n",
    "        }\n",
    "    ]\n",
    "}\n",
    "\n",
    "iplot(fig_cop_strats)"
   ]
  },
  {
   "cell_type": "markdown",
   "metadata": {},
   "source": [
    "## Climate change effects"
   ]
  },
  {
   "cell_type": "code",
   "execution_count": 66,
   "metadata": {},
   "outputs": [
    {
     "name": "stdout",
     "output_type": "stream",
     "text": [
      "decreased        178\n",
      "increased         35\n",
      "no_changes         2\n",
      "unpredictable      3\n",
      "unsteady           1\n",
      "dtype: int64\n"
     ]
    },
    {
     "data": {
      "application/vnd.plotly.v1+json": {
       "data": [
        {
         "labels": [
          "decreased",
          "increased",
          "no_changes",
          "unpredictable",
          "unsteady"
         ],
         "sort": false,
         "type": "pie",
         "values": [
          178,
          35,
          2,
          3,
          1
         ]
        }
       ],
       "layout": {
        "title": "Respondents asked about rain changes in last ten years"
       }
      },
      "text/html": [
       "<div id=\"a8f2418b-e67f-42b6-ba0a-9d0da01979c3\" style=\"height: 525px; width: 100%;\" class=\"plotly-graph-div\"></div><script type=\"text/javascript\">require([\"plotly\"], function(Plotly) { window.PLOTLYENV=window.PLOTLYENV || {};window.PLOTLYENV.BASE_URL=\"https://plot.ly\";Plotly.newPlot(\"a8f2418b-e67f-42b6-ba0a-9d0da01979c3\", [{\"sort\": false, \"values\": [178, 35, 2, 3, 1], \"labels\": [\"decreased\", \"increased\", \"no_changes\", \"unpredictable\", \"unsteady\"], \"type\": \"pie\"}], {\"title\": \"Respondents asked about rain changes in last ten years\"}, {\"linkText\": \"Export to plot.ly\", \"showLink\": true})});</script>"
      ],
      "text/vnd.plotly.v1+html": [
       "<div id=\"a8f2418b-e67f-42b6-ba0a-9d0da01979c3\" style=\"height: 525px; width: 100%;\" class=\"plotly-graph-div\"></div><script type=\"text/javascript\">require([\"plotly\"], function(Plotly) { window.PLOTLYENV=window.PLOTLYENV || {};window.PLOTLYENV.BASE_URL=\"https://plot.ly\";Plotly.newPlot(\"a8f2418b-e67f-42b6-ba0a-9d0da01979c3\", [{\"sort\": false, \"values\": [178, 35, 2, 3, 1], \"labels\": [\"decreased\", \"increased\", \"no_changes\", \"unpredictable\", \"unsteady\"], \"type\": \"pie\"}], {\"title\": \"Respondents asked about rain changes in last ten years\"}, {\"linkText\": \"Export to plot.ly\", \"showLink\": true})});</script>"
      ]
     },
     "metadata": {},
     "output_type": "display_data"
    }
   ],
   "source": [
    "cc_effects_on_rain = get_ocurrences(reg_survey, 'changed_rainy_season')\n",
    "\n",
    "print cc_effects_on_rain\n",
    "create_pie_graph(cc_effects_on_rain, \"Respondents asked about rain changes in last ten years\")"
   ]
  },
  {
   "cell_type": "code",
   "execution_count": 67,
   "metadata": {
    "scrolled": false
   },
   "outputs": [
    {
     "name": "stdout",
     "output_type": "stream",
     "text": [
      "less_windy        53\n",
      "more_windy       108\n",
      "no_changes         7\n",
      "unpredictable     51\n",
      "dtype: int64\n",
      "sand_movements\n",
      "less_windy                   52\n",
      "more_windy                  106\n",
      "more_windy less_windy         1\n",
      "no_changes                    7\n",
      "unpredictable                50\n",
      "unpredictable more_windy      1\n",
      "dtype: int64\n"
     ]
    },
    {
     "data": {
      "application/vnd.plotly.v1+json": {
       "data": [
        {
         "domain": {
          "x": [
           0,
           0.32
          ]
         },
         "labels": [
          "less_windy",
          "more_windy",
          "unpredictable"
         ],
         "sort": false,
         "type": "pie",
         "values": [
          17,
          64,
          8
         ]
        },
        {
         "domain": {
          "x": [
           0.34,
           0.64
          ]
         },
         "labels": [
          "less_windy",
          "more_windy",
          "more_windy less_windy",
          "no_changes",
          "unpredictable",
          "unpredictable more_windy"
         ],
         "sort": false,
         "type": "pie",
         "values": [
          52,
          106,
          1,
          7,
          50,
          1
         ]
        },
        {
         "domain": {
          "x": [
           0.66,
           0.98
          ]
         },
         "labels": [
          "less_windy",
          "more_windy",
          "more_windy less_windy",
          "no_changes",
          "unpredictable",
          "unpredictable more_windy"
         ],
         "sort": false,
         "type": "pie",
         "values": [
          35,
          42,
          1,
          7,
          42,
          1
         ]
        }
       ],
       "layout": {
        "annotations": [
         {
          "font": {
           "size": 14
          },
          "showarrow": false,
          "text": "Female Respondent",
          "x": 0.07,
          "y": 1
         },
         {
          "font": {
           "size": 14
          },
          "showarrow": false,
          "text": "Global",
          "x": 0.5,
          "y": 1
         },
         {
          "font": {
           "size": 14
          },
          "showarrow": false,
          "text": "Male Respondent",
          "x": 0.91,
          "y": 1
         }
        ],
        "title": "Respondents asked about wind changes in las 5 years"
       }
      },
      "text/html": [
       "<div id=\"d7a495f8-5751-47a5-8c48-4c7d4fd7fe55\" style=\"height: 525px; width: 100%;\" class=\"plotly-graph-div\"></div><script type=\"text/javascript\">require([\"plotly\"], function(Plotly) { window.PLOTLYENV=window.PLOTLYENV || {};window.PLOTLYENV.BASE_URL=\"https://plot.ly\";Plotly.newPlot(\"d7a495f8-5751-47a5-8c48-4c7d4fd7fe55\", [{\"sort\": false, \"values\": [17, 64, 8], \"domain\": {\"x\": [0, 0.32]}, \"labels\": [\"less_windy\", \"more_windy\", \"unpredictable\"], \"type\": \"pie\"}, {\"sort\": false, \"values\": [52, 106, 1, 7, 50, 1], \"domain\": {\"x\": [0.34, 0.64]}, \"labels\": [\"less_windy\", \"more_windy\", \"more_windy less_windy\", \"no_changes\", \"unpredictable\", \"unpredictable more_windy\"], \"type\": \"pie\"}, {\"sort\": false, \"values\": [35, 42, 1, 7, 42, 1], \"domain\": {\"x\": [0.66, 0.98]}, \"labels\": [\"less_windy\", \"more_windy\", \"more_windy less_windy\", \"no_changes\", \"unpredictable\", \"unpredictable more_windy\"], \"type\": \"pie\"}], {\"annotations\": [{\"y\": 1, \"text\": \"Female Respondent\", \"font\": {\"size\": 14}, \"showarrow\": false, \"x\": 0.07}, {\"y\": 1, \"text\": \"Global\", \"font\": {\"size\": 14}, \"showarrow\": false, \"x\": 0.5}, {\"y\": 1, \"text\": \"Male Respondent\", \"font\": {\"size\": 14}, \"showarrow\": false, \"x\": 0.91}], \"title\": \"Respondents asked about wind changes in las 5 years\"}, {\"linkText\": \"Export to plot.ly\", \"showLink\": true})});</script>"
      ],
      "text/vnd.plotly.v1+html": [
       "<div id=\"d7a495f8-5751-47a5-8c48-4c7d4fd7fe55\" style=\"height: 525px; width: 100%;\" class=\"plotly-graph-div\"></div><script type=\"text/javascript\">require([\"plotly\"], function(Plotly) { window.PLOTLYENV=window.PLOTLYENV || {};window.PLOTLYENV.BASE_URL=\"https://plot.ly\";Plotly.newPlot(\"d7a495f8-5751-47a5-8c48-4c7d4fd7fe55\", [{\"sort\": false, \"values\": [17, 64, 8], \"domain\": {\"x\": [0, 0.32]}, \"labels\": [\"less_windy\", \"more_windy\", \"unpredictable\"], \"type\": \"pie\"}, {\"sort\": false, \"values\": [52, 106, 1, 7, 50, 1], \"domain\": {\"x\": [0.34, 0.64]}, \"labels\": [\"less_windy\", \"more_windy\", \"more_windy less_windy\", \"no_changes\", \"unpredictable\", \"unpredictable more_windy\"], \"type\": \"pie\"}, {\"sort\": false, \"values\": [35, 42, 1, 7, 42, 1], \"domain\": {\"x\": [0.66, 0.98]}, \"labels\": [\"less_windy\", \"more_windy\", \"more_windy less_windy\", \"no_changes\", \"unpredictable\", \"unpredictable more_windy\"], \"type\": \"pie\"}], {\"annotations\": [{\"y\": 1, \"text\": \"Female Respondent\", \"font\": {\"size\": 14}, \"showarrow\": false, \"x\": 0.07}, {\"y\": 1, \"text\": \"Global\", \"font\": {\"size\": 14}, \"showarrow\": false, \"x\": 0.5}, {\"y\": 1, \"text\": \"Male Respondent\", \"font\": {\"size\": 14}, \"showarrow\": false, \"x\": 0.91}], \"title\": \"Respondents asked about wind changes in las 5 years\"}, {\"linkText\": \"Export to plot.ly\", \"showLink\": true})});</script>"
      ]
     },
     "metadata": {},
     "output_type": "display_data"
    },
    {
     "data": {
      "application/vnd.plotly.v1+json": {
       "data": [
        {
         "labels": [
          "less_windy",
          "more_windy",
          "no_changes",
          "unpredictable"
         ],
         "sort": false,
         "type": "pie",
         "values": [
          53,
          108,
          7,
          51
         ]
        }
       ],
       "layout": {
        "title": "Respondents asked about wind changes in last 5 years"
       }
      },
      "text/html": [
       "<div id=\"905ff287-9425-45cd-826f-57669ef99b47\" style=\"height: 525px; width: 100%;\" class=\"plotly-graph-div\"></div><script type=\"text/javascript\">require([\"plotly\"], function(Plotly) { window.PLOTLYENV=window.PLOTLYENV || {};window.PLOTLYENV.BASE_URL=\"https://plot.ly\";Plotly.newPlot(\"905ff287-9425-45cd-826f-57669ef99b47\", [{\"sort\": false, \"values\": [53, 108, 7, 51], \"labels\": [\"less_windy\", \"more_windy\", \"no_changes\", \"unpredictable\"], \"type\": \"pie\"}], {\"title\": \"Respondents asked about wind changes in last 5 years\"}, {\"linkText\": \"Export to plot.ly\", \"showLink\": true})});</script>"
      ],
      "text/vnd.plotly.v1+html": [
       "<div id=\"905ff287-9425-45cd-826f-57669ef99b47\" style=\"height: 525px; width: 100%;\" class=\"plotly-graph-div\"></div><script type=\"text/javascript\">require([\"plotly\"], function(Plotly) { window.PLOTLYENV=window.PLOTLYENV || {};window.PLOTLYENV.BASE_URL=\"https://plot.ly\";Plotly.newPlot(\"905ff287-9425-45cd-826f-57669ef99b47\", [{\"sort\": false, \"values\": [53, 108, 7, 51], \"labels\": [\"less_windy\", \"more_windy\", \"no_changes\", \"unpredictable\"], \"type\": \"pie\"}], {\"title\": \"Respondents asked about wind changes in last 5 years\"}, {\"linkText\": \"Export to plot.ly\", \"showLink\": true})});</script>"
      ]
     },
     "metadata": {},
     "output_type": "display_data"
    }
   ],
   "source": [
    "sand_mov_sums = reg_survey.groupby('sand_movements').size()\n",
    "wind_changes = get_ocurrences(reg_survey, 'sand_movements')\n",
    "\n",
    "print wind_changes\n",
    "print sand_mov_sums\n",
    "\n",
    "create_graphs_respondent(lambda x: x.groupby('sand_movements').size(),\n",
    "                         lambda x: x.values,\n",
    "                         lambda x: x.index.values,\n",
    "                         lambda x: x.sum(),\n",
    "                         \"Respondents asked about wind changes in las 5 years\")\n",
    "\n",
    "create_pie_graph(wind_changes, \"Respondents asked about wind changes in last 5 years\")"
   ]
  },
  {
   "cell_type": "code",
   "execution_count": 68,
   "metadata": {},
   "outputs": [
    {
     "name": "stdout",
     "output_type": "stream",
     "text": [
      "0.363636363636\n",
      "perc_land_affected\n",
      "0.000000    13\n",
      "0.200000     2\n",
      "0.333333     1\n",
      "0.500000     2\n",
      "1.000000     6\n",
      "dtype: int64\n",
      "24\n"
     ]
    }
   ],
   "source": [
    "agri_set_med_poor.loc[agri_set_med_poor['cc_effects_sand_affected_farmlands'] > agri_set_med_poor['agri_gard_use_quantity'], 'cc_effects_sand_affected_farmlands'] = agri_set_med_poor['agri_gard_use_quantity']\n",
    "agri_set_med_poor['perc_land_affected'] = agri_set_med_poor.cc_effects_sand_affected_farmlands / agri_set_med_poor.agri_gard_land_quantity\n",
    "print agri_set_med_poor['cc_effects_sand_affected_farmlands'].sum() / agri_set_med_poor['agri_gard_use_quantity'].sum()\n",
    "print agri_set_med_poor.groupby('perc_land_affected').size()\n",
    "print agri_set_med_poor.groupby('perc_land_affected').size().sum()"
   ]
  },
  {
   "cell_type": "code",
   "execution_count": 69,
   "metadata": {},
   "outputs": [
    {
     "name": "stdout",
     "output_type": "stream",
     "text": [
      "decreased         85\n",
      "increased        117\n",
      "unpredictable     10\n",
      "no_changes         4\n",
      "unsteady           2\n",
      "dtype: int64\n"
     ]
    }
   ],
   "source": [
    "temps_changes = get_ocurrences(reg_survey, 'temps_change')\n",
    "\n",
    "print temps_changes"
   ]
  },
  {
   "cell_type": "code",
   "execution_count": 70,
   "metadata": {},
   "outputs": [
    {
     "data": {
      "application/vnd.plotly.v1+json": {
       "data": [
        {
         "marker": {
          "color": "rgb(25,158,25,0.6)",
          "line": {
           "color": "rgb(0,70,0)",
           "width": 1.5
          }
         },
         "type": "bar",
         "x": [
          "Decreased",
          "No_changes",
          "Unsteady",
          "Unpredictable",
          "Increased"
         ],
         "y": [
          94,
          3,
          1,
          1,
          1
         ]
        }
       ],
       "layout": {
        "annotations": [
         {
          "font": {
           "color": "rgba(0, 100, 0, 1)",
           "family": "Arial",
           "size": 14
          },
          "showarrow": false,
          "text": "94.0%",
          "x": "Decreased",
          "y": 95.7
         },
         {
          "font": {
           "color": "rgba(0, 100, 0, 1)",
           "family": "Arial",
           "size": 14
          },
          "showarrow": false,
          "text": "3.0%",
          "x": "No_changes",
          "y": 4.7
         },
         {
          "font": {
           "color": "rgba(0, 100, 0, 1)",
           "family": "Arial",
           "size": 14
          },
          "showarrow": false,
          "text": "1.0%",
          "x": "Unsteady",
          "y": 2.7
         },
         {
          "font": {
           "color": "rgba(0, 100, 0, 1)",
           "family": "Arial",
           "size": 14
          },
          "showarrow": false,
          "text": "1.0%",
          "x": "Unpredictable",
          "y": 2.7
         },
         {
          "font": {
           "color": "rgba(0, 100, 0, 1)",
           "family": "Arial",
           "size": 14
          },
          "showarrow": false,
          "text": "1.0%",
          "x": "Increased",
          "y": 2.7
         }
        ],
        "title": "Trend of the availability of grassland in the last 5 years",
        "width": 700,
        "xaxis": {
         "tickangle": -45
        }
       }
      },
      "text/html": [
       "<div id=\"d49aa5fc-1252-494d-b006-2afd7f79e494\" style=\"height: 525px; width: 700px;\" class=\"plotly-graph-div\"></div><script type=\"text/javascript\">require([\"plotly\"], function(Plotly) { window.PLOTLYENV=window.PLOTLYENV || {};window.PLOTLYENV.BASE_URL=\"https://plot.ly\";Plotly.newPlot(\"d49aa5fc-1252-494d-b006-2afd7f79e494\", [{\"y\": [94.0, 3.0, 1.0, 1.0, 1.0], \"x\": [\"Decreased\", \"No_changes\", \"Unsteady\", \"Unpredictable\", \"Increased\"], \"type\": \"bar\", \"marker\": {\"color\": \"rgb(25,158,25,0.6)\", \"line\": {\"color\": \"rgb(0,70,0)\", \"width\": 1.5}}}], {\"width\": 700, \"annotations\": [{\"y\": 95.7, \"x\": \"Decreased\", \"font\": {\"color\": \"rgba(0, 100, 0, 1)\", \"family\": \"Arial\", \"size\": 14}, \"text\": \"94.0%\", \"showarrow\": false}, {\"y\": 4.7, \"x\": \"No_changes\", \"font\": {\"color\": \"rgba(0, 100, 0, 1)\", \"family\": \"Arial\", \"size\": 14}, \"text\": \"3.0%\", \"showarrow\": false}, {\"y\": 2.7, \"x\": \"Unsteady\", \"font\": {\"color\": \"rgba(0, 100, 0, 1)\", \"family\": \"Arial\", \"size\": 14}, \"text\": \"1.0%\", \"showarrow\": false}, {\"y\": 2.7, \"x\": \"Unpredictable\", \"font\": {\"color\": \"rgba(0, 100, 0, 1)\", \"family\": \"Arial\", \"size\": 14}, \"text\": \"1.0%\", \"showarrow\": false}, {\"y\": 2.7, \"x\": \"Increased\", \"font\": {\"color\": \"rgba(0, 100, 0, 1)\", \"family\": \"Arial\", \"size\": 14}, \"text\": \"1.0%\", \"showarrow\": false}], \"xaxis\": {\"tickangle\": -45}, \"title\": \"Trend of the availability of grassland in the last 5 years\"}, {\"linkText\": \"Export to plot.ly\", \"showLink\": true})});</script>"
      ],
      "text/vnd.plotly.v1+html": [
       "<div id=\"d49aa5fc-1252-494d-b006-2afd7f79e494\" style=\"height: 525px; width: 700px;\" class=\"plotly-graph-div\"></div><script type=\"text/javascript\">require([\"plotly\"], function(Plotly) { window.PLOTLYENV=window.PLOTLYENV || {};window.PLOTLYENV.BASE_URL=\"https://plot.ly\";Plotly.newPlot(\"d49aa5fc-1252-494d-b006-2afd7f79e494\", [{\"y\": [94.0, 3.0, 1.0, 1.0, 1.0], \"x\": [\"Decreased\", \"No_changes\", \"Unsteady\", \"Unpredictable\", \"Increased\"], \"type\": \"bar\", \"marker\": {\"color\": \"rgb(25,158,25,0.6)\", \"line\": {\"color\": \"rgb(0,70,0)\", \"width\": 1.5}}}], {\"width\": 700, \"annotations\": [{\"y\": 95.7, \"x\": \"Decreased\", \"font\": {\"color\": \"rgba(0, 100, 0, 1)\", \"family\": \"Arial\", \"size\": 14}, \"text\": \"94.0%\", \"showarrow\": false}, {\"y\": 4.7, \"x\": \"No_changes\", \"font\": {\"color\": \"rgba(0, 100, 0, 1)\", \"family\": \"Arial\", \"size\": 14}, \"text\": \"3.0%\", \"showarrow\": false}, {\"y\": 2.7, \"x\": \"Unsteady\", \"font\": {\"color\": \"rgba(0, 100, 0, 1)\", \"family\": \"Arial\", \"size\": 14}, \"text\": \"1.0%\", \"showarrow\": false}, {\"y\": 2.7, \"x\": \"Unpredictable\", \"font\": {\"color\": \"rgba(0, 100, 0, 1)\", \"family\": \"Arial\", \"size\": 14}, \"text\": \"1.0%\", \"showarrow\": false}, {\"y\": 2.7, \"x\": \"Increased\", \"font\": {\"color\": \"rgba(0, 100, 0, 1)\", \"family\": \"Arial\", \"size\": 14}, \"text\": \"1.0%\", \"showarrow\": false}], \"xaxis\": {\"tickangle\": -45}, \"title\": \"Trend of the availability of grassland in the last 5 years\"}, {\"linkText\": \"Export to plot.ly\", \"showLink\": true})});</script>"
      ]
     },
     "metadata": {},
     "output_type": "display_data"
    }
   ],
   "source": [
    "effects_on_lvstck = get_ocurrences(reg_survey, 'cc_effects_grassland_availability').sort_values(ascending = False)\n",
    "lvstck_perc = 100*effects_on_lvstck/livestock_set['deviceid'].size\n",
    "lvstck_perc = lvstck_perc.round(2)\n",
    "fig_effects_on_lvstck = {\n",
    "    \"layout\": {\n",
    "        \"title\": \"Trend of the availability of grassland in the last 5 years\",\n",
    "        \"xaxis\": {\n",
    "            \"tickangle\": -45\n",
    "        },\n",
    "        \"width\": 700,\n",
    "        \"annotations\": []\n",
    "    },\n",
    "    \"data\": [\n",
    "        {\n",
    "            \"x\": map(lambda x: x.capitalize(), lvstck_perc.index.values),\n",
    "            \"y\": lvstck_perc.values,\n",
    "            \"type\": \"bar\",\n",
    "            \"marker\": {\n",
    "                \"color\": 'rgb(25,158,25,0.6)',\n",
    "                \"line\": {\n",
    "                    \"color\": 'rgb(0,70,0)',\n",
    "                    \"width\": 1.5\n",
    "                }\n",
    "            },\n",
    "        }\n",
    "    ]\n",
    "}\n",
    "\n",
    "\n",
    "for i in range(0, len(effects_on_lvstck)):\n",
    "    fig_effects_on_lvstck[\"layout\"][\"annotations\"].append(\n",
    "        {\n",
    "            \"x\": map(lambda x: x.capitalize(), lvstck_perc.index.values)[i],\n",
    "            \"y\": lvstck_perc.values[i] + 1.7,\n",
    "            \"text\": str(lvstck_perc.values[i]) + \"%\",\n",
    "            \"font\": dict(\n",
    "                family='Arial',\n",
    "                size=14,\n",
    "                color='rgba(0, 100, 0, 1)'\n",
    "            ),\n",
    "            \"showarrow\": False,\n",
    "\n",
    "        }\n",
    "    )\n",
    "\n",
    "iplot(fig_effects_on_lvstck)\n"
   ]
  }
 ],
 "metadata": {
  "kernelspec": {
   "display_name": "Python 2",
   "language": "python",
   "name": "python2"
  },
  "language_info": {
   "codemirror_mode": {
    "name": "ipython",
    "version": 2
   },
   "file_extension": ".py",
   "mimetype": "text/x-python",
   "name": "python",
   "nbconvert_exporter": "python",
   "pygments_lexer": "ipython2",
   "version": "2.7.12"
  }
 },
 "nbformat": 4,
 "nbformat_minor": 2
}
