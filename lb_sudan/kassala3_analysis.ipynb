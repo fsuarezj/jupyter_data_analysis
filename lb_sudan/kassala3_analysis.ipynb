{
 "cells": [
  {
   "cell_type": "code",
   "execution_count": 72,
   "metadata": {},
   "outputs": [
    {
     "data": {
      "text/html": [
       "<script>requirejs.config({paths: { 'plotly': ['https://cdn.plot.ly/plotly-latest.min']},});if(!window.Plotly) {{require(['plotly'],function(plotly) {window.Plotly=plotly;});}}</script>"
      ],
      "text/vnd.plotly.v1+html": [
       "<script>requirejs.config({paths: { 'plotly': ['https://cdn.plot.ly/plotly-latest.min']},});if(!window.Plotly) {{require(['plotly'],function(plotly) {window.Plotly=plotly;});}}</script>"
      ]
     },
     "metadata": {},
     "output_type": "display_data"
    }
   ],
   "source": [
    "import pandas as pd\n",
    "import numpy as np\n",
    "import math\n",
    "\n",
    "from plotly.offline import download_plotlyjs, init_notebook_mode, plot, iplot\n",
    "import plotly.graph_objs as go\n",
    "import plotly.figure_factory as ff\n",
    "\n",
    "from IPython.display import display, HTML\n",
    "\n",
    "init_notebook_mode(connected=True)\n",
    "\n",
    "survey_v1 = pd.read_excel(\"Kassala_baseline_survey_for_CC_project_in_Sudan_final_results.xlsx\", encoding = 'utf_8')\n",
    "survey_v2 = pd.read_excel(\"Kassala_baseline_survey_for_CC_project_in_Sudan_final_results_v2.xlsx\", encoding = 'utf_8')\n",
    "reg_survey_complete = pd.concat([survey_v1, survey_v2])"
   ]
  },
  {
   "cell_type": "markdown",
   "metadata": {},
   "source": [
    "# <center>Baseline survey results for the locality of Telkouk </center>\n",
    "### <center>*Climate Change and Livelihoods situation of 15 villages located in Telkouk Locality, Kassala State*</center>"
   ]
  },
  {
   "cell_type": "code",
   "execution_count": 73,
   "metadata": {},
   "outputs": [
    {
     "data": {
      "text/html": [
       "<script>\n",
       "code_show=true; \n",
       "function code_toggle() {\n",
       " if (code_show){\n",
       " $('div.input').hide();\n",
       " } else {\n",
       " $('div.input').show();\n",
       " }\n",
       " code_show = !code_show\n",
       "} \n",
       "$( document ).ready(code_toggle);\n",
       "$( document ).ready(code_toggle);\n",
       "</script>\n",
       "The raw code for this IPython notebook is by default hidden for easier reading.\n",
       "To toggle on/off the raw code, click <a href=\"javascript:code_toggle()\">here</a>."
      ],
      "text/plain": [
       "<IPython.core.display.HTML object>"
      ]
     },
     "execution_count": 73,
     "metadata": {},
     "output_type": "execute_result"
    }
   ],
   "source": [
    "HTML('''<script>\n",
    "code_show=true; \n",
    "function code_toggle() {\n",
    " if (code_show){\n",
    " $('div.input').hide();\n",
    " } else {\n",
    " $('div.input').show();\n",
    " }\n",
    " code_show = !code_show\n",
    "} \n",
    "$( document ).ready(code_toggle);\n",
    "$( document ).ready(code_toggle);\n",
    "</script>\n",
    "The raw code for this IPython notebook is by default hidden for easier reading.\n",
    "To toggle on/off the raw code, click <a href=\"javascript:code_toggle()\">here</a>.''')\n",
    "\n",
    "#bc_wages.head()\n",
    "#reg_csv.info()\n",
    "#bc_wages.describe()"
   ]
  },
  {
   "cell_type": "code",
   "execution_count": 74,
   "metadata": {},
   "outputs": [],
   "source": [
    "# Functions\n",
    "\n",
    "# Get ocurrences of each value for a multiple_select field\n",
    "def get_ocurrences(df, column_name):\n",
    "    values_sums = df.groupby(column_name).size()\n",
    "    values_names = reduce(lambda x, y: x + y,map(lambda x: x.split(), values_sums.index.values))\n",
    "    result = pd.Series()\n",
    "    for i in values_names:\n",
    "        result[i] = values_sums.loc[[i in idx for idx in values_sums.index]].sum()\n",
    "    return result\n",
    "\n",
    "def get_percentiles_values(sorted_serie, percentiles):\n",
    "    if len(percentiles) == 0:\n",
    "        return []\n",
    "    else:\n",
    "        quantity = sorted_serie.sum() * percentiles[0]\n",
    "        for i in sorted_serie.index:\n",
    "            if sorted_serie[i] >= quantity:\n",
    "                return [i] + get_percentiles_values(sorted_serie, percentiles[1:])\n",
    "            else:\n",
    "                quantity -= sorted_serie[i]\n",
    "\n",
    "def get_percentiles(sorted_serie, values):\n",
    "    if len(values) == 0:\n",
    "        return []\n",
    "    else:\n",
    "        result = 0\n",
    "        for i in sorted_serie.index:\n",
    "            if values[0] == i:\n",
    "                return [float(result + sorted_serie[i]) / sorted_serie.sum()] + get_percentiles(sorted_serie, values[1:])\n",
    "            elif values[0] < i:\n",
    "                return [float(result) / sorted_serie.sum()] + get_percentiles(sorted_serie, values[1:])\n",
    "            else:\n",
    "                result += sorted_serie[i]\n",
    "        return [1]"
   ]
  },
  {
   "cell_type": "code",
   "execution_count": 75,
   "metadata": {},
   "outputs": [],
   "source": [
    "## File preprocessing\n",
    "#Deleting 'demography:', 'house_assets:', 'incomes:', 'climate_change:' and those prefix which not provide useful info.\n",
    "\n",
    "col_names = reg_survey_complete.columns\n",
    "col_names = col_names.map(lambda x: x[11:] if x.startswith(\"demography:\") else x)\n",
    "col_names = col_names.map(lambda x: x[19:] if x.startswith(\"responding_section:\") else x)\n",
    "col_names = col_names.map(lambda x: x[20:] if x.startswith(\"responding_section2:\") else x)\n",
    "col_names = col_names.map(lambda x: x[13:] if x.startswith(\"house_assets:\") else x)\n",
    "col_names = col_names.map(lambda x: x[8:] if x.startswith(\"incomes:\") else x)\n",
    "col_names = col_names.map(lambda x: x[15:] if x.startswith(\"climate_change:\") else x)\n",
    "col_names = col_names.map(lambda x: x[11:] if x.startswith(\"intro_data:\") else x)\n",
    "col_names = col_names.map(lambda x: x[:11] + x[16:] if x.startswith(\"respondant_page:\") else x)\n",
    "col_names = col_names.map(lambda x: x[16:] if x.startswith(\"general_hh_data:\") else x)\n",
    "col_names = col_names.map(lambda x: x[6:] if x.startswith(\"males:\") else x)\n",
    "col_names = col_names.map(lambda x: x[8:] if x.startswith(\"females:\") else x)\n",
    "col_names = col_names.map(lambda x: x[11:] if x.startswith(\"importance:\") else x)\n",
    "col_names = col_names.map(lambda x: x[19:] if x.startswith(\"percentage_incomes:\") else x)\n",
    "col_names = col_names.map(lambda x: x[:10] + x[16:] if x.startswith(\"agri_gard:agri\") else x)\n",
    "col_names = col_names.map(lambda x: x[:10] + x[20:] if x.startswith(\"livestock:livestock_\") else x)\n",
    "col_names = col_names.map(lambda x: x[:10] + x[21:] if x.startswith(\"livestock:livestock\") else x)\n",
    "col_names = col_names.map(lambda x: x[:8] + x[17:] if x.startswith(\"fishing:fishing\") else x)\n",
    "col_names = col_names.map(lambda x: x[:7] + x[15:] if x.startswith(\"labour:labour\") else x)\n",
    "col_names = col_names.map(lambda x: x[:7] + x[14:] if x.startswith(\"labour:labour\") else x)\n",
    "col_names = col_names.map(lambda x: x[:12] + x[25:] if x.startswith(\"handicrafts:handicrafts\") else x)\n",
    "col_names = col_names.map(lambda x: x[:9] + x[19:] if x.startswith(\"forestry:forestry\") else x)\n",
    "col_names = col_names.map(lambda x: x[:6] + x[13:] if x.startswith(\"other:other\") else x)\n",
    "col_names = col_names.map(lambda x: x[7:] if x.startswith(\"coping:\") else x)\n",
    "col_names = col_names.map(lambda x: x[4:] if x.startswith((\"cc1:\", \"cc2:\", \"cc3:\", \"ews:\")) else x)\n",
    "col_names = col_names.map(lambda x: x[10:] if x.startswith(\"renewable:\") else x)\n",
    "col_names = col_names.map(lambda x: x[12:] if x.startswith(\"agriculture_cc_effects:\") else x)\n",
    "col_names = col_names.map(lambda x: x[10:] if x.startswith(\"livestock_cc_effects:\") else x)"
   ]
  },
  {
   "cell_type": "code",
   "execution_count": 76,
   "metadata": {},
   "outputs": [
    {
     "name": "stdout",
     "output_type": "stream",
     "text": [
      "[u'deviceid' u'today' u'surveyor_name' u'number' u'village'\n",
      " u'geocoordinates_Latitude' u'geocoordinates_Longitude'\n",
      " u'geocoordinates_Altitude' u'geocoordinates_Accuracy' u'responding'\n",
      " u'respondant_gender' u'respondant_age' u'respondant_marital_status'\n",
      " u'respondant_head_hh' u'education' u'handicapped_member' u'number_wifes'\n",
      " u'number_wifes_aux' u'male_infant' u'male_child' u'male_child_school'\n",
      " u'male_teenager' u'male_teenager_school' u'male_adult' u'male_elderly'\n",
      " u'female_infant' u'female_child' u'female_child_school' u'female_teenager'\n",
      " u'female_teenager_school' u'female_adult' u'female_elderly'\n",
      " u'family_males' u'family_females' u'family_total' u'family_confirm'\n",
      " u'house_material' u'belongings' u'num_beds' u'kitchen_type' u'src_incomes'\n",
      " u'imp_agri' u'imp_garden' u'imp_livestock' u'imp_fishing' u'imp_labour'\n",
      " u'imp_forestry' u'imp_handcrafts' u'imp_other' u'perc_incomes_agri'\n",
      " u'perc_incomes_garden' u'perc_incomes_livestock' u'perc_incomes_fishing'\n",
      " u'perc_incomes_labour' u'perc_incomes_forestry' u'perc_incomes_handcrafts'\n",
      " u'perc_incomes_other' u'agri_gard_ackno_agri' u'agri_gard_land_property'\n",
      " u'agri_gard_land_unit' u'agri_gard_land_quantity'\n",
      " u'agri_gard_use_quantity' u'agri_gard_protected_farmlands'\n",
      " u'agri_gard_water_harv_farmlands' u'agri_gard_members_involved'\n",
      " u'agri_gard_participants' u'agri_gard_training'\n",
      " u'agri_gard_activity_support' u'agri_gard_farm_tools'\n",
      " u'agri_gard_farm_tech' u'agri_gard_seeds' u'agri_gard_seller_member'\n",
      " u'agri_gard_agri_crops' u'livestock_ackno_livestock'\n",
      " u'livestock_members_involved' u'livestock_participants'\n",
      " u'livestock_training' u'livestock_activity_support' u'livestock_type'\n",
      " u'livestock_number_cattle' u'livestock_reduced_cattle'\n",
      " u'livestock_lost_cattle' u'livestock_number_goat'\n",
      " u'livestock_reduced_goat' 'livestock_lost_goat' u'livestock_number_sheep'\n",
      " u'livestock_reduced_sheep' u'livestock_lost_sheep'\n",
      " u'livestock_number_camel' u'livestock_reduced_camel'\n",
      " u'livestock_lost_camel' u'livestock_number_chicken'\n",
      " u'livestock_reduced_chicken' u'livestock_lost_chicken'\n",
      " u'livestock_selling' u'livestock_social' u'livestock_milk'\n",
      " u'livestock_meat' u'livestock_savings' u'livestock_seller_member'\n",
      " u'livestock_fodder_fed' u'fishing_ackno_fishing'\n",
      " u'fishing_members_involved' u'fishing_participants' u'fishing_training'\n",
      " u'fishing_activity_support' u'fishing_seller_member'\n",
      " u'fishing_boats_property' u'labour_ackno_labour' u'labour_participants'\n",
      " u'labour_training' u'labour_employment_type' u'labour_sector'\n",
      " u'labour_work_term' u'labour_working_months' u'labour_daily_salary'\n",
      " u'labour_worker_member' u'labour_insurances'\n",
      " u'handicrafts_ackno_handicrafts' u'handicrafts_participants'\n",
      " u'handicrafts_training' u'handicrafts_activity_support'\n",
      " u'handicrafts_kind_handi' u'handicrafts_produced_handi'\n",
      " u'handicrafts_market_type' u'handicrafts_profit_handi'\n",
      " u'handicrafts_working_months' u'forestry_ackno_forestry'\n",
      " u'forestry_participants' u'forestry_training' u'forestry_activity_support'\n",
      " u'forestry_land_property' u'forestry_land_quantity'\n",
      " u'forestry_forestry_type' u'forestry_seller_member' u'other_ackno_other'\n",
      " u'other_participants' u'other_training' u'other_training_type'\n",
      " u'other_seller_member' u'coping_strat' u'other_cop_strat' u'cc_knowledge'\n",
      " u'cc_impacts' u'affected_by_cc' u'taking_action_cc' u'taken_actions_cc'\n",
      " u'no_action_cc' u'changed_rainy_season' u'normal_rainy_season'\n",
      " u'last_year_rainy_season' u'temps_change' u'sand_movements'\n",
      " u'water_availability' u'ews_knowledge' u'ews_type' u'useful_ews'\n",
      " u'use_ews' u'renewable_knowledge' u'solar_energy'\n",
      " u'cc_effects_changed_production' u'cc_effects_adaptation_techniques'\n",
      " u'cc_effects_explain_new_techs' u'cc_effects_sand_affected_farmlands'\n",
      " u'cc_effects_grassland_availability' u'cc_effects_fodder_availability'\n",
      " u'cc_effects_fodder_prices' u'cc_effects_water_availability' u'end'\n",
      " u'meta_instanceID']\n"
     ]
    }
   ],
   "source": [
    "# Replace ':' with '_' for compatibility reasons.\n",
    "col_names = col_names.map(lambda x: x[:14] + '_' + x[15:] if x.startswith(\"geocoordinates:\") else x)\n",
    "col_names = col_names.map(lambda x: x[:9] + '_' + x[10:] if x.startswith(\"agri_gard:\") else x)\n",
    "col_names = col_names.map(lambda x: x[:9] + '_' + x[10:] if x.startswith(\"livestock:\") else x)\n",
    "col_names = col_names.map(lambda x: x[:7] + '_' + x[8:] if x.startswith(\"fishing:\") else x)\n",
    "col_names = col_names.map(lambda x: x[:6] + '_' + x[7:] if x.startswith(\"labour:\") else x)\n",
    "col_names = col_names.map(lambda x: x[:11] + '_' + x[12:] if x.startswith(\"handicrafts:\") else x)\n",
    "col_names = col_names.map(lambda x: x[:8] + '_' + x[9:] if x.startswith(\"forestry:\") else x)\n",
    "col_names = col_names.map(lambda x: x[:5] + '_' + x[6:] if x.startswith(\"other:\") else x)\n",
    "col_names = col_names.map(lambda x: x[:10] + '_' + x[11:] if x.startswith(\"cc_effects:\") else x)\n",
    "col_names = col_names.map(lambda x: x[:4] + '_' + x[5:] if x.startswith(\"meta:\") else x)\n",
    "\n",
    "col_names = col_names.map(lambda x: 'livestock_lost_goat' if x == 'livestock_lost_goats' else x)\n",
    "\n",
    "print col_names.values\n",
    "\n",
    "reg_survey_complete.columns = col_names"
   ]
  },
  {
   "cell_type": "code",
   "execution_count": 77,
   "metadata": {},
   "outputs": [],
   "source": [
    "# Processing NaN and void values\n",
    "\n",
    "values = {\n",
    "    'respondant_marital_status': 'no_answer',\n",
    "    'house_material': 'no_answer',\n",
    "    'kitchen_type': 'no_answer',\n",
    "    'src_incomes': 'none',\n",
    "    'use_ews': 'no_answer',\n",
    "    'renewable_knowledge': 'no_answer',\n",
    "    'solar_energy': 'no_answer',\n",
    "    'livestock_selling': 'no_answer',\n",
    "    'livestock_social': 'no_answer',\n",
    "    'livestock_milk': 'no_answer',\n",
    "    'livestock_meat': 'no_answer',\n",
    "    'livestock_savings': 'no_answer',\n",
    "    'livestock_number_goat': 0,\n",
    "    'livestock_number_sheep': 0,\n",
    "    'livestock_number_camel': 0,\n",
    "    'livestock_number_cattle': 0,\n",
    "    'livestock_number_chicken': 0,\n",
    "    'labour_participants': 'no_answer',\n",
    "    'labour_sector': '',\n",
    "    'agri_gard_water_harv_farmlands': 0,\n",
    "    'agri_gard_land_quantity': 0,\n",
    "    'cc_effects_sand_affected_farmlands': 0\n",
    "}\n",
    "reg_survey_complete.fillna(value=values, inplace=True)"
   ]
  },
  {
   "cell_type": "code",
   "execution_count": 78,
   "metadata": {},
   "outputs": [
    {
     "name": "stdout",
     "output_type": "stream",
     "text": [
      "{'ar': {1: u'\\u062a\\u0644\\u0643\\u0648\\u0643  \\u062a\\u0645\\u0627\\u064a\\u0627', 2: u'\\u0642\\u062f\\u0645\\u0627\\u064a\\u064a\\u0628 \\u0627\\u062f\\u0643\\u0647\\u0646\\u0627\\u0628 ', 3: u'\\u0645\\u0627\\u0645\\u0627\\u0646 \\u0643\\u0627\\u0645\\u0631\\u0642\\u062f\\u0627\\u0628', 4: u'\\u0627\\u0631\\u0647\\u0627\\u064a\\u064a\\u062a', 5: u'\\u0642\\u062f\\u0627\\u0645\\u0627\\u064a\\u0628 \\u0627\\u0644\\u0642\\u062f\\u064a\\u0645 ', 6: u'\\u0627\\u0648\\u0627\\u064a\\u064a\\u0628', 7: u'\\u0644\\u0643\\u0648\\u0643 \\u0627\\u0644\\u0627\\u064a\\u064a\\u062a', 8: u'\\u0628\\u0627\\u0647\\u0627\\u062c\\u064a\\u0644', 9: u'\\u0642\\u0627\\u0628\\u0631\\u064a\\u064a\\u062a', 10: u'\\u0647\\u0627\\u0645\\u062a\\u064a\\u0627\\u064a \\u0627\\u0628\\u0631\\u0645\\u0627\\u0628', 11: u'\\u062e\\u0627\\u0634\\u0645 \\u062a\\u0647\\u062f\\u0627\\u0649', 12: u'\\u0628\\u0644\\u0627\\u064a\\u062a', 14: u'\\u062a\\u0627\\u0643\\u0631\\u0648\\u0641', 15: u'\\u0645\\u0627\\u0645\\u0627\\u0646 \\u0628\\u0644\\u0645\\u064a\\u0643\\u0644\\u0627\\u0628', 16: u'\\u062a\\u0645\\u0643\\u0631\\u0641'}, 'en': {1: u'Talkouk Tamay ', 2: u'Gadamayeeb Adkihinab ', 3: u'Maman Kameragadap', 4: u'Eirhagayeet', 5: u'Gadamayeeb Algadima ', 6: u'lwayeep ', 7: u'Telkouk Ilatoit ', 8: u'Bahajeil ', 9: u'Gabrayeet ', 10: u'Hamtiyay Abrhemab', 11: u'Khashum Tahday ', 12: u'Pelait ', 14: u'Takrouf ', 15: u'Maman belimiklab ', 16: u'Temekraf'}}\n"
     ]
    }
   ],
   "source": [
    "# Creating villages dict\n",
    "villages = reg_survey_complete['village'].unique()\n",
    "villages_table = pd.read_excel(\"villages_kassala.xlsx\")\n",
    "# Villages dictionary\n",
    "villages_dict = dict()\n",
    "villages_dict['ar'] = villages_table.set_index('survey_code').to_dict()['Arabic name']\n",
    "villages_dict['en'] = villages_table.set_index('survey_code').to_dict()['English transcription']\n",
    "#print repr(villages_dict).decode('unicode_escape')\n",
    "reg_survey_complete['village'] = reg_survey_complete.village.map(villages_dict['en'])\n",
    "print villages_dict"
   ]
  },
  {
   "cell_type": "code",
   "execution_count": 79,
   "metadata": {},
   "outputs": [],
   "source": [
    "# For answered surveys\n",
    "reg_survey = reg_survey_complete.loc[reg_survey_complete['responding'].str.match('yes')].copy()"
   ]
  },
  {
   "cell_type": "code",
   "execution_count": 80,
   "metadata": {},
   "outputs": [],
   "source": [
    "# Creating num of LH strategies\n",
    "reg_survey['num_lh_strats'] = reg_survey['src_incomes'].map(lambda x: len(x.split()))"
   ]
  },
  {
   "cell_type": "code",
   "execution_count": 81,
   "metadata": {},
   "outputs": [],
   "source": [
    "# Separate male and female\n",
    "reg_survey_male = reg_survey.loc[reg_survey['respondant_gender'].str.match('male')].copy()\n",
    "reg_survey_female = reg_survey.loc[reg_survey['respondant_gender'].str.match('female')].copy()"
   ]
  },
  {
   "cell_type": "code",
   "execution_count": 82,
   "metadata": {},
   "outputs": [
    {
     "name": "stdout",
     "output_type": "stream",
     "text": [
      "271\n"
     ]
    }
   ],
   "source": [
    "## Separate per HoHH gender\n",
    "\n",
    "def cuantos(df):\n",
    "    print df['deviceid'].count()\n",
    "\n",
    "# Respondent is HH\n",
    "reg_survey['married'] = reg_survey['respondant_marital_status'].str.match('married')\n",
    "# Females HoHH\n",
    "reg_survey_female_head = reg_survey[reg_survey['respondant_gender'].str.match('female') &\n",
    "                                      reg_survey['respondant_head_hh'].str.match('yes')].copy()\n",
    "cuantos(reg_survey_female_head)\n",
    "# Females noHoHH\n",
    "reg_survey_female_no_head = reg_survey[reg_survey['respondant_gender'].str.match('female') &\n",
    "                                      reg_survey['respondant_head_hh'].str.match('no')].copy()\n",
    "\n",
    "# Males HoHH + Female noHoHH married\n",
    "reg_survey_male_head = reg_survey[reg_survey['respondant_gender'].str.match('male') &\n",
    "                                      reg_survey['respondant_head_hh'].str.match('yes')].copy()\n",
    "\n",
    "# 0\n",
    "reg_survey_male_no_head = reg_survey[reg_survey['respondant_gender'].str.match('male') &\n",
    "                                      reg_survey['respondant_head_hh'].str.match('no')].copy()\n",
    "\n",
    "reg_survey_male_head = pd.concat([reg_survey_male_head,\n",
    "                                  reg_survey_female_no_head[reg_survey_female_no_head['married']]])\n",
    "\n",
    "# Add females nHoHH nM with male_adult to male_head\n",
    "reg_survey_female_nHoHH_nM = reg_survey_female_no_head[~reg_survey_female_no_head['married']]\n",
    "reg_survey_male_head = pd.concat([reg_survey_male_head,\n",
    "                                  reg_survey_female_nHoHH_nM[reg_survey_female_nHoHH_nM['male_adult'] > 0]])\n",
    "\n",
    "# Add females nHoHH nM without male_adult to female_head\n",
    "reg_survey_female_head = pd.concat([reg_survey_female_head,\n",
    "                                    reg_survey_female_nHoHH_nM[reg_survey_female_nHoHH_nM['male_adult'] == 0]])\n",
    "\n",
    "# Add males nHoHH with male_adult to male_head\n",
    "reg_survey_male_nHoHH = reg_survey[reg_survey['respondant_gender'].str.match('male') &\n",
    "                                      reg_survey['respondant_head_hh'].str.match('no')].copy()\n",
    "reg_survey_maleHoHH = pd.concat([reg_survey_male_head,\n",
    "                                  reg_survey_male_nHoHH[reg_survey_male_nHoHH['male_adult'] > 0]])\n",
    "\n",
    "# Add females nHoHH with male_adult to female_head\n",
    "reg_survey_femHoHH = pd.concat([reg_survey_female_head,\n",
    "                                  reg_survey_male_nHoHH[reg_survey_male_nHoHH['male_adult'] == 0]])\n"
   ]
  },
  {
   "cell_type": "code",
   "execution_count": 83,
   "metadata": {},
   "outputs": [
    {
     "data": {
      "application/vnd.plotly.v1+json": {
       "data": [
        {
         "labels": [
          "Female HoHH",
          "Male HoHH"
         ],
         "sort": false,
         "type": "pie",
         "values": [
          273,
          111
         ]
        }
       ],
       "layout": {
        "title": "Households according to the gender of the HoHH"
       }
      },
      "text/html": [
       "<div id=\"aaf3b27d-3cb2-4bec-9dee-5c1fd5a09d59\" style=\"height: 525px; width: 100%;\" class=\"plotly-graph-div\"></div><script type=\"text/javascript\">require([\"plotly\"], function(Plotly) { window.PLOTLYENV=window.PLOTLYENV || {};window.PLOTLYENV.BASE_URL=\"https://plot.ly\";Plotly.newPlot(\"aaf3b27d-3cb2-4bec-9dee-5c1fd5a09d59\", [{\"sort\": false, \"values\": [273, 111], \"labels\": [\"Female HoHH\", \"Male HoHH\"], \"type\": \"pie\"}], {\"title\": \"Households according to the gender of the HoHH\"}, {\"linkText\": \"Export to plot.ly\", \"showLink\": true})});</script>"
      ],
      "text/vnd.plotly.v1+html": [
       "<div id=\"aaf3b27d-3cb2-4bec-9dee-5c1fd5a09d59\" style=\"height: 525px; width: 100%;\" class=\"plotly-graph-div\"></div><script type=\"text/javascript\">require([\"plotly\"], function(Plotly) { window.PLOTLYENV=window.PLOTLYENV || {};window.PLOTLYENV.BASE_URL=\"https://plot.ly\";Plotly.newPlot(\"aaf3b27d-3cb2-4bec-9dee-5c1fd5a09d59\", [{\"sort\": false, \"values\": [273, 111], \"labels\": [\"Female HoHH\", \"Male HoHH\"], \"type\": \"pie\"}], {\"title\": \"Households according to the gender of the HoHH\"}, {\"linkText\": \"Export to plot.ly\", \"showLink\": true})});</script>"
      ]
     },
     "metadata": {},
     "output_type": "display_data"
    }
   ],
   "source": [
    "HoHH = {}\n",
    "HoHH['Male HoHH'] = reg_survey_maleHoHH['deviceid'].count()\n",
    "HoHH['Female HoHH'] = reg_survey_femHoHH['deviceid'].count()\n",
    "\n",
    "HoHH = pd.Series(HoHH)\n",
    "\n",
    "fig = {\n",
    "    \"layout\": {\n",
    "        \"title\": \"Households according to the gender of the HoHH\"\n",
    "    },\n",
    "    \"data\": [\n",
    "        {\n",
    "            \"values\": HoHH.values,\n",
    "            \"labels\": HoHH.index.values,\n",
    "            \"type\": \"pie\",\n",
    "            \"sort\": False\n",
    "        }\n",
    "    ]\n",
    "}\n",
    "\n",
    "iplot(fig)"
   ]
  },
  {
   "cell_type": "code",
   "execution_count": 84,
   "metadata": {},
   "outputs": [
    {
     "name": "stdout",
     "output_type": "stream",
     "text": [
      "384\n"
     ]
    },
    {
     "data": {
      "application/vnd.plotly.v1+json": {
       "data": [
        {
         "labels": [
          "yes",
          "no"
         ],
         "sort": false,
         "type": "pie",
         "values": [
          51,
          324
         ]
        }
       ],
       "layout": {
        "title": "Households with handicapped members"
       }
      },
      "text/html": [
       "<div id=\"55eee890-eae8-425c-a869-ca5638b6d819\" style=\"height: 525px; width: 100%;\" class=\"plotly-graph-div\"></div><script type=\"text/javascript\">require([\"plotly\"], function(Plotly) { window.PLOTLYENV=window.PLOTLYENV || {};window.PLOTLYENV.BASE_URL=\"https://plot.ly\";Plotly.newPlot(\"55eee890-eae8-425c-a869-ca5638b6d819\", [{\"sort\": false, \"values\": [51, 324], \"labels\": [\"yes\", \"no\"], \"type\": \"pie\"}], {\"title\": \"Households with handicapped members\"}, {\"linkText\": \"Export to plot.ly\", \"showLink\": true})});</script>"
      ],
      "text/vnd.plotly.v1+html": [
       "<div id=\"55eee890-eae8-425c-a869-ca5638b6d819\" style=\"height: 525px; width: 100%;\" class=\"plotly-graph-div\"></div><script type=\"text/javascript\">require([\"plotly\"], function(Plotly) { window.PLOTLYENV=window.PLOTLYENV || {};window.PLOTLYENV.BASE_URL=\"https://plot.ly\";Plotly.newPlot(\"55eee890-eae8-425c-a869-ca5638b6d819\", [{\"sort\": false, \"values\": [51, 324], \"labels\": [\"yes\", \"no\"], \"type\": \"pie\"}], {\"title\": \"Households with handicapped members\"}, {\"linkText\": \"Export to plot.ly\", \"showLink\": true})});</script>"
      ]
     },
     "metadata": {},
     "output_type": "display_data"
    }
   ],
   "source": [
    "reg_survey_hand_yes = reg_survey.loc[reg_survey.handicapped_member == 'yes'].copy()\n",
    "reg_survey_hand_no = reg_survey.loc[reg_survey.handicapped_member == 'no'].copy()\n",
    "print reg_survey['deviceid'].count()\n",
    "yes_no_number = [reg_survey_hand_yes['deviceid'].count(), reg_survey_hand_no['deviceid'].count()]\n",
    "yes_no_values = ['yes', 'no']\n",
    "\n",
    "fig = {\n",
    "    \"layout\": {\n",
    "        \"title\": \"Households with handicapped members\"\n",
    "    },\n",
    "    \"data\": [\n",
    "        {\n",
    "            \"values\": yes_no_number,\n",
    "            \"labels\": yes_no_values,\n",
    "            \"type\": \"pie\",\n",
    "            \"sort\": False\n",
    "        }\n",
    "    ]\n",
    "}\n",
    "\n",
    "iplot(fig)"
   ]
  },
  {
   "cell_type": "code",
   "execution_count": 85,
   "metadata": {},
   "outputs": [],
   "source": [
    "def create_graphs_HoHH(data_func, values_func, labels_func, sum_func, title):\n",
    "    create_three_pie_graphs((reg_survey_femHoHH, reg_survey, reg_survey_maleHoHH), data_func, values_func,\n",
    "                            labels_func, sum_func, title,\n",
    "                            \"Female Head of Household\", .04,\n",
    "                            \"Global\", .5,\n",
    "                            \"Male Head of Household\", .94)\n",
    "\n",
    "def create_graphs_respondent(data_func, values_func, labels_func, sum_func, title):\n",
    "    create_three_pie_graphs((reg_survey_female, reg_survey, reg_survey_male), data_func, values_func,\n",
    "                            labels_func, sum_func, title,\n",
    "                            \"Female Respondent\", .07,\n",
    "                            \"Global\", .5,\n",
    "                            \"Male Respondent\", .91)\n",
    "\n",
    "def create_pie_graph(serie, title):\n",
    "    fig = {\n",
    "        \"layout\": {\n",
    "            \"title\": title\n",
    "        },\n",
    "        \"data\": [\n",
    "            {\n",
    "                \"values\": serie.values,\n",
    "                \"labels\": serie.index.values,\n",
    "                \"type\": \"pie\",\n",
    "                \"sort\": False\n",
    "            }\n",
    "        ]\n",
    "    }\n",
    "\n",
    "    iplot(fig)\n",
    "    \n",
    "    \n",
    "def create_three_pie_graphs((df1, df2, df3), data_func, values_func,\n",
    "                            labels_func, sum_func, title,\n",
    "                            title1, title1_x_offset,\n",
    "                            title2, title2_x_offset,\n",
    "                            title3, title3_x_offset):\n",
    "    data_fem = data_func(df1)\n",
    "    data_global = data_func(df2)\n",
    "    data_male = data_func(df3)\n",
    "\n",
    "    fig = {\n",
    "        \"layout\": {\n",
    "            \"title\": title,\n",
    "            \"annotations\": [\n",
    "                {\n",
    "                    \"font\": {\n",
    "                        \"size\": 14\n",
    "                    },\n",
    "                    \"showarrow\": False,\n",
    "                    #\"text\": title1 + \" (\" + str(sum_func(data_fem)) + \")\",\n",
    "                    \"text\": title1,\n",
    "                    \"x\": title1_x_offset,\n",
    "                    \"y\": 1\n",
    "                },\n",
    "                {\n",
    "                    \"font\": {\n",
    "                        \"size\": 14\n",
    "                    },\n",
    "                    \"showarrow\": False,\n",
    "                    #\"text\": title2 + \" (\" + str(sum_func(data_global)) + \")\",\n",
    "                    \"text\": title2,\n",
    "                    \"x\": title2_x_offset,\n",
    "                    \"y\": 1\n",
    "                },\n",
    "                {\n",
    "                    \"font\": {\n",
    "                        \"size\": 14\n",
    "                    },\n",
    "                    \"showarrow\": False,\n",
    "                    #\"text\": title3 + \" (\" + str(sum_func(data_male)) + \")\",\n",
    "                    \"text\": title3,\n",
    "                    \"x\": title3_x_offset,\n",
    "                    \"y\": 1\n",
    "                }\n",
    "            ]\n",
    "        },\n",
    "        \"data\": [\n",
    "            {\n",
    "                \"values\": values_func(data_fem),\n",
    "                \"labels\": labels_func(data_fem),\n",
    "                \"domain\": {\n",
    "                    \"x\": [0, .32]\n",
    "                },\n",
    "                \"type\": \"pie\",\n",
    "                \"sort\": False\n",
    "            },\n",
    "            {\n",
    "                \"values\": values_func(data_global),\n",
    "                \"labels\": labels_func(data_global),\n",
    "                \"domain\": {\n",
    "                    \"x\": [.34, .64]\n",
    "                },\n",
    "                \"type\": \"pie\",\n",
    "                \"sort\": False\n",
    "            },\n",
    "            {\n",
    "                \"values\": values_func(data_male),\n",
    "                \"labels\": labels_func(data_male),\n",
    "                \"domain\": {\n",
    "                    \"x\": [.66, .98]\n",
    "                },\n",
    "                \"type\": \"pie\",\n",
    "                \"sort\": False\n",
    "            }\n",
    "        ]\n",
    "    }\n",
    "\n",
    "    iplot(fig)\n",
    "\n",
    "def create_stacked_bars_graph((df1, df2), data_func, x_func, y_func, title,\n",
    "                              title_df1, title_df2):\n",
    "    data_global = data_func(pd.concat([df1, df2]))\n",
    "    data_fem = data_func(df1)\n",
    "    data_male = data_func(df2)\n",
    "\n",
    "    fig = {\n",
    "        \"layout\": {\n",
    "            \"title\": title,\n",
    "            \"xaxis\": {\n",
    "                \"tickangle\": -45\n",
    "            },\n",
    "            \"barmode\": \"stack\",\n",
    "            \"width\": 700,\n",
    "            \"annotations\": []\n",
    "        },\n",
    "        \"data\": [\n",
    "            {\n",
    "                \"x\": x_func(data_fem),\n",
    "                \"y\": y_func(data_fem),\n",
    "                \"type\": \"bar\",\n",
    "                \"name\": title_df1,\n",
    "                \"marker\": {\n",
    "                    \"color\": 'rgb(225,225,258)',\n",
    "                    \"line\": {\n",
    "                        \"color\": 'rgb(0,0,192)',\n",
    "                        \"width\": 1.5\n",
    "                    }\n",
    "                },\n",
    "            },\n",
    "            {\n",
    "                \"x\": x_func(data_male),\n",
    "                \"y\": y_func(data_male),\n",
    "                \"type\": \"bar\",\n",
    "                \"name\": title_df2,\n",
    "                \"marker\": {\n",
    "                    \"color\": 'rgb(258,225,225)',\n",
    "                    \"line\": {\n",
    "                        \"color\": 'rgb(192,0,0)',\n",
    "                        \"width\": 1.5\n",
    "                    }\n",
    "                },\n",
    "            }\n",
    "        \n",
    "        ]\n",
    "    }\n",
    "\n",
    "\n",
    "#    for i in range(0, len(kitchen_type)):\n",
    "#        fig[\"layout\"][\"annotations\"].append(\n",
    "#            {\n",
    "#                 \"x\": map(lambda x: x.capitalize(), kitchen_perc.index.values)[i],\n",
    "#                 \"y\": kitchen_perc.values[i] + 1.5,\n",
    "#                \"x\": pd.concat([df1, df2])[i],\n",
    "#                \"y\": y_func(data_global)[i] + 1.5,\n",
    "#                \"text\": str(data_global.values[i]) + \"%\",\n",
    "#                \"font\": dict(\n",
    "#                    family='Arial',\n",
    "#                    size=14,\n",
    "#                    color='rgba(0, 0, 100, 1)'\n",
    "#                ),\n",
    "#                \"showarrow\": False,\n",
    "#    \n",
    "#            }\n",
    "#        )\n",
    "#\n",
    "#\n",
    "    iplot(fig)\n",
    "    \n",
    "\n",
    "def plot_wealth_criteria(groupby_data, values, title):\n",
    "    groupby_data = groupby_data * 100 / groupby_data.sum()\n",
    "    poor = groupby_data[groupby_data.index <= values[0]]\n",
    "    medium = groupby_data[groupby_data.index > values[0]]\n",
    "    medium = medium[medium.index <= values[1]]\n",
    "    rich = groupby_data[groupby_data.index > values[1]]\n",
    "    rich = rich[rich.index <= values[2]]\n",
    "    print medium\n",
    "    \n",
    "    fig_distribution = {\n",
    "        \"layout\": {\n",
    "            \"title\": title,\n",
    "            \"yaxis\": {\n",
    "                \"ticksuffix\": \"%\"\n",
    "            },\n",
    "            \"width\": 700,\n",
    "            \"annotations\": []\n",
    "        },\n",
    "        \"data\": [\n",
    "            {\n",
    "                \"x\": poor.index.values,\n",
    "                \"y\": poor.values,\n",
    "                \"type\": \"bar\",\n",
    "                \"name\": \"Very poor (\" + str(round(poor.values.sum(), 1)) + \"%)\" ,\n",
    "                \"marker\": {\n",
    "                    \"color\": 'rgb(214,39,40)',\n",
    "                }\n",
    "            },\n",
    "            {\n",
    "                \"x\": medium.index.values,\n",
    "                \"y\": medium.values,\n",
    "                \"type\": \"bar\",\n",
    "                \"name\": \"Poor (\" + str(round(medium.values.sum(), 1)) + \"%)\",\n",
    "                \"marker\": {\n",
    "                    \"color\": 'rgb(255,127,14)',\n",
    "                }\n",
    "            },\n",
    "            {\n",
    "                \"x\": rich.index.values,\n",
    "                \"y\": rich.values,\n",
    "                \"type\": \"bar\",\n",
    "                \"name\": \"Medium (\" + str(round(rich.values.sum(), 1)) + \"%)\",\n",
    "                \"marker\": {\n",
    "                    \"color\": 'rgb(44,160,44)',\n",
    "                }\n",
    "            }\n",
    "        ]\n",
    "    }\n",
    "    \n",
    "    iplot(fig_distribution)\n"
   ]
  },
  {
   "cell_type": "markdown",
   "metadata": {},
   "source": [
    "## General data\n",
    "\n",
    "Number of Surveys:"
   ]
  },
  {
   "cell_type": "code",
   "execution_count": 86,
   "metadata": {},
   "outputs": [
    {
     "name": "stdout",
     "output_type": "stream",
     "text": [
      "Total:399\n",
      "\n",
      "Responding:384\n",
      "\n"
     ]
    }
   ],
   "source": [
    "print \"Total:\" + str(reg_survey_complete['deviceid'].count())\n",
    "print \"\"\n",
    "total_surveys = reg_survey['deviceid'].count()\n",
    "print \"Responding:\" + str(total_surveys)\n",
    "print \"\""
   ]
  },
  {
   "cell_type": "markdown",
   "metadata": {},
   "source": [
    "### Respondents per gender and village"
   ]
  },
  {
   "cell_type": "code",
   "execution_count": 87,
   "metadata": {},
   "outputs": [
    {
     "data": {
      "text/html": [
       "<div>\n",
       "<style scoped>\n",
       "    .dataframe tbody tr th:only-of-type {\n",
       "        vertical-align: middle;\n",
       "    }\n",
       "\n",
       "    .dataframe tbody tr th {\n",
       "        vertical-align: top;\n",
       "    }\n",
       "\n",
       "    .dataframe thead th {\n",
       "        text-align: right;\n",
       "    }\n",
       "</style>\n",
       "<table border=\"1\" class=\"dataframe\">\n",
       "  <thead>\n",
       "    <tr style=\"text-align: right;\">\n",
       "      <th></th>\n",
       "      <th>Male</th>\n",
       "      <th>Male %</th>\n",
       "      <th>Female</th>\n",
       "      <th>Female %</th>\n",
       "      <th>Total</th>\n",
       "    </tr>\n",
       "    <tr>\n",
       "      <th>village</th>\n",
       "      <th></th>\n",
       "      <th></th>\n",
       "      <th></th>\n",
       "      <th></th>\n",
       "      <th></th>\n",
       "    </tr>\n",
       "  </thead>\n",
       "  <tbody>\n",
       "    <tr>\n",
       "      <th>Bahajeil</th>\n",
       "      <td>0</td>\n",
       "      <td>NaN</td>\n",
       "      <td>22</td>\n",
       "      <td>100.00</td>\n",
       "      <td>22</td>\n",
       "    </tr>\n",
       "    <tr>\n",
       "      <th>Eirhagayeet</th>\n",
       "      <td>4</td>\n",
       "      <td>16.67</td>\n",
       "      <td>20</td>\n",
       "      <td>83.33</td>\n",
       "      <td>24</td>\n",
       "    </tr>\n",
       "    <tr>\n",
       "      <th>Gabrayeet</th>\n",
       "      <td>0</td>\n",
       "      <td>NaN</td>\n",
       "      <td>11</td>\n",
       "      <td>100.00</td>\n",
       "      <td>11</td>\n",
       "    </tr>\n",
       "    <tr>\n",
       "      <th>Gadamayeeb Adkihinab</th>\n",
       "      <td>0</td>\n",
       "      <td>NaN</td>\n",
       "      <td>22</td>\n",
       "      <td>100.00</td>\n",
       "      <td>22</td>\n",
       "    </tr>\n",
       "    <tr>\n",
       "      <th>Gadamayeeb Algadima</th>\n",
       "      <td>0</td>\n",
       "      <td>NaN</td>\n",
       "      <td>35</td>\n",
       "      <td>100.00</td>\n",
       "      <td>35</td>\n",
       "    </tr>\n",
       "    <tr>\n",
       "      <th>Hamtiyay Abrhemab</th>\n",
       "      <td>0</td>\n",
       "      <td>NaN</td>\n",
       "      <td>1</td>\n",
       "      <td>100.00</td>\n",
       "      <td>1</td>\n",
       "    </tr>\n",
       "    <tr>\n",
       "      <th>Khashum Tahday</th>\n",
       "      <td>2</td>\n",
       "      <td>7.41</td>\n",
       "      <td>25</td>\n",
       "      <td>92.59</td>\n",
       "      <td>27</td>\n",
       "    </tr>\n",
       "    <tr>\n",
       "      <th>Maman Kameragadap</th>\n",
       "      <td>3</td>\n",
       "      <td>8.33</td>\n",
       "      <td>33</td>\n",
       "      <td>91.67</td>\n",
       "      <td>36</td>\n",
       "    </tr>\n",
       "    <tr>\n",
       "      <th>Maman belimiklab</th>\n",
       "      <td>0</td>\n",
       "      <td>NaN</td>\n",
       "      <td>13</td>\n",
       "      <td>100.00</td>\n",
       "      <td>13</td>\n",
       "    </tr>\n",
       "    <tr>\n",
       "      <th>Pelait</th>\n",
       "      <td>0</td>\n",
       "      <td>NaN</td>\n",
       "      <td>28</td>\n",
       "      <td>100.00</td>\n",
       "      <td>28</td>\n",
       "    </tr>\n",
       "    <tr>\n",
       "      <th>Takrouf</th>\n",
       "      <td>5</td>\n",
       "      <td>17.24</td>\n",
       "      <td>24</td>\n",
       "      <td>82.76</td>\n",
       "      <td>29</td>\n",
       "    </tr>\n",
       "    <tr>\n",
       "      <th>Talkouk Tamay</th>\n",
       "      <td>7</td>\n",
       "      <td>12.07</td>\n",
       "      <td>51</td>\n",
       "      <td>87.93</td>\n",
       "      <td>58</td>\n",
       "    </tr>\n",
       "    <tr>\n",
       "      <th>Telkouk Ilatoit</th>\n",
       "      <td>2</td>\n",
       "      <td>3.70</td>\n",
       "      <td>52</td>\n",
       "      <td>96.30</td>\n",
       "      <td>54</td>\n",
       "    </tr>\n",
       "    <tr>\n",
       "      <th>lwayeep</th>\n",
       "      <td>0</td>\n",
       "      <td>NaN</td>\n",
       "      <td>23</td>\n",
       "      <td>100.00</td>\n",
       "      <td>23</td>\n",
       "    </tr>\n",
       "    <tr>\n",
       "      <th>Total</th>\n",
       "      <td>23</td>\n",
       "      <td>6.01</td>\n",
       "      <td>360</td>\n",
       "      <td>93.99</td>\n",
       "      <td>383</td>\n",
       "    </tr>\n",
       "  </tbody>\n",
       "</table>\n",
       "</div>"
      ],
      "text/plain": [
       "                       Male  Male %  Female  Female %  Total\n",
       "village                                                     \n",
       "Bahajeil                  0     NaN      22    100.00     22\n",
       "Eirhagayeet               4   16.67      20     83.33     24\n",
       "Gabrayeet                 0     NaN      11    100.00     11\n",
       "Gadamayeeb Adkihinab      0     NaN      22    100.00     22\n",
       "Gadamayeeb Algadima       0     NaN      35    100.00     35\n",
       "Hamtiyay Abrhemab         0     NaN       1    100.00      1\n",
       "Khashum Tahday            2    7.41      25     92.59     27\n",
       "Maman Kameragadap         3    8.33      33     91.67     36\n",
       "Maman belimiklab          0     NaN      13    100.00     13\n",
       "Pelait                    0     NaN      28    100.00     28\n",
       "Takrouf                   5   17.24      24     82.76     29\n",
       "Talkouk Tamay             7   12.07      51     87.93     58\n",
       "Telkouk Ilatoit           2    3.70      52     96.30     54\n",
       "lwayeep                   0     NaN      23    100.00     23\n",
       "Total                    23    6.01     360     93.99    383"
      ]
     },
     "metadata": {},
     "output_type": "display_data"
    }
   ],
   "source": [
    "surveys_village = reg_survey.groupby('village').size()\n",
    "surveys_village_male = reg_survey_male.groupby('village').size()\n",
    "surveys_village_female = reg_survey_female.groupby('village').size()\n",
    "respondents_gender = pd.DataFrame(surveys_village, columns= ['Total'])\n",
    "respondents_gender['Male'] = surveys_village_male\n",
    "respondents_gender['Male %'] = (surveys_village_male*100 / surveys_village).round(2)\n",
    "respondents_gender['Female'] = surveys_village_female\n",
    "respondents_gender['Female %'] = (surveys_village_female*100 / surveys_village).round(2)\n",
    "respondents_gender = respondents_gender.reindex(['Male', 'Male %', 'Female', 'Female %', 'Total'], axis=1)\n",
    "respondents_gender.loc['Total', 'Total'] = respondents_gender['Total'].sum()\n",
    "respondents_gender.loc['Total', 'Male'] = respondents_gender['Male'].sum()\n",
    "respondents_gender.loc['Total', 'Female'] = respondents_gender['Female'].sum()\n",
    "respondents_gender.fillna({'Male': 0, 'Female': 0}, inplace=True)\n",
    "respondents_gender.loc['Total', 'Male %'] = round(100*respondents_gender.loc['Total', 'Male'] / respondents_gender.loc['Total', 'Total'], 2)\n",
    "respondents_gender.loc['Total', 'Female %'] = round(100*respondents_gender.loc['Total', 'Female'] / respondents_gender.loc['Total', 'Total'], 2)\n",
    "respondents_gender['Male'] = respondents_gender['Male'].astype(int)\n",
    "respondents_gender['Female'] = respondents_gender['Female'].astype(int)\n",
    "respondents_gender['Total'] = respondents_gender['Total'].astype(int)\n",
    "\n",
    "display(respondents_gender)"
   ]
  },
  {
   "cell_type": "markdown",
   "metadata": {},
   "source": [
    "### HHs Composition"
   ]
  },
  {
   "cell_type": "code",
   "execution_count": 88,
   "metadata": {},
   "outputs": [
    {
     "data": {
      "text/html": [
       "<div>\n",
       "<style scoped>\n",
       "    .dataframe tbody tr th:only-of-type {\n",
       "        vertical-align: middle;\n",
       "    }\n",
       "\n",
       "    .dataframe tbody tr th {\n",
       "        vertical-align: top;\n",
       "    }\n",
       "\n",
       "    .dataframe thead th {\n",
       "        text-align: right;\n",
       "    }\n",
       "</style>\n",
       "<table border=\"1\" class=\"dataframe\">\n",
       "  <thead>\n",
       "    <tr style=\"text-align: right;\">\n",
       "      <th></th>\n",
       "      <th>Male</th>\n",
       "      <th>Male %</th>\n",
       "      <th>Female</th>\n",
       "      <th>Female %</th>\n",
       "      <th>Total</th>\n",
       "    </tr>\n",
       "    <tr>\n",
       "      <th>village</th>\n",
       "      <th></th>\n",
       "      <th></th>\n",
       "      <th></th>\n",
       "      <th></th>\n",
       "      <th></th>\n",
       "    </tr>\n",
       "  </thead>\n",
       "  <tbody>\n",
       "    <tr>\n",
       "      <th>Bahajeil</th>\n",
       "      <td>8</td>\n",
       "      <td>36.36</td>\n",
       "      <td>14</td>\n",
       "      <td>63.64</td>\n",
       "      <td>22</td>\n",
       "    </tr>\n",
       "    <tr>\n",
       "      <th>Eirhagayeet</th>\n",
       "      <td>8</td>\n",
       "      <td>33.33</td>\n",
       "      <td>16</td>\n",
       "      <td>66.67</td>\n",
       "      <td>24</td>\n",
       "    </tr>\n",
       "    <tr>\n",
       "      <th>Gabrayeet</th>\n",
       "      <td>2</td>\n",
       "      <td>18.18</td>\n",
       "      <td>9</td>\n",
       "      <td>81.82</td>\n",
       "      <td>11</td>\n",
       "    </tr>\n",
       "    <tr>\n",
       "      <th>Gadamayeeb Adkihinab</th>\n",
       "      <td>7</td>\n",
       "      <td>31.82</td>\n",
       "      <td>15</td>\n",
       "      <td>68.18</td>\n",
       "      <td>22</td>\n",
       "    </tr>\n",
       "    <tr>\n",
       "      <th>Gadamayeeb Algadima</th>\n",
       "      <td>9</td>\n",
       "      <td>25.71</td>\n",
       "      <td>26</td>\n",
       "      <td>74.29</td>\n",
       "      <td>35</td>\n",
       "    </tr>\n",
       "    <tr>\n",
       "      <th>Hamtiyay Abrhemab</th>\n",
       "      <td>0</td>\n",
       "      <td>NaN</td>\n",
       "      <td>1</td>\n",
       "      <td>100.00</td>\n",
       "      <td>1</td>\n",
       "    </tr>\n",
       "    <tr>\n",
       "      <th>Khashum Tahday</th>\n",
       "      <td>10</td>\n",
       "      <td>37.04</td>\n",
       "      <td>17</td>\n",
       "      <td>62.96</td>\n",
       "      <td>27</td>\n",
       "    </tr>\n",
       "    <tr>\n",
       "      <th>Maman Kameragadap</th>\n",
       "      <td>10</td>\n",
       "      <td>27.78</td>\n",
       "      <td>26</td>\n",
       "      <td>72.22</td>\n",
       "      <td>36</td>\n",
       "    </tr>\n",
       "    <tr>\n",
       "      <th>Maman belimiklab</th>\n",
       "      <td>2</td>\n",
       "      <td>15.38</td>\n",
       "      <td>11</td>\n",
       "      <td>84.62</td>\n",
       "      <td>13</td>\n",
       "    </tr>\n",
       "    <tr>\n",
       "      <th>Pelait</th>\n",
       "      <td>6</td>\n",
       "      <td>21.43</td>\n",
       "      <td>22</td>\n",
       "      <td>78.57</td>\n",
       "      <td>28</td>\n",
       "    </tr>\n",
       "    <tr>\n",
       "      <th>Takrouf</th>\n",
       "      <td>9</td>\n",
       "      <td>31.03</td>\n",
       "      <td>20</td>\n",
       "      <td>68.97</td>\n",
       "      <td>29</td>\n",
       "    </tr>\n",
       "    <tr>\n",
       "      <th>Talkouk Tamay</th>\n",
       "      <td>19</td>\n",
       "      <td>32.76</td>\n",
       "      <td>39</td>\n",
       "      <td>67.24</td>\n",
       "      <td>58</td>\n",
       "    </tr>\n",
       "    <tr>\n",
       "      <th>Telkouk Ilatoit</th>\n",
       "      <td>15</td>\n",
       "      <td>27.78</td>\n",
       "      <td>39</td>\n",
       "      <td>72.22</td>\n",
       "      <td>54</td>\n",
       "    </tr>\n",
       "    <tr>\n",
       "      <th>lwayeep</th>\n",
       "      <td>5</td>\n",
       "      <td>21.74</td>\n",
       "      <td>18</td>\n",
       "      <td>78.26</td>\n",
       "      <td>23</td>\n",
       "    </tr>\n",
       "    <tr>\n",
       "      <th>Total</th>\n",
       "      <td>110</td>\n",
       "      <td>28.72</td>\n",
       "      <td>273</td>\n",
       "      <td>71.28</td>\n",
       "      <td>383</td>\n",
       "    </tr>\n",
       "  </tbody>\n",
       "</table>\n",
       "</div>"
      ],
      "text/plain": [
       "                       Male  Male %  Female  Female %  Total\n",
       "village                                                     \n",
       "Bahajeil                  8   36.36      14     63.64     22\n",
       "Eirhagayeet               8   33.33      16     66.67     24\n",
       "Gabrayeet                 2   18.18       9     81.82     11\n",
       "Gadamayeeb Adkihinab      7   31.82      15     68.18     22\n",
       "Gadamayeeb Algadima       9   25.71      26     74.29     35\n",
       "Hamtiyay Abrhemab         0     NaN       1    100.00      1\n",
       "Khashum Tahday           10   37.04      17     62.96     27\n",
       "Maman Kameragadap        10   27.78      26     72.22     36\n",
       "Maman belimiklab          2   15.38      11     84.62     13\n",
       "Pelait                    6   21.43      22     78.57     28\n",
       "Takrouf                   9   31.03      20     68.97     29\n",
       "Talkouk Tamay            19   32.76      39     67.24     58\n",
       "Telkouk Ilatoit          15   27.78      39     72.22     54\n",
       "lwayeep                   5   21.74      18     78.26     23\n",
       "Total                   110   28.72     273     71.28    383"
      ]
     },
     "metadata": {},
     "output_type": "display_data"
    }
   ],
   "source": [
    "surveys_village_maleHoHH = reg_survey_maleHoHH.groupby('village').size()\n",
    "surveys_village_femHoHH = reg_survey_femHoHH.groupby('village').size()\n",
    "HoHH_gender = pd.DataFrame(surveys_village, columns= ['Total'])\n",
    "HoHH_gender['Male'] = surveys_village_maleHoHH\n",
    "HoHH_gender['Male %'] = (surveys_village_maleHoHH*100 / surveys_village).round(2)\n",
    "HoHH_gender['Female'] = surveys_village_femHoHH\n",
    "HoHH_gender['Female %'] = (surveys_village_femHoHH*100 / surveys_village).round(2)\n",
    "HoHH_gender = HoHH_gender.reindex(['Male', 'Male %', 'Female', 'Female %', 'Total'], axis=1)\n",
    "HoHH_gender.loc['Total', 'Total'] = HoHH_gender['Total'].sum()\n",
    "HoHH_gender.loc['Total', 'Male'] = HoHH_gender['Male'].sum()\n",
    "HoHH_gender.loc['Total', 'Male %'] = round(100*HoHH_gender.loc['Total', 'Male'] / HoHH_gender.loc['Total', 'Total'], 2)\n",
    "HoHH_gender.loc['Total', 'Female'] = HoHH_gender['Female'].sum()\n",
    "HoHH_gender.loc['Total', 'Female %'] = round(100*HoHH_gender.loc['Total', 'Female'] / HoHH_gender.loc['Total', 'Total'], 2)\n",
    "HoHH_gender.fillna({'Male': 0, 'Female': 0}, inplace=True)\n",
    "HoHH_gender['Male'] = HoHH_gender['Male'].astype(int)\n",
    "HoHH_gender['Female'] = HoHH_gender['Female'].astype(int)\n",
    "HoHH_gender['Total'] = HoHH_gender['Total'].astype(int)\n",
    "\n",
    "display(HoHH_gender)"
   ]
  },
  {
   "cell_type": "code",
   "execution_count": 89,
   "metadata": {},
   "outputs": [
    {
     "name": "stdout",
     "output_type": "stream",
     "text": [
      "273\n",
      "111\n"
     ]
    }
   ],
   "source": [
    "print reg_survey_femHoHH['deviceid'].count()\n",
    "print reg_survey_maleHoHH['deviceid'].count()"
   ]
  },
  {
   "cell_type": "code",
   "execution_count": 90,
   "metadata": {},
   "outputs": [
    {
     "data": {
      "application/vnd.plotly.v1+json": {
       "data": [
        {
         "domain": {
          "x": [
           0,
           0.32
          ]
         },
         "labels": [
          "Jalwa",
          "basic",
          "none"
         ],
         "sort": false,
         "type": "pie",
         "values": [
          140,
          1,
          126
         ]
        },
        {
         "domain": {
          "x": [
           0.34,
           0.64
          ]
         },
         "labels": [
          "Jalwa",
          "basic",
          "none",
          "primary"
         ],
         "sort": false,
         "type": "pie",
         "values": [
          174,
          2,
          197,
          1
         ]
        },
        {
         "domain": {
          "x": [
           0.66,
           0.98
          ]
         },
         "labels": [
          "Jalwa",
          "basic",
          "none",
          "primary"
         ],
         "sort": false,
         "type": "pie",
         "values": [
          34,
          1,
          71,
          1
         ]
        }
       ],
       "layout": {
        "annotations": [
         {
          "font": {
           "size": 14
          },
          "showarrow": false,
          "text": "Female Head of Household",
          "x": 0.04,
          "y": 1
         },
         {
          "font": {
           "size": 14
          },
          "showarrow": false,
          "text": "Global",
          "x": 0.5,
          "y": 1
         },
         {
          "font": {
           "size": 14
          },
          "showarrow": false,
          "text": "Male Head of Household",
          "x": 0.94,
          "y": 1
         }
        ],
        "title": "Education level of the head of household"
       }
      },
      "text/html": [
       "<div id=\"062eabdc-b23f-40da-ae29-95c71a481698\" style=\"height: 525px; width: 100%;\" class=\"plotly-graph-div\"></div><script type=\"text/javascript\">require([\"plotly\"], function(Plotly) { window.PLOTLYENV=window.PLOTLYENV || {};window.PLOTLYENV.BASE_URL=\"https://plot.ly\";Plotly.newPlot(\"062eabdc-b23f-40da-ae29-95c71a481698\", [{\"sort\": false, \"values\": [140, 1, 126], \"domain\": {\"x\": [0, 0.32]}, \"labels\": [\"Jalwa\", \"basic\", \"none\"], \"type\": \"pie\"}, {\"sort\": false, \"values\": [174, 2, 197, 1], \"domain\": {\"x\": [0.34, 0.64]}, \"labels\": [\"Jalwa\", \"basic\", \"none\", \"primary\"], \"type\": \"pie\"}, {\"sort\": false, \"values\": [34, 1, 71, 1], \"domain\": {\"x\": [0.66, 0.98]}, \"labels\": [\"Jalwa\", \"basic\", \"none\", \"primary\"], \"type\": \"pie\"}], {\"annotations\": [{\"y\": 1, \"text\": \"Female Head of Household\", \"font\": {\"size\": 14}, \"showarrow\": false, \"x\": 0.04}, {\"y\": 1, \"text\": \"Global\", \"font\": {\"size\": 14}, \"showarrow\": false, \"x\": 0.5}, {\"y\": 1, \"text\": \"Male Head of Household\", \"font\": {\"size\": 14}, \"showarrow\": false, \"x\": 0.94}], \"title\": \"Education level of the head of household\"}, {\"linkText\": \"Export to plot.ly\", \"showLink\": true})});</script>"
      ],
      "text/vnd.plotly.v1+html": [
       "<div id=\"062eabdc-b23f-40da-ae29-95c71a481698\" style=\"height: 525px; width: 100%;\" class=\"plotly-graph-div\"></div><script type=\"text/javascript\">require([\"plotly\"], function(Plotly) { window.PLOTLYENV=window.PLOTLYENV || {};window.PLOTLYENV.BASE_URL=\"https://plot.ly\";Plotly.newPlot(\"062eabdc-b23f-40da-ae29-95c71a481698\", [{\"sort\": false, \"values\": [140, 1, 126], \"domain\": {\"x\": [0, 0.32]}, \"labels\": [\"Jalwa\", \"basic\", \"none\"], \"type\": \"pie\"}, {\"sort\": false, \"values\": [174, 2, 197, 1], \"domain\": {\"x\": [0.34, 0.64]}, \"labels\": [\"Jalwa\", \"basic\", \"none\", \"primary\"], \"type\": \"pie\"}, {\"sort\": false, \"values\": [34, 1, 71, 1], \"domain\": {\"x\": [0.66, 0.98]}, \"labels\": [\"Jalwa\", \"basic\", \"none\", \"primary\"], \"type\": \"pie\"}], {\"annotations\": [{\"y\": 1, \"text\": \"Female Head of Household\", \"font\": {\"size\": 14}, \"showarrow\": false, \"x\": 0.04}, {\"y\": 1, \"text\": \"Global\", \"font\": {\"size\": 14}, \"showarrow\": false, \"x\": 0.5}, {\"y\": 1, \"text\": \"Male Head of Household\", \"font\": {\"size\": 14}, \"showarrow\": false, \"x\": 0.94}], \"title\": \"Education level of the head of household\"}, {\"linkText\": \"Export to plot.ly\", \"showLink\": true})});</script>"
      ]
     },
     "metadata": {},
     "output_type": "display_data"
    }
   ],
   "source": [
    "create_graphs_HoHH(lambda x: x.groupby('education').size(),\n",
    "                 lambda x: x.values,\n",
    "                 lambda x: x.index.values,\n",
    "                   lambda x: x.sum(),\n",
    "                 \"Education level of the head of household\")\n"
   ]
  },
  {
   "cell_type": "code",
   "execution_count": 91,
   "metadata": {},
   "outputs": [
    {
     "data": {
      "application/vnd.plotly.v1+json": {
       "data": [
        {
         "domain": {
          "x": [
           0,
           0.32
          ]
         },
         "labels": [
          "grazes",
          "no_answer",
          "other",
          "worked_graze"
         ],
         "sort": false,
         "type": "pie",
         "values": [
          11,
          41,
          1,
          220
         ]
        },
        {
         "domain": {
          "x": [
           0.34,
           0.64
          ]
         },
         "labels": [
          "grazes",
          "no_answer",
          "other",
          "worked_graze"
         ],
         "sort": false,
         "type": "pie",
         "values": [
          11,
          76,
          1,
          295
         ]
        },
        {
         "domain": {
          "x": [
           0.66,
           0.98
          ]
         },
         "labels": [
          "no_answer",
          "worked_graze"
         ],
         "sort": false,
         "type": "pie",
         "values": [
          35,
          75
         ]
        }
       ],
       "layout": {
        "annotations": [
         {
          "font": {
           "size": 14
          },
          "showarrow": false,
          "text": "Female Head of Household",
          "x": 0.04,
          "y": 1
         },
         {
          "font": {
           "size": 14
          },
          "showarrow": false,
          "text": "Global",
          "x": 0.5,
          "y": 1
         },
         {
          "font": {
           "size": 14
          },
          "showarrow": false,
          "text": "Male Head of Household",
          "x": 0.94,
          "y": 1
         }
        ],
        "title": "House materials"
       }
      },
      "text/html": [
       "<div id=\"304cd7ff-0f72-4aac-8790-b64c16047c8b\" style=\"height: 525px; width: 100%;\" class=\"plotly-graph-div\"></div><script type=\"text/javascript\">require([\"plotly\"], function(Plotly) { window.PLOTLYENV=window.PLOTLYENV || {};window.PLOTLYENV.BASE_URL=\"https://plot.ly\";Plotly.newPlot(\"304cd7ff-0f72-4aac-8790-b64c16047c8b\", [{\"sort\": false, \"values\": [11, 41, 1, 220], \"domain\": {\"x\": [0, 0.32]}, \"labels\": [\"grazes\", \"no_answer\", \"other\", \"worked_graze\"], \"type\": \"pie\"}, {\"sort\": false, \"values\": [11, 76, 1, 295], \"domain\": {\"x\": [0.34, 0.64]}, \"labels\": [\"grazes\", \"no_answer\", \"other\", \"worked_graze\"], \"type\": \"pie\"}, {\"sort\": false, \"values\": [35, 75], \"domain\": {\"x\": [0.66, 0.98]}, \"labels\": [\"no_answer\", \"worked_graze\"], \"type\": \"pie\"}], {\"annotations\": [{\"y\": 1, \"text\": \"Female Head of Household\", \"font\": {\"size\": 14}, \"showarrow\": false, \"x\": 0.04}, {\"y\": 1, \"text\": \"Global\", \"font\": {\"size\": 14}, \"showarrow\": false, \"x\": 0.5}, {\"y\": 1, \"text\": \"Male Head of Household\", \"font\": {\"size\": 14}, \"showarrow\": false, \"x\": 0.94}], \"title\": \"House materials\"}, {\"linkText\": \"Export to plot.ly\", \"showLink\": true})});</script>"
      ],
      "text/vnd.plotly.v1+html": [
       "<div id=\"304cd7ff-0f72-4aac-8790-b64c16047c8b\" style=\"height: 525px; width: 100%;\" class=\"plotly-graph-div\"></div><script type=\"text/javascript\">require([\"plotly\"], function(Plotly) { window.PLOTLYENV=window.PLOTLYENV || {};window.PLOTLYENV.BASE_URL=\"https://plot.ly\";Plotly.newPlot(\"304cd7ff-0f72-4aac-8790-b64c16047c8b\", [{\"sort\": false, \"values\": [11, 41, 1, 220], \"domain\": {\"x\": [0, 0.32]}, \"labels\": [\"grazes\", \"no_answer\", \"other\", \"worked_graze\"], \"type\": \"pie\"}, {\"sort\": false, \"values\": [11, 76, 1, 295], \"domain\": {\"x\": [0.34, 0.64]}, \"labels\": [\"grazes\", \"no_answer\", \"other\", \"worked_graze\"], \"type\": \"pie\"}, {\"sort\": false, \"values\": [35, 75], \"domain\": {\"x\": [0.66, 0.98]}, \"labels\": [\"no_answer\", \"worked_graze\"], \"type\": \"pie\"}], {\"annotations\": [{\"y\": 1, \"text\": \"Female Head of Household\", \"font\": {\"size\": 14}, \"showarrow\": false, \"x\": 0.04}, {\"y\": 1, \"text\": \"Global\", \"font\": {\"size\": 14}, \"showarrow\": false, \"x\": 0.5}, {\"y\": 1, \"text\": \"Male Head of Household\", \"font\": {\"size\": 14}, \"showarrow\": false, \"x\": 0.94}], \"title\": \"House materials\"}, {\"linkText\": \"Export to plot.ly\", \"showLink\": true})});</script>"
      ]
     },
     "metadata": {},
     "output_type": "display_data"
    },
    {
     "data": {
      "application/vnd.plotly.v1+json": {
       "data": [
        {
         "labels": [
          "grazes",
          "no_answer",
          "other",
          "worked_graze"
         ],
         "sort": false,
         "type": "pie",
         "values": [
          11,
          77,
          1,
          295
         ]
        }
       ],
       "layout": {
        "title": "House materials"
       }
      },
      "text/html": [
       "<div id=\"ed88995f-bfdd-4151-bd48-f823a5ca54c3\" style=\"height: 525px; width: 100%;\" class=\"plotly-graph-div\"></div><script type=\"text/javascript\">require([\"plotly\"], function(Plotly) { window.PLOTLYENV=window.PLOTLYENV || {};window.PLOTLYENV.BASE_URL=\"https://plot.ly\";Plotly.newPlot(\"ed88995f-bfdd-4151-bd48-f823a5ca54c3\", [{\"sort\": false, \"values\": [11, 77, 1, 295], \"labels\": [\"grazes\", \"no_answer\", \"other\", \"worked_graze\"], \"type\": \"pie\"}], {\"title\": \"House materials\"}, {\"linkText\": \"Export to plot.ly\", \"showLink\": true})});</script>"
      ],
      "text/vnd.plotly.v1+html": [
       "<div id=\"ed88995f-bfdd-4151-bd48-f823a5ca54c3\" style=\"height: 525px; width: 100%;\" class=\"plotly-graph-div\"></div><script type=\"text/javascript\">require([\"plotly\"], function(Plotly) { window.PLOTLYENV=window.PLOTLYENV || {};window.PLOTLYENV.BASE_URL=\"https://plot.ly\";Plotly.newPlot(\"ed88995f-bfdd-4151-bd48-f823a5ca54c3\", [{\"sort\": false, \"values\": [11, 77, 1, 295], \"labels\": [\"grazes\", \"no_answer\", \"other\", \"worked_graze\"], \"type\": \"pie\"}], {\"title\": \"House materials\"}, {\"linkText\": \"Export to plot.ly\", \"showLink\": true})});</script>"
      ]
     },
     "metadata": {},
     "output_type": "display_data"
    }
   ],
   "source": [
    "#hey = reg_survey.groupby(['village', 'house_material']).size()\n",
    "\n",
    "#house_materials_df = pd.DataFrame(index=house_materials_index, columns=villages, data=[house_materials_general])\n",
    "#print house_materials_df\n",
    "\n",
    "create_graphs_HoHH(lambda x: pd.crosstab(x.village, x.house_material),\n",
    "                 lambda x: x.sum().values,\n",
    "                 lambda x: x.columns.values,\n",
    "                   lambda x: x.sum().sum(),\n",
    "                 \"House materials\")\n",
    "\n",
    "create_pie_graph(reg_survey.groupby('house_material').size(), \"House materials\")\n",
    "\n",
    "fig_house_materials2 = {\n",
    "    \"layout\": {\n",
    "        \"title\": {\n",
    "            \"font\": {\n",
    "                    \"size\": 20\n",
    "            },\n",
    "            \"text\": \"House materials\"\n",
    "        }\n",
    "    },\n",
    "    \"data\": []\n",
    "}\n",
    "\n",
    "house_materials_df = pd.crosstab(reg_survey.village, reg_survey.house_material)\n",
    "#print range(len(villages_dict['en'].keys())-1)\n",
    "#print house_materials_df\n",
    "#for i in range(len(villages_dict['en'].keys())):\n",
    "#    x = .2*(i%5)\n",
    "#    y = 0.35*(i/5)\n",
    "#    fig_house_materials2['data'].append(\n",
    "#        {\n",
    "#\n",
    "#            \"values\": house_materials_df.iloc[i-1].values,\n",
    "#            \"labels\": house_materials_df.columns.values,\n",
    "#             \"domain\": {\n",
    "#                \"x\": [x, x+.18],\n",
    "#                 \"y\": [y, y+.3]\n",
    "#            },\n",
    "#            \"type\": \"pie\",\n",
    "#            \"sort\": False\n",
    "#        })\n",
    "#\n",
    "#iplot(fig_house_materials2)"
   ]
  },
  {
   "cell_type": "markdown",
   "metadata": {},
   "source": [
    "###  Mean Household size"
   ]
  },
  {
   "cell_type": "code",
   "execution_count": 92,
   "metadata": {},
   "outputs": [
    {
     "name": "stdout",
     "output_type": "stream",
     "text": [
      "5.7890625 persons per household\n"
     ]
    }
   ],
   "source": [
    "mean_hh_size = reg_survey.family_total.mean()\n",
    "print str(mean_hh_size) + \" persons per household\""
   ]
  },
  {
   "cell_type": "markdown",
   "metadata": {},
   "source": [
    "## Climate change awareness"
   ]
  },
  {
   "cell_type": "code",
   "execution_count": 93,
   "metadata": {},
   "outputs": [
    {
     "data": {
      "application/vnd.plotly.v1+json": {
       "data": [
        {
         "domain": {
          "x": [
           0,
           0.32
          ]
         },
         "labels": [
          "no",
          "yes"
         ],
         "sort": false,
         "type": "pie",
         "values": [
          138,
          219
         ]
        },
        {
         "domain": {
          "x": [
           0.34,
           0.64
          ]
         },
         "labels": [
          "no",
          "yes"
         ],
         "sort": false,
         "type": "pie",
         "values": [
          143,
          238
         ]
        },
        {
         "domain": {
          "x": [
           0.66,
           0.98
          ]
         },
         "labels": [
          "no",
          "yes"
         ],
         "sort": false,
         "type": "pie",
         "values": [
          5,
          19
         ]
        }
       ],
       "layout": {
        "annotations": [
         {
          "font": {
           "size": 14
          },
          "showarrow": false,
          "text": "Female Respondent",
          "x": 0.07,
          "y": 1
         },
         {
          "font": {
           "size": 14
          },
          "showarrow": false,
          "text": "Global",
          "x": 0.5,
          "y": 1
         },
         {
          "font": {
           "size": 14
          },
          "showarrow": false,
          "text": "Male Respondent",
          "x": 0.91,
          "y": 1
         }
        ],
        "title": "Households declaring CC knowledge"
       }
      },
      "text/html": [
       "<div id=\"3bd1b0f9-2ada-4025-8ddd-392631584436\" style=\"height: 525px; width: 100%;\" class=\"plotly-graph-div\"></div><script type=\"text/javascript\">require([\"plotly\"], function(Plotly) { window.PLOTLYENV=window.PLOTLYENV || {};window.PLOTLYENV.BASE_URL=\"https://plot.ly\";Plotly.newPlot(\"3bd1b0f9-2ada-4025-8ddd-392631584436\", [{\"sort\": false, \"values\": [138, 219], \"domain\": {\"x\": [0, 0.32]}, \"labels\": [\"no\", \"yes\"], \"type\": \"pie\"}, {\"sort\": false, \"values\": [143, 238], \"domain\": {\"x\": [0.34, 0.64]}, \"labels\": [\"no\", \"yes\"], \"type\": \"pie\"}, {\"sort\": false, \"values\": [5, 19], \"domain\": {\"x\": [0.66, 0.98]}, \"labels\": [\"no\", \"yes\"], \"type\": \"pie\"}], {\"annotations\": [{\"y\": 1, \"text\": \"Female Respondent\", \"font\": {\"size\": 14}, \"showarrow\": false, \"x\": 0.07}, {\"y\": 1, \"text\": \"Global\", \"font\": {\"size\": 14}, \"showarrow\": false, \"x\": 0.5}, {\"y\": 1, \"text\": \"Male Respondent\", \"font\": {\"size\": 14}, \"showarrow\": false, \"x\": 0.91}], \"title\": \"Households declaring CC knowledge\"}, {\"linkText\": \"Export to plot.ly\", \"showLink\": true})});</script>"
      ],
      "text/vnd.plotly.v1+html": [
       "<div id=\"3bd1b0f9-2ada-4025-8ddd-392631584436\" style=\"height: 525px; width: 100%;\" class=\"plotly-graph-div\"></div><script type=\"text/javascript\">require([\"plotly\"], function(Plotly) { window.PLOTLYENV=window.PLOTLYENV || {};window.PLOTLYENV.BASE_URL=\"https://plot.ly\";Plotly.newPlot(\"3bd1b0f9-2ada-4025-8ddd-392631584436\", [{\"sort\": false, \"values\": [138, 219], \"domain\": {\"x\": [0, 0.32]}, \"labels\": [\"no\", \"yes\"], \"type\": \"pie\"}, {\"sort\": false, \"values\": [143, 238], \"domain\": {\"x\": [0.34, 0.64]}, \"labels\": [\"no\", \"yes\"], \"type\": \"pie\"}, {\"sort\": false, \"values\": [5, 19], \"domain\": {\"x\": [0.66, 0.98]}, \"labels\": [\"no\", \"yes\"], \"type\": \"pie\"}], {\"annotations\": [{\"y\": 1, \"text\": \"Female Respondent\", \"font\": {\"size\": 14}, \"showarrow\": false, \"x\": 0.07}, {\"y\": 1, \"text\": \"Global\", \"font\": {\"size\": 14}, \"showarrow\": false, \"x\": 0.5}, {\"y\": 1, \"text\": \"Male Respondent\", \"font\": {\"size\": 14}, \"showarrow\": false, \"x\": 0.91}], \"title\": \"Households declaring CC knowledge\"}, {\"linkText\": \"Export to plot.ly\", \"showLink\": true})});</script>"
      ]
     },
     "metadata": {},
     "output_type": "display_data"
    }
   ],
   "source": [
    "create_graphs_respondent(lambda x: x.groupby('cc_knowledge').size(),\n",
    "                         lambda x: x.values,\n",
    "                         lambda x: x.index.values,\n",
    "                         lambda x: x.sum(),\n",
    "                         \"Households declaring CC knowledge\")"
   ]
  },
  {
   "cell_type": "code",
   "execution_count": 94,
   "metadata": {},
   "outputs": [
    {
     "data": {
      "application/vnd.plotly.v1+json": {
       "data": [
        {
         "domain": {
          "x": [
           0,
           0.32
          ]
         },
         "labels": [
          "no",
          "no_answer",
          "yes"
         ],
         "sort": false,
         "type": "pie",
         "values": [
          254,
          32,
          67
         ]
        },
        {
         "domain": {
          "x": [
           0.34,
           0.64
          ]
         },
         "labels": [
          "no",
          "no_answer",
          "yes"
         ],
         "sort": false,
         "type": "pie",
         "values": [
          273,
          34,
          70
         ]
        },
        {
         "domain": {
          "x": [
           0.66,
           0.98
          ]
         },
         "labels": [
          "no",
          "no_answer",
          "yes"
         ],
         "sort": false,
         "type": "pie",
         "values": [
          19,
          2,
          3
         ]
        }
       ],
       "layout": {
        "annotations": [
         {
          "font": {
           "size": 14
          },
          "showarrow": false,
          "text": "Female Respondent",
          "x": 0.07,
          "y": 1
         },
         {
          "font": {
           "size": 14
          },
          "showarrow": false,
          "text": "Global",
          "x": 0.5,
          "y": 1
         },
         {
          "font": {
           "size": 14
          },
          "showarrow": false,
          "text": "Male Respondent",
          "x": 0.91,
          "y": 1
         }
        ],
        "title": "Households declaring taking actions against CC"
       }
      },
      "text/html": [
       "<div id=\"7e0d6dab-1a37-4ff3-ae5c-63d5bf15619b\" style=\"height: 525px; width: 100%;\" class=\"plotly-graph-div\"></div><script type=\"text/javascript\">require([\"plotly\"], function(Plotly) { window.PLOTLYENV=window.PLOTLYENV || {};window.PLOTLYENV.BASE_URL=\"https://plot.ly\";Plotly.newPlot(\"7e0d6dab-1a37-4ff3-ae5c-63d5bf15619b\", [{\"sort\": false, \"values\": [254, 32, 67], \"domain\": {\"x\": [0, 0.32]}, \"labels\": [\"no\", \"no_answer\", \"yes\"], \"type\": \"pie\"}, {\"sort\": false, \"values\": [273, 34, 70], \"domain\": {\"x\": [0.34, 0.64]}, \"labels\": [\"no\", \"no_answer\", \"yes\"], \"type\": \"pie\"}, {\"sort\": false, \"values\": [19, 2, 3], \"domain\": {\"x\": [0.66, 0.98]}, \"labels\": [\"no\", \"no_answer\", \"yes\"], \"type\": \"pie\"}], {\"annotations\": [{\"y\": 1, \"text\": \"Female Respondent\", \"font\": {\"size\": 14}, \"showarrow\": false, \"x\": 0.07}, {\"y\": 1, \"text\": \"Global\", \"font\": {\"size\": 14}, \"showarrow\": false, \"x\": 0.5}, {\"y\": 1, \"text\": \"Male Respondent\", \"font\": {\"size\": 14}, \"showarrow\": false, \"x\": 0.91}], \"title\": \"Households declaring taking actions against CC\"}, {\"linkText\": \"Export to plot.ly\", \"showLink\": true})});</script>"
      ],
      "text/vnd.plotly.v1+html": [
       "<div id=\"7e0d6dab-1a37-4ff3-ae5c-63d5bf15619b\" style=\"height: 525px; width: 100%;\" class=\"plotly-graph-div\"></div><script type=\"text/javascript\">require([\"plotly\"], function(Plotly) { window.PLOTLYENV=window.PLOTLYENV || {};window.PLOTLYENV.BASE_URL=\"https://plot.ly\";Plotly.newPlot(\"7e0d6dab-1a37-4ff3-ae5c-63d5bf15619b\", [{\"sort\": false, \"values\": [254, 32, 67], \"domain\": {\"x\": [0, 0.32]}, \"labels\": [\"no\", \"no_answer\", \"yes\"], \"type\": \"pie\"}, {\"sort\": false, \"values\": [273, 34, 70], \"domain\": {\"x\": [0.34, 0.64]}, \"labels\": [\"no\", \"no_answer\", \"yes\"], \"type\": \"pie\"}, {\"sort\": false, \"values\": [19, 2, 3], \"domain\": {\"x\": [0.66, 0.98]}, \"labels\": [\"no\", \"no_answer\", \"yes\"], \"type\": \"pie\"}], {\"annotations\": [{\"y\": 1, \"text\": \"Female Respondent\", \"font\": {\"size\": 14}, \"showarrow\": false, \"x\": 0.07}, {\"y\": 1, \"text\": \"Global\", \"font\": {\"size\": 14}, \"showarrow\": false, \"x\": 0.5}, {\"y\": 1, \"text\": \"Male Respondent\", \"font\": {\"size\": 14}, \"showarrow\": false, \"x\": 0.91}], \"title\": \"Households declaring taking actions against CC\"}, {\"linkText\": \"Export to plot.ly\", \"showLink\": true})});</script>"
      ]
     },
     "metadata": {},
     "output_type": "display_data"
    }
   ],
   "source": [
    "create_graphs_respondent(lambda x: x.groupby('taking_action_cc').size(),\n",
    "                         lambda x: x.values,\n",
    "                         lambda x: x.index.values,\n",
    "                         lambda x: x.sum(),\n",
    "                         \"Households declaring taking actions against CC\")"
   ]
  },
  {
   "cell_type": "markdown",
   "metadata": {},
   "source": [
    "#### EWS awareness"
   ]
  },
  {
   "cell_type": "code",
   "execution_count": 95,
   "metadata": {},
   "outputs": [
    {
     "data": {
      "application/vnd.plotly.v1+json": {
       "data": [
        {
         "domain": {
          "x": [
           0,
           0.32
          ]
         },
         "labels": [
          "no",
          "yes"
         ],
         "sort": false,
         "type": "pie",
         "values": [
          275,
          80
         ]
        },
        {
         "domain": {
          "x": [
           0.34,
           0.64
          ]
         },
         "labels": [
          "no",
          "yes"
         ],
         "sort": false,
         "type": "pie",
         "values": [
          291,
          88
         ]
        },
        {
         "domain": {
          "x": [
           0.66,
           0.98
          ]
         },
         "labels": [
          "no",
          "yes"
         ],
         "sort": false,
         "type": "pie",
         "values": [
          16,
          8
         ]
        }
       ],
       "layout": {
        "annotations": [
         {
          "font": {
           "size": 14
          },
          "showarrow": false,
          "text": "Female Respondent",
          "x": 0.07,
          "y": 1
         },
         {
          "font": {
           "size": 14
          },
          "showarrow": false,
          "text": "Global",
          "x": 0.5,
          "y": 1
         },
         {
          "font": {
           "size": 14
          },
          "showarrow": false,
          "text": "Male Respondent",
          "x": 0.91,
          "y": 1
         }
        ],
        "title": "Households declaring EWS knowledge"
       }
      },
      "text/html": [
       "<div id=\"1f397789-5c52-4d98-8289-2befa15a8469\" style=\"height: 525px; width: 100%;\" class=\"plotly-graph-div\"></div><script type=\"text/javascript\">require([\"plotly\"], function(Plotly) { window.PLOTLYENV=window.PLOTLYENV || {};window.PLOTLYENV.BASE_URL=\"https://plot.ly\";Plotly.newPlot(\"1f397789-5c52-4d98-8289-2befa15a8469\", [{\"sort\": false, \"values\": [275, 80], \"domain\": {\"x\": [0, 0.32]}, \"labels\": [\"no\", \"yes\"], \"type\": \"pie\"}, {\"sort\": false, \"values\": [291, 88], \"domain\": {\"x\": [0.34, 0.64]}, \"labels\": [\"no\", \"yes\"], \"type\": \"pie\"}, {\"sort\": false, \"values\": [16, 8], \"domain\": {\"x\": [0.66, 0.98]}, \"labels\": [\"no\", \"yes\"], \"type\": \"pie\"}], {\"annotations\": [{\"y\": 1, \"text\": \"Female Respondent\", \"font\": {\"size\": 14}, \"showarrow\": false, \"x\": 0.07}, {\"y\": 1, \"text\": \"Global\", \"font\": {\"size\": 14}, \"showarrow\": false, \"x\": 0.5}, {\"y\": 1, \"text\": \"Male Respondent\", \"font\": {\"size\": 14}, \"showarrow\": false, \"x\": 0.91}], \"title\": \"Households declaring EWS knowledge\"}, {\"linkText\": \"Export to plot.ly\", \"showLink\": true})});</script>"
      ],
      "text/vnd.plotly.v1+html": [
       "<div id=\"1f397789-5c52-4d98-8289-2befa15a8469\" style=\"height: 525px; width: 100%;\" class=\"plotly-graph-div\"></div><script type=\"text/javascript\">require([\"plotly\"], function(Plotly) { window.PLOTLYENV=window.PLOTLYENV || {};window.PLOTLYENV.BASE_URL=\"https://plot.ly\";Plotly.newPlot(\"1f397789-5c52-4d98-8289-2befa15a8469\", [{\"sort\": false, \"values\": [275, 80], \"domain\": {\"x\": [0, 0.32]}, \"labels\": [\"no\", \"yes\"], \"type\": \"pie\"}, {\"sort\": false, \"values\": [291, 88], \"domain\": {\"x\": [0.34, 0.64]}, \"labels\": [\"no\", \"yes\"], \"type\": \"pie\"}, {\"sort\": false, \"values\": [16, 8], \"domain\": {\"x\": [0.66, 0.98]}, \"labels\": [\"no\", \"yes\"], \"type\": \"pie\"}], {\"annotations\": [{\"y\": 1, \"text\": \"Female Respondent\", \"font\": {\"size\": 14}, \"showarrow\": false, \"x\": 0.07}, {\"y\": 1, \"text\": \"Global\", \"font\": {\"size\": 14}, \"showarrow\": false, \"x\": 0.5}, {\"y\": 1, \"text\": \"Male Respondent\", \"font\": {\"size\": 14}, \"showarrow\": false, \"x\": 0.91}], \"title\": \"Households declaring EWS knowledge\"}, {\"linkText\": \"Export to plot.ly\", \"showLink\": true})});</script>"
      ]
     },
     "metadata": {},
     "output_type": "display_data"
    }
   ],
   "source": [
    "create_graphs_respondent(lambda x: x.groupby('ews_knowledge').size(),\n",
    "                         lambda x: x.values,\n",
    "                         lambda x: x.index.values,\n",
    "                         lambda x: x.sum(),\n",
    "                         \"Households declaring EWS knowledge\")"
   ]
  },
  {
   "cell_type": "code",
   "execution_count": 96,
   "metadata": {},
   "outputs": [
    {
     "data": {
      "application/vnd.plotly.v1+json": {
       "data": [
        {
         "domain": {
          "x": [
           0,
           0.32
          ]
         },
         "labels": [
          "adaptation",
          "do_not_use",
          "no_answer",
          "not_react",
          "protection"
         ],
         "sort": false,
         "type": "pie",
         "values": [
          1,
          285,
          61,
          1,
          12
         ]
        },
        {
         "domain": {
          "x": [
           0.34,
           0.64
          ]
         },
         "labels": [
          "adaptation",
          "do_not_use",
          "no_answer",
          "not_react",
          "protection"
         ],
         "sort": false,
         "type": "pie",
         "values": [
          1,
          303,
          63,
          1,
          16
         ]
        },
        {
         "domain": {
          "x": [
           0.66,
           0.98
          ]
         },
         "labels": [
          "do_not_use",
          "no_answer",
          "protection"
         ],
         "sort": false,
         "type": "pie",
         "values": [
          18,
          2,
          4
         ]
        }
       ],
       "layout": {
        "annotations": [
         {
          "font": {
           "size": 14
          },
          "showarrow": false,
          "text": "Female Respondent",
          "x": 0.07,
          "y": 1
         },
         {
          "font": {
           "size": 14
          },
          "showarrow": false,
          "text": "Global",
          "x": 0.5,
          "y": 1
         },
         {
          "font": {
           "size": 14
          },
          "showarrow": false,
          "text": "Male Respondent",
          "x": 0.91,
          "y": 1
         }
        ],
        "title": "Households using EWS information"
       }
      },
      "text/html": [
       "<div id=\"d9fc13d6-8a8c-446c-9923-8a1d6e357a1e\" style=\"height: 525px; width: 100%;\" class=\"plotly-graph-div\"></div><script type=\"text/javascript\">require([\"plotly\"], function(Plotly) { window.PLOTLYENV=window.PLOTLYENV || {};window.PLOTLYENV.BASE_URL=\"https://plot.ly\";Plotly.newPlot(\"d9fc13d6-8a8c-446c-9923-8a1d6e357a1e\", [{\"sort\": false, \"values\": [1, 285, 61, 1, 12], \"domain\": {\"x\": [0, 0.32]}, \"labels\": [\"adaptation\", \"do_not_use\", \"no_answer\", \"not_react\", \"protection\"], \"type\": \"pie\"}, {\"sort\": false, \"values\": [1, 303, 63, 1, 16], \"domain\": {\"x\": [0.34, 0.64]}, \"labels\": [\"adaptation\", \"do_not_use\", \"no_answer\", \"not_react\", \"protection\"], \"type\": \"pie\"}, {\"sort\": false, \"values\": [18, 2, 4], \"domain\": {\"x\": [0.66, 0.98]}, \"labels\": [\"do_not_use\", \"no_answer\", \"protection\"], \"type\": \"pie\"}], {\"annotations\": [{\"y\": 1, \"text\": \"Female Respondent\", \"font\": {\"size\": 14}, \"showarrow\": false, \"x\": 0.07}, {\"y\": 1, \"text\": \"Global\", \"font\": {\"size\": 14}, \"showarrow\": false, \"x\": 0.5}, {\"y\": 1, \"text\": \"Male Respondent\", \"font\": {\"size\": 14}, \"showarrow\": false, \"x\": 0.91}], \"title\": \"Households using EWS information\"}, {\"linkText\": \"Export to plot.ly\", \"showLink\": true})});</script>"
      ],
      "text/vnd.plotly.v1+html": [
       "<div id=\"d9fc13d6-8a8c-446c-9923-8a1d6e357a1e\" style=\"height: 525px; width: 100%;\" class=\"plotly-graph-div\"></div><script type=\"text/javascript\">require([\"plotly\"], function(Plotly) { window.PLOTLYENV=window.PLOTLYENV || {};window.PLOTLYENV.BASE_URL=\"https://plot.ly\";Plotly.newPlot(\"d9fc13d6-8a8c-446c-9923-8a1d6e357a1e\", [{\"sort\": false, \"values\": [1, 285, 61, 1, 12], \"domain\": {\"x\": [0, 0.32]}, \"labels\": [\"adaptation\", \"do_not_use\", \"no_answer\", \"not_react\", \"protection\"], \"type\": \"pie\"}, {\"sort\": false, \"values\": [1, 303, 63, 1, 16], \"domain\": {\"x\": [0.34, 0.64]}, \"labels\": [\"adaptation\", \"do_not_use\", \"no_answer\", \"not_react\", \"protection\"], \"type\": \"pie\"}, {\"sort\": false, \"values\": [18, 2, 4], \"domain\": {\"x\": [0.66, 0.98]}, \"labels\": [\"do_not_use\", \"no_answer\", \"protection\"], \"type\": \"pie\"}], {\"annotations\": [{\"y\": 1, \"text\": \"Female Respondent\", \"font\": {\"size\": 14}, \"showarrow\": false, \"x\": 0.07}, {\"y\": 1, \"text\": \"Global\", \"font\": {\"size\": 14}, \"showarrow\": false, \"x\": 0.5}, {\"y\": 1, \"text\": \"Male Respondent\", \"font\": {\"size\": 14}, \"showarrow\": false, \"x\": 0.91}], \"title\": \"Households using EWS information\"}, {\"linkText\": \"Export to plot.ly\", \"showLink\": true})});</script>"
      ]
     },
     "metadata": {},
     "output_type": "display_data"
    }
   ],
   "source": [
    "create_graphs_respondent(lambda x: x.groupby('use_ews').size(),\n",
    "                         lambda x: x.values,\n",
    "                         lambda x: x.index.values,\n",
    "                         lambda x: x.sum(),\n",
    "                         \"Households using EWS information\")"
   ]
  },
  {
   "cell_type": "markdown",
   "metadata": {},
   "source": [
    "#### Renewable energy awareness"
   ]
  },
  {
   "cell_type": "code",
   "execution_count": 97,
   "metadata": {},
   "outputs": [
    {
     "data": {
      "application/vnd.plotly.v1+json": {
       "data": [
        {
         "domain": {
          "x": [
           0,
           0.32
          ]
         },
         "labels": [
          "no",
          "no_answer",
          "yes"
         ],
         "sort": false,
         "type": "pie",
         "values": [
          257,
          4,
          99
         ]
        },
        {
         "domain": {
          "x": [
           0.34,
           0.64
          ]
         },
         "labels": [
          "no",
          "no_answer",
          "yes"
         ],
         "sort": false,
         "type": "pie",
         "values": [
          274,
          5,
          105
         ]
        },
        {
         "domain": {
          "x": [
           0.66,
           0.98
          ]
         },
         "labels": [
          "no",
          "no_answer",
          "yes"
         ],
         "sort": false,
         "type": "pie",
         "values": [
          17,
          1,
          6
         ]
        }
       ],
       "layout": {
        "annotations": [
         {
          "font": {
           "size": 14
          },
          "showarrow": false,
          "text": "Female Respondent",
          "x": 0.07,
          "y": 1
         },
         {
          "font": {
           "size": 14
          },
          "showarrow": false,
          "text": "Global",
          "x": 0.5,
          "y": 1
         },
         {
          "font": {
           "size": 14
          },
          "showarrow": false,
          "text": "Male Respondent",
          "x": 0.91,
          "y": 1
         }
        ],
        "title": "Households declaring renewable energies knowledge"
       }
      },
      "text/html": [
       "<div id=\"69d845fb-c87d-4a42-88dd-9d24efc45d99\" style=\"height: 525px; width: 100%;\" class=\"plotly-graph-div\"></div><script type=\"text/javascript\">require([\"plotly\"], function(Plotly) { window.PLOTLYENV=window.PLOTLYENV || {};window.PLOTLYENV.BASE_URL=\"https://plot.ly\";Plotly.newPlot(\"69d845fb-c87d-4a42-88dd-9d24efc45d99\", [{\"sort\": false, \"values\": [257, 4, 99], \"domain\": {\"x\": [0, 0.32]}, \"labels\": [\"no\", \"no_answer\", \"yes\"], \"type\": \"pie\"}, {\"sort\": false, \"values\": [274, 5, 105], \"domain\": {\"x\": [0.34, 0.64]}, \"labels\": [\"no\", \"no_answer\", \"yes\"], \"type\": \"pie\"}, {\"sort\": false, \"values\": [17, 1, 6], \"domain\": {\"x\": [0.66, 0.98]}, \"labels\": [\"no\", \"no_answer\", \"yes\"], \"type\": \"pie\"}], {\"annotations\": [{\"y\": 1, \"text\": \"Female Respondent\", \"font\": {\"size\": 14}, \"showarrow\": false, \"x\": 0.07}, {\"y\": 1, \"text\": \"Global\", \"font\": {\"size\": 14}, \"showarrow\": false, \"x\": 0.5}, {\"y\": 1, \"text\": \"Male Respondent\", \"font\": {\"size\": 14}, \"showarrow\": false, \"x\": 0.91}], \"title\": \"Households declaring renewable energies knowledge\"}, {\"linkText\": \"Export to plot.ly\", \"showLink\": true})});</script>"
      ],
      "text/vnd.plotly.v1+html": [
       "<div id=\"69d845fb-c87d-4a42-88dd-9d24efc45d99\" style=\"height: 525px; width: 100%;\" class=\"plotly-graph-div\"></div><script type=\"text/javascript\">require([\"plotly\"], function(Plotly) { window.PLOTLYENV=window.PLOTLYENV || {};window.PLOTLYENV.BASE_URL=\"https://plot.ly\";Plotly.newPlot(\"69d845fb-c87d-4a42-88dd-9d24efc45d99\", [{\"sort\": false, \"values\": [257, 4, 99], \"domain\": {\"x\": [0, 0.32]}, \"labels\": [\"no\", \"no_answer\", \"yes\"], \"type\": \"pie\"}, {\"sort\": false, \"values\": [274, 5, 105], \"domain\": {\"x\": [0.34, 0.64]}, \"labels\": [\"no\", \"no_answer\", \"yes\"], \"type\": \"pie\"}, {\"sort\": false, \"values\": [17, 1, 6], \"domain\": {\"x\": [0.66, 0.98]}, \"labels\": [\"no\", \"no_answer\", \"yes\"], \"type\": \"pie\"}], {\"annotations\": [{\"y\": 1, \"text\": \"Female Respondent\", \"font\": {\"size\": 14}, \"showarrow\": false, \"x\": 0.07}, {\"y\": 1, \"text\": \"Global\", \"font\": {\"size\": 14}, \"showarrow\": false, \"x\": 0.5}, {\"y\": 1, \"text\": \"Male Respondent\", \"font\": {\"size\": 14}, \"showarrow\": false, \"x\": 0.91}], \"title\": \"Households declaring renewable energies knowledge\"}, {\"linkText\": \"Export to plot.ly\", \"showLink\": true})});</script>"
      ]
     },
     "metadata": {},
     "output_type": "display_data"
    }
   ],
   "source": [
    "create_graphs_respondent(lambda x: x.groupby('renewable_knowledge').size(),\n",
    "                         lambda x: x.values,\n",
    "                         lambda x: x.index.values,\n",
    "                         lambda x: x.sum(),\n",
    "                         \"Households declaring renewable energies knowledge\")"
   ]
  },
  {
   "cell_type": "code",
   "execution_count": 98,
   "metadata": {},
   "outputs": [
    {
     "data": {
      "application/vnd.plotly.v1+json": {
       "data": [
        {
         "domain": {
          "x": [
           0,
           0.32
          ]
         },
         "labels": [
          "electricity",
          "electricity get_water",
          "electricity get_water other",
          "get_water",
          "get_water other",
          "no",
          "other"
         ],
         "sort": false,
         "type": "pie",
         "values": [
          1,
          3,
          1,
          8,
          3,
          341,
          3
         ]
        },
        {
         "domain": {
          "x": [
           0.34,
           0.64
          ]
         },
         "labels": [
          "electricity",
          "electricity get_water",
          "electricity get_water other",
          "get_water",
          "get_water other",
          "no",
          "other"
         ],
         "sort": false,
         "type": "pie",
         "values": [
          1,
          3,
          2,
          8,
          3,
          363,
          4
         ]
        },
        {
         "domain": {
          "x": [
           0.66,
           0.98
          ]
         },
         "labels": [
          "electricity get_water other",
          "no",
          "other"
         ],
         "sort": false,
         "type": "pie",
         "values": [
          1,
          22,
          1
         ]
        }
       ],
       "layout": {
        "annotations": [
         {
          "font": {
           "size": 14
          },
          "showarrow": false,
          "text": "Female Respondent",
          "x": 0.07,
          "y": 1
         },
         {
          "font": {
           "size": 14
          },
          "showarrow": false,
          "text": "Global",
          "x": 0.5,
          "y": 1
         },
         {
          "font": {
           "size": 14
          },
          "showarrow": false,
          "text": "Male Respondent",
          "x": 0.91,
          "y": 1
         }
        ],
        "title": "Households using solar energies"
       }
      },
      "text/html": [
       "<div id=\"31bad1b0-fbfe-421f-ad13-43fbabc8f253\" style=\"height: 525px; width: 100%;\" class=\"plotly-graph-div\"></div><script type=\"text/javascript\">require([\"plotly\"], function(Plotly) { window.PLOTLYENV=window.PLOTLYENV || {};window.PLOTLYENV.BASE_URL=\"https://plot.ly\";Plotly.newPlot(\"31bad1b0-fbfe-421f-ad13-43fbabc8f253\", [{\"sort\": false, \"values\": [1, 3, 1, 8, 3, 341, 3], \"domain\": {\"x\": [0, 0.32]}, \"labels\": [\"electricity\", \"electricity get_water\", \"electricity get_water other\", \"get_water\", \"get_water other\", \"no\", \"other\"], \"type\": \"pie\"}, {\"sort\": false, \"values\": [1, 3, 2, 8, 3, 363, 4], \"domain\": {\"x\": [0.34, 0.64]}, \"labels\": [\"electricity\", \"electricity get_water\", \"electricity get_water other\", \"get_water\", \"get_water other\", \"no\", \"other\"], \"type\": \"pie\"}, {\"sort\": false, \"values\": [1, 22, 1], \"domain\": {\"x\": [0.66, 0.98]}, \"labels\": [\"electricity get_water other\", \"no\", \"other\"], \"type\": \"pie\"}], {\"annotations\": [{\"y\": 1, \"text\": \"Female Respondent\", \"font\": {\"size\": 14}, \"showarrow\": false, \"x\": 0.07}, {\"y\": 1, \"text\": \"Global\", \"font\": {\"size\": 14}, \"showarrow\": false, \"x\": 0.5}, {\"y\": 1, \"text\": \"Male Respondent\", \"font\": {\"size\": 14}, \"showarrow\": false, \"x\": 0.91}], \"title\": \"Households using solar energies\"}, {\"linkText\": \"Export to plot.ly\", \"showLink\": true})});</script>"
      ],
      "text/vnd.plotly.v1+html": [
       "<div id=\"31bad1b0-fbfe-421f-ad13-43fbabc8f253\" style=\"height: 525px; width: 100%;\" class=\"plotly-graph-div\"></div><script type=\"text/javascript\">require([\"plotly\"], function(Plotly) { window.PLOTLYENV=window.PLOTLYENV || {};window.PLOTLYENV.BASE_URL=\"https://plot.ly\";Plotly.newPlot(\"31bad1b0-fbfe-421f-ad13-43fbabc8f253\", [{\"sort\": false, \"values\": [1, 3, 1, 8, 3, 341, 3], \"domain\": {\"x\": [0, 0.32]}, \"labels\": [\"electricity\", \"electricity get_water\", \"electricity get_water other\", \"get_water\", \"get_water other\", \"no\", \"other\"], \"type\": \"pie\"}, {\"sort\": false, \"values\": [1, 3, 2, 8, 3, 363, 4], \"domain\": {\"x\": [0.34, 0.64]}, \"labels\": [\"electricity\", \"electricity get_water\", \"electricity get_water other\", \"get_water\", \"get_water other\", \"no\", \"other\"], \"type\": \"pie\"}, {\"sort\": false, \"values\": [1, 22, 1], \"domain\": {\"x\": [0.66, 0.98]}, \"labels\": [\"electricity get_water other\", \"no\", \"other\"], \"type\": \"pie\"}], {\"annotations\": [{\"y\": 1, \"text\": \"Female Respondent\", \"font\": {\"size\": 14}, \"showarrow\": false, \"x\": 0.07}, {\"y\": 1, \"text\": \"Global\", \"font\": {\"size\": 14}, \"showarrow\": false, \"x\": 0.5}, {\"y\": 1, \"text\": \"Male Respondent\", \"font\": {\"size\": 14}, \"showarrow\": false, \"x\": 0.91}], \"title\": \"Households using solar energies\"}, {\"linkText\": \"Export to plot.ly\", \"showLink\": true})});</script>"
      ]
     },
     "metadata": {},
     "output_type": "display_data"
    }
   ],
   "source": [
    "create_graphs_respondent(lambda x: x.groupby('solar_energy').size(),\n",
    "                         lambda x: x.values,\n",
    "                         lambda x: x.index.values,\n",
    "                         lambda x: x.sum(),\n",
    "                         \"Households using solar energies\")"
   ]
  },
  {
   "cell_type": "markdown",
   "metadata": {},
   "source": [
    "#### Cooking facilities"
   ]
  },
  {
   "cell_type": "code",
   "execution_count": 99,
   "metadata": {},
   "outputs": [
    {
     "data": {
      "application/vnd.plotly.v1+json": {
       "data": [
        {
         "marker": {
          "color": "rgb(225,225,258)",
          "line": {
           "color": "rgb(0,0,192)",
           "width": 1.5
          }
         },
         "name": "Female Head of Household",
         "type": "bar",
         "x": [
          "Wood",
          "Iron_stove",
          "Other",
          "No_answer",
          "Charcoal",
          "Improved"
         ],
         "y": [
          49.479166666666664,
          21.09375,
          14.583333333333334,
          0.78125,
          0.5208333333333334,
          0.2604166666666667
         ]
        },
        {
         "marker": {
          "color": "rgb(258,225,225)",
          "line": {
           "color": "rgb(192,0,0)",
           "width": 1.5
          }
         },
         "name": "Male Head of Household",
         "type": "bar",
         "x": [
          "Wood",
          "Iron_stove",
          "No_answer",
          "Other"
         ],
         "y": [
          16.145833333333332,
          10.677083333333334,
          2.0833333333333335,
          1.0416666666666667
         ]
        }
       ],
       "layout": {
        "annotations": [],
        "barmode": "stack",
        "title": "Cooking techniques",
        "width": 700,
        "xaxis": {
         "tickangle": -45
        }
       }
      },
      "text/html": [
       "<div id=\"d4cfeb3c-ea96-4b9e-8b27-4b44e28d1b15\" style=\"height: 525px; width: 700px;\" class=\"plotly-graph-div\"></div><script type=\"text/javascript\">require([\"plotly\"], function(Plotly) { window.PLOTLYENV=window.PLOTLYENV || {};window.PLOTLYENV.BASE_URL=\"https://plot.ly\";Plotly.newPlot(\"d4cfeb3c-ea96-4b9e-8b27-4b44e28d1b15\", [{\"y\": [49.479166666666664, 21.09375, 14.583333333333334, 0.78125, 0.5208333333333334, 0.2604166666666667], \"x\": [\"Wood\", \"Iron_stove\", \"Other\", \"No_answer\", \"Charcoal\", \"Improved\"], \"type\": \"bar\", \"name\": \"Female Head of Household\", \"marker\": {\"color\": \"rgb(225,225,258)\", \"line\": {\"color\": \"rgb(0,0,192)\", \"width\": 1.5}}}, {\"y\": [16.145833333333332, 10.677083333333334, 2.0833333333333335, 1.0416666666666667], \"x\": [\"Wood\", \"Iron_stove\", \"No_answer\", \"Other\"], \"type\": \"bar\", \"name\": \"Male Head of Household\", \"marker\": {\"color\": \"rgb(258,225,225)\", \"line\": {\"color\": \"rgb(192,0,0)\", \"width\": 1.5}}}], {\"barmode\": \"stack\", \"title\": \"Cooking techniques\", \"annotations\": [], \"xaxis\": {\"tickangle\": -45}, \"width\": 700}, {\"linkText\": \"Export to plot.ly\", \"showLink\": true})});</script>"
      ],
      "text/vnd.plotly.v1+html": [
       "<div id=\"d4cfeb3c-ea96-4b9e-8b27-4b44e28d1b15\" style=\"height: 525px; width: 700px;\" class=\"plotly-graph-div\"></div><script type=\"text/javascript\">require([\"plotly\"], function(Plotly) { window.PLOTLYENV=window.PLOTLYENV || {};window.PLOTLYENV.BASE_URL=\"https://plot.ly\";Plotly.newPlot(\"d4cfeb3c-ea96-4b9e-8b27-4b44e28d1b15\", [{\"y\": [49.479166666666664, 21.09375, 14.583333333333334, 0.78125, 0.5208333333333334, 0.2604166666666667], \"x\": [\"Wood\", \"Iron_stove\", \"Other\", \"No_answer\", \"Charcoal\", \"Improved\"], \"type\": \"bar\", \"name\": \"Female Head of Household\", \"marker\": {\"color\": \"rgb(225,225,258)\", \"line\": {\"color\": \"rgb(0,0,192)\", \"width\": 1.5}}}, {\"y\": [16.145833333333332, 10.677083333333334, 2.0833333333333335, 1.0416666666666667], \"x\": [\"Wood\", \"Iron_stove\", \"No_answer\", \"Other\"], \"type\": \"bar\", \"name\": \"Male Head of Household\", \"marker\": {\"color\": \"rgb(258,225,225)\", \"line\": {\"color\": \"rgb(192,0,0)\", \"width\": 1.5}}}], {\"barmode\": \"stack\", \"title\": \"Cooking techniques\", \"annotations\": [], \"xaxis\": {\"tickangle\": -45}, \"width\": 700}, {\"linkText\": \"Export to plot.ly\", \"showLink\": true})});</script>"
      ]
     },
     "metadata": {},
     "output_type": "display_data"
    }
   ],
   "source": [
    "kitchen_type = reg_survey.groupby('kitchen_type').size()\n",
    "kitchen_type_male = get_ocurrences(reg_survey_maleHoHH, 'kitchen_type').sort_values(ascending = False)\n",
    "kitchen_type_female = get_ocurrences(reg_survey_femHoHH, 'kitchen_type').sort_values(ascending = False)\n",
    "kitchen = pd.crosstab(reg_survey.village, reg_survey.kitchen_type)\n",
    "#display(kitchen)\n",
    "\n",
    "kitchen_perc_male = 100*kitchen_type_male/total_surveys\n",
    "kitchen_perc_female = 100*kitchen_type_female/total_surveys\n",
    "kitchen_perc = 100*kitchen_type/total_surveys\n",
    "kitchen_perc = kitchen_perc.round(2)\n",
    "#print kitchen_perc\n",
    "\n",
    "create_stacked_bars_graph((reg_survey_femHoHH, reg_survey_maleHoHH),\n",
    "                              lambda x: 100 * get_ocurrences(x, 'kitchen_type').sort_values(ascending = False) / total_surveys,\n",
    "                              lambda x: map(lambda y: y.capitalize(), x.index.values),\n",
    "                              lambda x: x.values,\n",
    "                              \"Cooking techniques\",\n",
    "                              \"Female Head of Household\",\n",
    "                              \"Male Head of Household\")"
   ]
  },
  {
   "cell_type": "markdown",
   "metadata": {},
   "source": [
    "## Livelihoods\n",
    "\n",
    "Number of households practicing each livelihood"
   ]
  },
  {
   "cell_type": "code",
   "execution_count": 100,
   "metadata": {},
   "outputs": [
    {
     "name": "stdout",
     "output_type": "stream",
     "text": [
      "\n",
      "livestock      234\n",
      "forestry       130\n",
      "other           43\n",
      "handicrafts     30\n",
      "labour          19\n",
      "agriculture     19\n",
      "dtype: int64\n"
     ]
    }
   ],
   "source": [
    "#reg_survey.loc[reg_survey['src_incomes'].str.contains(\"agriculture\"), 'agriculture'] = 'yes'\n",
    "#reg_survey.loc[reg_survey['src_incomes'].str.contains(\"livestock\"), 'livestock'] = 'yes'\n",
    "#reg_survey.loc[reg_survey['src_incomes'].str.contains(\"labour\"), 'labour'] = 'yes'\n",
    "#importance = reg_survey.groupby(['agriculture', 'livestock', 'labour'])['perc_incomes_agri'].agg('mean')\n",
    "\n",
    "#agric = reg_survey[reg_survey['src_incomes'].str.contains(\"agriculture\")]['deviceid'].count()\n",
    "\n",
    "src_incomes_sums = reg_survey.groupby('src_incomes').size()\n",
    "lh_values = get_ocurrences(reg_survey, 'src_incomes')\n",
    "lh_types = pd.DataFrame({\"Households\": lh_values})\n",
    "#lh_types[\"Percentage\"] = lh_types.Households.map(lambda x: str(round(100*x/total_surveys))) + \" %\"\n",
    "\n",
    "print \"\"\n",
    "print lh_values.sort_values(ascending = False)"
   ]
  },
  {
   "cell_type": "code",
   "execution_count": 101,
   "metadata": {
    "scrolled": false
   },
   "outputs": [
    {
     "data": {
      "application/vnd.plotly.v1+json": {
       "data": [
        {
         "marker": {
          "color": "rgb(225,225,258)",
          "line": {
           "color": "rgb(0,0,192)",
           "width": 1.5
          }
         },
         "name": "Female Head of Household",
         "type": "bar",
         "x": [
          "Agriculture",
          "Forestry",
          "Livestock",
          "Handicrafts",
          "Other",
          "Labour"
         ],
         "y": [
          2.6041666666666665,
          23.697916666666668,
          42.1875,
          3.6458333333333335,
          7.8125,
          4.427083333333333
         ]
        },
        {
         "marker": {
          "color": "rgb(258,225,225)",
          "line": {
           "color": "rgb(192,0,0)",
           "width": 1.5
          }
         },
         "name": "Male Head of Household",
         "type": "bar",
         "x": [
          "Agriculture",
          "Livestock",
          "Other",
          "Forestry",
          "Handicrafts",
          "Labour"
         ],
         "y": [
          2.34375,
          18.75,
          3.3854166666666665,
          10.15625,
          4.166666666666667,
          0.5208333333333334
         ]
        }
       ],
       "layout": {
        "annotations": [],
        "barmode": "stack",
        "title": "Livelihoods Strategies",
        "width": 700,
        "xaxis": {
         "tickangle": -45
        }
       }
      },
      "text/html": [
       "<div id=\"0f22e227-26d0-4178-a65d-1bf838052778\" style=\"height: 525px; width: 700px;\" class=\"plotly-graph-div\"></div><script type=\"text/javascript\">require([\"plotly\"], function(Plotly) { window.PLOTLYENV=window.PLOTLYENV || {};window.PLOTLYENV.BASE_URL=\"https://plot.ly\";Plotly.newPlot(\"0f22e227-26d0-4178-a65d-1bf838052778\", [{\"y\": [2.6041666666666665, 23.697916666666668, 42.1875, 3.6458333333333335, 7.8125, 4.427083333333333], \"x\": [\"Agriculture\", \"Forestry\", \"Livestock\", \"Handicrafts\", \"Other\", \"Labour\"], \"type\": \"bar\", \"name\": \"Female Head of Household\", \"marker\": {\"color\": \"rgb(225,225,258)\", \"line\": {\"color\": \"rgb(0,0,192)\", \"width\": 1.5}}}, {\"y\": [2.34375, 18.75, 3.3854166666666665, 10.15625, 4.166666666666667, 0.5208333333333334], \"x\": [\"Agriculture\", \"Livestock\", \"Other\", \"Forestry\", \"Handicrafts\", \"Labour\"], \"type\": \"bar\", \"name\": \"Male Head of Household\", \"marker\": {\"color\": \"rgb(258,225,225)\", \"line\": {\"color\": \"rgb(192,0,0)\", \"width\": 1.5}}}], {\"barmode\": \"stack\", \"title\": \"Livelihoods Strategies\", \"annotations\": [], \"xaxis\": {\"tickangle\": -45}, \"width\": 700}, {\"linkText\": \"Export to plot.ly\", \"showLink\": true})});</script>"
      ],
      "text/vnd.plotly.v1+html": [
       "<div id=\"0f22e227-26d0-4178-a65d-1bf838052778\" style=\"height: 525px; width: 700px;\" class=\"plotly-graph-div\"></div><script type=\"text/javascript\">require([\"plotly\"], function(Plotly) { window.PLOTLYENV=window.PLOTLYENV || {};window.PLOTLYENV.BASE_URL=\"https://plot.ly\";Plotly.newPlot(\"0f22e227-26d0-4178-a65d-1bf838052778\", [{\"y\": [2.6041666666666665, 23.697916666666668, 42.1875, 3.6458333333333335, 7.8125, 4.427083333333333], \"x\": [\"Agriculture\", \"Forestry\", \"Livestock\", \"Handicrafts\", \"Other\", \"Labour\"], \"type\": \"bar\", \"name\": \"Female Head of Household\", \"marker\": {\"color\": \"rgb(225,225,258)\", \"line\": {\"color\": \"rgb(0,0,192)\", \"width\": 1.5}}}, {\"y\": [2.34375, 18.75, 3.3854166666666665, 10.15625, 4.166666666666667, 0.5208333333333334], \"x\": [\"Agriculture\", \"Livestock\", \"Other\", \"Forestry\", \"Handicrafts\", \"Labour\"], \"type\": \"bar\", \"name\": \"Male Head of Household\", \"marker\": {\"color\": \"rgb(258,225,225)\", \"line\": {\"color\": \"rgb(192,0,0)\", \"width\": 1.5}}}], {\"barmode\": \"stack\", \"title\": \"Livelihoods Strategies\", \"annotations\": [], \"xaxis\": {\"tickangle\": -45}, \"width\": 700}, {\"linkText\": \"Export to plot.ly\", \"showLink\": true})});</script>"
      ]
     },
     "metadata": {},
     "output_type": "display_data"
    },
    {
     "data": {
      "application/vnd.plotly.v1+json": {
       "data": [
        {
         "marker": {
          "color": "rgb(225,225,258)",
          "line": {
           "color": "rgb(0,0,192)",
           "width": 1.5
          }
         },
         "name": "Female respondent",
         "type": "bar",
         "x": [
          "Agriculture",
          "Forestry",
          "Livestock",
          "Other",
          "Handicrafts",
          "Labour"
         ],
         "y": [
          3.6458333333333335,
          32.8125,
          55.989583333333336,
          10.15625,
          7.8125,
          4.6875
         ]
        },
        {
         "marker": {
          "color": "rgb(258,225,225)",
          "line": {
           "color": "rgb(192,0,0)",
           "width": 1.5
          }
         },
         "name": "Male respondent",
         "type": "bar",
         "x": [
          "Agriculture",
          "Livestock",
          "Other",
          "Forestry",
          "Labour"
         ],
         "y": [
          1.3020833333333333,
          4.947916666666667,
          1.0416666666666667,
          1.0416666666666667,
          0.2604166666666667
         ]
        }
       ],
       "layout": {
        "annotations": [],
        "barmode": "stack",
        "title": "Livelihoods Strategies",
        "width": 700,
        "xaxis": {
         "tickangle": -45
        }
       }
      },
      "text/html": [
       "<div id=\"ab73ccc5-2752-47f1-af0e-6301e76e5854\" style=\"height: 525px; width: 700px;\" class=\"plotly-graph-div\"></div><script type=\"text/javascript\">require([\"plotly\"], function(Plotly) { window.PLOTLYENV=window.PLOTLYENV || {};window.PLOTLYENV.BASE_URL=\"https://plot.ly\";Plotly.newPlot(\"ab73ccc5-2752-47f1-af0e-6301e76e5854\", [{\"y\": [3.6458333333333335, 32.8125, 55.989583333333336, 10.15625, 7.8125, 4.6875], \"x\": [\"Agriculture\", \"Forestry\", \"Livestock\", \"Other\", \"Handicrafts\", \"Labour\"], \"type\": \"bar\", \"name\": \"Female respondent\", \"marker\": {\"color\": \"rgb(225,225,258)\", \"line\": {\"color\": \"rgb(0,0,192)\", \"width\": 1.5}}}, {\"y\": [1.3020833333333333, 4.947916666666667, 1.0416666666666667, 1.0416666666666667, 0.2604166666666667], \"x\": [\"Agriculture\", \"Livestock\", \"Other\", \"Forestry\", \"Labour\"], \"type\": \"bar\", \"name\": \"Male respondent\", \"marker\": {\"color\": \"rgb(258,225,225)\", \"line\": {\"color\": \"rgb(192,0,0)\", \"width\": 1.5}}}], {\"barmode\": \"stack\", \"title\": \"Livelihoods Strategies\", \"annotations\": [], \"xaxis\": {\"tickangle\": -45}, \"width\": 700}, {\"linkText\": \"Export to plot.ly\", \"showLink\": true})});</script>"
      ],
      "text/vnd.plotly.v1+html": [
       "<div id=\"ab73ccc5-2752-47f1-af0e-6301e76e5854\" style=\"height: 525px; width: 700px;\" class=\"plotly-graph-div\"></div><script type=\"text/javascript\">require([\"plotly\"], function(Plotly) { window.PLOTLYENV=window.PLOTLYENV || {};window.PLOTLYENV.BASE_URL=\"https://plot.ly\";Plotly.newPlot(\"ab73ccc5-2752-47f1-af0e-6301e76e5854\", [{\"y\": [3.6458333333333335, 32.8125, 55.989583333333336, 10.15625, 7.8125, 4.6875], \"x\": [\"Agriculture\", \"Forestry\", \"Livestock\", \"Other\", \"Handicrafts\", \"Labour\"], \"type\": \"bar\", \"name\": \"Female respondent\", \"marker\": {\"color\": \"rgb(225,225,258)\", \"line\": {\"color\": \"rgb(0,0,192)\", \"width\": 1.5}}}, {\"y\": [1.3020833333333333, 4.947916666666667, 1.0416666666666667, 1.0416666666666667, 0.2604166666666667], \"x\": [\"Agriculture\", \"Livestock\", \"Other\", \"Forestry\", \"Labour\"], \"type\": \"bar\", \"name\": \"Male respondent\", \"marker\": {\"color\": \"rgb(258,225,225)\", \"line\": {\"color\": \"rgb(192,0,0)\", \"width\": 1.5}}}], {\"barmode\": \"stack\", \"title\": \"Livelihoods Strategies\", \"annotations\": [], \"xaxis\": {\"tickangle\": -45}, \"width\": 700}, {\"linkText\": \"Export to plot.ly\", \"showLink\": true})});</script>"
      ]
     },
     "metadata": {},
     "output_type": "display_data"
    },
    {
     "data": {
      "application/vnd.plotly.v1+json": {
       "data": [
        {
         "marker": {
          "color": "rgb(258,225,225)",
          "line": {
           "color": "rgb(192,0,0)",
           "width": 1.5
          }
         },
         "name": "Livelihoods Strategies",
         "type": "bar",
         "x": [
          "Agriculture",
          "Forestry",
          "Livestock",
          "Other",
          "Handicrafts",
          "Labour"
         ],
         "y": [
          4.95,
          33.85,
          60.94,
          11.2,
          7.81,
          4.95
         ]
        }
       ],
       "layout": {
        "annotations": [
         {
          "font": {
           "color": "rgba(100, 0, 0, 1)",
           "family": "Arial",
           "size": 14
          },
          "showarrow": false,
          "text": "4.95%",
          "x": "Agriculture",
          "y": 6.45
         },
         {
          "font": {
           "color": "rgba(100, 0, 0, 1)",
           "family": "Arial",
           "size": 14
          },
          "showarrow": false,
          "text": "33.85%",
          "x": "Forestry",
          "y": 35.35
         },
         {
          "font": {
           "color": "rgba(100, 0, 0, 1)",
           "family": "Arial",
           "size": 14
          },
          "showarrow": false,
          "text": "60.94%",
          "x": "Livestock",
          "y": 62.44
         },
         {
          "font": {
           "color": "rgba(100, 0, 0, 1)",
           "family": "Arial",
           "size": 14
          },
          "showarrow": false,
          "text": "11.2%",
          "x": "Other",
          "y": 12.7
         },
         {
          "font": {
           "color": "rgba(100, 0, 0, 1)",
           "family": "Arial",
           "size": 14
          },
          "showarrow": false,
          "text": "7.81%",
          "x": "Handicrafts",
          "y": 9.309999999999999
         },
         {
          "font": {
           "color": "rgba(100, 0, 0, 1)",
           "family": "Arial",
           "size": 14
          },
          "showarrow": false,
          "text": "4.95%",
          "x": "Labour",
          "y": 6.45
         }
        ],
        "title": "Livelihoods Strategies",
        "width": 700,
        "xaxis": {
         "tickangle": -45
        }
       }
      },
      "text/html": [
       "<div id=\"86a194d3-0f7e-437d-9526-4ca2ffa482db\" style=\"height: 525px; width: 700px;\" class=\"plotly-graph-div\"></div><script type=\"text/javascript\">require([\"plotly\"], function(Plotly) { window.PLOTLYENV=window.PLOTLYENV || {};window.PLOTLYENV.BASE_URL=\"https://plot.ly\";Plotly.newPlot(\"86a194d3-0f7e-437d-9526-4ca2ffa482db\", [{\"y\": [4.95, 33.85, 60.94, 11.2, 7.81, 4.95], \"x\": [\"Agriculture\", \"Forestry\", \"Livestock\", \"Other\", \"Handicrafts\", \"Labour\"], \"type\": \"bar\", \"name\": \"Livelihoods Strategies\", \"marker\": {\"color\": \"rgb(258,225,225)\", \"line\": {\"color\": \"rgb(192,0,0)\", \"width\": 1.5}}}], {\"width\": 700, \"annotations\": [{\"y\": 6.45, \"x\": \"Agriculture\", \"font\": {\"color\": \"rgba(100, 0, 0, 1)\", \"family\": \"Arial\", \"size\": 14}, \"text\": \"4.95%\", \"showarrow\": false}, {\"y\": 35.35, \"x\": \"Forestry\", \"font\": {\"color\": \"rgba(100, 0, 0, 1)\", \"family\": \"Arial\", \"size\": 14}, \"text\": \"33.85%\", \"showarrow\": false}, {\"y\": 62.44, \"x\": \"Livestock\", \"font\": {\"color\": \"rgba(100, 0, 0, 1)\", \"family\": \"Arial\", \"size\": 14}, \"text\": \"60.94%\", \"showarrow\": false}, {\"y\": 12.7, \"x\": \"Other\", \"font\": {\"color\": \"rgba(100, 0, 0, 1)\", \"family\": \"Arial\", \"size\": 14}, \"text\": \"11.2%\", \"showarrow\": false}, {\"y\": 9.309999999999999, \"x\": \"Handicrafts\", \"font\": {\"color\": \"rgba(100, 0, 0, 1)\", \"family\": \"Arial\", \"size\": 14}, \"text\": \"7.81%\", \"showarrow\": false}, {\"y\": 6.45, \"x\": \"Labour\", \"font\": {\"color\": \"rgba(100, 0, 0, 1)\", \"family\": \"Arial\", \"size\": 14}, \"text\": \"4.95%\", \"showarrow\": false}], \"xaxis\": {\"tickangle\": -45}, \"title\": \"Livelihoods Strategies\"}, {\"linkText\": \"Export to plot.ly\", \"showLink\": true})});</script>"
      ],
      "text/vnd.plotly.v1+html": [
       "<div id=\"86a194d3-0f7e-437d-9526-4ca2ffa482db\" style=\"height: 525px; width: 700px;\" class=\"plotly-graph-div\"></div><script type=\"text/javascript\">require([\"plotly\"], function(Plotly) { window.PLOTLYENV=window.PLOTLYENV || {};window.PLOTLYENV.BASE_URL=\"https://plot.ly\";Plotly.newPlot(\"86a194d3-0f7e-437d-9526-4ca2ffa482db\", [{\"y\": [4.95, 33.85, 60.94, 11.2, 7.81, 4.95], \"x\": [\"Agriculture\", \"Forestry\", \"Livestock\", \"Other\", \"Handicrafts\", \"Labour\"], \"type\": \"bar\", \"name\": \"Livelihoods Strategies\", \"marker\": {\"color\": \"rgb(258,225,225)\", \"line\": {\"color\": \"rgb(192,0,0)\", \"width\": 1.5}}}], {\"width\": 700, \"annotations\": [{\"y\": 6.45, \"x\": \"Agriculture\", \"font\": {\"color\": \"rgba(100, 0, 0, 1)\", \"family\": \"Arial\", \"size\": 14}, \"text\": \"4.95%\", \"showarrow\": false}, {\"y\": 35.35, \"x\": \"Forestry\", \"font\": {\"color\": \"rgba(100, 0, 0, 1)\", \"family\": \"Arial\", \"size\": 14}, \"text\": \"33.85%\", \"showarrow\": false}, {\"y\": 62.44, \"x\": \"Livestock\", \"font\": {\"color\": \"rgba(100, 0, 0, 1)\", \"family\": \"Arial\", \"size\": 14}, \"text\": \"60.94%\", \"showarrow\": false}, {\"y\": 12.7, \"x\": \"Other\", \"font\": {\"color\": \"rgba(100, 0, 0, 1)\", \"family\": \"Arial\", \"size\": 14}, \"text\": \"11.2%\", \"showarrow\": false}, {\"y\": 9.309999999999999, \"x\": \"Handicrafts\", \"font\": {\"color\": \"rgba(100, 0, 0, 1)\", \"family\": \"Arial\", \"size\": 14}, \"text\": \"7.81%\", \"showarrow\": false}, {\"y\": 6.45, \"x\": \"Labour\", \"font\": {\"color\": \"rgba(100, 0, 0, 1)\", \"family\": \"Arial\", \"size\": 14}, \"text\": \"4.95%\", \"showarrow\": false}], \"xaxis\": {\"tickangle\": -45}, \"title\": \"Livelihoods Strategies\"}, {\"linkText\": \"Export to plot.ly\", \"showLink\": true})});</script>"
      ]
     },
     "metadata": {},
     "output_type": "display_data"
    }
   ],
   "source": [
    "lh_perc = 100*lh_values/total_surveys\n",
    "lh_perc = lh_perc.round(2)\n",
    "\n",
    "create_stacked_bars_graph((reg_survey_femHoHH, reg_survey_maleHoHH),\n",
    "                              lambda x: 100 * get_ocurrences(x, 'src_incomes') / total_surveys,\n",
    "                              lambda x: map(lambda y: y.capitalize(), x.index.values),\n",
    "                              lambda x: x.values,\n",
    "                              \"Livelihoods Strategies\",\n",
    "                              \"Female Head of Household\",\n",
    "                              \"Male Head of Household\")\n",
    "\n",
    "create_stacked_bars_graph((reg_survey_female, reg_survey_male),\n",
    "                              lambda x: 100 * get_ocurrences(x, 'src_incomes') / total_surveys,\n",
    "                              lambda x: map(lambda y: y.capitalize(), x.index.values),\n",
    "                              lambda x: x.values,\n",
    "                              \"Livelihoods Strategies\",\n",
    "                              \"Female respondent\",\n",
    "                              \"Male respondent\")\n",
    "\n",
    "livelihoods_strategies = {\n",
    "    \"layout\": {\n",
    "        \"title\": \"Livelihoods Strategies\",\n",
    "        \"xaxis\": {\n",
    "            \"tickangle\": -45\n",
    "        },\n",
    "        \"width\": 700,\n",
    "        \"annotations\": []\n",
    "    },\n",
    "    \"data\": [\n",
    "        {\n",
    "            \"x\": map(lambda x: x.capitalize(), lh_perc.index.values),\n",
    "            \"y\": lh_perc.values,\n",
    "            \"type\": \"bar\",\n",
    "            \"name\": \"Livelihoods Strategies\",\n",
    "            \"marker\": {\n",
    "                \"color\": 'rgb(258,225,225)',\n",
    "                \"line\": {\n",
    "                    \"color\": 'rgb(192,0,0)',\n",
    "                    \"width\": 1.5\n",
    "                }\n",
    "            },\n",
    "        }\n",
    "    ]\n",
    "}\n",
    "\n",
    "\n",
    "for i in range(0, len(lh_values)):\n",
    "    livelihoods_strategies[\"layout\"][\"annotations\"].append(\n",
    "        {\n",
    "            \"x\": map(lambda x: x.capitalize(), lh_perc.index.values)[i],\n",
    "            \"y\": lh_perc.values[i] + 1.5,\n",
    "            \"text\": str(lh_perc.values[i]) + \"%\",\n",
    "            \"font\": dict(\n",
    "                family='Arial',\n",
    "                size=14,\n",
    "                color='rgba(100, 0, 0, 1)'\n",
    "            ),\n",
    "            \"showarrow\": False,\n",
    "\n",
    "        }\n",
    "    )\n",
    "\n",
    "iplot(livelihoods_strategies)"
   ]
  },
  {
   "cell_type": "code",
   "execution_count": 102,
   "metadata": {},
   "outputs": [
    {
     "data": {
      "application/vnd.plotly.v1+json": {
       "data": [
        {
         "marker": {
          "color": "rgb(258,225,225)",
          "line": {
           "color": "rgb(192,0,0)",
           "width": 1.5
          }
         },
         "name": "Livelihoods Strategies",
         "type": "bar",
         "x": [
          "Agriculture",
          "Livestock",
          "Other",
          "Forestry",
          "Labour",
          "Handicrafts"
         ],
         "y": [
          5.88,
          66.67,
          9.8,
          29.41,
          1.96,
          1.96
         ]
        }
       ],
       "layout": {
        "annotations": [
         {
          "font": {
           "color": "rgba(100, 0, 0, 1)",
           "family": "Arial",
           "size": 14
          },
          "showarrow": false,
          "text": "5.88%",
          "x": "Agriculture",
          "y": 7.08
         },
         {
          "font": {
           "color": "rgba(100, 0, 0, 1)",
           "family": "Arial",
           "size": 14
          },
          "showarrow": false,
          "text": "66.67%",
          "x": "Livestock",
          "y": 67.87
         },
         {
          "font": {
           "color": "rgba(100, 0, 0, 1)",
           "family": "Arial",
           "size": 14
          },
          "showarrow": false,
          "text": "9.8%",
          "x": "Other",
          "y": 11
         },
         {
          "font": {
           "color": "rgba(100, 0, 0, 1)",
           "family": "Arial",
           "size": 14
          },
          "showarrow": false,
          "text": "29.41%",
          "x": "Forestry",
          "y": 30.61
         },
         {
          "font": {
           "color": "rgba(100, 0, 0, 1)",
           "family": "Arial",
           "size": 14
          },
          "showarrow": false,
          "text": "1.96%",
          "x": "Labour",
          "y": 3.16
         },
         {
          "font": {
           "color": "rgba(100, 0, 0, 1)",
           "family": "Arial",
           "size": 14
          },
          "showarrow": false,
          "text": "1.96%",
          "x": "Handicrafts",
          "y": 3.16
         }
        ],
        "title": "Livelihoods Strategies in HH with dependent members",
        "width": 700,
        "xaxis": {
         "tickangle": -45
        }
       }
      },
      "text/html": [
       "<div id=\"4ac1507a-3bcf-4865-a319-0b415996cde3\" style=\"height: 525px; width: 700px;\" class=\"plotly-graph-div\"></div><script type=\"text/javascript\">require([\"plotly\"], function(Plotly) { window.PLOTLYENV=window.PLOTLYENV || {};window.PLOTLYENV.BASE_URL=\"https://plot.ly\";Plotly.newPlot(\"4ac1507a-3bcf-4865-a319-0b415996cde3\", [{\"y\": [5.88, 66.67, 9.8, 29.41, 1.96, 1.96], \"x\": [\"Agriculture\", \"Livestock\", \"Other\", \"Forestry\", \"Labour\", \"Handicrafts\"], \"type\": \"bar\", \"name\": \"Livelihoods Strategies\", \"marker\": {\"color\": \"rgb(258,225,225)\", \"line\": {\"color\": \"rgb(192,0,0)\", \"width\": 1.5}}}], {\"width\": 700, \"annotations\": [{\"y\": 7.08, \"x\": \"Agriculture\", \"font\": {\"color\": \"rgba(100, 0, 0, 1)\", \"family\": \"Arial\", \"size\": 14}, \"text\": \"5.88%\", \"showarrow\": false}, {\"y\": 67.87, \"x\": \"Livestock\", \"font\": {\"color\": \"rgba(100, 0, 0, 1)\", \"family\": \"Arial\", \"size\": 14}, \"text\": \"66.67%\", \"showarrow\": false}, {\"y\": 11.0, \"x\": \"Other\", \"font\": {\"color\": \"rgba(100, 0, 0, 1)\", \"family\": \"Arial\", \"size\": 14}, \"text\": \"9.8%\", \"showarrow\": false}, {\"y\": 30.61, \"x\": \"Forestry\", \"font\": {\"color\": \"rgba(100, 0, 0, 1)\", \"family\": \"Arial\", \"size\": 14}, \"text\": \"29.41%\", \"showarrow\": false}, {\"y\": 3.16, \"x\": \"Labour\", \"font\": {\"color\": \"rgba(100, 0, 0, 1)\", \"family\": \"Arial\", \"size\": 14}, \"text\": \"1.96%\", \"showarrow\": false}, {\"y\": 3.16, \"x\": \"Handicrafts\", \"font\": {\"color\": \"rgba(100, 0, 0, 1)\", \"family\": \"Arial\", \"size\": 14}, \"text\": \"1.96%\", \"showarrow\": false}], \"xaxis\": {\"tickangle\": -45}, \"title\": \"Livelihoods Strategies in HH with dependent members\"}, {\"linkText\": \"Export to plot.ly\", \"showLink\": true})});</script>"
      ],
      "text/vnd.plotly.v1+html": [
       "<div id=\"4ac1507a-3bcf-4865-a319-0b415996cde3\" style=\"height: 525px; width: 700px;\" class=\"plotly-graph-div\"></div><script type=\"text/javascript\">require([\"plotly\"], function(Plotly) { window.PLOTLYENV=window.PLOTLYENV || {};window.PLOTLYENV.BASE_URL=\"https://plot.ly\";Plotly.newPlot(\"4ac1507a-3bcf-4865-a319-0b415996cde3\", [{\"y\": [5.88, 66.67, 9.8, 29.41, 1.96, 1.96], \"x\": [\"Agriculture\", \"Livestock\", \"Other\", \"Forestry\", \"Labour\", \"Handicrafts\"], \"type\": \"bar\", \"name\": \"Livelihoods Strategies\", \"marker\": {\"color\": \"rgb(258,225,225)\", \"line\": {\"color\": \"rgb(192,0,0)\", \"width\": 1.5}}}], {\"width\": 700, \"annotations\": [{\"y\": 7.08, \"x\": \"Agriculture\", \"font\": {\"color\": \"rgba(100, 0, 0, 1)\", \"family\": \"Arial\", \"size\": 14}, \"text\": \"5.88%\", \"showarrow\": false}, {\"y\": 67.87, \"x\": \"Livestock\", \"font\": {\"color\": \"rgba(100, 0, 0, 1)\", \"family\": \"Arial\", \"size\": 14}, \"text\": \"66.67%\", \"showarrow\": false}, {\"y\": 11.0, \"x\": \"Other\", \"font\": {\"color\": \"rgba(100, 0, 0, 1)\", \"family\": \"Arial\", \"size\": 14}, \"text\": \"9.8%\", \"showarrow\": false}, {\"y\": 30.61, \"x\": \"Forestry\", \"font\": {\"color\": \"rgba(100, 0, 0, 1)\", \"family\": \"Arial\", \"size\": 14}, \"text\": \"29.41%\", \"showarrow\": false}, {\"y\": 3.16, \"x\": \"Labour\", \"font\": {\"color\": \"rgba(100, 0, 0, 1)\", \"family\": \"Arial\", \"size\": 14}, \"text\": \"1.96%\", \"showarrow\": false}, {\"y\": 3.16, \"x\": \"Handicrafts\", \"font\": {\"color\": \"rgba(100, 0, 0, 1)\", \"family\": \"Arial\", \"size\": 14}, \"text\": \"1.96%\", \"showarrow\": false}], \"xaxis\": {\"tickangle\": -45}, \"title\": \"Livelihoods Strategies in HH with dependent members\"}, {\"linkText\": \"Export to plot.ly\", \"showLink\": true})});</script>"
      ]
     },
     "metadata": {},
     "output_type": "display_data"
    }
   ],
   "source": [
    "lh_values_hand = get_ocurrences(reg_survey_hand_yes, 'src_incomes')\n",
    "lh_perc_hand = 100*lh_values_hand/reg_survey_hand_yes['deviceid'].count()\n",
    "lh_perc_hand = lh_perc_hand.round(2)\n",
    "\n",
    "livelihoods_strategies_hand = {\n",
    "    \"layout\": {\n",
    "        \"title\": \"Livelihoods Strategies in HH with dependent members\",\n",
    "        \"xaxis\": {\n",
    "            \"tickangle\": -45\n",
    "        },\n",
    "        \"width\": 700,\n",
    "        \"annotations\": []\n",
    "    },\n",
    "    \"data\": [\n",
    "        {\n",
    "            \"x\": map(lambda x: x.capitalize(), lh_perc_hand.index.values),\n",
    "            \"y\": lh_perc_hand.values,\n",
    "            \"type\": \"bar\",\n",
    "            \"name\": \"Livelihoods Strategies\",\n",
    "            \"marker\": {\n",
    "                \"color\": 'rgb(258,225,225)',\n",
    "                \"line\": {\n",
    "                    \"color\": 'rgb(192,0,0)',\n",
    "                    \"width\": 1.5\n",
    "                }\n",
    "            },\n",
    "        }\n",
    "    ]\n",
    "}\n",
    "\n",
    "\n",
    "for i in range(0, len(lh_values_hand)):\n",
    "    livelihoods_strategies_hand[\"layout\"][\"annotations\"].append(\n",
    "        {\n",
    "            \"x\": map(lambda x: x.capitalize(), lh_perc_hand.index.values)[i],\n",
    "            \"y\": lh_perc_hand.values[i] + 1.2,\n",
    "            \"text\": str(lh_perc_hand.values[i]) + \"%\",\n",
    "            \"font\": dict(\n",
    "                family='Arial',\n",
    "                size=14,\n",
    "                color='rgba(100, 0, 0, 1)'\n",
    "            ),\n",
    "            \"showarrow\": False,\n",
    "\n",
    "        }\n",
    "    )\n",
    "\n",
    "iplot(livelihoods_strategies_hand)"
   ]
  },
  {
   "cell_type": "markdown",
   "metadata": {},
   "source": [
    "Main livelihoods per household"
   ]
  },
  {
   "cell_type": "code",
   "execution_count": 103,
   "metadata": {},
   "outputs": [
    {
     "name": "stdout",
     "output_type": "stream",
     "text": [
      "src_incomes\n",
      "livestock                         162\n",
      "forestry                           90\n",
      "livestock forestry                 25\n",
      "other                              24\n",
      "livestock handicrafts              18\n",
      "labour                             16\n",
      "livestock other                    11\n",
      "agriculture                         9\n",
      "agriculture livestock               6\n",
      "livestock forestry handicrafts      5\n",
      "forestry handicrafts                3\n",
      "livestock forestry other            2\n",
      "handicrafts                         2\n",
      "forestry other                      2\n",
      "livestock labour                    2\n",
      "labour forestry                     1\n",
      "livestock handicrafts other         1\n",
      "agriculture other                   1\n",
      "agriculture livestock other         1\n",
      "agriculture livestock forestry      1\n",
      "agriculture forestry                1\n",
      "handicrafts other                   1\n",
      "dtype: int64\n"
     ]
    },
    {
     "data": {
      "application/vnd.plotly.v1+json": {
       "data": [
        {
         "domain": {
          "x": [
           0,
           0.32
          ]
         },
         "labels": [
          1,
          2,
          3
         ],
         "sort": false,
         "type": "pie",
         "values": [
          224,
          47,
          2
         ]
        },
        {
         "domain": {
          "x": [
           0.34,
           0.64
          ]
         },
         "labels": [
          1,
          2,
          3
         ],
         "sort": false,
         "type": "pie",
         "values": [
          303,
          71,
          10
         ]
        },
        {
         "domain": {
          "x": [
           0.66,
           0.98
          ]
         },
         "labels": [
          1,
          2,
          3
         ],
         "sort": false,
         "type": "pie",
         "values": [
          79,
          24,
          8
         ]
        }
       ],
       "layout": {
        "annotations": [
         {
          "font": {
           "size": 14
          },
          "showarrow": false,
          "text": "Female Head of Household",
          "x": 0.04,
          "y": 1
         },
         {
          "font": {
           "size": 14
          },
          "showarrow": false,
          "text": "Global",
          "x": 0.5,
          "y": 1
         },
         {
          "font": {
           "size": 14
          },
          "showarrow": false,
          "text": "Male Head of Household",
          "x": 0.94,
          "y": 1
         }
        ],
        "title": "Number of livelihoods Strategies"
       }
      },
      "text/html": [
       "<div id=\"5aed6854-969f-4238-972f-08d29d73dbe1\" style=\"height: 525px; width: 100%;\" class=\"plotly-graph-div\"></div><script type=\"text/javascript\">require([\"plotly\"], function(Plotly) { window.PLOTLYENV=window.PLOTLYENV || {};window.PLOTLYENV.BASE_URL=\"https://plot.ly\";Plotly.newPlot(\"5aed6854-969f-4238-972f-08d29d73dbe1\", [{\"sort\": false, \"values\": [224, 47, 2], \"domain\": {\"x\": [0, 0.32]}, \"labels\": [1, 2, 3], \"type\": \"pie\"}, {\"sort\": false, \"values\": [303, 71, 10], \"domain\": {\"x\": [0.34, 0.64]}, \"labels\": [1, 2, 3], \"type\": \"pie\"}, {\"sort\": false, \"values\": [79, 24, 8], \"domain\": {\"x\": [0.66, 0.98]}, \"labels\": [1, 2, 3], \"type\": \"pie\"}], {\"annotations\": [{\"y\": 1, \"text\": \"Female Head of Household\", \"font\": {\"size\": 14}, \"showarrow\": false, \"x\": 0.04}, {\"y\": 1, \"text\": \"Global\", \"font\": {\"size\": 14}, \"showarrow\": false, \"x\": 0.5}, {\"y\": 1, \"text\": \"Male Head of Household\", \"font\": {\"size\": 14}, \"showarrow\": false, \"x\": 0.94}], \"title\": \"Number of livelihoods Strategies\"}, {\"linkText\": \"Export to plot.ly\", \"showLink\": true})});</script>"
      ],
      "text/vnd.plotly.v1+html": [
       "<div id=\"5aed6854-969f-4238-972f-08d29d73dbe1\" style=\"height: 525px; width: 100%;\" class=\"plotly-graph-div\"></div><script type=\"text/javascript\">require([\"plotly\"], function(Plotly) { window.PLOTLYENV=window.PLOTLYENV || {};window.PLOTLYENV.BASE_URL=\"https://plot.ly\";Plotly.newPlot(\"5aed6854-969f-4238-972f-08d29d73dbe1\", [{\"sort\": false, \"values\": [224, 47, 2], \"domain\": {\"x\": [0, 0.32]}, \"labels\": [1, 2, 3], \"type\": \"pie\"}, {\"sort\": false, \"values\": [303, 71, 10], \"domain\": {\"x\": [0.34, 0.64]}, \"labels\": [1, 2, 3], \"type\": \"pie\"}, {\"sort\": false, \"values\": [79, 24, 8], \"domain\": {\"x\": [0.66, 0.98]}, \"labels\": [1, 2, 3], \"type\": \"pie\"}], {\"annotations\": [{\"y\": 1, \"text\": \"Female Head of Household\", \"font\": {\"size\": 14}, \"showarrow\": false, \"x\": 0.04}, {\"y\": 1, \"text\": \"Global\", \"font\": {\"size\": 14}, \"showarrow\": false, \"x\": 0.5}, {\"y\": 1, \"text\": \"Male Head of Household\", \"font\": {\"size\": 14}, \"showarrow\": false, \"x\": 0.94}], \"title\": \"Number of livelihoods Strategies\"}, {\"linkText\": \"Export to plot.ly\", \"showLink\": true})});</script>"
      ]
     },
     "metadata": {},
     "output_type": "display_data"
    },
    {
     "data": {
      "application/vnd.plotly.v1+json": {
       "data": [
        {
         "domain": {
          "x": [
           0,
           0.32
          ]
         },
         "labels": [
          1,
          2,
          3
         ],
         "sort": false,
         "type": "pie",
         "values": [
          287,
          64,
          9
         ]
        },
        {
         "domain": {
          "x": [
           0.34,
           0.64
          ]
         },
         "labels": [
          1,
          2,
          3
         ],
         "sort": false,
         "type": "pie",
         "values": [
          303,
          71,
          10
         ]
        },
        {
         "domain": {
          "x": [
           0.66,
           0.98
          ]
         },
         "labels": [
          1,
          2,
          3
         ],
         "sort": false,
         "type": "pie",
         "values": [
          16,
          7,
          1
         ]
        }
       ],
       "layout": {
        "annotations": [
         {
          "font": {
           "size": 14
          },
          "showarrow": false,
          "text": "Female Respondent",
          "x": 0.07,
          "y": 1
         },
         {
          "font": {
           "size": 14
          },
          "showarrow": false,
          "text": "Global",
          "x": 0.5,
          "y": 1
         },
         {
          "font": {
           "size": 14
          },
          "showarrow": false,
          "text": "Male Respondent",
          "x": 0.91,
          "y": 1
         }
        ],
        "title": "Number of livelihoods Strategies"
       }
      },
      "text/html": [
       "<div id=\"d072e237-4f0e-4cde-b591-dd8c8d1df98a\" style=\"height: 525px; width: 100%;\" class=\"plotly-graph-div\"></div><script type=\"text/javascript\">require([\"plotly\"], function(Plotly) { window.PLOTLYENV=window.PLOTLYENV || {};window.PLOTLYENV.BASE_URL=\"https://plot.ly\";Plotly.newPlot(\"d072e237-4f0e-4cde-b591-dd8c8d1df98a\", [{\"sort\": false, \"values\": [287, 64, 9], \"domain\": {\"x\": [0, 0.32]}, \"labels\": [1, 2, 3], \"type\": \"pie\"}, {\"sort\": false, \"values\": [303, 71, 10], \"domain\": {\"x\": [0.34, 0.64]}, \"labels\": [1, 2, 3], \"type\": \"pie\"}, {\"sort\": false, \"values\": [16, 7, 1], \"domain\": {\"x\": [0.66, 0.98]}, \"labels\": [1, 2, 3], \"type\": \"pie\"}], {\"annotations\": [{\"y\": 1, \"text\": \"Female Respondent\", \"font\": {\"size\": 14}, \"showarrow\": false, \"x\": 0.07}, {\"y\": 1, \"text\": \"Global\", \"font\": {\"size\": 14}, \"showarrow\": false, \"x\": 0.5}, {\"y\": 1, \"text\": \"Male Respondent\", \"font\": {\"size\": 14}, \"showarrow\": false, \"x\": 0.91}], \"title\": \"Number of livelihoods Strategies\"}, {\"linkText\": \"Export to plot.ly\", \"showLink\": true})});</script>"
      ],
      "text/vnd.plotly.v1+html": [
       "<div id=\"d072e237-4f0e-4cde-b591-dd8c8d1df98a\" style=\"height: 525px; width: 100%;\" class=\"plotly-graph-div\"></div><script type=\"text/javascript\">require([\"plotly\"], function(Plotly) { window.PLOTLYENV=window.PLOTLYENV || {};window.PLOTLYENV.BASE_URL=\"https://plot.ly\";Plotly.newPlot(\"d072e237-4f0e-4cde-b591-dd8c8d1df98a\", [{\"sort\": false, \"values\": [287, 64, 9], \"domain\": {\"x\": [0, 0.32]}, \"labels\": [1, 2, 3], \"type\": \"pie\"}, {\"sort\": false, \"values\": [303, 71, 10], \"domain\": {\"x\": [0.34, 0.64]}, \"labels\": [1, 2, 3], \"type\": \"pie\"}, {\"sort\": false, \"values\": [16, 7, 1], \"domain\": {\"x\": [0.66, 0.98]}, \"labels\": [1, 2, 3], \"type\": \"pie\"}], {\"annotations\": [{\"y\": 1, \"text\": \"Female Respondent\", \"font\": {\"size\": 14}, \"showarrow\": false, \"x\": 0.07}, {\"y\": 1, \"text\": \"Global\", \"font\": {\"size\": 14}, \"showarrow\": false, \"x\": 0.5}, {\"y\": 1, \"text\": \"Male Respondent\", \"font\": {\"size\": 14}, \"showarrow\": false, \"x\": 0.91}], \"title\": \"Number of livelihoods Strategies\"}, {\"linkText\": \"Export to plot.ly\", \"showLink\": true})});</script>"
      ]
     },
     "metadata": {},
     "output_type": "display_data"
    }
   ],
   "source": [
    "print src_incomes_sums.sort_values(ascending = False)\n",
    "reg_survey['num_lh_strats'] = reg_survey['src_incomes'].map(lambda x: len(x.split()))\n",
    "create_graphs_HoHH(lambda x: x.groupby('num_lh_strats').size(),\n",
    "                         lambda x: x.values,\n",
    "                         lambda x: x.index.values,\n",
    "                         lambda x: x.sum(),\n",
    "                         \"Number of livelihoods Strategies\")\n",
    "create_graphs_respondent(lambda x: x.groupby('num_lh_strats').size(),\n",
    "                         lambda x: x.values,\n",
    "                         lambda x: x.index.values,\n",
    "                         lambda x: x.sum(),\n",
    "                         \"Number of livelihoods Strategies\")"
   ]
  },
  {
   "cell_type": "code",
   "execution_count": 104,
   "metadata": {},
   "outputs": [
    {
     "data": {
      "application/vnd.plotly.v1+json": {
       "data": [
        {
         "labels": [
          1,
          2,
          3
         ],
         "sort": false,
         "type": "pie",
         "values": [
          44,
          6,
          1
         ]
        }
       ],
       "layout": {
        "title": "Number livelihoods strategies in HH with dependent members"
       }
      },
      "text/html": [
       "<div id=\"867070a2-5f51-4b0b-a41e-ad8d2f5fc3e3\" style=\"height: 525px; width: 100%;\" class=\"plotly-graph-div\"></div><script type=\"text/javascript\">require([\"plotly\"], function(Plotly) { window.PLOTLYENV=window.PLOTLYENV || {};window.PLOTLYENV.BASE_URL=\"https://plot.ly\";Plotly.newPlot(\"867070a2-5f51-4b0b-a41e-ad8d2f5fc3e3\", [{\"sort\": false, \"values\": [44, 6, 1], \"labels\": [1, 2, 3], \"type\": \"pie\"}], {\"title\": \"Number livelihoods strategies in HH with dependent members\"}, {\"linkText\": \"Export to plot.ly\", \"showLink\": true})});</script>"
      ],
      "text/vnd.plotly.v1+html": [
       "<div id=\"867070a2-5f51-4b0b-a41e-ad8d2f5fc3e3\" style=\"height: 525px; width: 100%;\" class=\"plotly-graph-div\"></div><script type=\"text/javascript\">require([\"plotly\"], function(Plotly) { window.PLOTLYENV=window.PLOTLYENV || {};window.PLOTLYENV.BASE_URL=\"https://plot.ly\";Plotly.newPlot(\"867070a2-5f51-4b0b-a41e-ad8d2f5fc3e3\", [{\"sort\": false, \"values\": [44, 6, 1], \"labels\": [1, 2, 3], \"type\": \"pie\"}], {\"title\": \"Number livelihoods strategies in HH with dependent members\"}, {\"linkText\": \"Export to plot.ly\", \"showLink\": true})});</script>"
      ]
     },
     "metadata": {},
     "output_type": "display_data"
    }
   ],
   "source": [
    "reg_survey_hand_yes['num_lh_strats'] = reg_survey_hand_yes['src_incomes'].map(lambda x: len(x.split()))\n",
    "create_pie_graph(reg_survey_hand_yes.groupby('num_lh_strats').size(), \"Number livelihoods strategies in HH with dependent members\")"
   ]
  },
  {
   "cell_type": "markdown",
   "metadata": {},
   "source": [
    "- 277 out of 399 hh, i.e. 69.42%, lives only on livestock, forestry or both."
   ]
  },
  {
   "cell_type": "markdown",
   "metadata": {},
   "source": [
    "### Livestock\n",
    "\n",
    "Number of interviewed households owning each type of livestock"
   ]
  },
  {
   "cell_type": "code",
   "execution_count": 105,
   "metadata": {},
   "outputs": [
    {
     "data": {
      "text/plain": [
       "livestock_training\n",
       "no     103\n",
       "yes    131\n",
       "dtype: int64"
      ]
     },
     "execution_count": 105,
     "metadata": {},
     "output_type": "execute_result"
    }
   ],
   "source": [
    "livestock_set = reg_survey.loc[reg_survey['src_incomes'].str.contains(\"livestock\")]\n",
    "livestock_set_female = reg_survey_female.loc[reg_survey_female['src_incomes'].str.contains(\"livestock\")]\n",
    "livestock_set_femHoHH = reg_survey_femHoHH.loc[reg_survey_femHoHH['src_incomes'].str.contains(\"livestock\")]\n",
    "\n",
    "participants = livestock_set.groupby('livestock_participants').size()\n",
    "participants_goats = livestock_set.loc[livestock_set['livestock_type'].str.contains(\"goat\")].groupby('livestock_participants').size()\n",
    "#print participants_goats\n",
    "\n",
    "lvstk_types = ['camel', 'cattle', 'goat', 'sheep', 'chicken']\n",
    "\n",
    "livestock_women = livestock_set.loc[livestock_set['livestock_participants'] == \"women\"]\n",
    "type_women =  livestock_women.groupby('livestock_type').size()\n",
    "#livestock_set = livestock_set.copy()\n",
    "for i in lvstk_types:\n",
    "    livestock_set[i + '_reduced'] = livestock_set['livestock_lost_' + i] / (livestock_set['livestock_number_' + i] + livestock_set['livestock_number_' + i])\n",
    "#print (\"Types for women\")\n",
    "#print(type_women)\n",
    "#print livestock_set.groupby('camel_reduced').size()\n",
    "goats = livestock_set['livestock_number_goat'].dropna()\n",
    "#goats_female = livestock_set_female['livestock_number_goat'].dropna()\n",
    "goats_femHoHH = livestock_set_femHoHH['livestock_number_goat'].dropna()\n",
    "\n",
    "sheeps = livestock_set['livestock_number_sheep'].dropna()\n",
    "#sheeps_female = livestock_set_female['livestock_number_sheep'].dropna()\n",
    "sheeps_femHoHH = livestock_set_femHoHH['livestock_number_sheep'].dropna()\n",
    "\n",
    "cattle = livestock_set['livestock_number_cattle'].dropna()\n",
    "#cattle_female = livestock_set_female['livestock_number_cattle'].dropna()\n",
    "cattle_femHoHH = livestock_set_femHoHH['livestock_number_cattle'].dropna()\n",
    "\n",
    "chickens = livestock_set['livestock_number_chicken'].dropna()\n",
    "#chickens_female = livestock_set_female['livestock_number_chicken'].dropna()\n",
    "chickens_femHoHH = livestock_set_femHoHH['livestock_number_chicken'].dropna()\n",
    "\n",
    "camels = livestock_set['livestock_number_camel'].dropna()\n",
    "\n",
    "livestock_set.groupby('livestock_training').size()\n"
   ]
  },
  {
   "cell_type": "code",
   "execution_count": 106,
   "metadata": {},
   "outputs": [
    {
     "name": "stdout",
     "output_type": "stream",
     "text": [
      "4227.0\n",
      "12.6709401709\n",
      "5.39316239316\n"
     ]
    }
   ],
   "source": [
    "livestock_set['livestock_number_gosh'] = livestock_set['livestock_number_goat'] + livestock_set['livestock_number_sheep']\n",
    "\n",
    "print livestock_set['livestock_number_gosh'].sum()\n",
    "print livestock_set['livestock_number_goat'].mean()\n",
    "print livestock_set['livestock_number_sheep'].mean()\n",
    "\n",
    "types_lvstck = get_ocurrences(livestock_set, 'livestock_type')\n",
    "\n",
    "def score_gs(gs):\n",
    "    if (gs<= 5):\n",
    "        result = 0\n",
    "    elif (gs <= 20):\n",
    "        result = 1\n",
    "    elif (gs <= 50):\n",
    "        result = 2\n",
    "    elif (gs <= 150):\n",
    "        result = 3\n",
    "    else:\n",
    "        result = 5\n",
    "    return result\n",
    "\n",
    "def score_camel(gs):\n",
    "    if (gs<= 0):\n",
    "        result = 0\n",
    "    elif (gs <= 3):\n",
    "        result = 1\n",
    "    elif (gs <= 6):\n",
    "        result = 2\n",
    "    elif (gs <= 15):\n",
    "        result = 3\n",
    "    else:\n",
    "        result = 5\n",
    "    return result\n",
    "\n",
    "def score_cattle(gs):\n",
    "    if (gs<= 0):\n",
    "        result = 0\n",
    "    elif (gs <= 2):\n",
    "        result = 1\n",
    "    elif (gs <= 5):\n",
    "        result = 2\n",
    "    elif (gs <= 15):\n",
    "        result = 3\n",
    "    else:\n",
    "        result = 5\n",
    "    return result\n",
    "\n",
    "def score_wealth_lvstck(df):\n",
    "    sum_gs = df['livestock_number_gosh'].map(score_gs)\n",
    "    sum_camel = df['livestock_number_camel'].map(score_camel)\n",
    "    sum_cattle = df['livestock_number_cattle'].map(score_cattle)\n",
    "    df['wealth_group_score'] = sum_gs + sum_camel + sum_cattle\n",
    "\n",
    "score_wealth_lvstck(livestock_set)"
   ]
  },
  {
   "cell_type": "code",
   "execution_count": 107,
   "metadata": {
    "scrolled": false
   },
   "outputs": [
    {
     "data": {
      "application/vnd.plotly.v1+json": {
       "data": [
        {
         "marker": {
          "color": "rgb(258,225,225)",
          "line": {
           "color": "rgb(192,0,0)",
           "width": 1.5
          }
         },
         "name": "Livelihoods Strategies",
         "type": "bar",
         "x": [
          "Camel",
          "Other",
          "Cattle",
          "Goat",
          "Sheep",
          "Chicken"
         ],
         "y": [
          16.67,
          1.28,
          10.68,
          93.16,
          50.43,
          3.42
         ]
        }
       ],
       "layout": {
        "annotations": [
         {
          "font": {
           "color": "rgba(100, 0, 0, 1)",
           "family": "Arial",
           "size": 14
          },
          "showarrow": false,
          "text": "16.67%",
          "x": "Camel",
          "y": 18.17
         },
         {
          "font": {
           "color": "rgba(100, 0, 0, 1)",
           "family": "Arial",
           "size": 14
          },
          "showarrow": false,
          "text": "1.28%",
          "x": "Other",
          "y": 2.7800000000000002
         },
         {
          "font": {
           "color": "rgba(100, 0, 0, 1)",
           "family": "Arial",
           "size": 14
          },
          "showarrow": false,
          "text": "10.68%",
          "x": "Cattle",
          "y": 12.18
         },
         {
          "font": {
           "color": "rgba(100, 0, 0, 1)",
           "family": "Arial",
           "size": 14
          },
          "showarrow": false,
          "text": "93.16%",
          "x": "Goat",
          "y": 94.66
         },
         {
          "font": {
           "color": "rgba(100, 0, 0, 1)",
           "family": "Arial",
           "size": 14
          },
          "showarrow": false,
          "text": "50.43%",
          "x": "Sheep",
          "y": 51.93
         },
         {
          "font": {
           "color": "rgba(100, 0, 0, 1)",
           "family": "Arial",
           "size": 14
          },
          "showarrow": false,
          "text": "3.42%",
          "x": "Chicken",
          "y": 4.92
         }
        ],
        "title": "Livestock types",
        "width": 700,
        "xaxis": {
         "tickangle": -45
        }
       }
      },
      "text/html": [
       "<div id=\"1916ce48-3cfc-4583-8643-0e065c0b3c0f\" style=\"height: 525px; width: 700px;\" class=\"plotly-graph-div\"></div><script type=\"text/javascript\">require([\"plotly\"], function(Plotly) { window.PLOTLYENV=window.PLOTLYENV || {};window.PLOTLYENV.BASE_URL=\"https://plot.ly\";Plotly.newPlot(\"1916ce48-3cfc-4583-8643-0e065c0b3c0f\", [{\"y\": [16.67, 1.28, 10.68, 93.16, 50.43, 3.42], \"x\": [\"Camel\", \"Other\", \"Cattle\", \"Goat\", \"Sheep\", \"Chicken\"], \"type\": \"bar\", \"name\": \"Livelihoods Strategies\", \"marker\": {\"color\": \"rgb(258,225,225)\", \"line\": {\"color\": \"rgb(192,0,0)\", \"width\": 1.5}}}], {\"width\": 700, \"annotations\": [{\"y\": 18.17, \"x\": \"Camel\", \"font\": {\"color\": \"rgba(100, 0, 0, 1)\", \"family\": \"Arial\", \"size\": 14}, \"text\": \"16.67%\", \"showarrow\": false}, {\"y\": 2.7800000000000002, \"x\": \"Other\", \"font\": {\"color\": \"rgba(100, 0, 0, 1)\", \"family\": \"Arial\", \"size\": 14}, \"text\": \"1.28%\", \"showarrow\": false}, {\"y\": 12.18, \"x\": \"Cattle\", \"font\": {\"color\": \"rgba(100, 0, 0, 1)\", \"family\": \"Arial\", \"size\": 14}, \"text\": \"10.68%\", \"showarrow\": false}, {\"y\": 94.66, \"x\": \"Goat\", \"font\": {\"color\": \"rgba(100, 0, 0, 1)\", \"family\": \"Arial\", \"size\": 14}, \"text\": \"93.16%\", \"showarrow\": false}, {\"y\": 51.93, \"x\": \"Sheep\", \"font\": {\"color\": \"rgba(100, 0, 0, 1)\", \"family\": \"Arial\", \"size\": 14}, \"text\": \"50.43%\", \"showarrow\": false}, {\"y\": 4.92, \"x\": \"Chicken\", \"font\": {\"color\": \"rgba(100, 0, 0, 1)\", \"family\": \"Arial\", \"size\": 14}, \"text\": \"3.42%\", \"showarrow\": false}], \"xaxis\": {\"tickangle\": -45}, \"title\": \"Livestock types\"}, {\"linkText\": \"Export to plot.ly\", \"showLink\": true})});</script>"
      ],
      "text/vnd.plotly.v1+html": [
       "<div id=\"1916ce48-3cfc-4583-8643-0e065c0b3c0f\" style=\"height: 525px; width: 700px;\" class=\"plotly-graph-div\"></div><script type=\"text/javascript\">require([\"plotly\"], function(Plotly) { window.PLOTLYENV=window.PLOTLYENV || {};window.PLOTLYENV.BASE_URL=\"https://plot.ly\";Plotly.newPlot(\"1916ce48-3cfc-4583-8643-0e065c0b3c0f\", [{\"y\": [16.67, 1.28, 10.68, 93.16, 50.43, 3.42], \"x\": [\"Camel\", \"Other\", \"Cattle\", \"Goat\", \"Sheep\", \"Chicken\"], \"type\": \"bar\", \"name\": \"Livelihoods Strategies\", \"marker\": {\"color\": \"rgb(258,225,225)\", \"line\": {\"color\": \"rgb(192,0,0)\", \"width\": 1.5}}}], {\"width\": 700, \"annotations\": [{\"y\": 18.17, \"x\": \"Camel\", \"font\": {\"color\": \"rgba(100, 0, 0, 1)\", \"family\": \"Arial\", \"size\": 14}, \"text\": \"16.67%\", \"showarrow\": false}, {\"y\": 2.7800000000000002, \"x\": \"Other\", \"font\": {\"color\": \"rgba(100, 0, 0, 1)\", \"family\": \"Arial\", \"size\": 14}, \"text\": \"1.28%\", \"showarrow\": false}, {\"y\": 12.18, \"x\": \"Cattle\", \"font\": {\"color\": \"rgba(100, 0, 0, 1)\", \"family\": \"Arial\", \"size\": 14}, \"text\": \"10.68%\", \"showarrow\": false}, {\"y\": 94.66, \"x\": \"Goat\", \"font\": {\"color\": \"rgba(100, 0, 0, 1)\", \"family\": \"Arial\", \"size\": 14}, \"text\": \"93.16%\", \"showarrow\": false}, {\"y\": 51.93, \"x\": \"Sheep\", \"font\": {\"color\": \"rgba(100, 0, 0, 1)\", \"family\": \"Arial\", \"size\": 14}, \"text\": \"50.43%\", \"showarrow\": false}, {\"y\": 4.92, \"x\": \"Chicken\", \"font\": {\"color\": \"rgba(100, 0, 0, 1)\", \"family\": \"Arial\", \"size\": 14}, \"text\": \"3.42%\", \"showarrow\": false}], \"xaxis\": {\"tickangle\": -45}, \"title\": \"Livestock types\"}, {\"linkText\": \"Export to plot.ly\", \"showLink\": true})});</script>"
      ]
     },
     "metadata": {},
     "output_type": "display_data"
    }
   ],
   "source": [
    "perc_lvstck = 100*types_lvstck/livestock_set['deviceid'].count()\n",
    "perc_lvstck = perc_lvstck.round(2)\n",
    "fig_types_lvstck = {\n",
    "    \"layout\": {\n",
    "        \"title\": \"Livestock types\",\n",
    "        \"xaxis\": {\n",
    "            \"tickangle\": -45\n",
    "        },\n",
    "        \"width\": 700,\n",
    "        \"annotations\": []\n",
    "    },\n",
    "    \"data\": [\n",
    "        {\n",
    "            \"x\": map(lambda x: x.capitalize(), perc_lvstck.index.values),\n",
    "            \"y\": perc_lvstck.values,\n",
    "            \"type\": \"bar\",\n",
    "            \"name\": \"Livelihoods Strategies\",\n",
    "            \"marker\": {\n",
    "                \"color\": 'rgb(258,225,225)',\n",
    "                \"line\": {\n",
    "                    \"color\": 'rgb(192,0,0)',\n",
    "                    \"width\": 1.5\n",
    "                }\n",
    "            }\n",
    "        }\n",
    "    ]\n",
    "}\n",
    "\n",
    "\n",
    "for i in range(0, len(types_lvstck)):\n",
    "    fig_types_lvstck[\"layout\"][\"annotations\"].append(\n",
    "        {\n",
    "            \"x\": map(lambda x: x.capitalize(), perc_lvstck.index.values)[i],\n",
    "            \"y\": perc_lvstck.values[i] + 1.5,\n",
    "            \"text\": str(perc_lvstck.values[i]) + \"%\",\n",
    "            \"font\": dict(\n",
    "                family='Arial',\n",
    "                size=14,\n",
    "                color='rgba(100, 0, 0, 1)'\n",
    "            ),\n",
    "            \"showarrow\": False,\n",
    "\n",
    "        }\n",
    "    )\n",
    "\n",
    "iplot(fig_types_lvstck)\n"
   ]
  },
  {
   "cell_type": "code",
   "execution_count": 108,
   "metadata": {},
   "outputs": [
    {
     "data": {
      "application/vnd.plotly.v1+json": {
       "data": [
        {
         "marker": {
          "size": [
           5,
           5,
           5,
           5,
           10,
           5,
           5,
           5,
           10,
           10,
           5,
           5,
           5,
           5,
           45,
           15,
           5,
           5,
           10,
           5,
           10,
           35,
           10,
           5,
           10,
           10,
           5,
           5,
           5,
           35,
           5,
           5,
           25,
           5,
           5,
           5,
           10,
           25,
           5,
           5,
           5,
           5,
           5,
           80,
           5,
           10,
           20,
           10,
           5,
           5,
           10,
           5,
           15,
           5,
           5,
           15,
           5,
           5,
           30,
           5,
           5,
           5,
           15,
           5,
           5,
           5,
           5,
           10,
           45,
           5,
           5,
           10,
           5,
           10,
           5,
           15,
           15,
           5,
           5,
           5,
           5,
           50,
           5,
           5,
           5,
           5,
           10,
           15,
           10,
           50,
           10,
           25,
           10,
           5,
           10,
           5,
           5,
           5,
           5,
           5
          ]
         },
         "mode": "markers",
         "type": "scatter",
         "x": [
          0,
          0,
          0,
          0,
          0,
          0,
          0,
          1,
          2,
          3,
          4,
          4,
          4,
          4,
          5,
          5,
          5,
          5,
          5,
          5,
          5,
          6,
          6,
          6,
          6,
          6,
          6,
          6,
          6,
          7,
          7,
          7,
          8,
          8,
          8,
          8,
          8,
          9,
          9,
          9,
          9,
          9,
          9,
          10,
          10,
          10,
          10,
          10,
          10,
          10,
          10,
          10,
          11,
          11,
          11,
          11,
          11,
          11,
          12,
          12,
          12,
          12,
          13,
          13,
          13,
          14,
          14,
          14,
          15,
          15,
          15,
          15,
          15,
          15,
          15,
          16,
          17,
          17,
          17,
          17,
          18,
          20,
          20,
          20,
          20,
          20,
          21,
          22,
          23,
          25,
          25,
          30,
          30,
          32,
          35,
          40,
          42,
          43,
          50,
          100
         ],
         "y": [
          4,
          5,
          7,
          12,
          15,
          22,
          25,
          0,
          0,
          0,
          0,
          3,
          4,
          6,
          0,
          3,
          4,
          5,
          6,
          8,
          9,
          0,
          3,
          4,
          5,
          6,
          8,
          9,
          10,
          0,
          5,
          7,
          0,
          4,
          5,
          8,
          10,
          0,
          5,
          6,
          7,
          9,
          13,
          0,
          4,
          9,
          10,
          11,
          12,
          13,
          15,
          20,
          0,
          6,
          8,
          9,
          10,
          11,
          0,
          8,
          10,
          11,
          0,
          11,
          13,
          0,
          14,
          15,
          0,
          5,
          7,
          10,
          14,
          15,
          30,
          0,
          0,
          12,
          17,
          20,
          0,
          0,
          11,
          15,
          20,
          30,
          0,
          0,
          0,
          0,
          25,
          0,
          30,
          0,
          0,
          5,
          63,
          0,
          0,
          0
         ]
        }
       ],
       "layout": {
        "title": "Relation between the number of goats and sheeps",
        "xaxis": {
         "title": "Number of goats"
        },
        "yaxis": {
         "title": "Number of sheeps"
        }
       }
      },
      "text/html": [
       "<div id=\"4abed3bf-31ac-41b2-8f12-0f99183531d8\" style=\"height: 525px; width: 100%;\" class=\"plotly-graph-div\"></div><script type=\"text/javascript\">require([\"plotly\"], function(Plotly) { window.PLOTLYENV=window.PLOTLYENV || {};window.PLOTLYENV.BASE_URL=\"https://plot.ly\";Plotly.newPlot(\"4abed3bf-31ac-41b2-8f12-0f99183531d8\", [{\"y\": [4.0, 5.0, 7.0, 12.0, 15.0, 22.0, 25.0, 0.0, 0.0, 0.0, 0.0, 3.0, 4.0, 6.0, 0.0, 3.0, 4.0, 5.0, 6.0, 8.0, 9.0, 0.0, 3.0, 4.0, 5.0, 6.0, 8.0, 9.0, 10.0, 0.0, 5.0, 7.0, 0.0, 4.0, 5.0, 8.0, 10.0, 0.0, 5.0, 6.0, 7.0, 9.0, 13.0, 0.0, 4.0, 9.0, 10.0, 11.0, 12.0, 13.0, 15.0, 20.0, 0.0, 6.0, 8.0, 9.0, 10.0, 11.0, 0.0, 8.0, 10.0, 11.0, 0.0, 11.0, 13.0, 0.0, 14.0, 15.0, 0.0, 5.0, 7.0, 10.0, 14.0, 15.0, 30.0, 0.0, 0.0, 12.0, 17.0, 20.0, 0.0, 0.0, 11.0, 15.0, 20.0, 30.0, 0.0, 0.0, 0.0, 0.0, 25.0, 0.0, 30.0, 0.0, 0.0, 5.0, 63.0, 0.0, 0.0, 0.0], \"x\": [0.0, 0.0, 0.0, 0.0, 0.0, 0.0, 0.0, 1.0, 2.0, 3.0, 4.0, 4.0, 4.0, 4.0, 5.0, 5.0, 5.0, 5.0, 5.0, 5.0, 5.0, 6.0, 6.0, 6.0, 6.0, 6.0, 6.0, 6.0, 6.0, 7.0, 7.0, 7.0, 8.0, 8.0, 8.0, 8.0, 8.0, 9.0, 9.0, 9.0, 9.0, 9.0, 9.0, 10.0, 10.0, 10.0, 10.0, 10.0, 10.0, 10.0, 10.0, 10.0, 11.0, 11.0, 11.0, 11.0, 11.0, 11.0, 12.0, 12.0, 12.0, 12.0, 13.0, 13.0, 13.0, 14.0, 14.0, 14.0, 15.0, 15.0, 15.0, 15.0, 15.0, 15.0, 15.0, 16.0, 17.0, 17.0, 17.0, 17.0, 18.0, 20.0, 20.0, 20.0, 20.0, 20.0, 21.0, 22.0, 23.0, 25.0, 25.0, 30.0, 30.0, 32.0, 35.0, 40.0, 42.0, 43.0, 50.0, 100.0], \"type\": \"scatter\", \"mode\": \"markers\", \"marker\": {\"size\": [5, 5, 5, 5, 10, 5, 5, 5, 10, 10, 5, 5, 5, 5, 45, 15, 5, 5, 10, 5, 10, 35, 10, 5, 10, 10, 5, 5, 5, 35, 5, 5, 25, 5, 5, 5, 10, 25, 5, 5, 5, 5, 5, 80, 5, 10, 20, 10, 5, 5, 10, 5, 15, 5, 5, 15, 5, 5, 30, 5, 5, 5, 15, 5, 5, 5, 5, 10, 45, 5, 5, 10, 5, 10, 5, 15, 15, 5, 5, 5, 5, 50, 5, 5, 5, 5, 10, 15, 10, 50, 10, 25, 10, 5, 10, 5, 5, 5, 5, 5]}}], {\"title\": \"Relation between the number of goats and sheeps\", \"xaxis\": {\"title\": \"Number of goats\"}, \"yaxis\": {\"title\": \"Number of sheeps\"}}, {\"linkText\": \"Export to plot.ly\", \"showLink\": true})});</script>"
      ],
      "text/vnd.plotly.v1+html": [
       "<div id=\"4abed3bf-31ac-41b2-8f12-0f99183531d8\" style=\"height: 525px; width: 100%;\" class=\"plotly-graph-div\"></div><script type=\"text/javascript\">require([\"plotly\"], function(Plotly) { window.PLOTLYENV=window.PLOTLYENV || {};window.PLOTLYENV.BASE_URL=\"https://plot.ly\";Plotly.newPlot(\"4abed3bf-31ac-41b2-8f12-0f99183531d8\", [{\"y\": [4.0, 5.0, 7.0, 12.0, 15.0, 22.0, 25.0, 0.0, 0.0, 0.0, 0.0, 3.0, 4.0, 6.0, 0.0, 3.0, 4.0, 5.0, 6.0, 8.0, 9.0, 0.0, 3.0, 4.0, 5.0, 6.0, 8.0, 9.0, 10.0, 0.0, 5.0, 7.0, 0.0, 4.0, 5.0, 8.0, 10.0, 0.0, 5.0, 6.0, 7.0, 9.0, 13.0, 0.0, 4.0, 9.0, 10.0, 11.0, 12.0, 13.0, 15.0, 20.0, 0.0, 6.0, 8.0, 9.0, 10.0, 11.0, 0.0, 8.0, 10.0, 11.0, 0.0, 11.0, 13.0, 0.0, 14.0, 15.0, 0.0, 5.0, 7.0, 10.0, 14.0, 15.0, 30.0, 0.0, 0.0, 12.0, 17.0, 20.0, 0.0, 0.0, 11.0, 15.0, 20.0, 30.0, 0.0, 0.0, 0.0, 0.0, 25.0, 0.0, 30.0, 0.0, 0.0, 5.0, 63.0, 0.0, 0.0, 0.0], \"x\": [0.0, 0.0, 0.0, 0.0, 0.0, 0.0, 0.0, 1.0, 2.0, 3.0, 4.0, 4.0, 4.0, 4.0, 5.0, 5.0, 5.0, 5.0, 5.0, 5.0, 5.0, 6.0, 6.0, 6.0, 6.0, 6.0, 6.0, 6.0, 6.0, 7.0, 7.0, 7.0, 8.0, 8.0, 8.0, 8.0, 8.0, 9.0, 9.0, 9.0, 9.0, 9.0, 9.0, 10.0, 10.0, 10.0, 10.0, 10.0, 10.0, 10.0, 10.0, 10.0, 11.0, 11.0, 11.0, 11.0, 11.0, 11.0, 12.0, 12.0, 12.0, 12.0, 13.0, 13.0, 13.0, 14.0, 14.0, 14.0, 15.0, 15.0, 15.0, 15.0, 15.0, 15.0, 15.0, 16.0, 17.0, 17.0, 17.0, 17.0, 18.0, 20.0, 20.0, 20.0, 20.0, 20.0, 21.0, 22.0, 23.0, 25.0, 25.0, 30.0, 30.0, 32.0, 35.0, 40.0, 42.0, 43.0, 50.0, 100.0], \"type\": \"scatter\", \"mode\": \"markers\", \"marker\": {\"size\": [5, 5, 5, 5, 10, 5, 5, 5, 10, 10, 5, 5, 5, 5, 45, 15, 5, 5, 10, 5, 10, 35, 10, 5, 10, 10, 5, 5, 5, 35, 5, 5, 25, 5, 5, 5, 10, 25, 5, 5, 5, 5, 5, 80, 5, 10, 20, 10, 5, 5, 10, 5, 15, 5, 5, 15, 5, 5, 30, 5, 5, 5, 15, 5, 5, 5, 5, 10, 45, 5, 5, 10, 5, 10, 5, 15, 15, 5, 5, 5, 5, 50, 5, 5, 5, 5, 10, 15, 10, 50, 10, 25, 10, 5, 10, 5, 5, 5, 5, 5]}}], {\"title\": \"Relation between the number of goats and sheeps\", \"xaxis\": {\"title\": \"Number of goats\"}, \"yaxis\": {\"title\": \"Number of sheeps\"}}, {\"linkText\": \"Export to plot.ly\", \"showLink\": true})});</script>"
      ]
     },
     "metadata": {},
     "output_type": "display_data"
    }
   ],
   "source": [
    "prueba = pd.crosstab(livestock_set.livestock_number_goat, livestock_set.livestock_number_sheep).stack().reset_index(name='number')\n",
    "#prueba.plot.scatter('livestock_number_goats', 'livestock_number_sheep', s=prueba.number * 10)\n",
    "prueba = prueba[prueba.number != 0]\n",
    "prueba = prueba[prueba.livestock_number_goat <= 100]\n",
    "prueba = prueba[prueba.livestock_number_sheep <= 100]\n",
    "prueba = prueba.drop(0)\n",
    "#display(prueba)\n",
    "goats_vs_sheeps = {\n",
    "    \"layout\": {\n",
    "        \"title\": \"Relation between the number of goats and sheeps\",\n",
    "        \"xaxis\": {\n",
    "            \"title\": \"Number of goats\"\n",
    "        },\n",
    "        \"yaxis\": {\n",
    "            \"title\": \"Number of sheeps\"\n",
    "        }\n",
    "    },\n",
    "    \"data\": [\n",
    "        {\n",
    "\n",
    "            \"x\": prueba.livestock_number_goat,\n",
    "            \"y\": prueba.livestock_number_sheep,\n",
    "            \"mode\": \"markers\",\n",
    "            \"marker\": {\n",
    "                \"size\": prueba.number * 5               \n",
    "            },\n",
    "            \"type\": \"scatter\"\n",
    "        }\n",
    "    ]\n",
    "}\n",
    "iplot(goats_vs_sheeps)"
   ]
  },
  {
   "cell_type": "code",
   "execution_count": 109,
   "metadata": {},
   "outputs": [
    {
     "data": {
      "application/vnd.plotly.v1+json": {
       "data": [
        {
         "marker": {
          "size": [
           25,
           25,
           40,
           35,
           15,
           20,
           45,
           45,
           35,
           15,
           15,
           10,
           40,
           5,
           15,
           5,
           15,
           20,
           5,
           5,
           5,
           5,
           5,
           5,
           25,
           5,
           5,
           5,
           15,
           15,
           5,
           5,
           5,
           5
          ]
         },
         "mode": "markers",
         "type": "scatter",
         "x": [
          0,
          0,
          0,
          0,
          0,
          0,
          0,
          0,
          0,
          0,
          0,
          0,
          0,
          0,
          0,
          0,
          0,
          0,
          0,
          1,
          2,
          2,
          2,
          2,
          3,
          3,
          3,
          3,
          4,
          5,
          7,
          7,
          7,
          10
         ],
         "y": [
          3,
          4,
          5,
          6,
          7,
          8,
          9,
          10,
          11,
          12,
          13,
          14,
          15,
          17,
          20,
          22,
          25,
          30,
          63,
          0,
          0,
          3,
          4,
          7,
          0,
          5,
          8,
          10,
          0,
          0,
          0,
          10,
          15,
          0
         ]
        }
       ],
       "layout": {
        "title": "Relation between the number of cattle and sheeps",
        "xaxis": {
         "title": "Number of cattle"
        },
        "yaxis": {
         "title": "Number of sheeps"
        }
       }
      },
      "text/html": [
       "<div id=\"63db05f2-e187-4f58-b46f-bdb4782e21d7\" style=\"height: 525px; width: 100%;\" class=\"plotly-graph-div\"></div><script type=\"text/javascript\">require([\"plotly\"], function(Plotly) { window.PLOTLYENV=window.PLOTLYENV || {};window.PLOTLYENV.BASE_URL=\"https://plot.ly\";Plotly.newPlot(\"63db05f2-e187-4f58-b46f-bdb4782e21d7\", [{\"y\": [3.0, 4.0, 5.0, 6.0, 7.0, 8.0, 9.0, 10.0, 11.0, 12.0, 13.0, 14.0, 15.0, 17.0, 20.0, 22.0, 25.0, 30.0, 63.0, 0.0, 0.0, 3.0, 4.0, 7.0, 0.0, 5.0, 8.0, 10.0, 0.0, 0.0, 0.0, 10.0, 15.0, 0.0], \"x\": [0.0, 0.0, 0.0, 0.0, 0.0, 0.0, 0.0, 0.0, 0.0, 0.0, 0.0, 0.0, 0.0, 0.0, 0.0, 0.0, 0.0, 0.0, 0.0, 1.0, 2.0, 2.0, 2.0, 2.0, 3.0, 3.0, 3.0, 3.0, 4.0, 5.0, 7.0, 7.0, 7.0, 10.0], \"type\": \"scatter\", \"mode\": \"markers\", \"marker\": {\"size\": [25, 25, 40, 35, 15, 20, 45, 45, 35, 15, 15, 10, 40, 5, 15, 5, 15, 20, 5, 5, 5, 5, 5, 5, 25, 5, 5, 5, 15, 15, 5, 5, 5, 5]}}], {\"title\": \"Relation between the number of cattle and sheeps\", \"xaxis\": {\"title\": \"Number of cattle\"}, \"yaxis\": {\"title\": \"Number of sheeps\"}}, {\"linkText\": \"Export to plot.ly\", \"showLink\": true})});</script>"
      ],
      "text/vnd.plotly.v1+html": [
       "<div id=\"63db05f2-e187-4f58-b46f-bdb4782e21d7\" style=\"height: 525px; width: 100%;\" class=\"plotly-graph-div\"></div><script type=\"text/javascript\">require([\"plotly\"], function(Plotly) { window.PLOTLYENV=window.PLOTLYENV || {};window.PLOTLYENV.BASE_URL=\"https://plot.ly\";Plotly.newPlot(\"63db05f2-e187-4f58-b46f-bdb4782e21d7\", [{\"y\": [3.0, 4.0, 5.0, 6.0, 7.0, 8.0, 9.0, 10.0, 11.0, 12.0, 13.0, 14.0, 15.0, 17.0, 20.0, 22.0, 25.0, 30.0, 63.0, 0.0, 0.0, 3.0, 4.0, 7.0, 0.0, 5.0, 8.0, 10.0, 0.0, 0.0, 0.0, 10.0, 15.0, 0.0], \"x\": [0.0, 0.0, 0.0, 0.0, 0.0, 0.0, 0.0, 0.0, 0.0, 0.0, 0.0, 0.0, 0.0, 0.0, 0.0, 0.0, 0.0, 0.0, 0.0, 1.0, 2.0, 2.0, 2.0, 2.0, 3.0, 3.0, 3.0, 3.0, 4.0, 5.0, 7.0, 7.0, 7.0, 10.0], \"type\": \"scatter\", \"mode\": \"markers\", \"marker\": {\"size\": [25, 25, 40, 35, 15, 20, 45, 45, 35, 15, 15, 10, 40, 5, 15, 5, 15, 20, 5, 5, 5, 5, 5, 5, 25, 5, 5, 5, 15, 15, 5, 5, 5, 5]}}], {\"title\": \"Relation between the number of cattle and sheeps\", \"xaxis\": {\"title\": \"Number of cattle\"}, \"yaxis\": {\"title\": \"Number of sheeps\"}}, {\"linkText\": \"Export to plot.ly\", \"showLink\": true})});</script>"
      ]
     },
     "metadata": {},
     "output_type": "display_data"
    }
   ],
   "source": [
    "prueba2 = pd.crosstab(livestock_set.livestock_number_cattle, livestock_set.livestock_number_sheep).stack().reset_index(name='number')\n",
    "#prueba.plot.scatter('livestock_number_goats', 'livestock_number_sheep', s=prueba.number * 10)\n",
    "prueba2 = prueba2[prueba2.number != 0]\n",
    "prueba2= prueba2.drop(0)\n",
    "prueba2 = prueba2[prueba2.livestock_number_cattle <= 100]\n",
    "prueba2 = prueba2[prueba2.livestock_number_sheep <= 100]\n",
    "#display(prueba)\n",
    "cattle_vs_sheeps = {\n",
    "    \"layout\": {\n",
    "        \"title\": \"Relation between the number of cattle and sheeps\",\n",
    "        \"xaxis\": {\n",
    "            \"title\": \"Number of cattle\"\n",
    "        },\n",
    "        \"yaxis\": {\n",
    "            \"title\": \"Number of sheeps\"\n",
    "        }\n",
    "    },\n",
    "    \"data\": [\n",
    "        {\n",
    "\n",
    "            \"x\": prueba2.livestock_number_cattle,\n",
    "            \"y\": prueba2.livestock_number_sheep,\n",
    "            \"mode\": \"markers\",\n",
    "            \"marker\": {\n",
    "                \"size\": prueba2.number * 5               \n",
    "            },\n",
    "            \"type\": \"scatter\"\n",
    "        }\n",
    "    ]\n",
    "}\n",
    "iplot(cattle_vs_sheeps)"
   ]
  },
  {
   "cell_type": "code",
   "execution_count": 110,
   "metadata": {
    "scrolled": false
   },
   "outputs": [
    {
     "data": {
      "application/vnd.plotly.v1+json": {
       "data": [
        {
         "marker": {
          "size": [
           5,
           5,
           10,
           10,
           5,
           5,
           5,
           10,
           5,
           5,
           15,
           5,
           80,
           5,
           10,
           85,
           40,
           5,
           45,
           5,
           50,
           125,
           5,
           5,
           5,
           10,
           50,
           45,
           25,
           20,
           85,
           5,
           15,
           30,
           5,
           65,
           5,
           10,
           15,
           10,
           60,
           35,
           5,
           10,
           5,
           5,
           5,
           5,
           5
          ]
         },
         "mode": "markers",
         "type": "scatter",
         "x": [
          0,
          0,
          0,
          0,
          0,
          0,
          1,
          2,
          3,
          3,
          4,
          4,
          5,
          5,
          5,
          6,
          7,
          7,
          8,
          8,
          9,
          10,
          10,
          10,
          10,
          10,
          11,
          12,
          13,
          14,
          15,
          15,
          16,
          17,
          18,
          20,
          20,
          21,
          22,
          23,
          25,
          30,
          32,
          35,
          40,
          42,
          43,
          50,
          100
         ],
         "y": [
          1,
          2,
          3,
          5,
          7,
          10,
          0,
          0,
          0,
          5,
          0,
          3,
          0,
          2,
          3,
          0,
          0,
          4,
          0,
          3,
          0,
          0,
          2,
          3,
          4,
          7,
          0,
          0,
          0,
          0,
          0,
          3,
          0,
          0,
          2,
          0,
          4,
          0,
          0,
          0,
          0,
          0,
          0,
          0,
          0,
          0,
          0,
          0,
          0
         ]
        }
       ],
       "layout": {
        "title": "Relation between the number of cattle and goats",
        "xaxis": {
         "title": "Number of goat"
        },
        "yaxis": {
         "title": "Number of cattle"
        }
       }
      },
      "text/html": [
       "<div id=\"46cea19e-b3ac-4705-9e98-a5c263fbcd9b\" style=\"height: 525px; width: 100%;\" class=\"plotly-graph-div\"></div><script type=\"text/javascript\">require([\"plotly\"], function(Plotly) { window.PLOTLYENV=window.PLOTLYENV || {};window.PLOTLYENV.BASE_URL=\"https://plot.ly\";Plotly.newPlot(\"46cea19e-b3ac-4705-9e98-a5c263fbcd9b\", [{\"y\": [1.0, 2.0, 3.0, 5.0, 7.0, 10.0, 0.0, 0.0, 0.0, 5.0, 0.0, 3.0, 0.0, 2.0, 3.0, 0.0, 0.0, 4.0, 0.0, 3.0, 0.0, 0.0, 2.0, 3.0, 4.0, 7.0, 0.0, 0.0, 0.0, 0.0, 0.0, 3.0, 0.0, 0.0, 2.0, 0.0, 4.0, 0.0, 0.0, 0.0, 0.0, 0.0, 0.0, 0.0, 0.0, 0.0, 0.0, 0.0, 0.0], \"x\": [0.0, 0.0, 0.0, 0.0, 0.0, 0.0, 1.0, 2.0, 3.0, 3.0, 4.0, 4.0, 5.0, 5.0, 5.0, 6.0, 7.0, 7.0, 8.0, 8.0, 9.0, 10.0, 10.0, 10.0, 10.0, 10.0, 11.0, 12.0, 13.0, 14.0, 15.0, 15.0, 16.0, 17.0, 18.0, 20.0, 20.0, 21.0, 22.0, 23.0, 25.0, 30.0, 32.0, 35.0, 40.0, 42.0, 43.0, 50.0, 100.0], \"type\": \"scatter\", \"mode\": \"markers\", \"marker\": {\"size\": [5, 5, 10, 10, 5, 5, 5, 10, 5, 5, 15, 5, 80, 5, 10, 85, 40, 5, 45, 5, 50, 125, 5, 5, 5, 10, 50, 45, 25, 20, 85, 5, 15, 30, 5, 65, 5, 10, 15, 10, 60, 35, 5, 10, 5, 5, 5, 5, 5]}}], {\"title\": \"Relation between the number of cattle and goats\", \"xaxis\": {\"title\": \"Number of goat\"}, \"yaxis\": {\"title\": \"Number of cattle\"}}, {\"linkText\": \"Export to plot.ly\", \"showLink\": true})});</script>"
      ],
      "text/vnd.plotly.v1+html": [
       "<div id=\"46cea19e-b3ac-4705-9e98-a5c263fbcd9b\" style=\"height: 525px; width: 100%;\" class=\"plotly-graph-div\"></div><script type=\"text/javascript\">require([\"plotly\"], function(Plotly) { window.PLOTLYENV=window.PLOTLYENV || {};window.PLOTLYENV.BASE_URL=\"https://plot.ly\";Plotly.newPlot(\"46cea19e-b3ac-4705-9e98-a5c263fbcd9b\", [{\"y\": [1.0, 2.0, 3.0, 5.0, 7.0, 10.0, 0.0, 0.0, 0.0, 5.0, 0.0, 3.0, 0.0, 2.0, 3.0, 0.0, 0.0, 4.0, 0.0, 3.0, 0.0, 0.0, 2.0, 3.0, 4.0, 7.0, 0.0, 0.0, 0.0, 0.0, 0.0, 3.0, 0.0, 0.0, 2.0, 0.0, 4.0, 0.0, 0.0, 0.0, 0.0, 0.0, 0.0, 0.0, 0.0, 0.0, 0.0, 0.0, 0.0], \"x\": [0.0, 0.0, 0.0, 0.0, 0.0, 0.0, 1.0, 2.0, 3.0, 3.0, 4.0, 4.0, 5.0, 5.0, 5.0, 6.0, 7.0, 7.0, 8.0, 8.0, 9.0, 10.0, 10.0, 10.0, 10.0, 10.0, 11.0, 12.0, 13.0, 14.0, 15.0, 15.0, 16.0, 17.0, 18.0, 20.0, 20.0, 21.0, 22.0, 23.0, 25.0, 30.0, 32.0, 35.0, 40.0, 42.0, 43.0, 50.0, 100.0], \"type\": \"scatter\", \"mode\": \"markers\", \"marker\": {\"size\": [5, 5, 10, 10, 5, 5, 5, 10, 5, 5, 15, 5, 80, 5, 10, 85, 40, 5, 45, 5, 50, 125, 5, 5, 5, 10, 50, 45, 25, 20, 85, 5, 15, 30, 5, 65, 5, 10, 15, 10, 60, 35, 5, 10, 5, 5, 5, 5, 5]}}], {\"title\": \"Relation between the number of cattle and goats\", \"xaxis\": {\"title\": \"Number of goat\"}, \"yaxis\": {\"title\": \"Number of cattle\"}}, {\"linkText\": \"Export to plot.ly\", \"showLink\": true})});</script>"
      ]
     },
     "metadata": {},
     "output_type": "display_data"
    }
   ],
   "source": [
    "prueba3 = pd.crosstab(livestock_set.livestock_number_goat, livestock_set.livestock_number_cattle).stack().reset_index(name='number')\n",
    "#prueba.plot.scatter('livestock_number_goats', 'livestock_number_sheep', s=prueba.number * 10)\n",
    "prueba3 = prueba3[prueba3.number != 0]\n",
    "prueba3= prueba3.drop(0)\n",
    "prueba3 = prueba3[prueba3.livestock_number_goat <= 100]\n",
    "prueba3 = prueba3[prueba3.livestock_number_cattle <= 100]\n",
    "#display(prueba)\n",
    "goat_vs_cattle = {\n",
    "    \"layout\": {\n",
    "        \"title\": \"Relation between the number of cattle and goats\",\n",
    "        \"xaxis\": {\n",
    "            \"title\": \"Number of goat\"\n",
    "        },\n",
    "        \"yaxis\": {\n",
    "            \"title\": \"Number of cattle\"\n",
    "        }\n",
    "    },\n",
    "    \"data\": [\n",
    "        {\n",
    "\n",
    "            \"x\": prueba3.livestock_number_goat,\n",
    "            \"y\": prueba3.livestock_number_cattle,\n",
    "            \"mode\": \"markers\",\n",
    "            \"marker\": {\n",
    "                \"size\": prueba3.number * 5               \n",
    "            },\n",
    "            \"type\": \"scatter\"\n",
    "        }\n",
    "    ]\n",
    "}\n",
    "iplot(goat_vs_cattle)"
   ]
  },
  {
   "cell_type": "code",
   "execution_count": 111,
   "metadata": {},
   "outputs": [
    {
     "data": {
      "application/vnd.plotly.v1+json": {
       "data": [
        {
         "marker": {
          "size": [
           5,
           5,
           5,
           5,
           10,
           5,
           5,
           10,
           5,
           5,
           65,
           10,
           10,
           5,
           5,
           70,
           10,
           5,
           25,
           5,
           5,
           5,
           5,
           45,
           5,
           35,
           5,
           5,
           5,
           145,
           5,
           35,
           5,
           10,
           45,
           25,
           20,
           80,
           5,
           5,
           15,
           30,
           5,
           60,
           5,
           5,
           10,
           15,
           10,
           55,
           5,
           30,
           5,
           5,
           5,
           5,
           5,
           5,
           5,
           5,
           5
          ]
         },
         "mode": "markers",
         "type": "scatter",
         "x": [
          0,
          0,
          0,
          1,
          2,
          3,
          3,
          4,
          4,
          4,
          5,
          5,
          5,
          5,
          5,
          6,
          6,
          6,
          7,
          7,
          7,
          7,
          7,
          8,
          8,
          9,
          9,
          9,
          9,
          10,
          10,
          11,
          11,
          11,
          12,
          13,
          14,
          15,
          15,
          15,
          16,
          17,
          18,
          20,
          20,
          20,
          21,
          22,
          23,
          25,
          25,
          30,
          30,
          32,
          35,
          35,
          40,
          42,
          43,
          50,
          100
         ],
         "y": [
          1,
          3,
          7,
          0,
          0,
          0,
          1,
          0,
          1,
          2,
          0,
          1,
          2,
          3,
          5,
          0,
          2,
          4,
          0,
          1,
          2,
          3,
          4,
          0,
          10,
          0,
          1,
          3,
          32,
          0,
          3,
          0,
          3,
          6,
          0,
          0,
          0,
          0,
          2,
          3,
          0,
          0,
          0,
          0,
          2,
          3,
          0,
          0,
          0,
          0,
          51,
          0,
          10,
          0,
          0,
          15,
          1,
          0,
          2,
          0,
          0
         ]
        }
       ],
       "layout": {
        "title": "Relation between the number of camel and sheeps",
        "xaxis": {
         "title": "Number of goat"
        },
        "yaxis": {
         "title": "Number of camel"
        }
       }
      },
      "text/html": [
       "<div id=\"db29fad4-eebf-4e44-bc67-040b66825fc9\" style=\"height: 525px; width: 100%;\" class=\"plotly-graph-div\"></div><script type=\"text/javascript\">require([\"plotly\"], function(Plotly) { window.PLOTLYENV=window.PLOTLYENV || {};window.PLOTLYENV.BASE_URL=\"https://plot.ly\";Plotly.newPlot(\"db29fad4-eebf-4e44-bc67-040b66825fc9\", [{\"y\": [1.0, 3.0, 7.0, 0.0, 0.0, 0.0, 1.0, 0.0, 1.0, 2.0, 0.0, 1.0, 2.0, 3.0, 5.0, 0.0, 2.0, 4.0, 0.0, 1.0, 2.0, 3.0, 4.0, 0.0, 10.0, 0.0, 1.0, 3.0, 32.0, 0.0, 3.0, 0.0, 3.0, 6.0, 0.0, 0.0, 0.0, 0.0, 2.0, 3.0, 0.0, 0.0, 0.0, 0.0, 2.0, 3.0, 0.0, 0.0, 0.0, 0.0, 51.0, 0.0, 10.0, 0.0, 0.0, 15.0, 1.0, 0.0, 2.0, 0.0, 0.0], \"x\": [0.0, 0.0, 0.0, 1.0, 2.0, 3.0, 3.0, 4.0, 4.0, 4.0, 5.0, 5.0, 5.0, 5.0, 5.0, 6.0, 6.0, 6.0, 7.0, 7.0, 7.0, 7.0, 7.0, 8.0, 8.0, 9.0, 9.0, 9.0, 9.0, 10.0, 10.0, 11.0, 11.0, 11.0, 12.0, 13.0, 14.0, 15.0, 15.0, 15.0, 16.0, 17.0, 18.0, 20.0, 20.0, 20.0, 21.0, 22.0, 23.0, 25.0, 25.0, 30.0, 30.0, 32.0, 35.0, 35.0, 40.0, 42.0, 43.0, 50.0, 100.0], \"type\": \"scatter\", \"mode\": \"markers\", \"marker\": {\"size\": [5, 5, 5, 5, 10, 5, 5, 10, 5, 5, 65, 10, 10, 5, 5, 70, 10, 5, 25, 5, 5, 5, 5, 45, 5, 35, 5, 5, 5, 145, 5, 35, 5, 10, 45, 25, 20, 80, 5, 5, 15, 30, 5, 60, 5, 5, 10, 15, 10, 55, 5, 30, 5, 5, 5, 5, 5, 5, 5, 5, 5]}}], {\"title\": \"Relation between the number of camel and sheeps\", \"xaxis\": {\"title\": \"Number of goat\"}, \"yaxis\": {\"title\": \"Number of camel\"}}, {\"linkText\": \"Export to plot.ly\", \"showLink\": true})});</script>"
      ],
      "text/vnd.plotly.v1+html": [
       "<div id=\"db29fad4-eebf-4e44-bc67-040b66825fc9\" style=\"height: 525px; width: 100%;\" class=\"plotly-graph-div\"></div><script type=\"text/javascript\">require([\"plotly\"], function(Plotly) { window.PLOTLYENV=window.PLOTLYENV || {};window.PLOTLYENV.BASE_URL=\"https://plot.ly\";Plotly.newPlot(\"db29fad4-eebf-4e44-bc67-040b66825fc9\", [{\"y\": [1.0, 3.0, 7.0, 0.0, 0.0, 0.0, 1.0, 0.0, 1.0, 2.0, 0.0, 1.0, 2.0, 3.0, 5.0, 0.0, 2.0, 4.0, 0.0, 1.0, 2.0, 3.0, 4.0, 0.0, 10.0, 0.0, 1.0, 3.0, 32.0, 0.0, 3.0, 0.0, 3.0, 6.0, 0.0, 0.0, 0.0, 0.0, 2.0, 3.0, 0.0, 0.0, 0.0, 0.0, 2.0, 3.0, 0.0, 0.0, 0.0, 0.0, 51.0, 0.0, 10.0, 0.0, 0.0, 15.0, 1.0, 0.0, 2.0, 0.0, 0.0], \"x\": [0.0, 0.0, 0.0, 1.0, 2.0, 3.0, 3.0, 4.0, 4.0, 4.0, 5.0, 5.0, 5.0, 5.0, 5.0, 6.0, 6.0, 6.0, 7.0, 7.0, 7.0, 7.0, 7.0, 8.0, 8.0, 9.0, 9.0, 9.0, 9.0, 10.0, 10.0, 11.0, 11.0, 11.0, 12.0, 13.0, 14.0, 15.0, 15.0, 15.0, 16.0, 17.0, 18.0, 20.0, 20.0, 20.0, 21.0, 22.0, 23.0, 25.0, 25.0, 30.0, 30.0, 32.0, 35.0, 35.0, 40.0, 42.0, 43.0, 50.0, 100.0], \"type\": \"scatter\", \"mode\": \"markers\", \"marker\": {\"size\": [5, 5, 5, 5, 10, 5, 5, 10, 5, 5, 65, 10, 10, 5, 5, 70, 10, 5, 25, 5, 5, 5, 5, 45, 5, 35, 5, 5, 5, 145, 5, 35, 5, 10, 45, 25, 20, 80, 5, 5, 15, 30, 5, 60, 5, 5, 10, 15, 10, 55, 5, 30, 5, 5, 5, 5, 5, 5, 5, 5, 5]}}], {\"title\": \"Relation between the number of camel and sheeps\", \"xaxis\": {\"title\": \"Number of goat\"}, \"yaxis\": {\"title\": \"Number of camel\"}}, {\"linkText\": \"Export to plot.ly\", \"showLink\": true})});</script>"
      ]
     },
     "metadata": {},
     "output_type": "display_data"
    }
   ],
   "source": [
    "prueba4 = pd.crosstab(livestock_set.livestock_number_goat, livestock_set.livestock_number_camel).stack().reset_index(name='number')\n",
    "#prueba.plot.scatter('livestock_number_goats', 'livestock_number_sheep', s=prueba.number * 10)\n",
    "prueba4 = prueba4[prueba4.number != 0]\n",
    "prueba4= prueba4.drop(0)\n",
    "prueba4 = prueba4[prueba4.livestock_number_goat <= 100]\n",
    "prueba4 = prueba4[prueba4.livestock_number_camel <= 100]\n",
    "#display(prueba)\n",
    "goat_vs_camel = {\n",
    "    \"layout\": {\n",
    "        \"title\": \"Relation between the number of camel and sheeps\",\n",
    "        \"xaxis\": {\n",
    "            \"title\": \"Number of goat\"\n",
    "        },\n",
    "        \"yaxis\": {\n",
    "            \"title\": \"Number of camel\"\n",
    "        }\n",
    "    },\n",
    "    \"data\": [\n",
    "        {\n",
    "\n",
    "            \"x\": prueba4.livestock_number_goat,\n",
    "            \"y\": prueba4.livestock_number_camel,\n",
    "            \"mode\": \"markers\",\n",
    "            \"marker\": {\n",
    "                \"size\": prueba4.number * 5               \n",
    "            },\n",
    "            \"type\": \"scatter\"\n",
    "        }\n",
    "    ]\n",
    "}\n",
    "iplot(goat_vs_camel)"
   ]
  },
  {
   "cell_type": "code",
   "execution_count": 112,
   "metadata": {},
   "outputs": [
    {
     "data": {
      "application/vnd.plotly.v1+json": {
       "data": [
        {
         "marker": {
          "color": [
           "orange",
           "orange",
           "orange",
           "red",
           "red",
           "red",
           "orange",
           "red",
           "orange",
           "red",
           "orange",
           "orange",
           "orange",
           "orange",
           "orange",
           "orange",
           "orange",
           "orange",
           "orange",
           "orange",
           "green",
           "orange",
           "orange",
           "orange",
           "green",
           "orange",
           "orange",
           "orange",
           "orange",
           "orange",
           "orange",
           "orange",
           "orange",
           "orange",
           "orange",
           "orange",
           "orange",
           "orange",
           "orange",
           "orange",
           "orange",
           "orange",
           "orange",
           "orange",
           "orange",
           "orange",
           "orange",
           "orange",
           "orange",
           "green",
           "orange",
           "orange",
           "orange",
           "orange",
           "green",
           "orange",
           "orange",
           "orange",
           "orange",
           "orange",
           "orange",
           "orange",
           "orange",
           "orange",
           "green",
           "orange",
           "orange",
           "orange",
           "orange",
           "orange",
           "orange",
           "orange",
           "green",
           "orange",
           "orange",
           "orange",
           "green"
          ],
          "size": [
           5,
           5,
           5,
           5,
           10,
           5,
           5,
           5,
           5,
           40,
           5,
           5,
           30,
           5,
           35,
           5,
           5,
           30,
           5,
           5,
           5,
           25,
           5,
           5,
           5,
           85,
           5,
           5,
           35,
           50,
           5,
           20,
           5,
           25,
           5,
           5,
           60,
           5,
           20,
           5,
           5,
           20,
           20,
           10,
           5,
           85,
           5,
           5,
           20,
           5,
           45,
           20,
           5,
           70,
           5,
           5,
           5,
           20,
           40,
           5,
           5,
           5,
           5,
           5,
           5,
           5,
           5,
           5,
           5,
           5,
           20,
           5,
           5,
           5,
           5,
           5,
           5
          ]
         },
         "mode": "markers",
         "type": "scatter",
         "x": [
          0,
          0,
          0,
          1,
          2,
          3,
          3,
          4,
          4,
          5,
          5,
          5,
          6,
          6,
          7,
          7,
          7,
          8,
          8,
          8,
          8,
          9,
          9,
          9,
          9,
          10,
          10,
          10,
          11,
          12,
          12,
          13,
          13,
          14,
          14,
          14,
          15,
          15,
          16,
          16,
          16,
          17,
          18,
          19,
          19,
          20,
          20,
          20,
          21,
          21,
          22,
          23,
          24,
          25,
          25,
          26,
          28,
          29,
          30,
          31,
          32,
          34,
          35,
          35,
          35,
          37,
          40,
          43,
          45,
          45,
          50,
          60,
          60,
          100,
          105,
          121,
          217
         ],
         "y": [
          1,
          3,
          7,
          0,
          0,
          0,
          1,
          0,
          2,
          0,
          2,
          5,
          0,
          2,
          0,
          3,
          4,
          0,
          1,
          2,
          10,
          0,
          1,
          2,
          32,
          0,
          1,
          3,
          0,
          0,
          1,
          0,
          1,
          0,
          2,
          3,
          0,
          3,
          0,
          3,
          4,
          0,
          0,
          0,
          3,
          0,
          2,
          6,
          0,
          6,
          0,
          0,
          0,
          0,
          51,
          0,
          0,
          0,
          0,
          0,
          0,
          0,
          0,
          3,
          15,
          0,
          0,
          2,
          0,
          1,
          0,
          0,
          10,
          0,
          0,
          0,
          2
         ]
        }
       ],
       "layout": {
        "title": "Relation between the number of camel and sheeps",
        "xaxis": {
         "title": "Number of goat"
        },
        "yaxis": {
         "title": "Number of camel"
        }
       }
      },
      "text/html": [
       "<div id=\"074d32a5-ec55-4665-9292-d49017194dae\" style=\"height: 525px; width: 100%;\" class=\"plotly-graph-div\"></div><script type=\"text/javascript\">require([\"plotly\"], function(Plotly) { window.PLOTLYENV=window.PLOTLYENV || {};window.PLOTLYENV.BASE_URL=\"https://plot.ly\";Plotly.newPlot(\"074d32a5-ec55-4665-9292-d49017194dae\", [{\"y\": [1.0, 3.0, 7.0, 0.0, 0.0, 0.0, 1.0, 0.0, 2.0, 0.0, 2.0, 5.0, 0.0, 2.0, 0.0, 3.0, 4.0, 0.0, 1.0, 2.0, 10.0, 0.0, 1.0, 2.0, 32.0, 0.0, 1.0, 3.0, 0.0, 0.0, 1.0, 0.0, 1.0, 0.0, 2.0, 3.0, 0.0, 3.0, 0.0, 3.0, 4.0, 0.0, 0.0, 0.0, 3.0, 0.0, 2.0, 6.0, 0.0, 6.0, 0.0, 0.0, 0.0, 0.0, 51.0, 0.0, 0.0, 0.0, 0.0, 0.0, 0.0, 0.0, 0.0, 3.0, 15.0, 0.0, 0.0, 2.0, 0.0, 1.0, 0.0, 0.0, 10.0, 0.0, 0.0, 0.0, 2.0], \"x\": [0.0, 0.0, 0.0, 1.0, 2.0, 3.0, 3.0, 4.0, 4.0, 5.0, 5.0, 5.0, 6.0, 6.0, 7.0, 7.0, 7.0, 8.0, 8.0, 8.0, 8.0, 9.0, 9.0, 9.0, 9.0, 10.0, 10.0, 10.0, 11.0, 12.0, 12.0, 13.0, 13.0, 14.0, 14.0, 14.0, 15.0, 15.0, 16.0, 16.0, 16.0, 17.0, 18.0, 19.0, 19.0, 20.0, 20.0, 20.0, 21.0, 21.0, 22.0, 23.0, 24.0, 25.0, 25.0, 26.0, 28.0, 29.0, 30.0, 31.0, 32.0, 34.0, 35.0, 35.0, 35.0, 37.0, 40.0, 43.0, 45.0, 45.0, 50.0, 60.0, 60.0, 100.0, 105.0, 121.0, 217.0], \"type\": \"scatter\", \"mode\": \"markers\", \"marker\": {\"color\": [\"orange\", \"orange\", \"orange\", \"red\", \"red\", \"red\", \"orange\", \"red\", \"orange\", \"red\", \"orange\", \"orange\", \"orange\", \"orange\", \"orange\", \"orange\", \"orange\", \"orange\", \"orange\", \"orange\", \"green\", \"orange\", \"orange\", \"orange\", \"green\", \"orange\", \"orange\", \"orange\", \"orange\", \"orange\", \"orange\", \"orange\", \"orange\", \"orange\", \"orange\", \"orange\", \"orange\", \"orange\", \"orange\", \"orange\", \"orange\", \"orange\", \"orange\", \"orange\", \"orange\", \"orange\", \"orange\", \"orange\", \"orange\", \"green\", \"orange\", \"orange\", \"orange\", \"orange\", \"green\", \"orange\", \"orange\", \"orange\", \"orange\", \"orange\", \"orange\", \"orange\", \"orange\", \"orange\", \"green\", \"orange\", \"orange\", \"orange\", \"orange\", \"orange\", \"orange\", \"orange\", \"green\", \"orange\", \"orange\", \"orange\", \"green\"], \"size\": [5, 5, 5, 5, 10, 5, 5, 5, 5, 40, 5, 5, 30, 5, 35, 5, 5, 30, 5, 5, 5, 25, 5, 5, 5, 85, 5, 5, 35, 50, 5, 20, 5, 25, 5, 5, 60, 5, 20, 5, 5, 20, 20, 10, 5, 85, 5, 5, 20, 5, 45, 20, 5, 70, 5, 5, 5, 20, 40, 5, 5, 5, 5, 5, 5, 5, 5, 5, 5, 5, 20, 5, 5, 5, 5, 5, 5]}}], {\"title\": \"Relation between the number of camel and sheeps\", \"xaxis\": {\"title\": \"Number of goat\"}, \"yaxis\": {\"title\": \"Number of camel\"}}, {\"linkText\": \"Export to plot.ly\", \"showLink\": true})});</script>"
      ],
      "text/vnd.plotly.v1+html": [
       "<div id=\"074d32a5-ec55-4665-9292-d49017194dae\" style=\"height: 525px; width: 100%;\" class=\"plotly-graph-div\"></div><script type=\"text/javascript\">require([\"plotly\"], function(Plotly) { window.PLOTLYENV=window.PLOTLYENV || {};window.PLOTLYENV.BASE_URL=\"https://plot.ly\";Plotly.newPlot(\"074d32a5-ec55-4665-9292-d49017194dae\", [{\"y\": [1.0, 3.0, 7.0, 0.0, 0.0, 0.0, 1.0, 0.0, 2.0, 0.0, 2.0, 5.0, 0.0, 2.0, 0.0, 3.0, 4.0, 0.0, 1.0, 2.0, 10.0, 0.0, 1.0, 2.0, 32.0, 0.0, 1.0, 3.0, 0.0, 0.0, 1.0, 0.0, 1.0, 0.0, 2.0, 3.0, 0.0, 3.0, 0.0, 3.0, 4.0, 0.0, 0.0, 0.0, 3.0, 0.0, 2.0, 6.0, 0.0, 6.0, 0.0, 0.0, 0.0, 0.0, 51.0, 0.0, 0.0, 0.0, 0.0, 0.0, 0.0, 0.0, 0.0, 3.0, 15.0, 0.0, 0.0, 2.0, 0.0, 1.0, 0.0, 0.0, 10.0, 0.0, 0.0, 0.0, 2.0], \"x\": [0.0, 0.0, 0.0, 1.0, 2.0, 3.0, 3.0, 4.0, 4.0, 5.0, 5.0, 5.0, 6.0, 6.0, 7.0, 7.0, 7.0, 8.0, 8.0, 8.0, 8.0, 9.0, 9.0, 9.0, 9.0, 10.0, 10.0, 10.0, 11.0, 12.0, 12.0, 13.0, 13.0, 14.0, 14.0, 14.0, 15.0, 15.0, 16.0, 16.0, 16.0, 17.0, 18.0, 19.0, 19.0, 20.0, 20.0, 20.0, 21.0, 21.0, 22.0, 23.0, 24.0, 25.0, 25.0, 26.0, 28.0, 29.0, 30.0, 31.0, 32.0, 34.0, 35.0, 35.0, 35.0, 37.0, 40.0, 43.0, 45.0, 45.0, 50.0, 60.0, 60.0, 100.0, 105.0, 121.0, 217.0], \"type\": \"scatter\", \"mode\": \"markers\", \"marker\": {\"color\": [\"orange\", \"orange\", \"orange\", \"red\", \"red\", \"red\", \"orange\", \"red\", \"orange\", \"red\", \"orange\", \"orange\", \"orange\", \"orange\", \"orange\", \"orange\", \"orange\", \"orange\", \"orange\", \"orange\", \"green\", \"orange\", \"orange\", \"orange\", \"green\", \"orange\", \"orange\", \"orange\", \"orange\", \"orange\", \"orange\", \"orange\", \"orange\", \"orange\", \"orange\", \"orange\", \"orange\", \"orange\", \"orange\", \"orange\", \"orange\", \"orange\", \"orange\", \"orange\", \"orange\", \"orange\", \"orange\", \"orange\", \"orange\", \"green\", \"orange\", \"orange\", \"orange\", \"orange\", \"green\", \"orange\", \"orange\", \"orange\", \"orange\", \"orange\", \"orange\", \"orange\", \"orange\", \"orange\", \"green\", \"orange\", \"orange\", \"orange\", \"orange\", \"orange\", \"orange\", \"orange\", \"green\", \"orange\", \"orange\", \"orange\", \"green\"], \"size\": [5, 5, 5, 5, 10, 5, 5, 5, 5, 40, 5, 5, 30, 5, 35, 5, 5, 30, 5, 5, 5, 25, 5, 5, 5, 85, 5, 5, 35, 50, 5, 20, 5, 25, 5, 5, 60, 5, 20, 5, 5, 20, 20, 10, 5, 85, 5, 5, 20, 5, 45, 20, 5, 70, 5, 5, 5, 20, 40, 5, 5, 5, 5, 5, 5, 5, 5, 5, 5, 5, 20, 5, 5, 5, 5, 5, 5]}}], {\"title\": \"Relation between the number of camel and sheeps\", \"xaxis\": {\"title\": \"Number of goat\"}, \"yaxis\": {\"title\": \"Number of camel\"}}, {\"linkText\": \"Export to plot.ly\", \"showLink\": true})});</script>"
      ]
     },
     "metadata": {},
     "output_type": "display_data"
    }
   ],
   "source": [
    "def getColor5(value):\n",
    "    if (value <=0):\n",
    "        return \"red\"\n",
    "    elif (value <= 3):\n",
    "        return \"orange\"\n",
    "    else:\n",
    "        return \"green\"\n",
    "\n",
    "def getWealth5(df):\n",
    "    df['wealth'] = df['livestock_number_gosh'].map(score_gs) + df['livestock_number_camel'].map(score_camel)\n",
    "    return df['wealth']\n",
    "    \n",
    "prueba5 = pd.crosstab(livestock_set.livestock_number_gosh, livestock_set.livestock_number_camel).stack().reset_index(name='number')\n",
    "#prueba.plot.scatter('livestock_number_goats', 'livestock_number_sheep', s=prueba.number * 10)\n",
    "prueba5 = prueba5[prueba5.number != 0]\n",
    "prueba5= prueba5.drop(0)\n",
    "#prueba5 = prueba5[prueba5.livestock_number_gosh <= 100]\n",
    "#prueba5 = prueba5[prueba5.livestock_number_camel <= 100]\n",
    "#display(prueba)\n",
    "gosh_vs_camel = {\n",
    "    \"layout\": {\n",
    "        \"title\": \"Relation between the number of camel and sheeps\",\n",
    "        \"xaxis\": {\n",
    "            \"title\": \"Number of goat\"\n",
    "        },\n",
    "        \"yaxis\": {\n",
    "            \"title\": \"Number of camel\"\n",
    "        }\n",
    "    },\n",
    "    \"data\": [\n",
    "        {\n",
    "\n",
    "            \"x\": prueba5.livestock_number_gosh,\n",
    "            \"y\": prueba5.livestock_number_camel,\n",
    "            \"mode\": \"markers\",\n",
    "            \"marker\": {\n",
    "                \"size\": prueba5.number * 5, \n",
    "                \"color\": getWealth5(prueba5).map(getColor5)\n",
    "            },\n",
    "            \"type\": \"scatter\"\n",
    "        }\n",
    "    ]\n",
    "}\n",
    "iplot(gosh_vs_camel)"
   ]
  },
  {
   "cell_type": "code",
   "execution_count": 113,
   "metadata": {},
   "outputs": [
    {
     "data": {
      "application/vnd.plotly.v1+json": {
       "data": [
        {
         "marker": {
          "color": [
           "orange",
           "orange",
           "orange",
           "orange",
           "red",
           "red",
           "red",
           "orange",
           "red",
           "orange",
           "red",
           "orange",
           "orange",
           "orange",
           "orange",
           "orange",
           "orange",
           "orange",
           "orange",
           "orange",
           "orange",
           "orange",
           "green",
           "orange",
           "orange",
           "orange",
           "orange",
           "orange",
           "orange",
           "green",
           "orange",
           "orange",
           "orange",
           "orange",
           "orange",
           "orange",
           "orange",
           "orange",
           "green",
           "orange",
           "orange",
           "orange",
           "orange",
           "orange",
           "green",
           "orange",
           "orange",
           "orange",
           "orange",
           "orange",
           "orange",
           "orange",
           "orange",
           "orange",
           "orange",
           "orange",
           "orange",
           "orange",
           "orange",
           "orange",
           "orange",
           "orange",
           "green"
          ],
          "size": [
           5,
           5,
           10,
           5,
           5,
           10,
           5,
           5,
           5,
           5,
           35,
           15,
           35,
           35,
           5,
           5,
           40,
           5,
           40,
           80,
           5,
           5,
           5,
           35,
           55,
           25,
           30,
           5,
           60,
           5,
           25,
           5,
           20,
           15,
           5,
           15,
           85,
           5,
           5,
           25,
           45,
           20,
           5,
           70,
           5,
           5,
           5,
           20,
           40,
           5,
           5,
           5,
           15,
           5,
           5,
           5,
           10,
           20,
           10,
           5,
           5,
           5,
           5
          ]
         },
         "mode": "markers",
         "type": "scatter",
         "x": [
          0,
          0,
          0,
          0,
          1,
          2,
          3,
          3,
          4,
          4,
          5,
          5,
          6,
          7,
          7,
          7,
          8,
          8,
          9,
          10,
          10,
          10,
          10,
          11,
          12,
          13,
          14,
          14,
          15,
          15,
          16,
          16,
          17,
          18,
          18,
          19,
          20,
          20,
          20,
          21,
          22,
          23,
          24,
          25,
          25,
          26,
          28,
          29,
          30,
          31,
          32,
          34,
          35,
          37,
          40,
          43,
          45,
          50,
          60,
          100,
          105,
          121,
          217
         ],
         "y": [
          1,
          3,
          5,
          10,
          0,
          0,
          0,
          5,
          0,
          3,
          0,
          3,
          0,
          0,
          2,
          4,
          0,
          2,
          0,
          0,
          3,
          4,
          7,
          0,
          0,
          0,
          0,
          2,
          0,
          7,
          0,
          3,
          0,
          0,
          2,
          0,
          0,
          4,
          7,
          0,
          0,
          0,
          0,
          0,
          3,
          0,
          0,
          0,
          0,
          0,
          0,
          0,
          0,
          0,
          0,
          0,
          0,
          0,
          0,
          0,
          0,
          0,
          0
         ]
        }
       ],
       "layout": {
        "title": "Relation between the number of camel and sheeps",
        "xaxis": {
         "title": "Number of goat"
        },
        "yaxis": {
         "title": "Number of camel"
        }
       }
      },
      "text/html": [
       "<div id=\"4b118324-cbcd-4e5b-8bb8-4970415cf125\" style=\"height: 525px; width: 100%;\" class=\"plotly-graph-div\"></div><script type=\"text/javascript\">require([\"plotly\"], function(Plotly) { window.PLOTLYENV=window.PLOTLYENV || {};window.PLOTLYENV.BASE_URL=\"https://plot.ly\";Plotly.newPlot(\"4b118324-cbcd-4e5b-8bb8-4970415cf125\", [{\"y\": [1.0, 3.0, 5.0, 10.0, 0.0, 0.0, 0.0, 5.0, 0.0, 3.0, 0.0, 3.0, 0.0, 0.0, 2.0, 4.0, 0.0, 2.0, 0.0, 0.0, 3.0, 4.0, 7.0, 0.0, 0.0, 0.0, 0.0, 2.0, 0.0, 7.0, 0.0, 3.0, 0.0, 0.0, 2.0, 0.0, 0.0, 4.0, 7.0, 0.0, 0.0, 0.0, 0.0, 0.0, 3.0, 0.0, 0.0, 0.0, 0.0, 0.0, 0.0, 0.0, 0.0, 0.0, 0.0, 0.0, 0.0, 0.0, 0.0, 0.0, 0.0, 0.0, 0.0], \"x\": [0.0, 0.0, 0.0, 0.0, 1.0, 2.0, 3.0, 3.0, 4.0, 4.0, 5.0, 5.0, 6.0, 7.0, 7.0, 7.0, 8.0, 8.0, 9.0, 10.0, 10.0, 10.0, 10.0, 11.0, 12.0, 13.0, 14.0, 14.0, 15.0, 15.0, 16.0, 16.0, 17.0, 18.0, 18.0, 19.0, 20.0, 20.0, 20.0, 21.0, 22.0, 23.0, 24.0, 25.0, 25.0, 26.0, 28.0, 29.0, 30.0, 31.0, 32.0, 34.0, 35.0, 37.0, 40.0, 43.0, 45.0, 50.0, 60.0, 100.0, 105.0, 121.0, 217.0], \"type\": \"scatter\", \"mode\": \"markers\", \"marker\": {\"color\": [\"orange\", \"orange\", \"orange\", \"orange\", \"red\", \"red\", \"red\", \"orange\", \"red\", \"orange\", \"red\", \"orange\", \"orange\", \"orange\", \"orange\", \"orange\", \"orange\", \"orange\", \"orange\", \"orange\", \"orange\", \"orange\", \"green\", \"orange\", \"orange\", \"orange\", \"orange\", \"orange\", \"orange\", \"green\", \"orange\", \"orange\", \"orange\", \"orange\", \"orange\", \"orange\", \"orange\", \"orange\", \"green\", \"orange\", \"orange\", \"orange\", \"orange\", \"orange\", \"green\", \"orange\", \"orange\", \"orange\", \"orange\", \"orange\", \"orange\", \"orange\", \"orange\", \"orange\", \"orange\", \"orange\", \"orange\", \"orange\", \"orange\", \"orange\", \"orange\", \"orange\", \"green\"], \"size\": [5, 5, 10, 5, 5, 10, 5, 5, 5, 5, 35, 15, 35, 35, 5, 5, 40, 5, 40, 80, 5, 5, 5, 35, 55, 25, 30, 5, 60, 5, 25, 5, 20, 15, 5, 15, 85, 5, 5, 25, 45, 20, 5, 70, 5, 5, 5, 20, 40, 5, 5, 5, 15, 5, 5, 5, 10, 20, 10, 5, 5, 5, 5]}}], {\"title\": \"Relation between the number of camel and sheeps\", \"xaxis\": {\"title\": \"Number of goat\"}, \"yaxis\": {\"title\": \"Number of camel\"}}, {\"linkText\": \"Export to plot.ly\", \"showLink\": true})});</script>"
      ],
      "text/vnd.plotly.v1+html": [
       "<div id=\"4b118324-cbcd-4e5b-8bb8-4970415cf125\" style=\"height: 525px; width: 100%;\" class=\"plotly-graph-div\"></div><script type=\"text/javascript\">require([\"plotly\"], function(Plotly) { window.PLOTLYENV=window.PLOTLYENV || {};window.PLOTLYENV.BASE_URL=\"https://plot.ly\";Plotly.newPlot(\"4b118324-cbcd-4e5b-8bb8-4970415cf125\", [{\"y\": [1.0, 3.0, 5.0, 10.0, 0.0, 0.0, 0.0, 5.0, 0.0, 3.0, 0.0, 3.0, 0.0, 0.0, 2.0, 4.0, 0.0, 2.0, 0.0, 0.0, 3.0, 4.0, 7.0, 0.0, 0.0, 0.0, 0.0, 2.0, 0.0, 7.0, 0.0, 3.0, 0.0, 0.0, 2.0, 0.0, 0.0, 4.0, 7.0, 0.0, 0.0, 0.0, 0.0, 0.0, 3.0, 0.0, 0.0, 0.0, 0.0, 0.0, 0.0, 0.0, 0.0, 0.0, 0.0, 0.0, 0.0, 0.0, 0.0, 0.0, 0.0, 0.0, 0.0], \"x\": [0.0, 0.0, 0.0, 0.0, 1.0, 2.0, 3.0, 3.0, 4.0, 4.0, 5.0, 5.0, 6.0, 7.0, 7.0, 7.0, 8.0, 8.0, 9.0, 10.0, 10.0, 10.0, 10.0, 11.0, 12.0, 13.0, 14.0, 14.0, 15.0, 15.0, 16.0, 16.0, 17.0, 18.0, 18.0, 19.0, 20.0, 20.0, 20.0, 21.0, 22.0, 23.0, 24.0, 25.0, 25.0, 26.0, 28.0, 29.0, 30.0, 31.0, 32.0, 34.0, 35.0, 37.0, 40.0, 43.0, 45.0, 50.0, 60.0, 100.0, 105.0, 121.0, 217.0], \"type\": \"scatter\", \"mode\": \"markers\", \"marker\": {\"color\": [\"orange\", \"orange\", \"orange\", \"orange\", \"red\", \"red\", \"red\", \"orange\", \"red\", \"orange\", \"red\", \"orange\", \"orange\", \"orange\", \"orange\", \"orange\", \"orange\", \"orange\", \"orange\", \"orange\", \"orange\", \"orange\", \"green\", \"orange\", \"orange\", \"orange\", \"orange\", \"orange\", \"orange\", \"green\", \"orange\", \"orange\", \"orange\", \"orange\", \"orange\", \"orange\", \"orange\", \"orange\", \"green\", \"orange\", \"orange\", \"orange\", \"orange\", \"orange\", \"green\", \"orange\", \"orange\", \"orange\", \"orange\", \"orange\", \"orange\", \"orange\", \"orange\", \"orange\", \"orange\", \"orange\", \"orange\", \"orange\", \"orange\", \"orange\", \"orange\", \"orange\", \"green\"], \"size\": [5, 5, 10, 5, 5, 10, 5, 5, 5, 5, 35, 15, 35, 35, 5, 5, 40, 5, 40, 80, 5, 5, 5, 35, 55, 25, 30, 5, 60, 5, 25, 5, 20, 15, 5, 15, 85, 5, 5, 25, 45, 20, 5, 70, 5, 5, 5, 20, 40, 5, 5, 5, 15, 5, 5, 5, 10, 20, 10, 5, 5, 5, 5]}}], {\"title\": \"Relation between the number of camel and sheeps\", \"xaxis\": {\"title\": \"Number of goat\"}, \"yaxis\": {\"title\": \"Number of camel\"}}, {\"linkText\": \"Export to plot.ly\", \"showLink\": true})});</script>"
      ]
     },
     "metadata": {},
     "output_type": "display_data"
    }
   ],
   "source": [
    "def getColor6(value):\n",
    "    if (value <=0):\n",
    "        return \"red\"\n",
    "    elif (value <= 3):\n",
    "        return \"orange\"\n",
    "    else:\n",
    "        return \"green\"\n",
    "\n",
    "def getWealth6(df):\n",
    "    df['wealth'] = df['livestock_number_gosh'].map(score_gs) + df['livestock_number_cattle'].map(score_cattle)\n",
    "    return df['wealth']\n",
    "    \n",
    "prueba6 = pd.crosstab(livestock_set.livestock_number_gosh, livestock_set.livestock_number_cattle).stack().reset_index(name='number')\n",
    "#prueba.plot.scatter('livestock_number_goats', 'livestock_number_sheep', s=prueba.number * 10)\n",
    "prueba6 = prueba6[prueba6.number != 0]\n",
    "prueba6= prueba6.drop(0)\n",
    "#prueba5 = prueba5[prueba5.livestock_number_gosh <= 100]\n",
    "#prueba5 = prueba5[prueba5.livestock_number_camel <= 100]\n",
    "#display(prueba)\n",
    "gosh_vs_cattle = {\n",
    "    \"layout\": {\n",
    "        \"title\": \"Relation between the number of camel and sheeps\",\n",
    "        \"xaxis\": {\n",
    "            \"title\": \"Number of goat\"\n",
    "        },\n",
    "        \"yaxis\": {\n",
    "            \"title\": \"Number of camel\"\n",
    "        }\n",
    "    },\n",
    "    \"data\": [\n",
    "        {\n",
    "\n",
    "            \"x\": prueba6.livestock_number_gosh,\n",
    "            \"y\": prueba6.livestock_number_cattle,\n",
    "            \"mode\": \"markers\",\n",
    "            \"marker\": {\n",
    "                \"size\": prueba6.number * 5,\n",
    "                \"color\": getWealth6(prueba6).map(getColor6)\n",
    "            },\n",
    "            \"type\": \"scatter\"\n",
    "        }\n",
    "    ]\n",
    "}\n",
    "iplot(gosh_vs_cattle)"
   ]
  },
  {
   "cell_type": "markdown",
   "metadata": {},
   "source": [
    "With a few exceptions, the number of goats per household is proportional to the number of sheeps. So to define wealth groups for livestock tenants the number of goats will be the main variable."
   ]
  },
  {
   "cell_type": "code",
   "execution_count": 114,
   "metadata": {},
   "outputs": [],
   "source": [
    "goats = goats.value_counts().sort_index()\n",
    "goats_femHoHH = goats_femHoHH.value_counts().sort_index()\n",
    "sheeps = sheeps.value_counts().sort_index()\n",
    "sheeps_femHoHH = sheeps_femHoHH.value_counts().sort_index()\n",
    "cattle = cattle.value_counts().sort_index()\n",
    "cattle_femHoHH = cattle_femHoHH.value_counts().sort_index()"
   ]
  },
  {
   "cell_type": "code",
   "execution_count": 115,
   "metadata": {},
   "outputs": [
    {
     "name": "stdout",
     "output_type": "stream",
     "text": [
      "[5, 10, 40]\n",
      "[5, 10, 40]\n",
      "0.226496     5\n",
      "0.551282    10\n",
      "0.978632    40\n",
      "dtype: int64\n",
      "0.203704     5\n",
      "0.537037    10\n",
      "0.975309    40\n",
      "dtype: int64\n",
      "6.0      7.264957\n",
      "7.0      3.846154\n",
      "8.0      4.273504\n",
      "9.0      4.273504\n",
      "10.0    12.820513\n",
      "Name: livestock_number_goat, dtype: float64\n"
     ]
    },
    {
     "data": {
      "application/vnd.plotly.v1+json": {
       "data": [
        {
         "marker": {
          "color": "rgb(214,39,40)"
         },
         "name": "Very poor (22.6%)",
         "type": "bar",
         "x": [
          0,
          1,
          2,
          3,
          4,
          5
         ],
         "y": [
          10.683760683760683,
          0.42735042735042733,
          0.8547008547008547,
          0.8547008547008547,
          1.7094017094017093,
          8.11965811965812
         ]
        },
        {
         "marker": {
          "color": "rgb(255,127,14)"
         },
         "name": "Poor (32.5%)",
         "type": "bar",
         "x": [
          6,
          7,
          8,
          9,
          10
         ],
         "y": [
          7.264957264957265,
          3.8461538461538463,
          4.273504273504273,
          4.273504273504273,
          12.820512820512821
         ]
        },
        {
         "marker": {
          "color": "rgb(44,160,44)"
         },
         "name": "Medium (42.7%)",
         "type": "bar",
         "x": [
          11,
          12,
          13,
          14,
          15,
          16,
          17,
          18,
          20,
          21,
          22,
          23,
          25,
          30,
          32,
          35,
          40
         ],
         "y": [
          4.273504273504273,
          3.8461538461538463,
          2.1367521367521367,
          1.7094017094017093,
          7.6923076923076925,
          1.2820512820512822,
          2.5641025641025643,
          0.42735042735042733,
          5.982905982905983,
          0.8547008547008547,
          1.2820512820512822,
          0.8547008547008547,
          5.128205128205129,
          2.9914529914529915,
          0.42735042735042733,
          0.8547008547008547,
          0.42735042735042733
         ]
        }
       ],
       "layout": {
        "annotations": [],
        "title": "Number of goats per wealth group",
        "width": 700,
        "yaxis": {
         "ticksuffix": "%"
        }
       }
      },
      "text/html": [
       "<div id=\"4fff1752-fc6a-442a-963c-d74fbc6e94f9\" style=\"height: 525px; width: 700px;\" class=\"plotly-graph-div\"></div><script type=\"text/javascript\">require([\"plotly\"], function(Plotly) { window.PLOTLYENV=window.PLOTLYENV || {};window.PLOTLYENV.BASE_URL=\"https://plot.ly\";Plotly.newPlot(\"4fff1752-fc6a-442a-963c-d74fbc6e94f9\", [{\"y\": [10.683760683760683, 0.42735042735042733, 0.8547008547008547, 0.8547008547008547, 1.7094017094017093, 8.11965811965812], \"x\": [0.0, 1.0, 2.0, 3.0, 4.0, 5.0], \"type\": \"bar\", \"name\": \"Very poor (22.6%)\", \"marker\": {\"color\": \"rgb(214,39,40)\"}}, {\"y\": [7.264957264957265, 3.8461538461538463, 4.273504273504273, 4.273504273504273, 12.820512820512821], \"x\": [6.0, 7.0, 8.0, 9.0, 10.0], \"type\": \"bar\", \"name\": \"Poor (32.5%)\", \"marker\": {\"color\": \"rgb(255,127,14)\"}}, {\"y\": [4.273504273504273, 3.8461538461538463, 2.1367521367521367, 1.7094017094017093, 7.6923076923076925, 1.2820512820512822, 2.5641025641025643, 0.42735042735042733, 5.982905982905983, 0.8547008547008547, 1.2820512820512822, 0.8547008547008547, 5.128205128205129, 2.9914529914529915, 0.42735042735042733, 0.8547008547008547, 0.42735042735042733], \"x\": [11.0, 12.0, 13.0, 14.0, 15.0, 16.0, 17.0, 18.0, 20.0, 21.0, 22.0, 23.0, 25.0, 30.0, 32.0, 35.0, 40.0], \"type\": \"bar\", \"name\": \"Medium (42.7%)\", \"marker\": {\"color\": \"rgb(44,160,44)\"}}], {\"width\": 700, \"title\": \"Number of goats per wealth group\", \"annotations\": [], \"yaxis\": {\"ticksuffix\": \"%\"}}, {\"linkText\": \"Export to plot.ly\", \"showLink\": true})});</script>"
      ],
      "text/vnd.plotly.v1+html": [
       "<div id=\"4fff1752-fc6a-442a-963c-d74fbc6e94f9\" style=\"height: 525px; width: 700px;\" class=\"plotly-graph-div\"></div><script type=\"text/javascript\">require([\"plotly\"], function(Plotly) { window.PLOTLYENV=window.PLOTLYENV || {};window.PLOTLYENV.BASE_URL=\"https://plot.ly\";Plotly.newPlot(\"4fff1752-fc6a-442a-963c-d74fbc6e94f9\", [{\"y\": [10.683760683760683, 0.42735042735042733, 0.8547008547008547, 0.8547008547008547, 1.7094017094017093, 8.11965811965812], \"x\": [0.0, 1.0, 2.0, 3.0, 4.0, 5.0], \"type\": \"bar\", \"name\": \"Very poor (22.6%)\", \"marker\": {\"color\": \"rgb(214,39,40)\"}}, {\"y\": [7.264957264957265, 3.8461538461538463, 4.273504273504273, 4.273504273504273, 12.820512820512821], \"x\": [6.0, 7.0, 8.0, 9.0, 10.0], \"type\": \"bar\", \"name\": \"Poor (32.5%)\", \"marker\": {\"color\": \"rgb(255,127,14)\"}}, {\"y\": [4.273504273504273, 3.8461538461538463, 2.1367521367521367, 1.7094017094017093, 7.6923076923076925, 1.2820512820512822, 2.5641025641025643, 0.42735042735042733, 5.982905982905983, 0.8547008547008547, 1.2820512820512822, 0.8547008547008547, 5.128205128205129, 2.9914529914529915, 0.42735042735042733, 0.8547008547008547, 0.42735042735042733], \"x\": [11.0, 12.0, 13.0, 14.0, 15.0, 16.0, 17.0, 18.0, 20.0, 21.0, 22.0, 23.0, 25.0, 30.0, 32.0, 35.0, 40.0], \"type\": \"bar\", \"name\": \"Medium (42.7%)\", \"marker\": {\"color\": \"rgb(44,160,44)\"}}], {\"width\": 700, \"title\": \"Number of goats per wealth group\", \"annotations\": [], \"yaxis\": {\"ticksuffix\": \"%\"}}, {\"linkText\": \"Export to plot.ly\", \"showLink\": true})});</script>"
      ]
     },
     "metadata": {},
     "output_type": "display_data"
    },
    {
     "name": "stdout",
     "output_type": "stream",
     "text": [
      "6.0      8.641975\n",
      "7.0      3.086420\n",
      "8.0      3.086420\n",
      "9.0      5.555556\n",
      "10.0    12.962963\n",
      "Name: livestock_number_goat, dtype: float64\n"
     ]
    },
    {
     "data": {
      "application/vnd.plotly.v1+json": {
       "data": [
        {
         "marker": {
          "color": "rgb(214,39,40)"
         },
         "name": "Very poor (20.4%)",
         "type": "bar",
         "x": [
          0,
          2,
          3,
          4,
          5
         ],
         "y": [
          10.493827160493828,
          0.6172839506172839,
          0.6172839506172839,
          1.2345679012345678,
          7.407407407407407
         ]
        },
        {
         "marker": {
          "color": "rgb(255,127,14)"
         },
         "name": "Poor (33.3%)",
         "type": "bar",
         "x": [
          6,
          7,
          8,
          9,
          10
         ],
         "y": [
          8.641975308641975,
          3.0864197530864197,
          3.0864197530864197,
          5.555555555555555,
          12.962962962962964
         ]
        },
        {
         "marker": {
          "color": "rgb(44,160,44)"
         },
         "name": "Medium (43.8%)",
         "type": "bar",
         "x": [
          11,
          12,
          13,
          14,
          15,
          16,
          17,
          18,
          20,
          21,
          22,
          23,
          25,
          30,
          32,
          35
         ],
         "y": [
          6.172839506172839,
          4.320987654320987,
          2.4691358024691357,
          2.4691358024691357,
          8.024691358024691,
          1.8518518518518519,
          3.7037037037037037,
          0.6172839506172839,
          3.7037037037037037,
          1.2345679012345678,
          1.8518518518518519,
          1.2345679012345678,
          4.320987654320987,
          0.6172839506172839,
          0.6172839506172839,
          0.6172839506172839
         ]
        }
       ],
       "layout": {
        "annotations": [],
        "title": "Number of goats per wealth group in female HoHH",
        "width": 700,
        "yaxis": {
         "ticksuffix": "%"
        }
       }
      },
      "text/html": [
       "<div id=\"8818c655-27ec-45a7-8caf-f917dc489b21\" style=\"height: 525px; width: 700px;\" class=\"plotly-graph-div\"></div><script type=\"text/javascript\">require([\"plotly\"], function(Plotly) { window.PLOTLYENV=window.PLOTLYENV || {};window.PLOTLYENV.BASE_URL=\"https://plot.ly\";Plotly.newPlot(\"8818c655-27ec-45a7-8caf-f917dc489b21\", [{\"y\": [10.493827160493828, 0.6172839506172839, 0.6172839506172839, 1.2345679012345678, 7.407407407407407], \"x\": [0.0, 2.0, 3.0, 4.0, 5.0], \"type\": \"bar\", \"name\": \"Very poor (20.4%)\", \"marker\": {\"color\": \"rgb(214,39,40)\"}}, {\"y\": [8.641975308641975, 3.0864197530864197, 3.0864197530864197, 5.555555555555555, 12.962962962962964], \"x\": [6.0, 7.0, 8.0, 9.0, 10.0], \"type\": \"bar\", \"name\": \"Poor (33.3%)\", \"marker\": {\"color\": \"rgb(255,127,14)\"}}, {\"y\": [6.172839506172839, 4.320987654320987, 2.4691358024691357, 2.4691358024691357, 8.024691358024691, 1.8518518518518519, 3.7037037037037037, 0.6172839506172839, 3.7037037037037037, 1.2345679012345678, 1.8518518518518519, 1.2345679012345678, 4.320987654320987, 0.6172839506172839, 0.6172839506172839, 0.6172839506172839], \"x\": [11.0, 12.0, 13.0, 14.0, 15.0, 16.0, 17.0, 18.0, 20.0, 21.0, 22.0, 23.0, 25.0, 30.0, 32.0, 35.0], \"type\": \"bar\", \"name\": \"Medium (43.8%)\", \"marker\": {\"color\": \"rgb(44,160,44)\"}}], {\"width\": 700, \"title\": \"Number of goats per wealth group in female HoHH\", \"annotations\": [], \"yaxis\": {\"ticksuffix\": \"%\"}}, {\"linkText\": \"Export to plot.ly\", \"showLink\": true})});</script>"
      ],
      "text/vnd.plotly.v1+html": [
       "<div id=\"8818c655-27ec-45a7-8caf-f917dc489b21\" style=\"height: 525px; width: 700px;\" class=\"plotly-graph-div\"></div><script type=\"text/javascript\">require([\"plotly\"], function(Plotly) { window.PLOTLYENV=window.PLOTLYENV || {};window.PLOTLYENV.BASE_URL=\"https://plot.ly\";Plotly.newPlot(\"8818c655-27ec-45a7-8caf-f917dc489b21\", [{\"y\": [10.493827160493828, 0.6172839506172839, 0.6172839506172839, 1.2345679012345678, 7.407407407407407], \"x\": [0.0, 2.0, 3.0, 4.0, 5.0], \"type\": \"bar\", \"name\": \"Very poor (20.4%)\", \"marker\": {\"color\": \"rgb(214,39,40)\"}}, {\"y\": [8.641975308641975, 3.0864197530864197, 3.0864197530864197, 5.555555555555555, 12.962962962962964], \"x\": [6.0, 7.0, 8.0, 9.0, 10.0], \"type\": \"bar\", \"name\": \"Poor (33.3%)\", \"marker\": {\"color\": \"rgb(255,127,14)\"}}, {\"y\": [6.172839506172839, 4.320987654320987, 2.4691358024691357, 2.4691358024691357, 8.024691358024691, 1.8518518518518519, 3.7037037037037037, 0.6172839506172839, 3.7037037037037037, 1.2345679012345678, 1.8518518518518519, 1.2345679012345678, 4.320987654320987, 0.6172839506172839, 0.6172839506172839, 0.6172839506172839], \"x\": [11.0, 12.0, 13.0, 14.0, 15.0, 16.0, 17.0, 18.0, 20.0, 21.0, 22.0, 23.0, 25.0, 30.0, 32.0, 35.0], \"type\": \"bar\", \"name\": \"Medium (43.8%)\", \"marker\": {\"color\": \"rgb(44,160,44)\"}}], {\"width\": 700, \"title\": \"Number of goats per wealth group in female HoHH\", \"annotations\": [], \"yaxis\": {\"ticksuffix\": \"%\"}}, {\"linkText\": \"Export to plot.ly\", \"showLink\": true})});</script>"
      ]
     },
     "metadata": {},
     "output_type": "display_data"
    }
   ],
   "source": [
    "values = [5,10, 40]\n",
    "print values\n",
    "values_femHoHH = [5,10, 40]\n",
    "print values_femHoHH\n",
    "per2 = get_percentiles(goats, values)\n",
    "percentiles = pd.Series(values, index = per2)\n",
    "\n",
    "print percentiles\n",
    "\n",
    "print pd.Series(values_femHoHH, index = get_percentiles(goats_femHoHH, values_femHoHH))\n",
    "\n",
    "plot_wealth_criteria(goats, values, \"Number of goats per wealth group\")\n",
    "#plot_wealth_criteria(land_quantity_female, values_female, \"Number of feddans per wealth group in female respondents\")\n",
    "plot_wealth_criteria(goats_femHoHH, values_femHoHH, \"Number of goats per wealth group in female HoHH\")"
   ]
  },
  {
   "cell_type": "code",
   "execution_count": 116,
   "metadata": {},
   "outputs": [
    {
     "name": "stdout",
     "output_type": "stream",
     "text": [
      "[0, 5, 20]\n",
      "[0, 5, 20]\n",
      "0.594017     0\n",
      "0.683761     5\n",
      "0.957265    20\n",
      "dtype: int64\n",
      "0.574074     0\n",
      "0.666667     5\n",
      "0.975309    20\n",
      "dtype: int64\n",
      "3.0    2.564103\n",
      "4.0    2.564103\n",
      "5.0    3.846154\n",
      "Name: livestock_number_sheep, dtype: float64\n"
     ]
    },
    {
     "data": {
      "application/vnd.plotly.v1+json": {
       "data": [
        {
         "marker": {
          "color": "rgb(214,39,40)"
         },
         "name": "Very poor (59.4%)",
         "type": "bar",
         "x": [
          0
         ],
         "y": [
          59.401709401709404
         ]
        },
        {
         "marker": {
          "color": "rgb(255,127,14)"
         },
         "name": "Poor (9.0%)",
         "type": "bar",
         "x": [
          3,
          4,
          5
         ],
         "y": [
          2.5641025641025643,
          2.5641025641025643,
          3.8461538461538463
         ]
        },
        {
         "marker": {
          "color": "rgb(44,160,44)"
         },
         "name": "Medium (27.4%)",
         "type": "bar",
         "x": [
          6,
          7,
          8,
          9,
          10,
          11,
          12,
          13,
          14,
          15,
          17,
          20
         ],
         "y": [
          2.9914529914529915,
          1.7094017094017093,
          2.1367521367521367,
          3.8461538461538463,
          4.700854700854701,
          2.9914529914529915,
          1.2820512820512822,
          1.2820512820512822,
          0.8547008547008547,
          3.8461538461538463,
          0.42735042735042733,
          1.2820512820512822
         ]
        }
       ],
       "layout": {
        "annotations": [],
        "title": "Number of sheeps per wealth group",
        "width": 700,
        "yaxis": {
         "ticksuffix": "%"
        }
       }
      },
      "text/html": [
       "<div id=\"2bbe1eee-9e63-4432-92f3-9f0278ff2b92\" style=\"height: 525px; width: 700px;\" class=\"plotly-graph-div\"></div><script type=\"text/javascript\">require([\"plotly\"], function(Plotly) { window.PLOTLYENV=window.PLOTLYENV || {};window.PLOTLYENV.BASE_URL=\"https://plot.ly\";Plotly.newPlot(\"2bbe1eee-9e63-4432-92f3-9f0278ff2b92\", [{\"y\": [59.401709401709404], \"x\": [0.0], \"type\": \"bar\", \"name\": \"Very poor (59.4%)\", \"marker\": {\"color\": \"rgb(214,39,40)\"}}, {\"y\": [2.5641025641025643, 2.5641025641025643, 3.8461538461538463], \"x\": [3.0, 4.0, 5.0], \"type\": \"bar\", \"name\": \"Poor (9.0%)\", \"marker\": {\"color\": \"rgb(255,127,14)\"}}, {\"y\": [2.9914529914529915, 1.7094017094017093, 2.1367521367521367, 3.8461538461538463, 4.700854700854701, 2.9914529914529915, 1.2820512820512822, 1.2820512820512822, 0.8547008547008547, 3.8461538461538463, 0.42735042735042733, 1.2820512820512822], \"x\": [6.0, 7.0, 8.0, 9.0, 10.0, 11.0, 12.0, 13.0, 14.0, 15.0, 17.0, 20.0], \"type\": \"bar\", \"name\": \"Medium (27.4%)\", \"marker\": {\"color\": \"rgb(44,160,44)\"}}], {\"width\": 700, \"title\": \"Number of sheeps per wealth group\", \"annotations\": [], \"yaxis\": {\"ticksuffix\": \"%\"}}, {\"linkText\": \"Export to plot.ly\", \"showLink\": true})});</script>"
      ],
      "text/vnd.plotly.v1+html": [
       "<div id=\"2bbe1eee-9e63-4432-92f3-9f0278ff2b92\" style=\"height: 525px; width: 700px;\" class=\"plotly-graph-div\"></div><script type=\"text/javascript\">require([\"plotly\"], function(Plotly) { window.PLOTLYENV=window.PLOTLYENV || {};window.PLOTLYENV.BASE_URL=\"https://plot.ly\";Plotly.newPlot(\"2bbe1eee-9e63-4432-92f3-9f0278ff2b92\", [{\"y\": [59.401709401709404], \"x\": [0.0], \"type\": \"bar\", \"name\": \"Very poor (59.4%)\", \"marker\": {\"color\": \"rgb(214,39,40)\"}}, {\"y\": [2.5641025641025643, 2.5641025641025643, 3.8461538461538463], \"x\": [3.0, 4.0, 5.0], \"type\": \"bar\", \"name\": \"Poor (9.0%)\", \"marker\": {\"color\": \"rgb(255,127,14)\"}}, {\"y\": [2.9914529914529915, 1.7094017094017093, 2.1367521367521367, 3.8461538461538463, 4.700854700854701, 2.9914529914529915, 1.2820512820512822, 1.2820512820512822, 0.8547008547008547, 3.8461538461538463, 0.42735042735042733, 1.2820512820512822], \"x\": [6.0, 7.0, 8.0, 9.0, 10.0, 11.0, 12.0, 13.0, 14.0, 15.0, 17.0, 20.0], \"type\": \"bar\", \"name\": \"Medium (27.4%)\", \"marker\": {\"color\": \"rgb(44,160,44)\"}}], {\"width\": 700, \"title\": \"Number of sheeps per wealth group\", \"annotations\": [], \"yaxis\": {\"ticksuffix\": \"%\"}}, {\"linkText\": \"Export to plot.ly\", \"showLink\": true})});</script>"
      ]
     },
     "metadata": {},
     "output_type": "display_data"
    },
    {
     "name": "stdout",
     "output_type": "stream",
     "text": [
      "3.0    2.469136\n",
      "4.0    3.703704\n",
      "5.0    3.086420\n",
      "Name: livestock_number_sheep, dtype: float64\n"
     ]
    },
    {
     "data": {
      "application/vnd.plotly.v1+json": {
       "data": [
        {
         "marker": {
          "color": "rgb(214,39,40)"
         },
         "name": "Very poor (57.4%)",
         "type": "bar",
         "x": [
          0
         ],
         "y": [
          57.407407407407405
         ]
        },
        {
         "marker": {
          "color": "rgb(255,127,14)"
         },
         "name": "Poor (9.3%)",
         "type": "bar",
         "x": [
          3,
          4,
          5
         ],
         "y": [
          2.4691358024691357,
          3.7037037037037037,
          3.0864197530864197
         ]
        },
        {
         "marker": {
          "color": "rgb(44,160,44)"
         },
         "name": "Medium (30.9%)",
         "type": "bar",
         "x": [
          6,
          7,
          8,
          9,
          10,
          11,
          12,
          13,
          14,
          15,
          17,
          20
         ],
         "y": [
          1.8518518518518519,
          1.8518518518518519,
          2.4691358024691357,
          5.555555555555555,
          3.7037037037037037,
          4.320987654320987,
          1.8518518518518519,
          1.8518518518518519,
          1.2345679012345678,
          4.320987654320987,
          0.6172839506172839,
          1.2345679012345678
         ]
        }
       ],
       "layout": {
        "annotations": [],
        "title": "Number of sheeps per wealth group in female HoHH",
        "width": 700,
        "yaxis": {
         "ticksuffix": "%"
        }
       }
      },
      "text/html": [
       "<div id=\"a0d53d07-8287-4c56-9326-6b0b6bcf080d\" style=\"height: 525px; width: 700px;\" class=\"plotly-graph-div\"></div><script type=\"text/javascript\">require([\"plotly\"], function(Plotly) { window.PLOTLYENV=window.PLOTLYENV || {};window.PLOTLYENV.BASE_URL=\"https://plot.ly\";Plotly.newPlot(\"a0d53d07-8287-4c56-9326-6b0b6bcf080d\", [{\"y\": [57.407407407407405], \"x\": [0.0], \"type\": \"bar\", \"name\": \"Very poor (57.4%)\", \"marker\": {\"color\": \"rgb(214,39,40)\"}}, {\"y\": [2.4691358024691357, 3.7037037037037037, 3.0864197530864197], \"x\": [3.0, 4.0, 5.0], \"type\": \"bar\", \"name\": \"Poor (9.3%)\", \"marker\": {\"color\": \"rgb(255,127,14)\"}}, {\"y\": [1.8518518518518519, 1.8518518518518519, 2.4691358024691357, 5.555555555555555, 3.7037037037037037, 4.320987654320987, 1.8518518518518519, 1.8518518518518519, 1.2345679012345678, 4.320987654320987, 0.6172839506172839, 1.2345679012345678], \"x\": [6.0, 7.0, 8.0, 9.0, 10.0, 11.0, 12.0, 13.0, 14.0, 15.0, 17.0, 20.0], \"type\": \"bar\", \"name\": \"Medium (30.9%)\", \"marker\": {\"color\": \"rgb(44,160,44)\"}}], {\"width\": 700, \"title\": \"Number of sheeps per wealth group in female HoHH\", \"annotations\": [], \"yaxis\": {\"ticksuffix\": \"%\"}}, {\"linkText\": \"Export to plot.ly\", \"showLink\": true})});</script>"
      ],
      "text/vnd.plotly.v1+html": [
       "<div id=\"a0d53d07-8287-4c56-9326-6b0b6bcf080d\" style=\"height: 525px; width: 700px;\" class=\"plotly-graph-div\"></div><script type=\"text/javascript\">require([\"plotly\"], function(Plotly) { window.PLOTLYENV=window.PLOTLYENV || {};window.PLOTLYENV.BASE_URL=\"https://plot.ly\";Plotly.newPlot(\"a0d53d07-8287-4c56-9326-6b0b6bcf080d\", [{\"y\": [57.407407407407405], \"x\": [0.0], \"type\": \"bar\", \"name\": \"Very poor (57.4%)\", \"marker\": {\"color\": \"rgb(214,39,40)\"}}, {\"y\": [2.4691358024691357, 3.7037037037037037, 3.0864197530864197], \"x\": [3.0, 4.0, 5.0], \"type\": \"bar\", \"name\": \"Poor (9.3%)\", \"marker\": {\"color\": \"rgb(255,127,14)\"}}, {\"y\": [1.8518518518518519, 1.8518518518518519, 2.4691358024691357, 5.555555555555555, 3.7037037037037037, 4.320987654320987, 1.8518518518518519, 1.8518518518518519, 1.2345679012345678, 4.320987654320987, 0.6172839506172839, 1.2345679012345678], \"x\": [6.0, 7.0, 8.0, 9.0, 10.0, 11.0, 12.0, 13.0, 14.0, 15.0, 17.0, 20.0], \"type\": \"bar\", \"name\": \"Medium (30.9%)\", \"marker\": {\"color\": \"rgb(44,160,44)\"}}], {\"width\": 700, \"title\": \"Number of sheeps per wealth group in female HoHH\", \"annotations\": [], \"yaxis\": {\"ticksuffix\": \"%\"}}, {\"linkText\": \"Export to plot.ly\", \"showLink\": true})});</script>"
      ]
     },
     "metadata": {},
     "output_type": "display_data"
    }
   ],
   "source": [
    "values = [0,5, 20]\n",
    "print values\n",
    "values_femHoHH = [0,5, 20]\n",
    "print values_femHoHH\n",
    "per2 = get_percentiles(sheeps, values)\n",
    "percentiles = pd.Series(values, index = per2)\n",
    "\n",
    "print percentiles\n",
    "\n",
    "print pd.Series(values_femHoHH, index = get_percentiles(sheeps_femHoHH, values_femHoHH))\n",
    "\n",
    "plot_wealth_criteria(sheeps, values, \"Number of sheeps per wealth group\")\n",
    "#plot_wealth_criteria(land_quantity_female, values_female, \"Number of feddans per wealth group in female respondents\")\n",
    "plot_wealth_criteria(sheeps_femHoHH, values_femHoHH, \"Number of sheeps per wealth group in female HoHH\")"
   ]
  },
  {
   "cell_type": "markdown",
   "metadata": {},
   "source": [
    "#### Quantiles for goats\n",
    "- Poors: 35% of households have less than 10 goats and less than 10 sheeps\n",
    "- Medium: 62% of households have between 10 and 35 goats and between 20 and 30 sheeps\n",
    "- Richs: 3% of households have more than 35 goats and/or more than 30 sheeps"
   ]
  },
  {
   "cell_type": "code",
   "execution_count": 117,
   "metadata": {},
   "outputs": [
    {
     "data": {
      "application/vnd.plotly.v1+json": {
       "data": [
        {
         "marker": {
          "color": "rgb(258,225,225)",
          "line": {
           "color": "rgb(192,0,0)",
           "width": 1.5
          }
         },
         "name": "Live uses",
         "type": "bar",
         "x": [
          "Livestock_selling",
          "Livestock_social",
          "Livestock_milk",
          "Livestock_meat",
          "Livestock_savings"
         ],
         "y": [
          66.23931623931624,
          66.66666666666667,
          97.00854700854701,
          72.64957264957265,
          83.33333333333333
         ]
        }
       ],
       "layout": {
        "annotations": [],
        "title": "Livestock uses",
        "width": 700,
        "xaxis": {
         "tickangle": -45
        },
        "yaxis": {
         "ticksuffix": "%"
        }
       }
      },
      "text/html": [
       "<div id=\"f5e52e50-e7b9-4230-a237-9ebe251878e0\" style=\"height: 525px; width: 700px;\" class=\"plotly-graph-div\"></div><script type=\"text/javascript\">require([\"plotly\"], function(Plotly) { window.PLOTLYENV=window.PLOTLYENV || {};window.PLOTLYENV.BASE_URL=\"https://plot.ly\";Plotly.newPlot(\"f5e52e50-e7b9-4230-a237-9ebe251878e0\", [{\"y\": [66.23931623931624, 66.66666666666667, 97.00854700854701, 72.64957264957265, 83.33333333333333], \"x\": [\"Livestock_selling\", \"Livestock_social\", \"Livestock_milk\", \"Livestock_meat\", \"Livestock_savings\"], \"type\": \"bar\", \"name\": \"Live uses\", \"marker\": {\"color\": \"rgb(258,225,225)\", \"line\": {\"color\": \"rgb(192,0,0)\", \"width\": 1.5}}}], {\"width\": 700, \"title\": \"Livestock uses\", \"annotations\": [], \"xaxis\": {\"tickangle\": -45}, \"yaxis\": {\"ticksuffix\": \"%\"}}, {\"linkText\": \"Export to plot.ly\", \"showLink\": true})});</script>"
      ],
      "text/vnd.plotly.v1+html": [
       "<div id=\"f5e52e50-e7b9-4230-a237-9ebe251878e0\" style=\"height: 525px; width: 700px;\" class=\"plotly-graph-div\"></div><script type=\"text/javascript\">require([\"plotly\"], function(Plotly) { window.PLOTLYENV=window.PLOTLYENV || {};window.PLOTLYENV.BASE_URL=\"https://plot.ly\";Plotly.newPlot(\"f5e52e50-e7b9-4230-a237-9ebe251878e0\", [{\"y\": [66.23931623931624, 66.66666666666667, 97.00854700854701, 72.64957264957265, 83.33333333333333], \"x\": [\"Livestock_selling\", \"Livestock_social\", \"Livestock_milk\", \"Livestock_meat\", \"Livestock_savings\"], \"type\": \"bar\", \"name\": \"Live uses\", \"marker\": {\"color\": \"rgb(258,225,225)\", \"line\": {\"color\": \"rgb(192,0,0)\", \"width\": 1.5}}}], {\"width\": 700, \"title\": \"Livestock uses\", \"annotations\": [], \"xaxis\": {\"tickangle\": -45}, \"yaxis\": {\"ticksuffix\": \"%\"}}, {\"linkText\": \"Export to plot.ly\", \"showLink\": true})});</script>"
      ]
     },
     "metadata": {},
     "output_type": "display_data"
    }
   ],
   "source": [
    "livestock_uses = [\"selling\", \"social\", \"milk\", \"meat\", \"savings\"]\n",
    "goats_uses = [\"selling\", \"social\", \"milk\", \"meat\", \"savings\"]\n",
    "sheeps_uses = [\"selling\", \"social\", \"milk\", \"meat\", \"savings\"]\n",
    "livestock_uses_df = livestock_set[map(lambda x: \"livestock_\" + x, livestock_uses)]\n",
    "livestock_uses_df.fillna('no')\n",
    "livestock_uses = livestock_uses_df.apply(pd.Series.value_counts).fillna('0').loc['yes']\n",
    "num_lvstck = livestock_set['deviceid'].count()\n",
    "livestock_uses_perc = livestock_uses * 100 / num_lvstck\n",
    "\n",
    "fig_uses_lvstck = {\n",
    "    \"layout\": {\n",
    "        \"title\": \"Livestock uses\",\n",
    "        \"xaxis\": {\n",
    "            \"tickangle\": -45\n",
    "        },\n",
    "        \"yaxis\": {\n",
    "            \"ticksuffix\": \"%\"\n",
    "        },\n",
    "        \"width\": 700,\n",
    "        \"annotations\": []\n",
    "    },\n",
    "    \"data\": [\n",
    "        {\n",
    "            \"x\": map(lambda x: x.capitalize(), livestock_uses_perc.index.values),\n",
    "            \"y\": livestock_uses_perc.values,\n",
    "            \"type\": \"bar\",\n",
    "            \"name\": \"Live uses\",\n",
    "            \"marker\": {\n",
    "                \"color\": 'rgb(258,225,225)',\n",
    "                \"line\": {\n",
    "                    \"color\": 'rgb(192,0,0)',\n",
    "                    \"width\": 1.5\n",
    "                }\n",
    "            }\n",
    "        }\n",
    "    ]\n",
    "}\n",
    "\n",
    "\n",
    "iplot(fig_uses_lvstck)"
   ]
  },
  {
   "cell_type": "code",
   "execution_count": 118,
   "metadata": {},
   "outputs": [
    {
     "name": "stdout",
     "output_type": "stream",
     "text": [
      "USES TOTAL LIVESTOCK\n",
      "livestock_selling    155\n",
      "livestock_social     156\n",
      "livestock_milk       227\n",
      "livestock_meat       170\n",
      "livestock_savings    195\n",
      "Name: yes, dtype: object\n",
      "livestock_selling    66.2393\n",
      "livestock_social     66.6667\n",
      "livestock_milk       97.0085\n",
      "livestock_meat       72.6496\n",
      "livestock_savings    83.3333\n",
      "Name: yes, dtype: object\n",
      "\n",
      "USES TOTAL GOATS\n",
      "           livestock_selling  livestock_social  livestock_milk  \\\n",
      "no                      74.0                72               3   \n",
      "no_answer                NaN                 2               3   \n",
      "yes                    144.0               144             212   \n",
      "\n",
      "           livestock_meat  livestock_savings  \n",
      "no                     54                 30  \n",
      "no_answer               3                  7  \n",
      "yes                   161                181  \n",
      "\n",
      "USES TOTAL SHEEPS\n",
      "           livestock_selling  livestock_social  livestock_milk  \\\n",
      "no                      17.0              30.0               1   \n",
      "no_answer                NaN               NaN               1   \n",
      "yes                    101.0              88.0             116   \n",
      "\n",
      "           livestock_meat  livestock_savings  \n",
      "no                     18                 10  \n",
      "no_answer               1                  4  \n",
      "yes                    99                104  \n"
     ]
    }
   ],
   "source": [
    "print \"USES TOTAL LIVESTOCK\"\n",
    "print livestock_uses\n",
    "print livestock_uses_perc\n",
    "goats_uses = livestock_set.loc[livestock_set['livestock_type'].str.contains(\"goat\")][map(lambda x: \"livestock_\" + x, goats_uses)]\n",
    "print \"\"\n",
    "print \"USES TOTAL GOATS\"\n",
    "print goats_uses.apply(pd.Series.value_counts)\n",
    "sheeps_uses = livestock_set.loc[livestock_set['livestock_type'].str.contains(\"sheep\")][map(lambda x: \"livestock_\" + x, sheeps_uses)]\n",
    "print \"\"\n",
    "print \"USES TOTAL SHEEPS\"\n",
    "print sheeps_uses.apply(pd.Series.value_counts)"
   ]
  },
  {
   "cell_type": "code",
   "execution_count": 119,
   "metadata": {},
   "outputs": [
    {
     "data": {
      "application/vnd.plotly.v1+json": {
       "data": [
        {
         "marker": {
          "color": "rgb(258,225,225)",
          "line": {
           "color": "rgb(192,0,0)",
           "width": 1.5
          }
         },
         "name": "Livelihoods Strategies",
         "type": "bar",
         "x": [
          "Camel",
          "Other",
          "Cattle",
          "Goat",
          "Sheep",
          "Chicken"
         ],
         "y": [
          16.67,
          1.28,
          10.68,
          93.16,
          50.43,
          3.42
         ]
        }
       ],
       "layout": {
        "annotations": [
         {
          "font": {
           "color": "rgba(100, 0, 0, 1)",
           "family": "Arial",
           "size": 14
          },
          "showarrow": false,
          "text": "16.67%",
          "x": "Camel",
          "y": 18.17
         },
         {
          "font": {
           "color": "rgba(100, 0, 0, 1)",
           "family": "Arial",
           "size": 14
          },
          "showarrow": false,
          "text": "1.28%",
          "x": "Other",
          "y": 2.7800000000000002
         },
         {
          "font": {
           "color": "rgba(100, 0, 0, 1)",
           "family": "Arial",
           "size": 14
          },
          "showarrow": false,
          "text": "10.68%",
          "x": "Cattle",
          "y": 12.18
         },
         {
          "font": {
           "color": "rgba(100, 0, 0, 1)",
           "family": "Arial",
           "size": 14
          },
          "showarrow": false,
          "text": "93.16%",
          "x": "Goat",
          "y": 94.66
         },
         {
          "font": {
           "color": "rgba(100, 0, 0, 1)",
           "family": "Arial",
           "size": 14
          },
          "showarrow": false,
          "text": "50.43%",
          "x": "Sheep",
          "y": 51.93
         },
         {
          "font": {
           "color": "rgba(100, 0, 0, 1)",
           "family": "Arial",
           "size": 14
          },
          "showarrow": false,
          "text": "3.42%",
          "x": "Chicken",
          "y": 4.92
         }
        ],
        "title": "Livestock types",
        "width": 700,
        "xaxis": {
         "tickangle": -45
        }
       }
      },
      "text/html": [
       "<div id=\"f62a0f69-ca7d-4823-8eef-59c408de1c08\" style=\"height: 525px; width: 700px;\" class=\"plotly-graph-div\"></div><script type=\"text/javascript\">require([\"plotly\"], function(Plotly) { window.PLOTLYENV=window.PLOTLYENV || {};window.PLOTLYENV.BASE_URL=\"https://plot.ly\";Plotly.newPlot(\"f62a0f69-ca7d-4823-8eef-59c408de1c08\", [{\"y\": [16.67, 1.28, 10.68, 93.16, 50.43, 3.42], \"x\": [\"Camel\", \"Other\", \"Cattle\", \"Goat\", \"Sheep\", \"Chicken\"], \"type\": \"bar\", \"name\": \"Livelihoods Strategies\", \"marker\": {\"color\": \"rgb(258,225,225)\", \"line\": {\"color\": \"rgb(192,0,0)\", \"width\": 1.5}}}], {\"width\": 700, \"annotations\": [{\"y\": 18.17, \"x\": \"Camel\", \"font\": {\"color\": \"rgba(100, 0, 0, 1)\", \"family\": \"Arial\", \"size\": 14}, \"text\": \"16.67%\", \"showarrow\": false}, {\"y\": 2.7800000000000002, \"x\": \"Other\", \"font\": {\"color\": \"rgba(100, 0, 0, 1)\", \"family\": \"Arial\", \"size\": 14}, \"text\": \"1.28%\", \"showarrow\": false}, {\"y\": 12.18, \"x\": \"Cattle\", \"font\": {\"color\": \"rgba(100, 0, 0, 1)\", \"family\": \"Arial\", \"size\": 14}, \"text\": \"10.68%\", \"showarrow\": false}, {\"y\": 94.66, \"x\": \"Goat\", \"font\": {\"color\": \"rgba(100, 0, 0, 1)\", \"family\": \"Arial\", \"size\": 14}, \"text\": \"93.16%\", \"showarrow\": false}, {\"y\": 51.93, \"x\": \"Sheep\", \"font\": {\"color\": \"rgba(100, 0, 0, 1)\", \"family\": \"Arial\", \"size\": 14}, \"text\": \"50.43%\", \"showarrow\": false}, {\"y\": 4.92, \"x\": \"Chicken\", \"font\": {\"color\": \"rgba(100, 0, 0, 1)\", \"family\": \"Arial\", \"size\": 14}, \"text\": \"3.42%\", \"showarrow\": false}], \"xaxis\": {\"tickangle\": -45}, \"title\": \"Livestock types\"}, {\"linkText\": \"Export to plot.ly\", \"showLink\": true})});</script>"
      ],
      "text/vnd.plotly.v1+html": [
       "<div id=\"f62a0f69-ca7d-4823-8eef-59c408de1c08\" style=\"height: 525px; width: 700px;\" class=\"plotly-graph-div\"></div><script type=\"text/javascript\">require([\"plotly\"], function(Plotly) { window.PLOTLYENV=window.PLOTLYENV || {};window.PLOTLYENV.BASE_URL=\"https://plot.ly\";Plotly.newPlot(\"f62a0f69-ca7d-4823-8eef-59c408de1c08\", [{\"y\": [16.67, 1.28, 10.68, 93.16, 50.43, 3.42], \"x\": [\"Camel\", \"Other\", \"Cattle\", \"Goat\", \"Sheep\", \"Chicken\"], \"type\": \"bar\", \"name\": \"Livelihoods Strategies\", \"marker\": {\"color\": \"rgb(258,225,225)\", \"line\": {\"color\": \"rgb(192,0,0)\", \"width\": 1.5}}}], {\"width\": 700, \"annotations\": [{\"y\": 18.17, \"x\": \"Camel\", \"font\": {\"color\": \"rgba(100, 0, 0, 1)\", \"family\": \"Arial\", \"size\": 14}, \"text\": \"16.67%\", \"showarrow\": false}, {\"y\": 2.7800000000000002, \"x\": \"Other\", \"font\": {\"color\": \"rgba(100, 0, 0, 1)\", \"family\": \"Arial\", \"size\": 14}, \"text\": \"1.28%\", \"showarrow\": false}, {\"y\": 12.18, \"x\": \"Cattle\", \"font\": {\"color\": \"rgba(100, 0, 0, 1)\", \"family\": \"Arial\", \"size\": 14}, \"text\": \"10.68%\", \"showarrow\": false}, {\"y\": 94.66, \"x\": \"Goat\", \"font\": {\"color\": \"rgba(100, 0, 0, 1)\", \"family\": \"Arial\", \"size\": 14}, \"text\": \"93.16%\", \"showarrow\": false}, {\"y\": 51.93, \"x\": \"Sheep\", \"font\": {\"color\": \"rgba(100, 0, 0, 1)\", \"family\": \"Arial\", \"size\": 14}, \"text\": \"50.43%\", \"showarrow\": false}, {\"y\": 4.92, \"x\": \"Chicken\", \"font\": {\"color\": \"rgba(100, 0, 0, 1)\", \"family\": \"Arial\", \"size\": 14}, \"text\": \"3.42%\", \"showarrow\": false}], \"xaxis\": {\"tickangle\": -45}, \"title\": \"Livestock types\"}, {\"linkText\": \"Export to plot.ly\", \"showLink\": true})});</script>"
      ]
     },
     "metadata": {},
     "output_type": "display_data"
    }
   ],
   "source": [
    "uses_lvstck = get_ocurrences(livestock_set, 'livestock_type')\n",
    "\n",
    "perc_lvstck = 100*types_lvstck/livestock_set['deviceid'].count()\n",
    "perc_lvstck = perc_lvstck.round(2)\n",
    "fig_types_lvstck = {\n",
    "    \"layout\": {\n",
    "        \"title\": \"Livestock types\",\n",
    "        \"xaxis\": {\n",
    "            \"tickangle\": -45\n",
    "        },\n",
    "        \"width\": 700,\n",
    "        \"annotations\": []\n",
    "    },\n",
    "    \"data\": [\n",
    "        {\n",
    "            \"x\": map(lambda x: x.capitalize(), perc_lvstck.index.values),\n",
    "            \"y\": perc_lvstck.values,\n",
    "            \"type\": \"bar\",\n",
    "            \"name\": \"Livelihoods Strategies\",\n",
    "            \"marker\": {\n",
    "                \"color\": 'rgb(258,225,225)',\n",
    "                \"line\": {\n",
    "                    \"color\": 'rgb(192,0,0)',\n",
    "                    \"width\": 1.5\n",
    "                }\n",
    "            }\n",
    "        }\n",
    "    ]\n",
    "}\n",
    "\n",
    "\n",
    "for i in range(0, len(types_lvstck)):\n",
    "    fig_types_lvstck[\"layout\"][\"annotations\"].append(\n",
    "        {\n",
    "            \"x\": map(lambda x: x.capitalize(), perc_lvstck.index.values)[i],\n",
    "            \"y\": perc_lvstck.values[i] + 1.5,\n",
    "            \"text\": str(perc_lvstck.values[i]) + \"%\",\n",
    "            \"font\": dict(\n",
    "                family='Arial',\n",
    "                size=14,\n",
    "                color='rgba(100, 0, 0, 1)'\n",
    "            ),\n",
    "            \"showarrow\": False,\n",
    "\n",
    "        }\n",
    "    )\n",
    "\n",
    "iplot(fig_types_lvstck)"
   ]
  },
  {
   "cell_type": "markdown",
   "metadata": {},
   "source": [
    "### Laborers"
   ]
  },
  {
   "cell_type": "code",
   "execution_count": 120,
   "metadata": {
    "scrolled": false
   },
   "outputs": [
    {
     "data": {
      "application/vnd.plotly.v1+json": {
       "data": [
        {
         "domain": {
          "x": [
           0,
           0.32
          ]
         },
         "labels": [
          "other"
         ],
         "sort": false,
         "type": "pie",
         "values": [
          15
         ]
        },
        {
         "domain": {
          "x": [
           0.34,
           0.64
          ]
         },
         "labels": [
          "other"
         ],
         "sort": false,
         "type": "pie",
         "values": [
          17
         ]
        },
        {
         "domain": {
          "x": [
           0.66,
           0.98
          ]
         },
         "labels": [
          "other"
         ],
         "sort": false,
         "type": "pie",
         "values": [
          2
         ]
        }
       ],
       "layout": {
        "annotations": [
         {
          "font": {
           "size": 14
          },
          "showarrow": false,
          "text": "Female Head of Household",
          "x": 0.04,
          "y": 1
         },
         {
          "font": {
           "size": 14
          },
          "showarrow": false,
          "text": "Global",
          "x": 0.5,
          "y": 1
         },
         {
          "font": {
           "size": 14
          },
          "showarrow": false,
          "text": "Male Head of Household",
          "x": 0.94,
          "y": 1
         }
        ],
        "title": "Labor sector"
       }
      },
      "text/html": [
       "<div id=\"0480a3c5-3cac-4766-8785-5b0f1b788050\" style=\"height: 525px; width: 100%;\" class=\"plotly-graph-div\"></div><script type=\"text/javascript\">require([\"plotly\"], function(Plotly) { window.PLOTLYENV=window.PLOTLYENV || {};window.PLOTLYENV.BASE_URL=\"https://plot.ly\";Plotly.newPlot(\"0480a3c5-3cac-4766-8785-5b0f1b788050\", [{\"sort\": false, \"values\": [15], \"domain\": {\"x\": [0, 0.32]}, \"labels\": [\"other\"], \"type\": \"pie\"}, {\"sort\": false, \"values\": [17], \"domain\": {\"x\": [0.34, 0.64]}, \"labels\": [\"other\"], \"type\": \"pie\"}, {\"sort\": false, \"values\": [2], \"domain\": {\"x\": [0.66, 0.98]}, \"labels\": [\"other\"], \"type\": \"pie\"}], {\"annotations\": [{\"y\": 1, \"text\": \"Female Head of Household\", \"font\": {\"size\": 14}, \"showarrow\": false, \"x\": 0.04}, {\"y\": 1, \"text\": \"Global\", \"font\": {\"size\": 14}, \"showarrow\": false, \"x\": 0.5}, {\"y\": 1, \"text\": \"Male Head of Household\", \"font\": {\"size\": 14}, \"showarrow\": false, \"x\": 0.94}], \"title\": \"Labor sector\"}, {\"linkText\": \"Export to plot.ly\", \"showLink\": true})});</script>"
      ],
      "text/vnd.plotly.v1+html": [
       "<div id=\"0480a3c5-3cac-4766-8785-5b0f1b788050\" style=\"height: 525px; width: 100%;\" class=\"plotly-graph-div\"></div><script type=\"text/javascript\">require([\"plotly\"], function(Plotly) { window.PLOTLYENV=window.PLOTLYENV || {};window.PLOTLYENV.BASE_URL=\"https://plot.ly\";Plotly.newPlot(\"0480a3c5-3cac-4766-8785-5b0f1b788050\", [{\"sort\": false, \"values\": [15], \"domain\": {\"x\": [0, 0.32]}, \"labels\": [\"other\"], \"type\": \"pie\"}, {\"sort\": false, \"values\": [17], \"domain\": {\"x\": [0.34, 0.64]}, \"labels\": [\"other\"], \"type\": \"pie\"}, {\"sort\": false, \"values\": [2], \"domain\": {\"x\": [0.66, 0.98]}, \"labels\": [\"other\"], \"type\": \"pie\"}], {\"annotations\": [{\"y\": 1, \"text\": \"Female Head of Household\", \"font\": {\"size\": 14}, \"showarrow\": false, \"x\": 0.04}, {\"y\": 1, \"text\": \"Global\", \"font\": {\"size\": 14}, \"showarrow\": false, \"x\": 0.5}, {\"y\": 1, \"text\": \"Male Head of Household\", \"font\": {\"size\": 14}, \"showarrow\": false, \"x\": 0.94}], \"title\": \"Labor sector\"}, {\"linkText\": \"Export to plot.ly\", \"showLink\": true})});</script>"
      ]
     },
     "metadata": {},
     "output_type": "display_data"
    },
    {
     "name": "stdout",
     "output_type": "stream",
     "text": [
      "19 laborers\n"
     ]
    },
    {
     "data": {
      "application/vnd.plotly.v1+json": {
       "data": [
        {
         "domain": {
          "x": [
           0,
           0.32
          ]
         },
         "labels": [
          "permanent",
          "temporary"
         ],
         "sort": false,
         "type": "pie",
         "values": [
          7,
          7
         ]
        },
        {
         "domain": {
          "x": [
           0.34,
           0.64
          ]
         },
         "labels": [
          "permanent",
          "temporary"
         ],
         "sort": false,
         "type": "pie",
         "values": [
          9,
          7
         ]
        },
        {
         "domain": {
          "x": [
           0.66,
           0.98
          ]
         },
         "labels": [
          "permanent"
         ],
         "sort": false,
         "type": "pie",
         "values": [
          2
         ]
        }
       ],
       "layout": {
        "annotations": [
         {
          "font": {
           "size": 14
          },
          "showarrow": false,
          "text": "Female Head of Household",
          "x": 0.04,
          "y": 1
         },
         {
          "font": {
           "size": 14
          },
          "showarrow": false,
          "text": "Global",
          "x": 0.5,
          "y": 1
         },
         {
          "font": {
           "size": 14
          },
          "showarrow": false,
          "text": "Male Head of Household",
          "x": 0.94,
          "y": 1
         }
        ],
        "title": "Temporality of laborers"
       }
      },
      "text/html": [
       "<div id=\"157ce086-6d19-43db-89ca-8c6400679751\" style=\"height: 525px; width: 100%;\" class=\"plotly-graph-div\"></div><script type=\"text/javascript\">require([\"plotly\"], function(Plotly) { window.PLOTLYENV=window.PLOTLYENV || {};window.PLOTLYENV.BASE_URL=\"https://plot.ly\";Plotly.newPlot(\"157ce086-6d19-43db-89ca-8c6400679751\", [{\"sort\": false, \"values\": [7, 7], \"domain\": {\"x\": [0, 0.32]}, \"labels\": [\"permanent\", \"temporary\"], \"type\": \"pie\"}, {\"sort\": false, \"values\": [9, 7], \"domain\": {\"x\": [0.34, 0.64]}, \"labels\": [\"permanent\", \"temporary\"], \"type\": \"pie\"}, {\"sort\": false, \"values\": [2], \"domain\": {\"x\": [0.66, 0.98]}, \"labels\": [\"permanent\"], \"type\": \"pie\"}], {\"annotations\": [{\"y\": 1, \"text\": \"Female Head of Household\", \"font\": {\"size\": 14}, \"showarrow\": false, \"x\": 0.04}, {\"y\": 1, \"text\": \"Global\", \"font\": {\"size\": 14}, \"showarrow\": false, \"x\": 0.5}, {\"y\": 1, \"text\": \"Male Head of Household\", \"font\": {\"size\": 14}, \"showarrow\": false, \"x\": 0.94}], \"title\": \"Temporality of laborers\"}, {\"linkText\": \"Export to plot.ly\", \"showLink\": true})});</script>"
      ],
      "text/vnd.plotly.v1+html": [
       "<div id=\"157ce086-6d19-43db-89ca-8c6400679751\" style=\"height: 525px; width: 100%;\" class=\"plotly-graph-div\"></div><script type=\"text/javascript\">require([\"plotly\"], function(Plotly) { window.PLOTLYENV=window.PLOTLYENV || {};window.PLOTLYENV.BASE_URL=\"https://plot.ly\";Plotly.newPlot(\"157ce086-6d19-43db-89ca-8c6400679751\", [{\"sort\": false, \"values\": [7, 7], \"domain\": {\"x\": [0, 0.32]}, \"labels\": [\"permanent\", \"temporary\"], \"type\": \"pie\"}, {\"sort\": false, \"values\": [9, 7], \"domain\": {\"x\": [0.34, 0.64]}, \"labels\": [\"permanent\", \"temporary\"], \"type\": \"pie\"}, {\"sort\": false, \"values\": [2], \"domain\": {\"x\": [0.66, 0.98]}, \"labels\": [\"permanent\"], \"type\": \"pie\"}], {\"annotations\": [{\"y\": 1, \"text\": \"Female Head of Household\", \"font\": {\"size\": 14}, \"showarrow\": false, \"x\": 0.04}, {\"y\": 1, \"text\": \"Global\", \"font\": {\"size\": 14}, \"showarrow\": false, \"x\": 0.5}, {\"y\": 1, \"text\": \"Male Head of Household\", \"font\": {\"size\": 14}, \"showarrow\": false, \"x\": 0.94}], \"title\": \"Temporality of laborers\"}, {\"linkText\": \"Export to plot.ly\", \"showLink\": true})});</script>"
      ]
     },
     "metadata": {},
     "output_type": "display_data"
    },
    {
     "data": {
      "application/vnd.plotly.v1+json": {
       "data": [
        {
         "domain": {
          "x": [
           0,
           0.32
          ]
         },
         "labels": [
          "formal",
          "informal"
         ],
         "sort": false,
         "type": "pie",
         "values": [
          3,
          14
         ]
        },
        {
         "domain": {
          "x": [
           0.34,
           0.64
          ]
         },
         "labels": [
          "formal",
          "informal"
         ],
         "sort": false,
         "type": "pie",
         "values": [
          3,
          16
         ]
        },
        {
         "domain": {
          "x": [
           0.66,
           0.98
          ]
         },
         "labels": [
          "informal"
         ],
         "sort": false,
         "type": "pie",
         "values": [
          2
         ]
        }
       ],
       "layout": {
        "annotations": [
         {
          "font": {
           "size": 14
          },
          "showarrow": false,
          "text": "Female Head of Household",
          "x": 0.04,
          "y": 1
         },
         {
          "font": {
           "size": 14
          },
          "showarrow": false,
          "text": "Global",
          "x": 0.5,
          "y": 1
         },
         {
          "font": {
           "size": 14
          },
          "showarrow": false,
          "text": "Male Head of Household",
          "x": 0.94,
          "y": 1
         }
        ],
        "title": "Employment Type"
       }
      },
      "text/html": [
       "<div id=\"2771edeb-f945-48dd-a8c8-dcf09e8a754e\" style=\"height: 525px; width: 100%;\" class=\"plotly-graph-div\"></div><script type=\"text/javascript\">require([\"plotly\"], function(Plotly) { window.PLOTLYENV=window.PLOTLYENV || {};window.PLOTLYENV.BASE_URL=\"https://plot.ly\";Plotly.newPlot(\"2771edeb-f945-48dd-a8c8-dcf09e8a754e\", [{\"sort\": false, \"values\": [3, 14], \"domain\": {\"x\": [0, 0.32]}, \"labels\": [\"formal\", \"informal\"], \"type\": \"pie\"}, {\"sort\": false, \"values\": [3, 16], \"domain\": {\"x\": [0.34, 0.64]}, \"labels\": [\"formal\", \"informal\"], \"type\": \"pie\"}, {\"sort\": false, \"values\": [2], \"domain\": {\"x\": [0.66, 0.98]}, \"labels\": [\"informal\"], \"type\": \"pie\"}], {\"annotations\": [{\"y\": 1, \"text\": \"Female Head of Household\", \"font\": {\"size\": 14}, \"showarrow\": false, \"x\": 0.04}, {\"y\": 1, \"text\": \"Global\", \"font\": {\"size\": 14}, \"showarrow\": false, \"x\": 0.5}, {\"y\": 1, \"text\": \"Male Head of Household\", \"font\": {\"size\": 14}, \"showarrow\": false, \"x\": 0.94}], \"title\": \"Employment Type\"}, {\"linkText\": \"Export to plot.ly\", \"showLink\": true})});</script>"
      ],
      "text/vnd.plotly.v1+html": [
       "<div id=\"2771edeb-f945-48dd-a8c8-dcf09e8a754e\" style=\"height: 525px; width: 100%;\" class=\"plotly-graph-div\"></div><script type=\"text/javascript\">require([\"plotly\"], function(Plotly) { window.PLOTLYENV=window.PLOTLYENV || {};window.PLOTLYENV.BASE_URL=\"https://plot.ly\";Plotly.newPlot(\"2771edeb-f945-48dd-a8c8-dcf09e8a754e\", [{\"sort\": false, \"values\": [3, 14], \"domain\": {\"x\": [0, 0.32]}, \"labels\": [\"formal\", \"informal\"], \"type\": \"pie\"}, {\"sort\": false, \"values\": [3, 16], \"domain\": {\"x\": [0.34, 0.64]}, \"labels\": [\"formal\", \"informal\"], \"type\": \"pie\"}, {\"sort\": false, \"values\": [2], \"domain\": {\"x\": [0.66, 0.98]}, \"labels\": [\"informal\"], \"type\": \"pie\"}], {\"annotations\": [{\"y\": 1, \"text\": \"Female Head of Household\", \"font\": {\"size\": 14}, \"showarrow\": false, \"x\": 0.04}, {\"y\": 1, \"text\": \"Global\", \"font\": {\"size\": 14}, \"showarrow\": false, \"x\": 0.5}, {\"y\": 1, \"text\": \"Male Head of Household\", \"font\": {\"size\": 14}, \"showarrow\": false, \"x\": 0.94}], \"title\": \"Employment Type\"}, {\"linkText\": \"Export to plot.ly\", \"showLink\": true})});</script>"
      ]
     },
     "metadata": {},
     "output_type": "display_data"
    },
    {
     "data": {
      "application/vnd.plotly.v1+json": {
       "data": [
        {
         "domain": {
          "x": [
           0,
           0.32
          ]
         },
         "labels": [
          "men"
         ],
         "sort": false,
         "type": "pie",
         "values": [
          17
         ]
        },
        {
         "domain": {
          "x": [
           0.34,
           0.64
          ]
         },
         "labels": [
          "men"
         ],
         "sort": false,
         "type": "pie",
         "values": [
          19
         ]
        },
        {
         "domain": {
          "x": [
           0.66,
           0.98
          ]
         },
         "labels": [
          "men"
         ],
         "sort": false,
         "type": "pie",
         "values": [
          2
         ]
        }
       ],
       "layout": {
        "annotations": [
         {
          "font": {
           "size": 14
          },
          "showarrow": false,
          "text": "Female Head of Household",
          "x": 0.04,
          "y": 1
         },
         {
          "font": {
           "size": 14
          },
          "showarrow": false,
          "text": "Global",
          "x": 0.5,
          "y": 1
         },
         {
          "font": {
           "size": 14
          },
          "showarrow": false,
          "text": "Male Head of Household",
          "x": 0.94,
          "y": 1
         }
        ],
        "title": "Gender of laborers"
       }
      },
      "text/html": [
       "<div id=\"08ebff83-c52f-4f94-80b6-6758c4086bff\" style=\"height: 525px; width: 100%;\" class=\"plotly-graph-div\"></div><script type=\"text/javascript\">require([\"plotly\"], function(Plotly) { window.PLOTLYENV=window.PLOTLYENV || {};window.PLOTLYENV.BASE_URL=\"https://plot.ly\";Plotly.newPlot(\"08ebff83-c52f-4f94-80b6-6758c4086bff\", [{\"sort\": false, \"values\": [17], \"domain\": {\"x\": [0, 0.32]}, \"labels\": [\"men\"], \"type\": \"pie\"}, {\"sort\": false, \"values\": [19], \"domain\": {\"x\": [0.34, 0.64]}, \"labels\": [\"men\"], \"type\": \"pie\"}, {\"sort\": false, \"values\": [2], \"domain\": {\"x\": [0.66, 0.98]}, \"labels\": [\"men\"], \"type\": \"pie\"}], {\"annotations\": [{\"y\": 1, \"text\": \"Female Head of Household\", \"font\": {\"size\": 14}, \"showarrow\": false, \"x\": 0.04}, {\"y\": 1, \"text\": \"Global\", \"font\": {\"size\": 14}, \"showarrow\": false, \"x\": 0.5}, {\"y\": 1, \"text\": \"Male Head of Household\", \"font\": {\"size\": 14}, \"showarrow\": false, \"x\": 0.94}], \"title\": \"Gender of laborers\"}, {\"linkText\": \"Export to plot.ly\", \"showLink\": true})});</script>"
      ],
      "text/vnd.plotly.v1+html": [
       "<div id=\"08ebff83-c52f-4f94-80b6-6758c4086bff\" style=\"height: 525px; width: 100%;\" class=\"plotly-graph-div\"></div><script type=\"text/javascript\">require([\"plotly\"], function(Plotly) { window.PLOTLYENV=window.PLOTLYENV || {};window.PLOTLYENV.BASE_URL=\"https://plot.ly\";Plotly.newPlot(\"08ebff83-c52f-4f94-80b6-6758c4086bff\", [{\"sort\": false, \"values\": [17], \"domain\": {\"x\": [0, 0.32]}, \"labels\": [\"men\"], \"type\": \"pie\"}, {\"sort\": false, \"values\": [19], \"domain\": {\"x\": [0.34, 0.64]}, \"labels\": [\"men\"], \"type\": \"pie\"}, {\"sort\": false, \"values\": [2], \"domain\": {\"x\": [0.66, 0.98]}, \"labels\": [\"men\"], \"type\": \"pie\"}], {\"annotations\": [{\"y\": 1, \"text\": \"Female Head of Household\", \"font\": {\"size\": 14}, \"showarrow\": false, \"x\": 0.04}, {\"y\": 1, \"text\": \"Global\", \"font\": {\"size\": 14}, \"showarrow\": false, \"x\": 0.5}, {\"y\": 1, \"text\": \"Male Head of Household\", \"font\": {\"size\": 14}, \"showarrow\": false, \"x\": 0.94}], \"title\": \"Gender of laborers\"}, {\"linkText\": \"Export to plot.ly\", \"showLink\": true})});</script>"
      ]
     },
     "metadata": {},
     "output_type": "display_data"
    }
   ],
   "source": [
    "labour_set = reg_survey.loc[reg_survey['src_incomes'].str.contains(\"labour\")]\n",
    "labour_set_femHoHH = reg_survey_femHoHH.loc[reg_survey_femHoHH['src_incomes'].str.contains(\"labour\")]\n",
    "labor_sector = get_ocurrences(labour_set, 'labour_sector')\n",
    "labor_sector_femHoHH = get_ocurrences(labour_set_femHoHH, 'labour_sector')\n",
    "#create_pie_graph(labor_sector, \"Labor sector\")\n",
    "create_graphs_HoHH(lambda x: get_ocurrences(x.loc[x['src_incomes'].str.contains(\"labour\")], 'labour_sector'),\n",
    "                         lambda x: x.values,\n",
    "                         lambda x: x.index.values,\n",
    "                         lambda x: x.sum(),\n",
    "                         \"Labor sector\")\n",
    "labour_set.loc[labour_set['labour_participants'].str.contains('women')][['labour_participants', 'respondant_gender', 'respondant_age', 'respondant_head_hh', 'male_teenager', 'male_adult', 'male_elderly', 'labour_sector']]\n",
    "labour_incomes = labour_set.groupby('labour_daily_salary').size()\n",
    "mean_salary = labour_set['labour_daily_salary'].mean()\n",
    "sectors_100 = labour_set.loc[labour_set['labour_daily_salary'] == 100].groupby('labour_sector').size()\n",
    "print str(labour_set['deviceid'].count()) + \" laborers\"\n",
    "create_graphs_HoHH(lambda x: x.loc[x['src_incomes'].str.contains(\"labour\")].groupby('labour_work_term').size(),\n",
    "                         lambda x: x.values,\n",
    "                         lambda x: x.index.values,\n",
    "                         lambda x: x.sum(),\n",
    "                         \"Temporality of laborers\")\n",
    "create_graphs_HoHH(lambda x: x.loc[x['src_incomes'].str.contains(\"labour\")].groupby('labour_employment_type').size(),\n",
    "                         lambda x: x.values,\n",
    "                         lambda x: x.index.values,\n",
    "                         lambda x: x.sum(),\n",
    "                         \"Employment Type\")\n",
    "create_graphs_HoHH(lambda x: x.loc[x['src_incomes'].str.contains(\"labour\")].groupby('labour_participants').size(),\n",
    "                         lambda x: x.values,\n",
    "                         lambda x: x.index.values,\n",
    "                         lambda x: x.sum(),\n",
    "                         \"Gender of laborers\")"
   ]
  },
  {
   "cell_type": "code",
   "execution_count": 121,
   "metadata": {},
   "outputs": [
    {
     "name": "stdout",
     "output_type": "stream",
     "text": [
      "30.8333333333\n"
     ]
    },
    {
     "data": {
      "application/vnd.plotly.v1+json": {
       "data": [
        {
         "marker": {
          "size": [
           5,
           5,
           10,
           10,
           5,
           5,
           5,
           10,
           5,
           5,
           15,
           5,
           80,
           5,
           10,
           85,
           40,
           5,
           45,
           5,
           50,
           125,
           5,
           5,
           5,
           10,
           50,
           45,
           25,
           20,
           85,
           5,
           15,
           30,
           5,
           65,
           5,
           10,
           15,
           10,
           60,
           35,
           5,
           10,
           5,
           5,
           5,
           5,
           5
          ]
         },
         "mode": "markers",
         "type": "scatter",
         "x": [
          0,
          0,
          0,
          0,
          0,
          0,
          1,
          2,
          3,
          3,
          4,
          4,
          5,
          5,
          5,
          6,
          7,
          7,
          8,
          8,
          9,
          10,
          10,
          10,
          10,
          10,
          11,
          12,
          13,
          14,
          15,
          15,
          16,
          17,
          18,
          20,
          20,
          21,
          22,
          23,
          25,
          30,
          32,
          35,
          40,
          42,
          43,
          50,
          100
         ],
         "y": [
          1,
          2,
          3,
          5,
          7,
          10,
          0,
          0,
          0,
          5,
          0,
          3,
          0,
          2,
          3,
          0,
          0,
          4,
          0,
          3,
          0,
          0,
          2,
          3,
          4,
          7,
          0,
          0,
          0,
          0,
          0,
          3,
          0,
          0,
          2,
          0,
          4,
          0,
          0,
          0,
          0,
          0,
          0,
          0,
          0,
          0,
          0,
          0,
          0
         ]
        }
       ],
       "layout": {
        "title": "Relation between the number of cattle and goats",
        "xaxis": {
         "title": "Number of goat"
        },
        "yaxis": {
         "title": "Number of cattle"
        }
       }
      },
      "text/html": [
       "<div id=\"7de999c0-ae4c-416c-a51c-14edb4edfbd8\" style=\"height: 525px; width: 100%;\" class=\"plotly-graph-div\"></div><script type=\"text/javascript\">require([\"plotly\"], function(Plotly) { window.PLOTLYENV=window.PLOTLYENV || {};window.PLOTLYENV.BASE_URL=\"https://plot.ly\";Plotly.newPlot(\"7de999c0-ae4c-416c-a51c-14edb4edfbd8\", [{\"y\": [1.0, 2.0, 3.0, 5.0, 7.0, 10.0, 0.0, 0.0, 0.0, 5.0, 0.0, 3.0, 0.0, 2.0, 3.0, 0.0, 0.0, 4.0, 0.0, 3.0, 0.0, 0.0, 2.0, 3.0, 4.0, 7.0, 0.0, 0.0, 0.0, 0.0, 0.0, 3.0, 0.0, 0.0, 2.0, 0.0, 4.0, 0.0, 0.0, 0.0, 0.0, 0.0, 0.0, 0.0, 0.0, 0.0, 0.0, 0.0, 0.0], \"x\": [0.0, 0.0, 0.0, 0.0, 0.0, 0.0, 1.0, 2.0, 3.0, 3.0, 4.0, 4.0, 5.0, 5.0, 5.0, 6.0, 7.0, 7.0, 8.0, 8.0, 9.0, 10.0, 10.0, 10.0, 10.0, 10.0, 11.0, 12.0, 13.0, 14.0, 15.0, 15.0, 16.0, 17.0, 18.0, 20.0, 20.0, 21.0, 22.0, 23.0, 25.0, 30.0, 32.0, 35.0, 40.0, 42.0, 43.0, 50.0, 100.0], \"type\": \"scatter\", \"mode\": \"markers\", \"marker\": {\"size\": [5, 5, 10, 10, 5, 5, 5, 10, 5, 5, 15, 5, 80, 5, 10, 85, 40, 5, 45, 5, 50, 125, 5, 5, 5, 10, 50, 45, 25, 20, 85, 5, 15, 30, 5, 65, 5, 10, 15, 10, 60, 35, 5, 10, 5, 5, 5, 5, 5]}}], {\"title\": \"Relation between the number of cattle and goats\", \"xaxis\": {\"title\": \"Number of goat\"}, \"yaxis\": {\"title\": \"Number of cattle\"}}, {\"linkText\": \"Export to plot.ly\", \"showLink\": true})});</script>"
      ],
      "text/vnd.plotly.v1+html": [
       "<div id=\"7de999c0-ae4c-416c-a51c-14edb4edfbd8\" style=\"height: 525px; width: 100%;\" class=\"plotly-graph-div\"></div><script type=\"text/javascript\">require([\"plotly\"], function(Plotly) { window.PLOTLYENV=window.PLOTLYENV || {};window.PLOTLYENV.BASE_URL=\"https://plot.ly\";Plotly.newPlot(\"7de999c0-ae4c-416c-a51c-14edb4edfbd8\", [{\"y\": [1.0, 2.0, 3.0, 5.0, 7.0, 10.0, 0.0, 0.0, 0.0, 5.0, 0.0, 3.0, 0.0, 2.0, 3.0, 0.0, 0.0, 4.0, 0.0, 3.0, 0.0, 0.0, 2.0, 3.0, 4.0, 7.0, 0.0, 0.0, 0.0, 0.0, 0.0, 3.0, 0.0, 0.0, 2.0, 0.0, 4.0, 0.0, 0.0, 0.0, 0.0, 0.0, 0.0, 0.0, 0.0, 0.0, 0.0, 0.0, 0.0], \"x\": [0.0, 0.0, 0.0, 0.0, 0.0, 0.0, 1.0, 2.0, 3.0, 3.0, 4.0, 4.0, 5.0, 5.0, 5.0, 6.0, 7.0, 7.0, 8.0, 8.0, 9.0, 10.0, 10.0, 10.0, 10.0, 10.0, 11.0, 12.0, 13.0, 14.0, 15.0, 15.0, 16.0, 17.0, 18.0, 20.0, 20.0, 21.0, 22.0, 23.0, 25.0, 30.0, 32.0, 35.0, 40.0, 42.0, 43.0, 50.0, 100.0], \"type\": \"scatter\", \"mode\": \"markers\", \"marker\": {\"size\": [5, 5, 10, 10, 5, 5, 5, 10, 5, 5, 15, 5, 80, 5, 10, 85, 40, 5, 45, 5, 50, 125, 5, 5, 5, 10, 50, 45, 25, 20, 85, 5, 15, 30, 5, 65, 5, 10, 15, 10, 60, 35, 5, 10, 5, 5, 5, 5, 5]}}], {\"title\": \"Relation between the number of cattle and goats\", \"xaxis\": {\"title\": \"Number of goat\"}, \"yaxis\": {\"title\": \"Number of cattle\"}}, {\"linkText\": \"Export to plot.ly\", \"showLink\": true})});</script>"
      ]
     },
     "metadata": {},
     "output_type": "display_data"
    }
   ],
   "source": [
    "gov_salaries = labour_set.loc[labour_set['labour_sector'] == 'government']\n",
    "agri_salaries = labour_set.loc[labour_set['labour_sector'] == 'agriculture']\n",
    "trans_salaries = labour_set.loc[labour_set['labour_sector'] == 'transportation']\n",
    "other_salaries = labour_set.loc[labour_set['labour_sector'] == 'other']\n",
    "print mean_salary\n",
    "gov_salaries_mean = gov_salaries['labour_daily_salary'].mean()\n",
    "gov_salaries_num = gov_salaries.groupby('labour_daily_salary').size()\n",
    "agri_salaries_mean = agri_salaries['labour_daily_salary'].mean()\n",
    "agri_salaries_num = agri_salaries.groupby('labour_daily_salary').size()\n",
    "trans_salaries_mean = trans_salaries['labour_daily_salary'].mean()\n",
    "trans_salaries_num = trans_salaries.groupby('labour_daily_salary').size()\n",
    "other_salaries_mean = other_salaries['labour_daily_salary'].mean()\n",
    "other_salaries_num = other_salaries.groupby('labour_daily_salary').size()\n",
    "\n",
    "salaries = {\n",
    "    \"layout\": {\n",
    "        \"title\": \"Relation between the number of cattle and sheeps\",\n",
    "        \"xaxis\": {\n",
    "            \"title\": \"Number of goat\"\n",
    "        },\n",
    "        \"yaxis\": {\n",
    "            \"title\": \"Number of cattle\"\n",
    "        }\n",
    "    },\n",
    "    \"data\": [\n",
    "        {\n",
    "\n",
    "            \"x\": prueba3.livestock_number_goat,\n",
    "            \"y\": prueba3.livestock_number_cattle,\n",
    "            \"mode\": \"markers\",\n",
    "            \"marker\": {\n",
    "                \"size\": prueba.number * 5               \n",
    "            },\n",
    "            \"type\": \"scatter\"\n",
    "        }\n",
    "    ]\n",
    "}\n",
    "iplot(goat_vs_cattle)"
   ]
  },
  {
   "cell_type": "markdown",
   "metadata": {},
   "source": [
    "### Agriculture"
   ]
  },
  {
   "cell_type": "raw",
   "metadata": {},
   "source": [
    "agri_set = reg_survey.loc[reg_survey['src_incomes'].str.contains(\"agriculture\")].copy()\n",
    "agri_set_female = reg_survey_female.loc[reg_survey_female['src_incomes'].str.contains(\"agriculture\")]#.copy()\n",
    "agri_set_femHoHH = reg_survey_femHoHH.loc[reg_survey_femHoHH['src_incomes'].str.contains(\"agriculture\")].copy()\n",
    "\n",
    "land_quantity = agri_set.groupby('agri_gard_land_quantity').size()\n",
    "land_quantity_female = agri_set_female.groupby('agri_gard_land_quantity').size()\n",
    "land_quantity_femHoHH = agri_set_femHoHH.groupby('agri_gard_land_quantity').size()\n",
    "use_quantity = agri_set.groupby('agri_gard_use_quantity').size()\n",
    "\n",
    "d = {'land': land_quantity, 'use': use_quantity}\n",
    "use_land = pd.DataFrame(d)\n",
    "hey = use_quantity.index.map(lambda x: str(x))\n",
    "use_quantity.index = hey\n",
    "print use_quantity.index\n",
    "display(use_quantity)\n",
    "display(use_land)\n",
    "display(land_quantity)"
   ]
  },
  {
   "cell_type": "raw",
   "metadata": {
    "scrolled": false
   },
   "source": [
    "values = [0,5, land_quantity.index[-4]]\n",
    "values_female = [0,5, land_quantity_female.index[-3]]\n",
    "values_femHoHH = [0,5, land_quantity_femHoHH.index[-2]]\n",
    "per2 = get_percentiles(land_quantity, values)\n",
    "percentiles = pd.Series(values, index = per2)\n",
    "\n",
    "print percentiles\n",
    "\n",
    "print pd.Series(values_female, index = get_percentiles(land_quantity_female, values_female))\n",
    "print pd.Series(values_femHoHH, index = get_percentiles(land_quantity_femHoHH, values_femHoHH))\n",
    "\n",
    "plot_wealth_criteria(land_quantity, values, \"Number of feddans per wealth group\")\n",
    "#plot_wealth_criteria(land_quantity_female, values_female, \"Number of feddans per wealth group in female respondents\")\n",
    "plot_wealth_criteria(land_quantity_femHoHH, values_femHoHH, \"Number of feddans per wealth group in female HoHH\")"
   ]
  },
  {
   "cell_type": "raw",
   "metadata": {},
   "source": [
    "quantiles = [.335, .915, 1]\n",
    "q = goats.quantile(quantiles)\n",
    "print \"Quantiles:\"\n",
    "print q\n",
    "goats1 = goats[goats < q[quantiles[0]]].dropna()\n",
    "goats2 = goats[goats.between(q[quantiles[0]], q[quantiles[1]])].dropna()\n",
    "goats3 = goats[goats.between(q[quantiles[1]], q[quantiles[2]])].dropna()\n",
    "#fig = ff.create_distplot([goats1.values, goats2.values, goats3.values], ['poor', 'medium', 'rich'])\n",
    "#iplot (fig)"
   ]
  },
  {
   "cell_type": "raw",
   "metadata": {
    "scrolled": false
   },
   "source": [
    "use_vs_have = pd.crosstab(agri_set.agri_gard_land_quantity, agri_set.agri_gard_use_quantity).stack().reset_index(name='feddans')\n",
    "#prueba.plot.scatter('livestock_number_goats', 'livestock_number_sheep', s=prueba.number * 10)\n",
    "use_vs_have = use_vs_have[use_vs_have.feddans != 0]\n",
    "use_vs_have = use_vs_have[use_vs_have.agri_gard_use_quantity <= 10]\n",
    "use_vs_have = use_vs_have[use_vs_have.agri_gard_land_quantity <= 10]\n",
    "#prueba = prueba[prueba.livestock_number_goat <= 100]\n",
    "#prueba = prueba[prueba.livestock_number_sheep <= 100]\n",
    "#display(prueba)\n",
    "use_vs_have = {\n",
    "    \"layout\": {\n",
    "        \"title\": \"Relation between the quantity of land owned and used\"\n",
    "    },\n",
    "    \"data\": [\n",
    "        {\n",
    "\n",
    "            \"x\": use_vs_have.agri_gard_land_quantity,\n",
    "            \"y\": use_vs_have.agri_gard_use_quantity,\n",
    "            \"mode\": \"markers\",\n",
    "            \"marker\": {\n",
    "                \"size\": use_vs_have.feddans\n",
    "            },\n",
    "            \"type\": \"scatter\"\n",
    "        },\n",
    "        {\n",
    "\n",
    "            \"x\": [0,10],\n",
    "            \"y\": [0,10],\n",
    "            \"mode\": \"lines\"\n",
    "        }\n",
    "    ]\n",
    "}\n",
    "iplot(use_vs_have)"
   ]
  },
  {
   "cell_type": "raw",
   "metadata": {},
   "source": [
    "# Inconsistencies\n",
    "# print agri_set.loc[agri_set.agri_gard_water_harv_farmlands > agri_set.agri_gard_land_quantity]['agri_gard_water_harv_farmlands']\n",
    "# print agri_set.loc[agri_set.agri_gard_water_harv_farmlands > agri_set.agri_gard_land_quantity]['agri_gard_land_quantity']\n",
    "\n",
    "agri_set['perc_rainfed_farmlands'] = agri_set['agri_gard_water_harv_farmlands'] / agri_set['agri_gard_land_quantity']\n",
    "\n",
    "# Estimation to correct the inconsistencies: All feddan have water harvesting access\n",
    "feddans_med_poor = agri_set.loc[agri_set.agri_gard_use_quantity <= 5]['agri_gard_use_quantity'].sum()\n",
    "\n",
    "print feddans_med_poor / agri_set.loc[agri_set.agri_gard_use_quantity <= 5, 'deviceid'].count()\n",
    "print feddans_med_poor / total_surveys\n",
    "\n",
    "#print agri_set.groupby('perc_rainfed_farmlands').size()\n",
    "#print agri_set.groupby('agri_gard_farm_tech').size()\n",
    "#print agri_set.groupby('agri_gard_water_harv_farmlands').size()\n",
    "all_farm_rainfed = agri_set.loc[agri_set['perc_rainfed_farmlands'] == 1].groupby('agri_gard_use_quantity').size()\n",
    "agri_set['agri_gard_water_harv_farmlands'].sum()\n",
    "print agri_set.loc[agri_set.agri_gard_use_quantity > agri_set.agri_gard_land_quantity]['deviceid'].count()\n",
    "print agri_set.loc[agri_set.agri_gard_land_property == 'own'].groupby('agri_gard_use_quantity').size()\n",
    "print agri_set.loc[agri_set.agri_gard_land_property == 'rent'].groupby('agri_gard_use_quantity').size()\n",
    "print agri_set.groupby('agri_gard_land_quantity').size()\n",
    "print agri_set.groupby('cc_effects_sand_affected_farmlands').size()\n",
    "\n",
    "agri_set.groupby('agri_gard_training').size()"
   ]
  },
  {
   "cell_type": "raw",
   "metadata": {
    "scrolled": false
   },
   "source": [
    "agri_set_med_poor = agri_set.loc[agri_set.agri_gard_use_quantity <= 5].copy()\n",
    "agri_set_med_poor.loc[agri_set_med_poor['agri_gard_protected_farmlands'] > agri_set_med_poor['agri_gard_use_quantity'], 'agri_gard_protected_farmlands'] = agri_set_med_poor['agri_gard_use_quantity']\n",
    "agri_set_med_poor['perc_land_protected'] = agri_set_med_poor.agri_gard_protected_farmlands / agri_set_med_poor.agri_gard_land_quantity\n",
    "print agri_set_med_poor.groupby('agri_gard_use_quantity').size()\n",
    "print agri_set_med_poor['agri_gard_protected_farmlands'].sum() / agri_set_med_poor['agri_gard_use_quantity'].sum()\n",
    "print agri_set_med_poor.groupby('perc_land_protected').size()\n",
    "print agri_set_med_poor.groupby('perc_land_protected').size().sum()"
   ]
  },
  {
   "cell_type": "raw",
   "metadata": {},
   "source": [
    "#crop_types = ['sorghum', 'wheat', 'bean', 'palm', 'fodder', 'watermelon', 'potato', 'tomato', 'onion', 'cucumber', 'okra', 'other']\n",
    "\n",
    "types_agri = get_ocurrences(agri_set, 'agri_gard_agri_crops')\n",
    "types_agri = types_agri / agri_set['deviceid'].count()\n",
    "print types_agri\n",
    "\n",
    "crops = {\n",
    "    \"layout\": {\n",
    "        \"title\": \"Main crops\",\n",
    "        \"xaxis\": {\n",
    "            \"tickangle\": -45\n",
    "        },\n",
    "        \"width\": 700,\n",
    "        \"annotations\": []\n",
    "    },\n",
    "    \"data\": [\n",
    "        {\n",
    "            \"x\": map(lambda x: x.capitalize(), types_agri.index.values),\n",
    "            \"y\": types_agri.values,\n",
    "            \"type\": \"bar\",\n",
    "            \"name\": \"Livelihoods Strategies\",\n",
    "            \"marker\": {\n",
    "                \"color\": 'rgb(205,258,205)',\n",
    "                \"line\": {\n",
    "                    \"color\": 'rgb(0,192,0)',\n",
    "                    \"width\": 1.5\n",
    "                }\n",
    "            },\n",
    "        }\n",
    "    ]\n",
    "}\n",
    "\n",
    "iplot(crops)"
   ]
  },
  {
   "cell_type": "raw",
   "metadata": {},
   "source": [
    "farm_tools = reg_survey.groupby('agri_gard_farm_tools').size()\n",
    "farm_tech = reg_survey.groupby('agri_gard_farm_tech').size()\n",
    "seeds = reg_survey.groupby('agri_gard_seeds').size()\n",
    "\n",
    "create_graphs_HoHH(lambda x: x.groupby('agri_gard_farm_tools').size(),\n",
    "                         lambda x: x.values,\n",
    "                         lambda x: x.index.values,\n",
    "                         lambda x: x.sum(),\n",
    "                         \"Farming tools by Head of Household\")\n",
    "\n",
    "create_graphs_respondent(lambda x: x.groupby('agri_gard_farm_tools').size(),\n",
    "                         lambda x: x.values,\n",
    "                         lambda x: x.index.values,\n",
    "                         lambda x: x.sum(),\n",
    "                         \"Farming tools by respondent\")"
   ]
  },
  {
   "cell_type": "raw",
   "metadata": {},
   "source": [
    "create_graphs_HoHH(lambda x: x.groupby('agri_gard_farm_tech').size(),\n",
    "                         lambda x: x.values,\n",
    "                         lambda x: x.index.values,\n",
    "                         lambda x: x.sum(),\n",
    "                         \"Farming tools by Head of Household\")\n",
    "\n",
    "create_graphs_respondent(lambda x: x.groupby('agri_gard_farm_tech').size(),\n",
    "                         lambda x: x.values,\n",
    "                         lambda x: x.index.values,\n",
    "                         lambda x: x.sum(),\n",
    "                         \"Farming tools by respondent\")"
   ]
  },
  {
   "cell_type": "raw",
   "metadata": {
    "scrolled": false
   },
   "source": [
    "create_graphs_HoHH(lambda x: x.groupby('agri_gard_seeds').size(),\n",
    "                         lambda x: x.values,\n",
    "                         lambda x: x.index.values,\n",
    "                         lambda x: x.sum(),\n",
    "                         \"Farming tools by Head of Household\")\n",
    "\n",
    "create_graphs_respondent(lambda x: x.groupby('agri_gard_seeds').size(),\n",
    "                         lambda x: x.values,\n",
    "                         lambda x: x.index.values,\n",
    "                         lambda x: x.sum(),\n",
    "                         \"Farming tools by respondent\")"
   ]
  },
  {
   "cell_type": "raw",
   "metadata": {},
   "source": [
    "crops = get_ocurrences(agri_set, 'agri_gard_agri_crops')\n",
    "print crops"
   ]
  },
  {
   "cell_type": "markdown",
   "metadata": {},
   "source": [
    "### Forestry (charcoal production)"
   ]
  },
  {
   "cell_type": "code",
   "execution_count": 122,
   "metadata": {},
   "outputs": [
    {
     "name": "stdout",
     "output_type": "stream",
     "text": [
      "forestry_forestry_type\n",
      "charcoal              3\n",
      "charcoal fuelwood    95\n",
      "fuelwood             28\n",
      "fuelwood other        4\n",
      "dtype: int64\n",
      "charcoal     98\n",
      "fuelwood    127\n",
      "other         4\n",
      "dtype: int64\n"
     ]
    },
    {
     "data": {
      "application/vnd.plotly.v1+json": {
       "data": [
        {
         "labels": [
          "charcoal",
          "charcoal fuelwood",
          "fuelwood",
          "fuelwood other"
         ],
         "sort": false,
         "type": "pie",
         "values": [
          3,
          95,
          28,
          4
         ]
        }
       ],
       "layout": {
        "title": "Forestry Type"
       }
      },
      "text/html": [
       "<div id=\"19bbcce9-17c4-4c7e-b7be-ca0d30d8b028\" style=\"height: 525px; width: 100%;\" class=\"plotly-graph-div\"></div><script type=\"text/javascript\">require([\"plotly\"], function(Plotly) { window.PLOTLYENV=window.PLOTLYENV || {};window.PLOTLYENV.BASE_URL=\"https://plot.ly\";Plotly.newPlot(\"19bbcce9-17c4-4c7e-b7be-ca0d30d8b028\", [{\"sort\": false, \"values\": [3, 95, 28, 4], \"labels\": [\"charcoal\", \"charcoal fuelwood\", \"fuelwood\", \"fuelwood other\"], \"type\": \"pie\"}], {\"title\": \"Forestry Type\"}, {\"linkText\": \"Export to plot.ly\", \"showLink\": true})});</script>"
      ],
      "text/vnd.plotly.v1+html": [
       "<div id=\"19bbcce9-17c4-4c7e-b7be-ca0d30d8b028\" style=\"height: 525px; width: 100%;\" class=\"plotly-graph-div\"></div><script type=\"text/javascript\">require([\"plotly\"], function(Plotly) { window.PLOTLYENV=window.PLOTLYENV || {};window.PLOTLYENV.BASE_URL=\"https://plot.ly\";Plotly.newPlot(\"19bbcce9-17c4-4c7e-b7be-ca0d30d8b028\", [{\"sort\": false, \"values\": [3, 95, 28, 4], \"labels\": [\"charcoal\", \"charcoal fuelwood\", \"fuelwood\", \"fuelwood other\"], \"type\": \"pie\"}], {\"title\": \"Forestry Type\"}, {\"linkText\": \"Export to plot.ly\", \"showLink\": true})});</script>"
      ]
     },
     "metadata": {},
     "output_type": "display_data"
    },
    {
     "data": {
      "application/vnd.plotly.v1+json": {
       "data": [
        {
         "labels": [
          "men",
          "men children",
          "men women"
         ],
         "sort": false,
         "type": "pie",
         "values": [
          110,
          9,
          10
         ]
        }
       ],
       "layout": {
        "title": "Forestry participants"
       }
      },
      "text/html": [
       "<div id=\"ae58567c-2fa7-4d8b-8e21-508151cdd370\" style=\"height: 525px; width: 100%;\" class=\"plotly-graph-div\"></div><script type=\"text/javascript\">require([\"plotly\"], function(Plotly) { window.PLOTLYENV=window.PLOTLYENV || {};window.PLOTLYENV.BASE_URL=\"https://plot.ly\";Plotly.newPlot(\"ae58567c-2fa7-4d8b-8e21-508151cdd370\", [{\"sort\": false, \"values\": [110, 9, 10], \"labels\": [\"men\", \"men children\", \"men women\"], \"type\": \"pie\"}], {\"title\": \"Forestry participants\"}, {\"linkText\": \"Export to plot.ly\", \"showLink\": true})});</script>"
      ],
      "text/vnd.plotly.v1+html": [
       "<div id=\"ae58567c-2fa7-4d8b-8e21-508151cdd370\" style=\"height: 525px; width: 100%;\" class=\"plotly-graph-div\"></div><script type=\"text/javascript\">require([\"plotly\"], function(Plotly) { window.PLOTLYENV=window.PLOTLYENV || {};window.PLOTLYENV.BASE_URL=\"https://plot.ly\";Plotly.newPlot(\"ae58567c-2fa7-4d8b-8e21-508151cdd370\", [{\"sort\": false, \"values\": [110, 9, 10], \"labels\": [\"men\", \"men children\", \"men women\"], \"type\": \"pie\"}], {\"title\": \"Forestry participants\"}, {\"linkText\": \"Export to plot.ly\", \"showLink\": true})});</script>"
      ]
     },
     "metadata": {},
     "output_type": "display_data"
    },
    {
     "data": {
      "application/vnd.plotly.v1+json": {
       "data": [
        {
         "labels": [
          "community",
          "none",
          "none own community",
          "own",
          "own community",
          "shared"
         ],
         "sort": false,
         "type": "pie",
         "values": [
          60,
          58,
          1,
          4,
          2,
          5
         ]
        }
       ],
       "layout": {
        "title": "Forests property"
       }
      },
      "text/html": [
       "<div id=\"84fe2ff5-bff8-471e-994f-09196697d2c5\" style=\"height: 525px; width: 100%;\" class=\"plotly-graph-div\"></div><script type=\"text/javascript\">require([\"plotly\"], function(Plotly) { window.PLOTLYENV=window.PLOTLYENV || {};window.PLOTLYENV.BASE_URL=\"https://plot.ly\";Plotly.newPlot(\"84fe2ff5-bff8-471e-994f-09196697d2c5\", [{\"sort\": false, \"values\": [60, 58, 1, 4, 2, 5], \"labels\": [\"community\", \"none\", \"none own community\", \"own\", \"own community\", \"shared\"], \"type\": \"pie\"}], {\"title\": \"Forests property\"}, {\"linkText\": \"Export to plot.ly\", \"showLink\": true})});</script>"
      ],
      "text/vnd.plotly.v1+html": [
       "<div id=\"84fe2ff5-bff8-471e-994f-09196697d2c5\" style=\"height: 525px; width: 100%;\" class=\"plotly-graph-div\"></div><script type=\"text/javascript\">require([\"plotly\"], function(Plotly) { window.PLOTLYENV=window.PLOTLYENV || {};window.PLOTLYENV.BASE_URL=\"https://plot.ly\";Plotly.newPlot(\"84fe2ff5-bff8-471e-994f-09196697d2c5\", [{\"sort\": false, \"values\": [60, 58, 1, 4, 2, 5], \"labels\": [\"community\", \"none\", \"none own community\", \"own\", \"own community\", \"shared\"], \"type\": \"pie\"}], {\"title\": \"Forests property\"}, {\"linkText\": \"Export to plot.ly\", \"showLink\": true})});</script>"
      ]
     },
     "metadata": {},
     "output_type": "display_data"
    },
    {
     "name": "stdout",
     "output_type": "stream",
     "text": [
      "forestry_participants\n",
      "men             110\n",
      "men children      9\n",
      "men women        10\n",
      "dtype: int64\n",
      "forestry_land_property\n",
      "community             60\n",
      "none                  58\n",
      "none own community     1\n",
      "own                    4\n",
      "own community          2\n",
      "shared                 5\n",
      "dtype: int64\n"
     ]
    }
   ],
   "source": [
    "forestry_set = reg_survey.loc[reg_survey['src_incomes'].str.contains(\"forestry\")]\n",
    "print forestry_set.groupby('forestry_forestry_type').size()\n",
    "print get_ocurrences(forestry_set, 'forestry_forestry_type')\n",
    "forestry_participants =  forestry_set.groupby('forestry_participants').size()\n",
    "#forestry_set.loc[forestry_set['forestry_participants'].str.contains('women')][['forestry_participants', 'respondant_gender', 'respondant_age', 'respondant_head_hh', 'male_teenager', 'male_adult', 'male_elderly', 'labour_sector']]\n",
    "forestry_land_property = forestry_set.groupby('forestry_land_property').size()\n",
    "\n",
    "create_pie_graph(forestry_set.groupby('forestry_forestry_type').size(), \"Forestry Type\")\n",
    "create_pie_graph(forestry_set.groupby('forestry_participants').size(), \"Forestry participants\")\n",
    "create_pie_graph(forestry_set.groupby('forestry_land_property').size(), \"Forests property\")\n",
    "\n",
    "print forestry_participants\n",
    "print forestry_land_property"
   ]
  },
  {
   "cell_type": "code",
   "execution_count": 123,
   "metadata": {},
   "outputs": [
    {
     "data": {
      "application/vnd.plotly.v1+json": {
       "data": [
        {
         "domain": {
          "x": [
           0.07,
           0.43
          ]
         },
         "labels": [
          "no",
          "yes"
         ],
         "sort": false,
         "type": "pie",
         "values": [
          78,
          51
         ]
        },
        {
         "domain": {
          "x": [
           0.57,
           0.93
          ]
         },
         "labels": [
          "no",
          "yes"
         ],
         "sort": false,
         "type": "pie",
         "values": [
          103,
          131
         ]
        }
       ],
       "layout": {
        "annotations": [
         {
          "font": {
           "size": 14
          },
          "showarrow": false,
          "text": "Forestry",
          "x": 0.2,
          "y": 1.1
         },
         {
          "font": {
           "size": 14
          },
          "showarrow": false,
          "text": "Livestock",
          "x": 0.8,
          "y": 1.1
         }
        ],
        "title": "Population who has received training in their livelihoods strategies"
       }
      },
      "text/html": [
       "<div id=\"ba0be9c9-56c0-47bb-a8bd-2359cc887aab\" style=\"height: 525px; width: 100%;\" class=\"plotly-graph-div\"></div><script type=\"text/javascript\">require([\"plotly\"], function(Plotly) { window.PLOTLYENV=window.PLOTLYENV || {};window.PLOTLYENV.BASE_URL=\"https://plot.ly\";Plotly.newPlot(\"ba0be9c9-56c0-47bb-a8bd-2359cc887aab\", [{\"sort\": false, \"values\": [78, 51], \"domain\": {\"x\": [0.07, 0.43]}, \"labels\": [\"no\", \"yes\"], \"type\": \"pie\"}, {\"sort\": false, \"values\": [103, 131], \"domain\": {\"x\": [0.57, 0.93]}, \"labels\": [\"no\", \"yes\"], \"type\": \"pie\"}], {\"annotations\": [{\"y\": 1.1, \"text\": \"Forestry\", \"font\": {\"size\": 14}, \"showarrow\": false, \"x\": 0.2}, {\"y\": 1.1, \"text\": \"Livestock\", \"font\": {\"size\": 14}, \"showarrow\": false, \"x\": 0.8}], \"title\": \"Population who has received training in their livelihoods strategies\"}, {\"linkText\": \"Export to plot.ly\", \"showLink\": true})});</script>"
      ],
      "text/vnd.plotly.v1+html": [
       "<div id=\"ba0be9c9-56c0-47bb-a8bd-2359cc887aab\" style=\"height: 525px; width: 100%;\" class=\"plotly-graph-div\"></div><script type=\"text/javascript\">require([\"plotly\"], function(Plotly) { window.PLOTLYENV=window.PLOTLYENV || {};window.PLOTLYENV.BASE_URL=\"https://plot.ly\";Plotly.newPlot(\"ba0be9c9-56c0-47bb-a8bd-2359cc887aab\", [{\"sort\": false, \"values\": [78, 51], \"domain\": {\"x\": [0.07, 0.43]}, \"labels\": [\"no\", \"yes\"], \"type\": \"pie\"}, {\"sort\": false, \"values\": [103, 131], \"domain\": {\"x\": [0.57, 0.93]}, \"labels\": [\"no\", \"yes\"], \"type\": \"pie\"}], {\"annotations\": [{\"y\": 1.1, \"text\": \"Forestry\", \"font\": {\"size\": 14}, \"showarrow\": false, \"x\": 0.2}, {\"y\": 1.1, \"text\": \"Livestock\", \"font\": {\"size\": 14}, \"showarrow\": false, \"x\": 0.8}], \"title\": \"Population who has received training in their livelihoods strategies\"}, {\"linkText\": \"Export to plot.ly\", \"showLink\": true})});</script>"
      ]
     },
     "metadata": {},
     "output_type": "display_data"
    }
   ],
   "source": [
    "def create_2pie_graph(serie1, serie2, title, title1, title2):\n",
    "    fig = {\n",
    "        \"layout\": {\n",
    "            \"title\": title,\n",
    "            \"annotations\": [\n",
    "                {\n",
    "                    \"font\": {\n",
    "                        \"size\": 14\n",
    "                    },\n",
    "                    \"showarrow\": False,\n",
    "                    \"text\": title1,\n",
    "                    \"x\": .20,\n",
    "                    \"y\": 1.1\n",
    "                },\n",
    "                {\n",
    "                    \"font\": {\n",
    "                        \"size\": 14\n",
    "                    },\n",
    "                    \"showarrow\": False,\n",
    "                    #\"text\": title2 + \" (\" + str(sum_func(data_global)) + \")\",\n",
    "                    \"text\": title2,\n",
    "                    \"x\": .8,\n",
    "                    \"y\": 1.1 \n",
    "                }\n",
    "            ]\n",
    "        },\n",
    "        \"data\": [\n",
    "            {\n",
    "                \"values\": serie1.values,\n",
    "                \"labels\": serie1.index.values,\n",
    "                \"type\": \"pie\",\n",
    "                \"sort\": False,\n",
    "                \"domain\": {\n",
    "                    \"x\": [.07, .43]\n",
    "                },\n",
    "            },\n",
    "            {\n",
    "                \"values\": serie2.values,\n",
    "                \"labels\": serie2.index.values,\n",
    "                \"type\": \"pie\",\n",
    "                \"sort\": False,\n",
    "                \"domain\": {\n",
    "                    \"x\": [.57, .93]\n",
    "                },\n",
    "            }\n",
    "        ]\n",
    "    }\n",
    "\n",
    "    iplot(fig)\n",
    "    \n",
    "create_2pie_graph(forestry_set.groupby('forestry_training').size(), livestock_set.groupby('livestock_training').size(), \"Population who has received training in their livelihoods strategies\", \"Forestry\", \"Livestock\")"
   ]
  },
  {
   "cell_type": "markdown",
   "metadata": {},
   "source": [
    "### Other"
   ]
  },
  {
   "cell_type": "code",
   "execution_count": 124,
   "metadata": {},
   "outputs": [
    {
     "data": {
      "text/plain": [
       "other_training\n",
       "no     37\n",
       "yes     6\n",
       "dtype: int64"
      ]
     },
     "execution_count": 124,
     "metadata": {},
     "output_type": "execute_result"
    }
   ],
   "source": [
    "other_set = reg_survey.loc[reg_survey['src_incomes'].str.contains(\"other\")]\n",
    "other_set.groupby('other_training').size()\n"
   ]
  },
  {
   "cell_type": "markdown",
   "metadata": {},
   "source": [
    "### Coping strategies"
   ]
  },
  {
   "cell_type": "code",
   "execution_count": 125,
   "metadata": {},
   "outputs": [
    {
     "data": {
      "application/vnd.plotly.v1+json": {
       "data": [
        {
         "marker": {
          "color": "rgb(205,205,258)",
          "line": {
           "color": "rgb(0,0,192)",
           "width": 1.5
          }
         },
         "name": "Livelihoods Strategies",
         "type": "bar",
         "x": [
          "Labour_market",
          "Other",
          "Reduce_food",
          "Temp_migration",
          "Sell_assets"
         ],
         "y": [
          26.041666666666668,
          0.2604166666666667,
          6.510416666666667,
          85.67708333333333,
          1.8229166666666667
         ]
        }
       ],
       "layout": {
        "annotations": [],
        "title": "Coping Strategies",
        "width": 700,
        "xaxis": {
         "tickangle": -45
        },
        "yaxis": {
         "ticksuffix": "%"
        }
       }
      },
      "text/html": [
       "<div id=\"df522ddb-3930-4457-8fed-8b3e7978e104\" style=\"height: 525px; width: 700px;\" class=\"plotly-graph-div\"></div><script type=\"text/javascript\">require([\"plotly\"], function(Plotly) { window.PLOTLYENV=window.PLOTLYENV || {};window.PLOTLYENV.BASE_URL=\"https://plot.ly\";Plotly.newPlot(\"df522ddb-3930-4457-8fed-8b3e7978e104\", [{\"y\": [26.041666666666668, 0.2604166666666667, 6.510416666666667, 85.67708333333333, 1.8229166666666667], \"x\": [\"Labour_market\", \"Other\", \"Reduce_food\", \"Temp_migration\", \"Sell_assets\"], \"type\": \"bar\", \"name\": \"Livelihoods Strategies\", \"marker\": {\"color\": \"rgb(205,205,258)\", \"line\": {\"color\": \"rgb(0,0,192)\", \"width\": 1.5}}}], {\"width\": 700, \"title\": \"Coping Strategies\", \"annotations\": [], \"xaxis\": {\"tickangle\": -45}, \"yaxis\": {\"ticksuffix\": \"%\"}}, {\"linkText\": \"Export to plot.ly\", \"showLink\": true})});</script>"
      ],
      "text/vnd.plotly.v1+html": [
       "<div id=\"df522ddb-3930-4457-8fed-8b3e7978e104\" style=\"height: 525px; width: 700px;\" class=\"plotly-graph-div\"></div><script type=\"text/javascript\">require([\"plotly\"], function(Plotly) { window.PLOTLYENV=window.PLOTLYENV || {};window.PLOTLYENV.BASE_URL=\"https://plot.ly\";Plotly.newPlot(\"df522ddb-3930-4457-8fed-8b3e7978e104\", [{\"y\": [26.041666666666668, 0.2604166666666667, 6.510416666666667, 85.67708333333333, 1.8229166666666667], \"x\": [\"Labour_market\", \"Other\", \"Reduce_food\", \"Temp_migration\", \"Sell_assets\"], \"type\": \"bar\", \"name\": \"Livelihoods Strategies\", \"marker\": {\"color\": \"rgb(205,205,258)\", \"line\": {\"color\": \"rgb(0,0,192)\", \"width\": 1.5}}}], {\"width\": 700, \"title\": \"Coping Strategies\", \"annotations\": [], \"xaxis\": {\"tickangle\": -45}, \"yaxis\": {\"ticksuffix\": \"%\"}}, {\"linkText\": \"Export to plot.ly\", \"showLink\": true})});</script>"
      ]
     },
     "metadata": {},
     "output_type": "display_data"
    }
   ],
   "source": [
    "cop_strats = get_ocurrences(reg_survey, 'coping_strat')\n",
    "cop_strats = cop_strats * 100 / total_surveys\n",
    "\n",
    "fig_cop_strats = {\n",
    "    \"layout\": {\n",
    "        \"title\": \"Coping Strategies\",\n",
    "        \"xaxis\": {\n",
    "            \"tickangle\": -45\n",
    "        },\n",
    "        \"yaxis\": {\n",
    "            \"ticksuffix\": \"%\"\n",
    "        },\n",
    "        \"width\": 700,\n",
    "        \"annotations\": []\n",
    "    },\n",
    "    \"data\": [\n",
    "        {\n",
    "            \"x\": map(lambda x: x.capitalize(), cop_strats.index.values),\n",
    "            \"y\": cop_strats.values,\n",
    "            \"type\": \"bar\",\n",
    "            \"name\": \"Livelihoods Strategies\",\n",
    "            \"marker\": {\n",
    "                \"color\": 'rgb(205,205,258)',\n",
    "                \"line\": {\n",
    "                    \"color\": 'rgb(0,0,192)',\n",
    "                    \"width\": 1.5\n",
    "                }\n",
    "            },\n",
    "        }\n",
    "    ]\n",
    "}\n",
    "\n",
    "iplot(fig_cop_strats)"
   ]
  },
  {
   "cell_type": "markdown",
   "metadata": {},
   "source": [
    "## Climate change effects"
   ]
  },
  {
   "cell_type": "code",
   "execution_count": 126,
   "metadata": {},
   "outputs": [
    {
     "name": "stdout",
     "output_type": "stream",
     "text": [
      "decreased         327\n",
      "season_changed    176\n",
      "unsteady          106\n",
      "increased          53\n",
      "no_changes         14\n",
      "unpredictable       3\n",
      "dtype: int64\n"
     ]
    }
   ],
   "source": [
    "cc_effects_on_rain = get_ocurrences(reg_survey, 'changed_rainy_season')\n",
    "\n",
    "print cc_effects_on_rain"
   ]
  },
  {
   "cell_type": "code",
   "execution_count": 127,
   "metadata": {
    "scrolled": false
   },
   "outputs": [
    {
     "name": "stdout",
     "output_type": "stream",
     "text": [
      "less_windy        59\n",
      "more_windy       257\n",
      "no_changes        45\n",
      "unpredictable     27\n",
      "dtype: int64\n",
      "sand_movements\n",
      "less_windy                   55\n",
      "more_windy                  254\n",
      "more_windy less_windy         2\n",
      "no_changes                   45\n",
      "unpredictable                24\n",
      "unpredictable less_windy      2\n",
      "unpredictable more_windy      1\n",
      "dtype: int64\n"
     ]
    },
    {
     "data": {
      "application/vnd.plotly.v1+json": {
       "data": [
        {
         "domain": {
          "x": [
           0,
           0.32
          ]
         },
         "labels": [
          "less_windy",
          "more_windy",
          "more_windy less_windy",
          "no_changes",
          "unpredictable",
          "unpredictable less_windy",
          "unpredictable more_windy"
         ],
         "sort": false,
         "type": "pie",
         "values": [
          50,
          245,
          2,
          38,
          22,
          2,
          1
         ]
        },
        {
         "domain": {
          "x": [
           0.34,
           0.64
          ]
         },
         "labels": [
          "less_windy",
          "more_windy",
          "more_windy less_windy",
          "no_changes",
          "unpredictable",
          "unpredictable less_windy",
          "unpredictable more_windy"
         ],
         "sort": false,
         "type": "pie",
         "values": [
          55,
          254,
          2,
          45,
          24,
          2,
          1
         ]
        },
        {
         "domain": {
          "x": [
           0.66,
           0.98
          ]
         },
         "labels": [
          "less_windy",
          "more_windy",
          "no_changes",
          "unpredictable"
         ],
         "sort": false,
         "type": "pie",
         "values": [
          5,
          9,
          7,
          2
         ]
        }
       ],
       "layout": {
        "annotations": [
         {
          "font": {
           "size": 14
          },
          "showarrow": false,
          "text": "Female Respondent",
          "x": 0.07,
          "y": 1
         },
         {
          "font": {
           "size": 14
          },
          "showarrow": false,
          "text": "Global",
          "x": 0.5,
          "y": 1
         },
         {
          "font": {
           "size": 14
          },
          "showarrow": false,
          "text": "Male Respondent",
          "x": 0.91,
          "y": 1
         }
        ],
        "title": "Respondents asked about wind changes in las ten years"
       }
      },
      "text/html": [
       "<div id=\"95cdf91f-6cf3-4285-aa0e-7884d2e84586\" style=\"height: 525px; width: 100%;\" class=\"plotly-graph-div\"></div><script type=\"text/javascript\">require([\"plotly\"], function(Plotly) { window.PLOTLYENV=window.PLOTLYENV || {};window.PLOTLYENV.BASE_URL=\"https://plot.ly\";Plotly.newPlot(\"95cdf91f-6cf3-4285-aa0e-7884d2e84586\", [{\"sort\": false, \"values\": [50, 245, 2, 38, 22, 2, 1], \"domain\": {\"x\": [0, 0.32]}, \"labels\": [\"less_windy\", \"more_windy\", \"more_windy less_windy\", \"no_changes\", \"unpredictable\", \"unpredictable less_windy\", \"unpredictable more_windy\"], \"type\": \"pie\"}, {\"sort\": false, \"values\": [55, 254, 2, 45, 24, 2, 1], \"domain\": {\"x\": [0.34, 0.64]}, \"labels\": [\"less_windy\", \"more_windy\", \"more_windy less_windy\", \"no_changes\", \"unpredictable\", \"unpredictable less_windy\", \"unpredictable more_windy\"], \"type\": \"pie\"}, {\"sort\": false, \"values\": [5, 9, 7, 2], \"domain\": {\"x\": [0.66, 0.98]}, \"labels\": [\"less_windy\", \"more_windy\", \"no_changes\", \"unpredictable\"], \"type\": \"pie\"}], {\"annotations\": [{\"y\": 1, \"text\": \"Female Respondent\", \"font\": {\"size\": 14}, \"showarrow\": false, \"x\": 0.07}, {\"y\": 1, \"text\": \"Global\", \"font\": {\"size\": 14}, \"showarrow\": false, \"x\": 0.5}, {\"y\": 1, \"text\": \"Male Respondent\", \"font\": {\"size\": 14}, \"showarrow\": false, \"x\": 0.91}], \"title\": \"Respondents asked about wind changes in las ten years\"}, {\"linkText\": \"Export to plot.ly\", \"showLink\": true})});</script>"
      ],
      "text/vnd.plotly.v1+html": [
       "<div id=\"95cdf91f-6cf3-4285-aa0e-7884d2e84586\" style=\"height: 525px; width: 100%;\" class=\"plotly-graph-div\"></div><script type=\"text/javascript\">require([\"plotly\"], function(Plotly) { window.PLOTLYENV=window.PLOTLYENV || {};window.PLOTLYENV.BASE_URL=\"https://plot.ly\";Plotly.newPlot(\"95cdf91f-6cf3-4285-aa0e-7884d2e84586\", [{\"sort\": false, \"values\": [50, 245, 2, 38, 22, 2, 1], \"domain\": {\"x\": [0, 0.32]}, \"labels\": [\"less_windy\", \"more_windy\", \"more_windy less_windy\", \"no_changes\", \"unpredictable\", \"unpredictable less_windy\", \"unpredictable more_windy\"], \"type\": \"pie\"}, {\"sort\": false, \"values\": [55, 254, 2, 45, 24, 2, 1], \"domain\": {\"x\": [0.34, 0.64]}, \"labels\": [\"less_windy\", \"more_windy\", \"more_windy less_windy\", \"no_changes\", \"unpredictable\", \"unpredictable less_windy\", \"unpredictable more_windy\"], \"type\": \"pie\"}, {\"sort\": false, \"values\": [5, 9, 7, 2], \"domain\": {\"x\": [0.66, 0.98]}, \"labels\": [\"less_windy\", \"more_windy\", \"no_changes\", \"unpredictable\"], \"type\": \"pie\"}], {\"annotations\": [{\"y\": 1, \"text\": \"Female Respondent\", \"font\": {\"size\": 14}, \"showarrow\": false, \"x\": 0.07}, {\"y\": 1, \"text\": \"Global\", \"font\": {\"size\": 14}, \"showarrow\": false, \"x\": 0.5}, {\"y\": 1, \"text\": \"Male Respondent\", \"font\": {\"size\": 14}, \"showarrow\": false, \"x\": 0.91}], \"title\": \"Respondents asked about wind changes in las ten years\"}, {\"linkText\": \"Export to plot.ly\", \"showLink\": true})});</script>"
      ]
     },
     "metadata": {},
     "output_type": "display_data"
    },
    {
     "data": {
      "application/vnd.plotly.v1+json": {
       "data": [
        {
         "labels": [
          "less_windy",
          "more_windy",
          "no_changes",
          "unpredictable"
         ],
         "sort": false,
         "type": "pie",
         "values": [
          59,
          257,
          45,
          27
         ]
        }
       ],
       "layout": {
        "title": "Respondents asked about wind changes in last ten years"
       }
      },
      "text/html": [
       "<div id=\"77930446-f8a4-4744-9474-5d432e82a19d\" style=\"height: 525px; width: 100%;\" class=\"plotly-graph-div\"></div><script type=\"text/javascript\">require([\"plotly\"], function(Plotly) { window.PLOTLYENV=window.PLOTLYENV || {};window.PLOTLYENV.BASE_URL=\"https://plot.ly\";Plotly.newPlot(\"77930446-f8a4-4744-9474-5d432e82a19d\", [{\"sort\": false, \"values\": [59, 257, 45, 27], \"labels\": [\"less_windy\", \"more_windy\", \"no_changes\", \"unpredictable\"], \"type\": \"pie\"}], {\"title\": \"Respondents asked about wind changes in last ten years\"}, {\"linkText\": \"Export to plot.ly\", \"showLink\": true})});</script>"
      ],
      "text/vnd.plotly.v1+html": [
       "<div id=\"77930446-f8a4-4744-9474-5d432e82a19d\" style=\"height: 525px; width: 100%;\" class=\"plotly-graph-div\"></div><script type=\"text/javascript\">require([\"plotly\"], function(Plotly) { window.PLOTLYENV=window.PLOTLYENV || {};window.PLOTLYENV.BASE_URL=\"https://plot.ly\";Plotly.newPlot(\"77930446-f8a4-4744-9474-5d432e82a19d\", [{\"sort\": false, \"values\": [59, 257, 45, 27], \"labels\": [\"less_windy\", \"more_windy\", \"no_changes\", \"unpredictable\"], \"type\": \"pie\"}], {\"title\": \"Respondents asked about wind changes in last ten years\"}, {\"linkText\": \"Export to plot.ly\", \"showLink\": true})});</script>"
      ]
     },
     "metadata": {},
     "output_type": "display_data"
    }
   ],
   "source": [
    "sand_mov_sums = reg_survey.groupby('sand_movements').size()\n",
    "wind_changes = get_ocurrences(reg_survey, 'sand_movements')\n",
    "\n",
    "print wind_changes\n",
    "print sand_mov_sums\n",
    "\n",
    "create_graphs_respondent(lambda x: x.groupby('sand_movements').size(),\n",
    "                         lambda x: x.values,\n",
    "                         lambda x: x.index.values,\n",
    "                         lambda x: x.sum(),\n",
    "                         \"Respondents asked about wind changes in las ten years\")\n",
    "\n",
    "create_pie_graph(wind_changes, \"Respondents asked about wind changes in last ten years\")"
   ]
  },
  {
   "cell_type": "raw",
   "metadata": {},
   "source": [
    "agri_set_med_poor.loc[agri_set_med_poor['cc_effects_sand_affected_farmlands'] > agri_set_med_poor['agri_gard_use_quantity'], 'cc_effects_sand_affected_farmlands'] = agri_set_med_poor['agri_gard_use_quantity']\n",
    "agri_set_med_poor['perc_land_affected'] = agri_set_med_poor.cc_effects_sand_affected_farmlands / agri_set_med_poor.agri_gard_land_quantity\n",
    "print agri_set_med_poor['cc_effects_sand_affected_farmlands'].sum() / agri_set_med_poor['agri_gard_use_quantity'].sum()\n",
    "print agri_set_med_poor.groupby('perc_land_affected').size()\n",
    "print agri_set_med_poor.groupby('perc_land_affected').size().sum()"
   ]
  },
  {
   "cell_type": "code",
   "execution_count": 128,
   "metadata": {},
   "outputs": [
    {
     "name": "stdout",
     "output_type": "stream",
     "text": [
      "decreased         53\n",
      "unsteady          71\n",
      "unpredictable      6\n",
      "increased        309\n",
      "no_changes         1\n",
      "dtype: int64\n"
     ]
    }
   ],
   "source": [
    "temps_changes = get_ocurrences(reg_survey, 'temps_change')\n",
    "\n",
    "print temps_changes"
   ]
  },
  {
   "cell_type": "code",
   "execution_count": 129,
   "metadata": {},
   "outputs": [
    {
     "data": {
      "application/vnd.plotly.v1+json": {
       "data": [
        {
         "marker": {
          "color": "rgb(25,158,25,0.6)",
          "line": {
           "color": "rgb(0,70,0)",
           "width": 1.5
          }
         },
         "type": "bar",
         "x": [
          "Decreased",
          "Unsteady",
          "Increased",
          "No_changes",
          "Unpredictable"
         ],
         "y": [
          86.75,
          17.52,
          8.55,
          1.28,
          1.28
         ]
        }
       ],
       "layout": {
        "annotations": [
         {
          "font": {
           "color": "rgba(0, 100, 0, 1)",
           "family": "Arial",
           "size": 14
          },
          "showarrow": false,
          "text": "86.75%",
          "x": "Decreased",
          "y": 88.45
         },
         {
          "font": {
           "color": "rgba(0, 100, 0, 1)",
           "family": "Arial",
           "size": 14
          },
          "showarrow": false,
          "text": "17.52%",
          "x": "Unsteady",
          "y": 19.22
         },
         {
          "font": {
           "color": "rgba(0, 100, 0, 1)",
           "family": "Arial",
           "size": 14
          },
          "showarrow": false,
          "text": "8.55%",
          "x": "Increased",
          "y": 10.25
         },
         {
          "font": {
           "color": "rgba(0, 100, 0, 1)",
           "family": "Arial",
           "size": 14
          },
          "showarrow": false,
          "text": "1.28%",
          "x": "No_changes",
          "y": 2.98
         },
         {
          "font": {
           "color": "rgba(0, 100, 0, 1)",
           "family": "Arial",
           "size": 14
          },
          "showarrow": false,
          "text": "1.28%",
          "x": "Unpredictable",
          "y": 2.98
         }
        ],
        "title": "Trend of the availability of grassland in the last 5 years",
        "width": 700,
        "xaxis": {
         "tickangle": -45
        }
       }
      },
      "text/html": [
       "<div id=\"8a2ffd20-ef81-4f12-b133-06ba7d2e79bc\" style=\"height: 525px; width: 700px;\" class=\"plotly-graph-div\"></div><script type=\"text/javascript\">require([\"plotly\"], function(Plotly) { window.PLOTLYENV=window.PLOTLYENV || {};window.PLOTLYENV.BASE_URL=\"https://plot.ly\";Plotly.newPlot(\"8a2ffd20-ef81-4f12-b133-06ba7d2e79bc\", [{\"y\": [86.75, 17.52, 8.55, 1.28, 1.28], \"x\": [\"Decreased\", \"Unsteady\", \"Increased\", \"No_changes\", \"Unpredictable\"], \"type\": \"bar\", \"marker\": {\"color\": \"rgb(25,158,25,0.6)\", \"line\": {\"color\": \"rgb(0,70,0)\", \"width\": 1.5}}}], {\"width\": 700, \"annotations\": [{\"y\": 88.45, \"x\": \"Decreased\", \"font\": {\"color\": \"rgba(0, 100, 0, 1)\", \"family\": \"Arial\", \"size\": 14}, \"text\": \"86.75%\", \"showarrow\": false}, {\"y\": 19.22, \"x\": \"Unsteady\", \"font\": {\"color\": \"rgba(0, 100, 0, 1)\", \"family\": \"Arial\", \"size\": 14}, \"text\": \"17.52%\", \"showarrow\": false}, {\"y\": 10.25, \"x\": \"Increased\", \"font\": {\"color\": \"rgba(0, 100, 0, 1)\", \"family\": \"Arial\", \"size\": 14}, \"text\": \"8.55%\", \"showarrow\": false}, {\"y\": 2.98, \"x\": \"No_changes\", \"font\": {\"color\": \"rgba(0, 100, 0, 1)\", \"family\": \"Arial\", \"size\": 14}, \"text\": \"1.28%\", \"showarrow\": false}, {\"y\": 2.98, \"x\": \"Unpredictable\", \"font\": {\"color\": \"rgba(0, 100, 0, 1)\", \"family\": \"Arial\", \"size\": 14}, \"text\": \"1.28%\", \"showarrow\": false}], \"xaxis\": {\"tickangle\": -45}, \"title\": \"Trend of the availability of grassland in the last 5 years\"}, {\"linkText\": \"Export to plot.ly\", \"showLink\": true})});</script>"
      ],
      "text/vnd.plotly.v1+html": [
       "<div id=\"8a2ffd20-ef81-4f12-b133-06ba7d2e79bc\" style=\"height: 525px; width: 700px;\" class=\"plotly-graph-div\"></div><script type=\"text/javascript\">require([\"plotly\"], function(Plotly) { window.PLOTLYENV=window.PLOTLYENV || {};window.PLOTLYENV.BASE_URL=\"https://plot.ly\";Plotly.newPlot(\"8a2ffd20-ef81-4f12-b133-06ba7d2e79bc\", [{\"y\": [86.75, 17.52, 8.55, 1.28, 1.28], \"x\": [\"Decreased\", \"Unsteady\", \"Increased\", \"No_changes\", \"Unpredictable\"], \"type\": \"bar\", \"marker\": {\"color\": \"rgb(25,158,25,0.6)\", \"line\": {\"color\": \"rgb(0,70,0)\", \"width\": 1.5}}}], {\"width\": 700, \"annotations\": [{\"y\": 88.45, \"x\": \"Decreased\", \"font\": {\"color\": \"rgba(0, 100, 0, 1)\", \"family\": \"Arial\", \"size\": 14}, \"text\": \"86.75%\", \"showarrow\": false}, {\"y\": 19.22, \"x\": \"Unsteady\", \"font\": {\"color\": \"rgba(0, 100, 0, 1)\", \"family\": \"Arial\", \"size\": 14}, \"text\": \"17.52%\", \"showarrow\": false}, {\"y\": 10.25, \"x\": \"Increased\", \"font\": {\"color\": \"rgba(0, 100, 0, 1)\", \"family\": \"Arial\", \"size\": 14}, \"text\": \"8.55%\", \"showarrow\": false}, {\"y\": 2.98, \"x\": \"No_changes\", \"font\": {\"color\": \"rgba(0, 100, 0, 1)\", \"family\": \"Arial\", \"size\": 14}, \"text\": \"1.28%\", \"showarrow\": false}, {\"y\": 2.98, \"x\": \"Unpredictable\", \"font\": {\"color\": \"rgba(0, 100, 0, 1)\", \"family\": \"Arial\", \"size\": 14}, \"text\": \"1.28%\", \"showarrow\": false}], \"xaxis\": {\"tickangle\": -45}, \"title\": \"Trend of the availability of grassland in the last 5 years\"}, {\"linkText\": \"Export to plot.ly\", \"showLink\": true})});</script>"
      ]
     },
     "metadata": {},
     "output_type": "display_data"
    }
   ],
   "source": [
    "effects_on_lvstck = get_ocurrences(reg_survey, 'cc_effects_grassland_availability').sort_values(ascending = False)\n",
    "lvstck_perc = 100*effects_on_lvstck/livestock_set['deviceid'].size\n",
    "lvstck_perc = lvstck_perc.round(2)\n",
    "fig_effects_on_lvstck = {\n",
    "    \"layout\": {\n",
    "        \"title\": \"Trend of the availability of grassland in the last 5 years\",\n",
    "        \"xaxis\": {\n",
    "            \"tickangle\": -45\n",
    "        },\n",
    "        \"width\": 700,\n",
    "        \"annotations\": []\n",
    "    },\n",
    "    \"data\": [\n",
    "        {\n",
    "            \"x\": map(lambda x: x.capitalize(), lvstck_perc.index.values),\n",
    "            \"y\": lvstck_perc.values,\n",
    "            \"type\": \"bar\",\n",
    "            \"marker\": {\n",
    "                \"color\": 'rgb(25,158,25,0.6)',\n",
    "                \"line\": {\n",
    "                    \"color\": 'rgb(0,70,0)',\n",
    "                    \"width\": 1.5\n",
    "                }\n",
    "            },\n",
    "        }\n",
    "    ]\n",
    "}\n",
    "\n",
    "\n",
    "for i in range(0, len(effects_on_lvstck)):\n",
    "    fig_effects_on_lvstck[\"layout\"][\"annotations\"].append(\n",
    "        {\n",
    "            \"x\": map(lambda x: x.capitalize(), lvstck_perc.index.values)[i],\n",
    "            \"y\": lvstck_perc.values[i] + 1.7,\n",
    "            \"text\": str(lvstck_perc.values[i]) + \"%\",\n",
    "            \"font\": dict(\n",
    "                family='Arial',\n",
    "                size=14,\n",
    "                color='rgba(0, 100, 0, 1)'\n",
    "            ),\n",
    "            \"showarrow\": False,\n",
    "\n",
    "        }\n",
    "    )\n",
    "\n",
    "iplot(fig_effects_on_lvstck)\n"
   ]
  }
 ],
 "metadata": {
  "kernelspec": {
   "display_name": "Python 2",
   "language": "python",
   "name": "python2"
  },
  "language_info": {
   "codemirror_mode": {
    "name": "ipython",
    "version": 2
   },
   "file_extension": ".py",
   "mimetype": "text/x-python",
   "name": "python",
   "nbconvert_exporter": "python",
   "pygments_lexer": "ipython2",
   "version": "2.7.12"
  }
 },
 "nbformat": 4,
 "nbformat_minor": 2
}
