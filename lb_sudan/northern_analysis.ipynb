{
 "cells": [
  {
   "cell_type": "code",
   "execution_count": 1,
   "metadata": {},
   "outputs": [
    {
     "data": {
      "text/html": [
       "<script>requirejs.config({paths: { 'plotly': ['https://cdn.plot.ly/plotly-latest.min']},});if(!window.Plotly) {{require(['plotly'],function(plotly) {window.Plotly=plotly;});}}</script>"
      ],
      "text/vnd.plotly.v1+html": [
       "<script>requirejs.config({paths: { 'plotly': ['https://cdn.plot.ly/plotly-latest.min']},});if(!window.Plotly) {{require(['plotly'],function(plotly) {window.Plotly=plotly;});}}</script>"
      ]
     },
     "metadata": {},
     "output_type": "display_data"
    }
   ],
   "source": [
    "import pandas as pd\n",
    "import numpy as np\n",
    "import math\n",
    "\n",
    "from plotly.offline import download_plotlyjs, init_notebook_mode, plot, iplot\n",
    "import plotly.graph_objs as go\n",
    "import plotly.figure_factory as ff\n",
    "\n",
    "from IPython.display import display, HTML\n",
    "\n",
    "init_notebook_mode(connected=True)\n",
    "\n",
    "reg_survey_complete = pd.read_excel(\"Northern_baseline_survey_for_CC_project_in_Sudan_final_results.xlsx\", encoding = 'utf_8')"
   ]
  },
  {
   "cell_type": "markdown",
   "metadata": {},
   "source": [
    "# <center>Baseline survey results for the Locality of El Golid </center>\n",
    "### <center>*Climate Change and Livelihoods situation of 15 villages located in El Golid Locality, Northern State*</center>"
   ]
  },
  {
   "cell_type": "code",
   "execution_count": 2,
   "metadata": {},
   "outputs": [
    {
     "data": {
      "text/html": [
       "<script>\n",
       "code_show=true; \n",
       "function code_toggle() {\n",
       " if (code_show){\n",
       " $('div.input').hide();\n",
       " } else {\n",
       " $('div.input').show();\n",
       " }\n",
       " code_show = !code_show\n",
       "} \n",
       "$( document ).ready(code_toggle);\n",
       "$( document ).ready(code_toggle);\n",
       "</script>\n",
       "The raw code for this IPython notebook is by default hidden for easier reading.\n",
       "To toggle on/off the raw code, click <a href=\"javascript:code_toggle()\">here</a>."
      ],
      "text/plain": [
       "<IPython.core.display.HTML object>"
      ]
     },
     "execution_count": 2,
     "metadata": {},
     "output_type": "execute_result"
    }
   ],
   "source": [
    "HTML('''<script>\n",
    "code_show=true; \n",
    "function code_toggle() {\n",
    " if (code_show){\n",
    " $('div.input').hide();\n",
    " } else {\n",
    " $('div.input').show();\n",
    " }\n",
    " code_show = !code_show\n",
    "} \n",
    "$( document ).ready(code_toggle);\n",
    "$( document ).ready(code_toggle);\n",
    "</script>\n",
    "The raw code for this IPython notebook is by default hidden for easier reading.\n",
    "To toggle on/off the raw code, click <a href=\"javascript:code_toggle()\">here</a>.''')\n",
    "\n",
    "#bc_wages.head()\n",
    "#reg_csv.info()\n",
    "#bc_wages.describe()"
   ]
  },
  {
   "cell_type": "code",
   "execution_count": 3,
   "metadata": {},
   "outputs": [],
   "source": [
    "# Functions\n",
    "\n",
    "# Get ocurrences of each value for a multiple_select field\n",
    "def get_ocurrences(df, column_name):\n",
    "    values_sums = df.groupby(column_name).size()\n",
    "    values_names = reduce(lambda x, y: x + y,map(lambda x: x.split(), values_sums.index.values))\n",
    "    result = pd.Series()\n",
    "    for i in values_names:\n",
    "        result[i] = values_sums.loc[[i in idx for idx in values_sums.index]].sum()\n",
    "    return result\n",
    "\n",
    "def get_percentiles_values(sorted_serie, percentiles):\n",
    "    if len(percentiles) == 0:\n",
    "        return []\n",
    "    else:\n",
    "        quantity = sorted_serie.sum() * percentiles[0]\n",
    "        for i in sorted_serie.index:\n",
    "            if sorted_serie[i] >= quantity:\n",
    "                return [i] + get_percentiles_values(sorted_serie, percentiles[1:])\n",
    "            else:\n",
    "                quantity -= sorted_serie[i]\n",
    "\n",
    "def get_percentiles(sorted_serie, values):\n",
    "    if len(values) == 0:\n",
    "        return []\n",
    "    else:\n",
    "        result = 0\n",
    "        for i in sorted_serie.index:\n",
    "            if values[0] == i:\n",
    "                return [float(result + sorted_serie[i]) / sorted_serie.sum()] + get_percentiles(sorted_serie, values[1:])\n",
    "            elif values[0] < i:\n",
    "                return [float(result) / sorted_serie.sum()] + get_percentiles(sorted_serie, values[1:])\n",
    "            else:\n",
    "                result += sorted_serie[i]\n",
    "        return [1]"
   ]
  },
  {
   "cell_type": "code",
   "execution_count": 4,
   "metadata": {},
   "outputs": [],
   "source": [
    "## File preprocessing\n",
    "#Deleting 'demography:', 'house_assets:', 'incomes:', 'climate_change:' and those prefix which not provide useful info.\n",
    "\n",
    "col_names = reg_survey_complete.columns\n",
    "col_names = col_names.map(lambda x: x[11:] if x.startswith(\"demography:\") else x)\n",
    "col_names = col_names.map(lambda x: x[19:] if x.startswith(\"responding_section:\") else x)\n",
    "col_names = col_names.map(lambda x: x[20:] if x.startswith(\"responding_section2:\") else x)\n",
    "col_names = col_names.map(lambda x: x[13:] if x.startswith(\"house_assets:\") else x)\n",
    "col_names = col_names.map(lambda x: x[8:] if x.startswith(\"incomes:\") else x)\n",
    "col_names = col_names.map(lambda x: x[15:] if x.startswith(\"climate_change:\") else x)\n",
    "col_names = col_names.map(lambda x: x[11:] if x.startswith(\"intro_data:\") else x)\n",
    "col_names = col_names.map(lambda x: x[:11] + x[16:] if x.startswith(\"respondant_page:\") else x)\n",
    "col_names = col_names.map(lambda x: x[16:] if x.startswith(\"general_hh_data:\") else x)\n",
    "col_names = col_names.map(lambda x: x[6:] if x.startswith(\"males:\") else x)\n",
    "col_names = col_names.map(lambda x: x[8:] if x.startswith(\"females:\") else x)\n",
    "col_names = col_names.map(lambda x: x[11:] if x.startswith(\"importance:\") else x)\n",
    "col_names = col_names.map(lambda x: x[19:] if x.startswith(\"percentage_incomes:\") else x)\n",
    "col_names = col_names.map(lambda x: x[:10] + x[16:] if x.startswith(\"agri_gard:agri\") else x)\n",
    "col_names = col_names.map(lambda x: x[:10] + x[20:] if x.startswith(\"livestock:livestock_\") else x)\n",
    "col_names = col_names.map(lambda x: x[:10] + x[21:] if x.startswith(\"livestock:livestock\") else x)\n",
    "col_names = col_names.map(lambda x: x[:8] + x[17:] if x.startswith(\"fishing:fishing\") else x)\n",
    "col_names = col_names.map(lambda x: x[:7] + x[15:] if x.startswith(\"labour:labour\") else x)\n",
    "col_names = col_names.map(lambda x: x[:7] + x[14:] if x.startswith(\"labour:labour\") else x)\n",
    "col_names = col_names.map(lambda x: x[:12] + x[25:] if x.startswith(\"handicrafts:handicrafts\") else x)\n",
    "col_names = col_names.map(lambda x: x[:9] + x[19:] if x.startswith(\"forestry:forestry\") else x)\n",
    "col_names = col_names.map(lambda x: x[:6] + x[13:] if x.startswith(\"other:other\") else x)\n",
    "col_names = col_names.map(lambda x: x[7:] if x.startswith(\"coping:\") else x)\n",
    "col_names = col_names.map(lambda x: x[4:] if x.startswith((\"cc1:\", \"cc2:\", \"cc3:\", \"ews:\")) else x)\n",
    "col_names = col_names.map(lambda x: x[10:] if x.startswith(\"renewable:\") else x)\n",
    "col_names = col_names.map(lambda x: x[12:] if x.startswith(\"agriculture_cc_effects:\") else x)\n",
    "col_names = col_names.map(lambda x: x[10:] if x.startswith(\"livestock_cc_effects:\") else x)"
   ]
  },
  {
   "cell_type": "code",
   "execution_count": 5,
   "metadata": {},
   "outputs": [
    {
     "name": "stdout",
     "output_type": "stream",
     "text": [
      "[u'deviceid' u'today' u'surveyor_name' u'number' u'village'\n",
      " u'geocoordinates_Latitude' u'geocoordinates_Longitude'\n",
      " u'geocoordinates_Altitude' u'geocoordinates_Accuracy' u'responding'\n",
      " u'respondant_gender' u'respondant_age' u'respondant_marital_status'\n",
      " u'respondant_head_hh' u'education' u'handicapped_member' u'number_wifes'\n",
      " u'number_wifes_aux' u'male_infant' u'male_child' u'male_child_school'\n",
      " u'male_teenager' u'male_teenager_school' u'male_adult' u'male_elderly'\n",
      " u'female_infant' u'female_child' u'female_child_school' u'female_teenager'\n",
      " u'female_teenager_school' u'female_adult' u'female_elderly'\n",
      " u'family_males' u'family_females' u'family_total' u'family_confirm'\n",
      " u'house_material' u'belongings' u'num_beds' u'kitchen_type' u'src_incomes'\n",
      " u'imp_agri' u'imp_garden' u'imp_livestock' u'imp_fishing' u'imp_labour'\n",
      " u'imp_forestry' u'imp_handcrafts' u'imp_other' u'perc_incomes_agri'\n",
      " u'perc_incomes_garden' u'perc_incomes_livestock' u'perc_incomes_fishing'\n",
      " u'perc_incomes_labour' u'perc_incomes_forestry' u'perc_incomes_handcrafts'\n",
      " u'perc_incomes_other' u'agri_gard_ackno_agri' u'agri_gard_land_property'\n",
      " u'agri_gard_land_unit' u'agri_gard_land_quantity'\n",
      " u'agri_gard_use_quantity' u'agri_gard_protected_farmlands'\n",
      " u'agri_gard_water_harv_farmlands' u'agri_gard_members_involved'\n",
      " u'agri_gard_participants' u'agri_gard_training'\n",
      " u'agri_gard_activity_support' u'agri_gard_farm_tools'\n",
      " u'agri_gard_farm_tech' u'agri_gard_seeds' u'agri_gard_seller_member'\n",
      " u'agri_gard_agri_crops' u'livestock_ackno_livestock'\n",
      " u'livestock_members_involved' u'livestock_participants'\n",
      " u'livestock_training' u'livestock_activity_support' u'livestock_type'\n",
      " u'livestock_number_cattle' u'livestock_reduced_cattle'\n",
      " u'livestock_lost_cattle' u'livestock_number_goat'\n",
      " u'livestock_reduced_goat' 'livestock_lost_goat' u'livestock_number_sheep'\n",
      " u'livestock_reduced_sheep' u'livestock_lost_sheep'\n",
      " u'livestock_number_camel' u'livestock_reduced_camel'\n",
      " u'livestock_lost_camel' u'livestock_number_chicken'\n",
      " u'livestock_reduced_chicken' u'livestock_lost_chicken'\n",
      " u'livestock_selling' u'livestock_social' u'livestock_milk'\n",
      " u'livestock_meat' u'livestock_savings' u'livestock_seller_member'\n",
      " u'livestock_fodder_fed' u'fishing_ackno_fishing'\n",
      " u'fishing_members_involved' u'fishing_participants' u'fishing_training'\n",
      " u'fishing_activity_support' u'fishing_seller_member'\n",
      " u'fishing_boats_property' u'labour_ackno_labour' u'labour_participants'\n",
      " u'labour_training' u'labour_employment_type' u'labour_sector'\n",
      " u'labour_work_term' u'labour_working_months' u'labour_daily_salary'\n",
      " u'labour_worker_member' u'labour_insurances'\n",
      " u'handicrafts_ackno_handicrafts' u'handicrafts_participants'\n",
      " u'handicrafts_training' u'handicrafts_activity_support'\n",
      " u'handicrafts_kind_handi' u'handicrafts_produced_handi'\n",
      " u'handicrafts_market_type' u'handicrafts_profit_handi'\n",
      " u'handicrafts_working_months' u'forestry_ackno_forestry'\n",
      " u'forestry_participants' u'forestry_training' u'forestry_activity_support'\n",
      " u'forestry_land_property' u'forestry_land_quantity'\n",
      " u'forestry_forestry_type' u'forestry_seller_member' u'other_ackno_other'\n",
      " u'other_participants' u'other_training' u'other_training_type'\n",
      " u'other_seller_member' u'coping_strat' u'other_cop_strat' u'cc_knowledge'\n",
      " u'cc_impacts' u'affected_by_cc' u'taking_action_cc' u'taken_actions_cc'\n",
      " u'no_action_cc' u'changed_rainy_season' u'normal_rainy_season'\n",
      " u'last_year_rainy_season' u'temps_change' u'sand_movements'\n",
      " u'water_availability' u'cea_info_source' u'cea_trusted_sources'\n",
      " u'cea_info_needs' u'cea_org_feedback' u'ews_knowledge' u'ews_type'\n",
      " u'useful_ews' u'use_ews' u'renewable_knowledge' u'solar_energy'\n",
      " u'cc_effects_changed_production' u'cc_effects_adaptation_techniques'\n",
      " u'cc_effects_explain_new_techs' u'cc_effects_sand_affected_farmlands'\n",
      " u'cc_effects_grassland_availability' u'cc_effects_fodder_availability'\n",
      " u'cc_effects_fodder_prices' u'cc_effects_water_availability' u'end'\n",
      " u'meta_instanceID']\n"
     ]
    }
   ],
   "source": [
    "# Replace ':' with '_' for compatibility reasons.\n",
    "col_names = col_names.map(lambda x: x[:14] + '_' + x[15:] if x.startswith(\"geocoordinates:\") else x)\n",
    "col_names = col_names.map(lambda x: x[:9] + '_' + x[10:] if x.startswith(\"agri_gard:\") else x)\n",
    "col_names = col_names.map(lambda x: x[:9] + '_' + x[10:] if x.startswith(\"livestock:\") else x)\n",
    "col_names = col_names.map(lambda x: x[:7] + '_' + x[8:] if x.startswith(\"fishing:\") else x)\n",
    "col_names = col_names.map(lambda x: x[:6] + '_' + x[7:] if x.startswith(\"labour:\") else x)\n",
    "col_names = col_names.map(lambda x: x[:11] + '_' + x[12:] if x.startswith(\"handicrafts:\") else x)\n",
    "col_names = col_names.map(lambda x: x[:8] + '_' + x[9:] if x.startswith(\"forestry:\") else x)\n",
    "col_names = col_names.map(lambda x: x[:5] + '_' + x[6:] if x.startswith(\"other:\") else x)\n",
    "col_names = col_names.map(lambda x: x[:10] + '_' + x[11:] if x.startswith(\"cc_effects:\") else x)\n",
    "col_names = col_names.map(lambda x: x[:4] + '_' + x[5:] if x.startswith(\"meta:\") else x)\n",
    "col_names = col_names.map(lambda x: x[:3] + '_' + x[4:] if x.startswith(\"cea:\") else x)\n",
    "\n",
    "col_names = col_names.map(lambda x: 'livestock_lost_goat' if x == 'livestock_lost_goats' else x)\n",
    "\n",
    "print col_names.values\n",
    "\n",
    "reg_survey_complete.columns = col_names"
   ]
  },
  {
   "cell_type": "code",
   "execution_count": 6,
   "metadata": {},
   "outputs": [],
   "source": [
    "# Processing NaN and void values\n",
    "\n",
    "values = {\n",
    "    'respondant_marital_status': 'no_answer',\n",
    "    'handicapped_member': 'no',\n",
    "    'house_material': 'no_answer',\n",
    "    'kitchen_type': 'no_answer',\n",
    "    'src_incomes': 'none',\n",
    "    'use_ews': 'no_answer',\n",
    "    'renewable_knowledge': 'no_answer',\n",
    "    'solar_energy': 'no_answer',\n",
    "    'livestock_selling': 'no_answer',\n",
    "    'livestock_social': 'no_answer',\n",
    "    'livestock_milk': 'no_answer',\n",
    "    'livestock_meat': 'no_answer',\n",
    "    'livestock_savings': 'no_answer',\n",
    "    'livestock_number_goat': 0,\n",
    "    'livestock_number_sheep': 0,\n",
    "    'livestock_number_camel': 0,\n",
    "    'livestock_number_cattle': 0,\n",
    "    'livestock_number_chicken': 0,\n",
    "    'labour_participants': 'no_answer',\n",
    "    'labour_sector': '',\n",
    "    'agri_gard_water_harv_farmlands': 0,\n",
    "    'agri_gard_land_quantity': 0,\n",
    "    'cc_effects_sand_affected_farmlands': 0\n",
    "}\n",
    "reg_survey_complete.fillna(value=values, inplace=True)"
   ]
  },
  {
   "cell_type": "code",
   "execution_count": 7,
   "metadata": {},
   "outputs": [
    {
     "name": "stdout",
     "output_type": "stream",
     "text": [
      "{'ar': {1: u'\\u0644\\u062a\\u064a \\u0642\\u0633\\u0645 1', 2: u'\\u0644\\u062a\\u064a \\u0642\\u0633\\u0645 2', 3: u'\\u0644\\u062a\\u064a \\u0642\\u0633\\u0645 4', 4: u'\\u0627\\u0644\\u0645\\u0642\\u0627\\u0648\\u062f\\u0629', 5: u'\\u0643\\u062f\\u0643\\u0648\\u0644', 6: u'\\u0646\\u0627\\u0648\\u0627 \\u0634\\u0645\\u0627\\u0644', 7: u'\\u0646\\u0627\\u0648\\u0627 \\u062c\\u0646\\u0648\\u0628', 8: u'\\u0628\\u0633\\u0644\\u0627\\u0646 \\u0634\\u0645\\u0627\\u0644', 9: u'\\u0628\\u0633\\u0644\\u0627\\u0646 \\u062c\\u0646\\u0648\\u0628', 10: u'\\u0627\\u0644\\u0632\\u0631\\u0627\\u0626\\u0628', 11: u'\\u0645\\u0644\\u0648\\u0627\\u062f', 12: u'\\u0631\\u0648\\u0645\\u064a \\u0628\\u062d\\u0631\\u0649', 13: u'\\u0631\\u0648\\u0645\\u064a \\u0642\\u0628\\u0644\\u064a', 14: u'\\u0631\\u0648\\u0645\\u064a \\u0648\\u0633\\u0637', 15: u'\\u0623\\u0645 \\u0643\\u0631\\u0627\\u0628\\u064a\\u062c', 16: u'\\u0643\\u0646\\u0643\\u0644\\u0627\\u0628'}, 'en': {1: u'Laty. D. 1', 2: u'Laty. D. 2', 3: u'Laty. D. 4', 4: u'Almagawda', 5: u'Kadacol', 6: u'North Nawa', 7: u'South Nawa', 8: u'North Baslan', 9: u'South Baslan', 10: u'Alzaraib', 11: u'Molwad', 12: u'Romy Bahari', 13: u'Romy Gobly', 14: u'Medium Romy', 15: u'Um Karabij', 16: u'Kankalab'}}\n"
     ]
    }
   ],
   "source": [
    "# Creating villages dict\n",
    "villages = reg_survey_complete['village'].unique()\n",
    "villages_table = pd.read_excel(\"villages_northern.xlsx\")\n",
    "# Villages dictionary\n",
    "villages_dict = dict()\n",
    "ar_dict = villages_table.set_index('survey_code').to_dict()['Arabic name']\n",
    "villages_dict['ar'] = ar_dict\n",
    "villages_dict['en'] = villages_table.set_index('survey_code').to_dict()['English transcription']\n",
    "#print repr(villages_dict).decode('unicode_escape')\n",
    "reg_survey_complete['village'] = reg_survey_complete.village.map(villages_dict['en'])\n",
    "print villages_dict"
   ]
  },
  {
   "cell_type": "code",
   "execution_count": 8,
   "metadata": {},
   "outputs": [],
   "source": [
    "# For answered surveys\n",
    "reg_survey = reg_survey_complete.loc[reg_survey_complete['responding'].str.match('yes')].copy()"
   ]
  },
  {
   "cell_type": "code",
   "execution_count": 9,
   "metadata": {},
   "outputs": [],
   "source": [
    "# Creating num of LH strategies\n",
    "reg_survey['num_lh_strats'] = reg_survey['src_incomes'].map(lambda x: len(x.split()))"
   ]
  },
  {
   "cell_type": "code",
   "execution_count": 10,
   "metadata": {},
   "outputs": [],
   "source": [
    "# Separate male and female\n",
    "reg_survey_male = reg_survey.loc[reg_survey['respondant_gender'].str.match('male')].copy()\n",
    "reg_survey_female = reg_survey.loc[reg_survey['respondant_gender'].str.match('female')].copy()"
   ]
  },
  {
   "cell_type": "code",
   "execution_count": 11,
   "metadata": {},
   "outputs": [
    {
     "data": {
      "application/vnd.plotly.v1+json": {
       "data": [
        {
         "labels": [
          "Female HoHH",
          "Male HoHH"
         ],
         "sort": false,
         "type": "pie",
         "values": [
          187,
          337
         ]
        }
       ],
       "layout": {
        "title": "Households according to the gender of the HoHH"
       }
      },
      "text/html": [
       "<div id=\"2d3f4ac6-ad15-49b8-b355-221ec0b0176e\" style=\"height: 525px; width: 100%;\" class=\"plotly-graph-div\"></div><script type=\"text/javascript\">require([\"plotly\"], function(Plotly) { window.PLOTLYENV=window.PLOTLYENV || {};window.PLOTLYENV.BASE_URL=\"https://plot.ly\";Plotly.newPlot(\"2d3f4ac6-ad15-49b8-b355-221ec0b0176e\", [{\"sort\": false, \"values\": [187, 337], \"labels\": [\"Female HoHH\", \"Male HoHH\"], \"type\": \"pie\"}], {\"title\": \"Households according to the gender of the HoHH\"}, {\"linkText\": \"Export to plot.ly\", \"showLink\": true})});</script>"
      ],
      "text/vnd.plotly.v1+html": [
       "<div id=\"2d3f4ac6-ad15-49b8-b355-221ec0b0176e\" style=\"height: 525px; width: 100%;\" class=\"plotly-graph-div\"></div><script type=\"text/javascript\">require([\"plotly\"], function(Plotly) { window.PLOTLYENV=window.PLOTLYENV || {};window.PLOTLYENV.BASE_URL=\"https://plot.ly\";Plotly.newPlot(\"2d3f4ac6-ad15-49b8-b355-221ec0b0176e\", [{\"sort\": false, \"values\": [187, 337], \"labels\": [\"Female HoHH\", \"Male HoHH\"], \"type\": \"pie\"}], {\"title\": \"Households according to the gender of the HoHH\"}, {\"linkText\": \"Export to plot.ly\", \"showLink\": true})});</script>"
      ]
     },
     "metadata": {},
     "output_type": "display_data"
    }
   ],
   "source": [
    "## Separate per HoHH gender\n",
    "\n",
    "# Respondent is HH\n",
    "reg_survey['married'] = reg_survey['respondant_marital_status'].str.match('married')\n",
    "# Females HoHH\n",
    "reg_survey_female_head = reg_survey[reg_survey['respondant_gender'].str.match('female') &\n",
    "                                      reg_survey['respondant_head_hh'].str.match('yes')].copy()\n",
    "\n",
    "# Females noHoHH\n",
    "reg_survey_female_no_head = reg_survey[reg_survey['respondant_gender'].str.match('female') &\n",
    "                                      reg_survey['respondant_head_hh'].str.match('no')].copy()\n",
    "\n",
    "# Males HoHH + Female noHoHH married\n",
    "reg_survey_male_head = reg_survey[reg_survey['respondant_gender'].str.match('male') &\n",
    "                                      reg_survey['respondant_head_hh'].str.match('yes')].copy()\n",
    "reg_survey_male_head = pd.concat([reg_survey_male_head,\n",
    "                                  reg_survey_female_no_head[reg_survey_female_no_head['married']]])\n",
    "\n",
    "\n",
    "# Add females nHoHH nM with male_adult to male_head\n",
    "reg_survey_female_nHoHH_nM = reg_survey_female_no_head[~reg_survey_female_no_head['married']]\n",
    "reg_survey_male_head = pd.concat([reg_survey_male_head,\n",
    "                                  reg_survey_female_nHoHH_nM[reg_survey_female_nHoHH_nM['male_adult'] > 0]])\n",
    "\n",
    "# Add females nHoHH nM with male_adult to female_head\n",
    "reg_survey_female_head = pd.concat([reg_survey_female_head,\n",
    "                                    reg_survey_female_nHoHH_nM[reg_survey_female_nHoHH_nM['male_adult'] == 0]])\n",
    "\n",
    "# Add males nHoHH with male_adult to male_head\n",
    "reg_survey_male_nHoHH = reg_survey[reg_survey['respondant_gender'].str.match('male') &\n",
    "                                      reg_survey['respondant_head_hh'].str.match('no')].copy()\n",
    "reg_survey_maleHoHH = pd.concat([reg_survey_male_head,\n",
    "                                  reg_survey_male_nHoHH[reg_survey_male_nHoHH['male_adult'] > 0]])\n",
    "\n",
    "# Add females nHoHH with male_adult to female_head\n",
    "reg_survey_femHoHH = pd.concat([reg_survey_female_head,\n",
    "                                  reg_survey_male_nHoHH[reg_survey_male_nHoHH['male_adult'] == 0]])\n",
    "\n",
    "HoHH = {}\n",
    "HoHH['Male HoHH'] = reg_survey_maleHoHH['deviceid'].count()\n",
    "HoHH['Female HoHH'] = reg_survey_femHoHH['deviceid'].count()\n",
    "\n",
    "HoHH = pd.Series(HoHH)\n",
    "\n",
    "fig = {\n",
    "    \"layout\": {\n",
    "        \"title\": \"Households according to the gender of the HoHH\"\n",
    "    },\n",
    "    \"data\": [\n",
    "        {\n",
    "            \"values\": HoHH.values,\n",
    "            \"labels\": HoHH.index.values,\n",
    "            \"type\": \"pie\",\n",
    "            \"sort\": False\n",
    "        }\n",
    "    ]\n",
    "}\n",
    "\n",
    "iplot(fig)"
   ]
  },
  {
   "cell_type": "code",
   "execution_count": 12,
   "metadata": {},
   "outputs": [
    {
     "name": "stdout",
     "output_type": "stream",
     "text": [
      "524\n"
     ]
    },
    {
     "data": {
      "application/vnd.plotly.v1+json": {
       "data": [
        {
         "labels": [
          "yes",
          "no"
         ],
         "sort": false,
         "type": "pie",
         "values": [
          63,
          461
         ]
        }
       ],
       "layout": {
        "title": "Households with handicapped members"
       }
      },
      "text/html": [
       "<div id=\"27eff234-75a2-4642-ac1d-e4beedea2b75\" style=\"height: 525px; width: 100%;\" class=\"plotly-graph-div\"></div><script type=\"text/javascript\">require([\"plotly\"], function(Plotly) { window.PLOTLYENV=window.PLOTLYENV || {};window.PLOTLYENV.BASE_URL=\"https://plot.ly\";Plotly.newPlot(\"27eff234-75a2-4642-ac1d-e4beedea2b75\", [{\"sort\": false, \"values\": [63, 461], \"labels\": [\"yes\", \"no\"], \"type\": \"pie\"}], {\"title\": \"Households with handicapped members\"}, {\"linkText\": \"Export to plot.ly\", \"showLink\": true})});</script>"
      ],
      "text/vnd.plotly.v1+html": [
       "<div id=\"27eff234-75a2-4642-ac1d-e4beedea2b75\" style=\"height: 525px; width: 100%;\" class=\"plotly-graph-div\"></div><script type=\"text/javascript\">require([\"plotly\"], function(Plotly) { window.PLOTLYENV=window.PLOTLYENV || {};window.PLOTLYENV.BASE_URL=\"https://plot.ly\";Plotly.newPlot(\"27eff234-75a2-4642-ac1d-e4beedea2b75\", [{\"sort\": false, \"values\": [63, 461], \"labels\": [\"yes\", \"no\"], \"type\": \"pie\"}], {\"title\": \"Households with handicapped members\"}, {\"linkText\": \"Export to plot.ly\", \"showLink\": true})});</script>"
      ]
     },
     "metadata": {},
     "output_type": "display_data"
    }
   ],
   "source": [
    "reg_survey_hand_yes = reg_survey.loc[reg_survey.handicapped_member == 'yes'].copy()\n",
    "reg_survey_hand_no = reg_survey.loc[reg_survey.handicapped_member == 'no'].copy()\n",
    "print reg_survey['deviceid'].count()\n",
    "yes_no_number = [reg_survey_hand_yes['deviceid'].count(), reg_survey_hand_no['deviceid'].count()]\n",
    "yes_no_values = ['yes', 'no']\n",
    "\n",
    "fig = {\n",
    "    \"layout\": {\n",
    "        \"title\": \"Households with handicapped members\"\n",
    "    },\n",
    "    \"data\": [\n",
    "        {\n",
    "            \"values\": yes_no_number,\n",
    "            \"labels\": yes_no_values,\n",
    "            \"type\": \"pie\",\n",
    "            \"sort\": False\n",
    "        }\n",
    "    ]\n",
    "}\n",
    "\n",
    "iplot(fig)"
   ]
  },
  {
   "cell_type": "code",
   "execution_count": 13,
   "metadata": {},
   "outputs": [],
   "source": [
    "def create_graphs_HoHH(data_func, values_func, labels_func, sum_func, title):\n",
    "    create_three_pie_graphs((reg_survey_femHoHH, reg_survey, reg_survey_maleHoHH), data_func, values_func,\n",
    "                            labels_func, sum_func, title,\n",
    "                            \"Female Head of Household\", .04,\n",
    "                            \"Global\", .5,\n",
    "                            \"Male Head of Household\", .94)\n",
    "\n",
    "def create_graphs_respondent(data_func, values_func, labels_func, sum_func, title):\n",
    "    create_three_pie_graphs((reg_survey_female, reg_survey, reg_survey_male), data_func, values_func,\n",
    "                            labels_func, sum_func, title,\n",
    "                            \"Female Respondent\", .07,\n",
    "                            \"Global\", .5,\n",
    "                            \"Male Respondent\", .91)\n",
    "\n",
    "def create_pie_graph(serie, title):\n",
    "    fig = {\n",
    "        \"layout\": {\n",
    "            \"title\": title\n",
    "        },\n",
    "        \"data\": [\n",
    "            {\n",
    "                \"values\": serie.values,\n",
    "                \"labels\": serie.index.values,\n",
    "                \"type\": \"pie\",\n",
    "                \"sort\": False\n",
    "            }\n",
    "        ]\n",
    "    }\n",
    "\n",
    "    iplot(fig)\n",
    "    \n",
    "    \n",
    "def create_three_pie_graphs((df1, df2, df3), data_func, values_func,\n",
    "                            labels_func, sum_func, title,\n",
    "                            title1, title1_x_offset,\n",
    "                            title2, title2_x_offset,\n",
    "                            title3, title3_x_offset):\n",
    "    data_fem = data_func(df1)\n",
    "    data_global = data_func(df2)\n",
    "    data_male = data_func(df3)\n",
    "\n",
    "    fig = {\n",
    "        \"layout\": {\n",
    "            \"title\": title,\n",
    "            \"annotations\": [\n",
    "                {\n",
    "                    \"font\": {\n",
    "                        \"size\": 14\n",
    "                    },\n",
    "                    \"showarrow\": False,\n",
    "                    #\"text\": title1 + \" (\" + str(sum_func(data_fem)) + \")\",\n",
    "                    \"text\": title1,\n",
    "                    \"x\": title1_x_offset,\n",
    "                    \"y\": 1\n",
    "                },\n",
    "                {\n",
    "                    \"font\": {\n",
    "                        \"size\": 14\n",
    "                    },\n",
    "                    \"showarrow\": False,\n",
    "                    #\"text\": title2 + \" (\" + str(sum_func(data_global)) + \")\",\n",
    "                    \"text\": title2,\n",
    "                    \"x\": title2_x_offset,\n",
    "                    \"y\": 1\n",
    "                },\n",
    "                {\n",
    "                    \"font\": {\n",
    "                        \"size\": 14\n",
    "                    },\n",
    "                    \"showarrow\": False,\n",
    "                    #\"text\": title3 + \" (\" + str(sum_func(data_male)) + \")\",\n",
    "                    \"text\": title3,\n",
    "                    \"x\": title3_x_offset,\n",
    "                    \"y\": 1\n",
    "                }\n",
    "            ]\n",
    "        },\n",
    "        \"data\": [\n",
    "            {\n",
    "                \"values\": values_func(data_fem),\n",
    "                \"labels\": labels_func(data_fem),\n",
    "                \"domain\": {\n",
    "                    \"x\": [0, .32]\n",
    "                },\n",
    "                \"type\": \"pie\",\n",
    "                \"sort\": False\n",
    "            },\n",
    "            {\n",
    "                \"values\": values_func(data_global),\n",
    "                \"labels\": labels_func(data_global),\n",
    "                \"domain\": {\n",
    "                    \"x\": [.34, .64]\n",
    "                },\n",
    "                \"type\": \"pie\",\n",
    "                \"sort\": False\n",
    "            },\n",
    "            {\n",
    "                \"values\": values_func(data_male),\n",
    "                \"labels\": labels_func(data_male),\n",
    "                \"domain\": {\n",
    "                    \"x\": [.66, .98]\n",
    "                },\n",
    "                \"type\": \"pie\",\n",
    "                \"sort\": False\n",
    "            }\n",
    "        ]\n",
    "    }\n",
    "\n",
    "    iplot(fig)\n",
    "\n",
    "def create_stacked_bars_graph((df1, df2), data_func, x_func, y_func, title,\n",
    "                              title_df1, title_df2):\n",
    "    data_global = data_func(pd.concat([df1, df2]))\n",
    "    data_fem = data_func(df1)\n",
    "    data_male = data_func(df2)\n",
    "\n",
    "    fig = {\n",
    "        \"layout\": {\n",
    "            \"title\": title,\n",
    "            \"xaxis\": {\n",
    "                \"tickangle\": -45\n",
    "            },\n",
    "            \"barmode\": \"stack\",\n",
    "            \"width\": 700,\n",
    "            \"annotations\": []\n",
    "        },\n",
    "        \"data\": [\n",
    "            {\n",
    "                \"x\": x_func(data_fem),\n",
    "                \"y\": y_func(data_fem),\n",
    "                \"type\": \"bar\",\n",
    "                \"name\": title_df1,\n",
    "                \"marker\": {\n",
    "                    \"color\": 'rgb(225,225,258)',\n",
    "                    \"line\": {\n",
    "                        \"color\": 'rgb(0,0,192)',\n",
    "                        \"width\": 1.5\n",
    "                    }\n",
    "                },\n",
    "            },\n",
    "            {\n",
    "                \"x\": x_func(data_male),\n",
    "                \"y\": y_func(data_male),\n",
    "                \"type\": \"bar\",\n",
    "                \"name\": title_df2,\n",
    "                \"marker\": {\n",
    "                    \"color\": 'rgb(258,225,225)',\n",
    "                    \"line\": {\n",
    "                        \"color\": 'rgb(192,0,0)',\n",
    "                        \"width\": 1.5\n",
    "                    }\n",
    "                },\n",
    "            }\n",
    "        \n",
    "        ]\n",
    "    }\n",
    "\n",
    "\n",
    "#    for i in range(0, len(kitchen_type)):\n",
    "#        fig[\"layout\"][\"annotations\"].append(\n",
    "#            {\n",
    "#                 \"x\": map(lambda x: x.capitalize(), kitchen_perc.index.values)[i],\n",
    "#                 \"y\": kitchen_perc.values[i] + 1.5,\n",
    "#                \"x\": pd.concat([df1, df2])[i],\n",
    "#                \"y\": y_func(data_global)[i] + 1.5,\n",
    "#                \"text\": str(data_global.values[i]) + \"%\",\n",
    "#                \"font\": dict(\n",
    "#                    family='Arial',\n",
    "#                    size=14,\n",
    "#                    color='rgba(0, 0, 100, 1)'\n",
    "#                ),\n",
    "#                \"showarrow\": False,\n",
    "#    \n",
    "#            }\n",
    "#        )\n",
    "#\n",
    "#\n",
    "    iplot(fig)\n",
    "    \n",
    "\n",
    "def plot_wealth_criteria(groupby_data, values, title):\n",
    "    groupby_data = groupby_data * 100 / groupby_data.sum()\n",
    "    poor = groupby_data[groupby_data.index <= values[0]]\n",
    "    medium = groupby_data[groupby_data.index > values[0]]\n",
    "    medium = medium[medium.index <= values[1]]\n",
    "    rich = groupby_data[groupby_data.index > values[1]]\n",
    "    rich = rich[rich.index <= values[2]]\n",
    "    print medium\n",
    "    \n",
    "    fig_distribution = {\n",
    "        \"layout\": {\n",
    "            \"title\": title,\n",
    "            \"yaxis\": {\n",
    "                \"ticksuffix\": \"%\"\n",
    "            },\n",
    "            \"width\": 700,\n",
    "            \"annotations\": []\n",
    "        },\n",
    "        \"data\": [\n",
    "            {\n",
    "                \"x\": poor.index.values,\n",
    "                \"y\": poor.values,\n",
    "                \"type\": \"bar\",\n",
    "                \"name\": \"Very poor (\" + str(round(poor.values.sum(), 1)) + \"%)\" ,\n",
    "                \"marker\": {\n",
    "                    \"color\": 'rgb(214,39,40)',\n",
    "                }\n",
    "            },\n",
    "            {\n",
    "                \"x\": medium.index.values,\n",
    "                \"y\": medium.values,\n",
    "                \"type\": \"bar\",\n",
    "                \"name\": \"Poor (\" + str(round(medium.values.sum(), 1)) + \"%)\",\n",
    "                \"marker\": {\n",
    "                    \"color\": 'rgb(255,127,14)',\n",
    "                }\n",
    "            },\n",
    "            {\n",
    "                \"x\": rich.index.values,\n",
    "                \"y\": rich.values,\n",
    "                \"type\": \"bar\",\n",
    "                \"name\": \"Medium (\" + str(round(rich.values.sum(), 1)) + \"%)\",\n",
    "                \"marker\": {\n",
    "                    \"color\": 'rgb(44,160,44)',\n",
    "                }\n",
    "            }\n",
    "        ]\n",
    "    }\n",
    "    \n",
    "    iplot(fig_distribution)\n"
   ]
  },
  {
   "cell_type": "markdown",
   "metadata": {},
   "source": [
    "## General data\n",
    "\n",
    "Number of Surveys:"
   ]
  },
  {
   "cell_type": "code",
   "execution_count": 14,
   "metadata": {},
   "outputs": [
    {
     "name": "stdout",
     "output_type": "stream",
     "text": [
      "Total:525\n",
      "\n",
      "Responding:524\n",
      "\n"
     ]
    }
   ],
   "source": [
    "print \"Total:\" + str(reg_survey_complete['deviceid'].count())\n",
    "print \"\"\n",
    "total_surveys = reg_survey['deviceid'].count()\n",
    "print \"Responding:\" + str(total_surveys)\n",
    "print \"\""
   ]
  },
  {
   "cell_type": "markdown",
   "metadata": {},
   "source": [
    "### Respondents per gender and village"
   ]
  },
  {
   "cell_type": "code",
   "execution_count": 15,
   "metadata": {},
   "outputs": [
    {
     "data": {
      "text/html": [
       "<div>\n",
       "<style scoped>\n",
       "    .dataframe tbody tr th:only-of-type {\n",
       "        vertical-align: middle;\n",
       "    }\n",
       "\n",
       "    .dataframe tbody tr th {\n",
       "        vertical-align: top;\n",
       "    }\n",
       "\n",
       "    .dataframe thead th {\n",
       "        text-align: right;\n",
       "    }\n",
       "</style>\n",
       "<table border=\"1\" class=\"dataframe\">\n",
       "  <thead>\n",
       "    <tr style=\"text-align: right;\">\n",
       "      <th></th>\n",
       "      <th>Male</th>\n",
       "      <th>Male %</th>\n",
       "      <th>Female</th>\n",
       "      <th>Female %</th>\n",
       "      <th>Total</th>\n",
       "    </tr>\n",
       "    <tr>\n",
       "      <th>village</th>\n",
       "      <th></th>\n",
       "      <th></th>\n",
       "      <th></th>\n",
       "      <th></th>\n",
       "      <th></th>\n",
       "    </tr>\n",
       "  </thead>\n",
       "  <tbody>\n",
       "    <tr>\n",
       "      <th>Almagawda</th>\n",
       "      <td>13</td>\n",
       "      <td>31.71</td>\n",
       "      <td>28</td>\n",
       "      <td>68.29</td>\n",
       "      <td>41</td>\n",
       "    </tr>\n",
       "    <tr>\n",
       "      <th>Alzaraib</th>\n",
       "      <td>11</td>\n",
       "      <td>20.75</td>\n",
       "      <td>42</td>\n",
       "      <td>79.25</td>\n",
       "      <td>53</td>\n",
       "    </tr>\n",
       "    <tr>\n",
       "      <th>Kadacol</th>\n",
       "      <td>14</td>\n",
       "      <td>33.33</td>\n",
       "      <td>28</td>\n",
       "      <td>66.67</td>\n",
       "      <td>42</td>\n",
       "    </tr>\n",
       "    <tr>\n",
       "      <th>Kankalab</th>\n",
       "      <td>10</td>\n",
       "      <td>26.32</td>\n",
       "      <td>28</td>\n",
       "      <td>73.68</td>\n",
       "      <td>38</td>\n",
       "    </tr>\n",
       "    <tr>\n",
       "      <th>Laty. D. 1</th>\n",
       "      <td>18</td>\n",
       "      <td>54.55</td>\n",
       "      <td>15</td>\n",
       "      <td>45.45</td>\n",
       "      <td>33</td>\n",
       "    </tr>\n",
       "    <tr>\n",
       "      <th>Laty. D. 2</th>\n",
       "      <td>4</td>\n",
       "      <td>30.77</td>\n",
       "      <td>9</td>\n",
       "      <td>69.23</td>\n",
       "      <td>13</td>\n",
       "    </tr>\n",
       "    <tr>\n",
       "      <th>Laty. D. 4</th>\n",
       "      <td>12</td>\n",
       "      <td>35.29</td>\n",
       "      <td>22</td>\n",
       "      <td>64.71</td>\n",
       "      <td>34</td>\n",
       "    </tr>\n",
       "    <tr>\n",
       "      <th>Medium Romy</th>\n",
       "      <td>3</td>\n",
       "      <td>20.00</td>\n",
       "      <td>12</td>\n",
       "      <td>80.00</td>\n",
       "      <td>15</td>\n",
       "    </tr>\n",
       "    <tr>\n",
       "      <th>Molwad</th>\n",
       "      <td>26</td>\n",
       "      <td>56.52</td>\n",
       "      <td>20</td>\n",
       "      <td>43.48</td>\n",
       "      <td>46</td>\n",
       "    </tr>\n",
       "    <tr>\n",
       "      <th>North Baslan</th>\n",
       "      <td>11</td>\n",
       "      <td>44.00</td>\n",
       "      <td>14</td>\n",
       "      <td>56.00</td>\n",
       "      <td>25</td>\n",
       "    </tr>\n",
       "    <tr>\n",
       "      <th>North Nawa</th>\n",
       "      <td>16</td>\n",
       "      <td>51.61</td>\n",
       "      <td>15</td>\n",
       "      <td>48.39</td>\n",
       "      <td>31</td>\n",
       "    </tr>\n",
       "    <tr>\n",
       "      <th>Romy Bahari</th>\n",
       "      <td>11</td>\n",
       "      <td>31.43</td>\n",
       "      <td>24</td>\n",
       "      <td>68.57</td>\n",
       "      <td>35</td>\n",
       "    </tr>\n",
       "    <tr>\n",
       "      <th>Romy Gobly</th>\n",
       "      <td>9</td>\n",
       "      <td>23.68</td>\n",
       "      <td>29</td>\n",
       "      <td>76.32</td>\n",
       "      <td>38</td>\n",
       "    </tr>\n",
       "    <tr>\n",
       "      <th>South Baslan</th>\n",
       "      <td>6</td>\n",
       "      <td>33.33</td>\n",
       "      <td>12</td>\n",
       "      <td>66.67</td>\n",
       "      <td>18</td>\n",
       "    </tr>\n",
       "    <tr>\n",
       "      <th>South Nawa</th>\n",
       "      <td>10</td>\n",
       "      <td>22.73</td>\n",
       "      <td>34</td>\n",
       "      <td>77.27</td>\n",
       "      <td>44</td>\n",
       "    </tr>\n",
       "    <tr>\n",
       "      <th>Um Karabij</th>\n",
       "      <td>5</td>\n",
       "      <td>27.78</td>\n",
       "      <td>13</td>\n",
       "      <td>72.22</td>\n",
       "      <td>18</td>\n",
       "    </tr>\n",
       "    <tr>\n",
       "      <th>Total</th>\n",
       "      <td>179</td>\n",
       "      <td>34.16</td>\n",
       "      <td>345</td>\n",
       "      <td>65.84</td>\n",
       "      <td>524</td>\n",
       "    </tr>\n",
       "  </tbody>\n",
       "</table>\n",
       "</div>"
      ],
      "text/plain": [
       "              Male  Male %  Female  Female %  Total\n",
       "village                                            \n",
       "Almagawda       13   31.71      28     68.29     41\n",
       "Alzaraib        11   20.75      42     79.25     53\n",
       "Kadacol         14   33.33      28     66.67     42\n",
       "Kankalab        10   26.32      28     73.68     38\n",
       "Laty. D. 1      18   54.55      15     45.45     33\n",
       "Laty. D. 2       4   30.77       9     69.23     13\n",
       "Laty. D. 4      12   35.29      22     64.71     34\n",
       "Medium Romy      3   20.00      12     80.00     15\n",
       "Molwad          26   56.52      20     43.48     46\n",
       "North Baslan    11   44.00      14     56.00     25\n",
       "North Nawa      16   51.61      15     48.39     31\n",
       "Romy Bahari     11   31.43      24     68.57     35\n",
       "Romy Gobly       9   23.68      29     76.32     38\n",
       "South Baslan     6   33.33      12     66.67     18\n",
       "South Nawa      10   22.73      34     77.27     44\n",
       "Um Karabij       5   27.78      13     72.22     18\n",
       "Total          179   34.16     345     65.84    524"
      ]
     },
     "metadata": {},
     "output_type": "display_data"
    }
   ],
   "source": [
    "surveys_village = reg_survey.groupby('village').size()\n",
    "surveys_village_male = reg_survey_male.groupby('village').size()\n",
    "surveys_village_female = reg_survey_female.groupby('village').size()\n",
    "respondants_gender = pd.DataFrame(surveys_village, columns= ['Total'])\n",
    "respondants_gender['Male'] = surveys_village_male\n",
    "respondants_gender['Male %'] = (surveys_village_male*100 / surveys_village).round(2)\n",
    "respondants_gender['Female'] = surveys_village_female\n",
    "respondants_gender['Female %'] = (surveys_village_female*100 / surveys_village).round(2)\n",
    "respondants_gender = respondants_gender.reindex(['Male', 'Male %', 'Female', 'Female %', 'Total'], axis=1)\n",
    "respondants_gender.loc['Total', 'Total'] = respondants_gender['Total'].sum()\n",
    "respondants_gender.loc['Total', 'Male'] = respondants_gender['Male'].sum()\n",
    "respondants_gender.loc['Total', 'Male %'] = round(100*respondants_gender.loc['Total', 'Male'] / respondants_gender.loc['Total', 'Total'], 2)\n",
    "respondants_gender.loc['Total', 'Female'] = respondants_gender['Female'].sum()\n",
    "respondants_gender.loc['Total', 'Female %'] = round(100*respondants_gender.loc['Total', 'Female'] / respondants_gender.loc['Total', 'Total'], 2)\n",
    "respondants_gender['Male'] = respondants_gender['Male'].astype(int)\n",
    "respondants_gender['Female'] = respondants_gender['Female'].astype(int)\n",
    "respondants_gender['Total'] = respondants_gender['Total'].astype(int)\n",
    "\n",
    "display(respondants_gender)"
   ]
  },
  {
   "cell_type": "code",
   "execution_count": 16,
   "metadata": {},
   "outputs": [
    {
     "data": {
      "text/html": [
       "<div>\n",
       "<style scoped>\n",
       "    .dataframe tbody tr th:only-of-type {\n",
       "        vertical-align: middle;\n",
       "    }\n",
       "\n",
       "    .dataframe tbody tr th {\n",
       "        vertical-align: top;\n",
       "    }\n",
       "\n",
       "    .dataframe thead th {\n",
       "        text-align: right;\n",
       "    }\n",
       "</style>\n",
       "<table border=\"1\" class=\"dataframe\">\n",
       "  <thead>\n",
       "    <tr style=\"text-align: right;\">\n",
       "      <th></th>\n",
       "      <th>Male</th>\n",
       "      <th>Male %</th>\n",
       "      <th>Female</th>\n",
       "      <th>Female %</th>\n",
       "      <th>Total</th>\n",
       "    </tr>\n",
       "    <tr>\n",
       "      <th>village</th>\n",
       "      <th></th>\n",
       "      <th></th>\n",
       "      <th></th>\n",
       "      <th></th>\n",
       "      <th></th>\n",
       "    </tr>\n",
       "  </thead>\n",
       "  <tbody>\n",
       "    <tr>\n",
       "      <th>Almagawda</th>\n",
       "      <td>26</td>\n",
       "      <td>63.41</td>\n",
       "      <td>15</td>\n",
       "      <td>36.59</td>\n",
       "      <td>41</td>\n",
       "    </tr>\n",
       "    <tr>\n",
       "      <th>Alzaraib</th>\n",
       "      <td>33</td>\n",
       "      <td>62.26</td>\n",
       "      <td>20</td>\n",
       "      <td>37.74</td>\n",
       "      <td>53</td>\n",
       "    </tr>\n",
       "    <tr>\n",
       "      <th>Kadacol</th>\n",
       "      <td>24</td>\n",
       "      <td>57.14</td>\n",
       "      <td>18</td>\n",
       "      <td>42.86</td>\n",
       "      <td>42</td>\n",
       "    </tr>\n",
       "    <tr>\n",
       "      <th>Kankalab</th>\n",
       "      <td>25</td>\n",
       "      <td>65.79</td>\n",
       "      <td>13</td>\n",
       "      <td>34.21</td>\n",
       "      <td>38</td>\n",
       "    </tr>\n",
       "    <tr>\n",
       "      <th>Laty. D. 1</th>\n",
       "      <td>23</td>\n",
       "      <td>69.70</td>\n",
       "      <td>10</td>\n",
       "      <td>30.30</td>\n",
       "      <td>33</td>\n",
       "    </tr>\n",
       "    <tr>\n",
       "      <th>Laty. D. 2</th>\n",
       "      <td>8</td>\n",
       "      <td>61.54</td>\n",
       "      <td>5</td>\n",
       "      <td>38.46</td>\n",
       "      <td>13</td>\n",
       "    </tr>\n",
       "    <tr>\n",
       "      <th>Laty. D. 4</th>\n",
       "      <td>20</td>\n",
       "      <td>58.82</td>\n",
       "      <td>14</td>\n",
       "      <td>41.18</td>\n",
       "      <td>34</td>\n",
       "    </tr>\n",
       "    <tr>\n",
       "      <th>Medium Romy</th>\n",
       "      <td>8</td>\n",
       "      <td>53.33</td>\n",
       "      <td>7</td>\n",
       "      <td>46.67</td>\n",
       "      <td>15</td>\n",
       "    </tr>\n",
       "    <tr>\n",
       "      <th>Molwad</th>\n",
       "      <td>31</td>\n",
       "      <td>67.39</td>\n",
       "      <td>15</td>\n",
       "      <td>32.61</td>\n",
       "      <td>46</td>\n",
       "    </tr>\n",
       "    <tr>\n",
       "      <th>North Baslan</th>\n",
       "      <td>19</td>\n",
       "      <td>76.00</td>\n",
       "      <td>6</td>\n",
       "      <td>24.00</td>\n",
       "      <td>25</td>\n",
       "    </tr>\n",
       "    <tr>\n",
       "      <th>North Nawa</th>\n",
       "      <td>19</td>\n",
       "      <td>61.29</td>\n",
       "      <td>12</td>\n",
       "      <td>38.71</td>\n",
       "      <td>31</td>\n",
       "    </tr>\n",
       "    <tr>\n",
       "      <th>Romy Bahari</th>\n",
       "      <td>22</td>\n",
       "      <td>62.86</td>\n",
       "      <td>13</td>\n",
       "      <td>37.14</td>\n",
       "      <td>35</td>\n",
       "    </tr>\n",
       "    <tr>\n",
       "      <th>Romy Gobly</th>\n",
       "      <td>27</td>\n",
       "      <td>71.05</td>\n",
       "      <td>11</td>\n",
       "      <td>28.95</td>\n",
       "      <td>38</td>\n",
       "    </tr>\n",
       "    <tr>\n",
       "      <th>South Baslan</th>\n",
       "      <td>10</td>\n",
       "      <td>55.56</td>\n",
       "      <td>8</td>\n",
       "      <td>44.44</td>\n",
       "      <td>18</td>\n",
       "    </tr>\n",
       "    <tr>\n",
       "      <th>South Nawa</th>\n",
       "      <td>31</td>\n",
       "      <td>70.45</td>\n",
       "      <td>13</td>\n",
       "      <td>29.55</td>\n",
       "      <td>44</td>\n",
       "    </tr>\n",
       "    <tr>\n",
       "      <th>Um Karabij</th>\n",
       "      <td>11</td>\n",
       "      <td>61.11</td>\n",
       "      <td>7</td>\n",
       "      <td>38.89</td>\n",
       "      <td>18</td>\n",
       "    </tr>\n",
       "    <tr>\n",
       "      <th>Total</th>\n",
       "      <td>337</td>\n",
       "      <td>64.31</td>\n",
       "      <td>187</td>\n",
       "      <td>35.69</td>\n",
       "      <td>524</td>\n",
       "    </tr>\n",
       "  </tbody>\n",
       "</table>\n",
       "</div>"
      ],
      "text/plain": [
       "              Male  Male %  Female  Female %  Total\n",
       "village                                            \n",
       "Almagawda       26   63.41      15     36.59     41\n",
       "Alzaraib        33   62.26      20     37.74     53\n",
       "Kadacol         24   57.14      18     42.86     42\n",
       "Kankalab        25   65.79      13     34.21     38\n",
       "Laty. D. 1      23   69.70      10     30.30     33\n",
       "Laty. D. 2       8   61.54       5     38.46     13\n",
       "Laty. D. 4      20   58.82      14     41.18     34\n",
       "Medium Romy      8   53.33       7     46.67     15\n",
       "Molwad          31   67.39      15     32.61     46\n",
       "North Baslan    19   76.00       6     24.00     25\n",
       "North Nawa      19   61.29      12     38.71     31\n",
       "Romy Bahari     22   62.86      13     37.14     35\n",
       "Romy Gobly      27   71.05      11     28.95     38\n",
       "South Baslan    10   55.56       8     44.44     18\n",
       "South Nawa      31   70.45      13     29.55     44\n",
       "Um Karabij      11   61.11       7     38.89     18\n",
       "Total          337   64.31     187     35.69    524"
      ]
     },
     "metadata": {},
     "output_type": "display_data"
    }
   ],
   "source": [
    "surveys_village_maleHoHH = reg_survey_maleHoHH.groupby('village').size()\n",
    "surveys_village_femHoHH = reg_survey_femHoHH.groupby('village').size()\n",
    "HoHH_gender = pd.DataFrame(surveys_village, columns= ['Total'])\n",
    "HoHH_gender['Male'] = surveys_village_maleHoHH\n",
    "HoHH_gender['Male %'] = (surveys_village_maleHoHH*100 / surveys_village).round(2)\n",
    "HoHH_gender['Female'] = surveys_village_femHoHH\n",
    "HoHH_gender['Female %'] = (surveys_village_femHoHH*100 / surveys_village).round(2)\n",
    "HoHH_gender = HoHH_gender.reindex(['Male', 'Male %', 'Female', 'Female %', 'Total'], axis=1)\n",
    "HoHH_gender.loc['Total', 'Total'] = HoHH_gender['Total'].sum()\n",
    "HoHH_gender.loc['Total', 'Male'] = HoHH_gender['Male'].sum()\n",
    "HoHH_gender.loc['Total', 'Male %'] = round(100*HoHH_gender.loc['Total', 'Male'] / HoHH_gender.loc['Total', 'Total'], 2)\n",
    "HoHH_gender.loc['Total', 'Female'] = HoHH_gender['Female'].sum()\n",
    "HoHH_gender.loc['Total', 'Female %'] = round(100*HoHH_gender.loc['Total', 'Female'] / HoHH_gender.loc['Total', 'Total'], 2)\n",
    "HoHH_gender['Male'] = HoHH_gender['Male'].astype(int)\n",
    "HoHH_gender['Female'] = HoHH_gender['Female'].astype(int)\n",
    "HoHH_gender['Total'] = HoHH_gender['Total'].astype(int)\n",
    "\n",
    "display(HoHH_gender)"
   ]
  },
  {
   "cell_type": "markdown",
   "metadata": {},
   "source": [
    "### HHs Composition"
   ]
  },
  {
   "cell_type": "code",
   "execution_count": 17,
   "metadata": {},
   "outputs": [
    {
     "name": "stdout",
     "output_type": "stream",
     "text": [
      "187\n",
      "337\n"
     ]
    }
   ],
   "source": [
    "print reg_survey_femHoHH['deviceid'].count()\n",
    "print reg_survey_maleHoHH['deviceid'].count()"
   ]
  },
  {
   "cell_type": "code",
   "execution_count": 18,
   "metadata": {},
   "outputs": [
    {
     "data": {
      "application/vnd.plotly.v1+json": {
       "data": [
        {
         "domain": {
          "x": [
           0,
           0.32
          ]
         },
         "labels": [
          "Jalwa",
          "basic",
          "none",
          "primary",
          "secondary",
          "talim_kibar",
          "university"
         ],
         "sort": false,
         "type": "pie",
         "values": [
          1,
          56,
          54,
          31,
          35,
          1,
          9
         ]
        },
        {
         "domain": {
          "x": [
           0.34,
           0.64
          ]
         },
         "labels": [
          "Jalwa",
          "basic",
          "none",
          "primary",
          "secondary",
          "talim_kibar",
          "university"
         ],
         "sort": false,
         "type": "pie",
         "values": [
          20,
          177,
          90,
          107,
          97,
          2,
          29
         ]
        },
        {
         "domain": {
          "x": [
           0.66,
           0.98
          ]
         },
         "labels": [
          "Jalwa",
          "basic",
          "none",
          "primary",
          "secondary",
          "talim_kibar",
          "university"
         ],
         "sort": false,
         "type": "pie",
         "values": [
          19,
          121,
          36,
          76,
          62,
          1,
          20
         ]
        }
       ],
       "layout": {
        "annotations": [
         {
          "font": {
           "size": 14
          },
          "showarrow": false,
          "text": "Female Head of Household",
          "x": 0.04,
          "y": 1
         },
         {
          "font": {
           "size": 14
          },
          "showarrow": false,
          "text": "Global",
          "x": 0.5,
          "y": 1
         },
         {
          "font": {
           "size": 14
          },
          "showarrow": false,
          "text": "Male Head of Household",
          "x": 0.94,
          "y": 1
         }
        ],
        "title": "Education level of the head of household"
       }
      },
      "text/html": [
       "<div id=\"54f24d32-f0e2-4e62-bc26-b8bee6fbc23e\" style=\"height: 525px; width: 100%;\" class=\"plotly-graph-div\"></div><script type=\"text/javascript\">require([\"plotly\"], function(Plotly) { window.PLOTLYENV=window.PLOTLYENV || {};window.PLOTLYENV.BASE_URL=\"https://plot.ly\";Plotly.newPlot(\"54f24d32-f0e2-4e62-bc26-b8bee6fbc23e\", [{\"sort\": false, \"values\": [1, 56, 54, 31, 35, 1, 9], \"domain\": {\"x\": [0, 0.32]}, \"labels\": [\"Jalwa\", \"basic\", \"none\", \"primary\", \"secondary\", \"talim_kibar\", \"university\"], \"type\": \"pie\"}, {\"sort\": false, \"values\": [20, 177, 90, 107, 97, 2, 29], \"domain\": {\"x\": [0.34, 0.64]}, \"labels\": [\"Jalwa\", \"basic\", \"none\", \"primary\", \"secondary\", \"talim_kibar\", \"university\"], \"type\": \"pie\"}, {\"sort\": false, \"values\": [19, 121, 36, 76, 62, 1, 20], \"domain\": {\"x\": [0.66, 0.98]}, \"labels\": [\"Jalwa\", \"basic\", \"none\", \"primary\", \"secondary\", \"talim_kibar\", \"university\"], \"type\": \"pie\"}], {\"annotations\": [{\"y\": 1, \"text\": \"Female Head of Household\", \"font\": {\"size\": 14}, \"showarrow\": false, \"x\": 0.04}, {\"y\": 1, \"text\": \"Global\", \"font\": {\"size\": 14}, \"showarrow\": false, \"x\": 0.5}, {\"y\": 1, \"text\": \"Male Head of Household\", \"font\": {\"size\": 14}, \"showarrow\": false, \"x\": 0.94}], \"title\": \"Education level of the head of household\"}, {\"linkText\": \"Export to plot.ly\", \"showLink\": true})});</script>"
      ],
      "text/vnd.plotly.v1+html": [
       "<div id=\"54f24d32-f0e2-4e62-bc26-b8bee6fbc23e\" style=\"height: 525px; width: 100%;\" class=\"plotly-graph-div\"></div><script type=\"text/javascript\">require([\"plotly\"], function(Plotly) { window.PLOTLYENV=window.PLOTLYENV || {};window.PLOTLYENV.BASE_URL=\"https://plot.ly\";Plotly.newPlot(\"54f24d32-f0e2-4e62-bc26-b8bee6fbc23e\", [{\"sort\": false, \"values\": [1, 56, 54, 31, 35, 1, 9], \"domain\": {\"x\": [0, 0.32]}, \"labels\": [\"Jalwa\", \"basic\", \"none\", \"primary\", \"secondary\", \"talim_kibar\", \"university\"], \"type\": \"pie\"}, {\"sort\": false, \"values\": [20, 177, 90, 107, 97, 2, 29], \"domain\": {\"x\": [0.34, 0.64]}, \"labels\": [\"Jalwa\", \"basic\", \"none\", \"primary\", \"secondary\", \"talim_kibar\", \"university\"], \"type\": \"pie\"}, {\"sort\": false, \"values\": [19, 121, 36, 76, 62, 1, 20], \"domain\": {\"x\": [0.66, 0.98]}, \"labels\": [\"Jalwa\", \"basic\", \"none\", \"primary\", \"secondary\", \"talim_kibar\", \"university\"], \"type\": \"pie\"}], {\"annotations\": [{\"y\": 1, \"text\": \"Female Head of Household\", \"font\": {\"size\": 14}, \"showarrow\": false, \"x\": 0.04}, {\"y\": 1, \"text\": \"Global\", \"font\": {\"size\": 14}, \"showarrow\": false, \"x\": 0.5}, {\"y\": 1, \"text\": \"Male Head of Household\", \"font\": {\"size\": 14}, \"showarrow\": false, \"x\": 0.94}], \"title\": \"Education level of the head of household\"}, {\"linkText\": \"Export to plot.ly\", \"showLink\": true})});</script>"
      ]
     },
     "metadata": {},
     "output_type": "display_data"
    }
   ],
   "source": [
    "create_graphs_HoHH(lambda x: x.groupby('education').size(),\n",
    "                 lambda x: x.values,\n",
    "                 lambda x: x.index.values,\n",
    "                   lambda x: x.sum(),\n",
    "                 \"Education level of the head of household\")\n"
   ]
  },
  {
   "cell_type": "code",
   "execution_count": 19,
   "metadata": {},
   "outputs": [
    {
     "data": {
      "application/vnd.plotly.v1+json": {
       "data": [
        {
         "domain": {
          "x": [
           0,
           0.32
          ]
         },
         "labels": [
          "brick",
          "concrete",
          "mud",
          "no_answer",
          "wood",
          "worked_graze"
         ],
         "sort": false,
         "type": "pie",
         "values": [
          27,
          1,
          94,
          63,
          1,
          1
         ]
        },
        {
         "domain": {
          "x": [
           0.34,
           0.64
          ]
         },
         "labels": [
          "brick",
          "concrete",
          "mud",
          "no_answer",
          "wood",
          "worked_graze"
         ],
         "sort": false,
         "type": "pie",
         "values": [
          33,
          1,
          391,
          96,
          2,
          1
         ]
        },
        {
         "domain": {
          "x": [
           0.66,
           0.98
          ]
         },
         "labels": [
          "brick",
          "mud",
          "no_answer",
          "wood"
         ],
         "sort": false,
         "type": "pie",
         "values": [
          6,
          297,
          33,
          1
         ]
        }
       ],
       "layout": {
        "annotations": [
         {
          "font": {
           "size": 14
          },
          "showarrow": false,
          "text": "Female Head of Household",
          "x": 0.04,
          "y": 1
         },
         {
          "font": {
           "size": 14
          },
          "showarrow": false,
          "text": "Global",
          "x": 0.5,
          "y": 1
         },
         {
          "font": {
           "size": 14
          },
          "showarrow": false,
          "text": "Male Head of Household",
          "x": 0.94,
          "y": 1
         }
        ],
        "title": "House materials"
       }
      },
      "text/html": [
       "<div id=\"4b4fe6d7-41e5-4a9d-879a-0b85f3db5702\" style=\"height: 525px; width: 100%;\" class=\"plotly-graph-div\"></div><script type=\"text/javascript\">require([\"plotly\"], function(Plotly) { window.PLOTLYENV=window.PLOTLYENV || {};window.PLOTLYENV.BASE_URL=\"https://plot.ly\";Plotly.newPlot(\"4b4fe6d7-41e5-4a9d-879a-0b85f3db5702\", [{\"sort\": false, \"values\": [27, 1, 94, 63, 1, 1], \"domain\": {\"x\": [0, 0.32]}, \"labels\": [\"brick\", \"concrete\", \"mud\", \"no_answer\", \"wood\", \"worked_graze\"], \"type\": \"pie\"}, {\"sort\": false, \"values\": [33, 1, 391, 96, 2, 1], \"domain\": {\"x\": [0.34, 0.64]}, \"labels\": [\"brick\", \"concrete\", \"mud\", \"no_answer\", \"wood\", \"worked_graze\"], \"type\": \"pie\"}, {\"sort\": false, \"values\": [6, 297, 33, 1], \"domain\": {\"x\": [0.66, 0.98]}, \"labels\": [\"brick\", \"mud\", \"no_answer\", \"wood\"], \"type\": \"pie\"}], {\"annotations\": [{\"y\": 1, \"text\": \"Female Head of Household\", \"font\": {\"size\": 14}, \"showarrow\": false, \"x\": 0.04}, {\"y\": 1, \"text\": \"Global\", \"font\": {\"size\": 14}, \"showarrow\": false, \"x\": 0.5}, {\"y\": 1, \"text\": \"Male Head of Household\", \"font\": {\"size\": 14}, \"showarrow\": false, \"x\": 0.94}], \"title\": \"House materials\"}, {\"linkText\": \"Export to plot.ly\", \"showLink\": true})});</script>"
      ],
      "text/vnd.plotly.v1+html": [
       "<div id=\"4b4fe6d7-41e5-4a9d-879a-0b85f3db5702\" style=\"height: 525px; width: 100%;\" class=\"plotly-graph-div\"></div><script type=\"text/javascript\">require([\"plotly\"], function(Plotly) { window.PLOTLYENV=window.PLOTLYENV || {};window.PLOTLYENV.BASE_URL=\"https://plot.ly\";Plotly.newPlot(\"4b4fe6d7-41e5-4a9d-879a-0b85f3db5702\", [{\"sort\": false, \"values\": [27, 1, 94, 63, 1, 1], \"domain\": {\"x\": [0, 0.32]}, \"labels\": [\"brick\", \"concrete\", \"mud\", \"no_answer\", \"wood\", \"worked_graze\"], \"type\": \"pie\"}, {\"sort\": false, \"values\": [33, 1, 391, 96, 2, 1], \"domain\": {\"x\": [0.34, 0.64]}, \"labels\": [\"brick\", \"concrete\", \"mud\", \"no_answer\", \"wood\", \"worked_graze\"], \"type\": \"pie\"}, {\"sort\": false, \"values\": [6, 297, 33, 1], \"domain\": {\"x\": [0.66, 0.98]}, \"labels\": [\"brick\", \"mud\", \"no_answer\", \"wood\"], \"type\": \"pie\"}], {\"annotations\": [{\"y\": 1, \"text\": \"Female Head of Household\", \"font\": {\"size\": 14}, \"showarrow\": false, \"x\": 0.04}, {\"y\": 1, \"text\": \"Global\", \"font\": {\"size\": 14}, \"showarrow\": false, \"x\": 0.5}, {\"y\": 1, \"text\": \"Male Head of Household\", \"font\": {\"size\": 14}, \"showarrow\": false, \"x\": 0.94}], \"title\": \"House materials\"}, {\"linkText\": \"Export to plot.ly\", \"showLink\": true})});</script>"
      ]
     },
     "metadata": {},
     "output_type": "display_data"
    },
    {
     "data": {
      "application/vnd.plotly.v1+json": {
       "data": [
        {
         "labels": [
          "brick",
          "concrete",
          "mud",
          "no_answer",
          "wood",
          "worked_graze"
         ],
         "sort": false,
         "type": "pie",
         "values": [
          33,
          1,
          391,
          96,
          2,
          1
         ]
        }
       ],
       "layout": {
        "title": "House materials"
       }
      },
      "text/html": [
       "<div id=\"b9c01e46-4a91-494b-8450-77d7a9309f78\" style=\"height: 525px; width: 100%;\" class=\"plotly-graph-div\"></div><script type=\"text/javascript\">require([\"plotly\"], function(Plotly) { window.PLOTLYENV=window.PLOTLYENV || {};window.PLOTLYENV.BASE_URL=\"https://plot.ly\";Plotly.newPlot(\"b9c01e46-4a91-494b-8450-77d7a9309f78\", [{\"sort\": false, \"values\": [33, 1, 391, 96, 2, 1], \"labels\": [\"brick\", \"concrete\", \"mud\", \"no_answer\", \"wood\", \"worked_graze\"], \"type\": \"pie\"}], {\"title\": \"House materials\"}, {\"linkText\": \"Export to plot.ly\", \"showLink\": true})});</script>"
      ],
      "text/vnd.plotly.v1+html": [
       "<div id=\"b9c01e46-4a91-494b-8450-77d7a9309f78\" style=\"height: 525px; width: 100%;\" class=\"plotly-graph-div\"></div><script type=\"text/javascript\">require([\"plotly\"], function(Plotly) { window.PLOTLYENV=window.PLOTLYENV || {};window.PLOTLYENV.BASE_URL=\"https://plot.ly\";Plotly.newPlot(\"b9c01e46-4a91-494b-8450-77d7a9309f78\", [{\"sort\": false, \"values\": [33, 1, 391, 96, 2, 1], \"labels\": [\"brick\", \"concrete\", \"mud\", \"no_answer\", \"wood\", \"worked_graze\"], \"type\": \"pie\"}], {\"title\": \"House materials\"}, {\"linkText\": \"Export to plot.ly\", \"showLink\": true})});</script>"
      ]
     },
     "metadata": {},
     "output_type": "display_data"
    },
    {
     "data": {
      "application/vnd.plotly.v1+json": {
       "data": [
        {
         "domain": {
          "x": [
           0,
           0.18
          ],
          "y": [
           0,
           0.3
          ]
         },
         "labels": [
          "brick",
          "concrete",
          "mud",
          "no_answer",
          "wood",
          "worked_graze"
         ],
         "sort": false,
         "type": "pie",
         "values": [
          1,
          0,
          14,
          3,
          0,
          0
         ]
        },
        {
         "domain": {
          "x": [
           0.2,
           0.38
          ],
          "y": [
           0,
           0.3
          ]
         },
         "labels": [
          "brick",
          "concrete",
          "mud",
          "no_answer",
          "wood",
          "worked_graze"
         ],
         "sort": false,
         "type": "pie",
         "values": [
          3,
          0,
          28,
          10,
          0,
          0
         ]
        },
        {
         "domain": {
          "x": [
           0.4,
           0.5800000000000001
          ],
          "y": [
           0,
           0.3
          ]
         },
         "labels": [
          "brick",
          "concrete",
          "mud",
          "no_answer",
          "wood",
          "worked_graze"
         ],
         "sort": false,
         "type": "pie",
         "values": [
          0,
          0,
          41,
          12,
          0,
          0
         ]
        },
        {
         "domain": {
          "x": [
           0.6000000000000001,
           0.78
          ],
          "y": [
           0,
           0.3
          ]
         },
         "labels": [
          "brick",
          "concrete",
          "mud",
          "no_answer",
          "wood",
          "worked_graze"
         ],
         "sort": false,
         "type": "pie",
         "values": [
          2,
          0,
          30,
          10,
          0,
          0
         ]
        },
        {
         "domain": {
          "x": [
           0.8,
           0.98
          ],
          "y": [
           0,
           0.3
          ]
         },
         "labels": [
          "brick",
          "concrete",
          "mud",
          "no_answer",
          "wood",
          "worked_graze"
         ],
         "sort": false,
         "type": "pie",
         "values": [
          6,
          0,
          25,
          7,
          0,
          0
         ]
        },
        {
         "domain": {
          "x": [
           0,
           0.18
          ],
          "y": [
           0.35,
           0.6499999999999999
          ]
         },
         "labels": [
          "brick",
          "concrete",
          "mud",
          "no_answer",
          "wood",
          "worked_graze"
         ],
         "sort": false,
         "type": "pie",
         "values": [
          2,
          0,
          23,
          7,
          1,
          0
         ]
        },
        {
         "domain": {
          "x": [
           0.2,
           0.38
          ],
          "y": [
           0.35,
           0.6499999999999999
          ]
         },
         "labels": [
          "brick",
          "concrete",
          "mud",
          "no_answer",
          "wood",
          "worked_graze"
         ],
         "sort": false,
         "type": "pie",
         "values": [
          0,
          0,
          10,
          3,
          0,
          0
         ]
        },
        {
         "domain": {
          "x": [
           0.4,
           0.5800000000000001
          ],
          "y": [
           0.35,
           0.6499999999999999
          ]
         },
         "labels": [
          "brick",
          "concrete",
          "mud",
          "no_answer",
          "wood",
          "worked_graze"
         ],
         "sort": false,
         "type": "pie",
         "values": [
          0,
          0,
          24,
          10,
          0,
          0
         ]
        },
        {
         "domain": {
          "x": [
           0.6000000000000001,
           0.78
          ],
          "y": [
           0.35,
           0.6499999999999999
          ]
         },
         "labels": [
          "brick",
          "concrete",
          "mud",
          "no_answer",
          "wood",
          "worked_graze"
         ],
         "sort": false,
         "type": "pie",
         "values": [
          4,
          0,
          10,
          1,
          0,
          0
         ]
        },
        {
         "domain": {
          "x": [
           0.8,
           0.98
          ],
          "y": [
           0.35,
           0.6499999999999999
          ]
         },
         "labels": [
          "brick",
          "concrete",
          "mud",
          "no_answer",
          "wood",
          "worked_graze"
         ],
         "sort": false,
         "type": "pie",
         "values": [
          1,
          0,
          35,
          10,
          0,
          0
         ]
        },
        {
         "domain": {
          "x": [
           0,
           0.18
          ],
          "y": [
           0.7,
           1
          ]
         },
         "labels": [
          "brick",
          "concrete",
          "mud",
          "no_answer",
          "wood",
          "worked_graze"
         ],
         "sort": false,
         "type": "pie",
         "values": [
          0,
          0,
          20,
          5,
          0,
          0
         ]
        },
        {
         "domain": {
          "x": [
           0.2,
           0.38
          ],
          "y": [
           0.7,
           1
          ]
         },
         "labels": [
          "brick",
          "concrete",
          "mud",
          "no_answer",
          "wood",
          "worked_graze"
         ],
         "sort": false,
         "type": "pie",
         "values": [
          3,
          0,
          23,
          4,
          1,
          0
         ]
        },
        {
         "domain": {
          "x": [
           0.4,
           0.5800000000000001
          ],
          "y": [
           0.7,
           1
          ]
         },
         "labels": [
          "brick",
          "concrete",
          "mud",
          "no_answer",
          "wood",
          "worked_graze"
         ],
         "sort": false,
         "type": "pie",
         "values": [
          1,
          0,
          27,
          7,
          0,
          0
         ]
        },
        {
         "domain": {
          "x": [
           0.6000000000000001,
           0.78
          ],
          "y": [
           0.7,
           1
          ]
         },
         "labels": [
          "brick",
          "concrete",
          "mud",
          "no_answer",
          "wood",
          "worked_graze"
         ],
         "sort": false,
         "type": "pie",
         "values": [
          4,
          0,
          32,
          1,
          0,
          1
         ]
        },
        {
         "domain": {
          "x": [
           0.8,
           0.98
          ],
          "y": [
           0.7,
           1
          ]
         },
         "labels": [
          "brick",
          "concrete",
          "mud",
          "no_answer",
          "wood",
          "worked_graze"
         ],
         "sort": false,
         "type": "pie",
         "values": [
          4,
          1,
          11,
          2,
          0,
          0
         ]
        },
        {
         "domain": {
          "x": [
           0,
           0.18
          ],
          "y": [
           1.0499999999999998,
           1.3499999999999999
          ]
         },
         "labels": [
          "brick",
          "concrete",
          "mud",
          "no_answer",
          "wood",
          "worked_graze"
         ],
         "sort": false,
         "type": "pie",
         "values": [
          2,
          0,
          38,
          4,
          0,
          0
         ]
        }
       ],
       "layout": {
        "title": {
         "font": {
          "size": 20
         },
         "text": "House materials"
        }
       }
      },
      "text/html": [
       "<div id=\"f55e5d80-9075-4a72-9b12-5f25b1c8588a\" style=\"height: 525px; width: 100%;\" class=\"plotly-graph-div\"></div><script type=\"text/javascript\">require([\"plotly\"], function(Plotly) { window.PLOTLYENV=window.PLOTLYENV || {};window.PLOTLYENV.BASE_URL=\"https://plot.ly\";Plotly.newPlot(\"f55e5d80-9075-4a72-9b12-5f25b1c8588a\", [{\"sort\": false, \"values\": [1, 0, 14, 3, 0, 0], \"domain\": {\"y\": [0.0, 0.3], \"x\": [0.0, 0.18]}, \"labels\": [\"brick\", \"concrete\", \"mud\", \"no_answer\", \"wood\", \"worked_graze\"], \"type\": \"pie\"}, {\"sort\": false, \"values\": [3, 0, 28, 10, 0, 0], \"domain\": {\"y\": [0.0, 0.3], \"x\": [0.2, 0.38]}, \"labels\": [\"brick\", \"concrete\", \"mud\", \"no_answer\", \"wood\", \"worked_graze\"], \"type\": \"pie\"}, {\"sort\": false, \"values\": [0, 0, 41, 12, 0, 0], \"domain\": {\"y\": [0.0, 0.3], \"x\": [0.4, 0.5800000000000001]}, \"labels\": [\"brick\", \"concrete\", \"mud\", \"no_answer\", \"wood\", \"worked_graze\"], \"type\": \"pie\"}, {\"sort\": false, \"values\": [2, 0, 30, 10, 0, 0], \"domain\": {\"y\": [0.0, 0.3], \"x\": [0.6000000000000001, 0.78]}, \"labels\": [\"brick\", \"concrete\", \"mud\", \"no_answer\", \"wood\", \"worked_graze\"], \"type\": \"pie\"}, {\"sort\": false, \"values\": [6, 0, 25, 7, 0, 0], \"domain\": {\"y\": [0.0, 0.3], \"x\": [0.8, 0.98]}, \"labels\": [\"brick\", \"concrete\", \"mud\", \"no_answer\", \"wood\", \"worked_graze\"], \"type\": \"pie\"}, {\"sort\": false, \"values\": [2, 0, 23, 7, 1, 0], \"domain\": {\"y\": [0.35, 0.6499999999999999], \"x\": [0.0, 0.18]}, \"labels\": [\"brick\", \"concrete\", \"mud\", \"no_answer\", \"wood\", \"worked_graze\"], \"type\": \"pie\"}, {\"sort\": false, \"values\": [0, 0, 10, 3, 0, 0], \"domain\": {\"y\": [0.35, 0.6499999999999999], \"x\": [0.2, 0.38]}, \"labels\": [\"brick\", \"concrete\", \"mud\", \"no_answer\", \"wood\", \"worked_graze\"], \"type\": \"pie\"}, {\"sort\": false, \"values\": [0, 0, 24, 10, 0, 0], \"domain\": {\"y\": [0.35, 0.6499999999999999], \"x\": [0.4, 0.5800000000000001]}, \"labels\": [\"brick\", \"concrete\", \"mud\", \"no_answer\", \"wood\", \"worked_graze\"], \"type\": \"pie\"}, {\"sort\": false, \"values\": [4, 0, 10, 1, 0, 0], \"domain\": {\"y\": [0.35, 0.6499999999999999], \"x\": [0.6000000000000001, 0.78]}, \"labels\": [\"brick\", \"concrete\", \"mud\", \"no_answer\", \"wood\", \"worked_graze\"], \"type\": \"pie\"}, {\"sort\": false, \"values\": [1, 0, 35, 10, 0, 0], \"domain\": {\"y\": [0.35, 0.6499999999999999], \"x\": [0.8, 0.98]}, \"labels\": [\"brick\", \"concrete\", \"mud\", \"no_answer\", \"wood\", \"worked_graze\"], \"type\": \"pie\"}, {\"sort\": false, \"values\": [0, 0, 20, 5, 0, 0], \"domain\": {\"y\": [0.7, 1.0], \"x\": [0.0, 0.18]}, \"labels\": [\"brick\", \"concrete\", \"mud\", \"no_answer\", \"wood\", \"worked_graze\"], \"type\": \"pie\"}, {\"sort\": false, \"values\": [3, 0, 23, 4, 1, 0], \"domain\": {\"y\": [0.7, 1.0], \"x\": [0.2, 0.38]}, \"labels\": [\"brick\", \"concrete\", \"mud\", \"no_answer\", \"wood\", \"worked_graze\"], \"type\": \"pie\"}, {\"sort\": false, \"values\": [1, 0, 27, 7, 0, 0], \"domain\": {\"y\": [0.7, 1.0], \"x\": [0.4, 0.5800000000000001]}, \"labels\": [\"brick\", \"concrete\", \"mud\", \"no_answer\", \"wood\", \"worked_graze\"], \"type\": \"pie\"}, {\"sort\": false, \"values\": [4, 0, 32, 1, 0, 1], \"domain\": {\"y\": [0.7, 1.0], \"x\": [0.6000000000000001, 0.78]}, \"labels\": [\"brick\", \"concrete\", \"mud\", \"no_answer\", \"wood\", \"worked_graze\"], \"type\": \"pie\"}, {\"sort\": false, \"values\": [4, 1, 11, 2, 0, 0], \"domain\": {\"y\": [0.7, 1.0], \"x\": [0.8, 0.98]}, \"labels\": [\"brick\", \"concrete\", \"mud\", \"no_answer\", \"wood\", \"worked_graze\"], \"type\": \"pie\"}, {\"sort\": false, \"values\": [2, 0, 38, 4, 0, 0], \"domain\": {\"y\": [1.0499999999999998, 1.3499999999999999], \"x\": [0.0, 0.18]}, \"labels\": [\"brick\", \"concrete\", \"mud\", \"no_answer\", \"wood\", \"worked_graze\"], \"type\": \"pie\"}], {\"title\": {\"text\": \"House materials\", \"font\": {\"size\": 20}}}, {\"linkText\": \"Export to plot.ly\", \"showLink\": true})});</script>"
      ],
      "text/vnd.plotly.v1+html": [
       "<div id=\"f55e5d80-9075-4a72-9b12-5f25b1c8588a\" style=\"height: 525px; width: 100%;\" class=\"plotly-graph-div\"></div><script type=\"text/javascript\">require([\"plotly\"], function(Plotly) { window.PLOTLYENV=window.PLOTLYENV || {};window.PLOTLYENV.BASE_URL=\"https://plot.ly\";Plotly.newPlot(\"f55e5d80-9075-4a72-9b12-5f25b1c8588a\", [{\"sort\": false, \"values\": [1, 0, 14, 3, 0, 0], \"domain\": {\"y\": [0.0, 0.3], \"x\": [0.0, 0.18]}, \"labels\": [\"brick\", \"concrete\", \"mud\", \"no_answer\", \"wood\", \"worked_graze\"], \"type\": \"pie\"}, {\"sort\": false, \"values\": [3, 0, 28, 10, 0, 0], \"domain\": {\"y\": [0.0, 0.3], \"x\": [0.2, 0.38]}, \"labels\": [\"brick\", \"concrete\", \"mud\", \"no_answer\", \"wood\", \"worked_graze\"], \"type\": \"pie\"}, {\"sort\": false, \"values\": [0, 0, 41, 12, 0, 0], \"domain\": {\"y\": [0.0, 0.3], \"x\": [0.4, 0.5800000000000001]}, \"labels\": [\"brick\", \"concrete\", \"mud\", \"no_answer\", \"wood\", \"worked_graze\"], \"type\": \"pie\"}, {\"sort\": false, \"values\": [2, 0, 30, 10, 0, 0], \"domain\": {\"y\": [0.0, 0.3], \"x\": [0.6000000000000001, 0.78]}, \"labels\": [\"brick\", \"concrete\", \"mud\", \"no_answer\", \"wood\", \"worked_graze\"], \"type\": \"pie\"}, {\"sort\": false, \"values\": [6, 0, 25, 7, 0, 0], \"domain\": {\"y\": [0.0, 0.3], \"x\": [0.8, 0.98]}, \"labels\": [\"brick\", \"concrete\", \"mud\", \"no_answer\", \"wood\", \"worked_graze\"], \"type\": \"pie\"}, {\"sort\": false, \"values\": [2, 0, 23, 7, 1, 0], \"domain\": {\"y\": [0.35, 0.6499999999999999], \"x\": [0.0, 0.18]}, \"labels\": [\"brick\", \"concrete\", \"mud\", \"no_answer\", \"wood\", \"worked_graze\"], \"type\": \"pie\"}, {\"sort\": false, \"values\": [0, 0, 10, 3, 0, 0], \"domain\": {\"y\": [0.35, 0.6499999999999999], \"x\": [0.2, 0.38]}, \"labels\": [\"brick\", \"concrete\", \"mud\", \"no_answer\", \"wood\", \"worked_graze\"], \"type\": \"pie\"}, {\"sort\": false, \"values\": [0, 0, 24, 10, 0, 0], \"domain\": {\"y\": [0.35, 0.6499999999999999], \"x\": [0.4, 0.5800000000000001]}, \"labels\": [\"brick\", \"concrete\", \"mud\", \"no_answer\", \"wood\", \"worked_graze\"], \"type\": \"pie\"}, {\"sort\": false, \"values\": [4, 0, 10, 1, 0, 0], \"domain\": {\"y\": [0.35, 0.6499999999999999], \"x\": [0.6000000000000001, 0.78]}, \"labels\": [\"brick\", \"concrete\", \"mud\", \"no_answer\", \"wood\", \"worked_graze\"], \"type\": \"pie\"}, {\"sort\": false, \"values\": [1, 0, 35, 10, 0, 0], \"domain\": {\"y\": [0.35, 0.6499999999999999], \"x\": [0.8, 0.98]}, \"labels\": [\"brick\", \"concrete\", \"mud\", \"no_answer\", \"wood\", \"worked_graze\"], \"type\": \"pie\"}, {\"sort\": false, \"values\": [0, 0, 20, 5, 0, 0], \"domain\": {\"y\": [0.7, 1.0], \"x\": [0.0, 0.18]}, \"labels\": [\"brick\", \"concrete\", \"mud\", \"no_answer\", \"wood\", \"worked_graze\"], \"type\": \"pie\"}, {\"sort\": false, \"values\": [3, 0, 23, 4, 1, 0], \"domain\": {\"y\": [0.7, 1.0], \"x\": [0.2, 0.38]}, \"labels\": [\"brick\", \"concrete\", \"mud\", \"no_answer\", \"wood\", \"worked_graze\"], \"type\": \"pie\"}, {\"sort\": false, \"values\": [1, 0, 27, 7, 0, 0], \"domain\": {\"y\": [0.7, 1.0], \"x\": [0.4, 0.5800000000000001]}, \"labels\": [\"brick\", \"concrete\", \"mud\", \"no_answer\", \"wood\", \"worked_graze\"], \"type\": \"pie\"}, {\"sort\": false, \"values\": [4, 0, 32, 1, 0, 1], \"domain\": {\"y\": [0.7, 1.0], \"x\": [0.6000000000000001, 0.78]}, \"labels\": [\"brick\", \"concrete\", \"mud\", \"no_answer\", \"wood\", \"worked_graze\"], \"type\": \"pie\"}, {\"sort\": false, \"values\": [4, 1, 11, 2, 0, 0], \"domain\": {\"y\": [0.7, 1.0], \"x\": [0.8, 0.98]}, \"labels\": [\"brick\", \"concrete\", \"mud\", \"no_answer\", \"wood\", \"worked_graze\"], \"type\": \"pie\"}, {\"sort\": false, \"values\": [2, 0, 38, 4, 0, 0], \"domain\": {\"y\": [1.0499999999999998, 1.3499999999999999], \"x\": [0.0, 0.18]}, \"labels\": [\"brick\", \"concrete\", \"mud\", \"no_answer\", \"wood\", \"worked_graze\"], \"type\": \"pie\"}], {\"title\": {\"text\": \"House materials\", \"font\": {\"size\": 20}}}, {\"linkText\": \"Export to plot.ly\", \"showLink\": true})});</script>"
      ]
     },
     "metadata": {},
     "output_type": "display_data"
    }
   ],
   "source": [
    "#hey = reg_survey.groupby(['village', 'house_material']).size()\n",
    "\n",
    "#house_materials_df = pd.DataFrame(index=house_materials_index, columns=villages, data=[house_materials_general])\n",
    "#print house_materials_df\n",
    "\n",
    "create_graphs_HoHH(lambda x: pd.crosstab(x.village, x.house_material),\n",
    "                 lambda x: x.sum().values,\n",
    "                 lambda x: x.columns.values,\n",
    "                   lambda x: x.sum().sum(),\n",
    "                 \"House materials\")\n",
    "\n",
    "create_pie_graph(reg_survey.groupby('house_material').size(), \"House materials\")\n",
    "\n",
    "fig_house_materials2 = {\n",
    "    \"layout\": {\n",
    "        \"title\": {\n",
    "            \"font\": {\n",
    "                    \"size\": 20\n",
    "            },\n",
    "            \"text\": \"House materials\"\n",
    "        }\n",
    "    },\n",
    "    \"data\": []\n",
    "}\n",
    "\n",
    "house_materials_df = pd.crosstab(reg_survey.village, reg_survey.house_material)\n",
    "#print range(len(villages_dict['en'].keys())-1)\n",
    "#print house_materials_df\n",
    "for i in range(len(villages_dict['en'].keys())):\n",
    "    x = .2*(i%5)\n",
    "    y = 0.35*(i/5)\n",
    "    fig_house_materials2['data'].append(\n",
    "        {\n",
    "\n",
    "            \"values\": house_materials_df.iloc[i-1].values,\n",
    "            \"labels\": house_materials_df.columns.values,\n",
    "             \"domain\": {\n",
    "                \"x\": [x, x+.18],\n",
    "                 \"y\": [y, y+.3]\n",
    "            },\n",
    "            \"type\": \"pie\",\n",
    "            \"sort\": False\n",
    "        })\n",
    "\n",
    "iplot(fig_house_materials2)"
   ]
  },
  {
   "cell_type": "markdown",
   "metadata": {},
   "source": [
    "###  Mean Household size"
   ]
  },
  {
   "cell_type": "code",
   "execution_count": 20,
   "metadata": {},
   "outputs": [
    {
     "name": "stdout",
     "output_type": "stream",
     "text": [
      "5.67938931298 persons per household\n"
     ]
    }
   ],
   "source": [
    "mean_hh_size = reg_survey.family_total.mean()\n",
    "print str(mean_hh_size) + \" persons per household\""
   ]
  },
  {
   "cell_type": "markdown",
   "metadata": {},
   "source": [
    "## Climate change awareness"
   ]
  },
  {
   "cell_type": "code",
   "execution_count": 21,
   "metadata": {},
   "outputs": [
    {
     "data": {
      "application/vnd.plotly.v1+json": {
       "data": [
        {
         "domain": {
          "x": [
           0,
           0.32
          ]
         },
         "labels": [
          "no",
          "yes"
         ],
         "sort": false,
         "type": "pie",
         "values": [
          92,
          251
         ]
        },
        {
         "domain": {
          "x": [
           0.34,
           0.64
          ]
         },
         "labels": [
          "no",
          "yes"
         ],
         "sort": false,
         "type": "pie",
         "values": [
          120,
          402
         ]
        },
        {
         "domain": {
          "x": [
           0.66,
           0.98
          ]
         },
         "labels": [
          "no",
          "yes"
         ],
         "sort": false,
         "type": "pie",
         "values": [
          28,
          151
         ]
        }
       ],
       "layout": {
        "annotations": [
         {
          "font": {
           "size": 14
          },
          "showarrow": false,
          "text": "Female Respondent",
          "x": 0.07,
          "y": 1
         },
         {
          "font": {
           "size": 14
          },
          "showarrow": false,
          "text": "Global",
          "x": 0.5,
          "y": 1
         },
         {
          "font": {
           "size": 14
          },
          "showarrow": false,
          "text": "Male Respondent",
          "x": 0.91,
          "y": 1
         }
        ],
        "title": "Households declaring CC knowledge"
       }
      },
      "text/html": [
       "<div id=\"cfa0cc01-354e-494a-b842-fbd781cd63e6\" style=\"height: 525px; width: 100%;\" class=\"plotly-graph-div\"></div><script type=\"text/javascript\">require([\"plotly\"], function(Plotly) { window.PLOTLYENV=window.PLOTLYENV || {};window.PLOTLYENV.BASE_URL=\"https://plot.ly\";Plotly.newPlot(\"cfa0cc01-354e-494a-b842-fbd781cd63e6\", [{\"sort\": false, \"values\": [92, 251], \"domain\": {\"x\": [0, 0.32]}, \"labels\": [\"no\", \"yes\"], \"type\": \"pie\"}, {\"sort\": false, \"values\": [120, 402], \"domain\": {\"x\": [0.34, 0.64]}, \"labels\": [\"no\", \"yes\"], \"type\": \"pie\"}, {\"sort\": false, \"values\": [28, 151], \"domain\": {\"x\": [0.66, 0.98]}, \"labels\": [\"no\", \"yes\"], \"type\": \"pie\"}], {\"annotations\": [{\"y\": 1, \"text\": \"Female Respondent\", \"font\": {\"size\": 14}, \"showarrow\": false, \"x\": 0.07}, {\"y\": 1, \"text\": \"Global\", \"font\": {\"size\": 14}, \"showarrow\": false, \"x\": 0.5}, {\"y\": 1, \"text\": \"Male Respondent\", \"font\": {\"size\": 14}, \"showarrow\": false, \"x\": 0.91}], \"title\": \"Households declaring CC knowledge\"}, {\"linkText\": \"Export to plot.ly\", \"showLink\": true})});</script>"
      ],
      "text/vnd.plotly.v1+html": [
       "<div id=\"cfa0cc01-354e-494a-b842-fbd781cd63e6\" style=\"height: 525px; width: 100%;\" class=\"plotly-graph-div\"></div><script type=\"text/javascript\">require([\"plotly\"], function(Plotly) { window.PLOTLYENV=window.PLOTLYENV || {};window.PLOTLYENV.BASE_URL=\"https://plot.ly\";Plotly.newPlot(\"cfa0cc01-354e-494a-b842-fbd781cd63e6\", [{\"sort\": false, \"values\": [92, 251], \"domain\": {\"x\": [0, 0.32]}, \"labels\": [\"no\", \"yes\"], \"type\": \"pie\"}, {\"sort\": false, \"values\": [120, 402], \"domain\": {\"x\": [0.34, 0.64]}, \"labels\": [\"no\", \"yes\"], \"type\": \"pie\"}, {\"sort\": false, \"values\": [28, 151], \"domain\": {\"x\": [0.66, 0.98]}, \"labels\": [\"no\", \"yes\"], \"type\": \"pie\"}], {\"annotations\": [{\"y\": 1, \"text\": \"Female Respondent\", \"font\": {\"size\": 14}, \"showarrow\": false, \"x\": 0.07}, {\"y\": 1, \"text\": \"Global\", \"font\": {\"size\": 14}, \"showarrow\": false, \"x\": 0.5}, {\"y\": 1, \"text\": \"Male Respondent\", \"font\": {\"size\": 14}, \"showarrow\": false, \"x\": 0.91}], \"title\": \"Households declaring CC knowledge\"}, {\"linkText\": \"Export to plot.ly\", \"showLink\": true})});</script>"
      ]
     },
     "metadata": {},
     "output_type": "display_data"
    }
   ],
   "source": [
    "create_graphs_respondent(lambda x: x.groupby('cc_knowledge').size(),\n",
    "                         lambda x: x.values,\n",
    "                         lambda x: x.index.values,\n",
    "                         lambda x: x.sum(),\n",
    "                         \"Households declaring CC knowledge\")"
   ]
  },
  {
   "cell_type": "code",
   "execution_count": 22,
   "metadata": {},
   "outputs": [
    {
     "data": {
      "application/vnd.plotly.v1+json": {
       "data": [
        {
         "domain": {
          "x": [
           0,
           0.32
          ]
         },
         "labels": [
          "no",
          "no_answer",
          "yes"
         ],
         "sort": false,
         "type": "pie",
         "values": [
          265,
          12,
          62
         ]
        },
        {
         "domain": {
          "x": [
           0.34,
           0.64
          ]
         },
         "labels": [
          "no",
          "no_answer",
          "yes"
         ],
         "sort": false,
         "type": "pie",
         "values": [
          427,
          15,
          72
         ]
        },
        {
         "domain": {
          "x": [
           0.66,
           0.98
          ]
         },
         "labels": [
          "no",
          "no_answer",
          "yes"
         ],
         "sort": false,
         "type": "pie",
         "values": [
          162,
          3,
          10
         ]
        }
       ],
       "layout": {
        "annotations": [
         {
          "font": {
           "size": 14
          },
          "showarrow": false,
          "text": "Female Respondent",
          "x": 0.07,
          "y": 1
         },
         {
          "font": {
           "size": 14
          },
          "showarrow": false,
          "text": "Global",
          "x": 0.5,
          "y": 1
         },
         {
          "font": {
           "size": 14
          },
          "showarrow": false,
          "text": "Male Respondent",
          "x": 0.91,
          "y": 1
         }
        ],
        "title": "Households declaring taking actions against CC"
       }
      },
      "text/html": [
       "<div id=\"4e085674-4baa-4a11-ad8b-c8397c6eec1a\" style=\"height: 525px; width: 100%;\" class=\"plotly-graph-div\"></div><script type=\"text/javascript\">require([\"plotly\"], function(Plotly) { window.PLOTLYENV=window.PLOTLYENV || {};window.PLOTLYENV.BASE_URL=\"https://plot.ly\";Plotly.newPlot(\"4e085674-4baa-4a11-ad8b-c8397c6eec1a\", [{\"sort\": false, \"values\": [265, 12, 62], \"domain\": {\"x\": [0, 0.32]}, \"labels\": [\"no\", \"no_answer\", \"yes\"], \"type\": \"pie\"}, {\"sort\": false, \"values\": [427, 15, 72], \"domain\": {\"x\": [0.34, 0.64]}, \"labels\": [\"no\", \"no_answer\", \"yes\"], \"type\": \"pie\"}, {\"sort\": false, \"values\": [162, 3, 10], \"domain\": {\"x\": [0.66, 0.98]}, \"labels\": [\"no\", \"no_answer\", \"yes\"], \"type\": \"pie\"}], {\"annotations\": [{\"y\": 1, \"text\": \"Female Respondent\", \"font\": {\"size\": 14}, \"showarrow\": false, \"x\": 0.07}, {\"y\": 1, \"text\": \"Global\", \"font\": {\"size\": 14}, \"showarrow\": false, \"x\": 0.5}, {\"y\": 1, \"text\": \"Male Respondent\", \"font\": {\"size\": 14}, \"showarrow\": false, \"x\": 0.91}], \"title\": \"Households declaring taking actions against CC\"}, {\"linkText\": \"Export to plot.ly\", \"showLink\": true})});</script>"
      ],
      "text/vnd.plotly.v1+html": [
       "<div id=\"4e085674-4baa-4a11-ad8b-c8397c6eec1a\" style=\"height: 525px; width: 100%;\" class=\"plotly-graph-div\"></div><script type=\"text/javascript\">require([\"plotly\"], function(Plotly) { window.PLOTLYENV=window.PLOTLYENV || {};window.PLOTLYENV.BASE_URL=\"https://plot.ly\";Plotly.newPlot(\"4e085674-4baa-4a11-ad8b-c8397c6eec1a\", [{\"sort\": false, \"values\": [265, 12, 62], \"domain\": {\"x\": [0, 0.32]}, \"labels\": [\"no\", \"no_answer\", \"yes\"], \"type\": \"pie\"}, {\"sort\": false, \"values\": [427, 15, 72], \"domain\": {\"x\": [0.34, 0.64]}, \"labels\": [\"no\", \"no_answer\", \"yes\"], \"type\": \"pie\"}, {\"sort\": false, \"values\": [162, 3, 10], \"domain\": {\"x\": [0.66, 0.98]}, \"labels\": [\"no\", \"no_answer\", \"yes\"], \"type\": \"pie\"}], {\"annotations\": [{\"y\": 1, \"text\": \"Female Respondent\", \"font\": {\"size\": 14}, \"showarrow\": false, \"x\": 0.07}, {\"y\": 1, \"text\": \"Global\", \"font\": {\"size\": 14}, \"showarrow\": false, \"x\": 0.5}, {\"y\": 1, \"text\": \"Male Respondent\", \"font\": {\"size\": 14}, \"showarrow\": false, \"x\": 0.91}], \"title\": \"Households declaring taking actions against CC\"}, {\"linkText\": \"Export to plot.ly\", \"showLink\": true})});</script>"
      ]
     },
     "metadata": {},
     "output_type": "display_data"
    }
   ],
   "source": [
    "create_graphs_respondent(lambda x: x.groupby('taking_action_cc').size(),\n",
    "                         lambda x: x.values,\n",
    "                         lambda x: x.index.values,\n",
    "                         lambda x: x.sum(),\n",
    "                         \"Households declaring taking actions against CC\")"
   ]
  },
  {
   "cell_type": "markdown",
   "metadata": {},
   "source": [
    "#### EWS awareness"
   ]
  },
  {
   "cell_type": "code",
   "execution_count": 23,
   "metadata": {},
   "outputs": [
    {
     "data": {
      "application/vnd.plotly.v1+json": {
       "data": [
        {
         "domain": {
          "x": [
           0,
           0.32
          ]
         },
         "labels": [
          "no",
          "yes"
         ],
         "sort": false,
         "type": "pie",
         "values": [
          281,
          64
         ]
        },
        {
         "domain": {
          "x": [
           0.34,
           0.64
          ]
         },
         "labels": [
          "no",
          "yes"
         ],
         "sort": false,
         "type": "pie",
         "values": [
          439,
          84
         ]
        },
        {
         "domain": {
          "x": [
           0.66,
           0.98
          ]
         },
         "labels": [
          "no",
          "yes"
         ],
         "sort": false,
         "type": "pie",
         "values": [
          158,
          20
         ]
        }
       ],
       "layout": {
        "annotations": [
         {
          "font": {
           "size": 14
          },
          "showarrow": false,
          "text": "Female Respondent",
          "x": 0.07,
          "y": 1
         },
         {
          "font": {
           "size": 14
          },
          "showarrow": false,
          "text": "Global",
          "x": 0.5,
          "y": 1
         },
         {
          "font": {
           "size": 14
          },
          "showarrow": false,
          "text": "Male Respondent",
          "x": 0.91,
          "y": 1
         }
        ],
        "title": "Households declaring EWS knowledge"
       }
      },
      "text/html": [
       "<div id=\"6edfaa0d-d3ef-4c74-a2e3-7f26bd2142ab\" style=\"height: 525px; width: 100%;\" class=\"plotly-graph-div\"></div><script type=\"text/javascript\">require([\"plotly\"], function(Plotly) { window.PLOTLYENV=window.PLOTLYENV || {};window.PLOTLYENV.BASE_URL=\"https://plot.ly\";Plotly.newPlot(\"6edfaa0d-d3ef-4c74-a2e3-7f26bd2142ab\", [{\"sort\": false, \"values\": [281, 64], \"domain\": {\"x\": [0, 0.32]}, \"labels\": [\"no\", \"yes\"], \"type\": \"pie\"}, {\"sort\": false, \"values\": [439, 84], \"domain\": {\"x\": [0.34, 0.64]}, \"labels\": [\"no\", \"yes\"], \"type\": \"pie\"}, {\"sort\": false, \"values\": [158, 20], \"domain\": {\"x\": [0.66, 0.98]}, \"labels\": [\"no\", \"yes\"], \"type\": \"pie\"}], {\"annotations\": [{\"y\": 1, \"text\": \"Female Respondent\", \"font\": {\"size\": 14}, \"showarrow\": false, \"x\": 0.07}, {\"y\": 1, \"text\": \"Global\", \"font\": {\"size\": 14}, \"showarrow\": false, \"x\": 0.5}, {\"y\": 1, \"text\": \"Male Respondent\", \"font\": {\"size\": 14}, \"showarrow\": false, \"x\": 0.91}], \"title\": \"Households declaring EWS knowledge\"}, {\"linkText\": \"Export to plot.ly\", \"showLink\": true})});</script>"
      ],
      "text/vnd.plotly.v1+html": [
       "<div id=\"6edfaa0d-d3ef-4c74-a2e3-7f26bd2142ab\" style=\"height: 525px; width: 100%;\" class=\"plotly-graph-div\"></div><script type=\"text/javascript\">require([\"plotly\"], function(Plotly) { window.PLOTLYENV=window.PLOTLYENV || {};window.PLOTLYENV.BASE_URL=\"https://plot.ly\";Plotly.newPlot(\"6edfaa0d-d3ef-4c74-a2e3-7f26bd2142ab\", [{\"sort\": false, \"values\": [281, 64], \"domain\": {\"x\": [0, 0.32]}, \"labels\": [\"no\", \"yes\"], \"type\": \"pie\"}, {\"sort\": false, \"values\": [439, 84], \"domain\": {\"x\": [0.34, 0.64]}, \"labels\": [\"no\", \"yes\"], \"type\": \"pie\"}, {\"sort\": false, \"values\": [158, 20], \"domain\": {\"x\": [0.66, 0.98]}, \"labels\": [\"no\", \"yes\"], \"type\": \"pie\"}], {\"annotations\": [{\"y\": 1, \"text\": \"Female Respondent\", \"font\": {\"size\": 14}, \"showarrow\": false, \"x\": 0.07}, {\"y\": 1, \"text\": \"Global\", \"font\": {\"size\": 14}, \"showarrow\": false, \"x\": 0.5}, {\"y\": 1, \"text\": \"Male Respondent\", \"font\": {\"size\": 14}, \"showarrow\": false, \"x\": 0.91}], \"title\": \"Households declaring EWS knowledge\"}, {\"linkText\": \"Export to plot.ly\", \"showLink\": true})});</script>"
      ]
     },
     "metadata": {},
     "output_type": "display_data"
    }
   ],
   "source": [
    "create_graphs_respondent(lambda x: x.groupby('ews_knowledge').size(),\n",
    "                         lambda x: x.values,\n",
    "                         lambda x: x.index.values,\n",
    "                         lambda x: x.sum(),\n",
    "                         \"Households declaring EWS knowledge\")"
   ]
  },
  {
   "cell_type": "code",
   "execution_count": 24,
   "metadata": {},
   "outputs": [
    {
     "data": {
      "application/vnd.plotly.v1+json": {
       "data": [
        {
         "domain": {
          "x": [
           0,
           0.32
          ]
         },
         "labels": [
          "do_not_use",
          "do_not_use not_react",
          "no_answer",
          "not_react",
          "protection"
         ],
         "sort": false,
         "type": "pie",
         "values": [
          51,
          1,
          225,
          16,
          52
         ]
        },
        {
         "domain": {
          "x": [
           0.34,
           0.64
          ]
         },
         "labels": [
          "adaptation",
          "do_not_use",
          "do_not_use not_react",
          "no_answer",
          "not_react",
          "protection"
         ],
         "sort": false,
         "type": "pie",
         "values": [
          4,
          109,
          1,
          341,
          17,
          52
         ]
        },
        {
         "domain": {
          "x": [
           0.66,
           0.98
          ]
         },
         "labels": [
          "adaptation",
          "do_not_use",
          "no_answer",
          "not_react"
         ],
         "sort": false,
         "type": "pie",
         "values": [
          4,
          58,
          116,
          1
         ]
        }
       ],
       "layout": {
        "annotations": [
         {
          "font": {
           "size": 14
          },
          "showarrow": false,
          "text": "Female Respondent",
          "x": 0.07,
          "y": 1
         },
         {
          "font": {
           "size": 14
          },
          "showarrow": false,
          "text": "Global",
          "x": 0.5,
          "y": 1
         },
         {
          "font": {
           "size": 14
          },
          "showarrow": false,
          "text": "Male Respondent",
          "x": 0.91,
          "y": 1
         }
        ],
        "title": "Households using EWS information"
       }
      },
      "text/html": [
       "<div id=\"29124901-78fb-4c0c-8062-aef2d8cd21eb\" style=\"height: 525px; width: 100%;\" class=\"plotly-graph-div\"></div><script type=\"text/javascript\">require([\"plotly\"], function(Plotly) { window.PLOTLYENV=window.PLOTLYENV || {};window.PLOTLYENV.BASE_URL=\"https://plot.ly\";Plotly.newPlot(\"29124901-78fb-4c0c-8062-aef2d8cd21eb\", [{\"sort\": false, \"values\": [51, 1, 225, 16, 52], \"domain\": {\"x\": [0, 0.32]}, \"labels\": [\"do_not_use\", \"do_not_use not_react\", \"no_answer\", \"not_react\", \"protection\"], \"type\": \"pie\"}, {\"sort\": false, \"values\": [4, 109, 1, 341, 17, 52], \"domain\": {\"x\": [0.34, 0.64]}, \"labels\": [\"adaptation\", \"do_not_use\", \"do_not_use not_react\", \"no_answer\", \"not_react\", \"protection\"], \"type\": \"pie\"}, {\"sort\": false, \"values\": [4, 58, 116, 1], \"domain\": {\"x\": [0.66, 0.98]}, \"labels\": [\"adaptation\", \"do_not_use\", \"no_answer\", \"not_react\"], \"type\": \"pie\"}], {\"annotations\": [{\"y\": 1, \"text\": \"Female Respondent\", \"font\": {\"size\": 14}, \"showarrow\": false, \"x\": 0.07}, {\"y\": 1, \"text\": \"Global\", \"font\": {\"size\": 14}, \"showarrow\": false, \"x\": 0.5}, {\"y\": 1, \"text\": \"Male Respondent\", \"font\": {\"size\": 14}, \"showarrow\": false, \"x\": 0.91}], \"title\": \"Households using EWS information\"}, {\"linkText\": \"Export to plot.ly\", \"showLink\": true})});</script>"
      ],
      "text/vnd.plotly.v1+html": [
       "<div id=\"29124901-78fb-4c0c-8062-aef2d8cd21eb\" style=\"height: 525px; width: 100%;\" class=\"plotly-graph-div\"></div><script type=\"text/javascript\">require([\"plotly\"], function(Plotly) { window.PLOTLYENV=window.PLOTLYENV || {};window.PLOTLYENV.BASE_URL=\"https://plot.ly\";Plotly.newPlot(\"29124901-78fb-4c0c-8062-aef2d8cd21eb\", [{\"sort\": false, \"values\": [51, 1, 225, 16, 52], \"domain\": {\"x\": [0, 0.32]}, \"labels\": [\"do_not_use\", \"do_not_use not_react\", \"no_answer\", \"not_react\", \"protection\"], \"type\": \"pie\"}, {\"sort\": false, \"values\": [4, 109, 1, 341, 17, 52], \"domain\": {\"x\": [0.34, 0.64]}, \"labels\": [\"adaptation\", \"do_not_use\", \"do_not_use not_react\", \"no_answer\", \"not_react\", \"protection\"], \"type\": \"pie\"}, {\"sort\": false, \"values\": [4, 58, 116, 1], \"domain\": {\"x\": [0.66, 0.98]}, \"labels\": [\"adaptation\", \"do_not_use\", \"no_answer\", \"not_react\"], \"type\": \"pie\"}], {\"annotations\": [{\"y\": 1, \"text\": \"Female Respondent\", \"font\": {\"size\": 14}, \"showarrow\": false, \"x\": 0.07}, {\"y\": 1, \"text\": \"Global\", \"font\": {\"size\": 14}, \"showarrow\": false, \"x\": 0.5}, {\"y\": 1, \"text\": \"Male Respondent\", \"font\": {\"size\": 14}, \"showarrow\": false, \"x\": 0.91}], \"title\": \"Households using EWS information\"}, {\"linkText\": \"Export to plot.ly\", \"showLink\": true})});</script>"
      ]
     },
     "metadata": {},
     "output_type": "display_data"
    }
   ],
   "source": [
    "create_graphs_respondent(lambda x: x.groupby('use_ews').size(),\n",
    "                         lambda x: x.values,\n",
    "                         lambda x: x.index.values,\n",
    "                         lambda x: x.sum(),\n",
    "                         \"Households using EWS information\")"
   ]
  },
  {
   "cell_type": "markdown",
   "metadata": {},
   "source": [
    "#### Renewable energy awareness"
   ]
  },
  {
   "cell_type": "code",
   "execution_count": 25,
   "metadata": {},
   "outputs": [
    {
     "data": {
      "application/vnd.plotly.v1+json": {
       "data": [
        {
         "domain": {
          "x": [
           0,
           0.32
          ]
         },
         "labels": [
          "no",
          "no_answer",
          "yes"
         ],
         "sort": false,
         "type": "pie",
         "values": [
          268,
          1,
          76
         ]
        },
        {
         "domain": {
          "x": [
           0.34,
           0.64
          ]
         },
         "labels": [
          "no",
          "no_answer",
          "yes"
         ],
         "sort": false,
         "type": "pie",
         "values": [
          415,
          2,
          107
         ]
        },
        {
         "domain": {
          "x": [
           0.66,
           0.98
          ]
         },
         "labels": [
          "no",
          "no_answer",
          "yes"
         ],
         "sort": false,
         "type": "pie",
         "values": [
          147,
          1,
          31
         ]
        }
       ],
       "layout": {
        "annotations": [
         {
          "font": {
           "size": 14
          },
          "showarrow": false,
          "text": "Female Respondent",
          "x": 0.07,
          "y": 1
         },
         {
          "font": {
           "size": 14
          },
          "showarrow": false,
          "text": "Global",
          "x": 0.5,
          "y": 1
         },
         {
          "font": {
           "size": 14
          },
          "showarrow": false,
          "text": "Male Respondent",
          "x": 0.91,
          "y": 1
         }
        ],
        "title": "Households declaring renewable energies knowledge"
       }
      },
      "text/html": [
       "<div id=\"ad29c9ce-f7af-4298-9932-e5cd89d534b9\" style=\"height: 525px; width: 100%;\" class=\"plotly-graph-div\"></div><script type=\"text/javascript\">require([\"plotly\"], function(Plotly) { window.PLOTLYENV=window.PLOTLYENV || {};window.PLOTLYENV.BASE_URL=\"https://plot.ly\";Plotly.newPlot(\"ad29c9ce-f7af-4298-9932-e5cd89d534b9\", [{\"sort\": false, \"values\": [268, 1, 76], \"domain\": {\"x\": [0, 0.32]}, \"labels\": [\"no\", \"no_answer\", \"yes\"], \"type\": \"pie\"}, {\"sort\": false, \"values\": [415, 2, 107], \"domain\": {\"x\": [0.34, 0.64]}, \"labels\": [\"no\", \"no_answer\", \"yes\"], \"type\": \"pie\"}, {\"sort\": false, \"values\": [147, 1, 31], \"domain\": {\"x\": [0.66, 0.98]}, \"labels\": [\"no\", \"no_answer\", \"yes\"], \"type\": \"pie\"}], {\"annotations\": [{\"y\": 1, \"text\": \"Female Respondent\", \"font\": {\"size\": 14}, \"showarrow\": false, \"x\": 0.07}, {\"y\": 1, \"text\": \"Global\", \"font\": {\"size\": 14}, \"showarrow\": false, \"x\": 0.5}, {\"y\": 1, \"text\": \"Male Respondent\", \"font\": {\"size\": 14}, \"showarrow\": false, \"x\": 0.91}], \"title\": \"Households declaring renewable energies knowledge\"}, {\"linkText\": \"Export to plot.ly\", \"showLink\": true})});</script>"
      ],
      "text/vnd.plotly.v1+html": [
       "<div id=\"ad29c9ce-f7af-4298-9932-e5cd89d534b9\" style=\"height: 525px; width: 100%;\" class=\"plotly-graph-div\"></div><script type=\"text/javascript\">require([\"plotly\"], function(Plotly) { window.PLOTLYENV=window.PLOTLYENV || {};window.PLOTLYENV.BASE_URL=\"https://plot.ly\";Plotly.newPlot(\"ad29c9ce-f7af-4298-9932-e5cd89d534b9\", [{\"sort\": false, \"values\": [268, 1, 76], \"domain\": {\"x\": [0, 0.32]}, \"labels\": [\"no\", \"no_answer\", \"yes\"], \"type\": \"pie\"}, {\"sort\": false, \"values\": [415, 2, 107], \"domain\": {\"x\": [0.34, 0.64]}, \"labels\": [\"no\", \"no_answer\", \"yes\"], \"type\": \"pie\"}, {\"sort\": false, \"values\": [147, 1, 31], \"domain\": {\"x\": [0.66, 0.98]}, \"labels\": [\"no\", \"no_answer\", \"yes\"], \"type\": \"pie\"}], {\"annotations\": [{\"y\": 1, \"text\": \"Female Respondent\", \"font\": {\"size\": 14}, \"showarrow\": false, \"x\": 0.07}, {\"y\": 1, \"text\": \"Global\", \"font\": {\"size\": 14}, \"showarrow\": false, \"x\": 0.5}, {\"y\": 1, \"text\": \"Male Respondent\", \"font\": {\"size\": 14}, \"showarrow\": false, \"x\": 0.91}], \"title\": \"Households declaring renewable energies knowledge\"}, {\"linkText\": \"Export to plot.ly\", \"showLink\": true})});</script>"
      ]
     },
     "metadata": {},
     "output_type": "display_data"
    }
   ],
   "source": [
    "create_graphs_respondent(lambda x: x.groupby('renewable_knowledge').size(),\n",
    "                         lambda x: x.values,\n",
    "                         lambda x: x.index.values,\n",
    "                         lambda x: x.sum(),\n",
    "                         \"Households declaring renewable energies knowledge\")"
   ]
  },
  {
   "cell_type": "code",
   "execution_count": 26,
   "metadata": {},
   "outputs": [
    {
     "data": {
      "application/vnd.plotly.v1+json": {
       "data": [
        {
         "domain": {
          "x": [
           0,
           0.32
          ]
         },
         "labels": [
          "electricity",
          "no",
          "no_answer"
         ],
         "sort": false,
         "type": "pie",
         "values": [
          4,
          316,
          25
         ]
        },
        {
         "domain": {
          "x": [
           0.34,
           0.64
          ]
         },
         "labels": [
          "electricity",
          "no",
          "no_answer"
         ],
         "sort": false,
         "type": "pie",
         "values": [
          7,
          465,
          52
         ]
        },
        {
         "domain": {
          "x": [
           0.66,
           0.98
          ]
         },
         "labels": [
          "electricity",
          "no",
          "no_answer"
         ],
         "sort": false,
         "type": "pie",
         "values": [
          3,
          149,
          27
         ]
        }
       ],
       "layout": {
        "annotations": [
         {
          "font": {
           "size": 14
          },
          "showarrow": false,
          "text": "Female Respondent",
          "x": 0.07,
          "y": 1
         },
         {
          "font": {
           "size": 14
          },
          "showarrow": false,
          "text": "Global",
          "x": 0.5,
          "y": 1
         },
         {
          "font": {
           "size": 14
          },
          "showarrow": false,
          "text": "Male Respondent",
          "x": 0.91,
          "y": 1
         }
        ],
        "title": "Households using solar energies"
       }
      },
      "text/html": [
       "<div id=\"3c1fddd0-bf91-4154-a1d5-d25f8644df7c\" style=\"height: 525px; width: 100%;\" class=\"plotly-graph-div\"></div><script type=\"text/javascript\">require([\"plotly\"], function(Plotly) { window.PLOTLYENV=window.PLOTLYENV || {};window.PLOTLYENV.BASE_URL=\"https://plot.ly\";Plotly.newPlot(\"3c1fddd0-bf91-4154-a1d5-d25f8644df7c\", [{\"sort\": false, \"values\": [4, 316, 25], \"domain\": {\"x\": [0, 0.32]}, \"labels\": [\"electricity\", \"no\", \"no_answer\"], \"type\": \"pie\"}, {\"sort\": false, \"values\": [7, 465, 52], \"domain\": {\"x\": [0.34, 0.64]}, \"labels\": [\"electricity\", \"no\", \"no_answer\"], \"type\": \"pie\"}, {\"sort\": false, \"values\": [3, 149, 27], \"domain\": {\"x\": [0.66, 0.98]}, \"labels\": [\"electricity\", \"no\", \"no_answer\"], \"type\": \"pie\"}], {\"annotations\": [{\"y\": 1, \"text\": \"Female Respondent\", \"font\": {\"size\": 14}, \"showarrow\": false, \"x\": 0.07}, {\"y\": 1, \"text\": \"Global\", \"font\": {\"size\": 14}, \"showarrow\": false, \"x\": 0.5}, {\"y\": 1, \"text\": \"Male Respondent\", \"font\": {\"size\": 14}, \"showarrow\": false, \"x\": 0.91}], \"title\": \"Households using solar energies\"}, {\"linkText\": \"Export to plot.ly\", \"showLink\": true})});</script>"
      ],
      "text/vnd.plotly.v1+html": [
       "<div id=\"3c1fddd0-bf91-4154-a1d5-d25f8644df7c\" style=\"height: 525px; width: 100%;\" class=\"plotly-graph-div\"></div><script type=\"text/javascript\">require([\"plotly\"], function(Plotly) { window.PLOTLYENV=window.PLOTLYENV || {};window.PLOTLYENV.BASE_URL=\"https://plot.ly\";Plotly.newPlot(\"3c1fddd0-bf91-4154-a1d5-d25f8644df7c\", [{\"sort\": false, \"values\": [4, 316, 25], \"domain\": {\"x\": [0, 0.32]}, \"labels\": [\"electricity\", \"no\", \"no_answer\"], \"type\": \"pie\"}, {\"sort\": false, \"values\": [7, 465, 52], \"domain\": {\"x\": [0.34, 0.64]}, \"labels\": [\"electricity\", \"no\", \"no_answer\"], \"type\": \"pie\"}, {\"sort\": false, \"values\": [3, 149, 27], \"domain\": {\"x\": [0.66, 0.98]}, \"labels\": [\"electricity\", \"no\", \"no_answer\"], \"type\": \"pie\"}], {\"annotations\": [{\"y\": 1, \"text\": \"Female Respondent\", \"font\": {\"size\": 14}, \"showarrow\": false, \"x\": 0.07}, {\"y\": 1, \"text\": \"Global\", \"font\": {\"size\": 14}, \"showarrow\": false, \"x\": 0.5}, {\"y\": 1, \"text\": \"Male Respondent\", \"font\": {\"size\": 14}, \"showarrow\": false, \"x\": 0.91}], \"title\": \"Households using solar energies\"}, {\"linkText\": \"Export to plot.ly\", \"showLink\": true})});</script>"
      ]
     },
     "metadata": {},
     "output_type": "display_data"
    }
   ],
   "source": [
    "create_graphs_respondent(lambda x: x.groupby('solar_energy').size(),\n",
    "                         lambda x: x.values,\n",
    "                         lambda x: x.index.values,\n",
    "                         lambda x: x.sum(),\n",
    "                         \"Households using solar energies\")"
   ]
  },
  {
   "cell_type": "markdown",
   "metadata": {},
   "source": [
    "#### Cooking facilities"
   ]
  },
  {
   "cell_type": "code",
   "execution_count": 27,
   "metadata": {},
   "outputs": [
    {
     "data": {
      "application/vnd.plotly.v1+json": {
       "data": [
        {
         "marker": {
          "color": "rgb(225,225,258)",
          "line": {
           "color": "rgb(0,0,192)",
           "width": 1.5
          }
         },
         "name": "Female Head of Household",
         "type": "bar",
         "x": [
          "Gas_heater",
          "Charcoal",
          "Wood",
          "Iron_stove",
          "Improved",
          "No_answer",
          "Other"
         ],
         "y": [
          22.519083969465647,
          15.83969465648855,
          12.022900763358779,
          3.816793893129771,
          1.1450381679389312,
          0.3816793893129771,
          0.19083969465648856
         ]
        },
        {
         "marker": {
          "color": "rgb(258,225,225)",
          "line": {
           "color": "rgb(192,0,0)",
           "width": 1.5
          }
         },
         "name": "Male Head of Household",
         "type": "bar",
         "x": [
          "Gas_heater",
          "Wood",
          "Other",
          "Iron_stove",
          "Charcoal",
          "No_answer",
          "Improved"
         ],
         "y": [
          36.6412213740458,
          30.916030534351144,
          6.870229007633588,
          5.7251908396946565,
          2.099236641221374,
          0.7633587786259542,
          0.3816793893129771
         ]
        }
       ],
       "layout": {
        "annotations": [],
        "barmode": "stack",
        "title": "Cooking techniques",
        "width": 700,
        "xaxis": {
         "tickangle": -45
        }
       }
      },
      "text/html": [
       "<div id=\"116efdf5-b525-4295-bb6d-93d43d92bd9c\" style=\"height: 525px; width: 700px;\" class=\"plotly-graph-div\"></div><script type=\"text/javascript\">require([\"plotly\"], function(Plotly) { window.PLOTLYENV=window.PLOTLYENV || {};window.PLOTLYENV.BASE_URL=\"https://plot.ly\";Plotly.newPlot(\"116efdf5-b525-4295-bb6d-93d43d92bd9c\", [{\"y\": [22.519083969465647, 15.83969465648855, 12.022900763358779, 3.816793893129771, 1.1450381679389312, 0.3816793893129771, 0.19083969465648856], \"x\": [\"Gas_heater\", \"Charcoal\", \"Wood\", \"Iron_stove\", \"Improved\", \"No_answer\", \"Other\"], \"type\": \"bar\", \"name\": \"Female Head of Household\", \"marker\": {\"color\": \"rgb(225,225,258)\", \"line\": {\"color\": \"rgb(0,0,192)\", \"width\": 1.5}}}, {\"y\": [36.6412213740458, 30.916030534351144, 6.870229007633588, 5.7251908396946565, 2.099236641221374, 0.7633587786259542, 0.3816793893129771], \"x\": [\"Gas_heater\", \"Wood\", \"Other\", \"Iron_stove\", \"Charcoal\", \"No_answer\", \"Improved\"], \"type\": \"bar\", \"name\": \"Male Head of Household\", \"marker\": {\"color\": \"rgb(258,225,225)\", \"line\": {\"color\": \"rgb(192,0,0)\", \"width\": 1.5}}}], {\"barmode\": \"stack\", \"title\": \"Cooking techniques\", \"annotations\": [], \"xaxis\": {\"tickangle\": -45}, \"width\": 700}, {\"linkText\": \"Export to plot.ly\", \"showLink\": true})});</script>"
      ],
      "text/vnd.plotly.v1+html": [
       "<div id=\"116efdf5-b525-4295-bb6d-93d43d92bd9c\" style=\"height: 525px; width: 700px;\" class=\"plotly-graph-div\"></div><script type=\"text/javascript\">require([\"plotly\"], function(Plotly) { window.PLOTLYENV=window.PLOTLYENV || {};window.PLOTLYENV.BASE_URL=\"https://plot.ly\";Plotly.newPlot(\"116efdf5-b525-4295-bb6d-93d43d92bd9c\", [{\"y\": [22.519083969465647, 15.83969465648855, 12.022900763358779, 3.816793893129771, 1.1450381679389312, 0.3816793893129771, 0.19083969465648856], \"x\": [\"Gas_heater\", \"Charcoal\", \"Wood\", \"Iron_stove\", \"Improved\", \"No_answer\", \"Other\"], \"type\": \"bar\", \"name\": \"Female Head of Household\", \"marker\": {\"color\": \"rgb(225,225,258)\", \"line\": {\"color\": \"rgb(0,0,192)\", \"width\": 1.5}}}, {\"y\": [36.6412213740458, 30.916030534351144, 6.870229007633588, 5.7251908396946565, 2.099236641221374, 0.7633587786259542, 0.3816793893129771], \"x\": [\"Gas_heater\", \"Wood\", \"Other\", \"Iron_stove\", \"Charcoal\", \"No_answer\", \"Improved\"], \"type\": \"bar\", \"name\": \"Male Head of Household\", \"marker\": {\"color\": \"rgb(258,225,225)\", \"line\": {\"color\": \"rgb(192,0,0)\", \"width\": 1.5}}}], {\"barmode\": \"stack\", \"title\": \"Cooking techniques\", \"annotations\": [], \"xaxis\": {\"tickangle\": -45}, \"width\": 700}, {\"linkText\": \"Export to plot.ly\", \"showLink\": true})});</script>"
      ]
     },
     "metadata": {},
     "output_type": "display_data"
    }
   ],
   "source": [
    "kitchen_type = reg_survey.groupby('kitchen_type').size()\n",
    "kitchen_type_male = get_ocurrences(reg_survey_maleHoHH, 'kitchen_type').sort_values(ascending = False)\n",
    "kitchen_type_female = get_ocurrences(reg_survey_femHoHH, 'kitchen_type').sort_values(ascending = False)\n",
    "kitchen = pd.crosstab(reg_survey.village, reg_survey.kitchen_type)\n",
    "#display(kitchen)\n",
    "\n",
    "kitchen_perc_male = 100*kitchen_type_male/total_surveys\n",
    "kitchen_perc_female = 100*kitchen_type_female/total_surveys\n",
    "kitchen_perc = 100*kitchen_type/total_surveys\n",
    "kitchen_perc = kitchen_perc.round(2)\n",
    "#print kitchen_perc\n",
    "\n",
    "create_stacked_bars_graph((reg_survey_femHoHH, reg_survey_maleHoHH),\n",
    "                              lambda x: 100 * get_ocurrences(x, 'kitchen_type').sort_values(ascending = False) / total_surveys,\n",
    "                              lambda x: map(lambda y: y.capitalize(), x.index.values),\n",
    "                              lambda x: x.values,\n",
    "                              \"Cooking techniques\",\n",
    "                              \"Female Head of Household\",\n",
    "                              \"Male Head of Household\")"
   ]
  },
  {
   "cell_type": "markdown",
   "metadata": {},
   "source": [
    "## Livelihoods\n",
    "\n",
    "Number of households practicing each livelihood"
   ]
  },
  {
   "cell_type": "code",
   "execution_count": 28,
   "metadata": {},
   "outputs": [
    {
     "name": "stdout",
     "output_type": "stream",
     "text": [
      "\n",
      "agriculture    212\n",
      "labour         180\n",
      "other          102\n",
      "livestock       62\n",
      "handicrafts     13\n",
      "garden          12\n",
      "fishing          7\n",
      "none             5\n",
      "forestry         1\n",
      "dtype: int64\n"
     ]
    }
   ],
   "source": [
    "#reg_survey.loc[reg_survey['src_incomes'].str.contains(\"agriculture\"), 'agriculture'] = 'yes'\n",
    "#reg_survey.loc[reg_survey['src_incomes'].str.contains(\"livestock\"), 'livestock'] = 'yes'\n",
    "#reg_survey.loc[reg_survey['src_incomes'].str.contains(\"labour\"), 'labour'] = 'yes'\n",
    "#importance = reg_survey.groupby(['agriculture', 'livestock', 'labour'])['perc_incomes_agri'].agg('mean')\n",
    "\n",
    "#agric = reg_survey[reg_survey['src_incomes'].str.contains(\"agriculture\")]['deviceid'].count()\n",
    "\n",
    "src_incomes_sums = reg_survey.groupby('src_incomes').size()\n",
    "lh_values = get_ocurrences(reg_survey, 'src_incomes')\n",
    "lh_types = pd.DataFrame({\"Households\": lh_values})\n",
    "#lh_types[\"Percentage\"] = lh_types.Households.map(lambda x: str(round(100*x/total_surveys))) + \" %\"\n",
    "\n",
    "print \"\"\n",
    "print lh_values.sort_values(ascending = False)"
   ]
  },
  {
   "cell_type": "code",
   "execution_count": 29,
   "metadata": {
    "scrolled": false
   },
   "outputs": [
    {
     "data": {
      "application/vnd.plotly.v1+json": {
       "data": [
        {
         "marker": {
          "color": "rgb(225,225,258)",
          "line": {
           "color": "rgb(0,0,192)",
           "width": 1.5
          }
         },
         "name": "Female Head of Household",
         "type": "bar",
         "x": [
          "Agriculture",
          "Garden",
          "Livestock",
          "Labour",
          "Forestry",
          "Fishing",
          "Handicrafts",
          "Other",
          "None"
         ],
         "y": [
          14.122137404580153,
          0.7633587786259542,
          3.816793893129771,
          9.732824427480915,
          0.19083969465648856,
          0.5725190839694656,
          0.9541984732824428,
          9.16030534351145,
          0.3816793893129771
         ]
        },
        {
         "marker": {
          "color": "rgb(258,225,225)",
          "line": {
           "color": "rgb(192,0,0)",
           "width": 1.5
          }
         },
         "name": "Male Head of Household",
         "type": "bar",
         "x": [
          "Agriculture",
          "Garden",
          "Livestock",
          "Labour",
          "Fishing",
          "Handicrafts",
          "Other",
          "None"
         ],
         "y": [
          26.33587786259542,
          1.5267175572519085,
          8.01526717557252,
          24.61832061068702,
          0.7633587786259542,
          1.5267175572519085,
          10.305343511450381,
          0.5725190839694656
         ]
        }
       ],
       "layout": {
        "annotations": [],
        "barmode": "stack",
        "title": "Livelihoods Strategies",
        "width": 700,
        "xaxis": {
         "tickangle": -45
        }
       }
      },
      "text/html": [
       "<div id=\"25416221-350c-46b6-8b87-71e3e2024071\" style=\"height: 525px; width: 700px;\" class=\"plotly-graph-div\"></div><script type=\"text/javascript\">require([\"plotly\"], function(Plotly) { window.PLOTLYENV=window.PLOTLYENV || {};window.PLOTLYENV.BASE_URL=\"https://plot.ly\";Plotly.newPlot(\"25416221-350c-46b6-8b87-71e3e2024071\", [{\"y\": [14.122137404580153, 0.7633587786259542, 3.816793893129771, 9.732824427480915, 0.19083969465648856, 0.5725190839694656, 0.9541984732824428, 9.16030534351145, 0.3816793893129771], \"x\": [\"Agriculture\", \"Garden\", \"Livestock\", \"Labour\", \"Forestry\", \"Fishing\", \"Handicrafts\", \"Other\", \"None\"], \"type\": \"bar\", \"name\": \"Female Head of Household\", \"marker\": {\"color\": \"rgb(225,225,258)\", \"line\": {\"color\": \"rgb(0,0,192)\", \"width\": 1.5}}}, {\"y\": [26.33587786259542, 1.5267175572519085, 8.01526717557252, 24.61832061068702, 0.7633587786259542, 1.5267175572519085, 10.305343511450381, 0.5725190839694656], \"x\": [\"Agriculture\", \"Garden\", \"Livestock\", \"Labour\", \"Fishing\", \"Handicrafts\", \"Other\", \"None\"], \"type\": \"bar\", \"name\": \"Male Head of Household\", \"marker\": {\"color\": \"rgb(258,225,225)\", \"line\": {\"color\": \"rgb(192,0,0)\", \"width\": 1.5}}}], {\"barmode\": \"stack\", \"title\": \"Livelihoods Strategies\", \"annotations\": [], \"xaxis\": {\"tickangle\": -45}, \"width\": 700}, {\"linkText\": \"Export to plot.ly\", \"showLink\": true})});</script>"
      ],
      "text/vnd.plotly.v1+html": [
       "<div id=\"25416221-350c-46b6-8b87-71e3e2024071\" style=\"height: 525px; width: 700px;\" class=\"plotly-graph-div\"></div><script type=\"text/javascript\">require([\"plotly\"], function(Plotly) { window.PLOTLYENV=window.PLOTLYENV || {};window.PLOTLYENV.BASE_URL=\"https://plot.ly\";Plotly.newPlot(\"25416221-350c-46b6-8b87-71e3e2024071\", [{\"y\": [14.122137404580153, 0.7633587786259542, 3.816793893129771, 9.732824427480915, 0.19083969465648856, 0.5725190839694656, 0.9541984732824428, 9.16030534351145, 0.3816793893129771], \"x\": [\"Agriculture\", \"Garden\", \"Livestock\", \"Labour\", \"Forestry\", \"Fishing\", \"Handicrafts\", \"Other\", \"None\"], \"type\": \"bar\", \"name\": \"Female Head of Household\", \"marker\": {\"color\": \"rgb(225,225,258)\", \"line\": {\"color\": \"rgb(0,0,192)\", \"width\": 1.5}}}, {\"y\": [26.33587786259542, 1.5267175572519085, 8.01526717557252, 24.61832061068702, 0.7633587786259542, 1.5267175572519085, 10.305343511450381, 0.5725190839694656], \"x\": [\"Agriculture\", \"Garden\", \"Livestock\", \"Labour\", \"Fishing\", \"Handicrafts\", \"Other\", \"None\"], \"type\": \"bar\", \"name\": \"Male Head of Household\", \"marker\": {\"color\": \"rgb(258,225,225)\", \"line\": {\"color\": \"rgb(192,0,0)\", \"width\": 1.5}}}], {\"barmode\": \"stack\", \"title\": \"Livelihoods Strategies\", \"annotations\": [], \"xaxis\": {\"tickangle\": -45}, \"width\": 700}, {\"linkText\": \"Export to plot.ly\", \"showLink\": true})});</script>"
      ]
     },
     "metadata": {},
     "output_type": "display_data"
    },
    {
     "data": {
      "application/vnd.plotly.v1+json": {
       "data": [
        {
         "marker": {
          "color": "rgb(225,225,258)",
          "line": {
           "color": "rgb(0,0,192)",
           "width": 1.5
          }
         },
         "name": "Female respondent",
         "type": "bar",
         "x": [
          "Agriculture",
          "Garden",
          "Livestock",
          "Labour",
          "Forestry",
          "Fishing",
          "Handicrafts",
          "Other",
          "None"
         ],
         "y": [
          23.282442748091604,
          0.9541984732824428,
          8.206106870229007,
          21.564885496183205,
          0.19083969465648856,
          0.3816793893129771,
          1.5267175572519085,
          17.17557251908397,
          0.5725190839694656
         ]
        },
        {
         "marker": {
          "color": "rgb(258,225,225)",
          "line": {
           "color": "rgb(192,0,0)",
           "width": 1.5
          }
         },
         "name": "Male respondent",
         "type": "bar",
         "x": [
          "Agriculture",
          "Garden",
          "Livestock",
          "Labour",
          "Fishing",
          "Handicrafts",
          "None",
          "Other"
         ],
         "y": [
          17.17557251908397,
          1.3358778625954197,
          3.6259541984732824,
          12.786259541984732,
          0.9541984732824428,
          0.9541984732824428,
          0.3816793893129771,
          2.2900763358778624
         ]
        }
       ],
       "layout": {
        "annotations": [],
        "barmode": "stack",
        "title": "Livelihoods Strategies",
        "width": 700,
        "xaxis": {
         "tickangle": -45
        }
       }
      },
      "text/html": [
       "<div id=\"9a444cc5-d0e8-4729-951e-79557bd45878\" style=\"height: 525px; width: 700px;\" class=\"plotly-graph-div\"></div><script type=\"text/javascript\">require([\"plotly\"], function(Plotly) { window.PLOTLYENV=window.PLOTLYENV || {};window.PLOTLYENV.BASE_URL=\"https://plot.ly\";Plotly.newPlot(\"9a444cc5-d0e8-4729-951e-79557bd45878\", [{\"y\": [23.282442748091604, 0.9541984732824428, 8.206106870229007, 21.564885496183205, 0.19083969465648856, 0.3816793893129771, 1.5267175572519085, 17.17557251908397, 0.5725190839694656], \"x\": [\"Agriculture\", \"Garden\", \"Livestock\", \"Labour\", \"Forestry\", \"Fishing\", \"Handicrafts\", \"Other\", \"None\"], \"type\": \"bar\", \"name\": \"Female respondent\", \"marker\": {\"color\": \"rgb(225,225,258)\", \"line\": {\"color\": \"rgb(0,0,192)\", \"width\": 1.5}}}, {\"y\": [17.17557251908397, 1.3358778625954197, 3.6259541984732824, 12.786259541984732, 0.9541984732824428, 0.9541984732824428, 0.3816793893129771, 2.2900763358778624], \"x\": [\"Agriculture\", \"Garden\", \"Livestock\", \"Labour\", \"Fishing\", \"Handicrafts\", \"None\", \"Other\"], \"type\": \"bar\", \"name\": \"Male respondent\", \"marker\": {\"color\": \"rgb(258,225,225)\", \"line\": {\"color\": \"rgb(192,0,0)\", \"width\": 1.5}}}], {\"barmode\": \"stack\", \"title\": \"Livelihoods Strategies\", \"annotations\": [], \"xaxis\": {\"tickangle\": -45}, \"width\": 700}, {\"linkText\": \"Export to plot.ly\", \"showLink\": true})});</script>"
      ],
      "text/vnd.plotly.v1+html": [
       "<div id=\"9a444cc5-d0e8-4729-951e-79557bd45878\" style=\"height: 525px; width: 700px;\" class=\"plotly-graph-div\"></div><script type=\"text/javascript\">require([\"plotly\"], function(Plotly) { window.PLOTLYENV=window.PLOTLYENV || {};window.PLOTLYENV.BASE_URL=\"https://plot.ly\";Plotly.newPlot(\"9a444cc5-d0e8-4729-951e-79557bd45878\", [{\"y\": [23.282442748091604, 0.9541984732824428, 8.206106870229007, 21.564885496183205, 0.19083969465648856, 0.3816793893129771, 1.5267175572519085, 17.17557251908397, 0.5725190839694656], \"x\": [\"Agriculture\", \"Garden\", \"Livestock\", \"Labour\", \"Forestry\", \"Fishing\", \"Handicrafts\", \"Other\", \"None\"], \"type\": \"bar\", \"name\": \"Female respondent\", \"marker\": {\"color\": \"rgb(225,225,258)\", \"line\": {\"color\": \"rgb(0,0,192)\", \"width\": 1.5}}}, {\"y\": [17.17557251908397, 1.3358778625954197, 3.6259541984732824, 12.786259541984732, 0.9541984732824428, 0.9541984732824428, 0.3816793893129771, 2.2900763358778624], \"x\": [\"Agriculture\", \"Garden\", \"Livestock\", \"Labour\", \"Fishing\", \"Handicrafts\", \"None\", \"Other\"], \"type\": \"bar\", \"name\": \"Male respondent\", \"marker\": {\"color\": \"rgb(258,225,225)\", \"line\": {\"color\": \"rgb(192,0,0)\", \"width\": 1.5}}}], {\"barmode\": \"stack\", \"title\": \"Livelihoods Strategies\", \"annotations\": [], \"xaxis\": {\"tickangle\": -45}, \"width\": 700}, {\"linkText\": \"Export to plot.ly\", \"showLink\": true})});</script>"
      ]
     },
     "metadata": {},
     "output_type": "display_data"
    },
    {
     "data": {
      "application/vnd.plotly.v1+json": {
       "data": [
        {
         "marker": {
          "color": "rgb(258,225,225)",
          "line": {
           "color": "rgb(192,0,0)",
           "width": 1.5
          }
         },
         "name": "Livelihoods Strategies",
         "type": "bar",
         "x": [
          "Agriculture",
          "Garden",
          "Livestock",
          "Labour",
          "Forestry",
          "Fishing",
          "Handicrafts",
          "Other",
          "None"
         ],
         "y": [
          40.46,
          2.29,
          11.83,
          34.35,
          0.19,
          1.34,
          2.48,
          19.47,
          0.95
         ]
        }
       ],
       "layout": {
        "annotations": [
         {
          "font": {
           "color": "rgba(100, 0, 0, 1)",
           "family": "Arial",
           "size": 14
          },
          "showarrow": false,
          "text": "40.46%",
          "x": "Agriculture",
          "y": 41.96
         },
         {
          "font": {
           "color": "rgba(100, 0, 0, 1)",
           "family": "Arial",
           "size": 14
          },
          "showarrow": false,
          "text": "2.29%",
          "x": "Garden",
          "y": 3.79
         },
         {
          "font": {
           "color": "rgba(100, 0, 0, 1)",
           "family": "Arial",
           "size": 14
          },
          "showarrow": false,
          "text": "11.83%",
          "x": "Livestock",
          "y": 13.33
         },
         {
          "font": {
           "color": "rgba(100, 0, 0, 1)",
           "family": "Arial",
           "size": 14
          },
          "showarrow": false,
          "text": "34.35%",
          "x": "Labour",
          "y": 35.85
         },
         {
          "font": {
           "color": "rgba(100, 0, 0, 1)",
           "family": "Arial",
           "size": 14
          },
          "showarrow": false,
          "text": "0.19%",
          "x": "Forestry",
          "y": 1.69
         },
         {
          "font": {
           "color": "rgba(100, 0, 0, 1)",
           "family": "Arial",
           "size": 14
          },
          "showarrow": false,
          "text": "1.34%",
          "x": "Fishing",
          "y": 2.84
         },
         {
          "font": {
           "color": "rgba(100, 0, 0, 1)",
           "family": "Arial",
           "size": 14
          },
          "showarrow": false,
          "text": "2.48%",
          "x": "Handicrafts",
          "y": 3.98
         },
         {
          "font": {
           "color": "rgba(100, 0, 0, 1)",
           "family": "Arial",
           "size": 14
          },
          "showarrow": false,
          "text": "19.47%",
          "x": "Other",
          "y": 20.97
         },
         {
          "font": {
           "color": "rgba(100, 0, 0, 1)",
           "family": "Arial",
           "size": 14
          },
          "showarrow": false,
          "text": "0.95%",
          "x": "None",
          "y": 2.45
         }
        ],
        "title": "Livelihoods Strategies",
        "width": 700,
        "xaxis": {
         "tickangle": -45
        }
       }
      },
      "text/html": [
       "<div id=\"c3703185-b2d6-42af-8c36-e6c3525174f7\" style=\"height: 525px; width: 700px;\" class=\"plotly-graph-div\"></div><script type=\"text/javascript\">require([\"plotly\"], function(Plotly) { window.PLOTLYENV=window.PLOTLYENV || {};window.PLOTLYENV.BASE_URL=\"https://plot.ly\";Plotly.newPlot(\"c3703185-b2d6-42af-8c36-e6c3525174f7\", [{\"y\": [40.46, 2.29, 11.83, 34.35, 0.19, 1.34, 2.48, 19.47, 0.95], \"x\": [\"Agriculture\", \"Garden\", \"Livestock\", \"Labour\", \"Forestry\", \"Fishing\", \"Handicrafts\", \"Other\", \"None\"], \"type\": \"bar\", \"name\": \"Livelihoods Strategies\", \"marker\": {\"color\": \"rgb(258,225,225)\", \"line\": {\"color\": \"rgb(192,0,0)\", \"width\": 1.5}}}], {\"width\": 700, \"annotations\": [{\"y\": 41.96, \"x\": \"Agriculture\", \"font\": {\"color\": \"rgba(100, 0, 0, 1)\", \"family\": \"Arial\", \"size\": 14}, \"text\": \"40.46%\", \"showarrow\": false}, {\"y\": 3.79, \"x\": \"Garden\", \"font\": {\"color\": \"rgba(100, 0, 0, 1)\", \"family\": \"Arial\", \"size\": 14}, \"text\": \"2.29%\", \"showarrow\": false}, {\"y\": 13.33, \"x\": \"Livestock\", \"font\": {\"color\": \"rgba(100, 0, 0, 1)\", \"family\": \"Arial\", \"size\": 14}, \"text\": \"11.83%\", \"showarrow\": false}, {\"y\": 35.85, \"x\": \"Labour\", \"font\": {\"color\": \"rgba(100, 0, 0, 1)\", \"family\": \"Arial\", \"size\": 14}, \"text\": \"34.35%\", \"showarrow\": false}, {\"y\": 1.69, \"x\": \"Forestry\", \"font\": {\"color\": \"rgba(100, 0, 0, 1)\", \"family\": \"Arial\", \"size\": 14}, \"text\": \"0.19%\", \"showarrow\": false}, {\"y\": 2.84, \"x\": \"Fishing\", \"font\": {\"color\": \"rgba(100, 0, 0, 1)\", \"family\": \"Arial\", \"size\": 14}, \"text\": \"1.34%\", \"showarrow\": false}, {\"y\": 3.98, \"x\": \"Handicrafts\", \"font\": {\"color\": \"rgba(100, 0, 0, 1)\", \"family\": \"Arial\", \"size\": 14}, \"text\": \"2.48%\", \"showarrow\": false}, {\"y\": 20.97, \"x\": \"Other\", \"font\": {\"color\": \"rgba(100, 0, 0, 1)\", \"family\": \"Arial\", \"size\": 14}, \"text\": \"19.47%\", \"showarrow\": false}, {\"y\": 2.45, \"x\": \"None\", \"font\": {\"color\": \"rgba(100, 0, 0, 1)\", \"family\": \"Arial\", \"size\": 14}, \"text\": \"0.95%\", \"showarrow\": false}], \"xaxis\": {\"tickangle\": -45}, \"title\": \"Livelihoods Strategies\"}, {\"linkText\": \"Export to plot.ly\", \"showLink\": true})});</script>"
      ],
      "text/vnd.plotly.v1+html": [
       "<div id=\"c3703185-b2d6-42af-8c36-e6c3525174f7\" style=\"height: 525px; width: 700px;\" class=\"plotly-graph-div\"></div><script type=\"text/javascript\">require([\"plotly\"], function(Plotly) { window.PLOTLYENV=window.PLOTLYENV || {};window.PLOTLYENV.BASE_URL=\"https://plot.ly\";Plotly.newPlot(\"c3703185-b2d6-42af-8c36-e6c3525174f7\", [{\"y\": [40.46, 2.29, 11.83, 34.35, 0.19, 1.34, 2.48, 19.47, 0.95], \"x\": [\"Agriculture\", \"Garden\", \"Livestock\", \"Labour\", \"Forestry\", \"Fishing\", \"Handicrafts\", \"Other\", \"None\"], \"type\": \"bar\", \"name\": \"Livelihoods Strategies\", \"marker\": {\"color\": \"rgb(258,225,225)\", \"line\": {\"color\": \"rgb(192,0,0)\", \"width\": 1.5}}}], {\"width\": 700, \"annotations\": [{\"y\": 41.96, \"x\": \"Agriculture\", \"font\": {\"color\": \"rgba(100, 0, 0, 1)\", \"family\": \"Arial\", \"size\": 14}, \"text\": \"40.46%\", \"showarrow\": false}, {\"y\": 3.79, \"x\": \"Garden\", \"font\": {\"color\": \"rgba(100, 0, 0, 1)\", \"family\": \"Arial\", \"size\": 14}, \"text\": \"2.29%\", \"showarrow\": false}, {\"y\": 13.33, \"x\": \"Livestock\", \"font\": {\"color\": \"rgba(100, 0, 0, 1)\", \"family\": \"Arial\", \"size\": 14}, \"text\": \"11.83%\", \"showarrow\": false}, {\"y\": 35.85, \"x\": \"Labour\", \"font\": {\"color\": \"rgba(100, 0, 0, 1)\", \"family\": \"Arial\", \"size\": 14}, \"text\": \"34.35%\", \"showarrow\": false}, {\"y\": 1.69, \"x\": \"Forestry\", \"font\": {\"color\": \"rgba(100, 0, 0, 1)\", \"family\": \"Arial\", \"size\": 14}, \"text\": \"0.19%\", \"showarrow\": false}, {\"y\": 2.84, \"x\": \"Fishing\", \"font\": {\"color\": \"rgba(100, 0, 0, 1)\", \"family\": \"Arial\", \"size\": 14}, \"text\": \"1.34%\", \"showarrow\": false}, {\"y\": 3.98, \"x\": \"Handicrafts\", \"font\": {\"color\": \"rgba(100, 0, 0, 1)\", \"family\": \"Arial\", \"size\": 14}, \"text\": \"2.48%\", \"showarrow\": false}, {\"y\": 20.97, \"x\": \"Other\", \"font\": {\"color\": \"rgba(100, 0, 0, 1)\", \"family\": \"Arial\", \"size\": 14}, \"text\": \"19.47%\", \"showarrow\": false}, {\"y\": 2.45, \"x\": \"None\", \"font\": {\"color\": \"rgba(100, 0, 0, 1)\", \"family\": \"Arial\", \"size\": 14}, \"text\": \"0.95%\", \"showarrow\": false}], \"xaxis\": {\"tickangle\": -45}, \"title\": \"Livelihoods Strategies\"}, {\"linkText\": \"Export to plot.ly\", \"showLink\": true})});</script>"
      ]
     },
     "metadata": {},
     "output_type": "display_data"
    }
   ],
   "source": [
    "lh_perc = 100*lh_values/total_surveys\n",
    "lh_perc = lh_perc.round(2)\n",
    "\n",
    "create_stacked_bars_graph((reg_survey_femHoHH, reg_survey_maleHoHH),\n",
    "                              lambda x: 100 * get_ocurrences(x, 'src_incomes') / total_surveys,\n",
    "                              lambda x: map(lambda y: y.capitalize(), x.index.values),\n",
    "                              lambda x: x.values,\n",
    "                              \"Livelihoods Strategies\",\n",
    "                              \"Female Head of Household\",\n",
    "                              \"Male Head of Household\")\n",
    "\n",
    "create_stacked_bars_graph((reg_survey_female, reg_survey_male),\n",
    "                              lambda x: 100 * get_ocurrences(x, 'src_incomes') / total_surveys,\n",
    "                              lambda x: map(lambda y: y.capitalize(), x.index.values),\n",
    "                              lambda x: x.values,\n",
    "                              \"Livelihoods Strategies\",\n",
    "                              \"Female respondent\",\n",
    "                              \"Male respondent\")\n",
    "\n",
    "livelihoods_strategies = {\n",
    "    \"layout\": {\n",
    "        \"title\": \"Livelihoods Strategies\",\n",
    "        \"xaxis\": {\n",
    "            \"tickangle\": -45\n",
    "        },\n",
    "        \"width\": 700,\n",
    "        \"annotations\": []\n",
    "    },\n",
    "    \"data\": [\n",
    "        {\n",
    "            \"x\": map(lambda x: x.capitalize(), lh_perc.index.values),\n",
    "            \"y\": lh_perc.values,\n",
    "            \"type\": \"bar\",\n",
    "            \"name\": \"Livelihoods Strategies\",\n",
    "            \"marker\": {\n",
    "                \"color\": 'rgb(258,225,225)',\n",
    "                \"line\": {\n",
    "                    \"color\": 'rgb(192,0,0)',\n",
    "                    \"width\": 1.5\n",
    "                }\n",
    "            },\n",
    "        }\n",
    "    ]\n",
    "}\n",
    "\n",
    "\n",
    "for i in range(0, len(lh_values)):\n",
    "    livelihoods_strategies[\"layout\"][\"annotations\"].append(\n",
    "        {\n",
    "            \"x\": map(lambda x: x.capitalize(), lh_perc.index.values)[i],\n",
    "            \"y\": lh_perc.values[i] + 1.5,\n",
    "            \"text\": str(lh_perc.values[i]) + \"%\",\n",
    "            \"font\": dict(\n",
    "                family='Arial',\n",
    "                size=14,\n",
    "                color='rgba(100, 0, 0, 1)'\n",
    "            ),\n",
    "            \"showarrow\": False,\n",
    "\n",
    "        }\n",
    "    )\n",
    "\n",
    "iplot(livelihoods_strategies)"
   ]
  },
  {
   "cell_type": "code",
   "execution_count": 30,
   "metadata": {},
   "outputs": [
    {
     "data": {
      "application/vnd.plotly.v1+json": {
       "data": [
        {
         "marker": {
          "color": "rgb(258,225,225)",
          "line": {
           "color": "rgb(192,0,0)",
           "width": 1.5
          }
         },
         "name": "Livelihoods Strategies",
         "type": "bar",
         "x": [
          "Agriculture",
          "Garden",
          "Livestock",
          "Fishing",
          "Labour",
          "Handicrafts",
          "Other",
          "None"
         ],
         "y": [
          44.44,
          6.35,
          12.7,
          1.59,
          28.57,
          1.59,
          15.87,
          3.17
         ]
        }
       ],
       "layout": {
        "annotations": [
         {
          "font": {
           "color": "rgba(100, 0, 0, 1)",
           "family": "Arial",
           "size": 14
          },
          "showarrow": false,
          "text": "44.44%",
          "x": "Agriculture",
          "y": 45.64
         },
         {
          "font": {
           "color": "rgba(100, 0, 0, 1)",
           "family": "Arial",
           "size": 14
          },
          "showarrow": false,
          "text": "6.35%",
          "x": "Garden",
          "y": 7.55
         },
         {
          "font": {
           "color": "rgba(100, 0, 0, 1)",
           "family": "Arial",
           "size": 14
          },
          "showarrow": false,
          "text": "12.7%",
          "x": "Livestock",
          "y": 13.899999999999999
         },
         {
          "font": {
           "color": "rgba(100, 0, 0, 1)",
           "family": "Arial",
           "size": 14
          },
          "showarrow": false,
          "text": "1.59%",
          "x": "Fishing",
          "y": 2.79
         },
         {
          "font": {
           "color": "rgba(100, 0, 0, 1)",
           "family": "Arial",
           "size": 14
          },
          "showarrow": false,
          "text": "28.57%",
          "x": "Labour",
          "y": 29.77
         },
         {
          "font": {
           "color": "rgba(100, 0, 0, 1)",
           "family": "Arial",
           "size": 14
          },
          "showarrow": false,
          "text": "1.59%",
          "x": "Handicrafts",
          "y": 2.79
         },
         {
          "font": {
           "color": "rgba(100, 0, 0, 1)",
           "family": "Arial",
           "size": 14
          },
          "showarrow": false,
          "text": "15.87%",
          "x": "Other",
          "y": 17.07
         },
         {
          "font": {
           "color": "rgba(100, 0, 0, 1)",
           "family": "Arial",
           "size": 14
          },
          "showarrow": false,
          "text": "3.17%",
          "x": "None",
          "y": 4.37
         }
        ],
        "title": "Livelihoods Strategies in HH with dependent members",
        "width": 700,
        "xaxis": {
         "tickangle": -45
        }
       }
      },
      "text/html": [
       "<div id=\"a5d554f3-a2a0-4d48-81f8-61dd43985f43\" style=\"height: 525px; width: 700px;\" class=\"plotly-graph-div\"></div><script type=\"text/javascript\">require([\"plotly\"], function(Plotly) { window.PLOTLYENV=window.PLOTLYENV || {};window.PLOTLYENV.BASE_URL=\"https://plot.ly\";Plotly.newPlot(\"a5d554f3-a2a0-4d48-81f8-61dd43985f43\", [{\"y\": [44.44, 6.35, 12.7, 1.59, 28.57, 1.59, 15.87, 3.17], \"x\": [\"Agriculture\", \"Garden\", \"Livestock\", \"Fishing\", \"Labour\", \"Handicrafts\", \"Other\", \"None\"], \"type\": \"bar\", \"name\": \"Livelihoods Strategies\", \"marker\": {\"color\": \"rgb(258,225,225)\", \"line\": {\"color\": \"rgb(192,0,0)\", \"width\": 1.5}}}], {\"width\": 700, \"annotations\": [{\"y\": 45.64, \"x\": \"Agriculture\", \"font\": {\"color\": \"rgba(100, 0, 0, 1)\", \"family\": \"Arial\", \"size\": 14}, \"text\": \"44.44%\", \"showarrow\": false}, {\"y\": 7.55, \"x\": \"Garden\", \"font\": {\"color\": \"rgba(100, 0, 0, 1)\", \"family\": \"Arial\", \"size\": 14}, \"text\": \"6.35%\", \"showarrow\": false}, {\"y\": 13.899999999999999, \"x\": \"Livestock\", \"font\": {\"color\": \"rgba(100, 0, 0, 1)\", \"family\": \"Arial\", \"size\": 14}, \"text\": \"12.7%\", \"showarrow\": false}, {\"y\": 2.79, \"x\": \"Fishing\", \"font\": {\"color\": \"rgba(100, 0, 0, 1)\", \"family\": \"Arial\", \"size\": 14}, \"text\": \"1.59%\", \"showarrow\": false}, {\"y\": 29.77, \"x\": \"Labour\", \"font\": {\"color\": \"rgba(100, 0, 0, 1)\", \"family\": \"Arial\", \"size\": 14}, \"text\": \"28.57%\", \"showarrow\": false}, {\"y\": 2.79, \"x\": \"Handicrafts\", \"font\": {\"color\": \"rgba(100, 0, 0, 1)\", \"family\": \"Arial\", \"size\": 14}, \"text\": \"1.59%\", \"showarrow\": false}, {\"y\": 17.07, \"x\": \"Other\", \"font\": {\"color\": \"rgba(100, 0, 0, 1)\", \"family\": \"Arial\", \"size\": 14}, \"text\": \"15.87%\", \"showarrow\": false}, {\"y\": 4.37, \"x\": \"None\", \"font\": {\"color\": \"rgba(100, 0, 0, 1)\", \"family\": \"Arial\", \"size\": 14}, \"text\": \"3.17%\", \"showarrow\": false}], \"xaxis\": {\"tickangle\": -45}, \"title\": \"Livelihoods Strategies in HH with dependent members\"}, {\"linkText\": \"Export to plot.ly\", \"showLink\": true})});</script>"
      ],
      "text/vnd.plotly.v1+html": [
       "<div id=\"a5d554f3-a2a0-4d48-81f8-61dd43985f43\" style=\"height: 525px; width: 700px;\" class=\"plotly-graph-div\"></div><script type=\"text/javascript\">require([\"plotly\"], function(Plotly) { window.PLOTLYENV=window.PLOTLYENV || {};window.PLOTLYENV.BASE_URL=\"https://plot.ly\";Plotly.newPlot(\"a5d554f3-a2a0-4d48-81f8-61dd43985f43\", [{\"y\": [44.44, 6.35, 12.7, 1.59, 28.57, 1.59, 15.87, 3.17], \"x\": [\"Agriculture\", \"Garden\", \"Livestock\", \"Fishing\", \"Labour\", \"Handicrafts\", \"Other\", \"None\"], \"type\": \"bar\", \"name\": \"Livelihoods Strategies\", \"marker\": {\"color\": \"rgb(258,225,225)\", \"line\": {\"color\": \"rgb(192,0,0)\", \"width\": 1.5}}}], {\"width\": 700, \"annotations\": [{\"y\": 45.64, \"x\": \"Agriculture\", \"font\": {\"color\": \"rgba(100, 0, 0, 1)\", \"family\": \"Arial\", \"size\": 14}, \"text\": \"44.44%\", \"showarrow\": false}, {\"y\": 7.55, \"x\": \"Garden\", \"font\": {\"color\": \"rgba(100, 0, 0, 1)\", \"family\": \"Arial\", \"size\": 14}, \"text\": \"6.35%\", \"showarrow\": false}, {\"y\": 13.899999999999999, \"x\": \"Livestock\", \"font\": {\"color\": \"rgba(100, 0, 0, 1)\", \"family\": \"Arial\", \"size\": 14}, \"text\": \"12.7%\", \"showarrow\": false}, {\"y\": 2.79, \"x\": \"Fishing\", \"font\": {\"color\": \"rgba(100, 0, 0, 1)\", \"family\": \"Arial\", \"size\": 14}, \"text\": \"1.59%\", \"showarrow\": false}, {\"y\": 29.77, \"x\": \"Labour\", \"font\": {\"color\": \"rgba(100, 0, 0, 1)\", \"family\": \"Arial\", \"size\": 14}, \"text\": \"28.57%\", \"showarrow\": false}, {\"y\": 2.79, \"x\": \"Handicrafts\", \"font\": {\"color\": \"rgba(100, 0, 0, 1)\", \"family\": \"Arial\", \"size\": 14}, \"text\": \"1.59%\", \"showarrow\": false}, {\"y\": 17.07, \"x\": \"Other\", \"font\": {\"color\": \"rgba(100, 0, 0, 1)\", \"family\": \"Arial\", \"size\": 14}, \"text\": \"15.87%\", \"showarrow\": false}, {\"y\": 4.37, \"x\": \"None\", \"font\": {\"color\": \"rgba(100, 0, 0, 1)\", \"family\": \"Arial\", \"size\": 14}, \"text\": \"3.17%\", \"showarrow\": false}], \"xaxis\": {\"tickangle\": -45}, \"title\": \"Livelihoods Strategies in HH with dependent members\"}, {\"linkText\": \"Export to plot.ly\", \"showLink\": true})});</script>"
      ]
     },
     "metadata": {},
     "output_type": "display_data"
    }
   ],
   "source": [
    "\n",
    "lh_values_hand = get_ocurrences(reg_survey_hand_yes, 'src_incomes')\n",
    "lh_perc_hand = 100*lh_values_hand/reg_survey_hand_yes['deviceid'].count()\n",
    "lh_perc_hand = lh_perc_hand.round(2)\n",
    "\n",
    "livelihoods_strategies_hand = {\n",
    "    \"layout\": {\n",
    "        \"title\": \"Livelihoods Strategies in HH with dependent members\",\n",
    "        \"xaxis\": {\n",
    "            \"tickangle\": -45\n",
    "        },\n",
    "        \"width\": 700,\n",
    "        \"annotations\": []\n",
    "    },\n",
    "    \"data\": [\n",
    "        {\n",
    "            \"x\": map(lambda x: x.capitalize(), lh_perc_hand.index.values),\n",
    "            \"y\": lh_perc_hand.values,\n",
    "            \"type\": \"bar\",\n",
    "            \"name\": \"Livelihoods Strategies\",\n",
    "            \"marker\": {\n",
    "                \"color\": 'rgb(258,225,225)',\n",
    "                \"line\": {\n",
    "                    \"color\": 'rgb(192,0,0)',\n",
    "                    \"width\": 1.5\n",
    "                }\n",
    "            },\n",
    "        }\n",
    "    ]\n",
    "}\n",
    "\n",
    "\n",
    "for i in range(0, len(lh_values_hand)):\n",
    "    livelihoods_strategies_hand[\"layout\"][\"annotations\"].append(\n",
    "        {\n",
    "            \"x\": map(lambda x: x.capitalize(), lh_perc_hand.index.values)[i],\n",
    "            \"y\": lh_perc_hand.values[i] + 1.2,\n",
    "            \"text\": str(lh_perc_hand.values[i]) + \"%\",\n",
    "            \"font\": dict(\n",
    "                family='Arial',\n",
    "                size=14,\n",
    "                color='rgba(100, 0, 0, 1)'\n",
    "            ),\n",
    "            \"showarrow\": False,\n",
    "\n",
    "        }\n",
    "    )\n",
    "\n",
    "iplot(livelihoods_strategies_hand)"
   ]
  },
  {
   "cell_type": "markdown",
   "metadata": {},
   "source": [
    "Main livelihoods per household"
   ]
  },
  {
   "cell_type": "code",
   "execution_count": 31,
   "metadata": {},
   "outputs": [
    {
     "name": "stdout",
     "output_type": "stream",
     "text": [
      "src_incomes\n",
      "labour                            171\n",
      "agriculture                       164\n",
      "other                              95\n",
      "agriculture livestock              34\n",
      "handicrafts                        10\n",
      "livestock                           9\n",
      "livestock other                     7\n",
      "agriculture garden livestock        6\n",
      "fishing                             5\n",
      "none                                5\n",
      "agriculture labour                  4\n",
      "livestock labour                    3\n",
      "agriculture garden                  3\n",
      "garden                              2\n",
      "agriculture livestock forestry      1\n",
      "fishing handicrafts                 1\n",
      "livestock handicrafts               1\n",
      "garden livestock                    1\n",
      "labour handicrafts                  1\n",
      "fishing labour                      1\n",
      "dtype: int64\n"
     ]
    },
    {
     "data": {
      "application/vnd.plotly.v1+json": {
       "data": [
        {
         "domain": {
          "x": [
           0,
           0.32
          ]
         },
         "labels": [
          1,
          2,
          3
         ],
         "sort": false,
         "type": "pie",
         "values": [
          168,
          17,
          2
         ]
        },
        {
         "domain": {
          "x": [
           0.34,
           0.64
          ]
         },
         "labels": [
          1,
          2,
          3
         ],
         "sort": false,
         "type": "pie",
         "values": [
          461,
          56,
          7
         ]
        },
        {
         "domain": {
          "x": [
           0.66,
           0.98
          ]
         },
         "labels": [
          1,
          2,
          3
         ],
         "sort": false,
         "type": "pie",
         "values": [
          293,
          39,
          5
         ]
        }
       ],
       "layout": {
        "annotations": [
         {
          "font": {
           "size": 14
          },
          "showarrow": false,
          "text": "Female Head of Household",
          "x": 0.04,
          "y": 1
         },
         {
          "font": {
           "size": 14
          },
          "showarrow": false,
          "text": "Global",
          "x": 0.5,
          "y": 1
         },
         {
          "font": {
           "size": 14
          },
          "showarrow": false,
          "text": "Male Head of Household",
          "x": 0.94,
          "y": 1
         }
        ],
        "title": "Number of livelihoods Strategies"
       }
      },
      "text/html": [
       "<div id=\"c38a04c9-46ca-4084-8166-2e78158ad230\" style=\"height: 525px; width: 100%;\" class=\"plotly-graph-div\"></div><script type=\"text/javascript\">require([\"plotly\"], function(Plotly) { window.PLOTLYENV=window.PLOTLYENV || {};window.PLOTLYENV.BASE_URL=\"https://plot.ly\";Plotly.newPlot(\"c38a04c9-46ca-4084-8166-2e78158ad230\", [{\"sort\": false, \"values\": [168, 17, 2], \"domain\": {\"x\": [0, 0.32]}, \"labels\": [1, 2, 3], \"type\": \"pie\"}, {\"sort\": false, \"values\": [461, 56, 7], \"domain\": {\"x\": [0.34, 0.64]}, \"labels\": [1, 2, 3], \"type\": \"pie\"}, {\"sort\": false, \"values\": [293, 39, 5], \"domain\": {\"x\": [0.66, 0.98]}, \"labels\": [1, 2, 3], \"type\": \"pie\"}], {\"annotations\": [{\"y\": 1, \"text\": \"Female Head of Household\", \"font\": {\"size\": 14}, \"showarrow\": false, \"x\": 0.04}, {\"y\": 1, \"text\": \"Global\", \"font\": {\"size\": 14}, \"showarrow\": false, \"x\": 0.5}, {\"y\": 1, \"text\": \"Male Head of Household\", \"font\": {\"size\": 14}, \"showarrow\": false, \"x\": 0.94}], \"title\": \"Number of livelihoods Strategies\"}, {\"linkText\": \"Export to plot.ly\", \"showLink\": true})});</script>"
      ],
      "text/vnd.plotly.v1+html": [
       "<div id=\"c38a04c9-46ca-4084-8166-2e78158ad230\" style=\"height: 525px; width: 100%;\" class=\"plotly-graph-div\"></div><script type=\"text/javascript\">require([\"plotly\"], function(Plotly) { window.PLOTLYENV=window.PLOTLYENV || {};window.PLOTLYENV.BASE_URL=\"https://plot.ly\";Plotly.newPlot(\"c38a04c9-46ca-4084-8166-2e78158ad230\", [{\"sort\": false, \"values\": [168, 17, 2], \"domain\": {\"x\": [0, 0.32]}, \"labels\": [1, 2, 3], \"type\": \"pie\"}, {\"sort\": false, \"values\": [461, 56, 7], \"domain\": {\"x\": [0.34, 0.64]}, \"labels\": [1, 2, 3], \"type\": \"pie\"}, {\"sort\": false, \"values\": [293, 39, 5], \"domain\": {\"x\": [0.66, 0.98]}, \"labels\": [1, 2, 3], \"type\": \"pie\"}], {\"annotations\": [{\"y\": 1, \"text\": \"Female Head of Household\", \"font\": {\"size\": 14}, \"showarrow\": false, \"x\": 0.04}, {\"y\": 1, \"text\": \"Global\", \"font\": {\"size\": 14}, \"showarrow\": false, \"x\": 0.5}, {\"y\": 1, \"text\": \"Male Head of Household\", \"font\": {\"size\": 14}, \"showarrow\": false, \"x\": 0.94}], \"title\": \"Number of livelihoods Strategies\"}, {\"linkText\": \"Export to plot.ly\", \"showLink\": true})});</script>"
      ]
     },
     "metadata": {},
     "output_type": "display_data"
    }
   ],
   "source": [
    "print src_incomes_sums.sort_values(ascending = False)\n",
    "reg_survey['num_lh_strats'] = reg_survey['src_incomes'].map(lambda x: len(x.split()))\n",
    "create_graphs_HoHH(lambda x: x.groupby('num_lh_strats').size(),\n",
    "                         lambda x: x.values,\n",
    "                         lambda x: x.index.values,\n",
    "                         lambda x: x.sum(),\n",
    "                         \"Number of livelihoods Strategies\")"
   ]
  },
  {
   "cell_type": "code",
   "execution_count": 32,
   "metadata": {},
   "outputs": [
    {
     "data": {
      "application/vnd.plotly.v1+json": {
       "data": [
        {
         "labels": [
          1,
          2,
          3
         ],
         "sort": false,
         "type": "pie",
         "values": [
          55,
          7,
          1
         ]
        }
       ],
       "layout": {
        "title": "Number livelihoods strategies in HH with dependent members"
       }
      },
      "text/html": [
       "<div id=\"6f17a63c-fd9c-48e5-afdc-716662ddcb20\" style=\"height: 525px; width: 100%;\" class=\"plotly-graph-div\"></div><script type=\"text/javascript\">require([\"plotly\"], function(Plotly) { window.PLOTLYENV=window.PLOTLYENV || {};window.PLOTLYENV.BASE_URL=\"https://plot.ly\";Plotly.newPlot(\"6f17a63c-fd9c-48e5-afdc-716662ddcb20\", [{\"sort\": false, \"values\": [55, 7, 1], \"labels\": [1, 2, 3], \"type\": \"pie\"}], {\"title\": \"Number livelihoods strategies in HH with dependent members\"}, {\"linkText\": \"Export to plot.ly\", \"showLink\": true})});</script>"
      ],
      "text/vnd.plotly.v1+html": [
       "<div id=\"6f17a63c-fd9c-48e5-afdc-716662ddcb20\" style=\"height: 525px; width: 100%;\" class=\"plotly-graph-div\"></div><script type=\"text/javascript\">require([\"plotly\"], function(Plotly) { window.PLOTLYENV=window.PLOTLYENV || {};window.PLOTLYENV.BASE_URL=\"https://plot.ly\";Plotly.newPlot(\"6f17a63c-fd9c-48e5-afdc-716662ddcb20\", [{\"sort\": false, \"values\": [55, 7, 1], \"labels\": [1, 2, 3], \"type\": \"pie\"}], {\"title\": \"Number livelihoods strategies in HH with dependent members\"}, {\"linkText\": \"Export to plot.ly\", \"showLink\": true})});</script>"
      ]
     },
     "metadata": {},
     "output_type": "display_data"
    }
   ],
   "source": [
    "reg_survey_hand_yes['num_lh_strats'] = reg_survey_hand_yes['src_incomes'].map(lambda x: len(x.split()))\n",
    "create_pie_graph(reg_survey_hand_yes.groupby('num_lh_strats').size(), \"Number livelihoods strategies in HH with dependent members\")"
   ]
  },
  {
   "cell_type": "markdown",
   "metadata": {},
   "source": [
    "- 277 out of 399 hh, i.e. 69.42%, lives only on livestock, forestry or both."
   ]
  },
  {
   "cell_type": "markdown",
   "metadata": {},
   "source": [
    "### Livestock\n",
    "\n",
    "Number of interviewed households owning each type of livestock"
   ]
  },
  {
   "cell_type": "code",
   "execution_count": 33,
   "metadata": {},
   "outputs": [
    {
     "data": {
      "text/plain": [
       "livestock_training\n",
       "no     59\n",
       "yes     1\n",
       "dtype: int64"
      ]
     },
     "execution_count": 33,
     "metadata": {},
     "output_type": "execute_result"
    }
   ],
   "source": [
    "livestock_set = reg_survey.loc[reg_survey['src_incomes'].str.contains(\"livestock\")]\n",
    "\n",
    "participants = livestock_set.groupby('livestock_participants').size()\n",
    "participants_goats = livestock_set.loc[livestock_set['livestock_type'].str.contains(\"goat\")].groupby('livestock_participants').size()\n",
    "#print participants_goats\n",
    "\n",
    "lvstk_types = ['camel', 'cattle', 'goat', 'sheep', 'chicken']\n",
    "\n",
    "types_lvstck = get_ocurrences(livestock_set, 'livestock_type')\n",
    "livestock_women = livestock_set.loc[livestock_set['livestock_participants'] == \"women\"]\n",
    "type_women =  livestock_women.groupby('livestock_type').size()\n",
    "#livestock_set = livestock_set.copy()\n",
    "for i in lvstk_types:\n",
    "    livestock_set[i + '_reduced'] = livestock_set['livestock_lost_' + i] / (livestock_set['livestock_number_' + i] + livestock_set['livestock_number_' + i])\n",
    "#print (\"Types for women\")\n",
    "#print(type_women)\n",
    "#print livestock_set.groupby('camel_reduced').size()\n",
    "goats = livestock_set['livestock_number_goat']\n",
    "\n",
    "cattle = livestock_set['livestock_number_cattle'].dropna()\n",
    "sheeps = livestock_set['livestock_number_sheep'].dropna()\n",
    "camels = livestock_set['livestock_number_camel'].dropna()\n",
    "chickens = livestock_set['livestock_number_chicken'].dropna()\n",
    "\n",
    "livestock_set.groupby('livestock_training').size()"
   ]
  },
  {
   "cell_type": "code",
   "execution_count": 34,
   "metadata": {
    "scrolled": false
   },
   "outputs": [
    {
     "data": {
      "application/vnd.plotly.v1+json": {
       "data": [
        {
         "marker": {
          "color": "rgb(258,225,225)",
          "line": {
           "color": "rgb(192,0,0)",
           "width": 1.5
          }
         },
         "name": "Livelihoods Strategies",
         "type": "bar",
         "x": [
          "Camel",
          "Cattle",
          "Goat",
          "Sheep",
          "Chicken",
          "Other"
         ],
         "y": [
          3.23,
          27.42,
          72.58,
          77.42,
          9.68,
          1.61
         ]
        }
       ],
       "layout": {
        "annotations": [
         {
          "font": {
           "color": "rgba(100, 0, 0, 1)",
           "family": "Arial",
           "size": 14
          },
          "showarrow": false,
          "text": "3.23%",
          "x": "Camel",
          "y": 4.73
         },
         {
          "font": {
           "color": "rgba(100, 0, 0, 1)",
           "family": "Arial",
           "size": 14
          },
          "showarrow": false,
          "text": "27.42%",
          "x": "Cattle",
          "y": 28.92
         },
         {
          "font": {
           "color": "rgba(100, 0, 0, 1)",
           "family": "Arial",
           "size": 14
          },
          "showarrow": false,
          "text": "72.58%",
          "x": "Goat",
          "y": 74.08
         },
         {
          "font": {
           "color": "rgba(100, 0, 0, 1)",
           "family": "Arial",
           "size": 14
          },
          "showarrow": false,
          "text": "77.42%",
          "x": "Sheep",
          "y": 78.92
         },
         {
          "font": {
           "color": "rgba(100, 0, 0, 1)",
           "family": "Arial",
           "size": 14
          },
          "showarrow": false,
          "text": "9.68%",
          "x": "Chicken",
          "y": 11.18
         },
         {
          "font": {
           "color": "rgba(100, 0, 0, 1)",
           "family": "Arial",
           "size": 14
          },
          "showarrow": false,
          "text": "1.61%",
          "x": "Other",
          "y": 3.1100000000000003
         }
        ],
        "title": "Livestock types",
        "width": 700,
        "xaxis": {
         "tickangle": -45
        }
       }
      },
      "text/html": [
       "<div id=\"3527c3b0-4ddd-4e6d-8dbc-837c5336b442\" style=\"height: 525px; width: 700px;\" class=\"plotly-graph-div\"></div><script type=\"text/javascript\">require([\"plotly\"], function(Plotly) { window.PLOTLYENV=window.PLOTLYENV || {};window.PLOTLYENV.BASE_URL=\"https://plot.ly\";Plotly.newPlot(\"3527c3b0-4ddd-4e6d-8dbc-837c5336b442\", [{\"y\": [3.23, 27.42, 72.58, 77.42, 9.68, 1.61], \"x\": [\"Camel\", \"Cattle\", \"Goat\", \"Sheep\", \"Chicken\", \"Other\"], \"type\": \"bar\", \"name\": \"Livelihoods Strategies\", \"marker\": {\"color\": \"rgb(258,225,225)\", \"line\": {\"color\": \"rgb(192,0,0)\", \"width\": 1.5}}}], {\"width\": 700, \"annotations\": [{\"y\": 4.73, \"x\": \"Camel\", \"font\": {\"color\": \"rgba(100, 0, 0, 1)\", \"family\": \"Arial\", \"size\": 14}, \"text\": \"3.23%\", \"showarrow\": false}, {\"y\": 28.92, \"x\": \"Cattle\", \"font\": {\"color\": \"rgba(100, 0, 0, 1)\", \"family\": \"Arial\", \"size\": 14}, \"text\": \"27.42%\", \"showarrow\": false}, {\"y\": 74.08, \"x\": \"Goat\", \"font\": {\"color\": \"rgba(100, 0, 0, 1)\", \"family\": \"Arial\", \"size\": 14}, \"text\": \"72.58%\", \"showarrow\": false}, {\"y\": 78.92, \"x\": \"Sheep\", \"font\": {\"color\": \"rgba(100, 0, 0, 1)\", \"family\": \"Arial\", \"size\": 14}, \"text\": \"77.42%\", \"showarrow\": false}, {\"y\": 11.18, \"x\": \"Chicken\", \"font\": {\"color\": \"rgba(100, 0, 0, 1)\", \"family\": \"Arial\", \"size\": 14}, \"text\": \"9.68%\", \"showarrow\": false}, {\"y\": 3.1100000000000003, \"x\": \"Other\", \"font\": {\"color\": \"rgba(100, 0, 0, 1)\", \"family\": \"Arial\", \"size\": 14}, \"text\": \"1.61%\", \"showarrow\": false}], \"xaxis\": {\"tickangle\": -45}, \"title\": \"Livestock types\"}, {\"linkText\": \"Export to plot.ly\", \"showLink\": true})});</script>"
      ],
      "text/vnd.plotly.v1+html": [
       "<div id=\"3527c3b0-4ddd-4e6d-8dbc-837c5336b442\" style=\"height: 525px; width: 700px;\" class=\"plotly-graph-div\"></div><script type=\"text/javascript\">require([\"plotly\"], function(Plotly) { window.PLOTLYENV=window.PLOTLYENV || {};window.PLOTLYENV.BASE_URL=\"https://plot.ly\";Plotly.newPlot(\"3527c3b0-4ddd-4e6d-8dbc-837c5336b442\", [{\"y\": [3.23, 27.42, 72.58, 77.42, 9.68, 1.61], \"x\": [\"Camel\", \"Cattle\", \"Goat\", \"Sheep\", \"Chicken\", \"Other\"], \"type\": \"bar\", \"name\": \"Livelihoods Strategies\", \"marker\": {\"color\": \"rgb(258,225,225)\", \"line\": {\"color\": \"rgb(192,0,0)\", \"width\": 1.5}}}], {\"width\": 700, \"annotations\": [{\"y\": 4.73, \"x\": \"Camel\", \"font\": {\"color\": \"rgba(100, 0, 0, 1)\", \"family\": \"Arial\", \"size\": 14}, \"text\": \"3.23%\", \"showarrow\": false}, {\"y\": 28.92, \"x\": \"Cattle\", \"font\": {\"color\": \"rgba(100, 0, 0, 1)\", \"family\": \"Arial\", \"size\": 14}, \"text\": \"27.42%\", \"showarrow\": false}, {\"y\": 74.08, \"x\": \"Goat\", \"font\": {\"color\": \"rgba(100, 0, 0, 1)\", \"family\": \"Arial\", \"size\": 14}, \"text\": \"72.58%\", \"showarrow\": false}, {\"y\": 78.92, \"x\": \"Sheep\", \"font\": {\"color\": \"rgba(100, 0, 0, 1)\", \"family\": \"Arial\", \"size\": 14}, \"text\": \"77.42%\", \"showarrow\": false}, {\"y\": 11.18, \"x\": \"Chicken\", \"font\": {\"color\": \"rgba(100, 0, 0, 1)\", \"family\": \"Arial\", \"size\": 14}, \"text\": \"9.68%\", \"showarrow\": false}, {\"y\": 3.1100000000000003, \"x\": \"Other\", \"font\": {\"color\": \"rgba(100, 0, 0, 1)\", \"family\": \"Arial\", \"size\": 14}, \"text\": \"1.61%\", \"showarrow\": false}], \"xaxis\": {\"tickangle\": -45}, \"title\": \"Livestock types\"}, {\"linkText\": \"Export to plot.ly\", \"showLink\": true})});</script>"
      ]
     },
     "metadata": {},
     "output_type": "display_data"
    }
   ],
   "source": [
    "perc_lvstck = 100*types_lvstck/livestock_set['deviceid'].count()\n",
    "perc_lvstck = perc_lvstck.round(2)\n",
    "fig_types_lvstck = {\n",
    "    \"layout\": {\n",
    "        \"title\": \"Livestock types\",\n",
    "        \"xaxis\": {\n",
    "            \"tickangle\": -45\n",
    "        },\n",
    "        \"width\": 700,\n",
    "        \"annotations\": []\n",
    "    },\n",
    "    \"data\": [\n",
    "        {\n",
    "            \"x\": map(lambda x: x.capitalize(), perc_lvstck.index.values),\n",
    "            \"y\": perc_lvstck.values,\n",
    "            \"type\": \"bar\",\n",
    "            \"name\": \"Livelihoods Strategies\",\n",
    "            \"marker\": {\n",
    "                \"color\": 'rgb(258,225,225)',\n",
    "                \"line\": {\n",
    "                    \"color\": 'rgb(192,0,0)',\n",
    "                    \"width\": 1.5\n",
    "                }\n",
    "            }\n",
    "        }\n",
    "    ]\n",
    "}\n",
    "\n",
    "\n",
    "for i in range(0, len(types_lvstck)):\n",
    "    fig_types_lvstck[\"layout\"][\"annotations\"].append(\n",
    "        {\n",
    "            \"x\": map(lambda x: x.capitalize(), perc_lvstck.index.values)[i],\n",
    "            \"y\": perc_lvstck.values[i] + 1.5,\n",
    "            \"text\": str(perc_lvstck.values[i]) + \"%\",\n",
    "            \"font\": dict(\n",
    "                family='Arial',\n",
    "                size=14,\n",
    "                color='rgba(100, 0, 0, 1)'\n",
    "            ),\n",
    "            \"showarrow\": False,\n",
    "\n",
    "        }\n",
    "    )\n",
    "\n",
    "iplot(fig_types_lvstck)"
   ]
  },
  {
   "cell_type": "code",
   "execution_count": 35,
   "metadata": {},
   "outputs": [
    {
     "data": {
      "application/vnd.plotly.v1+json": {
       "data": [
        {
         "marker": {
          "size": [
           5,
           5,
           5,
           5,
           5,
           5,
           15,
           20,
           5,
           5,
           5,
           10,
           15,
           5,
           10,
           15,
           5,
           5,
           15,
           15,
           5,
           10,
           5,
           5,
           5,
           5,
           5,
           5,
           5
          ]
         },
         "mode": "markers",
         "type": "scatter",
         "x": [
          0,
          0,
          0,
          0,
          1,
          1,
          2,
          2,
          2,
          2,
          3,
          3,
          3,
          3,
          4,
          4,
          4,
          4,
          5,
          5,
          5,
          5,
          7,
          7,
          7,
          7,
          9,
          10,
          23
         ],
         "y": [
          2,
          3,
          8,
          9,
          0,
          1,
          0,
          2,
          3,
          4,
          0,
          2,
          3,
          5,
          0,
          4,
          5,
          6,
          0,
          3,
          4,
          7,
          0,
          1,
          5,
          7,
          4,
          10,
          2
         ]
        }
       ],
       "layout": {
        "title": "Relation between the number of goats and sheeps",
        "xaxis": {
         "title": "Number of goats"
        },
        "yaxis": {
         "title": "Number of sheeps"
        }
       }
      },
      "text/html": [
       "<div id=\"50ebd9c0-eaba-4fdf-b3af-f90a5b758c1c\" style=\"height: 525px; width: 100%;\" class=\"plotly-graph-div\"></div><script type=\"text/javascript\">require([\"plotly\"], function(Plotly) { window.PLOTLYENV=window.PLOTLYENV || {};window.PLOTLYENV.BASE_URL=\"https://plot.ly\";Plotly.newPlot(\"50ebd9c0-eaba-4fdf-b3af-f90a5b758c1c\", [{\"y\": [2.0, 3.0, 8.0, 9.0, 0.0, 1.0, 0.0, 2.0, 3.0, 4.0, 0.0, 2.0, 3.0, 5.0, 0.0, 4.0, 5.0, 6.0, 0.0, 3.0, 4.0, 7.0, 0.0, 1.0, 5.0, 7.0, 4.0, 10.0, 2.0], \"x\": [0.0, 0.0, 0.0, 0.0, 1.0, 1.0, 2.0, 2.0, 2.0, 2.0, 3.0, 3.0, 3.0, 3.0, 4.0, 4.0, 4.0, 4.0, 5.0, 5.0, 5.0, 5.0, 7.0, 7.0, 7.0, 7.0, 9.0, 10.0, 23.0], \"type\": \"scatter\", \"mode\": \"markers\", \"marker\": {\"size\": [5, 5, 5, 5, 5, 5, 15, 20, 5, 5, 5, 10, 15, 5, 10, 15, 5, 5, 15, 15, 5, 10, 5, 5, 5, 5, 5, 5, 5]}}], {\"title\": \"Relation between the number of goats and sheeps\", \"xaxis\": {\"title\": \"Number of goats\"}, \"yaxis\": {\"title\": \"Number of sheeps\"}}, {\"linkText\": \"Export to plot.ly\", \"showLink\": true})});</script>"
      ],
      "text/vnd.plotly.v1+html": [
       "<div id=\"50ebd9c0-eaba-4fdf-b3af-f90a5b758c1c\" style=\"height: 525px; width: 100%;\" class=\"plotly-graph-div\"></div><script type=\"text/javascript\">require([\"plotly\"], function(Plotly) { window.PLOTLYENV=window.PLOTLYENV || {};window.PLOTLYENV.BASE_URL=\"https://plot.ly\";Plotly.newPlot(\"50ebd9c0-eaba-4fdf-b3af-f90a5b758c1c\", [{\"y\": [2.0, 3.0, 8.0, 9.0, 0.0, 1.0, 0.0, 2.0, 3.0, 4.0, 0.0, 2.0, 3.0, 5.0, 0.0, 4.0, 5.0, 6.0, 0.0, 3.0, 4.0, 7.0, 0.0, 1.0, 5.0, 7.0, 4.0, 10.0, 2.0], \"x\": [0.0, 0.0, 0.0, 0.0, 1.0, 1.0, 2.0, 2.0, 2.0, 2.0, 3.0, 3.0, 3.0, 3.0, 4.0, 4.0, 4.0, 4.0, 5.0, 5.0, 5.0, 5.0, 7.0, 7.0, 7.0, 7.0, 9.0, 10.0, 23.0], \"type\": \"scatter\", \"mode\": \"markers\", \"marker\": {\"size\": [5, 5, 5, 5, 5, 5, 15, 20, 5, 5, 5, 10, 15, 5, 10, 15, 5, 5, 15, 15, 5, 10, 5, 5, 5, 5, 5, 5, 5]}}], {\"title\": \"Relation between the number of goats and sheeps\", \"xaxis\": {\"title\": \"Number of goats\"}, \"yaxis\": {\"title\": \"Number of sheeps\"}}, {\"linkText\": \"Export to plot.ly\", \"showLink\": true})});</script>"
      ]
     },
     "metadata": {},
     "output_type": "display_data"
    }
   ],
   "source": [
    "prueba = pd.crosstab(livestock_set.livestock_number_goat, livestock_set.livestock_number_sheep).stack().reset_index(name='number')\n",
    "#prueba.plot.scatter('livestock_number_goats', 'livestock_number_sheep', s=prueba.number * 10)\n",
    "prueba = prueba[prueba.number != 0]\n",
    "prueba = prueba[prueba.livestock_number_goat <= 100]\n",
    "prueba = prueba[prueba.livestock_number_sheep <= 100]\n",
    "prueba = prueba.drop(0)\n",
    "#display(prueba)\n",
    "goats_vs_sheeps = {\n",
    "    \"layout\": {\n",
    "        \"title\": \"Relation between the number of goats and sheeps\",\n",
    "        \"xaxis\": {\n",
    "            \"title\": \"Number of goats\"\n",
    "        },\n",
    "        \"yaxis\": {\n",
    "            \"title\": \"Number of sheeps\"\n",
    "        }\n",
    "    },\n",
    "    \"data\": [\n",
    "        {\n",
    "\n",
    "            \"x\": prueba.livestock_number_goat,\n",
    "            \"y\": prueba.livestock_number_sheep,\n",
    "            \"mode\": \"markers\",\n",
    "            \"marker\": {\n",
    "                \"size\": prueba.number * 5               \n",
    "            },\n",
    "            \"type\": \"scatter\"\n",
    "        }\n",
    "    ]\n",
    "}\n",
    "iplot(goats_vs_sheeps)"
   ]
  },
  {
   "cell_type": "code",
   "execution_count": 36,
   "metadata": {},
   "outputs": [
    {
     "data": {
      "application/vnd.plotly.v1+json": {
       "data": [
        {
         "marker": {
          "size": [
           5,
           5,
           5,
           5,
           5,
           5,
           15,
           20,
           5,
           5,
           5,
           10,
           15,
           5,
           10,
           15,
           5,
           5,
           15,
           15,
           5,
           10,
           5,
           5,
           5,
           5,
           5,
           5,
           5
          ]
         },
         "mode": "markers",
         "type": "scatter",
         "x": [
          0,
          0,
          0,
          0,
          0,
          0,
          0,
          0,
          0,
          1,
          1,
          1,
          1,
          2,
          2,
          2,
          2,
          2,
          3,
          4,
          5
         ],
         "y": [
          1,
          2,
          3,
          4,
          5,
          7,
          8,
          9,
          10,
          0,
          2,
          4,
          5,
          0,
          2,
          3,
          4,
          7,
          6,
          0,
          5
         ]
        }
       ],
       "layout": {
        "title": "Relation between the number of cattle and sheeps",
        "xaxis": {
         "title": "Number of cattle"
        },
        "yaxis": {
         "title": "Number of sheeps"
        }
       }
      },
      "text/html": [
       "<div id=\"925e68e9-307a-41af-884f-44796b0669fe\" style=\"height: 525px; width: 100%;\" class=\"plotly-graph-div\"></div><script type=\"text/javascript\">require([\"plotly\"], function(Plotly) { window.PLOTLYENV=window.PLOTLYENV || {};window.PLOTLYENV.BASE_URL=\"https://plot.ly\";Plotly.newPlot(\"925e68e9-307a-41af-884f-44796b0669fe\", [{\"y\": [1.0, 2.0, 3.0, 4.0, 5.0, 7.0, 8.0, 9.0, 10.0, 0.0, 2.0, 4.0, 5.0, 0.0, 2.0, 3.0, 4.0, 7.0, 6.0, 0.0, 5.0], \"x\": [0.0, 0.0, 0.0, 0.0, 0.0, 0.0, 0.0, 0.0, 0.0, 1.0, 1.0, 1.0, 1.0, 2.0, 2.0, 2.0, 2.0, 2.0, 3.0, 4.0, 5.0], \"type\": \"scatter\", \"mode\": \"markers\", \"marker\": {\"size\": [5, 5, 5, 5, 5, 5, 15, 20, 5, 5, 5, 10, 15, 5, 10, 15, 5, 5, 15, 15, 5, 10, 5, 5, 5, 5, 5, 5, 5]}}], {\"title\": \"Relation between the number of cattle and sheeps\", \"xaxis\": {\"title\": \"Number of cattle\"}, \"yaxis\": {\"title\": \"Number of sheeps\"}}, {\"linkText\": \"Export to plot.ly\", \"showLink\": true})});</script>"
      ],
      "text/vnd.plotly.v1+html": [
       "<div id=\"925e68e9-307a-41af-884f-44796b0669fe\" style=\"height: 525px; width: 100%;\" class=\"plotly-graph-div\"></div><script type=\"text/javascript\">require([\"plotly\"], function(Plotly) { window.PLOTLYENV=window.PLOTLYENV || {};window.PLOTLYENV.BASE_URL=\"https://plot.ly\";Plotly.newPlot(\"925e68e9-307a-41af-884f-44796b0669fe\", [{\"y\": [1.0, 2.0, 3.0, 4.0, 5.0, 7.0, 8.0, 9.0, 10.0, 0.0, 2.0, 4.0, 5.0, 0.0, 2.0, 3.0, 4.0, 7.0, 6.0, 0.0, 5.0], \"x\": [0.0, 0.0, 0.0, 0.0, 0.0, 0.0, 0.0, 0.0, 0.0, 1.0, 1.0, 1.0, 1.0, 2.0, 2.0, 2.0, 2.0, 2.0, 3.0, 4.0, 5.0], \"type\": \"scatter\", \"mode\": \"markers\", \"marker\": {\"size\": [5, 5, 5, 5, 5, 5, 15, 20, 5, 5, 5, 10, 15, 5, 10, 15, 5, 5, 15, 15, 5, 10, 5, 5, 5, 5, 5, 5, 5]}}], {\"title\": \"Relation between the number of cattle and sheeps\", \"xaxis\": {\"title\": \"Number of cattle\"}, \"yaxis\": {\"title\": \"Number of sheeps\"}}, {\"linkText\": \"Export to plot.ly\", \"showLink\": true})});</script>"
      ]
     },
     "metadata": {},
     "output_type": "display_data"
    }
   ],
   "source": [
    "prueba2 = pd.crosstab(livestock_set.livestock_number_cattle, livestock_set.livestock_number_sheep).stack().reset_index(name='number')\n",
    "#prueba.plot.scatter('livestock_number_goats', 'livestock_number_sheep', s=prueba.number * 10)\n",
    "prueba2 = prueba2[prueba2.number != 0]\n",
    "prueba2= prueba2.drop(0)\n",
    "prueba2 = prueba2[prueba2.livestock_number_cattle <= 100]\n",
    "prueba2 = prueba2[prueba2.livestock_number_sheep <= 100]\n",
    "#display(prueba)\n",
    "cattle_vs_sheeps = {\n",
    "    \"layout\": {\n",
    "        \"title\": \"Relation between the number of cattle and sheeps\",\n",
    "        \"xaxis\": {\n",
    "            \"title\": \"Number of cattle\"\n",
    "        },\n",
    "        \"yaxis\": {\n",
    "            \"title\": \"Number of sheeps\"\n",
    "        }\n",
    "    },\n",
    "    \"data\": [\n",
    "        {\n",
    "\n",
    "            \"x\": prueba2.livestock_number_cattle,\n",
    "            \"y\": prueba2.livestock_number_sheep,\n",
    "            \"mode\": \"markers\",\n",
    "            \"marker\": {\n",
    "                \"size\": prueba.number * 5               \n",
    "            },\n",
    "            \"type\": \"scatter\"\n",
    "        }\n",
    "    ]\n",
    "}\n",
    "iplot(cattle_vs_sheeps)"
   ]
  },
  {
   "cell_type": "code",
   "execution_count": 37,
   "metadata": {},
   "outputs": [
    {
     "data": {
      "application/vnd.plotly.v1+json": {
       "data": [
        {
         "marker": {
          "size": [
           5,
           5,
           5,
           5,
           5,
           5,
           15,
           20,
           5,
           5,
           5,
           10,
           15,
           5,
           10,
           15,
           5,
           5,
           15,
           15,
           5,
           10,
           5,
           5,
           5,
           5,
           5,
           5,
           5
          ]
         },
         "mode": "markers",
         "type": "scatter",
         "x": [
          0,
          0,
          1,
          2,
          2,
          3,
          3,
          3,
          4,
          4,
          4,
          5,
          5,
          5,
          7,
          7,
          7,
          9,
          10,
          11,
          23
         ],
         "y": [
          1,
          2,
          0,
          0,
          1,
          0,
          1,
          2,
          0,
          2,
          3,
          0,
          1,
          2,
          0,
          4,
          5,
          0,
          0,
          2,
          0
         ]
        }
       ],
       "layout": {
        "title": "Relation between the number of cattle and sheeps",
        "xaxis": {
         "title": "Number of goat"
        },
        "yaxis": {
         "title": "Number of cattle"
        }
       }
      },
      "text/html": [
       "<div id=\"8fa4eb68-952e-4d67-8a26-f69236178930\" style=\"height: 525px; width: 100%;\" class=\"plotly-graph-div\"></div><script type=\"text/javascript\">require([\"plotly\"], function(Plotly) { window.PLOTLYENV=window.PLOTLYENV || {};window.PLOTLYENV.BASE_URL=\"https://plot.ly\";Plotly.newPlot(\"8fa4eb68-952e-4d67-8a26-f69236178930\", [{\"y\": [1.0, 2.0, 0.0, 0.0, 1.0, 0.0, 1.0, 2.0, 0.0, 2.0, 3.0, 0.0, 1.0, 2.0, 0.0, 4.0, 5.0, 0.0, 0.0, 2.0, 0.0], \"x\": [0.0, 0.0, 1.0, 2.0, 2.0, 3.0, 3.0, 3.0, 4.0, 4.0, 4.0, 5.0, 5.0, 5.0, 7.0, 7.0, 7.0, 9.0, 10.0, 11.0, 23.0], \"type\": \"scatter\", \"mode\": \"markers\", \"marker\": {\"size\": [5, 5, 5, 5, 5, 5, 15, 20, 5, 5, 5, 10, 15, 5, 10, 15, 5, 5, 15, 15, 5, 10, 5, 5, 5, 5, 5, 5, 5]}}], {\"title\": \"Relation between the number of cattle and sheeps\", \"xaxis\": {\"title\": \"Number of goat\"}, \"yaxis\": {\"title\": \"Number of cattle\"}}, {\"linkText\": \"Export to plot.ly\", \"showLink\": true})});</script>"
      ],
      "text/vnd.plotly.v1+html": [
       "<div id=\"8fa4eb68-952e-4d67-8a26-f69236178930\" style=\"height: 525px; width: 100%;\" class=\"plotly-graph-div\"></div><script type=\"text/javascript\">require([\"plotly\"], function(Plotly) { window.PLOTLYENV=window.PLOTLYENV || {};window.PLOTLYENV.BASE_URL=\"https://plot.ly\";Plotly.newPlot(\"8fa4eb68-952e-4d67-8a26-f69236178930\", [{\"y\": [1.0, 2.0, 0.0, 0.0, 1.0, 0.0, 1.0, 2.0, 0.0, 2.0, 3.0, 0.0, 1.0, 2.0, 0.0, 4.0, 5.0, 0.0, 0.0, 2.0, 0.0], \"x\": [0.0, 0.0, 1.0, 2.0, 2.0, 3.0, 3.0, 3.0, 4.0, 4.0, 4.0, 5.0, 5.0, 5.0, 7.0, 7.0, 7.0, 9.0, 10.0, 11.0, 23.0], \"type\": \"scatter\", \"mode\": \"markers\", \"marker\": {\"size\": [5, 5, 5, 5, 5, 5, 15, 20, 5, 5, 5, 10, 15, 5, 10, 15, 5, 5, 15, 15, 5, 10, 5, 5, 5, 5, 5, 5, 5]}}], {\"title\": \"Relation between the number of cattle and sheeps\", \"xaxis\": {\"title\": \"Number of goat\"}, \"yaxis\": {\"title\": \"Number of cattle\"}}, {\"linkText\": \"Export to plot.ly\", \"showLink\": true})});</script>"
      ]
     },
     "metadata": {},
     "output_type": "display_data"
    }
   ],
   "source": [
    "prueba3 = pd.crosstab(livestock_set.livestock_number_goat, livestock_set.livestock_number_cattle).stack().reset_index(name='number')\n",
    "#prueba.plot.scatter('livestock_number_goats', 'livestock_number_sheep', s=prueba.number * 10)\n",
    "prueba3 = prueba3[prueba3.number != 0]\n",
    "prueba3= prueba3.drop(0)\n",
    "prueba3 = prueba3[prueba3.livestock_number_goat <= 100]\n",
    "prueba3 = prueba3[prueba3.livestock_number_cattle <= 100]\n",
    "#display(prueba)\n",
    "goat_vs_cattle = {\n",
    "    \"layout\": {\n",
    "        \"title\": \"Relation between the number of cattle and sheeps\",\n",
    "        \"xaxis\": {\n",
    "            \"title\": \"Number of goat\"\n",
    "        },\n",
    "        \"yaxis\": {\n",
    "            \"title\": \"Number of cattle\"\n",
    "        }\n",
    "    },\n",
    "    \"data\": [\n",
    "        {\n",
    "\n",
    "            \"x\": prueba3.livestock_number_goat,\n",
    "            \"y\": prueba3.livestock_number_cattle,\n",
    "            \"mode\": \"markers\",\n",
    "            \"marker\": {\n",
    "                \"size\": prueba.number * 5               \n",
    "            },\n",
    "            \"type\": \"scatter\"\n",
    "        }\n",
    "    ]\n",
    "}\n",
    "iplot(goat_vs_cattle)"
   ]
  },
  {
   "cell_type": "markdown",
   "metadata": {},
   "source": [
    "With a few exceptions, the number of goats per household is proportional to the number of sheeps. So to define wealth groups for livestock tenants the number of goats will be the main variable."
   ]
  },
  {
   "cell_type": "code",
   "execution_count": 38,
   "metadata": {
    "scrolled": false
   },
   "outputs": [
    {
     "name": "stdout",
     "output_type": "stream",
     "text": [
      "Quantiles:\n",
      "0.35     1.35\n",
      "0.97    10.17\n",
      "1.00    23.00\n",
      "Name: livestock_number_goat, dtype: float64\n"
     ]
    },
    {
     "data": {
      "application/vnd.plotly.v1+json": {
       "data": [
        {
         "autobinx": false,
         "histnorm": "probability density",
         "legendgroup": "poor",
         "marker": {
          "color": "rgb(31, 119, 180)"
         },
         "name": "poor",
         "opacity": 0.7,
         "type": "histogram",
         "x": [
          0,
          1,
          0,
          1,
          0,
          0,
          0,
          0,
          0,
          0,
          0,
          0,
          0,
          0,
          0,
          0,
          0,
          0,
          0,
          0,
          0,
          0
         ],
         "xaxis": "x1",
         "xbins": {
          "end": 1,
          "size": 1,
          "start": 0
         },
         "yaxis": "y1"
        },
        {
         "autobinx": false,
         "histnorm": "probability density",
         "legendgroup": "medium",
         "marker": {
          "color": "rgb(255, 127, 14)"
         },
         "name": "medium",
         "opacity": 0.7,
         "type": "histogram",
         "x": [
          4,
          5,
          2,
          3,
          5,
          4,
          4,
          3,
          4,
          5,
          2,
          3,
          2,
          4,
          3,
          5,
          5,
          2,
          5,
          4,
          7,
          4,
          5,
          3,
          2,
          2,
          5,
          7,
          5,
          10,
          7,
          9,
          2,
          7,
          2,
          2,
          3,
          3
         ],
         "xaxis": "x1",
         "xbins": {
          "end": 10,
          "size": 1,
          "start": 2
         },
         "yaxis": "y1"
        },
        {
         "autobinx": false,
         "histnorm": "probability density",
         "legendgroup": "rich",
         "marker": {
          "color": "rgb(44, 160, 44)"
         },
         "name": "rich",
         "opacity": 0.7,
         "type": "histogram",
         "x": [
          23,
          11
         ],
         "xaxis": "x1",
         "xbins": {
          "end": 23,
          "size": 1,
          "start": 11
         },
         "yaxis": "y1"
        },
        {
         "legendgroup": "poor",
         "marker": {
          "color": "rgb(31, 119, 180)"
         },
         "mode": "lines",
         "name": "poor",
         "showlegend": false,
         "type": "scatter",
         "x": [
          0,
          0.002,
          0.004,
          0.006,
          0.008,
          0.01,
          0.012,
          0.014,
          0.016,
          0.018,
          0.02,
          0.022,
          0.024,
          0.026,
          0.028,
          0.03,
          0.032,
          0.034,
          0.036,
          0.038,
          0.04,
          0.042,
          0.044,
          0.046,
          0.048,
          0.05,
          0.052,
          0.054,
          0.056,
          0.058,
          0.06,
          0.062,
          0.064,
          0.066,
          0.068,
          0.07,
          0.072,
          0.074,
          0.076,
          0.078,
          0.08,
          0.082,
          0.084,
          0.086,
          0.088,
          0.09,
          0.092,
          0.094,
          0.096,
          0.098,
          0.1,
          0.102,
          0.104,
          0.106,
          0.108,
          0.11,
          0.112,
          0.114,
          0.116,
          0.118,
          0.12,
          0.122,
          0.124,
          0.126,
          0.128,
          0.13,
          0.132,
          0.134,
          0.136,
          0.138,
          0.14,
          0.142,
          0.144,
          0.146,
          0.148,
          0.15,
          0.152,
          0.154,
          0.156,
          0.158,
          0.16,
          0.162,
          0.164,
          0.166,
          0.168,
          0.17,
          0.172,
          0.174,
          0.176,
          0.178,
          0.18,
          0.182,
          0.184,
          0.186,
          0.188,
          0.19,
          0.192,
          0.194,
          0.196,
          0.198,
          0.2,
          0.202,
          0.204,
          0.206,
          0.208,
          0.21,
          0.212,
          0.214,
          0.216,
          0.218,
          0.22,
          0.222,
          0.224,
          0.226,
          0.228,
          0.23,
          0.232,
          0.234,
          0.236,
          0.238,
          0.24,
          0.242,
          0.244,
          0.246,
          0.248,
          0.25,
          0.252,
          0.254,
          0.256,
          0.258,
          0.26,
          0.262,
          0.264,
          0.266,
          0.268,
          0.27,
          0.272,
          0.274,
          0.276,
          0.278,
          0.28,
          0.282,
          0.284,
          0.286,
          0.288,
          0.29,
          0.292,
          0.294,
          0.296,
          0.298,
          0.3,
          0.302,
          0.304,
          0.306,
          0.308,
          0.31,
          0.312,
          0.314,
          0.316,
          0.318,
          0.32,
          0.322,
          0.324,
          0.326,
          0.328,
          0.33,
          0.332,
          0.334,
          0.336,
          0.338,
          0.34,
          0.342,
          0.344,
          0.346,
          0.348,
          0.35,
          0.352,
          0.354,
          0.356,
          0.358,
          0.36,
          0.362,
          0.364,
          0.366,
          0.368,
          0.37,
          0.372,
          0.374,
          0.376,
          0.378,
          0.38,
          0.382,
          0.384,
          0.386,
          0.388,
          0.39,
          0.392,
          0.394,
          0.396,
          0.398,
          0.4,
          0.402,
          0.404,
          0.406,
          0.408,
          0.41,
          0.412,
          0.414,
          0.416,
          0.418,
          0.42,
          0.422,
          0.424,
          0.426,
          0.428,
          0.43,
          0.432,
          0.434,
          0.436,
          0.438,
          0.44,
          0.442,
          0.444,
          0.446,
          0.448,
          0.45,
          0.452,
          0.454,
          0.456,
          0.458,
          0.46,
          0.462,
          0.464,
          0.466,
          0.468,
          0.47,
          0.472,
          0.474,
          0.476,
          0.478,
          0.48,
          0.482,
          0.484,
          0.486,
          0.488,
          0.49,
          0.492,
          0.494,
          0.496,
          0.498,
          0.5,
          0.502,
          0.504,
          0.506,
          0.508,
          0.51,
          0.512,
          0.514,
          0.516,
          0.518,
          0.52,
          0.522,
          0.524,
          0.526,
          0.528,
          0.53,
          0.532,
          0.534,
          0.536,
          0.538,
          0.54,
          0.542,
          0.544,
          0.546,
          0.548,
          0.55,
          0.552,
          0.554,
          0.556,
          0.558,
          0.56,
          0.562,
          0.564,
          0.566,
          0.568,
          0.57,
          0.572,
          0.574,
          0.576,
          0.578,
          0.58,
          0.582,
          0.584,
          0.586,
          0.588,
          0.59,
          0.592,
          0.594,
          0.596,
          0.598,
          0.6,
          0.602,
          0.604,
          0.606,
          0.608,
          0.61,
          0.612,
          0.614,
          0.616,
          0.618,
          0.62,
          0.622,
          0.624,
          0.626,
          0.628,
          0.63,
          0.632,
          0.634,
          0.636,
          0.638,
          0.64,
          0.642,
          0.644,
          0.646,
          0.648,
          0.65,
          0.652,
          0.654,
          0.656,
          0.658,
          0.66,
          0.662,
          0.664,
          0.666,
          0.668,
          0.67,
          0.672,
          0.674,
          0.676,
          0.678,
          0.68,
          0.682,
          0.684,
          0.686,
          0.688,
          0.69,
          0.692,
          0.694,
          0.696,
          0.698,
          0.7,
          0.702,
          0.704,
          0.706,
          0.708,
          0.71,
          0.712,
          0.714,
          0.716,
          0.718,
          0.72,
          0.722,
          0.724,
          0.726,
          0.728,
          0.73,
          0.732,
          0.734,
          0.736,
          0.738,
          0.74,
          0.742,
          0.744,
          0.746,
          0.748,
          0.75,
          0.752,
          0.754,
          0.756,
          0.758,
          0.76,
          0.762,
          0.764,
          0.766,
          0.768,
          0.77,
          0.772,
          0.774,
          0.776,
          0.778,
          0.78,
          0.782,
          0.784,
          0.786,
          0.788,
          0.79,
          0.792,
          0.794,
          0.796,
          0.798,
          0.8,
          0.802,
          0.804,
          0.806,
          0.808,
          0.81,
          0.812,
          0.814,
          0.816,
          0.818,
          0.82,
          0.822,
          0.824,
          0.826,
          0.828,
          0.83,
          0.832,
          0.834,
          0.836,
          0.838,
          0.84,
          0.842,
          0.844,
          0.846,
          0.848,
          0.85,
          0.852,
          0.854,
          0.856,
          0.858,
          0.86,
          0.862,
          0.864,
          0.866,
          0.868,
          0.87,
          0.872,
          0.874,
          0.876,
          0.878,
          0.88,
          0.882,
          0.884,
          0.886,
          0.888,
          0.89,
          0.892,
          0.894,
          0.896,
          0.898,
          0.9,
          0.902,
          0.904,
          0.906,
          0.908,
          0.91,
          0.912,
          0.914,
          0.916,
          0.918,
          0.92,
          0.922,
          0.924,
          0.926,
          0.928,
          0.93,
          0.932,
          0.934,
          0.936,
          0.938,
          0.94,
          0.942,
          0.944,
          0.946,
          0.948,
          0.95,
          0.952,
          0.954,
          0.956,
          0.958,
          0.96,
          0.962,
          0.964,
          0.966,
          0.968,
          0.97,
          0.972,
          0.974,
          0.976,
          0.978,
          0.98,
          0.982,
          0.984,
          0.986,
          0.988,
          0.99,
          0.992,
          0.994,
          0.996,
          0.998
         ],
         "xaxis": "x1",
         "y": [
          2.287140840854731,
          2.2869589308500142,
          2.286413287557675,
          2.2855041713263273,
          2.284232015840113,
          2.282597427773937,
          2.2806011863112863,
          2.278244242525228,
          2.2755277186232505,
          2.2724529070567914,
          2.26902126949644,
          2.2652344356739524,
          2.2610942020923646,
          2.256602530605632,
          2.2517615468693704,
          2.246573538664403,
          2.2410409540949754,
          2.2351663996636155,
          2.2289526382247615,
          2.2224025868194133,
          2.2155193143931617,
          2.2083060394001333,
          2.2007661272954167,
          2.192903087918755,
          2.1847205727723247,
          2.1762223721955523,
          2.1674124124400453,
          2.1582947526477874,
          2.148873581735848,
          2.1391532151909565,
          2.129138091777379,
          2.1188327701615934,
          2.108241925457374,
          2.0973703456949333,
          2.0862229282178513,
          2.0748046760115892,
          2.0631206939674325,
          2.051176185085758,
          2.0389764466225815,
          2.026526866183354,
          2.0138329177680423,
          2.0009001577715617,
          1.9877342209435898,
          1.97434081631192,
          1.9607257230734219,
          1.9468947864567456,
          1.9328539135609049,
          1.9186090691738462,
          1.9041662715751284,
          1.8895315883268249,
          1.8747111320567282,
          1.859711056237923,
          1.8445375509687822,
          1.8291968387573723,
          1.8136951703142583,
          1.798038820357634,
          1.7822340834346542,
          1.766287269762803,
          1.750204701095095,
          1.7339927066128054,
          1.717657618849392,
          1.701205769649215,
          1.6846434861645379,
          1.6679770868942796,
          1.6512128777678703,
          1.6343571482774906,
          1.6174161676618857,
          1.6003961811448648,
          1.5833034062315043,
          1.566144029064951,
          1.5489242008466835,
          1.5316500343229067,
          1.514327600339745,
          1.4969629244697096,
          1.4795619837118632,
          1.4621307032679869,
          1.4446749533969268,
          1.4272005463491888,
          1.4097132333837714,
          1.392218701869051,
          1.3747225724694951,
          1.3572303964197685,
          1.3397476528877845,
          1.3222797464280516,
          1.3048320045266002,
          1.2874096752386202,
          1.2700179249198666,
          1.2526618360527202,
          1.2353464051677203,
          1.21807654086125,
          1.2008570619099195,
          1.1836926954821243,
          1.1665880754471105,
          1.1495477407817452,
          1.1325761340751552,
          1.1156776001311886,
          1.0988563846686292,
          1.082116633118935,
          1.0654623895211972,
          1.0488975955138935,
          1.0324260894229202,
          1.016051605445293,
          0.9997777729277895,
          0.9836081157397443,
          0.9675460517390857,
          0.951594892330631,
          0.9357578421155794,
          0.9200379986310263,
          0.9044383521782838,
          0.8889617857386808,
          0.8736110749754632,
          0.8583888883203327,
          0.8432977871430882,
          0.8283402260027959,
          0.81351855297881,
          0.7988350100799511,
          0.7842917337300529,
          0.7698907553280712,
          0.7556340018808727,
          0.741523296706784,
          0.7275603602079548,
          0.7137468107095111,
          0.7000841653634851,
          0.6865738411154304,
          0.6732171557316424,
          0.6600153288848409,
          0.646969483296175,
          0.6340806459313749,
          0.6213497492488671,
          0.608777632497646,
          0.5963650430626966,
          0.5841126378557401,
          0.5720209847490862,
          0.5600905640503513,
          0.5483217700158337,
          0.5367149124003034,
          0.5252702180410052,
          0.5139878324736564,
          0.5028678215782512,
          0.49191017325247943,
          0.48111479911060573,
          0.47048153620564964,
          0.4600101487727527,
          0.4497003299916189,
          0.4395517037659634,
          0.4295638265179088,
          0.4197361889953162,
          0.4100682180900642,
          0.40055927866531493,
          0.39120867538985116,
          0.3820156545776015,
          0.3729794060305068,
          0.36409906488292126,
          0.3553737134457881,
          0.34680238304886074,
          0.33838405587929693,
          0.3301176668149841,
          0.32200210525101464,
          0.31403621691775924,
          0.30621880568905213,
          0.29854863537903004,
          0.29102443152623514,
          0.2836448831636244,
          0.2764086445731891,
          0.26931433702393187,
          0.26236055049199986,
          0.2555458453618288,
          0.24886875410719186,
          0.24232778295111096,
          0.23592141350362916,
          0.22964810437649877,
          0.22350629277388928,
          0.21749439605826779,
          0.2116108132906557,
          0.20585392674451924,
          0.2002221033925919,
          0.1947136963659848,
          0.18932704638498415,
          0.18406048316098514,
          0.17891232676905652,
          0.17388088899067977,
          0.16896447462624978,
          0.16416138277697134,
          0.1594699080958278,
          0.1548883420073436,
          0.15041497389590433,
          0.14604809226243717,
          0.1417859858493017,
          0.13762694473327233,
          0.13356926138653788,
          0.12961123170568176,
          0.1257511560086377,
          0.12198733999965848,
          0.11831809570236201,
          0.11474174236095981,
          0.11125660730979807,
          0.1078610268113792,
          0.10455334686305459,
          0.1013319239726151,
          0.09819512590302634,
          0.0951413323865888,
          0.0921689358088215,
          0.08927634186239804,
          0.08646197017148122,
          0.08372425488682787,
          0.08106164525205382,
          0.0784726061414692,
          0.07595561856991266,
          0.0735091801750275,
          0.07113180567244312,
          0.06882202728433562,
          0.06657839514185679,
          0.06439947766193366,
          0.062283861898951964,
          0.060230153871845035,
          0.05823697886712439,
          0.05630298171838883,
          0.05442682706286451,
          0.05260719957552771,
          0.050842804181372755,
          0.04913236624638738,
          0.04747463174780637,
          0.04586836742421162,
          0.04431236090605345,
          0.04280542082716485,
          0.041346376917844464,
          0.039934080080079044,
          0.03856740244547936,
          0.03724523741649736,
          0.03596649969149279,
          0.0347301252742113,
          0.03353507146823437,
          0.03238031685695426,
          0.031264861269624376,
          0.03018772573402677,
          0.029147952416294233,
          0.028144604548416722,
          0.027176766343953742,
          0.026243542902467717,
          0.02534406010318349,
          0.024477464488371823,
          0.02364292313694473,
          0.0228396235287411,
          0.02206677339997153,
          0.02132360059028115,
          0.02060935288187826,
          0.019923297831167246,
          0.019264722593311457,
          0.018632933740142917,
          0.018027257071822313,
          0.017447037422643093,
          0.016891638461360492,
          0.016360442486415962,
          0.015852850216414603,
          0.015368280576202022,
          0.0149061704788751,
          0.014465974604048805,
          0.014047165172689913,
          0.013649231718816025,
          0.013271680858346537,
          0.012914036055380534,
          0.012575837386164478,
          0.012256641301000867,
          0.011956020384337804,
          0.011673563113267012,
          0.011408873614647331,
          0.011161571421058803,
          0.010931291225781395,
          0.010717682636981562,
          0.010520409931279054,
          0.010339151806855088,
          0.01017360113625362,
          0.01002346471901604,
          0.00988846303428029,
          0.009768329993465287,
          0.009662812693151931,
          0.009571671168262488,
          0.009494678145631357,
          0.009431618798050833,
          0.009382290498867156,
          0.009346502577193794,
          0.009324076073800645,
          0.009314843497730116,
          0.009318648583683265,
          0.00933534605021258,
          0.009364801358749958,
          0.00940689047349285,
          0.009461499622164263,
          0.009528525057656948,
          0.009607872820565546,
          0.00969945850260598,
          0.009803207010914961,
          0.009919052333218784,
          0.010046937303855214,
          0.010186813370628461,
          0.010338640362472793,
          0.010502386257897315,
          0.010678026954180768,
          0.010865546037281716,
          0.011064934552427798,
          0.011276190775344364,
          0.011499319984080863,
          0.01173433423139207,
          0.011981252117628897,
          0.012240098564092965,
          0.012510904586807483,
          0.01279370707065721,
          0.013088548543848945,
          0.013395476952644442,
          0.013714545436317796,
          0.014045812102289482,
          0.0143893398013904,
          0.014745195903209562,
          0.015113452071481261,
          0.015494184039467892,
          0.015887471385297586,
          0.016293397307216125,
          0.016712048398717195,
          0.017143514423514555,
          0.017587888090325,
          0.018045264827432083,
          0.018515742557004618,
          0.0189994214691465,
          0.019496403795659006,
          0.020006793583498644,
          0.020530696467919135,
          0.02106821944528961,
          0.021619470645584355,
          0.022184559104545153,
          0.022763594535520636,
          0.02335668710099263,
          0.023963947183803166,
          0.02458548515810169,
          0.025221411160035827,
          0.025871834858215564,
          0.026536865223984775,
          0.027216610301539077,
          0.027911176977935763,
          0.028620670753044888,
          0.02934519550949827,
          0.030084853282695917,
          0.03083974403093825,
          0.03160996540575496,
          0.03239561252250747,
          0.03319677773135067,
          0.03401355038863928,
          0.03484601662887607,
          0.03569425913729888,
          0.03655835692321331,
          0.03743838509418137,
          0.03833441463118038,
          0.03924651216485483,
          0.04017473975298638,
          0.04111915465931326,
          0.042079809133835716,
          0.04305675019474817,
          0.04405001941214316,
          0.04505965269363881,
          0.046085680072083135,
          0.04712812549549486,
          0.0481870066194038,
          0.049262334601757496,
          0.05035411390056519,
          0.051462342074453,
          0.052587009586308395,
          0.053728099610194056,
          0.054885587841715634,
          0.056059442312028515,
          0.05724962320567299,
          0.058456082682428495,
          0.05967876470338033,
          0.060917604861390855,
          0.0621725302161741,
          0.06344345913416884,
          0.06473030113340623,
          0.06603295673357351,
          0.06735131731147004,
          0.06868526496205205,
          0.07003467236526877,
          0.07139940265888065,
          0.07277930931746097,
          0.07417423603777258,
          0.07558401663071244,
          0.07700847492001645,
          0.07844742464791012,
          0.0799006693878949,
          0.08136800246484824,
          0.08284920688261932,
          0.08434405525929461,
          0.08585230977030635,
          0.08737372209954906,
          0.08890803339866586,
          0.09045497425466559,
          0.09201426466601637,
          0.0935856140273676,
          0.09516872112303577,
          0.09676327412939047,
          0.09836895062626573,
          0.0999854176175175,
          0.1016123315608384,
          0.10324933840693577,
          0.10489607364816997,
          0.10655216237674009,
          0.10821721935249934,
          0.10989084908046906,
          0.11157264589811623,
          0.11326219407244587,
          0.1149590679069528,
          0.11666283185846649,
          0.11837304066391273,
          0.12008923947700394,
          0.12181096401486782,
          0.12353774071459969,
          0.12526908689972324,
          0.12700451095653534,
          0.12874351252028682,
          0.13048558267115762,
          0.13223020413995604,
          0.1339768515234748,
          0.13572499150941625,
          0.13747408311079015,
          0.13922357790967746,
          0.14097292031024067,
          0.14272154780085114,
          0.14446889122518575,
          0.14621437506214588,
          0.14795741771442875,
          0.14969743180557493,
          0.1514338244853077,
          0.15316599774295478,
          0.1548933487287543,
          0.1566152700828164,
          0.15833115027150382,
          0.16004037393100068,
          0.1617423222177993,
          0.16343637316585782,
          0.16512190205013763,
          0.16679828175625144,
          0.16846488315591576,
          0.1701210754879108,
          0.17176622674423772,
          0.17339970406114086,
          0.17502087411468165,
          0.17662910352050956,
          0.1782237592374963,
          0.17980420897487506,
          0.18136982160252343,
          0.182919967564029,
          0.18445401929215507,
          0.18597135162633704,
          0.18747134223181783,
          0.18895337202003631,
          0.19041682556987535,
          0.1918610915493663,
          0.1932855631374547,
          0.19468963844541745,
          0.19607272093752737,
          0.19743421985055054,
          0.1987735506116736,
          0.20009013525443517,
          0.20138340283226527,
          0.20265278982920265,
          0.20389774056739043,
          0.20511770761093082,
          0.20631215216569024,
          0.20748054447464742,
          0.20862236420837962,
          0.20973710085027955,
          0.21082425407611097,
          0.21188333412750116,
          0.21291386217898492,
          0.2139153706982128,
          0.21488740379894236,
          0.21582951758644403,
          0.21674128049495042,
          0.21762227361679237,
          0.21847209102286896,
          0.21929034007410822,
          0.22007664172358443,
          0.22083063080896498,
          0.22155195633497224,
          0.2222402817455545,
          0.2228952851854659,
          0.22351665975097793,
          0.22410411372944136,
          0.22465737082744472,
          0.22517617038730747,
          0.2256602675916854,
          0.22610943365604771,
          0.22652345600882776,
          0.22690213845903612,
          0.22724530135116006,
          0.2275527817071748,
          0.22782443335550753,
          0.22806012704681342,
          0.22825975055643394,
          0.22842320877342534,
          0.22855042377605525,
          0.22864133489368685,
          0.22869589875497917
         ],
         "yaxis": "y1"
        },
        {
         "legendgroup": "medium",
         "marker": {
          "color": "rgb(255, 127, 14)"
         },
         "mode": "lines",
         "name": "medium",
         "showlegend": false,
         "type": "scatter",
         "x": [
          2,
          2.016,
          2.032,
          2.048,
          2.064,
          2.08,
          2.096,
          2.112,
          2.128,
          2.144,
          2.16,
          2.176,
          2.192,
          2.208,
          2.224,
          2.24,
          2.2560000000000002,
          2.2720000000000002,
          2.288,
          2.304,
          2.32,
          2.336,
          2.352,
          2.368,
          2.384,
          2.4,
          2.416,
          2.432,
          2.448,
          2.464,
          2.48,
          2.496,
          2.512,
          2.528,
          2.544,
          2.56,
          2.576,
          2.592,
          2.608,
          2.624,
          2.64,
          2.656,
          2.672,
          2.6879999999999997,
          2.7039999999999997,
          2.7199999999999998,
          2.7359999999999998,
          2.752,
          2.768,
          2.784,
          2.8,
          2.816,
          2.832,
          2.848,
          2.864,
          2.88,
          2.896,
          2.912,
          2.928,
          2.944,
          2.96,
          2.976,
          2.992,
          3.008,
          3.024,
          3.04,
          3.056,
          3.072,
          3.088,
          3.104,
          3.12,
          3.136,
          3.152,
          3.168,
          3.184,
          3.2,
          3.216,
          3.232,
          3.248,
          3.2640000000000002,
          3.2800000000000002,
          3.2960000000000003,
          3.3120000000000003,
          3.3280000000000003,
          3.3440000000000003,
          3.3600000000000003,
          3.376,
          3.392,
          3.408,
          3.424,
          3.44,
          3.456,
          3.472,
          3.488,
          3.504,
          3.52,
          3.536,
          3.552,
          3.568,
          3.584,
          3.6,
          3.616,
          3.6319999999999997,
          3.6479999999999997,
          3.6639999999999997,
          3.6799999999999997,
          3.6959999999999997,
          3.7119999999999997,
          3.7279999999999998,
          3.7439999999999998,
          3.76,
          3.776,
          3.792,
          3.808,
          3.824,
          3.84,
          3.856,
          3.872,
          3.888,
          3.904,
          3.92,
          3.936,
          3.952,
          3.968,
          3.984,
          4,
          4.016,
          4.032,
          4.048,
          4.064,
          4.08,
          4.096,
          4.112,
          4.128,
          4.144,
          4.16,
          4.176,
          4.192,
          4.208,
          4.224,
          4.24,
          4.256,
          4.272,
          4.288,
          4.304,
          4.32,
          4.336,
          4.352,
          4.368,
          4.384,
          4.4,
          4.416,
          4.432,
          4.448,
          4.464,
          4.48,
          4.496,
          4.5120000000000005,
          4.5280000000000005,
          4.5440000000000005,
          4.5600000000000005,
          4.5760000000000005,
          4.5920000000000005,
          4.6080000000000005,
          4.6240000000000006,
          4.640000000000001,
          4.656000000000001,
          4.672000000000001,
          4.688000000000001,
          4.704000000000001,
          4.720000000000001,
          4.736000000000001,
          4.752,
          4.768,
          4.784,
          4.8,
          4.816,
          4.832,
          4.848,
          4.864,
          4.88,
          4.896,
          4.912,
          4.928,
          4.944,
          4.96,
          4.976,
          4.992,
          5.008,
          5.024,
          5.04,
          5.056,
          5.072,
          5.088,
          5.104,
          5.12,
          5.136,
          5.152,
          5.168,
          5.184,
          5.2,
          5.216,
          5.232,
          5.248,
          5.263999999999999,
          5.279999999999999,
          5.295999999999999,
          5.311999999999999,
          5.327999999999999,
          5.343999999999999,
          5.359999999999999,
          5.3759999999999994,
          5.3919999999999995,
          5.4079999999999995,
          5.4239999999999995,
          5.4399999999999995,
          5.4559999999999995,
          5.4719999999999995,
          5.4879999999999995,
          5.504,
          5.52,
          5.536,
          5.552,
          5.568,
          5.584,
          5.6,
          5.616,
          5.632,
          5.648,
          5.664,
          5.68,
          5.696,
          5.712,
          5.728,
          5.744,
          5.76,
          5.776,
          5.792,
          5.808,
          5.824,
          5.84,
          5.856,
          5.872,
          5.888,
          5.904,
          5.92,
          5.936,
          5.952,
          5.968,
          5.984,
          6,
          6.016,
          6.032,
          6.048,
          6.064,
          6.08,
          6.096,
          6.112,
          6.128,
          6.144,
          6.16,
          6.176,
          6.192,
          6.208,
          6.224,
          6.24,
          6.256,
          6.272,
          6.288,
          6.304,
          6.32,
          6.336,
          6.352,
          6.368,
          6.384,
          6.4,
          6.416,
          6.432,
          6.448,
          6.464,
          6.48,
          6.496,
          6.512,
          6.528,
          6.544,
          6.56,
          6.576,
          6.592,
          6.608,
          6.624,
          6.64,
          6.656,
          6.672,
          6.688,
          6.704,
          6.72,
          6.736,
          6.752,
          6.768,
          6.784,
          6.8,
          6.816,
          6.832,
          6.848,
          6.864,
          6.88,
          6.896,
          6.912,
          6.928,
          6.944,
          6.96,
          6.976,
          6.992,
          7.008,
          7.024,
          7.04,
          7.056,
          7.072,
          7.088,
          7.104,
          7.12,
          7.136,
          7.152,
          7.168,
          7.184,
          7.2,
          7.216,
          7.232,
          7.248,
          7.264,
          7.28,
          7.296,
          7.312,
          7.328,
          7.344,
          7.36,
          7.376,
          7.392,
          7.408,
          7.424,
          7.44,
          7.456,
          7.472,
          7.488,
          7.504,
          7.52,
          7.536,
          7.552,
          7.568,
          7.584,
          7.6,
          7.616,
          7.632,
          7.648,
          7.664,
          7.68,
          7.696,
          7.712,
          7.728,
          7.744,
          7.76,
          7.776,
          7.792,
          7.808,
          7.824,
          7.84,
          7.856,
          7.872,
          7.888,
          7.904,
          7.92,
          7.936,
          7.952,
          7.968,
          7.984,
          8,
          8.016,
          8.032,
          8.048,
          8.064,
          8.08,
          8.096,
          8.112,
          8.128,
          8.144,
          8.16,
          8.176,
          8.192,
          8.208,
          8.224,
          8.24,
          8.256,
          8.272,
          8.288,
          8.304,
          8.32,
          8.336,
          8.352,
          8.368,
          8.384,
          8.4,
          8.416,
          8.432,
          8.448,
          8.464,
          8.48,
          8.496,
          8.512,
          8.527999999999999,
          8.544,
          8.559999999999999,
          8.576,
          8.591999999999999,
          8.608,
          8.623999999999999,
          8.64,
          8.655999999999999,
          8.672,
          8.687999999999999,
          8.704,
          8.719999999999999,
          8.736,
          8.751999999999999,
          8.768,
          8.783999999999999,
          8.8,
          8.815999999999999,
          8.832,
          8.847999999999999,
          8.864,
          8.879999999999999,
          8.896,
          8.911999999999999,
          8.928,
          8.943999999999999,
          8.96,
          8.975999999999999,
          8.992,
          9.008,
          9.024000000000001,
          9.04,
          9.056000000000001,
          9.072,
          9.088000000000001,
          9.104,
          9.120000000000001,
          9.136,
          9.152000000000001,
          9.168,
          9.184000000000001,
          9.2,
          9.216000000000001,
          9.232,
          9.248000000000001,
          9.264,
          9.280000000000001,
          9.296,
          9.312000000000001,
          9.328,
          9.344000000000001,
          9.36,
          9.376000000000001,
          9.392,
          9.408000000000001,
          9.424,
          9.440000000000001,
          9.456,
          9.472000000000001,
          9.488,
          9.504,
          9.52,
          9.536,
          9.552,
          9.568,
          9.584,
          9.6,
          9.616,
          9.632,
          9.648,
          9.664,
          9.68,
          9.696,
          9.712,
          9.728,
          9.744,
          9.76,
          9.776,
          9.792,
          9.808,
          9.824,
          9.84,
          9.856,
          9.872,
          9.888,
          9.904,
          9.92,
          9.936,
          9.952,
          9.968,
          9.984
         ],
         "xaxis": "x1",
         "y": [
          0.1520840461754053,
          0.1531863439760608,
          0.1542723419102493,
          0.15534183853606423,
          0.15639464646756907,
          0.1574305924555392,
          0.15844951744867472,
          0.15945127663527772,
          0.16043573946542802,
          0.16140278965371713,
          0.16235232516263953,
          0.16328425816677272,
          0.16419851499790483,
          0.16509503607130785,
          0.1659737757933782,
          0.1668347024509014,
          0.16767779808222372,
          0.1685030583306444,
          0.16931049228036815,
          0.17010012227538335,
          0.17087198372165777,
          0.171626124873069,
          0.17236260660150574,
          0.17308150215160284,
          0.1737828968805907,
          0.17446688798375945,
          0.17513358420605787,
          0.17578310554036253,
          0.1764155829129683,
          0.1770311578568684,
          0.17762998217339993,
          0.17821221758284853,
          0.1787780353646125,
          0.17932761598753735,
          0.1798611487310377,
          0.18037883129763557,
          0.1808808694175399,
          0.1813674764459078,
          0.18183887295342152,
          0.1822952863108213,
          0.182736950268034,
          0.1831641045285397,
          0.18357699431960847,
          0.1839758699590477,
          0.18436098641908988,
          0.18473260288804658,
          0.18509098233035035,
          0.18543639104560145,
          0.18576909822722265,
          0.18608937552132593,
          0.18639749658637803,
          0.1866937366542468,
          0.18697837209320087,
          0.18725167997341857,
          0.18751393763555735,
          0.18776542226291848,
          0.18800641045773284,
          0.1882371778220764,
          0.18845799854391473,
          0.18866914498876128,
          0.1888708872974199,
          0.18906349299026654,
          0.18924722657851573,
          0.18942234918289622,
          0.18958911816015214,
          0.1897477867377666,
          0.18989860365729375,
          0.1900418128266672,
          0.19017765298184103,
          0.19030635735810308,
          0.19042815337138835,
          0.1905432623098999,
          0.1906518990363403,
          0.1907542717010317,
          0.19085058146619702,
          0.19094102224165624,
          0.19102578043217938,
          0.19110503469672618,
          0.19117895571978627,
          0.19124770599502136,
          0.19131143962140165,
          0.1913703021120098,
          0.19142443021568048,
          0.19147395175162293,
          0.19151898545717336,
          0.19155964084879876,
          0.19159601809647459,
          0.19162820791153773,
          0.19165629144811197,
          0.19168034021818608,
          0.19170041602041912,
          0.19171657088273225,
          0.19172884701873716,
          0.19173727679804176,
          0.19174188273046103,
          0.19174267746415008,
          0.19173966379766855,
          0.19173283470597158,
          0.19172217338031233,
          0.1917076532820334,
          0.1916892382102094,
          0.1916668823830927,
          0.1916405305333072,
          0.19161011801671757,
          0.19157557093489513,
          0.19153680627108727,
          0.1914937320395846,
          0.19144624744837282,
          0.19139424307493622,
          0.19133760105507563,
          0.19127619528458442,
          0.1912098916336164,
          0.19113854817356526,
          0.19106201541626147,
          0.19098013656528007,
          0.19089274777913576,
          0.1907996784461316,
          0.19070075147060803,
          0.19059578357032872,
          0.1904845855847217,
          0.19036696279367984,
          0.1902427152466086,
          0.19011163810139514,
          0.18997352197295367,
          0.18982815329098948,
          0.1896753146666041,
          0.1895147852673525,
          0.18934634120034122,
          0.18916975590294438,
          0.18898480054069688,
          0.1887912444119072,
          0.18858885535851505,
          0.18837740018270574,
          0.18815664506877644,
          0.1879263560097305,
          0.1876862992380634,
          0.1874362416601937,
          0.1871759512939633,
          0.18690519770863492,
          0.18662375246678653,
          0.18633138956749815,
          0.18602788589020766,
          0.18571302163860465,
          0.18538658078391906,
          0.1850483515069477,
          0.18469812663815696,
          0.1843357040951867,
          0.18396088731707577,
          0.18357348569452023,
          0.18317331499547132,
          0.18276019778537397,
          0.18233396384134354,
          0.18189445055957695,
          0.1814415033552919,
          0.18097497605448729,
          0.1804947312768226,
          0.18000064080891304,
          0.1794925859673427,
          0.1789704579507053,
          0.1784341581799865,
          0.17788359862661204,
          0.17731870212749518,
          0.17673940268642876,
          0.17614564576118164,
          0.17553738853567,
          0.17491460017659613,
          0.17427726207395958,
          0.173625368064869,
          0.17295892464009976,
          0.17227795113287078,
          0.17158247988933145,
          0.17087255642027865,
          0.17014823953365285,
          0.16940960144738282,
          0.16865672788218858,
          0.16788971813397482,
          0.16710868512548382,
          0.16631375543690957,
          0.16550506931520947,
          0.16468278066188488,
          0.1638470569990429,
          0.16299807941358405,
          0.16213604247940444,
          0.16126115415753697,
          0.16037363567420207,
          0.15947372137677204,
          0.15856165856770385,
          0.1576377073165284,
          0.1567021402500367,
          0.15575524232083737,
          0.1547973105545101,
          0.15382865377561988,
          0.15284959231289919,
          0.15186045768395315,
          0.15086159225987988,
          0.14985334891024635,
          0.14883609062889822,
          0.1478101901411264,
          0.14677602949275456,
          0.14573399962174877,
          0.14468449991299442,
          0.14362793773692029,
          0.14256472797269115,
          0.14149529251672047,
          0.14042005977729657,
          0.13933946415614396,
          0.13825394551777692,
          0.13716394864753037,
          0.13606992269918247,
          0.1349723206331143,
          0.13387159864596843,
          0.13276821559280222,
          0.13166263240274334,
          0.13055531148918095,
          0.12944671615553963,
          0.12833730999769818,
          0.1272275563041296,
          0.1261179174548479,
          0.1250088543202547,
          0.12390082566098486,
          0.12279428752985438,
          0.1216896926770136,
          0.12058748995940576,
          0.1194881237556296,
          0.11839203338729687,
          0.11729965254796533,
          0.11621140874071667,
          0.11512772272543814,
          0.11404900797684447,
          0.11297567015426224,
          0.1119081065841767,
          0.11084670575651627,
          0.10979184683562634,
          0.10874389918685326,
          0.1077032219196328,
          0.1066701634479419,
          0.10564506106894041,
          0.10462824056059246,
          0.10362001579901908,
          0.102620688396295,
          0.10163054735935961,
          0.10064986877067009,
          0.09967891549117894,
          0.09871793688617578,
          0.09776716857448033,
          0.096826832201431,
          0.09589713523606078,
          0.0949782707928031,
          0.09407041747801907,
          0.09317373926158605,
          0.09228838537373543,
          0.09141449022727426,
          0.09055217336527283,
          0.08970153943424844,
          0.08886267818282005,
          0.08803566448575786,
          0.08722055839329808,
          0.08641740520554025,
          0.08562623557169517,
          0.08484706561389585,
          0.08407989707523818,
          0.08332471749166491,
          0.08258150038725923,
          0.08185020549246665,
          0.08113077898471781,
          0.08042315375087815,
          0.07972724967090941,
          0.0790429739220833,
          0.07837022130304915,
          0.07770887457701711,
          0.0770588048332826,
          0.0764198718662824,
          0.07579192457133925,
          0.07517480135622143,
          0.07456833056761446,
          0.07397233093157571,
          0.07338661200701767,
          0.07281097465124392,
          0.07224521149654177,
          0.07168910743681774,
          0.07114244012324719,
          0.07060498046789704,
          0.07007649315426884,
          0.06955673715370352,
          0.06904546624658225,
          0.06854242954725547,
          0.06804737203163168,
          0.0675600350663593,
          0.06708015693853951,
          0.06660747338491449,
          0.06614171811948437,
          0.0656826233585184,
          0.0652299203419384,
          0.0647833398500693,
          0.0643426127147691,
          0.06390747032397144,
          0.06347764511869508,
          0.06305287108160011,
          0.06263288421619535,
          0.06221742301583096,
          0.06180622892163829,
          0.06139904676861162,
          0.06099562521905842,
          0.060595717182679726,
          0.06019908022257761,
          0.05980547694652373,
          0.05941467538286156,
          0.05902644934045317,
          0.058640578752123154,
          0.05825685000109164,
          0.057875056229931734,
          0.05749499763162815,
          0.057116481722357164,
          0.05673932359565186,
          0.05636334615765927,
          0.05598838034324169,
          0.05561426531271637,
          0.05524084862907417,
          0.054867986415559185,
          0.0544955434935377,
          0.054123393500625616,
          0.05375141898908841,
          0.05337951150456913,
          0.053007571645241745,
          0.05263550910152861,
          0.05226324267656063,
          0.051890700287598505,
          0.05151781894867105,
          0.051144544734724934,
          0.05077083272761532,
          0.05039664694430214,
          0.05002196024765097,
          0.04964675424026852,
          0.04927101914183475,
          0.04889475365042254,
          0.04851796478832331,
          0.04814066773292433,
          0.047762885633206756,
          0.047384649412457576,
          0.047005997557809716,
          0.046626975897243246,
          0.04624763736470024,
          0.04586804175398011,
          0.04548825546209807,
          0.045108351222800755,
          0.044728407830944755,
          0.044348509858452415,
          0.04396874736256591,
          0.04358921558712725,
          0.043210014657614496,
          0.04283124927066681,
          0.04245302837883131,
          0.04207546487126294,
          0.041698675251105745,
          0.04132277931027891,
          0.04094789980238495,
          0.04057416211444901,
          0.04020169393818968,
          0.039830624941510025,
          0.03946108644088592,
          0.03909321107531509,
          0.03872713248247524,
          0.03836298497772374,
          0.03800090323655405,
          0.03764102198110579,
          0.037283475671305764,
          0.036928398201197185,
          0.03657592260099304,
          0.036226180745366994,
          0.035879303068473346,
          0.035535418286162704,
          0.03519465312583731,
          0.03485713206436405,
          0.03452297707443849,
          0.03419230737976806,
          0.03386523921941568,
          0.03354188562161965,
          0.03322235618737938,
          0.03290675688406872,
          0.032595189849314386,
          0.032287753205347776,
          0.03198454088401417,
          0.0316856424625958,
          0.031391143010579464,
          0.031101122947473487,
          0.030815657911753377,
          0.030534818640990065,
          0.030258670863190406,
          0.029987275199354707,
          0.029720687077232934,
          0.029458956656237684,
          0.029202128763449815,
          0.02895024284063057,
          0.028703332902132877,
          0.028461427503584373,
          0.028224549721194706,
          0.027992717141521156,
          0.027765941861508346,
          0.027544230498601052,
          0.02732758421071227,
          0.02711599872581407,
          0.026909464380903622,
          0.026707966170083704,
          0.02651148380148415,
          0.026319991762739088,
          0.02613345939472431,
          0.025951850973248845,
          0.025775125798386603,
          0.025603238291125485,
          0.025436138097004724,
          0.025273770196405424,
          0.025116075021153164,
          0.024962988577088913,
          0.02481444257225926,
          0.024670364550376526,
          0.024530678029195774,
          0.02439530264345664,
          0.02426415429203651,
          0.024137145288963754,
          0.024014184517939692,
          0.023895177590022035,
          0.02378002700412392,
          0.023668632309987628,
          0.02356089027329509,
          0.023456695042583797,
          0.023355938317640254,
          0.023258509519051257,
          0.02316429595859781,
          0.023073183010185284,
          0.022985054281009314,
          0.022899791782666237,
          0.022817276101923738,
          0.02273738657087734,
          0.022660001436225853,
          0.022584998027409438,
          0.022512252923361998,
          0.022441642117640614,
          0.022373041181703142,
          0.022306325426116175,
          0.022241370059484802,
          0.022178050344906317,
          0.022116241753759702,
          0.022055820116653323,
          0.021996661771363245,
          0.021938643707604833,
          0.02188164370849047,
          0.021825540488536153,
          0.021770213828089822,
          0.02171554470406415,
          0.0216614154168658,
          0.021607709713423524,
          0.021554312906225895,
          0.021501111988289325,
          0.021447995743985707,
          0.021394854855667875,
          0.021341582006039386,
          0.021288071976223778,
          0.02123422173949611,
          0.021179930550647666,
          0.021125100030961803,
          0.021069634248786877,
          0.0210134397956981,
          0.020956425858247963,
          0.02089850428531027,
          0.020839589651029812,
          0.020779599313394622,
          0.020718453468454363,
          0.0206560752002124,
          0.020592390526225506,
          0.0205273284389484,
          0.020460820942866165,
          0.020392803087460568,
          0.020323212996060963,
          0.020251991890633977,
          0.020179084112569304,
          0.02010443713952257,
          0.020028001598378673,
          0.01994973127440232,
          0.01986958311664435,
          0.01978751723967532,
          0.019703496921719552,
          0.01961748859926493,
          0.019529461858225544,
          0.019439389421735655,
          0.0193472471346551,
          0.019253013944867396,
          0.019156671881453025,
          0.019058206029821313,
          0.018957604503885124,
          0.018854858415363742,
          0.01874996184029943,
          0.018642911782874097,
          0.018533708136612936,
          0.018422353643062262,
          0.018308853848028883,
          0.01819321705546912,
          0.018075454279115208,
          0.01795557919192738,
          0.017833608073459753,
          0.017709559755228362
         ],
         "yaxis": "y1"
        },
        {
         "legendgroup": "rich",
         "marker": {
          "color": "rgb(44, 160, 44)"
         },
         "mode": "lines",
         "name": "rich",
         "showlegend": false,
         "type": "scatter",
         "x": [
          11,
          11.024,
          11.048,
          11.072,
          11.096,
          11.12,
          11.144,
          11.168,
          11.192,
          11.216,
          11.24,
          11.264,
          11.288,
          11.312,
          11.336,
          11.36,
          11.384,
          11.408,
          11.432,
          11.456,
          11.48,
          11.504,
          11.528,
          11.552,
          11.576,
          11.6,
          11.624,
          11.648,
          11.672,
          11.696,
          11.72,
          11.744,
          11.768,
          11.792,
          11.816,
          11.84,
          11.864,
          11.888,
          11.912,
          11.936,
          11.96,
          11.984,
          12.008,
          12.032,
          12.056000000000001,
          12.08,
          12.104,
          12.128,
          12.152,
          12.176,
          12.2,
          12.224,
          12.248,
          12.272,
          12.296,
          12.32,
          12.344,
          12.368,
          12.392,
          12.416,
          12.44,
          12.464,
          12.488,
          12.512,
          12.536,
          12.56,
          12.584,
          12.608,
          12.632,
          12.656,
          12.68,
          12.704,
          12.728,
          12.752,
          12.776,
          12.8,
          12.824,
          12.848,
          12.872,
          12.896,
          12.92,
          12.943999999999999,
          12.968,
          12.992,
          13.016,
          13.04,
          13.064,
          13.088000000000001,
          13.112,
          13.136,
          13.16,
          13.184000000000001,
          13.208,
          13.232,
          13.256,
          13.28,
          13.304,
          13.328,
          13.352,
          13.376,
          13.4,
          13.424,
          13.448,
          13.472,
          13.496,
          13.52,
          13.544,
          13.568,
          13.592,
          13.616,
          13.64,
          13.664,
          13.688,
          13.712,
          13.736,
          13.76,
          13.783999999999999,
          13.808,
          13.832,
          13.856,
          13.879999999999999,
          13.904,
          13.928,
          13.952,
          13.975999999999999,
          14,
          14.024000000000001,
          14.048,
          14.072,
          14.096,
          14.120000000000001,
          14.144,
          14.168,
          14.192,
          14.216000000000001,
          14.24,
          14.264,
          14.288,
          14.312,
          14.336,
          14.36,
          14.384,
          14.408,
          14.432,
          14.456,
          14.48,
          14.504,
          14.528,
          14.552,
          14.576,
          14.6,
          14.624,
          14.648,
          14.672,
          14.696,
          14.72,
          14.744,
          14.768,
          14.792,
          14.815999999999999,
          14.84,
          14.864,
          14.888,
          14.911999999999999,
          14.936,
          14.96,
          14.984,
          15.008,
          15.032,
          15.056000000000001,
          15.08,
          15.104,
          15.128,
          15.152000000000001,
          15.176,
          15.2,
          15.224,
          15.248000000000001,
          15.272,
          15.296,
          15.32,
          15.344000000000001,
          15.368,
          15.392,
          15.416,
          15.440000000000001,
          15.464,
          15.488,
          15.512,
          15.536,
          15.559999999999999,
          15.584,
          15.608,
          15.632,
          15.655999999999999,
          15.68,
          15.704,
          15.728,
          15.751999999999999,
          15.776,
          15.8,
          15.824,
          15.847999999999999,
          15.872,
          15.896,
          15.92,
          15.943999999999999,
          15.968,
          15.992,
          16.016,
          16.04,
          16.064,
          16.088,
          16.112000000000002,
          16.136,
          16.16,
          16.184,
          16.208,
          16.232,
          16.256,
          16.28,
          16.304000000000002,
          16.328,
          16.352,
          16.376,
          16.4,
          16.424,
          16.448,
          16.472,
          16.496000000000002,
          16.52,
          16.544,
          16.567999999999998,
          16.592,
          16.616,
          16.64,
          16.664,
          16.688,
          16.712,
          16.736,
          16.759999999999998,
          16.784,
          16.808,
          16.832,
          16.856,
          16.88,
          16.904,
          16.928,
          16.951999999999998,
          16.976,
          17,
          17.024,
          17.048000000000002,
          17.072,
          17.096,
          17.12,
          17.144,
          17.168,
          17.192,
          17.216,
          17.240000000000002,
          17.264,
          17.288,
          17.312,
          17.336,
          17.36,
          17.384,
          17.408,
          17.432000000000002,
          17.456,
          17.48,
          17.503999999999998,
          17.528,
          17.552,
          17.576,
          17.6,
          17.624,
          17.648,
          17.672,
          17.695999999999998,
          17.72,
          17.744,
          17.768,
          17.792,
          17.816,
          17.84,
          17.864,
          17.887999999999998,
          17.912,
          17.936,
          17.96,
          17.984,
          18.008,
          18.032,
          18.056,
          18.08,
          18.104,
          18.128,
          18.152,
          18.176000000000002,
          18.2,
          18.224,
          18.248,
          18.272,
          18.296,
          18.32,
          18.344,
          18.368000000000002,
          18.392,
          18.416,
          18.44,
          18.464,
          18.488,
          18.512,
          18.536,
          18.56,
          18.584,
          18.608,
          18.631999999999998,
          18.656,
          18.68,
          18.704,
          18.728,
          18.752,
          18.776,
          18.8,
          18.823999999999998,
          18.848,
          18.872,
          18.896,
          18.92,
          18.944,
          18.968,
          18.992,
          19.016,
          19.04,
          19.064,
          19.088,
          19.112000000000002,
          19.136,
          19.16,
          19.183999999999997,
          19.208,
          19.232,
          19.256,
          19.28,
          19.304000000000002,
          19.328,
          19.352,
          19.375999999999998,
          19.4,
          19.424,
          19.448,
          19.472,
          19.496000000000002,
          19.52,
          19.544,
          19.567999999999998,
          19.592,
          19.616,
          19.64,
          19.664,
          19.688000000000002,
          19.712,
          19.736,
          19.759999999999998,
          19.784,
          19.808,
          19.832,
          19.856,
          19.880000000000003,
          19.904,
          19.928,
          19.951999999999998,
          19.976,
          20,
          20.024,
          20.048000000000002,
          20.072,
          20.096,
          20.119999999999997,
          20.144,
          20.168,
          20.192,
          20.216,
          20.240000000000002,
          20.264,
          20.288,
          20.311999999999998,
          20.336,
          20.36,
          20.384,
          20.408,
          20.432000000000002,
          20.456,
          20.48,
          20.503999999999998,
          20.528,
          20.552,
          20.576,
          20.6,
          20.624000000000002,
          20.648,
          20.672,
          20.695999999999998,
          20.72,
          20.744,
          20.768,
          20.792,
          20.816000000000003,
          20.84,
          20.864,
          20.887999999999998,
          20.912,
          20.936,
          20.96,
          20.984,
          21.008,
          21.032,
          21.055999999999997,
          21.08,
          21.104,
          21.128,
          21.152,
          21.176000000000002,
          21.2,
          21.224,
          21.247999999999998,
          21.272,
          21.296,
          21.32,
          21.344,
          21.368000000000002,
          21.392,
          21.416,
          21.439999999999998,
          21.464,
          21.488,
          21.512,
          21.536,
          21.560000000000002,
          21.584,
          21.608,
          21.631999999999998,
          21.656,
          21.68,
          21.704,
          21.728,
          21.752000000000002,
          21.776,
          21.8,
          21.823999999999998,
          21.848,
          21.872,
          21.896,
          21.92,
          21.944000000000003,
          21.968,
          21.992,
          22.016,
          22.04,
          22.064,
          22.088,
          22.112000000000002,
          22.136,
          22.16,
          22.183999999999997,
          22.208,
          22.232,
          22.256,
          22.28,
          22.304000000000002,
          22.328,
          22.352,
          22.375999999999998,
          22.4,
          22.424,
          22.448,
          22.472,
          22.496000000000002,
          22.52,
          22.544,
          22.567999999999998,
          22.592,
          22.616,
          22.64,
          22.664,
          22.688000000000002,
          22.712,
          22.736,
          22.759999999999998,
          22.784,
          22.808,
          22.832,
          22.856,
          22.880000000000003,
          22.904,
          22.928,
          22.951999999999998,
          22.976
         ],
         "xaxis": "x1",
         "y": [
          0.0342206200648583,
          0.03425863221523118,
          0.03429648404011139,
          0.03433417540078175,
          0.0343717061627934,
          0.03440907619594616,
          0.03444628537426866,
          0.034483333575998074,
          0.03452022068355959,
          0.03455694658354554,
          0.03459351116669422,
          0.034629914327868425,
          0.03466615596603362,
          0.03470223598423586,
          0.03473815428957943,
          0.034773910793204056,
          0.034809505410262,
          0.03484493805989472,
          0.034880208665209286,
          0.034915317153254494,
          0.03495026345499673,
          0.03498504750529551,
          0.035019669242878734,
          0.03505412861031768,
          0.03508842555400172,
          0.035122560024112744,
          0.03515653197459933,
          0.035190341363150655,
          0.03522398815117008,
          0.03525747230374854,
          0.03529079378963764,
          0.03532395258122252,
          0.035356948654494395,
          0.03538978198902295,
          0.03542245256792836,
          0.0354549603778532,
          0.035487305408934,
          0.03551948765477261,
          0.035551507112407295,
          0.03558336378228369,
          0.03561505766822537,
          0.035646588777404335,
          0.035677957120311174,
          0.035709162710725065,
          0.035740205565683525,
          0.035771085705451955,
          0.035801803153492996,
          0.03583235793643559,
          0.035862750084044,
          0.0358929796291864,
          0.03592304660780353,
          0.03595295105887687,
          0.0359826930243969,
          0.036012272549330974,
          0.03604168968159108,
          0.036070944472001425,
          0.03610003697426582,
          0.03612896724493493,
          0.03615773534337326,
          0.03618634133172611,
          0.036214785274886245,
          0.036243067240460454,
          0.03627118729873597,
          0.03629914552264669,
          0.03632694198773929,
          0.03635457677213916,
          0.03638204995651622,
          0.036409361624050576,
          0.03643651186039807,
          0.03646350075365567,
          0.0364903283943267,
          0.03651699487528609,
          0.03654350029174528,
          0.036569844741217244,
          0.03659602832348122,
          0.03662205114054737,
          0.03664791329662148,
          0.03667361489806933,
          0.0366991560533811,
          0.036724536873135726,
          0.03674975746996501,
          0.03677481795851781,
          0.03679971845542401,
          0.03682445907925851,
          0.03684903995050512,
          0.036873461191520296,
          0.03689772292649698,
          0.03692182528142819,
          0.036945768384070724,
          0.03696955236390862,
          0.036993177352116796,
          0.0370166434815244,
          0.03703995088657829,
          0.03706309970330644,
          0.03708609006928125,
          0.037108922123582855,
          0.037131596006762455,
          0.037154111860805576,
          0.03717646982909528,
          0.03719867005637544,
          0.03722071268871394,
          0.0372425978734659,
          0.03726432575923687,
          0.03728589649584606,
          0.037307310234289535,
          0.03732856712670348,
          0.037349667326327385,
          0.037370610987467315,
          0.03739139826545922,
          0.03741202931663218,
          0.037432504298271774,
          0.0374528233685834,
          0.03747298668665572,
          0.03749299441242404,
          0.03751284670663385,
          0.037532543730804314,
          0.037552085647191834,
          0.03757147261875376,
          0.037590704809112016,
          0.03760978238251688,
          0.03762870550381085,
          0.03764747433839252,
          0.03766608905218055,
          0.03768454981157772,
          0.03770285678343511,
          0.03772101013501631,
          0.03773901003396173,
          0.03775685664825302,
          0.03777455014617761,
          0.03779209069629333,
          0.037809478467393076,
          0.03782671362846976,
          0.037843796348681145,
          0.03786072679731501,
          0.037877505143754285,
          0.037894131557442416,
          0.037910606207848786,
          0.037926929264434306,
          0.03794310089661717,
          0.037959121273738655,
          0.03797499056502919,
          0.03799070893957449,
          0.03800627656628188,
          0.03802169361384673,
          0.038036960250719135,
          0.03805207664507064,
          0.038067042964761266,
          0.038081859377306605,
          0.038096526049845106,
          0.03811104314910559,
          0.03812541084137489,
          0.03813962929246573,
          0.03815369866768473,
          0.03816761913180062,
          0.03818139084901273,
          0.038195013982919544,
          0.03820848869648759,
          0.03822181515202039,
          0.0382349935111278,
          0.03824802393469538,
          0.03826090658285411,
          0.038273641614950275,
          0.03828622918951556,
          0.03829866946423741,
          0.038310962595929594,
          0.03832310874050297,
          0.038335108052936585,
          0.03834696068724889,
          0.0383586667964693,
          0.03837022653260994,
          0.038381640046637626,
          0.03839290748844619,
          0.03840402900682895,
          0.03841500474945149,
          0.0384258348628247,
          0.03843651949227807,
          0.03844705878193326,
          0.03845745287467795,
          0.0384677019121399,
          0.03847780603466136,
          0.03848776538127373,
          0.038497580089672495,
          0.038507250296192425,
          0.038516776135783144,
          0.03852615774198484,
          0.03853539524690443,
          0.03854448878119189,
          0.03855343847401699,
          0.038562244453046186,
          0.03857090684441999,
          0.03857942577273051,
          0.03858780136099935,
          0.0385960337306558,
          0.03860412300151536,
          0.03861206929175857,
          0.03861987271791012,
          0.03862753339481837,
          0.03863505143563509,
          0.03864242695179553,
          0.038649660052998955,
          0.03865675084718931,
          0.03866369944053633,
          0.03867050593741699,
          0.03867717044039722,
          0.038683693050214005,
          0.038690073865757825,
          0.0386963129840554,
          0.03870241050025282,
          0.038708366507598985,
          0.03871418109742938,
          0.03871985435915025,
          0.03872538638022308,
          0.038730777246149456,
          0.03873602704045622,
          0.03874113584468102,
          0.03874610373835828,
          0.038750930799005386,
          0.03875561710210934,
          0.03876016272111373,
          0.0387645677274061,
          0.03876883219030558,
          0.03877295617705104,
          0.03877693975278948,
          0.03878078298056481,
          0.038784485921307094,
          0.03878804863382198,
          0.0387914711747807,
          0.0387947535987103,
          0.038797895957984316,
          0.038800898302813774,
          0.038803760681238614,
          0.03880648313911946,
          0.03880906572012976,
          0.038811508465748316,
          0.03881381141525222,
          0.03881597460571009,
          0.03881799807197579,
          0.038819881846682454,
          0.03882162596023687,
          0.03882323044081437,
          0.03882469531435397,
          0.038826020604553944,
          0.0388272063328678,
          0.0388282525185006,
          0.038829159178405716,
          0.038829926327281904,
          0.03883055397757082,
          0.038831042139454895,
          0.03883139082085561,
          0.0388316000274321,
          0.03883166976258026,
          0.0388316000274321,
          0.03883139082085561,
          0.038831042139454895,
          0.03883055397757082,
          0.038829926327281904,
          0.038829159178405716,
          0.0388282525185006,
          0.0388272063328678,
          0.038826020604553944,
          0.03882469531435397,
          0.03882323044081437,
          0.03882162596023687,
          0.038819881846682454,
          0.03881799807197579,
          0.03881597460571009,
          0.03881381141525222,
          0.038811508465748316,
          0.03880906572012976,
          0.03880648313911946,
          0.038803760681238614,
          0.038800898302813774,
          0.038797895957984316,
          0.0387947535987103,
          0.0387914711747807,
          0.03878804863382198,
          0.038784485921307094,
          0.03878078298056481,
          0.03877693975278948,
          0.03877295617705104,
          0.03876883219030558,
          0.0387645677274061,
          0.03876016272111373,
          0.03875561710210934,
          0.038750930799005386,
          0.03874610373835828,
          0.03874113584468102,
          0.03873602704045622,
          0.038730777246149456,
          0.03872538638022308,
          0.03871985435915025,
          0.03871418109742938,
          0.038708366507598985,
          0.03870241050025282,
          0.0386963129840554,
          0.038690073865757825,
          0.038683693050214005,
          0.03867717044039722,
          0.03867050593741699,
          0.03866369944053633,
          0.03865675084718931,
          0.038649660052998955,
          0.03864242695179553,
          0.03863505143563509,
          0.03862753339481837,
          0.03861987271791012,
          0.03861206929175857,
          0.03860412300151537,
          0.0385960337306558,
          0.03858780136099935,
          0.03857942577273051,
          0.03857090684441999,
          0.038562244453046186,
          0.03855343847401699,
          0.03854448878119189,
          0.03853539524690443,
          0.03852615774198484,
          0.038516776135783144,
          0.038507250296192425,
          0.038497580089672495,
          0.03848776538127373,
          0.03847780603466136,
          0.0384677019121399,
          0.03845745287467795,
          0.03844705878193326,
          0.03843651949227807,
          0.0384258348628247,
          0.03841500474945149,
          0.03840402900682895,
          0.03839290748844619,
          0.038381640046637626,
          0.03837022653260994,
          0.0383586667964693,
          0.03834696068724889,
          0.038335108052936585,
          0.03832310874050297,
          0.038310962595929594,
          0.03829866946423741,
          0.03828622918951556,
          0.038273641614950275,
          0.03826090658285411,
          0.03824802393469538,
          0.0382349935111278,
          0.03822181515202039,
          0.03820848869648759,
          0.038195013982919544,
          0.03818139084901273,
          0.03816761913180062,
          0.03815369866768473,
          0.03813962929246574,
          0.03812541084137489,
          0.03811104314910559,
          0.038096526049845106,
          0.038081859377306605,
          0.038067042964761266,
          0.03805207664507064,
          0.038036960250719135,
          0.03802169361384673,
          0.03800627656628188,
          0.03799070893957449,
          0.03797499056502919,
          0.037959121273738655,
          0.03794310089661717,
          0.037926929264434306,
          0.037910606207848786,
          0.037894131557442416,
          0.037877505143754285,
          0.03786072679731501,
          0.037843796348681145,
          0.03782671362846976,
          0.037809478467393076,
          0.03779209069629333,
          0.03777455014617761,
          0.03775685664825302,
          0.03773901003396173,
          0.03772101013501631,
          0.03770285678343511,
          0.03768454981157772,
          0.03766608905218055,
          0.03764747433839252,
          0.03762870550381086,
          0.03760978238251688,
          0.037590704809112016,
          0.03757147261875376,
          0.037552085647191834,
          0.03753254373080431,
          0.03751284670663385,
          0.03749299441242404,
          0.03747298668665572,
          0.0374528233685834,
          0.037432504298271774,
          0.03741202931663218,
          0.037391398265459216,
          0.03737061098746731,
          0.037349667326327385,
          0.03732856712670348,
          0.037307310234289535,
          0.03728589649584606,
          0.03726432575923687,
          0.0372425978734659,
          0.03722071268871394,
          0.037198670056375435,
          0.03717646982909528,
          0.037154111860805576,
          0.037131596006762455,
          0.037108922123582855,
          0.03708609006928125,
          0.03706309970330644,
          0.037039950886578285,
          0.03701664348152439,
          0.036993177352116796,
          0.03696955236390862,
          0.036945768384070724,
          0.03692182528142819,
          0.03689772292649698,
          0.036873461191520296,
          0.03684903995050511,
          0.03682445907925851,
          0.03679971845542401,
          0.036774817958517815,
          0.03674975746996501,
          0.036724536873135726,
          0.0366991560533811,
          0.03667361489806933,
          0.03664791329662148,
          0.03662205114054737,
          0.03659602832348122,
          0.03656984474121725,
          0.03654350029174529,
          0.03651699487528609,
          0.0364903283943267,
          0.03646350075365566,
          0.03643651186039807,
          0.036409361624050576,
          0.03638204995651622,
          0.036354576772139165,
          0.03632694198773929,
          0.03629914552264669,
          0.03627118729873597,
          0.03624306724046045,
          0.036214785274886245,
          0.03618634133172611,
          0.03615773534337326,
          0.03612896724493493,
          0.03610003697426582,
          0.036070944472001425,
          0.03604168968159108,
          0.03601227254933097,
          0.03598269302439689,
          0.03595295105887687,
          0.03592304660780353,
          0.03589297962918641,
          0.035862750084044,
          0.03583235793643559,
          0.035801803153492996,
          0.035771085705451955,
          0.03574020556568352,
          0.035709162710725065,
          0.035677957120311174,
          0.035646588777404335,
          0.03561505766822537,
          0.03558336378228369,
          0.03555150711240729,
          0.03551948765477259,
          0.035487305408934,
          0.0354549603778532,
          0.035422452567928364,
          0.03538978198902295,
          0.035356948654494395,
          0.03532395258122252,
          0.03529079378963764,
          0.03525747230374853,
          0.03522398815117008,
          0.035190341363150655,
          0.03515653197459934,
          0.035122560024112744,
          0.03508842555400172,
          0.03505412861031768,
          0.035019669242878734,
          0.03498504750529551,
          0.03495026345499673,
          0.034915317153254494,
          0.034880208665209286,
          0.03484493805989473,
          0.034809505410262,
          0.034773910793204056,
          0.03473815428957942,
          0.03470223598423586,
          0.03466615596603362,
          0.034629914327868425,
          0.03459351116669423,
          0.03455694658354554,
          0.03452022068355959,
          0.034483333575998074,
          0.03444628537426865,
          0.03440907619594616,
          0.0343717061627934,
          0.03433417540078175,
          0.03429648404011139,
          0.03425863221523118
         ],
         "yaxis": "y1"
        },
        {
         "legendgroup": "poor",
         "marker": {
          "color": "rgb(31, 119, 180)",
          "symbol": "line-ns-open"
         },
         "mode": "markers",
         "name": "poor",
         "showlegend": false,
         "text": null,
         "type": "scatter",
         "x": [
          0,
          1,
          0,
          1,
          0,
          0,
          0,
          0,
          0,
          0,
          0,
          0,
          0,
          0,
          0,
          0,
          0,
          0,
          0,
          0,
          0,
          0
         ],
         "xaxis": "x1",
         "y": [
          "poor",
          "poor",
          "poor",
          "poor",
          "poor",
          "poor",
          "poor",
          "poor",
          "poor",
          "poor",
          "poor",
          "poor",
          "poor",
          "poor",
          "poor",
          "poor",
          "poor",
          "poor",
          "poor",
          "poor",
          "poor",
          "poor"
         ],
         "yaxis": "y2"
        },
        {
         "legendgroup": "medium",
         "marker": {
          "color": "rgb(255, 127, 14)",
          "symbol": "line-ns-open"
         },
         "mode": "markers",
         "name": "medium",
         "showlegend": false,
         "text": null,
         "type": "scatter",
         "x": [
          4,
          5,
          2,
          3,
          5,
          4,
          4,
          3,
          4,
          5,
          2,
          3,
          2,
          4,
          3,
          5,
          5,
          2,
          5,
          4,
          7,
          4,
          5,
          3,
          2,
          2,
          5,
          7,
          5,
          10,
          7,
          9,
          2,
          7,
          2,
          2,
          3,
          3
         ],
         "xaxis": "x1",
         "y": [
          "medium",
          "medium",
          "medium",
          "medium",
          "medium",
          "medium",
          "medium",
          "medium",
          "medium",
          "medium",
          "medium",
          "medium",
          "medium",
          "medium",
          "medium",
          "medium",
          "medium",
          "medium",
          "medium",
          "medium",
          "medium",
          "medium",
          "medium",
          "medium",
          "medium",
          "medium",
          "medium",
          "medium",
          "medium",
          "medium",
          "medium",
          "medium",
          "medium",
          "medium",
          "medium",
          "medium",
          "medium",
          "medium"
         ],
         "yaxis": "y2"
        },
        {
         "legendgroup": "rich",
         "marker": {
          "color": "rgb(44, 160, 44)",
          "symbol": "line-ns-open"
         },
         "mode": "markers",
         "name": "rich",
         "showlegend": false,
         "text": null,
         "type": "scatter",
         "x": [
          23,
          11
         ],
         "xaxis": "x1",
         "y": [
          "rich",
          "rich"
         ],
         "yaxis": "y2"
        }
       ],
       "layout": {
        "barmode": "overlay",
        "hovermode": "closest",
        "legend": {
         "traceorder": "reversed"
        },
        "xaxis1": {
         "anchor": "y2",
         "domain": [
          0,
          1
         ],
         "zeroline": false
        },
        "yaxis1": {
         "anchor": "free",
         "domain": [
          0.35,
          1
         ],
         "position": 0
        },
        "yaxis2": {
         "anchor": "x1",
         "domain": [
          0,
          0.25
         ],
         "dtick": 1,
         "showticklabels": false
        }
       }
      },
      "text/html": [
       "<div id=\"1e76ea98-64d1-4128-9967-aff7baa3697f\" style=\"height: 525px; width: 100%;\" class=\"plotly-graph-div\"></div><script type=\"text/javascript\">require([\"plotly\"], function(Plotly) { window.PLOTLYENV=window.PLOTLYENV || {};window.PLOTLYENV.BASE_URL=\"https://plot.ly\";Plotly.newPlot(\"1e76ea98-64d1-4128-9967-aff7baa3697f\", [{\"opacity\": 0.7, \"legendgroup\": \"poor\", \"autobinx\": false, \"name\": \"poor\", \"yaxis\": \"y1\", \"histnorm\": \"probability density\", \"xaxis\": \"x1\", \"xbins\": {\"start\": 0.0, \"end\": 1.0, \"size\": 1.0}, \"marker\": {\"color\": \"rgb(31, 119, 180)\"}, \"x\": [0.0, 1.0, 0.0, 1.0, 0.0, 0.0, 0.0, 0.0, 0.0, 0.0, 0.0, 0.0, 0.0, 0.0, 0.0, 0.0, 0.0, 0.0, 0.0, 0.0, 0.0, 0.0], \"type\": \"histogram\"}, {\"opacity\": 0.7, \"legendgroup\": \"medium\", \"autobinx\": false, \"name\": \"medium\", \"yaxis\": \"y1\", \"histnorm\": \"probability density\", \"xaxis\": \"x1\", \"xbins\": {\"start\": 2.0, \"end\": 10.0, \"size\": 1.0}, \"marker\": {\"color\": \"rgb(255, 127, 14)\"}, \"x\": [4.0, 5.0, 2.0, 3.0, 5.0, 4.0, 4.0, 3.0, 4.0, 5.0, 2.0, 3.0, 2.0, 4.0, 3.0, 5.0, 5.0, 2.0, 5.0, 4.0, 7.0, 4.0, 5.0, 3.0, 2.0, 2.0, 5.0, 7.0, 5.0, 10.0, 7.0, 9.0, 2.0, 7.0, 2.0, 2.0, 3.0, 3.0], \"type\": \"histogram\"}, {\"opacity\": 0.7, \"legendgroup\": \"rich\", \"autobinx\": false, \"name\": \"rich\", \"yaxis\": \"y1\", \"histnorm\": \"probability density\", \"xaxis\": \"x1\", \"xbins\": {\"start\": 11.0, \"end\": 23.0, \"size\": 1.0}, \"marker\": {\"color\": \"rgb(44, 160, 44)\"}, \"x\": [23.0, 11.0], \"type\": \"histogram\"}, {\"showlegend\": false, \"legendgroup\": \"poor\", \"name\": \"poor\", \"yaxis\": \"y1\", \"y\": [2.287140840854731, 2.2869589308500142, 2.286413287557675, 2.2855041713263273, 2.284232015840113, 2.282597427773937, 2.2806011863112863, 2.278244242525228, 2.2755277186232505, 2.2724529070567914, 2.26902126949644, 2.2652344356739524, 2.2610942020923646, 2.256602530605632, 2.2517615468693704, 2.246573538664403, 2.2410409540949754, 2.2351663996636155, 2.2289526382247615, 2.2224025868194133, 2.2155193143931617, 2.2083060394001333, 2.2007661272954167, 2.192903087918755, 2.1847205727723247, 2.1762223721955523, 2.1674124124400453, 2.1582947526477874, 2.148873581735848, 2.1391532151909565, 2.129138091777379, 2.1188327701615934, 2.108241925457374, 2.0973703456949333, 2.0862229282178513, 2.0748046760115892, 2.0631206939674325, 2.051176185085758, 2.0389764466225815, 2.026526866183354, 2.0138329177680423, 2.0009001577715617, 1.9877342209435898, 1.97434081631192, 1.9607257230734219, 1.9468947864567456, 1.9328539135609049, 1.9186090691738462, 1.9041662715751284, 1.8895315883268249, 1.8747111320567282, 1.859711056237923, 1.8445375509687822, 1.8291968387573723, 1.8136951703142583, 1.798038820357634, 1.7822340834346542, 1.766287269762803, 1.750204701095095, 1.7339927066128054, 1.717657618849392, 1.701205769649215, 1.6846434861645379, 1.6679770868942796, 1.6512128777678703, 1.6343571482774906, 1.6174161676618857, 1.6003961811448648, 1.5833034062315043, 1.566144029064951, 1.5489242008466835, 1.5316500343229067, 1.514327600339745, 1.4969629244697096, 1.4795619837118632, 1.4621307032679869, 1.4446749533969268, 1.4272005463491888, 1.4097132333837714, 1.392218701869051, 1.3747225724694951, 1.3572303964197685, 1.3397476528877845, 1.3222797464280516, 1.3048320045266002, 1.2874096752386202, 1.2700179249198666, 1.2526618360527202, 1.2353464051677203, 1.21807654086125, 1.2008570619099195, 1.1836926954821243, 1.1665880754471105, 1.1495477407817452, 1.1325761340751552, 1.1156776001311886, 1.0988563846686292, 1.082116633118935, 1.0654623895211972, 1.0488975955138935, 1.0324260894229202, 1.016051605445293, 0.9997777729277895, 0.9836081157397443, 0.9675460517390857, 0.951594892330631, 0.9357578421155794, 0.9200379986310263, 0.9044383521782838, 0.8889617857386808, 0.8736110749754632, 0.8583888883203327, 0.8432977871430882, 0.8283402260027959, 0.81351855297881, 0.7988350100799511, 0.7842917337300529, 0.7698907553280712, 0.7556340018808727, 0.741523296706784, 0.7275603602079548, 0.7137468107095111, 0.7000841653634851, 0.6865738411154304, 0.6732171557316424, 0.6600153288848409, 0.646969483296175, 0.6340806459313749, 0.6213497492488671, 0.608777632497646, 0.5963650430626966, 0.5841126378557401, 0.5720209847490862, 0.5600905640503513, 0.5483217700158337, 0.5367149124003034, 0.5252702180410052, 0.5139878324736564, 0.5028678215782512, 0.49191017325247943, 0.48111479911060573, 0.47048153620564964, 0.4600101487727527, 0.4497003299916189, 0.4395517037659634, 0.4295638265179088, 0.4197361889953162, 0.4100682180900642, 0.40055927866531493, 0.39120867538985116, 0.3820156545776015, 0.3729794060305068, 0.36409906488292126, 0.3553737134457881, 0.34680238304886074, 0.33838405587929693, 0.3301176668149841, 0.32200210525101464, 0.31403621691775924, 0.30621880568905213, 0.29854863537903004, 0.29102443152623514, 0.2836448831636244, 0.2764086445731891, 0.26931433702393187, 0.26236055049199986, 0.2555458453618288, 0.24886875410719186, 0.24232778295111096, 0.23592141350362916, 0.22964810437649877, 0.22350629277388928, 0.21749439605826779, 0.2116108132906557, 0.20585392674451924, 0.2002221033925919, 0.1947136963659848, 0.18932704638498415, 0.18406048316098514, 0.17891232676905652, 0.17388088899067977, 0.16896447462624978, 0.16416138277697134, 0.1594699080958278, 0.1548883420073436, 0.15041497389590433, 0.14604809226243717, 0.1417859858493017, 0.13762694473327233, 0.13356926138653788, 0.12961123170568176, 0.1257511560086377, 0.12198733999965848, 0.11831809570236201, 0.11474174236095981, 0.11125660730979807, 0.1078610268113792, 0.10455334686305459, 0.1013319239726151, 0.09819512590302634, 0.0951413323865888, 0.0921689358088215, 0.08927634186239804, 0.08646197017148122, 0.08372425488682787, 0.08106164525205382, 0.0784726061414692, 0.07595561856991266, 0.0735091801750275, 0.07113180567244312, 0.06882202728433562, 0.06657839514185679, 0.06439947766193366, 0.062283861898951964, 0.060230153871845035, 0.05823697886712439, 0.05630298171838883, 0.05442682706286451, 0.05260719957552771, 0.050842804181372755, 0.04913236624638738, 0.04747463174780637, 0.04586836742421162, 0.04431236090605345, 0.04280542082716485, 0.041346376917844464, 0.039934080080079044, 0.03856740244547936, 0.03724523741649736, 0.03596649969149279, 0.0347301252742113, 0.03353507146823437, 0.03238031685695426, 0.031264861269624376, 0.03018772573402677, 0.029147952416294233, 0.028144604548416722, 0.027176766343953742, 0.026243542902467717, 0.02534406010318349, 0.024477464488371823, 0.02364292313694473, 0.0228396235287411, 0.02206677339997153, 0.02132360059028115, 0.02060935288187826, 0.019923297831167246, 0.019264722593311457, 0.018632933740142917, 0.018027257071822313, 0.017447037422643093, 0.016891638461360492, 0.016360442486415962, 0.015852850216414603, 0.015368280576202022, 0.0149061704788751, 0.014465974604048805, 0.014047165172689913, 0.013649231718816025, 0.013271680858346537, 0.012914036055380534, 0.012575837386164478, 0.012256641301000867, 0.011956020384337804, 0.011673563113267012, 0.011408873614647331, 0.011161571421058803, 0.010931291225781395, 0.010717682636981562, 0.010520409931279054, 0.010339151806855088, 0.01017360113625362, 0.01002346471901604, 0.00988846303428029, 0.009768329993465287, 0.009662812693151931, 0.009571671168262488, 0.009494678145631357, 0.009431618798050833, 0.009382290498867156, 0.009346502577193794, 0.009324076073800645, 0.009314843497730116, 0.009318648583683265, 0.00933534605021258, 0.009364801358749958, 0.00940689047349285, 0.009461499622164263, 0.009528525057656948, 0.009607872820565546, 0.00969945850260598, 0.009803207010914961, 0.009919052333218784, 0.010046937303855214, 0.010186813370628461, 0.010338640362472793, 0.010502386257897315, 0.010678026954180768, 0.010865546037281716, 0.011064934552427798, 0.011276190775344364, 0.011499319984080863, 0.01173433423139207, 0.011981252117628897, 0.012240098564092965, 0.012510904586807483, 0.01279370707065721, 0.013088548543848945, 0.013395476952644442, 0.013714545436317796, 0.014045812102289482, 0.0143893398013904, 0.014745195903209562, 0.015113452071481261, 0.015494184039467892, 0.015887471385297586, 0.016293397307216125, 0.016712048398717195, 0.017143514423514555, 0.017587888090325, 0.018045264827432083, 0.018515742557004618, 0.0189994214691465, 0.019496403795659006, 0.020006793583498644, 0.020530696467919135, 0.02106821944528961, 0.021619470645584355, 0.022184559104545153, 0.022763594535520636, 0.02335668710099263, 0.023963947183803166, 0.02458548515810169, 0.025221411160035827, 0.025871834858215564, 0.026536865223984775, 0.027216610301539077, 0.027911176977935763, 0.028620670753044888, 0.02934519550949827, 0.030084853282695917, 0.03083974403093825, 0.03160996540575496, 0.03239561252250747, 0.03319677773135067, 0.03401355038863928, 0.03484601662887607, 0.03569425913729888, 0.03655835692321331, 0.03743838509418137, 0.03833441463118038, 0.03924651216485483, 0.04017473975298638, 0.04111915465931326, 0.042079809133835716, 0.04305675019474817, 0.04405001941214316, 0.04505965269363881, 0.046085680072083135, 0.04712812549549486, 0.0481870066194038, 0.049262334601757496, 0.05035411390056519, 0.051462342074453, 0.052587009586308395, 0.053728099610194056, 0.054885587841715634, 0.056059442312028515, 0.05724962320567299, 0.058456082682428495, 0.05967876470338033, 0.060917604861390855, 0.0621725302161741, 0.06344345913416884, 0.06473030113340623, 0.06603295673357351, 0.06735131731147004, 0.06868526496205205, 0.07003467236526877, 0.07139940265888065, 0.07277930931746097, 0.07417423603777258, 0.07558401663071244, 0.07700847492001645, 0.07844742464791012, 0.0799006693878949, 0.08136800246484824, 0.08284920688261932, 0.08434405525929461, 0.08585230977030635, 0.08737372209954906, 0.08890803339866586, 0.09045497425466559, 0.09201426466601637, 0.0935856140273676, 0.09516872112303577, 0.09676327412939047, 0.09836895062626573, 0.0999854176175175, 0.1016123315608384, 0.10324933840693577, 0.10489607364816997, 0.10655216237674009, 0.10821721935249934, 0.10989084908046906, 0.11157264589811623, 0.11326219407244587, 0.1149590679069528, 0.11666283185846649, 0.11837304066391273, 0.12008923947700394, 0.12181096401486782, 0.12353774071459969, 0.12526908689972324, 0.12700451095653534, 0.12874351252028682, 0.13048558267115762, 0.13223020413995604, 0.1339768515234748, 0.13572499150941625, 0.13747408311079015, 0.13922357790967746, 0.14097292031024067, 0.14272154780085114, 0.14446889122518575, 0.14621437506214588, 0.14795741771442875, 0.14969743180557493, 0.1514338244853077, 0.15316599774295478, 0.1548933487287543, 0.1566152700828164, 0.15833115027150382, 0.16004037393100068, 0.1617423222177993, 0.16343637316585782, 0.16512190205013763, 0.16679828175625144, 0.16846488315591576, 0.1701210754879108, 0.17176622674423772, 0.17339970406114086, 0.17502087411468165, 0.17662910352050956, 0.1782237592374963, 0.17980420897487506, 0.18136982160252343, 0.182919967564029, 0.18445401929215507, 0.18597135162633704, 0.18747134223181783, 0.18895337202003631, 0.19041682556987535, 0.1918610915493663, 0.1932855631374547, 0.19468963844541745, 0.19607272093752737, 0.19743421985055054, 0.1987735506116736, 0.20009013525443517, 0.20138340283226527, 0.20265278982920265, 0.20389774056739043, 0.20511770761093082, 0.20631215216569024, 0.20748054447464742, 0.20862236420837962, 0.20973710085027955, 0.21082425407611097, 0.21188333412750116, 0.21291386217898492, 0.2139153706982128, 0.21488740379894236, 0.21582951758644403, 0.21674128049495042, 0.21762227361679237, 0.21847209102286896, 0.21929034007410822, 0.22007664172358443, 0.22083063080896498, 0.22155195633497224, 0.2222402817455545, 0.2228952851854659, 0.22351665975097793, 0.22410411372944136, 0.22465737082744472, 0.22517617038730747, 0.2256602675916854, 0.22610943365604771, 0.22652345600882776, 0.22690213845903612, 0.22724530135116006, 0.2275527817071748, 0.22782443335550753, 0.22806012704681342, 0.22825975055643394, 0.22842320877342534, 0.22855042377605525, 0.22864133489368685, 0.22869589875497917], \"mode\": \"lines\", \"xaxis\": \"x1\", \"marker\": {\"color\": \"rgb(31, 119, 180)\"}, \"x\": [0.0, 0.002, 0.004, 0.006, 0.008, 0.01, 0.012, 0.014, 0.016, 0.018, 0.02, 0.022, 0.024, 0.026, 0.028, 0.03, 0.032, 0.034, 0.036, 0.038, 0.04, 0.042, 0.044, 0.046, 0.048, 0.05, 0.052, 0.054, 0.056, 0.058, 0.06, 0.062, 0.064, 0.066, 0.068, 0.07, 0.072, 0.074, 0.076, 0.078, 0.08, 0.082, 0.084, 0.086, 0.088, 0.09, 0.092, 0.094, 0.096, 0.098, 0.1, 0.102, 0.104, 0.106, 0.108, 0.11, 0.112, 0.114, 0.116, 0.118, 0.12, 0.122, 0.124, 0.126, 0.128, 0.13, 0.132, 0.134, 0.136, 0.138, 0.14, 0.142, 0.144, 0.146, 0.148, 0.15, 0.152, 0.154, 0.156, 0.158, 0.16, 0.162, 0.164, 0.166, 0.168, 0.17, 0.172, 0.174, 0.176, 0.178, 0.18, 0.182, 0.184, 0.186, 0.188, 0.19, 0.192, 0.194, 0.196, 0.198, 0.2, 0.202, 0.204, 0.206, 0.208, 0.21, 0.212, 0.214, 0.216, 0.218, 0.22, 0.222, 0.224, 0.226, 0.228, 0.23, 0.232, 0.234, 0.236, 0.238, 0.24, 0.242, 0.244, 0.246, 0.248, 0.25, 0.252, 0.254, 0.256, 0.258, 0.26, 0.262, 0.264, 0.266, 0.268, 0.27, 0.272, 0.274, 0.276, 0.278, 0.28, 0.282, 0.284, 0.286, 0.288, 0.29, 0.292, 0.294, 0.296, 0.298, 0.3, 0.302, 0.304, 0.306, 0.308, 0.31, 0.312, 0.314, 0.316, 0.318, 0.32, 0.322, 0.324, 0.326, 0.328, 0.33, 0.332, 0.334, 0.336, 0.338, 0.34, 0.342, 0.344, 0.346, 0.348, 0.35, 0.352, 0.354, 0.356, 0.358, 0.36, 0.362, 0.364, 0.366, 0.368, 0.37, 0.372, 0.374, 0.376, 0.378, 0.38, 0.382, 0.384, 0.386, 0.388, 0.39, 0.392, 0.394, 0.396, 0.398, 0.4, 0.402, 0.404, 0.406, 0.408, 0.41, 0.412, 0.414, 0.416, 0.418, 0.42, 0.422, 0.424, 0.426, 0.428, 0.43, 0.432, 0.434, 0.436, 0.438, 0.44, 0.442, 0.444, 0.446, 0.448, 0.45, 0.452, 0.454, 0.456, 0.458, 0.46, 0.462, 0.464, 0.466, 0.468, 0.47, 0.472, 0.474, 0.476, 0.478, 0.48, 0.482, 0.484, 0.486, 0.488, 0.49, 0.492, 0.494, 0.496, 0.498, 0.5, 0.502, 0.504, 0.506, 0.508, 0.51, 0.512, 0.514, 0.516, 0.518, 0.52, 0.522, 0.524, 0.526, 0.528, 0.53, 0.532, 0.534, 0.536, 0.538, 0.54, 0.542, 0.544, 0.546, 0.548, 0.55, 0.552, 0.554, 0.556, 0.558, 0.56, 0.562, 0.564, 0.566, 0.568, 0.57, 0.572, 0.574, 0.576, 0.578, 0.58, 0.582, 0.584, 0.586, 0.588, 0.59, 0.592, 0.594, 0.596, 0.598, 0.6, 0.602, 0.604, 0.606, 0.608, 0.61, 0.612, 0.614, 0.616, 0.618, 0.62, 0.622, 0.624, 0.626, 0.628, 0.63, 0.632, 0.634, 0.636, 0.638, 0.64, 0.642, 0.644, 0.646, 0.648, 0.65, 0.652, 0.654, 0.656, 0.658, 0.66, 0.662, 0.664, 0.666, 0.668, 0.67, 0.672, 0.674, 0.676, 0.678, 0.68, 0.682, 0.684, 0.686, 0.688, 0.69, 0.692, 0.694, 0.696, 0.698, 0.7, 0.702, 0.704, 0.706, 0.708, 0.71, 0.712, 0.714, 0.716, 0.718, 0.72, 0.722, 0.724, 0.726, 0.728, 0.73, 0.732, 0.734, 0.736, 0.738, 0.74, 0.742, 0.744, 0.746, 0.748, 0.75, 0.752, 0.754, 0.756, 0.758, 0.76, 0.762, 0.764, 0.766, 0.768, 0.77, 0.772, 0.774, 0.776, 0.778, 0.78, 0.782, 0.784, 0.786, 0.788, 0.79, 0.792, 0.794, 0.796, 0.798, 0.8, 0.802, 0.804, 0.806, 0.808, 0.81, 0.812, 0.814, 0.816, 0.818, 0.82, 0.822, 0.824, 0.826, 0.828, 0.83, 0.832, 0.834, 0.836, 0.838, 0.84, 0.842, 0.844, 0.846, 0.848, 0.85, 0.852, 0.854, 0.856, 0.858, 0.86, 0.862, 0.864, 0.866, 0.868, 0.87, 0.872, 0.874, 0.876, 0.878, 0.88, 0.882, 0.884, 0.886, 0.888, 0.89, 0.892, 0.894, 0.896, 0.898, 0.9, 0.902, 0.904, 0.906, 0.908, 0.91, 0.912, 0.914, 0.916, 0.918, 0.92, 0.922, 0.924, 0.926, 0.928, 0.93, 0.932, 0.934, 0.936, 0.938, 0.94, 0.942, 0.944, 0.946, 0.948, 0.95, 0.952, 0.954, 0.956, 0.958, 0.96, 0.962, 0.964, 0.966, 0.968, 0.97, 0.972, 0.974, 0.976, 0.978, 0.98, 0.982, 0.984, 0.986, 0.988, 0.99, 0.992, 0.994, 0.996, 0.998], \"type\": \"scatter\"}, {\"showlegend\": false, \"legendgroup\": \"medium\", \"name\": \"medium\", \"yaxis\": \"y1\", \"y\": [0.1520840461754053, 0.1531863439760608, 0.1542723419102493, 0.15534183853606423, 0.15639464646756907, 0.1574305924555392, 0.15844951744867472, 0.15945127663527772, 0.16043573946542802, 0.16140278965371713, 0.16235232516263953, 0.16328425816677272, 0.16419851499790483, 0.16509503607130785, 0.1659737757933782, 0.1668347024509014, 0.16767779808222372, 0.1685030583306444, 0.16931049228036815, 0.17010012227538335, 0.17087198372165777, 0.171626124873069, 0.17236260660150574, 0.17308150215160284, 0.1737828968805907, 0.17446688798375945, 0.17513358420605787, 0.17578310554036253, 0.1764155829129683, 0.1770311578568684, 0.17762998217339993, 0.17821221758284853, 0.1787780353646125, 0.17932761598753735, 0.1798611487310377, 0.18037883129763557, 0.1808808694175399, 0.1813674764459078, 0.18183887295342152, 0.1822952863108213, 0.182736950268034, 0.1831641045285397, 0.18357699431960847, 0.1839758699590477, 0.18436098641908988, 0.18473260288804658, 0.18509098233035035, 0.18543639104560145, 0.18576909822722265, 0.18608937552132593, 0.18639749658637803, 0.1866937366542468, 0.18697837209320087, 0.18725167997341857, 0.18751393763555735, 0.18776542226291848, 0.18800641045773284, 0.1882371778220764, 0.18845799854391473, 0.18866914498876128, 0.1888708872974199, 0.18906349299026654, 0.18924722657851573, 0.18942234918289622, 0.18958911816015214, 0.1897477867377666, 0.18989860365729375, 0.1900418128266672, 0.19017765298184103, 0.19030635735810308, 0.19042815337138835, 0.1905432623098999, 0.1906518990363403, 0.1907542717010317, 0.19085058146619702, 0.19094102224165624, 0.19102578043217938, 0.19110503469672618, 0.19117895571978627, 0.19124770599502136, 0.19131143962140165, 0.1913703021120098, 0.19142443021568048, 0.19147395175162293, 0.19151898545717336, 0.19155964084879876, 0.19159601809647459, 0.19162820791153773, 0.19165629144811197, 0.19168034021818608, 0.19170041602041912, 0.19171657088273225, 0.19172884701873716, 0.19173727679804176, 0.19174188273046103, 0.19174267746415008, 0.19173966379766855, 0.19173283470597158, 0.19172217338031233, 0.1917076532820334, 0.1916892382102094, 0.1916668823830927, 0.1916405305333072, 0.19161011801671757, 0.19157557093489513, 0.19153680627108727, 0.1914937320395846, 0.19144624744837282, 0.19139424307493622, 0.19133760105507563, 0.19127619528458442, 0.1912098916336164, 0.19113854817356526, 0.19106201541626147, 0.19098013656528007, 0.19089274777913576, 0.1907996784461316, 0.19070075147060803, 0.19059578357032872, 0.1904845855847217, 0.19036696279367984, 0.1902427152466086, 0.19011163810139514, 0.18997352197295367, 0.18982815329098948, 0.1896753146666041, 0.1895147852673525, 0.18934634120034122, 0.18916975590294438, 0.18898480054069688, 0.1887912444119072, 0.18858885535851505, 0.18837740018270574, 0.18815664506877644, 0.1879263560097305, 0.1876862992380634, 0.1874362416601937, 0.1871759512939633, 0.18690519770863492, 0.18662375246678653, 0.18633138956749815, 0.18602788589020766, 0.18571302163860465, 0.18538658078391906, 0.1850483515069477, 0.18469812663815696, 0.1843357040951867, 0.18396088731707577, 0.18357348569452023, 0.18317331499547132, 0.18276019778537397, 0.18233396384134354, 0.18189445055957695, 0.1814415033552919, 0.18097497605448729, 0.1804947312768226, 0.18000064080891304, 0.1794925859673427, 0.1789704579507053, 0.1784341581799865, 0.17788359862661204, 0.17731870212749518, 0.17673940268642876, 0.17614564576118164, 0.17553738853567, 0.17491460017659613, 0.17427726207395958, 0.173625368064869, 0.17295892464009976, 0.17227795113287078, 0.17158247988933145, 0.17087255642027865, 0.17014823953365285, 0.16940960144738282, 0.16865672788218858, 0.16788971813397482, 0.16710868512548382, 0.16631375543690957, 0.16550506931520947, 0.16468278066188488, 0.1638470569990429, 0.16299807941358405, 0.16213604247940444, 0.16126115415753697, 0.16037363567420207, 0.15947372137677204, 0.15856165856770385, 0.1576377073165284, 0.1567021402500367, 0.15575524232083737, 0.1547973105545101, 0.15382865377561988, 0.15284959231289919, 0.15186045768395315, 0.15086159225987988, 0.14985334891024635, 0.14883609062889822, 0.1478101901411264, 0.14677602949275456, 0.14573399962174877, 0.14468449991299442, 0.14362793773692029, 0.14256472797269115, 0.14149529251672047, 0.14042005977729657, 0.13933946415614396, 0.13825394551777692, 0.13716394864753037, 0.13606992269918247, 0.1349723206331143, 0.13387159864596843, 0.13276821559280222, 0.13166263240274334, 0.13055531148918095, 0.12944671615553963, 0.12833730999769818, 0.1272275563041296, 0.1261179174548479, 0.1250088543202547, 0.12390082566098486, 0.12279428752985438, 0.1216896926770136, 0.12058748995940576, 0.1194881237556296, 0.11839203338729687, 0.11729965254796533, 0.11621140874071667, 0.11512772272543814, 0.11404900797684447, 0.11297567015426224, 0.1119081065841767, 0.11084670575651627, 0.10979184683562634, 0.10874389918685326, 0.1077032219196328, 0.1066701634479419, 0.10564506106894041, 0.10462824056059246, 0.10362001579901908, 0.102620688396295, 0.10163054735935961, 0.10064986877067009, 0.09967891549117894, 0.09871793688617578, 0.09776716857448033, 0.096826832201431, 0.09589713523606078, 0.0949782707928031, 0.09407041747801907, 0.09317373926158605, 0.09228838537373543, 0.09141449022727426, 0.09055217336527283, 0.08970153943424844, 0.08886267818282005, 0.08803566448575786, 0.08722055839329808, 0.08641740520554025, 0.08562623557169517, 0.08484706561389585, 0.08407989707523818, 0.08332471749166491, 0.08258150038725923, 0.08185020549246665, 0.08113077898471781, 0.08042315375087815, 0.07972724967090941, 0.0790429739220833, 0.07837022130304915, 0.07770887457701711, 0.0770588048332826, 0.0764198718662824, 0.07579192457133925, 0.07517480135622143, 0.07456833056761446, 0.07397233093157571, 0.07338661200701767, 0.07281097465124392, 0.07224521149654177, 0.07168910743681774, 0.07114244012324719, 0.07060498046789704, 0.07007649315426884, 0.06955673715370352, 0.06904546624658225, 0.06854242954725547, 0.06804737203163168, 0.0675600350663593, 0.06708015693853951, 0.06660747338491449, 0.06614171811948437, 0.0656826233585184, 0.0652299203419384, 0.0647833398500693, 0.0643426127147691, 0.06390747032397144, 0.06347764511869508, 0.06305287108160011, 0.06263288421619535, 0.06221742301583096, 0.06180622892163829, 0.06139904676861162, 0.06099562521905842, 0.060595717182679726, 0.06019908022257761, 0.05980547694652373, 0.05941467538286156, 0.05902644934045317, 0.058640578752123154, 0.05825685000109164, 0.057875056229931734, 0.05749499763162815, 0.057116481722357164, 0.05673932359565186, 0.05636334615765927, 0.05598838034324169, 0.05561426531271637, 0.05524084862907417, 0.054867986415559185, 0.0544955434935377, 0.054123393500625616, 0.05375141898908841, 0.05337951150456913, 0.053007571645241745, 0.05263550910152861, 0.05226324267656063, 0.051890700287598505, 0.05151781894867105, 0.051144544734724934, 0.05077083272761532, 0.05039664694430214, 0.05002196024765097, 0.04964675424026852, 0.04927101914183475, 0.04889475365042254, 0.04851796478832331, 0.04814066773292433, 0.047762885633206756, 0.047384649412457576, 0.047005997557809716, 0.046626975897243246, 0.04624763736470024, 0.04586804175398011, 0.04548825546209807, 0.045108351222800755, 0.044728407830944755, 0.044348509858452415, 0.04396874736256591, 0.04358921558712725, 0.043210014657614496, 0.04283124927066681, 0.04245302837883131, 0.04207546487126294, 0.041698675251105745, 0.04132277931027891, 0.04094789980238495, 0.04057416211444901, 0.04020169393818968, 0.039830624941510025, 0.03946108644088592, 0.03909321107531509, 0.03872713248247524, 0.03836298497772374, 0.03800090323655405, 0.03764102198110579, 0.037283475671305764, 0.036928398201197185, 0.03657592260099304, 0.036226180745366994, 0.035879303068473346, 0.035535418286162704, 0.03519465312583731, 0.03485713206436405, 0.03452297707443849, 0.03419230737976806, 0.03386523921941568, 0.03354188562161965, 0.03322235618737938, 0.03290675688406872, 0.032595189849314386, 0.032287753205347776, 0.03198454088401417, 0.0316856424625958, 0.031391143010579464, 0.031101122947473487, 0.030815657911753377, 0.030534818640990065, 0.030258670863190406, 0.029987275199354707, 0.029720687077232934, 0.029458956656237684, 0.029202128763449815, 0.02895024284063057, 0.028703332902132877, 0.028461427503584373, 0.028224549721194706, 0.027992717141521156, 0.027765941861508346, 0.027544230498601052, 0.02732758421071227, 0.02711599872581407, 0.026909464380903622, 0.026707966170083704, 0.02651148380148415, 0.026319991762739088, 0.02613345939472431, 0.025951850973248845, 0.025775125798386603, 0.025603238291125485, 0.025436138097004724, 0.025273770196405424, 0.025116075021153164, 0.024962988577088913, 0.02481444257225926, 0.024670364550376526, 0.024530678029195774, 0.02439530264345664, 0.02426415429203651, 0.024137145288963754, 0.024014184517939692, 0.023895177590022035, 0.02378002700412392, 0.023668632309987628, 0.02356089027329509, 0.023456695042583797, 0.023355938317640254, 0.023258509519051257, 0.02316429595859781, 0.023073183010185284, 0.022985054281009314, 0.022899791782666237, 0.022817276101923738, 0.02273738657087734, 0.022660001436225853, 0.022584998027409438, 0.022512252923361998, 0.022441642117640614, 0.022373041181703142, 0.022306325426116175, 0.022241370059484802, 0.022178050344906317, 0.022116241753759702, 0.022055820116653323, 0.021996661771363245, 0.021938643707604833, 0.02188164370849047, 0.021825540488536153, 0.021770213828089822, 0.02171554470406415, 0.0216614154168658, 0.021607709713423524, 0.021554312906225895, 0.021501111988289325, 0.021447995743985707, 0.021394854855667875, 0.021341582006039386, 0.021288071976223778, 0.02123422173949611, 0.021179930550647666, 0.021125100030961803, 0.021069634248786877, 0.0210134397956981, 0.020956425858247963, 0.02089850428531027, 0.020839589651029812, 0.020779599313394622, 0.020718453468454363, 0.0206560752002124, 0.020592390526225506, 0.0205273284389484, 0.020460820942866165, 0.020392803087460568, 0.020323212996060963, 0.020251991890633977, 0.020179084112569304, 0.02010443713952257, 0.020028001598378673, 0.01994973127440232, 0.01986958311664435, 0.01978751723967532, 0.019703496921719552, 0.01961748859926493, 0.019529461858225544, 0.019439389421735655, 0.0193472471346551, 0.019253013944867396, 0.019156671881453025, 0.019058206029821313, 0.018957604503885124, 0.018854858415363742, 0.01874996184029943, 0.018642911782874097, 0.018533708136612936, 0.018422353643062262, 0.018308853848028883, 0.01819321705546912, 0.018075454279115208, 0.01795557919192738, 0.017833608073459753, 0.017709559755228362], \"mode\": \"lines\", \"xaxis\": \"x1\", \"marker\": {\"color\": \"rgb(255, 127, 14)\"}, \"x\": [2.0, 2.016, 2.032, 2.048, 2.064, 2.08, 2.096, 2.112, 2.128, 2.144, 2.16, 2.176, 2.192, 2.208, 2.224, 2.24, 2.2560000000000002, 2.2720000000000002, 2.288, 2.304, 2.32, 2.336, 2.352, 2.368, 2.384, 2.4, 2.416, 2.432, 2.448, 2.464, 2.48, 2.496, 2.512, 2.528, 2.544, 2.56, 2.576, 2.592, 2.608, 2.624, 2.64, 2.656, 2.672, 2.6879999999999997, 2.7039999999999997, 2.7199999999999998, 2.7359999999999998, 2.752, 2.768, 2.784, 2.8, 2.816, 2.832, 2.848, 2.864, 2.88, 2.896, 2.912, 2.928, 2.944, 2.96, 2.976, 2.992, 3.008, 3.024, 3.04, 3.056, 3.072, 3.088, 3.104, 3.12, 3.136, 3.152, 3.168, 3.184, 3.2, 3.216, 3.232, 3.248, 3.2640000000000002, 3.2800000000000002, 3.2960000000000003, 3.3120000000000003, 3.3280000000000003, 3.3440000000000003, 3.3600000000000003, 3.376, 3.392, 3.408, 3.424, 3.44, 3.456, 3.472, 3.488, 3.504, 3.52, 3.536, 3.552, 3.568, 3.584, 3.6, 3.616, 3.6319999999999997, 3.6479999999999997, 3.6639999999999997, 3.6799999999999997, 3.6959999999999997, 3.7119999999999997, 3.7279999999999998, 3.7439999999999998, 3.76, 3.776, 3.792, 3.808, 3.824, 3.84, 3.856, 3.872, 3.888, 3.904, 3.92, 3.936, 3.952, 3.968, 3.984, 4.0, 4.016, 4.032, 4.048, 4.064, 4.08, 4.096, 4.112, 4.128, 4.144, 4.16, 4.176, 4.192, 4.208, 4.224, 4.24, 4.256, 4.272, 4.288, 4.304, 4.32, 4.336, 4.352, 4.368, 4.384, 4.4, 4.416, 4.432, 4.448, 4.464, 4.48, 4.496, 4.5120000000000005, 4.5280000000000005, 4.5440000000000005, 4.5600000000000005, 4.5760000000000005, 4.5920000000000005, 4.6080000000000005, 4.6240000000000006, 4.640000000000001, 4.656000000000001, 4.672000000000001, 4.688000000000001, 4.704000000000001, 4.720000000000001, 4.736000000000001, 4.752, 4.768, 4.784, 4.8, 4.816, 4.832, 4.848, 4.864, 4.88, 4.896, 4.912, 4.928, 4.944, 4.96, 4.976, 4.992, 5.008, 5.024, 5.04, 5.056, 5.072, 5.088, 5.104, 5.12, 5.136, 5.152, 5.168, 5.184, 5.2, 5.216, 5.232, 5.248, 5.263999999999999, 5.279999999999999, 5.295999999999999, 5.311999999999999, 5.327999999999999, 5.343999999999999, 5.359999999999999, 5.3759999999999994, 5.3919999999999995, 5.4079999999999995, 5.4239999999999995, 5.4399999999999995, 5.4559999999999995, 5.4719999999999995, 5.4879999999999995, 5.504, 5.52, 5.536, 5.552, 5.568, 5.584, 5.6, 5.616, 5.632, 5.648, 5.664, 5.68, 5.696, 5.712, 5.728, 5.744, 5.76, 5.776, 5.792, 5.808, 5.824, 5.84, 5.856, 5.872, 5.888, 5.904, 5.92, 5.936, 5.952, 5.968, 5.984, 6.0, 6.016, 6.032, 6.048, 6.064, 6.08, 6.096, 6.112, 6.128, 6.144, 6.16, 6.176, 6.192, 6.208, 6.224, 6.24, 6.256, 6.272, 6.288, 6.304, 6.32, 6.336, 6.352, 6.368, 6.384, 6.4, 6.416, 6.432, 6.448, 6.464, 6.48, 6.496, 6.512, 6.528, 6.544, 6.56, 6.576, 6.592, 6.608, 6.624, 6.64, 6.656, 6.672, 6.688, 6.704, 6.72, 6.736, 6.752, 6.768, 6.784, 6.8, 6.816, 6.832, 6.848, 6.864, 6.88, 6.896, 6.912, 6.928, 6.944, 6.96, 6.976, 6.992, 7.008, 7.024, 7.04, 7.056, 7.072, 7.088, 7.104, 7.12, 7.136, 7.152, 7.168, 7.184, 7.2, 7.216, 7.232, 7.248, 7.264, 7.28, 7.296, 7.312, 7.328, 7.344, 7.36, 7.376, 7.392, 7.408, 7.424, 7.44, 7.456, 7.472, 7.488, 7.504, 7.52, 7.536, 7.552, 7.568, 7.584, 7.6, 7.616, 7.632, 7.648, 7.664, 7.68, 7.696, 7.712, 7.728, 7.744, 7.76, 7.776, 7.792, 7.808, 7.824, 7.84, 7.856, 7.872, 7.888, 7.904, 7.92, 7.936, 7.952, 7.968, 7.984, 8.0, 8.016, 8.032, 8.048, 8.064, 8.08, 8.096, 8.112, 8.128, 8.144, 8.16, 8.176, 8.192, 8.208, 8.224, 8.24, 8.256, 8.272, 8.288, 8.304, 8.32, 8.336, 8.352, 8.368, 8.384, 8.4, 8.416, 8.432, 8.448, 8.464, 8.48, 8.496, 8.512, 8.527999999999999, 8.544, 8.559999999999999, 8.576, 8.591999999999999, 8.608, 8.623999999999999, 8.64, 8.655999999999999, 8.672, 8.687999999999999, 8.704, 8.719999999999999, 8.736, 8.751999999999999, 8.768, 8.783999999999999, 8.8, 8.815999999999999, 8.832, 8.847999999999999, 8.864, 8.879999999999999, 8.896, 8.911999999999999, 8.928, 8.943999999999999, 8.96, 8.975999999999999, 8.992, 9.008, 9.024000000000001, 9.04, 9.056000000000001, 9.072, 9.088000000000001, 9.104, 9.120000000000001, 9.136, 9.152000000000001, 9.168, 9.184000000000001, 9.2, 9.216000000000001, 9.232, 9.248000000000001, 9.264, 9.280000000000001, 9.296, 9.312000000000001, 9.328, 9.344000000000001, 9.36, 9.376000000000001, 9.392, 9.408000000000001, 9.424, 9.440000000000001, 9.456, 9.472000000000001, 9.488, 9.504, 9.52, 9.536, 9.552, 9.568, 9.584, 9.6, 9.616, 9.632, 9.648, 9.664, 9.68, 9.696, 9.712, 9.728, 9.744, 9.76, 9.776, 9.792, 9.808, 9.824, 9.84, 9.856, 9.872, 9.888, 9.904, 9.92, 9.936, 9.952, 9.968, 9.984], \"type\": \"scatter\"}, {\"showlegend\": false, \"legendgroup\": \"rich\", \"name\": \"rich\", \"yaxis\": \"y1\", \"y\": [0.0342206200648583, 0.03425863221523118, 0.03429648404011139, 0.03433417540078175, 0.0343717061627934, 0.03440907619594616, 0.03444628537426866, 0.034483333575998074, 0.03452022068355959, 0.03455694658354554, 0.03459351116669422, 0.034629914327868425, 0.03466615596603362, 0.03470223598423586, 0.03473815428957943, 0.034773910793204056, 0.034809505410262, 0.03484493805989472, 0.034880208665209286, 0.034915317153254494, 0.03495026345499673, 0.03498504750529551, 0.035019669242878734, 0.03505412861031768, 0.03508842555400172, 0.035122560024112744, 0.03515653197459933, 0.035190341363150655, 0.03522398815117008, 0.03525747230374854, 0.03529079378963764, 0.03532395258122252, 0.035356948654494395, 0.03538978198902295, 0.03542245256792836, 0.0354549603778532, 0.035487305408934, 0.03551948765477261, 0.035551507112407295, 0.03558336378228369, 0.03561505766822537, 0.035646588777404335, 0.035677957120311174, 0.035709162710725065, 0.035740205565683525, 0.035771085705451955, 0.035801803153492996, 0.03583235793643559, 0.035862750084044, 0.0358929796291864, 0.03592304660780353, 0.03595295105887687, 0.0359826930243969, 0.036012272549330974, 0.03604168968159108, 0.036070944472001425, 0.03610003697426582, 0.03612896724493493, 0.03615773534337326, 0.03618634133172611, 0.036214785274886245, 0.036243067240460454, 0.03627118729873597, 0.03629914552264669, 0.03632694198773929, 0.03635457677213916, 0.03638204995651622, 0.036409361624050576, 0.03643651186039807, 0.03646350075365567, 0.0364903283943267, 0.03651699487528609, 0.03654350029174528, 0.036569844741217244, 0.03659602832348122, 0.03662205114054737, 0.03664791329662148, 0.03667361489806933, 0.0366991560533811, 0.036724536873135726, 0.03674975746996501, 0.03677481795851781, 0.03679971845542401, 0.03682445907925851, 0.03684903995050512, 0.036873461191520296, 0.03689772292649698, 0.03692182528142819, 0.036945768384070724, 0.03696955236390862, 0.036993177352116796, 0.0370166434815244, 0.03703995088657829, 0.03706309970330644, 0.03708609006928125, 0.037108922123582855, 0.037131596006762455, 0.037154111860805576, 0.03717646982909528, 0.03719867005637544, 0.03722071268871394, 0.0372425978734659, 0.03726432575923687, 0.03728589649584606, 0.037307310234289535, 0.03732856712670348, 0.037349667326327385, 0.037370610987467315, 0.03739139826545922, 0.03741202931663218, 0.037432504298271774, 0.0374528233685834, 0.03747298668665572, 0.03749299441242404, 0.03751284670663385, 0.037532543730804314, 0.037552085647191834, 0.03757147261875376, 0.037590704809112016, 0.03760978238251688, 0.03762870550381085, 0.03764747433839252, 0.03766608905218055, 0.03768454981157772, 0.03770285678343511, 0.03772101013501631, 0.03773901003396173, 0.03775685664825302, 0.03777455014617761, 0.03779209069629333, 0.037809478467393076, 0.03782671362846976, 0.037843796348681145, 0.03786072679731501, 0.037877505143754285, 0.037894131557442416, 0.037910606207848786, 0.037926929264434306, 0.03794310089661717, 0.037959121273738655, 0.03797499056502919, 0.03799070893957449, 0.03800627656628188, 0.03802169361384673, 0.038036960250719135, 0.03805207664507064, 0.038067042964761266, 0.038081859377306605, 0.038096526049845106, 0.03811104314910559, 0.03812541084137489, 0.03813962929246573, 0.03815369866768473, 0.03816761913180062, 0.03818139084901273, 0.038195013982919544, 0.03820848869648759, 0.03822181515202039, 0.0382349935111278, 0.03824802393469538, 0.03826090658285411, 0.038273641614950275, 0.03828622918951556, 0.03829866946423741, 0.038310962595929594, 0.03832310874050297, 0.038335108052936585, 0.03834696068724889, 0.0383586667964693, 0.03837022653260994, 0.038381640046637626, 0.03839290748844619, 0.03840402900682895, 0.03841500474945149, 0.0384258348628247, 0.03843651949227807, 0.03844705878193326, 0.03845745287467795, 0.0384677019121399, 0.03847780603466136, 0.03848776538127373, 0.038497580089672495, 0.038507250296192425, 0.038516776135783144, 0.03852615774198484, 0.03853539524690443, 0.03854448878119189, 0.03855343847401699, 0.038562244453046186, 0.03857090684441999, 0.03857942577273051, 0.03858780136099935, 0.0385960337306558, 0.03860412300151536, 0.03861206929175857, 0.03861987271791012, 0.03862753339481837, 0.03863505143563509, 0.03864242695179553, 0.038649660052998955, 0.03865675084718931, 0.03866369944053633, 0.03867050593741699, 0.03867717044039722, 0.038683693050214005, 0.038690073865757825, 0.0386963129840554, 0.03870241050025282, 0.038708366507598985, 0.03871418109742938, 0.03871985435915025, 0.03872538638022308, 0.038730777246149456, 0.03873602704045622, 0.03874113584468102, 0.03874610373835828, 0.038750930799005386, 0.03875561710210934, 0.03876016272111373, 0.0387645677274061, 0.03876883219030558, 0.03877295617705104, 0.03877693975278948, 0.03878078298056481, 0.038784485921307094, 0.03878804863382198, 0.0387914711747807, 0.0387947535987103, 0.038797895957984316, 0.038800898302813774, 0.038803760681238614, 0.03880648313911946, 0.03880906572012976, 0.038811508465748316, 0.03881381141525222, 0.03881597460571009, 0.03881799807197579, 0.038819881846682454, 0.03882162596023687, 0.03882323044081437, 0.03882469531435397, 0.038826020604553944, 0.0388272063328678, 0.0388282525185006, 0.038829159178405716, 0.038829926327281904, 0.03883055397757082, 0.038831042139454895, 0.03883139082085561, 0.0388316000274321, 0.03883166976258026, 0.0388316000274321, 0.03883139082085561, 0.038831042139454895, 0.03883055397757082, 0.038829926327281904, 0.038829159178405716, 0.0388282525185006, 0.0388272063328678, 0.038826020604553944, 0.03882469531435397, 0.03882323044081437, 0.03882162596023687, 0.038819881846682454, 0.03881799807197579, 0.03881597460571009, 0.03881381141525222, 0.038811508465748316, 0.03880906572012976, 0.03880648313911946, 0.038803760681238614, 0.038800898302813774, 0.038797895957984316, 0.0387947535987103, 0.0387914711747807, 0.03878804863382198, 0.038784485921307094, 0.03878078298056481, 0.03877693975278948, 0.03877295617705104, 0.03876883219030558, 0.0387645677274061, 0.03876016272111373, 0.03875561710210934, 0.038750930799005386, 0.03874610373835828, 0.03874113584468102, 0.03873602704045622, 0.038730777246149456, 0.03872538638022308, 0.03871985435915025, 0.03871418109742938, 0.038708366507598985, 0.03870241050025282, 0.0386963129840554, 0.038690073865757825, 0.038683693050214005, 0.03867717044039722, 0.03867050593741699, 0.03866369944053633, 0.03865675084718931, 0.038649660052998955, 0.03864242695179553, 0.03863505143563509, 0.03862753339481837, 0.03861987271791012, 0.03861206929175857, 0.03860412300151537, 0.0385960337306558, 0.03858780136099935, 0.03857942577273051, 0.03857090684441999, 0.038562244453046186, 0.03855343847401699, 0.03854448878119189, 0.03853539524690443, 0.03852615774198484, 0.038516776135783144, 0.038507250296192425, 0.038497580089672495, 0.03848776538127373, 0.03847780603466136, 0.0384677019121399, 0.03845745287467795, 0.03844705878193326, 0.03843651949227807, 0.0384258348628247, 0.03841500474945149, 0.03840402900682895, 0.03839290748844619, 0.038381640046637626, 0.03837022653260994, 0.0383586667964693, 0.03834696068724889, 0.038335108052936585, 0.03832310874050297, 0.038310962595929594, 0.03829866946423741, 0.03828622918951556, 0.038273641614950275, 0.03826090658285411, 0.03824802393469538, 0.0382349935111278, 0.03822181515202039, 0.03820848869648759, 0.038195013982919544, 0.03818139084901273, 0.03816761913180062, 0.03815369866768473, 0.03813962929246574, 0.03812541084137489, 0.03811104314910559, 0.038096526049845106, 0.038081859377306605, 0.038067042964761266, 0.03805207664507064, 0.038036960250719135, 0.03802169361384673, 0.03800627656628188, 0.03799070893957449, 0.03797499056502919, 0.037959121273738655, 0.03794310089661717, 0.037926929264434306, 0.037910606207848786, 0.037894131557442416, 0.037877505143754285, 0.03786072679731501, 0.037843796348681145, 0.03782671362846976, 0.037809478467393076, 0.03779209069629333, 0.03777455014617761, 0.03775685664825302, 0.03773901003396173, 0.03772101013501631, 0.03770285678343511, 0.03768454981157772, 0.03766608905218055, 0.03764747433839252, 0.03762870550381086, 0.03760978238251688, 0.037590704809112016, 0.03757147261875376, 0.037552085647191834, 0.03753254373080431, 0.03751284670663385, 0.03749299441242404, 0.03747298668665572, 0.0374528233685834, 0.037432504298271774, 0.03741202931663218, 0.037391398265459216, 0.03737061098746731, 0.037349667326327385, 0.03732856712670348, 0.037307310234289535, 0.03728589649584606, 0.03726432575923687, 0.0372425978734659, 0.03722071268871394, 0.037198670056375435, 0.03717646982909528, 0.037154111860805576, 0.037131596006762455, 0.037108922123582855, 0.03708609006928125, 0.03706309970330644, 0.037039950886578285, 0.03701664348152439, 0.036993177352116796, 0.03696955236390862, 0.036945768384070724, 0.03692182528142819, 0.03689772292649698, 0.036873461191520296, 0.03684903995050511, 0.03682445907925851, 0.03679971845542401, 0.036774817958517815, 0.03674975746996501, 0.036724536873135726, 0.0366991560533811, 0.03667361489806933, 0.03664791329662148, 0.03662205114054737, 0.03659602832348122, 0.03656984474121725, 0.03654350029174529, 0.03651699487528609, 0.0364903283943267, 0.03646350075365566, 0.03643651186039807, 0.036409361624050576, 0.03638204995651622, 0.036354576772139165, 0.03632694198773929, 0.03629914552264669, 0.03627118729873597, 0.03624306724046045, 0.036214785274886245, 0.03618634133172611, 0.03615773534337326, 0.03612896724493493, 0.03610003697426582, 0.036070944472001425, 0.03604168968159108, 0.03601227254933097, 0.03598269302439689, 0.03595295105887687, 0.03592304660780353, 0.03589297962918641, 0.035862750084044, 0.03583235793643559, 0.035801803153492996, 0.035771085705451955, 0.03574020556568352, 0.035709162710725065, 0.035677957120311174, 0.035646588777404335, 0.03561505766822537, 0.03558336378228369, 0.03555150711240729, 0.03551948765477259, 0.035487305408934, 0.0354549603778532, 0.035422452567928364, 0.03538978198902295, 0.035356948654494395, 0.03532395258122252, 0.03529079378963764, 0.03525747230374853, 0.03522398815117008, 0.035190341363150655, 0.03515653197459934, 0.035122560024112744, 0.03508842555400172, 0.03505412861031768, 0.035019669242878734, 0.03498504750529551, 0.03495026345499673, 0.034915317153254494, 0.034880208665209286, 0.03484493805989473, 0.034809505410262, 0.034773910793204056, 0.03473815428957942, 0.03470223598423586, 0.03466615596603362, 0.034629914327868425, 0.03459351116669423, 0.03455694658354554, 0.03452022068355959, 0.034483333575998074, 0.03444628537426865, 0.03440907619594616, 0.0343717061627934, 0.03433417540078175, 0.03429648404011139, 0.03425863221523118], \"mode\": \"lines\", \"xaxis\": \"x1\", \"marker\": {\"color\": \"rgb(44, 160, 44)\"}, \"x\": [11.0, 11.024, 11.048, 11.072, 11.096, 11.12, 11.144, 11.168, 11.192, 11.216, 11.24, 11.264, 11.288, 11.312, 11.336, 11.36, 11.384, 11.408, 11.432, 11.456, 11.48, 11.504, 11.528, 11.552, 11.576, 11.6, 11.624, 11.648, 11.672, 11.696, 11.72, 11.744, 11.768, 11.792, 11.816, 11.84, 11.864, 11.888, 11.912, 11.936, 11.96, 11.984, 12.008, 12.032, 12.056000000000001, 12.08, 12.104, 12.128, 12.152, 12.176, 12.2, 12.224, 12.248, 12.272, 12.296, 12.32, 12.344, 12.368, 12.392, 12.416, 12.44, 12.464, 12.488, 12.512, 12.536, 12.56, 12.584, 12.608, 12.632, 12.656, 12.68, 12.704, 12.728, 12.752, 12.776, 12.8, 12.824, 12.848, 12.872, 12.896, 12.92, 12.943999999999999, 12.968, 12.992, 13.016, 13.04, 13.064, 13.088000000000001, 13.112, 13.136, 13.16, 13.184000000000001, 13.208, 13.232, 13.256, 13.28, 13.304, 13.328, 13.352, 13.376, 13.4, 13.424, 13.448, 13.472, 13.496, 13.52, 13.544, 13.568, 13.592, 13.616, 13.64, 13.664, 13.688, 13.712, 13.736, 13.76, 13.783999999999999, 13.808, 13.832, 13.856, 13.879999999999999, 13.904, 13.928, 13.952, 13.975999999999999, 14.0, 14.024000000000001, 14.048, 14.072, 14.096, 14.120000000000001, 14.144, 14.168, 14.192, 14.216000000000001, 14.24, 14.264, 14.288, 14.312, 14.336, 14.36, 14.384, 14.408, 14.432, 14.456, 14.48, 14.504, 14.528, 14.552, 14.576, 14.6, 14.624, 14.648, 14.672, 14.696, 14.72, 14.744, 14.768, 14.792, 14.815999999999999, 14.84, 14.864, 14.888, 14.911999999999999, 14.936, 14.96, 14.984, 15.008, 15.032, 15.056000000000001, 15.08, 15.104, 15.128, 15.152000000000001, 15.176, 15.2, 15.224, 15.248000000000001, 15.272, 15.296, 15.32, 15.344000000000001, 15.368, 15.392, 15.416, 15.440000000000001, 15.464, 15.488, 15.512, 15.536, 15.559999999999999, 15.584, 15.608, 15.632, 15.655999999999999, 15.68, 15.704, 15.728, 15.751999999999999, 15.776, 15.8, 15.824, 15.847999999999999, 15.872, 15.896, 15.92, 15.943999999999999, 15.968, 15.992, 16.016, 16.04, 16.064, 16.088, 16.112000000000002, 16.136, 16.16, 16.184, 16.208, 16.232, 16.256, 16.28, 16.304000000000002, 16.328, 16.352, 16.376, 16.4, 16.424, 16.448, 16.472, 16.496000000000002, 16.52, 16.544, 16.567999999999998, 16.592, 16.616, 16.64, 16.664, 16.688, 16.712, 16.736, 16.759999999999998, 16.784, 16.808, 16.832, 16.856, 16.88, 16.904, 16.928, 16.951999999999998, 16.976, 17.0, 17.024, 17.048000000000002, 17.072, 17.096, 17.12, 17.144, 17.168, 17.192, 17.216, 17.240000000000002, 17.264, 17.288, 17.312, 17.336, 17.36, 17.384, 17.408, 17.432000000000002, 17.456, 17.48, 17.503999999999998, 17.528, 17.552, 17.576, 17.6, 17.624, 17.648, 17.672, 17.695999999999998, 17.72, 17.744, 17.768, 17.792, 17.816, 17.84, 17.864, 17.887999999999998, 17.912, 17.936, 17.96, 17.984, 18.008, 18.032, 18.056, 18.08, 18.104, 18.128, 18.152, 18.176000000000002, 18.2, 18.224, 18.248, 18.272, 18.296, 18.32, 18.344, 18.368000000000002, 18.392, 18.416, 18.44, 18.464, 18.488, 18.512, 18.536, 18.56, 18.584, 18.608, 18.631999999999998, 18.656, 18.68, 18.704, 18.728, 18.752, 18.776, 18.8, 18.823999999999998, 18.848, 18.872, 18.896, 18.92, 18.944, 18.968, 18.992, 19.016, 19.04, 19.064, 19.088, 19.112000000000002, 19.136, 19.16, 19.183999999999997, 19.208, 19.232, 19.256, 19.28, 19.304000000000002, 19.328, 19.352, 19.375999999999998, 19.4, 19.424, 19.448, 19.472, 19.496000000000002, 19.52, 19.544, 19.567999999999998, 19.592, 19.616, 19.64, 19.664, 19.688000000000002, 19.712, 19.736, 19.759999999999998, 19.784, 19.808, 19.832, 19.856, 19.880000000000003, 19.904, 19.928, 19.951999999999998, 19.976, 20.0, 20.024, 20.048000000000002, 20.072, 20.096, 20.119999999999997, 20.144, 20.168, 20.192, 20.216, 20.240000000000002, 20.264, 20.288, 20.311999999999998, 20.336, 20.36, 20.384, 20.408, 20.432000000000002, 20.456, 20.48, 20.503999999999998, 20.528, 20.552, 20.576, 20.6, 20.624000000000002, 20.648, 20.672, 20.695999999999998, 20.72, 20.744, 20.768, 20.792, 20.816000000000003, 20.84, 20.864, 20.887999999999998, 20.912, 20.936, 20.96, 20.984, 21.008, 21.032, 21.055999999999997, 21.08, 21.104, 21.128, 21.152, 21.176000000000002, 21.2, 21.224, 21.247999999999998, 21.272, 21.296, 21.32, 21.344, 21.368000000000002, 21.392, 21.416, 21.439999999999998, 21.464, 21.488, 21.512, 21.536, 21.560000000000002, 21.584, 21.608, 21.631999999999998, 21.656, 21.68, 21.704, 21.728, 21.752000000000002, 21.776, 21.8, 21.823999999999998, 21.848, 21.872, 21.896, 21.92, 21.944000000000003, 21.968, 21.992, 22.016, 22.04, 22.064, 22.088, 22.112000000000002, 22.136, 22.16, 22.183999999999997, 22.208, 22.232, 22.256, 22.28, 22.304000000000002, 22.328, 22.352, 22.375999999999998, 22.4, 22.424, 22.448, 22.472, 22.496000000000002, 22.52, 22.544, 22.567999999999998, 22.592, 22.616, 22.64, 22.664, 22.688000000000002, 22.712, 22.736, 22.759999999999998, 22.784, 22.808, 22.832, 22.856, 22.880000000000003, 22.904, 22.928, 22.951999999999998, 22.976], \"type\": \"scatter\"}, {\"showlegend\": false, \"legendgroup\": \"poor\", \"name\": \"poor\", \"yaxis\": \"y2\", \"text\": null, \"y\": [\"poor\", \"poor\", \"poor\", \"poor\", \"poor\", \"poor\", \"poor\", \"poor\", \"poor\", \"poor\", \"poor\", \"poor\", \"poor\", \"poor\", \"poor\", \"poor\", \"poor\", \"poor\", \"poor\", \"poor\", \"poor\", \"poor\"], \"mode\": \"markers\", \"xaxis\": \"x1\", \"marker\": {\"color\": \"rgb(31, 119, 180)\", \"symbol\": \"line-ns-open\"}, \"x\": [0.0, 1.0, 0.0, 1.0, 0.0, 0.0, 0.0, 0.0, 0.0, 0.0, 0.0, 0.0, 0.0, 0.0, 0.0, 0.0, 0.0, 0.0, 0.0, 0.0, 0.0, 0.0], \"type\": \"scatter\"}, {\"showlegend\": false, \"legendgroup\": \"medium\", \"name\": \"medium\", \"yaxis\": \"y2\", \"text\": null, \"y\": [\"medium\", \"medium\", \"medium\", \"medium\", \"medium\", \"medium\", \"medium\", \"medium\", \"medium\", \"medium\", \"medium\", \"medium\", \"medium\", \"medium\", \"medium\", \"medium\", \"medium\", \"medium\", \"medium\", \"medium\", \"medium\", \"medium\", \"medium\", \"medium\", \"medium\", \"medium\", \"medium\", \"medium\", \"medium\", \"medium\", \"medium\", \"medium\", \"medium\", \"medium\", \"medium\", \"medium\", \"medium\", \"medium\"], \"mode\": \"markers\", \"xaxis\": \"x1\", \"marker\": {\"color\": \"rgb(255, 127, 14)\", \"symbol\": \"line-ns-open\"}, \"x\": [4.0, 5.0, 2.0, 3.0, 5.0, 4.0, 4.0, 3.0, 4.0, 5.0, 2.0, 3.0, 2.0, 4.0, 3.0, 5.0, 5.0, 2.0, 5.0, 4.0, 7.0, 4.0, 5.0, 3.0, 2.0, 2.0, 5.0, 7.0, 5.0, 10.0, 7.0, 9.0, 2.0, 7.0, 2.0, 2.0, 3.0, 3.0], \"type\": \"scatter\"}, {\"showlegend\": false, \"legendgroup\": \"rich\", \"name\": \"rich\", \"yaxis\": \"y2\", \"text\": null, \"y\": [\"rich\", \"rich\"], \"mode\": \"markers\", \"xaxis\": \"x1\", \"marker\": {\"color\": \"rgb(44, 160, 44)\", \"symbol\": \"line-ns-open\"}, \"x\": [23.0, 11.0], \"type\": \"scatter\"}], {\"barmode\": \"overlay\", \"xaxis1\": {\"zeroline\": false, \"domain\": [0.0, 1.0], \"anchor\": \"y2\"}, \"yaxis1\": {\"position\": 0.0, \"domain\": [0.35, 1], \"anchor\": \"free\"}, \"yaxis2\": {\"domain\": [0, 0.25], \"showticklabels\": false, \"anchor\": \"x1\", \"dtick\": 1}, \"hovermode\": \"closest\", \"legend\": {\"traceorder\": \"reversed\"}}, {\"linkText\": \"Export to plot.ly\", \"showLink\": true})});</script>"
      ],
      "text/vnd.plotly.v1+html": [
       "<div id=\"1e76ea98-64d1-4128-9967-aff7baa3697f\" style=\"height: 525px; width: 100%;\" class=\"plotly-graph-div\"></div><script type=\"text/javascript\">require([\"plotly\"], function(Plotly) { window.PLOTLYENV=window.PLOTLYENV || {};window.PLOTLYENV.BASE_URL=\"https://plot.ly\";Plotly.newPlot(\"1e76ea98-64d1-4128-9967-aff7baa3697f\", [{\"opacity\": 0.7, \"legendgroup\": \"poor\", \"autobinx\": false, \"name\": \"poor\", \"yaxis\": \"y1\", \"histnorm\": \"probability density\", \"xaxis\": \"x1\", \"xbins\": {\"start\": 0.0, \"end\": 1.0, \"size\": 1.0}, \"marker\": {\"color\": \"rgb(31, 119, 180)\"}, \"x\": [0.0, 1.0, 0.0, 1.0, 0.0, 0.0, 0.0, 0.0, 0.0, 0.0, 0.0, 0.0, 0.0, 0.0, 0.0, 0.0, 0.0, 0.0, 0.0, 0.0, 0.0, 0.0], \"type\": \"histogram\"}, {\"opacity\": 0.7, \"legendgroup\": \"medium\", \"autobinx\": false, \"name\": \"medium\", \"yaxis\": \"y1\", \"histnorm\": \"probability density\", \"xaxis\": \"x1\", \"xbins\": {\"start\": 2.0, \"end\": 10.0, \"size\": 1.0}, \"marker\": {\"color\": \"rgb(255, 127, 14)\"}, \"x\": [4.0, 5.0, 2.0, 3.0, 5.0, 4.0, 4.0, 3.0, 4.0, 5.0, 2.0, 3.0, 2.0, 4.0, 3.0, 5.0, 5.0, 2.0, 5.0, 4.0, 7.0, 4.0, 5.0, 3.0, 2.0, 2.0, 5.0, 7.0, 5.0, 10.0, 7.0, 9.0, 2.0, 7.0, 2.0, 2.0, 3.0, 3.0], \"type\": \"histogram\"}, {\"opacity\": 0.7, \"legendgroup\": \"rich\", \"autobinx\": false, \"name\": \"rich\", \"yaxis\": \"y1\", \"histnorm\": \"probability density\", \"xaxis\": \"x1\", \"xbins\": {\"start\": 11.0, \"end\": 23.0, \"size\": 1.0}, \"marker\": {\"color\": \"rgb(44, 160, 44)\"}, \"x\": [23.0, 11.0], \"type\": \"histogram\"}, {\"showlegend\": false, \"legendgroup\": \"poor\", \"name\": \"poor\", \"yaxis\": \"y1\", \"y\": [2.287140840854731, 2.2869589308500142, 2.286413287557675, 2.2855041713263273, 2.284232015840113, 2.282597427773937, 2.2806011863112863, 2.278244242525228, 2.2755277186232505, 2.2724529070567914, 2.26902126949644, 2.2652344356739524, 2.2610942020923646, 2.256602530605632, 2.2517615468693704, 2.246573538664403, 2.2410409540949754, 2.2351663996636155, 2.2289526382247615, 2.2224025868194133, 2.2155193143931617, 2.2083060394001333, 2.2007661272954167, 2.192903087918755, 2.1847205727723247, 2.1762223721955523, 2.1674124124400453, 2.1582947526477874, 2.148873581735848, 2.1391532151909565, 2.129138091777379, 2.1188327701615934, 2.108241925457374, 2.0973703456949333, 2.0862229282178513, 2.0748046760115892, 2.0631206939674325, 2.051176185085758, 2.0389764466225815, 2.026526866183354, 2.0138329177680423, 2.0009001577715617, 1.9877342209435898, 1.97434081631192, 1.9607257230734219, 1.9468947864567456, 1.9328539135609049, 1.9186090691738462, 1.9041662715751284, 1.8895315883268249, 1.8747111320567282, 1.859711056237923, 1.8445375509687822, 1.8291968387573723, 1.8136951703142583, 1.798038820357634, 1.7822340834346542, 1.766287269762803, 1.750204701095095, 1.7339927066128054, 1.717657618849392, 1.701205769649215, 1.6846434861645379, 1.6679770868942796, 1.6512128777678703, 1.6343571482774906, 1.6174161676618857, 1.6003961811448648, 1.5833034062315043, 1.566144029064951, 1.5489242008466835, 1.5316500343229067, 1.514327600339745, 1.4969629244697096, 1.4795619837118632, 1.4621307032679869, 1.4446749533969268, 1.4272005463491888, 1.4097132333837714, 1.392218701869051, 1.3747225724694951, 1.3572303964197685, 1.3397476528877845, 1.3222797464280516, 1.3048320045266002, 1.2874096752386202, 1.2700179249198666, 1.2526618360527202, 1.2353464051677203, 1.21807654086125, 1.2008570619099195, 1.1836926954821243, 1.1665880754471105, 1.1495477407817452, 1.1325761340751552, 1.1156776001311886, 1.0988563846686292, 1.082116633118935, 1.0654623895211972, 1.0488975955138935, 1.0324260894229202, 1.016051605445293, 0.9997777729277895, 0.9836081157397443, 0.9675460517390857, 0.951594892330631, 0.9357578421155794, 0.9200379986310263, 0.9044383521782838, 0.8889617857386808, 0.8736110749754632, 0.8583888883203327, 0.8432977871430882, 0.8283402260027959, 0.81351855297881, 0.7988350100799511, 0.7842917337300529, 0.7698907553280712, 0.7556340018808727, 0.741523296706784, 0.7275603602079548, 0.7137468107095111, 0.7000841653634851, 0.6865738411154304, 0.6732171557316424, 0.6600153288848409, 0.646969483296175, 0.6340806459313749, 0.6213497492488671, 0.608777632497646, 0.5963650430626966, 0.5841126378557401, 0.5720209847490862, 0.5600905640503513, 0.5483217700158337, 0.5367149124003034, 0.5252702180410052, 0.5139878324736564, 0.5028678215782512, 0.49191017325247943, 0.48111479911060573, 0.47048153620564964, 0.4600101487727527, 0.4497003299916189, 0.4395517037659634, 0.4295638265179088, 0.4197361889953162, 0.4100682180900642, 0.40055927866531493, 0.39120867538985116, 0.3820156545776015, 0.3729794060305068, 0.36409906488292126, 0.3553737134457881, 0.34680238304886074, 0.33838405587929693, 0.3301176668149841, 0.32200210525101464, 0.31403621691775924, 0.30621880568905213, 0.29854863537903004, 0.29102443152623514, 0.2836448831636244, 0.2764086445731891, 0.26931433702393187, 0.26236055049199986, 0.2555458453618288, 0.24886875410719186, 0.24232778295111096, 0.23592141350362916, 0.22964810437649877, 0.22350629277388928, 0.21749439605826779, 0.2116108132906557, 0.20585392674451924, 0.2002221033925919, 0.1947136963659848, 0.18932704638498415, 0.18406048316098514, 0.17891232676905652, 0.17388088899067977, 0.16896447462624978, 0.16416138277697134, 0.1594699080958278, 0.1548883420073436, 0.15041497389590433, 0.14604809226243717, 0.1417859858493017, 0.13762694473327233, 0.13356926138653788, 0.12961123170568176, 0.1257511560086377, 0.12198733999965848, 0.11831809570236201, 0.11474174236095981, 0.11125660730979807, 0.1078610268113792, 0.10455334686305459, 0.1013319239726151, 0.09819512590302634, 0.0951413323865888, 0.0921689358088215, 0.08927634186239804, 0.08646197017148122, 0.08372425488682787, 0.08106164525205382, 0.0784726061414692, 0.07595561856991266, 0.0735091801750275, 0.07113180567244312, 0.06882202728433562, 0.06657839514185679, 0.06439947766193366, 0.062283861898951964, 0.060230153871845035, 0.05823697886712439, 0.05630298171838883, 0.05442682706286451, 0.05260719957552771, 0.050842804181372755, 0.04913236624638738, 0.04747463174780637, 0.04586836742421162, 0.04431236090605345, 0.04280542082716485, 0.041346376917844464, 0.039934080080079044, 0.03856740244547936, 0.03724523741649736, 0.03596649969149279, 0.0347301252742113, 0.03353507146823437, 0.03238031685695426, 0.031264861269624376, 0.03018772573402677, 0.029147952416294233, 0.028144604548416722, 0.027176766343953742, 0.026243542902467717, 0.02534406010318349, 0.024477464488371823, 0.02364292313694473, 0.0228396235287411, 0.02206677339997153, 0.02132360059028115, 0.02060935288187826, 0.019923297831167246, 0.019264722593311457, 0.018632933740142917, 0.018027257071822313, 0.017447037422643093, 0.016891638461360492, 0.016360442486415962, 0.015852850216414603, 0.015368280576202022, 0.0149061704788751, 0.014465974604048805, 0.014047165172689913, 0.013649231718816025, 0.013271680858346537, 0.012914036055380534, 0.012575837386164478, 0.012256641301000867, 0.011956020384337804, 0.011673563113267012, 0.011408873614647331, 0.011161571421058803, 0.010931291225781395, 0.010717682636981562, 0.010520409931279054, 0.010339151806855088, 0.01017360113625362, 0.01002346471901604, 0.00988846303428029, 0.009768329993465287, 0.009662812693151931, 0.009571671168262488, 0.009494678145631357, 0.009431618798050833, 0.009382290498867156, 0.009346502577193794, 0.009324076073800645, 0.009314843497730116, 0.009318648583683265, 0.00933534605021258, 0.009364801358749958, 0.00940689047349285, 0.009461499622164263, 0.009528525057656948, 0.009607872820565546, 0.00969945850260598, 0.009803207010914961, 0.009919052333218784, 0.010046937303855214, 0.010186813370628461, 0.010338640362472793, 0.010502386257897315, 0.010678026954180768, 0.010865546037281716, 0.011064934552427798, 0.011276190775344364, 0.011499319984080863, 0.01173433423139207, 0.011981252117628897, 0.012240098564092965, 0.012510904586807483, 0.01279370707065721, 0.013088548543848945, 0.013395476952644442, 0.013714545436317796, 0.014045812102289482, 0.0143893398013904, 0.014745195903209562, 0.015113452071481261, 0.015494184039467892, 0.015887471385297586, 0.016293397307216125, 0.016712048398717195, 0.017143514423514555, 0.017587888090325, 0.018045264827432083, 0.018515742557004618, 0.0189994214691465, 0.019496403795659006, 0.020006793583498644, 0.020530696467919135, 0.02106821944528961, 0.021619470645584355, 0.022184559104545153, 0.022763594535520636, 0.02335668710099263, 0.023963947183803166, 0.02458548515810169, 0.025221411160035827, 0.025871834858215564, 0.026536865223984775, 0.027216610301539077, 0.027911176977935763, 0.028620670753044888, 0.02934519550949827, 0.030084853282695917, 0.03083974403093825, 0.03160996540575496, 0.03239561252250747, 0.03319677773135067, 0.03401355038863928, 0.03484601662887607, 0.03569425913729888, 0.03655835692321331, 0.03743838509418137, 0.03833441463118038, 0.03924651216485483, 0.04017473975298638, 0.04111915465931326, 0.042079809133835716, 0.04305675019474817, 0.04405001941214316, 0.04505965269363881, 0.046085680072083135, 0.04712812549549486, 0.0481870066194038, 0.049262334601757496, 0.05035411390056519, 0.051462342074453, 0.052587009586308395, 0.053728099610194056, 0.054885587841715634, 0.056059442312028515, 0.05724962320567299, 0.058456082682428495, 0.05967876470338033, 0.060917604861390855, 0.0621725302161741, 0.06344345913416884, 0.06473030113340623, 0.06603295673357351, 0.06735131731147004, 0.06868526496205205, 0.07003467236526877, 0.07139940265888065, 0.07277930931746097, 0.07417423603777258, 0.07558401663071244, 0.07700847492001645, 0.07844742464791012, 0.0799006693878949, 0.08136800246484824, 0.08284920688261932, 0.08434405525929461, 0.08585230977030635, 0.08737372209954906, 0.08890803339866586, 0.09045497425466559, 0.09201426466601637, 0.0935856140273676, 0.09516872112303577, 0.09676327412939047, 0.09836895062626573, 0.0999854176175175, 0.1016123315608384, 0.10324933840693577, 0.10489607364816997, 0.10655216237674009, 0.10821721935249934, 0.10989084908046906, 0.11157264589811623, 0.11326219407244587, 0.1149590679069528, 0.11666283185846649, 0.11837304066391273, 0.12008923947700394, 0.12181096401486782, 0.12353774071459969, 0.12526908689972324, 0.12700451095653534, 0.12874351252028682, 0.13048558267115762, 0.13223020413995604, 0.1339768515234748, 0.13572499150941625, 0.13747408311079015, 0.13922357790967746, 0.14097292031024067, 0.14272154780085114, 0.14446889122518575, 0.14621437506214588, 0.14795741771442875, 0.14969743180557493, 0.1514338244853077, 0.15316599774295478, 0.1548933487287543, 0.1566152700828164, 0.15833115027150382, 0.16004037393100068, 0.1617423222177993, 0.16343637316585782, 0.16512190205013763, 0.16679828175625144, 0.16846488315591576, 0.1701210754879108, 0.17176622674423772, 0.17339970406114086, 0.17502087411468165, 0.17662910352050956, 0.1782237592374963, 0.17980420897487506, 0.18136982160252343, 0.182919967564029, 0.18445401929215507, 0.18597135162633704, 0.18747134223181783, 0.18895337202003631, 0.19041682556987535, 0.1918610915493663, 0.1932855631374547, 0.19468963844541745, 0.19607272093752737, 0.19743421985055054, 0.1987735506116736, 0.20009013525443517, 0.20138340283226527, 0.20265278982920265, 0.20389774056739043, 0.20511770761093082, 0.20631215216569024, 0.20748054447464742, 0.20862236420837962, 0.20973710085027955, 0.21082425407611097, 0.21188333412750116, 0.21291386217898492, 0.2139153706982128, 0.21488740379894236, 0.21582951758644403, 0.21674128049495042, 0.21762227361679237, 0.21847209102286896, 0.21929034007410822, 0.22007664172358443, 0.22083063080896498, 0.22155195633497224, 0.2222402817455545, 0.2228952851854659, 0.22351665975097793, 0.22410411372944136, 0.22465737082744472, 0.22517617038730747, 0.2256602675916854, 0.22610943365604771, 0.22652345600882776, 0.22690213845903612, 0.22724530135116006, 0.2275527817071748, 0.22782443335550753, 0.22806012704681342, 0.22825975055643394, 0.22842320877342534, 0.22855042377605525, 0.22864133489368685, 0.22869589875497917], \"mode\": \"lines\", \"xaxis\": \"x1\", \"marker\": {\"color\": \"rgb(31, 119, 180)\"}, \"x\": [0.0, 0.002, 0.004, 0.006, 0.008, 0.01, 0.012, 0.014, 0.016, 0.018, 0.02, 0.022, 0.024, 0.026, 0.028, 0.03, 0.032, 0.034, 0.036, 0.038, 0.04, 0.042, 0.044, 0.046, 0.048, 0.05, 0.052, 0.054, 0.056, 0.058, 0.06, 0.062, 0.064, 0.066, 0.068, 0.07, 0.072, 0.074, 0.076, 0.078, 0.08, 0.082, 0.084, 0.086, 0.088, 0.09, 0.092, 0.094, 0.096, 0.098, 0.1, 0.102, 0.104, 0.106, 0.108, 0.11, 0.112, 0.114, 0.116, 0.118, 0.12, 0.122, 0.124, 0.126, 0.128, 0.13, 0.132, 0.134, 0.136, 0.138, 0.14, 0.142, 0.144, 0.146, 0.148, 0.15, 0.152, 0.154, 0.156, 0.158, 0.16, 0.162, 0.164, 0.166, 0.168, 0.17, 0.172, 0.174, 0.176, 0.178, 0.18, 0.182, 0.184, 0.186, 0.188, 0.19, 0.192, 0.194, 0.196, 0.198, 0.2, 0.202, 0.204, 0.206, 0.208, 0.21, 0.212, 0.214, 0.216, 0.218, 0.22, 0.222, 0.224, 0.226, 0.228, 0.23, 0.232, 0.234, 0.236, 0.238, 0.24, 0.242, 0.244, 0.246, 0.248, 0.25, 0.252, 0.254, 0.256, 0.258, 0.26, 0.262, 0.264, 0.266, 0.268, 0.27, 0.272, 0.274, 0.276, 0.278, 0.28, 0.282, 0.284, 0.286, 0.288, 0.29, 0.292, 0.294, 0.296, 0.298, 0.3, 0.302, 0.304, 0.306, 0.308, 0.31, 0.312, 0.314, 0.316, 0.318, 0.32, 0.322, 0.324, 0.326, 0.328, 0.33, 0.332, 0.334, 0.336, 0.338, 0.34, 0.342, 0.344, 0.346, 0.348, 0.35, 0.352, 0.354, 0.356, 0.358, 0.36, 0.362, 0.364, 0.366, 0.368, 0.37, 0.372, 0.374, 0.376, 0.378, 0.38, 0.382, 0.384, 0.386, 0.388, 0.39, 0.392, 0.394, 0.396, 0.398, 0.4, 0.402, 0.404, 0.406, 0.408, 0.41, 0.412, 0.414, 0.416, 0.418, 0.42, 0.422, 0.424, 0.426, 0.428, 0.43, 0.432, 0.434, 0.436, 0.438, 0.44, 0.442, 0.444, 0.446, 0.448, 0.45, 0.452, 0.454, 0.456, 0.458, 0.46, 0.462, 0.464, 0.466, 0.468, 0.47, 0.472, 0.474, 0.476, 0.478, 0.48, 0.482, 0.484, 0.486, 0.488, 0.49, 0.492, 0.494, 0.496, 0.498, 0.5, 0.502, 0.504, 0.506, 0.508, 0.51, 0.512, 0.514, 0.516, 0.518, 0.52, 0.522, 0.524, 0.526, 0.528, 0.53, 0.532, 0.534, 0.536, 0.538, 0.54, 0.542, 0.544, 0.546, 0.548, 0.55, 0.552, 0.554, 0.556, 0.558, 0.56, 0.562, 0.564, 0.566, 0.568, 0.57, 0.572, 0.574, 0.576, 0.578, 0.58, 0.582, 0.584, 0.586, 0.588, 0.59, 0.592, 0.594, 0.596, 0.598, 0.6, 0.602, 0.604, 0.606, 0.608, 0.61, 0.612, 0.614, 0.616, 0.618, 0.62, 0.622, 0.624, 0.626, 0.628, 0.63, 0.632, 0.634, 0.636, 0.638, 0.64, 0.642, 0.644, 0.646, 0.648, 0.65, 0.652, 0.654, 0.656, 0.658, 0.66, 0.662, 0.664, 0.666, 0.668, 0.67, 0.672, 0.674, 0.676, 0.678, 0.68, 0.682, 0.684, 0.686, 0.688, 0.69, 0.692, 0.694, 0.696, 0.698, 0.7, 0.702, 0.704, 0.706, 0.708, 0.71, 0.712, 0.714, 0.716, 0.718, 0.72, 0.722, 0.724, 0.726, 0.728, 0.73, 0.732, 0.734, 0.736, 0.738, 0.74, 0.742, 0.744, 0.746, 0.748, 0.75, 0.752, 0.754, 0.756, 0.758, 0.76, 0.762, 0.764, 0.766, 0.768, 0.77, 0.772, 0.774, 0.776, 0.778, 0.78, 0.782, 0.784, 0.786, 0.788, 0.79, 0.792, 0.794, 0.796, 0.798, 0.8, 0.802, 0.804, 0.806, 0.808, 0.81, 0.812, 0.814, 0.816, 0.818, 0.82, 0.822, 0.824, 0.826, 0.828, 0.83, 0.832, 0.834, 0.836, 0.838, 0.84, 0.842, 0.844, 0.846, 0.848, 0.85, 0.852, 0.854, 0.856, 0.858, 0.86, 0.862, 0.864, 0.866, 0.868, 0.87, 0.872, 0.874, 0.876, 0.878, 0.88, 0.882, 0.884, 0.886, 0.888, 0.89, 0.892, 0.894, 0.896, 0.898, 0.9, 0.902, 0.904, 0.906, 0.908, 0.91, 0.912, 0.914, 0.916, 0.918, 0.92, 0.922, 0.924, 0.926, 0.928, 0.93, 0.932, 0.934, 0.936, 0.938, 0.94, 0.942, 0.944, 0.946, 0.948, 0.95, 0.952, 0.954, 0.956, 0.958, 0.96, 0.962, 0.964, 0.966, 0.968, 0.97, 0.972, 0.974, 0.976, 0.978, 0.98, 0.982, 0.984, 0.986, 0.988, 0.99, 0.992, 0.994, 0.996, 0.998], \"type\": \"scatter\"}, {\"showlegend\": false, \"legendgroup\": \"medium\", \"name\": \"medium\", \"yaxis\": \"y1\", \"y\": [0.1520840461754053, 0.1531863439760608, 0.1542723419102493, 0.15534183853606423, 0.15639464646756907, 0.1574305924555392, 0.15844951744867472, 0.15945127663527772, 0.16043573946542802, 0.16140278965371713, 0.16235232516263953, 0.16328425816677272, 0.16419851499790483, 0.16509503607130785, 0.1659737757933782, 0.1668347024509014, 0.16767779808222372, 0.1685030583306444, 0.16931049228036815, 0.17010012227538335, 0.17087198372165777, 0.171626124873069, 0.17236260660150574, 0.17308150215160284, 0.1737828968805907, 0.17446688798375945, 0.17513358420605787, 0.17578310554036253, 0.1764155829129683, 0.1770311578568684, 0.17762998217339993, 0.17821221758284853, 0.1787780353646125, 0.17932761598753735, 0.1798611487310377, 0.18037883129763557, 0.1808808694175399, 0.1813674764459078, 0.18183887295342152, 0.1822952863108213, 0.182736950268034, 0.1831641045285397, 0.18357699431960847, 0.1839758699590477, 0.18436098641908988, 0.18473260288804658, 0.18509098233035035, 0.18543639104560145, 0.18576909822722265, 0.18608937552132593, 0.18639749658637803, 0.1866937366542468, 0.18697837209320087, 0.18725167997341857, 0.18751393763555735, 0.18776542226291848, 0.18800641045773284, 0.1882371778220764, 0.18845799854391473, 0.18866914498876128, 0.1888708872974199, 0.18906349299026654, 0.18924722657851573, 0.18942234918289622, 0.18958911816015214, 0.1897477867377666, 0.18989860365729375, 0.1900418128266672, 0.19017765298184103, 0.19030635735810308, 0.19042815337138835, 0.1905432623098999, 0.1906518990363403, 0.1907542717010317, 0.19085058146619702, 0.19094102224165624, 0.19102578043217938, 0.19110503469672618, 0.19117895571978627, 0.19124770599502136, 0.19131143962140165, 0.1913703021120098, 0.19142443021568048, 0.19147395175162293, 0.19151898545717336, 0.19155964084879876, 0.19159601809647459, 0.19162820791153773, 0.19165629144811197, 0.19168034021818608, 0.19170041602041912, 0.19171657088273225, 0.19172884701873716, 0.19173727679804176, 0.19174188273046103, 0.19174267746415008, 0.19173966379766855, 0.19173283470597158, 0.19172217338031233, 0.1917076532820334, 0.1916892382102094, 0.1916668823830927, 0.1916405305333072, 0.19161011801671757, 0.19157557093489513, 0.19153680627108727, 0.1914937320395846, 0.19144624744837282, 0.19139424307493622, 0.19133760105507563, 0.19127619528458442, 0.1912098916336164, 0.19113854817356526, 0.19106201541626147, 0.19098013656528007, 0.19089274777913576, 0.1907996784461316, 0.19070075147060803, 0.19059578357032872, 0.1904845855847217, 0.19036696279367984, 0.1902427152466086, 0.19011163810139514, 0.18997352197295367, 0.18982815329098948, 0.1896753146666041, 0.1895147852673525, 0.18934634120034122, 0.18916975590294438, 0.18898480054069688, 0.1887912444119072, 0.18858885535851505, 0.18837740018270574, 0.18815664506877644, 0.1879263560097305, 0.1876862992380634, 0.1874362416601937, 0.1871759512939633, 0.18690519770863492, 0.18662375246678653, 0.18633138956749815, 0.18602788589020766, 0.18571302163860465, 0.18538658078391906, 0.1850483515069477, 0.18469812663815696, 0.1843357040951867, 0.18396088731707577, 0.18357348569452023, 0.18317331499547132, 0.18276019778537397, 0.18233396384134354, 0.18189445055957695, 0.1814415033552919, 0.18097497605448729, 0.1804947312768226, 0.18000064080891304, 0.1794925859673427, 0.1789704579507053, 0.1784341581799865, 0.17788359862661204, 0.17731870212749518, 0.17673940268642876, 0.17614564576118164, 0.17553738853567, 0.17491460017659613, 0.17427726207395958, 0.173625368064869, 0.17295892464009976, 0.17227795113287078, 0.17158247988933145, 0.17087255642027865, 0.17014823953365285, 0.16940960144738282, 0.16865672788218858, 0.16788971813397482, 0.16710868512548382, 0.16631375543690957, 0.16550506931520947, 0.16468278066188488, 0.1638470569990429, 0.16299807941358405, 0.16213604247940444, 0.16126115415753697, 0.16037363567420207, 0.15947372137677204, 0.15856165856770385, 0.1576377073165284, 0.1567021402500367, 0.15575524232083737, 0.1547973105545101, 0.15382865377561988, 0.15284959231289919, 0.15186045768395315, 0.15086159225987988, 0.14985334891024635, 0.14883609062889822, 0.1478101901411264, 0.14677602949275456, 0.14573399962174877, 0.14468449991299442, 0.14362793773692029, 0.14256472797269115, 0.14149529251672047, 0.14042005977729657, 0.13933946415614396, 0.13825394551777692, 0.13716394864753037, 0.13606992269918247, 0.1349723206331143, 0.13387159864596843, 0.13276821559280222, 0.13166263240274334, 0.13055531148918095, 0.12944671615553963, 0.12833730999769818, 0.1272275563041296, 0.1261179174548479, 0.1250088543202547, 0.12390082566098486, 0.12279428752985438, 0.1216896926770136, 0.12058748995940576, 0.1194881237556296, 0.11839203338729687, 0.11729965254796533, 0.11621140874071667, 0.11512772272543814, 0.11404900797684447, 0.11297567015426224, 0.1119081065841767, 0.11084670575651627, 0.10979184683562634, 0.10874389918685326, 0.1077032219196328, 0.1066701634479419, 0.10564506106894041, 0.10462824056059246, 0.10362001579901908, 0.102620688396295, 0.10163054735935961, 0.10064986877067009, 0.09967891549117894, 0.09871793688617578, 0.09776716857448033, 0.096826832201431, 0.09589713523606078, 0.0949782707928031, 0.09407041747801907, 0.09317373926158605, 0.09228838537373543, 0.09141449022727426, 0.09055217336527283, 0.08970153943424844, 0.08886267818282005, 0.08803566448575786, 0.08722055839329808, 0.08641740520554025, 0.08562623557169517, 0.08484706561389585, 0.08407989707523818, 0.08332471749166491, 0.08258150038725923, 0.08185020549246665, 0.08113077898471781, 0.08042315375087815, 0.07972724967090941, 0.0790429739220833, 0.07837022130304915, 0.07770887457701711, 0.0770588048332826, 0.0764198718662824, 0.07579192457133925, 0.07517480135622143, 0.07456833056761446, 0.07397233093157571, 0.07338661200701767, 0.07281097465124392, 0.07224521149654177, 0.07168910743681774, 0.07114244012324719, 0.07060498046789704, 0.07007649315426884, 0.06955673715370352, 0.06904546624658225, 0.06854242954725547, 0.06804737203163168, 0.0675600350663593, 0.06708015693853951, 0.06660747338491449, 0.06614171811948437, 0.0656826233585184, 0.0652299203419384, 0.0647833398500693, 0.0643426127147691, 0.06390747032397144, 0.06347764511869508, 0.06305287108160011, 0.06263288421619535, 0.06221742301583096, 0.06180622892163829, 0.06139904676861162, 0.06099562521905842, 0.060595717182679726, 0.06019908022257761, 0.05980547694652373, 0.05941467538286156, 0.05902644934045317, 0.058640578752123154, 0.05825685000109164, 0.057875056229931734, 0.05749499763162815, 0.057116481722357164, 0.05673932359565186, 0.05636334615765927, 0.05598838034324169, 0.05561426531271637, 0.05524084862907417, 0.054867986415559185, 0.0544955434935377, 0.054123393500625616, 0.05375141898908841, 0.05337951150456913, 0.053007571645241745, 0.05263550910152861, 0.05226324267656063, 0.051890700287598505, 0.05151781894867105, 0.051144544734724934, 0.05077083272761532, 0.05039664694430214, 0.05002196024765097, 0.04964675424026852, 0.04927101914183475, 0.04889475365042254, 0.04851796478832331, 0.04814066773292433, 0.047762885633206756, 0.047384649412457576, 0.047005997557809716, 0.046626975897243246, 0.04624763736470024, 0.04586804175398011, 0.04548825546209807, 0.045108351222800755, 0.044728407830944755, 0.044348509858452415, 0.04396874736256591, 0.04358921558712725, 0.043210014657614496, 0.04283124927066681, 0.04245302837883131, 0.04207546487126294, 0.041698675251105745, 0.04132277931027891, 0.04094789980238495, 0.04057416211444901, 0.04020169393818968, 0.039830624941510025, 0.03946108644088592, 0.03909321107531509, 0.03872713248247524, 0.03836298497772374, 0.03800090323655405, 0.03764102198110579, 0.037283475671305764, 0.036928398201197185, 0.03657592260099304, 0.036226180745366994, 0.035879303068473346, 0.035535418286162704, 0.03519465312583731, 0.03485713206436405, 0.03452297707443849, 0.03419230737976806, 0.03386523921941568, 0.03354188562161965, 0.03322235618737938, 0.03290675688406872, 0.032595189849314386, 0.032287753205347776, 0.03198454088401417, 0.0316856424625958, 0.031391143010579464, 0.031101122947473487, 0.030815657911753377, 0.030534818640990065, 0.030258670863190406, 0.029987275199354707, 0.029720687077232934, 0.029458956656237684, 0.029202128763449815, 0.02895024284063057, 0.028703332902132877, 0.028461427503584373, 0.028224549721194706, 0.027992717141521156, 0.027765941861508346, 0.027544230498601052, 0.02732758421071227, 0.02711599872581407, 0.026909464380903622, 0.026707966170083704, 0.02651148380148415, 0.026319991762739088, 0.02613345939472431, 0.025951850973248845, 0.025775125798386603, 0.025603238291125485, 0.025436138097004724, 0.025273770196405424, 0.025116075021153164, 0.024962988577088913, 0.02481444257225926, 0.024670364550376526, 0.024530678029195774, 0.02439530264345664, 0.02426415429203651, 0.024137145288963754, 0.024014184517939692, 0.023895177590022035, 0.02378002700412392, 0.023668632309987628, 0.02356089027329509, 0.023456695042583797, 0.023355938317640254, 0.023258509519051257, 0.02316429595859781, 0.023073183010185284, 0.022985054281009314, 0.022899791782666237, 0.022817276101923738, 0.02273738657087734, 0.022660001436225853, 0.022584998027409438, 0.022512252923361998, 0.022441642117640614, 0.022373041181703142, 0.022306325426116175, 0.022241370059484802, 0.022178050344906317, 0.022116241753759702, 0.022055820116653323, 0.021996661771363245, 0.021938643707604833, 0.02188164370849047, 0.021825540488536153, 0.021770213828089822, 0.02171554470406415, 0.0216614154168658, 0.021607709713423524, 0.021554312906225895, 0.021501111988289325, 0.021447995743985707, 0.021394854855667875, 0.021341582006039386, 0.021288071976223778, 0.02123422173949611, 0.021179930550647666, 0.021125100030961803, 0.021069634248786877, 0.0210134397956981, 0.020956425858247963, 0.02089850428531027, 0.020839589651029812, 0.020779599313394622, 0.020718453468454363, 0.0206560752002124, 0.020592390526225506, 0.0205273284389484, 0.020460820942866165, 0.020392803087460568, 0.020323212996060963, 0.020251991890633977, 0.020179084112569304, 0.02010443713952257, 0.020028001598378673, 0.01994973127440232, 0.01986958311664435, 0.01978751723967532, 0.019703496921719552, 0.01961748859926493, 0.019529461858225544, 0.019439389421735655, 0.0193472471346551, 0.019253013944867396, 0.019156671881453025, 0.019058206029821313, 0.018957604503885124, 0.018854858415363742, 0.01874996184029943, 0.018642911782874097, 0.018533708136612936, 0.018422353643062262, 0.018308853848028883, 0.01819321705546912, 0.018075454279115208, 0.01795557919192738, 0.017833608073459753, 0.017709559755228362], \"mode\": \"lines\", \"xaxis\": \"x1\", \"marker\": {\"color\": \"rgb(255, 127, 14)\"}, \"x\": [2.0, 2.016, 2.032, 2.048, 2.064, 2.08, 2.096, 2.112, 2.128, 2.144, 2.16, 2.176, 2.192, 2.208, 2.224, 2.24, 2.2560000000000002, 2.2720000000000002, 2.288, 2.304, 2.32, 2.336, 2.352, 2.368, 2.384, 2.4, 2.416, 2.432, 2.448, 2.464, 2.48, 2.496, 2.512, 2.528, 2.544, 2.56, 2.576, 2.592, 2.608, 2.624, 2.64, 2.656, 2.672, 2.6879999999999997, 2.7039999999999997, 2.7199999999999998, 2.7359999999999998, 2.752, 2.768, 2.784, 2.8, 2.816, 2.832, 2.848, 2.864, 2.88, 2.896, 2.912, 2.928, 2.944, 2.96, 2.976, 2.992, 3.008, 3.024, 3.04, 3.056, 3.072, 3.088, 3.104, 3.12, 3.136, 3.152, 3.168, 3.184, 3.2, 3.216, 3.232, 3.248, 3.2640000000000002, 3.2800000000000002, 3.2960000000000003, 3.3120000000000003, 3.3280000000000003, 3.3440000000000003, 3.3600000000000003, 3.376, 3.392, 3.408, 3.424, 3.44, 3.456, 3.472, 3.488, 3.504, 3.52, 3.536, 3.552, 3.568, 3.584, 3.6, 3.616, 3.6319999999999997, 3.6479999999999997, 3.6639999999999997, 3.6799999999999997, 3.6959999999999997, 3.7119999999999997, 3.7279999999999998, 3.7439999999999998, 3.76, 3.776, 3.792, 3.808, 3.824, 3.84, 3.856, 3.872, 3.888, 3.904, 3.92, 3.936, 3.952, 3.968, 3.984, 4.0, 4.016, 4.032, 4.048, 4.064, 4.08, 4.096, 4.112, 4.128, 4.144, 4.16, 4.176, 4.192, 4.208, 4.224, 4.24, 4.256, 4.272, 4.288, 4.304, 4.32, 4.336, 4.352, 4.368, 4.384, 4.4, 4.416, 4.432, 4.448, 4.464, 4.48, 4.496, 4.5120000000000005, 4.5280000000000005, 4.5440000000000005, 4.5600000000000005, 4.5760000000000005, 4.5920000000000005, 4.6080000000000005, 4.6240000000000006, 4.640000000000001, 4.656000000000001, 4.672000000000001, 4.688000000000001, 4.704000000000001, 4.720000000000001, 4.736000000000001, 4.752, 4.768, 4.784, 4.8, 4.816, 4.832, 4.848, 4.864, 4.88, 4.896, 4.912, 4.928, 4.944, 4.96, 4.976, 4.992, 5.008, 5.024, 5.04, 5.056, 5.072, 5.088, 5.104, 5.12, 5.136, 5.152, 5.168, 5.184, 5.2, 5.216, 5.232, 5.248, 5.263999999999999, 5.279999999999999, 5.295999999999999, 5.311999999999999, 5.327999999999999, 5.343999999999999, 5.359999999999999, 5.3759999999999994, 5.3919999999999995, 5.4079999999999995, 5.4239999999999995, 5.4399999999999995, 5.4559999999999995, 5.4719999999999995, 5.4879999999999995, 5.504, 5.52, 5.536, 5.552, 5.568, 5.584, 5.6, 5.616, 5.632, 5.648, 5.664, 5.68, 5.696, 5.712, 5.728, 5.744, 5.76, 5.776, 5.792, 5.808, 5.824, 5.84, 5.856, 5.872, 5.888, 5.904, 5.92, 5.936, 5.952, 5.968, 5.984, 6.0, 6.016, 6.032, 6.048, 6.064, 6.08, 6.096, 6.112, 6.128, 6.144, 6.16, 6.176, 6.192, 6.208, 6.224, 6.24, 6.256, 6.272, 6.288, 6.304, 6.32, 6.336, 6.352, 6.368, 6.384, 6.4, 6.416, 6.432, 6.448, 6.464, 6.48, 6.496, 6.512, 6.528, 6.544, 6.56, 6.576, 6.592, 6.608, 6.624, 6.64, 6.656, 6.672, 6.688, 6.704, 6.72, 6.736, 6.752, 6.768, 6.784, 6.8, 6.816, 6.832, 6.848, 6.864, 6.88, 6.896, 6.912, 6.928, 6.944, 6.96, 6.976, 6.992, 7.008, 7.024, 7.04, 7.056, 7.072, 7.088, 7.104, 7.12, 7.136, 7.152, 7.168, 7.184, 7.2, 7.216, 7.232, 7.248, 7.264, 7.28, 7.296, 7.312, 7.328, 7.344, 7.36, 7.376, 7.392, 7.408, 7.424, 7.44, 7.456, 7.472, 7.488, 7.504, 7.52, 7.536, 7.552, 7.568, 7.584, 7.6, 7.616, 7.632, 7.648, 7.664, 7.68, 7.696, 7.712, 7.728, 7.744, 7.76, 7.776, 7.792, 7.808, 7.824, 7.84, 7.856, 7.872, 7.888, 7.904, 7.92, 7.936, 7.952, 7.968, 7.984, 8.0, 8.016, 8.032, 8.048, 8.064, 8.08, 8.096, 8.112, 8.128, 8.144, 8.16, 8.176, 8.192, 8.208, 8.224, 8.24, 8.256, 8.272, 8.288, 8.304, 8.32, 8.336, 8.352, 8.368, 8.384, 8.4, 8.416, 8.432, 8.448, 8.464, 8.48, 8.496, 8.512, 8.527999999999999, 8.544, 8.559999999999999, 8.576, 8.591999999999999, 8.608, 8.623999999999999, 8.64, 8.655999999999999, 8.672, 8.687999999999999, 8.704, 8.719999999999999, 8.736, 8.751999999999999, 8.768, 8.783999999999999, 8.8, 8.815999999999999, 8.832, 8.847999999999999, 8.864, 8.879999999999999, 8.896, 8.911999999999999, 8.928, 8.943999999999999, 8.96, 8.975999999999999, 8.992, 9.008, 9.024000000000001, 9.04, 9.056000000000001, 9.072, 9.088000000000001, 9.104, 9.120000000000001, 9.136, 9.152000000000001, 9.168, 9.184000000000001, 9.2, 9.216000000000001, 9.232, 9.248000000000001, 9.264, 9.280000000000001, 9.296, 9.312000000000001, 9.328, 9.344000000000001, 9.36, 9.376000000000001, 9.392, 9.408000000000001, 9.424, 9.440000000000001, 9.456, 9.472000000000001, 9.488, 9.504, 9.52, 9.536, 9.552, 9.568, 9.584, 9.6, 9.616, 9.632, 9.648, 9.664, 9.68, 9.696, 9.712, 9.728, 9.744, 9.76, 9.776, 9.792, 9.808, 9.824, 9.84, 9.856, 9.872, 9.888, 9.904, 9.92, 9.936, 9.952, 9.968, 9.984], \"type\": \"scatter\"}, {\"showlegend\": false, \"legendgroup\": \"rich\", \"name\": \"rich\", \"yaxis\": \"y1\", \"y\": [0.0342206200648583, 0.03425863221523118, 0.03429648404011139, 0.03433417540078175, 0.0343717061627934, 0.03440907619594616, 0.03444628537426866, 0.034483333575998074, 0.03452022068355959, 0.03455694658354554, 0.03459351116669422, 0.034629914327868425, 0.03466615596603362, 0.03470223598423586, 0.03473815428957943, 0.034773910793204056, 0.034809505410262, 0.03484493805989472, 0.034880208665209286, 0.034915317153254494, 0.03495026345499673, 0.03498504750529551, 0.035019669242878734, 0.03505412861031768, 0.03508842555400172, 0.035122560024112744, 0.03515653197459933, 0.035190341363150655, 0.03522398815117008, 0.03525747230374854, 0.03529079378963764, 0.03532395258122252, 0.035356948654494395, 0.03538978198902295, 0.03542245256792836, 0.0354549603778532, 0.035487305408934, 0.03551948765477261, 0.035551507112407295, 0.03558336378228369, 0.03561505766822537, 0.035646588777404335, 0.035677957120311174, 0.035709162710725065, 0.035740205565683525, 0.035771085705451955, 0.035801803153492996, 0.03583235793643559, 0.035862750084044, 0.0358929796291864, 0.03592304660780353, 0.03595295105887687, 0.0359826930243969, 0.036012272549330974, 0.03604168968159108, 0.036070944472001425, 0.03610003697426582, 0.03612896724493493, 0.03615773534337326, 0.03618634133172611, 0.036214785274886245, 0.036243067240460454, 0.03627118729873597, 0.03629914552264669, 0.03632694198773929, 0.03635457677213916, 0.03638204995651622, 0.036409361624050576, 0.03643651186039807, 0.03646350075365567, 0.0364903283943267, 0.03651699487528609, 0.03654350029174528, 0.036569844741217244, 0.03659602832348122, 0.03662205114054737, 0.03664791329662148, 0.03667361489806933, 0.0366991560533811, 0.036724536873135726, 0.03674975746996501, 0.03677481795851781, 0.03679971845542401, 0.03682445907925851, 0.03684903995050512, 0.036873461191520296, 0.03689772292649698, 0.03692182528142819, 0.036945768384070724, 0.03696955236390862, 0.036993177352116796, 0.0370166434815244, 0.03703995088657829, 0.03706309970330644, 0.03708609006928125, 0.037108922123582855, 0.037131596006762455, 0.037154111860805576, 0.03717646982909528, 0.03719867005637544, 0.03722071268871394, 0.0372425978734659, 0.03726432575923687, 0.03728589649584606, 0.037307310234289535, 0.03732856712670348, 0.037349667326327385, 0.037370610987467315, 0.03739139826545922, 0.03741202931663218, 0.037432504298271774, 0.0374528233685834, 0.03747298668665572, 0.03749299441242404, 0.03751284670663385, 0.037532543730804314, 0.037552085647191834, 0.03757147261875376, 0.037590704809112016, 0.03760978238251688, 0.03762870550381085, 0.03764747433839252, 0.03766608905218055, 0.03768454981157772, 0.03770285678343511, 0.03772101013501631, 0.03773901003396173, 0.03775685664825302, 0.03777455014617761, 0.03779209069629333, 0.037809478467393076, 0.03782671362846976, 0.037843796348681145, 0.03786072679731501, 0.037877505143754285, 0.037894131557442416, 0.037910606207848786, 0.037926929264434306, 0.03794310089661717, 0.037959121273738655, 0.03797499056502919, 0.03799070893957449, 0.03800627656628188, 0.03802169361384673, 0.038036960250719135, 0.03805207664507064, 0.038067042964761266, 0.038081859377306605, 0.038096526049845106, 0.03811104314910559, 0.03812541084137489, 0.03813962929246573, 0.03815369866768473, 0.03816761913180062, 0.03818139084901273, 0.038195013982919544, 0.03820848869648759, 0.03822181515202039, 0.0382349935111278, 0.03824802393469538, 0.03826090658285411, 0.038273641614950275, 0.03828622918951556, 0.03829866946423741, 0.038310962595929594, 0.03832310874050297, 0.038335108052936585, 0.03834696068724889, 0.0383586667964693, 0.03837022653260994, 0.038381640046637626, 0.03839290748844619, 0.03840402900682895, 0.03841500474945149, 0.0384258348628247, 0.03843651949227807, 0.03844705878193326, 0.03845745287467795, 0.0384677019121399, 0.03847780603466136, 0.03848776538127373, 0.038497580089672495, 0.038507250296192425, 0.038516776135783144, 0.03852615774198484, 0.03853539524690443, 0.03854448878119189, 0.03855343847401699, 0.038562244453046186, 0.03857090684441999, 0.03857942577273051, 0.03858780136099935, 0.0385960337306558, 0.03860412300151536, 0.03861206929175857, 0.03861987271791012, 0.03862753339481837, 0.03863505143563509, 0.03864242695179553, 0.038649660052998955, 0.03865675084718931, 0.03866369944053633, 0.03867050593741699, 0.03867717044039722, 0.038683693050214005, 0.038690073865757825, 0.0386963129840554, 0.03870241050025282, 0.038708366507598985, 0.03871418109742938, 0.03871985435915025, 0.03872538638022308, 0.038730777246149456, 0.03873602704045622, 0.03874113584468102, 0.03874610373835828, 0.038750930799005386, 0.03875561710210934, 0.03876016272111373, 0.0387645677274061, 0.03876883219030558, 0.03877295617705104, 0.03877693975278948, 0.03878078298056481, 0.038784485921307094, 0.03878804863382198, 0.0387914711747807, 0.0387947535987103, 0.038797895957984316, 0.038800898302813774, 0.038803760681238614, 0.03880648313911946, 0.03880906572012976, 0.038811508465748316, 0.03881381141525222, 0.03881597460571009, 0.03881799807197579, 0.038819881846682454, 0.03882162596023687, 0.03882323044081437, 0.03882469531435397, 0.038826020604553944, 0.0388272063328678, 0.0388282525185006, 0.038829159178405716, 0.038829926327281904, 0.03883055397757082, 0.038831042139454895, 0.03883139082085561, 0.0388316000274321, 0.03883166976258026, 0.0388316000274321, 0.03883139082085561, 0.038831042139454895, 0.03883055397757082, 0.038829926327281904, 0.038829159178405716, 0.0388282525185006, 0.0388272063328678, 0.038826020604553944, 0.03882469531435397, 0.03882323044081437, 0.03882162596023687, 0.038819881846682454, 0.03881799807197579, 0.03881597460571009, 0.03881381141525222, 0.038811508465748316, 0.03880906572012976, 0.03880648313911946, 0.038803760681238614, 0.038800898302813774, 0.038797895957984316, 0.0387947535987103, 0.0387914711747807, 0.03878804863382198, 0.038784485921307094, 0.03878078298056481, 0.03877693975278948, 0.03877295617705104, 0.03876883219030558, 0.0387645677274061, 0.03876016272111373, 0.03875561710210934, 0.038750930799005386, 0.03874610373835828, 0.03874113584468102, 0.03873602704045622, 0.038730777246149456, 0.03872538638022308, 0.03871985435915025, 0.03871418109742938, 0.038708366507598985, 0.03870241050025282, 0.0386963129840554, 0.038690073865757825, 0.038683693050214005, 0.03867717044039722, 0.03867050593741699, 0.03866369944053633, 0.03865675084718931, 0.038649660052998955, 0.03864242695179553, 0.03863505143563509, 0.03862753339481837, 0.03861987271791012, 0.03861206929175857, 0.03860412300151537, 0.0385960337306558, 0.03858780136099935, 0.03857942577273051, 0.03857090684441999, 0.038562244453046186, 0.03855343847401699, 0.03854448878119189, 0.03853539524690443, 0.03852615774198484, 0.038516776135783144, 0.038507250296192425, 0.038497580089672495, 0.03848776538127373, 0.03847780603466136, 0.0384677019121399, 0.03845745287467795, 0.03844705878193326, 0.03843651949227807, 0.0384258348628247, 0.03841500474945149, 0.03840402900682895, 0.03839290748844619, 0.038381640046637626, 0.03837022653260994, 0.0383586667964693, 0.03834696068724889, 0.038335108052936585, 0.03832310874050297, 0.038310962595929594, 0.03829866946423741, 0.03828622918951556, 0.038273641614950275, 0.03826090658285411, 0.03824802393469538, 0.0382349935111278, 0.03822181515202039, 0.03820848869648759, 0.038195013982919544, 0.03818139084901273, 0.03816761913180062, 0.03815369866768473, 0.03813962929246574, 0.03812541084137489, 0.03811104314910559, 0.038096526049845106, 0.038081859377306605, 0.038067042964761266, 0.03805207664507064, 0.038036960250719135, 0.03802169361384673, 0.03800627656628188, 0.03799070893957449, 0.03797499056502919, 0.037959121273738655, 0.03794310089661717, 0.037926929264434306, 0.037910606207848786, 0.037894131557442416, 0.037877505143754285, 0.03786072679731501, 0.037843796348681145, 0.03782671362846976, 0.037809478467393076, 0.03779209069629333, 0.03777455014617761, 0.03775685664825302, 0.03773901003396173, 0.03772101013501631, 0.03770285678343511, 0.03768454981157772, 0.03766608905218055, 0.03764747433839252, 0.03762870550381086, 0.03760978238251688, 0.037590704809112016, 0.03757147261875376, 0.037552085647191834, 0.03753254373080431, 0.03751284670663385, 0.03749299441242404, 0.03747298668665572, 0.0374528233685834, 0.037432504298271774, 0.03741202931663218, 0.037391398265459216, 0.03737061098746731, 0.037349667326327385, 0.03732856712670348, 0.037307310234289535, 0.03728589649584606, 0.03726432575923687, 0.0372425978734659, 0.03722071268871394, 0.037198670056375435, 0.03717646982909528, 0.037154111860805576, 0.037131596006762455, 0.037108922123582855, 0.03708609006928125, 0.03706309970330644, 0.037039950886578285, 0.03701664348152439, 0.036993177352116796, 0.03696955236390862, 0.036945768384070724, 0.03692182528142819, 0.03689772292649698, 0.036873461191520296, 0.03684903995050511, 0.03682445907925851, 0.03679971845542401, 0.036774817958517815, 0.03674975746996501, 0.036724536873135726, 0.0366991560533811, 0.03667361489806933, 0.03664791329662148, 0.03662205114054737, 0.03659602832348122, 0.03656984474121725, 0.03654350029174529, 0.03651699487528609, 0.0364903283943267, 0.03646350075365566, 0.03643651186039807, 0.036409361624050576, 0.03638204995651622, 0.036354576772139165, 0.03632694198773929, 0.03629914552264669, 0.03627118729873597, 0.03624306724046045, 0.036214785274886245, 0.03618634133172611, 0.03615773534337326, 0.03612896724493493, 0.03610003697426582, 0.036070944472001425, 0.03604168968159108, 0.03601227254933097, 0.03598269302439689, 0.03595295105887687, 0.03592304660780353, 0.03589297962918641, 0.035862750084044, 0.03583235793643559, 0.035801803153492996, 0.035771085705451955, 0.03574020556568352, 0.035709162710725065, 0.035677957120311174, 0.035646588777404335, 0.03561505766822537, 0.03558336378228369, 0.03555150711240729, 0.03551948765477259, 0.035487305408934, 0.0354549603778532, 0.035422452567928364, 0.03538978198902295, 0.035356948654494395, 0.03532395258122252, 0.03529079378963764, 0.03525747230374853, 0.03522398815117008, 0.035190341363150655, 0.03515653197459934, 0.035122560024112744, 0.03508842555400172, 0.03505412861031768, 0.035019669242878734, 0.03498504750529551, 0.03495026345499673, 0.034915317153254494, 0.034880208665209286, 0.03484493805989473, 0.034809505410262, 0.034773910793204056, 0.03473815428957942, 0.03470223598423586, 0.03466615596603362, 0.034629914327868425, 0.03459351116669423, 0.03455694658354554, 0.03452022068355959, 0.034483333575998074, 0.03444628537426865, 0.03440907619594616, 0.0343717061627934, 0.03433417540078175, 0.03429648404011139, 0.03425863221523118], \"mode\": \"lines\", \"xaxis\": \"x1\", \"marker\": {\"color\": \"rgb(44, 160, 44)\"}, \"x\": [11.0, 11.024, 11.048, 11.072, 11.096, 11.12, 11.144, 11.168, 11.192, 11.216, 11.24, 11.264, 11.288, 11.312, 11.336, 11.36, 11.384, 11.408, 11.432, 11.456, 11.48, 11.504, 11.528, 11.552, 11.576, 11.6, 11.624, 11.648, 11.672, 11.696, 11.72, 11.744, 11.768, 11.792, 11.816, 11.84, 11.864, 11.888, 11.912, 11.936, 11.96, 11.984, 12.008, 12.032, 12.056000000000001, 12.08, 12.104, 12.128, 12.152, 12.176, 12.2, 12.224, 12.248, 12.272, 12.296, 12.32, 12.344, 12.368, 12.392, 12.416, 12.44, 12.464, 12.488, 12.512, 12.536, 12.56, 12.584, 12.608, 12.632, 12.656, 12.68, 12.704, 12.728, 12.752, 12.776, 12.8, 12.824, 12.848, 12.872, 12.896, 12.92, 12.943999999999999, 12.968, 12.992, 13.016, 13.04, 13.064, 13.088000000000001, 13.112, 13.136, 13.16, 13.184000000000001, 13.208, 13.232, 13.256, 13.28, 13.304, 13.328, 13.352, 13.376, 13.4, 13.424, 13.448, 13.472, 13.496, 13.52, 13.544, 13.568, 13.592, 13.616, 13.64, 13.664, 13.688, 13.712, 13.736, 13.76, 13.783999999999999, 13.808, 13.832, 13.856, 13.879999999999999, 13.904, 13.928, 13.952, 13.975999999999999, 14.0, 14.024000000000001, 14.048, 14.072, 14.096, 14.120000000000001, 14.144, 14.168, 14.192, 14.216000000000001, 14.24, 14.264, 14.288, 14.312, 14.336, 14.36, 14.384, 14.408, 14.432, 14.456, 14.48, 14.504, 14.528, 14.552, 14.576, 14.6, 14.624, 14.648, 14.672, 14.696, 14.72, 14.744, 14.768, 14.792, 14.815999999999999, 14.84, 14.864, 14.888, 14.911999999999999, 14.936, 14.96, 14.984, 15.008, 15.032, 15.056000000000001, 15.08, 15.104, 15.128, 15.152000000000001, 15.176, 15.2, 15.224, 15.248000000000001, 15.272, 15.296, 15.32, 15.344000000000001, 15.368, 15.392, 15.416, 15.440000000000001, 15.464, 15.488, 15.512, 15.536, 15.559999999999999, 15.584, 15.608, 15.632, 15.655999999999999, 15.68, 15.704, 15.728, 15.751999999999999, 15.776, 15.8, 15.824, 15.847999999999999, 15.872, 15.896, 15.92, 15.943999999999999, 15.968, 15.992, 16.016, 16.04, 16.064, 16.088, 16.112000000000002, 16.136, 16.16, 16.184, 16.208, 16.232, 16.256, 16.28, 16.304000000000002, 16.328, 16.352, 16.376, 16.4, 16.424, 16.448, 16.472, 16.496000000000002, 16.52, 16.544, 16.567999999999998, 16.592, 16.616, 16.64, 16.664, 16.688, 16.712, 16.736, 16.759999999999998, 16.784, 16.808, 16.832, 16.856, 16.88, 16.904, 16.928, 16.951999999999998, 16.976, 17.0, 17.024, 17.048000000000002, 17.072, 17.096, 17.12, 17.144, 17.168, 17.192, 17.216, 17.240000000000002, 17.264, 17.288, 17.312, 17.336, 17.36, 17.384, 17.408, 17.432000000000002, 17.456, 17.48, 17.503999999999998, 17.528, 17.552, 17.576, 17.6, 17.624, 17.648, 17.672, 17.695999999999998, 17.72, 17.744, 17.768, 17.792, 17.816, 17.84, 17.864, 17.887999999999998, 17.912, 17.936, 17.96, 17.984, 18.008, 18.032, 18.056, 18.08, 18.104, 18.128, 18.152, 18.176000000000002, 18.2, 18.224, 18.248, 18.272, 18.296, 18.32, 18.344, 18.368000000000002, 18.392, 18.416, 18.44, 18.464, 18.488, 18.512, 18.536, 18.56, 18.584, 18.608, 18.631999999999998, 18.656, 18.68, 18.704, 18.728, 18.752, 18.776, 18.8, 18.823999999999998, 18.848, 18.872, 18.896, 18.92, 18.944, 18.968, 18.992, 19.016, 19.04, 19.064, 19.088, 19.112000000000002, 19.136, 19.16, 19.183999999999997, 19.208, 19.232, 19.256, 19.28, 19.304000000000002, 19.328, 19.352, 19.375999999999998, 19.4, 19.424, 19.448, 19.472, 19.496000000000002, 19.52, 19.544, 19.567999999999998, 19.592, 19.616, 19.64, 19.664, 19.688000000000002, 19.712, 19.736, 19.759999999999998, 19.784, 19.808, 19.832, 19.856, 19.880000000000003, 19.904, 19.928, 19.951999999999998, 19.976, 20.0, 20.024, 20.048000000000002, 20.072, 20.096, 20.119999999999997, 20.144, 20.168, 20.192, 20.216, 20.240000000000002, 20.264, 20.288, 20.311999999999998, 20.336, 20.36, 20.384, 20.408, 20.432000000000002, 20.456, 20.48, 20.503999999999998, 20.528, 20.552, 20.576, 20.6, 20.624000000000002, 20.648, 20.672, 20.695999999999998, 20.72, 20.744, 20.768, 20.792, 20.816000000000003, 20.84, 20.864, 20.887999999999998, 20.912, 20.936, 20.96, 20.984, 21.008, 21.032, 21.055999999999997, 21.08, 21.104, 21.128, 21.152, 21.176000000000002, 21.2, 21.224, 21.247999999999998, 21.272, 21.296, 21.32, 21.344, 21.368000000000002, 21.392, 21.416, 21.439999999999998, 21.464, 21.488, 21.512, 21.536, 21.560000000000002, 21.584, 21.608, 21.631999999999998, 21.656, 21.68, 21.704, 21.728, 21.752000000000002, 21.776, 21.8, 21.823999999999998, 21.848, 21.872, 21.896, 21.92, 21.944000000000003, 21.968, 21.992, 22.016, 22.04, 22.064, 22.088, 22.112000000000002, 22.136, 22.16, 22.183999999999997, 22.208, 22.232, 22.256, 22.28, 22.304000000000002, 22.328, 22.352, 22.375999999999998, 22.4, 22.424, 22.448, 22.472, 22.496000000000002, 22.52, 22.544, 22.567999999999998, 22.592, 22.616, 22.64, 22.664, 22.688000000000002, 22.712, 22.736, 22.759999999999998, 22.784, 22.808, 22.832, 22.856, 22.880000000000003, 22.904, 22.928, 22.951999999999998, 22.976], \"type\": \"scatter\"}, {\"showlegend\": false, \"legendgroup\": \"poor\", \"name\": \"poor\", \"yaxis\": \"y2\", \"text\": null, \"y\": [\"poor\", \"poor\", \"poor\", \"poor\", \"poor\", \"poor\", \"poor\", \"poor\", \"poor\", \"poor\", \"poor\", \"poor\", \"poor\", \"poor\", \"poor\", \"poor\", \"poor\", \"poor\", \"poor\", \"poor\", \"poor\", \"poor\"], \"mode\": \"markers\", \"xaxis\": \"x1\", \"marker\": {\"color\": \"rgb(31, 119, 180)\", \"symbol\": \"line-ns-open\"}, \"x\": [0.0, 1.0, 0.0, 1.0, 0.0, 0.0, 0.0, 0.0, 0.0, 0.0, 0.0, 0.0, 0.0, 0.0, 0.0, 0.0, 0.0, 0.0, 0.0, 0.0, 0.0, 0.0], \"type\": \"scatter\"}, {\"showlegend\": false, \"legendgroup\": \"medium\", \"name\": \"medium\", \"yaxis\": \"y2\", \"text\": null, \"y\": [\"medium\", \"medium\", \"medium\", \"medium\", \"medium\", \"medium\", \"medium\", \"medium\", \"medium\", \"medium\", \"medium\", \"medium\", \"medium\", \"medium\", \"medium\", \"medium\", \"medium\", \"medium\", \"medium\", \"medium\", \"medium\", \"medium\", \"medium\", \"medium\", \"medium\", \"medium\", \"medium\", \"medium\", \"medium\", \"medium\", \"medium\", \"medium\", \"medium\", \"medium\", \"medium\", \"medium\", \"medium\", \"medium\"], \"mode\": \"markers\", \"xaxis\": \"x1\", \"marker\": {\"color\": \"rgb(255, 127, 14)\", \"symbol\": \"line-ns-open\"}, \"x\": [4.0, 5.0, 2.0, 3.0, 5.0, 4.0, 4.0, 3.0, 4.0, 5.0, 2.0, 3.0, 2.0, 4.0, 3.0, 5.0, 5.0, 2.0, 5.0, 4.0, 7.0, 4.0, 5.0, 3.0, 2.0, 2.0, 5.0, 7.0, 5.0, 10.0, 7.0, 9.0, 2.0, 7.0, 2.0, 2.0, 3.0, 3.0], \"type\": \"scatter\"}, {\"showlegend\": false, \"legendgroup\": \"rich\", \"name\": \"rich\", \"yaxis\": \"y2\", \"text\": null, \"y\": [\"rich\", \"rich\"], \"mode\": \"markers\", \"xaxis\": \"x1\", \"marker\": {\"color\": \"rgb(44, 160, 44)\", \"symbol\": \"line-ns-open\"}, \"x\": [23.0, 11.0], \"type\": \"scatter\"}], {\"barmode\": \"overlay\", \"xaxis1\": {\"zeroline\": false, \"domain\": [0.0, 1.0], \"anchor\": \"y2\"}, \"yaxis1\": {\"position\": 0.0, \"domain\": [0.35, 1], \"anchor\": \"free\"}, \"yaxis2\": {\"domain\": [0, 0.25], \"showticklabels\": false, \"anchor\": \"x1\", \"dtick\": 1}, \"hovermode\": \"closest\", \"legend\": {\"traceorder\": \"reversed\"}}, {\"linkText\": \"Export to plot.ly\", \"showLink\": true})});</script>"
      ]
     },
     "metadata": {},
     "output_type": "display_data"
    }
   ],
   "source": [
    "quantiles = [.35, .97, 1]\n",
    "q = goats.quantile(quantiles)\n",
    "print \"Quantiles:\"\n",
    "print q\n",
    "goats1 = goats[goats < q[quantiles[0]]].dropna()\n",
    "goats2 = goats[goats.between(q[quantiles[0]], q[quantiles[1]])].dropna()\n",
    "goats3 = goats[goats.between(q[quantiles[1]], q[quantiles[2]])].dropna()\n",
    "fig = ff.create_distplot([goats1.values, goats2.values, goats3.values], ['poor', 'medium', 'rich'])\n",
    "iplot (fig)"
   ]
  },
  {
   "cell_type": "markdown",
   "metadata": {},
   "source": [
    "#### Quantiles for goats\n",
    "- Poors: 35% of households have less than 10 goats and less than 10 sheeps\n",
    "- Medium: 62% of households have between 10 and 35 goats and between 20 and 30 sheeps\n",
    "- Richs: 3% of households have more than 35 goats and/or more than 30 sheeps"
   ]
  },
  {
   "cell_type": "code",
   "execution_count": 39,
   "metadata": {},
   "outputs": [
    {
     "name": "stdout",
     "output_type": "stream",
     "text": [
      "USES TOTAL LIVESTOCK\n",
      "     livestock_selling  livestock_social  livestock_milk  livestock_meat  \\\n",
      "no                  35                38               3               4   \n",
      "yes                 27                24              59              58   \n",
      "\n",
      "     livestock_savings  \n",
      "no                  39  \n",
      "yes                 23  \n",
      "\n",
      "USES TOTAL GOATS\n",
      "     livestock_selling  livestock_social  livestock_milk  livestock_meat  \\\n",
      "no                  23                26               1               3   \n",
      "yes                 22                19              44              42   \n",
      "\n",
      "     livestock_savings  \n",
      "no                  27  \n",
      "yes                 18  \n",
      "\n",
      "USES TOTAL SHEEPS\n",
      "     livestock_selling  livestock_social  livestock_milk  livestock_meat  \\\n",
      "no                  25                28               1               2   \n",
      "yes                 23                20              47              46   \n",
      "\n",
      "     livestock_savings  \n",
      "no                  28  \n",
      "yes                 20  \n"
     ]
    }
   ],
   "source": [
    "livestock_uses = [\"selling\", \"social\", \"milk\", \"meat\", \"savings\"]\n",
    "goats_uses = [\"selling\", \"social\", \"milk\", \"meat\", \"savings\"]\n",
    "sheeps_uses = [\"selling\", \"social\", \"milk\", \"meat\", \"savings\"]\n",
    "livestock_uses_df = livestock_set[map(lambda x: \"livestock_\" + x, livestock_uses)]\n",
    "livestock_uses_df.fillna('no')\n",
    "print \"USES TOTAL LIVESTOCK\"\n",
    "print livestock_uses_df.apply(pd.Series.value_counts)\n",
    "goats_uses = livestock_set.loc[livestock_set['livestock_type'].str.contains(\"goat\")][map(lambda x: \"livestock_\" + x, goats_uses)]\n",
    "print \"\"\n",
    "print \"USES TOTAL GOATS\"\n",
    "print goats_uses.apply(pd.Series.value_counts)\n",
    "sheeps_uses = livestock_set.loc[livestock_set['livestock_type'].str.contains(\"sheep\")][map(lambda x: \"livestock_\" + x, sheeps_uses)]\n",
    "print \"\"\n",
    "print \"USES TOTAL SHEEPS\"\n",
    "print sheeps_uses.apply(pd.Series.value_counts)"
   ]
  },
  {
   "cell_type": "markdown",
   "metadata": {},
   "source": [
    "### Laborers"
   ]
  },
  {
   "cell_type": "code",
   "execution_count": 40,
   "metadata": {
    "scrolled": false
   },
   "outputs": [
    {
     "data": {
      "application/vnd.plotly.v1+json": {
       "data": [
        {
         "domain": {
          "x": [
           0,
           0.32
          ]
         },
         "labels": [
          "agriculture",
          "government",
          "other",
          "transportation"
         ],
         "sort": false,
         "type": "pie",
         "values": [
          4,
          9,
          30,
          1
         ]
        },
        {
         "domain": {
          "x": [
           0.34,
           0.64
          ]
         },
         "labels": [
          "agriculture",
          "government",
          "other",
          "transportation"
         ],
         "sort": false,
         "type": "pie",
         "values": [
          17,
          16,
          128,
          11
         ]
        },
        {
         "domain": {
          "x": [
           0.66,
           0.98
          ]
         },
         "labels": [
          "agriculture",
          "government",
          "other",
          "transportation"
         ],
         "sort": false,
         "type": "pie",
         "values": [
          13,
          7,
          98,
          10
         ]
        }
       ],
       "layout": {
        "annotations": [
         {
          "font": {
           "size": 14
          },
          "showarrow": false,
          "text": "Female Head of Household",
          "x": 0.04,
          "y": 1
         },
         {
          "font": {
           "size": 14
          },
          "showarrow": false,
          "text": "Global",
          "x": 0.5,
          "y": 1
         },
         {
          "font": {
           "size": 14
          },
          "showarrow": false,
          "text": "Male Head of Household",
          "x": 0.94,
          "y": 1
         }
        ],
        "title": "Labor sector"
       }
      },
      "text/html": [
       "<div id=\"8242baa6-9491-49ee-b40d-52c4460d18c8\" style=\"height: 525px; width: 100%;\" class=\"plotly-graph-div\"></div><script type=\"text/javascript\">require([\"plotly\"], function(Plotly) { window.PLOTLYENV=window.PLOTLYENV || {};window.PLOTLYENV.BASE_URL=\"https://plot.ly\";Plotly.newPlot(\"8242baa6-9491-49ee-b40d-52c4460d18c8\", [{\"sort\": false, \"values\": [4, 9, 30, 1], \"domain\": {\"x\": [0, 0.32]}, \"labels\": [\"agriculture\", \"government\", \"other\", \"transportation\"], \"type\": \"pie\"}, {\"sort\": false, \"values\": [17, 16, 128, 11], \"domain\": {\"x\": [0.34, 0.64]}, \"labels\": [\"agriculture\", \"government\", \"other\", \"transportation\"], \"type\": \"pie\"}, {\"sort\": false, \"values\": [13, 7, 98, 10], \"domain\": {\"x\": [0.66, 0.98]}, \"labels\": [\"agriculture\", \"government\", \"other\", \"transportation\"], \"type\": \"pie\"}], {\"annotations\": [{\"y\": 1, \"text\": \"Female Head of Household\", \"font\": {\"size\": 14}, \"showarrow\": false, \"x\": 0.04}, {\"y\": 1, \"text\": \"Global\", \"font\": {\"size\": 14}, \"showarrow\": false, \"x\": 0.5}, {\"y\": 1, \"text\": \"Male Head of Household\", \"font\": {\"size\": 14}, \"showarrow\": false, \"x\": 0.94}], \"title\": \"Labor sector\"}, {\"linkText\": \"Export to plot.ly\", \"showLink\": true})});</script>"
      ],
      "text/vnd.plotly.v1+html": [
       "<div id=\"8242baa6-9491-49ee-b40d-52c4460d18c8\" style=\"height: 525px; width: 100%;\" class=\"plotly-graph-div\"></div><script type=\"text/javascript\">require([\"plotly\"], function(Plotly) { window.PLOTLYENV=window.PLOTLYENV || {};window.PLOTLYENV.BASE_URL=\"https://plot.ly\";Plotly.newPlot(\"8242baa6-9491-49ee-b40d-52c4460d18c8\", [{\"sort\": false, \"values\": [4, 9, 30, 1], \"domain\": {\"x\": [0, 0.32]}, \"labels\": [\"agriculture\", \"government\", \"other\", \"transportation\"], \"type\": \"pie\"}, {\"sort\": false, \"values\": [17, 16, 128, 11], \"domain\": {\"x\": [0.34, 0.64]}, \"labels\": [\"agriculture\", \"government\", \"other\", \"transportation\"], \"type\": \"pie\"}, {\"sort\": false, \"values\": [13, 7, 98, 10], \"domain\": {\"x\": [0.66, 0.98]}, \"labels\": [\"agriculture\", \"government\", \"other\", \"transportation\"], \"type\": \"pie\"}], {\"annotations\": [{\"y\": 1, \"text\": \"Female Head of Household\", \"font\": {\"size\": 14}, \"showarrow\": false, \"x\": 0.04}, {\"y\": 1, \"text\": \"Global\", \"font\": {\"size\": 14}, \"showarrow\": false, \"x\": 0.5}, {\"y\": 1, \"text\": \"Male Head of Household\", \"font\": {\"size\": 14}, \"showarrow\": false, \"x\": 0.94}], \"title\": \"Labor sector\"}, {\"linkText\": \"Export to plot.ly\", \"showLink\": true})});</script>"
      ]
     },
     "metadata": {},
     "output_type": "display_data"
    },
    {
     "name": "stdout",
     "output_type": "stream",
     "text": [
      "180 laborers\n"
     ]
    },
    {
     "data": {
      "application/vnd.plotly.v1+json": {
       "data": [
        {
         "domain": {
          "x": [
           0,
           0.32
          ]
         },
         "labels": [
          "permanent",
          "seasonal",
          "temporary"
         ],
         "sort": false,
         "type": "pie",
         "values": [
          23,
          6,
          21
         ]
        },
        {
         "domain": {
          "x": [
           0.34,
           0.64
          ]
         },
         "labels": [
          "permanent",
          "seasonal",
          "temporary"
         ],
         "sort": false,
         "type": "pie",
         "values": [
          39,
          21,
          108
         ]
        },
        {
         "domain": {
          "x": [
           0.66,
           0.98
          ]
         },
         "labels": [
          "permanent",
          "seasonal",
          "temporary"
         ],
         "sort": false,
         "type": "pie",
         "values": [
          16,
          15,
          87
         ]
        }
       ],
       "layout": {
        "annotations": [
         {
          "font": {
           "size": 14
          },
          "showarrow": false,
          "text": "Female Head of Household",
          "x": 0.04,
          "y": 1
         },
         {
          "font": {
           "size": 14
          },
          "showarrow": false,
          "text": "Global",
          "x": 0.5,
          "y": 1
         },
         {
          "font": {
           "size": 14
          },
          "showarrow": false,
          "text": "Male Head of Household",
          "x": 0.94,
          "y": 1
         }
        ],
        "title": "Temporality of laborers"
       }
      },
      "text/html": [
       "<div id=\"75ae9944-f2e9-4a02-8996-57b3ee43010d\" style=\"height: 525px; width: 100%;\" class=\"plotly-graph-div\"></div><script type=\"text/javascript\">require([\"plotly\"], function(Plotly) { window.PLOTLYENV=window.PLOTLYENV || {};window.PLOTLYENV.BASE_URL=\"https://plot.ly\";Plotly.newPlot(\"75ae9944-f2e9-4a02-8996-57b3ee43010d\", [{\"sort\": false, \"values\": [23, 6, 21], \"domain\": {\"x\": [0, 0.32]}, \"labels\": [\"permanent\", \"seasonal\", \"temporary\"], \"type\": \"pie\"}, {\"sort\": false, \"values\": [39, 21, 108], \"domain\": {\"x\": [0.34, 0.64]}, \"labels\": [\"permanent\", \"seasonal\", \"temporary\"], \"type\": \"pie\"}, {\"sort\": false, \"values\": [16, 15, 87], \"domain\": {\"x\": [0.66, 0.98]}, \"labels\": [\"permanent\", \"seasonal\", \"temporary\"], \"type\": \"pie\"}], {\"annotations\": [{\"y\": 1, \"text\": \"Female Head of Household\", \"font\": {\"size\": 14}, \"showarrow\": false, \"x\": 0.04}, {\"y\": 1, \"text\": \"Global\", \"font\": {\"size\": 14}, \"showarrow\": false, \"x\": 0.5}, {\"y\": 1, \"text\": \"Male Head of Household\", \"font\": {\"size\": 14}, \"showarrow\": false, \"x\": 0.94}], \"title\": \"Temporality of laborers\"}, {\"linkText\": \"Export to plot.ly\", \"showLink\": true})});</script>"
      ],
      "text/vnd.plotly.v1+html": [
       "<div id=\"75ae9944-f2e9-4a02-8996-57b3ee43010d\" style=\"height: 525px; width: 100%;\" class=\"plotly-graph-div\"></div><script type=\"text/javascript\">require([\"plotly\"], function(Plotly) { window.PLOTLYENV=window.PLOTLYENV || {};window.PLOTLYENV.BASE_URL=\"https://plot.ly\";Plotly.newPlot(\"75ae9944-f2e9-4a02-8996-57b3ee43010d\", [{\"sort\": false, \"values\": [23, 6, 21], \"domain\": {\"x\": [0, 0.32]}, \"labels\": [\"permanent\", \"seasonal\", \"temporary\"], \"type\": \"pie\"}, {\"sort\": false, \"values\": [39, 21, 108], \"domain\": {\"x\": [0.34, 0.64]}, \"labels\": [\"permanent\", \"seasonal\", \"temporary\"], \"type\": \"pie\"}, {\"sort\": false, \"values\": [16, 15, 87], \"domain\": {\"x\": [0.66, 0.98]}, \"labels\": [\"permanent\", \"seasonal\", \"temporary\"], \"type\": \"pie\"}], {\"annotations\": [{\"y\": 1, \"text\": \"Female Head of Household\", \"font\": {\"size\": 14}, \"showarrow\": false, \"x\": 0.04}, {\"y\": 1, \"text\": \"Global\", \"font\": {\"size\": 14}, \"showarrow\": false, \"x\": 0.5}, {\"y\": 1, \"text\": \"Male Head of Household\", \"font\": {\"size\": 14}, \"showarrow\": false, \"x\": 0.94}], \"title\": \"Temporality of laborers\"}, {\"linkText\": \"Export to plot.ly\", \"showLink\": true})});</script>"
      ]
     },
     "metadata": {},
     "output_type": "display_data"
    },
    {
     "data": {
      "application/vnd.plotly.v1+json": {
       "data": [
        {
         "domain": {
          "x": [
           0,
           0.32
          ]
         },
         "labels": [
          "formal",
          "informal"
         ],
         "sort": false,
         "type": "pie",
         "values": [
          10,
          41
         ]
        },
        {
         "domain": {
          "x": [
           0.34,
           0.64
          ]
         },
         "labels": [
          "formal",
          "informal"
         ],
         "sort": false,
         "type": "pie",
         "values": [
          19,
          160
         ]
        },
        {
         "domain": {
          "x": [
           0.66,
           0.98
          ]
         },
         "labels": [
          "formal",
          "informal"
         ],
         "sort": false,
         "type": "pie",
         "values": [
          9,
          119
         ]
        }
       ],
       "layout": {
        "annotations": [
         {
          "font": {
           "size": 14
          },
          "showarrow": false,
          "text": "Female Head of Household",
          "x": 0.04,
          "y": 1
         },
         {
          "font": {
           "size": 14
          },
          "showarrow": false,
          "text": "Global",
          "x": 0.5,
          "y": 1
         },
         {
          "font": {
           "size": 14
          },
          "showarrow": false,
          "text": "Male Head of Household",
          "x": 0.94,
          "y": 1
         }
        ],
        "title": "Employment Type"
       }
      },
      "text/html": [
       "<div id=\"87cf26e3-d951-4047-bc46-131f4b3612f4\" style=\"height: 525px; width: 100%;\" class=\"plotly-graph-div\"></div><script type=\"text/javascript\">require([\"plotly\"], function(Plotly) { window.PLOTLYENV=window.PLOTLYENV || {};window.PLOTLYENV.BASE_URL=\"https://plot.ly\";Plotly.newPlot(\"87cf26e3-d951-4047-bc46-131f4b3612f4\", [{\"sort\": false, \"values\": [10, 41], \"domain\": {\"x\": [0, 0.32]}, \"labels\": [\"formal\", \"informal\"], \"type\": \"pie\"}, {\"sort\": false, \"values\": [19, 160], \"domain\": {\"x\": [0.34, 0.64]}, \"labels\": [\"formal\", \"informal\"], \"type\": \"pie\"}, {\"sort\": false, \"values\": [9, 119], \"domain\": {\"x\": [0.66, 0.98]}, \"labels\": [\"formal\", \"informal\"], \"type\": \"pie\"}], {\"annotations\": [{\"y\": 1, \"text\": \"Female Head of Household\", \"font\": {\"size\": 14}, \"showarrow\": false, \"x\": 0.04}, {\"y\": 1, \"text\": \"Global\", \"font\": {\"size\": 14}, \"showarrow\": false, \"x\": 0.5}, {\"y\": 1, \"text\": \"Male Head of Household\", \"font\": {\"size\": 14}, \"showarrow\": false, \"x\": 0.94}], \"title\": \"Employment Type\"}, {\"linkText\": \"Export to plot.ly\", \"showLink\": true})});</script>"
      ],
      "text/vnd.plotly.v1+html": [
       "<div id=\"87cf26e3-d951-4047-bc46-131f4b3612f4\" style=\"height: 525px; width: 100%;\" class=\"plotly-graph-div\"></div><script type=\"text/javascript\">require([\"plotly\"], function(Plotly) { window.PLOTLYENV=window.PLOTLYENV || {};window.PLOTLYENV.BASE_URL=\"https://plot.ly\";Plotly.newPlot(\"87cf26e3-d951-4047-bc46-131f4b3612f4\", [{\"sort\": false, \"values\": [10, 41], \"domain\": {\"x\": [0, 0.32]}, \"labels\": [\"formal\", \"informal\"], \"type\": \"pie\"}, {\"sort\": false, \"values\": [19, 160], \"domain\": {\"x\": [0.34, 0.64]}, \"labels\": [\"formal\", \"informal\"], \"type\": \"pie\"}, {\"sort\": false, \"values\": [9, 119], \"domain\": {\"x\": [0.66, 0.98]}, \"labels\": [\"formal\", \"informal\"], \"type\": \"pie\"}], {\"annotations\": [{\"y\": 1, \"text\": \"Female Head of Household\", \"font\": {\"size\": 14}, \"showarrow\": false, \"x\": 0.04}, {\"y\": 1, \"text\": \"Global\", \"font\": {\"size\": 14}, \"showarrow\": false, \"x\": 0.5}, {\"y\": 1, \"text\": \"Male Head of Household\", \"font\": {\"size\": 14}, \"showarrow\": false, \"x\": 0.94}], \"title\": \"Employment Type\"}, {\"linkText\": \"Export to plot.ly\", \"showLink\": true})});</script>"
      ]
     },
     "metadata": {},
     "output_type": "display_data"
    },
    {
     "data": {
      "application/vnd.plotly.v1+json": {
       "data": [
        {
         "domain": {
          "x": [
           0,
           0.32
          ]
         },
         "labels": [
          "men",
          "no_answer",
          "women"
         ],
         "sort": false,
         "type": "pie",
         "values": [
          44,
          1,
          6
         ]
        },
        {
         "domain": {
          "x": [
           0.34,
           0.64
          ]
         },
         "labels": [
          "men",
          "no_answer",
          "women"
         ],
         "sort": false,
         "type": "pie",
         "values": [
          172,
          1,
          7
         ]
        },
        {
         "domain": {
          "x": [
           0.66,
           0.98
          ]
         },
         "labels": [
          "men",
          "women"
         ],
         "sort": false,
         "type": "pie",
         "values": [
          128,
          1
         ]
        }
       ],
       "layout": {
        "annotations": [
         {
          "font": {
           "size": 14
          },
          "showarrow": false,
          "text": "Female Head of Household",
          "x": 0.04,
          "y": 1
         },
         {
          "font": {
           "size": 14
          },
          "showarrow": false,
          "text": "Global",
          "x": 0.5,
          "y": 1
         },
         {
          "font": {
           "size": 14
          },
          "showarrow": false,
          "text": "Male Head of Household",
          "x": 0.94,
          "y": 1
         }
        ],
        "title": "Gender of laborers"
       }
      },
      "text/html": [
       "<div id=\"f28f7634-c895-415c-b7ab-379944fce644\" style=\"height: 525px; width: 100%;\" class=\"plotly-graph-div\"></div><script type=\"text/javascript\">require([\"plotly\"], function(Plotly) { window.PLOTLYENV=window.PLOTLYENV || {};window.PLOTLYENV.BASE_URL=\"https://plot.ly\";Plotly.newPlot(\"f28f7634-c895-415c-b7ab-379944fce644\", [{\"sort\": false, \"values\": [44, 1, 6], \"domain\": {\"x\": [0, 0.32]}, \"labels\": [\"men\", \"no_answer\", \"women\"], \"type\": \"pie\"}, {\"sort\": false, \"values\": [172, 1, 7], \"domain\": {\"x\": [0.34, 0.64]}, \"labels\": [\"men\", \"no_answer\", \"women\"], \"type\": \"pie\"}, {\"sort\": false, \"values\": [128, 1], \"domain\": {\"x\": [0.66, 0.98]}, \"labels\": [\"men\", \"women\"], \"type\": \"pie\"}], {\"annotations\": [{\"y\": 1, \"text\": \"Female Head of Household\", \"font\": {\"size\": 14}, \"showarrow\": false, \"x\": 0.04}, {\"y\": 1, \"text\": \"Global\", \"font\": {\"size\": 14}, \"showarrow\": false, \"x\": 0.5}, {\"y\": 1, \"text\": \"Male Head of Household\", \"font\": {\"size\": 14}, \"showarrow\": false, \"x\": 0.94}], \"title\": \"Gender of laborers\"}, {\"linkText\": \"Export to plot.ly\", \"showLink\": true})});</script>"
      ],
      "text/vnd.plotly.v1+html": [
       "<div id=\"f28f7634-c895-415c-b7ab-379944fce644\" style=\"height: 525px; width: 100%;\" class=\"plotly-graph-div\"></div><script type=\"text/javascript\">require([\"plotly\"], function(Plotly) { window.PLOTLYENV=window.PLOTLYENV || {};window.PLOTLYENV.BASE_URL=\"https://plot.ly\";Plotly.newPlot(\"f28f7634-c895-415c-b7ab-379944fce644\", [{\"sort\": false, \"values\": [44, 1, 6], \"domain\": {\"x\": [0, 0.32]}, \"labels\": [\"men\", \"no_answer\", \"women\"], \"type\": \"pie\"}, {\"sort\": false, \"values\": [172, 1, 7], \"domain\": {\"x\": [0.34, 0.64]}, \"labels\": [\"men\", \"no_answer\", \"women\"], \"type\": \"pie\"}, {\"sort\": false, \"values\": [128, 1], \"domain\": {\"x\": [0.66, 0.98]}, \"labels\": [\"men\", \"women\"], \"type\": \"pie\"}], {\"annotations\": [{\"y\": 1, \"text\": \"Female Head of Household\", \"font\": {\"size\": 14}, \"showarrow\": false, \"x\": 0.04}, {\"y\": 1, \"text\": \"Global\", \"font\": {\"size\": 14}, \"showarrow\": false, \"x\": 0.5}, {\"y\": 1, \"text\": \"Male Head of Household\", \"font\": {\"size\": 14}, \"showarrow\": false, \"x\": 0.94}], \"title\": \"Gender of laborers\"}, {\"linkText\": \"Export to plot.ly\", \"showLink\": true})});</script>"
      ]
     },
     "metadata": {},
     "output_type": "display_data"
    }
   ],
   "source": [
    "labour_set = reg_survey.loc[reg_survey['src_incomes'].str.contains(\"labour\")]\n",
    "labour_set_femHoHH = reg_survey_femHoHH.loc[reg_survey_femHoHH['src_incomes'].str.contains(\"labour\")]\n",
    "labor_sector = get_ocurrences(labour_set, 'labour_sector')\n",
    "labor_sector_femHoHH = get_ocurrences(labour_set_femHoHH, 'labour_sector')\n",
    "#create_pie_graph(labor_sector, \"Labor sector\")\n",
    "create_graphs_HoHH(lambda x: get_ocurrences(x.loc[x['src_incomes'].str.contains(\"labour\")], 'labour_sector'),\n",
    "                         lambda x: x.values,\n",
    "                         lambda x: x.index.values,\n",
    "                         lambda x: x.sum(),\n",
    "                         \"Labor sector\")\n",
    "labour_set.loc[labour_set['labour_participants'].str.contains('women')][['labour_participants', 'respondant_gender', 'respondant_age', 'respondant_head_hh', 'male_teenager', 'male_adult', 'male_elderly', 'labour_sector']]\n",
    "labour_incomes = labour_set.groupby('labour_daily_salary').size()\n",
    "mean_salary = labour_set['labour_daily_salary'].mean()\n",
    "sectors_100 = labour_set.loc[labour_set['labour_daily_salary'] == 100].groupby('labour_sector').size()\n",
    "print str(labour_set['deviceid'].count()) + \" laborers\"\n",
    "create_graphs_HoHH(lambda x: x.loc[x['src_incomes'].str.contains(\"labour\")].groupby('labour_work_term').size(),\n",
    "                         lambda x: x.values,\n",
    "                         lambda x: x.index.values,\n",
    "                         lambda x: x.sum(),\n",
    "                         \"Temporality of laborers\")\n",
    "create_graphs_HoHH(lambda x: x.loc[x['src_incomes'].str.contains(\"labour\")].groupby('labour_employment_type').size(),\n",
    "                         lambda x: x.values,\n",
    "                         lambda x: x.index.values,\n",
    "                         lambda x: x.sum(),\n",
    "                         \"Employment Type\")\n",
    "create_graphs_HoHH(lambda x: x.loc[x['src_incomes'].str.contains(\"labour\")].groupby('labour_participants').size(),\n",
    "                         lambda x: x.values,\n",
    "                         lambda x: x.index.values,\n",
    "                         lambda x: x.sum(),\n",
    "                         \"Gender of laborers\")"
   ]
  },
  {
   "cell_type": "code",
   "execution_count": 41,
   "metadata": {},
   "outputs": [
    {
     "name": "stdout",
     "output_type": "stream",
     "text": [
      "71.8044692737\n"
     ]
    },
    {
     "data": {
      "application/vnd.plotly.v1+json": {
       "data": [
        {
         "marker": {
          "size": [
           5,
           5,
           5,
           5,
           5,
           5,
           15,
           20,
           5,
           5,
           5,
           10,
           15,
           5,
           10,
           15,
           5,
           5,
           15,
           15,
           5,
           10,
           5,
           5,
           5,
           5,
           5,
           5,
           5
          ]
         },
         "mode": "markers",
         "type": "scatter",
         "x": [
          0,
          0,
          1,
          2,
          2,
          3,
          3,
          3,
          4,
          4,
          4,
          5,
          5,
          5,
          7,
          7,
          7,
          9,
          10,
          11,
          23
         ],
         "y": [
          1,
          2,
          0,
          0,
          1,
          0,
          1,
          2,
          0,
          2,
          3,
          0,
          1,
          2,
          0,
          4,
          5,
          0,
          0,
          2,
          0
         ]
        }
       ],
       "layout": {
        "title": "Relation between the number of cattle and sheeps",
        "xaxis": {
         "title": "Number of goat"
        },
        "yaxis": {
         "title": "Number of cattle"
        }
       }
      },
      "text/html": [
       "<div id=\"b90721c9-e584-470f-951f-479df8332502\" style=\"height: 525px; width: 100%;\" class=\"plotly-graph-div\"></div><script type=\"text/javascript\">require([\"plotly\"], function(Plotly) { window.PLOTLYENV=window.PLOTLYENV || {};window.PLOTLYENV.BASE_URL=\"https://plot.ly\";Plotly.newPlot(\"b90721c9-e584-470f-951f-479df8332502\", [{\"y\": [1.0, 2.0, 0.0, 0.0, 1.0, 0.0, 1.0, 2.0, 0.0, 2.0, 3.0, 0.0, 1.0, 2.0, 0.0, 4.0, 5.0, 0.0, 0.0, 2.0, 0.0], \"x\": [0.0, 0.0, 1.0, 2.0, 2.0, 3.0, 3.0, 3.0, 4.0, 4.0, 4.0, 5.0, 5.0, 5.0, 7.0, 7.0, 7.0, 9.0, 10.0, 11.0, 23.0], \"type\": \"scatter\", \"mode\": \"markers\", \"marker\": {\"size\": [5, 5, 5, 5, 5, 5, 15, 20, 5, 5, 5, 10, 15, 5, 10, 15, 5, 5, 15, 15, 5, 10, 5, 5, 5, 5, 5, 5, 5]}}], {\"title\": \"Relation between the number of cattle and sheeps\", \"xaxis\": {\"title\": \"Number of goat\"}, \"yaxis\": {\"title\": \"Number of cattle\"}}, {\"linkText\": \"Export to plot.ly\", \"showLink\": true})});</script>"
      ],
      "text/vnd.plotly.v1+html": [
       "<div id=\"b90721c9-e584-470f-951f-479df8332502\" style=\"height: 525px; width: 100%;\" class=\"plotly-graph-div\"></div><script type=\"text/javascript\">require([\"plotly\"], function(Plotly) { window.PLOTLYENV=window.PLOTLYENV || {};window.PLOTLYENV.BASE_URL=\"https://plot.ly\";Plotly.newPlot(\"b90721c9-e584-470f-951f-479df8332502\", [{\"y\": [1.0, 2.0, 0.0, 0.0, 1.0, 0.0, 1.0, 2.0, 0.0, 2.0, 3.0, 0.0, 1.0, 2.0, 0.0, 4.0, 5.0, 0.0, 0.0, 2.0, 0.0], \"x\": [0.0, 0.0, 1.0, 2.0, 2.0, 3.0, 3.0, 3.0, 4.0, 4.0, 4.0, 5.0, 5.0, 5.0, 7.0, 7.0, 7.0, 9.0, 10.0, 11.0, 23.0], \"type\": \"scatter\", \"mode\": \"markers\", \"marker\": {\"size\": [5, 5, 5, 5, 5, 5, 15, 20, 5, 5, 5, 10, 15, 5, 10, 15, 5, 5, 15, 15, 5, 10, 5, 5, 5, 5, 5, 5, 5]}}], {\"title\": \"Relation between the number of cattle and sheeps\", \"xaxis\": {\"title\": \"Number of goat\"}, \"yaxis\": {\"title\": \"Number of cattle\"}}, {\"linkText\": \"Export to plot.ly\", \"showLink\": true})});</script>"
      ]
     },
     "metadata": {},
     "output_type": "display_data"
    }
   ],
   "source": [
    "gov_salaries = labour_set.loc[labour_set['labour_sector'] == 'government']\n",
    "agri_salaries = labour_set.loc[labour_set['labour_sector'] == 'agriculture']\n",
    "trans_salaries = labour_set.loc[labour_set['labour_sector'] == 'transportation']\n",
    "other_salaries = labour_set.loc[labour_set['labour_sector'] == 'other']\n",
    "print mean_salary\n",
    "gov_salaries_mean = gov_salaries['labour_daily_salary'].mean()\n",
    "gov_salaries_num = gov_salaries.groupby('labour_daily_salary').size()\n",
    "agri_salaries_mean = agri_salaries['labour_daily_salary'].mean()\n",
    "agri_salaries_num = agri_salaries.groupby('labour_daily_salary').size()\n",
    "trans_salaries_mean = trans_salaries['labour_daily_salary'].mean()\n",
    "trans_salaries_num = trans_salaries.groupby('labour_daily_salary').size()\n",
    "other_salaries_mean = other_salaries['labour_daily_salary'].mean()\n",
    "other_salaries_num = other_salaries.groupby('labour_daily_salary').size()\n",
    "\n",
    "salaries = {\n",
    "    \"layout\": {\n",
    "        \"title\": \"Relation between the number of cattle and sheeps\",\n",
    "        \"xaxis\": {\n",
    "            \"title\": \"Number of goat\"\n",
    "        },\n",
    "        \"yaxis\": {\n",
    "            \"title\": \"Number of cattle\"\n",
    "        }\n",
    "    },\n",
    "    \"data\": [\n",
    "        {\n",
    "\n",
    "            \"x\": prueba3.livestock_number_goat,\n",
    "            \"y\": prueba3.livestock_number_cattle,\n",
    "            \"mode\": \"markers\",\n",
    "            \"marker\": {\n",
    "                \"size\": prueba.number * 5               \n",
    "            },\n",
    "            \"type\": \"scatter\"\n",
    "        }\n",
    "    ]\n",
    "}\n",
    "iplot(goat_vs_cattle)"
   ]
  },
  {
   "cell_type": "markdown",
   "metadata": {},
   "source": [
    "### Agriculture"
   ]
  },
  {
   "cell_type": "code",
   "execution_count": 42,
   "metadata": {},
   "outputs": [
    {
     "name": "stdout",
     "output_type": "stream",
     "text": [
      "Index([u'0.0', u'1.0', u'2.0', u'3.0', u'4.0', u'5.0', u'6.0', u'8.0', u'10.0',\n",
      "       u'30.0', u'400.0', u'2100.0'],\n",
      "      dtype='object', name=u'agri_gard_use_quantity')\n"
     ]
    },
    {
     "data": {
      "text/plain": [
       "agri_gard_use_quantity\n",
       "0.0       11\n",
       "1.0       60\n",
       "2.0       63\n",
       "3.0       18\n",
       "4.0       10\n",
       "5.0        9\n",
       "6.0        6\n",
       "8.0        1\n",
       "10.0       6\n",
       "30.0       1\n",
       "400.0      1\n",
       "2100.0     3\n",
       "dtype: int64"
      ]
     },
     "metadata": {},
     "output_type": "display_data"
    },
    {
     "data": {
      "text/html": [
       "<div>\n",
       "<style scoped>\n",
       "    .dataframe tbody tr th:only-of-type {\n",
       "        vertical-align: middle;\n",
       "    }\n",
       "\n",
       "    .dataframe tbody tr th {\n",
       "        vertical-align: top;\n",
       "    }\n",
       "\n",
       "    .dataframe thead th {\n",
       "        text-align: right;\n",
       "    }\n",
       "</style>\n",
       "<table border=\"1\" class=\"dataframe\">\n",
       "  <thead>\n",
       "    <tr style=\"text-align: right;\">\n",
       "      <th></th>\n",
       "      <th>land</th>\n",
       "      <th>use</th>\n",
       "    </tr>\n",
       "  </thead>\n",
       "  <tbody>\n",
       "    <tr>\n",
       "      <th>0.0</th>\n",
       "      <td>37.0</td>\n",
       "      <td>11.0</td>\n",
       "    </tr>\n",
       "    <tr>\n",
       "      <th>1.0</th>\n",
       "      <td>52.0</td>\n",
       "      <td>60.0</td>\n",
       "    </tr>\n",
       "    <tr>\n",
       "      <th>2.0</th>\n",
       "      <td>54.0</td>\n",
       "      <td>63.0</td>\n",
       "    </tr>\n",
       "    <tr>\n",
       "      <th>3.0</th>\n",
       "      <td>22.0</td>\n",
       "      <td>18.0</td>\n",
       "    </tr>\n",
       "    <tr>\n",
       "      <th>4.0</th>\n",
       "      <td>12.0</td>\n",
       "      <td>10.0</td>\n",
       "    </tr>\n",
       "    <tr>\n",
       "      <th>5.0</th>\n",
       "      <td>14.0</td>\n",
       "      <td>9.0</td>\n",
       "    </tr>\n",
       "    <tr>\n",
       "      <th>6.0</th>\n",
       "      <td>6.0</td>\n",
       "      <td>6.0</td>\n",
       "    </tr>\n",
       "    <tr>\n",
       "      <th>7.0</th>\n",
       "      <td>1.0</td>\n",
       "      <td>NaN</td>\n",
       "    </tr>\n",
       "    <tr>\n",
       "      <th>8.0</th>\n",
       "      <td>1.0</td>\n",
       "      <td>1.0</td>\n",
       "    </tr>\n",
       "    <tr>\n",
       "      <th>10.0</th>\n",
       "      <td>8.0</td>\n",
       "      <td>6.0</td>\n",
       "    </tr>\n",
       "    <tr>\n",
       "      <th>30.0</th>\n",
       "      <td>NaN</td>\n",
       "      <td>1.0</td>\n",
       "    </tr>\n",
       "    <tr>\n",
       "      <th>50.0</th>\n",
       "      <td>1.0</td>\n",
       "      <td>NaN</td>\n",
       "    </tr>\n",
       "    <tr>\n",
       "      <th>400.0</th>\n",
       "      <td>1.0</td>\n",
       "      <td>1.0</td>\n",
       "    </tr>\n",
       "    <tr>\n",
       "      <th>2100.0</th>\n",
       "      <td>3.0</td>\n",
       "      <td>3.0</td>\n",
       "    </tr>\n",
       "  </tbody>\n",
       "</table>\n",
       "</div>"
      ],
      "text/plain": [
       "        land   use\n",
       "0.0     37.0  11.0\n",
       "1.0     52.0  60.0\n",
       "2.0     54.0  63.0\n",
       "3.0     22.0  18.0\n",
       "4.0     12.0  10.0\n",
       "5.0     14.0   9.0\n",
       "6.0      6.0   6.0\n",
       "7.0      1.0   NaN\n",
       "8.0      1.0   1.0\n",
       "10.0     8.0   6.0\n",
       "30.0     NaN   1.0\n",
       "50.0     1.0   NaN\n",
       "400.0    1.0   1.0\n",
       "2100.0   3.0   3.0"
      ]
     },
     "metadata": {},
     "output_type": "display_data"
    },
    {
     "data": {
      "text/plain": [
       "agri_gard_land_quantity\n",
       "0.0       37\n",
       "1.0       52\n",
       "2.0       54\n",
       "3.0       22\n",
       "4.0       12\n",
       "5.0       14\n",
       "6.0        6\n",
       "7.0        1\n",
       "8.0        1\n",
       "10.0       8\n",
       "50.0       1\n",
       "400.0      1\n",
       "2100.0     3\n",
       "dtype: int64"
      ]
     },
     "metadata": {},
     "output_type": "display_data"
    }
   ],
   "source": [
    "agri_set = reg_survey.loc[reg_survey['src_incomes'].str.contains(\"agriculture\")].copy()\n",
    "agri_set_female = reg_survey_female.loc[reg_survey_female['src_incomes'].str.contains(\"agriculture\")].copy()\n",
    "agri_set_femHoHH = reg_survey_femHoHH.loc[reg_survey_femHoHH['src_incomes'].str.contains(\"agriculture\")].copy()\n",
    "agri_set_hand_yes = reg_survey_hand_yes.loc[reg_survey_hand_yes['src_incomes'].str.contains(\"agriculture\")].copy()\n",
    "\n",
    "land_quantity = agri_set.groupby('agri_gard_land_quantity').size()\n",
    "land_quantity_female = agri_set_female.groupby('agri_gard_land_quantity').size()\n",
    "land_quantity_femHoHH = agri_set_femHoHH.groupby('agri_gard_land_quantity').size()\n",
    "land_quantity_hand_yes = agri_set_hand_yes.groupby('agri_gard_land_quantity').size()\n",
    "use_quantity = agri_set.groupby('agri_gard_use_quantity').size()\n",
    "\n",
    "d = {'land': land_quantity, 'use': use_quantity}\n",
    "use_land = pd.DataFrame(d)\n",
    "hey = use_quantity.index.map(lambda x: str(x))\n",
    "use_quantity.index = hey\n",
    "print use_quantity.index\n",
    "display(use_quantity)\n",
    "display(use_land)\n",
    "display(land_quantity)"
   ]
  },
  {
   "cell_type": "code",
   "execution_count": 43,
   "metadata": {
    "scrolled": false
   },
   "outputs": [
    {
     "name": "stdout",
     "output_type": "stream",
     "text": [
      "agri_gard_land_quantity\n",
      "0.0       37\n",
      "1.0       52\n",
      "2.0       54\n",
      "3.0       22\n",
      "4.0       12\n",
      "5.0       14\n",
      "6.0        6\n",
      "7.0        1\n",
      "8.0        1\n",
      "10.0       8\n",
      "50.0       1\n",
      "400.0      1\n",
      "2100.0     3\n",
      "dtype: int64\n",
      "0.107143     0.0\n",
      "0.892857     5.0\n",
      "0.964286    10.0\n",
      "dtype: float64\n",
      "0.174528     0.0\n",
      "0.900943     5.0\n",
      "0.976415    10.0\n",
      "dtype: float64\n",
      "0.081967     0.0\n",
      "0.934426     5.0\n",
      "0.975410    10.0\n",
      "dtype: float64\n",
      "0.229730     0.0\n",
      "0.932432     5.0\n",
      "0.986486    10.0\n",
      "dtype: float64\n",
      "agri_gard_land_quantity\n",
      "1.0    24.528302\n",
      "2.0    25.471698\n",
      "3.0    10.377358\n",
      "4.0     5.660377\n",
      "5.0     6.603774\n",
      "dtype: float64\n"
     ]
    },
    {
     "data": {
      "application/vnd.plotly.v1+json": {
       "data": [
        {
         "marker": {
          "color": "rgb(214,39,40)"
         },
         "name": "Very poor (17.5%)",
         "type": "bar",
         "x": [
          0
         ],
         "y": [
          17.452830188679247
         ]
        },
        {
         "marker": {
          "color": "rgb(255,127,14)"
         },
         "name": "Poor (72.6%)",
         "type": "bar",
         "x": [
          1,
          2,
          3,
          4,
          5
         ],
         "y": [
          24.528301886792452,
          25.471698113207548,
          10.377358490566039,
          5.660377358490566,
          6.60377358490566
         ]
        },
        {
         "marker": {
          "color": "rgb(44,160,44)"
         },
         "name": "Medium (7.5%)",
         "type": "bar",
         "x": [
          6,
          7,
          8,
          10
         ],
         "y": [
          2.830188679245283,
          0.4716981132075472,
          0.4716981132075472,
          3.7735849056603774
         ]
        }
       ],
       "layout": {
        "annotations": [],
        "title": "Number of feddans per wealth group",
        "width": 700,
        "yaxis": {
         "ticksuffix": "%"
        }
       }
      },
      "text/html": [
       "<div id=\"ebfbf732-199b-432b-b230-ba9c37aef0b4\" style=\"height: 525px; width: 700px;\" class=\"plotly-graph-div\"></div><script type=\"text/javascript\">require([\"plotly\"], function(Plotly) { window.PLOTLYENV=window.PLOTLYENV || {};window.PLOTLYENV.BASE_URL=\"https://plot.ly\";Plotly.newPlot(\"ebfbf732-199b-432b-b230-ba9c37aef0b4\", [{\"y\": [17.452830188679247], \"x\": [0.0], \"type\": \"bar\", \"name\": \"Very poor (17.5%)\", \"marker\": {\"color\": \"rgb(214,39,40)\"}}, {\"y\": [24.528301886792452, 25.471698113207548, 10.377358490566039, 5.660377358490566, 6.60377358490566], \"x\": [1.0, 2.0, 3.0, 4.0, 5.0], \"type\": \"bar\", \"name\": \"Poor (72.6%)\", \"marker\": {\"color\": \"rgb(255,127,14)\"}}, {\"y\": [2.830188679245283, 0.4716981132075472, 0.4716981132075472, 3.7735849056603774], \"x\": [6.0, 7.0, 8.0, 10.0], \"type\": \"bar\", \"name\": \"Medium (7.5%)\", \"marker\": {\"color\": \"rgb(44,160,44)\"}}], {\"width\": 700, \"title\": \"Number of feddans per wealth group\", \"annotations\": [], \"yaxis\": {\"ticksuffix\": \"%\"}}, {\"linkText\": \"Export to plot.ly\", \"showLink\": true})});</script>"
      ],
      "text/vnd.plotly.v1+html": [
       "<div id=\"ebfbf732-199b-432b-b230-ba9c37aef0b4\" style=\"height: 525px; width: 700px;\" class=\"plotly-graph-div\"></div><script type=\"text/javascript\">require([\"plotly\"], function(Plotly) { window.PLOTLYENV=window.PLOTLYENV || {};window.PLOTLYENV.BASE_URL=\"https://plot.ly\";Plotly.newPlot(\"ebfbf732-199b-432b-b230-ba9c37aef0b4\", [{\"y\": [17.452830188679247], \"x\": [0.0], \"type\": \"bar\", \"name\": \"Very poor (17.5%)\", \"marker\": {\"color\": \"rgb(214,39,40)\"}}, {\"y\": [24.528301886792452, 25.471698113207548, 10.377358490566039, 5.660377358490566, 6.60377358490566], \"x\": [1.0, 2.0, 3.0, 4.0, 5.0], \"type\": \"bar\", \"name\": \"Poor (72.6%)\", \"marker\": {\"color\": \"rgb(255,127,14)\"}}, {\"y\": [2.830188679245283, 0.4716981132075472, 0.4716981132075472, 3.7735849056603774], \"x\": [6.0, 7.0, 8.0, 10.0], \"type\": \"bar\", \"name\": \"Medium (7.5%)\", \"marker\": {\"color\": \"rgb(44,160,44)\"}}], {\"width\": 700, \"title\": \"Number of feddans per wealth group\", \"annotations\": [], \"yaxis\": {\"ticksuffix\": \"%\"}}, {\"linkText\": \"Export to plot.ly\", \"showLink\": true})});</script>"
      ]
     },
     "metadata": {},
     "output_type": "display_data"
    },
    {
     "name": "stdout",
     "output_type": "stream",
     "text": [
      "agri_gard_land_quantity\n",
      "1.0    17.567568\n",
      "2.0    25.675676\n",
      "3.0    12.162162\n",
      "4.0     6.756757\n",
      "5.0     8.108108\n",
      "dtype: float64\n"
     ]
    },
    {
     "data": {
      "application/vnd.plotly.v1+json": {
       "data": [
        {
         "marker": {
          "color": "rgb(214,39,40)"
         },
         "name": "Very poor (23.0%)",
         "type": "bar",
         "x": [
          0
         ],
         "y": [
          22.972972972972972
         ]
        },
        {
         "marker": {
          "color": "rgb(255,127,14)"
         },
         "name": "Poor (70.3%)",
         "type": "bar",
         "x": [
          1,
          2,
          3,
          4,
          5
         ],
         "y": [
          17.56756756756757,
          25.675675675675677,
          12.162162162162161,
          6.756756756756757,
          8.108108108108109
         ]
        },
        {
         "marker": {
          "color": "rgb(44,160,44)"
         },
         "name": "Medium (5.4%)",
         "type": "bar",
         "x": [
          6,
          7,
          8,
          10
         ],
         "y": [
          1.3513513513513513,
          1.3513513513513513,
          1.3513513513513513,
          1.3513513513513513
         ]
        }
       ],
       "layout": {
        "annotations": [],
        "title": "Number of feddans per wealth group in female HoHH",
        "width": 700,
        "yaxis": {
         "ticksuffix": "%"
        }
       }
      },
      "text/html": [
       "<div id=\"a38e707f-1f9e-4018-8c8a-7f12352fbaa2\" style=\"height: 525px; width: 700px;\" class=\"plotly-graph-div\"></div><script type=\"text/javascript\">require([\"plotly\"], function(Plotly) { window.PLOTLYENV=window.PLOTLYENV || {};window.PLOTLYENV.BASE_URL=\"https://plot.ly\";Plotly.newPlot(\"a38e707f-1f9e-4018-8c8a-7f12352fbaa2\", [{\"y\": [22.972972972972972], \"x\": [0.0], \"type\": \"bar\", \"name\": \"Very poor (23.0%)\", \"marker\": {\"color\": \"rgb(214,39,40)\"}}, {\"y\": [17.56756756756757, 25.675675675675677, 12.162162162162161, 6.756756756756757, 8.108108108108109], \"x\": [1.0, 2.0, 3.0, 4.0, 5.0], \"type\": \"bar\", \"name\": \"Poor (70.3%)\", \"marker\": {\"color\": \"rgb(255,127,14)\"}}, {\"y\": [1.3513513513513513, 1.3513513513513513, 1.3513513513513513, 1.3513513513513513], \"x\": [6.0, 7.0, 8.0, 10.0], \"type\": \"bar\", \"name\": \"Medium (5.4%)\", \"marker\": {\"color\": \"rgb(44,160,44)\"}}], {\"width\": 700, \"title\": \"Number of feddans per wealth group in female HoHH\", \"annotations\": [], \"yaxis\": {\"ticksuffix\": \"%\"}}, {\"linkText\": \"Export to plot.ly\", \"showLink\": true})});</script>"
      ],
      "text/vnd.plotly.v1+html": [
       "<div id=\"a38e707f-1f9e-4018-8c8a-7f12352fbaa2\" style=\"height: 525px; width: 700px;\" class=\"plotly-graph-div\"></div><script type=\"text/javascript\">require([\"plotly\"], function(Plotly) { window.PLOTLYENV=window.PLOTLYENV || {};window.PLOTLYENV.BASE_URL=\"https://plot.ly\";Plotly.newPlot(\"a38e707f-1f9e-4018-8c8a-7f12352fbaa2\", [{\"y\": [22.972972972972972], \"x\": [0.0], \"type\": \"bar\", \"name\": \"Very poor (23.0%)\", \"marker\": {\"color\": \"rgb(214,39,40)\"}}, {\"y\": [17.56756756756757, 25.675675675675677, 12.162162162162161, 6.756756756756757, 8.108108108108109], \"x\": [1.0, 2.0, 3.0, 4.0, 5.0], \"type\": \"bar\", \"name\": \"Poor (70.3%)\", \"marker\": {\"color\": \"rgb(255,127,14)\"}}, {\"y\": [1.3513513513513513, 1.3513513513513513, 1.3513513513513513, 1.3513513513513513], \"x\": [6.0, 7.0, 8.0, 10.0], \"type\": \"bar\", \"name\": \"Medium (5.4%)\", \"marker\": {\"color\": \"rgb(44,160,44)\"}}], {\"width\": 700, \"title\": \"Number of feddans per wealth group in female HoHH\", \"annotations\": [], \"yaxis\": {\"ticksuffix\": \"%\"}}, {\"linkText\": \"Export to plot.ly\", \"showLink\": true})});</script>"
      ]
     },
     "metadata": {},
     "output_type": "display_data"
    },
    {
     "name": "stdout",
     "output_type": "stream",
     "text": [
      "agri_gard_land_quantity\n",
      "1.0    10.714286\n",
      "2.0    35.714286\n",
      "3.0    14.285714\n",
      "4.0    10.714286\n",
      "5.0     7.142857\n",
      "dtype: float64\n"
     ]
    },
    {
     "data": {
      "application/vnd.plotly.v1+json": {
       "data": [
        {
         "marker": {
          "color": "rgb(214,39,40)"
         },
         "name": "Very poor (10.7%)",
         "type": "bar",
         "x": [
          0
         ],
         "y": [
          10.714285714285714
         ]
        },
        {
         "marker": {
          "color": "rgb(255,127,14)"
         },
         "name": "Poor (78.6%)",
         "type": "bar",
         "x": [
          1,
          2,
          3,
          4,
          5
         ],
         "y": [
          10.714285714285714,
          35.714285714285715,
          14.285714285714286,
          10.714285714285714,
          7.142857142857143
         ]
        },
        {
         "marker": {
          "color": "rgb(44,160,44)"
         },
         "name": "Medium (7.1%)",
         "type": "bar",
         "x": [
          6,
          10
         ],
         "y": [
          3.5714285714285716,
          3.5714285714285716
         ]
        }
       ],
       "layout": {
        "annotations": [],
        "title": "Number of feddans per wealth group in handicapped",
        "width": 700,
        "yaxis": {
         "ticksuffix": "%"
        }
       }
      },
      "text/html": [
       "<div id=\"cb0795df-3ced-4e8b-8af0-9f90ce6ff71e\" style=\"height: 525px; width: 700px;\" class=\"plotly-graph-div\"></div><script type=\"text/javascript\">require([\"plotly\"], function(Plotly) { window.PLOTLYENV=window.PLOTLYENV || {};window.PLOTLYENV.BASE_URL=\"https://plot.ly\";Plotly.newPlot(\"cb0795df-3ced-4e8b-8af0-9f90ce6ff71e\", [{\"y\": [10.714285714285714], \"x\": [0.0], \"type\": \"bar\", \"name\": \"Very poor (10.7%)\", \"marker\": {\"color\": \"rgb(214,39,40)\"}}, {\"y\": [10.714285714285714, 35.714285714285715, 14.285714285714286, 10.714285714285714, 7.142857142857143], \"x\": [1.0, 2.0, 3.0, 4.0, 5.0], \"type\": \"bar\", \"name\": \"Poor (78.6%)\", \"marker\": {\"color\": \"rgb(255,127,14)\"}}, {\"y\": [3.5714285714285716, 3.5714285714285716], \"x\": [6.0, 10.0], \"type\": \"bar\", \"name\": \"Medium (7.1%)\", \"marker\": {\"color\": \"rgb(44,160,44)\"}}], {\"width\": 700, \"title\": \"Number of feddans per wealth group in handicapped\", \"annotations\": [], \"yaxis\": {\"ticksuffix\": \"%\"}}, {\"linkText\": \"Export to plot.ly\", \"showLink\": true})});</script>"
      ],
      "text/vnd.plotly.v1+html": [
       "<div id=\"cb0795df-3ced-4e8b-8af0-9f90ce6ff71e\" style=\"height: 525px; width: 700px;\" class=\"plotly-graph-div\"></div><script type=\"text/javascript\">require([\"plotly\"], function(Plotly) { window.PLOTLYENV=window.PLOTLYENV || {};window.PLOTLYENV.BASE_URL=\"https://plot.ly\";Plotly.newPlot(\"cb0795df-3ced-4e8b-8af0-9f90ce6ff71e\", [{\"y\": [10.714285714285714], \"x\": [0.0], \"type\": \"bar\", \"name\": \"Very poor (10.7%)\", \"marker\": {\"color\": \"rgb(214,39,40)\"}}, {\"y\": [10.714285714285714, 35.714285714285715, 14.285714285714286, 10.714285714285714, 7.142857142857143], \"x\": [1.0, 2.0, 3.0, 4.0, 5.0], \"type\": \"bar\", \"name\": \"Poor (78.6%)\", \"marker\": {\"color\": \"rgb(255,127,14)\"}}, {\"y\": [3.5714285714285716, 3.5714285714285716], \"x\": [6.0, 10.0], \"type\": \"bar\", \"name\": \"Medium (7.1%)\", \"marker\": {\"color\": \"rgb(44,160,44)\"}}], {\"width\": 700, \"title\": \"Number of feddans per wealth group in handicapped\", \"annotations\": [], \"yaxis\": {\"ticksuffix\": \"%\"}}, {\"linkText\": \"Export to plot.ly\", \"showLink\": true})});</script>"
      ]
     },
     "metadata": {},
     "output_type": "display_data"
    }
   ],
   "source": [
    "values = [0,5, land_quantity.index[-4]]\n",
    "values_female = [0,5, land_quantity_female.index[-3]]\n",
    "values_femHoHH = [0,5, land_quantity_femHoHH.index[-2]]\n",
    "values_hand = [0,5, land_quantity_hand_yes.index[-2]]\n",
    "print land_quantity\n",
    "per2 = get_percentiles(land_quantity, values)\n",
    "per_hand = get_percentiles(land_quantity_hand_yes, values_hand)\n",
    "percentiles = pd.Series(values, index = per2)\n",
    "percentiles_hand = pd.Series(values_hand, index = per_hand)\n",
    "\n",
    "print percentiles_hand\n",
    "\n",
    "print percentiles\n",
    "\n",
    "print pd.Series(values_female, index = get_percentiles(land_quantity_female, values_female))\n",
    "print pd.Series(values_femHoHH, index = get_percentiles(land_quantity_femHoHH, values_femHoHH))\n",
    "\n",
    "plot_wealth_criteria(land_quantity, values, \"Number of feddans per wealth group\")\n",
    "#plot_wealth_criteria(land_quantity_female, values_female, \"Number of feddans per wealth group in female respondents\")\n",
    "plot_wealth_criteria(land_quantity_femHoHH, values_femHoHH, \"Number of feddans per wealth group in female HoHH\")\n",
    "plot_wealth_criteria(land_quantity_hand_yes, values_hand, \"Number of feddans per wealth group in handicapped\")"
   ]
  },
  {
   "cell_type": "code",
   "execution_count": 44,
   "metadata": {},
   "outputs": [
    {
     "name": "stdout",
     "output_type": "stream",
     "text": [
      "Quantiles:\n",
      "0.335     1.0\n",
      "0.915     7.0\n",
      "1.000    23.0\n",
      "Name: livestock_number_goat, dtype: float64\n"
     ]
    }
   ],
   "source": [
    "quantiles = [.335, .915, 1]\n",
    "q = goats.quantile(quantiles)\n",
    "print \"Quantiles:\"\n",
    "print q\n",
    "goats1 = goats[goats < q[quantiles[0]]].dropna()\n",
    "goats2 = goats[goats.between(q[quantiles[0]], q[quantiles[1]])].dropna()\n",
    "goats3 = goats[goats.between(q[quantiles[1]], q[quantiles[2]])].dropna()\n",
    "#fig = ff.create_distplot([goats1.values, goats2.values, goats3.values], ['poor', 'medium', 'rich'])\n",
    "#iplot (fig)"
   ]
  },
  {
   "cell_type": "code",
   "execution_count": 45,
   "metadata": {
    "scrolled": false
   },
   "outputs": [
    {
     "data": {
      "application/vnd.plotly.v1+json": {
       "data": [
        {
         "marker": {
          "size": [
           8,
           4,
           6,
           5,
           1,
           1,
           44,
           1,
           7,
           44,
           5,
           6,
           10,
           2,
           10,
           1,
           3,
           2,
           7,
           1,
           5,
           1,
           1,
           1,
           1,
           1,
           5
          ]
         },
         "mode": "markers",
         "type": "scatter",
         "x": [
          0,
          0,
          0,
          0,
          0,
          1,
          1,
          2,
          2,
          2,
          3,
          3,
          3,
          4,
          4,
          5,
          5,
          5,
          5,
          6,
          6,
          7,
          8,
          10,
          10,
          10,
          10
         ],
         "y": [
          0,
          1,
          2,
          3,
          5,
          0,
          1,
          0,
          1,
          2,
          1,
          2,
          3,
          2,
          4,
          0,
          2,
          3,
          5,
          2,
          6,
          5,
          8,
          2,
          3,
          6,
          10
         ]
        },
        {
         "mode": "lines",
         "x": [
          0,
          10
         ],
         "y": [
          0,
          10
         ]
        }
       ],
       "layout": {
        "title": "Relation between the quantity of land owned and used"
       }
      },
      "text/html": [
       "<div id=\"daf2c178-6ff2-4dd9-917c-675bc0353c43\" style=\"height: 525px; width: 100%;\" class=\"plotly-graph-div\"></div><script type=\"text/javascript\">require([\"plotly\"], function(Plotly) { window.PLOTLYENV=window.PLOTLYENV || {};window.PLOTLYENV.BASE_URL=\"https://plot.ly\";Plotly.newPlot(\"daf2c178-6ff2-4dd9-917c-675bc0353c43\", [{\"y\": [0.0, 1.0, 2.0, 3.0, 5.0, 0.0, 1.0, 0.0, 1.0, 2.0, 1.0, 2.0, 3.0, 2.0, 4.0, 0.0, 2.0, 3.0, 5.0, 2.0, 6.0, 5.0, 8.0, 2.0, 3.0, 6.0, 10.0], \"x\": [0.0, 0.0, 0.0, 0.0, 0.0, 1.0, 1.0, 2.0, 2.0, 2.0, 3.0, 3.0, 3.0, 4.0, 4.0, 5.0, 5.0, 5.0, 5.0, 6.0, 6.0, 7.0, 8.0, 10.0, 10.0, 10.0, 10.0], \"type\": \"scatter\", \"mode\": \"markers\", \"marker\": {\"size\": [8, 4, 6, 5, 1, 1, 44, 1, 7, 44, 5, 6, 10, 2, 10, 1, 3, 2, 7, 1, 5, 1, 1, 1, 1, 1, 5]}}, {\"y\": [0, 10], \"x\": [0, 10], \"mode\": \"lines\"}], {\"title\": \"Relation between the quantity of land owned and used\"}, {\"linkText\": \"Export to plot.ly\", \"showLink\": true})});</script>"
      ],
      "text/vnd.plotly.v1+html": [
       "<div id=\"daf2c178-6ff2-4dd9-917c-675bc0353c43\" style=\"height: 525px; width: 100%;\" class=\"plotly-graph-div\"></div><script type=\"text/javascript\">require([\"plotly\"], function(Plotly) { window.PLOTLYENV=window.PLOTLYENV || {};window.PLOTLYENV.BASE_URL=\"https://plot.ly\";Plotly.newPlot(\"daf2c178-6ff2-4dd9-917c-675bc0353c43\", [{\"y\": [0.0, 1.0, 2.0, 3.0, 5.0, 0.0, 1.0, 0.0, 1.0, 2.0, 1.0, 2.0, 3.0, 2.0, 4.0, 0.0, 2.0, 3.0, 5.0, 2.0, 6.0, 5.0, 8.0, 2.0, 3.0, 6.0, 10.0], \"x\": [0.0, 0.0, 0.0, 0.0, 0.0, 1.0, 1.0, 2.0, 2.0, 2.0, 3.0, 3.0, 3.0, 4.0, 4.0, 5.0, 5.0, 5.0, 5.0, 6.0, 6.0, 7.0, 8.0, 10.0, 10.0, 10.0, 10.0], \"type\": \"scatter\", \"mode\": \"markers\", \"marker\": {\"size\": [8, 4, 6, 5, 1, 1, 44, 1, 7, 44, 5, 6, 10, 2, 10, 1, 3, 2, 7, 1, 5, 1, 1, 1, 1, 1, 5]}}, {\"y\": [0, 10], \"x\": [0, 10], \"mode\": \"lines\"}], {\"title\": \"Relation between the quantity of land owned and used\"}, {\"linkText\": \"Export to plot.ly\", \"showLink\": true})});</script>"
      ]
     },
     "metadata": {},
     "output_type": "display_data"
    }
   ],
   "source": [
    "use_vs_have = pd.crosstab(agri_set.agri_gard_land_quantity, agri_set.agri_gard_use_quantity).stack().reset_index(name='feddans')\n",
    "#prueba.plot.scatter('livestock_number_goats', 'livestock_number_sheep', s=prueba.number * 10)\n",
    "use_vs_have = use_vs_have[use_vs_have.feddans != 0]\n",
    "use_vs_have = use_vs_have[use_vs_have.agri_gard_use_quantity <= 10]\n",
    "use_vs_have = use_vs_have[use_vs_have.agri_gard_land_quantity <= 10]\n",
    "#prueba = prueba[prueba.livestock_number_goat <= 100]\n",
    "#prueba = prueba[prueba.livestock_number_sheep <= 100]\n",
    "#display(prueba)\n",
    "use_vs_have = {\n",
    "    \"layout\": {\n",
    "        \"title\": \"Relation between the quantity of land owned and used\"\n",
    "    },\n",
    "    \"data\": [\n",
    "        {\n",
    "\n",
    "            \"x\": use_vs_have.agri_gard_land_quantity,\n",
    "            \"y\": use_vs_have.agri_gard_use_quantity,\n",
    "            \"mode\": \"markers\",\n",
    "            \"marker\": {\n",
    "                \"size\": use_vs_have.feddans\n",
    "            },\n",
    "            \"type\": \"scatter\"\n",
    "        },\n",
    "        {\n",
    "\n",
    "            \"x\": [0,10],\n",
    "            \"y\": [0,10],\n",
    "            \"mode\": \"lines\"\n",
    "        }\n",
    "    ]\n",
    "}\n",
    "iplot(use_vs_have)"
   ]
  },
  {
   "cell_type": "code",
   "execution_count": 46,
   "metadata": {},
   "outputs": [
    {
     "name": "stdout",
     "output_type": "stream",
     "text": [
      "1.90058479532\n",
      "0.620229007634\n",
      "17\n",
      "agri_gard_use_quantity\n",
      "0.0       1\n",
      "1.0      24\n",
      "2.0      27\n",
      "3.0       7\n",
      "4.0       4\n",
      "5.0       5\n",
      "6.0       3\n",
      "8.0       1\n",
      "10.0      4\n",
      "400.0     1\n",
      "dtype: int64\n",
      "agri_gard_use_quantity\n",
      "0.0        2\n",
      "1.0       18\n",
      "2.0       16\n",
      "3.0       10\n",
      "4.0        4\n",
      "5.0        2\n",
      "6.0        1\n",
      "10.0       1\n",
      "30.0       1\n",
      "2100.0     2\n",
      "dtype: int64\n",
      "agri_gard_land_quantity\n",
      "0.0       37\n",
      "1.0       52\n",
      "2.0       54\n",
      "3.0       22\n",
      "4.0       12\n",
      "5.0       14\n",
      "6.0        6\n",
      "7.0        1\n",
      "8.0        1\n",
      "10.0       8\n",
      "50.0       1\n",
      "400.0      1\n",
      "2100.0     3\n",
      "dtype: int64\n",
      "cc_effects_sand_affected_farmlands\n",
      "0.0     139\n",
      "1.0      37\n",
      "2.0      21\n",
      "3.0       5\n",
      "4.0       3\n",
      "5.0       2\n",
      "6.0       3\n",
      "10.0      1\n",
      "40.0      1\n",
      "dtype: int64\n"
     ]
    },
    {
     "data": {
      "text/plain": [
       "agri_gard_training\n",
       "no     203\n",
       "yes      6\n",
       "dtype: int64"
      ]
     },
     "execution_count": 46,
     "metadata": {},
     "output_type": "execute_result"
    }
   ],
   "source": [
    "# Inconsistencies\n",
    "# print agri_set.loc[agri_set.agri_gard_water_harv_farmlands > agri_set.agri_gard_land_quantity]['agri_gard_water_harv_farmlands']\n",
    "# print agri_set.loc[agri_set.agri_gard_water_harv_farmlands > agri_set.agri_gard_land_quantity]['agri_gard_land_quantity']\n",
    "\n",
    "agri_set['perc_rainfed_farmlands'] = agri_set['agri_gard_water_harv_farmlands'] / agri_set['agri_gard_land_quantity']\n",
    "\n",
    "# Estimation to correct the inconsistencies: All feddan have water harvesting access\n",
    "feddans_med_poor = agri_set.loc[agri_set.agri_gard_use_quantity <= 5]['agri_gard_use_quantity'].sum()\n",
    "\n",
    "print feddans_med_poor / agri_set.loc[agri_set.agri_gard_use_quantity <= 5, 'deviceid'].count()\n",
    "print feddans_med_poor / total_surveys\n",
    "\n",
    "#print agri_set.groupby('perc_rainfed_farmlands').size()\n",
    "#print agri_set.groupby('agri_gard_farm_tech').size()\n",
    "#print agri_set.groupby('agri_gard_water_harv_farmlands').size()\n",
    "all_farm_rainfed = agri_set.loc[agri_set['perc_rainfed_farmlands'] == 1].groupby('agri_gard_use_quantity').size()\n",
    "agri_set['agri_gard_water_harv_farmlands'].sum()\n",
    "print agri_set.loc[agri_set.agri_gard_use_quantity > agri_set.agri_gard_land_quantity]['deviceid'].count()\n",
    "print agri_set.loc[agri_set.agri_gard_land_property == 'own'].groupby('agri_gard_use_quantity').size()\n",
    "print agri_set.loc[agri_set.agri_gard_land_property == 'rent'].groupby('agri_gard_use_quantity').size()\n",
    "print agri_set.groupby('agri_gard_land_quantity').size()\n",
    "print agri_set.groupby('cc_effects_sand_affected_farmlands').size()\n",
    "\n",
    "agri_set.groupby('agri_gard_training').size()"
   ]
  },
  {
   "cell_type": "code",
   "execution_count": 47,
   "metadata": {
    "scrolled": false
   },
   "outputs": [
    {
     "name": "stdout",
     "output_type": "stream",
     "text": [
      "agri_gard_use_quantity\n",
      "0.0    11\n",
      "1.0    60\n",
      "2.0    63\n",
      "3.0    18\n",
      "4.0    10\n",
      "5.0     9\n",
      "dtype: int64\n",
      "0.116923076923\n",
      "perc_land_protected\n",
      "0.000000    113\n",
      "0.100000      1\n",
      "0.142857      1\n",
      "0.200000      1\n",
      "0.333333      4\n",
      "0.400000      3\n",
      "0.500000      5\n",
      "0.666667      1\n",
      "0.750000      1\n",
      "1.000000      5\n",
      "inf           2\n",
      "dtype: int64\n",
      "137\n"
     ]
    }
   ],
   "source": [
    "agri_set_med_poor = agri_set.loc[agri_set.agri_gard_use_quantity <= 5].copy()\n",
    "agri_set_med_poor.loc[agri_set_med_poor['agri_gard_protected_farmlands'] > agri_set_med_poor['agri_gard_use_quantity'], 'agri_gard_protected_farmlands'] = agri_set_med_poor['agri_gard_use_quantity']\n",
    "agri_set_med_poor['perc_land_protected'] = agri_set_med_poor.agri_gard_protected_farmlands / agri_set_med_poor.agri_gard_land_quantity\n",
    "print agri_set_med_poor.groupby('agri_gard_use_quantity').size()\n",
    "print agri_set_med_poor['agri_gard_protected_farmlands'].sum() / agri_set_med_poor['agri_gard_use_quantity'].sum()\n",
    "print agri_set_med_poor.groupby('perc_land_protected').size()\n",
    "print agri_set_med_poor.groupby('perc_land_protected').size().sum()"
   ]
  },
  {
   "cell_type": "code",
   "execution_count": 48,
   "metadata": {},
   "outputs": [
    {
     "name": "stdout",
     "output_type": "stream",
     "text": [
      "bean          0.891509\n",
      "fodder        0.056604\n",
      "okra          0.089623\n",
      "onion         0.061321\n",
      "cucumber      0.009434\n",
      "other         0.051887\n",
      "palm          0.084906\n",
      "potato        0.061321\n",
      "tomato        0.018868\n",
      "watermelon    0.014151\n",
      "sorghum       0.207547\n",
      "wheat         0.575472\n",
      "dtype: float64\n"
     ]
    },
    {
     "data": {
      "application/vnd.plotly.v1+json": {
       "data": [
        {
         "marker": {
          "color": "rgb(205,258,205)",
          "line": {
           "color": "rgb(0,192,0)",
           "width": 1.5
          }
         },
         "name": "Livelihoods Strategies",
         "type": "bar",
         "x": [
          "Bean",
          "Fodder",
          "Okra",
          "Onion",
          "Cucumber",
          "Other",
          "Palm",
          "Potato",
          "Tomato",
          "Watermelon",
          "Sorghum",
          "Wheat"
         ],
         "y": [
          0.8915094339622641,
          0.05660377358490566,
          0.08962264150943396,
          0.06132075471698113,
          0.009433962264150943,
          0.05188679245283019,
          0.08490566037735849,
          0.06132075471698113,
          0.018867924528301886,
          0.014150943396226415,
          0.20754716981132076,
          0.5754716981132075
         ]
        }
       ],
       "layout": {
        "annotations": [],
        "title": "Main crops",
        "width": 700,
        "xaxis": {
         "tickangle": -45
        }
       }
      },
      "text/html": [
       "<div id=\"cbec9d51-9c70-4ad0-8843-6bac7e9d75df\" style=\"height: 525px; width: 700px;\" class=\"plotly-graph-div\"></div><script type=\"text/javascript\">require([\"plotly\"], function(Plotly) { window.PLOTLYENV=window.PLOTLYENV || {};window.PLOTLYENV.BASE_URL=\"https://plot.ly\";Plotly.newPlot(\"cbec9d51-9c70-4ad0-8843-6bac7e9d75df\", [{\"y\": [0.8915094339622641, 0.05660377358490566, 0.08962264150943396, 0.06132075471698113, 0.009433962264150943, 0.05188679245283019, 0.08490566037735849, 0.06132075471698113, 0.018867924528301886, 0.014150943396226415, 0.20754716981132076, 0.5754716981132075], \"x\": [\"Bean\", \"Fodder\", \"Okra\", \"Onion\", \"Cucumber\", \"Other\", \"Palm\", \"Potato\", \"Tomato\", \"Watermelon\", \"Sorghum\", \"Wheat\"], \"type\": \"bar\", \"name\": \"Livelihoods Strategies\", \"marker\": {\"color\": \"rgb(205,258,205)\", \"line\": {\"color\": \"rgb(0,192,0)\", \"width\": 1.5}}}], {\"width\": 700, \"annotations\": [], \"xaxis\": {\"tickangle\": -45}, \"title\": \"Main crops\"}, {\"linkText\": \"Export to plot.ly\", \"showLink\": true})});</script>"
      ],
      "text/vnd.plotly.v1+html": [
       "<div id=\"cbec9d51-9c70-4ad0-8843-6bac7e9d75df\" style=\"height: 525px; width: 700px;\" class=\"plotly-graph-div\"></div><script type=\"text/javascript\">require([\"plotly\"], function(Plotly) { window.PLOTLYENV=window.PLOTLYENV || {};window.PLOTLYENV.BASE_URL=\"https://plot.ly\";Plotly.newPlot(\"cbec9d51-9c70-4ad0-8843-6bac7e9d75df\", [{\"y\": [0.8915094339622641, 0.05660377358490566, 0.08962264150943396, 0.06132075471698113, 0.009433962264150943, 0.05188679245283019, 0.08490566037735849, 0.06132075471698113, 0.018867924528301886, 0.014150943396226415, 0.20754716981132076, 0.5754716981132075], \"x\": [\"Bean\", \"Fodder\", \"Okra\", \"Onion\", \"Cucumber\", \"Other\", \"Palm\", \"Potato\", \"Tomato\", \"Watermelon\", \"Sorghum\", \"Wheat\"], \"type\": \"bar\", \"name\": \"Livelihoods Strategies\", \"marker\": {\"color\": \"rgb(205,258,205)\", \"line\": {\"color\": \"rgb(0,192,0)\", \"width\": 1.5}}}], {\"width\": 700, \"annotations\": [], \"xaxis\": {\"tickangle\": -45}, \"title\": \"Main crops\"}, {\"linkText\": \"Export to plot.ly\", \"showLink\": true})});</script>"
      ]
     },
     "metadata": {},
     "output_type": "display_data"
    }
   ],
   "source": [
    "#crop_types = ['sorghum', 'wheat', 'bean', 'palm', 'fodder', 'watermelon', 'potato', 'tomato', 'onion', 'cucumber', 'okra', 'other']\n",
    "\n",
    "types_agri = get_ocurrences(agri_set, 'agri_gard_agri_crops')\n",
    "types_agri = types_agri / agri_set['deviceid'].count()\n",
    "print types_agri\n",
    "\n",
    "crops = {\n",
    "    \"layout\": {\n",
    "        \"title\": \"Main crops\",\n",
    "        \"xaxis\": {\n",
    "            \"tickangle\": -45\n",
    "        },\n",
    "        \"width\": 700,\n",
    "        \"annotations\": []\n",
    "    },\n",
    "    \"data\": [\n",
    "        {\n",
    "            \"x\": map(lambda x: x.capitalize(), types_agri.index.values),\n",
    "            \"y\": types_agri.values,\n",
    "            \"type\": \"bar\",\n",
    "            \"name\": \"Livelihoods Strategies\",\n",
    "            \"marker\": {\n",
    "                \"color\": 'rgb(205,258,205)',\n",
    "                \"line\": {\n",
    "                    \"color\": 'rgb(0,192,0)',\n",
    "                    \"width\": 1.5\n",
    "                }\n",
    "            },\n",
    "        }\n",
    "    ]\n",
    "}\n",
    "\n",
    "iplot(crops)"
   ]
  },
  {
   "cell_type": "code",
   "execution_count": 49,
   "metadata": {},
   "outputs": [
    {
     "data": {
      "application/vnd.plotly.v1+json": {
       "data": [
        {
         "domain": {
          "x": [
           0,
           0.32
          ]
         },
         "labels": [
          "improved",
          "mechanized",
          "traditional",
          "traditional mechanized"
         ],
         "sort": false,
         "type": "pie",
         "values": [
          2,
          43,
          27,
          1
         ]
        },
        {
         "domain": {
          "x": [
           0.34,
           0.64
          ]
         },
         "labels": [
          "improved",
          "mechanized",
          "traditional",
          "traditional mechanized"
         ],
         "sort": false,
         "type": "pie",
         "values": [
          14,
          100,
          95,
          1
         ]
        },
        {
         "domain": {
          "x": [
           0.66,
           0.98
          ]
         },
         "labels": [
          "improved",
          "mechanized",
          "traditional"
         ],
         "sort": false,
         "type": "pie",
         "values": [
          12,
          57,
          68
         ]
        }
       ],
       "layout": {
        "annotations": [
         {
          "font": {
           "size": 14
          },
          "showarrow": false,
          "text": "Female Head of Household",
          "x": 0.04,
          "y": 1
         },
         {
          "font": {
           "size": 14
          },
          "showarrow": false,
          "text": "Global",
          "x": 0.5,
          "y": 1
         },
         {
          "font": {
           "size": 14
          },
          "showarrow": false,
          "text": "Male Head of Household",
          "x": 0.94,
          "y": 1
         }
        ],
        "title": "Farming tools by Head of Household"
       }
      },
      "text/html": [
       "<div id=\"b86a2d95-80eb-4fca-9e45-5dcdbdeca78c\" style=\"height: 525px; width: 100%;\" class=\"plotly-graph-div\"></div><script type=\"text/javascript\">require([\"plotly\"], function(Plotly) { window.PLOTLYENV=window.PLOTLYENV || {};window.PLOTLYENV.BASE_URL=\"https://plot.ly\";Plotly.newPlot(\"b86a2d95-80eb-4fca-9e45-5dcdbdeca78c\", [{\"sort\": false, \"values\": [2, 43, 27, 1], \"domain\": {\"x\": [0, 0.32]}, \"labels\": [\"improved\", \"mechanized\", \"traditional\", \"traditional mechanized\"], \"type\": \"pie\"}, {\"sort\": false, \"values\": [14, 100, 95, 1], \"domain\": {\"x\": [0.34, 0.64]}, \"labels\": [\"improved\", \"mechanized\", \"traditional\", \"traditional mechanized\"], \"type\": \"pie\"}, {\"sort\": false, \"values\": [12, 57, 68], \"domain\": {\"x\": [0.66, 0.98]}, \"labels\": [\"improved\", \"mechanized\", \"traditional\"], \"type\": \"pie\"}], {\"annotations\": [{\"y\": 1, \"text\": \"Female Head of Household\", \"font\": {\"size\": 14}, \"showarrow\": false, \"x\": 0.04}, {\"y\": 1, \"text\": \"Global\", \"font\": {\"size\": 14}, \"showarrow\": false, \"x\": 0.5}, {\"y\": 1, \"text\": \"Male Head of Household\", \"font\": {\"size\": 14}, \"showarrow\": false, \"x\": 0.94}], \"title\": \"Farming tools by Head of Household\"}, {\"linkText\": \"Export to plot.ly\", \"showLink\": true})});</script>"
      ],
      "text/vnd.plotly.v1+html": [
       "<div id=\"b86a2d95-80eb-4fca-9e45-5dcdbdeca78c\" style=\"height: 525px; width: 100%;\" class=\"plotly-graph-div\"></div><script type=\"text/javascript\">require([\"plotly\"], function(Plotly) { window.PLOTLYENV=window.PLOTLYENV || {};window.PLOTLYENV.BASE_URL=\"https://plot.ly\";Plotly.newPlot(\"b86a2d95-80eb-4fca-9e45-5dcdbdeca78c\", [{\"sort\": false, \"values\": [2, 43, 27, 1], \"domain\": {\"x\": [0, 0.32]}, \"labels\": [\"improved\", \"mechanized\", \"traditional\", \"traditional mechanized\"], \"type\": \"pie\"}, {\"sort\": false, \"values\": [14, 100, 95, 1], \"domain\": {\"x\": [0.34, 0.64]}, \"labels\": [\"improved\", \"mechanized\", \"traditional\", \"traditional mechanized\"], \"type\": \"pie\"}, {\"sort\": false, \"values\": [12, 57, 68], \"domain\": {\"x\": [0.66, 0.98]}, \"labels\": [\"improved\", \"mechanized\", \"traditional\"], \"type\": \"pie\"}], {\"annotations\": [{\"y\": 1, \"text\": \"Female Head of Household\", \"font\": {\"size\": 14}, \"showarrow\": false, \"x\": 0.04}, {\"y\": 1, \"text\": \"Global\", \"font\": {\"size\": 14}, \"showarrow\": false, \"x\": 0.5}, {\"y\": 1, \"text\": \"Male Head of Household\", \"font\": {\"size\": 14}, \"showarrow\": false, \"x\": 0.94}], \"title\": \"Farming tools by Head of Household\"}, {\"linkText\": \"Export to plot.ly\", \"showLink\": true})});</script>"
      ]
     },
     "metadata": {},
     "output_type": "display_data"
    },
    {
     "data": {
      "application/vnd.plotly.v1+json": {
       "data": [
        {
         "domain": {
          "x": [
           0,
           0.32
          ]
         },
         "labels": [
          "improved",
          "mechanized",
          "traditional",
          "traditional mechanized"
         ],
         "sort": false,
         "type": "pie",
         "values": [
          10,
          83,
          27,
          1
         ]
        },
        {
         "domain": {
          "x": [
           0.34,
           0.64
          ]
         },
         "labels": [
          "improved",
          "mechanized",
          "traditional",
          "traditional mechanized"
         ],
         "sort": false,
         "type": "pie",
         "values": [
          14,
          100,
          95,
          1
         ]
        },
        {
         "domain": {
          "x": [
           0.66,
           0.98
          ]
         },
         "labels": [
          "improved",
          "mechanized",
          "traditional"
         ],
         "sort": false,
         "type": "pie",
         "values": [
          4,
          17,
          68
         ]
        }
       ],
       "layout": {
        "annotations": [
         {
          "font": {
           "size": 14
          },
          "showarrow": false,
          "text": "Female Respondent",
          "x": 0.07,
          "y": 1
         },
         {
          "font": {
           "size": 14
          },
          "showarrow": false,
          "text": "Global",
          "x": 0.5,
          "y": 1
         },
         {
          "font": {
           "size": 14
          },
          "showarrow": false,
          "text": "Male Respondent",
          "x": 0.91,
          "y": 1
         }
        ],
        "title": "Farming tools by respondent"
       }
      },
      "text/html": [
       "<div id=\"75200fcf-cc3d-466e-a690-7da6ddf0a699\" style=\"height: 525px; width: 100%;\" class=\"plotly-graph-div\"></div><script type=\"text/javascript\">require([\"plotly\"], function(Plotly) { window.PLOTLYENV=window.PLOTLYENV || {};window.PLOTLYENV.BASE_URL=\"https://plot.ly\";Plotly.newPlot(\"75200fcf-cc3d-466e-a690-7da6ddf0a699\", [{\"sort\": false, \"values\": [10, 83, 27, 1], \"domain\": {\"x\": [0, 0.32]}, \"labels\": [\"improved\", \"mechanized\", \"traditional\", \"traditional mechanized\"], \"type\": \"pie\"}, {\"sort\": false, \"values\": [14, 100, 95, 1], \"domain\": {\"x\": [0.34, 0.64]}, \"labels\": [\"improved\", \"mechanized\", \"traditional\", \"traditional mechanized\"], \"type\": \"pie\"}, {\"sort\": false, \"values\": [4, 17, 68], \"domain\": {\"x\": [0.66, 0.98]}, \"labels\": [\"improved\", \"mechanized\", \"traditional\"], \"type\": \"pie\"}], {\"annotations\": [{\"y\": 1, \"text\": \"Female Respondent\", \"font\": {\"size\": 14}, \"showarrow\": false, \"x\": 0.07}, {\"y\": 1, \"text\": \"Global\", \"font\": {\"size\": 14}, \"showarrow\": false, \"x\": 0.5}, {\"y\": 1, \"text\": \"Male Respondent\", \"font\": {\"size\": 14}, \"showarrow\": false, \"x\": 0.91}], \"title\": \"Farming tools by respondent\"}, {\"linkText\": \"Export to plot.ly\", \"showLink\": true})});</script>"
      ],
      "text/vnd.plotly.v1+html": [
       "<div id=\"75200fcf-cc3d-466e-a690-7da6ddf0a699\" style=\"height: 525px; width: 100%;\" class=\"plotly-graph-div\"></div><script type=\"text/javascript\">require([\"plotly\"], function(Plotly) { window.PLOTLYENV=window.PLOTLYENV || {};window.PLOTLYENV.BASE_URL=\"https://plot.ly\";Plotly.newPlot(\"75200fcf-cc3d-466e-a690-7da6ddf0a699\", [{\"sort\": false, \"values\": [10, 83, 27, 1], \"domain\": {\"x\": [0, 0.32]}, \"labels\": [\"improved\", \"mechanized\", \"traditional\", \"traditional mechanized\"], \"type\": \"pie\"}, {\"sort\": false, \"values\": [14, 100, 95, 1], \"domain\": {\"x\": [0.34, 0.64]}, \"labels\": [\"improved\", \"mechanized\", \"traditional\", \"traditional mechanized\"], \"type\": \"pie\"}, {\"sort\": false, \"values\": [4, 17, 68], \"domain\": {\"x\": [0.66, 0.98]}, \"labels\": [\"improved\", \"mechanized\", \"traditional\"], \"type\": \"pie\"}], {\"annotations\": [{\"y\": 1, \"text\": \"Female Respondent\", \"font\": {\"size\": 14}, \"showarrow\": false, \"x\": 0.07}, {\"y\": 1, \"text\": \"Global\", \"font\": {\"size\": 14}, \"showarrow\": false, \"x\": 0.5}, {\"y\": 1, \"text\": \"Male Respondent\", \"font\": {\"size\": 14}, \"showarrow\": false, \"x\": 0.91}], \"title\": \"Farming tools by respondent\"}, {\"linkText\": \"Export to plot.ly\", \"showLink\": true})});</script>"
      ]
     },
     "metadata": {},
     "output_type": "display_data"
    }
   ],
   "source": [
    "farm_tools = reg_survey.groupby('agri_gard_farm_tools').size()\n",
    "farm_tech = reg_survey.groupby('agri_gard_farm_tech').size()\n",
    "seeds = reg_survey.groupby('agri_gard_seeds').size()\n",
    "\n",
    "create_graphs_HoHH(lambda x: x.groupby('agri_gard_farm_tools').size(),\n",
    "                         lambda x: x.values,\n",
    "                         lambda x: x.index.values,\n",
    "                         lambda x: x.sum(),\n",
    "                         \"Farming tools by Head of Household\")\n",
    "\n",
    "create_graphs_respondent(lambda x: x.groupby('agri_gard_farm_tools').size(),\n",
    "                         lambda x: x.values,\n",
    "                         lambda x: x.index.values,\n",
    "                         lambda x: x.sum(),\n",
    "                         \"Farming tools by respondent\")"
   ]
  },
  {
   "cell_type": "code",
   "execution_count": 50,
   "metadata": {},
   "outputs": [
    {
     "data": {
      "application/vnd.plotly.v1+json": {
       "data": [
        {
         "domain": {
          "x": [
           0,
           0.32
          ]
         },
         "labels": [
          "smart",
          "traditional"
         ],
         "sort": false,
         "type": "pie",
         "values": [
          5,
          69
         ]
        },
        {
         "domain": {
          "x": [
           0.34,
           0.64
          ]
         },
         "labels": [
          "smart",
          "traditional"
         ],
         "sort": false,
         "type": "pie",
         "values": [
          6,
          204
         ]
        },
        {
         "domain": {
          "x": [
           0.66,
           0.98
          ]
         },
         "labels": [
          "smart",
          "traditional"
         ],
         "sort": false,
         "type": "pie",
         "values": [
          1,
          135
         ]
        }
       ],
       "layout": {
        "annotations": [
         {
          "font": {
           "size": 14
          },
          "showarrow": false,
          "text": "Female Head of Household",
          "x": 0.04,
          "y": 1
         },
         {
          "font": {
           "size": 14
          },
          "showarrow": false,
          "text": "Global",
          "x": 0.5,
          "y": 1
         },
         {
          "font": {
           "size": 14
          },
          "showarrow": false,
          "text": "Male Head of Household",
          "x": 0.94,
          "y": 1
         }
        ],
        "title": "Farming tools by Head of Household"
       }
      },
      "text/html": [
       "<div id=\"0d1dbc38-c9e5-48c0-9086-b5b142caad47\" style=\"height: 525px; width: 100%;\" class=\"plotly-graph-div\"></div><script type=\"text/javascript\">require([\"plotly\"], function(Plotly) { window.PLOTLYENV=window.PLOTLYENV || {};window.PLOTLYENV.BASE_URL=\"https://plot.ly\";Plotly.newPlot(\"0d1dbc38-c9e5-48c0-9086-b5b142caad47\", [{\"sort\": false, \"values\": [5, 69], \"domain\": {\"x\": [0, 0.32]}, \"labels\": [\"smart\", \"traditional\"], \"type\": \"pie\"}, {\"sort\": false, \"values\": [6, 204], \"domain\": {\"x\": [0.34, 0.64]}, \"labels\": [\"smart\", \"traditional\"], \"type\": \"pie\"}, {\"sort\": false, \"values\": [1, 135], \"domain\": {\"x\": [0.66, 0.98]}, \"labels\": [\"smart\", \"traditional\"], \"type\": \"pie\"}], {\"annotations\": [{\"y\": 1, \"text\": \"Female Head of Household\", \"font\": {\"size\": 14}, \"showarrow\": false, \"x\": 0.04}, {\"y\": 1, \"text\": \"Global\", \"font\": {\"size\": 14}, \"showarrow\": false, \"x\": 0.5}, {\"y\": 1, \"text\": \"Male Head of Household\", \"font\": {\"size\": 14}, \"showarrow\": false, \"x\": 0.94}], \"title\": \"Farming tools by Head of Household\"}, {\"linkText\": \"Export to plot.ly\", \"showLink\": true})});</script>"
      ],
      "text/vnd.plotly.v1+html": [
       "<div id=\"0d1dbc38-c9e5-48c0-9086-b5b142caad47\" style=\"height: 525px; width: 100%;\" class=\"plotly-graph-div\"></div><script type=\"text/javascript\">require([\"plotly\"], function(Plotly) { window.PLOTLYENV=window.PLOTLYENV || {};window.PLOTLYENV.BASE_URL=\"https://plot.ly\";Plotly.newPlot(\"0d1dbc38-c9e5-48c0-9086-b5b142caad47\", [{\"sort\": false, \"values\": [5, 69], \"domain\": {\"x\": [0, 0.32]}, \"labels\": [\"smart\", \"traditional\"], \"type\": \"pie\"}, {\"sort\": false, \"values\": [6, 204], \"domain\": {\"x\": [0.34, 0.64]}, \"labels\": [\"smart\", \"traditional\"], \"type\": \"pie\"}, {\"sort\": false, \"values\": [1, 135], \"domain\": {\"x\": [0.66, 0.98]}, \"labels\": [\"smart\", \"traditional\"], \"type\": \"pie\"}], {\"annotations\": [{\"y\": 1, \"text\": \"Female Head of Household\", \"font\": {\"size\": 14}, \"showarrow\": false, \"x\": 0.04}, {\"y\": 1, \"text\": \"Global\", \"font\": {\"size\": 14}, \"showarrow\": false, \"x\": 0.5}, {\"y\": 1, \"text\": \"Male Head of Household\", \"font\": {\"size\": 14}, \"showarrow\": false, \"x\": 0.94}], \"title\": \"Farming tools by Head of Household\"}, {\"linkText\": \"Export to plot.ly\", \"showLink\": true})});</script>"
      ]
     },
     "metadata": {},
     "output_type": "display_data"
    },
    {
     "data": {
      "application/vnd.plotly.v1+json": {
       "data": [
        {
         "domain": {
          "x": [
           0,
           0.32
          ]
         },
         "labels": [
          "smart",
          "traditional"
         ],
         "sort": false,
         "type": "pie",
         "values": [
          4,
          117
         ]
        },
        {
         "domain": {
          "x": [
           0.34,
           0.64
          ]
         },
         "labels": [
          "smart",
          "traditional"
         ],
         "sort": false,
         "type": "pie",
         "values": [
          6,
          204
         ]
        },
        {
         "domain": {
          "x": [
           0.66,
           0.98
          ]
         },
         "labels": [
          "smart",
          "traditional"
         ],
         "sort": false,
         "type": "pie",
         "values": [
          2,
          87
         ]
        }
       ],
       "layout": {
        "annotations": [
         {
          "font": {
           "size": 14
          },
          "showarrow": false,
          "text": "Female Respondent",
          "x": 0.07,
          "y": 1
         },
         {
          "font": {
           "size": 14
          },
          "showarrow": false,
          "text": "Global",
          "x": 0.5,
          "y": 1
         },
         {
          "font": {
           "size": 14
          },
          "showarrow": false,
          "text": "Male Respondent",
          "x": 0.91,
          "y": 1
         }
        ],
        "title": "Farming tools by respondent"
       }
      },
      "text/html": [
       "<div id=\"165ac7d7-3b3d-4702-94e1-3fe01cf553bc\" style=\"height: 525px; width: 100%;\" class=\"plotly-graph-div\"></div><script type=\"text/javascript\">require([\"plotly\"], function(Plotly) { window.PLOTLYENV=window.PLOTLYENV || {};window.PLOTLYENV.BASE_URL=\"https://plot.ly\";Plotly.newPlot(\"165ac7d7-3b3d-4702-94e1-3fe01cf553bc\", [{\"sort\": false, \"values\": [4, 117], \"domain\": {\"x\": [0, 0.32]}, \"labels\": [\"smart\", \"traditional\"], \"type\": \"pie\"}, {\"sort\": false, \"values\": [6, 204], \"domain\": {\"x\": [0.34, 0.64]}, \"labels\": [\"smart\", \"traditional\"], \"type\": \"pie\"}, {\"sort\": false, \"values\": [2, 87], \"domain\": {\"x\": [0.66, 0.98]}, \"labels\": [\"smart\", \"traditional\"], \"type\": \"pie\"}], {\"annotations\": [{\"y\": 1, \"text\": \"Female Respondent\", \"font\": {\"size\": 14}, \"showarrow\": false, \"x\": 0.07}, {\"y\": 1, \"text\": \"Global\", \"font\": {\"size\": 14}, \"showarrow\": false, \"x\": 0.5}, {\"y\": 1, \"text\": \"Male Respondent\", \"font\": {\"size\": 14}, \"showarrow\": false, \"x\": 0.91}], \"title\": \"Farming tools by respondent\"}, {\"linkText\": \"Export to plot.ly\", \"showLink\": true})});</script>"
      ],
      "text/vnd.plotly.v1+html": [
       "<div id=\"165ac7d7-3b3d-4702-94e1-3fe01cf553bc\" style=\"height: 525px; width: 100%;\" class=\"plotly-graph-div\"></div><script type=\"text/javascript\">require([\"plotly\"], function(Plotly) { window.PLOTLYENV=window.PLOTLYENV || {};window.PLOTLYENV.BASE_URL=\"https://plot.ly\";Plotly.newPlot(\"165ac7d7-3b3d-4702-94e1-3fe01cf553bc\", [{\"sort\": false, \"values\": [4, 117], \"domain\": {\"x\": [0, 0.32]}, \"labels\": [\"smart\", \"traditional\"], \"type\": \"pie\"}, {\"sort\": false, \"values\": [6, 204], \"domain\": {\"x\": [0.34, 0.64]}, \"labels\": [\"smart\", \"traditional\"], \"type\": \"pie\"}, {\"sort\": false, \"values\": [2, 87], \"domain\": {\"x\": [0.66, 0.98]}, \"labels\": [\"smart\", \"traditional\"], \"type\": \"pie\"}], {\"annotations\": [{\"y\": 1, \"text\": \"Female Respondent\", \"font\": {\"size\": 14}, \"showarrow\": false, \"x\": 0.07}, {\"y\": 1, \"text\": \"Global\", \"font\": {\"size\": 14}, \"showarrow\": false, \"x\": 0.5}, {\"y\": 1, \"text\": \"Male Respondent\", \"font\": {\"size\": 14}, \"showarrow\": false, \"x\": 0.91}], \"title\": \"Farming tools by respondent\"}, {\"linkText\": \"Export to plot.ly\", \"showLink\": true})});</script>"
      ]
     },
     "metadata": {},
     "output_type": "display_data"
    }
   ],
   "source": [
    "create_graphs_HoHH(lambda x: x.groupby('agri_gard_farm_tech').size(),\n",
    "                         lambda x: x.values,\n",
    "                         lambda x: x.index.values,\n",
    "                         lambda x: x.sum(),\n",
    "                         \"Farming tools by Head of Household\")\n",
    "\n",
    "create_graphs_respondent(lambda x: x.groupby('agri_gard_farm_tech').size(),\n",
    "                         lambda x: x.values,\n",
    "                         lambda x: x.index.values,\n",
    "                         lambda x: x.sum(),\n",
    "                         \"Farming tools by respondent\")"
   ]
  },
  {
   "cell_type": "code",
   "execution_count": 51,
   "metadata": {
    "scrolled": false
   },
   "outputs": [
    {
     "data": {
      "application/vnd.plotly.v1+json": {
       "data": [
        {
         "domain": {
          "x": [
           0,
           0.32
          ]
         },
         "labels": [
          "improved",
          "local"
         ],
         "sort": false,
         "type": "pie",
         "values": [
          8,
          65
         ]
        },
        {
         "domain": {
          "x": [
           0.34,
           0.64
          ]
         },
         "labels": [
          "improved",
          "local"
         ],
         "sort": false,
         "type": "pie",
         "values": [
          15,
          195
         ]
        },
        {
         "domain": {
          "x": [
           0.66,
           0.98
          ]
         },
         "labels": [
          "improved",
          "local"
         ],
         "sort": false,
         "type": "pie",
         "values": [
          7,
          130
         ]
        }
       ],
       "layout": {
        "annotations": [
         {
          "font": {
           "size": 14
          },
          "showarrow": false,
          "text": "Female Head of Household",
          "x": 0.04,
          "y": 1
         },
         {
          "font": {
           "size": 14
          },
          "showarrow": false,
          "text": "Global",
          "x": 0.5,
          "y": 1
         },
         {
          "font": {
           "size": 14
          },
          "showarrow": false,
          "text": "Male Head of Household",
          "x": 0.94,
          "y": 1
         }
        ],
        "title": "Farming tools by Head of Household"
       }
      },
      "text/html": [
       "<div id=\"c7e4b0aa-4e9d-4322-a5ec-a5325cf256a0\" style=\"height: 525px; width: 100%;\" class=\"plotly-graph-div\"></div><script type=\"text/javascript\">require([\"plotly\"], function(Plotly) { window.PLOTLYENV=window.PLOTLYENV || {};window.PLOTLYENV.BASE_URL=\"https://plot.ly\";Plotly.newPlot(\"c7e4b0aa-4e9d-4322-a5ec-a5325cf256a0\", [{\"sort\": false, \"values\": [8, 65], \"domain\": {\"x\": [0, 0.32]}, \"labels\": [\"improved\", \"local\"], \"type\": \"pie\"}, {\"sort\": false, \"values\": [15, 195], \"domain\": {\"x\": [0.34, 0.64]}, \"labels\": [\"improved\", \"local\"], \"type\": \"pie\"}, {\"sort\": false, \"values\": [7, 130], \"domain\": {\"x\": [0.66, 0.98]}, \"labels\": [\"improved\", \"local\"], \"type\": \"pie\"}], {\"annotations\": [{\"y\": 1, \"text\": \"Female Head of Household\", \"font\": {\"size\": 14}, \"showarrow\": false, \"x\": 0.04}, {\"y\": 1, \"text\": \"Global\", \"font\": {\"size\": 14}, \"showarrow\": false, \"x\": 0.5}, {\"y\": 1, \"text\": \"Male Head of Household\", \"font\": {\"size\": 14}, \"showarrow\": false, \"x\": 0.94}], \"title\": \"Farming tools by Head of Household\"}, {\"linkText\": \"Export to plot.ly\", \"showLink\": true})});</script>"
      ],
      "text/vnd.plotly.v1+html": [
       "<div id=\"c7e4b0aa-4e9d-4322-a5ec-a5325cf256a0\" style=\"height: 525px; width: 100%;\" class=\"plotly-graph-div\"></div><script type=\"text/javascript\">require([\"plotly\"], function(Plotly) { window.PLOTLYENV=window.PLOTLYENV || {};window.PLOTLYENV.BASE_URL=\"https://plot.ly\";Plotly.newPlot(\"c7e4b0aa-4e9d-4322-a5ec-a5325cf256a0\", [{\"sort\": false, \"values\": [8, 65], \"domain\": {\"x\": [0, 0.32]}, \"labels\": [\"improved\", \"local\"], \"type\": \"pie\"}, {\"sort\": false, \"values\": [15, 195], \"domain\": {\"x\": [0.34, 0.64]}, \"labels\": [\"improved\", \"local\"], \"type\": \"pie\"}, {\"sort\": false, \"values\": [7, 130], \"domain\": {\"x\": [0.66, 0.98]}, \"labels\": [\"improved\", \"local\"], \"type\": \"pie\"}], {\"annotations\": [{\"y\": 1, \"text\": \"Female Head of Household\", \"font\": {\"size\": 14}, \"showarrow\": false, \"x\": 0.04}, {\"y\": 1, \"text\": \"Global\", \"font\": {\"size\": 14}, \"showarrow\": false, \"x\": 0.5}, {\"y\": 1, \"text\": \"Male Head of Household\", \"font\": {\"size\": 14}, \"showarrow\": false, \"x\": 0.94}], \"title\": \"Farming tools by Head of Household\"}, {\"linkText\": \"Export to plot.ly\", \"showLink\": true})});</script>"
      ]
     },
     "metadata": {},
     "output_type": "display_data"
    },
    {
     "data": {
      "application/vnd.plotly.v1+json": {
       "data": [
        {
         "domain": {
          "x": [
           0,
           0.32
          ]
         },
         "labels": [
          "improved",
          "local"
         ],
         "sort": false,
         "type": "pie",
         "values": [
          8,
          114
         ]
        },
        {
         "domain": {
          "x": [
           0.34,
           0.64
          ]
         },
         "labels": [
          "improved",
          "local"
         ],
         "sort": false,
         "type": "pie",
         "values": [
          15,
          195
         ]
        },
        {
         "domain": {
          "x": [
           0.66,
           0.98
          ]
         },
         "labels": [
          "improved",
          "local"
         ],
         "sort": false,
         "type": "pie",
         "values": [
          7,
          81
         ]
        }
       ],
       "layout": {
        "annotations": [
         {
          "font": {
           "size": 14
          },
          "showarrow": false,
          "text": "Female Respondent",
          "x": 0.07,
          "y": 1
         },
         {
          "font": {
           "size": 14
          },
          "showarrow": false,
          "text": "Global",
          "x": 0.5,
          "y": 1
         },
         {
          "font": {
           "size": 14
          },
          "showarrow": false,
          "text": "Male Respondent",
          "x": 0.91,
          "y": 1
         }
        ],
        "title": "Farming tools by respondent"
       }
      },
      "text/html": [
       "<div id=\"109d4bdc-86f5-4676-ab0f-35b1324a1c93\" style=\"height: 525px; width: 100%;\" class=\"plotly-graph-div\"></div><script type=\"text/javascript\">require([\"plotly\"], function(Plotly) { window.PLOTLYENV=window.PLOTLYENV || {};window.PLOTLYENV.BASE_URL=\"https://plot.ly\";Plotly.newPlot(\"109d4bdc-86f5-4676-ab0f-35b1324a1c93\", [{\"sort\": false, \"values\": [8, 114], \"domain\": {\"x\": [0, 0.32]}, \"labels\": [\"improved\", \"local\"], \"type\": \"pie\"}, {\"sort\": false, \"values\": [15, 195], \"domain\": {\"x\": [0.34, 0.64]}, \"labels\": [\"improved\", \"local\"], \"type\": \"pie\"}, {\"sort\": false, \"values\": [7, 81], \"domain\": {\"x\": [0.66, 0.98]}, \"labels\": [\"improved\", \"local\"], \"type\": \"pie\"}], {\"annotations\": [{\"y\": 1, \"text\": \"Female Respondent\", \"font\": {\"size\": 14}, \"showarrow\": false, \"x\": 0.07}, {\"y\": 1, \"text\": \"Global\", \"font\": {\"size\": 14}, \"showarrow\": false, \"x\": 0.5}, {\"y\": 1, \"text\": \"Male Respondent\", \"font\": {\"size\": 14}, \"showarrow\": false, \"x\": 0.91}], \"title\": \"Farming tools by respondent\"}, {\"linkText\": \"Export to plot.ly\", \"showLink\": true})});</script>"
      ],
      "text/vnd.plotly.v1+html": [
       "<div id=\"109d4bdc-86f5-4676-ab0f-35b1324a1c93\" style=\"height: 525px; width: 100%;\" class=\"plotly-graph-div\"></div><script type=\"text/javascript\">require([\"plotly\"], function(Plotly) { window.PLOTLYENV=window.PLOTLYENV || {};window.PLOTLYENV.BASE_URL=\"https://plot.ly\";Plotly.newPlot(\"109d4bdc-86f5-4676-ab0f-35b1324a1c93\", [{\"sort\": false, \"values\": [8, 114], \"domain\": {\"x\": [0, 0.32]}, \"labels\": [\"improved\", \"local\"], \"type\": \"pie\"}, {\"sort\": false, \"values\": [15, 195], \"domain\": {\"x\": [0.34, 0.64]}, \"labels\": [\"improved\", \"local\"], \"type\": \"pie\"}, {\"sort\": false, \"values\": [7, 81], \"domain\": {\"x\": [0.66, 0.98]}, \"labels\": [\"improved\", \"local\"], \"type\": \"pie\"}], {\"annotations\": [{\"y\": 1, \"text\": \"Female Respondent\", \"font\": {\"size\": 14}, \"showarrow\": false, \"x\": 0.07}, {\"y\": 1, \"text\": \"Global\", \"font\": {\"size\": 14}, \"showarrow\": false, \"x\": 0.5}, {\"y\": 1, \"text\": \"Male Respondent\", \"font\": {\"size\": 14}, \"showarrow\": false, \"x\": 0.91}], \"title\": \"Farming tools by respondent\"}, {\"linkText\": \"Export to plot.ly\", \"showLink\": true})});</script>"
      ]
     },
     "metadata": {},
     "output_type": "display_data"
    }
   ],
   "source": [
    "create_graphs_HoHH(lambda x: x.groupby('agri_gard_seeds').size(),\n",
    "                         lambda x: x.values,\n",
    "                         lambda x: x.index.values,\n",
    "                         lambda x: x.sum(),\n",
    "                         \"Farming tools by Head of Household\")\n",
    "\n",
    "create_graphs_respondent(lambda x: x.groupby('agri_gard_seeds').size(),\n",
    "                         lambda x: x.values,\n",
    "                         lambda x: x.index.values,\n",
    "                         lambda x: x.sum(),\n",
    "                         \"Farming tools by respondent\")"
   ]
  },
  {
   "cell_type": "code",
   "execution_count": 52,
   "metadata": {},
   "outputs": [
    {
     "name": "stdout",
     "output_type": "stream",
     "text": [
      "bean          189\n",
      "fodder         12\n",
      "okra           19\n",
      "onion          13\n",
      "cucumber        2\n",
      "other          11\n",
      "palm           18\n",
      "potato         13\n",
      "tomato          4\n",
      "watermelon      3\n",
      "sorghum        44\n",
      "wheat         122\n",
      "dtype: int64\n"
     ]
    }
   ],
   "source": [
    "crops = get_ocurrences(agri_set, 'agri_gard_agri_crops')\n",
    "print crops"
   ]
  },
  {
   "cell_type": "markdown",
   "metadata": {},
   "source": [
    "### Forestry (charcoal production)"
   ]
  },
  {
   "cell_type": "code",
   "execution_count": 53,
   "metadata": {},
   "outputs": [
    {
     "name": "stdout",
     "output_type": "stream",
     "text": [
      "forestry_forestry_type\n",
      "charcoal fuelwood    1\n",
      "dtype: int64\n",
      "charcoal    1\n",
      "fuelwood    1\n",
      "dtype: int64\n",
      "forestry_participants\n",
      "men    1\n",
      "dtype: int64\n",
      "forestry_land_property\n",
      "community    1\n",
      "dtype: int64\n"
     ]
    }
   ],
   "source": [
    "forestry_set = reg_survey.loc[reg_survey['src_incomes'].str.contains(\"forestry\")]\n",
    "print forestry_set.groupby('forestry_forestry_type').size()\n",
    "print get_ocurrences(forestry_set, 'forestry_forestry_type')\n",
    "forestry_participants =  forestry_set.groupby('forestry_participants').size()\n",
    "#forestry_set.loc[forestry_set['forestry_participants'].str.contains('women')][['forestry_participants', 'respondant_gender', 'respondant_age', 'respondant_head_hh', 'male_teenager', 'male_adult', 'male_elderly', 'labour_sector']]\n",
    "forestry_land_property = forestry_set.groupby('forestry_land_property').size()\n",
    "\n",
    "print forestry_participants\n",
    "print forestry_land_property"
   ]
  },
  {
   "cell_type": "code",
   "execution_count": 54,
   "metadata": {},
   "outputs": [
    {
     "data": {
      "application/vnd.plotly.v1+json": {
       "data": [
        {
         "domain": {
          "x": [
           0.07,
           0.43
          ]
         },
         "labels": [
          "no",
          "yes"
         ],
         "sort": false,
         "type": "pie",
         "values": [
          203,
          6
         ]
        },
        {
         "domain": {
          "x": [
           0.57,
           0.93
          ]
         },
         "labels": [
          "no",
          "yes"
         ],
         "sort": false,
         "type": "pie",
         "values": [
          158,
          16
         ]
        }
       ],
       "layout": {
        "annotations": [
         {
          "font": {
           "size": 14
          },
          "showarrow": false,
          "text": "Farmers",
          "x": 0.2,
          "y": 1.1
         },
         {
          "font": {
           "size": 14
          },
          "showarrow": false,
          "text": "Laborers",
          "x": 0.8,
          "y": 1.1
         }
        ],
        "title": "Population who has received training in their livelihoods strategies"
       }
      },
      "text/html": [
       "<div id=\"5c6d1a56-377a-4bba-a374-9daf6c4c901d\" style=\"height: 525px; width: 100%;\" class=\"plotly-graph-div\"></div><script type=\"text/javascript\">require([\"plotly\"], function(Plotly) { window.PLOTLYENV=window.PLOTLYENV || {};window.PLOTLYENV.BASE_URL=\"https://plot.ly\";Plotly.newPlot(\"5c6d1a56-377a-4bba-a374-9daf6c4c901d\", [{\"sort\": false, \"values\": [203, 6], \"domain\": {\"x\": [0.07, 0.43]}, \"labels\": [\"no\", \"yes\"], \"type\": \"pie\"}, {\"sort\": false, \"values\": [158, 16], \"domain\": {\"x\": [0.57, 0.93]}, \"labels\": [\"no\", \"yes\"], \"type\": \"pie\"}], {\"annotations\": [{\"y\": 1.1, \"text\": \"Farmers\", \"font\": {\"size\": 14}, \"showarrow\": false, \"x\": 0.2}, {\"y\": 1.1, \"text\": \"Laborers\", \"font\": {\"size\": 14}, \"showarrow\": false, \"x\": 0.8}], \"title\": \"Population who has received training in their livelihoods strategies\"}, {\"linkText\": \"Export to plot.ly\", \"showLink\": true})});</script>"
      ],
      "text/vnd.plotly.v1+html": [
       "<div id=\"5c6d1a56-377a-4bba-a374-9daf6c4c901d\" style=\"height: 525px; width: 100%;\" class=\"plotly-graph-div\"></div><script type=\"text/javascript\">require([\"plotly\"], function(Plotly) { window.PLOTLYENV=window.PLOTLYENV || {};window.PLOTLYENV.BASE_URL=\"https://plot.ly\";Plotly.newPlot(\"5c6d1a56-377a-4bba-a374-9daf6c4c901d\", [{\"sort\": false, \"values\": [203, 6], \"domain\": {\"x\": [0.07, 0.43]}, \"labels\": [\"no\", \"yes\"], \"type\": \"pie\"}, {\"sort\": false, \"values\": [158, 16], \"domain\": {\"x\": [0.57, 0.93]}, \"labels\": [\"no\", \"yes\"], \"type\": \"pie\"}], {\"annotations\": [{\"y\": 1.1, \"text\": \"Farmers\", \"font\": {\"size\": 14}, \"showarrow\": false, \"x\": 0.2}, {\"y\": 1.1, \"text\": \"Laborers\", \"font\": {\"size\": 14}, \"showarrow\": false, \"x\": 0.8}], \"title\": \"Population who has received training in their livelihoods strategies\"}, {\"linkText\": \"Export to plot.ly\", \"showLink\": true})});</script>"
      ]
     },
     "metadata": {},
     "output_type": "display_data"
    }
   ],
   "source": [
    "def create_2pie_graph(serie1, serie2, title, title1, title2):\n",
    "    fig = {\n",
    "        \"layout\": {\n",
    "            \"title\": title,\n",
    "            \"annotations\": [\n",
    "                {\n",
    "                    \"font\": {\n",
    "                        \"size\": 14\n",
    "                    },\n",
    "                    \"showarrow\": False,\n",
    "                    \"text\": title1,\n",
    "                    \"x\": .20,\n",
    "                    \"y\": 1.1\n",
    "                },\n",
    "                {\n",
    "                    \"font\": {\n",
    "                        \"size\": 14\n",
    "                    },\n",
    "                    \"showarrow\": False,\n",
    "                    #\"text\": title2 + \" (\" + str(sum_func(data_global)) + \")\",\n",
    "                    \"text\": title2,\n",
    "                    \"x\": .8,\n",
    "                    \"y\": 1.1 \n",
    "                }\n",
    "            ]\n",
    "        },\n",
    "        \"data\": [\n",
    "            {\n",
    "                \"values\": serie1.values,\n",
    "                \"labels\": serie1.index.values,\n",
    "                \"type\": \"pie\",\n",
    "                \"sort\": False,\n",
    "                \"domain\": {\n",
    "                    \"x\": [.07, .43]\n",
    "                },\n",
    "            },\n",
    "            {\n",
    "                \"values\": serie2.values,\n",
    "                \"labels\": serie2.index.values,\n",
    "                \"type\": \"pie\",\n",
    "                \"sort\": False,\n",
    "                \"domain\": {\n",
    "                    \"x\": [.57, .93]\n",
    "                },\n",
    "            }\n",
    "        ]\n",
    "    }\n",
    "\n",
    "    iplot(fig)\n",
    "    \n",
    "create_2pie_graph(agri_set.groupby('agri_gard_training').size(), labour_set.groupby('labour_training').size(), \"Population who has received training in their livelihoods strategies\", \"Farmers\", \"Laborers\")"
   ]
  },
  {
   "cell_type": "markdown",
   "metadata": {},
   "source": [
    "### Other"
   ]
  },
  {
   "cell_type": "code",
   "execution_count": 55,
   "metadata": {},
   "outputs": [
    {
     "data": {
      "text/plain": [
       "other_training\n",
       "no     89\n",
       "yes    10\n",
       "dtype: int64"
      ]
     },
     "execution_count": 55,
     "metadata": {},
     "output_type": "execute_result"
    }
   ],
   "source": [
    "other_set = reg_survey.loc[reg_survey['src_incomes'].str.contains(\"other\")]\n",
    "other_set.groupby('other_training').size()\n"
   ]
  },
  {
   "cell_type": "markdown",
   "metadata": {},
   "source": [
    "### Coping strategies"
   ]
  },
  {
   "cell_type": "code",
   "execution_count": 56,
   "metadata": {},
   "outputs": [
    {
     "data": {
      "application/vnd.plotly.v1+json": {
       "data": [
        {
         "marker": {
          "color": "rgb(205,205,258)",
          "line": {
           "color": "rgb(0,0,192)",
           "width": 1.5
          }
         },
         "name": "Livelihoods Strategies",
         "type": "bar",
         "x": [
          "Labour_market",
          "Other",
          "Reduce_food",
          "Sell_assets",
          "Temp_migration"
         ],
         "y": [
          30.34351145038168,
          12.404580152671755,
          2.6717557251908395,
          13.740458015267176,
          17.748091603053435
         ]
        }
       ],
       "layout": {
        "annotations": [],
        "title": "Coping Strategies",
        "width": 700,
        "xaxis": {
         "tickangle": -45
        },
        "yaxis": {
         "ticksuffix": "%"
        }
       }
      },
      "text/html": [
       "<div id=\"ff4c60e9-8c74-41f6-899e-9cb0d8463cd1\" style=\"height: 525px; width: 700px;\" class=\"plotly-graph-div\"></div><script type=\"text/javascript\">require([\"plotly\"], function(Plotly) { window.PLOTLYENV=window.PLOTLYENV || {};window.PLOTLYENV.BASE_URL=\"https://plot.ly\";Plotly.newPlot(\"ff4c60e9-8c74-41f6-899e-9cb0d8463cd1\", [{\"y\": [30.34351145038168, 12.404580152671755, 2.6717557251908395, 13.740458015267176, 17.748091603053435], \"x\": [\"Labour_market\", \"Other\", \"Reduce_food\", \"Sell_assets\", \"Temp_migration\"], \"type\": \"bar\", \"name\": \"Livelihoods Strategies\", \"marker\": {\"color\": \"rgb(205,205,258)\", \"line\": {\"color\": \"rgb(0,0,192)\", \"width\": 1.5}}}], {\"width\": 700, \"title\": \"Coping Strategies\", \"annotations\": [], \"xaxis\": {\"tickangle\": -45}, \"yaxis\": {\"ticksuffix\": \"%\"}}, {\"linkText\": \"Export to plot.ly\", \"showLink\": true})});</script>"
      ],
      "text/vnd.plotly.v1+html": [
       "<div id=\"ff4c60e9-8c74-41f6-899e-9cb0d8463cd1\" style=\"height: 525px; width: 700px;\" class=\"plotly-graph-div\"></div><script type=\"text/javascript\">require([\"plotly\"], function(Plotly) { window.PLOTLYENV=window.PLOTLYENV || {};window.PLOTLYENV.BASE_URL=\"https://plot.ly\";Plotly.newPlot(\"ff4c60e9-8c74-41f6-899e-9cb0d8463cd1\", [{\"y\": [30.34351145038168, 12.404580152671755, 2.6717557251908395, 13.740458015267176, 17.748091603053435], \"x\": [\"Labour_market\", \"Other\", \"Reduce_food\", \"Sell_assets\", \"Temp_migration\"], \"type\": \"bar\", \"name\": \"Livelihoods Strategies\", \"marker\": {\"color\": \"rgb(205,205,258)\", \"line\": {\"color\": \"rgb(0,0,192)\", \"width\": 1.5}}}], {\"width\": 700, \"title\": \"Coping Strategies\", \"annotations\": [], \"xaxis\": {\"tickangle\": -45}, \"yaxis\": {\"ticksuffix\": \"%\"}}, {\"linkText\": \"Export to plot.ly\", \"showLink\": true})});</script>"
      ]
     },
     "metadata": {},
     "output_type": "display_data"
    }
   ],
   "source": [
    "cop_strats = get_ocurrences(reg_survey, 'coping_strat')\n",
    "cop_strats = cop_strats * 100 / total_surveys\n",
    "\n",
    "fig_cop_strats = {\n",
    "    \"layout\": {\n",
    "        \"title\": \"Coping Strategies\",\n",
    "        \"xaxis\": {\n",
    "            \"tickangle\": -45\n",
    "        },\n",
    "        \"yaxis\": {\n",
    "            \"ticksuffix\": \"%\"\n",
    "        },\n",
    "        \"width\": 700,\n",
    "        \"annotations\": []\n",
    "    },\n",
    "    \"data\": [\n",
    "        {\n",
    "            \"x\": map(lambda x: x.capitalize(), cop_strats.index.values),\n",
    "            \"y\": cop_strats.values,\n",
    "            \"type\": \"bar\",\n",
    "            \"name\": \"Livelihoods Strategies\",\n",
    "            \"marker\": {\n",
    "                \"color\": 'rgb(205,205,258)',\n",
    "                \"line\": {\n",
    "                    \"color\": 'rgb(0,0,192)',\n",
    "                    \"width\": 1.5\n",
    "                }\n",
    "            },\n",
    "        }\n",
    "    ]\n",
    "}\n",
    "\n",
    "iplot(fig_cop_strats)"
   ]
  },
  {
   "cell_type": "markdown",
   "metadata": {},
   "source": [
    "## Climate change effects"
   ]
  },
  {
   "cell_type": "code",
   "execution_count": 57,
   "metadata": {},
   "outputs": [
    {
     "name": "stdout",
     "output_type": "stream",
     "text": [
      "decreased         325\n",
      "season_changed     45\n",
      "unsteady          134\n",
      "increased          49\n",
      "no_changes         14\n",
      "unpredictable       1\n",
      "dtype: int64\n"
     ]
    }
   ],
   "source": [
    "cc_effects_on_rain = get_ocurrences(reg_survey, 'changed_rainy_season')\n",
    "\n",
    "print cc_effects_on_rain"
   ]
  },
  {
   "cell_type": "code",
   "execution_count": 58,
   "metadata": {},
   "outputs": [
    {
     "name": "stdout",
     "output_type": "stream",
     "text": [
      "less_windy        22\n",
      "more_windy       482\n",
      "no_changes        15\n",
      "unpredictable      5\n",
      "dtype: int64\n",
      "sand_movements\n",
      "less_windy                22\n",
      "more_windy               481\n",
      "no_changes                14\n",
      "no_changes more_windy      1\n",
      "unpredictable              5\n",
      "dtype: int64\n"
     ]
    },
    {
     "data": {
      "application/vnd.plotly.v1+json": {
       "data": [
        {
         "domain": {
          "x": [
           0,
           0.32
          ]
         },
         "labels": [
          "less_windy",
          "more_windy",
          "no_changes",
          "unpredictable"
         ],
         "sort": false,
         "type": "pie",
         "values": [
          17,
          312,
          11,
          4
         ]
        },
        {
         "domain": {
          "x": [
           0.34,
           0.64
          ]
         },
         "labels": [
          "less_windy",
          "more_windy",
          "no_changes",
          "no_changes more_windy",
          "unpredictable"
         ],
         "sort": false,
         "type": "pie",
         "values": [
          22,
          481,
          14,
          1,
          5
         ]
        },
        {
         "domain": {
          "x": [
           0.66,
           0.98
          ]
         },
         "labels": [
          "less_windy",
          "more_windy",
          "no_changes",
          "no_changes more_windy",
          "unpredictable"
         ],
         "sort": false,
         "type": "pie",
         "values": [
          5,
          169,
          3,
          1,
          1
         ]
        }
       ],
       "layout": {
        "annotations": [
         {
          "font": {
           "size": 14
          },
          "showarrow": false,
          "text": "Female Respondent",
          "x": 0.07,
          "y": 1
         },
         {
          "font": {
           "size": 14
          },
          "showarrow": false,
          "text": "Global",
          "x": 0.5,
          "y": 1
         },
         {
          "font": {
           "size": 14
          },
          "showarrow": false,
          "text": "Male Respondent",
          "x": 0.91,
          "y": 1
         }
        ],
        "title": "Respondents asked about wind changes in las ten years"
       }
      },
      "text/html": [
       "<div id=\"5cc48f6e-7733-4498-bb23-cd7152240a97\" style=\"height: 525px; width: 100%;\" class=\"plotly-graph-div\"></div><script type=\"text/javascript\">require([\"plotly\"], function(Plotly) { window.PLOTLYENV=window.PLOTLYENV || {};window.PLOTLYENV.BASE_URL=\"https://plot.ly\";Plotly.newPlot(\"5cc48f6e-7733-4498-bb23-cd7152240a97\", [{\"sort\": false, \"values\": [17, 312, 11, 4], \"domain\": {\"x\": [0, 0.32]}, \"labels\": [\"less_windy\", \"more_windy\", \"no_changes\", \"unpredictable\"], \"type\": \"pie\"}, {\"sort\": false, \"values\": [22, 481, 14, 1, 5], \"domain\": {\"x\": [0.34, 0.64]}, \"labels\": [\"less_windy\", \"more_windy\", \"no_changes\", \"no_changes more_windy\", \"unpredictable\"], \"type\": \"pie\"}, {\"sort\": false, \"values\": [5, 169, 3, 1, 1], \"domain\": {\"x\": [0.66, 0.98]}, \"labels\": [\"less_windy\", \"more_windy\", \"no_changes\", \"no_changes more_windy\", \"unpredictable\"], \"type\": \"pie\"}], {\"annotations\": [{\"y\": 1, \"text\": \"Female Respondent\", \"font\": {\"size\": 14}, \"showarrow\": false, \"x\": 0.07}, {\"y\": 1, \"text\": \"Global\", \"font\": {\"size\": 14}, \"showarrow\": false, \"x\": 0.5}, {\"y\": 1, \"text\": \"Male Respondent\", \"font\": {\"size\": 14}, \"showarrow\": false, \"x\": 0.91}], \"title\": \"Respondents asked about wind changes in las ten years\"}, {\"linkText\": \"Export to plot.ly\", \"showLink\": true})});</script>"
      ],
      "text/vnd.plotly.v1+html": [
       "<div id=\"5cc48f6e-7733-4498-bb23-cd7152240a97\" style=\"height: 525px; width: 100%;\" class=\"plotly-graph-div\"></div><script type=\"text/javascript\">require([\"plotly\"], function(Plotly) { window.PLOTLYENV=window.PLOTLYENV || {};window.PLOTLYENV.BASE_URL=\"https://plot.ly\";Plotly.newPlot(\"5cc48f6e-7733-4498-bb23-cd7152240a97\", [{\"sort\": false, \"values\": [17, 312, 11, 4], \"domain\": {\"x\": [0, 0.32]}, \"labels\": [\"less_windy\", \"more_windy\", \"no_changes\", \"unpredictable\"], \"type\": \"pie\"}, {\"sort\": false, \"values\": [22, 481, 14, 1, 5], \"domain\": {\"x\": [0.34, 0.64]}, \"labels\": [\"less_windy\", \"more_windy\", \"no_changes\", \"no_changes more_windy\", \"unpredictable\"], \"type\": \"pie\"}, {\"sort\": false, \"values\": [5, 169, 3, 1, 1], \"domain\": {\"x\": [0.66, 0.98]}, \"labels\": [\"less_windy\", \"more_windy\", \"no_changes\", \"no_changes more_windy\", \"unpredictable\"], \"type\": \"pie\"}], {\"annotations\": [{\"y\": 1, \"text\": \"Female Respondent\", \"font\": {\"size\": 14}, \"showarrow\": false, \"x\": 0.07}, {\"y\": 1, \"text\": \"Global\", \"font\": {\"size\": 14}, \"showarrow\": false, \"x\": 0.5}, {\"y\": 1, \"text\": \"Male Respondent\", \"font\": {\"size\": 14}, \"showarrow\": false, \"x\": 0.91}], \"title\": \"Respondents asked about wind changes in las ten years\"}, {\"linkText\": \"Export to plot.ly\", \"showLink\": true})});</script>"
      ]
     },
     "metadata": {},
     "output_type": "display_data"
    }
   ],
   "source": [
    "sand_mov_sums = reg_survey.groupby('sand_movements').size()\n",
    "wind_changes = get_ocurrences(reg_survey, 'sand_movements')\n",
    "\n",
    "print wind_changes\n",
    "print sand_mov_sums\n",
    "\n",
    "create_graphs_respondent(lambda x: x.groupby('sand_movements').size(),\n",
    "                         lambda x: x.values,\n",
    "                         lambda x: x.index.values,\n",
    "                         lambda x: x.sum(),\n",
    "                         \"Respondents asked about wind changes in las ten years\")"
   ]
  },
  {
   "cell_type": "code",
   "execution_count": 59,
   "metadata": {},
   "outputs": [
    {
     "name": "stdout",
     "output_type": "stream",
     "text": [
      "0.292307692308\n",
      "perc_land_affected\n",
      "0.000000    98\n",
      "0.200000     4\n",
      "0.250000     1\n",
      "0.285714     1\n",
      "0.333333     7\n",
      "0.400000     2\n",
      "0.500000    11\n",
      "0.666667     5\n",
      "0.750000     1\n",
      "1.000000    17\n",
      "inf         10\n",
      "dtype: int64\n",
      "157\n"
     ]
    }
   ],
   "source": [
    "agri_set_med_poor.loc[agri_set_med_poor['cc_effects_sand_affected_farmlands'] > agri_set_med_poor['agri_gard_use_quantity'], 'cc_effects_sand_affected_farmlands'] = agri_set_med_poor['agri_gard_use_quantity']\n",
    "agri_set_med_poor['perc_land_affected'] = agri_set_med_poor.cc_effects_sand_affected_farmlands / agri_set_med_poor.agri_gard_land_quantity\n",
    "print agri_set_med_poor['cc_effects_sand_affected_farmlands'].sum() / agri_set_med_poor['agri_gard_use_quantity'].sum()\n",
    "print agri_set_med_poor.groupby('perc_land_affected').size()\n",
    "print agri_set_med_poor.groupby('perc_land_affected').size().sum()"
   ]
  },
  {
   "cell_type": "code",
   "execution_count": 60,
   "metadata": {},
   "outputs": [
    {
     "name": "stdout",
     "output_type": "stream",
     "text": [
      "decreased         50\n",
      "unsteady         207\n",
      "increased        267\n",
      "no_changes         1\n",
      "unpredictable      2\n",
      "dtype: int64\n"
     ]
    }
   ],
   "source": [
    "temps_changes = get_ocurrences(reg_survey, 'temps_change')\n",
    "\n",
    "print temps_changes"
   ]
  },
  {
   "cell_type": "code",
   "execution_count": 61,
   "metadata": {},
   "outputs": [
    {
     "data": {
      "application/vnd.plotly.v1+json": {
       "data": [
        {
         "marker": {
          "color": "rgb(25,158,25,0.6)",
          "line": {
           "color": "rgb(0,70,0)",
           "width": 1.5
          }
         },
         "type": "bar",
         "x": [
          "Increased",
          "Decreased",
          "Unsteady",
          "Unpredictable",
          "No_changes"
         ],
         "y": [
          59.68,
          19.35,
          6.45,
          1.61,
          1.61
         ]
        }
       ],
       "layout": {
        "annotations": [
         {
          "font": {
           "color": "rgba(0, 100, 0, 1)",
           "family": "Arial",
           "size": 14
          },
          "showarrow": false,
          "text": "59.68%",
          "x": "Increased",
          "y": 61.38
         },
         {
          "font": {
           "color": "rgba(0, 100, 0, 1)",
           "family": "Arial",
           "size": 14
          },
          "showarrow": false,
          "text": "19.35%",
          "x": "Decreased",
          "y": 21.05
         },
         {
          "font": {
           "color": "rgba(0, 100, 0, 1)",
           "family": "Arial",
           "size": 14
          },
          "showarrow": false,
          "text": "6.45%",
          "x": "Unsteady",
          "y": 8.15
         },
         {
          "font": {
           "color": "rgba(0, 100, 0, 1)",
           "family": "Arial",
           "size": 14
          },
          "showarrow": false,
          "text": "1.61%",
          "x": "Unpredictable",
          "y": 3.31
         },
         {
          "font": {
           "color": "rgba(0, 100, 0, 1)",
           "family": "Arial",
           "size": 14
          },
          "showarrow": false,
          "text": "1.61%",
          "x": "No_changes",
          "y": 3.31
         }
        ],
        "title": "Prueba",
        "width": 700,
        "xaxis": {
         "tickangle": -45
        }
       }
      },
      "text/html": [
       "<div id=\"119539b4-a8bc-4140-b582-591b57bb0bca\" style=\"height: 525px; width: 700px;\" class=\"plotly-graph-div\"></div><script type=\"text/javascript\">require([\"plotly\"], function(Plotly) { window.PLOTLYENV=window.PLOTLYENV || {};window.PLOTLYENV.BASE_URL=\"https://plot.ly\";Plotly.newPlot(\"119539b4-a8bc-4140-b582-591b57bb0bca\", [{\"y\": [59.68, 19.35, 6.45, 1.61, 1.61], \"x\": [\"Increased\", \"Decreased\", \"Unsteady\", \"Unpredictable\", \"No_changes\"], \"type\": \"bar\", \"marker\": {\"color\": \"rgb(25,158,25,0.6)\", \"line\": {\"color\": \"rgb(0,70,0)\", \"width\": 1.5}}}], {\"width\": 700, \"annotations\": [{\"y\": 61.38, \"x\": \"Increased\", \"font\": {\"color\": \"rgba(0, 100, 0, 1)\", \"family\": \"Arial\", \"size\": 14}, \"text\": \"59.68%\", \"showarrow\": false}, {\"y\": 21.05, \"x\": \"Decreased\", \"font\": {\"color\": \"rgba(0, 100, 0, 1)\", \"family\": \"Arial\", \"size\": 14}, \"text\": \"19.35%\", \"showarrow\": false}, {\"y\": 8.15, \"x\": \"Unsteady\", \"font\": {\"color\": \"rgba(0, 100, 0, 1)\", \"family\": \"Arial\", \"size\": 14}, \"text\": \"6.45%\", \"showarrow\": false}, {\"y\": 3.31, \"x\": \"Unpredictable\", \"font\": {\"color\": \"rgba(0, 100, 0, 1)\", \"family\": \"Arial\", \"size\": 14}, \"text\": \"1.61%\", \"showarrow\": false}, {\"y\": 3.31, \"x\": \"No_changes\", \"font\": {\"color\": \"rgba(0, 100, 0, 1)\", \"family\": \"Arial\", \"size\": 14}, \"text\": \"1.61%\", \"showarrow\": false}], \"xaxis\": {\"tickangle\": -45}, \"title\": \"Prueba\"}, {\"linkText\": \"Export to plot.ly\", \"showLink\": true})});</script>"
      ],
      "text/vnd.plotly.v1+html": [
       "<div id=\"119539b4-a8bc-4140-b582-591b57bb0bca\" style=\"height: 525px; width: 700px;\" class=\"plotly-graph-div\"></div><script type=\"text/javascript\">require([\"plotly\"], function(Plotly) { window.PLOTLYENV=window.PLOTLYENV || {};window.PLOTLYENV.BASE_URL=\"https://plot.ly\";Plotly.newPlot(\"119539b4-a8bc-4140-b582-591b57bb0bca\", [{\"y\": [59.68, 19.35, 6.45, 1.61, 1.61], \"x\": [\"Increased\", \"Decreased\", \"Unsteady\", \"Unpredictable\", \"No_changes\"], \"type\": \"bar\", \"marker\": {\"color\": \"rgb(25,158,25,0.6)\", \"line\": {\"color\": \"rgb(0,70,0)\", \"width\": 1.5}}}], {\"width\": 700, \"annotations\": [{\"y\": 61.38, \"x\": \"Increased\", \"font\": {\"color\": \"rgba(0, 100, 0, 1)\", \"family\": \"Arial\", \"size\": 14}, \"text\": \"59.68%\", \"showarrow\": false}, {\"y\": 21.05, \"x\": \"Decreased\", \"font\": {\"color\": \"rgba(0, 100, 0, 1)\", \"family\": \"Arial\", \"size\": 14}, \"text\": \"19.35%\", \"showarrow\": false}, {\"y\": 8.15, \"x\": \"Unsteady\", \"font\": {\"color\": \"rgba(0, 100, 0, 1)\", \"family\": \"Arial\", \"size\": 14}, \"text\": \"6.45%\", \"showarrow\": false}, {\"y\": 3.31, \"x\": \"Unpredictable\", \"font\": {\"color\": \"rgba(0, 100, 0, 1)\", \"family\": \"Arial\", \"size\": 14}, \"text\": \"1.61%\", \"showarrow\": false}, {\"y\": 3.31, \"x\": \"No_changes\", \"font\": {\"color\": \"rgba(0, 100, 0, 1)\", \"family\": \"Arial\", \"size\": 14}, \"text\": \"1.61%\", \"showarrow\": false}], \"xaxis\": {\"tickangle\": -45}, \"title\": \"Prueba\"}, {\"linkText\": \"Export to plot.ly\", \"showLink\": true})});</script>"
      ]
     },
     "metadata": {},
     "output_type": "display_data"
    }
   ],
   "source": [
    "def perc_ocurrences(survey, column, title, color = 'red'):\n",
    "    marker_color = 'rgb(258,225,225)'\n",
    "    line_color = 'rgb(192,0,0)'\n",
    "    if (color == 'green'):\n",
    "        marker_color = 'rgb(25,158,25,0.6)'\n",
    "        line_color = 'rgb(0,70,0)'\n",
    "    \n",
    "    ocurrences = get_ocurrences(survey, column).sort_values(ascending = False)\n",
    "    ocur_perc = 100*ocurrences/survey['deviceid'].size\n",
    "    ocur_perc = ocur_perc.round(2)\n",
    "    fig = {\n",
    "        \"layout\": {\n",
    "            \"title\": title,\n",
    "            \"xaxis\": {\n",
    "                \"tickangle\": -45\n",
    "            },\n",
    "            \"width\": 700,\n",
    "            \"annotations\": []\n",
    "        },\n",
    "        \"data\": [\n",
    "            {\n",
    "                \"x\": map(lambda x: x.capitalize(), ocur_perc.index.values),\n",
    "                \"y\": ocur_perc.values,\n",
    "                \"type\": \"bar\",\n",
    "                \"marker\": {\n",
    "                    \"color\": marker_color,\n",
    "                    \"line\": {\n",
    "                        \"color\": line_color,\n",
    "                        \"width\": 1.5\n",
    "                    }\n",
    "                },\n",
    "            }\n",
    "        ]\n",
    "    }\n",
    "    \n",
    "    \n",
    "    for i in range(0, len(ocurrences)):\n",
    "        fig[\"layout\"][\"annotations\"].append(\n",
    "            {\n",
    "                \"x\": map(lambda x: x.capitalize(), ocur_perc.index.values)[i],\n",
    "                \"y\": ocur_perc.values[i] + 1.7,\n",
    "                \"text\": str(ocur_perc.values[i]) + \"%\",\n",
    "                \"font\": dict(\n",
    "                    family='Arial',\n",
    "                    size=14,\n",
    "                    color='rgba(0, 100, 0, 1)'\n",
    "                ),\n",
    "                \"showarrow\": False,\n",
    "    \n",
    "            }\n",
    "        )\n",
    "    \n",
    "    iplot(fig)\n",
    "\n",
    "perc_ocurrences(livestock_set, 'cc_effects_grassland_availability', 'Prueba', 'green')\n"
   ]
  },
  {
   "cell_type": "code",
   "execution_count": 62,
   "metadata": {},
   "outputs": [
    {
     "data": {
      "application/vnd.plotly.v1+json": {
       "data": [
        {
         "marker": {
          "color": "rgb(258,225,225)",
          "line": {
           "color": "rgb(192,0,0)",
           "width": 1.5
          }
         },
         "type": "bar",
         "x": [
          "Tv",
          "Mosque",
          "Friends",
          "Family",
          "Com_leaders",
          "Com_events",
          "Internet",
          "Radio",
          "Sms",
          "Not_believe",
          "Newspaper",
          "Notice_boards",
          "Governemnt",
          "Leaflets_posters",
          "School",
          "Com_based_orgs",
          "Ngos",
          "Health",
          "Police",
          "Red_cross",
          "Other"
         ],
         "y": [
          65.27,
          49.62,
          42.94,
          25.95,
          16.79,
          5.53,
          5.34,
          5.15,
          2.29,
          1.91,
          1.72,
          1.34,
          1.15,
          0.57,
          0.57,
          0.57,
          0.38,
          0.19,
          0.19,
          0.19,
          0.19
         ]
        }
       ],
       "layout": {
        "annotations": [
         {
          "font": {
           "color": "rgba(0, 100, 0, 1)",
           "family": "Arial",
           "size": 14
          },
          "showarrow": false,
          "text": "65.27%",
          "x": "Tv",
          "y": 66.97
         },
         {
          "font": {
           "color": "rgba(0, 100, 0, 1)",
           "family": "Arial",
           "size": 14
          },
          "showarrow": false,
          "text": "49.62%",
          "x": "Mosque",
          "y": 51.32
         },
         {
          "font": {
           "color": "rgba(0, 100, 0, 1)",
           "family": "Arial",
           "size": 14
          },
          "showarrow": false,
          "text": "42.94%",
          "x": "Friends",
          "y": 44.64
         },
         {
          "font": {
           "color": "rgba(0, 100, 0, 1)",
           "family": "Arial",
           "size": 14
          },
          "showarrow": false,
          "text": "25.95%",
          "x": "Family",
          "y": 27.65
         },
         {
          "font": {
           "color": "rgba(0, 100, 0, 1)",
           "family": "Arial",
           "size": 14
          },
          "showarrow": false,
          "text": "16.79%",
          "x": "Com_leaders",
          "y": 18.49
         },
         {
          "font": {
           "color": "rgba(0, 100, 0, 1)",
           "family": "Arial",
           "size": 14
          },
          "showarrow": false,
          "text": "5.53%",
          "x": "Com_events",
          "y": 7.23
         },
         {
          "font": {
           "color": "rgba(0, 100, 0, 1)",
           "family": "Arial",
           "size": 14
          },
          "showarrow": false,
          "text": "5.34%",
          "x": "Internet",
          "y": 7.04
         },
         {
          "font": {
           "color": "rgba(0, 100, 0, 1)",
           "family": "Arial",
           "size": 14
          },
          "showarrow": false,
          "text": "5.15%",
          "x": "Radio",
          "y": 6.8500000000000005
         },
         {
          "font": {
           "color": "rgba(0, 100, 0, 1)",
           "family": "Arial",
           "size": 14
          },
          "showarrow": false,
          "text": "2.29%",
          "x": "Sms",
          "y": 3.99
         },
         {
          "font": {
           "color": "rgba(0, 100, 0, 1)",
           "family": "Arial",
           "size": 14
          },
          "showarrow": false,
          "text": "1.91%",
          "x": "Not_believe",
          "y": 3.61
         },
         {
          "font": {
           "color": "rgba(0, 100, 0, 1)",
           "family": "Arial",
           "size": 14
          },
          "showarrow": false,
          "text": "1.72%",
          "x": "Newspaper",
          "y": 3.42
         },
         {
          "font": {
           "color": "rgba(0, 100, 0, 1)",
           "family": "Arial",
           "size": 14
          },
          "showarrow": false,
          "text": "1.34%",
          "x": "Notice_boards",
          "y": 3.04
         },
         {
          "font": {
           "color": "rgba(0, 100, 0, 1)",
           "family": "Arial",
           "size": 14
          },
          "showarrow": false,
          "text": "1.15%",
          "x": "Governemnt",
          "y": 2.8499999999999996
         },
         {
          "font": {
           "color": "rgba(0, 100, 0, 1)",
           "family": "Arial",
           "size": 14
          },
          "showarrow": false,
          "text": "0.57%",
          "x": "Leaflets_posters",
          "y": 2.27
         },
         {
          "font": {
           "color": "rgba(0, 100, 0, 1)",
           "family": "Arial",
           "size": 14
          },
          "showarrow": false,
          "text": "0.57%",
          "x": "School",
          "y": 2.27
         },
         {
          "font": {
           "color": "rgba(0, 100, 0, 1)",
           "family": "Arial",
           "size": 14
          },
          "showarrow": false,
          "text": "0.57%",
          "x": "Com_based_orgs",
          "y": 2.27
         },
         {
          "font": {
           "color": "rgba(0, 100, 0, 1)",
           "family": "Arial",
           "size": 14
          },
          "showarrow": false,
          "text": "0.38%",
          "x": "Ngos",
          "y": 2.08
         },
         {
          "font": {
           "color": "rgba(0, 100, 0, 1)",
           "family": "Arial",
           "size": 14
          },
          "showarrow": false,
          "text": "0.19%",
          "x": "Health",
          "y": 1.89
         },
         {
          "font": {
           "color": "rgba(0, 100, 0, 1)",
           "family": "Arial",
           "size": 14
          },
          "showarrow": false,
          "text": "0.19%",
          "x": "Police",
          "y": 1.89
         },
         {
          "font": {
           "color": "rgba(0, 100, 0, 1)",
           "family": "Arial",
           "size": 14
          },
          "showarrow": false,
          "text": "0.19%",
          "x": "Red_cross",
          "y": 1.89
         },
         {
          "font": {
           "color": "rgba(0, 100, 0, 1)",
           "family": "Arial",
           "size": 14
          },
          "showarrow": false,
          "text": "0.19%",
          "x": "Other",
          "y": 1.89
         }
        ],
        "title": "Main information sources",
        "width": 700,
        "xaxis": {
         "tickangle": -45
        }
       }
      },
      "text/html": [
       "<div id=\"d990e39f-eccf-419a-895b-91e99124608c\" style=\"height: 525px; width: 700px;\" class=\"plotly-graph-div\"></div><script type=\"text/javascript\">require([\"plotly\"], function(Plotly) { window.PLOTLYENV=window.PLOTLYENV || {};window.PLOTLYENV.BASE_URL=\"https://plot.ly\";Plotly.newPlot(\"d990e39f-eccf-419a-895b-91e99124608c\", [{\"y\": [65.27, 49.62, 42.94, 25.95, 16.79, 5.53, 5.34, 5.15, 2.29, 1.91, 1.72, 1.34, 1.15, 0.57, 0.57, 0.57, 0.38, 0.19, 0.19, 0.19, 0.19], \"x\": [\"Tv\", \"Mosque\", \"Friends\", \"Family\", \"Com_leaders\", \"Com_events\", \"Internet\", \"Radio\", \"Sms\", \"Not_believe\", \"Newspaper\", \"Notice_boards\", \"Governemnt\", \"Leaflets_posters\", \"School\", \"Com_based_orgs\", \"Ngos\", \"Health\", \"Police\", \"Red_cross\", \"Other\"], \"type\": \"bar\", \"marker\": {\"color\": \"rgb(258,225,225)\", \"line\": {\"color\": \"rgb(192,0,0)\", \"width\": 1.5}}}], {\"width\": 700, \"annotations\": [{\"y\": 66.97, \"x\": \"Tv\", \"font\": {\"color\": \"rgba(0, 100, 0, 1)\", \"family\": \"Arial\", \"size\": 14}, \"text\": \"65.27%\", \"showarrow\": false}, {\"y\": 51.32, \"x\": \"Mosque\", \"font\": {\"color\": \"rgba(0, 100, 0, 1)\", \"family\": \"Arial\", \"size\": 14}, \"text\": \"49.62%\", \"showarrow\": false}, {\"y\": 44.64, \"x\": \"Friends\", \"font\": {\"color\": \"rgba(0, 100, 0, 1)\", \"family\": \"Arial\", \"size\": 14}, \"text\": \"42.94%\", \"showarrow\": false}, {\"y\": 27.65, \"x\": \"Family\", \"font\": {\"color\": \"rgba(0, 100, 0, 1)\", \"family\": \"Arial\", \"size\": 14}, \"text\": \"25.95%\", \"showarrow\": false}, {\"y\": 18.49, \"x\": \"Com_leaders\", \"font\": {\"color\": \"rgba(0, 100, 0, 1)\", \"family\": \"Arial\", \"size\": 14}, \"text\": \"16.79%\", \"showarrow\": false}, {\"y\": 7.23, \"x\": \"Com_events\", \"font\": {\"color\": \"rgba(0, 100, 0, 1)\", \"family\": \"Arial\", \"size\": 14}, \"text\": \"5.53%\", \"showarrow\": false}, {\"y\": 7.04, \"x\": \"Internet\", \"font\": {\"color\": \"rgba(0, 100, 0, 1)\", \"family\": \"Arial\", \"size\": 14}, \"text\": \"5.34%\", \"showarrow\": false}, {\"y\": 6.8500000000000005, \"x\": \"Radio\", \"font\": {\"color\": \"rgba(0, 100, 0, 1)\", \"family\": \"Arial\", \"size\": 14}, \"text\": \"5.15%\", \"showarrow\": false}, {\"y\": 3.99, \"x\": \"Sms\", \"font\": {\"color\": \"rgba(0, 100, 0, 1)\", \"family\": \"Arial\", \"size\": 14}, \"text\": \"2.29%\", \"showarrow\": false}, {\"y\": 3.61, \"x\": \"Not_believe\", \"font\": {\"color\": \"rgba(0, 100, 0, 1)\", \"family\": \"Arial\", \"size\": 14}, \"text\": \"1.91%\", \"showarrow\": false}, {\"y\": 3.42, \"x\": \"Newspaper\", \"font\": {\"color\": \"rgba(0, 100, 0, 1)\", \"family\": \"Arial\", \"size\": 14}, \"text\": \"1.72%\", \"showarrow\": false}, {\"y\": 3.04, \"x\": \"Notice_boards\", \"font\": {\"color\": \"rgba(0, 100, 0, 1)\", \"family\": \"Arial\", \"size\": 14}, \"text\": \"1.34%\", \"showarrow\": false}, {\"y\": 2.8499999999999996, \"x\": \"Governemnt\", \"font\": {\"color\": \"rgba(0, 100, 0, 1)\", \"family\": \"Arial\", \"size\": 14}, \"text\": \"1.15%\", \"showarrow\": false}, {\"y\": 2.27, \"x\": \"Leaflets_posters\", \"font\": {\"color\": \"rgba(0, 100, 0, 1)\", \"family\": \"Arial\", \"size\": 14}, \"text\": \"0.57%\", \"showarrow\": false}, {\"y\": 2.27, \"x\": \"School\", \"font\": {\"color\": \"rgba(0, 100, 0, 1)\", \"family\": \"Arial\", \"size\": 14}, \"text\": \"0.57%\", \"showarrow\": false}, {\"y\": 2.27, \"x\": \"Com_based_orgs\", \"font\": {\"color\": \"rgba(0, 100, 0, 1)\", \"family\": \"Arial\", \"size\": 14}, \"text\": \"0.57%\", \"showarrow\": false}, {\"y\": 2.08, \"x\": \"Ngos\", \"font\": {\"color\": \"rgba(0, 100, 0, 1)\", \"family\": \"Arial\", \"size\": 14}, \"text\": \"0.38%\", \"showarrow\": false}, {\"y\": 1.89, \"x\": \"Health\", \"font\": {\"color\": \"rgba(0, 100, 0, 1)\", \"family\": \"Arial\", \"size\": 14}, \"text\": \"0.19%\", \"showarrow\": false}, {\"y\": 1.89, \"x\": \"Police\", \"font\": {\"color\": \"rgba(0, 100, 0, 1)\", \"family\": \"Arial\", \"size\": 14}, \"text\": \"0.19%\", \"showarrow\": false}, {\"y\": 1.89, \"x\": \"Red_cross\", \"font\": {\"color\": \"rgba(0, 100, 0, 1)\", \"family\": \"Arial\", \"size\": 14}, \"text\": \"0.19%\", \"showarrow\": false}, {\"y\": 1.89, \"x\": \"Other\", \"font\": {\"color\": \"rgba(0, 100, 0, 1)\", \"family\": \"Arial\", \"size\": 14}, \"text\": \"0.19%\", \"showarrow\": false}], \"xaxis\": {\"tickangle\": -45}, \"title\": \"Main information sources\"}, {\"linkText\": \"Export to plot.ly\", \"showLink\": true})});</script>"
      ],
      "text/vnd.plotly.v1+html": [
       "<div id=\"d990e39f-eccf-419a-895b-91e99124608c\" style=\"height: 525px; width: 700px;\" class=\"plotly-graph-div\"></div><script type=\"text/javascript\">require([\"plotly\"], function(Plotly) { window.PLOTLYENV=window.PLOTLYENV || {};window.PLOTLYENV.BASE_URL=\"https://plot.ly\";Plotly.newPlot(\"d990e39f-eccf-419a-895b-91e99124608c\", [{\"y\": [65.27, 49.62, 42.94, 25.95, 16.79, 5.53, 5.34, 5.15, 2.29, 1.91, 1.72, 1.34, 1.15, 0.57, 0.57, 0.57, 0.38, 0.19, 0.19, 0.19, 0.19], \"x\": [\"Tv\", \"Mosque\", \"Friends\", \"Family\", \"Com_leaders\", \"Com_events\", \"Internet\", \"Radio\", \"Sms\", \"Not_believe\", \"Newspaper\", \"Notice_boards\", \"Governemnt\", \"Leaflets_posters\", \"School\", \"Com_based_orgs\", \"Ngos\", \"Health\", \"Police\", \"Red_cross\", \"Other\"], \"type\": \"bar\", \"marker\": {\"color\": \"rgb(258,225,225)\", \"line\": {\"color\": \"rgb(192,0,0)\", \"width\": 1.5}}}], {\"width\": 700, \"annotations\": [{\"y\": 66.97, \"x\": \"Tv\", \"font\": {\"color\": \"rgba(0, 100, 0, 1)\", \"family\": \"Arial\", \"size\": 14}, \"text\": \"65.27%\", \"showarrow\": false}, {\"y\": 51.32, \"x\": \"Mosque\", \"font\": {\"color\": \"rgba(0, 100, 0, 1)\", \"family\": \"Arial\", \"size\": 14}, \"text\": \"49.62%\", \"showarrow\": false}, {\"y\": 44.64, \"x\": \"Friends\", \"font\": {\"color\": \"rgba(0, 100, 0, 1)\", \"family\": \"Arial\", \"size\": 14}, \"text\": \"42.94%\", \"showarrow\": false}, {\"y\": 27.65, \"x\": \"Family\", \"font\": {\"color\": \"rgba(0, 100, 0, 1)\", \"family\": \"Arial\", \"size\": 14}, \"text\": \"25.95%\", \"showarrow\": false}, {\"y\": 18.49, \"x\": \"Com_leaders\", \"font\": {\"color\": \"rgba(0, 100, 0, 1)\", \"family\": \"Arial\", \"size\": 14}, \"text\": \"16.79%\", \"showarrow\": false}, {\"y\": 7.23, \"x\": \"Com_events\", \"font\": {\"color\": \"rgba(0, 100, 0, 1)\", \"family\": \"Arial\", \"size\": 14}, \"text\": \"5.53%\", \"showarrow\": false}, {\"y\": 7.04, \"x\": \"Internet\", \"font\": {\"color\": \"rgba(0, 100, 0, 1)\", \"family\": \"Arial\", \"size\": 14}, \"text\": \"5.34%\", \"showarrow\": false}, {\"y\": 6.8500000000000005, \"x\": \"Radio\", \"font\": {\"color\": \"rgba(0, 100, 0, 1)\", \"family\": \"Arial\", \"size\": 14}, \"text\": \"5.15%\", \"showarrow\": false}, {\"y\": 3.99, \"x\": \"Sms\", \"font\": {\"color\": \"rgba(0, 100, 0, 1)\", \"family\": \"Arial\", \"size\": 14}, \"text\": \"2.29%\", \"showarrow\": false}, {\"y\": 3.61, \"x\": \"Not_believe\", \"font\": {\"color\": \"rgba(0, 100, 0, 1)\", \"family\": \"Arial\", \"size\": 14}, \"text\": \"1.91%\", \"showarrow\": false}, {\"y\": 3.42, \"x\": \"Newspaper\", \"font\": {\"color\": \"rgba(0, 100, 0, 1)\", \"family\": \"Arial\", \"size\": 14}, \"text\": \"1.72%\", \"showarrow\": false}, {\"y\": 3.04, \"x\": \"Notice_boards\", \"font\": {\"color\": \"rgba(0, 100, 0, 1)\", \"family\": \"Arial\", \"size\": 14}, \"text\": \"1.34%\", \"showarrow\": false}, {\"y\": 2.8499999999999996, \"x\": \"Governemnt\", \"font\": {\"color\": \"rgba(0, 100, 0, 1)\", \"family\": \"Arial\", \"size\": 14}, \"text\": \"1.15%\", \"showarrow\": false}, {\"y\": 2.27, \"x\": \"Leaflets_posters\", \"font\": {\"color\": \"rgba(0, 100, 0, 1)\", \"family\": \"Arial\", \"size\": 14}, \"text\": \"0.57%\", \"showarrow\": false}, {\"y\": 2.27, \"x\": \"School\", \"font\": {\"color\": \"rgba(0, 100, 0, 1)\", \"family\": \"Arial\", \"size\": 14}, \"text\": \"0.57%\", \"showarrow\": false}, {\"y\": 2.27, \"x\": \"Com_based_orgs\", \"font\": {\"color\": \"rgba(0, 100, 0, 1)\", \"family\": \"Arial\", \"size\": 14}, \"text\": \"0.57%\", \"showarrow\": false}, {\"y\": 2.08, \"x\": \"Ngos\", \"font\": {\"color\": \"rgba(0, 100, 0, 1)\", \"family\": \"Arial\", \"size\": 14}, \"text\": \"0.38%\", \"showarrow\": false}, {\"y\": 1.89, \"x\": \"Health\", \"font\": {\"color\": \"rgba(0, 100, 0, 1)\", \"family\": \"Arial\", \"size\": 14}, \"text\": \"0.19%\", \"showarrow\": false}, {\"y\": 1.89, \"x\": \"Police\", \"font\": {\"color\": \"rgba(0, 100, 0, 1)\", \"family\": \"Arial\", \"size\": 14}, \"text\": \"0.19%\", \"showarrow\": false}, {\"y\": 1.89, \"x\": \"Red_cross\", \"font\": {\"color\": \"rgba(0, 100, 0, 1)\", \"family\": \"Arial\", \"size\": 14}, \"text\": \"0.19%\", \"showarrow\": false}, {\"y\": 1.89, \"x\": \"Other\", \"font\": {\"color\": \"rgba(0, 100, 0, 1)\", \"family\": \"Arial\", \"size\": 14}, \"text\": \"0.19%\", \"showarrow\": false}], \"xaxis\": {\"tickangle\": -45}, \"title\": \"Main information sources\"}, {\"linkText\": \"Export to plot.ly\", \"showLink\": true})});</script>"
      ]
     },
     "metadata": {},
     "output_type": "display_data"
    }
   ],
   "source": [
    "perc_ocurrences(reg_survey, 'cea_info_source', \"Main information sources\")"
   ]
  },
  {
   "cell_type": "code",
   "execution_count": 63,
   "metadata": {},
   "outputs": [
    {
     "data": {
      "application/vnd.plotly.v1+json": {
       "data": [
        {
         "marker": {
          "color": "rgb(258,225,225)",
          "line": {
           "color": "rgb(192,0,0)",
           "width": 1.5
          }
         },
         "type": "bar",
         "x": [
          "Tv",
          "Mosque",
          "Friends",
          "Family",
          "Com_leaders",
          "Com_events",
          "Not_believe",
          "Radio",
          "Sms",
          "Governemnt",
          "Com_based_orgs",
          "Internet",
          "Ngos",
          "Red_cross",
          "Other",
          "Notice_boards",
          "Health",
          "Newspaper",
          "School",
          "Leaflets_posters",
          "Police"
         ],
         "y": [
          51.91,
          50.19,
          36.83,
          21.56,
          16.79,
          6.68,
          5.53,
          4.2,
          2.29,
          1.72,
          1.53,
          1.34,
          1.15,
          0.95,
          0.95,
          0.95,
          0.57,
          0.57,
          0.57,
          0.19,
          0.19
         ]
        }
       ],
       "layout": {
        "annotations": [
         {
          "font": {
           "color": "rgba(0, 100, 0, 1)",
           "family": "Arial",
           "size": 14
          },
          "showarrow": false,
          "text": "51.91%",
          "x": "Tv",
          "y": 53.61
         },
         {
          "font": {
           "color": "rgba(0, 100, 0, 1)",
           "family": "Arial",
           "size": 14
          },
          "showarrow": false,
          "text": "50.19%",
          "x": "Mosque",
          "y": 51.89
         },
         {
          "font": {
           "color": "rgba(0, 100, 0, 1)",
           "family": "Arial",
           "size": 14
          },
          "showarrow": false,
          "text": "36.83%",
          "x": "Friends",
          "y": 38.53
         },
         {
          "font": {
           "color": "rgba(0, 100, 0, 1)",
           "family": "Arial",
           "size": 14
          },
          "showarrow": false,
          "text": "21.56%",
          "x": "Family",
          "y": 23.259999999999998
         },
         {
          "font": {
           "color": "rgba(0, 100, 0, 1)",
           "family": "Arial",
           "size": 14
          },
          "showarrow": false,
          "text": "16.79%",
          "x": "Com_leaders",
          "y": 18.49
         },
         {
          "font": {
           "color": "rgba(0, 100, 0, 1)",
           "family": "Arial",
           "size": 14
          },
          "showarrow": false,
          "text": "6.68%",
          "x": "Com_events",
          "y": 8.379999999999999
         },
         {
          "font": {
           "color": "rgba(0, 100, 0, 1)",
           "family": "Arial",
           "size": 14
          },
          "showarrow": false,
          "text": "5.53%",
          "x": "Not_believe",
          "y": 7.23
         },
         {
          "font": {
           "color": "rgba(0, 100, 0, 1)",
           "family": "Arial",
           "size": 14
          },
          "showarrow": false,
          "text": "4.2%",
          "x": "Radio",
          "y": 5.9
         },
         {
          "font": {
           "color": "rgba(0, 100, 0, 1)",
           "family": "Arial",
           "size": 14
          },
          "showarrow": false,
          "text": "2.29%",
          "x": "Sms",
          "y": 3.99
         },
         {
          "font": {
           "color": "rgba(0, 100, 0, 1)",
           "family": "Arial",
           "size": 14
          },
          "showarrow": false,
          "text": "1.72%",
          "x": "Governemnt",
          "y": 3.42
         },
         {
          "font": {
           "color": "rgba(0, 100, 0, 1)",
           "family": "Arial",
           "size": 14
          },
          "showarrow": false,
          "text": "1.53%",
          "x": "Com_based_orgs",
          "y": 3.23
         },
         {
          "font": {
           "color": "rgba(0, 100, 0, 1)",
           "family": "Arial",
           "size": 14
          },
          "showarrow": false,
          "text": "1.34%",
          "x": "Internet",
          "y": 3.04
         },
         {
          "font": {
           "color": "rgba(0, 100, 0, 1)",
           "family": "Arial",
           "size": 14
          },
          "showarrow": false,
          "text": "1.15%",
          "x": "Ngos",
          "y": 2.8499999999999996
         },
         {
          "font": {
           "color": "rgba(0, 100, 0, 1)",
           "family": "Arial",
           "size": 14
          },
          "showarrow": false,
          "text": "0.95%",
          "x": "Red_cross",
          "y": 2.65
         },
         {
          "font": {
           "color": "rgba(0, 100, 0, 1)",
           "family": "Arial",
           "size": 14
          },
          "showarrow": false,
          "text": "0.95%",
          "x": "Other",
          "y": 2.65
         },
         {
          "font": {
           "color": "rgba(0, 100, 0, 1)",
           "family": "Arial",
           "size": 14
          },
          "showarrow": false,
          "text": "0.95%",
          "x": "Notice_boards",
          "y": 2.65
         },
         {
          "font": {
           "color": "rgba(0, 100, 0, 1)",
           "family": "Arial",
           "size": 14
          },
          "showarrow": false,
          "text": "0.57%",
          "x": "Health",
          "y": 2.27
         },
         {
          "font": {
           "color": "rgba(0, 100, 0, 1)",
           "family": "Arial",
           "size": 14
          },
          "showarrow": false,
          "text": "0.57%",
          "x": "Newspaper",
          "y": 2.27
         },
         {
          "font": {
           "color": "rgba(0, 100, 0, 1)",
           "family": "Arial",
           "size": 14
          },
          "showarrow": false,
          "text": "0.57%",
          "x": "School",
          "y": 2.27
         },
         {
          "font": {
           "color": "rgba(0, 100, 0, 1)",
           "family": "Arial",
           "size": 14
          },
          "showarrow": false,
          "text": "0.19%",
          "x": "Leaflets_posters",
          "y": 1.89
         },
         {
          "font": {
           "color": "rgba(0, 100, 0, 1)",
           "family": "Arial",
           "size": 14
          },
          "showarrow": false,
          "text": "0.19%",
          "x": "Police",
          "y": 1.89
         }
        ],
        "title": "More trusted information sources",
        "width": 700,
        "xaxis": {
         "tickangle": -45
        }
       }
      },
      "text/html": [
       "<div id=\"65b02c3c-7880-4bab-add9-30533dd1c19b\" style=\"height: 525px; width: 700px;\" class=\"plotly-graph-div\"></div><script type=\"text/javascript\">require([\"plotly\"], function(Plotly) { window.PLOTLYENV=window.PLOTLYENV || {};window.PLOTLYENV.BASE_URL=\"https://plot.ly\";Plotly.newPlot(\"65b02c3c-7880-4bab-add9-30533dd1c19b\", [{\"y\": [51.91, 50.19, 36.83, 21.56, 16.79, 6.68, 5.53, 4.2, 2.29, 1.72, 1.53, 1.34, 1.15, 0.95, 0.95, 0.95, 0.57, 0.57, 0.57, 0.19, 0.19], \"x\": [\"Tv\", \"Mosque\", \"Friends\", \"Family\", \"Com_leaders\", \"Com_events\", \"Not_believe\", \"Radio\", \"Sms\", \"Governemnt\", \"Com_based_orgs\", \"Internet\", \"Ngos\", \"Red_cross\", \"Other\", \"Notice_boards\", \"Health\", \"Newspaper\", \"School\", \"Leaflets_posters\", \"Police\"], \"type\": \"bar\", \"marker\": {\"color\": \"rgb(258,225,225)\", \"line\": {\"color\": \"rgb(192,0,0)\", \"width\": 1.5}}}], {\"width\": 700, \"annotations\": [{\"y\": 53.61, \"x\": \"Tv\", \"font\": {\"color\": \"rgba(0, 100, 0, 1)\", \"family\": \"Arial\", \"size\": 14}, \"text\": \"51.91%\", \"showarrow\": false}, {\"y\": 51.89, \"x\": \"Mosque\", \"font\": {\"color\": \"rgba(0, 100, 0, 1)\", \"family\": \"Arial\", \"size\": 14}, \"text\": \"50.19%\", \"showarrow\": false}, {\"y\": 38.53, \"x\": \"Friends\", \"font\": {\"color\": \"rgba(0, 100, 0, 1)\", \"family\": \"Arial\", \"size\": 14}, \"text\": \"36.83%\", \"showarrow\": false}, {\"y\": 23.259999999999998, \"x\": \"Family\", \"font\": {\"color\": \"rgba(0, 100, 0, 1)\", \"family\": \"Arial\", \"size\": 14}, \"text\": \"21.56%\", \"showarrow\": false}, {\"y\": 18.49, \"x\": \"Com_leaders\", \"font\": {\"color\": \"rgba(0, 100, 0, 1)\", \"family\": \"Arial\", \"size\": 14}, \"text\": \"16.79%\", \"showarrow\": false}, {\"y\": 8.379999999999999, \"x\": \"Com_events\", \"font\": {\"color\": \"rgba(0, 100, 0, 1)\", \"family\": \"Arial\", \"size\": 14}, \"text\": \"6.68%\", \"showarrow\": false}, {\"y\": 7.23, \"x\": \"Not_believe\", \"font\": {\"color\": \"rgba(0, 100, 0, 1)\", \"family\": \"Arial\", \"size\": 14}, \"text\": \"5.53%\", \"showarrow\": false}, {\"y\": 5.9, \"x\": \"Radio\", \"font\": {\"color\": \"rgba(0, 100, 0, 1)\", \"family\": \"Arial\", \"size\": 14}, \"text\": \"4.2%\", \"showarrow\": false}, {\"y\": 3.99, \"x\": \"Sms\", \"font\": {\"color\": \"rgba(0, 100, 0, 1)\", \"family\": \"Arial\", \"size\": 14}, \"text\": \"2.29%\", \"showarrow\": false}, {\"y\": 3.42, \"x\": \"Governemnt\", \"font\": {\"color\": \"rgba(0, 100, 0, 1)\", \"family\": \"Arial\", \"size\": 14}, \"text\": \"1.72%\", \"showarrow\": false}, {\"y\": 3.23, \"x\": \"Com_based_orgs\", \"font\": {\"color\": \"rgba(0, 100, 0, 1)\", \"family\": \"Arial\", \"size\": 14}, \"text\": \"1.53%\", \"showarrow\": false}, {\"y\": 3.04, \"x\": \"Internet\", \"font\": {\"color\": \"rgba(0, 100, 0, 1)\", \"family\": \"Arial\", \"size\": 14}, \"text\": \"1.34%\", \"showarrow\": false}, {\"y\": 2.8499999999999996, \"x\": \"Ngos\", \"font\": {\"color\": \"rgba(0, 100, 0, 1)\", \"family\": \"Arial\", \"size\": 14}, \"text\": \"1.15%\", \"showarrow\": false}, {\"y\": 2.65, \"x\": \"Red_cross\", \"font\": {\"color\": \"rgba(0, 100, 0, 1)\", \"family\": \"Arial\", \"size\": 14}, \"text\": \"0.95%\", \"showarrow\": false}, {\"y\": 2.65, \"x\": \"Other\", \"font\": {\"color\": \"rgba(0, 100, 0, 1)\", \"family\": \"Arial\", \"size\": 14}, \"text\": \"0.95%\", \"showarrow\": false}, {\"y\": 2.65, \"x\": \"Notice_boards\", \"font\": {\"color\": \"rgba(0, 100, 0, 1)\", \"family\": \"Arial\", \"size\": 14}, \"text\": \"0.95%\", \"showarrow\": false}, {\"y\": 2.27, \"x\": \"Health\", \"font\": {\"color\": \"rgba(0, 100, 0, 1)\", \"family\": \"Arial\", \"size\": 14}, \"text\": \"0.57%\", \"showarrow\": false}, {\"y\": 2.27, \"x\": \"Newspaper\", \"font\": {\"color\": \"rgba(0, 100, 0, 1)\", \"family\": \"Arial\", \"size\": 14}, \"text\": \"0.57%\", \"showarrow\": false}, {\"y\": 2.27, \"x\": \"School\", \"font\": {\"color\": \"rgba(0, 100, 0, 1)\", \"family\": \"Arial\", \"size\": 14}, \"text\": \"0.57%\", \"showarrow\": false}, {\"y\": 1.89, \"x\": \"Leaflets_posters\", \"font\": {\"color\": \"rgba(0, 100, 0, 1)\", \"family\": \"Arial\", \"size\": 14}, \"text\": \"0.19%\", \"showarrow\": false}, {\"y\": 1.89, \"x\": \"Police\", \"font\": {\"color\": \"rgba(0, 100, 0, 1)\", \"family\": \"Arial\", \"size\": 14}, \"text\": \"0.19%\", \"showarrow\": false}], \"xaxis\": {\"tickangle\": -45}, \"title\": \"More trusted information sources\"}, {\"linkText\": \"Export to plot.ly\", \"showLink\": true})});</script>"
      ],
      "text/vnd.plotly.v1+html": [
       "<div id=\"65b02c3c-7880-4bab-add9-30533dd1c19b\" style=\"height: 525px; width: 700px;\" class=\"plotly-graph-div\"></div><script type=\"text/javascript\">require([\"plotly\"], function(Plotly) { window.PLOTLYENV=window.PLOTLYENV || {};window.PLOTLYENV.BASE_URL=\"https://plot.ly\";Plotly.newPlot(\"65b02c3c-7880-4bab-add9-30533dd1c19b\", [{\"y\": [51.91, 50.19, 36.83, 21.56, 16.79, 6.68, 5.53, 4.2, 2.29, 1.72, 1.53, 1.34, 1.15, 0.95, 0.95, 0.95, 0.57, 0.57, 0.57, 0.19, 0.19], \"x\": [\"Tv\", \"Mosque\", \"Friends\", \"Family\", \"Com_leaders\", \"Com_events\", \"Not_believe\", \"Radio\", \"Sms\", \"Governemnt\", \"Com_based_orgs\", \"Internet\", \"Ngos\", \"Red_cross\", \"Other\", \"Notice_boards\", \"Health\", \"Newspaper\", \"School\", \"Leaflets_posters\", \"Police\"], \"type\": \"bar\", \"marker\": {\"color\": \"rgb(258,225,225)\", \"line\": {\"color\": \"rgb(192,0,0)\", \"width\": 1.5}}}], {\"width\": 700, \"annotations\": [{\"y\": 53.61, \"x\": \"Tv\", \"font\": {\"color\": \"rgba(0, 100, 0, 1)\", \"family\": \"Arial\", \"size\": 14}, \"text\": \"51.91%\", \"showarrow\": false}, {\"y\": 51.89, \"x\": \"Mosque\", \"font\": {\"color\": \"rgba(0, 100, 0, 1)\", \"family\": \"Arial\", \"size\": 14}, \"text\": \"50.19%\", \"showarrow\": false}, {\"y\": 38.53, \"x\": \"Friends\", \"font\": {\"color\": \"rgba(0, 100, 0, 1)\", \"family\": \"Arial\", \"size\": 14}, \"text\": \"36.83%\", \"showarrow\": false}, {\"y\": 23.259999999999998, \"x\": \"Family\", \"font\": {\"color\": \"rgba(0, 100, 0, 1)\", \"family\": \"Arial\", \"size\": 14}, \"text\": \"21.56%\", \"showarrow\": false}, {\"y\": 18.49, \"x\": \"Com_leaders\", \"font\": {\"color\": \"rgba(0, 100, 0, 1)\", \"family\": \"Arial\", \"size\": 14}, \"text\": \"16.79%\", \"showarrow\": false}, {\"y\": 8.379999999999999, \"x\": \"Com_events\", \"font\": {\"color\": \"rgba(0, 100, 0, 1)\", \"family\": \"Arial\", \"size\": 14}, \"text\": \"6.68%\", \"showarrow\": false}, {\"y\": 7.23, \"x\": \"Not_believe\", \"font\": {\"color\": \"rgba(0, 100, 0, 1)\", \"family\": \"Arial\", \"size\": 14}, \"text\": \"5.53%\", \"showarrow\": false}, {\"y\": 5.9, \"x\": \"Radio\", \"font\": {\"color\": \"rgba(0, 100, 0, 1)\", \"family\": \"Arial\", \"size\": 14}, \"text\": \"4.2%\", \"showarrow\": false}, {\"y\": 3.99, \"x\": \"Sms\", \"font\": {\"color\": \"rgba(0, 100, 0, 1)\", \"family\": \"Arial\", \"size\": 14}, \"text\": \"2.29%\", \"showarrow\": false}, {\"y\": 3.42, \"x\": \"Governemnt\", \"font\": {\"color\": \"rgba(0, 100, 0, 1)\", \"family\": \"Arial\", \"size\": 14}, \"text\": \"1.72%\", \"showarrow\": false}, {\"y\": 3.23, \"x\": \"Com_based_orgs\", \"font\": {\"color\": \"rgba(0, 100, 0, 1)\", \"family\": \"Arial\", \"size\": 14}, \"text\": \"1.53%\", \"showarrow\": false}, {\"y\": 3.04, \"x\": \"Internet\", \"font\": {\"color\": \"rgba(0, 100, 0, 1)\", \"family\": \"Arial\", \"size\": 14}, \"text\": \"1.34%\", \"showarrow\": false}, {\"y\": 2.8499999999999996, \"x\": \"Ngos\", \"font\": {\"color\": \"rgba(0, 100, 0, 1)\", \"family\": \"Arial\", \"size\": 14}, \"text\": \"1.15%\", \"showarrow\": false}, {\"y\": 2.65, \"x\": \"Red_cross\", \"font\": {\"color\": \"rgba(0, 100, 0, 1)\", \"family\": \"Arial\", \"size\": 14}, \"text\": \"0.95%\", \"showarrow\": false}, {\"y\": 2.65, \"x\": \"Other\", \"font\": {\"color\": \"rgba(0, 100, 0, 1)\", \"family\": \"Arial\", \"size\": 14}, \"text\": \"0.95%\", \"showarrow\": false}, {\"y\": 2.65, \"x\": \"Notice_boards\", \"font\": {\"color\": \"rgba(0, 100, 0, 1)\", \"family\": \"Arial\", \"size\": 14}, \"text\": \"0.95%\", \"showarrow\": false}, {\"y\": 2.27, \"x\": \"Health\", \"font\": {\"color\": \"rgba(0, 100, 0, 1)\", \"family\": \"Arial\", \"size\": 14}, \"text\": \"0.57%\", \"showarrow\": false}, {\"y\": 2.27, \"x\": \"Newspaper\", \"font\": {\"color\": \"rgba(0, 100, 0, 1)\", \"family\": \"Arial\", \"size\": 14}, \"text\": \"0.57%\", \"showarrow\": false}, {\"y\": 2.27, \"x\": \"School\", \"font\": {\"color\": \"rgba(0, 100, 0, 1)\", \"family\": \"Arial\", \"size\": 14}, \"text\": \"0.57%\", \"showarrow\": false}, {\"y\": 1.89, \"x\": \"Leaflets_posters\", \"font\": {\"color\": \"rgba(0, 100, 0, 1)\", \"family\": \"Arial\", \"size\": 14}, \"text\": \"0.19%\", \"showarrow\": false}, {\"y\": 1.89, \"x\": \"Police\", \"font\": {\"color\": \"rgba(0, 100, 0, 1)\", \"family\": \"Arial\", \"size\": 14}, \"text\": \"0.19%\", \"showarrow\": false}], \"xaxis\": {\"tickangle\": -45}, \"title\": \"More trusted information sources\"}, {\"linkText\": \"Export to plot.ly\", \"showLink\": true})});</script>"
      ]
     },
     "metadata": {},
     "output_type": "display_data"
    }
   ],
   "source": [
    "perc_ocurrences(reg_survey, 'cea_trusted_sources', \"More trusted information sources\")"
   ]
  },
  {
   "cell_type": "code",
   "execution_count": 64,
   "metadata": {},
   "outputs": [
    {
     "data": {
      "application/vnd.plotly.v1+json": {
       "data": [
        {
         "marker": {
          "color": "rgb(258,225,225)",
          "line": {
           "color": "rgb(192,0,0)",
           "width": 1.5
          }
         },
         "type": "bar",
         "x": [
          "Public_services",
          "Health_advise",
          "Environment",
          "Education",
          "First_aid",
          "Sanitation",
          "Reconstruction",
          "Electricity",
          "Employment",
          "Food",
          "Aid_response",
          "Dis_preparedness",
          "Shelter",
          "Diseases",
          "Weather",
          "Other",
          "Security",
          "Org_feedback"
         ],
         "y": [
          69.85,
          56.49,
          49.43,
          48.66,
          39.69,
          18.89,
          17.75,
          13.36,
          11.26,
          9.54,
          7.63,
          6.87,
          4.39,
          2.67,
          2.29,
          1.53,
          0.95,
          0.38
         ]
        }
       ],
       "layout": {
        "annotations": [
         {
          "font": {
           "color": "rgba(0, 100, 0, 1)",
           "family": "Arial",
           "size": 14
          },
          "showarrow": false,
          "text": "69.85%",
          "x": "Public_services",
          "y": 71.55
         },
         {
          "font": {
           "color": "rgba(0, 100, 0, 1)",
           "family": "Arial",
           "size": 14
          },
          "showarrow": false,
          "text": "56.49%",
          "x": "Health_advise",
          "y": 58.190000000000005
         },
         {
          "font": {
           "color": "rgba(0, 100, 0, 1)",
           "family": "Arial",
           "size": 14
          },
          "showarrow": false,
          "text": "49.43%",
          "x": "Environment",
          "y": 51.13
         },
         {
          "font": {
           "color": "rgba(0, 100, 0, 1)",
           "family": "Arial",
           "size": 14
          },
          "showarrow": false,
          "text": "48.66%",
          "x": "Education",
          "y": 50.36
         },
         {
          "font": {
           "color": "rgba(0, 100, 0, 1)",
           "family": "Arial",
           "size": 14
          },
          "showarrow": false,
          "text": "39.69%",
          "x": "First_aid",
          "y": 41.39
         },
         {
          "font": {
           "color": "rgba(0, 100, 0, 1)",
           "family": "Arial",
           "size": 14
          },
          "showarrow": false,
          "text": "18.89%",
          "x": "Sanitation",
          "y": 20.59
         },
         {
          "font": {
           "color": "rgba(0, 100, 0, 1)",
           "family": "Arial",
           "size": 14
          },
          "showarrow": false,
          "text": "17.75%",
          "x": "Reconstruction",
          "y": 19.45
         },
         {
          "font": {
           "color": "rgba(0, 100, 0, 1)",
           "family": "Arial",
           "size": 14
          },
          "showarrow": false,
          "text": "13.36%",
          "x": "Electricity",
          "y": 15.059999999999999
         },
         {
          "font": {
           "color": "rgba(0, 100, 0, 1)",
           "family": "Arial",
           "size": 14
          },
          "showarrow": false,
          "text": "11.26%",
          "x": "Employment",
          "y": 12.959999999999999
         },
         {
          "font": {
           "color": "rgba(0, 100, 0, 1)",
           "family": "Arial",
           "size": 14
          },
          "showarrow": false,
          "text": "9.54%",
          "x": "Food",
          "y": 11.239999999999998
         },
         {
          "font": {
           "color": "rgba(0, 100, 0, 1)",
           "family": "Arial",
           "size": 14
          },
          "showarrow": false,
          "text": "7.63%",
          "x": "Aid_response",
          "y": 9.33
         },
         {
          "font": {
           "color": "rgba(0, 100, 0, 1)",
           "family": "Arial",
           "size": 14
          },
          "showarrow": false,
          "text": "6.87%",
          "x": "Dis_preparedness",
          "y": 8.57
         },
         {
          "font": {
           "color": "rgba(0, 100, 0, 1)",
           "family": "Arial",
           "size": 14
          },
          "showarrow": false,
          "text": "4.39%",
          "x": "Shelter",
          "y": 6.09
         },
         {
          "font": {
           "color": "rgba(0, 100, 0, 1)",
           "family": "Arial",
           "size": 14
          },
          "showarrow": false,
          "text": "2.67%",
          "x": "Diseases",
          "y": 4.37
         },
         {
          "font": {
           "color": "rgba(0, 100, 0, 1)",
           "family": "Arial",
           "size": 14
          },
          "showarrow": false,
          "text": "2.29%",
          "x": "Weather",
          "y": 3.99
         },
         {
          "font": {
           "color": "rgba(0, 100, 0, 1)",
           "family": "Arial",
           "size": 14
          },
          "showarrow": false,
          "text": "1.53%",
          "x": "Other",
          "y": 3.23
         },
         {
          "font": {
           "color": "rgba(0, 100, 0, 1)",
           "family": "Arial",
           "size": 14
          },
          "showarrow": false,
          "text": "0.95%",
          "x": "Security",
          "y": 2.65
         },
         {
          "font": {
           "color": "rgba(0, 100, 0, 1)",
           "family": "Arial",
           "size": 14
          },
          "showarrow": false,
          "text": "0.38%",
          "x": "Org_feedback",
          "y": 2.08
         }
        ],
        "title": "Information needs",
        "width": 700,
        "xaxis": {
         "tickangle": -45
        }
       }
      },
      "text/html": [
       "<div id=\"1df1dbee-5514-4994-a055-1772103573de\" style=\"height: 525px; width: 700px;\" class=\"plotly-graph-div\"></div><script type=\"text/javascript\">require([\"plotly\"], function(Plotly) { window.PLOTLYENV=window.PLOTLYENV || {};window.PLOTLYENV.BASE_URL=\"https://plot.ly\";Plotly.newPlot(\"1df1dbee-5514-4994-a055-1772103573de\", [{\"y\": [69.85, 56.49, 49.43, 48.66, 39.69, 18.89, 17.75, 13.36, 11.26, 9.54, 7.63, 6.87, 4.39, 2.67, 2.29, 1.53, 0.95, 0.38], \"x\": [\"Public_services\", \"Health_advise\", \"Environment\", \"Education\", \"First_aid\", \"Sanitation\", \"Reconstruction\", \"Electricity\", \"Employment\", \"Food\", \"Aid_response\", \"Dis_preparedness\", \"Shelter\", \"Diseases\", \"Weather\", \"Other\", \"Security\", \"Org_feedback\"], \"type\": \"bar\", \"marker\": {\"color\": \"rgb(258,225,225)\", \"line\": {\"color\": \"rgb(192,0,0)\", \"width\": 1.5}}}], {\"width\": 700, \"annotations\": [{\"y\": 71.55, \"x\": \"Public_services\", \"font\": {\"color\": \"rgba(0, 100, 0, 1)\", \"family\": \"Arial\", \"size\": 14}, \"text\": \"69.85%\", \"showarrow\": false}, {\"y\": 58.190000000000005, \"x\": \"Health_advise\", \"font\": {\"color\": \"rgba(0, 100, 0, 1)\", \"family\": \"Arial\", \"size\": 14}, \"text\": \"56.49%\", \"showarrow\": false}, {\"y\": 51.13, \"x\": \"Environment\", \"font\": {\"color\": \"rgba(0, 100, 0, 1)\", \"family\": \"Arial\", \"size\": 14}, \"text\": \"49.43%\", \"showarrow\": false}, {\"y\": 50.36, \"x\": \"Education\", \"font\": {\"color\": \"rgba(0, 100, 0, 1)\", \"family\": \"Arial\", \"size\": 14}, \"text\": \"48.66%\", \"showarrow\": false}, {\"y\": 41.39, \"x\": \"First_aid\", \"font\": {\"color\": \"rgba(0, 100, 0, 1)\", \"family\": \"Arial\", \"size\": 14}, \"text\": \"39.69%\", \"showarrow\": false}, {\"y\": 20.59, \"x\": \"Sanitation\", \"font\": {\"color\": \"rgba(0, 100, 0, 1)\", \"family\": \"Arial\", \"size\": 14}, \"text\": \"18.89%\", \"showarrow\": false}, {\"y\": 19.45, \"x\": \"Reconstruction\", \"font\": {\"color\": \"rgba(0, 100, 0, 1)\", \"family\": \"Arial\", \"size\": 14}, \"text\": \"17.75%\", \"showarrow\": false}, {\"y\": 15.059999999999999, \"x\": \"Electricity\", \"font\": {\"color\": \"rgba(0, 100, 0, 1)\", \"family\": \"Arial\", \"size\": 14}, \"text\": \"13.36%\", \"showarrow\": false}, {\"y\": 12.959999999999999, \"x\": \"Employment\", \"font\": {\"color\": \"rgba(0, 100, 0, 1)\", \"family\": \"Arial\", \"size\": 14}, \"text\": \"11.26%\", \"showarrow\": false}, {\"y\": 11.239999999999998, \"x\": \"Food\", \"font\": {\"color\": \"rgba(0, 100, 0, 1)\", \"family\": \"Arial\", \"size\": 14}, \"text\": \"9.54%\", \"showarrow\": false}, {\"y\": 9.33, \"x\": \"Aid_response\", \"font\": {\"color\": \"rgba(0, 100, 0, 1)\", \"family\": \"Arial\", \"size\": 14}, \"text\": \"7.63%\", \"showarrow\": false}, {\"y\": 8.57, \"x\": \"Dis_preparedness\", \"font\": {\"color\": \"rgba(0, 100, 0, 1)\", \"family\": \"Arial\", \"size\": 14}, \"text\": \"6.87%\", \"showarrow\": false}, {\"y\": 6.09, \"x\": \"Shelter\", \"font\": {\"color\": \"rgba(0, 100, 0, 1)\", \"family\": \"Arial\", \"size\": 14}, \"text\": \"4.39%\", \"showarrow\": false}, {\"y\": 4.37, \"x\": \"Diseases\", \"font\": {\"color\": \"rgba(0, 100, 0, 1)\", \"family\": \"Arial\", \"size\": 14}, \"text\": \"2.67%\", \"showarrow\": false}, {\"y\": 3.99, \"x\": \"Weather\", \"font\": {\"color\": \"rgba(0, 100, 0, 1)\", \"family\": \"Arial\", \"size\": 14}, \"text\": \"2.29%\", \"showarrow\": false}, {\"y\": 3.23, \"x\": \"Other\", \"font\": {\"color\": \"rgba(0, 100, 0, 1)\", \"family\": \"Arial\", \"size\": 14}, \"text\": \"1.53%\", \"showarrow\": false}, {\"y\": 2.65, \"x\": \"Security\", \"font\": {\"color\": \"rgba(0, 100, 0, 1)\", \"family\": \"Arial\", \"size\": 14}, \"text\": \"0.95%\", \"showarrow\": false}, {\"y\": 2.08, \"x\": \"Org_feedback\", \"font\": {\"color\": \"rgba(0, 100, 0, 1)\", \"family\": \"Arial\", \"size\": 14}, \"text\": \"0.38%\", \"showarrow\": false}], \"xaxis\": {\"tickangle\": -45}, \"title\": \"Information needs\"}, {\"linkText\": \"Export to plot.ly\", \"showLink\": true})});</script>"
      ],
      "text/vnd.plotly.v1+html": [
       "<div id=\"1df1dbee-5514-4994-a055-1772103573de\" style=\"height: 525px; width: 700px;\" class=\"plotly-graph-div\"></div><script type=\"text/javascript\">require([\"plotly\"], function(Plotly) { window.PLOTLYENV=window.PLOTLYENV || {};window.PLOTLYENV.BASE_URL=\"https://plot.ly\";Plotly.newPlot(\"1df1dbee-5514-4994-a055-1772103573de\", [{\"y\": [69.85, 56.49, 49.43, 48.66, 39.69, 18.89, 17.75, 13.36, 11.26, 9.54, 7.63, 6.87, 4.39, 2.67, 2.29, 1.53, 0.95, 0.38], \"x\": [\"Public_services\", \"Health_advise\", \"Environment\", \"Education\", \"First_aid\", \"Sanitation\", \"Reconstruction\", \"Electricity\", \"Employment\", \"Food\", \"Aid_response\", \"Dis_preparedness\", \"Shelter\", \"Diseases\", \"Weather\", \"Other\", \"Security\", \"Org_feedback\"], \"type\": \"bar\", \"marker\": {\"color\": \"rgb(258,225,225)\", \"line\": {\"color\": \"rgb(192,0,0)\", \"width\": 1.5}}}], {\"width\": 700, \"annotations\": [{\"y\": 71.55, \"x\": \"Public_services\", \"font\": {\"color\": \"rgba(0, 100, 0, 1)\", \"family\": \"Arial\", \"size\": 14}, \"text\": \"69.85%\", \"showarrow\": false}, {\"y\": 58.190000000000005, \"x\": \"Health_advise\", \"font\": {\"color\": \"rgba(0, 100, 0, 1)\", \"family\": \"Arial\", \"size\": 14}, \"text\": \"56.49%\", \"showarrow\": false}, {\"y\": 51.13, \"x\": \"Environment\", \"font\": {\"color\": \"rgba(0, 100, 0, 1)\", \"family\": \"Arial\", \"size\": 14}, \"text\": \"49.43%\", \"showarrow\": false}, {\"y\": 50.36, \"x\": \"Education\", \"font\": {\"color\": \"rgba(0, 100, 0, 1)\", \"family\": \"Arial\", \"size\": 14}, \"text\": \"48.66%\", \"showarrow\": false}, {\"y\": 41.39, \"x\": \"First_aid\", \"font\": {\"color\": \"rgba(0, 100, 0, 1)\", \"family\": \"Arial\", \"size\": 14}, \"text\": \"39.69%\", \"showarrow\": false}, {\"y\": 20.59, \"x\": \"Sanitation\", \"font\": {\"color\": \"rgba(0, 100, 0, 1)\", \"family\": \"Arial\", \"size\": 14}, \"text\": \"18.89%\", \"showarrow\": false}, {\"y\": 19.45, \"x\": \"Reconstruction\", \"font\": {\"color\": \"rgba(0, 100, 0, 1)\", \"family\": \"Arial\", \"size\": 14}, \"text\": \"17.75%\", \"showarrow\": false}, {\"y\": 15.059999999999999, \"x\": \"Electricity\", \"font\": {\"color\": \"rgba(0, 100, 0, 1)\", \"family\": \"Arial\", \"size\": 14}, \"text\": \"13.36%\", \"showarrow\": false}, {\"y\": 12.959999999999999, \"x\": \"Employment\", \"font\": {\"color\": \"rgba(0, 100, 0, 1)\", \"family\": \"Arial\", \"size\": 14}, \"text\": \"11.26%\", \"showarrow\": false}, {\"y\": 11.239999999999998, \"x\": \"Food\", \"font\": {\"color\": \"rgba(0, 100, 0, 1)\", \"family\": \"Arial\", \"size\": 14}, \"text\": \"9.54%\", \"showarrow\": false}, {\"y\": 9.33, \"x\": \"Aid_response\", \"font\": {\"color\": \"rgba(0, 100, 0, 1)\", \"family\": \"Arial\", \"size\": 14}, \"text\": \"7.63%\", \"showarrow\": false}, {\"y\": 8.57, \"x\": \"Dis_preparedness\", \"font\": {\"color\": \"rgba(0, 100, 0, 1)\", \"family\": \"Arial\", \"size\": 14}, \"text\": \"6.87%\", \"showarrow\": false}, {\"y\": 6.09, \"x\": \"Shelter\", \"font\": {\"color\": \"rgba(0, 100, 0, 1)\", \"family\": \"Arial\", \"size\": 14}, \"text\": \"4.39%\", \"showarrow\": false}, {\"y\": 4.37, \"x\": \"Diseases\", \"font\": {\"color\": \"rgba(0, 100, 0, 1)\", \"family\": \"Arial\", \"size\": 14}, \"text\": \"2.67%\", \"showarrow\": false}, {\"y\": 3.99, \"x\": \"Weather\", \"font\": {\"color\": \"rgba(0, 100, 0, 1)\", \"family\": \"Arial\", \"size\": 14}, \"text\": \"2.29%\", \"showarrow\": false}, {\"y\": 3.23, \"x\": \"Other\", \"font\": {\"color\": \"rgba(0, 100, 0, 1)\", \"family\": \"Arial\", \"size\": 14}, \"text\": \"1.53%\", \"showarrow\": false}, {\"y\": 2.65, \"x\": \"Security\", \"font\": {\"color\": \"rgba(0, 100, 0, 1)\", \"family\": \"Arial\", \"size\": 14}, \"text\": \"0.95%\", \"showarrow\": false}, {\"y\": 2.08, \"x\": \"Org_feedback\", \"font\": {\"color\": \"rgba(0, 100, 0, 1)\", \"family\": \"Arial\", \"size\": 14}, \"text\": \"0.38%\", \"showarrow\": false}], \"xaxis\": {\"tickangle\": -45}, \"title\": \"Information needs\"}, {\"linkText\": \"Export to plot.ly\", \"showLink\": true})});</script>"
      ]
     },
     "metadata": {},
     "output_type": "display_data"
    }
   ],
   "source": [
    "perc_ocurrences(reg_survey, 'cea_info_needs', \"Information needs\")"
   ]
  },
  {
   "cell_type": "code",
   "execution_count": 65,
   "metadata": {},
   "outputs": [
    {
     "data": {
      "application/vnd.plotly.v1+json": {
       "data": [
        {
         "marker": {
          "color": "rgb(258,225,225)",
          "line": {
           "color": "rgb(192,0,0)",
           "width": 1.5
          }
         },
         "type": "bar",
         "x": [
          "Com_committee",
          "Face_face",
          "Com_meetings",
          "Phone_or_speaking",
          "Anonymous_phone",
          "Not_comfortable",
          "Letter",
          "Other"
         ],
         "y": [
          57.63,
          29.01,
          19.85,
          1.72,
          0.76,
          0.57,
          0.57,
          0.57
         ]
        }
       ],
       "layout": {
        "annotations": [
         {
          "font": {
           "color": "rgba(0, 100, 0, 1)",
           "family": "Arial",
           "size": 14
          },
          "showarrow": false,
          "text": "57.63%",
          "x": "Com_committee",
          "y": 59.330000000000005
         },
         {
          "font": {
           "color": "rgba(0, 100, 0, 1)",
           "family": "Arial",
           "size": 14
          },
          "showarrow": false,
          "text": "29.01%",
          "x": "Face_face",
          "y": 30.71
         },
         {
          "font": {
           "color": "rgba(0, 100, 0, 1)",
           "family": "Arial",
           "size": 14
          },
          "showarrow": false,
          "text": "19.85%",
          "x": "Com_meetings",
          "y": 21.55
         },
         {
          "font": {
           "color": "rgba(0, 100, 0, 1)",
           "family": "Arial",
           "size": 14
          },
          "showarrow": false,
          "text": "1.72%",
          "x": "Phone_or_speaking",
          "y": 3.42
         },
         {
          "font": {
           "color": "rgba(0, 100, 0, 1)",
           "family": "Arial",
           "size": 14
          },
          "showarrow": false,
          "text": "0.76%",
          "x": "Anonymous_phone",
          "y": 2.46
         },
         {
          "font": {
           "color": "rgba(0, 100, 0, 1)",
           "family": "Arial",
           "size": 14
          },
          "showarrow": false,
          "text": "0.57%",
          "x": "Not_comfortable",
          "y": 2.27
         },
         {
          "font": {
           "color": "rgba(0, 100, 0, 1)",
           "family": "Arial",
           "size": 14
          },
          "showarrow": false,
          "text": "0.57%",
          "x": "Letter",
          "y": 2.27
         },
         {
          "font": {
           "color": "rgba(0, 100, 0, 1)",
           "family": "Arial",
           "size": 14
          },
          "showarrow": false,
          "text": "0.57%",
          "x": "Other",
          "y": 2.27
         }
        ],
        "title": "Channel to communicate with SRCS",
        "width": 700,
        "xaxis": {
         "tickangle": -45
        }
       }
      },
      "text/html": [
       "<div id=\"857cf69b-36ed-4a7c-b2d8-e354626ae9bc\" style=\"height: 525px; width: 700px;\" class=\"plotly-graph-div\"></div><script type=\"text/javascript\">require([\"plotly\"], function(Plotly) { window.PLOTLYENV=window.PLOTLYENV || {};window.PLOTLYENV.BASE_URL=\"https://plot.ly\";Plotly.newPlot(\"857cf69b-36ed-4a7c-b2d8-e354626ae9bc\", [{\"y\": [57.63, 29.01, 19.85, 1.72, 0.76, 0.57, 0.57, 0.57], \"x\": [\"Com_committee\", \"Face_face\", \"Com_meetings\", \"Phone_or_speaking\", \"Anonymous_phone\", \"Not_comfortable\", \"Letter\", \"Other\"], \"type\": \"bar\", \"marker\": {\"color\": \"rgb(258,225,225)\", \"line\": {\"color\": \"rgb(192,0,0)\", \"width\": 1.5}}}], {\"width\": 700, \"annotations\": [{\"y\": 59.330000000000005, \"x\": \"Com_committee\", \"font\": {\"color\": \"rgba(0, 100, 0, 1)\", \"family\": \"Arial\", \"size\": 14}, \"text\": \"57.63%\", \"showarrow\": false}, {\"y\": 30.71, \"x\": \"Face_face\", \"font\": {\"color\": \"rgba(0, 100, 0, 1)\", \"family\": \"Arial\", \"size\": 14}, \"text\": \"29.01%\", \"showarrow\": false}, {\"y\": 21.55, \"x\": \"Com_meetings\", \"font\": {\"color\": \"rgba(0, 100, 0, 1)\", \"family\": \"Arial\", \"size\": 14}, \"text\": \"19.85%\", \"showarrow\": false}, {\"y\": 3.42, \"x\": \"Phone_or_speaking\", \"font\": {\"color\": \"rgba(0, 100, 0, 1)\", \"family\": \"Arial\", \"size\": 14}, \"text\": \"1.72%\", \"showarrow\": false}, {\"y\": 2.46, \"x\": \"Anonymous_phone\", \"font\": {\"color\": \"rgba(0, 100, 0, 1)\", \"family\": \"Arial\", \"size\": 14}, \"text\": \"0.76%\", \"showarrow\": false}, {\"y\": 2.27, \"x\": \"Not_comfortable\", \"font\": {\"color\": \"rgba(0, 100, 0, 1)\", \"family\": \"Arial\", \"size\": 14}, \"text\": \"0.57%\", \"showarrow\": false}, {\"y\": 2.27, \"x\": \"Letter\", \"font\": {\"color\": \"rgba(0, 100, 0, 1)\", \"family\": \"Arial\", \"size\": 14}, \"text\": \"0.57%\", \"showarrow\": false}, {\"y\": 2.27, \"x\": \"Other\", \"font\": {\"color\": \"rgba(0, 100, 0, 1)\", \"family\": \"Arial\", \"size\": 14}, \"text\": \"0.57%\", \"showarrow\": false}], \"xaxis\": {\"tickangle\": -45}, \"title\": \"Channel to communicate with SRCS\"}, {\"linkText\": \"Export to plot.ly\", \"showLink\": true})});</script>"
      ],
      "text/vnd.plotly.v1+html": [
       "<div id=\"857cf69b-36ed-4a7c-b2d8-e354626ae9bc\" style=\"height: 525px; width: 700px;\" class=\"plotly-graph-div\"></div><script type=\"text/javascript\">require([\"plotly\"], function(Plotly) { window.PLOTLYENV=window.PLOTLYENV || {};window.PLOTLYENV.BASE_URL=\"https://plot.ly\";Plotly.newPlot(\"857cf69b-36ed-4a7c-b2d8-e354626ae9bc\", [{\"y\": [57.63, 29.01, 19.85, 1.72, 0.76, 0.57, 0.57, 0.57], \"x\": [\"Com_committee\", \"Face_face\", \"Com_meetings\", \"Phone_or_speaking\", \"Anonymous_phone\", \"Not_comfortable\", \"Letter\", \"Other\"], \"type\": \"bar\", \"marker\": {\"color\": \"rgb(258,225,225)\", \"line\": {\"color\": \"rgb(192,0,0)\", \"width\": 1.5}}}], {\"width\": 700, \"annotations\": [{\"y\": 59.330000000000005, \"x\": \"Com_committee\", \"font\": {\"color\": \"rgba(0, 100, 0, 1)\", \"family\": \"Arial\", \"size\": 14}, \"text\": \"57.63%\", \"showarrow\": false}, {\"y\": 30.71, \"x\": \"Face_face\", \"font\": {\"color\": \"rgba(0, 100, 0, 1)\", \"family\": \"Arial\", \"size\": 14}, \"text\": \"29.01%\", \"showarrow\": false}, {\"y\": 21.55, \"x\": \"Com_meetings\", \"font\": {\"color\": \"rgba(0, 100, 0, 1)\", \"family\": \"Arial\", \"size\": 14}, \"text\": \"19.85%\", \"showarrow\": false}, {\"y\": 3.42, \"x\": \"Phone_or_speaking\", \"font\": {\"color\": \"rgba(0, 100, 0, 1)\", \"family\": \"Arial\", \"size\": 14}, \"text\": \"1.72%\", \"showarrow\": false}, {\"y\": 2.46, \"x\": \"Anonymous_phone\", \"font\": {\"color\": \"rgba(0, 100, 0, 1)\", \"family\": \"Arial\", \"size\": 14}, \"text\": \"0.76%\", \"showarrow\": false}, {\"y\": 2.27, \"x\": \"Not_comfortable\", \"font\": {\"color\": \"rgba(0, 100, 0, 1)\", \"family\": \"Arial\", \"size\": 14}, \"text\": \"0.57%\", \"showarrow\": false}, {\"y\": 2.27, \"x\": \"Letter\", \"font\": {\"color\": \"rgba(0, 100, 0, 1)\", \"family\": \"Arial\", \"size\": 14}, \"text\": \"0.57%\", \"showarrow\": false}, {\"y\": 2.27, \"x\": \"Other\", \"font\": {\"color\": \"rgba(0, 100, 0, 1)\", \"family\": \"Arial\", \"size\": 14}, \"text\": \"0.57%\", \"showarrow\": false}], \"xaxis\": {\"tickangle\": -45}, \"title\": \"Channel to communicate with SRCS\"}, {\"linkText\": \"Export to plot.ly\", \"showLink\": true})});</script>"
      ]
     },
     "metadata": {},
     "output_type": "display_data"
    }
   ],
   "source": [
    "perc_ocurrences(reg_survey, 'cea_org_feedback', \"Channel to communicate with SRCS\")"
   ]
  }
 ],
 "metadata": {
  "kernelspec": {
   "display_name": "Python 2",
   "language": "python",
   "name": "python2"
  },
  "language_info": {
   "codemirror_mode": {
    "name": "ipython",
    "version": 2
   },
   "file_extension": ".py",
   "mimetype": "text/x-python",
   "name": "python",
   "nbconvert_exporter": "python",
   "pygments_lexer": "ipython2",
   "version": "2.7.12"
  }
 },
 "nbformat": 4,
 "nbformat_minor": 2
}
