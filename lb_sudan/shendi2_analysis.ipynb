{
 "cells": [
  {
   "cell_type": "code",
   "execution_count": 2,
   "metadata": {},
   "outputs": [
    {
     "data": {
      "text/html": [
       "<script>requirejs.config({paths: { 'plotly': ['https://cdn.plot.ly/plotly-latest.min']},});if(!window.Plotly) {{require(['plotly'],function(plotly) {window.Plotly=plotly;});}}</script>"
      ],
      "text/vnd.plotly.v1+html": [
       "<script>requirejs.config({paths: { 'plotly': ['https://cdn.plot.ly/plotly-latest.min']},});if(!window.Plotly) {{require(['plotly'],function(plotly) {window.Plotly=plotly;});}}</script>"
      ]
     },
     "metadata": {},
     "output_type": "display_data"
    }
   ],
   "source": [
    "import pandas as pd\n",
    "import numpy as np\n",
    "import math\n",
    "\n",
    "from plotly.offline import download_plotlyjs, init_notebook_mode, plot, iplot\n",
    "import plotly.graph_objs as go\n",
    "import plotly.figure_factory as ff\n",
    "\n",
    "from IPython.display import display, HTML\n",
    "\n",
    "init_notebook_mode(connected=True)\n",
    "\n",
    "reg_survey_complete = pd.read_excel(\"Shendi_baseline_survey_for_CC_project_in_Sudan_results_20171224_utf8_villages_corregidas.xlsx\", encoding = 'utf_8')"
   ]
  },
  {
   "cell_type": "markdown",
   "metadata": {},
   "source": [
    "# <center>Baseline survey results for the Locality of El Golid </center>\n",
    "### <center>*Climate Change and Livelihoods situation of 15 villages located in El Golid Locality, Northern State*</center>"
   ]
  },
  {
   "cell_type": "code",
   "execution_count": 3,
   "metadata": {},
   "outputs": [
    {
     "data": {
      "text/html": [
       "<script>\n",
       "code_show=true; \n",
       "function code_toggle() {\n",
       " if (code_show){\n",
       " $('div.input').hide();\n",
       " } else {\n",
       " $('div.input').show();\n",
       " }\n",
       " code_show = !code_show\n",
       "} \n",
       "$( document ).ready(code_toggle);\n",
       "$( document ).ready(code_toggle);\n",
       "</script>\n",
       "The raw code for this IPython notebook is by default hidden for easier reading.\n",
       "To toggle on/off the raw code, click <a href=\"javascript:code_toggle()\">here</a>."
      ],
      "text/plain": [
       "<IPython.core.display.HTML object>"
      ]
     },
     "execution_count": 3,
     "metadata": {},
     "output_type": "execute_result"
    }
   ],
   "source": [
    "HTML('''<script>\n",
    "code_show=true; \n",
    "function code_toggle() {\n",
    " if (code_show){\n",
    " $('div.input').hide();\n",
    " } else {\n",
    " $('div.input').show();\n",
    " }\n",
    " code_show = !code_show\n",
    "} \n",
    "$( document ).ready(code_toggle);\n",
    "$( document ).ready(code_toggle);\n",
    "</script>\n",
    "The raw code for this IPython notebook is by default hidden for easier reading.\n",
    "To toggle on/off the raw code, click <a href=\"javascript:code_toggle()\">here</a>.''')\n",
    "\n",
    "#bc_wages.head()\n",
    "#reg_csv.info()\n",
    "#bc_wages.describe()"
   ]
  },
  {
   "cell_type": "code",
   "execution_count": 4,
   "metadata": {},
   "outputs": [],
   "source": [
    "# Functions\n",
    "\n",
    "# Get ocurrences of each value for a multiple_select field\n",
    "def get_ocurrences(df, column_name):\n",
    "    values_sums = df.groupby(column_name).size()\n",
    "    values_names = reduce(lambda x, y: x + y,map(lambda x: x.split(), values_sums.index.values))\n",
    "    result = pd.Series()\n",
    "    for i in values_names:\n",
    "        result[i] = values_sums.loc[[i in idx for idx in values_sums.index]].sum()\n",
    "    return result\n",
    "\n",
    "def get_percentiles_values(sorted_serie, percentiles):\n",
    "    if len(percentiles) == 0:\n",
    "        return []\n",
    "    else:\n",
    "        quantity = sorted_serie.sum() * percentiles[0]\n",
    "        for i in sorted_serie.index:\n",
    "            if sorted_serie[i] >= quantity:\n",
    "                return [i] + get_percentiles_values(sorted_serie, percentiles[1:])\n",
    "            else:\n",
    "                quantity -= sorted_serie[i]\n",
    "\n",
    "def get_percentiles(sorted_serie, values):\n",
    "    if len(values) == 0:\n",
    "        return []\n",
    "    else:\n",
    "        result = 0\n",
    "        for i in sorted_serie.index:\n",
    "            if values[0] == i:\n",
    "                return [float(result + sorted_serie[i]) / sorted_serie.sum()] + get_percentiles(sorted_serie, values[1:])\n",
    "            elif values[0] < i:\n",
    "                return [float(result) / sorted_serie.sum()] + get_percentiles(sorted_serie, values[1:])\n",
    "            else:\n",
    "                result += sorted_serie[i]\n",
    "        return [1]"
   ]
  },
  {
   "cell_type": "code",
   "execution_count": 5,
   "metadata": {},
   "outputs": [],
   "source": [
    "## File preprocessing\n",
    "#Deleting 'demography:', 'house_assets:', 'incomes:', 'climate_change:' and those prefix which not provide useful info.\n",
    "\n",
    "col_names = reg_survey_complete.columns\n",
    "col_names = col_names.map(lambda x: x[11:] if x.startswith(\"demography:\") else x)\n",
    "col_names = col_names.map(lambda x: x[19:] if x.startswith(\"responding_section:\") else x)\n",
    "col_names = col_names.map(lambda x: x[20:] if x.startswith(\"responding_section2:\") else x)\n",
    "col_names = col_names.map(lambda x: x[13:] if x.startswith(\"house_assets:\") else x)\n",
    "col_names = col_names.map(lambda x: x[8:] if x.startswith(\"incomes:\") else x)\n",
    "col_names = col_names.map(lambda x: x[15:] if x.startswith(\"climate_change:\") else x)\n",
    "col_names = col_names.map(lambda x: x[11:] if x.startswith(\"intro_data:\") else x)\n",
    "col_names = col_names.map(lambda x: x[:11] + x[16:] if x.startswith(\"respondant_page:\") else x)\n",
    "col_names = col_names.map(lambda x: x[16:] if x.startswith(\"general_hh_data:\") else x)\n",
    "col_names = col_names.map(lambda x: x[6:] if x.startswith(\"males:\") else x)\n",
    "col_names = col_names.map(lambda x: x[8:] if x.startswith(\"females:\") else x)\n",
    "col_names = col_names.map(lambda x: x[11:] if x.startswith(\"importance:\") else x)\n",
    "col_names = col_names.map(lambda x: x[19:] if x.startswith(\"percentage_incomes:\") else x)\n",
    "col_names = col_names.map(lambda x: x[:10] + x[16:] if x.startswith(\"agri_gard:agri\") else x)\n",
    "col_names = col_names.map(lambda x: x[:10] + x[20:] if x.startswith(\"livestock:livestock_\") else x)\n",
    "col_names = col_names.map(lambda x: x[:10] + x[21:] if x.startswith(\"livestock:livestock\") else x)\n",
    "col_names = col_names.map(lambda x: x[:8] + x[17:] if x.startswith(\"fishing:fishing\") else x)\n",
    "col_names = col_names.map(lambda x: x[:7] + x[15:] if x.startswith(\"labour:labour\") else x)\n",
    "col_names = col_names.map(lambda x: x[:7] + x[14:] if x.startswith(\"labour:labour\") else x)\n",
    "col_names = col_names.map(lambda x: x[:12] + x[25:] if x.startswith(\"handicrafts:handicrafts\") else x)\n",
    "col_names = col_names.map(lambda x: x[:9] + x[19:] if x.startswith(\"forestry:forestry\") else x)\n",
    "col_names = col_names.map(lambda x: x[:6] + x[13:] if x.startswith(\"other:other\") else x)\n",
    "col_names = col_names.map(lambda x: x[7:] if x.startswith(\"coping:\") else x)\n",
    "col_names = col_names.map(lambda x: x[4:] if x.startswith((\"cc1:\", \"cc2:\", \"cc3:\", \"ews:\")) else x)\n",
    "col_names = col_names.map(lambda x: x[10:] if x.startswith(\"renewable:\") else x)\n",
    "col_names = col_names.map(lambda x: x[12:] if x.startswith(\"agriculture_cc_effects:\") else x)\n",
    "col_names = col_names.map(lambda x: x[10:] if x.startswith(\"livestock_cc_effects:\") else x)"
   ]
  },
  {
   "cell_type": "code",
   "execution_count": 6,
   "metadata": {},
   "outputs": [
    {
     "name": "stdout",
     "output_type": "stream",
     "text": [
      "[u'deviceid' u'surveyor_name' u'number' u'village'\n",
      " u'geocoordinates_Latitude' u'geocoordinates_Longitude'\n",
      " u'geocoordinates_Altitude' u'geocoordinates_Accuracy' u'respondant_gender'\n",
      " u'respondant_age' u'respondant_marital_status' u'respondant_head_hh'\n",
      " u'education' u'handicapped_member' u'number_wifes' u'number_wifes_aux'\n",
      " u'male_infant' u'male_child' u'male_child_school' u'male_teenager'\n",
      " u'male_teenager_school' u'male_adult' u'male_elderly' u'female_infant'\n",
      " u'female_child' u'female_child_school' u'female_teenager'\n",
      " u'female_teenager_school' u'female_adult' u'female_elderly'\n",
      " u'family_males' u'family_females' u'family_total' u'family_confirm'\n",
      " u'house_material' u'belongings' u'kitchen_type' u'src_incomes' u'imp_agri'\n",
      " u'imp_garden' u'imp_livestock' u'imp_fishing' u'imp_labour'\n",
      " u'imp_forestry' u'imp_handcrafts' u'imp_other' u'perc_incomes_agri'\n",
      " u'perc_incomes_garden' u'perc_incomes_livestock' u'perc_incomes_fishing'\n",
      " u'perc_incomes_labour' u'perc_incomes_forestry' u'perc_incomes_handcrafts'\n",
      " u'perc_incomes_other' u'agri_gard_ackno_agri' u'agri_gard_land_property'\n",
      " u'agri_gard_land_unit' u'agri_gard_land_quantity'\n",
      " u'agri_gard_use_quantity' u'agri_gard_protected_farmlands'\n",
      " u'agri_gard_water_harv_farmlands' u'agri_gard_members_involved'\n",
      " u'agri_gard_participants' u'agri_gard_training'\n",
      " u'agri_gard_activity_support' u'agri_gard_farm_tools'\n",
      " u'agri_gard_farm_tech' u'agri_gard_seeds' u'agri_gard_seller_member'\n",
      " u'agri_gard_agri_crops' u'livestock_ackno_livestock'\n",
      " u'livestock_members_involved' u'livestock_participants'\n",
      " u'livestock_training' u'livestock_activity_support' u'livestock_type'\n",
      " u'livestock_number_cattle' u'livestock_last_year_cattle'\n",
      " u'livestock_number_goats' u'livestock_last_year_goats'\n",
      " u'livestock_number_sheep' u'livestock_last_year_sheep'\n",
      " u'livestock_number_camel' u'livestock_last_year_camel'\n",
      " u'livestock_number_chicken' u'livestock_last_year_chicken'\n",
      " u'livestock_selling' u'livestock_social' u'livestock_milk'\n",
      " u'livestock_meat' u'livestock_savings' u'livestock_seller_member'\n",
      " u'livestock_fodder_fed' u'fishing_ackno_fishing'\n",
      " u'fishing_members_involved' u'fishing_participants' u'fishing_training'\n",
      " u'fishing_activity_support' u'fishing_annual_incomes'\n",
      " u'fishing_seller_member' u'fishing_boats_property' u'labour_ackno_labour'\n",
      " u'labour_participants' u'labour_training' u'labour_employment_type'\n",
      " u'labour_sector' u'labour_work_term' u'labour_working_months'\n",
      " u'labour_daily_salary' u'labour_annual_incomes' u'labour_worker_member'\n",
      " u'labour_insurances' u'handicrafts_ackno_handicrafts'\n",
      " u'handicrafts_participants' u'handicrafts_training'\n",
      " u'handicrafts_activity_support' u'handicrafts_annual_incomes'\n",
      " u'handicrafts_working_months' u'forestry_ackno_forestry'\n",
      " u'forestry_participants' u'forestry_training' u'forestry_activity_support'\n",
      " u'forestry_land_property' u'forestry_land_quantity'\n",
      " u'forestry_forestry_type' u'forestry_seller_member' u'other_ackno_other'\n",
      " u'other_participants' u'other_training' u'other_training_type'\n",
      " u'other_seller_member' u'coping_strat' u'other_cop_strat' u'cc_knowledge'\n",
      " u'cc_impacts' u'affected_by_cc' u'taking_action_cc' u'taken_actions_cc'\n",
      " u'no_action_cc' u'changed_rainy_season' u'normal_rainy_season'\n",
      " u'last_year_rainy_season' u'temps_change' u'sand_movements'\n",
      " u'water_availability' u'ews_knowledge' u'ews_type' u'useful_ews'\n",
      " u'use_ews' u'renewable_knowledge' u'solar_energy'\n",
      " u'cc_effects_changed_production' u'cc_effects_adaptation_techniques'\n",
      " u'cc_effects_explain_new_techs' u'cc_effects_sand_affected_farmlands'\n",
      " u'cc_effects_grassland_availability' u'cc_effects_fodder_availability'\n",
      " u'cc_effects_fodder_prices' u'cc_effects_water_availability'\n",
      " u'meta_instanceID']\n"
     ]
    }
   ],
   "source": [
    "# Replace ':' with '_' for compatibility reasons.\n",
    "col_names = col_names.map(lambda x: x[:14] + '_' + x[15:] if x.startswith(\"geocoordinates:\") else x)\n",
    "col_names = col_names.map(lambda x: x[:9] + '_' + x[10:] if x.startswith(\"agri_gard:\") else x)\n",
    "col_names = col_names.map(lambda x: x[:9] + '_' + x[10:] if x.startswith(\"livestock:\") else x)\n",
    "col_names = col_names.map(lambda x: x[:7] + '_' + x[8:] if x.startswith(\"fishing:\") else x)\n",
    "col_names = col_names.map(lambda x: x[:6] + '_' + x[7:] if x.startswith(\"labour:\") else x)\n",
    "col_names = col_names.map(lambda x: x[:11] + '_' + x[12:] if x.startswith(\"handicrafts:\") else x)\n",
    "col_names = col_names.map(lambda x: x[:8] + '_' + x[9:] if x.startswith(\"forestry:\") else x)\n",
    "col_names = col_names.map(lambda x: x[:5] + '_' + x[6:] if x.startswith(\"other:\") else x)\n",
    "col_names = col_names.map(lambda x: x[:10] + '_' + x[11:] if x.startswith(\"cc_effects:\") else x)\n",
    "col_names = col_names.map(lambda x: x[:4] + '_' + x[5:] if x.startswith(\"meta:\") else x)\n",
    "\n",
    "col_names = col_names.map(lambda x: 'livestock_lost_goat' if x == 'livestock_lost_goats' else x)\n",
    "\n",
    "print col_names.values\n",
    "\n",
    "reg_survey_complete.columns = col_names"
   ]
  },
  {
   "cell_type": "code",
   "execution_count": 7,
   "metadata": {},
   "outputs": [],
   "source": [
    "# Processing NaN and void values\n",
    "\n",
    "values = {\n",
    "    'respondant_marital_status': 'no_answer',\n",
    "    'house_material': 'no_answer',\n",
    "    'kitchen_type': 'no_answer',\n",
    "    'src_incomes': 'none',\n",
    "    'use_ews': 'no_answer',\n",
    "    'renewable_knowledge': 'no_answer',\n",
    "    'solar_energy': 'no_answer',\n",
    "    'livestock_selling': 'no_answer',\n",
    "    'livestock_social': 'no_answer',\n",
    "    'livestock_milk': 'no_answer',\n",
    "    'livestock_meat': 'no_answer',\n",
    "    'livestock_savings': 'no_answer',\n",
    "    'labour_participants': 'no_answer',\n",
    "    'agri_gard_water_harv_farmlands': 0,\n",
    "    'agri_gard_land_quantity': 0,\n",
    "    'cc_effects_sand_affected_farmlands': 0\n",
    "}\n",
    "reg_survey_complete.fillna(value=values, inplace=True)"
   ]
  },
  {
   "cell_type": "code",
   "execution_count": 46,
   "metadata": {},
   "outputs": [
    {
     "name": "stdout",
     "output_type": "stream",
     "text": [
      "{nan: nan, 1.0: u'\\u0627\\u0644\\u0628\\u0648\\u0627\\u0644\\u064a\\u062f \\u0627\\u0644\\u0633\\u062a\\u064a\\u0631', 2.0: u'\\u0628\\u0626\\u0631 \\u0627\\u0644\\u0634\\u064a\\u0646', 3.0: u'\\u0627\\u0644\\u0642\\u0647\\u064a\\u062f \\u0627\\u0644\\u062e\\u0644\\u0648\\u0627\\u062a', 4.0: u'\\u0628\\u0626\\u0631 \\u0627\\u0644\\u064a\\u0630\\u064a\\u062f', 5.0: u'\\u0627\\u0645 \\u0633\\u0643\\u0631\\u0629', 6.0: u'\\u0627\\u0645 \\u0639\\u0634\\u064a\\u0631\\u0629 \\u0627\\u0644\\u063a\\u0631\\u0628\\u064a\\u0629', 7.0: u'\\u0627\\u0645 \\u0639\\u0634\\u064a\\u0631\\u0629 \\u0627\\u0644\\u0634\\u0631\\u0642\\u064a\\u0629', 8.0: u'\\u0628\\u0626\\u0631 \\u0627\\u0644\\u0633\\u0642\\u064a\\u062f\\u064a ', 9.0: u'\\u0628\\u0626\\u0631 \\u0627\\u0644\\u0633\\u0644\\u0645\\u0627\\u0646\\u064a\\u0629', 10.0: u'\\u0628\\u0626\\u0631 \\u0627\\u0644\\u0641\\u0642\\u064a\\u0631\\u0629 ', 11.0: u'\\u0628\\u0626\\u0631 \\u0628\\u0643\\u0648\\u0631\\u064a', 12.0: u'\\u0628\\u0626\\u0631 \\u0648\\u062f \\u0642\\u062f\\u064a\\u0645', 13.0: u'\\u0634\\u0631\\u064a\\u0634\\u0629', 14.0: u'\\u0643\\u0648\\u0639 \\u0627\\u0644\\u0633\\u0631\\u064a\\u062d', 15.0: u'\\u0648\\u0627\\u062f\\u064a \\u0627\\u0644\\u062f\\u0627\\u0646'}\n",
      "{'ar': {1.0: u'\\u0627\\u0644\\u0628\\u0648\\u0627\\u0644\\u064a\\u062f \\u0627\\u0644\\u0633\\u062a\\u064a\\u0631', 2.0: u'\\u0628\\u0626\\u0631 \\u0627\\u0644\\u0634\\u064a\\u0646', 3.0: u'\\u0627\\u0644\\u0642\\u0647\\u064a\\u062f \\u0627\\u0644\\u062e\\u0644\\u0648\\u0627\\u062a', 4.0: u'\\u0628\\u0626\\u0631 \\u0627\\u0644\\u064a\\u0630\\u064a\\u062f', 5.0: u'\\u0627\\u0645 \\u0633\\u0643\\u0631\\u0629', 6.0: u'\\u0627\\u0645 \\u0639\\u0634\\u064a\\u0631\\u0629 \\u0627\\u0644\\u063a\\u0631\\u0628\\u064a\\u0629', 7.0: u'\\u0627\\u0645 \\u0639\\u0634\\u064a\\u0631\\u0629 \\u0627\\u0644\\u0634\\u0631\\u0642\\u064a\\u0629', 8.0: u'\\u0628\\u0626\\u0631 \\u0627\\u0644\\u0633\\u0642\\u064a\\u062f\\u064a ', 9.0: u'\\u0628\\u0626\\u0631 \\u0627\\u0644\\u0633\\u0644\\u0645\\u0627\\u0646\\u064a\\u0629', 10.0: u'\\u0628\\u0626\\u0631 \\u0627\\u0644\\u0641\\u0642\\u064a\\u0631\\u0629 ', 11.0: u'\\u0628\\u0626\\u0631 \\u0628\\u0643\\u0648\\u0631\\u064a', 12.0: u'\\u0628\\u0626\\u0631 \\u0648\\u062f \\u0642\\u062f\\u064a\\u0645', 13.0: u'\\u0634\\u0631\\u064a\\u0634\\u0629', 14.0: u'\\u0643\\u0648\\u0639 \\u0627\\u0644\\u0633\\u0631\\u064a\\u062d', 15.0: u'\\u0648\\u0627\\u062f\\u064a \\u0627\\u0644\\u062f\\u0627\\u0646'}, 'en': {nan: nan, 1.0: u'Elbwaleed Elsetayer', 2.0: u'Bir Elsheen', 3.0: u'Elgiheed Elkhalwat', 4.0: u'Bir Elyased W & E', 5.0: u'Om Sokara', 6.0: u'Om Esheera west', 7.0: u'Om Esheera east', 8.0: u'Bir Elsegedi', 9.0: u'Bir Elselemaniya', 10.0: u'Bir Elfageera', 11.0: u'Bir Bakori', 12.0: u'Bir Wad Gadeem', 13.0: u'Shiresha', 14.0: u'Koa Elsereh', 15.0: u'Wadi Eldan'}}\n"
     ]
    }
   ],
   "source": [
    "# Creating villages dict\n",
    "villages = reg_survey_complete['village'].unique()\n",
    "villages_table = pd.read_excel(\"villages_shendi.xlsx\")\n",
    "# Villages dictionary\n",
    "villages_dict = dict()\n",
    "#villages_dict['ar'] = villages_table.set_index('survey_code').to_dict()['Arabic name']\n",
    "ar_dict = villages_table.set_index('survey_code').to_dict()['Arabic name']\n",
    "print ar_dict\n",
    "keys = filter(lambda k: not math.isnan(k), ar_dict)\n",
    "aux = {}\n",
    "for i in keys:\n",
    "    aux[i] = ar_dict[i]\n",
    "villages_dict['ar'] = aux\n",
    "villages_dict['en'] = villages_table.set_index('survey_code').to_dict()['English transcription']\n",
    "#print repr(villages_dict).decode('unicode_escape')\n",
    "reg_survey_complete['village'] = reg_survey_complete.village.map(villages_dict['en'])\n",
    "print villages_dict"
   ]
  },
  {
   "cell_type": "code",
   "execution_count": 9,
   "metadata": {},
   "outputs": [],
   "source": [
    "# For answered surveys\n",
    "reg_survey = reg_survey_complete.copy()"
   ]
  },
  {
   "cell_type": "code",
   "execution_count": 10,
   "metadata": {},
   "outputs": [],
   "source": [
    "# Creating num of LH strategies\n",
    "reg_survey['num_lh_strats'] = reg_survey['src_incomes'].map(lambda x: len(x.split()))"
   ]
  },
  {
   "cell_type": "code",
   "execution_count": 11,
   "metadata": {},
   "outputs": [],
   "source": [
    "# Separate male and female\n",
    "reg_survey_male = reg_survey.loc[reg_survey['respondant_gender'].str.match('male')].copy()\n",
    "reg_survey_female = reg_survey.loc[reg_survey['respondant_gender'].str.match('female')].copy()"
   ]
  },
  {
   "cell_type": "code",
   "execution_count": 12,
   "metadata": {},
   "outputs": [],
   "source": [
    "## Separate per HoHH gender\n",
    "\n",
    "# Respondent is HH\n",
    "reg_survey['married'] = reg_survey['respondant_marital_status'].str.match('married')\n",
    "# Females HoHH\n",
    "reg_survey_female_head = reg_survey[reg_survey['respondant_gender'].str.match('female') &\n",
    "                                      reg_survey['respondant_head_hh'].str.match('yes')].copy()\n",
    "\n",
    "# Females noHoHH\n",
    "reg_survey_female_no_head = reg_survey[reg_survey['respondant_gender'].str.match('female') &\n",
    "                                      reg_survey['respondant_head_hh'].str.match('no')].copy()\n",
    "\n",
    "# Males HoHH + Female noHoHH married\n",
    "reg_survey_male_head = reg_survey[reg_survey['respondant_gender'].str.match('male') &\n",
    "                                      reg_survey['respondant_head_hh'].str.match('yes')].copy()\n",
    "reg_survey_male_head = pd.concat([reg_survey_male_head,\n",
    "                                  reg_survey_female_no_head[reg_survey_female_no_head['married']]])\n",
    "\n",
    "\n",
    "# Add females nHoHH nM with male_adult to male_head\n",
    "reg_survey_female_nHoHH_nM = reg_survey_female_no_head[~reg_survey_female_no_head['married']]\n",
    "reg_survey_male_head = pd.concat([reg_survey_male_head,\n",
    "                                  reg_survey_female_nHoHH_nM[reg_survey_female_nHoHH_nM['male_adult'] > 0]])\n",
    "\n",
    "# Add females nHoHH nM with male_adult to female_head\n",
    "reg_survey_female_head = pd.concat([reg_survey_female_head,\n",
    "                                    reg_survey_female_nHoHH_nM[reg_survey_female_nHoHH_nM['male_adult'] == 0]])\n",
    "\n",
    "# Add males nHoHH with male_adult to male_head\n",
    "reg_survey_male_nHoHH = reg_survey[reg_survey['respondant_gender'].str.match('male') &\n",
    "                                      reg_survey['respondant_head_hh'].str.match('no')].copy()\n",
    "reg_survey_maleHoHH = pd.concat([reg_survey_male_head,\n",
    "                                  reg_survey_male_nHoHH[reg_survey_male_nHoHH['male_adult'] > 0]])\n",
    "\n",
    "# Add females nHoHH with male_adult to female_head\n",
    "reg_survey_femHoHH = pd.concat([reg_survey_female_head,\n",
    "                                  reg_survey_male_nHoHH[reg_survey_male_nHoHH['male_adult'] == 0]])"
   ]
  },
  {
   "cell_type": "code",
   "execution_count": 13,
   "metadata": {},
   "outputs": [],
   "source": [
    "def create_graphs_HoHH(data_func, values_func, labels_func, sum_func, title):\n",
    "    create_three_pie_graphs((reg_survey_femHoHH, reg_survey, reg_survey_maleHoHH), data_func, values_func,\n",
    "                            labels_func, sum_func, title,\n",
    "                            \"Female Head of Household\", .04,\n",
    "                            \"Global\", .5,\n",
    "                            \"Male Head of Household\", .94)\n",
    "\n",
    "def create_graphs_respondent(data_func, values_func, labels_func, sum_func, title):\n",
    "    create_three_pie_graphs((reg_survey_female, reg_survey, reg_survey_male), data_func, values_func,\n",
    "                            labels_func, sum_func, title,\n",
    "                            \"Female Respondent\", .07,\n",
    "                            \"Global\", .5,\n",
    "                            \"Male Respondent\", .91)\n",
    "    \n",
    "def create_three_pie_graphs((df1, df2, df3), data_func, values_func,\n",
    "                            labels_func, sum_func, title,\n",
    "                            title1, title1_x_offset,\n",
    "                            title2, title2_x_offset,\n",
    "                            title3, title3_x_offset):\n",
    "    data_fem = data_func(df1)\n",
    "    data_global = data_func(df2)\n",
    "    data_male = data_func(df3)\n",
    "\n",
    "    fig = {\n",
    "        \"layout\": {\n",
    "            \"title\": title,\n",
    "            \"annotations\": [\n",
    "                {\n",
    "                    \"font\": {\n",
    "                        \"size\": 14\n",
    "                    },\n",
    "                    \"showarrow\": False,\n",
    "                    #\"text\": title1 + \" (\" + str(sum_func(data_fem)) + \")\",\n",
    "                    \"text\": title1,\n",
    "                    \"x\": title1_x_offset,\n",
    "                    \"y\": 1\n",
    "                },\n",
    "                {\n",
    "                    \"font\": {\n",
    "                        \"size\": 14\n",
    "                    },\n",
    "                    \"showarrow\": False,\n",
    "                    #\"text\": title2 + \" (\" + str(sum_func(data_global)) + \")\",\n",
    "                    \"text\": title2,\n",
    "                    \"x\": title2_x_offset,\n",
    "                    \"y\": 1\n",
    "                },\n",
    "                {\n",
    "                    \"font\": {\n",
    "                        \"size\": 14\n",
    "                    },\n",
    "                    \"showarrow\": False,\n",
    "                    #\"text\": title3 + \" (\" + str(sum_func(data_male)) + \")\",\n",
    "                    \"text\": title3,\n",
    "                    \"x\": title3_x_offset,\n",
    "                    \"y\": 1\n",
    "                }\n",
    "            ]\n",
    "        },\n",
    "        \"data\": [\n",
    "            {\n",
    "                \"values\": values_func(data_fem),\n",
    "                \"labels\": labels_func(data_fem),\n",
    "                \"domain\": {\n",
    "                    \"x\": [0, .32]\n",
    "                },\n",
    "                \"type\": \"pie\",\n",
    "                \"sort\": False\n",
    "            },\n",
    "            {\n",
    "                \"values\": values_func(data_global),\n",
    "                \"labels\": labels_func(data_global),\n",
    "                \"domain\": {\n",
    "                    \"x\": [.34, .64]\n",
    "                },\n",
    "                \"type\": \"pie\",\n",
    "                \"sort\": False\n",
    "            },\n",
    "            {\n",
    "                \"values\": values_func(data_male),\n",
    "                \"labels\": labels_func(data_male),\n",
    "                \"domain\": {\n",
    "                    \"x\": [.66, .98]\n",
    "                },\n",
    "                \"type\": \"pie\",\n",
    "                \"sort\": False\n",
    "            }\n",
    "        ]\n",
    "    }\n",
    "\n",
    "    iplot(fig)\n",
    "\n",
    "def create_stacked_bars_graph((df1, df2), data_func, x_func, y_func, title,\n",
    "                              title_df1, title_df2):\n",
    "    data_global = data_func(pd.concat([df1, df2]))\n",
    "    data_fem = data_func(df1)\n",
    "    data_male = data_func(df2)\n",
    "\n",
    "    fig = {\n",
    "        \"layout\": {\n",
    "            \"title\": title,\n",
    "            \"xaxis\": {\n",
    "                \"tickangle\": -45\n",
    "            },\n",
    "            \"barmode\": \"stack\",\n",
    "            \"width\": 700,\n",
    "            \"annotations\": []\n",
    "        },\n",
    "        \"data\": [\n",
    "            {\n",
    "                \"x\": x_func(data_fem),\n",
    "                \"y\": y_func(data_fem),\n",
    "                \"type\": \"bar\",\n",
    "                \"name\": title_df1,\n",
    "                \"marker\": {\n",
    "                    \"color\": 'rgb(225,225,258)',\n",
    "                    \"line\": {\n",
    "                        \"color\": 'rgb(0,0,192)',\n",
    "                        \"width\": 1.5\n",
    "                    }\n",
    "                },\n",
    "            },\n",
    "            {\n",
    "                \"x\": x_func(data_male),\n",
    "                \"y\": y_func(data_male),\n",
    "                \"type\": \"bar\",\n",
    "                \"name\": title_df2,\n",
    "                \"marker\": {\n",
    "                    \"color\": 'rgb(258,225,225)',\n",
    "                    \"line\": {\n",
    "                        \"color\": 'rgb(192,0,0)',\n",
    "                        \"width\": 1.5\n",
    "                    }\n",
    "                },\n",
    "            }\n",
    "        \n",
    "        ]\n",
    "    }\n",
    "\n",
    "\n",
    "#    for i in range(0, len(kitchen_type)):\n",
    "#        fig[\"layout\"][\"annotations\"].append(\n",
    "#            {\n",
    "#                 \"x\": map(lambda x: x.capitalize(), kitchen_perc.index.values)[i],\n",
    "#                 \"y\": kitchen_perc.values[i] + 1.5,\n",
    "#                \"x\": pd.concat([df1, df2])[i],\n",
    "#                \"y\": y_func(data_global)[i] + 1.5,\n",
    "#                \"text\": str(data_global.values[i]) + \"%\",\n",
    "#                \"font\": dict(\n",
    "#                    family='Arial',\n",
    "#                    size=14,\n",
    "#                    color='rgba(0, 0, 100, 1)'\n",
    "#                ),\n",
    "#                \"showarrow\": False,\n",
    "#    \n",
    "#            }\n",
    "#        )\n",
    "#\n",
    "#\n",
    "    iplot(fig)"
   ]
  },
  {
   "cell_type": "markdown",
   "metadata": {},
   "source": [
    "## General data\n",
    "\n",
    "Number of Surveys:"
   ]
  },
  {
   "cell_type": "code",
   "execution_count": 14,
   "metadata": {},
   "outputs": [
    {
     "name": "stdout",
     "output_type": "stream",
     "text": [
      "Total:217\n",
      "\n",
      "Responding:217\n",
      "\n"
     ]
    }
   ],
   "source": [
    "print \"Total:\" + str(reg_survey_complete['deviceid'].count())\n",
    "print \"\"\n",
    "total_surveys = reg_survey['deviceid'].count()\n",
    "print \"Responding:\" + str(total_surveys)\n",
    "print \"\""
   ]
  },
  {
   "cell_type": "markdown",
   "metadata": {},
   "source": [
    "### Respondents per gender and village"
   ]
  },
  {
   "cell_type": "code",
   "execution_count": 15,
   "metadata": {},
   "outputs": [
    {
     "name": "stderr",
     "output_type": "stream",
     "text": [
      "/usr/local/lib/python2.7/dist-packages/ipykernel_launcher.py:13: RuntimeWarning:\n",
      "\n",
      "invalid value encountered in divide\n",
      "\n",
      "/usr/local/lib/python2.7/dist-packages/ipykernel_launcher.py:15: RuntimeWarning:\n",
      "\n",
      "invalid value encountered in divide\n",
      "\n"
     ]
    },
    {
     "data": {
      "text/html": [
       "<div>\n",
       "<style scoped>\n",
       "    .dataframe tbody tr th:only-of-type {\n",
       "        vertical-align: middle;\n",
       "    }\n",
       "\n",
       "    .dataframe tbody tr th {\n",
       "        vertical-align: top;\n",
       "    }\n",
       "\n",
       "    .dataframe thead th {\n",
       "        text-align: right;\n",
       "    }\n",
       "</style>\n",
       "<table border=\"1\" class=\"dataframe\">\n",
       "  <thead>\n",
       "    <tr style=\"text-align: right;\">\n",
       "      <th></th>\n",
       "      <th>Male</th>\n",
       "      <th>Male %</th>\n",
       "      <th>Female</th>\n",
       "      <th>Female %</th>\n",
       "      <th>Total</th>\n",
       "    </tr>\n",
       "    <tr>\n",
       "      <th>village</th>\n",
       "      <th></th>\n",
       "      <th></th>\n",
       "      <th></th>\n",
       "      <th></th>\n",
       "      <th></th>\n",
       "    </tr>\n",
       "  </thead>\n",
       "  <tbody>\n",
       "    <tr>\n",
       "      <th>Total</th>\n",
       "      <td>0</td>\n",
       "      <td>NaN</td>\n",
       "      <td>0</td>\n",
       "      <td>NaN</td>\n",
       "      <td>0</td>\n",
       "    </tr>\n",
       "  </tbody>\n",
       "</table>\n",
       "</div>"
      ],
      "text/plain": [
       "         Male  Male %  Female  Female %  Total\n",
       "village                                       \n",
       "Total       0     NaN       0       NaN      0"
      ]
     },
     "metadata": {},
     "output_type": "display_data"
    }
   ],
   "source": [
    "surveys_village = reg_survey.groupby('village').size()\n",
    "surveys_village_male = reg_survey_male.groupby('village').size()\n",
    "surveys_village_female = reg_survey_female.groupby('village').size()\n",
    "respondants_gender = pd.DataFrame(surveys_village, columns= ['Total'])\n",
    "\n",
    "respondants_gender['Male'] = surveys_village_male\n",
    "respondants_gender['Male %'] = (surveys_village_male*100 / surveys_village).round(2)\n",
    "respondants_gender['Female'] = surveys_village_female\n",
    "respondants_gender['Female %'] = (surveys_village_female*100 / surveys_village).round(2)\n",
    "respondants_gender = respondants_gender.reindex(['Male', 'Male %', 'Female', 'Female %', 'Total'], axis=1)\n",
    "respondants_gender.loc['Total', 'Total'] = respondants_gender['Total'].sum()\n",
    "respondants_gender.loc['Total', 'Male'] = respondants_gender['Male'].sum()\n",
    "respondants_gender.loc['Total', 'Male %'] = round(100*respondants_gender.loc['Total', 'Male'] / respondants_gender.loc['Total', 'Total'], 2)\n",
    "respondants_gender.loc['Total', 'Female'] = respondants_gender['Female'].sum()\n",
    "respondants_gender.loc['Total', 'Female %'] = round(100*respondants_gender.loc['Total', 'Female'] / respondants_gender.loc['Total', 'Total'], 2)\n",
    "\n",
    "respondants_gender.fillna(value={'Female': 0}, inplace=True)\n",
    "respondants_gender['Male'] = respondants_gender['Male'].astype(int)\n",
    "respondants_gender['Female'] = respondants_gender['Female'].astype(int)\n",
    "respondants_gender['Total'] = respondants_gender['Total'].astype(int)\n",
    "\n",
    "display(respondants_gender)"
   ]
  },
  {
   "cell_type": "code",
   "execution_count": 16,
   "metadata": {},
   "outputs": [
    {
     "name": "stderr",
     "output_type": "stream",
     "text": [
      "/usr/local/lib/python2.7/dist-packages/ipykernel_launcher.py:11: RuntimeWarning:\n",
      "\n",
      "invalid value encountered in divide\n",
      "\n",
      "/usr/local/lib/python2.7/dist-packages/ipykernel_launcher.py:13: RuntimeWarning:\n",
      "\n",
      "invalid value encountered in divide\n",
      "\n"
     ]
    },
    {
     "data": {
      "text/html": [
       "<div>\n",
       "<style scoped>\n",
       "    .dataframe tbody tr th:only-of-type {\n",
       "        vertical-align: middle;\n",
       "    }\n",
       "\n",
       "    .dataframe tbody tr th {\n",
       "        vertical-align: top;\n",
       "    }\n",
       "\n",
       "    .dataframe thead th {\n",
       "        text-align: right;\n",
       "    }\n",
       "</style>\n",
       "<table border=\"1\" class=\"dataframe\">\n",
       "  <thead>\n",
       "    <tr style=\"text-align: right;\">\n",
       "      <th></th>\n",
       "      <th>Male</th>\n",
       "      <th>Male %</th>\n",
       "      <th>Female</th>\n",
       "      <th>Female %</th>\n",
       "      <th>Total</th>\n",
       "    </tr>\n",
       "    <tr>\n",
       "      <th>village</th>\n",
       "      <th></th>\n",
       "      <th></th>\n",
       "      <th></th>\n",
       "      <th></th>\n",
       "      <th></th>\n",
       "    </tr>\n",
       "  </thead>\n",
       "  <tbody>\n",
       "    <tr>\n",
       "      <th>Total</th>\n",
       "      <td>0</td>\n",
       "      <td>NaN</td>\n",
       "      <td>0</td>\n",
       "      <td>NaN</td>\n",
       "      <td>0</td>\n",
       "    </tr>\n",
       "  </tbody>\n",
       "</table>\n",
       "</div>"
      ],
      "text/plain": [
       "         Male  Male %  Female  Female %  Total\n",
       "village                                       \n",
       "Total       0     NaN       0       NaN      0"
      ]
     },
     "metadata": {},
     "output_type": "display_data"
    }
   ],
   "source": [
    "surveys_village_maleHoHH = reg_survey_maleHoHH.groupby('village').size()\n",
    "surveys_village_femHoHH = reg_survey_femHoHH.groupby('village').size()\n",
    "HoHH_gender = pd.DataFrame(surveys_village, columns= ['Total'])\n",
    "HoHH_gender['Male'] = surveys_village_maleHoHH\n",
    "HoHH_gender['Male %'] = (surveys_village_maleHoHH*100 / surveys_village).round(2)\n",
    "HoHH_gender['Female'] = surveys_village_femHoHH\n",
    "HoHH_gender['Female %'] = (surveys_village_femHoHH*100 / surveys_village).round(2)\n",
    "HoHH_gender = HoHH_gender.reindex(['Male', 'Male %', 'Female', 'Female %', 'Total'], axis=1)\n",
    "HoHH_gender.loc['Total', 'Total'] = HoHH_gender['Total'].sum()\n",
    "HoHH_gender.loc['Total', 'Male'] = HoHH_gender['Male'].sum()\n",
    "HoHH_gender.loc['Total', 'Male %'] = round(100*HoHH_gender.loc['Total', 'Male'] / HoHH_gender.loc['Total', 'Total'], 2)\n",
    "HoHH_gender.loc['Total', 'Female'] = HoHH_gender['Female'].sum()\n",
    "HoHH_gender.loc['Total', 'Female %'] = round(100*HoHH_gender.loc['Total', 'Female'] / HoHH_gender.loc['Total', 'Total'], 2)\n",
    "\n",
    "HoHH_gender.fillna(value={'Female': 0}, inplace=True)\n",
    "HoHH_gender['Male'] = HoHH_gender['Male'].astype(int)\n",
    "HoHH_gender['Female'] = HoHH_gender['Female'].astype(int)\n",
    "HoHH_gender['Total'] = HoHH_gender['Total'].astype(int)\n",
    "\n",
    "display(HoHH_gender)"
   ]
  },
  {
   "cell_type": "markdown",
   "metadata": {},
   "source": [
    "### HHs Composition"
   ]
  },
  {
   "cell_type": "code",
   "execution_count": 17,
   "metadata": {},
   "outputs": [
    {
     "name": "stdout",
     "output_type": "stream",
     "text": [
      "60\n",
      "157\n"
     ]
    }
   ],
   "source": [
    "print reg_survey_femHoHH['deviceid'].count()\n",
    "print reg_survey_maleHoHH['deviceid'].count()"
   ]
  },
  {
   "cell_type": "code",
   "execution_count": 18,
   "metadata": {},
   "outputs": [
    {
     "data": {
      "application/vnd.plotly.v1+json": {
       "data": [
        {
         "domain": {
          "x": [
           0,
           0.32
          ]
         },
         "labels": [
          "basic",
          "none",
          "primary",
          "secondary",
          "university"
         ],
         "sort": false,
         "type": "pie",
         "values": [
          6,
          43,
          7,
          3,
          1
         ]
        },
        {
         "domain": {
          "x": [
           0.34,
           0.64
          ]
         },
         "labels": [
          "basic",
          "none",
          "primary",
          "secondary",
          "university"
         ],
         "sort": false,
         "type": "pie",
         "values": [
          45,
          148,
          12,
          7,
          3
         ]
        },
        {
         "domain": {
          "x": [
           0.66,
           0.98
          ]
         },
         "labels": [
          "basic",
          "none",
          "primary",
          "secondary",
          "university"
         ],
         "sort": false,
         "type": "pie",
         "values": [
          39,
          105,
          5,
          4,
          2
         ]
        }
       ],
       "layout": {
        "annotations": [
         {
          "font": {
           "size": 14
          },
          "showarrow": false,
          "text": "Female Head of Household",
          "x": 0.04,
          "y": 1
         },
         {
          "font": {
           "size": 14
          },
          "showarrow": false,
          "text": "Global",
          "x": 0.5,
          "y": 1
         },
         {
          "font": {
           "size": 14
          },
          "showarrow": false,
          "text": "Male Head of Household",
          "x": 0.94,
          "y": 1
         }
        ],
        "title": "Education level of the head of household"
       }
      },
      "text/html": [
       "<div id=\"702a6b55-f1ca-4e65-92d3-1364ca99e39e\" style=\"height: 525px; width: 100%;\" class=\"plotly-graph-div\"></div><script type=\"text/javascript\">require([\"plotly\"], function(Plotly) { window.PLOTLYENV=window.PLOTLYENV || {};window.PLOTLYENV.BASE_URL=\"https://plot.ly\";Plotly.newPlot(\"702a6b55-f1ca-4e65-92d3-1364ca99e39e\", [{\"sort\": false, \"values\": [6, 43, 7, 3, 1], \"domain\": {\"x\": [0, 0.32]}, \"labels\": [\"basic\", \"none\", \"primary\", \"secondary\", \"university\"], \"type\": \"pie\"}, {\"sort\": false, \"values\": [45, 148, 12, 7, 3], \"domain\": {\"x\": [0.34, 0.64]}, \"labels\": [\"basic\", \"none\", \"primary\", \"secondary\", \"university\"], \"type\": \"pie\"}, {\"sort\": false, \"values\": [39, 105, 5, 4, 2], \"domain\": {\"x\": [0.66, 0.98]}, \"labels\": [\"basic\", \"none\", \"primary\", \"secondary\", \"university\"], \"type\": \"pie\"}], {\"annotations\": [{\"y\": 1, \"text\": \"Female Head of Household\", \"font\": {\"size\": 14}, \"showarrow\": false, \"x\": 0.04}, {\"y\": 1, \"text\": \"Global\", \"font\": {\"size\": 14}, \"showarrow\": false, \"x\": 0.5}, {\"y\": 1, \"text\": \"Male Head of Household\", \"font\": {\"size\": 14}, \"showarrow\": false, \"x\": 0.94}], \"title\": \"Education level of the head of household\"}, {\"linkText\": \"Export to plot.ly\", \"showLink\": true})});</script>"
      ],
      "text/vnd.plotly.v1+html": [
       "<div id=\"702a6b55-f1ca-4e65-92d3-1364ca99e39e\" style=\"height: 525px; width: 100%;\" class=\"plotly-graph-div\"></div><script type=\"text/javascript\">require([\"plotly\"], function(Plotly) { window.PLOTLYENV=window.PLOTLYENV || {};window.PLOTLYENV.BASE_URL=\"https://plot.ly\";Plotly.newPlot(\"702a6b55-f1ca-4e65-92d3-1364ca99e39e\", [{\"sort\": false, \"values\": [6, 43, 7, 3, 1], \"domain\": {\"x\": [0, 0.32]}, \"labels\": [\"basic\", \"none\", \"primary\", \"secondary\", \"university\"], \"type\": \"pie\"}, {\"sort\": false, \"values\": [45, 148, 12, 7, 3], \"domain\": {\"x\": [0.34, 0.64]}, \"labels\": [\"basic\", \"none\", \"primary\", \"secondary\", \"university\"], \"type\": \"pie\"}, {\"sort\": false, \"values\": [39, 105, 5, 4, 2], \"domain\": {\"x\": [0.66, 0.98]}, \"labels\": [\"basic\", \"none\", \"primary\", \"secondary\", \"university\"], \"type\": \"pie\"}], {\"annotations\": [{\"y\": 1, \"text\": \"Female Head of Household\", \"font\": {\"size\": 14}, \"showarrow\": false, \"x\": 0.04}, {\"y\": 1, \"text\": \"Global\", \"font\": {\"size\": 14}, \"showarrow\": false, \"x\": 0.5}, {\"y\": 1, \"text\": \"Male Head of Household\", \"font\": {\"size\": 14}, \"showarrow\": false, \"x\": 0.94}], \"title\": \"Education level of the head of household\"}, {\"linkText\": \"Export to plot.ly\", \"showLink\": true})});</script>"
      ]
     },
     "metadata": {},
     "output_type": "display_data"
    }
   ],
   "source": [
    "create_graphs_HoHH(lambda x: x.groupby('education').size(),\n",
    "                 lambda x: x.values,\n",
    "                 lambda x: x.index.values,\n",
    "                   lambda x: x.sum(),\n",
    "                 \"Education level of the head of household\")\n"
   ]
  },
  {
   "cell_type": "code",
   "execution_count": 19,
   "metadata": {},
   "outputs": [
    {
     "data": {
      "application/vnd.plotly.v1+json": {
       "data": [
        {
         "domain": {
          "x": [
           0,
           0.32
          ]
         },
         "labels": [],
         "sort": false,
         "type": "pie",
         "values": []
        },
        {
         "domain": {
          "x": [
           0.34,
           0.64
          ]
         },
         "labels": [],
         "sort": false,
         "type": "pie",
         "values": []
        },
        {
         "domain": {
          "x": [
           0.66,
           0.98
          ]
         },
         "labels": [],
         "sort": false,
         "type": "pie",
         "values": []
        }
       ],
       "layout": {
        "annotations": [
         {
          "font": {
           "size": 14
          },
          "showarrow": false,
          "text": "Female Head of Household",
          "x": 0.04,
          "y": 1
         },
         {
          "font": {
           "size": 14
          },
          "showarrow": false,
          "text": "Global",
          "x": 0.5,
          "y": 1
         },
         {
          "font": {
           "size": 14
          },
          "showarrow": false,
          "text": "Male Head of Household",
          "x": 0.94,
          "y": 1
         }
        ],
        "title": "House materials"
       }
      },
      "text/html": [
       "<div id=\"0ac2abbc-5f5f-4f7d-88e2-2a8dd2df1465\" style=\"height: 525px; width: 100%;\" class=\"plotly-graph-div\"></div><script type=\"text/javascript\">require([\"plotly\"], function(Plotly) { window.PLOTLYENV=window.PLOTLYENV || {};window.PLOTLYENV.BASE_URL=\"https://plot.ly\";Plotly.newPlot(\"0ac2abbc-5f5f-4f7d-88e2-2a8dd2df1465\", [{\"sort\": false, \"values\": [], \"domain\": {\"x\": [0, 0.32]}, \"labels\": [], \"type\": \"pie\"}, {\"sort\": false, \"values\": [], \"domain\": {\"x\": [0.34, 0.64]}, \"labels\": [], \"type\": \"pie\"}, {\"sort\": false, \"values\": [], \"domain\": {\"x\": [0.66, 0.98]}, \"labels\": [], \"type\": \"pie\"}], {\"annotations\": [{\"y\": 1, \"text\": \"Female Head of Household\", \"font\": {\"size\": 14}, \"showarrow\": false, \"x\": 0.04}, {\"y\": 1, \"text\": \"Global\", \"font\": {\"size\": 14}, \"showarrow\": false, \"x\": 0.5}, {\"y\": 1, \"text\": \"Male Head of Household\", \"font\": {\"size\": 14}, \"showarrow\": false, \"x\": 0.94}], \"title\": \"House materials\"}, {\"linkText\": \"Export to plot.ly\", \"showLink\": true})});</script>"
      ],
      "text/vnd.plotly.v1+html": [
       "<div id=\"0ac2abbc-5f5f-4f7d-88e2-2a8dd2df1465\" style=\"height: 525px; width: 100%;\" class=\"plotly-graph-div\"></div><script type=\"text/javascript\">require([\"plotly\"], function(Plotly) { window.PLOTLYENV=window.PLOTLYENV || {};window.PLOTLYENV.BASE_URL=\"https://plot.ly\";Plotly.newPlot(\"0ac2abbc-5f5f-4f7d-88e2-2a8dd2df1465\", [{\"sort\": false, \"values\": [], \"domain\": {\"x\": [0, 0.32]}, \"labels\": [], \"type\": \"pie\"}, {\"sort\": false, \"values\": [], \"domain\": {\"x\": [0.34, 0.64]}, \"labels\": [], \"type\": \"pie\"}, {\"sort\": false, \"values\": [], \"domain\": {\"x\": [0.66, 0.98]}, \"labels\": [], \"type\": \"pie\"}], {\"annotations\": [{\"y\": 1, \"text\": \"Female Head of Household\", \"font\": {\"size\": 14}, \"showarrow\": false, \"x\": 0.04}, {\"y\": 1, \"text\": \"Global\", \"font\": {\"size\": 14}, \"showarrow\": false, \"x\": 0.5}, {\"y\": 1, \"text\": \"Male Head of Household\", \"font\": {\"size\": 14}, \"showarrow\": false, \"x\": 0.94}], \"title\": \"House materials\"}, {\"linkText\": \"Export to plot.ly\", \"showLink\": true})});</script>"
      ]
     },
     "metadata": {},
     "output_type": "display_data"
    }
   ],
   "source": [
    "#hey = reg_survey.groupby(['village', 'house_material']).size()\n",
    "\n",
    "#house_materials_df = pd.DataFrame(index=house_materials_index, columns=villages, data=[house_materials_general])\n",
    "#print house_materials_df\n",
    "\n",
    "create_graphs_HoHH(lambda x: pd.crosstab(x.village, x.house_material),\n",
    "                 lambda x: x.sum().values,\n",
    "                 lambda x: x.columns.values,\n",
    "                   lambda x: x.sum().sum(),\n",
    "                 \"House materials\")\n",
    "\n",
    "#fig_house_materials2 = {\n",
    "#    \"layout\": {\n",
    "#        \"title\": {\n",
    "#            \"font\": {\n",
    "#                    \"size\": 20\n",
    "#            },\n",
    "#            \"text\": \"House materials\"\n",
    "#        }\n",
    "#    },\n",
    "#    \"data\": []\n",
    "#}\n",
    "\n",
    "house_materials_df = pd.crosstab(reg_survey.village, reg_survey.house_material)\n",
    "#print range(len(villages_dict['en'].keys())-1)\n",
    "#print house_materials_df\n",
    "#for i in range(len(villages_dict['en'].keys())):\n",
    "#    x = .2*(i%5)\n",
    "#    y = 0.35*(i/5)\n",
    "#    fig_house_materials2['data'].append(\n",
    "#        {\n",
    "#\n",
    "#            \"values\": house_materials_df.iloc[i-1].values,\n",
    "#            \"labels\": house_materials_df.columns.values,\n",
    "#             \"domain\": {\n",
    "#                \"x\": [x, x+.18],\n",
    "#                 \"y\": [y, y+.3]\n",
    "#            },\n",
    "#            \"type\": \"pie\",\n",
    "#            \"sort\": False\n",
    "#        })\n",
    "#\n",
    "#iplot(fig_house_materials2)"
   ]
  },
  {
   "cell_type": "markdown",
   "metadata": {},
   "source": [
    "###  Mean Household size"
   ]
  },
  {
   "cell_type": "code",
   "execution_count": 20,
   "metadata": {},
   "outputs": [
    {
     "name": "stdout",
     "output_type": "stream",
     "text": [
      "4.01382488479 persons per household\n"
     ]
    }
   ],
   "source": [
    "mean_hh_size = reg_survey.family_total.mean()\n",
    "print str(mean_hh_size) + \" persons per household\""
   ]
  },
  {
   "cell_type": "markdown",
   "metadata": {},
   "source": [
    "## Climate change awareness"
   ]
  },
  {
   "cell_type": "code",
   "execution_count": 21,
   "metadata": {},
   "outputs": [
    {
     "data": {
      "application/vnd.plotly.v1+json": {
       "data": [
        {
         "domain": {
          "x": [
           0,
           0.32
          ]
         },
         "labels": [
          "no",
          "yes"
         ],
         "sort": false,
         "type": "pie",
         "values": [
          54,
          34
         ]
        },
        {
         "domain": {
          "x": [
           0.34,
           0.64
          ]
         },
         "labels": [
          "no",
          "yes"
         ],
         "sort": false,
         "type": "pie",
         "values": [
          82,
          134
         ]
        },
        {
         "domain": {
          "x": [
           0.66,
           0.98
          ]
         },
         "labels": [
          "no",
          "yes"
         ],
         "sort": false,
         "type": "pie",
         "values": [
          28,
          100
         ]
        }
       ],
       "layout": {
        "annotations": [
         {
          "font": {
           "size": 14
          },
          "showarrow": false,
          "text": "Female Respondent",
          "x": 0.07,
          "y": 1
         },
         {
          "font": {
           "size": 14
          },
          "showarrow": false,
          "text": "Global",
          "x": 0.5,
          "y": 1
         },
         {
          "font": {
           "size": 14
          },
          "showarrow": false,
          "text": "Male Respondent",
          "x": 0.91,
          "y": 1
         }
        ],
        "title": "Households declaring CC knowledge"
       }
      },
      "text/html": [
       "<div id=\"08b91479-40c8-4c85-b7fd-16981e5b68c2\" style=\"height: 525px; width: 100%;\" class=\"plotly-graph-div\"></div><script type=\"text/javascript\">require([\"plotly\"], function(Plotly) { window.PLOTLYENV=window.PLOTLYENV || {};window.PLOTLYENV.BASE_URL=\"https://plot.ly\";Plotly.newPlot(\"08b91479-40c8-4c85-b7fd-16981e5b68c2\", [{\"sort\": false, \"values\": [54, 34], \"domain\": {\"x\": [0, 0.32]}, \"labels\": [\"no\", \"yes\"], \"type\": \"pie\"}, {\"sort\": false, \"values\": [82, 134], \"domain\": {\"x\": [0.34, 0.64]}, \"labels\": [\"no\", \"yes\"], \"type\": \"pie\"}, {\"sort\": false, \"values\": [28, 100], \"domain\": {\"x\": [0.66, 0.98]}, \"labels\": [\"no\", \"yes\"], \"type\": \"pie\"}], {\"annotations\": [{\"y\": 1, \"text\": \"Female Respondent\", \"font\": {\"size\": 14}, \"showarrow\": false, \"x\": 0.07}, {\"y\": 1, \"text\": \"Global\", \"font\": {\"size\": 14}, \"showarrow\": false, \"x\": 0.5}, {\"y\": 1, \"text\": \"Male Respondent\", \"font\": {\"size\": 14}, \"showarrow\": false, \"x\": 0.91}], \"title\": \"Households declaring CC knowledge\"}, {\"linkText\": \"Export to plot.ly\", \"showLink\": true})});</script>"
      ],
      "text/vnd.plotly.v1+html": [
       "<div id=\"08b91479-40c8-4c85-b7fd-16981e5b68c2\" style=\"height: 525px; width: 100%;\" class=\"plotly-graph-div\"></div><script type=\"text/javascript\">require([\"plotly\"], function(Plotly) { window.PLOTLYENV=window.PLOTLYENV || {};window.PLOTLYENV.BASE_URL=\"https://plot.ly\";Plotly.newPlot(\"08b91479-40c8-4c85-b7fd-16981e5b68c2\", [{\"sort\": false, \"values\": [54, 34], \"domain\": {\"x\": [0, 0.32]}, \"labels\": [\"no\", \"yes\"], \"type\": \"pie\"}, {\"sort\": false, \"values\": [82, 134], \"domain\": {\"x\": [0.34, 0.64]}, \"labels\": [\"no\", \"yes\"], \"type\": \"pie\"}, {\"sort\": false, \"values\": [28, 100], \"domain\": {\"x\": [0.66, 0.98]}, \"labels\": [\"no\", \"yes\"], \"type\": \"pie\"}], {\"annotations\": [{\"y\": 1, \"text\": \"Female Respondent\", \"font\": {\"size\": 14}, \"showarrow\": false, \"x\": 0.07}, {\"y\": 1, \"text\": \"Global\", \"font\": {\"size\": 14}, \"showarrow\": false, \"x\": 0.5}, {\"y\": 1, \"text\": \"Male Respondent\", \"font\": {\"size\": 14}, \"showarrow\": false, \"x\": 0.91}], \"title\": \"Households declaring CC knowledge\"}, {\"linkText\": \"Export to plot.ly\", \"showLink\": true})});</script>"
      ]
     },
     "metadata": {},
     "output_type": "display_data"
    }
   ],
   "source": [
    "create_graphs_respondent(lambda x: x.groupby('cc_knowledge').size(),\n",
    "                         lambda x: x.values,\n",
    "                         lambda x: x.index.values,\n",
    "                         lambda x: x.sum(),\n",
    "                         \"Households declaring CC knowledge\")"
   ]
  },
  {
   "cell_type": "code",
   "execution_count": 22,
   "metadata": {},
   "outputs": [
    {
     "data": {
      "application/vnd.plotly.v1+json": {
       "data": [
        {
         "domain": {
          "x": [
           0,
           0.32
          ]
         },
         "labels": [
          "no",
          "no_answer",
          "yes"
         ],
         "sort": false,
         "type": "pie",
         "values": [
          59,
          12,
          18
         ]
        },
        {
         "domain": {
          "x": [
           0.34,
           0.64
          ]
         },
         "labels": [
          "no",
          "no_answer",
          "yes"
         ],
         "sort": false,
         "type": "pie",
         "values": [
          109,
          37,
          71
         ]
        },
        {
         "domain": {
          "x": [
           0.66,
           0.98
          ]
         },
         "labels": [
          "no",
          "no_answer",
          "yes"
         ],
         "sort": false,
         "type": "pie",
         "values": [
          50,
          25,
          53
         ]
        }
       ],
       "layout": {
        "annotations": [
         {
          "font": {
           "size": 14
          },
          "showarrow": false,
          "text": "Female Respondent",
          "x": 0.07,
          "y": 1
         },
         {
          "font": {
           "size": 14
          },
          "showarrow": false,
          "text": "Global",
          "x": 0.5,
          "y": 1
         },
         {
          "font": {
           "size": 14
          },
          "showarrow": false,
          "text": "Male Respondent",
          "x": 0.91,
          "y": 1
         }
        ],
        "title": "Households declaring taking actions against CC"
       }
      },
      "text/html": [
       "<div id=\"ef4b6fb5-6b33-43b1-8a5f-738326826a22\" style=\"height: 525px; width: 100%;\" class=\"plotly-graph-div\"></div><script type=\"text/javascript\">require([\"plotly\"], function(Plotly) { window.PLOTLYENV=window.PLOTLYENV || {};window.PLOTLYENV.BASE_URL=\"https://plot.ly\";Plotly.newPlot(\"ef4b6fb5-6b33-43b1-8a5f-738326826a22\", [{\"sort\": false, \"values\": [59, 12, 18], \"domain\": {\"x\": [0, 0.32]}, \"labels\": [\"no\", \"no_answer\", \"yes\"], \"type\": \"pie\"}, {\"sort\": false, \"values\": [109, 37, 71], \"domain\": {\"x\": [0.34, 0.64]}, \"labels\": [\"no\", \"no_answer\", \"yes\"], \"type\": \"pie\"}, {\"sort\": false, \"values\": [50, 25, 53], \"domain\": {\"x\": [0.66, 0.98]}, \"labels\": [\"no\", \"no_answer\", \"yes\"], \"type\": \"pie\"}], {\"annotations\": [{\"y\": 1, \"text\": \"Female Respondent\", \"font\": {\"size\": 14}, \"showarrow\": false, \"x\": 0.07}, {\"y\": 1, \"text\": \"Global\", \"font\": {\"size\": 14}, \"showarrow\": false, \"x\": 0.5}, {\"y\": 1, \"text\": \"Male Respondent\", \"font\": {\"size\": 14}, \"showarrow\": false, \"x\": 0.91}], \"title\": \"Households declaring taking actions against CC\"}, {\"linkText\": \"Export to plot.ly\", \"showLink\": true})});</script>"
      ],
      "text/vnd.plotly.v1+html": [
       "<div id=\"ef4b6fb5-6b33-43b1-8a5f-738326826a22\" style=\"height: 525px; width: 100%;\" class=\"plotly-graph-div\"></div><script type=\"text/javascript\">require([\"plotly\"], function(Plotly) { window.PLOTLYENV=window.PLOTLYENV || {};window.PLOTLYENV.BASE_URL=\"https://plot.ly\";Plotly.newPlot(\"ef4b6fb5-6b33-43b1-8a5f-738326826a22\", [{\"sort\": false, \"values\": [59, 12, 18], \"domain\": {\"x\": [0, 0.32]}, \"labels\": [\"no\", \"no_answer\", \"yes\"], \"type\": \"pie\"}, {\"sort\": false, \"values\": [109, 37, 71], \"domain\": {\"x\": [0.34, 0.64]}, \"labels\": [\"no\", \"no_answer\", \"yes\"], \"type\": \"pie\"}, {\"sort\": false, \"values\": [50, 25, 53], \"domain\": {\"x\": [0.66, 0.98]}, \"labels\": [\"no\", \"no_answer\", \"yes\"], \"type\": \"pie\"}], {\"annotations\": [{\"y\": 1, \"text\": \"Female Respondent\", \"font\": {\"size\": 14}, \"showarrow\": false, \"x\": 0.07}, {\"y\": 1, \"text\": \"Global\", \"font\": {\"size\": 14}, \"showarrow\": false, \"x\": 0.5}, {\"y\": 1, \"text\": \"Male Respondent\", \"font\": {\"size\": 14}, \"showarrow\": false, \"x\": 0.91}], \"title\": \"Households declaring taking actions against CC\"}, {\"linkText\": \"Export to plot.ly\", \"showLink\": true})});</script>"
      ]
     },
     "metadata": {},
     "output_type": "display_data"
    }
   ],
   "source": [
    "create_graphs_respondent(lambda x: x.groupby('taking_action_cc').size(),\n",
    "                         lambda x: x.values,\n",
    "                         lambda x: x.index.values,\n",
    "                         lambda x: x.sum(),\n",
    "                         \"Households declaring taking actions against CC\")"
   ]
  },
  {
   "cell_type": "markdown",
   "metadata": {},
   "source": [
    "#### EWS awareness"
   ]
  },
  {
   "cell_type": "code",
   "execution_count": 23,
   "metadata": {},
   "outputs": [
    {
     "data": {
      "application/vnd.plotly.v1+json": {
       "data": [
        {
         "domain": {
          "x": [
           0,
           0.32
          ]
         },
         "labels": [
          "no",
          "yes"
         ],
         "sort": false,
         "type": "pie",
         "values": [
          74,
          15
         ]
        },
        {
         "domain": {
          "x": [
           0.34,
           0.64
          ]
         },
         "labels": [
          "no",
          "yes"
         ],
         "sort": false,
         "type": "pie",
         "values": [
          135,
          80
         ]
        },
        {
         "domain": {
          "x": [
           0.66,
           0.98
          ]
         },
         "labels": [
          "no",
          "yes"
         ],
         "sort": false,
         "type": "pie",
         "values": [
          61,
          65
         ]
        }
       ],
       "layout": {
        "annotations": [
         {
          "font": {
           "size": 14
          },
          "showarrow": false,
          "text": "Female Respondent",
          "x": 0.07,
          "y": 1
         },
         {
          "font": {
           "size": 14
          },
          "showarrow": false,
          "text": "Global",
          "x": 0.5,
          "y": 1
         },
         {
          "font": {
           "size": 14
          },
          "showarrow": false,
          "text": "Male Respondent",
          "x": 0.91,
          "y": 1
         }
        ],
        "title": "Households declaring EWS knowledge"
       }
      },
      "text/html": [
       "<div id=\"65864964-3018-4d56-8d24-dbf258187ef4\" style=\"height: 525px; width: 100%;\" class=\"plotly-graph-div\"></div><script type=\"text/javascript\">require([\"plotly\"], function(Plotly) { window.PLOTLYENV=window.PLOTLYENV || {};window.PLOTLYENV.BASE_URL=\"https://plot.ly\";Plotly.newPlot(\"65864964-3018-4d56-8d24-dbf258187ef4\", [{\"sort\": false, \"values\": [74, 15], \"domain\": {\"x\": [0, 0.32]}, \"labels\": [\"no\", \"yes\"], \"type\": \"pie\"}, {\"sort\": false, \"values\": [135, 80], \"domain\": {\"x\": [0.34, 0.64]}, \"labels\": [\"no\", \"yes\"], \"type\": \"pie\"}, {\"sort\": false, \"values\": [61, 65], \"domain\": {\"x\": [0.66, 0.98]}, \"labels\": [\"no\", \"yes\"], \"type\": \"pie\"}], {\"annotations\": [{\"y\": 1, \"text\": \"Female Respondent\", \"font\": {\"size\": 14}, \"showarrow\": false, \"x\": 0.07}, {\"y\": 1, \"text\": \"Global\", \"font\": {\"size\": 14}, \"showarrow\": false, \"x\": 0.5}, {\"y\": 1, \"text\": \"Male Respondent\", \"font\": {\"size\": 14}, \"showarrow\": false, \"x\": 0.91}], \"title\": \"Households declaring EWS knowledge\"}, {\"linkText\": \"Export to plot.ly\", \"showLink\": true})});</script>"
      ],
      "text/vnd.plotly.v1+html": [
       "<div id=\"65864964-3018-4d56-8d24-dbf258187ef4\" style=\"height: 525px; width: 100%;\" class=\"plotly-graph-div\"></div><script type=\"text/javascript\">require([\"plotly\"], function(Plotly) { window.PLOTLYENV=window.PLOTLYENV || {};window.PLOTLYENV.BASE_URL=\"https://plot.ly\";Plotly.newPlot(\"65864964-3018-4d56-8d24-dbf258187ef4\", [{\"sort\": false, \"values\": [74, 15], \"domain\": {\"x\": [0, 0.32]}, \"labels\": [\"no\", \"yes\"], \"type\": \"pie\"}, {\"sort\": false, \"values\": [135, 80], \"domain\": {\"x\": [0.34, 0.64]}, \"labels\": [\"no\", \"yes\"], \"type\": \"pie\"}, {\"sort\": false, \"values\": [61, 65], \"domain\": {\"x\": [0.66, 0.98]}, \"labels\": [\"no\", \"yes\"], \"type\": \"pie\"}], {\"annotations\": [{\"y\": 1, \"text\": \"Female Respondent\", \"font\": {\"size\": 14}, \"showarrow\": false, \"x\": 0.07}, {\"y\": 1, \"text\": \"Global\", \"font\": {\"size\": 14}, \"showarrow\": false, \"x\": 0.5}, {\"y\": 1, \"text\": \"Male Respondent\", \"font\": {\"size\": 14}, \"showarrow\": false, \"x\": 0.91}], \"title\": \"Households declaring EWS knowledge\"}, {\"linkText\": \"Export to plot.ly\", \"showLink\": true})});</script>"
      ]
     },
     "metadata": {},
     "output_type": "display_data"
    }
   ],
   "source": [
    "create_graphs_respondent(lambda x: x.groupby('ews_knowledge').size(),\n",
    "                         lambda x: x.values,\n",
    "                         lambda x: x.index.values,\n",
    "                         lambda x: x.sum(),\n",
    "                         \"Households declaring EWS knowledge\")"
   ]
  },
  {
   "cell_type": "code",
   "execution_count": 24,
   "metadata": {},
   "outputs": [
    {
     "data": {
      "application/vnd.plotly.v1+json": {
       "data": [
        {
         "domain": {
          "x": [
           0,
           0.32
          ]
         },
         "labels": [
          "do_not_use",
          "no_answer",
          "not_react",
          "protection"
         ],
         "sort": false,
         "type": "pie",
         "values": [
          73,
          1,
          1,
          14
         ]
        },
        {
         "domain": {
          "x": [
           0.34,
           0.64
          ]
         },
         "labels": [
          "adaptation",
          "do_not_use",
          "no_answer",
          "not_react",
          "protection",
          "protection adaptation",
          "protection not_react"
         ],
         "sort": false,
         "type": "pie",
         "values": [
          6,
          125,
          19,
          2,
          60,
          4,
          1
         ]
        },
        {
         "domain": {
          "x": [
           0.66,
           0.98
          ]
         },
         "labels": [
          "adaptation",
          "do_not_use",
          "no_answer",
          "not_react",
          "protection",
          "protection adaptation",
          "protection not_react"
         ],
         "sort": false,
         "type": "pie",
         "values": [
          6,
          52,
          18,
          1,
          46,
          4,
          1
         ]
        }
       ],
       "layout": {
        "annotations": [
         {
          "font": {
           "size": 14
          },
          "showarrow": false,
          "text": "Female Respondent",
          "x": 0.07,
          "y": 1
         },
         {
          "font": {
           "size": 14
          },
          "showarrow": false,
          "text": "Global",
          "x": 0.5,
          "y": 1
         },
         {
          "font": {
           "size": 14
          },
          "showarrow": false,
          "text": "Male Respondent",
          "x": 0.91,
          "y": 1
         }
        ],
        "title": "Households using EWS information"
       }
      },
      "text/html": [
       "<div id=\"09626d6f-453e-49a2-a9d3-2e4c3a0504d9\" style=\"height: 525px; width: 100%;\" class=\"plotly-graph-div\"></div><script type=\"text/javascript\">require([\"plotly\"], function(Plotly) { window.PLOTLYENV=window.PLOTLYENV || {};window.PLOTLYENV.BASE_URL=\"https://plot.ly\";Plotly.newPlot(\"09626d6f-453e-49a2-a9d3-2e4c3a0504d9\", [{\"sort\": false, \"values\": [73, 1, 1, 14], \"domain\": {\"x\": [0, 0.32]}, \"labels\": [\"do_not_use\", \"no_answer\", \"not_react\", \"protection\"], \"type\": \"pie\"}, {\"sort\": false, \"values\": [6, 125, 19, 2, 60, 4, 1], \"domain\": {\"x\": [0.34, 0.64]}, \"labels\": [\"adaptation\", \"do_not_use\", \"no_answer\", \"not_react\", \"protection\", \"protection adaptation\", \"protection not_react\"], \"type\": \"pie\"}, {\"sort\": false, \"values\": [6, 52, 18, 1, 46, 4, 1], \"domain\": {\"x\": [0.66, 0.98]}, \"labels\": [\"adaptation\", \"do_not_use\", \"no_answer\", \"not_react\", \"protection\", \"protection adaptation\", \"protection not_react\"], \"type\": \"pie\"}], {\"annotations\": [{\"y\": 1, \"text\": \"Female Respondent\", \"font\": {\"size\": 14}, \"showarrow\": false, \"x\": 0.07}, {\"y\": 1, \"text\": \"Global\", \"font\": {\"size\": 14}, \"showarrow\": false, \"x\": 0.5}, {\"y\": 1, \"text\": \"Male Respondent\", \"font\": {\"size\": 14}, \"showarrow\": false, \"x\": 0.91}], \"title\": \"Households using EWS information\"}, {\"linkText\": \"Export to plot.ly\", \"showLink\": true})});</script>"
      ],
      "text/vnd.plotly.v1+html": [
       "<div id=\"09626d6f-453e-49a2-a9d3-2e4c3a0504d9\" style=\"height: 525px; width: 100%;\" class=\"plotly-graph-div\"></div><script type=\"text/javascript\">require([\"plotly\"], function(Plotly) { window.PLOTLYENV=window.PLOTLYENV || {};window.PLOTLYENV.BASE_URL=\"https://plot.ly\";Plotly.newPlot(\"09626d6f-453e-49a2-a9d3-2e4c3a0504d9\", [{\"sort\": false, \"values\": [73, 1, 1, 14], \"domain\": {\"x\": [0, 0.32]}, \"labels\": [\"do_not_use\", \"no_answer\", \"not_react\", \"protection\"], \"type\": \"pie\"}, {\"sort\": false, \"values\": [6, 125, 19, 2, 60, 4, 1], \"domain\": {\"x\": [0.34, 0.64]}, \"labels\": [\"adaptation\", \"do_not_use\", \"no_answer\", \"not_react\", \"protection\", \"protection adaptation\", \"protection not_react\"], \"type\": \"pie\"}, {\"sort\": false, \"values\": [6, 52, 18, 1, 46, 4, 1], \"domain\": {\"x\": [0.66, 0.98]}, \"labels\": [\"adaptation\", \"do_not_use\", \"no_answer\", \"not_react\", \"protection\", \"protection adaptation\", \"protection not_react\"], \"type\": \"pie\"}], {\"annotations\": [{\"y\": 1, \"text\": \"Female Respondent\", \"font\": {\"size\": 14}, \"showarrow\": false, \"x\": 0.07}, {\"y\": 1, \"text\": \"Global\", \"font\": {\"size\": 14}, \"showarrow\": false, \"x\": 0.5}, {\"y\": 1, \"text\": \"Male Respondent\", \"font\": {\"size\": 14}, \"showarrow\": false, \"x\": 0.91}], \"title\": \"Households using EWS information\"}, {\"linkText\": \"Export to plot.ly\", \"showLink\": true})});</script>"
      ]
     },
     "metadata": {},
     "output_type": "display_data"
    }
   ],
   "source": [
    "create_graphs_respondent(lambda x: x.groupby('use_ews').size(),\n",
    "                         lambda x: x.values,\n",
    "                         lambda x: x.index.values,\n",
    "                         lambda x: x.sum(),\n",
    "                         \"Households using EWS information\")"
   ]
  },
  {
   "cell_type": "markdown",
   "metadata": {},
   "source": [
    "#### Renewable energy awareness"
   ]
  },
  {
   "cell_type": "code",
   "execution_count": 25,
   "metadata": {},
   "outputs": [
    {
     "data": {
      "application/vnd.plotly.v1+json": {
       "data": [
        {
         "domain": {
          "x": [
           0,
           0.32
          ]
         },
         "labels": [
          "no",
          "yes"
         ],
         "sort": false,
         "type": "pie",
         "values": [
          61,
          28
         ]
        },
        {
         "domain": {
          "x": [
           0.34,
           0.64
          ]
         },
         "labels": [
          "no",
          "no_answer",
          "yes"
         ],
         "sort": false,
         "type": "pie",
         "values": [
          103,
          2,
          112
         ]
        },
        {
         "domain": {
          "x": [
           0.66,
           0.98
          ]
         },
         "labels": [
          "no",
          "no_answer",
          "yes"
         ],
         "sort": false,
         "type": "pie",
         "values": [
          42,
          2,
          84
         ]
        }
       ],
       "layout": {
        "annotations": [
         {
          "font": {
           "size": 14
          },
          "showarrow": false,
          "text": "Female Respondent",
          "x": 0.07,
          "y": 1
         },
         {
          "font": {
           "size": 14
          },
          "showarrow": false,
          "text": "Global",
          "x": 0.5,
          "y": 1
         },
         {
          "font": {
           "size": 14
          },
          "showarrow": false,
          "text": "Male Respondent",
          "x": 0.91,
          "y": 1
         }
        ],
        "title": "Households declaring renewable energies knowledge"
       }
      },
      "text/html": [
       "<div id=\"414942cd-de5f-47a0-81e2-6c115a362ebc\" style=\"height: 525px; width: 100%;\" class=\"plotly-graph-div\"></div><script type=\"text/javascript\">require([\"plotly\"], function(Plotly) { window.PLOTLYENV=window.PLOTLYENV || {};window.PLOTLYENV.BASE_URL=\"https://plot.ly\";Plotly.newPlot(\"414942cd-de5f-47a0-81e2-6c115a362ebc\", [{\"sort\": false, \"values\": [61, 28], \"domain\": {\"x\": [0, 0.32]}, \"labels\": [\"no\", \"yes\"], \"type\": \"pie\"}, {\"sort\": false, \"values\": [103, 2, 112], \"domain\": {\"x\": [0.34, 0.64]}, \"labels\": [\"no\", \"no_answer\", \"yes\"], \"type\": \"pie\"}, {\"sort\": false, \"values\": [42, 2, 84], \"domain\": {\"x\": [0.66, 0.98]}, \"labels\": [\"no\", \"no_answer\", \"yes\"], \"type\": \"pie\"}], {\"annotations\": [{\"y\": 1, \"text\": \"Female Respondent\", \"font\": {\"size\": 14}, \"showarrow\": false, \"x\": 0.07}, {\"y\": 1, \"text\": \"Global\", \"font\": {\"size\": 14}, \"showarrow\": false, \"x\": 0.5}, {\"y\": 1, \"text\": \"Male Respondent\", \"font\": {\"size\": 14}, \"showarrow\": false, \"x\": 0.91}], \"title\": \"Households declaring renewable energies knowledge\"}, {\"linkText\": \"Export to plot.ly\", \"showLink\": true})});</script>"
      ],
      "text/vnd.plotly.v1+html": [
       "<div id=\"414942cd-de5f-47a0-81e2-6c115a362ebc\" style=\"height: 525px; width: 100%;\" class=\"plotly-graph-div\"></div><script type=\"text/javascript\">require([\"plotly\"], function(Plotly) { window.PLOTLYENV=window.PLOTLYENV || {};window.PLOTLYENV.BASE_URL=\"https://plot.ly\";Plotly.newPlot(\"414942cd-de5f-47a0-81e2-6c115a362ebc\", [{\"sort\": false, \"values\": [61, 28], \"domain\": {\"x\": [0, 0.32]}, \"labels\": [\"no\", \"yes\"], \"type\": \"pie\"}, {\"sort\": false, \"values\": [103, 2, 112], \"domain\": {\"x\": [0.34, 0.64]}, \"labels\": [\"no\", \"no_answer\", \"yes\"], \"type\": \"pie\"}, {\"sort\": false, \"values\": [42, 2, 84], \"domain\": {\"x\": [0.66, 0.98]}, \"labels\": [\"no\", \"no_answer\", \"yes\"], \"type\": \"pie\"}], {\"annotations\": [{\"y\": 1, \"text\": \"Female Respondent\", \"font\": {\"size\": 14}, \"showarrow\": false, \"x\": 0.07}, {\"y\": 1, \"text\": \"Global\", \"font\": {\"size\": 14}, \"showarrow\": false, \"x\": 0.5}, {\"y\": 1, \"text\": \"Male Respondent\", \"font\": {\"size\": 14}, \"showarrow\": false, \"x\": 0.91}], \"title\": \"Households declaring renewable energies knowledge\"}, {\"linkText\": \"Export to plot.ly\", \"showLink\": true})});</script>"
      ]
     },
     "metadata": {},
     "output_type": "display_data"
    }
   ],
   "source": [
    "create_graphs_respondent(lambda x: x.groupby('renewable_knowledge').size(),\n",
    "                         lambda x: x.values,\n",
    "                         lambda x: x.index.values,\n",
    "                         lambda x: x.sum(),\n",
    "                         \"Households declaring renewable energies knowledge\")"
   ]
  },
  {
   "cell_type": "code",
   "execution_count": 26,
   "metadata": {},
   "outputs": [
    {
     "data": {
      "application/vnd.plotly.v1+json": {
       "data": [
        {
         "domain": {
          "x": [
           0,
           0.32
          ]
         },
         "labels": [
          "electricity",
          "no",
          "no_answer",
          "other"
         ],
         "sort": false,
         "type": "pie",
         "values": [
          15,
          69,
          1,
          4
         ]
        },
        {
         "domain": {
          "x": [
           0.34,
           0.64
          ]
         },
         "labels": [
          "cooking get_water",
          "electricity",
          "electricity other",
          "get_water",
          "no",
          "no_answer",
          "other"
         ],
         "sort": false,
         "type": "pie",
         "values": [
          1,
          40,
          1,
          1,
          165,
          4,
          5
         ]
        },
        {
         "domain": {
          "x": [
           0.66,
           0.98
          ]
         },
         "labels": [
          "cooking get_water",
          "electricity",
          "electricity other",
          "get_water",
          "no",
          "no_answer",
          "other"
         ],
         "sort": false,
         "type": "pie",
         "values": [
          1,
          25,
          1,
          1,
          96,
          3,
          1
         ]
        }
       ],
       "layout": {
        "annotations": [
         {
          "font": {
           "size": 14
          },
          "showarrow": false,
          "text": "Female Respondent",
          "x": 0.07,
          "y": 1
         },
         {
          "font": {
           "size": 14
          },
          "showarrow": false,
          "text": "Global",
          "x": 0.5,
          "y": 1
         },
         {
          "font": {
           "size": 14
          },
          "showarrow": false,
          "text": "Male Respondent",
          "x": 0.91,
          "y": 1
         }
        ],
        "title": "Households using solar energies"
       }
      },
      "text/html": [
       "<div id=\"abea520c-7cfa-4939-9a2e-5e089a03e667\" style=\"height: 525px; width: 100%;\" class=\"plotly-graph-div\"></div><script type=\"text/javascript\">require([\"plotly\"], function(Plotly) { window.PLOTLYENV=window.PLOTLYENV || {};window.PLOTLYENV.BASE_URL=\"https://plot.ly\";Plotly.newPlot(\"abea520c-7cfa-4939-9a2e-5e089a03e667\", [{\"sort\": false, \"values\": [15, 69, 1, 4], \"domain\": {\"x\": [0, 0.32]}, \"labels\": [\"electricity\", \"no\", \"no_answer\", \"other\"], \"type\": \"pie\"}, {\"sort\": false, \"values\": [1, 40, 1, 1, 165, 4, 5], \"domain\": {\"x\": [0.34, 0.64]}, \"labels\": [\"cooking get_water\", \"electricity\", \"electricity other\", \"get_water\", \"no\", \"no_answer\", \"other\"], \"type\": \"pie\"}, {\"sort\": false, \"values\": [1, 25, 1, 1, 96, 3, 1], \"domain\": {\"x\": [0.66, 0.98]}, \"labels\": [\"cooking get_water\", \"electricity\", \"electricity other\", \"get_water\", \"no\", \"no_answer\", \"other\"], \"type\": \"pie\"}], {\"annotations\": [{\"y\": 1, \"text\": \"Female Respondent\", \"font\": {\"size\": 14}, \"showarrow\": false, \"x\": 0.07}, {\"y\": 1, \"text\": \"Global\", \"font\": {\"size\": 14}, \"showarrow\": false, \"x\": 0.5}, {\"y\": 1, \"text\": \"Male Respondent\", \"font\": {\"size\": 14}, \"showarrow\": false, \"x\": 0.91}], \"title\": \"Households using solar energies\"}, {\"linkText\": \"Export to plot.ly\", \"showLink\": true})});</script>"
      ],
      "text/vnd.plotly.v1+html": [
       "<div id=\"abea520c-7cfa-4939-9a2e-5e089a03e667\" style=\"height: 525px; width: 100%;\" class=\"plotly-graph-div\"></div><script type=\"text/javascript\">require([\"plotly\"], function(Plotly) { window.PLOTLYENV=window.PLOTLYENV || {};window.PLOTLYENV.BASE_URL=\"https://plot.ly\";Plotly.newPlot(\"abea520c-7cfa-4939-9a2e-5e089a03e667\", [{\"sort\": false, \"values\": [15, 69, 1, 4], \"domain\": {\"x\": [0, 0.32]}, \"labels\": [\"electricity\", \"no\", \"no_answer\", \"other\"], \"type\": \"pie\"}, {\"sort\": false, \"values\": [1, 40, 1, 1, 165, 4, 5], \"domain\": {\"x\": [0.34, 0.64]}, \"labels\": [\"cooking get_water\", \"electricity\", \"electricity other\", \"get_water\", \"no\", \"no_answer\", \"other\"], \"type\": \"pie\"}, {\"sort\": false, \"values\": [1, 25, 1, 1, 96, 3, 1], \"domain\": {\"x\": [0.66, 0.98]}, \"labels\": [\"cooking get_water\", \"electricity\", \"electricity other\", \"get_water\", \"no\", \"no_answer\", \"other\"], \"type\": \"pie\"}], {\"annotations\": [{\"y\": 1, \"text\": \"Female Respondent\", \"font\": {\"size\": 14}, \"showarrow\": false, \"x\": 0.07}, {\"y\": 1, \"text\": \"Global\", \"font\": {\"size\": 14}, \"showarrow\": false, \"x\": 0.5}, {\"y\": 1, \"text\": \"Male Respondent\", \"font\": {\"size\": 14}, \"showarrow\": false, \"x\": 0.91}], \"title\": \"Households using solar energies\"}, {\"linkText\": \"Export to plot.ly\", \"showLink\": true})});</script>"
      ]
     },
     "metadata": {},
     "output_type": "display_data"
    }
   ],
   "source": [
    "create_graphs_respondent(lambda x: x.groupby('solar_energy').size(),\n",
    "                         lambda x: x.values,\n",
    "                         lambda x: x.index.values,\n",
    "                         lambda x: x.sum(),\n",
    "                         \"Households using solar energies\")"
   ]
  },
  {
   "cell_type": "markdown",
   "metadata": {},
   "source": [
    "#### Cooking facilities"
   ]
  },
  {
   "cell_type": "code",
   "execution_count": 27,
   "metadata": {},
   "outputs": [
    {
     "data": {
      "application/vnd.plotly.v1+json": {
       "data": [
        {
         "marker": {
          "color": "rgb(225,225,258)",
          "line": {
           "color": "rgb(0,0,192)",
           "width": 1.5
          }
         },
         "name": "Female Head of Household",
         "type": "bar",
         "x": [
          "Wood",
          "Gas_heater",
          "Charcoal",
          "Iron_stove"
         ],
         "y": [
          23.963133640552996,
          6.912442396313364,
          0.4608294930875576,
          0.4608294930875576
         ]
        },
        {
         "marker": {
          "color": "rgb(258,225,225)",
          "line": {
           "color": "rgb(192,0,0)",
           "width": 1.5
          }
         },
         "name": "Male Head of Household",
         "type": "bar",
         "x": [
          "Wood",
          "Gas_heater",
          "Charcoal",
          "Iron_stove",
          "No_answer",
          "Improved"
         ],
         "y": [
          60.8294930875576,
          9.216589861751151,
          7.373271889400922,
          1.8433179723502304,
          0.4608294930875576,
          0.4608294930875576
         ]
        }
       ],
       "layout": {
        "annotations": [],
        "barmode": "stack",
        "title": "Cooking techniques",
        "width": 700,
        "xaxis": {
         "tickangle": -45
        }
       }
      },
      "text/html": [
       "<div id=\"65ef14e0-7235-4659-b3ef-9beb79a0dc44\" style=\"height: 525px; width: 700px;\" class=\"plotly-graph-div\"></div><script type=\"text/javascript\">require([\"plotly\"], function(Plotly) { window.PLOTLYENV=window.PLOTLYENV || {};window.PLOTLYENV.BASE_URL=\"https://plot.ly\";Plotly.newPlot(\"65ef14e0-7235-4659-b3ef-9beb79a0dc44\", [{\"y\": [23.963133640552996, 6.912442396313364, 0.4608294930875576, 0.4608294930875576], \"x\": [\"Wood\", \"Gas_heater\", \"Charcoal\", \"Iron_stove\"], \"type\": \"bar\", \"name\": \"Female Head of Household\", \"marker\": {\"color\": \"rgb(225,225,258)\", \"line\": {\"color\": \"rgb(0,0,192)\", \"width\": 1.5}}}, {\"y\": [60.8294930875576, 9.216589861751151, 7.373271889400922, 1.8433179723502304, 0.4608294930875576, 0.4608294930875576], \"x\": [\"Wood\", \"Gas_heater\", \"Charcoal\", \"Iron_stove\", \"No_answer\", \"Improved\"], \"type\": \"bar\", \"name\": \"Male Head of Household\", \"marker\": {\"color\": \"rgb(258,225,225)\", \"line\": {\"color\": \"rgb(192,0,0)\", \"width\": 1.5}}}], {\"barmode\": \"stack\", \"title\": \"Cooking techniques\", \"annotations\": [], \"xaxis\": {\"tickangle\": -45}, \"width\": 700}, {\"linkText\": \"Export to plot.ly\", \"showLink\": true})});</script>"
      ],
      "text/vnd.plotly.v1+html": [
       "<div id=\"65ef14e0-7235-4659-b3ef-9beb79a0dc44\" style=\"height: 525px; width: 700px;\" class=\"plotly-graph-div\"></div><script type=\"text/javascript\">require([\"plotly\"], function(Plotly) { window.PLOTLYENV=window.PLOTLYENV || {};window.PLOTLYENV.BASE_URL=\"https://plot.ly\";Plotly.newPlot(\"65ef14e0-7235-4659-b3ef-9beb79a0dc44\", [{\"y\": [23.963133640552996, 6.912442396313364, 0.4608294930875576, 0.4608294930875576], \"x\": [\"Wood\", \"Gas_heater\", \"Charcoal\", \"Iron_stove\"], \"type\": \"bar\", \"name\": \"Female Head of Household\", \"marker\": {\"color\": \"rgb(225,225,258)\", \"line\": {\"color\": \"rgb(0,0,192)\", \"width\": 1.5}}}, {\"y\": [60.8294930875576, 9.216589861751151, 7.373271889400922, 1.8433179723502304, 0.4608294930875576, 0.4608294930875576], \"x\": [\"Wood\", \"Gas_heater\", \"Charcoal\", \"Iron_stove\", \"No_answer\", \"Improved\"], \"type\": \"bar\", \"name\": \"Male Head of Household\", \"marker\": {\"color\": \"rgb(258,225,225)\", \"line\": {\"color\": \"rgb(192,0,0)\", \"width\": 1.5}}}], {\"barmode\": \"stack\", \"title\": \"Cooking techniques\", \"annotations\": [], \"xaxis\": {\"tickangle\": -45}, \"width\": 700}, {\"linkText\": \"Export to plot.ly\", \"showLink\": true})});</script>"
      ]
     },
     "metadata": {},
     "output_type": "display_data"
    }
   ],
   "source": [
    "kitchen_type = reg_survey.groupby('kitchen_type').size()\n",
    "kitchen_type_male = get_ocurrences(reg_survey_maleHoHH, 'kitchen_type').sort_values(ascending = False)\n",
    "kitchen_type_female = get_ocurrences(reg_survey_femHoHH, 'kitchen_type').sort_values(ascending = False)\n",
    "kitchen = pd.crosstab(reg_survey.village, reg_survey.kitchen_type)\n",
    "#display(kitchen)\n",
    "\n",
    "kitchen_perc_male = 100*kitchen_type_male/total_surveys\n",
    "kitchen_perc_female = 100*kitchen_type_female/total_surveys\n",
    "kitchen_perc = 100*kitchen_type/total_surveys\n",
    "kitchen_perc = kitchen_perc.round(2)\n",
    "#print kitchen_perc\n",
    "\n",
    "create_stacked_bars_graph((reg_survey_femHoHH, reg_survey_maleHoHH),\n",
    "                              lambda x: 100 * get_ocurrences(x, 'kitchen_type').sort_values(ascending = False) / total_surveys,\n",
    "                              lambda x: map(lambda y: y.capitalize(), x.index.values),\n",
    "                              lambda x: x.values,\n",
    "                              \"Cooking techniques\",\n",
    "                              \"Female Head of Household\",\n",
    "                              \"Male Head of Household\")"
   ]
  },
  {
   "cell_type": "markdown",
   "metadata": {},
   "source": [
    "## Livelihoods\n",
    "\n",
    "Number of households practicing each livelihood"
   ]
  },
  {
   "cell_type": "code",
   "execution_count": 28,
   "metadata": {},
   "outputs": [
    {
     "name": "stdout",
     "output_type": "stream",
     "text": [
      "\n",
      "labour         104\n",
      "livestock      100\n",
      "agriculture     57\n",
      "other           39\n",
      "handicrafts      3\n",
      "forestry         1\n",
      "dtype: int64\n"
     ]
    }
   ],
   "source": [
    "#reg_survey.loc[reg_survey['src_incomes'].str.contains(\"agriculture\"), 'agriculture'] = 'yes'\n",
    "#reg_survey.loc[reg_survey['src_incomes'].str.contains(\"livestock\"), 'livestock'] = 'yes'\n",
    "#reg_survey.loc[reg_survey['src_incomes'].str.contains(\"labour\"), 'labour'] = 'yes'\n",
    "#importance = reg_survey.groupby(['agriculture', 'livestock', 'labour'])['perc_incomes_agri'].agg('mean')\n",
    "\n",
    "#agric = reg_survey[reg_survey['src_incomes'].str.contains(\"agriculture\")]['deviceid'].count()\n",
    "\n",
    "src_incomes_sums = reg_survey.groupby('src_incomes').size()\n",
    "lh_values = get_ocurrences(reg_survey, 'src_incomes')\n",
    "lh_types = pd.DataFrame({\"Households\": lh_values})\n",
    "#lh_types[\"Percentage\"] = lh_types.Households.map(lambda x: str(round(100*x/total_surveys))) + \" %\"\n",
    "\n",
    "print \"\"\n",
    "print lh_values.sort_values(ascending = False)"
   ]
  },
  {
   "cell_type": "code",
   "execution_count": 29,
   "metadata": {
    "scrolled": false
   },
   "outputs": [
    {
     "data": {
      "application/vnd.plotly.v1+json": {
       "data": [
        {
         "marker": {
          "color": "rgb(225,225,258)",
          "line": {
           "color": "rgb(0,0,192)",
           "width": 1.5
          }
         },
         "name": "Female Head of Household",
         "type": "bar",
         "x": [
          "Agriculture",
          "Livestock",
          "Labour",
          "Other"
         ],
         "y": [
          2.7649769585253456,
          9.67741935483871,
          14.746543778801843,
          5.529953917050691
         ]
        },
        {
         "marker": {
          "color": "rgb(258,225,225)",
          "line": {
           "color": "rgb(192,0,0)",
           "width": 1.5
          }
         },
         "name": "Male Head of Household",
         "type": "bar",
         "x": [
          "Agriculture",
          "Labour",
          "Other",
          "Livestock",
          "Forestry",
          "Handicrafts"
         ],
         "y": [
          23.502304147465438,
          33.17972350230415,
          12.442396313364055,
          36.40552995391705,
          0.4608294930875576,
          1.3824884792626728
         ]
        }
       ],
       "layout": {
        "annotations": [],
        "barmode": "stack",
        "title": "Livelihoods Strategies",
        "width": 700,
        "xaxis": {
         "tickangle": -45
        }
       }
      },
      "text/html": [
       "<div id=\"a5f6dd33-41f3-4033-a140-366514f6295d\" style=\"height: 525px; width: 700px;\" class=\"plotly-graph-div\"></div><script type=\"text/javascript\">require([\"plotly\"], function(Plotly) { window.PLOTLYENV=window.PLOTLYENV || {};window.PLOTLYENV.BASE_URL=\"https://plot.ly\";Plotly.newPlot(\"a5f6dd33-41f3-4033-a140-366514f6295d\", [{\"y\": [2.7649769585253456, 9.67741935483871, 14.746543778801843, 5.529953917050691], \"x\": [\"Agriculture\", \"Livestock\", \"Labour\", \"Other\"], \"type\": \"bar\", \"name\": \"Female Head of Household\", \"marker\": {\"color\": \"rgb(225,225,258)\", \"line\": {\"color\": \"rgb(0,0,192)\", \"width\": 1.5}}}, {\"y\": [23.502304147465438, 33.17972350230415, 12.442396313364055, 36.40552995391705, 0.4608294930875576, 1.3824884792626728], \"x\": [\"Agriculture\", \"Labour\", \"Other\", \"Livestock\", \"Forestry\", \"Handicrafts\"], \"type\": \"bar\", \"name\": \"Male Head of Household\", \"marker\": {\"color\": \"rgb(258,225,225)\", \"line\": {\"color\": \"rgb(192,0,0)\", \"width\": 1.5}}}], {\"barmode\": \"stack\", \"title\": \"Livelihoods Strategies\", \"annotations\": [], \"xaxis\": {\"tickangle\": -45}, \"width\": 700}, {\"linkText\": \"Export to plot.ly\", \"showLink\": true})});</script>"
      ],
      "text/vnd.plotly.v1+html": [
       "<div id=\"a5f6dd33-41f3-4033-a140-366514f6295d\" style=\"height: 525px; width: 700px;\" class=\"plotly-graph-div\"></div><script type=\"text/javascript\">require([\"plotly\"], function(Plotly) { window.PLOTLYENV=window.PLOTLYENV || {};window.PLOTLYENV.BASE_URL=\"https://plot.ly\";Plotly.newPlot(\"a5f6dd33-41f3-4033-a140-366514f6295d\", [{\"y\": [2.7649769585253456, 9.67741935483871, 14.746543778801843, 5.529953917050691], \"x\": [\"Agriculture\", \"Livestock\", \"Labour\", \"Other\"], \"type\": \"bar\", \"name\": \"Female Head of Household\", \"marker\": {\"color\": \"rgb(225,225,258)\", \"line\": {\"color\": \"rgb(0,0,192)\", \"width\": 1.5}}}, {\"y\": [23.502304147465438, 33.17972350230415, 12.442396313364055, 36.40552995391705, 0.4608294930875576, 1.3824884792626728], \"x\": [\"Agriculture\", \"Labour\", \"Other\", \"Livestock\", \"Forestry\", \"Handicrafts\"], \"type\": \"bar\", \"name\": \"Male Head of Household\", \"marker\": {\"color\": \"rgb(258,225,225)\", \"line\": {\"color\": \"rgb(192,0,0)\", \"width\": 1.5}}}], {\"barmode\": \"stack\", \"title\": \"Livelihoods Strategies\", \"annotations\": [], \"xaxis\": {\"tickangle\": -45}, \"width\": 700}, {\"linkText\": \"Export to plot.ly\", \"showLink\": true})});</script>"
      ]
     },
     "metadata": {},
     "output_type": "display_data"
    },
    {
     "data": {
      "application/vnd.plotly.v1+json": {
       "data": [
        {
         "marker": {
          "color": "rgb(225,225,258)",
          "line": {
           "color": "rgb(0,0,192)",
           "width": 1.5
          }
         },
         "name": "Female respondent",
         "type": "bar",
         "x": [
          "Agriculture",
          "Livestock",
          "Labour",
          "Other",
          "Handicrafts"
         ],
         "y": [
          4.608294930875576,
          15.668202764976959,
          18.433179723502302,
          8.755760368663594,
          0.4608294930875576
         ]
        },
        {
         "marker": {
          "color": "rgb(258,225,225)",
          "line": {
           "color": "rgb(192,0,0)",
           "width": 1.5
          }
         },
         "name": "Male respondent",
         "type": "bar",
         "x": [
          "Agriculture",
          "Labour",
          "Other",
          "Livestock",
          "Forestry",
          "Handicrafts"
         ],
         "y": [
          21.658986175115206,
          29.493087557603687,
          9.216589861751151,
          30.4147465437788,
          0.4608294930875576,
          0.9216589861751152
         ]
        }
       ],
       "layout": {
        "annotations": [],
        "barmode": "stack",
        "title": "Livelihoods Strategies",
        "width": 700,
        "xaxis": {
         "tickangle": -45
        }
       }
      },
      "text/html": [
       "<div id=\"6377daf7-94cb-48be-8415-d525c49a1ece\" style=\"height: 525px; width: 700px;\" class=\"plotly-graph-div\"></div><script type=\"text/javascript\">require([\"plotly\"], function(Plotly) { window.PLOTLYENV=window.PLOTLYENV || {};window.PLOTLYENV.BASE_URL=\"https://plot.ly\";Plotly.newPlot(\"6377daf7-94cb-48be-8415-d525c49a1ece\", [{\"y\": [4.608294930875576, 15.668202764976959, 18.433179723502302, 8.755760368663594, 0.4608294930875576], \"x\": [\"Agriculture\", \"Livestock\", \"Labour\", \"Other\", \"Handicrafts\"], \"type\": \"bar\", \"name\": \"Female respondent\", \"marker\": {\"color\": \"rgb(225,225,258)\", \"line\": {\"color\": \"rgb(0,0,192)\", \"width\": 1.5}}}, {\"y\": [21.658986175115206, 29.493087557603687, 9.216589861751151, 30.4147465437788, 0.4608294930875576, 0.9216589861751152], \"x\": [\"Agriculture\", \"Labour\", \"Other\", \"Livestock\", \"Forestry\", \"Handicrafts\"], \"type\": \"bar\", \"name\": \"Male respondent\", \"marker\": {\"color\": \"rgb(258,225,225)\", \"line\": {\"color\": \"rgb(192,0,0)\", \"width\": 1.5}}}], {\"barmode\": \"stack\", \"title\": \"Livelihoods Strategies\", \"annotations\": [], \"xaxis\": {\"tickangle\": -45}, \"width\": 700}, {\"linkText\": \"Export to plot.ly\", \"showLink\": true})});</script>"
      ],
      "text/vnd.plotly.v1+html": [
       "<div id=\"6377daf7-94cb-48be-8415-d525c49a1ece\" style=\"height: 525px; width: 700px;\" class=\"plotly-graph-div\"></div><script type=\"text/javascript\">require([\"plotly\"], function(Plotly) { window.PLOTLYENV=window.PLOTLYENV || {};window.PLOTLYENV.BASE_URL=\"https://plot.ly\";Plotly.newPlot(\"6377daf7-94cb-48be-8415-d525c49a1ece\", [{\"y\": [4.608294930875576, 15.668202764976959, 18.433179723502302, 8.755760368663594, 0.4608294930875576], \"x\": [\"Agriculture\", \"Livestock\", \"Labour\", \"Other\", \"Handicrafts\"], \"type\": \"bar\", \"name\": \"Female respondent\", \"marker\": {\"color\": \"rgb(225,225,258)\", \"line\": {\"color\": \"rgb(0,0,192)\", \"width\": 1.5}}}, {\"y\": [21.658986175115206, 29.493087557603687, 9.216589861751151, 30.4147465437788, 0.4608294930875576, 0.9216589861751152], \"x\": [\"Agriculture\", \"Labour\", \"Other\", \"Livestock\", \"Forestry\", \"Handicrafts\"], \"type\": \"bar\", \"name\": \"Male respondent\", \"marker\": {\"color\": \"rgb(258,225,225)\", \"line\": {\"color\": \"rgb(192,0,0)\", \"width\": 1.5}}}], {\"barmode\": \"stack\", \"title\": \"Livelihoods Strategies\", \"annotations\": [], \"xaxis\": {\"tickangle\": -45}, \"width\": 700}, {\"linkText\": \"Export to plot.ly\", \"showLink\": true})});</script>"
      ]
     },
     "metadata": {},
     "output_type": "display_data"
    },
    {
     "data": {
      "application/vnd.plotly.v1+json": {
       "data": [
        {
         "marker": {
          "color": "rgb(258,225,225)",
          "line": {
           "color": "rgb(192,0,0)",
           "width": 1.5
          }
         },
         "name": "Livelihoods Strategies",
         "type": "bar",
         "x": [
          "Agriculture",
          "Labour",
          "Other",
          "Livestock",
          "Forestry",
          "Handicrafts"
         ],
         "y": [
          26.27,
          47.93,
          17.97,
          46.08,
          0.46,
          1.38
         ]
        }
       ],
       "layout": {
        "annotations": [
         {
          "font": {
           "color": "rgba(100, 0, 0, 1)",
           "family": "Arial",
           "size": 14
          },
          "showarrow": false,
          "text": "26.27%",
          "x": "Agriculture",
          "y": 27.77
         },
         {
          "font": {
           "color": "rgba(100, 0, 0, 1)",
           "family": "Arial",
           "size": 14
          },
          "showarrow": false,
          "text": "47.93%",
          "x": "Labour",
          "y": 49.43
         },
         {
          "font": {
           "color": "rgba(100, 0, 0, 1)",
           "family": "Arial",
           "size": 14
          },
          "showarrow": false,
          "text": "17.97%",
          "x": "Other",
          "y": 19.47
         },
         {
          "font": {
           "color": "rgba(100, 0, 0, 1)",
           "family": "Arial",
           "size": 14
          },
          "showarrow": false,
          "text": "46.08%",
          "x": "Livestock",
          "y": 47.58
         },
         {
          "font": {
           "color": "rgba(100, 0, 0, 1)",
           "family": "Arial",
           "size": 14
          },
          "showarrow": false,
          "text": "0.46%",
          "x": "Forestry",
          "y": 1.96
         },
         {
          "font": {
           "color": "rgba(100, 0, 0, 1)",
           "family": "Arial",
           "size": 14
          },
          "showarrow": false,
          "text": "1.38%",
          "x": "Handicrafts",
          "y": 2.88
         }
        ],
        "title": "Livelihoods Strategies",
        "width": 700,
        "xaxis": {
         "tickangle": -45
        }
       }
      },
      "text/html": [
       "<div id=\"37600413-2079-42c1-9263-9d124841798a\" style=\"height: 525px; width: 700px;\" class=\"plotly-graph-div\"></div><script type=\"text/javascript\">require([\"plotly\"], function(Plotly) { window.PLOTLYENV=window.PLOTLYENV || {};window.PLOTLYENV.BASE_URL=\"https://plot.ly\";Plotly.newPlot(\"37600413-2079-42c1-9263-9d124841798a\", [{\"y\": [26.27, 47.93, 17.97, 46.08, 0.46, 1.38], \"x\": [\"Agriculture\", \"Labour\", \"Other\", \"Livestock\", \"Forestry\", \"Handicrafts\"], \"type\": \"bar\", \"name\": \"Livelihoods Strategies\", \"marker\": {\"color\": \"rgb(258,225,225)\", \"line\": {\"color\": \"rgb(192,0,0)\", \"width\": 1.5}}}], {\"width\": 700, \"annotations\": [{\"y\": 27.77, \"x\": \"Agriculture\", \"font\": {\"color\": \"rgba(100, 0, 0, 1)\", \"family\": \"Arial\", \"size\": 14}, \"text\": \"26.27%\", \"showarrow\": false}, {\"y\": 49.43, \"x\": \"Labour\", \"font\": {\"color\": \"rgba(100, 0, 0, 1)\", \"family\": \"Arial\", \"size\": 14}, \"text\": \"47.93%\", \"showarrow\": false}, {\"y\": 19.47, \"x\": \"Other\", \"font\": {\"color\": \"rgba(100, 0, 0, 1)\", \"family\": \"Arial\", \"size\": 14}, \"text\": \"17.97%\", \"showarrow\": false}, {\"y\": 47.58, \"x\": \"Livestock\", \"font\": {\"color\": \"rgba(100, 0, 0, 1)\", \"family\": \"Arial\", \"size\": 14}, \"text\": \"46.08%\", \"showarrow\": false}, {\"y\": 1.96, \"x\": \"Forestry\", \"font\": {\"color\": \"rgba(100, 0, 0, 1)\", \"family\": \"Arial\", \"size\": 14}, \"text\": \"0.46%\", \"showarrow\": false}, {\"y\": 2.88, \"x\": \"Handicrafts\", \"font\": {\"color\": \"rgba(100, 0, 0, 1)\", \"family\": \"Arial\", \"size\": 14}, \"text\": \"1.38%\", \"showarrow\": false}], \"xaxis\": {\"tickangle\": -45}, \"title\": \"Livelihoods Strategies\"}, {\"linkText\": \"Export to plot.ly\", \"showLink\": true})});</script>"
      ],
      "text/vnd.plotly.v1+html": [
       "<div id=\"37600413-2079-42c1-9263-9d124841798a\" style=\"height: 525px; width: 700px;\" class=\"plotly-graph-div\"></div><script type=\"text/javascript\">require([\"plotly\"], function(Plotly) { window.PLOTLYENV=window.PLOTLYENV || {};window.PLOTLYENV.BASE_URL=\"https://plot.ly\";Plotly.newPlot(\"37600413-2079-42c1-9263-9d124841798a\", [{\"y\": [26.27, 47.93, 17.97, 46.08, 0.46, 1.38], \"x\": [\"Agriculture\", \"Labour\", \"Other\", \"Livestock\", \"Forestry\", \"Handicrafts\"], \"type\": \"bar\", \"name\": \"Livelihoods Strategies\", \"marker\": {\"color\": \"rgb(258,225,225)\", \"line\": {\"color\": \"rgb(192,0,0)\", \"width\": 1.5}}}], {\"width\": 700, \"annotations\": [{\"y\": 27.77, \"x\": \"Agriculture\", \"font\": {\"color\": \"rgba(100, 0, 0, 1)\", \"family\": \"Arial\", \"size\": 14}, \"text\": \"26.27%\", \"showarrow\": false}, {\"y\": 49.43, \"x\": \"Labour\", \"font\": {\"color\": \"rgba(100, 0, 0, 1)\", \"family\": \"Arial\", \"size\": 14}, \"text\": \"47.93%\", \"showarrow\": false}, {\"y\": 19.47, \"x\": \"Other\", \"font\": {\"color\": \"rgba(100, 0, 0, 1)\", \"family\": \"Arial\", \"size\": 14}, \"text\": \"17.97%\", \"showarrow\": false}, {\"y\": 47.58, \"x\": \"Livestock\", \"font\": {\"color\": \"rgba(100, 0, 0, 1)\", \"family\": \"Arial\", \"size\": 14}, \"text\": \"46.08%\", \"showarrow\": false}, {\"y\": 1.96, \"x\": \"Forestry\", \"font\": {\"color\": \"rgba(100, 0, 0, 1)\", \"family\": \"Arial\", \"size\": 14}, \"text\": \"0.46%\", \"showarrow\": false}, {\"y\": 2.88, \"x\": \"Handicrafts\", \"font\": {\"color\": \"rgba(100, 0, 0, 1)\", \"family\": \"Arial\", \"size\": 14}, \"text\": \"1.38%\", \"showarrow\": false}], \"xaxis\": {\"tickangle\": -45}, \"title\": \"Livelihoods Strategies\"}, {\"linkText\": \"Export to plot.ly\", \"showLink\": true})});</script>"
      ]
     },
     "metadata": {},
     "output_type": "display_data"
    }
   ],
   "source": [
    "lh_perc = 100*lh_values/total_surveys\n",
    "lh_perc = lh_perc.round(2)\n",
    "\n",
    "create_stacked_bars_graph((reg_survey_femHoHH, reg_survey_maleHoHH),\n",
    "                              lambda x: 100 * get_ocurrences(x, 'src_incomes') / total_surveys,\n",
    "                              lambda x: map(lambda y: y.capitalize(), x.index.values),\n",
    "                              lambda x: x.values,\n",
    "                              \"Livelihoods Strategies\",\n",
    "                              \"Female Head of Household\",\n",
    "                              \"Male Head of Household\")\n",
    "\n",
    "create_stacked_bars_graph((reg_survey_female, reg_survey_male),\n",
    "                              lambda x: 100 * get_ocurrences(x, 'src_incomes') / total_surveys,\n",
    "                              lambda x: map(lambda y: y.capitalize(), x.index.values),\n",
    "                              lambda x: x.values,\n",
    "                              \"Livelihoods Strategies\",\n",
    "                              \"Female respondent\",\n",
    "                              \"Male respondent\")\n",
    "\n",
    "livelihoods_strategies = {\n",
    "    \"layout\": {\n",
    "        \"title\": \"Livelihoods Strategies\",\n",
    "        \"xaxis\": {\n",
    "            \"tickangle\": -45\n",
    "        },\n",
    "        \"width\": 700,\n",
    "        \"annotations\": []\n",
    "    },\n",
    "    \"data\": [\n",
    "        {\n",
    "            \"x\": map(lambda x: x.capitalize(), lh_perc.index.values),\n",
    "            \"y\": lh_perc.values,\n",
    "            \"type\": \"bar\",\n",
    "            \"name\": \"Livelihoods Strategies\",\n",
    "            \"marker\": {\n",
    "                \"color\": 'rgb(258,225,225)',\n",
    "                \"line\": {\n",
    "                    \"color\": 'rgb(192,0,0)',\n",
    "                    \"width\": 1.5\n",
    "                }\n",
    "            },\n",
    "        }\n",
    "    ]\n",
    "}\n",
    "\n",
    "\n",
    "for i in range(0, len(lh_values)):\n",
    "    livelihoods_strategies[\"layout\"][\"annotations\"].append(\n",
    "        {\n",
    "            \"x\": map(lambda x: x.capitalize(), lh_perc.index.values)[i],\n",
    "            \"y\": lh_perc.values[i] + 1.5,\n",
    "            \"text\": str(lh_perc.values[i]) + \"%\",\n",
    "            \"font\": dict(\n",
    "                family='Arial',\n",
    "                size=14,\n",
    "                color='rgba(100, 0, 0, 1)'\n",
    "            ),\n",
    "            \"showarrow\": False,\n",
    "\n",
    "        }\n",
    "    )\n",
    "\n",
    "iplot(livelihoods_strategies)"
   ]
  },
  {
   "cell_type": "markdown",
   "metadata": {},
   "source": [
    "Main livelihoods per household"
   ]
  },
  {
   "cell_type": "code",
   "execution_count": 30,
   "metadata": {},
   "outputs": [
    {
     "name": "stdout",
     "output_type": "stream",
     "text": [
      "src_incomes\n",
      "labour                               75\n",
      "livestock                            41\n",
      "agriculture livestock                29\n",
      "other                                22\n",
      "livestock labour                     13\n",
      "agriculture livestock labour          6\n",
      "livestock other                       5\n",
      "agriculture labour                    5\n",
      "agriculture                           5\n",
      "agriculture other                     4\n",
      "labour other                          3\n",
      "agriculture livestock other           3\n",
      "agriculture livestock handicrafts     2\n",
      "agriculture labour other              2\n",
      "handicrafts                           1\n",
      "agriculture livestock forestry        1\n",
      "dtype: int64\n"
     ]
    },
    {
     "data": {
      "application/vnd.plotly.v1+json": {
       "data": [
        {
         "domain": {
          "x": [
           0,
           0.32
          ]
         },
         "labels": [
          1,
          2,
          3
         ],
         "sort": false,
         "type": "pie",
         "values": [
          51,
          7,
          2
         ]
        },
        {
         "domain": {
          "x": [
           0.34,
           0.64
          ]
         },
         "labels": [
          1,
          2,
          3
         ],
         "sort": false,
         "type": "pie",
         "values": [
          144,
          59,
          14
         ]
        },
        {
         "domain": {
          "x": [
           0.66,
           0.98
          ]
         },
         "labels": [
          1,
          2,
          3
         ],
         "sort": false,
         "type": "pie",
         "values": [
          93,
          52,
          12
         ]
        }
       ],
       "layout": {
        "annotations": [
         {
          "font": {
           "size": 14
          },
          "showarrow": false,
          "text": "Female Head of Household",
          "x": 0.04,
          "y": 1
         },
         {
          "font": {
           "size": 14
          },
          "showarrow": false,
          "text": "Global",
          "x": 0.5,
          "y": 1
         },
         {
          "font": {
           "size": 14
          },
          "showarrow": false,
          "text": "Male Head of Household",
          "x": 0.94,
          "y": 1
         }
        ],
        "title": "Number of livelihoods Strategies"
       }
      },
      "text/html": [
       "<div id=\"181f441b-b128-4fc4-892a-26e6899ff753\" style=\"height: 525px; width: 100%;\" class=\"plotly-graph-div\"></div><script type=\"text/javascript\">require([\"plotly\"], function(Plotly) { window.PLOTLYENV=window.PLOTLYENV || {};window.PLOTLYENV.BASE_URL=\"https://plot.ly\";Plotly.newPlot(\"181f441b-b128-4fc4-892a-26e6899ff753\", [{\"sort\": false, \"values\": [51, 7, 2], \"domain\": {\"x\": [0, 0.32]}, \"labels\": [1, 2, 3], \"type\": \"pie\"}, {\"sort\": false, \"values\": [144, 59, 14], \"domain\": {\"x\": [0.34, 0.64]}, \"labels\": [1, 2, 3], \"type\": \"pie\"}, {\"sort\": false, \"values\": [93, 52, 12], \"domain\": {\"x\": [0.66, 0.98]}, \"labels\": [1, 2, 3], \"type\": \"pie\"}], {\"annotations\": [{\"y\": 1, \"text\": \"Female Head of Household\", \"font\": {\"size\": 14}, \"showarrow\": false, \"x\": 0.04}, {\"y\": 1, \"text\": \"Global\", \"font\": {\"size\": 14}, \"showarrow\": false, \"x\": 0.5}, {\"y\": 1, \"text\": \"Male Head of Household\", \"font\": {\"size\": 14}, \"showarrow\": false, \"x\": 0.94}], \"title\": \"Number of livelihoods Strategies\"}, {\"linkText\": \"Export to plot.ly\", \"showLink\": true})});</script>"
      ],
      "text/vnd.plotly.v1+html": [
       "<div id=\"181f441b-b128-4fc4-892a-26e6899ff753\" style=\"height: 525px; width: 100%;\" class=\"plotly-graph-div\"></div><script type=\"text/javascript\">require([\"plotly\"], function(Plotly) { window.PLOTLYENV=window.PLOTLYENV || {};window.PLOTLYENV.BASE_URL=\"https://plot.ly\";Plotly.newPlot(\"181f441b-b128-4fc4-892a-26e6899ff753\", [{\"sort\": false, \"values\": [51, 7, 2], \"domain\": {\"x\": [0, 0.32]}, \"labels\": [1, 2, 3], \"type\": \"pie\"}, {\"sort\": false, \"values\": [144, 59, 14], \"domain\": {\"x\": [0.34, 0.64]}, \"labels\": [1, 2, 3], \"type\": \"pie\"}, {\"sort\": false, \"values\": [93, 52, 12], \"domain\": {\"x\": [0.66, 0.98]}, \"labels\": [1, 2, 3], \"type\": \"pie\"}], {\"annotations\": [{\"y\": 1, \"text\": \"Female Head of Household\", \"font\": {\"size\": 14}, \"showarrow\": false, \"x\": 0.04}, {\"y\": 1, \"text\": \"Global\", \"font\": {\"size\": 14}, \"showarrow\": false, \"x\": 0.5}, {\"y\": 1, \"text\": \"Male Head of Household\", \"font\": {\"size\": 14}, \"showarrow\": false, \"x\": 0.94}], \"title\": \"Number of livelihoods Strategies\"}, {\"linkText\": \"Export to plot.ly\", \"showLink\": true})});</script>"
      ]
     },
     "metadata": {},
     "output_type": "display_data"
    }
   ],
   "source": [
    "print src_incomes_sums.sort_values(ascending = False)\n",
    "reg_survey['num_lh_strats'] = reg_survey['src_incomes'].map(lambda x: len(x.split()))\n",
    "create_graphs_HoHH(lambda x: x.groupby('num_lh_strats').size(),\n",
    "                         lambda x: x.values,\n",
    "                         lambda x: x.index.values,\n",
    "                         lambda x: x.sum(),\n",
    "                         \"Number of livelihoods Strategies\")"
   ]
  },
  {
   "cell_type": "markdown",
   "metadata": {},
   "source": [
    "- 277 out of 399 hh, i.e. 69.42%, lives only on livestock, forestry or both."
   ]
  },
  {
   "cell_type": "markdown",
   "metadata": {},
   "source": [
    "### Livestock\n",
    "\n",
    "Number of interviewed households owning each type of livestock"
   ]
  },
  {
   "cell_type": "code",
   "execution_count": 31,
   "metadata": {},
   "outputs": [
    {
     "ename": "KeyError",
     "evalue": "'livestock_lost_camel'",
     "output_type": "error",
     "traceback": [
      "\u001b[0;31m---------------------------------------------------------------------------\u001b[0m",
      "\u001b[0;31mKeyError\u001b[0m                                  Traceback (most recent call last)",
      "\u001b[0;32m<ipython-input-31-26c320db49ff>\u001b[0m in \u001b[0;36m<module>\u001b[0;34m()\u001b[0m\n\u001b[1;32m     12\u001b[0m \u001b[0;31m#livestock_set = livestock_set.copy()\u001b[0m\u001b[0;34m\u001b[0m\u001b[0;34m\u001b[0m\u001b[0m\n\u001b[1;32m     13\u001b[0m \u001b[0;32mfor\u001b[0m \u001b[0mi\u001b[0m \u001b[0;32min\u001b[0m \u001b[0mlvstk_types\u001b[0m\u001b[0;34m:\u001b[0m\u001b[0;34m\u001b[0m\u001b[0m\n\u001b[0;32m---> 14\u001b[0;31m     \u001b[0mlivestock_set\u001b[0m\u001b[0;34m[\u001b[0m\u001b[0mi\u001b[0m \u001b[0;34m+\u001b[0m \u001b[0;34m'_reduced'\u001b[0m\u001b[0;34m]\u001b[0m \u001b[0;34m=\u001b[0m \u001b[0mlivestock_set\u001b[0m\u001b[0;34m[\u001b[0m\u001b[0;34m'livestock_lost_'\u001b[0m \u001b[0;34m+\u001b[0m \u001b[0mi\u001b[0m\u001b[0;34m]\u001b[0m \u001b[0;34m/\u001b[0m \u001b[0;34m(\u001b[0m\u001b[0mlivestock_set\u001b[0m\u001b[0;34m[\u001b[0m\u001b[0;34m'livestock_number_'\u001b[0m \u001b[0;34m+\u001b[0m \u001b[0mi\u001b[0m\u001b[0;34m]\u001b[0m \u001b[0;34m+\u001b[0m \u001b[0mlivestock_set\u001b[0m\u001b[0;34m[\u001b[0m\u001b[0;34m'livestock_number_'\u001b[0m \u001b[0;34m+\u001b[0m \u001b[0mi\u001b[0m\u001b[0;34m]\u001b[0m\u001b[0;34m)\u001b[0m\u001b[0;34m\u001b[0m\u001b[0m\n\u001b[0m\u001b[1;32m     15\u001b[0m \u001b[0;31m#print (\"Types for women\")\u001b[0m\u001b[0;34m\u001b[0m\u001b[0;34m\u001b[0m\u001b[0m\n\u001b[1;32m     16\u001b[0m \u001b[0;31m#print(type_women)\u001b[0m\u001b[0;34m\u001b[0m\u001b[0;34m\u001b[0m\u001b[0m\n",
      "\u001b[0;32m/usr/local/lib/python2.7/dist-packages/pandas/core/frame.pyc\u001b[0m in \u001b[0;36m__getitem__\u001b[0;34m(self, key)\u001b[0m\n\u001b[1;32m   2137\u001b[0m             \u001b[0;32mreturn\u001b[0m \u001b[0mself\u001b[0m\u001b[0;34m.\u001b[0m\u001b[0m_getitem_multilevel\u001b[0m\u001b[0;34m(\u001b[0m\u001b[0mkey\u001b[0m\u001b[0;34m)\u001b[0m\u001b[0;34m\u001b[0m\u001b[0m\n\u001b[1;32m   2138\u001b[0m         \u001b[0;32melse\u001b[0m\u001b[0;34m:\u001b[0m\u001b[0;34m\u001b[0m\u001b[0m\n\u001b[0;32m-> 2139\u001b[0;31m             \u001b[0;32mreturn\u001b[0m \u001b[0mself\u001b[0m\u001b[0;34m.\u001b[0m\u001b[0m_getitem_column\u001b[0m\u001b[0;34m(\u001b[0m\u001b[0mkey\u001b[0m\u001b[0;34m)\u001b[0m\u001b[0;34m\u001b[0m\u001b[0m\n\u001b[0m\u001b[1;32m   2140\u001b[0m \u001b[0;34m\u001b[0m\u001b[0m\n\u001b[1;32m   2141\u001b[0m     \u001b[0;32mdef\u001b[0m \u001b[0m_getitem_column\u001b[0m\u001b[0;34m(\u001b[0m\u001b[0mself\u001b[0m\u001b[0;34m,\u001b[0m \u001b[0mkey\u001b[0m\u001b[0;34m)\u001b[0m\u001b[0;34m:\u001b[0m\u001b[0;34m\u001b[0m\u001b[0m\n",
      "\u001b[0;32m/usr/local/lib/python2.7/dist-packages/pandas/core/frame.pyc\u001b[0m in \u001b[0;36m_getitem_column\u001b[0;34m(self, key)\u001b[0m\n\u001b[1;32m   2144\u001b[0m         \u001b[0;31m# get column\u001b[0m\u001b[0;34m\u001b[0m\u001b[0;34m\u001b[0m\u001b[0m\n\u001b[1;32m   2145\u001b[0m         \u001b[0;32mif\u001b[0m \u001b[0mself\u001b[0m\u001b[0;34m.\u001b[0m\u001b[0mcolumns\u001b[0m\u001b[0;34m.\u001b[0m\u001b[0mis_unique\u001b[0m\u001b[0;34m:\u001b[0m\u001b[0;34m\u001b[0m\u001b[0m\n\u001b[0;32m-> 2146\u001b[0;31m             \u001b[0;32mreturn\u001b[0m \u001b[0mself\u001b[0m\u001b[0;34m.\u001b[0m\u001b[0m_get_item_cache\u001b[0m\u001b[0;34m(\u001b[0m\u001b[0mkey\u001b[0m\u001b[0;34m)\u001b[0m\u001b[0;34m\u001b[0m\u001b[0m\n\u001b[0m\u001b[1;32m   2147\u001b[0m \u001b[0;34m\u001b[0m\u001b[0m\n\u001b[1;32m   2148\u001b[0m         \u001b[0;31m# duplicate columns & possible reduce dimensionality\u001b[0m\u001b[0;34m\u001b[0m\u001b[0;34m\u001b[0m\u001b[0m\n",
      "\u001b[0;32m/usr/local/lib/python2.7/dist-packages/pandas/core/generic.pyc\u001b[0m in \u001b[0;36m_get_item_cache\u001b[0;34m(self, item)\u001b[0m\n\u001b[1;32m   1840\u001b[0m         \u001b[0mres\u001b[0m \u001b[0;34m=\u001b[0m \u001b[0mcache\u001b[0m\u001b[0;34m.\u001b[0m\u001b[0mget\u001b[0m\u001b[0;34m(\u001b[0m\u001b[0mitem\u001b[0m\u001b[0;34m)\u001b[0m\u001b[0;34m\u001b[0m\u001b[0m\n\u001b[1;32m   1841\u001b[0m         \u001b[0;32mif\u001b[0m \u001b[0mres\u001b[0m \u001b[0;32mis\u001b[0m \u001b[0mNone\u001b[0m\u001b[0;34m:\u001b[0m\u001b[0;34m\u001b[0m\u001b[0m\n\u001b[0;32m-> 1842\u001b[0;31m             \u001b[0mvalues\u001b[0m \u001b[0;34m=\u001b[0m \u001b[0mself\u001b[0m\u001b[0;34m.\u001b[0m\u001b[0m_data\u001b[0m\u001b[0;34m.\u001b[0m\u001b[0mget\u001b[0m\u001b[0;34m(\u001b[0m\u001b[0mitem\u001b[0m\u001b[0;34m)\u001b[0m\u001b[0;34m\u001b[0m\u001b[0m\n\u001b[0m\u001b[1;32m   1843\u001b[0m             \u001b[0mres\u001b[0m \u001b[0;34m=\u001b[0m \u001b[0mself\u001b[0m\u001b[0;34m.\u001b[0m\u001b[0m_box_item_values\u001b[0m\u001b[0;34m(\u001b[0m\u001b[0mitem\u001b[0m\u001b[0;34m,\u001b[0m \u001b[0mvalues\u001b[0m\u001b[0;34m)\u001b[0m\u001b[0;34m\u001b[0m\u001b[0m\n\u001b[1;32m   1844\u001b[0m             \u001b[0mcache\u001b[0m\u001b[0;34m[\u001b[0m\u001b[0mitem\u001b[0m\u001b[0;34m]\u001b[0m \u001b[0;34m=\u001b[0m \u001b[0mres\u001b[0m\u001b[0;34m\u001b[0m\u001b[0m\n",
      "\u001b[0;32m/usr/local/lib/python2.7/dist-packages/pandas/core/internals.pyc\u001b[0m in \u001b[0;36mget\u001b[0;34m(self, item, fastpath)\u001b[0m\n\u001b[1;32m   3841\u001b[0m \u001b[0;34m\u001b[0m\u001b[0m\n\u001b[1;32m   3842\u001b[0m             \u001b[0;32mif\u001b[0m \u001b[0;32mnot\u001b[0m \u001b[0misna\u001b[0m\u001b[0;34m(\u001b[0m\u001b[0mitem\u001b[0m\u001b[0;34m)\u001b[0m\u001b[0;34m:\u001b[0m\u001b[0;34m\u001b[0m\u001b[0m\n\u001b[0;32m-> 3843\u001b[0;31m                 \u001b[0mloc\u001b[0m \u001b[0;34m=\u001b[0m \u001b[0mself\u001b[0m\u001b[0;34m.\u001b[0m\u001b[0mitems\u001b[0m\u001b[0;34m.\u001b[0m\u001b[0mget_loc\u001b[0m\u001b[0;34m(\u001b[0m\u001b[0mitem\u001b[0m\u001b[0;34m)\u001b[0m\u001b[0;34m\u001b[0m\u001b[0m\n\u001b[0m\u001b[1;32m   3844\u001b[0m             \u001b[0;32melse\u001b[0m\u001b[0;34m:\u001b[0m\u001b[0;34m\u001b[0m\u001b[0m\n\u001b[1;32m   3845\u001b[0m                 \u001b[0mindexer\u001b[0m \u001b[0;34m=\u001b[0m \u001b[0mnp\u001b[0m\u001b[0;34m.\u001b[0m\u001b[0marange\u001b[0m\u001b[0;34m(\u001b[0m\u001b[0mlen\u001b[0m\u001b[0;34m(\u001b[0m\u001b[0mself\u001b[0m\u001b[0;34m.\u001b[0m\u001b[0mitems\u001b[0m\u001b[0;34m)\u001b[0m\u001b[0;34m)\u001b[0m\u001b[0;34m[\u001b[0m\u001b[0misna\u001b[0m\u001b[0;34m(\u001b[0m\u001b[0mself\u001b[0m\u001b[0;34m.\u001b[0m\u001b[0mitems\u001b[0m\u001b[0;34m)\u001b[0m\u001b[0;34m]\u001b[0m\u001b[0;34m\u001b[0m\u001b[0m\n",
      "\u001b[0;32m/usr/local/lib/python2.7/dist-packages/pandas/core/indexes/base.pyc\u001b[0m in \u001b[0;36mget_loc\u001b[0;34m(self, key, method, tolerance)\u001b[0m\n\u001b[1;32m   2525\u001b[0m                 \u001b[0;32mreturn\u001b[0m \u001b[0mself\u001b[0m\u001b[0;34m.\u001b[0m\u001b[0m_engine\u001b[0m\u001b[0;34m.\u001b[0m\u001b[0mget_loc\u001b[0m\u001b[0;34m(\u001b[0m\u001b[0mkey\u001b[0m\u001b[0;34m)\u001b[0m\u001b[0;34m\u001b[0m\u001b[0m\n\u001b[1;32m   2526\u001b[0m             \u001b[0;32mexcept\u001b[0m \u001b[0mKeyError\u001b[0m\u001b[0;34m:\u001b[0m\u001b[0;34m\u001b[0m\u001b[0m\n\u001b[0;32m-> 2527\u001b[0;31m                 \u001b[0;32mreturn\u001b[0m \u001b[0mself\u001b[0m\u001b[0;34m.\u001b[0m\u001b[0m_engine\u001b[0m\u001b[0;34m.\u001b[0m\u001b[0mget_loc\u001b[0m\u001b[0;34m(\u001b[0m\u001b[0mself\u001b[0m\u001b[0;34m.\u001b[0m\u001b[0m_maybe_cast_indexer\u001b[0m\u001b[0;34m(\u001b[0m\u001b[0mkey\u001b[0m\u001b[0;34m)\u001b[0m\u001b[0;34m)\u001b[0m\u001b[0;34m\u001b[0m\u001b[0m\n\u001b[0m\u001b[1;32m   2528\u001b[0m \u001b[0;34m\u001b[0m\u001b[0m\n\u001b[1;32m   2529\u001b[0m         \u001b[0mindexer\u001b[0m \u001b[0;34m=\u001b[0m \u001b[0mself\u001b[0m\u001b[0;34m.\u001b[0m\u001b[0mget_indexer\u001b[0m\u001b[0;34m(\u001b[0m\u001b[0;34m[\u001b[0m\u001b[0mkey\u001b[0m\u001b[0;34m]\u001b[0m\u001b[0;34m,\u001b[0m \u001b[0mmethod\u001b[0m\u001b[0;34m=\u001b[0m\u001b[0mmethod\u001b[0m\u001b[0;34m,\u001b[0m \u001b[0mtolerance\u001b[0m\u001b[0;34m=\u001b[0m\u001b[0mtolerance\u001b[0m\u001b[0;34m)\u001b[0m\u001b[0;34m\u001b[0m\u001b[0m\n",
      "\u001b[0;32mpandas/_libs/index.pyx\u001b[0m in \u001b[0;36mpandas._libs.index.IndexEngine.get_loc\u001b[0;34m()\u001b[0m\n",
      "\u001b[0;32mpandas/_libs/index.pyx\u001b[0m in \u001b[0;36mpandas._libs.index.IndexEngine.get_loc\u001b[0;34m()\u001b[0m\n",
      "\u001b[0;32mpandas/_libs/hashtable_class_helper.pxi\u001b[0m in \u001b[0;36mpandas._libs.hashtable.PyObjectHashTable.get_item\u001b[0;34m()\u001b[0m\n",
      "\u001b[0;32mpandas/_libs/hashtable_class_helper.pxi\u001b[0m in \u001b[0;36mpandas._libs.hashtable.PyObjectHashTable.get_item\u001b[0;34m()\u001b[0m\n",
      "\u001b[0;31mKeyError\u001b[0m: 'livestock_lost_camel'"
     ]
    }
   ],
   "source": [
    "livestock_set = reg_survey.loc[reg_survey['src_incomes'].str.contains(\"livestock\")]\n",
    "\n",
    "participants = livestock_set.groupby('livestock_participants').size()\n",
    "participants_goats = livestock_set.loc[livestock_set['livestock_type'].str.contains(\"goat\")].groupby('livestock_participants').size()\n",
    "#print participants_goats\n",
    "\n",
    "lvstk_types = ['camel', 'cattle', 'goat', 'sheep', 'chicken']\n",
    "\n",
    "types_lvstck = get_ocurrences(livestock_set, 'livestock_type')\n",
    "livestock_women = livestock_set.loc[livestock_set['livestock_participants'] == \"women\"]\n",
    "type_women =  livestock_women.groupby('livestock_type').size()\n",
    "#livestock_set = livestock_set.copy()\n",
    "for i in lvstk_types:\n",
    "    livestock_set[i + '_reduced'] = livestock_set['livestock_lost_' + i] / (livestock_set['livestock_number_' + i] + livestock_set['livestock_number_' + i])\n",
    "#print (\"Types for women\")\n",
    "#print(type_women)\n",
    "#print livestock_set.groupby('camel_reduced').size()\n",
    "goats = livestock_set['livestock_number_goat']\n",
    "\n",
    "sheeps = livestock_set['livestock_number_sheep'].dropna()\n",
    "camels = livestock_set['livestock_number_camel'].dropna()\n",
    "chickens = livestock_set['livestock_number_chicken'].dropna()\n",
    "\n",
    "livestock_set.groupby('livestock_training').size()\n",
    "\n"
   ]
  },
  {
   "cell_type": "code",
   "execution_count": null,
   "metadata": {
    "scrolled": false
   },
   "outputs": [],
   "source": [
    "perc_lvstck = 100*types_lvstck/livestock_set['deviceid'].count()\n",
    "perc_lvstck = perc_lvstck.round(2)\n",
    "fig_types_lvstck = {\n",
    "    \"layout\": {\n",
    "        \"title\": \"Livestock types\",\n",
    "        \"xaxis\": {\n",
    "            \"tickangle\": -45\n",
    "        },\n",
    "        \"width\": 700,\n",
    "        \"annotations\": []\n",
    "    },\n",
    "    \"data\": [\n",
    "        {\n",
    "            \"x\": map(lambda x: x.capitalize(), perc_lvstck.index.values),\n",
    "            \"y\": perc_lvstck.values,\n",
    "            \"type\": \"bar\",\n",
    "            \"name\": \"Livelihoods Strategies\",\n",
    "            \"marker\": {\n",
    "                \"color\": 'rgb(258,225,225)',\n",
    "                \"line\": {\n",
    "                    \"color\": 'rgb(192,0,0)',\n",
    "                    \"width\": 1.5\n",
    "                }\n",
    "            }\n",
    "        }\n",
    "    ]\n",
    "}\n",
    "\n",
    "\n",
    "for i in range(0, len(types_lvstck)):\n",
    "    fig_types_lvstck[\"layout\"][\"annotations\"].append(\n",
    "        {\n",
    "            \"x\": map(lambda x: x.capitalize(), perc_lvstck.index.values)[i],\n",
    "            \"y\": perc_lvstck.values[i] + 1.5,\n",
    "            \"text\": str(perc_lvstck.values[i]) + \"%\",\n",
    "            \"font\": dict(\n",
    "                family='Arial',\n",
    "                size=14,\n",
    "                color='rgba(100, 0, 0, 1)'\n",
    "            ),\n",
    "            \"showarrow\": False,\n",
    "\n",
    "        }\n",
    "    )\n",
    "\n",
    "iplot(fig_types_lvstck)"
   ]
  },
  {
   "cell_type": "code",
   "execution_count": null,
   "metadata": {},
   "outputs": [],
   "source": [
    "prueba = pd.crosstab(livestock_set.livestock_number_goat, livestock_set.livestock_number_sheep).stack().reset_index(name='number')\n",
    "#prueba.plot.scatter('livestock_number_goats', 'livestock_number_sheep', s=prueba.number * 10)\n",
    "prueba = prueba[prueba.number != 0]\n",
    "prueba = prueba[prueba.livestock_number_goat <= 100]\n",
    "prueba = prueba[prueba.livestock_number_sheep <= 100]\n",
    "#display(prueba)\n",
    "goats_vs_sheeps = {\n",
    "    \"layout\": {\n",
    "        \"title\": \"Relation between the number of goats and sheeps\"\n",
    "    },\n",
    "    \"data\": [\n",
    "        {\n",
    "\n",
    "            \"x\": prueba.livestock_number_goat,\n",
    "            \"y\": prueba.livestock_number_sheep,\n",
    "            \"mode\": \"markers\",\n",
    "            \"marker\": {\n",
    "                \"size\": prueba.number * 5               \n",
    "            },\n",
    "            \"type\": \"scatter\"\n",
    "        }\n",
    "    ]\n",
    "}\n",
    "iplot(goats_vs_sheeps)"
   ]
  },
  {
   "cell_type": "markdown",
   "metadata": {},
   "source": [
    "With a few exceptions, the number of goats per household is proportional to the number of sheeps. So to define wealth groups for livestock tenants the number of goats will be the main variable."
   ]
  },
  {
   "cell_type": "code",
   "execution_count": null,
   "metadata": {
    "scrolled": false
   },
   "outputs": [],
   "source": [
    "quantiles = [.35, .97, 1]\n",
    "q = goats.quantile(quantiles)\n",
    "print \"Quantiles:\"\n",
    "print q\n",
    "goats1 = goats[goats < q[quantiles[0]]].dropna()\n",
    "goats2 = goats[goats.between(q[quantiles[0]], q[quantiles[1]])].dropna()\n",
    "goats3 = goats[goats.between(q[quantiles[1]], q[quantiles[2]])].dropna()\n",
    "fig = ff.create_distplot([goats1.values, goats2.values, goats3.values], ['poor', 'medium', 'rich'])\n",
    "iplot (fig)"
   ]
  },
  {
   "cell_type": "markdown",
   "metadata": {},
   "source": [
    "#### Quantiles for goats\n",
    "- Poors: 35% of households have less than 10 goats and less than 10 sheeps\n",
    "- Medium: 62% of households have between 10 and 35 goats and between 20 and 30 sheeps\n",
    "- Richs: 3% of households have more than 35 goats and/or more than 30 sheeps"
   ]
  },
  {
   "cell_type": "code",
   "execution_count": null,
   "metadata": {},
   "outputs": [],
   "source": [
    "livestock_uses = [\"selling\", \"social\", \"milk\", \"meat\", \"savings\"]\n",
    "goats_uses = [\"selling\", \"social\", \"milk\", \"meat\", \"savings\"]\n",
    "sheeps_uses = [\"selling\", \"social\", \"milk\", \"meat\", \"savings\"]\n",
    "livestock_uses_df = livestock_set[map(lambda x: \"livestock_\" + x, livestock_uses)]\n",
    "livestock_uses_df.fillna('no')\n",
    "print \"USES TOTAL LIVESTOCK\"\n",
    "print livestock_uses_df.apply(pd.Series.value_counts)\n",
    "goats_uses = livestock_set.loc[livestock_set['livestock_type'].str.contains(\"goat\")][map(lambda x: \"livestock_\" + x, goats_uses)]\n",
    "print \"\"\n",
    "print \"USES TOTAL GOATS\"\n",
    "print goats_uses.apply(pd.Series.value_counts)\n",
    "sheeps_uses = livestock_set.loc[livestock_set['livestock_type'].str.contains(\"sheep\")][map(lambda x: \"livestock_\" + x, sheeps_uses)]\n",
    "print \"\"\n",
    "print \"USES TOTAL SHEEPS\"\n",
    "print sheeps_uses.apply(pd.Series.value_counts)"
   ]
  },
  {
   "cell_type": "markdown",
   "metadata": {},
   "source": [
    "### Laborers"
   ]
  },
  {
   "cell_type": "code",
   "execution_count": null,
   "metadata": {},
   "outputs": [],
   "source": [
    "labour_set = reg_survey.loc[reg_survey['src_incomes'].str.contains(\"labour\")]\n",
    "print get_ocurrences(labour_set, 'labour_sector')\n",
    "labour_set.loc[labour_set['labour_participants'].str.contains('women')][['labour_participants', 'respondant_gender', 'respondant_age', 'respondant_head_hh', 'male_teenager', 'male_adult', 'male_elderly', 'labour_sector']]\n",
    "labour_incomes = labour_set.groupby('labour_daily_salary').size()\n",
    "mean_salary = labour_set['labour_daily_salary'].mean()\n",
    "labour_incomes_others = labour_set.loc[labour_set['labour_sector'] == 'other'].groupby('labour_daily_salary').size()\n",
    "sectors_100 = labour_set.loc[labour_set['labour_daily_salary'] == 100].groupby('labour_sector').size()\n",
    "print labour_set['deviceid'].count()\n",
    "print mean_salary\n",
    "print labour_incomes_others\n",
    "create_graphs_HoHH(lambda x: x.loc[reg_survey['src_incomes'].str.contains(\"labour\")].groupby('labour_work_term').size(),\n",
    "                         lambda x: x.values,\n",
    "                         lambda x: x.index.values,\n",
    "                         lambda x: x.sum(),\n",
    "                         \"Temporality of laborers\")\n",
    "create_graphs_HoHH(lambda x: x.loc[reg_survey['src_incomes'].str.contains(\"labour\")].groupby('labour_participants').size(),\n",
    "                         lambda x: x.values,\n",
    "                         lambda x: x.index.values,\n",
    "                         lambda x: x.sum(),\n",
    "                         \"Gender of laborers\")"
   ]
  },
  {
   "cell_type": "markdown",
   "metadata": {},
   "source": [
    "### Agriculture"
   ]
  },
  {
   "cell_type": "code",
   "execution_count": null,
   "metadata": {},
   "outputs": [],
   "source": [
    "agri_set = reg_survey.loc[reg_survey['src_incomes'].str.contains(\"agriculture\")].copy()\n",
    "\n",
    "land_quantity = agri_set.groupby('agri_gard_land_quantity').size()\n",
    "use_quantity = agri_set.groupby('agri_gard_use_quantity').size()\n",
    "\n",
    "d = {'land': land_quantity_group, 'use': use}\n",
    "use_land = pd.DataFrame(d)\n",
    "hey = use_quantity.index.map(lambda x: str(x))\n",
    "use_quantity.index = hey\n",
    "print use_quantity.index\n",
    "display(use_quantity)\n",
    "display(use_land)\n",
    "display(land_quantity)"
   ]
  },
  {
   "cell_type": "code",
   "execution_count": null,
   "metadata": {},
   "outputs": [],
   "source": [
    "values = [1,5, land_quantity.index[-1]]\n",
    "per2 = get_percentiles(land_quantity, values)\n",
    "percentiles = pd.Series(values, index = per2)\n",
    "\n",
    "print percentiles\n",
    "\n",
    "def plot_wealth_criteria(groupby_data, values):\n",
    "    poor = groupby_data[groupby_data.index <= values[0]]\n",
    "    medium = groupby_data[groupby_data.filter(groupby_data.all(groupby_data > values[0], groupby_data <= values[1]))]\n",
    "    rich = groupby_data[groupby_data.index.between(values[1],values[2])]\n",
    "    print medium\n",
    "\n",
    "plot_wealth_criteria(land_quantity, values)\n",
    "\n",
    "fig_distribution = {\n",
    "    \"layout\": {\n",
    "        \"title\": \"Title\",\n",
    "        \"xaxis\": {\n",
    "            \"tickangle\": -45\n",
    "        },\n",
    "        \"width\": 700,\n",
    "        \"annotations\": []\n",
    "    },\n",
    "    \"data\": [\n",
    "        {\n",
    "            \"x\": poor.index.values,\n",
    "            \"y\": poor.values,\n",
    "            \"type\": \"bar\",\n",
    "            \"name\": \"Livelihoods Strategies\",\n",
    "            \"marker\": {\n",
    "                \"color\": 'rgb(258,225,225)',\n",
    "                \"line\": {\n",
    "                    \"color\": 'rgb(192,0,0)',\n",
    "                    \"width\": 1.5\n",
    "                }\n",
    "            }\n",
    "        }\n",
    "    ]\n",
    "}\n",
    "\n",
    "iplot(fig_distribution)\n",
    "\n"
   ]
  },
  {
   "cell_type": "code",
   "execution_count": null,
   "metadata": {},
   "outputs": [],
   "source": [
    "quantiles = [.335, .915, 1]\n",
    "q = goats.quantile(quantiles)\n",
    "print \"Quantiles:\"\n",
    "print q\n",
    "goats1 = goats[goats < q[quantiles[0]]].dropna()\n",
    "goats2 = goats[goats.between(q[quantiles[0]], q[quantiles[1]])].dropna()\n",
    "goats3 = goats[goats.between(q[quantiles[1]], q[quantiles[2]])].dropna()\n",
    "fig = ff.create_distplot([goats1.values, goats2.values, goats3.values], ['poor', 'medium', 'rich'])\n",
    "iplot (fig)"
   ]
  },
  {
   "cell_type": "code",
   "execution_count": null,
   "metadata": {},
   "outputs": [],
   "source": [
    "use_vs_have = pd.crosstab(agri_set.agri_gard_land_quantity, agri_set.agri_gard_use_quantity).stack().reset_index(name='feddans')\n",
    "#prueba.plot.scatter('livestock_number_goats', 'livestock_number_sheep', s=prueba.number * 10)\n",
    "use_vs_have = use_vs_have[use_vs_have.feddans != 0]\n",
    "use_vs_have = use_vs_have[use_vs_have.agri_gard_use_quantity <= 10]\n",
    "use_vs_have = use_vs_have[use_vs_have.agri_gard_land_quantity <= 10]\n",
    "#prueba = prueba[prueba.livestock_number_goat <= 100]\n",
    "#prueba = prueba[prueba.livestock_number_sheep <= 100]\n",
    "#display(prueba)\n",
    "use_vs_have = {\n",
    "    \"layout\": {\n",
    "        \"title\": \"Relation between the quantity of land and how much is used\"\n",
    "    },\n",
    "    \"data\": [\n",
    "        {\n",
    "\n",
    "            \"x\": use_vs_have.agri_gard_land_quantity,\n",
    "            \"y\": use_vs_have.agri_gard_use_quantity,\n",
    "            \"mode\": \"markers\",\n",
    "            \"marker\": {\n",
    "                \"size\": use_vs_have.feddans\n",
    "            },\n",
    "            \"type\": \"scatter\"\n",
    "        },\n",
    "        {\n",
    "\n",
    "            \"x\": [0,10],\n",
    "            \"y\": [0,10],\n",
    "            \"mode\": \"lines\"\n",
    "        }\n",
    "    ]\n",
    "}\n",
    "iplot(use_vs_have)"
   ]
  },
  {
   "cell_type": "code",
   "execution_count": null,
   "metadata": {},
   "outputs": [],
   "source": [
    "# Inconsistencies\n",
    "# print agri_set.loc[agri_set.agri_gard_water_harv_farmlands > agri_set.agri_gard_land_quantity]['agri_gard_water_harv_farmlands']\n",
    "# print agri_set.loc[agri_set.agri_gard_water_harv_farmlands > agri_set.agri_gard_land_quantity]['agri_gard_land_quantity']\n",
    "\n",
    "agri_set['perc_rainfed_farmlands'] = agri_set['agri_gard_water_harv_farmlands'] / agri_set['agri_gard_land_quantity']\n",
    "\n",
    "# Estimation to correct the inconsistencies: All feddan have water harvesting access\n",
    "feddans_med_poor = agri_set.loc[agri_set.agri_gard_use_quantity <= 5]['agri_gard_use_quantity'].sum()\n",
    "\n",
    "print feddans_med_poor / agri_set.loc[agri_set.agri_gard_use_quantity <= 5, 'deviceid'].count()\n",
    "print feddans_med_poor / total_surveys\n",
    "\n",
    "#print agri_set.groupby('perc_rainfed_farmlands').size()\n",
    "#print agri_set.groupby('agri_gard_farm_tech').size()\n",
    "#print agri_set.groupby('agri_gard_water_harv_farmlands').size()\n",
    "all_farm_rainfed = agri_set.loc[agri_set['perc_rainfed_farmlands'] == 1].groupby('agri_gard_use_quantity').size()\n",
    "agri_set['agri_gard_water_harv_farmlands'].sum()\n",
    "print agri_set.loc[agri_set.agri_gard_use_quantity > agri_set.agri_gard_land_quantity]['deviceid'].count()\n",
    "print agri_set.loc[agri_set.agri_gard_land_property == 'own'].groupby('agri_gard_use_quantity').size()\n",
    "print agri_set.loc[agri_set.agri_gard_land_property == 'rent'].groupby('agri_gard_use_quantity').size()\n",
    "print agri_set.groupby('agri_gard_land_quantity').size()\n",
    "print agri_set.groupby('cc_effects_sand_affected_farmlands').size()\n",
    "\n",
    "agri_set.groupby('agri_gard_training').size()"
   ]
  },
  {
   "cell_type": "code",
   "execution_count": null,
   "metadata": {
    "scrolled": false
   },
   "outputs": [],
   "source": [
    "agri_set_med_poor = agri_set.loc[agri_set.agri_gard_use_quantity <= 5].copy()\n",
    "agri_set_med_poor.loc[agri_set_med_poor['agri_gard_protected_farmlands'] > agri_set_med_poor['agri_gard_use_quantity'], 'agri_gard_protected_farmlands'] = agri_set_med_poor['agri_gard_use_quantity']\n",
    "agri_set_med_poor['perc_land_protected'] = agri_set_med_poor.agri_gard_protected_farmlands / agri_set_med_poor.agri_gard_land_quantity\n",
    "print agri_set_med_poor.groupby('agri_gard_use_quantity').size()\n",
    "print agri_set_med_poor['agri_gard_protected_farmlands'].sum() / agri_set_med_poor['agri_gard_use_quantity'].sum()\n",
    "print agri_set_med_poor.groupby('perc_land_protected').size()\n",
    "print agri_set_med_poor.groupby('perc_land_protected').size().sum()"
   ]
  },
  {
   "cell_type": "code",
   "execution_count": null,
   "metadata": {},
   "outputs": [],
   "source": [
    "#crop_types = ['sorghum', 'wheat', 'bean', 'palm', 'fodder', 'watermelon', 'potato', 'tomato', 'onion', 'cucumber', 'okra', 'other']\n",
    "\n",
    "types_agri = get_ocurrences(agri_set, 'agri_gard_agri_crops')\n",
    "print types_agri"
   ]
  },
  {
   "cell_type": "code",
   "execution_count": null,
   "metadata": {},
   "outputs": [],
   "source": [
    "farm_tools = reg_survey.groupby('agri_gard_farm_tools').size()\n",
    "farm_tech = reg_survey.groupby('agri_gard_farm_tech').size()\n",
    "seeds = reg_survey.groupby('agri_gard_seeds').size()\n",
    "\n",
    "create_graphs_HoHH(lambda x: x.groupby('agri_gard_farm_tools').size(),\n",
    "                         lambda x: x.values,\n",
    "                         lambda x: x.index.values,\n",
    "                         lambda x: x.sum(),\n",
    "                         \"Farming tools by Head of Household\")\n",
    "\n",
    "create_graphs_respondent(lambda x: x.groupby('agri_gard_farm_tools').size(),\n",
    "                         lambda x: x.values,\n",
    "                         lambda x: x.index.values,\n",
    "                         lambda x: x.sum(),\n",
    "                         \"Farming tools by respondent\")"
   ]
  },
  {
   "cell_type": "code",
   "execution_count": null,
   "metadata": {},
   "outputs": [],
   "source": [
    "create_graphs_HoHH(lambda x: x.groupby('agri_gard_farm_tech').size(),\n",
    "                         lambda x: x.values,\n",
    "                         lambda x: x.index.values,\n",
    "                         lambda x: x.sum(),\n",
    "                         \"Farming tools by Head of Household\")\n",
    "\n",
    "create_graphs_respondent(lambda x: x.groupby('agri_gard_farm_tech').size(),\n",
    "                         lambda x: x.values,\n",
    "                         lambda x: x.index.values,\n",
    "                         lambda x: x.sum(),\n",
    "                         \"Farming tools by respondent\")"
   ]
  },
  {
   "cell_type": "code",
   "execution_count": null,
   "metadata": {
    "scrolled": false
   },
   "outputs": [],
   "source": [
    "create_graphs_HoHH(lambda x: x.groupby('agri_gard_seeds').size(),\n",
    "                         lambda x: x.values,\n",
    "                         lambda x: x.index.values,\n",
    "                         lambda x: x.sum(),\n",
    "                         \"Farming tools by Head of Household\")\n",
    "\n",
    "create_graphs_respondent(lambda x: x.groupby('agri_gard_seeds').size(),\n",
    "                         lambda x: x.values,\n",
    "                         lambda x: x.index.values,\n",
    "                         lambda x: x.sum(),\n",
    "                         \"Farming tools by respondent\")"
   ]
  },
  {
   "cell_type": "code",
   "execution_count": null,
   "metadata": {},
   "outputs": [],
   "source": [
    "crops = get_ocurrences(agri_set, 'agri_gard_agri_crops')\n",
    "print crops"
   ]
  },
  {
   "cell_type": "markdown",
   "metadata": {},
   "source": [
    "### Forestry (charcoal production)"
   ]
  },
  {
   "cell_type": "code",
   "execution_count": null,
   "metadata": {},
   "outputs": [],
   "source": [
    "forestry_set = reg_survey.loc[reg_survey['src_incomes'].str.contains(\"forestry\")]\n",
    "print forestry_set.groupby('forestry_forestry_type').size()\n",
    "print get_ocurrences(forestry_set, 'forestry_forestry_type')\n",
    "forestry_participants =  forestry_set.groupby('forestry_participants').size()\n",
    "#forestry_set.loc[forestry_set['forestry_participants'].str.contains('women')][['forestry_participants', 'respondant_gender', 'respondant_age', 'respondant_head_hh', 'male_teenager', 'male_adult', 'male_elderly', 'labour_sector']]\n",
    "forestry_land_property = forestry_set.groupby('forestry_land_property').size()\n",
    "\n",
    "print forestry_participants\n",
    "print forestry_land_property"
   ]
  },
  {
   "cell_type": "markdown",
   "metadata": {},
   "source": [
    "### Other"
   ]
  },
  {
   "cell_type": "code",
   "execution_count": null,
   "metadata": {},
   "outputs": [],
   "source": [
    "other_set = reg_survey.loc[reg_survey['src_incomes'].str.contains(\"other\")]\n",
    "other_set.groupby('other_training').size()"
   ]
  },
  {
   "cell_type": "markdown",
   "metadata": {},
   "source": [
    "## Climate change effects"
   ]
  },
  {
   "cell_type": "code",
   "execution_count": null,
   "metadata": {},
   "outputs": [],
   "source": [
    "cc_effects_on_rain = get_ocurrences(reg_survey, 'changed_rainy_season')\n",
    "\n",
    "print cc_effects_on_rain"
   ]
  },
  {
   "cell_type": "code",
   "execution_count": null,
   "metadata": {},
   "outputs": [],
   "source": [
    "sand_mov_sums = reg_survey.groupby('sand_movements').size()\n",
    "wind_changes = get_ocurrences(reg_survey, 'sand_movements')\n",
    "\n",
    "print wind_changes\n",
    "print sand_mov_sums\n",
    "\n",
    "create_graphs_respondent(lambda x: x.groupby('sand_movements').size(),\n",
    "                         lambda x: x.values,\n",
    "                         lambda x: x.index.values,\n",
    "                         lambda x: x.sum(),\n",
    "                         \"Respondents asked about wind changes in las ten years\")"
   ]
  },
  {
   "cell_type": "code",
   "execution_count": null,
   "metadata": {},
   "outputs": [],
   "source": [
    "agri_set_med_poor.loc[agri_set_med_poor['cc_effects_sand_affected_farmlands'] > agri_set_med_poor['agri_gard_use_quantity'], 'cc_effects_sand_affected_farmlands'] = agri_set_med_poor['agri_gard_use_quantity']\n",
    "agri_set_med_poor['perc_land_affected'] = agri_set_med_poor.cc_effects_sand_affected_farmlands / agri_set_med_poor.agri_gard_land_quantity\n",
    "print agri_set_med_poor['cc_effects_sand_affected_farmlands'].sum() / agri_set_med_poor['agri_gard_use_quantity'].sum()\n",
    "print agri_set_med_poor.groupby('perc_land_affected').size()\n",
    "print agri_set_med_poor.groupby('perc_land_affected').size().sum()"
   ]
  },
  {
   "cell_type": "code",
   "execution_count": null,
   "metadata": {},
   "outputs": [],
   "source": [
    "temps_changes = get_ocurrences(reg_survey, 'temps_change')\n",
    "\n",
    "print temps_changes"
   ]
  },
  {
   "cell_type": "code",
   "execution_count": null,
   "metadata": {},
   "outputs": [],
   "source": [
    "effects_on_lvstck = get_ocurrences(reg_survey, 'cc_effects_grassland_availability').sort_values(ascending = False)\n",
    "lvstck_perc = 100*effects_on_lvstck/livestock_set['deviceid'].size\n",
    "lvstck_perc = lvstck_perc.round(2)\n",
    "fig_effects_on_lvstck = {\n",
    "    \"layout\": {\n",
    "        \"title\": \"Trend of the availability of grassland in the last 5 years\",\n",
    "        \"xaxis\": {\n",
    "            \"tickangle\": -45\n",
    "        },\n",
    "        \"width\": 700,\n",
    "        \"annotations\": []\n",
    "    },\n",
    "    \"data\": [\n",
    "        {\n",
    "            \"x\": map(lambda x: x.capitalize(), lvstck_perc.index.values),\n",
    "            \"y\": lvstck_perc.values,\n",
    "            \"type\": \"bar\",\n",
    "            \"marker\": {\n",
    "                \"color\": 'rgb(25,158,25,0.6)',\n",
    "                \"line\": {\n",
    "                    \"color\": 'rgb(0,70,0)',\n",
    "                    \"width\": 1.5\n",
    "                }\n",
    "            },\n",
    "        }\n",
    "    ]\n",
    "}\n",
    "\n",
    "\n",
    "for i in range(0, len(effects_on_lvstck)):\n",
    "    fig_effects_on_lvstck[\"layout\"][\"annotations\"].append(\n",
    "        {\n",
    "            \"x\": map(lambda x: x.capitalize(), lvstck_perc.index.values)[i],\n",
    "            \"y\": lvstck_perc.values[i] + 1.7,\n",
    "            \"text\": str(lvstck_perc.values[i]) + \"%\",\n",
    "            \"font\": dict(\n",
    "                family='Arial',\n",
    "                size=14,\n",
    "                color='rgba(0, 100, 0, 1)'\n",
    "            ),\n",
    "            \"showarrow\": False,\n",
    "\n",
    "        }\n",
    "    )\n",
    "\n",
    "iplot(fig_effects_on_lvstck)\n"
   ]
  }
 ],
 "metadata": {
  "kernelspec": {
   "display_name": "Python 2",
   "language": "python",
   "name": "python2"
  },
  "language_info": {
   "codemirror_mode": {
    "name": "ipython",
    "version": 2
   },
   "file_extension": ".py",
   "mimetype": "text/x-python",
   "name": "python",
   "nbconvert_exporter": "python",
   "pygments_lexer": "ipython2",
   "version": "2.7.12"
  }
 },
 "nbformat": 4,
 "nbformat_minor": 2
}
